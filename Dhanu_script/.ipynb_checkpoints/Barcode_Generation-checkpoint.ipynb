{
 "cells": [
  {
   "cell_type": "markdown",
   "id": "e2251cba",
   "metadata": {},
   "source": [
    "# Barcode_Generation"
   ]
  },
  {
   "cell_type": "code",
   "execution_count": 2,
   "id": "8ee3a64f",
   "metadata": {},
   "outputs": [
    {
     "name": "stdout",
     "output_type": "stream",
     "text": [
      "Enter the excel path  C:\\Users\\Saurabh\\Desktop\\Script\\Dhanu_script\\ss.xlsx\n",
      "Enter the excel file path for Generating QR_code: C:\\Users\\Saurabh\\Desktop\\Script\\Dhanu_script\\QR_Code\n",
      "0\n",
      "qr_codes:: ['C:\\\\Users\\\\Saurabh\\\\Desktop\\\\Script\\\\Dhanu_script\\\\QR_Code\\\\qr_code_0.png']\n",
      "Fire Pump Room \n",
      "qr_codes:: ['C:\\\\Users\\\\Saurabh\\\\Desktop\\\\Script\\\\Dhanu_script\\\\QR_Code\\\\qr_code_0.png', 'C:\\\\Users\\\\Saurabh\\\\Desktop\\\\Script\\\\Dhanu_script\\\\QR_Code\\\\qr_code_1.png']\n",
      "Fire Pump Room \n",
      "qr_codes:: ['C:\\\\Users\\\\Saurabh\\\\Desktop\\\\Script\\\\Dhanu_script\\\\QR_Code\\\\qr_code_0.png', 'C:\\\\Users\\\\Saurabh\\\\Desktop\\\\Script\\\\Dhanu_script\\\\QR_Code\\\\qr_code_1.png', 'C:\\\\Users\\\\Saurabh\\\\Desktop\\\\Script\\\\Dhanu_script\\\\QR_Code\\\\qr_code_2.png']\n",
      "Fire Pump Room \n",
      "qr_codes:: ['C:\\\\Users\\\\Saurabh\\\\Desktop\\\\Script\\\\Dhanu_script\\\\QR_Code\\\\qr_code_0.png', 'C:\\\\Users\\\\Saurabh\\\\Desktop\\\\Script\\\\Dhanu_script\\\\QR_Code\\\\qr_code_1.png', 'C:\\\\Users\\\\Saurabh\\\\Desktop\\\\Script\\\\Dhanu_script\\\\QR_Code\\\\qr_code_2.png', 'C:\\\\Users\\\\Saurabh\\\\Desktop\\\\Script\\\\Dhanu_script\\\\QR_Code\\\\qr_code_3.png']\n",
      "Fire Pump Room \n",
      "qr_codes:: ['C:\\\\Users\\\\Saurabh\\\\Desktop\\\\Script\\\\Dhanu_script\\\\QR_Code\\\\qr_code_0.png', 'C:\\\\Users\\\\Saurabh\\\\Desktop\\\\Script\\\\Dhanu_script\\\\QR_Code\\\\qr_code_1.png', 'C:\\\\Users\\\\Saurabh\\\\Desktop\\\\Script\\\\Dhanu_script\\\\QR_Code\\\\qr_code_2.png', 'C:\\\\Users\\\\Saurabh\\\\Desktop\\\\Script\\\\Dhanu_script\\\\QR_Code\\\\qr_code_3.png', 'C:\\\\Users\\\\Saurabh\\\\Desktop\\\\Script\\\\Dhanu_script\\\\QR_Code\\\\qr_code_4.png']\n",
      "Scrap Yard \n"
     ]
    },
    {
     "ename": "KeyboardInterrupt",
     "evalue": "",
     "output_type": "error",
     "traceback": [
      "\u001b[1;31m---------------------------------------------------------------------------\u001b[0m",
      "\u001b[1;31mKeyboardInterrupt\u001b[0m                         Traceback (most recent call last)",
      "Cell \u001b[1;32mIn[2], line 47\u001b[0m\n\u001b[0;32m     43\u001b[0m     prefilled_url \u001b[38;5;241m=\u001b[39m form_url \u001b[38;5;241m+\u001b[39m \u001b[38;5;124m\"\u001b[39m\u001b[38;5;124m?usp=pp_url&\u001b[39m\u001b[38;5;124m\"\u001b[39m \u001b[38;5;241m+\u001b[39m urllib\u001b[38;5;241m.\u001b[39mparse\u001b[38;5;241m.\u001b[39murlencode(field_ids)  \u001b[38;5;66;03m# Replace <FIELD_ID> with the actual field ID in your form\u001b[39;00m\n\u001b[0;32m     44\u001b[0m \u001b[38;5;66;03m#     prefilled_url = form_url + \"?usp=pp_url&\" + urllib.parse.urlencode({\"entry.1857958340\":loc})  # Replace <FIELD_ID> with the actual field ID in your form\u001b[39;00m\n\u001b[0;32m     45\u001b[0m \n\u001b[0;32m     46\u001b[0m     \u001b[38;5;66;03m# Generate QR code with the pre-filled Google Form URL\u001b[39;00m\n\u001b[1;32m---> 47\u001b[0m     qr_code \u001b[38;5;241m=\u001b[39m \u001b[43mpyqrcode\u001b[49m\u001b[38;5;241;43m.\u001b[39;49m\u001b[43mcreate\u001b[49m\u001b[43m(\u001b[49m\u001b[43mprefilled_url\u001b[49m\u001b[43m)\u001b[49m\n\u001b[0;32m     49\u001b[0m     \u001b[38;5;66;03m# Save the QR code as an image file\u001b[39;00m\n\u001b[0;32m     50\u001b[0m     \n\u001b[0;32m     51\u001b[0m \u001b[38;5;66;03m#     qr_code_file_path = f\"qr_code{index}.png\"\u001b[39;00m\n\u001b[0;32m     52\u001b[0m     qr_code_file_path\u001b[38;5;241m=\u001b[39mos\u001b[38;5;241m.\u001b[39mpath\u001b[38;5;241m.\u001b[39mjoin(output_folder, \u001b[38;5;124mf\u001b[39m\u001b[38;5;124m\"\u001b[39m\u001b[38;5;124mqr_code_\u001b[39m\u001b[38;5;132;01m{\u001b[39;00mindex\u001b[38;5;132;01m}\u001b[39;00m\u001b[38;5;124m.png\u001b[39m\u001b[38;5;124m\"\u001b[39m)\n",
      "File \u001b[1;32m~\\anaconda3\\lib\\site-packages\\pyqrcode\\__init__.py:111\u001b[0m, in \u001b[0;36mcreate\u001b[1;34m(content, error, version, mode, encoding)\u001b[0m\n\u001b[0;32m     54\u001b[0m \u001b[38;5;28;01mdef\u001b[39;00m \u001b[38;5;21mcreate\u001b[39m(content, error\u001b[38;5;241m=\u001b[39m\u001b[38;5;124m'\u001b[39m\u001b[38;5;124mH\u001b[39m\u001b[38;5;124m'\u001b[39m, version\u001b[38;5;241m=\u001b[39m\u001b[38;5;28;01mNone\u001b[39;00m, mode\u001b[38;5;241m=\u001b[39m\u001b[38;5;28;01mNone\u001b[39;00m, encoding\u001b[38;5;241m=\u001b[39m\u001b[38;5;28;01mNone\u001b[39;00m):\n\u001b[0;32m     55\u001b[0m     \u001b[38;5;124;03m\"\"\"When creating a QR code only the content to be encoded is required,\u001b[39;00m\n\u001b[0;32m     56\u001b[0m \u001b[38;5;124;03m    all the other properties of the code will be guessed based on the\u001b[39;00m\n\u001b[0;32m     57\u001b[0m \u001b[38;5;124;03m    contents given. This function will return a :class:`QRCode` object.\u001b[39;00m\n\u001b[1;32m   (...)\u001b[0m\n\u001b[0;32m    109\u001b[0m \u001b[38;5;124;03m    t will be passed the *content*'s encode/decode methods.\u001b[39;00m\n\u001b[0;32m    110\u001b[0m \u001b[38;5;124;03m    \"\"\"\u001b[39;00m\n\u001b[1;32m--> 111\u001b[0m     \u001b[38;5;28;01mreturn\u001b[39;00m \u001b[43mQRCode\u001b[49m\u001b[43m(\u001b[49m\u001b[43mcontent\u001b[49m\u001b[43m,\u001b[49m\u001b[43m \u001b[49m\u001b[43merror\u001b[49m\u001b[43m,\u001b[49m\u001b[43m \u001b[49m\u001b[43mversion\u001b[49m\u001b[43m,\u001b[49m\u001b[43m \u001b[49m\u001b[43mmode\u001b[49m\u001b[43m,\u001b[49m\u001b[43m \u001b[49m\u001b[43mencoding\u001b[49m\u001b[43m)\u001b[49m\n",
      "File \u001b[1;32m~\\anaconda3\\lib\\site-packages\\pyqrcode\\__init__.py:222\u001b[0m, in \u001b[0;36mQRCode.__init__\u001b[1;34m(self, content, error, version, mode, encoding)\u001b[0m\n\u001b[0;32m    216\u001b[0m         \u001b[38;5;28;01mraise\u001b[39;00m \u001b[38;5;167;01mValueError\u001b[39;00m(\u001b[38;5;124m'\u001b[39m\u001b[38;5;124mThe data will not fit inside a version \u001b[39m\u001b[38;5;132;01m{}\u001b[39;00m\u001b[38;5;124m \u001b[39m\u001b[38;5;124m'\u001b[39m\n\u001b[0;32m    217\u001b[0m                          \u001b[38;5;124m'\u001b[39m\u001b[38;5;124mcode with the given encoding and error \u001b[39m\u001b[38;5;124m'\u001b[39m\n\u001b[0;32m    218\u001b[0m                          \u001b[38;5;124m'\u001b[39m\u001b[38;5;124mlevel (the code must be at least a \u001b[39m\u001b[38;5;124m'\u001b[39m\n\u001b[0;32m    219\u001b[0m                          \u001b[38;5;124m'\u001b[39m\u001b[38;5;124mversion \u001b[39m\u001b[38;5;132;01m{}\u001b[39;00m\u001b[38;5;124m).\u001b[39m\u001b[38;5;124m'\u001b[39m\u001b[38;5;241m.\u001b[39mformat(version, \u001b[38;5;28mself\u001b[39m\u001b[38;5;241m.\u001b[39mversion))\n\u001b[0;32m    221\u001b[0m \u001b[38;5;66;03m#Build the QR code\u001b[39;00m\n\u001b[1;32m--> 222\u001b[0m \u001b[38;5;28mself\u001b[39m\u001b[38;5;241m.\u001b[39mbuilder \u001b[38;5;241m=\u001b[39m \u001b[43mbuilder\u001b[49m\u001b[38;5;241;43m.\u001b[39;49m\u001b[43mQRCodeBuilder\u001b[49m\u001b[43m(\u001b[49m\u001b[43mdata\u001b[49m\u001b[38;5;241;43m=\u001b[39;49m\u001b[38;5;28;43mself\u001b[39;49m\u001b[38;5;241;43m.\u001b[39;49m\u001b[43mdata\u001b[49m\u001b[43m,\u001b[49m\n\u001b[0;32m    223\u001b[0m \u001b[43m                                     \u001b[49m\u001b[43mversion\u001b[49m\u001b[38;5;241;43m=\u001b[39;49m\u001b[38;5;28;43mself\u001b[39;49m\u001b[38;5;241;43m.\u001b[39;49m\u001b[43mversion\u001b[49m\u001b[43m,\u001b[49m\n\u001b[0;32m    224\u001b[0m \u001b[43m                                     \u001b[49m\u001b[43mmode\u001b[49m\u001b[38;5;241;43m=\u001b[39;49m\u001b[38;5;28;43mself\u001b[39;49m\u001b[38;5;241;43m.\u001b[39;49m\u001b[43mmode\u001b[49m\u001b[43m,\u001b[49m\n\u001b[0;32m    225\u001b[0m \u001b[43m                                     \u001b[49m\u001b[43merror\u001b[49m\u001b[38;5;241;43m=\u001b[39;49m\u001b[38;5;28;43mself\u001b[39;49m\u001b[38;5;241;43m.\u001b[39;49m\u001b[43merror\u001b[49m\u001b[43m)\u001b[49m\n\u001b[0;32m    227\u001b[0m \u001b[38;5;66;03m#Save the code for easier reference\u001b[39;00m\n\u001b[0;32m    228\u001b[0m \u001b[38;5;28mself\u001b[39m\u001b[38;5;241m.\u001b[39mcode \u001b[38;5;241m=\u001b[39m \u001b[38;5;28mself\u001b[39m\u001b[38;5;241m.\u001b[39mbuilder\u001b[38;5;241m.\u001b[39mcode\n",
      "File \u001b[1;32m~\\anaconda3\\lib\\site-packages\\pyqrcode\\builder.py:96\u001b[0m, in \u001b[0;36mQRCodeBuilder.__init__\u001b[1;34m(self, data, version, mode, error)\u001b[0m\n\u001b[0;32m     93\u001b[0m \u001b[38;5;28mself\u001b[39m\u001b[38;5;241m.\u001b[39madd_data()\n\u001b[0;32m     95\u001b[0m \u001b[38;5;66;03m#Create the actual QR code\u001b[39;00m\n\u001b[1;32m---> 96\u001b[0m \u001b[38;5;28;43mself\u001b[39;49m\u001b[38;5;241;43m.\u001b[39;49m\u001b[43mmake_code\u001b[49m\u001b[43m(\u001b[49m\u001b[43m)\u001b[49m\n",
      "File \u001b[1;32m~\\anaconda3\\lib\\site-packages\\pyqrcode\\builder.py:516\u001b[0m, in \u001b[0;36mQRCodeBuilder.make_code\u001b[1;34m(self)\u001b[0m\n\u001b[0;32m    513\u001b[0m \u001b[38;5;66;03m#Create the various types of masks of the template\u001b[39;00m\n\u001b[0;32m    514\u001b[0m \u001b[38;5;28mself\u001b[39m\u001b[38;5;241m.\u001b[39mmasks \u001b[38;5;241m=\u001b[39m \u001b[38;5;28mself\u001b[39m\u001b[38;5;241m.\u001b[39mmake_masks(template)\n\u001b[1;32m--> 516\u001b[0m \u001b[38;5;28mself\u001b[39m\u001b[38;5;241m.\u001b[39mbest_mask \u001b[38;5;241m=\u001b[39m \u001b[38;5;28;43mself\u001b[39;49m\u001b[38;5;241;43m.\u001b[39;49m\u001b[43mchoose_best_mask\u001b[49m\u001b[43m(\u001b[49m\u001b[43m)\u001b[49m\n\u001b[0;32m    517\u001b[0m \u001b[38;5;28mself\u001b[39m\u001b[38;5;241m.\u001b[39mcode \u001b[38;5;241m=\u001b[39m \u001b[38;5;28mself\u001b[39m\u001b[38;5;241m.\u001b[39mmasks[\u001b[38;5;28mself\u001b[39m\u001b[38;5;241m.\u001b[39mbest_mask]\n",
      "File \u001b[1;32m~\\anaconda3\\lib\\site-packages\\pyqrcode\\builder.py:816\u001b[0m, in \u001b[0;36mQRCodeBuilder.choose_best_mask\u001b[1;34m(self)\u001b[0m\n\u001b[0;32m    814\u001b[0m \u001b[38;5;66;03m#Look for row matches\u001b[39;00m\n\u001b[0;32m    815\u001b[0m \u001b[38;5;28;01mfor\u001b[39;00m p \u001b[38;5;129;01min\u001b[39;00m pattern:\n\u001b[1;32m--> 816\u001b[0m     \u001b[38;5;28;01mif\u001b[39;00m k \u001b[38;5;241m>\u001b[39m\u001b[38;5;241m=\u001b[39m \u001b[38;5;28;43mlen\u001b[39;49m(mask) \u001b[38;5;129;01mor\u001b[39;00m mask[i][k] \u001b[38;5;241m!=\u001b[39m p:\n\u001b[0;32m    817\u001b[0m         match \u001b[38;5;241m=\u001b[39m \u001b[38;5;28;01mFalse\u001b[39;00m\n\u001b[0;32m    818\u001b[0m         \u001b[38;5;28;01mbreak\u001b[39;00m\n",
      "\u001b[1;31mKeyboardInterrupt\u001b[0m: "
     ]
    }
   ],
   "source": [
    "import pandas as pd\n",
    "import pyqrcode\n",
    "import webbrowser\n",
    "import urllib.parse\n",
    "import datetime\n",
    "import numpy as np\n",
    "import os\n",
    "\n",
    "excel_file_path =(input(\"Enter the excel path  \"))\n",
    "output_folder =(input(\"Enter the excel folder path Generating QR_code: \"))\n",
    "excel_data = pd.read_excel(excel_file_path)\n",
    "\n",
    "# Replace non-finite values with 0\n",
    "excel_data.replace([np.inf, -np.inf, np.nan], 0, inplace=True)\n",
    "  \n",
    "    \n",
    "\n",
    "    \n",
    "    \n",
    "# Function to convert float values to integers and preserve string values\n",
    "def convert_to_int_or_leave_as_is(value):\n",
    "    if isinstance(value, float):\n",
    "        return int(value)\n",
    "    return value\n",
    "\n",
    "# Convert float values to integers in the DataFrame\n",
    "excel_data = excel_data.applymap(convert_to_int_or_leave_as_is)\n",
    "\n",
    "# Generate QR code for each row (excluding the first row)\n",
    "qr_codes = []\n",
    "for index, row in excel_data.iloc[:].iterrows():\n",
    "    # Convert row data to a string\n",
    "    loc =row[2]\n",
    "#     print(loc)\n",
    "    row_data = \"\\n\".join([f\"{key}: {value}\" for key, value in row.items()])\n",
    "    # Get the current time\n",
    "    current_time = datetime.datetime.today()\n",
    "    # Format the current time in a 12-hour format\n",
    "    formatted_time = current_time.strftime(\"%Y-%m-%d %I:%M:%S %p\")\n",
    "    row_data += f\"\\nTime: {formatted_time}\"\n",
    "    # Create the Google Form URL with pre-filled values\n",
    "    form_url = \"https://docs.google.com/forms/d/e/1FAIpQLSfKJIcm967zRwX_Y6Da41IVYOqC-2uKZ7hOPz2zvs2mnWwhNQ/viewform?usp=sf_link\"  # Replace with your Google Form URL\n",
    "    field_ids = {\n",
    "        \"entry.850515282\": row_data,  \n",
    "        \"entry.1857958340\": loc    # filed id\n",
    "        }\n",
    "    prefilled_url = form_url + \"?usp=pp_url&\" + urllib.parse.urlencode(field_ids)  # Replace <FIELD_ID> with the actual field ID in your form\n",
    "#     prefilled_url = form_url + \"?usp=pp_url&\" + urllib.parse.urlencode({\"entry.1857958340\":loc})  # Replace <FIELD_ID> with the actual field ID in your form\n",
    "\n",
    "    # Generate QR code with the pre-filled Google Form URL\n",
    "    qr_code = pyqrcode.create(prefilled_url)\n",
    "    \n",
    "    # Save the QR code as an image file\n",
    "    \n",
    "#     qr_code_file_path = f\"qr_code{index}.png\"\n",
    "    qr_code_file_path=os.path.join(output_folder, f\"qr_code_{index}.png\")\n",
    "    \n",
    "    qr_code.png(qr_code_file_path, scale=8)\n",
    "    \n",
    "    # Add the QR code file path to the DataFrame\n",
    "    qr_codes.append(qr_code_file_path)\n",
    "    print('qr_codes::',qr_codes)\n",
    "\n",
    "# Add the QR code column to the DataFrame\n",
    "excel_data[\"QR Code\"] = qr_codes\n",
    "\n",
    "# Save the updated DataFrame to a new Excel file\n",
    "updated_excel_file_path =excel_file_path\n",
    "excel_data.to_excel(updated_excel_file_path, index=False)\n",
    "\n",
    "# Open the Google Form URL when the QR code is scanned\n",
    "def open_form(url):\n",
    "    webbrowser.open(url)\n",
    "\n",
    "# Provide the QR code and formatted row information to the user\n",
    "# for index, row in excel_data.iterrows():\n",
    "#     print(f\"Generated QR code for row {index + 1}:\")\n",
    "#     print(row[\"QR Code\"])\n",
    "#     print(\"\\nRow Information:\")\n",
    "#     print(row)\n",
    "#     print(\"Scan the QR code to open the Google Form.\")\n",
    "#     print()\n",
    "\n",
    "    # Uncomment the line below to automatically open the form in the default web browser\n",
    "    # open_form(row[\"QR Code\"])"
   ]
  },
  {
   "cell_type": "code",
   "execution_count": null,
   "id": "89829d63",
   "metadata": {},
   "outputs": [],
   "source": [
    "C:\\Users\\Saurabh\\Desktop\\Script\\Dhanu_script\\QR_Code\n",
    "C:\\Users\\Saurabh\\Desktop\\Script\\Dhanu_script\\ss.xlsx"
   ]
  },
  {
   "cell_type": "code",
   "execution_count": 4,
   "id": "a45f8cf8",
   "metadata": {},
   "outputs": [
    {
     "name": "stdout",
     "output_type": "stream",
     "text": [
      "Enter the excel path  C:\\Users\\Saurabh\\Desktop\\Script\\Dhanu_script\\ss.xlsx\n",
      "Enter the excel folder path Generating QR_code: ahfash\n",
      "C:\\Users\\Saurabh\\Desktop\\Script\\Dhanu_script\\ss.xlsx\n",
      "     Sr. No.   F E No         Location  Available  FE Capacity   Qty   \\\n",
      "0           0        0                0             0         0     0   \n",
      "1           1      234  Fire Pump Room      ABC Type        6kg     1   \n",
      "2           2      231  Fire Pump Room      ABC Type        6kg     1   \n",
      "3           3      232  Fire Pump Room      Co2 Type      4.5kg     1   \n",
      "4           4      233  Fire Pump Room      Co2 Type      4.5kg     1   \n",
      "..        ...      ...              ...           ...       ...   ...   \n",
      "404       404        0      Spair Stock      DCP Type      4 Kg     0   \n",
      "405       405        0      Spair Stock      DCP Type      4 Kg     0   \n",
      "406       406        0      Spair Stock      DCP Type      4 Kg     0   \n",
      "407       407        0      Spair Stock      DCP Type      4 Kg     0   \n",
      "408       408        0      Spair Stock      DCP Type      4 Kg     0   \n",
      "\n",
      "     Mfg Year         QR Code  \n",
      "0           0    qr_code0.png  \n",
      "1        2021    qr_code1.png  \n",
      "2        2021    qr_code2.png  \n",
      "3        2021    qr_code3.png  \n",
      "4        2021    qr_code4.png  \n",
      "..        ...             ...  \n",
      "404         0  qr_code404.png  \n",
      "405         0  qr_code405.png  \n",
      "406         0  qr_code406.png  \n",
      "407         0  qr_code407.png  \n",
      "408         0  qr_code408.png  \n",
      "\n",
      "[409 rows x 8 columns]\n"
     ]
    }
   ],
   "source": [
    "excel_file_path =(input(\"Enter the excel path  \"))\n",
    "output_folder =(input(\"Enter the excel folder path Generating QR_code: \"))\n",
    "excel_data = pd.read_excel(excel_file_path)\n",
    "print(excel_file_path)\n",
    "print(excel_data)"
   ]
  },
  {
   "cell_type": "code",
   "execution_count": 5,
   "id": "407008aa",
   "metadata": {},
   "outputs": [
    {
     "data": {
      "text/html": [
       "<div>\n",
       "<style scoped>\n",
       "    .dataframe tbody tr th:only-of-type {\n",
       "        vertical-align: middle;\n",
       "    }\n",
       "\n",
       "    .dataframe tbody tr th {\n",
       "        vertical-align: top;\n",
       "    }\n",
       "\n",
       "    .dataframe thead th {\n",
       "        text-align: right;\n",
       "    }\n",
       "</style>\n",
       "<table border=\"1\" class=\"dataframe\">\n",
       "  <thead>\n",
       "    <tr style=\"text-align: right;\">\n",
       "      <th></th>\n",
       "      <th>Sr. No.</th>\n",
       "      <th>F E No</th>\n",
       "      <th>Location</th>\n",
       "      <th>Available  FE</th>\n",
       "      <th>Capacity</th>\n",
       "      <th>Qty</th>\n",
       "      <th>Mfg Year</th>\n",
       "      <th>QR Code</th>\n",
       "    </tr>\n",
       "  </thead>\n",
       "  <tbody>\n",
       "    <tr>\n",
       "      <th>0</th>\n",
       "      <td>0</td>\n",
       "      <td>0</td>\n",
       "      <td>0</td>\n",
       "      <td>0</td>\n",
       "      <td>0</td>\n",
       "      <td>0</td>\n",
       "      <td>0</td>\n",
       "      <td>qr_code0.png</td>\n",
       "    </tr>\n",
       "    <tr>\n",
       "      <th>1</th>\n",
       "      <td>1</td>\n",
       "      <td>234</td>\n",
       "      <td>Fire Pump Room</td>\n",
       "      <td>ABC Type</td>\n",
       "      <td>6kg</td>\n",
       "      <td>1</td>\n",
       "      <td>2021</td>\n",
       "      <td>qr_code1.png</td>\n",
       "    </tr>\n",
       "    <tr>\n",
       "      <th>2</th>\n",
       "      <td>2</td>\n",
       "      <td>231</td>\n",
       "      <td>Fire Pump Room</td>\n",
       "      <td>ABC Type</td>\n",
       "      <td>6kg</td>\n",
       "      <td>1</td>\n",
       "      <td>2021</td>\n",
       "      <td>qr_code2.png</td>\n",
       "    </tr>\n",
       "    <tr>\n",
       "      <th>3</th>\n",
       "      <td>3</td>\n",
       "      <td>232</td>\n",
       "      <td>Fire Pump Room</td>\n",
       "      <td>Co2 Type</td>\n",
       "      <td>4.5kg</td>\n",
       "      <td>1</td>\n",
       "      <td>2021</td>\n",
       "      <td>qr_code3.png</td>\n",
       "    </tr>\n",
       "    <tr>\n",
       "      <th>4</th>\n",
       "      <td>4</td>\n",
       "      <td>233</td>\n",
       "      <td>Fire Pump Room</td>\n",
       "      <td>Co2 Type</td>\n",
       "      <td>4.5kg</td>\n",
       "      <td>1</td>\n",
       "      <td>2021</td>\n",
       "      <td>qr_code4.png</td>\n",
       "    </tr>\n",
       "    <tr>\n",
       "      <th>...</th>\n",
       "      <td>...</td>\n",
       "      <td>...</td>\n",
       "      <td>...</td>\n",
       "      <td>...</td>\n",
       "      <td>...</td>\n",
       "      <td>...</td>\n",
       "      <td>...</td>\n",
       "      <td>...</td>\n",
       "    </tr>\n",
       "    <tr>\n",
       "      <th>404</th>\n",
       "      <td>404</td>\n",
       "      <td>0</td>\n",
       "      <td>Spair Stock</td>\n",
       "      <td>DCP Type</td>\n",
       "      <td>4 Kg</td>\n",
       "      <td>0</td>\n",
       "      <td>0</td>\n",
       "      <td>qr_code404.png</td>\n",
       "    </tr>\n",
       "    <tr>\n",
       "      <th>405</th>\n",
       "      <td>405</td>\n",
       "      <td>0</td>\n",
       "      <td>Spair Stock</td>\n",
       "      <td>DCP Type</td>\n",
       "      <td>4 Kg</td>\n",
       "      <td>0</td>\n",
       "      <td>0</td>\n",
       "      <td>qr_code405.png</td>\n",
       "    </tr>\n",
       "    <tr>\n",
       "      <th>406</th>\n",
       "      <td>406</td>\n",
       "      <td>0</td>\n",
       "      <td>Spair Stock</td>\n",
       "      <td>DCP Type</td>\n",
       "      <td>4 Kg</td>\n",
       "      <td>0</td>\n",
       "      <td>0</td>\n",
       "      <td>qr_code406.png</td>\n",
       "    </tr>\n",
       "    <tr>\n",
       "      <th>407</th>\n",
       "      <td>407</td>\n",
       "      <td>0</td>\n",
       "      <td>Spair Stock</td>\n",
       "      <td>DCP Type</td>\n",
       "      <td>4 Kg</td>\n",
       "      <td>0</td>\n",
       "      <td>0</td>\n",
       "      <td>qr_code407.png</td>\n",
       "    </tr>\n",
       "    <tr>\n",
       "      <th>408</th>\n",
       "      <td>408</td>\n",
       "      <td>0</td>\n",
       "      <td>Spair Stock</td>\n",
       "      <td>DCP Type</td>\n",
       "      <td>4 Kg</td>\n",
       "      <td>0</td>\n",
       "      <td>0</td>\n",
       "      <td>qr_code408.png</td>\n",
       "    </tr>\n",
       "  </tbody>\n",
       "</table>\n",
       "<p>409 rows × 8 columns</p>\n",
       "</div>"
      ],
      "text/plain": [
       "     Sr. No.   F E No         Location  Available  FE Capacity   Qty   \\\n",
       "0           0        0                0             0         0     0   \n",
       "1           1      234  Fire Pump Room      ABC Type        6kg     1   \n",
       "2           2      231  Fire Pump Room      ABC Type        6kg     1   \n",
       "3           3      232  Fire Pump Room      Co2 Type      4.5kg     1   \n",
       "4           4      233  Fire Pump Room      Co2 Type      4.5kg     1   \n",
       "..        ...      ...              ...           ...       ...   ...   \n",
       "404       404        0      Spair Stock      DCP Type      4 Kg     0   \n",
       "405       405        0      Spair Stock      DCP Type      4 Kg     0   \n",
       "406       406        0      Spair Stock      DCP Type      4 Kg     0   \n",
       "407       407        0      Spair Stock      DCP Type      4 Kg     0   \n",
       "408       408        0      Spair Stock      DCP Type      4 Kg     0   \n",
       "\n",
       "     Mfg Year         QR Code  \n",
       "0           0    qr_code0.png  \n",
       "1        2021    qr_code1.png  \n",
       "2        2021    qr_code2.png  \n",
       "3        2021    qr_code3.png  \n",
       "4        2021    qr_code4.png  \n",
       "..        ...             ...  \n",
       "404         0  qr_code404.png  \n",
       "405         0  qr_code405.png  \n",
       "406         0  qr_code406.png  \n",
       "407         0  qr_code407.png  \n",
       "408         0  qr_code408.png  \n",
       "\n",
       "[409 rows x 8 columns]"
      ]
     },
     "execution_count": 5,
     "metadata": {},
     "output_type": "execute_result"
    }
   ],
   "source": [
    "excel_data"
   ]
  },
  {
   "cell_type": "code",
   "execution_count": 6,
   "id": "2177cd7b",
   "metadata": {},
   "outputs": [
    {
     "data": {
      "text/plain": [
       "'Scrap Yard '"
      ]
     },
     "execution_count": 6,
     "metadata": {},
     "output_type": "execute_result"
    }
   ],
   "source": [
    "loc"
   ]
  },
  {
   "cell_type": "code",
   "execution_count": 9,
   "id": "386688f7",
   "metadata": {},
   "outputs": [
    {
     "data": {
      "text/plain": [
       "[2, 4, 6, 8, 10, 12, 14, 16, 18, 20]"
      ]
     },
     "execution_count": 9,
     "metadata": {},
     "output_type": "execute_result"
    }
   ],
   "source": [
    "table =[]\n",
    "for i in range(1,21):\n",
    "    if i%2==0:\n",
    "        table.append(i)\n",
    "table"
   ]
  },
  {
   "cell_type": "code",
   "execution_count": 17,
   "id": "88dba4a7",
   "metadata": {},
   "outputs": [
    {
     "name": "stdout",
     "output_type": "stream",
     "text": [
      "2 table of 2\n",
      "2 table of 4\n",
      "2 table of 6\n",
      "2 table of 8\n",
      "2 table of 10\n",
      "2 table of 12\n",
      "2 table of 14\n",
      "2 table of 16\n",
      "2 table of 18\n",
      "2 table of 20\n"
     ]
    },
    {
     "data": {
      "text/plain": [
       "[None, None, None, None, None, None, None, None, None, None]"
      ]
     },
     "execution_count": 17,
     "metadata": {},
     "output_type": "execute_result"
    }
   ],
   "source": [
    "[print(\"2 table of\",i) for i in range(1,21) if i%2==0]"
   ]
  },
  {
   "cell_type": "code",
   "execution_count": 19,
   "id": "726a4a00",
   "metadata": {},
   "outputs": [
    {
     "data": {
      "text/plain": [
       "datetime.datetime(2023, 6, 6, 23, 2, 52, 248178)"
      ]
     },
     "execution_count": 19,
     "metadata": {},
     "output_type": "execute_result"
    }
   ],
   "source": [
    "datetime.datetime.today()"
   ]
  },
  {
   "cell_type": "code",
   "execution_count": null,
   "id": "f817dccf",
   "metadata": {},
   "outputs": [],
   "source": []
  }
 ],
 "metadata": {
  "kernelspec": {
   "display_name": "Python 3 (ipykernel)",
   "language": "python",
   "name": "python3"
  },
  "language_info": {
   "codemirror_mode": {
    "name": "ipython",
    "version": 3
   },
   "file_extension": ".py",
   "mimetype": "text/x-python",
   "name": "python",
   "nbconvert_exporter": "python",
   "pygments_lexer": "ipython3",
   "version": "3.9.13"
  }
 },
 "nbformat": 4,
 "nbformat_minor": 5
}
