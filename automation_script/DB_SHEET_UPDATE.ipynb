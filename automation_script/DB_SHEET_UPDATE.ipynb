{
 "cells": [
  {
   "cell_type": "code",
   "execution_count": 3,
   "id": "8f5b99bc",
   "metadata": {},
   "outputs": [
    {
     "name": "stdout",
     "output_type": "stream",
     "text": [
      "DB_SHEET_UPDATE\n",
      "Please enter the below details\n",
      "Enter the COMMODITY source directory: C:\\Users\\Saurabh\\Desktop\\Automation\\DB_SHEET_UPDATE\\Sample\n",
      "Enter the DataBaseSheet_MasterData directory: C:\\Users\\Saurabh\\Desktop\\Automation\\DB_SHEET_UPDATE\\DataBaseSheet_MasterData_23-Jan.xlsx\n",
      "C:\\Users\\Saurabh\\Desktop\\Automation\\DB_SHEET_UPDATE\\Sample\\S69-00000-875\n",
      "DB_SHEET_path****:: C:\\Users\\Saurabh\\Desktop\\Automation\\DB_SHEET_UPDATE\\Sample\\S69-00000-875\\S69-00000-875_DB.xlsx\n",
      "Connector_Description::\"\"\"\"\"\" OVHD_H_DASH_CBR_2A\n"
     ]
    },
    {
     "name": "stderr",
     "output_type": "stream",
     "text": [
      "C:\\Users\\Saurabh\\AppData\\Local\\Temp\\ipykernel_6556\\4240734511.py:49: FutureWarning: save is not part of the public API, usage can give unexpected results and will be removed in a future version\n",
      "  writer.save()\n"
     ]
    },
    {
     "name": "stdout",
     "output_type": "stream",
     "text": [
      "OVHD_H_DASH_CBR_2A not found in the first column of the Excel sheet.\n",
      "Connector_Description::\"\"\"\"\"\" CAWS_OVHD_O_DASH_DL_1939_1A\n",
      "CAWS_OVHD_O_DASH_DL_1939_1A not found in the first column of the Excel sheet.\n",
      "Connector_Description::\"\"\"\"\"\" LT_DOME_OVHD_O_JMPR_OVD_1A\n",
      "LT_DOME_OVHD_O_JMPR_OVD_1A not found in the first column of the Excel sheet.\n",
      "Connector_Description::\"\"\"\"\"\" LT_MKR_OVHD_O_S_46_CL\n",
      "LT_MKR_OVHD_O_S_46_CL not found in the first column of the Excel sheet.\n",
      "Connector_Description::\"\"\"\"\"\" OVHD_H_DASH_CBR_1A\n",
      "OVHD_H_DASH_CBR_1A not found in the first column of the Excel sheet.\n",
      "Connector_Description::\"\"\"\"\"\" CB_OVHD_O_JMPR_CB_1A\n",
      "CB_OVHD_O_JMPR_CB_1A not found in the first column of the Excel sheet.\n",
      "Connector_Description::\"\"\"\"\"\" LT_MKR_OVHD_O_S_GND_CL\n",
      "LT_MKR_OVHD_O_S_GND_CL not found in the first column of the Excel sheet.\n",
      "Connector_Description::\"\"\"\"\"\" TGS_OVHD_O_SPKR_1A\n",
      "TGS_OVHD_O_SPKR_1A not found in the first column of the Excel sheet.\n",
      "Connector_Description::\"\"\"\"\"\" LT_MKR_OVHD_O_S_46A_CL\n",
      "LT_MKR_OVHD_O_S_46A_CL not found in the first column of the Excel sheet.\n",
      "Connector_Description::\"\"\"\"\"\" CAWS_OVHD_O_S_1939+_LN_GUID\n",
      "CAWS_OVHD_O_S_1939+_LN_GUID not found in the first column of the Excel sheet.\n",
      "Connector_Description::\"\"\"\"\"\" CAWS_OVHD_O_S_1939-_LN_GUID\n",
      "CAWS_OVHD_O_S_1939-_LN_GUID not found in the first column of the Excel sheet.\n",
      "C:\\Users\\Saurabh\\Desktop\\Automation\\DB_SHEET_UPDATE\\Sample\\S69-00003-149\n",
      "DB_SHEET_path****:: C:\\Users\\Saurabh\\Desktop\\Automation\\DB_SHEET_UPDATE\\Sample\\S69-00003-149\\S69-00003-149_DB.xlsx\n",
      "Connector_Description::\"\"\"\"\"\" DASH_H_SP9_GND\n"
     ]
    },
    {
     "name": "stderr",
     "output_type": "stream",
     "text": [
      "C:\\Users\\Saurabh\\AppData\\Local\\Temp\\ipykernel_6556\\4240734511.py:49: FutureWarning: save is not part of the public API, usage can give unexpected results and will be removed in a future version\n",
      "  writer.save()\n"
     ]
    },
    {
     "name": "stdout",
     "output_type": "stream",
     "text": [
      "DASH_H_SP9_GND not found in the first column of the Excel sheet.\n",
      "Connector_Description::\"\"\"\"\"\" nan\n",
      "nan not found in the first column of the Excel sheet.\n",
      "Connector_Description::\"\"\"\"\"\" SMPLX_OVHD_H_SP_BACKLIGHT_1A\n",
      "SMPLX_OVHD_H_SP_BACKLIGHT_1A not found in the first column of the Excel sheet.\n",
      "Connector_Description::\"\"\"\"\"\" SMPLX_OVHD_H_SP_SSVBATT_1A\n",
      "SMPLX_OVHD_H_SP_SSVBATT_1A not found in the first column of the Excel sheet.\n",
      "Connector_Description::\"\"\"\"\"\" LT_MKR_OL_OVHD_H_S2\n",
      "LT_MKR_OL_OVHD_H_S2 not found in the first column of the Excel sheet.\n",
      "Connector_Description::\"\"\"\"\"\" LT_MKR_OL_OVHD_H_LP_C1\n",
      "LT_MKR_OL_OVHD_H_LP_C1 not found in the first column of the Excel sheet.\n",
      "Connector_Description::\"\"\"\"\"\" LT_MKR_OL_OVHD_H_S1\n",
      "LT_MKR_OL_OVHD_H_S1 not found in the first column of the Excel sheet.\n",
      "Connector_Description::\"\"\"\"\"\" LT_MKR_OL_OVHD_H_LP_C 1\n",
      "LT_MKR_OL_OVHD_H_LP_C 1 not found in the first column of the Excel sheet.\n",
      "Connector_Description::\"\"\"\"\"\" LT_MKR_OL_OVHD_H_LP_C5\n",
      "LT_MKR_OL_OVHD_H_LP_C5 not found in the first column of the Excel sheet.\n",
      "Connector_Description::\"\"\"\"\"\" OVHD_H_SP1_GND\n",
      "OVHD_H_SP1_GND not found in the first column of the Excel sheet.\n",
      "Connector_Description::\"\"\"\"\"\" LT_MKR_OL_OVHD_H_JMPR_C1\n",
      "LT_MKR_OL_OVHD_H_JMPR_C1 not found in the first column of the Excel sheet.\n",
      "C:\\Users\\Saurabh\\Desktop\\Automation\\DB_SHEET_UPDATE\\Sample\\S69-00003-219\n",
      "DB_SHEET_path****:: C:\\Users\\Saurabh\\Desktop\\Automation\\DB_SHEET_UPDATE\\Sample\\S69-00003-219\\S69-00003-219_DB.xlsx\n",
      "Connector_Description::\"\"\"\"\"\" GND_INT_OVHD_O_S_GNDP_2A\n"
     ]
    },
    {
     "name": "stderr",
     "output_type": "stream",
     "text": [
      "C:\\Users\\Saurabh\\AppData\\Local\\Temp\\ipykernel_6556\\4240734511.py:49: FutureWarning: save is not part of the public API, usage can give unexpected results and will be removed in a future version\n",
      "  writer.save()\n"
     ]
    },
    {
     "name": "stdout",
     "output_type": "stream",
     "text": [
      "GND_INT_OVHD_O_S_GNDP_2A not found in the first column of the Excel sheet.\n",
      "Connector_Description::\"\"\"\"\"\" GND_INT_OVHD_O_S_GND-C_1A\n",
      "GND_INT_OVHD_O_S_GND-C_1A not found in the first column of the Excel sheet.\n",
      "Connector_Description::\"\"\"\"\"\" GND_INT_OVHD_O_S_GNDR_1A\n",
      "GND_INT_OVHD_O_S_GNDR_1A not found in the first column of the Excel sheet.\n",
      "Connector_Description::\"\"\"\"\"\" AUDIO_OVHD_O_SPKR_BT_1A\n",
      "AUDIO_OVHD_O_SPKR_BT_1A not found in the first column of the Excel sheet.\n",
      "Connector_Description::\"\"\"\"\"\" OVHD_H_DASH_CBR_4B\n",
      "OVHD_H_DASH_CBR_4B not found in the first column of the Excel sheet.\n",
      "Connector_Description::\"\"\"\"\"\" GND_INT_OVHD_O_S_GND-D_1A\n",
      "GND_INT_OVHD_O_S_GND-D_1A not found in the first column of the Excel sheet.\n",
      "Connector_Description::\"\"\"\"\"\" AUDIO_OVHD_O_DASH_1A\n",
      "AUDIO_OVHD_O_DASH_1A not found in the first column of the Excel sheet.\n",
      "Connector_Description::\"\"\"\"\"\" GND_INT_OVHD_O_S_GNDE_1A\n",
      "GND_INT_OVHD_O_S_GNDE_1A not found in the first column of the Excel sheet.\n",
      "Connector_Description::\"\"\"\"\"\" GND_INT_OVHD_O_S_GNDP_1A\n",
      "GND_INT_OVHD_O_S_GNDP_1A not found in the first column of the Excel sheet.\n",
      "C:\\Users\\Saurabh\\Desktop\\Automation\\DB_SHEET_UPDATE\\Sample\\S69-00003-236\n",
      "DB_SHEET_path****:: C:\\Users\\Saurabh\\Desktop\\Automation\\DB_SHEET_UPDATE\\Sample\\S69-00003-236\\S69-00003-236_DB.xlsx\n",
      "Connector_Description::\"\"\"\"\"\" OVHD_H_DASH_CBR_4B\n"
     ]
    },
    {
     "name": "stderr",
     "output_type": "stream",
     "text": [
      "C:\\Users\\Saurabh\\AppData\\Local\\Temp\\ipykernel_6556\\4240734511.py:49: FutureWarning: save is not part of the public API, usage can give unexpected results and will be removed in a future version\n",
      "  writer.save()\n"
     ]
    },
    {
     "name": "stdout",
     "output_type": "stream",
     "text": [
      "OVHD_H_DASH_CBR_4B not found in the first column of the Excel sheet.\n",
      "Connector_Description::\"\"\"\"\"\" GND_INT_OVHD_O_S_GNDE_1A\n",
      "GND_INT_OVHD_O_S_GNDE_1A not found in the first column of the Excel sheet.\n",
      "Connector_Description::\"\"\"\"\"\" CB_OVHD_O_S_95CB-_1A\n",
      "CB_OVHD_O_S_95CB-_1A not found in the first column of the Excel sheet.\n",
      "Connector_Description::\"\"\"\"\"\" LT_DOME_OVHD_O_S_GNDP_1A\n",
      "LT_DOME_OVHD_O_S_GNDP_1A not found in the first column of the Excel sheet.\n",
      "Connector_Description::\"\"\"\"\"\" CB_OVHD_O_CB_UPR_1A\n",
      "CB_OVHD_O_CB_UPR_1A not found in the first column of the Excel sheet.\n",
      "Connector_Description::\"\"\"\"\"\" OVHD_H_DASH_CBR_1A\n",
      "OVHD_H_DASH_CBR_1A not found in the first column of the Excel sheet.\n",
      "Connector_Description::\"\"\"\"\"\" CB_OVHD_O_CB_1A\n",
      "CB_OVHD_O_CB_1A not found in the first column of the Excel sheet.\n",
      "Connector_Description::\"\"\"\"\"\" CB_OVHD_O_SPKR_2A\n",
      "CB_OVHD_O_SPKR_2A not found in the first column of the Excel sheet.\n",
      "Connector_Description::\"\"\"\"\"\" GND_INT_OVHD_O_S_GNDP_2A\n",
      "GND_INT_OVHD_O_S_GNDP_2A not found in the first column of the Excel sheet.\n",
      "Connector_Description::\"\"\"\"\"\" GND_INT_OVHD_O_S_GND-C_1A\n",
      "GND_INT_OVHD_O_S_GND-C_1A not found in the first column of the Excel sheet.\n",
      "Connector_Description::\"\"\"\"\"\" GND_INT_OVHD_O_S_GNDR_1A\n",
      "GND_INT_OVHD_O_S_GNDR_1A not found in the first column of the Excel sheet.\n",
      "Connector_Description::\"\"\"\"\"\" AUDIO_OVHD_O_SPKR_BT_1A\n",
      "AUDIO_OVHD_O_SPKR_BT_1A not found in the first column of the Excel sheet.\n",
      "Connector_Description::\"\"\"\"\"\" AUDIO_OVHD_O_DASH_1A\n",
      "AUDIO_OVHD_O_DASH_1A not found in the first column of the Excel sheet.\n",
      "Connector_Description::\"\"\"\"\"\" LT_DOME_OVHD_O_S_41_1A\n",
      "LT_DOME_OVHD_O_S_41_1A not found in the first column of the Excel sheet.\n",
      "Connector_Description::\"\"\"\"\"\" GND_INT_OVHD_O_S_GNDP_1A\n",
      "GND_INT_OVHD_O_S_GNDP_1A not found in the first column of the Excel sheet.\n",
      "Connector_Description::\"\"\"\"\"\" CB_OVHD_O_S_95CB+_1A\n",
      "CB_OVHD_O_S_95CB+_1A not found in the first column of the Excel sheet.\n",
      "Connector_Description::\"\"\"\"\"\" GND_INT_OVHD_O_S_GND-D_1A\n",
      "GND_INT_OVHD_O_S_GND-D_1A not found in the first column of the Excel sheet.\n",
      "Connector_Description::\"\"\"\"\"\" CB_OVHD_O_SPKR_LHFWD_1A\n",
      "CB_OVHD_O_SPKR_LHFWD_1A not found in the first column of the Excel sheet.\n",
      "C:\\Users\\Saurabh\\Desktop\\Automation\\DB_SHEET_UPDATE\\Sample\\S70-00012-392\n",
      "DB_SHEET_path****:: C:\\Users\\Saurabh\\Desktop\\Automation\\DB_SHEET_UPDATE\\Sample\\S70-00012-392\\S70-00012-392_DB.xlsx\n",
      "Connector_Description::\"\"\"\"\"\" VEH_INTFC_CHAS_F_O_S_120B_1A\n"
     ]
    },
    {
     "name": "stderr",
     "output_type": "stream",
     "text": [
      "C:\\Users\\Saurabh\\AppData\\Local\\Temp\\ipykernel_6556\\4240734511.py:49: FutureWarning: save is not part of the public API, usage can give unexpected results and will be removed in a future version\n",
      "  writer.save()\n"
     ]
    },
    {
     "name": "stdout",
     "output_type": "stream",
     "text": [
      "VEH_INTFC_CHAS_F_O_S_120B_1A not found in the first column of the Excel sheet.\n",
      "Connector_Description::\"\"\"\"\"\" VEH_INTFC_CHAS_F_O_S_23A_1A\n",
      "VEH_INTFC_CHAS_F_O_S_23A_1A not found in the first column of the Excel sheet.\n",
      "Connector_Description::\"\"\"\"\"\" VEH_INTFC_CHAS_F_O_S_36N_1A\n",
      "VEH_INTFC_CHAS_F_O_S_36N_1A not found in the first column of the Excel sheet.\n",
      "Connector_Description::\"\"\"\"\"\" VEH_INTFC_CHAS_F_O_S_36P_1A\n",
      "VEH_INTFC_CHAS_F_O_S_36P_1A not found in the first column of the Excel sheet.\n",
      "Connector_Description::\"\"\"\"\"\" BAT_FLR_O_PNDB_AUX_1B\n",
      "BAT_FLR_O_PNDB_AUX_1B not found in the first column of the Excel sheet.\n",
      "Connector_Description::\"\"\"\"\"\" VEH_INTFC_FLR_O_S_GND_1A\n",
      "VEH_INTFC_FLR_O_S_GND_1A not found in the first column of the Excel sheet.\n",
      "Connector_Description::\"\"\"\"\"\" FLR_H_DASH_1A\n",
      "FLR_H_DASH_1A not found in the first column of the Excel sheet.\n",
      "Connector_Description::\"\"\"\"\"\" GND_FLR_O_SP_GND_1A\n",
      "GND_FLR_O_SP_GND_1A not found in the first column of the Excel sheet.\n",
      "Connector_Description::\"\"\"\"\"\" VEH_INTFC_FLR_O_POM_1A\n",
      "VEH_INTFC_FLR_O_POM_1A not found in the first column of the Excel sheet.\n",
      "Connector_Description::\"\"\"\"\"\" GND_FLR_O_SP_GNDE_1A\n",
      "GND_FLR_O_SP_GNDE_1A not found in the first column of the Excel sheet.\n",
      "Connector_Description::\"\"\"\"\"\" VEH_INTFC_FLR_O_S_GND_2A\n",
      "VEH_INTFC_FLR_O_S_GND_2A not found in the first column of the Excel sheet.\n",
      "C:\\Users\\Saurabh\\Desktop\\Automation\\DB_SHEET_UPDATE\\Sample\\S70-00012-607\n",
      "DB_SHEET_path****:: C:\\Users\\Saurabh\\Desktop\\Automation\\DB_SHEET_UPDATE\\Sample\\S70-00012-607\\S70-00012-607_DB.xlsx\n",
      "Connector_Description::\"\"\"\"\"\" ABS_H_SUPPL_RCPT_PWR\n"
     ]
    },
    {
     "name": "stderr",
     "output_type": "stream",
     "text": [
      "C:\\Users\\Saurabh\\AppData\\Local\\Temp\\ipykernel_6556\\4240734511.py:49: FutureWarning: save is not part of the public API, usage can give unexpected results and will be removed in a future version\n",
      "  writer.save()\n"
     ]
    },
    {
     "name": "stdout",
     "output_type": "stream",
     "text": [
      "ABS_H_SUPPL_RCPT_PWR not found in the first column of the Excel sheet.\n",
      "Connector_Description::\"\"\"\"\"\" ABS_H_ECU1_CX1\n",
      "ABS_H_ECU1_CX1 not found in the first column of the Excel sheet.\n",
      "Connector_Description::\"\"\"\"\"\" ENG_RPM_FLR_O_DASH_1A\n",
      "ENG_RPM_FLR_O_DASH_1A not found in the first column of the Excel sheet.\n",
      "Connector_Description::\"\"\"\"\"\" FLR_H_UCAB_1A\n",
      "FLR_H_UCAB_1A not found in the first column of the Excel sheet.\n",
      "Connector_Description::\"\"\"\"\"\" BAT_FLR_O_S_14E_1A\n",
      "BAT_FLR_O_S_14E_1A not found in the first column of the Excel sheet.\n",
      "C:\\Users\\Saurabh\\Desktop\\Automation\\DB_SHEET_UPDATE\\Sample\\S70-00012-637\n",
      "DB_SHEET_path****:: C:\\Users\\Saurabh\\Desktop\\Automation\\DB_SHEET_UPDATE\\Sample\\S70-00012-637\\S70-00012-637_DB.xlsx\n",
      "Connector_Description::\"\"\"\"\"\" GND_DASH_O_STUD_GND_1A\n"
     ]
    },
    {
     "name": "stderr",
     "output_type": "stream",
     "text": [
      "C:\\Users\\Saurabh\\AppData\\Local\\Temp\\ipykernel_6556\\4240734511.py:49: FutureWarning: save is not part of the public API, usage can give unexpected results and will be removed in a future version\n",
      "  writer.save()\n"
     ]
    },
    {
     "name": "stdout",
     "output_type": "stream",
     "text": [
      "GND_DASH_O_STUD_GND_1A not found in the first column of the Excel sheet.\n",
      "Connector_Description::\"\"\"\"\"\" ABS_H_SUPPL_RCPT_PWR\n",
      "ABS_H_SUPPL_RCPT_PWR not found in the first column of the Excel sheet.\n",
      "Connector_Description::\"\"\"\"\"\" ABS_H_ECU1_CX1\n",
      "ABS_H_ECU1_CX1 not found in the first column of the Excel sheet.\n",
      "Connector_Description::\"\"\"\"\"\" ABS_H_FWD_CHAS_C4\n",
      "ABS_H_FWD_CHAS_C4 not found in the first column of the Excel sheet.\n",
      "Connector_Description::\"\"\"\"\"\" SMPLX_FLR_O_S_GND_1A\n",
      "SMPLX_FLR_O_S_GND_1A not found in the first column of the Excel sheet.\n",
      "Connector_Description::\"\"\"\"\"\" SMPLX_FLR_O_S_GND_3A\n",
      "SMPLX_FLR_O_S_GND_3A not found in the first column of the Excel sheet.\n",
      "Connector_Description::\"\"\"\"\"\" SMPLX_FLR_O_S_GND_2A\n",
      "SMPLX_FLR_O_S_GND_2A not found in the first column of the Excel sheet.\n",
      "C:\\Users\\Saurabh\\Desktop\\Automation\\DB_SHEET_UPDATE\\Sample\\S70-00012-655\n",
      "DB_SHEET_path****:: C:\\Users\\Saurabh\\Desktop\\Automation\\DB_SHEET_UPDATE\\Sample\\S70-00012-655\\S70-00012-655_DB.xlsx\n",
      "Connector_Description::\"\"\"\"\"\" VEH_INTFC_FLR_O_S_GND_1A\n"
     ]
    },
    {
     "name": "stderr",
     "output_type": "stream",
     "text": [
      "C:\\Users\\Saurabh\\AppData\\Local\\Temp\\ipykernel_6556\\4240734511.py:49: FutureWarning: save is not part of the public API, usage can give unexpected results and will be removed in a future version\n",
      "  writer.save()\n"
     ]
    },
    {
     "name": "stdout",
     "output_type": "stream",
     "text": [
      "VEH_INTFC_FLR_O_S_GND_1A not found in the first column of the Excel sheet.\n",
      "Connector_Description::\"\"\"\"\"\" GND_FLR_O_SP_GND_1A\n",
      "GND_FLR_O_SP_GND_1A not found in the first column of the Excel sheet.\n",
      "Connector_Description::\"\"\"\"\"\" GND_FLR_O_SP_GNDE_1A\n",
      "GND_FLR_O_SP_GNDE_1A not found in the first column of the Excel sheet.\n",
      "Connector_Description::\"\"\"\"\"\" VEH_INTFC_FLR_O_S_GND_2A\n",
      "VEH_INTFC_FLR_O_S_GND_2A not found in the first column of the Excel sheet.\n",
      "C:\\Users\\Saurabh\\Desktop\\Automation\\DB_SHEET_UPDATE\\Sample\\S70-00012-673\n",
      "DB_SHEET_path****:: C:\\Users\\Saurabh\\Desktop\\Automation\\DB_SHEET_UPDATE\\Sample\\S70-00012-673\\S70-00012-673_DB.xlsx\n",
      "Connector_Description::\"\"\"\"\"\" GND_DASH_O_STUD_GND_1A\n"
     ]
    },
    {
     "name": "stderr",
     "output_type": "stream",
     "text": [
      "C:\\Users\\Saurabh\\AppData\\Local\\Temp\\ipykernel_6556\\4240734511.py:49: FutureWarning: save is not part of the public API, usage can give unexpected results and will be removed in a future version\n",
      "  writer.save()\n"
     ]
    },
    {
     "name": "stdout",
     "output_type": "stream",
     "text": [
      "GND_DASH_O_STUD_GND_1A not found in the first column of the Excel sheet.\n",
      "Connector_Description::\"\"\"\"\"\" ABS_H_SUPPL_RCPT_PWR\n",
      "ABS_H_SUPPL_RCPT_PWR not found in the first column of the Excel sheet.\n",
      "Connector_Description::\"\"\"\"\"\" ABS_H_ECU1_CX1\n",
      "ABS_H_ECU1_CX1 not found in the first column of the Excel sheet.\n",
      "Connector_Description::\"\"\"\"\"\" TRLR_FLR_O_S_38LT_1A\n",
      "TRLR_FLR_O_S_38LT_1A not found in the first column of the Excel sheet.\n",
      "Connector_Description::\"\"\"\"\"\" VEH_INTFC_FLR_O_S_GND_1A\n",
      "VEH_INTFC_FLR_O_S_GND_1A not found in the first column of the Excel sheet.\n",
      "Connector_Description::\"\"\"\"\"\" TRLR_FLR_O_S_38RT_1A\n",
      "TRLR_FLR_O_S_38RT_1A not found in the first column of the Excel sheet.\n",
      "Connector_Description::\"\"\"\"\"\" TRLR_FLR_O_S_46T_1A\n",
      "TRLR_FLR_O_S_46T_1A not found in the first column of the Excel sheet.\n",
      "Connector_Description::\"\"\"\"\"\" GND_FLR_O_SP_GNDE_1A\n",
      "GND_FLR_O_SP_GNDE_1A not found in the first column of the Excel sheet.\n",
      "Connector_Description::\"\"\"\"\"\" VEH_INTFC_FLR_O_S_GND_2A\n",
      "VEH_INTFC_FLR_O_S_GND_2A not found in the first column of the Excel sheet.\n",
      "C:\\Users\\Saurabh\\Desktop\\Automation\\DB_SHEET_UPDATE\\Sample\\S70-00012-677\n",
      "DB_SHEET_path****:: C:\\Users\\Saurabh\\Desktop\\Automation\\DB_SHEET_UPDATE\\Sample\\S70-00012-677\\S70-00012-677_DB.xlsx\n",
      "Connector_Description::\"\"\"\"\"\" GND_DASH_O_STUD_GND_1A\n"
     ]
    },
    {
     "name": "stderr",
     "output_type": "stream",
     "text": [
      "C:\\Users\\Saurabh\\AppData\\Local\\Temp\\ipykernel_6556\\4240734511.py:49: FutureWarning: save is not part of the public API, usage can give unexpected results and will be removed in a future version\n",
      "  writer.save()\n"
     ]
    },
    {
     "name": "stdout",
     "output_type": "stream",
     "text": [
      "GND_DASH_O_STUD_GND_1A not found in the first column of the Excel sheet.\n",
      "Connector_Description::\"\"\"\"\"\" ABS_H_SUPPL_RCPT_PWR\n",
      "ABS_H_SUPPL_RCPT_PWR not found in the first column of the Excel sheet.\n",
      "Connector_Description::\"\"\"\"\"\" ABS_H_ECU1_CX1\n",
      "ABS_H_ECU1_CX1 not found in the first column of the Excel sheet.\n",
      "Connector_Description::\"\"\"\"\"\" ABS_H_FWD_CHAS_C4\n",
      "ABS_H_FWD_CHAS_C4 not found in the first column of the Excel sheet.\n",
      "Connector_Description::\"\"\"\"\"\" BAT_FLR_O_S_14E_1A\n",
      "BAT_FLR_O_S_14E_1A not found in the first column of the Excel sheet.\n",
      "C:\\Users\\Saurabh\\Desktop\\Automation\\DB_SHEET_UPDATE\\Sample\\S70-00012-715\n",
      "DB_SHEET_path****:: C:\\Users\\Saurabh\\Desktop\\Automation\\DB_SHEET_UPDATE\\Sample\\S70-00012-715\\S70-00012-715_DB.xlsx\n",
      "Connector_Description::\"\"\"\"\"\" VEH_INTFC_FLR_O_PDM_1A\n"
     ]
    },
    {
     "name": "stderr",
     "output_type": "stream",
     "text": [
      "C:\\Users\\Saurabh\\AppData\\Local\\Temp\\ipykernel_6556\\4240734511.py:49: FutureWarning: save is not part of the public API, usage can give unexpected results and will be removed in a future version\n",
      "  writer.save()\n"
     ]
    },
    {
     "name": "stdout",
     "output_type": "stream",
     "text": [
      "VEH_INTFC_FLR_O_PDM_1A not found in the first column of the Excel sheet.\n",
      "Connector_Description::\"\"\"\"\"\" BAT_FLR_O_PNDB_AUX_1B\n",
      "BAT_FLR_O_PNDB_AUX_1B not found in the first column of the Excel sheet.\n",
      "Connector_Description::\"\"\"\"\"\" FLR_H_DASH_1A\n",
      "FLR_H_DASH_1A not found in the first column of the Excel sheet.\n",
      "Connector_Description::\"\"\"\"\"\" FLR_H_UCAB_1A\n",
      "FLR_H_UCAB_1A not found in the first column of the Excel sheet.\n",
      "Connector_Description::\"\"\"\"\"\" GND_FLR_O_SP_GNDE_1A\n",
      "GND_FLR_O_SP_GNDE_1A not found in the first column of the Excel sheet.\n",
      "C:\\Users\\Saurabh\\Desktop\\Automation\\DB_SHEET_UPDATE\\Sample\\S70-00013-013\n",
      "DB_SHEET_path****:: C:\\Users\\Saurabh\\Desktop\\Automation\\DB_SHEET_UPDATE\\Sample\\S70-00013-013\\S70-00013-013_DB.xlsx\n",
      "Connector_Description::\"\"\"\"\"\" ABS_H_ECU1_CX1\n"
     ]
    },
    {
     "name": "stderr",
     "output_type": "stream",
     "text": [
      "C:\\Users\\Saurabh\\AppData\\Local\\Temp\\ipykernel_6556\\4240734511.py:49: FutureWarning: save is not part of the public API, usage can give unexpected results and will be removed in a future version\n",
      "  writer.save()\n"
     ]
    },
    {
     "name": "stdout",
     "output_type": "stream",
     "text": [
      "ABS_H_ECU1_CX1 not found in the first column of the Excel sheet.\n",
      "Connector_Description::\"\"\"\"\"\" SEAT_H_JMPR_HEATED_DR_1A\n",
      "SEAT_H_JMPR_HEATED_DR_1A not found in the first column of the Excel sheet.\n",
      "Connector_Description::\"\"\"\"\"\" TRLR_FLR_O_S_38LT_1A\n",
      "TRLR_FLR_O_S_38LT_1A not found in the first column of the Excel sheet.\n",
      "Connector_Description::\"\"\"\"\"\" SEAT_FLR_O_DASH_HTD_1A\n",
      "SEAT_FLR_O_DASH_HTD_1A not found in the first column of the Excel sheet.\n",
      "Connector_Description::\"\"\"\"\"\" VEH_INTFC_FLR_O_S_GND_1A\n",
      "VEH_INTFC_FLR_O_S_GND_1A not found in the first column of the Excel sheet.\n",
      "Connector_Description::\"\"\"\"\"\" TRLR_FLR_O_S_38RT_1A\n",
      "TRLR_FLR_O_S_38RT_1A not found in the first column of the Excel sheet.\n",
      "Connector_Description::\"\"\"\"\"\" TRLR_FLR_O_S_46T_1A\n",
      "TRLR_FLR_O_S_46T_1A not found in the first column of the Excel sheet.\n",
      "Connector_Description::\"\"\"\"\"\" GND_FLR_O_SP_GNDE_1A\n",
      "GND_FLR_O_SP_GNDE_1A not found in the first column of the Excel sheet.\n",
      "Connector_Description::\"\"\"\"\"\" VEH_INTFC_FLR_O_S_GND_2A\n",
      "VEH_INTFC_FLR_O_S_GND_2A not found in the first column of the Excel sheet.\n",
      "Connector_Description::\"\"\"\"\"\" FLR_H_UCAB_ 2B\n",
      "FLR_H_UCAB_ 2B not found in the first column of the Excel sheet.\n",
      "Connector_Description::\"\"\"\"\"\" SEAT_H_JMPR_HEATED_PASS_1A\n",
      "SEAT_H_JMPR_HEATED_PASS_1A not found in the first column of the Excel sheet.\n",
      "C:\\Users\\Saurabh\\Desktop\\Automation\\DB_SHEET_UPDATE\\Sample\\S70-00021-522\n",
      "DB_SHEET_path****:: C:\\Users\\Saurabh\\Desktop\\Automation\\DB_SHEET_UPDATE\\Sample\\S70-00021-522\\S70-00021-522_DB.xlsx\n",
      "C:\\Users\\Saurabh\\Desktop\\Automation\\DB_SHEET_UPDATE\\Sample\\S70-00025-455\n",
      "DB_SHEET_path****:: C:\\Users\\Saurabh\\Desktop\\Automation\\DB_SHEET_UPDATE\\Sample\\S70-00025-455\\S70-00025-455_DB.xlsx\n"
     ]
    },
    {
     "name": "stderr",
     "output_type": "stream",
     "text": [
      "C:\\Users\\Saurabh\\AppData\\Local\\Temp\\ipykernel_6556\\4240734511.py:49: FutureWarning: save is not part of the public API, usage can give unexpected results and will be removed in a future version\n",
      "  writer.save()\n",
      "C:\\Users\\Saurabh\\AppData\\Local\\Temp\\ipykernel_6556\\4240734511.py:49: FutureWarning: save is not part of the public API, usage can give unexpected results and will be removed in a future version\n",
      "  writer.save()\n"
     ]
    },
    {
     "name": "stdout",
     "output_type": "stream",
     "text": [
      "C:\\Users\\Saurabh\\Desktop\\Automation\\DB_SHEET_UPDATE\\Sample\\S70-00037-511\n",
      "DB_SHEET_path****:: C:\\Users\\Saurabh\\Desktop\\Automation\\DB_SHEET_UPDATE\\Sample\\S70-00037-511\\S70-00037-511_DB.xlsx\n",
      "C:\\Users\\Saurabh\\Desktop\\Automation\\DB_SHEET_UPDATE\\Sample\\S70-00038-644\n",
      "DB_SHEET_path****:: C:\\Users\\Saurabh\\Desktop\\Automation\\DB_SHEET_UPDATE\\Sample\\S70-00038-644\\S70-00038-644_DB.xlsx\n"
     ]
    },
    {
     "name": "stderr",
     "output_type": "stream",
     "text": [
      "C:\\Users\\Saurabh\\AppData\\Local\\Temp\\ipykernel_6556\\4240734511.py:49: FutureWarning: save is not part of the public API, usage can give unexpected results and will be removed in a future version\n",
      "  writer.save()\n",
      "C:\\Users\\Saurabh\\AppData\\Local\\Temp\\ipykernel_6556\\4240734511.py:49: FutureWarning: save is not part of the public API, usage can give unexpected results and will be removed in a future version\n",
      "  writer.save()\n"
     ]
    },
    {
     "name": "stdout",
     "output_type": "stream",
     "text": [
      "C:\\Users\\Saurabh\\Desktop\\Automation\\DB_SHEET_UPDATE\\Sample\\Sample\n",
      "validation fail\n",
      "C:\\Users\\Saurabh\\Desktop\\Automation\\DB_SHEET_UPDATE\\Sample\\Sample-2\n",
      "validation fail\n",
      "DB_SHEET_UPDATE CONVERSION DONE.....!!\n"
     ]
    }
   ],
   "source": [
    "import os\n",
    "import pandas as pd\n",
    "import logging\n",
    "import openpyxl\n",
    "from openpyxl import load_workbook\n",
    "DB_DF= pd.DataFrame(columns=['commodity_name', 'Not_Start \"S\" And 13 Char','DB-SHEET_NOT_FOUND','Cont_Desc_not_found'])\n",
    "\n",
    "def validate_source_folder(folderName):\n",
    "    if(folderName.startswith(\"S\")):\n",
    "        if(len(folderName)==13):\n",
    "            return \"valid\"\n",
    "        else:\n",
    "            return \"Folder name not 13 characters\"\n",
    "    else:\n",
    "        return \"Folder name not starting with S.\"\n",
    "def DB_SHEET_UPDATE_FN():\n",
    "    t=1\n",
    "    logging.basicConfig(filename='Untitled.log', encoding='utf-8', level=logging.DEBUG)\n",
    "    logging.info('DB_SHEET_UPDATE function loaded: ') \n",
    "    print(\"DB_SHEET_UPDATE\")\n",
    "    print(\"Please enter the below details\")\n",
    "    source_folder =(input(\"Enter the COMMODITY source directory: \"))\n",
    "    DataBaseSheet_master = (input(\"Enter the DataBaseSheet_MasterData directory: \"))\n",
    "    allFilesAndFolders=os.listdir(source_folder)\n",
    "    for i in allFilesAndFolders:\n",
    "        fullpath=source_folder + '\\\\' + i\n",
    "        print(fullpath)\n",
    "        if os.path.isdir(fullpath):\n",
    "            validation=validate_source_folder(i)\n",
    "            if (validation==\"valid\"):\n",
    "                DB_SHEET_path= fullpath + '\\\\' + i+\"_DB.xlsx\"\n",
    "                if os.path.exists(DB_SHEET_path):\n",
    "                    print(\"DB_SHEET_path****::\",DB_SHEET_path)\n",
    "                    #df =pd.DataFrame()\n",
    "                    df=pd.read_excel(DB_SHEET_path)\n",
    "                    wb = load_workbook(DB_SHEET_path)\n",
    "                    ws = wb._sheets[0]\n",
    "                    cl = df.columns\n",
    "                    le = df.shape[0]\n",
    "                    writer = pd.ExcelWriter(DB_SHEET_path,engine='xlsxwriter')\n",
    "                    df.to_excel(writer, sheet_name='Sheet1', index=False)\n",
    "                    workbook = writer.book\n",
    "                    worksheet = writer.sheets['Sheet1']\n",
    "                    header_format = workbook.add_format({'bottom': 2, 'bg_color':'#FFFF00', 'border': 1})\n",
    "                    header_format.set_align('center')\n",
    "                    header_format.set_align('vcenter')\n",
    "                    for col_num, value in enumerate(df.columns.values):\n",
    "                        worksheet.write(0, col_num, value, header_format)\n",
    "                    writer.save()\n",
    "                    for r in range (0,le):\n",
    "                        if str(df[cl[1]][r]) == 'nan' and str(df[cl[2]][r])== 'nan' and str(df[cl[3]][r])== 'nan':\n",
    "                            Connector_Description=str(df[cl[0]][r])\n",
    "                            print('Connector_Description::\"\"\"\"\"\"',Connector_Description)\n",
    "                            DB_MASTER=pd.read_excel(DataBaseSheet_master)\n",
    "                            name_to_search = Connector_Description\n",
    "                            result=DB_MASTER[DB_MASTER.iloc[:, 0] == name_to_search]\n",
    "                            if result.empty:\n",
    "                                print(f\"{name_to_search} not found in the first column of the Excel sheet.\")\n",
    "                                DB_DF.loc[t,'commodity_name']=i\n",
    "                                DB_DF.loc[t,'Cont_Desc_not_found']= Connector_Description\n",
    "                                t+=1\n",
    "                            else:\n",
    "                                print(f\"{name_to_search} found in the following rows:\")\n",
    "                                df.at[r,cl[1]] = (result['Connector Numbers'].to_list())[0]\n",
    "                                df.at[r,cl[2]] = (result['No of Cavities'].to_list())[0]\n",
    "                                df.at[r,cl[3]] = (result['CONNECTOR TYPE'].to_list())[0]\n",
    "                                df.at[r,cl[7]] = (result['Connector Color'].to_list())[0]\n",
    "                                df.to_excel(DB_SHEET_path,index=False)\n",
    "                                print('done')             \n",
    "                else:\n",
    "                    print('DB_sheet not found')\n",
    "                    DB_DF.loc[t,'commodity_name']=i\n",
    "                    DB_DF.loc[t,'DB-SHEET_NOT_FOUND']= i+\"_DB.xlsx\"\n",
    "                    \n",
    "            else:\n",
    "                print('validation fail')\n",
    "                DB_DF.loc[t,'commodity_name']=i\n",
    "                DB_DF.loc[t,'Not_Start \"S\" And 13 Char']=\"✓\"\n",
    "            t+=1     \n",
    "                    \n",
    "        else:\n",
    "            os.remove(fullpath) # other file deleted only folders are there\n",
    "            print('file deleteed::',i)\n",
    "                    \n",
    "    DB_DF.to_excel('DB_SHEET_UPDATE.xlsx',index=False)\n",
    "    print(\"DB_SHEET_UPDATE CONVERSION DONE.....!!\")\n",
    "DB_SHEET_UPDATE_FN()"
   ]
  },
  {
   "cell_type": "code",
   "execution_count": null,
   "id": "f91fff69",
   "metadata": {},
   "outputs": [],
   "source": [
    "C:\\Users\\Saurabh\\Desktop\\Automation\\DB_SHEET_UPDATE\\Sample\n",
    "C:\\Users\\Saurabh\\Desktop\\Automation\\DB_SHEET_UPDATE\\DataBaseSheet_MasterData_23-Jan.xlsx"
   ]
  },
  {
   "cell_type": "code",
   "execution_count": 2,
   "id": "8e552be8",
   "metadata": {},
   "outputs": [],
   "source": [
    "import openpyxl\n",
    "\n",
    "# Load the xlsx workbook\n",
    "wb = openpyxl.load_workbook(r\"C:\\Users\\Saurabh\\Desktop\\Automation\\DB_SHEET_UPDATE\\Sample\\S69-00000-875\\S69-00000-875_DB.xlsx\")\n",
    "\n",
    "# Select the first sheet\n",
    "sheet = wb.worksheets[0]\n",
    "\n",
    "# Select the range of cells to apply the yellow background color\n",
    "header_range = 'A1:H1'\n",
    "\n",
    "# Set the fill color to yellow\n",
    "yellow_fill = openpyxl.styles.PatternFill(start_color='FFFF00', end_color='FFFF00', fill_type='solid')\n",
    "for row in sheet[header_range]:\n",
    "    for cell in row:\n",
    "        cell.fill = yellow_fill\n",
    "\n",
    "# Save the changes to the workbook\n",
    "wb.save(r\"C:\\Users\\Saurabh\\Desktop\\Automation\\DB_SHEET_UPDATE\\Sample\\S69-00000-875\\S69-00000-875_DB.xlsx\")\n",
    "\n",
    "    "
   ]
  },
  {
   "cell_type": "code",
   "execution_count": 13,
   "id": "1420fbd3",
   "metadata": {},
   "outputs": [
    {
     "name": "stdout",
     "output_type": "stream",
     "text": [
      "Collecting xlrd==1.2.0\n",
      "  Using cached xlrd-1.2.0-py2.py3-none-any.whl (103 kB)\n",
      "Installing collected packages: xlrd\n",
      "  Attempting uninstall: xlrd\n",
      "    Found existing installation: xlrd 2.0.1\n",
      "    Uninstalling xlrd-2.0.1:\n",
      "      Successfully uninstalled xlrd-2.0.1\n",
      "Successfully installed xlrd-1.2.0\n",
      "Note: you may need to restart the kernel to use updated packages.\n"
     ]
    },
    {
     "name": "stderr",
     "output_type": "stream",
     "text": [
      "WARNING: Ignoring invalid distribution -ip (c:\\users\\saurabh\\anaconda3\\lib\\site-packages)\n",
      "WARNING: Ignoring invalid distribution -ip (c:\\users\\saurabh\\anaconda3\\lib\\site-packages)\n",
      "WARNING: Ignoring invalid distribution -ip (c:\\users\\saurabh\\anaconda3\\lib\\site-packages)\n",
      "    WARNING: Ignoring invalid distribution -ip (c:\\users\\saurabh\\anaconda3\\lib\\site-packages)\n",
      "WARNING: Ignoring invalid distribution -ip (c:\\users\\saurabh\\anaconda3\\lib\\site-packages)\n",
      "ERROR: pip's dependency resolver does not currently take into account all the packages that are installed. This behaviour is the source of the following dependency conflicts.\n",
      "textract 1.6.5 requires beautifulsoup4~=4.8.0, but you have beautifulsoup4 4.11.1 which is incompatible.\n",
      "textract 1.6.5 requires chardet==3.*, but you have chardet 4.0.0 which is incompatible.\n",
      "textract 1.6.5 requires six~=1.12.0, but you have six 1.16.0 which is incompatible.\n",
      "WARNING: Ignoring invalid distribution -ip (c:\\users\\saurabh\\anaconda3\\lib\\site-packages)\n",
      "WARNING: Ignoring invalid distribution -ip (c:\\users\\saurabh\\anaconda3\\lib\\site-packages)\n",
      "WARNING: Ignoring invalid distribution -ip (c:\\users\\saurabh\\anaconda3\\lib\\site-packages)\n"
     ]
    }
   ],
   "source": [
    "pip install xlrd==1.2.0\n"
   ]
  },
  {
   "cell_type": "code",
   "execution_count": 14,
   "id": "28470c81",
   "metadata": {},
   "outputs": [
    {
     "name": "stdout",
     "output_type": "stream",
     "text": [
      "Requirement already satisfied: pandas in c:\\users\\saurabh\\anaconda3\\lib\\site-packages (1.4.4)\n",
      "Collecting pandas\n",
      "  Downloading pandas-1.5.3-cp39-cp39-win_amd64.whl (10.9 MB)\n",
      "     ---------------------------------------- 10.9/10.9 MB 1.2 MB/s eta 0:00:00\n",
      "Requirement already satisfied: numpy>=1.20.3 in c:\\users\\saurabh\\anaconda3\\lib\\site-packages (from pandas) (1.23.5)\n",
      "Requirement already satisfied: pytz>=2020.1 in c:\\users\\saurabh\\anaconda3\\lib\\site-packages (from pandas) (2022.7)\n",
      "Requirement already satisfied: python-dateutil>=2.8.1 in c:\\users\\saurabh\\appdata\\roaming\\python\\python39\\site-packages (from pandas) (2.8.2)\n",
      "Requirement already satisfied: six>=1.5 in c:\\users\\saurabh\\anaconda3\\lib\\site-packages (from python-dateutil>=2.8.1->pandas) (1.16.0)\n",
      "Installing collected packages: pandas\n",
      "  Attempting uninstall: pandas\n",
      "    Found existing installation: pandas 1.4.4\n",
      "    Uninstalling pandas-1.4.4:\n",
      "      Successfully uninstalled pandas-1.4.4\n",
      "Note: you may need to restart the kernel to use updated packages.\n"
     ]
    },
    {
     "name": "stderr",
     "output_type": "stream",
     "text": [
      "WARNING: Ignoring invalid distribution -ip (c:\\users\\saurabh\\anaconda3\\lib\\site-packages)\n",
      "WARNING: Ignoring invalid distribution -ip (c:\\users\\saurabh\\anaconda3\\lib\\site-packages)\n",
      "WARNING: Ignoring invalid distribution -ip (c:\\users\\saurabh\\anaconda3\\lib\\site-packages)\n",
      "    WARNING: Ignoring invalid distribution -ip (c:\\users\\saurabh\\anaconda3\\lib\\site-packages)\n",
      "ERROR: Could not install packages due to an OSError: [WinError 5] Access is denied: 'C:\\\\Users\\\\Saurabh\\\\anaconda3\\\\Lib\\\\site-packages\\\\~andas\\\\_libs\\\\algos.cp39-win_amd64.pyd'\n",
      "Consider using the `--user` option or check the permissions.\n",
      "\n",
      "WARNING: Ignoring invalid distribution -ip (c:\\users\\saurabh\\anaconda3\\lib\\site-packages)\n",
      "WARNING: Ignoring invalid distribution -ip (c:\\users\\saurabh\\anaconda3\\lib\\site-packages)\n",
      "WARNING: Ignoring invalid distribution -ip (c:\\users\\saurabh\\anaconda3\\lib\\site-packages)\n"
     ]
    }
   ],
   "source": [
    "pip install --upgrade pandas\n"
   ]
  },
  {
   "cell_type": "code",
   "execution_count": null,
   "id": "60507c34",
   "metadata": {},
   "outputs": [],
   "source": []
  }
 ],
 "metadata": {
  "kernelspec": {
   "display_name": "Python 3 (ipykernel)",
   "language": "python",
   "name": "python3"
  },
  "language_info": {
   "codemirror_mode": {
    "name": "ipython",
    "version": 3
   },
   "file_extension": ".py",
   "mimetype": "text/x-python",
   "name": "python",
   "nbconvert_exporter": "python",
   "pygments_lexer": "ipython3",
   "version": "3.9.13"
  }
 },
 "nbformat": 4,
 "nbformat_minor": 5
}
