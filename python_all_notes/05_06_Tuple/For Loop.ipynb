{
 "cells": [
  {
   "cell_type": "markdown",
   "id": "cec63264",
   "metadata": {},
   "source": [
    "## Loops in Python"
   ]
  },
  {
   "cell_type": "code",
   "execution_count": null,
   "id": "e45ecbb8",
   "metadata": {},
   "outputs": [],
   "source": [
    "1. for loop\n",
    "2. while loop\n",
    "\n",
    "same functionality with different syntax"
   ]
  },
  {
   "cell_type": "markdown",
   "id": "d4862781",
   "metadata": {},
   "source": [
    "## For Loop"
   ]
  },
  {
   "cell_type": "code",
   "execution_count": null,
   "id": "9c8d235a",
   "metadata": {},
   "outputs": [],
   "source": [
    "sequence >> str, list, set, tuple, dict, frozenset, numpy array, pandas dataframe etc\n",
    "\n",
    "for var in sequence:\n",
    "    statement1\n",
    "    statement2\n",
    "    statement3\n",
    "    \n",
    "for item in sequence:\n",
    "    statement1\n",
    "    statement2\n",
    "    statement3\n",
    "    \n",
    "for i in iterables:\n",
    "    statement1\n",
    "    statement2\n",
    "    \n",
    "    \n",
    "statement3"
   ]
  },
  {
   "cell_type": "code",
   "execution_count": null,
   "id": "a06b0141",
   "metadata": {},
   "outputs": [],
   "source": [
    "for index,val in enumerate(sequence):\n",
    "    print(index, val)\n",
    "    \n",
    "    \n",
    "for value in enumerate(sequence):\n",
    "    print(value)"
   ]
  },
  {
   "cell_type": "code",
   "execution_count": 3,
   "id": "44b4f65d",
   "metadata": {},
   "outputs": [
    {
     "name": "stdout",
     "output_type": "stream",
     "text": [
      "We are learning for loop\n",
      "We are learning for loop\n",
      "We are learning for loop\n",
      "We are learning for loop\n",
      "We are learning for loop\n",
      "We are learning for loop\n",
      "We are learning for loop\n",
      "We are learning for loop\n",
      "We are learning for loop\n",
      "We are learning for loop\n"
     ]
    }
   ],
   "source": [
    "print('We are learning for loop')\n",
    "print('We are learning for loop')\n",
    "print('We are learning for loop')\n",
    "print('We are learning for loop')\n",
    "print('We are learning for loop')\n",
    "print('We are learning for loop')\n",
    "print('We are learning for loop')\n",
    "print('We are learning for loop')\n",
    "print('We are learning for loop')\n",
    "print('We are learning for loop')"
   ]
  },
  {
   "cell_type": "code",
   "execution_count": 4,
   "id": "988cc792",
   "metadata": {},
   "outputs": [
    {
     "name": "stdout",
     "output_type": "stream",
     "text": [
      "We are learning for loop\n",
      "We are learning for loop\n",
      "We are learning for loop\n",
      "We are learning for loop\n",
      "We are learning for loop\n",
      "We are learning for loop\n",
      "We are learning for loop\n",
      "We are learning for loop\n",
      "We are learning for loop\n",
      "We are learning for loop\n"
     ]
    }
   ],
   "source": [
    "for i in range(0,10):\n",
    "    print('We are learning for loop')"
   ]
  },
  {
   "cell_type": "code",
   "execution_count": 5,
   "id": "271d5dc6",
   "metadata": {},
   "outputs": [
    {
     "data": {
      "text/plain": [
       "[0, 1, 2, 3, 4]"
      ]
     },
     "execution_count": 5,
     "metadata": {},
     "output_type": "execute_result"
    }
   ],
   "source": [
    "list(range(0,5))"
   ]
  },
  {
   "cell_type": "code",
   "execution_count": 7,
   "id": "3cbea48d",
   "metadata": {},
   "outputs": [
    {
     "name": "stdout",
     "output_type": "stream",
     "text": [
      "0\n",
      "We are learning for loop\n",
      "1\n",
      "We are learning for loop\n",
      "2\n",
      "We are learning for loop\n",
      "3\n",
      "We are learning for loop\n",
      "4\n",
      "We are learning for loop\n"
     ]
    }
   ],
   "source": [
    "for i in range(0,5):\n",
    "    print(i)\n",
    "    print('We are learning for loop')"
   ]
  },
  {
   "cell_type": "code",
   "execution_count": 8,
   "id": "c0e6d1e2",
   "metadata": {},
   "outputs": [
    {
     "name": "stdout",
     "output_type": "stream",
     "text": [
      "0\n",
      "1\n",
      "2\n",
      "3\n",
      "4\n",
      "We are learning for loop\n"
     ]
    }
   ],
   "source": [
    "for i in range(0,5):\n",
    "    print(i)\n",
    "print('We are learning for loop')"
   ]
  },
  {
   "cell_type": "code",
   "execution_count": 9,
   "id": "96fc8dc4",
   "metadata": {},
   "outputs": [
    {
     "name": "stdout",
     "output_type": "stream",
     "text": [
      "0\n",
      "We are learning for loop\n",
      "**********************************************************************\n",
      "1\n",
      "We are learning for loop\n",
      "**********************************************************************\n",
      "2\n",
      "We are learning for loop\n",
      "**********************************************************************\n",
      "3\n",
      "We are learning for loop\n",
      "**********************************************************************\n",
      "4\n",
      "We are learning for loop\n",
      "**********************************************************************\n"
     ]
    }
   ],
   "source": [
    "for i in range(0,5):\n",
    "    print(i)\n",
    "    print('We are learning for loop')\n",
    "    print('*'*70)"
   ]
  },
  {
   "cell_type": "code",
   "execution_count": 10,
   "id": "51a0a769",
   "metadata": {},
   "outputs": [
    {
     "name": "stdout",
     "output_type": "stream",
     "text": [
      "0\n",
      "We are learning for loop\n",
      "**********************************************************************\n",
      "1\n",
      "We are learning for loop\n",
      "**********************************************************************\n",
      "2\n",
      "We are learning for loop\n",
      "**********************************************************************\n",
      "3\n",
      "We are learning for loop\n",
      "**********************************************************************\n",
      "4\n",
      "We are learning for loop\n",
      "**********************************************************************\n",
      "Loop executed\n"
     ]
    }
   ],
   "source": [
    "for i in range(0,5):\n",
    "    print(i)\n",
    "    print('We are learning for loop')\n",
    "    print('*'*70)\n",
    "    \n",
    "print('Loop executed')"
   ]
  },
  {
   "cell_type": "code",
   "execution_count": 11,
   "id": "d9dbf065",
   "metadata": {},
   "outputs": [
    {
     "name": "stdout",
     "output_type": "stream",
     "text": [
      "p\n",
      "y\n",
      "t\n",
      "h\n",
      "o\n",
      "n\n"
     ]
    }
   ],
   "source": [
    "for char in 'python':\n",
    "    print(char)"
   ]
  },
  {
   "cell_type": "code",
   "execution_count": 12,
   "id": "1427fa11",
   "metadata": {},
   "outputs": [
    {
     "name": "stdout",
     "output_type": "stream",
     "text": [
      "Char is : p\n",
      "Char is : y\n",
      "Char is : t\n",
      "Char is : h\n",
      "Char is : o\n",
      "Char is : n\n"
     ]
    }
   ],
   "source": [
    "for char in 'python':\n",
    "    print('Char is :',char)"
   ]
  },
  {
   "cell_type": "code",
   "execution_count": 13,
   "id": "ded31f1c",
   "metadata": {},
   "outputs": [
    {
     "name": "stdout",
     "output_type": "stream",
     "text": [
      "Char is at index 0 is p\n",
      "Char is at index 1 is y\n",
      "Char is at index 2 is t\n",
      "Char is at index 3 is h\n",
      "Char is at index 4 is o\n",
      "Char is at index 5 is n\n"
     ]
    }
   ],
   "source": [
    "for index, char in enumerate('python'):\n",
    "    print(f'Char is at index {index} is {char}')"
   ]
  },
  {
   "cell_type": "code",
   "execution_count": 14,
   "id": "017a2e8b",
   "metadata": {},
   "outputs": [
    {
     "name": "stdout",
     "output_type": "stream",
     "text": [
      "Char is at index 0 is p\n",
      "Char is at index 0 is y\n",
      "Char is at index 0 is t\n",
      "Char is at index 0 is h\n",
      "Char is at index 0 is o\n",
      "Char is at index 0 is n\n"
     ]
    }
   ],
   "source": [
    "index = 0\n",
    "for char in 'python':\n",
    "    print(f'Char is at index {index} is {char}')"
   ]
  },
  {
   "cell_type": "code",
   "execution_count": 15,
   "id": "0cb5d6cd",
   "metadata": {},
   "outputs": [
    {
     "name": "stdout",
     "output_type": "stream",
     "text": [
      "Char is at index 0 is p\n",
      "Char is at index 1 is y\n",
      "Char is at index 2 is t\n",
      "Char is at index 3 is h\n",
      "Char is at index 4 is o\n",
      "Char is at index 5 is n\n"
     ]
    }
   ],
   "source": [
    "index = 0\n",
    "for char in 'python':\n",
    "    print(f'Char is at index {index} is {char}')\n",
    "    index +=1"
   ]
  },
  {
   "cell_type": "code",
   "execution_count": 16,
   "id": "6f00175e",
   "metadata": {},
   "outputs": [
    {
     "name": "stdout",
     "output_type": "stream",
     "text": [
      "Char is at index 0 is p\n",
      "Char is at index 0 is y\n",
      "Char is at index 0 is t\n",
      "Char is at index 0 is h\n",
      "Char is at index 0 is o\n",
      "Char is at index 0 is n\n"
     ]
    }
   ],
   "source": [
    "\n",
    "for char in 'python':\n",
    "    index = 0\n",
    "    print(f'Char is at index {index} is {char}')\n",
    "    index +=1"
   ]
  },
  {
   "cell_type": "markdown",
   "id": "fd51006d",
   "metadata": {},
   "source": [
    "## list"
   ]
  },
  {
   "cell_type": "code",
   "execution_count": 17,
   "id": "90a145cb",
   "metadata": {},
   "outputs": [
    {
     "name": "stdout",
     "output_type": "stream",
     "text": [
      "2\n",
      "9\n",
      "4\n",
      "1\n",
      "5\n",
      "6\n"
     ]
    }
   ],
   "source": [
    "list1 = [2,9,4,1,5,6]\n",
    "for i in list1:\n",
    "    print(i)"
   ]
  },
  {
   "cell_type": "code",
   "execution_count": 20,
   "id": "db1f7ab7",
   "metadata": {},
   "outputs": [
    {
     "name": "stdout",
     "output_type": "stream",
     "text": [
      "Value at index 0 is 2\n",
      "Value at index 1 is 9\n",
      "Value at index 2 is 4\n",
      "Value at index 3 is 1\n",
      "Value at index 4 is 5\n",
      "Value at index 5 is 6\n"
     ]
    }
   ],
   "source": [
    "list1 = [2,9,4,1,5,6]\n",
    "for i,v in enumerate(list1):\n",
    "    print(f'Value at index {i} is {v}')"
   ]
  },
  {
   "cell_type": "code",
   "execution_count": 21,
   "id": "f53ce78a",
   "metadata": {},
   "outputs": [
    {
     "name": "stdout",
     "output_type": "stream",
     "text": [
      "Value at index 0 is 4\n",
      "Value at index 1 is 1\n",
      "Value at index 2 is 5\n",
      "Value at index 3 is 6\n",
      "Value at index 4 is 4\n",
      "Value at index 5 is 8\n"
     ]
    }
   ],
   "source": [
    "list1 = [2,9,4,1,5,6,4,8,6,5,79,78]\n",
    "for i,v in enumerate(list1[2:8]):\n",
    "    print(f'Value at index {i} is {v}')"
   ]
  },
  {
   "cell_type": "code",
   "execution_count": 22,
   "id": "4121af72",
   "metadata": {},
   "outputs": [
    {
     "name": "stdout",
     "output_type": "stream",
     "text": [
      "Value at index 1 is 4\n",
      "Value at index 2 is 1\n",
      "Value at index 3 is 5\n",
      "Value at index 4 is 6\n",
      "Value at index 5 is 4\n",
      "Value at index 6 is 8\n"
     ]
    }
   ],
   "source": [
    "list1 = [2,9,4,1,5,6,4,8,6,5,79,78]\n",
    "for i,v in enumerate(list1[2:8],start=1):\n",
    "    print(f'Value at index {i} is {v}')"
   ]
  },
  {
   "cell_type": "code",
   "execution_count": 23,
   "id": "03dc0a20",
   "metadata": {},
   "outputs": [
    {
     "name": "stdout",
     "output_type": "stream",
     "text": [
      "Value at index 5 is 4\n",
      "Value at index 6 is 1\n",
      "Value at index 7 is 5\n",
      "Value at index 8 is 6\n",
      "Value at index 9 is 4\n",
      "Value at index 10 is 8\n"
     ]
    }
   ],
   "source": [
    "list1 = [2,9,4,1,5,6,4,8,6,5,79,78]\n",
    "for i,v in enumerate(list1[2:8],start=5):\n",
    "    print(f'Value at index {i} is {v}')"
   ]
  },
  {
   "cell_type": "code",
   "execution_count": 25,
   "id": "57cfa676",
   "metadata": {},
   "outputs": [
    {
     "name": "stdout",
     "output_type": "stream",
     "text": [
      "[1,3,4,5]\n",
      "<class 'list'>\n"
     ]
    }
   ],
   "source": [
    "a = eval(input())\n",
    "print(type(a))"
   ]
  },
  {
   "cell_type": "code",
   "execution_count": 30,
   "id": "3553af3d",
   "metadata": {},
   "outputs": [
    {
     "name": "stdout",
     "output_type": "stream",
     "text": [
      "int list ==  [2, 3, 10]\n",
      "float list ==  [3.13, 5.64, 9.0]\n",
      "str list ==  ['python', 'Data']\n"
     ]
    }
   ],
   "source": [
    "list1 = [2,3,'python', 3.13,5.64,'Data', 10,9.0]\n",
    "\n",
    "int_list = []\n",
    "float_list = []\n",
    "str_list = []\n",
    "\n",
    "for item in list1:\n",
    "#     print(item)\n",
    "    if type(item) == int:\n",
    "#         print(item)\n",
    "        int_list.append(item)\n",
    "    \n",
    "    elif type(item) == float:\n",
    "#         print(item)\n",
    "        float_list.append(item)\n",
    "    \n",
    "    elif type(item)== str:\n",
    "        str_list.append(item)\n",
    "        \n",
    "        \n",
    "print('int list == ', int_list)\n",
    "print('float list == ', float_list)\n",
    "print('str list == ', str_list)"
   ]
  },
  {
   "cell_type": "code",
   "execution_count": null,
   "id": "bcced653",
   "metadata": {},
   "outputs": [],
   "source": []
  },
  {
   "cell_type": "code",
   "execution_count": null,
   "id": "3c00099f",
   "metadata": {},
   "outputs": [],
   "source": []
  },
  {
   "cell_type": "code",
   "execution_count": null,
   "id": "fdd30cbd",
   "metadata": {},
   "outputs": [],
   "source": []
  },
  {
   "cell_type": "code",
   "execution_count": null,
   "id": "881b5aef",
   "metadata": {},
   "outputs": [],
   "source": []
  },
  {
   "cell_type": "code",
   "execution_count": null,
   "id": "607f86fe",
   "metadata": {},
   "outputs": [],
   "source": []
  },
  {
   "cell_type": "code",
   "execution_count": null,
   "id": "bd09e46d",
   "metadata": {},
   "outputs": [],
   "source": []
  },
  {
   "cell_type": "code",
   "execution_count": null,
   "id": "c46e40e1",
   "metadata": {},
   "outputs": [],
   "source": []
  },
  {
   "cell_type": "code",
   "execution_count": null,
   "id": "5f05e6b1",
   "metadata": {},
   "outputs": [],
   "source": []
  },
  {
   "cell_type": "code",
   "execution_count": null,
   "id": "218f407f",
   "metadata": {},
   "outputs": [],
   "source": []
  },
  {
   "cell_type": "code",
   "execution_count": null,
   "id": "df3ce8d3",
   "metadata": {},
   "outputs": [],
   "source": []
  },
  {
   "cell_type": "code",
   "execution_count": null,
   "id": "8f6d0763",
   "metadata": {},
   "outputs": [],
   "source": []
  },
  {
   "cell_type": "code",
   "execution_count": null,
   "id": "d8fd68cf",
   "metadata": {},
   "outputs": [],
   "source": []
  },
  {
   "cell_type": "code",
   "execution_count": null,
   "id": "690250dc",
   "metadata": {},
   "outputs": [],
   "source": []
  },
  {
   "cell_type": "code",
   "execution_count": null,
   "id": "9c893415",
   "metadata": {},
   "outputs": [],
   "source": []
  },
  {
   "cell_type": "code",
   "execution_count": null,
   "id": "fd3b5676",
   "metadata": {},
   "outputs": [],
   "source": []
  },
  {
   "cell_type": "code",
   "execution_count": null,
   "id": "1e3c86b5",
   "metadata": {},
   "outputs": [],
   "source": []
  },
  {
   "cell_type": "code",
   "execution_count": null,
   "id": "36c484de",
   "metadata": {},
   "outputs": [],
   "source": []
  },
  {
   "cell_type": "code",
   "execution_count": null,
   "id": "60bc22b4",
   "metadata": {},
   "outputs": [],
   "source": []
  },
  {
   "cell_type": "code",
   "execution_count": null,
   "id": "d3ecdf26",
   "metadata": {},
   "outputs": [],
   "source": []
  },
  {
   "cell_type": "code",
   "execution_count": null,
   "id": "90ab33bd",
   "metadata": {},
   "outputs": [],
   "source": []
  },
  {
   "cell_type": "code",
   "execution_count": null,
   "id": "514c193a",
   "metadata": {},
   "outputs": [],
   "source": []
  },
  {
   "cell_type": "code",
   "execution_count": null,
   "id": "c6e7ee77",
   "metadata": {},
   "outputs": [],
   "source": []
  },
  {
   "cell_type": "code",
   "execution_count": null,
   "id": "57d443ac",
   "metadata": {},
   "outputs": [],
   "source": []
  },
  {
   "cell_type": "code",
   "execution_count": null,
   "id": "9fe334b5",
   "metadata": {},
   "outputs": [],
   "source": []
  },
  {
   "cell_type": "code",
   "execution_count": null,
   "id": "283389bd",
   "metadata": {},
   "outputs": [],
   "source": []
  },
  {
   "cell_type": "code",
   "execution_count": null,
   "id": "a2bc8226",
   "metadata": {},
   "outputs": [],
   "source": []
  },
  {
   "cell_type": "code",
   "execution_count": null,
   "id": "b43de181",
   "metadata": {},
   "outputs": [],
   "source": []
  },
  {
   "cell_type": "code",
   "execution_count": null,
   "id": "b839afc7",
   "metadata": {},
   "outputs": [],
   "source": []
  },
  {
   "cell_type": "code",
   "execution_count": null,
   "id": "c073db2b",
   "metadata": {},
   "outputs": [],
   "source": []
  },
  {
   "cell_type": "code",
   "execution_count": null,
   "id": "0e39adb1",
   "metadata": {},
   "outputs": [],
   "source": []
  },
  {
   "cell_type": "code",
   "execution_count": null,
   "id": "60eede4f",
   "metadata": {},
   "outputs": [],
   "source": []
  },
  {
   "cell_type": "code",
   "execution_count": null,
   "id": "92dc2afa",
   "metadata": {},
   "outputs": [],
   "source": []
  },
  {
   "cell_type": "code",
   "execution_count": null,
   "id": "1b511df0",
   "metadata": {},
   "outputs": [],
   "source": []
  },
  {
   "cell_type": "code",
   "execution_count": null,
   "id": "a85d4ef2",
   "metadata": {},
   "outputs": [],
   "source": []
  },
  {
   "cell_type": "code",
   "execution_count": null,
   "id": "3931d07c",
   "metadata": {},
   "outputs": [],
   "source": []
  },
  {
   "cell_type": "code",
   "execution_count": null,
   "id": "e9cd9ef1",
   "metadata": {},
   "outputs": [],
   "source": []
  },
  {
   "cell_type": "code",
   "execution_count": null,
   "id": "4f959923",
   "metadata": {},
   "outputs": [],
   "source": []
  },
  {
   "cell_type": "code",
   "execution_count": null,
   "id": "374bf1aa",
   "metadata": {},
   "outputs": [],
   "source": []
  },
  {
   "cell_type": "code",
   "execution_count": null,
   "id": "06b31d9f",
   "metadata": {},
   "outputs": [],
   "source": []
  },
  {
   "cell_type": "code",
   "execution_count": null,
   "id": "e07addd4",
   "metadata": {},
   "outputs": [],
   "source": []
  }
 ],
 "metadata": {
  "kernelspec": {
   "display_name": "Python 3 (ipykernel)",
   "language": "python",
   "name": "python3"
  },
  "language_info": {
   "codemirror_mode": {
    "name": "ipython",
    "version": 3
   },
   "file_extension": ".py",
   "mimetype": "text/x-python",
   "name": "python",
   "nbconvert_exporter": "python",
   "pygments_lexer": "ipython3",
   "version": "3.9.13"
  }
 },
 "nbformat": 4,
 "nbformat_minor": 5
}
