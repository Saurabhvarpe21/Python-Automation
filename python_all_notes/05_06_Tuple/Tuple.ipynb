{
 "cells": [
  {
   "cell_type": "markdown",
   "id": "1139c7c9",
   "metadata": {},
   "source": [
    "## * Operator in list and Tuple"
   ]
  },
  {
   "cell_type": "code",
   "execution_count": 1,
   "id": "2c4caa35",
   "metadata": {},
   "outputs": [
    {
     "data": {
      "text/plain": [
       "'pythonpythonpythonpythonpython'"
      ]
     },
     "execution_count": 1,
     "metadata": {},
     "output_type": "execute_result"
    }
   ],
   "source": [
    "string = 'python'\n",
    "string * 5"
   ]
  },
  {
   "cell_type": "code",
   "execution_count": 2,
   "id": "934fad80",
   "metadata": {},
   "outputs": [
    {
     "data": {
      "text/plain": [
       "'python python python python python '"
      ]
     },
     "execution_count": 2,
     "metadata": {},
     "output_type": "execute_result"
    }
   ],
   "source": [
    "string = 'python '\n",
    "string * 5"
   ]
  },
  {
   "cell_type": "code",
   "execution_count": 3,
   "id": "406b55d9",
   "metadata": {},
   "outputs": [
    {
     "data": {
      "text/plain": [
       "[20, 3, 4, 5, 20, 3, 4, 5, 20, 3, 4, 5]"
      ]
     },
     "execution_count": 3,
     "metadata": {},
     "output_type": "execute_result"
    }
   ],
   "source": [
    "list1 = [20,3,4,5]\n",
    "list1 * 3"
   ]
  },
  {
   "cell_type": "code",
   "execution_count": 4,
   "id": "cc3a22dd",
   "metadata": {},
   "outputs": [
    {
     "data": {
      "text/plain": [
       "(20, 3, 4, 5, 20, 3, 4, 5, 20, 3, 4, 5)"
      ]
     },
     "execution_count": 4,
     "metadata": {},
     "output_type": "execute_result"
    }
   ],
   "source": [
    "tuple1 = (20, 3,4,5)\n",
    "tuple1 * 3"
   ]
  },
  {
   "cell_type": "markdown",
   "id": "fbfc1f9d",
   "metadata": {},
   "source": [
    "## Sorted"
   ]
  },
  {
   "cell_type": "code",
   "execution_count": 5,
   "id": "432513ef",
   "metadata": {},
   "outputs": [
    {
     "name": "stdout",
     "output_type": "stream",
     "text": [
      "[20, 3, 4, 5]\n",
      "[3, 4, 5, 20]\n"
     ]
    }
   ],
   "source": [
    "list1 = [20,3,4,5]\n",
    "list2 = sorted(list1)\n",
    "print(list1)\n",
    "print(list2)"
   ]
  },
  {
   "cell_type": "code",
   "execution_count": 6,
   "id": "85047885",
   "metadata": {},
   "outputs": [
    {
     "name": "stdout",
     "output_type": "stream",
     "text": [
      "(20, 3, 4, 5)\n",
      "[3, 4, 5, 20]\n"
     ]
    }
   ],
   "source": [
    "tuple1 = (20,3,4,5)\n",
    "tuple2 = sorted(tuple1)\n",
    "print(tuple1)\n",
    "print(tuple2)"
   ]
  },
  {
   "cell_type": "code",
   "execution_count": 7,
   "id": "c0b8c7a6",
   "metadata": {},
   "outputs": [
    {
     "name": "stdout",
     "output_type": "stream",
     "text": [
      "(20, 3, 4, 5)\n",
      "(3, 4, 5, 20)\n"
     ]
    }
   ],
   "source": [
    "tuple1 = (20,3,4,5)\n",
    "tuple2 = tuple(sorted(tuple1))\n",
    "print(tuple1)\n",
    "print(tuple2)"
   ]
  },
  {
   "cell_type": "code",
   "execution_count": 8,
   "id": "d5398ebb",
   "metadata": {},
   "outputs": [
    {
     "name": "stdout",
     "output_type": "stream",
     "text": [
      "(20, 3, 4, 5)\n",
      "(20, 5, 4, 3)\n"
     ]
    }
   ],
   "source": [
    "tuple1 = (20,3,4,5)\n",
    "tuple2 = tuple(sorted(tuple1,reverse=True))\n",
    "print(tuple1)\n",
    "print(tuple2)"
   ]
  },
  {
   "cell_type": "code",
   "execution_count": 9,
   "id": "8fe85171",
   "metadata": {},
   "outputs": [
    {
     "name": "stdout",
     "output_type": "stream",
     "text": [
      "(20, 3, 4, 5)\n",
      "(3, 4, 5, 20)\n"
     ]
    }
   ],
   "source": [
    "tuple1 = (20,3,4,5)\n",
    "tuple2 = tuple(sorted(tuple1,reverse=False))\n",
    "print(tuple1)\n",
    "print(tuple2)"
   ]
  },
  {
   "cell_type": "markdown",
   "id": "0aafa83f",
   "metadata": {},
   "source": [
    "## reversed()"
   ]
  },
  {
   "cell_type": "code",
   "execution_count": 10,
   "id": "60768f2e",
   "metadata": {},
   "outputs": [
    {
     "name": "stdout",
     "output_type": "stream",
     "text": [
      "(20, 3, 4, 5)\n",
      "<reversed object at 0x00000290C9B35F40>\n"
     ]
    }
   ],
   "source": [
    "tuple1 = (20,3,4,5)\n",
    "tuple2 = reversed(tuple1)\n",
    "print(tuple1)\n",
    "print(tuple2)"
   ]
  },
  {
   "cell_type": "code",
   "execution_count": 11,
   "id": "50a73443",
   "metadata": {},
   "outputs": [
    {
     "name": "stdout",
     "output_type": "stream",
     "text": [
      "(20, 3, 4, 5)\n",
      "(5, 4, 3, 20)\n"
     ]
    }
   ],
   "source": [
    "tuple1 = (20,3,4,5)\n",
    "tuple2 = tuple(reversed(tuple1))\n",
    "print(tuple1)\n",
    "print(tuple2)"
   ]
  },
  {
   "cell_type": "code",
   "execution_count": 12,
   "id": "4e8ef01b",
   "metadata": {},
   "outputs": [
    {
     "data": {
      "text/plain": [
       "6"
      ]
     },
     "execution_count": 12,
     "metadata": {},
     "output_type": "execute_result"
    }
   ],
   "source": [
    "t1 = (5,7,9,6,4,5)\n",
    "len(t1)"
   ]
  },
  {
   "cell_type": "code",
   "execution_count": 13,
   "id": "e7784787",
   "metadata": {},
   "outputs": [
    {
     "data": {
      "text/plain": [
       "4"
      ]
     },
     "execution_count": 13,
     "metadata": {},
     "output_type": "execute_result"
    }
   ],
   "source": [
    "t1 = (5,7,9,6,4,5)\n",
    "min(t1)"
   ]
  },
  {
   "cell_type": "code",
   "execution_count": 14,
   "id": "280d1b79",
   "metadata": {},
   "outputs": [
    {
     "data": {
      "text/plain": [
       "9"
      ]
     },
     "execution_count": 14,
     "metadata": {},
     "output_type": "execute_result"
    }
   ],
   "source": [
    "t1 = (5,7,9,6,4,5)\n",
    "max(t1)"
   ]
  },
  {
   "cell_type": "code",
   "execution_count": 15,
   "id": "35df4d82",
   "metadata": {},
   "outputs": [
    {
     "data": {
      "text/plain": [
       "36"
      ]
     },
     "execution_count": 15,
     "metadata": {},
     "output_type": "execute_result"
    }
   ],
   "source": [
    "t1 = (5,7,9,6,4,5)\n",
    "sum(t1)"
   ]
  },
  {
   "cell_type": "code",
   "execution_count": null,
   "id": "e3c3fddc",
   "metadata": {},
   "outputs": [],
   "source": []
  },
  {
   "cell_type": "code",
   "execution_count": null,
   "id": "918070ca",
   "metadata": {},
   "outputs": [],
   "source": []
  },
  {
   "cell_type": "code",
   "execution_count": null,
   "id": "d63aa766",
   "metadata": {},
   "outputs": [],
   "source": []
  },
  {
   "cell_type": "code",
   "execution_count": null,
   "id": "468f3aa7",
   "metadata": {},
   "outputs": [],
   "source": []
  },
  {
   "cell_type": "code",
   "execution_count": null,
   "id": "e0e5b107",
   "metadata": {},
   "outputs": [],
   "source": []
  },
  {
   "cell_type": "code",
   "execution_count": null,
   "id": "5f01b4f5",
   "metadata": {},
   "outputs": [],
   "source": []
  },
  {
   "cell_type": "code",
   "execution_count": null,
   "id": "37416426",
   "metadata": {},
   "outputs": [],
   "source": []
  },
  {
   "cell_type": "code",
   "execution_count": null,
   "id": "cfb1b974",
   "metadata": {},
   "outputs": [],
   "source": []
  },
  {
   "cell_type": "code",
   "execution_count": null,
   "id": "503f9d2c",
   "metadata": {},
   "outputs": [],
   "source": []
  },
  {
   "cell_type": "code",
   "execution_count": null,
   "id": "59fc205a",
   "metadata": {},
   "outputs": [],
   "source": []
  },
  {
   "cell_type": "code",
   "execution_count": null,
   "id": "d8406bd4",
   "metadata": {},
   "outputs": [],
   "source": []
  },
  {
   "cell_type": "code",
   "execution_count": null,
   "id": "41878271",
   "metadata": {},
   "outputs": [],
   "source": []
  },
  {
   "cell_type": "code",
   "execution_count": null,
   "id": "c39cf128",
   "metadata": {},
   "outputs": [],
   "source": []
  },
  {
   "cell_type": "code",
   "execution_count": null,
   "id": "91cd55d1",
   "metadata": {},
   "outputs": [],
   "source": []
  },
  {
   "cell_type": "code",
   "execution_count": null,
   "id": "26febd45",
   "metadata": {},
   "outputs": [],
   "source": []
  },
  {
   "cell_type": "code",
   "execution_count": null,
   "id": "f9209a53",
   "metadata": {},
   "outputs": [],
   "source": []
  },
  {
   "cell_type": "code",
   "execution_count": null,
   "id": "b44b78ac",
   "metadata": {},
   "outputs": [],
   "source": []
  }
 ],
 "metadata": {
  "kernelspec": {
   "display_name": "Python 3 (ipykernel)",
   "language": "python",
   "name": "python3"
  },
  "language_info": {
   "codemirror_mode": {
    "name": "ipython",
    "version": 3
   },
   "file_extension": ".py",
   "mimetype": "text/x-python",
   "name": "python",
   "nbconvert_exporter": "python",
   "pygments_lexer": "ipython3",
   "version": "3.9.13"
  }
 },
 "nbformat": 4,
 "nbformat_minor": 5
}
