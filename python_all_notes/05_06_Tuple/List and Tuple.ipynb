{
 "cells": [
  {
   "cell_type": "markdown",
   "id": "c3181602",
   "metadata": {},
   "source": [
    "## Diffrence between tuple and list"
   ]
  },
  {
   "cell_type": "markdown",
   "id": "cbef0162",
   "metadata": {},
   "source": [
    "## 1. List Functions"
   ]
  },
  {
   "cell_type": "code",
   "execution_count": null,
   "id": "85289d34",
   "metadata": {},
   "outputs": [],
   "source": [
    "1. append()\n",
    "2. extend()\n",
    "3. insert()\n",
    "4. remove()\n",
    "5. pop()\n",
    "6. clear()\n",
    "7. del \n",
    "8. sort()\n",
    "9. reverse()\n",
    "10. index()\n",
    "11. count()\n",
    "12. copy()\n",
    "13. join()"
   ]
  },
  {
   "cell_type": "markdown",
   "id": "ed139b05",
   "metadata": {},
   "source": [
    "## 2. Tuple Functions"
   ]
  },
  {
   "cell_type": "code",
   "execution_count": null,
   "id": "a9332ad6",
   "metadata": {},
   "outputs": [],
   "source": [
    "1. index()\n",
    "2. count()"
   ]
  },
  {
   "cell_type": "markdown",
   "id": "e7a86bc6",
   "metadata": {},
   "source": [
    "## Built in Functions"
   ]
  },
  {
   "cell_type": "code",
   "execution_count": null,
   "id": "99e61b5a",
   "metadata": {},
   "outputs": [],
   "source": [
    "1. sorted()\n",
    "2. reversed()\n",
    "3. len()\n",
    "4. range()\n",
    "5. min()\n",
    "6. max()\n",
    "7. sum()"
   ]
  },
  {
   "cell_type": "markdown",
   "id": "8d47acb1",
   "metadata": {},
   "source": [
    "## List"
   ]
  },
  {
   "cell_type": "code",
   "execution_count": null,
   "id": "6fdf9606",
   "metadata": {},
   "outputs": [],
   "source": [
    "1. Mutable(changable)  >> add , update, remove\n",
    "2. Ordered\n",
    "3. Allow duplicate items\n",
    "4. Enclosed by []\n",
    "5. Variable length\n",
    "6. More functional \n",
    "7. Lists are slower than tuple\n",
    "8. It requires more memory\n",
    "9. We can store multiple datatype : (int, float, str, list, tuple, dict, etc)"
   ]
  },
  {
   "cell_type": "markdown",
   "id": "da8ebb28",
   "metadata": {},
   "source": [
    "## Tuple"
   ]
  },
  {
   "cell_type": "code",
   "execution_count": null,
   "id": "a0c1301c",
   "metadata": {},
   "outputs": [],
   "source": [
    "1. Immutable (Unchangable)\n",
    "2. Ordered\n",
    "3. Allow duplicate items\n",
    "4. Enclosed by ()\n",
    "5. fixed length\n",
    "6. Less functional\n",
    "7. Tuple is faster than list\n",
    "8. It requires less memory\n",
    "9. We can store multiple datatype : (int, float, str, list, tuple, dict, etc)"
   ]
  },
  {
   "cell_type": "code",
   "execution_count": 1,
   "id": "b1dace1c",
   "metadata": {},
   "outputs": [
    {
     "name": "stdout",
     "output_type": "stream",
     "text": [
      "10\n"
     ]
    }
   ],
   "source": [
    "l1 = [1,5,4,1,2,3,7,1,5,4]\n",
    "print(len(l1))"
   ]
  },
  {
   "cell_type": "code",
   "execution_count": 2,
   "id": "5eb415d9",
   "metadata": {},
   "outputs": [
    {
     "data": {
      "text/plain": [
       "{1, 2, 3, 4, 5, 7}"
      ]
     },
     "execution_count": 2,
     "metadata": {},
     "output_type": "execute_result"
    }
   ],
   "source": [
    "l2 = set(l1)\n",
    "l2"
   ]
  },
  {
   "cell_type": "code",
   "execution_count": 3,
   "id": "52ff7dd8",
   "metadata": {},
   "outputs": [
    {
     "data": {
      "text/plain": [
       "6"
      ]
     },
     "execution_count": 3,
     "metadata": {},
     "output_type": "execute_result"
    }
   ],
   "source": [
    "len(l2)"
   ]
  },
  {
   "cell_type": "code",
   "execution_count": null,
   "id": "1ad5d970",
   "metadata": {},
   "outputs": [],
   "source": []
  },
  {
   "cell_type": "code",
   "execution_count": null,
   "id": "ae50cab2",
   "metadata": {},
   "outputs": [],
   "source": []
  },
  {
   "cell_type": "code",
   "execution_count": null,
   "id": "e2300ca0",
   "metadata": {},
   "outputs": [],
   "source": []
  },
  {
   "cell_type": "code",
   "execution_count": null,
   "id": "fed4fc9e",
   "metadata": {},
   "outputs": [],
   "source": []
  }
 ],
 "metadata": {
  "kernelspec": {
   "display_name": "Python 3 (ipykernel)",
   "language": "python",
   "name": "python3"
  },
  "language_info": {
   "codemirror_mode": {
    "name": "ipython",
    "version": 3
   },
   "file_extension": ".py",
   "mimetype": "text/x-python",
   "name": "python",
   "nbconvert_exporter": "python",
   "pygments_lexer": "ipython3",
   "version": "3.9.13"
  }
 },
 "nbformat": 4,
 "nbformat_minor": 5
}
