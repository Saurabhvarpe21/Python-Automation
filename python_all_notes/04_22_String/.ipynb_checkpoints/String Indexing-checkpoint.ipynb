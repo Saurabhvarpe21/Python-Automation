{
 "cells": [
  {
   "cell_type": "markdown",
   "id": "f069facc",
   "metadata": {},
   "source": [
    "# String Indexing"
   ]
  },
  {
   "cell_type": "code",
   "execution_count": null,
   "id": "5bc2688a",
   "metadata": {},
   "outputs": [],
   "source": [
    "Indexing will start from 0\n",
    "[] is used to access char from string"
   ]
  },
  {
   "cell_type": "code",
   "execution_count": 6,
   "id": "71554912",
   "metadata": {},
   "outputs": [
    {
     "ename": "IndexError",
     "evalue": "string index out of range",
     "output_type": "error",
     "traceback": [
      "\u001b[1;31m---------------------------------------------------------------------------\u001b[0m",
      "\u001b[1;31mIndexError\u001b[0m                                Traceback (most recent call last)",
      "\u001b[1;32m<ipython-input-6-80b75ac043db>\u001b[0m in \u001b[0;36m<module>\u001b[1;34m\u001b[0m\n\u001b[0;32m      6\u001b[0m \u001b[0mstring\u001b[0m\u001b[1;33m[\u001b[0m\u001b[1;36m4\u001b[0m\u001b[1;33m]\u001b[0m\u001b[1;33m\u001b[0m\u001b[1;33m\u001b[0m\u001b[0m\n\u001b[0;32m      7\u001b[0m \u001b[0mstring\u001b[0m\u001b[1;33m[\u001b[0m\u001b[1;36m5\u001b[0m\u001b[1;33m]\u001b[0m\u001b[1;33m\u001b[0m\u001b[1;33m\u001b[0m\u001b[0m\n\u001b[1;32m----> 8\u001b[1;33m \u001b[0mstring\u001b[0m\u001b[1;33m[\u001b[0m\u001b[1;36m6\u001b[0m\u001b[1;33m]\u001b[0m\u001b[1;33m\u001b[0m\u001b[1;33m\u001b[0m\u001b[0m\n\u001b[0m",
      "\u001b[1;31mIndexError\u001b[0m: string index out of range"
     ]
    }
   ],
   "source": [
    "string = 'python'\n",
    "string[0]  # 'p'\n",
    "string[1]  # 'y'\n",
    "string[2]  # 't'\n",
    "string[3]  # 'h'\n",
    "string[4]  # 'o'\n",
    "string[5]  # 'n'\n"
   ]
  },
  {
   "cell_type": "markdown",
   "id": "bc7823c7",
   "metadata": {},
   "source": [
    "## Length of string"
   ]
  },
  {
   "cell_type": "code",
   "execution_count": 3,
   "id": "f61c5f38",
   "metadata": {},
   "outputs": [
    {
     "data": {
      "text/plain": [
       "6"
      ]
     },
     "execution_count": 3,
     "metadata": {},
     "output_type": "execute_result"
    }
   ],
   "source": [
    "string = 'python'\n",
    "len(string)"
   ]
  },
  {
   "cell_type": "code",
   "execution_count": 7,
   "id": "fb3478d2",
   "metadata": {},
   "outputs": [
    {
     "data": {
      "text/plain": [
       "12"
      ]
     },
     "execution_count": 7,
     "metadata": {},
     "output_type": "execute_result"
    }
   ],
   "source": [
    "string = 'python class'\n",
    "len(string)"
   ]
  },
  {
   "cell_type": "code",
   "execution_count": 8,
   "id": "701f325d",
   "metadata": {},
   "outputs": [
    {
     "data": {
      "text/plain": [
       "' '"
      ]
     },
     "execution_count": 8,
     "metadata": {},
     "output_type": "execute_result"
    }
   ],
   "source": [
    "string[6]"
   ]
  },
  {
   "cell_type": "code",
   "execution_count": 9,
   "id": "dbbb8441",
   "metadata": {},
   "outputs": [
    {
     "data": {
      "text/plain": [
       "'c'"
      ]
     },
     "execution_count": 9,
     "metadata": {},
     "output_type": "execute_result"
    }
   ],
   "source": [
    "string[7]"
   ]
  },
  {
   "cell_type": "code",
   "execution_count": 10,
   "id": "e88a3222",
   "metadata": {},
   "outputs": [
    {
     "ename": "IndexError",
     "evalue": "string index out of range",
     "output_type": "error",
     "traceback": [
      "\u001b[1;31m---------------------------------------------------------------------------\u001b[0m",
      "\u001b[1;31mIndexError\u001b[0m                                Traceback (most recent call last)",
      "\u001b[1;32m<ipython-input-10-49ebec86f303>\u001b[0m in \u001b[0;36m<module>\u001b[1;34m\u001b[0m\n\u001b[1;32m----> 1\u001b[1;33m \u001b[0mstring\u001b[0m\u001b[1;33m[\u001b[0m\u001b[1;36m12\u001b[0m\u001b[1;33m]\u001b[0m\u001b[1;33m\u001b[0m\u001b[1;33m\u001b[0m\u001b[0m\n\u001b[0m",
      "\u001b[1;31mIndexError\u001b[0m: string index out of range"
     ]
    }
   ],
   "source": [
    "string[12]"
   ]
  },
  {
   "cell_type": "code",
   "execution_count": 11,
   "id": "799dbefd",
   "metadata": {},
   "outputs": [
    {
     "data": {
      "text/plain": [
       "'s'"
      ]
     },
     "execution_count": 11,
     "metadata": {},
     "output_type": "execute_result"
    }
   ],
   "source": [
    "string[len(string)-1]"
   ]
  },
  {
   "cell_type": "code",
   "execution_count": null,
   "id": "23a20a1a",
   "metadata": {},
   "outputs": [],
   "source": [
    "p  y  t  h  o  n\n",
    "0  1  2  3  4  5"
   ]
  },
  {
   "cell_type": "markdown",
   "id": "fdb4c826",
   "metadata": {},
   "source": [
    "## Negative Indexing"
   ]
  },
  {
   "cell_type": "code",
   "execution_count": null,
   "id": "b27df194",
   "metadata": {},
   "outputs": [],
   "source": [
    "p  y  t  h  o  n\n",
    "0  1  2  3  4  5\n",
    "-6 -5 -4 -3 -2 -1"
   ]
  },
  {
   "cell_type": "code",
   "execution_count": 12,
   "id": "06a1bd96",
   "metadata": {},
   "outputs": [
    {
     "data": {
      "text/plain": [
       "'n'"
      ]
     },
     "execution_count": 12,
     "metadata": {},
     "output_type": "execute_result"
    }
   ],
   "source": [
    "string = 'python'\n",
    "string[-1]"
   ]
  },
  {
   "cell_type": "code",
   "execution_count": 14,
   "id": "2ec230e8",
   "metadata": {},
   "outputs": [
    {
     "data": {
      "text/plain": [
       "'h'"
      ]
     },
     "execution_count": 14,
     "metadata": {},
     "output_type": "execute_result"
    }
   ],
   "source": [
    "string[3]\n",
    "string[-3]"
   ]
  },
  {
   "cell_type": "code",
   "execution_count": 15,
   "id": "09e26dbd",
   "metadata": {},
   "outputs": [
    {
     "data": {
      "text/plain": [
       "16"
      ]
     },
     "execution_count": 15,
     "metadata": {},
     "output_type": "execute_result"
    }
   ],
   "source": [
    "str1 = 'Machine Learning'\n",
    "len(str1)"
   ]
  },
  {
   "cell_type": "code",
   "execution_count": 17,
   "id": "3f5ffdcb",
   "metadata": {},
   "outputs": [
    {
     "data": {
      "text/plain": [
       "'e'"
      ]
     },
     "execution_count": 17,
     "metadata": {},
     "output_type": "execute_result"
    }
   ],
   "source": [
    "str1[6]\n",
    "str1[-10]"
   ]
  },
  {
   "cell_type": "code",
   "execution_count": 18,
   "id": "2a73c683",
   "metadata": {},
   "outputs": [
    {
     "data": {
      "text/plain": [
       "17"
      ]
     },
     "execution_count": 18,
     "metadata": {},
     "output_type": "execute_result"
    }
   ],
   "source": [
    "str1 = 'Machine \\tLearning'\n",
    "len(str1)"
   ]
  },
  {
   "cell_type": "markdown",
   "id": "45e56f2e",
   "metadata": {},
   "source": [
    "## Python Slicing"
   ]
  },
  {
   "cell_type": "code",
   "execution_count": null,
   "id": "9650f26f",
   "metadata": {},
   "outputs": [],
   "source": [
    "string[start_index(include) : end_index(exclude)]     end_index(exclude) >> end_index -1\n",
    "\n",
    "start_index  >> default value is 0\n",
    "end_index    >> len(string)-1"
   ]
  },
  {
   "cell_type": "code",
   "execution_count": 19,
   "id": "205c3824",
   "metadata": {},
   "outputs": [
    {
     "data": {
      "text/plain": [
       "16"
      ]
     },
     "execution_count": 19,
     "metadata": {},
     "output_type": "execute_result"
    }
   ],
   "source": [
    "str1 = 'Machine Learning'\n",
    "len(str1)"
   ]
  },
  {
   "cell_type": "code",
   "execution_count": 20,
   "id": "68d7afa7",
   "metadata": {},
   "outputs": [
    {
     "data": {
      "text/plain": [
       "'chin'"
      ]
     },
     "execution_count": 20,
     "metadata": {},
     "output_type": "execute_result"
    }
   ],
   "source": [
    "str1[2:6]   # 2,3,4,5"
   ]
  },
  {
   "cell_type": "code",
   "execution_count": 21,
   "id": "a97ec54b",
   "metadata": {},
   "outputs": [
    {
     "data": {
      "text/plain": [
       "'chine'"
      ]
     },
     "execution_count": 21,
     "metadata": {},
     "output_type": "execute_result"
    }
   ],
   "source": [
    "str1[2:7]   # 2,3,4,5,6"
   ]
  },
  {
   "cell_type": "code",
   "execution_count": 22,
   "id": "d2038013",
   "metadata": {},
   "outputs": [
    {
     "data": {
      "text/plain": [
       "'Mac'"
      ]
     },
     "execution_count": 22,
     "metadata": {},
     "output_type": "execute_result"
    }
   ],
   "source": [
    "str1[0:3]   # 0,1,2 >> 'Mac'"
   ]
  },
  {
   "cell_type": "code",
   "execution_count": 23,
   "id": "9584edd9",
   "metadata": {},
   "outputs": [
    {
     "data": {
      "text/plain": [
       "'Mac'"
      ]
     },
     "execution_count": 23,
     "metadata": {},
     "output_type": "execute_result"
    }
   ],
   "source": [
    "str1[:3]   # 0,1,2"
   ]
  },
  {
   "cell_type": "code",
   "execution_count": 24,
   "id": "799e2b3d",
   "metadata": {},
   "outputs": [
    {
     "data": {
      "text/plain": [
       "''"
      ]
     },
     "execution_count": 24,
     "metadata": {},
     "output_type": "execute_result"
    }
   ],
   "source": [
    "str1[6:3]"
   ]
  },
  {
   "cell_type": "code",
   "execution_count": 28,
   "id": "a07b1d63",
   "metadata": {},
   "outputs": [
    {
     "name": "stdout",
     "output_type": "stream",
     "text": [
      "Length of String is : 27\n"
     ]
    },
    {
     "data": {
      "text/plain": [
       "'ing'"
      ]
     },
     "execution_count": 28,
     "metadata": {},
     "output_type": "execute_result"
    }
   ],
   "source": [
    "string = 'Python and Machine Learning'\n",
    "\n",
    "print('Length of String is :', len(string))\n",
    "\n",
    "string[20:25]   # 20,21,22,23,24\n",
    "string[24:27]\n",
    "string[24:28]  # 24,25,26"
   ]
  },
  {
   "cell_type": "code",
   "execution_count": 29,
   "id": "28ed715b",
   "metadata": {},
   "outputs": [
    {
     "name": "stdout",
     "output_type": "stream",
     "text": [
      "Length of String is : 27\n"
     ]
    },
    {
     "data": {
      "text/plain": [
       "'Pytho'"
      ]
     },
     "execution_count": 29,
     "metadata": {},
     "output_type": "execute_result"
    }
   ],
   "source": [
    "string = 'Python and Machine Learning'\n",
    "\n",
    "print('Length of String is :', len(string))\n",
    "\n",
    "string[0:5]"
   ]
  },
  {
   "cell_type": "code",
   "execution_count": 30,
   "id": "babdba6c",
   "metadata": {},
   "outputs": [
    {
     "data": {
      "text/plain": [
       "'Pytho'"
      ]
     },
     "execution_count": 30,
     "metadata": {},
     "output_type": "execute_result"
    }
   ],
   "source": [
    "string[:5]"
   ]
  },
  {
   "cell_type": "code",
   "execution_count": 32,
   "id": "b90b2d38",
   "metadata": {},
   "outputs": [
    {
     "data": {
      "text/plain": [
       "'earning'"
      ]
     },
     "execution_count": 32,
     "metadata": {},
     "output_type": "execute_result"
    }
   ],
   "source": [
    "string[20:]"
   ]
  },
  {
   "cell_type": "code",
   "execution_count": 33,
   "id": "dc8ed42c",
   "metadata": {},
   "outputs": [
    {
     "data": {
      "text/plain": [
       "'Python and Machine Learning'"
      ]
     },
     "execution_count": 33,
     "metadata": {},
     "output_type": "execute_result"
    }
   ],
   "source": [
    "string[:]"
   ]
  },
  {
   "cell_type": "markdown",
   "id": "363915ff",
   "metadata": {},
   "source": [
    "## Negative Slicing"
   ]
  },
  {
   "cell_type": "code",
   "execution_count": null,
   "id": "5db1086f",
   "metadata": {},
   "outputs": [],
   "source": [
    "    p  y  t  h  o  n\n",
    "    0  1  2  3  4  5   Positive Indexing\n",
    "   -6 -5 -4 -3 -2 -1   Negative Indexing"
   ]
  },
  {
   "cell_type": "code",
   "execution_count": 34,
   "id": "28fcf0ef",
   "metadata": {},
   "outputs": [
    {
     "data": {
      "text/plain": [
       "'yth'"
      ]
     },
     "execution_count": 34,
     "metadata": {},
     "output_type": "execute_result"
    }
   ],
   "source": [
    "string = 'python'\n",
    "string[1:4]  # 1,2,3\n"
   ]
  },
  {
   "cell_type": "code",
   "execution_count": 35,
   "id": "bf9a9727",
   "metadata": {},
   "outputs": [
    {
     "data": {
      "text/plain": [
       "'yth'"
      ]
     },
     "execution_count": 35,
     "metadata": {},
     "output_type": "execute_result"
    }
   ],
   "source": [
    "string[-5:-2]   # -5,-4,-3"
   ]
  },
  {
   "cell_type": "code",
   "execution_count": 37,
   "id": "f9b89fcc",
   "metadata": {},
   "outputs": [
    {
     "data": {
      "text/plain": [
       "'e Learning'"
      ]
     },
     "execution_count": 37,
     "metadata": {},
     "output_type": "execute_result"
    }
   ],
   "source": [
    "# How to print last 10 char of string\n",
    "str1 = 'Python and Machine Learning'\n",
    "str1[-10:]"
   ]
  },
  {
   "cell_type": "code",
   "execution_count": 39,
   "id": "af3529f2",
   "metadata": {},
   "outputs": [
    {
     "data": {
      "text/plain": [
       "'python'"
      ]
     },
     "execution_count": 39,
     "metadata": {},
     "output_type": "execute_result"
    }
   ],
   "source": [
    "str2 = 'python'\n",
    "str2[-6:]\n",
    "str2[:]"
   ]
  },
  {
   "cell_type": "code",
   "execution_count": 40,
   "id": "8516f1ca",
   "metadata": {},
   "outputs": [
    {
     "data": {
      "text/plain": [
       "279"
      ]
     },
     "execution_count": 40,
     "metadata": {},
     "output_type": "execute_result"
    }
   ],
   "source": [
    "machine_learning = '''Machine learning (ML) is a type of artificial intelligence (AI) that \n",
    "allows software applications to become more accurate at predicting outcomes without being \n",
    "explicitly programmed to do so. Machine learning algorithms use historical data as input \n",
    "to predict new output values'''\n",
    "len(machine_learning)"
   ]
  },
  {
   "cell_type": "code",
   "execution_count": 42,
   "id": "6cc3ecdb",
   "metadata": {},
   "outputs": [
    {
     "data": {
      "text/plain": [
       "'AI) that \\nallows software applications t'"
      ]
     },
     "execution_count": 42,
     "metadata": {},
     "output_type": "execute_result"
    }
   ],
   "source": [
    "machine_learning[60:100]"
   ]
  },
  {
   "cell_type": "code",
   "execution_count": 43,
   "id": "8d1af2d0",
   "metadata": {},
   "outputs": [
    {
     "data": {
      "text/plain": [
       "''"
      ]
     },
     "execution_count": 43,
     "metadata": {},
     "output_type": "execute_result"
    }
   ],
   "source": [
    "str2 = 'python'\n",
    "str2[-2:-6]"
   ]
  },
  {
   "cell_type": "code",
   "execution_count": 44,
   "id": "29efa4a3",
   "metadata": {},
   "outputs": [
    {
     "data": {
      "text/plain": [
       "''"
      ]
     },
     "execution_count": 44,
     "metadata": {},
     "output_type": "execute_result"
    }
   ],
   "source": [
    "str2[5:1]"
   ]
  },
  {
   "cell_type": "code",
   "execution_count": 50,
   "id": "da2d8c27",
   "metadata": {},
   "outputs": [
    {
     "name": "stdout",
     "output_type": "stream",
     "text": [
      "tho\n",
      "tho\n",
      "tho\n",
      "tho\n"
     ]
    }
   ],
   "source": [
    "str2 = 'python'\n",
    "print(str2[2:5])\n",
    "print(str2[-4:-1])\n",
    "print(str2[-4:5])\n",
    "print(str2[2:-1])"
   ]
  },
  {
   "cell_type": "code",
   "execution_count": 4,
   "id": "1cf0eb17",
   "metadata": {},
   "outputs": [
    {
     "name": "stdout",
     "output_type": "stream",
     "text": [
      "lasC\n",
      "clas\n",
      "clasC\n",
      "las\n"
     ]
    }
   ],
   "source": [
    "a = 'velocityclass'\n",
    "print(a[4:8])\n",
    "print(a[-9:-5])\n",
    "print(a[-9:8])\n",
    "print(a[4:-5])"
   ]
  },
  {
   "cell_type": "code",
   "execution_count": 56,
   "id": "cdf9dbaa",
   "metadata": {},
   "outputs": [
    {
     "data": {
      "text/plain": [
       "'c'"
      ]
     },
     "execution_count": 56,
     "metadata": {},
     "output_type": "execute_result"
    }
   ],
   "source": [
    "a[8]"
   ]
  },
  {
   "cell_type": "code",
   "execution_count": null,
   "id": "5ba6974b",
   "metadata": {},
   "outputs": [],
   "source": [
    "velocity     NMD classCLASS"
   ]
  }
 ],
 "metadata": {
  "kernelspec": {
   "display_name": "Python 3 (ipykernel)",
   "language": "python",
   "name": "python3"
  },
  "language_info": {
   "codemirror_mode": {
    "name": "ipython",
    "version": 3
   },
   "file_extension": ".py",
   "mimetype": "text/x-python",
   "name": "python",
   "nbconvert_exporter": "python",
   "pygments_lexer": "ipython3",
   "version": "3.11.3"
  }
 },
 "nbformat": 4,
 "nbformat_minor": 5
}
