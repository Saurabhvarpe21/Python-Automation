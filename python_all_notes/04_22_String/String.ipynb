{
 "cells": [
  {
   "cell_type": "markdown",
   "id": "ff4209b2",
   "metadata": {},
   "source": [
    "# String"
   ]
  },
  {
   "cell_type": "code",
   "execution_count": null,
   "id": "cc0845fa",
   "metadata": {},
   "outputs": [],
   "source": [
    "String is a collection of characters surrounded by single qoutes, double qoutes or triple qoutes"
   ]
  },
  {
   "cell_type": "code",
   "execution_count": null,
   "id": "0924e25c",
   "metadata": {},
   "outputs": [],
   "source": [
    "'hi' >> single qoutes\n",
    "\"hi\"  >> double qoutes\n",
    "'''hi''' >> triple qoutes\n",
    "\"\"\"hi\"\"\" >>"
   ]
  },
  {
   "cell_type": "code",
   "execution_count": 1,
   "id": "5a0994f9",
   "metadata": {},
   "outputs": [
    {
     "data": {
      "text/plain": [
       "'Python and Machine Learning'"
      ]
     },
     "execution_count": 1,
     "metadata": {},
     "output_type": "execute_result"
    }
   ],
   "source": [
    "s1 = 'Python and Machine Learning'\n",
    "s1"
   ]
  },
  {
   "cell_type": "code",
   "execution_count": 3,
   "id": "7990ad1b",
   "metadata": {},
   "outputs": [
    {
     "ename": "SyntaxError",
     "evalue": "EOL while scanning string literal (<ipython-input-3-3e9ee3d28af3>, line 1)",
     "output_type": "error",
     "traceback": [
      "\u001b[1;36m  File \u001b[1;32m\"<ipython-input-3-3e9ee3d28af3>\"\u001b[1;36m, line \u001b[1;32m1\u001b[0m\n\u001b[1;33m    s1 = 'Python and Machine Learning\u001b[0m\n\u001b[1;37m                                     ^\u001b[0m\n\u001b[1;31mSyntaxError\u001b[0m\u001b[1;31m:\u001b[0m EOL while scanning string literal\n"
     ]
    }
   ],
   "source": [
    "s1 = 'Python and Machine Learning\n",
    "s1"
   ]
  },
  {
   "cell_type": "code",
   "execution_count": 4,
   "id": "45ff5be4",
   "metadata": {},
   "outputs": [
    {
     "data": {
      "text/plain": [
       "'Python and Machine Learning'"
      ]
     },
     "execution_count": 4,
     "metadata": {},
     "output_type": "execute_result"
    }
   ],
   "source": [
    "s1 = \"Python and Machine Learning\"\n",
    "s1"
   ]
  },
  {
   "cell_type": "code",
   "execution_count": 5,
   "id": "0d502e16",
   "metadata": {},
   "outputs": [
    {
     "data": {
      "text/plain": [
       "'Python and Machine Learning'"
      ]
     },
     "execution_count": 5,
     "metadata": {},
     "output_type": "execute_result"
    }
   ],
   "source": [
    "s1 = '''Python and Machine Learning'''\n",
    "s1"
   ]
  },
  {
   "cell_type": "code",
   "execution_count": 6,
   "id": "0562538d",
   "metadata": {},
   "outputs": [
    {
     "ename": "SyntaxError",
     "evalue": "EOL while scanning string literal (<ipython-input-6-fd53e992f20d>, line 1)",
     "output_type": "error",
     "traceback": [
      "\u001b[1;36m  File \u001b[1;32m\"<ipython-input-6-fd53e992f20d>\"\u001b[1;36m, line \u001b[1;32m1\u001b[0m\n\u001b[1;33m    s1 = 'Python and\u001b[0m\n\u001b[1;37m                     ^\u001b[0m\n\u001b[1;31mSyntaxError\u001b[0m\u001b[1;31m:\u001b[0m EOL while scanning string literal\n"
     ]
    }
   ],
   "source": [
    "s1 = 'Python and \n",
    "Machine Learning'\n",
    "s1"
   ]
  },
  {
   "cell_type": "code",
   "execution_count": 1,
   "id": "7792ee1b",
   "metadata": {},
   "outputs": [
    {
     "name": "stdout",
     "output_type": "stream",
     "text": [
      "Python and \n",
      "Machine Learning\n"
     ]
    }
   ],
   "source": [
    "s1 = '''Python and \n",
    "Machine Learning'''\n",
    "print(s1)"
   ]
  },
  {
   "cell_type": "code",
   "execution_count": 8,
   "id": "73c03f55",
   "metadata": {},
   "outputs": [
    {
     "name": "stdout",
     "output_type": "stream",
     "text": [
      "Python and \n",
      "Machine Learning\n"
     ]
    }
   ],
   "source": [
    "s1 = '''Python and \n",
    "Machine Learning'''\n",
    "print(s1)"
   ]
  },
  {
   "cell_type": "code",
   "execution_count": 9,
   "id": "ef343294",
   "metadata": {},
   "outputs": [
    {
     "ename": "SyntaxError",
     "evalue": "invalid syntax (<ipython-input-9-521763a72f15>, line 1)",
     "output_type": "error",
     "traceback": [
      "\u001b[1;36m  File \u001b[1;32m\"<ipython-input-9-521763a72f15>\"\u001b[1;36m, line \u001b[1;32m1\u001b[0m\n\u001b[1;33m    str1 = 'python's class'\u001b[0m\n\u001b[1;37m                   ^\u001b[0m\n\u001b[1;31mSyntaxError\u001b[0m\u001b[1;31m:\u001b[0m invalid syntax\n"
     ]
    }
   ],
   "source": [
    "str1 = 'python's class'\n",
    "str1"
   ]
  },
  {
   "cell_type": "code",
   "execution_count": 10,
   "id": "b74bbfda",
   "metadata": {},
   "outputs": [
    {
     "data": {
      "text/plain": [
       "'python\"s class'"
      ]
     },
     "execution_count": 10,
     "metadata": {},
     "output_type": "execute_result"
    }
   ],
   "source": [
    "str1 = 'python\"s class'\n",
    "str1"
   ]
  },
  {
   "cell_type": "code",
   "execution_count": 11,
   "id": "db0b3291",
   "metadata": {},
   "outputs": [
    {
     "ename": "SyntaxError",
     "evalue": "invalid syntax (<ipython-input-11-aeae68b3cd54>, line 1)",
     "output_type": "error",
     "traceback": [
      "\u001b[1;36m  File \u001b[1;32m\"<ipython-input-11-aeae68b3cd54>\"\u001b[1;36m, line \u001b[1;32m1\u001b[0m\n\u001b[1;33m    str1 = \"python\"s class\"\u001b[0m\n\u001b[1;37m                   ^\u001b[0m\n\u001b[1;31mSyntaxError\u001b[0m\u001b[1;31m:\u001b[0m invalid syntax\n"
     ]
    }
   ],
   "source": [
    "str1 = \"python\"s class\"\n",
    "str1"
   ]
  },
  {
   "cell_type": "code",
   "execution_count": 12,
   "id": "2a0a7fbb",
   "metadata": {},
   "outputs": [
    {
     "data": {
      "text/plain": [
       "\"python's class\""
      ]
     },
     "execution_count": 12,
     "metadata": {},
     "output_type": "execute_result"
    }
   ],
   "source": [
    "str1 = \"python's class\"\n",
    "str1"
   ]
  },
  {
   "cell_type": "code",
   "execution_count": 13,
   "id": "c1f89df3",
   "metadata": {},
   "outputs": [
    {
     "data": {
      "text/plain": [
       "'We are learning Python and Machine Learning'"
      ]
     },
     "execution_count": 13,
     "metadata": {},
     "output_type": "execute_result"
    }
   ],
   "source": [
    "str1 = 'We are learning Python and Machine Learning'\n",
    "str1"
   ]
  },
  {
   "cell_type": "code",
   "execution_count": 18,
   "id": "9a4254cc",
   "metadata": {},
   "outputs": [
    {
     "data": {
      "text/plain": [
       "'We are learning \"Python\" and Machine Learning'"
      ]
     },
     "execution_count": 18,
     "metadata": {},
     "output_type": "execute_result"
    }
   ],
   "source": [
    "str1 = 'We are learning \"Python\" and Machine Learning'\n",
    "str1"
   ]
  },
  {
   "cell_type": "code",
   "execution_count": 15,
   "id": "9e1a0067",
   "metadata": {},
   "outputs": [
    {
     "data": {
      "text/plain": [
       "'We are learning \"Python\" and \\nMachine Learning'"
      ]
     },
     "execution_count": 15,
     "metadata": {},
     "output_type": "execute_result"
    }
   ],
   "source": [
    "str1 = '''We are learning \"Python\" and \n",
    "Machine Learning'''\n",
    "str1"
   ]
  },
  {
   "cell_type": "code",
   "execution_count": 16,
   "id": "f221a60b",
   "metadata": {},
   "outputs": [
    {
     "data": {
      "text/plain": [
       "\"We are learning 'Python' and \\nMachine Learning\""
      ]
     },
     "execution_count": 16,
     "metadata": {},
     "output_type": "execute_result"
    }
   ],
   "source": [
    "str1 = '''We are learning 'Python' and \n",
    "Machine Learning'''\n",
    "str1"
   ]
  },
  {
   "cell_type": "code",
   "execution_count": 17,
   "id": "8ba88b0e",
   "metadata": {},
   "outputs": [
    {
     "name": "stdout",
     "output_type": "stream",
     "text": [
      "We are learning 'Python' and \n",
      "Machine Learning\n"
     ]
    }
   ],
   "source": [
    "print(str1)"
   ]
  },
  {
   "cell_type": "code",
   "execution_count": null,
   "id": "82f679de",
   "metadata": {},
   "outputs": [],
   "source": [
    "str1 = 'We are learning \"Python\" and Machine Learning'\n",
    "str1"
   ]
  },
  {
   "cell_type": "markdown",
   "id": "df9ccbf8",
   "metadata": {},
   "source": [
    "## Escape Char"
   ]
  },
  {
   "cell_type": "code",
   "execution_count": 7,
   "id": "e1a3731a",
   "metadata": {},
   "outputs": [
    {
     "data": {
      "text/plain": [
       "\"We are learning 'Python' and Machine Learning\""
      ]
     },
     "execution_count": 7,
     "metadata": {},
     "output_type": "execute_result"
    }
   ],
   "source": [
    "str1 = 'x \\'Python\\' and Machine Learning'\n",
    "str1"
   ]
  },
  {
   "cell_type": "code",
   "execution_count": 21,
   "id": "447a2c97",
   "metadata": {},
   "outputs": [
    {
     "data": {
      "text/plain": [
       "\"We are learning 'Python' and Machine Learning\""
      ]
     },
     "execution_count": 21,
     "metadata": {},
     "output_type": "execute_result"
    }
   ],
   "source": [
    "str1 = 'We are learning \\'Python\\' and Machine Learning'\n",
    "str1"
   ]
  },
  {
   "cell_type": "code",
   "execution_count": 24,
   "id": "080eacce",
   "metadata": {},
   "outputs": [
    {
     "data": {
      "text/plain": [
       "\"vel'oc'ity\""
      ]
     },
     "execution_count": 24,
     "metadata": {},
     "output_type": "execute_result"
    }
   ],
   "source": [
    "a = 'vel\\'oc\\'ity'\n",
    "a"
   ]
  },
  {
   "cell_type": "code",
   "execution_count": 26,
   "id": "bae32a7b",
   "metadata": {},
   "outputs": [
    {
     "data": {
      "text/plain": [
       "\"python's class\""
      ]
     },
     "execution_count": 26,
     "metadata": {},
     "output_type": "execute_result"
    }
   ],
   "source": [
    "a = 'python\\'s class'\n",
    "a"
   ]
  },
  {
   "cell_type": "code",
   "execution_count": 27,
   "id": "8bc0cd84",
   "metadata": {},
   "outputs": [
    {
     "data": {
      "text/plain": [
       "'python\"s class'"
      ]
     },
     "execution_count": 27,
     "metadata": {},
     "output_type": "execute_result"
    }
   ],
   "source": [
    "a = \"python\\\"s class\"\n",
    "a"
   ]
  },
  {
   "cell_type": "markdown",
   "id": "caed1c2c",
   "metadata": {},
   "source": [
    "#### \\n >> new line"
   ]
  },
  {
   "cell_type": "code",
   "execution_count": 28,
   "id": "124091c7",
   "metadata": {},
   "outputs": [
    {
     "name": "stdout",
     "output_type": "stream",
     "text": [
      "Machine Learning is a study of Computer algorithms\n"
     ]
    }
   ],
   "source": [
    "machine_learning = 'Machine Learning is a study of Computer algorithms'\n",
    "print(machine_learning)"
   ]
  },
  {
   "cell_type": "code",
   "execution_count": 29,
   "id": "8eb749b8",
   "metadata": {},
   "outputs": [
    {
     "name": "stdout",
     "output_type": "stream",
     "text": [
      "Machine Learning is a \n",
      "study of Computer algorithms\n"
     ]
    }
   ],
   "source": [
    "machine_learning = 'Machine Learning is a \\nstudy of Computer algorithms'\n",
    "print(machine_learning)"
   ]
  },
  {
   "cell_type": "code",
   "execution_count": 30,
   "id": "f3bc1214",
   "metadata": {},
   "outputs": [
    {
     "name": "stdout",
     "output_type": "stream",
     "text": [
      "Machine Learning is a \n",
      "study of \n",
      "Computer algorithms\n"
     ]
    }
   ],
   "source": [
    "machine_learning = 'Machine Learning is a \\n study of \\nComputer algorithms'\n",
    "print(machine_learning)"
   ]
  },
  {
   "cell_type": "code",
   "execution_count": 31,
   "id": "e92ab1ca",
   "metadata": {},
   "outputs": [
    {
     "data": {
      "text/plain": [
       "'Machine Learning is a \\nstudy of \\nComputer algorithms'"
      ]
     },
     "execution_count": 31,
     "metadata": {},
     "output_type": "execute_result"
    }
   ],
   "source": [
    "machine_learning"
   ]
  },
  {
   "cell_type": "markdown",
   "id": "b058be1e",
   "metadata": {},
   "source": [
    "### \\ >> backward slash"
   ]
  },
  {
   "cell_type": "code",
   "execution_count": null,
   "id": "11b2e85d",
   "metadata": {},
   "outputs": [],
   "source": [
    "# When we are working with path   G:\\\\Velocity 16 APR\\\\04_22_String\\\\String.ipynb"
   ]
  },
  {
   "cell_type": "code",
   "execution_count": 37,
   "id": "05daf0df",
   "metadata": {},
   "outputs": [
    {
     "name": "stdout",
     "output_type": "stream",
     "text": [
      "G:\\Velocity 16 APR\u0004_22_String\n"
     ]
    }
   ],
   "source": [
    "str1 = 'G:\\Velocity 16 APR\\04_22_String'\n",
    "print(str1)"
   ]
  },
  {
   "cell_type": "code",
   "execution_count": 35,
   "id": "776bc853",
   "metadata": {},
   "outputs": [
    {
     "name": "stdout",
     "output_type": "stream",
     "text": [
      "G:\\Velocity 16 APR\\04_22_String\n"
     ]
    }
   ],
   "source": [
    "# Windows OS\n",
    "str1 = 'G:\\\\Velocity 16 APR\\\\04_22_String'\n",
    "print(str1)"
   ]
  },
  {
   "cell_type": "code",
   "execution_count": 36,
   "id": "efe831c7",
   "metadata": {},
   "outputs": [
    {
     "name": "stdout",
     "output_type": "stream",
     "text": [
      "G:/Velocity 16 APR/04_22_String\n"
     ]
    }
   ],
   "source": [
    "# Linux >> ubuntu\n",
    "str1 = 'G:/Velocity 16 APR/04_22_String'\n",
    "print(str1)"
   ]
  },
  {
   "cell_type": "code",
   "execution_count": 38,
   "id": "a154b140",
   "metadata": {},
   "outputs": [
    {
     "name": "stdout",
     "output_type": "stream",
     "text": [
      "G:\\Velocity 16 APR\\04_22_String\n"
     ]
    }
   ],
   "source": [
    "# raw string >> paths/directory\n",
    "str1 = r'G:\\Velocity 16 APR\\04_22_String'\n",
    "print(str1)"
   ]
  },
  {
   "cell_type": "code",
   "execution_count": 39,
   "id": "b1d812c1",
   "metadata": {},
   "outputs": [
    {
     "name": "stdout",
     "output_type": "stream",
     "text": [
      "G:\\Velocity 16 APR\u0004_22_String\\sample.txt\n"
     ]
    }
   ],
   "source": [
    "file_path = 'G:\\Velocity 16 APR\\04_22_String\\sample.txt'\n",
    "print(file_path)"
   ]
  },
  {
   "cell_type": "code",
   "execution_count": 40,
   "id": "8c63c814",
   "metadata": {},
   "outputs": [
    {
     "name": "stdout",
     "output_type": "stream",
     "text": [
      "G:\\Velocity 16 APR\\04_22_String\\sample.txt\n"
     ]
    }
   ],
   "source": [
    "file_path = 'G:\\\\Velocity 16 APR\\\\04_22_String\\\\sample.txt'\n",
    "print(file_path)"
   ]
  },
  {
   "cell_type": "code",
   "execution_count": 41,
   "id": "53a81520",
   "metadata": {},
   "outputs": [
    {
     "name": "stdout",
     "output_type": "stream",
     "text": [
      "G:\\Velocity 16 APR\\04_22_String\\sample.txt\n"
     ]
    }
   ],
   "source": [
    "file_path = r'G:\\Velocity 16 APR\\04_22_String\\sample.txt'\n",
    "print(file_path)"
   ]
  },
  {
   "cell_type": "markdown",
   "id": "2d4800b8",
   "metadata": {},
   "source": [
    "### \\t"
   ]
  },
  {
   "cell_type": "code",
   "execution_count": 42,
   "id": "9376b69a",
   "metadata": {},
   "outputs": [
    {
     "name": "stdout",
     "output_type": "stream",
     "text": [
      "pythonclass\n"
     ]
    }
   ],
   "source": [
    "string = 'pythonclass'\n",
    "print(string)"
   ]
  },
  {
   "cell_type": "code",
   "execution_count": 43,
   "id": "86903441",
   "metadata": {},
   "outputs": [
    {
     "name": "stdout",
     "output_type": "stream",
     "text": [
      "python\tclass\n"
     ]
    }
   ],
   "source": [
    "string = 'python\\tclass'\n",
    "print(string)"
   ]
  },
  {
   "cell_type": "code",
   "execution_count": 44,
   "id": "6db5c059",
   "metadata": {},
   "outputs": [
    {
     "name": "stdout",
     "output_type": "stream",
     "text": [
      "python\tand\tmachine\tlearning\tclass\n"
     ]
    }
   ],
   "source": [
    "string = 'python\\tand\\tmachine\\tlearning\\tclass'\n",
    "print(string)"
   ]
  },
  {
   "cell_type": "code",
   "execution_count": null,
   "id": "8111d900",
   "metadata": {},
   "outputs": [],
   "source": []
  },
  {
   "cell_type": "code",
   "execution_count": null,
   "id": "298eeeb4",
   "metadata": {},
   "outputs": [],
   "source": []
  },
  {
   "cell_type": "code",
   "execution_count": null,
   "id": "46d49239",
   "metadata": {},
   "outputs": [],
   "source": []
  },
  {
   "cell_type": "code",
   "execution_count": null,
   "id": "54cb1b63",
   "metadata": {},
   "outputs": [],
   "source": []
  },
  {
   "cell_type": "code",
   "execution_count": null,
   "id": "509dd20e",
   "metadata": {},
   "outputs": [],
   "source": []
  },
  {
   "cell_type": "code",
   "execution_count": null,
   "id": "8a872c28",
   "metadata": {},
   "outputs": [],
   "source": []
  },
  {
   "cell_type": "code",
   "execution_count": null,
   "id": "dc3a640a",
   "metadata": {},
   "outputs": [],
   "source": []
  },
  {
   "cell_type": "code",
   "execution_count": null,
   "id": "9a3bb42f",
   "metadata": {},
   "outputs": [],
   "source": []
  },
  {
   "cell_type": "code",
   "execution_count": null,
   "id": "2c5c7db5",
   "metadata": {},
   "outputs": [],
   "source": []
  },
  {
   "cell_type": "code",
   "execution_count": null,
   "id": "d3c4d02f",
   "metadata": {},
   "outputs": [],
   "source": []
  },
  {
   "cell_type": "code",
   "execution_count": 19,
   "id": "2988c250",
   "metadata": {},
   "outputs": [
    {
     "data": {
      "text/plain": [
       "'We are learning \"Python\" and Machine Learning'"
      ]
     },
     "execution_count": 19,
     "metadata": {},
     "output_type": "execute_result"
    }
   ],
   "source": [
    "str1"
   ]
  },
  {
   "cell_type": "code",
   "execution_count": null,
   "id": "f4145afd",
   "metadata": {},
   "outputs": [],
   "source": []
  }
 ],
 "metadata": {
  "kernelspec": {
   "display_name": "Python 3 (ipykernel)",
   "language": "python",
   "name": "python3"
  },
  "language_info": {
   "codemirror_mode": {
    "name": "ipython",
    "version": 3
   },
   "file_extension": ".py",
   "mimetype": "text/x-python",
   "name": "python",
   "nbconvert_exporter": "python",
   "pygments_lexer": "ipython3",
   "version": "3.11.3"
  }
 },
 "nbformat": 4,
 "nbformat_minor": 5
}
