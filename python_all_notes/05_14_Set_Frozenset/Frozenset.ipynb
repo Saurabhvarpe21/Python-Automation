{
 "cells": [
  {
   "cell_type": "markdown",
   "id": "dc3d492f",
   "metadata": {},
   "source": [
    "# Frozenset"
   ]
  },
  {
   "cell_type": "code",
   "execution_count": null,
   "id": "d4e01f48",
   "metadata": {},
   "outputs": [],
   "source": [
    "1. Unordered\n",
    "2. Duplicates are not allowed\n",
    "3. Immutable >> we can not modify\n",
    "4. enclosed by frozenset()"
   ]
  },
  {
   "cell_type": "markdown",
   "id": "6eba592e",
   "metadata": {},
   "source": [
    "## FROZENSET Functions"
   ]
  },
  {
   "cell_type": "code",
   "execution_count": null,
   "id": "634e262a",
   "metadata": {},
   "outputs": [],
   "source": [
    "1. union()\n",
    "2. intersection()\n",
    "3. difference()\n",
    "4. symmetric_difference()\n",
    "5. issubset()\n",
    "6. issuperset()\n",
    "7. isdijoint()"
   ]
  },
  {
   "cell_type": "code",
   "execution_count": 1,
   "id": "a4a1b776",
   "metadata": {},
   "outputs": [
    {
     "data": {
      "text/plain": [
       "{1, 2, 3, 4, 5, 6}"
      ]
     },
     "execution_count": 1,
     "metadata": {},
     "output_type": "execute_result"
    }
   ],
   "source": [
    "set1 = {1,2,3,4,5,6}\n",
    "set1"
   ]
  },
  {
   "cell_type": "code",
   "execution_count": 2,
   "id": "b480a5b6",
   "metadata": {},
   "outputs": [
    {
     "ename": "TypeError",
     "evalue": "frozenset expected at most 1 argument, got 5",
     "output_type": "error",
     "traceback": [
      "\u001b[1;31m---------------------------------------------------------------------------\u001b[0m",
      "\u001b[1;31mTypeError\u001b[0m                                 Traceback (most recent call last)",
      "\u001b[1;32m<ipython-input-2-a96fdb862aa4>\u001b[0m in \u001b[0;36m<module>\u001b[1;34m\u001b[0m\n\u001b[1;32m----> 1\u001b[1;33m \u001b[0mfs1\u001b[0m \u001b[1;33m=\u001b[0m \u001b[0mfrozenset\u001b[0m\u001b[1;33m(\u001b[0m\u001b[1;36m1\u001b[0m\u001b[1;33m,\u001b[0m\u001b[1;36m2\u001b[0m\u001b[1;33m,\u001b[0m\u001b[1;36m3\u001b[0m\u001b[1;33m,\u001b[0m\u001b[1;36m4\u001b[0m\u001b[1;33m,\u001b[0m\u001b[1;36m5\u001b[0m\u001b[1;33m)\u001b[0m\u001b[1;33m\u001b[0m\u001b[1;33m\u001b[0m\u001b[0m\n\u001b[0m\u001b[0;32m      2\u001b[0m \u001b[0mfs1\u001b[0m\u001b[1;33m\u001b[0m\u001b[1;33m\u001b[0m\u001b[0m\n",
      "\u001b[1;31mTypeError\u001b[0m: frozenset expected at most 1 argument, got 5"
     ]
    }
   ],
   "source": [
    "fs1 = frozenset(1,2,3,4,5)\n",
    "fs1"
   ]
  },
  {
   "cell_type": "code",
   "execution_count": 3,
   "id": "73920d1e",
   "metadata": {},
   "outputs": [
    {
     "data": {
      "text/plain": [
       "frozenset({1, 2, 3, 4, 5})"
      ]
     },
     "execution_count": 3,
     "metadata": {},
     "output_type": "execute_result"
    }
   ],
   "source": [
    "fs1 = frozenset({1,2,3,4,5})\n",
    "fs1"
   ]
  },
  {
   "cell_type": "code",
   "execution_count": 4,
   "id": "887e4d5d",
   "metadata": {},
   "outputs": [
    {
     "data": {
      "text/plain": [
       "frozenset"
      ]
     },
     "execution_count": 4,
     "metadata": {},
     "output_type": "execute_result"
    }
   ],
   "source": [
    "fs1 = frozenset({1,2,3,4,5})\n",
    "type(fs1)"
   ]
  },
  {
   "cell_type": "code",
   "execution_count": 5,
   "id": "7bb42a91",
   "metadata": {},
   "outputs": [
    {
     "data": {
      "text/plain": [
       "frozenset({1, 2, 3, 4, 5})"
      ]
     },
     "execution_count": 5,
     "metadata": {},
     "output_type": "execute_result"
    }
   ],
   "source": [
    "fs1 = frozenset([1,2,3,4,5])\n",
    "fs1"
   ]
  },
  {
   "cell_type": "code",
   "execution_count": 6,
   "id": "ed78ec5a",
   "metadata": {},
   "outputs": [
    {
     "data": {
      "text/plain": [
       "frozenset({1, 2, 3, 4, 5})"
      ]
     },
     "execution_count": 6,
     "metadata": {},
     "output_type": "execute_result"
    }
   ],
   "source": [
    "fs1 = frozenset((1,2,3,4,5))\n",
    "fs1"
   ]
  },
  {
   "cell_type": "markdown",
   "id": "2b5412ae",
   "metadata": {},
   "source": [
    "## 1. union()"
   ]
  },
  {
   "cell_type": "code",
   "execution_count": 9,
   "id": "be0440f5",
   "metadata": {},
   "outputs": [
    {
     "name": "stdout",
     "output_type": "stream",
     "text": [
      "fs1: frozenset({3, 4, 5, 6, 7, 8, 9})\n",
      "fs2: frozenset({50, 20, 40, 10, 60, 30})\n",
      "result: frozenset({3, 4, 5, 6, 7, 8, 9, 40, 10, 50, 20, 60, 30})\n"
     ]
    }
   ],
   "source": [
    "fs1 = frozenset({3,4,5,6,7,8,9})\n",
    "fs2 = frozenset({10,20,30,40,50,60})\n",
    "result = fs1.union(fs2)\n",
    "print('fs1:',fs1)\n",
    "print('fs2:',fs2)\n",
    "print('result:',result)"
   ]
  },
  {
   "cell_type": "code",
   "execution_count": 10,
   "id": "a54406ec",
   "metadata": {},
   "outputs": [
    {
     "ename": "AttributeError",
     "evalue": "'frozenset' object has no attribute 'update'",
     "output_type": "error",
     "traceback": [
      "\u001b[1;31m---------------------------------------------------------------------------\u001b[0m",
      "\u001b[1;31mAttributeError\u001b[0m                            Traceback (most recent call last)",
      "\u001b[1;32m<ipython-input-10-2a34f5da8346>\u001b[0m in \u001b[0;36m<module>\u001b[1;34m\u001b[0m\n\u001b[0;32m      1\u001b[0m \u001b[0mfs1\u001b[0m \u001b[1;33m=\u001b[0m \u001b[0mfrozenset\u001b[0m\u001b[1;33m(\u001b[0m\u001b[1;33m{\u001b[0m\u001b[1;36m3\u001b[0m\u001b[1;33m,\u001b[0m\u001b[1;36m4\u001b[0m\u001b[1;33m,\u001b[0m\u001b[1;36m5\u001b[0m\u001b[1;33m,\u001b[0m\u001b[1;36m6\u001b[0m\u001b[1;33m,\u001b[0m\u001b[1;36m7\u001b[0m\u001b[1;33m,\u001b[0m\u001b[1;36m8\u001b[0m\u001b[1;33m,\u001b[0m\u001b[1;36m9\u001b[0m\u001b[1;33m}\u001b[0m\u001b[1;33m)\u001b[0m\u001b[1;33m\u001b[0m\u001b[1;33m\u001b[0m\u001b[0m\n\u001b[0;32m      2\u001b[0m \u001b[0mfs2\u001b[0m \u001b[1;33m=\u001b[0m \u001b[0mfrozenset\u001b[0m\u001b[1;33m(\u001b[0m\u001b[1;33m{\u001b[0m\u001b[1;36m10\u001b[0m\u001b[1;33m,\u001b[0m\u001b[1;36m20\u001b[0m\u001b[1;33m,\u001b[0m\u001b[1;36m30\u001b[0m\u001b[1;33m,\u001b[0m\u001b[1;36m40\u001b[0m\u001b[1;33m,\u001b[0m\u001b[1;36m50\u001b[0m\u001b[1;33m,\u001b[0m\u001b[1;36m60\u001b[0m\u001b[1;33m}\u001b[0m\u001b[1;33m)\u001b[0m\u001b[1;33m\u001b[0m\u001b[1;33m\u001b[0m\u001b[0m\n\u001b[1;32m----> 3\u001b[1;33m \u001b[0mresult\u001b[0m \u001b[1;33m=\u001b[0m \u001b[0mfs1\u001b[0m\u001b[1;33m.\u001b[0m\u001b[0mupdate\u001b[0m\u001b[1;33m(\u001b[0m\u001b[0mfs2\u001b[0m\u001b[1;33m)\u001b[0m\u001b[1;33m\u001b[0m\u001b[1;33m\u001b[0m\u001b[0m\n\u001b[0m\u001b[0;32m      4\u001b[0m \u001b[0mprint\u001b[0m\u001b[1;33m(\u001b[0m\u001b[1;34m'fs1:'\u001b[0m\u001b[1;33m,\u001b[0m\u001b[0mfs1\u001b[0m\u001b[1;33m)\u001b[0m\u001b[1;33m\u001b[0m\u001b[1;33m\u001b[0m\u001b[0m\n\u001b[0;32m      5\u001b[0m \u001b[0mprint\u001b[0m\u001b[1;33m(\u001b[0m\u001b[1;34m'fs2:'\u001b[0m\u001b[1;33m,\u001b[0m\u001b[0mfs2\u001b[0m\u001b[1;33m)\u001b[0m\u001b[1;33m\u001b[0m\u001b[1;33m\u001b[0m\u001b[0m\n",
      "\u001b[1;31mAttributeError\u001b[0m: 'frozenset' object has no attribute 'update'"
     ]
    }
   ],
   "source": [
    "fs1 = frozenset({3,4,5,6,7,8,9})\n",
    "fs2 = frozenset({10,20,30,40,50,60})\n",
    "result = fs1.update(fs2)\n",
    "print('fs1:',fs1)\n",
    "print('fs2:',fs2)\n",
    "print('result:',result)"
   ]
  },
  {
   "cell_type": "markdown",
   "id": "a0e8620b",
   "metadata": {},
   "source": [
    "## 2. intersection()"
   ]
  },
  {
   "cell_type": "code",
   "execution_count": 11,
   "id": "1b27d046",
   "metadata": {},
   "outputs": [
    {
     "name": "stdout",
     "output_type": "stream",
     "text": [
      "fs1: frozenset({3, 4, 5, 6, 7, 8, 9})\n",
      "fs2: frozenset({1, 2, 3, 4, 5})\n",
      "result: frozenset({3, 4, 5})\n"
     ]
    }
   ],
   "source": [
    "fs1 = frozenset({3,4,5,6,7,8,9})\n",
    "fs2 = frozenset({1,2,3,4,5})\n",
    "\n",
    "result = fs1.intersection(fs2)\n",
    "\n",
    "print('fs1:',fs1)\n",
    "print('fs2:',fs2)\n",
    "print('result:',result)"
   ]
  },
  {
   "cell_type": "markdown",
   "id": "8e60bef7",
   "metadata": {},
   "source": [
    "## 3. difference"
   ]
  },
  {
   "cell_type": "code",
   "execution_count": 12,
   "id": "927e10fe",
   "metadata": {},
   "outputs": [
    {
     "name": "stdout",
     "output_type": "stream",
     "text": [
      "fs1: frozenset({3, 4, 5, 6, 7, 8, 9})\n",
      "fs2: frozenset({1, 2, 3, 4, 5})\n",
      "result: frozenset({8, 9, 6, 7})\n"
     ]
    }
   ],
   "source": [
    "fs1 = frozenset({3,4,5,6,7,8,9})\n",
    "fs2 = frozenset({1,2,3,4,5})\n",
    "\n",
    "result = fs1.difference(fs2)\n",
    "\n",
    "print('fs1:',fs1)\n",
    "print('fs2:',fs2)\n",
    "print('result:',result)"
   ]
  },
  {
   "cell_type": "code",
   "execution_count": 13,
   "id": "3f24bae4",
   "metadata": {},
   "outputs": [
    {
     "name": "stdout",
     "output_type": "stream",
     "text": [
      "fs1: frozenset({3, 4, 5, 6, 7, 8, 9})\n",
      "fs2: frozenset({1, 2, 3, 5})\n",
      "result: frozenset({4, 6, 7, 8, 9})\n"
     ]
    }
   ],
   "source": [
    "fs1 = frozenset({3,4,5,6,7,8,9})\n",
    "fs2 = frozenset({1,2,3,5})\n",
    "\n",
    "result = fs1.difference(fs2)\n",
    "\n",
    "print('fs1:',fs1)\n",
    "print('fs2:',fs2)\n",
    "print('result:',result)"
   ]
  },
  {
   "cell_type": "markdown",
   "id": "dff57ed2",
   "metadata": {},
   "source": [
    "## 4. symmetric_difference()"
   ]
  },
  {
   "cell_type": "code",
   "execution_count": 14,
   "id": "23afbf30",
   "metadata": {},
   "outputs": [
    {
     "name": "stdout",
     "output_type": "stream",
     "text": [
      "fs1: frozenset({3, 4, 5, 6, 7, 8, 9})\n",
      "fs2: frozenset({1, 2, 3, 4, 5})\n",
      "result: frozenset({1, 2, 6, 7, 8, 9})\n"
     ]
    }
   ],
   "source": [
    "fs1 = frozenset({3,4,5,6,7,8,9})\n",
    "fs2 = frozenset({1,2,3,4,5})\n",
    "\n",
    "result = fs1.symmetric_difference(fs2)\n",
    "\n",
    "print('fs1:',fs1)\n",
    "print('fs2:',fs2)\n",
    "print('result:',result)"
   ]
  },
  {
   "cell_type": "markdown",
   "id": "2c993679",
   "metadata": {},
   "source": [
    "## 5. issubset()"
   ]
  },
  {
   "cell_type": "code",
   "execution_count": 18,
   "id": "65b4ab10",
   "metadata": {},
   "outputs": [
    {
     "data": {
      "text/plain": [
       "False"
      ]
     },
     "execution_count": 18,
     "metadata": {},
     "output_type": "execute_result"
    }
   ],
   "source": [
    "fs1 = frozenset({3,4,5,6,7,8,9})\n",
    "fs2 = frozenset({1,2,3,4,5})\n",
    "\n",
    "fs2.issubset(fs1)"
   ]
  },
  {
   "cell_type": "code",
   "execution_count": 20,
   "id": "bcb3bb32",
   "metadata": {},
   "outputs": [
    {
     "data": {
      "text/plain": [
       "True"
      ]
     },
     "execution_count": 20,
     "metadata": {},
     "output_type": "execute_result"
    }
   ],
   "source": [
    "fs1 = frozenset({3,4,5,6,7,8,9})\n",
    "fs2 = frozenset({3,4,5})\n",
    "\n",
    "fs2.issubset(fs1)"
   ]
  },
  {
   "cell_type": "markdown",
   "id": "041700d8",
   "metadata": {},
   "source": [
    "## 6. issuperset()"
   ]
  },
  {
   "cell_type": "code",
   "execution_count": 21,
   "id": "03362bb2",
   "metadata": {},
   "outputs": [
    {
     "data": {
      "text/plain": [
       "True"
      ]
     },
     "execution_count": 21,
     "metadata": {},
     "output_type": "execute_result"
    }
   ],
   "source": [
    "fs1 = frozenset({3,4,5,6,7,8,9})\n",
    "fs2 = frozenset({3,4,5})\n",
    "\n",
    "fs1.issuperset(fs2)"
   ]
  },
  {
   "cell_type": "code",
   "execution_count": 22,
   "id": "72cb0631",
   "metadata": {},
   "outputs": [
    {
     "data": {
      "text/plain": [
       "False"
      ]
     },
     "execution_count": 22,
     "metadata": {},
     "output_type": "execute_result"
    }
   ],
   "source": [
    "fs1 = frozenset({3,4,5,6,7,8,9})\n",
    "fs2 = frozenset({3,4,5})\n",
    "\n",
    "fs2.issuperset(fs1)"
   ]
  },
  {
   "cell_type": "code",
   "execution_count": 23,
   "id": "4f5eab9c",
   "metadata": {},
   "outputs": [
    {
     "data": {
      "text/plain": [
       "True"
      ]
     },
     "execution_count": 23,
     "metadata": {},
     "output_type": "execute_result"
    }
   ],
   "source": [
    "fs1 = frozenset({3,4,5})\n",
    "fs2 = frozenset({3,4,5})\n",
    "\n",
    "fs2.issuperset(fs1)"
   ]
  },
  {
   "cell_type": "markdown",
   "id": "601a7860",
   "metadata": {},
   "source": [
    "## 7. isdisjoint()"
   ]
  },
  {
   "cell_type": "code",
   "execution_count": 24,
   "id": "690040ab",
   "metadata": {},
   "outputs": [
    {
     "data": {
      "text/plain": [
       "False"
      ]
     },
     "execution_count": 24,
     "metadata": {},
     "output_type": "execute_result"
    }
   ],
   "source": [
    "fs1 = frozenset({3,4,5})\n",
    "fs2 = frozenset({3,4,5})\n",
    "\n",
    "fs2.isdisjoint(fs1)"
   ]
  },
  {
   "cell_type": "code",
   "execution_count": 25,
   "id": "e1df1e5e",
   "metadata": {},
   "outputs": [
    {
     "data": {
      "text/plain": [
       "False"
      ]
     },
     "execution_count": 25,
     "metadata": {},
     "output_type": "execute_result"
    }
   ],
   "source": [
    "fs1 = frozenset({3,1,2})\n",
    "fs2 = frozenset({3,4,5})\n",
    "\n",
    "fs2.isdisjoint(fs1)"
   ]
  },
  {
   "cell_type": "code",
   "execution_count": 26,
   "id": "f4cbffa6",
   "metadata": {},
   "outputs": [
    {
     "data": {
      "text/plain": [
       "True"
      ]
     },
     "execution_count": 26,
     "metadata": {},
     "output_type": "execute_result"
    }
   ],
   "source": [
    "fs1 = frozenset({7,1,2})\n",
    "fs2 = frozenset({3,4,5})\n",
    "\n",
    "fs2.isdisjoint(fs1)"
   ]
  },
  {
   "cell_type": "code",
   "execution_count": 27,
   "id": "2449af40",
   "metadata": {},
   "outputs": [
    {
     "data": {
      "text/plain": [
       "True"
      ]
     },
     "execution_count": 27,
     "metadata": {},
     "output_type": "execute_result"
    }
   ],
   "source": [
    "fs1 = frozenset({7,1,2})\n",
    "fs2 = frozenset({3,4,5})\n",
    "\n",
    "fs1.isdisjoint(fs2)"
   ]
  },
  {
   "cell_type": "code",
   "execution_count": null,
   "id": "1731fadf",
   "metadata": {},
   "outputs": [],
   "source": []
  },
  {
   "cell_type": "code",
   "execution_count": null,
   "id": "9daaf3ab",
   "metadata": {},
   "outputs": [],
   "source": []
  },
  {
   "cell_type": "code",
   "execution_count": null,
   "id": "05ef5e48",
   "metadata": {},
   "outputs": [],
   "source": []
  },
  {
   "cell_type": "code",
   "execution_count": null,
   "id": "e9202667",
   "metadata": {},
   "outputs": [],
   "source": []
  },
  {
   "cell_type": "code",
   "execution_count": null,
   "id": "e55eeba9",
   "metadata": {},
   "outputs": [],
   "source": []
  },
  {
   "cell_type": "code",
   "execution_count": null,
   "id": "5a2b5ea5",
   "metadata": {},
   "outputs": [],
   "source": []
  },
  {
   "cell_type": "code",
   "execution_count": null,
   "id": "4edc3b73",
   "metadata": {},
   "outputs": [],
   "source": []
  },
  {
   "cell_type": "code",
   "execution_count": null,
   "id": "40f7e23c",
   "metadata": {},
   "outputs": [],
   "source": []
  },
  {
   "cell_type": "code",
   "execution_count": null,
   "id": "9310480f",
   "metadata": {},
   "outputs": [],
   "source": []
  },
  {
   "cell_type": "code",
   "execution_count": null,
   "id": "30ceac87",
   "metadata": {},
   "outputs": [],
   "source": []
  },
  {
   "cell_type": "code",
   "execution_count": null,
   "id": "d2913372",
   "metadata": {},
   "outputs": [],
   "source": []
  },
  {
   "cell_type": "code",
   "execution_count": null,
   "id": "e63bd2c6",
   "metadata": {},
   "outputs": [],
   "source": []
  },
  {
   "cell_type": "code",
   "execution_count": null,
   "id": "64121032",
   "metadata": {},
   "outputs": [],
   "source": []
  },
  {
   "cell_type": "code",
   "execution_count": null,
   "id": "bc2cd0a1",
   "metadata": {},
   "outputs": [],
   "source": []
  },
  {
   "cell_type": "code",
   "execution_count": null,
   "id": "1bb25608",
   "metadata": {},
   "outputs": [],
   "source": []
  },
  {
   "cell_type": "code",
   "execution_count": null,
   "id": "d23b60eb",
   "metadata": {},
   "outputs": [],
   "source": []
  },
  {
   "cell_type": "code",
   "execution_count": null,
   "id": "ee00b042",
   "metadata": {},
   "outputs": [],
   "source": []
  },
  {
   "cell_type": "code",
   "execution_count": null,
   "id": "354f84c4",
   "metadata": {},
   "outputs": [],
   "source": []
  },
  {
   "cell_type": "code",
   "execution_count": null,
   "id": "2816489b",
   "metadata": {},
   "outputs": [],
   "source": []
  },
  {
   "cell_type": "code",
   "execution_count": null,
   "id": "409f014e",
   "metadata": {},
   "outputs": [],
   "source": []
  },
  {
   "cell_type": "code",
   "execution_count": null,
   "id": "1371c2e2",
   "metadata": {},
   "outputs": [],
   "source": []
  },
  {
   "cell_type": "code",
   "execution_count": null,
   "id": "a9ae3e4b",
   "metadata": {},
   "outputs": [],
   "source": []
  },
  {
   "cell_type": "code",
   "execution_count": null,
   "id": "2e8a8d9a",
   "metadata": {},
   "outputs": [],
   "source": []
  },
  {
   "cell_type": "code",
   "execution_count": null,
   "id": "ce300372",
   "metadata": {},
   "outputs": [],
   "source": []
  },
  {
   "cell_type": "code",
   "execution_count": null,
   "id": "d58eb6f4",
   "metadata": {},
   "outputs": [],
   "source": []
  },
  {
   "cell_type": "code",
   "execution_count": null,
   "id": "48591d7b",
   "metadata": {},
   "outputs": [],
   "source": []
  },
  {
   "cell_type": "code",
   "execution_count": null,
   "id": "212d3631",
   "metadata": {},
   "outputs": [],
   "source": []
  },
  {
   "cell_type": "code",
   "execution_count": null,
   "id": "0ebc56e7",
   "metadata": {},
   "outputs": [],
   "source": []
  },
  {
   "cell_type": "code",
   "execution_count": null,
   "id": "f4c5f984",
   "metadata": {},
   "outputs": [],
   "source": []
  },
  {
   "cell_type": "code",
   "execution_count": null,
   "id": "536b23c0",
   "metadata": {},
   "outputs": [],
   "source": []
  },
  {
   "cell_type": "code",
   "execution_count": null,
   "id": "5e3f44fd",
   "metadata": {},
   "outputs": [],
   "source": []
  },
  {
   "cell_type": "code",
   "execution_count": null,
   "id": "67c36847",
   "metadata": {},
   "outputs": [],
   "source": []
  },
  {
   "cell_type": "code",
   "execution_count": null,
   "id": "d259aef6",
   "metadata": {},
   "outputs": [],
   "source": []
  },
  {
   "cell_type": "code",
   "execution_count": null,
   "id": "c0b9cedc",
   "metadata": {},
   "outputs": [],
   "source": []
  },
  {
   "cell_type": "code",
   "execution_count": null,
   "id": "14d84acd",
   "metadata": {},
   "outputs": [],
   "source": []
  },
  {
   "cell_type": "code",
   "execution_count": null,
   "id": "228d20d4",
   "metadata": {},
   "outputs": [],
   "source": []
  },
  {
   "cell_type": "code",
   "execution_count": null,
   "id": "71cbcda9",
   "metadata": {},
   "outputs": [],
   "source": []
  },
  {
   "cell_type": "code",
   "execution_count": null,
   "id": "10dbc9c9",
   "metadata": {},
   "outputs": [],
   "source": []
  },
  {
   "cell_type": "code",
   "execution_count": null,
   "id": "e4f8b59d",
   "metadata": {},
   "outputs": [],
   "source": []
  },
  {
   "cell_type": "code",
   "execution_count": null,
   "id": "4c489173",
   "metadata": {},
   "outputs": [],
   "source": []
  },
  {
   "cell_type": "code",
   "execution_count": null,
   "id": "309bae77",
   "metadata": {},
   "outputs": [],
   "source": []
  },
  {
   "cell_type": "code",
   "execution_count": null,
   "id": "4b4382c0",
   "metadata": {},
   "outputs": [],
   "source": []
  },
  {
   "cell_type": "code",
   "execution_count": null,
   "id": "11a6cfab",
   "metadata": {},
   "outputs": [],
   "source": []
  },
  {
   "cell_type": "code",
   "execution_count": null,
   "id": "85d56497",
   "metadata": {},
   "outputs": [],
   "source": []
  },
  {
   "cell_type": "code",
   "execution_count": null,
   "id": "2bfd5a25",
   "metadata": {},
   "outputs": [],
   "source": []
  },
  {
   "cell_type": "code",
   "execution_count": null,
   "id": "fe9d0788",
   "metadata": {},
   "outputs": [],
   "source": []
  },
  {
   "cell_type": "code",
   "execution_count": null,
   "id": "ad6a1c3d",
   "metadata": {},
   "outputs": [],
   "source": []
  },
  {
   "cell_type": "code",
   "execution_count": null,
   "id": "47cbbdb5",
   "metadata": {},
   "outputs": [],
   "source": []
  },
  {
   "cell_type": "code",
   "execution_count": null,
   "id": "8bd309b3",
   "metadata": {},
   "outputs": [],
   "source": []
  },
  {
   "cell_type": "code",
   "execution_count": null,
   "id": "ca9660fd",
   "metadata": {},
   "outputs": [],
   "source": []
  },
  {
   "cell_type": "code",
   "execution_count": null,
   "id": "c93711a6",
   "metadata": {},
   "outputs": [],
   "source": []
  },
  {
   "cell_type": "code",
   "execution_count": null,
   "id": "b91a231c",
   "metadata": {},
   "outputs": [],
   "source": []
  },
  {
   "cell_type": "code",
   "execution_count": null,
   "id": "079adaf3",
   "metadata": {},
   "outputs": [],
   "source": []
  },
  {
   "cell_type": "code",
   "execution_count": null,
   "id": "3a6fb3b1",
   "metadata": {},
   "outputs": [],
   "source": []
  },
  {
   "cell_type": "code",
   "execution_count": null,
   "id": "8131719b",
   "metadata": {},
   "outputs": [],
   "source": []
  },
  {
   "cell_type": "code",
   "execution_count": null,
   "id": "84021353",
   "metadata": {},
   "outputs": [],
   "source": []
  },
  {
   "cell_type": "code",
   "execution_count": null,
   "id": "cc79a7c5",
   "metadata": {},
   "outputs": [],
   "source": []
  },
  {
   "cell_type": "code",
   "execution_count": null,
   "id": "bbd34dcd",
   "metadata": {},
   "outputs": [],
   "source": []
  },
  {
   "cell_type": "code",
   "execution_count": null,
   "id": "e592677b",
   "metadata": {},
   "outputs": [],
   "source": []
  },
  {
   "cell_type": "code",
   "execution_count": null,
   "id": "979436d3",
   "metadata": {},
   "outputs": [],
   "source": []
  }
 ],
 "metadata": {
  "kernelspec": {
   "display_name": "Python 3 (ipykernel)",
   "language": "python",
   "name": "python3"
  },
  "language_info": {
   "codemirror_mode": {
    "name": "ipython",
    "version": 3
   },
   "file_extension": ".py",
   "mimetype": "text/x-python",
   "name": "python",
   "nbconvert_exporter": "python",
   "pygments_lexer": "ipython3",
   "version": "3.11.3"
  }
 },
 "nbformat": 4,
 "nbformat_minor": 5
}
