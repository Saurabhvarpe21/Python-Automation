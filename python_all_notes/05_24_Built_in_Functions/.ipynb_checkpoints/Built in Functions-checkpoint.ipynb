{
 "cells": [
  {
   "cell_type": "markdown",
   "id": "3108b118",
   "metadata": {},
   "source": [
    "# Built in Functions"
   ]
  },
  {
   "cell_type": "code",
   "execution_count": 1,
   "id": "f4977912",
   "metadata": {},
   "outputs": [
    {
     "data": {
      "text/plain": [
       "['Sunday', 'Monday', 'friday']"
      ]
     },
     "execution_count": 1,
     "metadata": {},
     "output_type": "execute_result"
    }
   ],
   "source": [
    "days = ['Sunday', 'Monday', 'Tuesday', 'Wednesday', 'Thurday', 'friday', 'saturday']\n",
    "list(filter(lambda d : len(d)==6 ,days))"
   ]
  },
  {
   "cell_type": "markdown",
   "id": "2f07d7e8",
   "metadata": {},
   "source": [
    "## 3. map()"
   ]
  },
  {
   "cell_type": "code",
   "execution_count": null,
   "id": "9f7b98da",
   "metadata": {},
   "outputs": [],
   "source": [
    "map(function, iterables)\n",
    "\n",
    "When we are using conditional statements we get output in boolean\n",
    "map is used when you want to do exact operation on each of the element\n",
    "we are applying some functionality, it genarates a new element with some modification\n"
   ]
  },
  {
   "cell_type": "code",
   "execution_count": 2,
   "id": "5e2b0ec2",
   "metadata": {},
   "outputs": [
    {
     "data": {
      "text/plain": [
       "[True, True, False, False, False, True, False]"
      ]
     },
     "execution_count": 2,
     "metadata": {},
     "output_type": "execute_result"
    }
   ],
   "source": [
    "days = ['Sunday', 'Monday', 'Tuesday', 'Wednesday', 'Thurday', 'friday', 'saturday']\n",
    "list(map(lambda d : len(d)==6 ,days))"
   ]
  },
  {
   "cell_type": "code",
   "execution_count": 3,
   "id": "b1bbbde0",
   "metadata": {},
   "outputs": [
    {
     "data": {
      "text/plain": [
       "['SUNDAY', 'MONDAY', 'TUESDAY', 'WEDNESDAY', 'THURDAY', 'FRIDAY', 'SATURDAY']"
      ]
     },
     "execution_count": 3,
     "metadata": {},
     "output_type": "execute_result"
    }
   ],
   "source": [
    "days = ['Sunday', 'Monday', 'Tuesday', 'Wednesday', 'Thurday', 'friday', 'saturday']\n",
    "list(map(lambda d : d.upper() ,days))"
   ]
  },
  {
   "cell_type": "code",
   "execution_count": 4,
   "id": "723560d9",
   "metadata": {},
   "outputs": [
    {
     "data": {
      "text/plain": [
       "['Sunday', 'Monday', 'Tuesday', 'Wednesday', 'Thurday', 'friday', 'saturday']"
      ]
     },
     "execution_count": 4,
     "metadata": {},
     "output_type": "execute_result"
    }
   ],
   "source": [
    "days = ['Sunday', 'Monday', 'Tuesday', 'Wednesday', 'Thurday', 'friday', 'saturday']\n",
    "list(filter(lambda d : d.upper() ,days))"
   ]
  },
  {
   "cell_type": "code",
   "execution_count": 5,
   "id": "fc462167",
   "metadata": {},
   "outputs": [
    {
     "data": {
      "text/plain": [
       "[2, 3, 4, 5, 6]"
      ]
     },
     "execution_count": 5,
     "metadata": {},
     "output_type": "execute_result"
    }
   ],
   "source": [
    "num = [2,3,4,5,6]\n",
    "list(filter(lambda x : x**2 , num))"
   ]
  },
  {
   "cell_type": "code",
   "execution_count": 6,
   "id": "22b94086",
   "metadata": {},
   "outputs": [
    {
     "data": {
      "text/plain": [
       "[4, 9, 16, 25, 36]"
      ]
     },
     "execution_count": 6,
     "metadata": {},
     "output_type": "execute_result"
    }
   ],
   "source": [
    "num = [2,3,4,5,6]\n",
    "list(map(lambda x : x**2 , num))"
   ]
  },
  {
   "cell_type": "code",
   "execution_count": 7,
   "id": "c9e47f0c",
   "metadata": {},
   "outputs": [
    {
     "data": {
      "text/plain": [
       "[8, 27, 64, 125, 216]"
      ]
     },
     "execution_count": 7,
     "metadata": {},
     "output_type": "execute_result"
    }
   ],
   "source": [
    "num = [2,3,4,5,6]\n",
    "list(map(lambda x : x**3 , num))"
   ]
  },
  {
   "cell_type": "code",
   "execution_count": 8,
   "id": "b2be8d73",
   "metadata": {},
   "outputs": [
    {
     "data": {
      "text/plain": [
       "[True, False, True, False, True]"
      ]
     },
     "execution_count": 8,
     "metadata": {},
     "output_type": "execute_result"
    }
   ],
   "source": [
    "num = [2,3,4,5,6]\n",
    "list(map(lambda x : x%2==0 , num))"
   ]
  },
  {
   "cell_type": "code",
   "execution_count": 9,
   "id": "d2c5fb97",
   "metadata": {},
   "outputs": [
    {
     "data": {
      "text/plain": [
       "[2, 4, 6]"
      ]
     },
     "execution_count": 9,
     "metadata": {},
     "output_type": "execute_result"
    }
   ],
   "source": [
    "num = [2,3,4,5,6]\n",
    "list(filter(lambda x : x%2==0 , num))"
   ]
  },
  {
   "cell_type": "code",
   "execution_count": 10,
   "id": "a8657b88",
   "metadata": {},
   "outputs": [
    {
     "data": {
      "text/plain": [
       "[12, 13, 14, 15, 16]"
      ]
     },
     "execution_count": 10,
     "metadata": {},
     "output_type": "execute_result"
    }
   ],
   "source": [
    "num = [2,3,4,5,6]\n",
    "list(map(lambda x : x+10 , num))"
   ]
  },
  {
   "cell_type": "code",
   "execution_count": 11,
   "id": "9e174086",
   "metadata": {},
   "outputs": [
    {
     "data": {
      "text/plain": [
       "[2, 3, 4, 5, 6]"
      ]
     },
     "execution_count": 11,
     "metadata": {},
     "output_type": "execute_result"
    }
   ],
   "source": [
    "num = [2,3,4,5,6]\n",
    "list(filter(lambda x : x+10 , num))"
   ]
  },
  {
   "cell_type": "code",
   "execution_count": 12,
   "id": "c0aca3b1",
   "metadata": {},
   "outputs": [
    {
     "data": {
      "text/plain": [
       "['Sunday', 'Monday', 'Tuesday', 'Wednesday', 'Thurday']"
      ]
     },
     "execution_count": 12,
     "metadata": {},
     "output_type": "execute_result"
    }
   ],
   "source": [
    "days = ['Sunday', 'Monday', 'Tuesday', 'Wednesday', 'Thurday', 'friday', 'saturday']\n",
    "list(filter(lambda d : d.istitle() ,days))"
   ]
  },
  {
   "cell_type": "code",
   "execution_count": 13,
   "id": "432718fc",
   "metadata": {},
   "outputs": [
    {
     "data": {
      "text/plain": [
       "['friday', 'saturday']"
      ]
     },
     "execution_count": 13,
     "metadata": {},
     "output_type": "execute_result"
    }
   ],
   "source": [
    "days = ['Sunday', 'Monday', 'Tuesday', 'Wednesday', 'Thurday', 'friday', 'saturday']\n",
    "list(filter(lambda d : d.islower() ,days))"
   ]
  },
  {
   "cell_type": "code",
   "execution_count": 14,
   "id": "b724b7e2",
   "metadata": {},
   "outputs": [
    {
     "data": {
      "text/plain": [
       "[False, False, False, False, False, True, True]"
      ]
     },
     "execution_count": 14,
     "metadata": {},
     "output_type": "execute_result"
    }
   ],
   "source": [
    "days = ['Sunday', 'Monday', 'Tuesday', 'Wednesday', 'Thurday', 'friday', 'saturday']\n",
    "list(map(lambda d : d.islower() ,days))"
   ]
  },
  {
   "cell_type": "code",
   "execution_count": 15,
   "id": "8c38a25d",
   "metadata": {},
   "outputs": [
    {
     "data": {
      "text/plain": [
       "[True, True, True, True, True, False, False]"
      ]
     },
     "execution_count": 15,
     "metadata": {},
     "output_type": "execute_result"
    }
   ],
   "source": [
    "days = ['Sunday', 'Monday', 'Tuesday', 'Wednesday', 'Thurday', 'friday', 'saturday']\n",
    "list(map(lambda d : d.istitle() ,days))"
   ]
  },
  {
   "cell_type": "code",
   "execution_count": 17,
   "id": "62736eee",
   "metadata": {},
   "outputs": [
    {
     "name": "stdout",
     "output_type": "stream",
     "text": [
      "2 is even\n",
      "3 is odd\n",
      "4 is even\n",
      "5 is odd\n",
      "6 is even\n"
     ]
    },
    {
     "data": {
      "text/plain": [
       "[]"
      ]
     },
     "execution_count": 17,
     "metadata": {},
     "output_type": "execute_result"
    }
   ],
   "source": [
    "num = [2,3,4,5,6]\n",
    "list(filter(lambda x : print(f'{x} is even') if x%2==0 else print(f'{x} is odd'), num))"
   ]
  },
  {
   "cell_type": "code",
   "execution_count": 18,
   "id": "dc90868e",
   "metadata": {},
   "outputs": [
    {
     "name": "stdout",
     "output_type": "stream",
     "text": [
      "2 is even\n",
      "3 is odd\n",
      "4 is even\n",
      "5 is odd\n",
      "6 is even\n"
     ]
    },
    {
     "data": {
      "text/plain": [
       "[None, None, None, None, None]"
      ]
     },
     "execution_count": 18,
     "metadata": {},
     "output_type": "execute_result"
    }
   ],
   "source": [
    "num = [2,3,4,5,6]\n",
    "list(map(lambda x : print(f'{x} is even') if x%2==0 else print(f'{x} is odd'), num))"
   ]
  },
  {
   "cell_type": "code",
   "execution_count": 20,
   "id": "16d267dc",
   "metadata": {},
   "outputs": [
    {
     "data": {
      "text/plain": [
       "[12, 23, 34, 45, 56]"
      ]
     },
     "execution_count": 20,
     "metadata": {},
     "output_type": "execute_result"
    }
   ],
   "source": [
    "num1 = [2,3,4,5,6]\n",
    "num2 = [10,20,30,40,50]\n",
    "\n",
    "result = []\n",
    "for i in range(len(num1)):\n",
    "    result.append(num1[i] + num2[i])\n",
    "    \n",
    "result\n",
    "    "
   ]
  },
  {
   "cell_type": "code",
   "execution_count": 21,
   "id": "28e86159",
   "metadata": {},
   "outputs": [
    {
     "data": {
      "text/plain": [
       "[12, 23, 34, 45, 56]"
      ]
     },
     "execution_count": 21,
     "metadata": {},
     "output_type": "execute_result"
    }
   ],
   "source": [
    "num1 = [2,3,4,5,6]\n",
    "num2 = [10,20,30,40,50]\n",
    "\n",
    "result = []\n",
    "for i, val in enumerate(num1):\n",
    "    result.append(val + num2[i])\n",
    "    \n",
    "result\n",
    "    "
   ]
  },
  {
   "cell_type": "code",
   "execution_count": 22,
   "id": "b8efcd23",
   "metadata": {},
   "outputs": [
    {
     "data": {
      "text/plain": [
       "[12, 23, 34, 45, 56]"
      ]
     },
     "execution_count": 22,
     "metadata": {},
     "output_type": "execute_result"
    }
   ],
   "source": [
    "num1 = [2,3,4,5,6]\n",
    "num2 = [10,20,30,40,50]\n",
    "\n",
    "list(map(lambda x, y: x+y, num1,num2))"
   ]
  },
  {
   "cell_type": "code",
   "execution_count": 23,
   "id": "387cbcca",
   "metadata": {},
   "outputs": [
    {
     "data": {
      "text/plain": [
       "[20, 60, 120, 200, 300]"
      ]
     },
     "execution_count": 23,
     "metadata": {},
     "output_type": "execute_result"
    }
   ],
   "source": [
    "num1 = [2,3,4,5,6]\n",
    "num2 = [10,20,30,40,50]\n",
    "\n",
    "list(map(lambda x, y: x*y, num1,num2))"
   ]
  },
  {
   "cell_type": "code",
   "execution_count": 24,
   "id": "d1c40d3b",
   "metadata": {},
   "outputs": [
    {
     "data": {
      "text/plain": [
       "['pm', 'ya', 'tc', 'hh', 'oi', 'nn']"
      ]
     },
     "execution_count": 24,
     "metadata": {},
     "output_type": "execute_result"
    }
   ],
   "source": [
    "str1 = 'python'\n",
    "str2 = 'machin'\n",
    "\n",
    "list(map(lambda x, y: x+y, str1,str2))"
   ]
  },
  {
   "cell_type": "code",
   "execution_count": 25,
   "id": "2ae54e06",
   "metadata": {},
   "outputs": [
    {
     "data": {
      "text/plain": [
       "['pm', 'ya', 'tc', 'hh', 'oi', 'nn']"
      ]
     },
     "execution_count": 25,
     "metadata": {},
     "output_type": "execute_result"
    }
   ],
   "source": [
    "str1 = 'python'\n",
    "str2 = 'machine'\n",
    "\n",
    "list(map(lambda x, y: x+y, str1,str2))"
   ]
  },
  {
   "cell_type": "code",
   "execution_count": 26,
   "id": "ae334a45",
   "metadata": {},
   "outputs": [
    {
     "ename": "TypeError",
     "evalue": "can't multiply sequence by non-int of type 'str'",
     "output_type": "error",
     "traceback": [
      "\u001b[1;31m---------------------------------------------------------------------------\u001b[0m",
      "\u001b[1;31mTypeError\u001b[0m                                 Traceback (most recent call last)",
      "\u001b[1;32m<ipython-input-26-96d50034a232>\u001b[0m in \u001b[0;36m<module>\u001b[1;34m\u001b[0m\n\u001b[0;32m      2\u001b[0m \u001b[0mstr2\u001b[0m \u001b[1;33m=\u001b[0m \u001b[1;34m'machine'\u001b[0m\u001b[1;33m\u001b[0m\u001b[1;33m\u001b[0m\u001b[0m\n\u001b[0;32m      3\u001b[0m \u001b[1;33m\u001b[0m\u001b[0m\n\u001b[1;32m----> 4\u001b[1;33m \u001b[0mlist\u001b[0m\u001b[1;33m(\u001b[0m\u001b[0mmap\u001b[0m\u001b[1;33m(\u001b[0m\u001b[1;32mlambda\u001b[0m \u001b[0mx\u001b[0m\u001b[1;33m,\u001b[0m \u001b[0my\u001b[0m\u001b[1;33m:\u001b[0m \u001b[0mx\u001b[0m\u001b[1;33m*\u001b[0m\u001b[0my\u001b[0m\u001b[1;33m,\u001b[0m \u001b[0mstr1\u001b[0m\u001b[1;33m,\u001b[0m\u001b[0mstr2\u001b[0m\u001b[1;33m)\u001b[0m\u001b[1;33m)\u001b[0m\u001b[1;33m\u001b[0m\u001b[1;33m\u001b[0m\u001b[0m\n\u001b[0m",
      "\u001b[1;32m<ipython-input-26-96d50034a232>\u001b[0m in \u001b[0;36m<lambda>\u001b[1;34m(x, y)\u001b[0m\n\u001b[0;32m      2\u001b[0m \u001b[0mstr2\u001b[0m \u001b[1;33m=\u001b[0m \u001b[1;34m'machine'\u001b[0m\u001b[1;33m\u001b[0m\u001b[1;33m\u001b[0m\u001b[0m\n\u001b[0;32m      3\u001b[0m \u001b[1;33m\u001b[0m\u001b[0m\n\u001b[1;32m----> 4\u001b[1;33m \u001b[0mlist\u001b[0m\u001b[1;33m(\u001b[0m\u001b[0mmap\u001b[0m\u001b[1;33m(\u001b[0m\u001b[1;32mlambda\u001b[0m \u001b[0mx\u001b[0m\u001b[1;33m,\u001b[0m \u001b[0my\u001b[0m\u001b[1;33m:\u001b[0m \u001b[0mx\u001b[0m\u001b[1;33m*\u001b[0m\u001b[0my\u001b[0m\u001b[1;33m,\u001b[0m \u001b[0mstr1\u001b[0m\u001b[1;33m,\u001b[0m\u001b[0mstr2\u001b[0m\u001b[1;33m)\u001b[0m\u001b[1;33m)\u001b[0m\u001b[1;33m\u001b[0m\u001b[1;33m\u001b[0m\u001b[0m\n\u001b[0m",
      "\u001b[1;31mTypeError\u001b[0m: can't multiply sequence by non-int of type 'str'"
     ]
    }
   ],
   "source": [
    "str1 = 'python'\n",
    "str2 = 'machine'\n",
    "\n",
    "list(map(lambda x, y: x*y, str1,str2))"
   ]
  },
  {
   "cell_type": "code",
   "execution_count": null,
   "id": "aa3e390d",
   "metadata": {},
   "outputs": [],
   "source": [
    "string = 'Machine Learning and Deep Learning'\n",
    "# output = [['M','a','c','h','i','n','e'],[]]"
   ]
  },
  {
   "cell_type": "code",
   "execution_count": 27,
   "id": "7bb59f51",
   "metadata": {},
   "outputs": [
    {
     "data": {
      "text/plain": [
       "['p', 'y', 't', 'h', 'o', 'n']"
      ]
     },
     "execution_count": 27,
     "metadata": {},
     "output_type": "execute_result"
    }
   ],
   "source": [
    "str1 = 'python'\n",
    "list(str1)"
   ]
  },
  {
   "cell_type": "code",
   "execution_count": 28,
   "id": "c560257c",
   "metadata": {},
   "outputs": [
    {
     "data": {
      "text/plain": [
       "[['M', 'a', 'c', 'h', 'i', 'n', 'e'],\n",
       " ['L', 'e', 'a', 'r', 'n', 'i', 'n', 'g'],\n",
       " ['a', 'n', 'd'],\n",
       " ['D', 'e', 'e', 'p'],\n",
       " ['L', 'e', 'a', 'r', 'n', 'i', 'n', 'g']]"
      ]
     },
     "execution_count": 28,
     "metadata": {},
     "output_type": "execute_result"
    }
   ],
   "source": [
    "string = 'Machine Learning and Deep Learning'\n",
    "list(map(lambda x : list(x), string.split()))"
   ]
  },
  {
   "cell_type": "code",
   "execution_count": 29,
   "id": "fb5e7962",
   "metadata": {},
   "outputs": [
    {
     "data": {
      "text/plain": [
       "['Machine', 'Learning', 'and', 'Deep', 'Learning']"
      ]
     },
     "execution_count": 29,
     "metadata": {},
     "output_type": "execute_result"
    }
   ],
   "source": [
    "string = 'Machine Learning and Deep Learning'\n",
    "list(filter(lambda x : list(x), string.split()))"
   ]
  },
  {
   "cell_type": "markdown",
   "id": "48b2484d",
   "metadata": {},
   "source": [
    "## 4. reduce()"
   ]
  },
  {
   "cell_type": "code",
   "execution_count": 32,
   "id": "d78e2c0f",
   "metadata": {},
   "outputs": [],
   "source": [
    "from functools import reduce\n",
    "from functools import *"
   ]
  },
  {
   "cell_type": "code",
   "execution_count": 33,
   "id": "7e3ef170",
   "metadata": {},
   "outputs": [
    {
     "data": {
      "text/plain": [
       "20"
      ]
     },
     "execution_count": 33,
     "metadata": {},
     "output_type": "execute_result"
    }
   ],
   "source": [
    "l1 = [2,3,4,5,6]\n",
    "reduce(lambda x,y : x+y, l1)"
   ]
  },
  {
   "cell_type": "code",
   "execution_count": 34,
   "id": "cb511a0c",
   "metadata": {},
   "outputs": [
    {
     "data": {
      "text/plain": [
       "720"
      ]
     },
     "execution_count": 34,
     "metadata": {},
     "output_type": "execute_result"
    }
   ],
   "source": [
    "l1 = [2,3,4,5,6]\n",
    "reduce(lambda x,y : x*y, l1)"
   ]
  },
  {
   "cell_type": "code",
   "execution_count": 35,
   "id": "c59e5f9c",
   "metadata": {},
   "outputs": [
    {
     "data": {
      "text/plain": [
       "55"
      ]
     },
     "execution_count": 35,
     "metadata": {},
     "output_type": "execute_result"
    }
   ],
   "source": [
    "reduce(lambda x ,y : x+y, range(1,11))"
   ]
  },
  {
   "cell_type": "code",
   "execution_count": 36,
   "id": "1d47dcc8",
   "metadata": {},
   "outputs": [
    {
     "data": {
      "text/plain": [
       "155"
      ]
     },
     "execution_count": 36,
     "metadata": {},
     "output_type": "execute_result"
    }
   ],
   "source": [
    "reduce(lambda x ,y : x+y, range(11,21))"
   ]
  },
  {
   "cell_type": "code",
   "execution_count": 37,
   "id": "923cc986",
   "metadata": {},
   "outputs": [
    {
     "data": {
      "text/plain": [
       "3"
      ]
     },
     "execution_count": 37,
     "metadata": {},
     "output_type": "execute_result"
    }
   ],
   "source": [
    "a = {1:10, 2:20}\n",
    "reduce(lambda x,y: x+y, a)"
   ]
  },
  {
   "cell_type": "code",
   "execution_count": 38,
   "id": "033daa40",
   "metadata": {},
   "outputs": [
    {
     "data": {
      "text/plain": [
       "30"
      ]
     },
     "execution_count": 38,
     "metadata": {},
     "output_type": "execute_result"
    }
   ],
   "source": [
    "a = {1:10, 2:20}\n",
    "reduce(lambda x,y: x+y, a.values())"
   ]
  },
  {
   "cell_type": "markdown",
   "id": "7f50a132",
   "metadata": {},
   "source": [
    "## 5. all()"
   ]
  },
  {
   "cell_type": "code",
   "execution_count": null,
   "id": "92f6a35e",
   "metadata": {},
   "outputs": [],
   "source": [
    "all(iterables)"
   ]
  },
  {
   "cell_type": "code",
   "execution_count": null,
   "id": "ca2c40aa",
   "metadata": {},
   "outputs": [],
   "source": [
    "True >> If all the elements are True\n",
    "True >> if iterable is empty\n",
    "False >> if any of the element is (0, False)"
   ]
  },
  {
   "cell_type": "code",
   "execution_count": 39,
   "id": "0fece7c6",
   "metadata": {},
   "outputs": [
    {
     "data": {
      "text/plain": [
       "True"
      ]
     },
     "execution_count": 39,
     "metadata": {},
     "output_type": "execute_result"
    }
   ],
   "source": [
    "l1 = [1,2,3,4,5]\n",
    "all(l1)"
   ]
  },
  {
   "cell_type": "code",
   "execution_count": 40,
   "id": "07b52cc4",
   "metadata": {},
   "outputs": [
    {
     "data": {
      "text/plain": [
       "True"
      ]
     },
     "execution_count": 40,
     "metadata": {},
     "output_type": "execute_result"
    }
   ],
   "source": [
    "l1 = [1,2,3,4,5,'data']\n",
    "all(l1)"
   ]
  },
  {
   "cell_type": "code",
   "execution_count": 41,
   "id": "55309bbc",
   "metadata": {},
   "outputs": [
    {
     "data": {
      "text/plain": [
       "False"
      ]
     },
     "execution_count": 41,
     "metadata": {},
     "output_type": "execute_result"
    }
   ],
   "source": [
    "l1 = [1,2,3,4,0,'data']\n",
    "all(l1)"
   ]
  },
  {
   "cell_type": "code",
   "execution_count": 42,
   "id": "0a20be52",
   "metadata": {},
   "outputs": [
    {
     "data": {
      "text/plain": [
       "False"
      ]
     },
     "execution_count": 42,
     "metadata": {},
     "output_type": "execute_result"
    }
   ],
   "source": [
    "l1 = [1,2,3,4,False,'data']\n",
    "all(l1)"
   ]
  },
  {
   "cell_type": "code",
   "execution_count": 43,
   "id": "01f6858e",
   "metadata": {},
   "outputs": [
    {
     "data": {
      "text/plain": [
       "True"
      ]
     },
     "execution_count": 43,
     "metadata": {},
     "output_type": "execute_result"
    }
   ],
   "source": [
    "all([])"
   ]
  },
  {
   "cell_type": "code",
   "execution_count": 44,
   "id": "e3611a80",
   "metadata": {},
   "outputs": [
    {
     "data": {
      "text/plain": [
       "True"
      ]
     },
     "execution_count": 44,
     "metadata": {},
     "output_type": "execute_result"
    }
   ],
   "source": [
    "all('')"
   ]
  },
  {
   "cell_type": "code",
   "execution_count": 45,
   "id": "6038fcca",
   "metadata": {},
   "outputs": [
    {
     "data": {
      "text/plain": [
       "False"
      ]
     },
     "execution_count": 45,
     "metadata": {},
     "output_type": "execute_result"
    }
   ],
   "source": [
    "l1 = [1,2,3,4,3,'']\n",
    "all(l1)"
   ]
  },
  {
   "cell_type": "code",
   "execution_count": 46,
   "id": "0dc8a20f",
   "metadata": {},
   "outputs": [
    {
     "data": {
      "text/plain": [
       "True"
      ]
     },
     "execution_count": 46,
     "metadata": {},
     "output_type": "execute_result"
    }
   ],
   "source": [
    "l1 = [-1,-2,-3,-4,-3]\n",
    "all(l1)"
   ]
  },
  {
   "cell_type": "code",
   "execution_count": 47,
   "id": "0f38efa4",
   "metadata": {},
   "outputs": [
    {
     "data": {
      "text/plain": [
       "True"
      ]
     },
     "execution_count": 47,
     "metadata": {},
     "output_type": "execute_result"
    }
   ],
   "source": [
    "all([True, 1,True])"
   ]
  },
  {
   "cell_type": "code",
   "execution_count": 48,
   "id": "2664f11b",
   "metadata": {},
   "outputs": [
    {
     "data": {
      "text/plain": [
       "False"
      ]
     },
     "execution_count": 48,
     "metadata": {},
     "output_type": "execute_result"
    }
   ],
   "source": [
    "all([False, 1,True])"
   ]
  },
  {
   "cell_type": "code",
   "execution_count": 49,
   "id": "b16d2167",
   "metadata": {},
   "outputs": [
    {
     "data": {
      "text/plain": [
       "True"
      ]
     },
     "execution_count": 49,
     "metadata": {},
     "output_type": "execute_result"
    }
   ],
   "source": [
    "all({'a':10, 'b':20})"
   ]
  },
  {
   "cell_type": "code",
   "execution_count": 50,
   "id": "7fbc164c",
   "metadata": {},
   "outputs": [
    {
     "data": {
      "text/plain": [
       "True"
      ]
     },
     "execution_count": 50,
     "metadata": {},
     "output_type": "execute_result"
    }
   ],
   "source": [
    "all({'a':10, 'b':0}) # default checks for keys"
   ]
  },
  {
   "cell_type": "code",
   "execution_count": 51,
   "id": "e4a5e973",
   "metadata": {},
   "outputs": [
    {
     "data": {
      "text/plain": [
       "False"
      ]
     },
     "execution_count": 51,
     "metadata": {},
     "output_type": "execute_result"
    }
   ],
   "source": [
    "all({'a':10, '':0}) # default checks for keys"
   ]
  },
  {
   "cell_type": "markdown",
   "id": "82c076b5",
   "metadata": {},
   "source": [
    "## 6. any()"
   ]
  },
  {
   "cell_type": "code",
   "execution_count": null,
   "id": "2d4bfd90",
   "metadata": {},
   "outputs": [],
   "source": [
    "any(iterables)\n",
    "True >> if at least one elem is True\n",
    "False >> if all elem are false, iterable is empty"
   ]
  },
  {
   "cell_type": "code",
   "execution_count": 52,
   "id": "46db97c8",
   "metadata": {},
   "outputs": [
    {
     "data": {
      "text/plain": [
       "True"
      ]
     },
     "execution_count": 52,
     "metadata": {},
     "output_type": "execute_result"
    }
   ],
   "source": [
    "l1 = [12,54,87,6,2,21]\n",
    "any(l1)"
   ]
  },
  {
   "cell_type": "code",
   "execution_count": 53,
   "id": "94932eaf",
   "metadata": {},
   "outputs": [
    {
     "data": {
      "text/plain": [
       "True"
      ]
     },
     "execution_count": 53,
     "metadata": {},
     "output_type": "execute_result"
    }
   ],
   "source": [
    "l1 = [12,54,0,6,2,21]\n",
    "any(l1)"
   ]
  },
  {
   "cell_type": "code",
   "execution_count": 54,
   "id": "050bdf1a",
   "metadata": {},
   "outputs": [
    {
     "data": {
      "text/plain": [
       "True"
      ]
     },
     "execution_count": 54,
     "metadata": {},
     "output_type": "execute_result"
    }
   ],
   "source": [
    "l1 = [False,54,0,6,2,21]\n",
    "any(l1)"
   ]
  },
  {
   "cell_type": "code",
   "execution_count": 55,
   "id": "7e3af8a3",
   "metadata": {},
   "outputs": [
    {
     "data": {
      "text/plain": [
       "False"
      ]
     },
     "execution_count": 55,
     "metadata": {},
     "output_type": "execute_result"
    }
   ],
   "source": [
    "any([])"
   ]
  },
  {
   "cell_type": "code",
   "execution_count": 57,
   "id": "c39e0bb1",
   "metadata": {},
   "outputs": [
    {
     "data": {
      "text/plain": [
       "False"
      ]
     },
     "execution_count": 57,
     "metadata": {},
     "output_type": "execute_result"
    }
   ],
   "source": [
    "any([0,False])"
   ]
  },
  {
   "cell_type": "code",
   "execution_count": 58,
   "id": "860e7346",
   "metadata": {},
   "outputs": [
    {
     "data": {
      "text/plain": [
       "True"
      ]
     },
     "execution_count": 58,
     "metadata": {},
     "output_type": "execute_result"
    }
   ],
   "source": [
    "any([0,False,1])"
   ]
  },
  {
   "cell_type": "markdown",
   "id": "cc1614e3",
   "metadata": {},
   "source": [
    "## 7. chr()"
   ]
  },
  {
   "cell_type": "code",
   "execution_count": null,
   "id": "a49382b9",
   "metadata": {},
   "outputs": [],
   "source": [
    "ASCII Code >> character"
   ]
  },
  {
   "cell_type": "code",
   "execution_count": 59,
   "id": "9a1f5b40",
   "metadata": {},
   "outputs": [
    {
     "data": {
      "text/plain": [
       "'C'"
      ]
     },
     "execution_count": 59,
     "metadata": {},
     "output_type": "execute_result"
    }
   ],
   "source": [
    "chr(67)"
   ]
  },
  {
   "cell_type": "code",
   "execution_count": 60,
   "id": "6030e44c",
   "metadata": {},
   "outputs": [
    {
     "data": {
      "text/plain": [
       "'d'"
      ]
     },
     "execution_count": 60,
     "metadata": {},
     "output_type": "execute_result"
    }
   ],
   "source": [
    "chr(100)"
   ]
  },
  {
   "cell_type": "markdown",
   "id": "b5753e77",
   "metadata": {},
   "source": [
    "## 8. ord()"
   ]
  },
  {
   "cell_type": "code",
   "execution_count": 61,
   "id": "b7740dfa",
   "metadata": {},
   "outputs": [
    {
     "data": {
      "text/plain": [
       "65"
      ]
     },
     "execution_count": 61,
     "metadata": {},
     "output_type": "execute_result"
    }
   ],
   "source": [
    "ord('A')"
   ]
  },
  {
   "cell_type": "code",
   "execution_count": 62,
   "id": "8486a7ca",
   "metadata": {},
   "outputs": [
    {
     "data": {
      "text/plain": [
       "57"
      ]
     },
     "execution_count": 62,
     "metadata": {},
     "output_type": "execute_result"
    }
   ],
   "source": [
    "ord('9')"
   ]
  },
  {
   "cell_type": "code",
   "execution_count": 63,
   "id": "54afee17",
   "metadata": {},
   "outputs": [
    {
     "data": {
      "text/plain": [
       "58"
      ]
     },
     "execution_count": 63,
     "metadata": {},
     "output_type": "execute_result"
    }
   ],
   "source": [
    "ord(':')"
   ]
  },
  {
   "cell_type": "markdown",
   "id": "76555631",
   "metadata": {},
   "source": [
    "## 9. bin()"
   ]
  },
  {
   "cell_type": "code",
   "execution_count": 64,
   "id": "860409e2",
   "metadata": {},
   "outputs": [
    {
     "data": {
      "text/plain": [
       "'0b1010'"
      ]
     },
     "execution_count": 64,
     "metadata": {},
     "output_type": "execute_result"
    }
   ],
   "source": [
    "bin(10)"
   ]
  },
  {
   "cell_type": "code",
   "execution_count": 65,
   "id": "075b0fa1",
   "metadata": {},
   "outputs": [
    {
     "data": {
      "text/plain": [
       "'0b1100'"
      ]
     },
     "execution_count": 65,
     "metadata": {},
     "output_type": "execute_result"
    }
   ],
   "source": [
    "bin(12)"
   ]
  },
  {
   "cell_type": "markdown",
   "id": "b9a07397",
   "metadata": {},
   "source": [
    "## 10. bool()"
   ]
  },
  {
   "cell_type": "code",
   "execution_count": 66,
   "id": "e99cc74d",
   "metadata": {},
   "outputs": [
    {
     "data": {
      "text/plain": [
       "True"
      ]
     },
     "execution_count": 66,
     "metadata": {},
     "output_type": "execute_result"
    }
   ],
   "source": [
    "bool(2)"
   ]
  },
  {
   "cell_type": "code",
   "execution_count": 67,
   "id": "e572a2ee",
   "metadata": {},
   "outputs": [
    {
     "data": {
      "text/plain": [
       "False"
      ]
     },
     "execution_count": 67,
     "metadata": {},
     "output_type": "execute_result"
    }
   ],
   "source": [
    "bool(0)"
   ]
  },
  {
   "cell_type": "code",
   "execution_count": 68,
   "id": "872e7cc2",
   "metadata": {},
   "outputs": [
    {
     "data": {
      "text/plain": [
       "False"
      ]
     },
     "execution_count": 68,
     "metadata": {},
     "output_type": "execute_result"
    }
   ],
   "source": [
    "bool([])"
   ]
  },
  {
   "cell_type": "code",
   "execution_count": 69,
   "id": "8cadca69",
   "metadata": {},
   "outputs": [
    {
     "data": {
      "text/plain": [
       "True"
      ]
     },
     "execution_count": 69,
     "metadata": {},
     "output_type": "execute_result"
    }
   ],
   "source": [
    "bool(4==4)"
   ]
  },
  {
   "cell_type": "markdown",
   "id": "71123492",
   "metadata": {},
   "source": [
    "## 11. abs()"
   ]
  },
  {
   "cell_type": "code",
   "execution_count": null,
   "id": "7cd661ce",
   "metadata": {},
   "outputs": [],
   "source": [
    "Returns absolute values (Positive values)\n",
    "\n",
    "if number is complex >> it return the magnitude ( square both values and take root)"
   ]
  },
  {
   "cell_type": "code",
   "execution_count": 70,
   "id": "30ae0f4b",
   "metadata": {},
   "outputs": [
    {
     "data": {
      "text/plain": [
       "10"
      ]
     },
     "execution_count": 70,
     "metadata": {},
     "output_type": "execute_result"
    }
   ],
   "source": [
    "abs(10)"
   ]
  },
  {
   "cell_type": "code",
   "execution_count": 71,
   "id": "53933c51",
   "metadata": {},
   "outputs": [
    {
     "data": {
      "text/plain": [
       "10"
      ]
     },
     "execution_count": 71,
     "metadata": {},
     "output_type": "execute_result"
    }
   ],
   "source": [
    "abs(-10)"
   ]
  },
  {
   "cell_type": "code",
   "execution_count": 72,
   "id": "3fcc8076",
   "metadata": {},
   "outputs": [
    {
     "data": {
      "text/plain": [
       "5.0"
      ]
     },
     "execution_count": 72,
     "metadata": {},
     "output_type": "execute_result"
    }
   ],
   "source": [
    "abs(3+4j)"
   ]
  },
  {
   "cell_type": "code",
   "execution_count": 73,
   "id": "98c07a60",
   "metadata": {},
   "outputs": [
    {
     "data": {
      "text/plain": [
       "6.4031242374328485"
      ]
     },
     "execution_count": 73,
     "metadata": {},
     "output_type": "execute_result"
    }
   ],
   "source": [
    "abs(5+4j)"
   ]
  },
  {
   "cell_type": "markdown",
   "id": "dfbb45ae",
   "metadata": {},
   "source": [
    "## 12. dir()"
   ]
  },
  {
   "cell_type": "code",
   "execution_count": null,
   "id": "bb88adea",
   "metadata": {},
   "outputs": [],
   "source": [
    "dir >> directory\n",
    "list of valid attributes (variables, functions, classnames) of an object"
   ]
  },
  {
   "cell_type": "code",
   "execution_count": 75,
   "id": "3d784d84",
   "metadata": {},
   "outputs": [
    {
     "name": "stdout",
     "output_type": "stream",
     "text": [
      "['DirEntry', 'F_OK', 'MutableMapping', 'O_APPEND', 'O_BINARY', 'O_CREAT', 'O_EXCL', 'O_NOINHERIT', 'O_RANDOM', 'O_RDONLY', 'O_RDWR', 'O_SEQUENTIAL', 'O_SHORT_LIVED', 'O_TEMPORARY', 'O_TEXT', 'O_TRUNC', 'O_WRONLY', 'P_DETACH', 'P_NOWAIT', 'P_NOWAITO', 'P_OVERLAY', 'P_WAIT', 'PathLike', 'R_OK', 'SEEK_CUR', 'SEEK_END', 'SEEK_SET', 'TMP_MAX', 'W_OK', 'X_OK', '_AddedDllDirectory', '_Environ', '__all__', '__builtins__', '__cached__', '__doc__', '__file__', '__loader__', '__name__', '__package__', '__spec__', '_check_methods', '_execvpe', '_exists', '_exit', '_fspath', '_get_exports_list', '_putenv', '_unsetenv', '_wrap_close', 'abc', 'abort', 'access', 'add_dll_directory', 'altsep', 'chdir', 'chmod', 'close', 'closerange', 'cpu_count', 'curdir', 'defpath', 'device_encoding', 'devnull', 'dup', 'dup2', 'environ', 'error', 'execl', 'execle', 'execlp', 'execlpe', 'execv', 'execve', 'execvp', 'execvpe', 'extsep', 'fdopen', 'fsdecode', 'fsencode', 'fspath', 'fstat', 'fsync', 'ftruncate', 'get_exec_path', 'get_handle_inheritable', 'get_inheritable', 'get_terminal_size', 'getcwd', 'getcwdb', 'getenv', 'getlogin', 'getpid', 'getppid', 'isatty', 'kill', 'linesep', 'link', 'listdir', 'lseek', 'lstat', 'makedirs', 'mkdir', 'name', 'open', 'pardir', 'path', 'pathsep', 'pipe', 'popen', 'putenv', 'read', 'readlink', 'remove', 'removedirs', 'rename', 'renames', 'replace', 'rmdir', 'scandir', 'sep', 'set_handle_inheritable', 'set_inheritable', 'spawnl', 'spawnle', 'spawnv', 'spawnve', 'st', 'startfile', 'stat', 'stat_result', 'statvfs_result', 'strerror', 'supports_bytes_environ', 'supports_dir_fd', 'supports_effective_ids', 'supports_fd', 'supports_follow_symlinks', 'symlink', 'sys', 'system', 'terminal_size', 'times', 'times_result', 'truncate', 'umask', 'uname_result', 'unlink', 'urandom', 'utime', 'waitpid', 'walk', 'write']\n"
     ]
    }
   ],
   "source": [
    "import os\n",
    "print(dir(os))"
   ]
  },
  {
   "cell_type": "code",
   "execution_count": 77,
   "id": "1a9e748a",
   "metadata": {},
   "outputs": [
    {
     "name": "stdout",
     "output_type": "stream",
     "text": [
      "['BooleanDtype', 'Categorical', 'CategoricalDtype', 'CategoricalIndex', 'DataFrame', 'DateOffset', 'DatetimeIndex', 'DatetimeTZDtype', 'ExcelFile', 'ExcelWriter', 'Flags', 'Float32Dtype', 'Float64Dtype', 'Float64Index', 'Grouper', 'HDFStore', 'Index', 'IndexSlice', 'Int16Dtype', 'Int32Dtype', 'Int64Dtype', 'Int64Index', 'Int8Dtype', 'Interval', 'IntervalDtype', 'IntervalIndex', 'MultiIndex', 'NA', 'NaT', 'NamedAgg', 'Period', 'PeriodDtype', 'PeriodIndex', 'RangeIndex', 'Series', 'SparseDtype', 'StringDtype', 'Timedelta', 'TimedeltaIndex', 'Timestamp', 'UInt16Dtype', 'UInt32Dtype', 'UInt64Dtype', 'UInt64Index', 'UInt8Dtype', '__builtins__', '__cached__', '__doc__', '__docformat__', '__file__', '__getattr__', '__git_version__', '__loader__', '__name__', '__package__', '__path__', '__spec__', '__version__', '_config', '_hashtable', '_is_numpy_dev', '_lib', '_libs', '_np_version_under1p17', '_np_version_under1p18', '_testing', '_tslib', '_typing', '_version', 'api', 'array', 'arrays', 'bdate_range', 'compat', 'concat', 'core', 'crosstab', 'cut', 'date_range', 'describe_option', 'errors', 'eval', 'factorize', 'get_dummies', 'get_option', 'infer_freq', 'interval_range', 'io', 'isna', 'isnull', 'json_normalize', 'lreshape', 'melt', 'merge', 'merge_asof', 'merge_ordered', 'notna', 'notnull', 'offsets', 'option_context', 'options', 'pandas', 'period_range', 'pivot', 'pivot_table', 'plotting', 'qcut', 'read_clipboard', 'read_csv', 'read_excel', 'read_feather', 'read_fwf', 'read_gbq', 'read_hdf', 'read_html', 'read_json', 'read_orc', 'read_parquet', 'read_pickle', 'read_sas', 'read_spss', 'read_sql', 'read_sql_query', 'read_sql_table', 'read_stata', 'read_table', 'reset_option', 'set_eng_float_format', 'set_option', 'show_versions', 'test', 'testing', 'timedelta_range', 'to_datetime', 'to_numeric', 'to_pickle', 'to_timedelta', 'tseries', 'unique', 'util', 'value_counts', 'wide_to_long']\n"
     ]
    }
   ],
   "source": [
    "import pandas\n",
    "print(dir(pandas))"
   ]
  },
  {
   "cell_type": "markdown",
   "id": "811fdc66",
   "metadata": {},
   "source": [
    "## 13. enumerate()"
   ]
  },
  {
   "cell_type": "code",
   "execution_count": 78,
   "id": "121af881",
   "metadata": {},
   "outputs": [
    {
     "data": {
      "text/plain": [
       "[(0, 'p'), (1, 'y'), (2, 't'), (3, 'h'), (4, 'o'), (5, 'n')]"
      ]
     },
     "execution_count": 78,
     "metadata": {},
     "output_type": "execute_result"
    }
   ],
   "source": [
    "s = 'python'\n",
    "list(enumerate(s))"
   ]
  },
  {
   "cell_type": "code",
   "execution_count": 79,
   "id": "9fda8989",
   "metadata": {},
   "outputs": [
    {
     "name": "stdout",
     "output_type": "stream",
     "text": [
      "i==0 , val ==p\n",
      "i==1 , val ==y\n",
      "i==2 , val ==t\n",
      "i==3 , val ==h\n",
      "i==4 , val ==o\n",
      "i==5 , val ==n\n"
     ]
    }
   ],
   "source": [
    "for i,val in enumerate(s):\n",
    "    print(f'i=={i} , val =={val}')"
   ]
  },
  {
   "cell_type": "markdown",
   "id": "66a3073c",
   "metadata": {},
   "source": [
    "## 14. range()"
   ]
  },
  {
   "cell_type": "code",
   "execution_count": 80,
   "id": "f4cb4dfb",
   "metadata": {},
   "outputs": [
    {
     "data": {
      "text/plain": [
       "[2, 3, 4, 5, 6, 7, 8, 9]"
      ]
     },
     "execution_count": 80,
     "metadata": {},
     "output_type": "execute_result"
    }
   ],
   "source": [
    "list(range(2,10))"
   ]
  },
  {
   "cell_type": "code",
   "execution_count": 81,
   "id": "9a16482e",
   "metadata": {},
   "outputs": [
    {
     "data": {
      "text/plain": [
       "(2, 3, 4, 5, 6, 7, 8, 9)"
      ]
     },
     "execution_count": 81,
     "metadata": {},
     "output_type": "execute_result"
    }
   ],
   "source": [
    "tuple(range(2,10))"
   ]
  },
  {
   "cell_type": "code",
   "execution_count": 82,
   "id": "0e78fc80",
   "metadata": {},
   "outputs": [
    {
     "name": "stdout",
     "output_type": "stream",
     "text": [
      "2\n",
      "3\n",
      "4\n",
      "5\n",
      "6\n",
      "7\n",
      "8\n",
      "9\n",
      "10\n"
     ]
    }
   ],
   "source": [
    "for i in range(2,11):\n",
    "    print(i)"
   ]
  },
  {
   "cell_type": "markdown",
   "id": "a86be7a7",
   "metadata": {},
   "source": [
    "## 15. print()"
   ]
  },
  {
   "cell_type": "code",
   "execution_count": 83,
   "id": "ee250475",
   "metadata": {},
   "outputs": [
    {
     "name": "stdout",
     "output_type": "stream",
     "text": [
      "data\n"
     ]
    }
   ],
   "source": [
    "a = 'data'\n",
    "print(a)"
   ]
  },
  {
   "cell_type": "markdown",
   "id": "6383307f",
   "metadata": {},
   "source": [
    "## 16. input()"
   ]
  },
  {
   "cell_type": "code",
   "execution_count": null,
   "id": "7e6c467d",
   "metadata": {},
   "outputs": [],
   "source": [
    "user inputs"
   ]
  },
  {
   "cell_type": "code",
   "execution_count": 84,
   "id": "137f2f16",
   "metadata": {},
   "outputs": [
    {
     "name": "stdout",
     "output_type": "stream",
     "text": [
      "Enter a nameSagar\n"
     ]
    },
    {
     "data": {
      "text/plain": [
       "'Sagar'"
      ]
     },
     "execution_count": 84,
     "metadata": {},
     "output_type": "execute_result"
    }
   ],
   "source": [
    "n = input('Enter a name')\n",
    "n"
   ]
  },
  {
   "cell_type": "code",
   "execution_count": 85,
   "id": "a6c02b22",
   "metadata": {},
   "outputs": [
    {
     "name": "stdout",
     "output_type": "stream",
     "text": [
      "Enter a num5\n"
     ]
    },
    {
     "data": {
      "text/plain": [
       "5"
      ]
     },
     "execution_count": 85,
     "metadata": {},
     "output_type": "execute_result"
    }
   ],
   "source": [
    "n = int(input('Enter a num'))\n",
    "n"
   ]
  },
  {
   "cell_type": "markdown",
   "id": "4c9552cc",
   "metadata": {},
   "source": [
    "## 17. eval()"
   ]
  },
  {
   "cell_type": "code",
   "execution_count": 87,
   "id": "8b3a4b9b",
   "metadata": {},
   "outputs": [
    {
     "name": "stdout",
     "output_type": "stream",
     "text": [
      "enter a num:45\n",
      "45 <class 'int'>\n"
     ]
    }
   ],
   "source": [
    "a= eval(input('enter a num:'))\n",
    "print(a, type(a))"
   ]
  },
  {
   "cell_type": "code",
   "execution_count": 88,
   "id": "b1816169",
   "metadata": {},
   "outputs": [
    {
     "name": "stdout",
     "output_type": "stream",
     "text": [
      "enter a num:9.5\n",
      "9.5 <class 'float'>\n"
     ]
    }
   ],
   "source": [
    "a= eval(input('enter a num:'))\n",
    "print(a, type(a))"
   ]
  },
  {
   "cell_type": "code",
   "execution_count": 89,
   "id": "7f0b629c",
   "metadata": {},
   "outputs": [
    {
     "name": "stdout",
     "output_type": "stream",
     "text": [
      "enter a num:ram\n"
     ]
    },
    {
     "ename": "NameError",
     "evalue": "name 'ram' is not defined",
     "output_type": "error",
     "traceback": [
      "\u001b[1;31m---------------------------------------------------------------------------\u001b[0m",
      "\u001b[1;31mNameError\u001b[0m                                 Traceback (most recent call last)",
      "\u001b[1;32m<ipython-input-89-566e2cb14879>\u001b[0m in \u001b[0;36m<module>\u001b[1;34m\u001b[0m\n\u001b[1;32m----> 1\u001b[1;33m \u001b[0ma\u001b[0m\u001b[1;33m=\u001b[0m \u001b[0meval\u001b[0m\u001b[1;33m(\u001b[0m\u001b[0minput\u001b[0m\u001b[1;33m(\u001b[0m\u001b[1;34m'enter a num:'\u001b[0m\u001b[1;33m)\u001b[0m\u001b[1;33m)\u001b[0m\u001b[1;33m\u001b[0m\u001b[1;33m\u001b[0m\u001b[0m\n\u001b[0m\u001b[0;32m      2\u001b[0m \u001b[0mprint\u001b[0m\u001b[1;33m(\u001b[0m\u001b[0ma\u001b[0m\u001b[1;33m,\u001b[0m \u001b[0mtype\u001b[0m\u001b[1;33m(\u001b[0m\u001b[0ma\u001b[0m\u001b[1;33m)\u001b[0m\u001b[1;33m)\u001b[0m\u001b[1;33m\u001b[0m\u001b[1;33m\u001b[0m\u001b[0m\n",
      "\u001b[1;32m<string>\u001b[0m in \u001b[0;36m<module>\u001b[1;34m\u001b[0m\n",
      "\u001b[1;31mNameError\u001b[0m: name 'ram' is not defined"
     ]
    }
   ],
   "source": [
    "a= eval(input('enter a num:'))\n",
    "print(a, type(a))"
   ]
  },
  {
   "cell_type": "code",
   "execution_count": 90,
   "id": "702fbe22",
   "metadata": {},
   "outputs": [
    {
     "name": "stdout",
     "output_type": "stream",
     "text": [
      "enter a num:'ram'\n",
      "ram <class 'str'>\n"
     ]
    }
   ],
   "source": [
    "a= eval(input('enter a num:'))\n",
    "print(a, type(a))"
   ]
  },
  {
   "cell_type": "code",
   "execution_count": 91,
   "id": "97ea8999",
   "metadata": {},
   "outputs": [
    {
     "name": "stdout",
     "output_type": "stream",
     "text": [
      "enter a num:[1,2,3]\n",
      "[1, 2, 3] <class 'list'>\n"
     ]
    }
   ],
   "source": [
    "a= eval(input('enter a num:'))\n",
    "print(a, type(a))"
   ]
  },
  {
   "cell_type": "markdown",
   "id": "714345be",
   "metadata": {},
   "source": [
    "## 18. iter()"
   ]
  },
  {
   "cell_type": "code",
   "execution_count": 92,
   "id": "7217f227",
   "metadata": {},
   "outputs": [
    {
     "data": {
      "text/plain": [
       "<list_iterator at 0x13726ee70a0>"
      ]
     },
     "execution_count": 92,
     "metadata": {},
     "output_type": "execute_result"
    }
   ],
   "source": [
    "numbers = [1,2,3] \n",
    "iterabale_num = iter(numbers)  # iterator object\n",
    "iterabale_num"
   ]
  },
  {
   "cell_type": "code",
   "execution_count": 93,
   "id": "91432373",
   "metadata": {},
   "outputs": [
    {
     "name": "stdout",
     "output_type": "stream",
     "text": [
      "1\n"
     ]
    }
   ],
   "source": [
    "print(next(iterabale_num)) # calling itertor object"
   ]
  },
  {
   "cell_type": "code",
   "execution_count": 94,
   "id": "13c64d2e",
   "metadata": {},
   "outputs": [
    {
     "name": "stdout",
     "output_type": "stream",
     "text": [
      "2\n",
      "3\n"
     ]
    }
   ],
   "source": [
    "print(next(iterabale_num))\n",
    "print(next(iterabale_num))"
   ]
  },
  {
   "cell_type": "code",
   "execution_count": 95,
   "id": "c61e0246",
   "metadata": {},
   "outputs": [
    {
     "ename": "StopIteration",
     "evalue": "",
     "output_type": "error",
     "traceback": [
      "\u001b[1;31m---------------------------------------------------------------------------\u001b[0m",
      "\u001b[1;31mStopIteration\u001b[0m                             Traceback (most recent call last)",
      "\u001b[1;32m<ipython-input-95-145ad4ac51c4>\u001b[0m in \u001b[0;36m<module>\u001b[1;34m\u001b[0m\n\u001b[1;32m----> 1\u001b[1;33m \u001b[0mprint\u001b[0m\u001b[1;33m(\u001b[0m\u001b[0mnext\u001b[0m\u001b[1;33m(\u001b[0m\u001b[0miterabale_num\u001b[0m\u001b[1;33m)\u001b[0m\u001b[1;33m)\u001b[0m\u001b[1;33m\u001b[0m\u001b[1;33m\u001b[0m\u001b[0m\n\u001b[0m",
      "\u001b[1;31mStopIteration\u001b[0m: "
     ]
    }
   ],
   "source": [
    "print(next(iterabale_num))"
   ]
  },
  {
   "cell_type": "code",
   "execution_count": 96,
   "id": "21ea68c1",
   "metadata": {},
   "outputs": [
    {
     "name": "stdout",
     "output_type": "stream",
     "text": [
      "1\n",
      "2\n",
      "3\n",
      "5\n",
      "4\n"
     ]
    },
    {
     "ename": "StopIteration",
     "evalue": "",
     "output_type": "error",
     "traceback": [
      "\u001b[1;31m---------------------------------------------------------------------------\u001b[0m",
      "\u001b[1;31mStopIteration\u001b[0m                             Traceback (most recent call last)",
      "\u001b[1;32m<ipython-input-96-6ce709f94778>\u001b[0m in \u001b[0;36m<module>\u001b[1;34m\u001b[0m\n\u001b[0;32m      6\u001b[0m \u001b[0mprint\u001b[0m\u001b[1;33m(\u001b[0m\u001b[0mnext\u001b[0m\u001b[1;33m(\u001b[0m\u001b[0miterabale_num\u001b[0m\u001b[1;33m)\u001b[0m\u001b[1;33m)\u001b[0m\u001b[1;33m\u001b[0m\u001b[1;33m\u001b[0m\u001b[0m\n\u001b[0;32m      7\u001b[0m \u001b[0mprint\u001b[0m\u001b[1;33m(\u001b[0m\u001b[0mnext\u001b[0m\u001b[1;33m(\u001b[0m\u001b[0miterabale_num\u001b[0m\u001b[1;33m)\u001b[0m\u001b[1;33m)\u001b[0m\u001b[1;33m\u001b[0m\u001b[1;33m\u001b[0m\u001b[0m\n\u001b[1;32m----> 8\u001b[1;33m \u001b[0mprint\u001b[0m\u001b[1;33m(\u001b[0m\u001b[0mnext\u001b[0m\u001b[1;33m(\u001b[0m\u001b[0miterabale_num\u001b[0m\u001b[1;33m)\u001b[0m\u001b[1;33m)\u001b[0m\u001b[1;33m\u001b[0m\u001b[1;33m\u001b[0m\u001b[0m\n\u001b[0m",
      "\u001b[1;31mStopIteration\u001b[0m: "
     ]
    }
   ],
   "source": [
    "numbers = [1,2,3,5,4] \n",
    "iterabale_num = iter(numbers)  # iterator object\n",
    "print(next(iterabale_num))\n",
    "print(next(iterabale_num))\n",
    "print(next(iterabale_num))\n",
    "print(next(iterabale_num))\n",
    "print(next(iterabale_num))\n",
    "print(next(iterabale_num))"
   ]
  },
  {
   "cell_type": "code",
   "execution_count": 99,
   "id": "545c7e43",
   "metadata": {},
   "outputs": [
    {
     "name": "stdout",
     "output_type": "stream",
     "text": [
      "Sagar\n",
      "Nilesh\n",
      "Pratibha\n"
     ]
    },
    {
     "ename": "StopIteration",
     "evalue": "",
     "output_type": "error",
     "traceback": [
      "\u001b[1;31m---------------------------------------------------------------------------\u001b[0m",
      "\u001b[1;31mStopIteration\u001b[0m                             Traceback (most recent call last)",
      "\u001b[1;32m<ipython-input-99-092c9420932d>\u001b[0m in \u001b[0;36m<module>\u001b[1;34m\u001b[0m\n\u001b[0;32m      4\u001b[0m \u001b[0mprint\u001b[0m\u001b[1;33m(\u001b[0m\u001b[0mnext\u001b[0m\u001b[1;33m(\u001b[0m\u001b[0miter_names\u001b[0m\u001b[1;33m)\u001b[0m\u001b[1;33m)\u001b[0m\u001b[1;33m\u001b[0m\u001b[1;33m\u001b[0m\u001b[0m\n\u001b[0;32m      5\u001b[0m \u001b[0mprint\u001b[0m\u001b[1;33m(\u001b[0m\u001b[0mnext\u001b[0m\u001b[1;33m(\u001b[0m\u001b[0miter_names\u001b[0m\u001b[1;33m)\u001b[0m\u001b[1;33m)\u001b[0m\u001b[1;33m\u001b[0m\u001b[1;33m\u001b[0m\u001b[0m\n\u001b[1;32m----> 6\u001b[1;33m \u001b[0mprint\u001b[0m\u001b[1;33m(\u001b[0m\u001b[0mnext\u001b[0m\u001b[1;33m(\u001b[0m\u001b[0miter_names\u001b[0m\u001b[1;33m)\u001b[0m\u001b[1;33m)\u001b[0m\u001b[1;33m\u001b[0m\u001b[1;33m\u001b[0m\u001b[0m\n\u001b[0m",
      "\u001b[1;31mStopIteration\u001b[0m: "
     ]
    }
   ],
   "source": [
    "names = ['Sagar', 'Nilesh', 'Pratibha']\n",
    "iter_names = iter(names)\n",
    "print(next(iter_names))\n",
    "print(next(iter_names))\n",
    "print(next(iter_names))\n",
    "print(next(iter_names))"
   ]
  },
  {
   "cell_type": "code",
   "execution_count": 101,
   "id": "e36b163d",
   "metadata": {},
   "outputs": [
    {
     "data": {
      "text/plain": [
       "'Sagar'"
      ]
     },
     "execution_count": 101,
     "metadata": {},
     "output_type": "execute_result"
    }
   ],
   "source": [
    "names = ['Sagar', 'Nilesh', 'Pratibha']\n",
    "next(iter(names))\n",
    "next(iter(names))"
   ]
  },
  {
   "cell_type": "code",
   "execution_count": 102,
   "id": "c5e5a5b5",
   "metadata": {},
   "outputs": [
    {
     "data": {
      "text/plain": [
       "'Sagar'"
      ]
     },
     "execution_count": 102,
     "metadata": {},
     "output_type": "execute_result"
    }
   ],
   "source": [
    "next(iter(names))"
   ]
  },
  {
   "cell_type": "markdown",
   "id": "1275b90e",
   "metadata": {},
   "source": [
    "## 19. pow()"
   ]
  },
  {
   "cell_type": "code",
   "execution_count": 103,
   "id": "2aa138f5",
   "metadata": {},
   "outputs": [
    {
     "data": {
      "text/plain": [
       "25"
      ]
     },
     "execution_count": 103,
     "metadata": {},
     "output_type": "execute_result"
    }
   ],
   "source": [
    "pow(5,2)"
   ]
  },
  {
   "cell_type": "code",
   "execution_count": 104,
   "id": "2c708491",
   "metadata": {},
   "outputs": [
    {
     "data": {
      "text/plain": [
       "81"
      ]
     },
     "execution_count": 104,
     "metadata": {},
     "output_type": "execute_result"
    }
   ],
   "source": [
    "pow(9,2)"
   ]
  },
  {
   "cell_type": "code",
   "execution_count": 105,
   "id": "10319732",
   "metadata": {},
   "outputs": [
    {
     "data": {
      "text/plain": [
       "1000"
      ]
     },
     "execution_count": 105,
     "metadata": {},
     "output_type": "execute_result"
    }
   ],
   "source": [
    "pow(10,3)"
   ]
  },
  {
   "cell_type": "markdown",
   "id": "ad4560c8",
   "metadata": {},
   "source": [
    "## 20. format()"
   ]
  },
  {
   "cell_type": "code",
   "execution_count": 106,
   "id": "bc3aa78e",
   "metadata": {},
   "outputs": [
    {
     "data": {
      "text/plain": [
       "'2.000000'"
      ]
     },
     "execution_count": 106,
     "metadata": {},
     "output_type": "execute_result"
    }
   ],
   "source": [
    "format(2, 'f')"
   ]
  },
  {
   "cell_type": "code",
   "execution_count": 107,
   "id": "8dc64805",
   "metadata": {},
   "outputs": [
    {
     "data": {
      "text/plain": [
       "str"
      ]
     },
     "execution_count": 107,
     "metadata": {},
     "output_type": "execute_result"
    }
   ],
   "source": [
    "x = format(2, 'f')\n",
    "type(x)"
   ]
  },
  {
   "cell_type": "code",
   "execution_count": 108,
   "id": "1a8cefa0",
   "metadata": {},
   "outputs": [
    {
     "data": {
      "text/plain": [
       "'2.450000'"
      ]
     },
     "execution_count": 108,
     "metadata": {},
     "output_type": "execute_result"
    }
   ],
   "source": [
    "format(2.45, 'f')"
   ]
  },
  {
   "cell_type": "code",
   "execution_count": 129,
   "id": "eac8db83",
   "metadata": {},
   "outputs": [
    {
     "ename": "ValueError",
     "evalue": "Unknown format code 'c' for object of type 'complex'",
     "output_type": "error",
     "traceback": [
      "\u001b[1;31m---------------------------------------------------------------------------\u001b[0m",
      "\u001b[1;31mValueError\u001b[0m                                Traceback (most recent call last)",
      "\u001b[1;32m<ipython-input-129-f3cd02f68e82>\u001b[0m in \u001b[0;36m<module>\u001b[1;34m\u001b[0m\n\u001b[1;32m----> 1\u001b[1;33m \u001b[0mformat\u001b[0m\u001b[1;33m(\u001b[0m\u001b[1;36m2\u001b[0m\u001b[1;33m+\u001b[0m\u001b[1;36m3j\u001b[0m\u001b[1;33m,\u001b[0m \u001b[1;34m'c'\u001b[0m\u001b[1;33m)\u001b[0m\u001b[1;33m\u001b[0m\u001b[1;33m\u001b[0m\u001b[0m\n\u001b[0m",
      "\u001b[1;31mValueError\u001b[0m: Unknown format code 'c' for object of type 'complex'"
     ]
    }
   ],
   "source": [
    "format(2+3j, 'c')"
   ]
  },
  {
   "cell_type": "code",
   "execution_count": 110,
   "id": "4a8e6ac7",
   "metadata": {},
   "outputs": [
    {
     "data": {
      "text/plain": [
       "'2'"
      ]
     },
     "execution_count": 110,
     "metadata": {},
     "output_type": "execute_result"
    }
   ],
   "source": [
    "format(2, 'd')"
   ]
  },
  {
   "cell_type": "code",
   "execution_count": 111,
   "id": "bd4cb308",
   "metadata": {},
   "outputs": [
    {
     "ename": "ValueError",
     "evalue": "Unknown format code 's' for object of type 'int'",
     "output_type": "error",
     "traceback": [
      "\u001b[1;31m---------------------------------------------------------------------------\u001b[0m",
      "\u001b[1;31mValueError\u001b[0m                                Traceback (most recent call last)",
      "\u001b[1;32m<ipython-input-111-cd2a200d1dd9>\u001b[0m in \u001b[0;36m<module>\u001b[1;34m\u001b[0m\n\u001b[1;32m----> 1\u001b[1;33m \u001b[0mformat\u001b[0m\u001b[1;33m(\u001b[0m\u001b[1;36m2\u001b[0m\u001b[1;33m,\u001b[0m \u001b[1;34m's'\u001b[0m\u001b[1;33m)\u001b[0m\u001b[1;33m\u001b[0m\u001b[1;33m\u001b[0m\u001b[0m\n\u001b[0m",
      "\u001b[1;31mValueError\u001b[0m: Unknown format code 's' for object of type 'int'"
     ]
    }
   ],
   "source": [
    "format(2, 's')"
   ]
  },
  {
   "cell_type": "code",
   "execution_count": 112,
   "id": "c8386daa",
   "metadata": {},
   "outputs": [
    {
     "data": {
      "text/plain": [
       "'data'"
      ]
     },
     "execution_count": 112,
     "metadata": {},
     "output_type": "execute_result"
    }
   ],
   "source": [
    "format('data', 's')"
   ]
  },
  {
   "cell_type": "code",
   "execution_count": 114,
   "id": "658132ab",
   "metadata": {},
   "outputs": [
    {
     "data": {
      "text/plain": [
       "'1100'"
      ]
     },
     "execution_count": 114,
     "metadata": {},
     "output_type": "execute_result"
    }
   ],
   "source": [
    "format(12, 'b')"
   ]
  },
  {
   "cell_type": "code",
   "execution_count": 113,
   "id": "d3b550e2",
   "metadata": {},
   "outputs": [
    {
     "data": {
      "text/plain": [
       "'0b1100'"
      ]
     },
     "execution_count": 113,
     "metadata": {},
     "output_type": "execute_result"
    }
   ],
   "source": [
    "bin(12)"
   ]
  },
  {
   "cell_type": "markdown",
   "id": "1d7c4df2",
   "metadata": {},
   "source": [
    "## 21. round()"
   ]
  },
  {
   "cell_type": "code",
   "execution_count": 115,
   "id": "a996a9f0",
   "metadata": {},
   "outputs": [
    {
     "data": {
      "text/plain": [
       "3"
      ]
     },
     "execution_count": 115,
     "metadata": {},
     "output_type": "execute_result"
    }
   ],
   "source": [
    "num = 3.14548\n",
    "round(3)"
   ]
  },
  {
   "cell_type": "code",
   "execution_count": 117,
   "id": "5a01bfad",
   "metadata": {},
   "outputs": [
    {
     "data": {
      "text/plain": [
       "4"
      ]
     },
     "execution_count": 117,
     "metadata": {},
     "output_type": "execute_result"
    }
   ],
   "source": [
    "num = 3.814548\n",
    "round(num)"
   ]
  },
  {
   "cell_type": "code",
   "execution_count": 118,
   "id": "0c7191b6",
   "metadata": {},
   "outputs": [
    {
     "data": {
      "text/plain": [
       "3.81"
      ]
     },
     "execution_count": 118,
     "metadata": {},
     "output_type": "execute_result"
    }
   ],
   "source": [
    "num = 3.814548\n",
    "round(num,2)"
   ]
  },
  {
   "cell_type": "code",
   "execution_count": 119,
   "id": "8a5d96ff",
   "metadata": {},
   "outputs": [
    {
     "data": {
      "text/plain": [
       "3.82"
      ]
     },
     "execution_count": 119,
     "metadata": {},
     "output_type": "execute_result"
    }
   ],
   "source": [
    "num = 3.819548\n",
    "round(num,2)"
   ]
  },
  {
   "cell_type": "code",
   "execution_count": 122,
   "id": "2142f4f8",
   "metadata": {},
   "outputs": [
    {
     "data": {
      "text/plain": [
       "3.815"
      ]
     },
     "execution_count": 122,
     "metadata": {},
     "output_type": "execute_result"
    }
   ],
   "source": [
    "num = 3.814548\n",
    "round(num,3)"
   ]
  },
  {
   "cell_type": "code",
   "execution_count": 124,
   "id": "1ba50080",
   "metadata": {},
   "outputs": [
    {
     "data": {
      "text/plain": [
       "0.667"
      ]
     },
     "execution_count": 124,
     "metadata": {},
     "output_type": "execute_result"
    }
   ],
   "source": [
    "x = 2/3\n",
    "round(x, 3)"
   ]
  },
  {
   "cell_type": "markdown",
   "id": "3926cc2e",
   "metadata": {},
   "source": [
    "## 22. divmod"
   ]
  },
  {
   "cell_type": "code",
   "execution_count": 125,
   "id": "3c2eada1",
   "metadata": {},
   "outputs": [
    {
     "data": {
      "text/plain": [
       "7.666666666666667"
      ]
     },
     "execution_count": 125,
     "metadata": {},
     "output_type": "execute_result"
    }
   ],
   "source": [
    "23/3"
   ]
  },
  {
   "cell_type": "code",
   "execution_count": 126,
   "id": "94361f83",
   "metadata": {},
   "outputs": [
    {
     "data": {
      "text/plain": [
       "7"
      ]
     },
     "execution_count": 126,
     "metadata": {},
     "output_type": "execute_result"
    }
   ],
   "source": [
    "23//3"
   ]
  },
  {
   "cell_type": "code",
   "execution_count": 127,
   "id": "d405e2e9",
   "metadata": {},
   "outputs": [
    {
     "data": {
      "text/plain": [
       "2"
      ]
     },
     "execution_count": 127,
     "metadata": {},
     "output_type": "execute_result"
    }
   ],
   "source": [
    "23%3"
   ]
  },
  {
   "cell_type": "code",
   "execution_count": 128,
   "id": "cc2ab911",
   "metadata": {},
   "outputs": [
    {
     "data": {
      "text/plain": [
       "(7, 2)"
      ]
     },
     "execution_count": 128,
     "metadata": {},
     "output_type": "execute_result"
    }
   ],
   "source": [
    "divmod(23,3)"
   ]
  },
  {
   "cell_type": "code",
   "execution_count": null,
   "id": "17dcb0a0",
   "metadata": {},
   "outputs": [],
   "source": [
    "11  11 \n",
    "13  24\n",
    "14  38\n",
    "16  54"
   ]
  },
  {
   "cell_type": "markdown",
   "id": "e1a92c18",
   "metadata": {},
   "source": [
    "# Higher Order Function"
   ]
  },
  {
   "cell_type": "code",
   "execution_count": null,
   "id": "f6001e68",
   "metadata": {},
   "outputs": [],
   "source": [
    "When we are using a function as paramter to the other function"
   ]
  },
  {
   "cell_type": "code",
   "execution_count": 131,
   "id": "57c14eec",
   "metadata": {},
   "outputs": [
    {
     "name": "stdout",
     "output_type": "stream",
     "text": [
      "37\n"
     ]
    }
   ],
   "source": [
    "def add(a):\n",
    "    return a**2\n",
    "\n",
    "def num(x,y):\n",
    "    print(x +y)\n",
    "    \n",
    "num(12,add(5))"
   ]
  },
  {
   "cell_type": "code",
   "execution_count": 132,
   "id": "9ad5b43f",
   "metadata": {},
   "outputs": [
    {
     "data": {
      "text/plain": [
       "15"
      ]
     },
     "execution_count": 132,
     "metadata": {},
     "output_type": "execute_result"
    }
   ],
   "source": [
    "def new():\n",
    "    a = 10\n",
    "    return 10\n",
    "\n",
    "def test(n,b):\n",
    "    return n+b\n",
    "\n",
    "val = test(5,new())\n",
    "val"
   ]
  },
  {
   "cell_type": "code",
   "execution_count": 134,
   "id": "d1c2a63a",
   "metadata": {},
   "outputs": [
    {
     "data": {
      "text/plain": [
       "[1, 4, 9]"
      ]
     },
     "execution_count": 134,
     "metadata": {},
     "output_type": "execute_result"
    }
   ],
   "source": [
    "l1 = [1,2,3]\n",
    "a = list(map(lambda x: x**2, l1))\n",
    "a"
   ]
  },
  {
   "cell_type": "code",
   "execution_count": 135,
   "id": "ceac617a",
   "metadata": {},
   "outputs": [
    {
     "data": {
      "text/plain": [
       "[11, 14, 19]"
      ]
     },
     "execution_count": 135,
     "metadata": {},
     "output_type": "execute_result"
    }
   ],
   "source": [
    "def var(n1):\n",
    "    result = []\n",
    "    for i in n1:\n",
    "        result.append(i+10)\n",
    "        \n",
    "    return result\n",
    "\n",
    "s = var(a)\n",
    "s"
   ]
  },
  {
   "cell_type": "code",
   "execution_count": null,
   "id": "8dede43b",
   "metadata": {},
   "outputs": [],
   "source": []
  },
  {
   "cell_type": "code",
   "execution_count": null,
   "id": "2bbe7c21",
   "metadata": {},
   "outputs": [],
   "source": []
  },
  {
   "cell_type": "code",
   "execution_count": null,
   "id": "b308e70b",
   "metadata": {},
   "outputs": [],
   "source": []
  },
  {
   "cell_type": "code",
   "execution_count": null,
   "id": "e9279c1f",
   "metadata": {},
   "outputs": [],
   "source": []
  },
  {
   "cell_type": "code",
   "execution_count": null,
   "id": "d37c494e",
   "metadata": {},
   "outputs": [],
   "source": []
  },
  {
   "cell_type": "code",
   "execution_count": null,
   "id": "6aa5b110",
   "metadata": {},
   "outputs": [],
   "source": []
  },
  {
   "cell_type": "code",
   "execution_count": null,
   "id": "aa92cf58",
   "metadata": {},
   "outputs": [],
   "source": []
  },
  {
   "cell_type": "code",
   "execution_count": null,
   "id": "52186df6",
   "metadata": {},
   "outputs": [],
   "source": []
  },
  {
   "cell_type": "code",
   "execution_count": null,
   "id": "bc05d931",
   "metadata": {},
   "outputs": [],
   "source": []
  },
  {
   "cell_type": "code",
   "execution_count": null,
   "id": "e88a78fa",
   "metadata": {},
   "outputs": [],
   "source": []
  },
  {
   "cell_type": "code",
   "execution_count": null,
   "id": "059d9d1d",
   "metadata": {},
   "outputs": [],
   "source": []
  },
  {
   "cell_type": "code",
   "execution_count": null,
   "id": "dc3d9da2",
   "metadata": {},
   "outputs": [],
   "source": []
  },
  {
   "cell_type": "code",
   "execution_count": null,
   "id": "05545087",
   "metadata": {},
   "outputs": [],
   "source": []
  },
  {
   "cell_type": "code",
   "execution_count": null,
   "id": "f04fc5de",
   "metadata": {},
   "outputs": [],
   "source": []
  },
  {
   "cell_type": "code",
   "execution_count": null,
   "id": "ec33b645",
   "metadata": {},
   "outputs": [],
   "source": []
  },
  {
   "cell_type": "code",
   "execution_count": null,
   "id": "88adb40f",
   "metadata": {},
   "outputs": [],
   "source": []
  }
 ],
 "metadata": {
  "kernelspec": {
   "display_name": "Python 3 (ipykernel)",
   "language": "python",
   "name": "python3"
  },
  "language_info": {
   "codemirror_mode": {
    "name": "ipython",
    "version": 3
   },
   "file_extension": ".py",
   "mimetype": "text/x-python",
   "name": "python",
   "nbconvert_exporter": "python",
   "pygments_lexer": "ipython3",
   "version": "3.11.3"
  }
 },
 "nbformat": 4,
 "nbformat_minor": 5
}
