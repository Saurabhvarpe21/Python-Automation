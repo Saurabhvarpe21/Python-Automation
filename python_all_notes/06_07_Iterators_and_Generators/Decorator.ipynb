{
 "cells": [
  {
   "cell_type": "markdown",
   "id": "6f395eb4",
   "metadata": {},
   "source": [
    "# Decorators\n"
   ]
  },
  {
   "cell_type": "code",
   "execution_count": null,
   "id": "8d4ee19f",
   "metadata": {},
   "outputs": [],
   "source": [
    "Function that takes another function as its argument (higher order function)\n",
    "and return another function (object of function)\n",
    "\n",
    "a decorator takes in a function, adds some functionality and then returns it\n"
   ]
  },
  {
   "cell_type": "code",
   "execution_count": null,
   "id": "e5b872e4",
   "metadata": {},
   "outputs": [],
   "source": []
  },
  {
   "cell_type": "code",
   "execution_count": 2,
   "id": "73c5d3a9",
   "metadata": {},
   "outputs": [
    {
     "name": "stdout",
     "output_type": "stream",
     "text": [
      "Outer Function\n"
     ]
    }
   ],
   "source": [
    "def outer_function():\n",
    "    print('Outer Function')\n",
    "    \n",
    "    return\n",
    "\n",
    "outer_function()"
   ]
  },
  {
   "cell_type": "code",
   "execution_count": 5,
   "id": "85b5ce10",
   "metadata": {},
   "outputs": [
    {
     "name": "stdout",
     "output_type": "stream",
     "text": [
      "Outer Function\n"
     ]
    }
   ],
   "source": [
    "def outer_function():\n",
    "    print('Outer Function')\n",
    "    \n",
    "    def inner_function():\n",
    "        print('Inner Function')\n",
    "    \n",
    "    return\n",
    "\n",
    "outer_function()\n",
    "# inner_function()"
   ]
  },
  {
   "cell_type": "code",
   "execution_count": 6,
   "id": "c38f23dc",
   "metadata": {},
   "outputs": [
    {
     "name": "stdout",
     "output_type": "stream",
     "text": [
      "Outer Function\n"
     ]
    },
    {
     "ename": "NameError",
     "evalue": "name 'inner_function' is not defined",
     "output_type": "error",
     "traceback": [
      "\u001b[1;31m---------------------------------------------------------------------------\u001b[0m",
      "\u001b[1;31mNameError\u001b[0m                                 Traceback (most recent call last)",
      "\u001b[1;32m<ipython-input-6-f0608d2a9a69>\u001b[0m in \u001b[0;36m<module>\u001b[1;34m\u001b[0m\n\u001b[0;32m      8\u001b[0m \u001b[1;33m\u001b[0m\u001b[0m\n\u001b[0;32m      9\u001b[0m \u001b[0mouter_function\u001b[0m\u001b[1;33m(\u001b[0m\u001b[1;33m)\u001b[0m\u001b[1;33m\u001b[0m\u001b[1;33m\u001b[0m\u001b[0m\n\u001b[1;32m---> 10\u001b[1;33m \u001b[0minner_function\u001b[0m\u001b[1;33m(\u001b[0m\u001b[1;33m)\u001b[0m\u001b[1;33m\u001b[0m\u001b[1;33m\u001b[0m\u001b[0m\n\u001b[0m",
      "\u001b[1;31mNameError\u001b[0m: name 'inner_function' is not defined"
     ]
    }
   ],
   "source": [
    "def outer_function():\n",
    "    print('Outer Function')\n",
    "    \n",
    "    def inner_function():\n",
    "        print('Inner Function')\n",
    "    \n",
    "    return\n",
    "\n",
    "outer_function()\n",
    "inner_function()"
   ]
  },
  {
   "cell_type": "code",
   "execution_count": 8,
   "id": "21c3834f",
   "metadata": {},
   "outputs": [
    {
     "name": "stdout",
     "output_type": "stream",
     "text": [
      "Outer Function\n",
      "Inner Function\n"
     ]
    }
   ],
   "source": [
    "def outer_function():\n",
    "    print('Outer Function')\n",
    "    \n",
    "    def inner_function():\n",
    "        print('Inner Function')\n",
    "    \n",
    "    return inner_function()\n",
    "\n",
    "outer_function()"
   ]
  },
  {
   "cell_type": "code",
   "execution_count": 9,
   "id": "120e6ade",
   "metadata": {},
   "outputs": [
    {
     "name": "stdout",
     "output_type": "stream",
     "text": [
      "Outer Function\n",
      "Inner Function\n"
     ]
    }
   ],
   "source": [
    "def outer_function():\n",
    "    print('Outer Function')\n",
    "    \n",
    "    def inner_function():\n",
    "        print('Inner Function')\n",
    "    \n",
    "    return inner_function()\n",
    "\n",
    "x = outer_function()\n",
    "x"
   ]
  },
  {
   "cell_type": "code",
   "execution_count": 11,
   "id": "f1ca3b1c",
   "metadata": {},
   "outputs": [
    {
     "name": "stdout",
     "output_type": "stream",
     "text": [
      "Outer Function\n",
      "Inner Function\n"
     ]
    }
   ],
   "source": [
    "def outer_function():\n",
    "    print('Outer Function')\n",
    "    \n",
    "    def inner_function():\n",
    "        print('Inner Function')\n",
    "    \n",
    "    return inner_function\n",
    "\n",
    "x = outer_function()\n",
    "x()"
   ]
  },
  {
   "cell_type": "code",
   "execution_count": 12,
   "id": "2af0818e",
   "metadata": {},
   "outputs": [
    {
     "data": {
      "text/plain": [
       "<function __main__.my_fun()>"
      ]
     },
     "execution_count": 12,
     "metadata": {},
     "output_type": "execute_result"
    }
   ],
   "source": [
    "def my_fun():\n",
    "    print('Hello')\n",
    "    \n",
    "my_fun"
   ]
  },
  {
   "cell_type": "code",
   "execution_count": 13,
   "id": "330d3b40",
   "metadata": {},
   "outputs": [
    {
     "name": "stdout",
     "output_type": "stream",
     "text": [
      "Outer Function\n",
      "Inner Function\n"
     ]
    },
    {
     "data": {
      "text/plain": [
       "'PYTHON'"
      ]
     },
     "execution_count": 13,
     "metadata": {},
     "output_type": "execute_result"
    }
   ],
   "source": [
    "def outer_function():\n",
    "    print('Outer Function')\n",
    "    \n",
    "    def inner_function():\n",
    "        print('Inner Function')\n",
    "        return 'PYTHON'\n",
    "    \n",
    "    return inner_function\n",
    "\n",
    "x = outer_function()\n",
    "x()"
   ]
  },
  {
   "cell_type": "code",
   "execution_count": 15,
   "id": "0e5b4ffd",
   "metadata": {},
   "outputs": [
    {
     "name": "stdout",
     "output_type": "stream",
     "text": [
      "Outer Function\n",
      "########################################\n",
      "Inner Function\n",
      "++++++++++++++++++++++++++++++++++++++++\n"
     ]
    },
    {
     "data": {
      "text/plain": [
       "'PYTHON'"
      ]
     },
     "execution_count": 15,
     "metadata": {},
     "output_type": "execute_result"
    }
   ],
   "source": [
    "def outer_function():\n",
    "    print('Outer Function')\n",
    "    \n",
    "    def inner_function():\n",
    "        print('Inner Function')\n",
    "        print('++'*20)\n",
    "        return 'PYTHON'\n",
    "    \n",
    "    print('##'*20)\n",
    "    return inner_function\n",
    "\n",
    "x = outer_function()\n",
    "x()"
   ]
  },
  {
   "cell_type": "code",
   "execution_count": 17,
   "id": "e38bdcd4",
   "metadata": {},
   "outputs": [
    {
     "name": "stdout",
     "output_type": "stream",
     "text": [
      "Outer Function\n",
      "########################################\n",
      "Inner Function\n",
      "++++++++++++++++++++++++++++++++++++++++\n",
      "Value in variable a is : 100\n",
      "End of Inner Function\n"
     ]
    },
    {
     "data": {
      "text/plain": [
       "'PYTHON'"
      ]
     },
     "execution_count": 17,
     "metadata": {},
     "output_type": "execute_result"
    }
   ],
   "source": [
    "def outer_function():\n",
    "    print('Outer Function')\n",
    "    \n",
    "    def inner_function(a):\n",
    "        print('Inner Function')\n",
    "        print('++'*20)\n",
    "        print('Value in variable a is :',a)\n",
    "        print('End of Inner Function')\n",
    "        \n",
    "        return 'PYTHON'\n",
    "    \n",
    "    print('##'*20)\n",
    "    return inner_function\n",
    "\n",
    "x = outer_function()\n",
    "x(100)"
   ]
  },
  {
   "cell_type": "code",
   "execution_count": 18,
   "id": "6aba74b1",
   "metadata": {},
   "outputs": [
    {
     "name": "stdout",
     "output_type": "stream",
     "text": [
      "Outer Function\n",
      "Outer Function Completed\n",
      "Inner Function\n"
     ]
    }
   ],
   "source": [
    "def outer_function():\n",
    "    print('Outer Function')\n",
    "    \n",
    "    def inner_function():\n",
    "        print('Inner Function')\n",
    "        \n",
    "    print('Outer Function Completed')\n",
    "    return inner_function\n",
    "\n",
    "x = outer_function()\n",
    "x()"
   ]
  },
  {
   "cell_type": "code",
   "execution_count": 19,
   "id": "9c69ba98",
   "metadata": {},
   "outputs": [
    {
     "name": "stdout",
     "output_type": "stream",
     "text": [
      "Outer Function\n",
      "Outer Function Completed\n",
      "Inner Function\n"
     ]
    },
    {
     "data": {
      "text/plain": [
       "'Hello'"
      ]
     },
     "execution_count": 19,
     "metadata": {},
     "output_type": "execute_result"
    }
   ],
   "source": [
    "def outer_function():\n",
    "    print('Outer Function')\n",
    "    \n",
    "    def inner_function():\n",
    "        print('Inner Function')\n",
    "        return 'Hello'\n",
    "        \n",
    "    print('Outer Function Completed')\n",
    "    return inner_function\n",
    "\n",
    "x = outer_function()\n",
    "x()"
   ]
  },
  {
   "cell_type": "code",
   "execution_count": 26,
   "id": "f0b368f1",
   "metadata": {},
   "outputs": [
    {
     "name": "stdout",
     "output_type": "stream",
     "text": [
      "Outer Function\n",
      "Outer Function Completed\n",
      "We are in Inner Function\n",
      "We are testing Decorators\n",
      "Inner Function Completed\n"
     ]
    }
   ],
   "source": [
    "def my_fun():\n",
    "    print('We are testing Decorators')\n",
    "    \n",
    "        \n",
    "def hello_decorator(func):          # Higher order function\n",
    "    print('Outer Function')\n",
    "    \n",
    "    def inner_function():\n",
    "        print('We are in Inner Function')\n",
    "        func()     # we are calling function\n",
    "        print('Inner Function Completed')\n",
    "        \n",
    "    \n",
    "    print('Outer Function Completed')    \n",
    "    return inner_function\n",
    "    \n",
    "\n",
    "x = hello_decorator(my_fun)\n",
    "x()"
   ]
  },
  {
   "cell_type": "code",
   "execution_count": 27,
   "id": "80e5a3e9",
   "metadata": {},
   "outputs": [
    {
     "name": "stdout",
     "output_type": "stream",
     "text": [
      "Outer Function\n",
      "We are in Inner Function\n",
      "We are testing Decorators\n",
      "Inner Function Completed\n"
     ]
    }
   ],
   "source": [
    "def my_fun():\n",
    "    print('We are testing Decorators')\n",
    "    \n",
    "    \n",
    "def hello_decorator(func):\n",
    "    print('Outer Function')\n",
    "    \n",
    "    def inner_function():\n",
    "        print('We are in Inner Function')\n",
    "        func()     # we are calling function\n",
    "        print('Inner Function Completed')\n",
    "        \n",
    "    \n",
    "        \n",
    "    return inner_function\n",
    "    print('Outer Function Completed')\n",
    "    \n",
    "\n",
    "x = hello_decorator(my_fun)\n",
    "x()"
   ]
  },
  {
   "cell_type": "code",
   "execution_count": 28,
   "id": "881bfbba",
   "metadata": {},
   "outputs": [
    {
     "name": "stdout",
     "output_type": "stream",
     "text": [
      "Outer Function\n",
      "Outer Function Completed\n",
      "We are in Inner Function\n",
      "We are testing Decorators\n",
      "Inner Function Completed\n"
     ]
    }
   ],
   "source": [
    "\n",
    "def hello_decorator(func):          # Higher order function\n",
    "    print('Outer Function')\n",
    "    \n",
    "    def inner_function():\n",
    "        print('We are in Inner Function')\n",
    "        func()     # we are calling my_fun()\n",
    "        print('Inner Function Completed')\n",
    "        \n",
    "    \n",
    "    print('Outer Function Completed')    \n",
    "    return inner_function\n",
    "    \n",
    "def my_fun():\n",
    "    print('We are testing Decorators')\n",
    "    \n",
    "    \n",
    "    \n",
    "x = hello_decorator(my_fun)\n",
    "x()"
   ]
  },
  {
   "cell_type": "code",
   "execution_count": 29,
   "id": "d6c7d330",
   "metadata": {},
   "outputs": [
    {
     "name": "stdout",
     "output_type": "stream",
     "text": [
      "Outer Function\n",
      "Outer Function Completed\n",
      "We are in Inner Function\n",
      "We are testing Decorators\n",
      "Inner Function Completed\n"
     ]
    }
   ],
   "source": [
    "\n",
    "def hello_decorator(func):          # Higher order function\n",
    "    print('Outer Function')\n",
    "    \n",
    "    def inner_function():\n",
    "        print('We are in Inner Function')\n",
    "        func()     # we are calling my_fun()\n",
    "        print('Inner Function Completed')\n",
    "        \n",
    "    \n",
    "    print('Outer Function Completed')    \n",
    "    return inner_function\n",
    "    \n",
    "def my_fun():\n",
    "    print('We are testing Decorators')\n",
    "    \n",
    "    \n",
    "    \n",
    "x = hello_decorator(my_fun)\n",
    "x()"
   ]
  },
  {
   "cell_type": "code",
   "execution_count": 31,
   "id": "ec4e995b",
   "metadata": {},
   "outputs": [
    {
     "name": "stdout",
     "output_type": "stream",
     "text": [
      "Outer Function\n",
      "Outer Function Completed\n",
      "We are in Inner Function\n",
      "We are testing Decorators\n",
      "Inner Function Completed\n"
     ]
    }
   ],
   "source": [
    "\n",
    "def hello_decorator(func):          # Higher order function\n",
    "    print('Outer Function')\n",
    "    \n",
    "    def inner_function():\n",
    "        print('We are in Inner Function')\n",
    "        func()     # we are calling my_fun()\n",
    "        print('Inner Function Completed')\n",
    "        \n",
    "    \n",
    "    print('Outer Function Completed')    \n",
    "    return inner_function\n",
    "\n",
    "\n",
    "@hello_decorator      # hello_decorator(my_fun1)\n",
    "def my_fun1():\n",
    "    print('We are testing Decorators')\n",
    "    \n",
    "\n",
    "my_fun1()"
   ]
  },
  {
   "cell_type": "code",
   "execution_count": 39,
   "id": "9fb76a63",
   "metadata": {},
   "outputs": [
    {
     "name": "stdout",
     "output_type": "stream",
     "text": [
      "Outer Function\n",
      "Outer Function Completed\n",
      "Outer Function\n",
      "Outer Function Completed\n",
      "Outer Function\n",
      "Outer Function Completed\n",
      "We are in Inner Function\n",
      "3. We are testing Decorators\n",
      "Inner Function Completed\n"
     ]
    }
   ],
   "source": [
    "\n",
    "def hello_decorator(func):          # Higher order function\n",
    "    print('Outer Function')\n",
    "    \n",
    "    def inner_function():\n",
    "        print('We are in Inner Function')\n",
    "        func()     # we are calling my_fun()\n",
    "        print('Inner Function Completed')\n",
    "        \n",
    "    \n",
    "    print('Outer Function Completed')    \n",
    "    return inner_function\n",
    "\n",
    "\n",
    "@hello_decorator      # hello_decorator(my_fun1)\n",
    "def my_fun1():\n",
    "    print('1. We are testing Decorators')\n",
    "    \n",
    "    \n",
    "@hello_decorator      # hello_decorator(my_fun1)\n",
    "def my_fun2():\n",
    "    print('2. We are testing Decorators')\n",
    "    \n",
    "@hello_decorator      # hello_decorator(my_fun1)\n",
    "def my_fun3():\n",
    "    print('3. We are testing Decorators')\n",
    "\n",
    "my_fun3()"
   ]
  },
  {
   "cell_type": "code",
   "execution_count": 40,
   "id": "0092ce01",
   "metadata": {},
   "outputs": [
    {
     "name": "stdout",
     "output_type": "stream",
     "text": [
      "We are in Inner Function\n",
      "2. We are testing Decorators\n",
      "Inner Function Completed\n"
     ]
    }
   ],
   "source": [
    "my_fun2()"
   ]
  },
  {
   "cell_type": "code",
   "execution_count": null,
   "id": "b3eda95b",
   "metadata": {},
   "outputs": [],
   "source": []
  },
  {
   "cell_type": "code",
   "execution_count": 42,
   "id": "2c5eaf2f",
   "metadata": {},
   "outputs": [
    {
     "name": "stdout",
     "output_type": "stream",
     "text": [
      "Outer Function\n",
      "Outer Function Completed\n",
      "We are in Inner Function\n",
      "Hi i love Cricket\n",
      "Inner Function Completed\n"
     ]
    }
   ],
   "source": [
    "@hello_decorator\n",
    "def new_fun():\n",
    "    print('Hi i love Cricket')\n",
    "    \n",
    "new_fun()"
   ]
  },
  {
   "cell_type": "code",
   "execution_count": null,
   "id": "f0a9901b",
   "metadata": {},
   "outputs": [],
   "source": []
  },
  {
   "cell_type": "code",
   "execution_count": 45,
   "id": "c63ff5a3",
   "metadata": {},
   "outputs": [
    {
     "name": "stdout",
     "output_type": "stream",
     "text": [
      "What is the player name ?\n",
      "Virat is the Player\n",
      "He is a Gentlemen\n"
     ]
    }
   ],
   "source": [
    "\n",
    "def Cricket(func):          # Higher order function\n",
    "    \n",
    "    def Team():\n",
    "        print('What is the player name ?')\n",
    "        func()     # we are calling my_fun()\n",
    "        print('He is a Gentlemen')\n",
    "          \n",
    "    return Team\n",
    "    \n",
    "def my_fun():\n",
    "    print('Virat is the Player')\n",
    "    \n",
    "    \n",
    "    \n",
    "x = Cricket(my_fun)\n",
    "x()"
   ]
  },
  {
   "cell_type": "code",
   "execution_count": 48,
   "id": "ad09393c",
   "metadata": {},
   "outputs": [
    {
     "name": "stdout",
     "output_type": "stream",
     "text": [
      "What is the player name ?\n",
      "Virat is the Player\n",
      "He is a Gentlemen\n"
     ]
    }
   ],
   "source": [
    "\n",
    "def Cricket(func):          # Higher order function\n",
    "    \n",
    "    def Team():\n",
    "        print('What is the player name ?')\n",
    "        func()     # we are calling my_fun()\n",
    "        print('He is a Gentlemen')\n",
    "          \n",
    "    return Team\n",
    "    \n",
    "@Cricket\n",
    "def Player():\n",
    "    print('Virat is the Player')\n",
    "\n",
    "    \n",
    "Player()\n",
    "    \n",
    "    \n",
    "# x = Cricket(my_fun)\n",
    "# x()"
   ]
  },
  {
   "cell_type": "code",
   "execution_count": 49,
   "id": "2e32a228",
   "metadata": {},
   "outputs": [
    {
     "name": "stdout",
     "output_type": "stream",
     "text": [
      "What is the player name ?\n",
      "Hardik is Gujju\n",
      "He is a Gentlemen\n"
     ]
    }
   ],
   "source": [
    "@Cricket       # Decorator\n",
    "def Hardik():\n",
    "    print('Hardik is Gujju')\n",
    "    \n",
    "Hardik()"
   ]
  },
  {
   "cell_type": "code",
   "execution_count": null,
   "id": "4bd5361b",
   "metadata": {},
   "outputs": [],
   "source": []
  },
  {
   "cell_type": "code",
   "execution_count": null,
   "id": "2c400445",
   "metadata": {},
   "outputs": [],
   "source": []
  },
  {
   "cell_type": "code",
   "execution_count": null,
   "id": "d1829a73",
   "metadata": {},
   "outputs": [],
   "source": []
  },
  {
   "cell_type": "code",
   "execution_count": null,
   "id": "70a3c15d",
   "metadata": {},
   "outputs": [],
   "source": []
  },
  {
   "cell_type": "code",
   "execution_count": null,
   "id": "5130cf6b",
   "metadata": {},
   "outputs": [],
   "source": []
  },
  {
   "cell_type": "code",
   "execution_count": null,
   "id": "cbfa8b86",
   "metadata": {},
   "outputs": [],
   "source": []
  },
  {
   "cell_type": "code",
   "execution_count": null,
   "id": "84d8cc4a",
   "metadata": {},
   "outputs": [],
   "source": []
  },
  {
   "cell_type": "code",
   "execution_count": null,
   "id": "b4f18b97",
   "metadata": {},
   "outputs": [],
   "source": []
  },
  {
   "cell_type": "code",
   "execution_count": null,
   "id": "363f6cf1",
   "metadata": {},
   "outputs": [],
   "source": []
  },
  {
   "cell_type": "code",
   "execution_count": null,
   "id": "55bbf307",
   "metadata": {},
   "outputs": [],
   "source": []
  },
  {
   "cell_type": "code",
   "execution_count": null,
   "id": "2b135e82",
   "metadata": {},
   "outputs": [],
   "source": []
  },
  {
   "cell_type": "code",
   "execution_count": null,
   "id": "09f05451",
   "metadata": {},
   "outputs": [],
   "source": []
  },
  {
   "cell_type": "code",
   "execution_count": null,
   "id": "415e3477",
   "metadata": {},
   "outputs": [],
   "source": []
  },
  {
   "cell_type": "code",
   "execution_count": null,
   "id": "823cd6ee",
   "metadata": {},
   "outputs": [],
   "source": []
  },
  {
   "cell_type": "code",
   "execution_count": null,
   "id": "254aadeb",
   "metadata": {},
   "outputs": [],
   "source": []
  },
  {
   "cell_type": "code",
   "execution_count": null,
   "id": "2be78bdc",
   "metadata": {},
   "outputs": [],
   "source": []
  },
  {
   "cell_type": "code",
   "execution_count": null,
   "id": "6caf9efe",
   "metadata": {},
   "outputs": [],
   "source": []
  },
  {
   "cell_type": "code",
   "execution_count": null,
   "id": "adf84ab8",
   "metadata": {},
   "outputs": [],
   "source": []
  }
 ],
 "metadata": {
  "kernelspec": {
   "display_name": "Python 3",
   "language": "python",
   "name": "python3"
  },
  "language_info": {
   "codemirror_mode": {
    "name": "ipython",
    "version": 3
   },
   "file_extension": ".py",
   "mimetype": "text/x-python",
   "name": "python",
   "nbconvert_exporter": "python",
   "pygments_lexer": "ipython3",
   "version": "3.8.8"
  }
 },
 "nbformat": 4,
 "nbformat_minor": 5
}
