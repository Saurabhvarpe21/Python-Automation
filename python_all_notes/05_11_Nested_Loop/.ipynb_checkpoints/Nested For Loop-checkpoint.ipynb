{
 "cells": [
  {
   "cell_type": "markdown",
   "id": "7197f160",
   "metadata": {},
   "source": [
    "# Nested For Loop"
   ]
  },
  {
   "cell_type": "code",
   "execution_count": null,
   "id": "e8bc3221",
   "metadata": {},
   "outputs": [],
   "source": [
    "For loop inside for loop"
   ]
  },
  {
   "cell_type": "code",
   "execution_count": null,
   "id": "fa17ab06",
   "metadata": {},
   "outputs": [],
   "source": [
    "for var1 in sequence1:\n",
    "    statement1"
   ]
  },
  {
   "cell_type": "code",
   "execution_count": null,
   "id": "944f59b2",
   "metadata": {},
   "outputs": [],
   "source": [
    "for var1 in sequence1:\n",
    "    statement1\n",
    "    for var2 in sequence2:\n",
    "        statement2"
   ]
  },
  {
   "cell_type": "code",
   "execution_count": 1,
   "id": "163f2ddd",
   "metadata": {},
   "outputs": [
    {
     "name": "stdout",
     "output_type": "stream",
     "text": [
      "0\n",
      "1\n",
      "2\n",
      "3\n",
      "4\n"
     ]
    }
   ],
   "source": [
    "for i in range(5):\n",
    "    print(i)"
   ]
  },
  {
   "cell_type": "code",
   "execution_count": 3,
   "id": "17179c7a",
   "metadata": {},
   "outputs": [
    {
     "name": "stdout",
     "output_type": "stream",
     "text": [
      "0\n",
      "1\n",
      "2\n",
      "3\n",
      "4\n",
      "5\n"
     ]
    }
   ],
   "source": [
    "str1 = 'Python'\n",
    "for i in range(len(str1)):\n",
    "    print(i)"
   ]
  },
  {
   "cell_type": "code",
   "execution_count": 4,
   "id": "3c8e0506",
   "metadata": {},
   "outputs": [
    {
     "name": "stdout",
     "output_type": "stream",
     "text": [
      "We are learning Python\n",
      "We are learning Python\n",
      "We are learning Python\n",
      "We are learning Python\n",
      "We are learning Python\n"
     ]
    }
   ],
   "source": [
    "for i in range(5):\n",
    "    print('We are learning Python')"
   ]
  },
  {
   "cell_type": "code",
   "execution_count": 6,
   "id": "8666432c",
   "metadata": {},
   "outputs": [
    {
     "name": "stdout",
     "output_type": "stream",
     "text": [
      "0\n",
      "Hii\n",
      "Hii\n",
      "Hii\n",
      "Hii\n",
      "1\n",
      "Hii\n",
      "Hii\n",
      "Hii\n",
      "Hii\n",
      "2\n",
      "Hii\n",
      "Hii\n",
      "Hii\n",
      "Hii\n",
      "3\n",
      "Hii\n",
      "Hii\n",
      "Hii\n",
      "Hii\n",
      "4\n",
      "Hii\n",
      "Hii\n",
      "Hii\n",
      "Hii\n"
     ]
    }
   ],
   "source": [
    "for i in range(5):\n",
    "    print(i)\n",
    "    \n",
    "    for j in range(10,14):\n",
    "        print('Hii')"
   ]
  },
  {
   "cell_type": "code",
   "execution_count": 12,
   "id": "c424bbb0",
   "metadata": {},
   "outputs": [
    {
     "name": "stdout",
     "output_type": "stream",
     "text": [
      "0\n",
      "We are learning Python\n",
      "Hello\n",
      "Hello\n",
      "Hello\n",
      "Hello\n",
      "Hello\n",
      "**********************************************************************\n",
      "1\n",
      "We are learning Python\n",
      "Hello\n",
      "Hello\n",
      "Hello\n",
      "Hello\n",
      "Hello\n",
      "**********************************************************************\n",
      "2\n",
      "We are learning Python\n",
      "Hello\n",
      "Hello\n",
      "Hello\n",
      "Hello\n",
      "Hello\n",
      "**********************************************************************\n"
     ]
    }
   ],
   "source": [
    "for i in range(3): # 0, 1, 2\n",
    "    print(i)\n",
    "    print('We are learning Python')\n",
    "    \n",
    "    for j in range(5):\n",
    "        print('Hello')\n",
    "        \n",
    "    print('*'*70)"
   ]
  },
  {
   "cell_type": "code",
   "execution_count": 16,
   "id": "7ea87ec9",
   "metadata": {},
   "outputs": [
    {
     "name": "stdout",
     "output_type": "stream",
     "text": [
      "char is : P\n",
      "Hello Python\n",
      "Hello Python\n",
      "Hello Python\n",
      "Hello Python\n",
      "Hello Python\n",
      "char is : y\n",
      "Hello Python\n",
      "Hello Python\n",
      "Hello Python\n",
      "Hello Python\n",
      "Hello Python\n",
      "char is : t\n",
      "Hello Python\n",
      "Hello Python\n",
      "Hello Python\n",
      "Hello Python\n",
      "Hello Python\n",
      "char is : h\n",
      "Hello Python\n",
      "Hello Python\n",
      "Hello Python\n",
      "Hello Python\n",
      "Hello Python\n",
      "char is : o\n",
      "Hello Python\n",
      "Hello Python\n",
      "Hello Python\n",
      "Hello Python\n",
      "Hello Python\n",
      "char is : n\n",
      "Hello Python\n",
      "Hello Python\n",
      "Hello Python\n",
      "Hello Python\n",
      "Hello Python\n"
     ]
    }
   ],
   "source": [
    "for char in 'Python':\n",
    "    print(f'char is : {char}', end = '\\n')\n",
    "    for i in range(5):\n",
    "        print('Hello Python')"
   ]
  },
  {
   "cell_type": "code",
   "execution_count": 22,
   "id": "a76bc1c9",
   "metadata": {
    "scrolled": true
   },
   "outputs": [
    {
     "name": "stdout",
     "output_type": "stream",
     "text": [
      "char is : P\n",
      "Hello Python\n",
      "Machine Learning\n",
      "Machine Learning\n",
      "Machine Learning\n",
      "Hello Python\n",
      "Machine Learning\n",
      "Machine Learning\n",
      "Machine Learning\n",
      "********************\n",
      "char is : y\n",
      "Hello Python\n",
      "Machine Learning\n",
      "Machine Learning\n",
      "Machine Learning\n",
      "Hello Python\n",
      "Machine Learning\n",
      "Machine Learning\n",
      "Machine Learning\n",
      "********************\n",
      "char is : t\n",
      "Hello Python\n",
      "Machine Learning\n",
      "Machine Learning\n",
      "Machine Learning\n",
      "Hello Python\n",
      "Machine Learning\n",
      "Machine Learning\n",
      "Machine Learning\n",
      "********************\n",
      "char is : h\n",
      "Hello Python\n",
      "Machine Learning\n",
      "Machine Learning\n",
      "Machine Learning\n",
      "Hello Python\n",
      "Machine Learning\n",
      "Machine Learning\n",
      "Machine Learning\n",
      "********************\n",
      "char is : o\n",
      "Hello Python\n",
      "Machine Learning\n",
      "Machine Learning\n",
      "Machine Learning\n",
      "Hello Python\n",
      "Machine Learning\n",
      "Machine Learning\n",
      "Machine Learning\n",
      "********************\n",
      "char is : n\n",
      "Hello Python\n",
      "Machine Learning\n",
      "Machine Learning\n",
      "Machine Learning\n",
      "Hello Python\n",
      "Machine Learning\n",
      "Machine Learning\n",
      "Machine Learning\n",
      "********************\n"
     ]
    }
   ],
   "source": [
    "for char in 'Python':\n",
    "    print(f'char is : {char}', end = '\\n')\n",
    "    \n",
    "    for i in range(2):\n",
    "        print('Hello Python')\n",
    "        \n",
    "        for j in range(3):\n",
    "            print('Machine Learning')\n",
    "    print('*'*20)"
   ]
  },
  {
   "cell_type": "code",
   "execution_count": 26,
   "id": "b3091361",
   "metadata": {},
   "outputs": [
    {
     "name": "stdout",
     "output_type": "stream",
     "text": [
      "i==0\n",
      "Hello Hello Hello Hello Hello \n",
      "i==1\n",
      "Hello Hello Hello Hello Hello \n",
      "i==2\n",
      "Hello Hello Hello Hello Hello \n",
      "i==3\n",
      "Hello Hello Hello Hello Hello \n",
      "i==4\n",
      "Hello Hello Hello Hello Hello \n"
     ]
    }
   ],
   "source": [
    "for i in range(5):\n",
    "    print(f'i=={i}')\n",
    "    \n",
    "    for j in range(5):\n",
    "        print('Hello',end = ' ')\n",
    "    print()\n",
    "# i == 0\n",
    "# Hello Hello Hello Hello Hello\n"
   ]
  },
  {
   "cell_type": "code",
   "execution_count": 27,
   "id": "d6ee897d",
   "metadata": {},
   "outputs": [
    {
     "name": "stdout",
     "output_type": "stream",
     "text": [
      "i==0\n",
      "Hello \n",
      "Hello \n",
      "Hello \n",
      "Hello \n",
      "Hello \n",
      "i==1\n",
      "Hello \n",
      "Hello \n",
      "Hello \n",
      "Hello \n",
      "Hello \n",
      "i==2\n",
      "Hello \n",
      "Hello \n",
      "Hello \n",
      "Hello \n",
      "Hello \n",
      "i==3\n",
      "Hello \n",
      "Hello \n",
      "Hello \n",
      "Hello \n",
      "Hello \n",
      "i==4\n",
      "Hello \n",
      "Hello \n",
      "Hello \n",
      "Hello \n",
      "Hello \n"
     ]
    }
   ],
   "source": [
    "for i in range(5):\n",
    "    print(f'i=={i}')\n",
    "    \n",
    "    for j in range(5):\n",
    "        print('Hello',end = ' ')\n",
    "        print()\n",
    "# i == 0\n",
    "# Hello Hello Hello Hello Hello\n"
   ]
  },
  {
   "cell_type": "code",
   "execution_count": 28,
   "id": "3a761e2d",
   "metadata": {},
   "outputs": [
    {
     "name": "stdout",
     "output_type": "stream",
     "text": [
      "i==0 Hello Hello Hello Hello Hello i==1 Hello Hello Hello Hello Hello i==2 Hello Hello Hello Hello Hello i==3 Hello Hello Hello Hello Hello i==4 Hello Hello Hello Hello Hello "
     ]
    }
   ],
   "source": [
    "for i in range(5):\n",
    "    print(f'i=={i}',end = ' ')\n",
    "    \n",
    "    for j in range(5):\n",
    "        print('Hello',end = ' ')\n"
   ]
  },
  {
   "cell_type": "code",
   "execution_count": 29,
   "id": "b936a7ab",
   "metadata": {},
   "outputs": [
    {
     "name": "stdout",
     "output_type": "stream",
     "text": [
      "i==0\n",
      "*\n",
      "*\n",
      "*\n",
      "*\n",
      "*\n",
      "i==1\n",
      "*\n",
      "*\n",
      "*\n",
      "*\n",
      "*\n",
      "i==2\n",
      "*\n",
      "*\n",
      "*\n",
      "*\n",
      "*\n",
      "i==3\n",
      "*\n",
      "*\n",
      "*\n",
      "*\n",
      "*\n",
      "i==4\n",
      "*\n",
      "*\n",
      "*\n",
      "*\n",
      "*\n"
     ]
    }
   ],
   "source": [
    "for i in range(5):\n",
    "    print(f'i=={i}')\n",
    "    \n",
    "    for j in range(5):\n",
    "        print('*')"
   ]
  },
  {
   "cell_type": "code",
   "execution_count": 30,
   "id": "3bcdd4bb",
   "metadata": {},
   "outputs": [
    {
     "name": "stdout",
     "output_type": "stream",
     "text": [
      "i==0\n",
      "* * * * * i==1\n",
      "* * * * * i==2\n",
      "* * * * * i==3\n",
      "* * * * * i==4\n",
      "* * * * * "
     ]
    }
   ],
   "source": [
    "for i in range(5):\n",
    "    print(f'i=={i}')\n",
    "    \n",
    "    for j in range(5):\n",
    "        print('*',end = ' ')\n",
    "# i == 0\n",
    "# * * * * * i == 1 \n",
    "# * * * * * i == 2\n",
    "# * * * * * i == 3\n",
    "# * * * * * i == 4\n",
    "# * * * * *"
   ]
  },
  {
   "cell_type": "code",
   "execution_count": 31,
   "id": "cd546950",
   "metadata": {},
   "outputs": [
    {
     "name": "stdout",
     "output_type": "stream",
     "text": [
      "i==0\n",
      "* * * * * \n",
      "i==1\n",
      "* * * * * \n",
      "i==2\n",
      "* * * * * \n",
      "i==3\n",
      "* * * * * \n",
      "i==4\n",
      "* * * * * \n"
     ]
    }
   ],
   "source": [
    "for i in range(5):\n",
    "    print(f'i=={i}')\n",
    "    \n",
    "    for j in range(5):\n",
    "        print('*',end = ' ')\n",
    "        \n",
    "    print()    \n",
    "# i == 0\n",
    "# * * * * * \n",
    "# i == 1 \n",
    "# * * * * * \n",
    "# i == 2\n",
    "# * * * * * \n",
    "# i == 3\n",
    "# * * * * * \n",
    "# i == 4\n",
    "# * * * * *"
   ]
  },
  {
   "cell_type": "code",
   "execution_count": 32,
   "id": "4ce535e4",
   "metadata": {},
   "outputs": [
    {
     "name": "stdout",
     "output_type": "stream",
     "text": [
      "i==0\n",
      "* * * * * @\n",
      "i==1\n",
      "* * * * * @\n",
      "i==2\n",
      "* * * * * @\n",
      "i==3\n",
      "* * * * * @\n",
      "i==4\n",
      "* * * * * @\n"
     ]
    }
   ],
   "source": [
    "for i in range(5):\n",
    "    print(f'i=={i}')\n",
    "    \n",
    "    for j in range(5):\n",
    "        print('*',end = ' ')\n",
    "        \n",
    "    print('@')    \n",
    "# i == 0\n",
    "# * * * * * @ \n",
    "# i == 1 \n",
    "# * * * * * @\n",
    "# i == 2\n",
    "# * * * * * \n",
    "# i == 3\n",
    "# * * * * * \n",
    "# i == 4\n",
    "# * * * * *"
   ]
  },
  {
   "cell_type": "code",
   "execution_count": 37,
   "id": "23517cb8",
   "metadata": {},
   "outputs": [
    {
     "name": "stdout",
     "output_type": "stream",
     "text": [
      "* * * * * \n",
      "* * * * * \n",
      "* * * * * \n",
      "* * * * * \n",
      "* * * * * \n"
     ]
    }
   ],
   "source": [
    "for i in range(5):\n",
    "    print('* '*5)\n",
    "\n"
   ]
  },
  {
   "cell_type": "code",
   "execution_count": 42,
   "id": "e0244c3a",
   "metadata": {},
   "outputs": [
    {
     "name": "stdout",
     "output_type": "stream",
     "text": [
      "* * * * * \n",
      "* * * * * \n",
      "* * * * * \n",
      "* * * * * \n",
      "* * * * * \n"
     ]
    }
   ],
   "source": [
    "for i in range(5):\n",
    "    \n",
    "    for j in range(5):\n",
    "        print('*',end = ' ')\n",
    "        \n",
    "    print()\n",
    "\n"
   ]
  },
  {
   "cell_type": "code",
   "execution_count": 43,
   "id": "2b55cfdc",
   "metadata": {},
   "outputs": [
    {
     "name": "stdout",
     "output_type": "stream",
     "text": [
      "* * * * * * \n",
      "* * * * * * \n",
      "* * * * * * \n",
      "* * * * * * \n",
      "* * * * * * \n",
      "* * * * * * \n"
     ]
    }
   ],
   "source": [
    "n = 6\n",
    "for i in range(n):    \n",
    "    for j in range(n):\n",
    "        print('*',end = ' ')\n",
    "        \n",
    "    print()\n",
    "\n"
   ]
  },
  {
   "cell_type": "code",
   "execution_count": 47,
   "id": "4b4d2b51",
   "metadata": {},
   "outputs": [
    {
     "name": "stdout",
     "output_type": "stream",
     "text": [
      "* * * * * \n",
      "* * * * * \n",
      "* * * * * \n",
      "* * * * * \n",
      "* * * * * \n"
     ]
    }
   ],
   "source": [
    "n = 5\n",
    "for i in range(1,n+1):    \n",
    "    for j in range(1,n+1):\n",
    "        print('*',end = ' ')\n",
    "        \n",
    "    print()"
   ]
  },
  {
   "cell_type": "code",
   "execution_count": null,
   "id": "7755d6fc",
   "metadata": {},
   "outputs": [],
   "source": [
    "*\n",
    "* *\n",
    "* * *\n",
    "* * * *\n",
    "* * * * *"
   ]
  },
  {
   "cell_type": "code",
   "execution_count": 52,
   "id": "853bcf21",
   "metadata": {},
   "outputs": [
    {
     "name": "stdout",
     "output_type": "stream",
     "text": [
      "*\n",
      "**\n",
      "***\n",
      "****\n",
      "*****\n"
     ]
    }
   ],
   "source": [
    "n = 5\n",
    "for i in range(1,n+1):\n",
    "    print('*'*i)"
   ]
  },
  {
   "cell_type": "code",
   "execution_count": 56,
   "id": "17b262f5",
   "metadata": {},
   "outputs": [
    {
     "name": "stdout",
     "output_type": "stream",
     "text": [
      "*****\n",
      "****\n",
      "***\n",
      "**\n",
      "*\n"
     ]
    }
   ],
   "source": [
    "n = 5\n",
    "for i in range(n,0,-1):\n",
    "    print('*'*i)"
   ]
  },
  {
   "cell_type": "code",
   "execution_count": 55,
   "id": "08e0659f",
   "metadata": {},
   "outputs": [
    {
     "data": {
      "text/plain": [
       "[5, 4, 3, 2, 1]"
      ]
     },
     "execution_count": 55,
     "metadata": {},
     "output_type": "execute_result"
    }
   ],
   "source": [
    "list(range(5,0,-1))"
   ]
  },
  {
   "cell_type": "code",
   "execution_count": null,
   "id": "fd8db500",
   "metadata": {},
   "outputs": [],
   "source": [
    "5 4 3 2 1 0"
   ]
  },
  {
   "cell_type": "code",
   "execution_count": 59,
   "id": "a8eef491",
   "metadata": {},
   "outputs": [
    {
     "name": "stdout",
     "output_type": "stream",
     "text": [
      "0 \n",
      "0 1 \n",
      "0 1 2 \n",
      "0 1 2 3 \n",
      "0 1 2 3 4 \n"
     ]
    }
   ],
   "source": [
    "n = 5\n",
    "for i in range(1,n+1):    \n",
    "    for j in range(i):\n",
    "        print(j,end= ' ')\n",
    "    print()"
   ]
  },
  {
   "cell_type": "code",
   "execution_count": 60,
   "id": "82b61599",
   "metadata": {},
   "outputs": [
    {
     "name": "stdout",
     "output_type": "stream",
     "text": [
      "* \n",
      "* * \n",
      "* * * \n",
      "* * * * \n",
      "* * * * * \n"
     ]
    }
   ],
   "source": [
    "n = 5\n",
    "for i in range(1,n+1):    \n",
    "    for j in range(i):\n",
    "        print('*',end= ' ')\n",
    "    print()"
   ]
  },
  {
   "cell_type": "code",
   "execution_count": 61,
   "id": "10c79c87",
   "metadata": {},
   "outputs": [
    {
     "name": "stdout",
     "output_type": "stream",
     "text": [
      "* \n",
      "* * \n",
      "* * * \n",
      "* * * * \n",
      "* * * * * \n"
     ]
    }
   ],
   "source": [
    "n = 5\n",
    "for i in range(1,n+1):\n",
    "    print('* '*i)"
   ]
  },
  {
   "cell_type": "code",
   "execution_count": 62,
   "id": "5610b407",
   "metadata": {},
   "outputs": [
    {
     "name": "stdout",
     "output_type": "stream",
     "text": [
      "A \n",
      "A A \n",
      "A A A \n",
      "A A A A \n",
      "A A A A A \n"
     ]
    }
   ],
   "source": [
    "n = 5\n",
    "for i in range(1,n+1):    \n",
    "    for j in range(i):\n",
    "        print('A',end= ' ')\n",
    "    print()"
   ]
  },
  {
   "cell_type": "code",
   "execution_count": 63,
   "id": "702af0a6",
   "metadata": {},
   "outputs": [
    {
     "name": "stdout",
     "output_type": "stream",
     "text": [
      "+ \n",
      "+ + \n",
      "+ + + \n",
      "+ + + + \n",
      "+ + + + + \n"
     ]
    }
   ],
   "source": [
    "n = 5\n",
    "for i in range(1,n+1):    \n",
    "    for j in range(i):\n",
    "        print('+',end= ' ')\n",
    "    print()"
   ]
  },
  {
   "cell_type": "code",
   "execution_count": 64,
   "id": "7e3867f8",
   "metadata": {},
   "outputs": [
    {
     "name": "stdout",
     "output_type": "stream",
     "text": [
      "1 \n",
      "1 1 \n",
      "1 1 1 \n",
      "1 1 1 1 \n",
      "1 1 1 1 1 \n"
     ]
    }
   ],
   "source": [
    "n = 5\n",
    "for i in range(1,n+1):    \n",
    "    for j in range(i):\n",
    "        print('1',end= ' ')\n",
    "    print()"
   ]
  },
  {
   "cell_type": "code",
   "execution_count": 65,
   "id": "34c0059c",
   "metadata": {},
   "outputs": [
    {
     "name": "stdout",
     "output_type": "stream",
     "text": [
      "0 \n",
      "0 1 \n",
      "0 1 2 \n",
      "0 1 2 3 \n",
      "0 1 2 3 4 \n"
     ]
    }
   ],
   "source": [
    "n = 5\n",
    "for i in range(1,n+1):    \n",
    "    for j in range(i):\n",
    "        print(j,end= ' ')\n",
    "    print()"
   ]
  },
  {
   "cell_type": "code",
   "execution_count": 66,
   "id": "5e6d55b7",
   "metadata": {},
   "outputs": [
    {
     "name": "stdout",
     "output_type": "stream",
     "text": [
      "1 \n",
      "2 2 \n",
      "3 3 3 \n",
      "4 4 4 4 \n",
      "5 5 5 5 5 \n"
     ]
    }
   ],
   "source": [
    "n = 5\n",
    "for i in range(1,n+1):    \n",
    "    for j in range(i):\n",
    "        print(i,end= ' ')\n",
    "    print()\n",
    "    \n",
    "# 1\n",
    "# 2 2\n",
    "# 3 3 3"
   ]
  },
  {
   "cell_type": "code",
   "execution_count": 67,
   "id": "4112379d",
   "metadata": {},
   "outputs": [
    {
     "name": "stdout",
     "output_type": "stream",
     "text": [
      "\n",
      "2 \n",
      "3 3 \n",
      "4 4 4 \n",
      "5 5 5 5 \n"
     ]
    }
   ],
   "source": [
    "n = 5\n",
    "for i in range(1,n+1):    \n",
    "    for j in range(1,i):\n",
    "        print(i,end= ' ')\n",
    "    print()\n",
    "    "
   ]
  },
  {
   "cell_type": "code",
   "execution_count": 68,
   "id": "a51d5afc",
   "metadata": {},
   "outputs": [
    {
     "name": "stdout",
     "output_type": "stream",
     "text": [
      "\n",
      "1 \n",
      "1 2 \n",
      "1 2 3 \n",
      "1 2 3 4 \n"
     ]
    }
   ],
   "source": [
    "n = 5\n",
    "for i in range(1,n+1):    \n",
    "    for j in range(1,i):\n",
    "        print(j,end= ' ')\n",
    "    print()\n",
    "    \n",
    "# 1\n",
    "# 1 2\n",
    "# 1 2 3"
   ]
  },
  {
   "cell_type": "code",
   "execution_count": 69,
   "id": "d77a6d06",
   "metadata": {},
   "outputs": [
    {
     "name": "stdout",
     "output_type": "stream",
     "text": [
      "1 \n",
      "1 2 \n",
      "1 2 3 \n",
      "1 2 3 4 \n"
     ]
    }
   ],
   "source": [
    "n = 5\n",
    "for i in range(2,n+1):    \n",
    "    for j in range(1,i):\n",
    "        print(j,end= ' ')\n",
    "    print()\n",
    "    \n",
    "# 1\n",
    "# 1 2\n",
    "# 1 2 3"
   ]
  },
  {
   "cell_type": "code",
   "execution_count": 70,
   "id": "052187d6",
   "metadata": {},
   "outputs": [
    {
     "name": "stdout",
     "output_type": "stream",
     "text": [
      "1 \n",
      "1 2 \n",
      "1 2 3 \n",
      "1 2 3 4 \n",
      "1 2 3 4 5 \n"
     ]
    }
   ],
   "source": [
    "n = 5\n",
    "for i in range(2,n+2):    \n",
    "    for j in range(1,i):\n",
    "        print(j,end= ' ')\n",
    "    print()\n",
    "    \n",
    "# 1\n",
    "# 1 2\n",
    "# 1 2 3"
   ]
  },
  {
   "cell_type": "code",
   "execution_count": 71,
   "id": "e1ae96a3",
   "metadata": {},
   "outputs": [
    {
     "name": "stdout",
     "output_type": "stream",
     "text": [
      "5 \n",
      "5 5 \n",
      "5 5 5 \n",
      "5 5 5 5 \n",
      "5 5 5 5 5 \n"
     ]
    }
   ],
   "source": [
    "n = 5\n",
    "x = 5\n",
    "for i in range(2,n+2):    \n",
    "    for j in range(1,i):\n",
    "        print(x,end= ' ')\n",
    "    print()\n",
    "    \n"
   ]
  },
  {
   "cell_type": "code",
   "execution_count": 72,
   "id": "c8031c16",
   "metadata": {},
   "outputs": [
    {
     "name": "stdout",
     "output_type": "stream",
     "text": [
      "5 \n",
      "6 7 \n",
      "8 9 10 \n",
      "11 12 13 14 \n",
      "15 16 17 18 19 \n"
     ]
    }
   ],
   "source": [
    "n = 5\n",
    "x = 5\n",
    "for i in range(2,n+2):    \n",
    "    for j in range(1,i):\n",
    "        print(x,end= ' ')\n",
    "        x +=1\n",
    "    print()\n",
    "    \n"
   ]
  },
  {
   "cell_type": "code",
   "execution_count": 73,
   "id": "21b27d70",
   "metadata": {},
   "outputs": [
    {
     "name": "stdout",
     "output_type": "stream",
     "text": [
      "1 \n",
      "2 3 \n",
      "4 5 6 \n",
      "7 8 9 10 \n",
      "11 12 13 14 15 \n"
     ]
    }
   ],
   "source": [
    "n = 5\n",
    "x = 1\n",
    "for i in range(2,n+2):    \n",
    "    for j in range(1,i):\n",
    "        print(x,end= ' ')\n",
    "        x +=1\n",
    "    print()\n",
    "    \n"
   ]
  },
  {
   "cell_type": "code",
   "execution_count": 74,
   "id": "ffa46487",
   "metadata": {},
   "outputs": [
    {
     "name": "stdout",
     "output_type": "stream",
     "text": [
      "1 \n"
     ]
    }
   ],
   "source": [
    "n = 1\n",
    "x = 1\n",
    "for i in range(2,n+2):    \n",
    "    for j in range(1,i):\n",
    "        print(x,end= ' ')\n",
    "        x +=1\n",
    "    print()\n",
    "    \n"
   ]
  },
  {
   "cell_type": "code",
   "execution_count": 75,
   "id": "d017f3bb",
   "metadata": {},
   "outputs": [
    {
     "name": "stdout",
     "output_type": "stream",
     "text": [
      "1 \n",
      "2 3 \n",
      "4 5 6 \n",
      "7 8 9 10 \n",
      "11 12 13 14 15 \n",
      "16 17 18 19 20 21 \n",
      "22 23 24 25 26 27 28 \n",
      "29 30 31 32 33 34 35 36 \n"
     ]
    }
   ],
   "source": [
    "n = 8\n",
    "x = 1\n",
    "for i in range(2,n+2):    \n",
    "    for j in range(1,i):\n",
    "        print(x,end= ' ')\n",
    "        x +=1\n",
    "    print()\n",
    "    \n"
   ]
  },
  {
   "cell_type": "code",
   "execution_count": 81,
   "id": "2b5dc06b",
   "metadata": {},
   "outputs": [
    {
     "data": {
      "text/plain": [
       "'z'"
      ]
     },
     "execution_count": 81,
     "metadata": {},
     "output_type": "execute_result"
    }
   ],
   "source": [
    "# ASCII Value\n",
    "chr(65) # A\n",
    "chr(90) # Z\n",
    "\n",
    "chr(91)\n",
    "chr(97)\n",
    "chr(122)\n",
    "\n",
    "\n",
    "A-Z >> 65-90\n",
    "a-z >> 97-122"
   ]
  },
  {
   "cell_type": "code",
   "execution_count": 77,
   "id": "188b9c66",
   "metadata": {},
   "outputs": [
    {
     "data": {
      "text/plain": [
       "65"
      ]
     },
     "execution_count": 77,
     "metadata": {},
     "output_type": "execute_result"
    }
   ],
   "source": [
    "ord('A')"
   ]
  },
  {
   "cell_type": "code",
   "execution_count": 86,
   "id": "666f09aa",
   "metadata": {},
   "outputs": [
    {
     "name": "stdout",
     "output_type": "stream",
     "text": [
      "A \n",
      "A A \n",
      "A A A \n",
      "A A A A \n",
      "A A A A A \n"
     ]
    }
   ],
   "source": [
    "n = 5\n",
    "\n",
    "for i in range(1, n+1):\n",
    "    for j in range(i):\n",
    "        print(chr(65),end = ' ')\n",
    "    print()\n"
   ]
  },
  {
   "cell_type": "code",
   "execution_count": 87,
   "id": "0f5c1fcc",
   "metadata": {},
   "outputs": [
    {
     "name": "stdout",
     "output_type": "stream",
     "text": [
      "Z \n",
      "Z Z \n",
      "Z Z Z \n",
      "Z Z Z Z \n",
      "Z Z Z Z Z \n"
     ]
    }
   ],
   "source": [
    "n = 5\n",
    "\n",
    "for i in range(1, n+1):\n",
    "    for j in range(i):\n",
    "        print(chr(90),end = ' ')\n",
    "    print()\n"
   ]
  },
  {
   "cell_type": "code",
   "execution_count": 88,
   "id": "ca2dbb91",
   "metadata": {},
   "outputs": [
    {
     "name": "stdout",
     "output_type": "stream",
     "text": [
      "a \n",
      "a a \n",
      "a a a \n",
      "a a a a \n",
      "a a a a a \n"
     ]
    }
   ],
   "source": [
    "n = 5\n",
    "\n",
    "for i in range(1, n+1):\n",
    "    for j in range(i):\n",
    "        print(chr(97),end = ' ')\n",
    "    print()\n"
   ]
  },
  {
   "cell_type": "code",
   "execution_count": 89,
   "id": "43166596",
   "metadata": {},
   "outputs": [
    {
     "name": "stdout",
     "output_type": "stream",
     "text": [
      "A \n",
      "B C \n",
      "D E F \n",
      "G H I J \n",
      "K L M N O \n"
     ]
    }
   ],
   "source": [
    "n = 5\n",
    "x = 65\n",
    "for i in range(1, n+1):\n",
    "    for j in range(i):\n",
    "        print(chr(x),end = ' ')\n",
    "        x +=1\n",
    "    print()\n"
   ]
  },
  {
   "cell_type": "code",
   "execution_count": 90,
   "id": "89a3c502",
   "metadata": {},
   "outputs": [
    {
     "name": "stdout",
     "output_type": "stream",
     "text": [
      "a \n",
      "b c \n",
      "d e f \n",
      "g h i j \n",
      "k l m n o \n"
     ]
    }
   ],
   "source": [
    "n = 5\n",
    "x = 97\n",
    "for i in range(1, n+1):\n",
    "    for j in range(i):\n",
    "        print(chr(x),end = ' ')\n",
    "        x +=1\n",
    "    print()\n"
   ]
  },
  {
   "cell_type": "code",
   "execution_count": 91,
   "id": "447e4193",
   "metadata": {},
   "outputs": [
    {
     "name": "stdout",
     "output_type": "stream",
     "text": [
      "A \n",
      "A B \n",
      "A B C \n",
      "A B C D \n",
      "A B C D E \n"
     ]
    }
   ],
   "source": [
    "n = 5\n",
    "\n",
    "for i in range(1, n+1):\n",
    "    x = 65\n",
    "    for j in range(i):\n",
    "        print(chr(x),end = ' ')\n",
    "        x +=1\n",
    "    print()\n"
   ]
  },
  {
   "cell_type": "code",
   "execution_count": 92,
   "id": "347245b3",
   "metadata": {},
   "outputs": [
    {
     "name": "stdout",
     "output_type": "stream",
     "text": [
      "a \n",
      "a b \n",
      "a b c \n",
      "a b c d \n",
      "a b c d e \n"
     ]
    }
   ],
   "source": [
    "n = 5\n",
    "\n",
    "for i in range(1, n+1):\n",
    "    x = 97\n",
    "    for j in range(i):\n",
    "        print(chr(x),end = ' ')\n",
    "        x +=1\n",
    "    print()\n"
   ]
  },
  {
   "cell_type": "code",
   "execution_count": 93,
   "id": "566b7528",
   "metadata": {},
   "outputs": [
    {
     "name": "stdout",
     "output_type": "stream",
     "text": [
      "a \n",
      "a b \n",
      "a b c \n",
      "a b c d \n",
      "a b c d e \n",
      "a b c d e f \n",
      "a b c d e f g \n"
     ]
    }
   ],
   "source": [
    "n = 7\n",
    "\n",
    "for i in range(1, n+1):\n",
    "    x = 97\n",
    "    for j in range(i):\n",
    "        print(chr(x),end = ' ')\n",
    "        x +=1\n",
    "    print()\n"
   ]
  },
  {
   "cell_type": "code",
   "execution_count": 95,
   "id": "7300e73d",
   "metadata": {},
   "outputs": [
    {
     "name": "stdout",
     "output_type": "stream",
     "text": [
      "a \n",
      "b c \n",
      "d e f \n",
      "g h i j \n",
      "k l m n o \n",
      "p q r s t u \n",
      "v w x y z { | \n"
     ]
    }
   ],
   "source": [
    "n = 7\n",
    "x = 97\n",
    "for i in range(1, n+1):\n",
    "    \n",
    "    for j in range(i):\n",
    "        print(chr(x),end = ' ')\n",
    "        x +=1\n",
    "    print()\n"
   ]
  },
  {
   "cell_type": "code",
   "execution_count": 96,
   "id": "5325cff6",
   "metadata": {},
   "outputs": [
    {
     "name": "stdout",
     "output_type": "stream",
     "text": [
      "A \n",
      "B C \n",
      "D E F \n",
      "G H I J \n",
      "K L M N O \n",
      "P Q R S T U \n",
      "V W X Y Z [ \\ \n"
     ]
    }
   ],
   "source": [
    "n = 7\n",
    "x = 65\n",
    "for i in range(1, n+1):\n",
    "    \n",
    "    for j in range(i):\n",
    "        print(chr(x),end = ' ')\n",
    "        x +=1\n",
    "    print()\n"
   ]
  },
  {
   "cell_type": "code",
   "execution_count": 97,
   "id": "ae617ab2",
   "metadata": {},
   "outputs": [
    {
     "name": "stdout",
     "output_type": "stream",
     "text": [
      "A \n",
      "B C \n",
      "D E F \n",
      "G H I J \n",
      "K L M N O \n",
      "P Q R S T U \n",
      "V W X Y Z [ \\ \n",
      "] ^ _ ` a b c d \n"
     ]
    }
   ],
   "source": [
    "n = 8\n",
    "x = 65\n",
    "for i in range(1, n+1):\n",
    "    \n",
    "    for j in range(i):\n",
    "        print(chr(x),end = ' ')\n",
    "        x +=1\n",
    "    print()\n"
   ]
  },
  {
   "cell_type": "code",
   "execution_count": 99,
   "id": "c8b62ded",
   "metadata": {},
   "outputs": [
    {
     "name": "stdout",
     "output_type": "stream",
     "text": [
      "A \n",
      "A B \n",
      "A B C \n",
      "A B C D \n",
      "A B C D E \n",
      "A B C D E F \n",
      "A B C D E F G \n",
      "A B C D E F G H \n"
     ]
    }
   ],
   "source": [
    "n = 8\n",
    "x = 65\n",
    "for i in range(1, n+1):\n",
    "    for j in range(i):\n",
    "        print(chr(x+j),end = ' ')\n",
    "    print()\n"
   ]
  },
  {
   "cell_type": "code",
   "execution_count": 101,
   "id": "5c300282",
   "metadata": {},
   "outputs": [
    {
     "name": "stdout",
     "output_type": "stream",
     "text": [
      "A \n",
      "B B \n",
      "C C C \n",
      "D D D D \n",
      "E E E E E \n",
      "F F F F F F \n",
      "G G G G G G G \n",
      "H H H H H H H H \n"
     ]
    }
   ],
   "source": [
    "n = 8\n",
    "x = 65\n",
    "for i in range(1, n+1):\n",
    "    for j in range(i):\n",
    "        print(chr(x),end = ' ')\n",
    "    x +=1\n",
    "    print()\n"
   ]
  },
  {
   "cell_type": "code",
   "execution_count": 102,
   "id": "06dabf66",
   "metadata": {},
   "outputs": [
    {
     "name": "stdout",
     "output_type": "stream",
     "text": [
      "* * * * * \n",
      "* * * * \n",
      "* * * \n",
      "* * \n",
      "* \n"
     ]
    }
   ],
   "source": [
    "for i in range(5,0,-1):\n",
    "    print('* '*i)"
   ]
  },
  {
   "cell_type": "code",
   "execution_count": 104,
   "id": "52cdcd9e",
   "metadata": {},
   "outputs": [
    {
     "name": "stdout",
     "output_type": "stream",
     "text": [
      "* * * * * \n",
      "* * * * \n",
      "* * * \n",
      "* * \n",
      "* \n"
     ]
    }
   ],
   "source": [
    "n = 5\n",
    "\n",
    "for i in range(n,0,-1):\n",
    "    for j in range(i):   # for j in range(5) >> 0,1,2,3,4\n",
    "        print('*',end = ' ')\n",
    "        \n",
    "    print()\n"
   ]
  },
  {
   "cell_type": "code",
   "execution_count": 105,
   "id": "fdc0c38a",
   "metadata": {},
   "outputs": [
    {
     "name": "stdout",
     "output_type": "stream",
     "text": [
      "5 5 5 5 5 \n",
      "4 4 4 4 \n",
      "3 3 3 \n",
      "2 2 \n",
      "1 \n"
     ]
    }
   ],
   "source": [
    "n = 5\n",
    "\n",
    "for i in range(n,0,-1):\n",
    "    for j in range(i):   # for j in range(5) >> 0,1,2,3,4\n",
    "        print(i,end = ' ')\n",
    "        \n",
    "    print()\n"
   ]
  },
  {
   "cell_type": "code",
   "execution_count": 106,
   "id": "4c4aeeaf",
   "metadata": {},
   "outputs": [
    {
     "name": "stdout",
     "output_type": "stream",
     "text": [
      "A A A A A \n",
      "A A A A \n",
      "A A A \n",
      "A A \n",
      "A \n"
     ]
    }
   ],
   "source": [
    "n = 5\n",
    "x = 65\n",
    "for i in range(n,0,-1):\n",
    "    for j in range(i):   # for j in range(5) >> 0,1,2,3,4\n",
    "        print(chr(x),end = ' ')\n",
    "        \n",
    "    print()\n"
   ]
  },
  {
   "cell_type": "code",
   "execution_count": 108,
   "id": "062e271f",
   "metadata": {},
   "outputs": [
    {
     "name": "stdout",
     "output_type": "stream",
     "text": [
      "A B C D E \n",
      "F G H I \n",
      "J K L \n",
      "M N \n",
      "O \n"
     ]
    }
   ],
   "source": [
    "n = 5\n",
    "x = 65\n",
    "for i in range(n,0,-1):\n",
    "    for j in range(i):   # for j in range(5) >> 0,1,2,3,4\n",
    "        print(chr(x),end = ' ')\n",
    "        x +=1\n",
    "    print()\n"
   ]
  },
  {
   "cell_type": "code",
   "execution_count": 109,
   "id": "d1966288",
   "metadata": {},
   "outputs": [
    {
     "name": "stdout",
     "output_type": "stream",
     "text": [
      "A A A A A \n",
      "B B B B \n",
      "C C C \n",
      "D D \n",
      "E \n"
     ]
    }
   ],
   "source": [
    "n = 5\n",
    "x = 65\n",
    "for i in range(n,0,-1):\n",
    "    for j in range(i):   # for j in range(5) >> 0,1,2,3,4\n",
    "        print(chr(x),end = ' ')\n",
    "    x +=1\n",
    "    print()\n"
   ]
  },
  {
   "cell_type": "code",
   "execution_count": 110,
   "id": "64794ef6",
   "metadata": {},
   "outputs": [
    {
     "name": "stdout",
     "output_type": "stream",
     "text": [
      "* \n",
      "* * \n",
      "* * * \n",
      "* * * * \n",
      "* * * * * \n"
     ]
    }
   ],
   "source": [
    "n = 5\n",
    "for i in range(1,n+1):\n",
    "    print('* '*i)"
   ]
  },
  {
   "cell_type": "code",
   "execution_count": null,
   "id": "90695c76",
   "metadata": {},
   "outputs": [],
   "source": [
    "      *\n",
    "    * *\n",
    "  * * *\n",
    "* * * *"
   ]
  },
  {
   "cell_type": "code",
   "execution_count": 117,
   "id": "8f6361a1",
   "metadata": {},
   "outputs": [
    {
     "name": "stdout",
     "output_type": "stream",
     "text": [
      "      *\n",
      "     **\n",
      "    ***\n",
      "   ****\n",
      "  *****\n",
      " ******\n"
     ]
    }
   ],
   "source": [
    "n = 6\n",
    "for i in range(1,n+1):\n",
    "    print(' '*(n-i),end = ' ')\n",
    "    print('*'*i)"
   ]
  },
  {
   "cell_type": "code",
   "execution_count": 124,
   "id": "ae27c7fd",
   "metadata": {},
   "outputs": [
    {
     "name": "stdout",
     "output_type": "stream",
     "text": [
      "      *\n",
      "     ***\n",
      "    *****\n",
      "   *******\n",
      "  *********\n",
      " ***********\n",
      "*************\n"
     ]
    }
   ],
   "source": [
    "n = 7\n",
    "\n",
    "for i in range(1,n+1):\n",
    "    print(' '*(n-i) + '*'* (i*2-1))"
   ]
  },
  {
   "cell_type": "code",
   "execution_count": 128,
   "id": "4a007216",
   "metadata": {},
   "outputs": [
    {
     "name": "stdout",
     "output_type": "stream",
     "text": [
      "      *\n",
      "     ***\n",
      "    *****\n",
      "   *******\n",
      "  *********\n",
      " ***********\n",
      "*************\n"
     ]
    }
   ],
   "source": [
    "n = 7\n",
    "\n",
    "for i in range(1,n+1):\n",
    "    print(' '*(n-i) + '*'* (i*2-1))"
   ]
  },
  {
   "cell_type": "code",
   "execution_count": 129,
   "id": "726b64c2",
   "metadata": {},
   "outputs": [
    {
     "name": "stdout",
     "output_type": "stream",
     "text": [
      "* \n",
      "* * \n",
      "* * * \n",
      "* * * * \n",
      "* * * * * \n"
     ]
    }
   ],
   "source": [
    "n = 5\n",
    "for i in range(1,n+1):\n",
    "    print('* '*i)"
   ]
  },
  {
   "cell_type": "code",
   "execution_count": null,
   "id": "571e11a2",
   "metadata": {},
   "outputs": [],
   "source": [
    "* \n",
    "* * \n",
    "* * * \n",
    "* * * * \n",
    "* * * * *\n",
    "* * * * *\n",
    "* * * * \n",
    "* * *\n",
    "* *\n",
    "*"
   ]
  },
  {
   "cell_type": "code",
   "execution_count": 131,
   "id": "b591c5c8",
   "metadata": {},
   "outputs": [
    {
     "name": "stdout",
     "output_type": "stream",
     "text": [
      "* \n",
      "* * \n",
      "* * * \n",
      "* * * * \n",
      "* * * * * \n",
      "* * * * * \n",
      "* * * * \n",
      "* * * \n",
      "* * \n",
      "* \n"
     ]
    }
   ],
   "source": [
    "n = 5\n",
    "for i in range(1,n+1):\n",
    "    print('* '*i)\n",
    "    \n",
    "for i in range(n,0,-1):\n",
    "    print('* '*i)"
   ]
  },
  {
   "cell_type": "code",
   "execution_count": null,
   "id": "5690058f",
   "metadata": {},
   "outputs": [],
   "source": [
    "* \n",
    "* * \n",
    "* * * \n",
    "* * * * \n",
    "* * * * *\n",
    "* * * * * *\n",
    "* * * * *\n",
    "* * * * \n",
    "* * *\n",
    "* *\n",
    "*"
   ]
  },
  {
   "cell_type": "code",
   "execution_count": 132,
   "id": "e2cddbd3",
   "metadata": {},
   "outputs": [
    {
     "name": "stdout",
     "output_type": "stream",
     "text": [
      "* \n",
      "* * \n",
      "* * * \n",
      "* * * * \n",
      "* * * * * \n",
      "* * * * * * \n",
      "* * * * * \n",
      "* * * * \n",
      "* * * \n",
      "* * \n",
      "* \n"
     ]
    }
   ],
   "source": [
    "n = 5\n",
    "for i in range(1,n+2):\n",
    "    print('* '*i)\n",
    "    \n",
    "for i in range(n,0,-1):\n",
    "    print('* '*i)"
   ]
  },
  {
   "cell_type": "code",
   "execution_count": 133,
   "id": "f6d9d440",
   "metadata": {},
   "outputs": [
    {
     "name": "stdout",
     "output_type": "stream",
     "text": [
      "* \n",
      "* * \n",
      "* * * \n",
      "* * * * \n",
      "* * * * * \n",
      "* * * * \n",
      "* * * \n",
      "* * \n",
      "* \n"
     ]
    }
   ],
   "source": [
    "n = 5\n",
    "for i in range(1,n+1):\n",
    "    print('* '*i)\n",
    "    \n",
    "for i in range(n-1,0,-1):\n",
    "    print('* '*i)"
   ]
  },
  {
   "cell_type": "code",
   "execution_count": 134,
   "id": "1358bd84",
   "metadata": {},
   "outputs": [
    {
     "name": "stdout",
     "output_type": "stream",
     "text": [
      "A\n",
      "AA\n",
      "AAA\n",
      "AAAA\n",
      "AAAAA\n",
      "AAAA\n",
      "AAA\n",
      "AA\n",
      "A\n"
     ]
    }
   ],
   "source": [
    "n = 5\n",
    "x = 65\n",
    "for i in range(1,n+1):\n",
    "    print(chr(x)*i)\n",
    "    \n",
    "for i in range(n-1,0,-1):\n",
    "    print(chr(x)*i)"
   ]
  },
  {
   "cell_type": "code",
   "execution_count": 136,
   "id": "0b5ca4d7",
   "metadata": {},
   "outputs": [
    {
     "name": "stdout",
     "output_type": "stream",
     "text": [
      "A\n",
      "BB\n",
      "CCC\n",
      "DDDD\n",
      "EEEEE\n",
      "FFFF\n",
      "GGG\n",
      "HH\n",
      "I\n"
     ]
    }
   ],
   "source": [
    "n = 5\n",
    "x = 65\n",
    "for i in range(1,n+1):\n",
    "    print(chr(x)*i)\n",
    "    x +=1\n",
    "    \n",
    "for i in range(n-1,0,-1):\n",
    "    print(chr(x)*i)\n",
    "    x +=1"
   ]
  },
  {
   "cell_type": "code",
   "execution_count": 137,
   "id": "efc69fb5",
   "metadata": {},
   "outputs": [
    {
     "name": "stdout",
     "output_type": "stream",
     "text": [
      "A\n",
      "BB\n",
      "CCC\n",
      "DDDD\n",
      "EEEEE\n",
      "FFFF\n",
      "EEE\n",
      "DD\n",
      "C\n"
     ]
    }
   ],
   "source": [
    "n = 5\n",
    "x = 65\n",
    "for i in range(1,n+1):\n",
    "    print(chr(x)*i)\n",
    "    x +=1\n",
    "    \n",
    "for i in range(n-1,0,-1):\n",
    "    print(chr(x)*i)\n",
    "    x -=1"
   ]
  },
  {
   "cell_type": "code",
   "execution_count": 139,
   "id": "6e6b1ba4",
   "metadata": {},
   "outputs": [
    {
     "name": "stdout",
     "output_type": "stream",
     "text": [
      "A\n",
      "BB\n",
      "CCC\n",
      "DDDD\n",
      "EEEEE\n",
      "EEEEE\n",
      "DDDD\n",
      "CCC\n",
      "BB\n",
      "A\n"
     ]
    }
   ],
   "source": [
    "n = 5\n",
    "x = 65\n",
    "for i in range(1,n+1):\n",
    "    print(chr(x)*i)\n",
    "    x +=1\n",
    "\n",
    "x = 69\n",
    "for i in range(n,0,-1):\n",
    "    print(chr(x)*i)\n",
    "    x -=1"
   ]
  },
  {
   "cell_type": "code",
   "execution_count": null,
   "id": "66b3c844",
   "metadata": {},
   "outputs": [],
   "source": []
  },
  {
   "cell_type": "code",
   "execution_count": 140,
   "id": "b56a8954",
   "metadata": {},
   "outputs": [
    {
     "data": {
      "text/plain": [
       "71"
      ]
     },
     "execution_count": 140,
     "metadata": {},
     "output_type": "execute_result"
    }
   ],
   "source": [
    "ord('G')"
   ]
  },
  {
   "cell_type": "code",
   "execution_count": 141,
   "id": "779732a6",
   "metadata": {},
   "outputs": [
    {
     "data": {
      "text/plain": [
       "'+'"
      ]
     },
     "execution_count": 141,
     "metadata": {},
     "output_type": "execute_result"
    }
   ],
   "source": [
    "chr(43)"
   ]
  },
  {
   "cell_type": "code",
   "execution_count": 142,
   "id": "3dcc514f",
   "metadata": {},
   "outputs": [
    {
     "name": "stdout",
     "output_type": "stream",
     "text": [
      "65\n",
      "66\n",
      "67\n"
     ]
    }
   ],
   "source": [
    "alpha = [\"A\",'B','C']\n",
    "for i in alpha:\n",
    "    print(ord(i))"
   ]
  },
  {
   "cell_type": "code",
   "execution_count": 147,
   "id": "2cd0545f",
   "metadata": {},
   "outputs": [
    {
     "name": "stdout",
     "output_type": "stream",
     "text": [
      "11 22 33 \n",
      "11 22 33 \n",
      "11 22 33 \n",
      "11 22 33 \n",
      "11 22 33 \n"
     ]
    }
   ],
   "source": [
    "list1 = [1,2,3,4,5]\n",
    "list2 = [11,22,33]\n",
    "for i in list1:\n",
    "    for j in list2:\n",
    "        print(j,end = ' ')\n",
    "        \n",
    "    print()"
   ]
  },
  {
   "cell_type": "code",
   "execution_count": null,
   "id": "3117448a",
   "metadata": {},
   "outputs": [],
   "source": [
    "np.where"
   ]
  },
  {
   "cell_type": "code",
   "execution_count": null,
   "id": "9baf6d28",
   "metadata": {},
   "outputs": [],
   "source": [
    "dataframes"
   ]
  },
  {
   "cell_type": "code",
   "execution_count": 144,
   "id": "deb4d5ab",
   "metadata": {},
   "outputs": [
    {
     "data": {
      "text/html": [
       "<div>\n",
       "<style scoped>\n",
       "    .dataframe tbody tr th:only-of-type {\n",
       "        vertical-align: middle;\n",
       "    }\n",
       "\n",
       "    .dataframe tbody tr th {\n",
       "        vertical-align: top;\n",
       "    }\n",
       "\n",
       "    .dataframe thead th {\n",
       "        text-align: right;\n",
       "    }\n",
       "</style>\n",
       "<table border=\"1\" class=\"dataframe\">\n",
       "  <thead>\n",
       "    <tr style=\"text-align: right;\">\n",
       "      <th></th>\n",
       "      <th>Glucose</th>\n",
       "      <th>BloodPressure</th>\n",
       "      <th>SkinThickness</th>\n",
       "      <th>Insulin</th>\n",
       "      <th>BMI</th>\n",
       "      <th>DiabetesPedigreeFunction</th>\n",
       "      <th>Age</th>\n",
       "      <th>Outcome</th>\n",
       "    </tr>\n",
       "  </thead>\n",
       "  <tbody>\n",
       "    <tr>\n",
       "      <th>0</th>\n",
       "      <td>148</td>\n",
       "      <td>50</td>\n",
       "      <td>35</td>\n",
       "      <td>0</td>\n",
       "      <td>33.6</td>\n",
       "      <td>0.627</td>\n",
       "      <td>50</td>\n",
       "      <td>1</td>\n",
       "    </tr>\n",
       "    <tr>\n",
       "      <th>1</th>\n",
       "      <td>85</td>\n",
       "      <td>66</td>\n",
       "      <td>29</td>\n",
       "      <td>0</td>\n",
       "      <td>26.6</td>\n",
       "      <td>0.351</td>\n",
       "      <td>31</td>\n",
       "      <td>0</td>\n",
       "    </tr>\n",
       "    <tr>\n",
       "      <th>2</th>\n",
       "      <td>183</td>\n",
       "      <td>64</td>\n",
       "      <td>0</td>\n",
       "      <td>0</td>\n",
       "      <td>23.3</td>\n",
       "      <td>0.672</td>\n",
       "      <td>102</td>\n",
       "      <td>1</td>\n",
       "    </tr>\n",
       "    <tr>\n",
       "      <th>3</th>\n",
       "      <td>150</td>\n",
       "      <td>66</td>\n",
       "      <td>23</td>\n",
       "      <td>94</td>\n",
       "      <td>28.1</td>\n",
       "      <td>0.167</td>\n",
       "      <td>21</td>\n",
       "      <td>0</td>\n",
       "    </tr>\n",
       "    <tr>\n",
       "      <th>4</th>\n",
       "      <td>150</td>\n",
       "      <td>40</td>\n",
       "      <td>35</td>\n",
       "      <td>168</td>\n",
       "      <td>43.1</td>\n",
       "      <td>2.288</td>\n",
       "      <td>33</td>\n",
       "      <td>1</td>\n",
       "    </tr>\n",
       "    <tr>\n",
       "      <th>...</th>\n",
       "      <td>...</td>\n",
       "      <td>...</td>\n",
       "      <td>...</td>\n",
       "      <td>...</td>\n",
       "      <td>...</td>\n",
       "      <td>...</td>\n",
       "      <td>...</td>\n",
       "      <td>...</td>\n",
       "    </tr>\n",
       "    <tr>\n",
       "      <th>763</th>\n",
       "      <td>101</td>\n",
       "      <td>76</td>\n",
       "      <td>48</td>\n",
       "      <td>180</td>\n",
       "      <td>32.9</td>\n",
       "      <td>0.171</td>\n",
       "      <td>63</td>\n",
       "      <td>0</td>\n",
       "    </tr>\n",
       "    <tr>\n",
       "      <th>764</th>\n",
       "      <td>122</td>\n",
       "      <td>70</td>\n",
       "      <td>27</td>\n",
       "      <td>0</td>\n",
       "      <td>36.8</td>\n",
       "      <td>0.340</td>\n",
       "      <td>27</td>\n",
       "      <td>0</td>\n",
       "    </tr>\n",
       "    <tr>\n",
       "      <th>765</th>\n",
       "      <td>121</td>\n",
       "      <td>72</td>\n",
       "      <td>23</td>\n",
       "      <td>112</td>\n",
       "      <td>26.2</td>\n",
       "      <td>0.245</td>\n",
       "      <td>30</td>\n",
       "      <td>0</td>\n",
       "    </tr>\n",
       "    <tr>\n",
       "      <th>766</th>\n",
       "      <td>126</td>\n",
       "      <td>60</td>\n",
       "      <td>0</td>\n",
       "      <td>0</td>\n",
       "      <td>30.1</td>\n",
       "      <td>0.349</td>\n",
       "      <td>47</td>\n",
       "      <td>1</td>\n",
       "    </tr>\n",
       "    <tr>\n",
       "      <th>767</th>\n",
       "      <td>93</td>\n",
       "      <td>70</td>\n",
       "      <td>31</td>\n",
       "      <td>0</td>\n",
       "      <td>30.4</td>\n",
       "      <td>0.315</td>\n",
       "      <td>23</td>\n",
       "      <td>0</td>\n",
       "    </tr>\n",
       "  </tbody>\n",
       "</table>\n",
       "<p>768 rows × 8 columns</p>\n",
       "</div>"
      ],
      "text/plain": [
       "     Glucose  BloodPressure  SkinThickness  Insulin   BMI  \\\n",
       "0        148             50             35        0  33.6   \n",
       "1         85             66             29        0  26.6   \n",
       "2        183             64              0        0  23.3   \n",
       "3        150             66             23       94  28.1   \n",
       "4        150             40             35      168  43.1   \n",
       "..       ...            ...            ...      ...   ...   \n",
       "763      101             76             48      180  32.9   \n",
       "764      122             70             27        0  36.8   \n",
       "765      121             72             23      112  26.2   \n",
       "766      126             60              0        0  30.1   \n",
       "767       93             70             31        0  30.4   \n",
       "\n",
       "     DiabetesPedigreeFunction  Age  Outcome  \n",
       "0                       0.627   50        1  \n",
       "1                       0.351   31        0  \n",
       "2                       0.672  102        1  \n",
       "3                       0.167   21        0  \n",
       "4                       2.288   33        1  \n",
       "..                        ...  ...      ...  \n",
       "763                     0.171   63        0  \n",
       "764                     0.340   27        0  \n",
       "765                     0.245   30        0  \n",
       "766                     0.349   47        1  \n",
       "767                     0.315   23        0  \n",
       "\n",
       "[768 rows x 8 columns]"
      ]
     },
     "execution_count": 144,
     "metadata": {},
     "output_type": "execute_result"
    }
   ],
   "source": [
    "import pandas as pd\n",
    "\n",
    "df = pd.read_csv(r'G:\\Velocity 16 APR\\04_27_String_functions\\test\\diabetes.csv')\n",
    "df"
   ]
  },
  {
   "cell_type": "code",
   "execution_count": 148,
   "id": "ac01271f",
   "metadata": {},
   "outputs": [
    {
     "ename": "OSError",
     "evalue": "[Errno 22] Invalid argument: 'G:\\\\Velocity 16 APR\\x04_27_String_functions\\test\\\\diabetes.csv'",
     "output_type": "error",
     "traceback": [
      "\u001b[1;31m---------------------------------------------------------------------------\u001b[0m",
      "\u001b[1;31mOSError\u001b[0m                                   Traceback (most recent call last)",
      "\u001b[1;32m<ipython-input-148-aec2839eac9f>\u001b[0m in \u001b[0;36m<module>\u001b[1;34m\u001b[0m\n\u001b[0;32m      1\u001b[0m \u001b[1;32mimport\u001b[0m \u001b[0mpandas\u001b[0m \u001b[1;32mas\u001b[0m \u001b[0mpd\u001b[0m\u001b[1;33m\u001b[0m\u001b[1;33m\u001b[0m\u001b[0m\n\u001b[0;32m      2\u001b[0m \u001b[1;33m\u001b[0m\u001b[0m\n\u001b[1;32m----> 3\u001b[1;33m \u001b[0mdf\u001b[0m \u001b[1;33m=\u001b[0m \u001b[0mpd\u001b[0m\u001b[1;33m.\u001b[0m\u001b[0mread_csv\u001b[0m\u001b[1;33m(\u001b[0m\u001b[1;34m'G:\\Velocity 16 APR\\04_27_String_functions\\test\\diabetes.csv'\u001b[0m\u001b[1;33m)\u001b[0m\u001b[1;33m\u001b[0m\u001b[1;33m\u001b[0m\u001b[0m\n\u001b[0m\u001b[0;32m      4\u001b[0m \u001b[0mdf\u001b[0m\u001b[1;33m\u001b[0m\u001b[1;33m\u001b[0m\u001b[0m\n",
      "\u001b[1;32m~\\anaconda3\\lib\\site-packages\\pandas\\io\\parsers.py\u001b[0m in \u001b[0;36mread_csv\u001b[1;34m(filepath_or_buffer, sep, delimiter, header, names, index_col, usecols, squeeze, prefix, mangle_dupe_cols, dtype, engine, converters, true_values, false_values, skipinitialspace, skiprows, skipfooter, nrows, na_values, keep_default_na, na_filter, verbose, skip_blank_lines, parse_dates, infer_datetime_format, keep_date_col, date_parser, dayfirst, cache_dates, iterator, chunksize, compression, thousands, decimal, lineterminator, quotechar, quoting, doublequote, escapechar, comment, encoding, dialect, error_bad_lines, warn_bad_lines, delim_whitespace, low_memory, memory_map, float_precision, storage_options)\u001b[0m\n\u001b[0;32m    608\u001b[0m     \u001b[0mkwds\u001b[0m\u001b[1;33m.\u001b[0m\u001b[0mupdate\u001b[0m\u001b[1;33m(\u001b[0m\u001b[0mkwds_defaults\u001b[0m\u001b[1;33m)\u001b[0m\u001b[1;33m\u001b[0m\u001b[1;33m\u001b[0m\u001b[0m\n\u001b[0;32m    609\u001b[0m \u001b[1;33m\u001b[0m\u001b[0m\n\u001b[1;32m--> 610\u001b[1;33m     \u001b[1;32mreturn\u001b[0m \u001b[0m_read\u001b[0m\u001b[1;33m(\u001b[0m\u001b[0mfilepath_or_buffer\u001b[0m\u001b[1;33m,\u001b[0m \u001b[0mkwds\u001b[0m\u001b[1;33m)\u001b[0m\u001b[1;33m\u001b[0m\u001b[1;33m\u001b[0m\u001b[0m\n\u001b[0m\u001b[0;32m    611\u001b[0m \u001b[1;33m\u001b[0m\u001b[0m\n\u001b[0;32m    612\u001b[0m \u001b[1;33m\u001b[0m\u001b[0m\n",
      "\u001b[1;32m~\\anaconda3\\lib\\site-packages\\pandas\\io\\parsers.py\u001b[0m in \u001b[0;36m_read\u001b[1;34m(filepath_or_buffer, kwds)\u001b[0m\n\u001b[0;32m    460\u001b[0m \u001b[1;33m\u001b[0m\u001b[0m\n\u001b[0;32m    461\u001b[0m     \u001b[1;31m# Create the parser.\u001b[0m\u001b[1;33m\u001b[0m\u001b[1;33m\u001b[0m\u001b[1;33m\u001b[0m\u001b[0m\n\u001b[1;32m--> 462\u001b[1;33m     \u001b[0mparser\u001b[0m \u001b[1;33m=\u001b[0m \u001b[0mTextFileReader\u001b[0m\u001b[1;33m(\u001b[0m\u001b[0mfilepath_or_buffer\u001b[0m\u001b[1;33m,\u001b[0m \u001b[1;33m**\u001b[0m\u001b[0mkwds\u001b[0m\u001b[1;33m)\u001b[0m\u001b[1;33m\u001b[0m\u001b[1;33m\u001b[0m\u001b[0m\n\u001b[0m\u001b[0;32m    463\u001b[0m \u001b[1;33m\u001b[0m\u001b[0m\n\u001b[0;32m    464\u001b[0m     \u001b[1;32mif\u001b[0m \u001b[0mchunksize\u001b[0m \u001b[1;32mor\u001b[0m \u001b[0miterator\u001b[0m\u001b[1;33m:\u001b[0m\u001b[1;33m\u001b[0m\u001b[1;33m\u001b[0m\u001b[0m\n",
      "\u001b[1;32m~\\anaconda3\\lib\\site-packages\\pandas\\io\\parsers.py\u001b[0m in \u001b[0;36m__init__\u001b[1;34m(self, f, engine, **kwds)\u001b[0m\n\u001b[0;32m    817\u001b[0m             \u001b[0mself\u001b[0m\u001b[1;33m.\u001b[0m\u001b[0moptions\u001b[0m\u001b[1;33m[\u001b[0m\u001b[1;34m\"has_index_names\"\u001b[0m\u001b[1;33m]\u001b[0m \u001b[1;33m=\u001b[0m \u001b[0mkwds\u001b[0m\u001b[1;33m[\u001b[0m\u001b[1;34m\"has_index_names\"\u001b[0m\u001b[1;33m]\u001b[0m\u001b[1;33m\u001b[0m\u001b[1;33m\u001b[0m\u001b[0m\n\u001b[0;32m    818\u001b[0m \u001b[1;33m\u001b[0m\u001b[0m\n\u001b[1;32m--> 819\u001b[1;33m         \u001b[0mself\u001b[0m\u001b[1;33m.\u001b[0m\u001b[0m_engine\u001b[0m \u001b[1;33m=\u001b[0m \u001b[0mself\u001b[0m\u001b[1;33m.\u001b[0m\u001b[0m_make_engine\u001b[0m\u001b[1;33m(\u001b[0m\u001b[0mself\u001b[0m\u001b[1;33m.\u001b[0m\u001b[0mengine\u001b[0m\u001b[1;33m)\u001b[0m\u001b[1;33m\u001b[0m\u001b[1;33m\u001b[0m\u001b[0m\n\u001b[0m\u001b[0;32m    820\u001b[0m \u001b[1;33m\u001b[0m\u001b[0m\n\u001b[0;32m    821\u001b[0m     \u001b[1;32mdef\u001b[0m \u001b[0mclose\u001b[0m\u001b[1;33m(\u001b[0m\u001b[0mself\u001b[0m\u001b[1;33m)\u001b[0m\u001b[1;33m:\u001b[0m\u001b[1;33m\u001b[0m\u001b[1;33m\u001b[0m\u001b[0m\n",
      "\u001b[1;32m~\\anaconda3\\lib\\site-packages\\pandas\\io\\parsers.py\u001b[0m in \u001b[0;36m_make_engine\u001b[1;34m(self, engine)\u001b[0m\n\u001b[0;32m   1048\u001b[0m             )\n\u001b[0;32m   1049\u001b[0m         \u001b[1;31m# error: Too many arguments for \"ParserBase\"\u001b[0m\u001b[1;33m\u001b[0m\u001b[1;33m\u001b[0m\u001b[1;33m\u001b[0m\u001b[0m\n\u001b[1;32m-> 1050\u001b[1;33m         \u001b[1;32mreturn\u001b[0m \u001b[0mmapping\u001b[0m\u001b[1;33m[\u001b[0m\u001b[0mengine\u001b[0m\u001b[1;33m]\u001b[0m\u001b[1;33m(\u001b[0m\u001b[0mself\u001b[0m\u001b[1;33m.\u001b[0m\u001b[0mf\u001b[0m\u001b[1;33m,\u001b[0m \u001b[1;33m**\u001b[0m\u001b[0mself\u001b[0m\u001b[1;33m.\u001b[0m\u001b[0moptions\u001b[0m\u001b[1;33m)\u001b[0m  \u001b[1;31m# type: ignore[call-arg]\u001b[0m\u001b[1;33m\u001b[0m\u001b[1;33m\u001b[0m\u001b[0m\n\u001b[0m\u001b[0;32m   1051\u001b[0m \u001b[1;33m\u001b[0m\u001b[0m\n\u001b[0;32m   1052\u001b[0m     \u001b[1;32mdef\u001b[0m \u001b[0m_failover_to_python\u001b[0m\u001b[1;33m(\u001b[0m\u001b[0mself\u001b[0m\u001b[1;33m)\u001b[0m\u001b[1;33m:\u001b[0m\u001b[1;33m\u001b[0m\u001b[1;33m\u001b[0m\u001b[0m\n",
      "\u001b[1;32m~\\anaconda3\\lib\\site-packages\\pandas\\io\\parsers.py\u001b[0m in \u001b[0;36m__init__\u001b[1;34m(self, src, **kwds)\u001b[0m\n\u001b[0;32m   1865\u001b[0m \u001b[1;33m\u001b[0m\u001b[0m\n\u001b[0;32m   1866\u001b[0m         \u001b[1;31m# open handles\u001b[0m\u001b[1;33m\u001b[0m\u001b[1;33m\u001b[0m\u001b[1;33m\u001b[0m\u001b[0m\n\u001b[1;32m-> 1867\u001b[1;33m         \u001b[0mself\u001b[0m\u001b[1;33m.\u001b[0m\u001b[0m_open_handles\u001b[0m\u001b[1;33m(\u001b[0m\u001b[0msrc\u001b[0m\u001b[1;33m,\u001b[0m \u001b[0mkwds\u001b[0m\u001b[1;33m)\u001b[0m\u001b[1;33m\u001b[0m\u001b[1;33m\u001b[0m\u001b[0m\n\u001b[0m\u001b[0;32m   1868\u001b[0m         \u001b[1;32massert\u001b[0m \u001b[0mself\u001b[0m\u001b[1;33m.\u001b[0m\u001b[0mhandles\u001b[0m \u001b[1;32mis\u001b[0m \u001b[1;32mnot\u001b[0m \u001b[1;32mNone\u001b[0m\u001b[1;33m\u001b[0m\u001b[1;33m\u001b[0m\u001b[0m\n\u001b[0;32m   1869\u001b[0m         \u001b[1;32mfor\u001b[0m \u001b[0mkey\u001b[0m \u001b[1;32min\u001b[0m \u001b[1;33m(\u001b[0m\u001b[1;34m\"storage_options\"\u001b[0m\u001b[1;33m,\u001b[0m \u001b[1;34m\"encoding\"\u001b[0m\u001b[1;33m,\u001b[0m \u001b[1;34m\"memory_map\"\u001b[0m\u001b[1;33m,\u001b[0m \u001b[1;34m\"compression\"\u001b[0m\u001b[1;33m)\u001b[0m\u001b[1;33m:\u001b[0m\u001b[1;33m\u001b[0m\u001b[1;33m\u001b[0m\u001b[0m\n",
      "\u001b[1;32m~\\anaconda3\\lib\\site-packages\\pandas\\io\\parsers.py\u001b[0m in \u001b[0;36m_open_handles\u001b[1;34m(self, src, kwds)\u001b[0m\n\u001b[0;32m   1360\u001b[0m         \u001b[0mLet\u001b[0m \u001b[0mthe\u001b[0m \u001b[0mreaders\u001b[0m \u001b[0mopen\u001b[0m \u001b[0mIOHanldes\u001b[0m \u001b[0mafter\u001b[0m \u001b[0mthey\u001b[0m \u001b[0mare\u001b[0m \u001b[0mdone\u001b[0m \u001b[1;32mwith\u001b[0m \u001b[0mtheir\u001b[0m \u001b[0mpotential\u001b[0m \u001b[0mraises\u001b[0m\u001b[1;33m.\u001b[0m\u001b[1;33m\u001b[0m\u001b[1;33m\u001b[0m\u001b[0m\n\u001b[0;32m   1361\u001b[0m         \"\"\"\n\u001b[1;32m-> 1362\u001b[1;33m         self.handles = get_handle(\n\u001b[0m\u001b[0;32m   1363\u001b[0m             \u001b[0msrc\u001b[0m\u001b[1;33m,\u001b[0m\u001b[1;33m\u001b[0m\u001b[1;33m\u001b[0m\u001b[0m\n\u001b[0;32m   1364\u001b[0m             \u001b[1;34m\"r\"\u001b[0m\u001b[1;33m,\u001b[0m\u001b[1;33m\u001b[0m\u001b[1;33m\u001b[0m\u001b[0m\n",
      "\u001b[1;32m~\\anaconda3\\lib\\site-packages\\pandas\\io\\common.py\u001b[0m in \u001b[0;36mget_handle\u001b[1;34m(path_or_buf, mode, encoding, compression, memory_map, is_text, errors, storage_options)\u001b[0m\n\u001b[0;32m    640\u001b[0m                 \u001b[0merrors\u001b[0m \u001b[1;33m=\u001b[0m \u001b[1;34m\"replace\"\u001b[0m\u001b[1;33m\u001b[0m\u001b[1;33m\u001b[0m\u001b[0m\n\u001b[0;32m    641\u001b[0m             \u001b[1;31m# Encoding\u001b[0m\u001b[1;33m\u001b[0m\u001b[1;33m\u001b[0m\u001b[1;33m\u001b[0m\u001b[0m\n\u001b[1;32m--> 642\u001b[1;33m             handle = open(\n\u001b[0m\u001b[0;32m    643\u001b[0m                 \u001b[0mhandle\u001b[0m\u001b[1;33m,\u001b[0m\u001b[1;33m\u001b[0m\u001b[1;33m\u001b[0m\u001b[0m\n\u001b[0;32m    644\u001b[0m                 \u001b[0mioargs\u001b[0m\u001b[1;33m.\u001b[0m\u001b[0mmode\u001b[0m\u001b[1;33m,\u001b[0m\u001b[1;33m\u001b[0m\u001b[1;33m\u001b[0m\u001b[0m\n",
      "\u001b[1;31mOSError\u001b[0m: [Errno 22] Invalid argument: 'G:\\\\Velocity 16 APR\\x04_27_String_functions\\test\\\\diabetes.csv'"
     ]
    }
   ],
   "source": [
    "import pandas as pd\n",
    "\n",
    "df = pd.read_csv('G:\\Velocity 16 APR\\04_27_String_functions\\test\\diabetes.csv')\n",
    "df"
   ]
  },
  {
   "cell_type": "code",
   "execution_count": null,
   "id": "3b247f69",
   "metadata": {},
   "outputs": [],
   "source": []
  },
  {
   "cell_type": "code",
   "execution_count": null,
   "id": "ae8faa3d",
   "metadata": {},
   "outputs": [],
   "source": []
  },
  {
   "cell_type": "code",
   "execution_count": null,
   "id": "35781f69",
   "metadata": {},
   "outputs": [],
   "source": []
  },
  {
   "cell_type": "code",
   "execution_count": null,
   "id": "fa25a70e",
   "metadata": {},
   "outputs": [],
   "source": []
  },
  {
   "cell_type": "code",
   "execution_count": null,
   "id": "cfb70229",
   "metadata": {},
   "outputs": [],
   "source": []
  },
  {
   "cell_type": "code",
   "execution_count": null,
   "id": "19de848d",
   "metadata": {},
   "outputs": [],
   "source": []
  },
  {
   "cell_type": "code",
   "execution_count": null,
   "id": "5300702f",
   "metadata": {},
   "outputs": [],
   "source": []
  },
  {
   "cell_type": "code",
   "execution_count": null,
   "id": "abd98e07",
   "metadata": {},
   "outputs": [],
   "source": []
  },
  {
   "cell_type": "code",
   "execution_count": null,
   "id": "2069f869",
   "metadata": {},
   "outputs": [],
   "source": []
  },
  {
   "cell_type": "code",
   "execution_count": null,
   "id": "05fc0631",
   "metadata": {},
   "outputs": [],
   "source": []
  },
  {
   "cell_type": "code",
   "execution_count": null,
   "id": "d48495b8",
   "metadata": {},
   "outputs": [],
   "source": []
  },
  {
   "cell_type": "code",
   "execution_count": null,
   "id": "4a1fb3c0",
   "metadata": {},
   "outputs": [],
   "source": []
  },
  {
   "cell_type": "code",
   "execution_count": null,
   "id": "2554deb8",
   "metadata": {},
   "outputs": [],
   "source": []
  }
 ],
 "metadata": {
  "kernelspec": {
   "display_name": "Python 3 (ipykernel)",
   "language": "python",
   "name": "python3"
  },
  "language_info": {
   "codemirror_mode": {
    "name": "ipython",
    "version": 3
   },
   "file_extension": ".py",
   "mimetype": "text/x-python",
   "name": "python",
   "nbconvert_exporter": "python",
   "pygments_lexer": "ipython3",
   "version": "3.9.13"
  }
 },
 "nbformat": 4,
 "nbformat_minor": 5
}
