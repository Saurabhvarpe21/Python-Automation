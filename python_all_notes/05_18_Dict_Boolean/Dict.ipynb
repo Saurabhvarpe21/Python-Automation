{
 "cells": [
  {
   "cell_type": "markdown",
   "id": "e1b7450b",
   "metadata": {},
   "source": [
    "# Dict"
   ]
  },
  {
   "cell_type": "markdown",
   "id": "f7ef42f4",
   "metadata": {},
   "source": [
    "## copy()"
   ]
  },
  {
   "cell_type": "code",
   "execution_count": 3,
   "id": "d5fdb4cd",
   "metadata": {},
   "outputs": [
    {
     "name": "stdout",
     "output_type": "stream",
     "text": [
      "{'phy': 87, 'che': 75, 'maths': 80, 'eng': 91, 'bio': 88, 'Hist': 81}\n",
      "{'phy': 87, 'che': 75, 'maths': 80, 'eng': 91, 'bio': 88, 'Hist': 81}\n"
     ]
    }
   ],
   "source": [
    "sub_marks = {'phy':87, 'che':75, 'maths':80, 'eng':91, 'bio':88}\n",
    "new_dict = sub_marks\n",
    "new_dict['Hist'] = 81\n",
    "print(sub_marks)\n",
    "print(new_dict)"
   ]
  },
  {
   "cell_type": "code",
   "execution_count": 4,
   "id": "c0f5f54e",
   "metadata": {},
   "outputs": [
    {
     "name": "stdout",
     "output_type": "stream",
     "text": [
      "{'phy': 87, 'che': 75, 'maths': 80, 'eng': 91, 'bio': 88}\n",
      "{'phy': 87, 'che': 75, 'maths': 80, 'eng': 91, 'bio': 88, 'Hist': 81}\n"
     ]
    }
   ],
   "source": [
    "sub_marks = {'phy':87, 'che':75, 'maths':80, 'eng':91, 'bio':88}\n",
    "new_dict = sub_marks.copy()\n",
    "new_dict['Hist'] = 81\n",
    "print(sub_marks)\n",
    "print(new_dict)"
   ]
  },
  {
   "cell_type": "markdown",
   "id": "52f701cd",
   "metadata": {},
   "source": [
    "## Nested Dict"
   ]
  },
  {
   "cell_type": "code",
   "execution_count": null,
   "id": "249a6d78",
   "metadata": {},
   "outputs": [],
   "source": [
    "dict inside dict"
   ]
  },
  {
   "cell_type": "code",
   "execution_count": 5,
   "id": "bfa41ff4",
   "metadata": {},
   "outputs": [
    {
     "data": {
      "text/plain": [
       "1"
      ]
     },
     "execution_count": 5,
     "metadata": {},
     "output_type": "execute_result"
    }
   ],
   "source": [
    "employee_details = { 'CD000123' : {'Name': 'Prashant',\n",
    "                                  'Age': 28,\n",
    "                                  'Company Name': 'Cognizant',\n",
    "                                  'Location': 'Pune',\n",
    "                                  'Designation': 'Data Scientist',\n",
    "                                  'Salary': 70000 }}\n",
    "len(employee_details)"
   ]
  },
  {
   "cell_type": "code",
   "execution_count": 7,
   "id": "5845d2ed",
   "metadata": {},
   "outputs": [
    {
     "data": {
      "text/plain": [
       "'Data Scientist'"
      ]
     },
     "execution_count": 7,
     "metadata": {},
     "output_type": "execute_result"
    }
   ],
   "source": [
    "employee_details = { 'CD000123' : {'Name': 'Prashant',\n",
    "                                  'Age': 28,\n",
    "                                  'Company Name': 'Cognizant',\n",
    "                                  'Location': 'Pune',\n",
    "                                  'Designation': 'Data Scientist',\n",
    "                                  'Salary': 70000 }}\n",
    "employee_details['CD000123']['Designation']"
   ]
  },
  {
   "cell_type": "code",
   "execution_count": 8,
   "id": "619c477d",
   "metadata": {},
   "outputs": [
    {
     "data": {
      "text/plain": [
       "'ML Engineer'"
      ]
     },
     "execution_count": 8,
     "metadata": {},
     "output_type": "execute_result"
    }
   ],
   "source": [
    "employee_details = { 'CD000123' : {'Name': 'Prashant',\n",
    "                                  'Age': 28,\n",
    "                                  'Company Name': 'Cognizant',\n",
    "                                  'Location': 'Pune',\n",
    "                                  'Designation': 'Data Scientist',\n",
    "                                  'Salary': 70000 },\n",
    "                    'CD000124' : {'Name': 'Tushar',\n",
    "                                  'Age': 26,\n",
    "                                  'Company Name': 'Capgemini',\n",
    "                                  'Location': 'Nagpur',\n",
    "                                  'Designation': 'Data Analyst',\n",
    "                                  'Salary': 60000 },\n",
    "                    'CD000125' : {'Name': 'Shadab',\n",
    "                                  'Age': 24,\n",
    "                                  'Company Name': 'TCS',\n",
    "                                  'Location': 'Mumbai',\n",
    "                                  'Designation': 'ML Engineer',\n",
    "                                  'Salary': 50000 }}\n",
    "employee_details['CD000125']['Designation']"
   ]
  },
  {
   "cell_type": "code",
   "execution_count": 9,
   "id": "060789e2",
   "metadata": {},
   "outputs": [
    {
     "data": {
      "text/plain": [
       "'ML Engineer'"
      ]
     },
     "execution_count": 9,
     "metadata": {},
     "output_type": "execute_result"
    }
   ],
   "source": [
    "employee_details = { 'CD000123' : {'Name': 'Prashant',\n",
    "                                  'Age': 28,\n",
    "                                  'Company Name': 'Cognizant',\n",
    "                                  'Location': 'Pune',\n",
    "                                  'Designation': 'Data Scientist',\n",
    "                                  'Salary': 70000 },\n",
    "                    'CD000124' : {'Name': 'Tushar',\n",
    "                                  'Age': 26,\n",
    "                                  'Company Name': 'Capgemini',\n",
    "                                  'Location': 'Nagpur',\n",
    "                                  'Designation': 'Data Analyst',\n",
    "                                  'Salary': 60000 },\n",
    "                    'CD000125' : {'Name': 'Shadab',\n",
    "                                  'Age': 24,\n",
    "                                  'Company Name': 'TCS',\n",
    "                                  'Location': 'Mumbai',\n",
    "                                  'Designation': 'ML Engineer',\n",
    "                                  'Salary': 50000 }}\n",
    "employee_details['CD000125'].get('Designation')"
   ]
  },
  {
   "cell_type": "code",
   "execution_count": 11,
   "id": "90c0d0de",
   "metadata": {},
   "outputs": [
    {
     "data": {
      "text/plain": [
       "'E'"
      ]
     },
     "execution_count": 11,
     "metadata": {},
     "output_type": "execute_result"
    }
   ],
   "source": [
    "employee_details = { 'CD000123' : {'Name': 'Prashant',\n",
    "                                  'Age': 28,\n",
    "                                  'Company Name': 'Cognizant',\n",
    "                                  'Location': 'Pune',\n",
    "                                  'Designation': 'Data Scientist',\n",
    "                                  'Salary': 70000 },\n",
    "                    'CD000124' : {'Name': 'Tushar',\n",
    "                                  'Age': 26,\n",
    "                                  'Company Name': 'Capgemini',\n",
    "                                  'Location': 'Nagpur',\n",
    "                                  'Designation': 'Data Analyst',\n",
    "                                  'Salary': 60000 },\n",
    "                    'CD000125' : {'Name': 'Shadab',\n",
    "                                  'Age': 24,\n",
    "                                  'Company Name': 'TCS',\n",
    "                                  'Location': 'Mumbai',\n",
    "                                  'Designation': 'ML Engineer',\n",
    "                                  'Salary': 50000 }}\n",
    "employee_details['CD000125']['Designation'][3]"
   ]
  },
  {
   "cell_type": "code",
   "execution_count": 13,
   "id": "42080f13",
   "metadata": {},
   "outputs": [
    {
     "data": {
      "text/plain": [
       "[50000, 55000]"
      ]
     },
     "execution_count": 13,
     "metadata": {},
     "output_type": "execute_result"
    }
   ],
   "source": [
    "employee_details = { 'CD000123' : {'Name': 'Prashant',\n",
    "                                  'Age': 28,\n",
    "                                  'Company Name': 'Cognizant',\n",
    "                                  'Location': 'Pune',\n",
    "                                  'Designation': 'Data Scientist',\n",
    "                                  'Salary': 70000 },\n",
    "                    'CD000124' : {'Name': 'Tushar',\n",
    "                                  'Age': 26,\n",
    "                                  'Company Name': 'Capgemini',\n",
    "                                  'Location': 'Nagpur',\n",
    "                                  'Designation': 'Data Analyst',\n",
    "                                  'Salary': 60000 },\n",
    "                    'CD000125' : {'Name': 'Shadab',\n",
    "                                  'Age': 24,\n",
    "                                  'Company Name': 'TCS',\n",
    "                                  'Location': 'Mumbai',\n",
    "                                  'Designation': 'ML Engineer',\n",
    "                                  'Salary': [50000,55000,60000] }}\n",
    "employee_details['CD000125']['Salary'][:2]"
   ]
  },
  {
   "cell_type": "markdown",
   "id": "72447230",
   "metadata": {},
   "source": [
    "## Sorting of dict by using keys"
   ]
  },
  {
   "cell_type": "code",
   "execution_count": 14,
   "id": "0443de62",
   "metadata": {},
   "outputs": [
    {
     "data": {
      "text/plain": [
       "['bio', 'che', 'eng', 'maths', 'phy']"
      ]
     },
     "execution_count": 14,
     "metadata": {},
     "output_type": "execute_result"
    }
   ],
   "source": [
    "sub_marks = {'phy':87, 'che':75, 'maths':80, 'eng':91, 'bio':88}\n",
    "sorted(sub_marks)"
   ]
  },
  {
   "cell_type": "code",
   "execution_count": 15,
   "id": "79fdc147",
   "metadata": {},
   "outputs": [
    {
     "data": {
      "text/plain": [
       "['bio', 'che', 'eng', 'maths', 'phy']"
      ]
     },
     "execution_count": 15,
     "metadata": {},
     "output_type": "execute_result"
    }
   ],
   "source": [
    "sub_marks = {'phy':87, 'che':75, 'maths':80, 'eng':91, 'bio':88}\n",
    "sorted(sub_marks.keys())"
   ]
  },
  {
   "cell_type": "code",
   "execution_count": 16,
   "id": "bd99ae75",
   "metadata": {},
   "outputs": [
    {
     "data": {
      "text/plain": [
       "[75, 80, 87, 88, 91]"
      ]
     },
     "execution_count": 16,
     "metadata": {},
     "output_type": "execute_result"
    }
   ],
   "source": [
    "sub_marks = {'phy':87, 'che':75, 'maths':80, 'eng':91, 'bio':88}\n",
    "sorted(sub_marks.values())"
   ]
  },
  {
   "cell_type": "code",
   "execution_count": 17,
   "id": "ff8491cb",
   "metadata": {},
   "outputs": [
    {
     "data": {
      "text/plain": [
       "[('bio', 88), ('che', 75), ('eng', 91), ('maths', 80), ('phy', 87)]"
      ]
     },
     "execution_count": 17,
     "metadata": {},
     "output_type": "execute_result"
    }
   ],
   "source": [
    "sub_marks = {'phy':87, 'che':75, 'maths':80, 'eng':91, 'bio':88}\n",
    "sorted(sub_marks.items())"
   ]
  },
  {
   "cell_type": "code",
   "execution_count": 19,
   "id": "9c45359b",
   "metadata": {},
   "outputs": [
    {
     "data": {
      "text/plain": [
       "{'bio': 88, 'che': 75, 'eng': 91, 'maths': 80, 'phy': 87}"
      ]
     },
     "execution_count": 19,
     "metadata": {},
     "output_type": "execute_result"
    }
   ],
   "source": [
    "sub_marks = {'phy':87, 'che':75, 'maths':80, 'eng':91, 'bio':88}\n",
    "\n",
    "result = {}\n",
    "for i in sorted(sub_marks):\n",
    "    result[i] = sub_marks[i]\n",
    "    \n",
    "result"
   ]
  },
  {
   "cell_type": "markdown",
   "id": "03b05426",
   "metadata": {},
   "source": [
    "## Sorting of dict using values"
   ]
  },
  {
   "cell_type": "code",
   "execution_count": 22,
   "id": "d9c5d8a9",
   "metadata": {},
   "outputs": [
    {
     "data": {
      "text/plain": [
       "{'che': 75, 'maths': 80, 'phy': 87, 'bio': 88, 'eng': 91}"
      ]
     },
     "execution_count": 22,
     "metadata": {},
     "output_type": "execute_result"
    }
   ],
   "source": [
    "sub_marks = {'phy':87, 'che':75, 'maths':80, 'eng':91, 'bio':88}\n",
    "\n",
    "result = {}\n",
    "for i in sorted(sub_marks.values()): # i == marks\n",
    "    for j in sub_marks:  # j == sub\n",
    "        if  i == sub_marks[j]:\n",
    "            result[j] = sub_marks[j]    # result['che'] = sub_marks['che']\n",
    "            \n",
    "result"
   ]
  },
  {
   "cell_type": "code",
   "execution_count": 23,
   "id": "1edef31c",
   "metadata": {},
   "outputs": [
    {
     "data": {
      "text/plain": [
       "{'phy': 87, 'che': 75, 'maths': 80, 'eng': 91, 'bio': 88}"
      ]
     },
     "execution_count": 23,
     "metadata": {},
     "output_type": "execute_result"
    }
   ],
   "source": [
    "sub_marks = {'phy':87, 'che':75, 'maths':80, 'eng':91, 'bio':88}\n",
    "\n",
    "result = {}\n",
    "for i in sorted(sub_marks.values()): # i == marks\n",
    "    for j in sub_marks:  # j == sub\n",
    "#         if  i == sub_marks[j]:\n",
    "        result[j] = sub_marks[j]    # result['che'] = sub_marks['che']\n",
    "            \n",
    "result"
   ]
  },
  {
   "cell_type": "code",
   "execution_count": 29,
   "id": "a54b12c1",
   "metadata": {},
   "outputs": [
    {
     "data": {
      "text/plain": [
       "{'Nilesh': 1, 'Akanksha': 3, 'Tushar': 5, 'Rajesh': 8, 'Rajat': 10}"
      ]
     },
     "execution_count": 29,
     "metadata": {},
     "output_type": "execute_result"
    }
   ],
   "source": [
    "ranks = {'Tushar': 5, 'Nilesh':1, 'Rajat':10,'Akanksha':3, 'Rajesh':8}\n",
    "result = {}\n",
    "\n",
    "for rank in sorted(ranks.values()):\n",
    "    for name in ranks:\n",
    "        if rank == ranks[name]:\n",
    "            result[name] = ranks[name]\n",
    "        \n",
    "result"
   ]
  },
  {
   "cell_type": "code",
   "execution_count": 32,
   "id": "32f202f3",
   "metadata": {},
   "outputs": [
    {
     "name": "stdout",
     "output_type": "stream",
     "text": [
      "Key is present\n"
     ]
    }
   ],
   "source": [
    "ranks = {'Tushar': 5, 'Nilesh':1, 'Rajat':10,'Akanksha':3, 'Rajesh':8}\n",
    "\n",
    "if 'Rajat' in ranks:\n",
    "    print('Key is present')\n",
    "    \n",
    "else:\n",
    "    print('Key is not present')"
   ]
  },
  {
   "cell_type": "code",
   "execution_count": 33,
   "id": "5996c0a6",
   "metadata": {},
   "outputs": [
    {
     "name": "stdout",
     "output_type": "stream",
     "text": [
      "Key is not present\n"
     ]
    }
   ],
   "source": [
    "ranks = {'Tushar': 5, 'Nilesh':1, 'Rajat':10,'Akanksha':3, 'Rajesh':8}\n",
    "\n",
    "if 'Rakesh' in ranks:\n",
    "    print('Key is present')\n",
    "    \n",
    "else:\n",
    "    print('Key is not present')"
   ]
  },
  {
   "cell_type": "code",
   "execution_count": 34,
   "id": "f16c9050",
   "metadata": {},
   "outputs": [
    {
     "name": "stdout",
     "output_type": "stream",
     "text": [
      "Nilesh is present\n"
     ]
    }
   ],
   "source": [
    "ranks = {'Tushar': 5, 'Nilesh':1, 'Rajat':10,'Akanksha':3, 'Rajesh':8}\n",
    "name = 'Nilesh'\n",
    "if name in ranks:\n",
    "    print(f'{name} is present')\n",
    "    \n",
    "else:\n",
    "    print(f'{name} is not present')"
   ]
  },
  {
   "cell_type": "code",
   "execution_count": 35,
   "id": "192aac40",
   "metadata": {},
   "outputs": [
    {
     "name": "stdout",
     "output_type": "stream",
     "text": [
      "Neeraj is not present\n"
     ]
    }
   ],
   "source": [
    "ranks = {'Tushar': 5, 'Nilesh':1, 'Rajat':10,'Akanksha':3, 'Rajesh':8}\n",
    "name = 'Neeraj'\n",
    "if name in ranks:\n",
    "    print(f'{name} is present')\n",
    "    \n",
    "else:\n",
    "    print(f'{name} is not present')"
   ]
  },
  {
   "cell_type": "code",
   "execution_count": null,
   "id": "bea952d5",
   "metadata": {},
   "outputs": [],
   "source": [
    "str1 = 'python and data science'\n",
    "str2 = 'python is programming language'\n",
    "\n",
    "result = 'python python and is data programming science language'"
   ]
  },
  {
   "cell_type": "code",
   "execution_count": 36,
   "id": "eba5b38f",
   "metadata": {},
   "outputs": [
    {
     "name": "stdout",
     "output_type": "stream",
     "text": [
      "{'python': 'python', 'and': 'is', 'data': 'programming', 'science': 'language'}\n"
     ]
    }
   ],
   "source": [
    "str1 = 'python and data science'\n",
    "str2 = 'python is programming language'\n",
    "\n",
    "str3=str1.split()\n",
    "str4=str2.split()\n",
    "\n",
    "dict1 = dict(zip(str3,str4))\n",
    "print(dict1)"
   ]
  },
  {
   "cell_type": "code",
   "execution_count": 37,
   "id": "25bf703b",
   "metadata": {},
   "outputs": [
    {
     "name": "stdout",
     "output_type": "stream",
     "text": [
      "python python and is data programming science language\n"
     ]
    }
   ],
   "source": [
    "str1 = 'python and data science'\n",
    "str2 = 'python is programming language'\n",
    "l1=str1.split(' ')\n",
    "l2=str2.split(' ')\n",
    "l3=[]\n",
    "for i in range(0,4):\n",
    "    l3.append(l1[i])\n",
    "    l3.append(l2[i])\n",
    "print(' '.join(l3))"
   ]
  },
  {
   "cell_type": "code",
   "execution_count": 39,
   "id": "bd252e1c",
   "metadata": {},
   "outputs": [
    {
     "data": {
      "text/plain": [
       "'python python and is data programming science language'"
      ]
     },
     "execution_count": 39,
     "metadata": {},
     "output_type": "execute_result"
    }
   ],
   "source": [
    "output = ' '.join(l3)\n",
    "output"
   ]
  },
  {
   "cell_type": "code",
   "execution_count": 44,
   "id": "8d4ade8c",
   "metadata": {},
   "outputs": [
    {
     "data": {
      "text/plain": [
       "{'and': 1,\n",
       " 'science': 1,\n",
       " 'data': 1,\n",
       " 'is': 1,\n",
       " 'language': 1,\n",
       " 'programming': 1,\n",
       " 'python': 2}"
      ]
     },
     "execution_count": 44,
     "metadata": {},
     "output_type": "execute_result"
    }
   ],
   "source": [
    "list1 = output.split()\n",
    "j = {}\n",
    "    \n",
    "for i in set(list1):\n",
    "    j[i] = list1.count(i)\n",
    "j"
   ]
  },
  {
   "cell_type": "code",
   "execution_count": 45,
   "id": "932435b8",
   "metadata": {},
   "outputs": [
    {
     "data": {
      "text/plain": [
       "{'for': 1,\n",
       " 'science': 1,\n",
       " 'data': 2,\n",
       " 'is': 3,\n",
       " 'huge': 1,\n",
       " 'new,': 1,\n",
       " 'used': 1,\n",
       " 'science,': 1,\n",
       " 'platform': 1,\n",
       " 'python': 2}"
      ]
     },
     "execution_count": 45,
     "metadata": {},
     "output_type": "execute_result"
    }
   ],
   "source": [
    "output = 'python is new, python is used for data science, data science is huge platform'\n",
    "list1 = output.split()\n",
    "j = {}\n",
    "    \n",
    "for i in set(list1):\n",
    "    j[i] = list1.count(i)\n",
    "j"
   ]
  },
  {
   "cell_type": "code",
   "execution_count": 47,
   "id": "ce1a29b7",
   "metadata": {},
   "outputs": [
    {
     "data": {
      "text/plain": [
       "{'python': 2,\n",
       " 'is': 3,\n",
       " 'new,': 1,\n",
       " 'used': 1,\n",
       " 'for': 1,\n",
       " 'data': 2,\n",
       " 'science,': 1,\n",
       " 'science': 1,\n",
       " 'huge': 1,\n",
       " 'platform': 1}"
      ]
     },
     "execution_count": 47,
     "metadata": {},
     "output_type": "execute_result"
    }
   ],
   "source": [
    "=\n",
    "\n",
    "dict1 = {}\n",
    "\n",
    "for i in output.split():\n",
    "    if i in dict1:\n",
    "        dict1[i]+=1\n",
    "    \n",
    "    else:\n",
    "        dict1[i]=1\n",
    "        \n",
    "dict1"
   ]
  },
  {
   "cell_type": "code",
   "execution_count": null,
   "id": "742594de",
   "metadata": {},
   "outputs": [],
   "source": []
  },
  {
   "cell_type": "code",
   "execution_count": null,
   "id": "2873f0f9",
   "metadata": {},
   "outputs": [],
   "source": []
  },
  {
   "cell_type": "code",
   "execution_count": null,
   "id": "fea1be19",
   "metadata": {},
   "outputs": [],
   "source": []
  },
  {
   "cell_type": "code",
   "execution_count": null,
   "id": "7d9bcc41",
   "metadata": {},
   "outputs": [],
   "source": []
  },
  {
   "cell_type": "code",
   "execution_count": null,
   "id": "c8649c71",
   "metadata": {},
   "outputs": [],
   "source": []
  },
  {
   "cell_type": "code",
   "execution_count": null,
   "id": "3ca822f4",
   "metadata": {},
   "outputs": [],
   "source": []
  },
  {
   "cell_type": "code",
   "execution_count": null,
   "id": "89cb1d2f",
   "metadata": {},
   "outputs": [],
   "source": []
  },
  {
   "cell_type": "code",
   "execution_count": null,
   "id": "042683ca",
   "metadata": {},
   "outputs": [],
   "source": []
  },
  {
   "cell_type": "code",
   "execution_count": null,
   "id": "deafb683",
   "metadata": {},
   "outputs": [],
   "source": []
  },
  {
   "cell_type": "code",
   "execution_count": null,
   "id": "0563f645",
   "metadata": {},
   "outputs": [],
   "source": []
  },
  {
   "cell_type": "code",
   "execution_count": null,
   "id": "e17825f3",
   "metadata": {},
   "outputs": [],
   "source": []
  },
  {
   "cell_type": "code",
   "execution_count": null,
   "id": "a98ef96d",
   "metadata": {},
   "outputs": [],
   "source": []
  },
  {
   "cell_type": "code",
   "execution_count": null,
   "id": "4cfc2f8f",
   "metadata": {},
   "outputs": [],
   "source": []
  },
  {
   "cell_type": "code",
   "execution_count": null,
   "id": "07342730",
   "metadata": {},
   "outputs": [],
   "source": []
  },
  {
   "cell_type": "code",
   "execution_count": null,
   "id": "6cdcfcca",
   "metadata": {},
   "outputs": [],
   "source": []
  },
  {
   "cell_type": "code",
   "execution_count": null,
   "id": "218a9881",
   "metadata": {},
   "outputs": [],
   "source": []
  },
  {
   "cell_type": "code",
   "execution_count": null,
   "id": "e953f04a",
   "metadata": {},
   "outputs": [],
   "source": []
  },
  {
   "cell_type": "code",
   "execution_count": null,
   "id": "f021c573",
   "metadata": {},
   "outputs": [],
   "source": []
  },
  {
   "cell_type": "code",
   "execution_count": null,
   "id": "2f03f5aa",
   "metadata": {},
   "outputs": [],
   "source": []
  },
  {
   "cell_type": "code",
   "execution_count": null,
   "id": "bd41280b",
   "metadata": {},
   "outputs": [],
   "source": []
  },
  {
   "cell_type": "code",
   "execution_count": null,
   "id": "3d3d8b1d",
   "metadata": {},
   "outputs": [],
   "source": []
  },
  {
   "cell_type": "code",
   "execution_count": null,
   "id": "691b1afe",
   "metadata": {},
   "outputs": [],
   "source": []
  },
  {
   "cell_type": "code",
   "execution_count": null,
   "id": "01940489",
   "metadata": {},
   "outputs": [],
   "source": []
  },
  {
   "cell_type": "code",
   "execution_count": null,
   "id": "48c5cbda",
   "metadata": {},
   "outputs": [],
   "source": []
  },
  {
   "cell_type": "code",
   "execution_count": null,
   "id": "0ecfcbf6",
   "metadata": {},
   "outputs": [],
   "source": []
  },
  {
   "cell_type": "code",
   "execution_count": null,
   "id": "2aa90281",
   "metadata": {},
   "outputs": [],
   "source": []
  },
  {
   "cell_type": "code",
   "execution_count": null,
   "id": "afc7523d",
   "metadata": {},
   "outputs": [],
   "source": []
  },
  {
   "cell_type": "code",
   "execution_count": null,
   "id": "12400bea",
   "metadata": {},
   "outputs": [],
   "source": []
  },
  {
   "cell_type": "code",
   "execution_count": null,
   "id": "65021312",
   "metadata": {},
   "outputs": [],
   "source": []
  },
  {
   "cell_type": "code",
   "execution_count": null,
   "id": "158fc0c1",
   "metadata": {},
   "outputs": [],
   "source": []
  },
  {
   "cell_type": "code",
   "execution_count": null,
   "id": "7a695bfd",
   "metadata": {},
   "outputs": [],
   "source": []
  },
  {
   "cell_type": "code",
   "execution_count": null,
   "id": "3503c938",
   "metadata": {},
   "outputs": [],
   "source": []
  },
  {
   "cell_type": "code",
   "execution_count": null,
   "id": "efbba5cc",
   "metadata": {},
   "outputs": [],
   "source": []
  },
  {
   "cell_type": "code",
   "execution_count": null,
   "id": "fcf3541c",
   "metadata": {},
   "outputs": [],
   "source": []
  },
  {
   "cell_type": "code",
   "execution_count": null,
   "id": "199e9200",
   "metadata": {},
   "outputs": [],
   "source": []
  },
  {
   "cell_type": "code",
   "execution_count": null,
   "id": "68907ef0",
   "metadata": {},
   "outputs": [],
   "source": []
  },
  {
   "cell_type": "code",
   "execution_count": null,
   "id": "55d64162",
   "metadata": {},
   "outputs": [],
   "source": []
  },
  {
   "cell_type": "code",
   "execution_count": null,
   "id": "40a3aac5",
   "metadata": {},
   "outputs": [],
   "source": []
  },
  {
   "cell_type": "code",
   "execution_count": null,
   "id": "6a7f827b",
   "metadata": {},
   "outputs": [],
   "source": []
  },
  {
   "cell_type": "code",
   "execution_count": null,
   "id": "71e2c87a",
   "metadata": {},
   "outputs": [],
   "source": []
  },
  {
   "cell_type": "code",
   "execution_count": null,
   "id": "02a35648",
   "metadata": {},
   "outputs": [],
   "source": []
  },
  {
   "cell_type": "code",
   "execution_count": null,
   "id": "7bddeb1d",
   "metadata": {},
   "outputs": [],
   "source": []
  },
  {
   "cell_type": "code",
   "execution_count": null,
   "id": "1a88f1a6",
   "metadata": {},
   "outputs": [],
   "source": []
  },
  {
   "cell_type": "code",
   "execution_count": null,
   "id": "9f9fdf15",
   "metadata": {},
   "outputs": [],
   "source": []
  },
  {
   "cell_type": "code",
   "execution_count": null,
   "id": "07adcb78",
   "metadata": {},
   "outputs": [],
   "source": []
  },
  {
   "cell_type": "code",
   "execution_count": null,
   "id": "728ca2a5",
   "metadata": {},
   "outputs": [],
   "source": []
  },
  {
   "cell_type": "code",
   "execution_count": null,
   "id": "dc33c09c",
   "metadata": {},
   "outputs": [],
   "source": []
  },
  {
   "cell_type": "code",
   "execution_count": null,
   "id": "56c8a4be",
   "metadata": {},
   "outputs": [],
   "source": []
  },
  {
   "cell_type": "code",
   "execution_count": null,
   "id": "96552090",
   "metadata": {},
   "outputs": [],
   "source": []
  },
  {
   "cell_type": "code",
   "execution_count": null,
   "id": "68a06e52",
   "metadata": {},
   "outputs": [],
   "source": []
  },
  {
   "cell_type": "code",
   "execution_count": null,
   "id": "fdd8b64e",
   "metadata": {},
   "outputs": [],
   "source": []
  },
  {
   "cell_type": "code",
   "execution_count": null,
   "id": "984518bc",
   "metadata": {},
   "outputs": [],
   "source": []
  },
  {
   "cell_type": "code",
   "execution_count": null,
   "id": "3704aefa",
   "metadata": {},
   "outputs": [],
   "source": []
  },
  {
   "cell_type": "code",
   "execution_count": null,
   "id": "ebef7cb0",
   "metadata": {},
   "outputs": [],
   "source": []
  },
  {
   "cell_type": "code",
   "execution_count": null,
   "id": "a675298b",
   "metadata": {},
   "outputs": [],
   "source": []
  },
  {
   "cell_type": "code",
   "execution_count": null,
   "id": "b6222b2f",
   "metadata": {},
   "outputs": [],
   "source": []
  },
  {
   "cell_type": "code",
   "execution_count": null,
   "id": "253b632d",
   "metadata": {},
   "outputs": [],
   "source": []
  },
  {
   "cell_type": "code",
   "execution_count": null,
   "id": "073c1b8e",
   "metadata": {},
   "outputs": [],
   "source": []
  },
  {
   "cell_type": "code",
   "execution_count": null,
   "id": "120dbd17",
   "metadata": {},
   "outputs": [],
   "source": []
  },
  {
   "cell_type": "code",
   "execution_count": null,
   "id": "eb56fe7b",
   "metadata": {},
   "outputs": [],
   "source": []
  },
  {
   "cell_type": "code",
   "execution_count": null,
   "id": "18570083",
   "metadata": {},
   "outputs": [],
   "source": []
  },
  {
   "cell_type": "code",
   "execution_count": null,
   "id": "ed73a803",
   "metadata": {},
   "outputs": [],
   "source": []
  },
  {
   "cell_type": "code",
   "execution_count": null,
   "id": "26ec2b31",
   "metadata": {},
   "outputs": [],
   "source": []
  },
  {
   "cell_type": "code",
   "execution_count": null,
   "id": "b725f8ae",
   "metadata": {},
   "outputs": [],
   "source": []
  },
  {
   "cell_type": "code",
   "execution_count": null,
   "id": "cf4f1d57",
   "metadata": {},
   "outputs": [],
   "source": []
  },
  {
   "cell_type": "code",
   "execution_count": null,
   "id": "f0ec389a",
   "metadata": {},
   "outputs": [],
   "source": []
  },
  {
   "cell_type": "code",
   "execution_count": null,
   "id": "1119bdd0",
   "metadata": {},
   "outputs": [],
   "source": []
  },
  {
   "cell_type": "code",
   "execution_count": null,
   "id": "64948b8d",
   "metadata": {},
   "outputs": [],
   "source": []
  },
  {
   "cell_type": "code",
   "execution_count": null,
   "id": "5c1de988",
   "metadata": {},
   "outputs": [],
   "source": []
  }
 ],
 "metadata": {
  "kernelspec": {
   "display_name": "Python 3 (ipykernel)",
   "language": "python",
   "name": "python3"
  },
  "language_info": {
   "codemirror_mode": {
    "name": "ipython",
    "version": 3
   },
   "file_extension": ".py",
   "mimetype": "text/x-python",
   "name": "python",
   "nbconvert_exporter": "python",
   "pygments_lexer": "ipython3",
   "version": "3.11.3"
  }
 },
 "nbformat": 4,
 "nbformat_minor": 5
}
