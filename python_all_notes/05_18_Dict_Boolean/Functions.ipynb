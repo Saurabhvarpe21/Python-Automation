{
 "cells": [
  {
   "cell_type": "markdown",
   "id": "51fac25e",
   "metadata": {},
   "source": [
    "# Functions"
   ]
  },
  {
   "cell_type": "code",
   "execution_count": null,
   "id": "c07e4e44",
   "metadata": {},
   "outputs": [],
   "source": [
    "User defined function\n",
    "\n",
    "functions are organized block of reusable code\n",
    "It will execute only when it is called explicitly\n",
    "\n",
    "def >> define\n",
    "\n",
    "def my_function_name():   # defining a function\n",
    "    statement1\n",
    "    statement2\n",
    "    return # optional\n",
    "\n",
    "my_function_name() # calling the function\n",
    "\n",
    "Function name should follow identifiers rules\n"
   ]
  },
  {
   "cell_type": "code",
   "execution_count": 1,
   "id": "9f6d9177",
   "metadata": {},
   "outputs": [],
   "source": [
    "def my_fun():\n",
    "    print('hello')"
   ]
  },
  {
   "cell_type": "code",
   "execution_count": 2,
   "id": "6aa9faa2",
   "metadata": {},
   "outputs": [
    {
     "name": "stdout",
     "output_type": "stream",
     "text": [
      "hello\n"
     ]
    }
   ],
   "source": [
    "my_fun()"
   ]
  },
  {
   "cell_type": "code",
   "execution_count": 3,
   "id": "5e71c116",
   "metadata": {},
   "outputs": [
    {
     "name": "stdout",
     "output_type": "stream",
     "text": [
      "hello\n"
     ]
    }
   ],
   "source": [
    "my_fun()"
   ]
  },
  {
   "cell_type": "code",
   "execution_count": null,
   "id": "7264a8d6",
   "metadata": {},
   "outputs": [],
   "source": [
    "Line 10 : avg of 10 num, sum\n",
    "    \n",
    "Line 30 : avg of 10 num, sum\n",
    "    \n",
    "Line 80 : avg of 10 num, sum"
   ]
  },
  {
   "cell_type": "code",
   "execution_count": 5,
   "id": "07ebac79",
   "metadata": {},
   "outputs": [
    {
     "name": "stdout",
     "output_type": "stream",
     "text": [
      "Hello\n",
      "We are learning Python Functions\n",
      "Machine Learning\n",
      "Hello\n",
      "We are learning Python Functions\n",
      "Machine Learning\n",
      "Hello\n",
      "We are learning Python Functions\n",
      "Machine Learning\n",
      "Hello\n",
      "We are learning Python Functions\n",
      "Machine Learning\n",
      "Hello\n",
      "We are learning Python Functions\n",
      "Machine Learning\n",
      "Hello\n",
      "We are learning Python Functions\n",
      "Machine Learning\n"
     ]
    }
   ],
   "source": [
    "print('Hello')\n",
    "print('We are learning Python Functions')\n",
    "print('Machine Learning')\n",
    "\n",
    "print('Hello')\n",
    "print('We are learning Python Functions')\n",
    "print('Machine Learning')\n",
    "\n",
    "print('Hello')\n",
    "print('We are learning Python Functions')\n",
    "print('Machine Learning')\n",
    "\n",
    "print('Hello')\n",
    "print('We are learning Python Functions')\n",
    "print('Machine Learning')\n",
    "\n",
    "print('Hello')\n",
    "print('We are learning Python Functions')\n",
    "print('Machine Learning')\n",
    "\n",
    "print('Hello')\n",
    "print('We are learning Python Functions')\n",
    "print('Machine Learning')"
   ]
  },
  {
   "cell_type": "code",
   "execution_count": 9,
   "id": "81d6b1c6",
   "metadata": {},
   "outputs": [
    {
     "name": "stdout",
     "output_type": "stream",
     "text": [
      "Hello\n",
      "We are learning Python Functions\n",
      "Machine Learning\n",
      "Machine Learning\n",
      "Machine Learning\n",
      "Hello\n",
      "We are learning Python Functions\n",
      "Machine Learning\n",
      "Machine Learning\n",
      "Machine Learning\n",
      "Hello\n",
      "We are learning Python Functions\n",
      "Machine Learning\n",
      "Machine Learning\n",
      "Machine Learning\n"
     ]
    }
   ],
   "source": [
    "def my_function():\n",
    "    print('Hello')\n",
    "    print('We are learning Python Functions')\n",
    "    for i in range(3):\n",
    "        print('Machine Learning')\n",
    "    \n",
    "my_function()\n",
    "my_function()\n",
    "my_function()"
   ]
  },
  {
   "cell_type": "code",
   "execution_count": 11,
   "id": "9531a136",
   "metadata": {},
   "outputs": [
    {
     "data": {
      "text/plain": [
       "6.333"
      ]
     },
     "execution_count": 11,
     "metadata": {},
     "output_type": "execute_result"
    }
   ],
   "source": [
    "a = 5\n",
    "b = 6\n",
    "c = 8\n",
    "\n",
    "avg = (a + b + c)/3\n",
    "round(avg,3)"
   ]
  },
  {
   "cell_type": "code",
   "execution_count": 14,
   "id": "14c8a63f",
   "metadata": {},
   "outputs": [
    {
     "name": "stdout",
     "output_type": "stream",
     "text": [
      "Average of 3 numbers is 6.33\n",
      "Average of 3 numbers is 63.33\n",
      "Average of 3 numbers is 633.33\n",
      "Average of 3 numbers is 84.33\n"
     ]
    }
   ],
   "source": [
    "a = 5\n",
    "b = 6\n",
    "c = 8\n",
    "\n",
    "avg = (a + b + c)/3\n",
    "print('Average of 3 numbers is {}'.format(round(avg,2)))\n",
    "\n",
    "a = 50\n",
    "b = 60\n",
    "c = 80\n",
    "\n",
    "avg = (a + b + c)/3\n",
    "print('Average of 3 numbers is {}'.format(round(avg,2)))\n",
    "\n",
    "a = 500\n",
    "b = 600\n",
    "c = 800\n",
    "\n",
    "avg = (a + b + c)/3\n",
    "print('Average of 3 numbers is {}'.format(round(avg,2)))\n",
    "\n",
    "a = 75\n",
    "b = 86\n",
    "c = 92\n",
    "\n",
    "avg = (a + b + c)/3\n",
    "print('Average of 3 numbers is {}'.format(round(avg,2)))"
   ]
  },
  {
   "cell_type": "code",
   "execution_count": 20,
   "id": "937f4f58",
   "metadata": {},
   "outputs": [
    {
     "name": "stdout",
     "output_type": "stream",
     "text": [
      "Average of 3 numbers is 6.67\n",
      "Addition of Numbers is 20\n",
      "\n",
      "Average of 3 numbers is 36.67\n",
      "Addition of Numbers is 110\n",
      "\n",
      "Average of 3 numbers is 62.67\n",
      "Addition of Numbers is 188\n",
      "\n"
     ]
    }
   ],
   "source": [
    "def average(a,b,c):\n",
    "    avg = (a + b + c)/3\n",
    "    print('Average of 3 numbers is {}'.format(round(avg,2)))\n",
    "    \n",
    "    addition = a+b+c\n",
    "    print('Addition of Numbers is', addition)\n",
    "    \n",
    "    print()\n",
    "\n",
    "average(5,6,9)\n",
    "average(60,15,35)\n",
    "average(26,85,77)"
   ]
  },
  {
   "cell_type": "code",
   "execution_count": 21,
   "id": "1b82b022",
   "metadata": {},
   "outputs": [
    {
     "name": "stdout",
     "output_type": "stream",
     "text": [
      "Average of 3 numbers is 34.0\n",
      "Addition of Numbers is 102\n",
      "\n"
     ]
    }
   ],
   "source": [
    "def average(a,b,c):\n",
    "    avg = (a + b + c)/3\n",
    "    print('Average of 3 numbers is {}'.format(round(avg,2)))\n",
    "    \n",
    "    addition = a+b+c\n",
    "    print('Addition of Numbers is', addition)\n",
    "    \n",
    "    print()\n",
    "    \n",
    "a,b,c = 55,12,35\n",
    "average(a,b,c)"
   ]
  },
  {
   "cell_type": "code",
   "execution_count": 22,
   "id": "a651fdee",
   "metadata": {},
   "outputs": [
    {
     "name": "stdout",
     "output_type": "stream",
     "text": [
      "Average of 3 numbers is 85.33\n",
      "Addition of Numbers is 256\n",
      "\n"
     ]
    }
   ],
   "source": [
    "a,b,c = 100,54,102\n",
    "average(a,b,c)"
   ]
  },
  {
   "cell_type": "code",
   "execution_count": 23,
   "id": "443bd1d0",
   "metadata": {},
   "outputs": [
    {
     "name": "stdout",
     "output_type": "stream",
     "text": [
      "Average of 3 numbers is 76.0\n",
      "Addition of Numbers is 228\n",
      "\n"
     ]
    }
   ],
   "source": [
    "average(88,45,95)"
   ]
  },
  {
   "cell_type": "code",
   "execution_count": 24,
   "id": "fde2427f",
   "metadata": {},
   "outputs": [
    {
     "ename": "TypeError",
     "evalue": "average() missing 1 required positional argument: 'c'",
     "output_type": "error",
     "traceback": [
      "\u001b[1;31m---------------------------------------------------------------------------\u001b[0m",
      "\u001b[1;31mTypeError\u001b[0m                                 Traceback (most recent call last)",
      "\u001b[1;32m<ipython-input-24-d8fc4d2175c0>\u001b[0m in \u001b[0;36m<module>\u001b[1;34m\u001b[0m\n\u001b[1;32m----> 1\u001b[1;33m \u001b[0maverage\u001b[0m\u001b[1;33m(\u001b[0m\u001b[1;36m88\u001b[0m\u001b[1;33m,\u001b[0m\u001b[1;36m45\u001b[0m\u001b[1;33m)\u001b[0m\u001b[1;33m\u001b[0m\u001b[1;33m\u001b[0m\u001b[0m\n\u001b[0m",
      "\u001b[1;31mTypeError\u001b[0m: average() missing 1 required positional argument: 'c'"
     ]
    }
   ],
   "source": [
    "average(88,45)"
   ]
  },
  {
   "cell_type": "code",
   "execution_count": null,
   "id": "8e38b4f2",
   "metadata": {},
   "outputs": [],
   "source": [
    "arguments >> variable or value which is passed to the function"
   ]
  },
  {
   "cell_type": "code",
   "execution_count": 27,
   "id": "0502d75c",
   "metadata": {},
   "outputs": [
    {
     "name": "stdout",
     "output_type": "stream",
     "text": [
      "Program to find even and odd numbers from list\n",
      "Even Numbers list is: [2, 4, 6, 12, 46, 84]\n",
      "Odd Numbers list is: [1, 3, 5, 7, 11, 15]\n"
     ]
    }
   ],
   "source": [
    "def get_even_odd_numbers(list1):\n",
    "    print('Program to find even and odd numbers from list')\n",
    "    even_numbers = [elem for elem in list1 if elem%2==0]\n",
    "    odd_numbers = [elem for elem in list1 if elem%2==1]\n",
    "    \n",
    "    print('Even Numbers list is:',even_numbers)\n",
    "    print('Odd Numbers list is:', odd_numbers)\n",
    "\n",
    "l1 = [1,2,3,4,5,6,7,11,12,15,46,84]\n",
    "get_even_odd_numbers(l1)"
   ]
  },
  {
   "cell_type": "code",
   "execution_count": 28,
   "id": "4a9acc03",
   "metadata": {},
   "outputs": [
    {
     "name": "stdout",
     "output_type": "stream",
     "text": [
      "Program to find even and odd numbers from list\n",
      "Even Numbers list is: [0, 2, 4, 6, 8, 10, 12, 14, 16, 18]\n",
      "Odd Numbers list is: [1, 3, 5, 7, 9, 11, 13, 15, 17, 19]\n"
     ]
    }
   ],
   "source": [
    "get_even_odd_numbers(list(range(20)))"
   ]
  },
  {
   "cell_type": "code",
   "execution_count": 29,
   "id": "1a9b8f80",
   "metadata": {},
   "outputs": [
    {
     "name": "stdout",
     "output_type": "stream",
     "text": [
      "Program to find even and odd numbers from list\n",
      "Even Numbers list is: [2, 4, 6, 12, 46, 84]\n",
      "Odd Numbers list is: [1, 3, 5, 7, 11, 15]\n"
     ]
    }
   ],
   "source": [
    "get_even_odd_numbers([1,2,3,4,5,6,7,11,12,15,46,84])"
   ]
  },
  {
   "cell_type": "code",
   "execution_count": 31,
   "id": "873f8ac2",
   "metadata": {},
   "outputs": [
    {
     "name": "stdout",
     "output_type": "stream",
     "text": [
      "Program to find even and odd numbers from list\n",
      "Even Numbers list is: [20, 40, 6, 12, 46, 84]\n",
      "Odd Numbers list is: [1, 3, 5, 7, 11, 155]\n"
     ]
    }
   ],
   "source": [
    "l1 = [1,20,3,40,5,6,7,11,12,155,46,84]\n",
    "\n",
    "def get_even_odd_numbers(list1):\n",
    "    print('Program to find even and odd numbers from list')\n",
    "    even_numbers = [elem for elem in list1 if elem%2==0]\n",
    "    odd_numbers = [elem for elem in list1 if elem%2==1]\n",
    "    \n",
    "    print('Even Numbers list is:',even_numbers)\n",
    "    print('Odd Numbers list is:', odd_numbers)\n",
    "\n",
    "\n",
    "get_even_odd_numbers(l1)"
   ]
  },
  {
   "cell_type": "code",
   "execution_count": 32,
   "id": "da4bf056",
   "metadata": {},
   "outputs": [
    {
     "name": "stdout",
     "output_type": "stream",
     "text": [
      "Program to find even and odd numbers from list\n",
      "Even Numbers list is: [20, 40, 6, 12, 46, 84]\n",
      "Odd Numbers list is: [1, 3, 5, 7, 11, 155]\n"
     ]
    }
   ],
   "source": [
    "l1 = [1,20,3,40,5,6,7,11,12,155,46,84]\n",
    "\n",
    "def get_even_odd_numbers(l1):\n",
    "    print('Program to find even and odd numbers from list')\n",
    "    even_numbers = [elem for elem in l1 if elem%2==0]\n",
    "    odd_numbers = [elem for elem in l1 if elem%2==1]\n",
    "    \n",
    "    print('Even Numbers list is:',even_numbers)\n",
    "    print('Odd Numbers list is:', odd_numbers)\n",
    "\n",
    "\n",
    "get_even_odd_numbers(l1)"
   ]
  },
  {
   "cell_type": "code",
   "execution_count": null,
   "id": "6fce9e2c",
   "metadata": {},
   "outputs": [],
   "source": []
  },
  {
   "cell_type": "code",
   "execution_count": null,
   "id": "10653de0",
   "metadata": {},
   "outputs": [],
   "source": []
  },
  {
   "cell_type": "code",
   "execution_count": null,
   "id": "a935ab63",
   "metadata": {},
   "outputs": [],
   "source": []
  },
  {
   "cell_type": "code",
   "execution_count": null,
   "id": "e0f3f1c1",
   "metadata": {},
   "outputs": [],
   "source": []
  },
  {
   "cell_type": "code",
   "execution_count": null,
   "id": "192e70ee",
   "metadata": {},
   "outputs": [],
   "source": []
  },
  {
   "cell_type": "code",
   "execution_count": null,
   "id": "04e073cb",
   "metadata": {},
   "outputs": [],
   "source": []
  },
  {
   "cell_type": "code",
   "execution_count": null,
   "id": "da434662",
   "metadata": {},
   "outputs": [],
   "source": []
  },
  {
   "cell_type": "code",
   "execution_count": null,
   "id": "3f8fe594",
   "metadata": {},
   "outputs": [],
   "source": []
  },
  {
   "cell_type": "code",
   "execution_count": null,
   "id": "7c56f080",
   "metadata": {},
   "outputs": [],
   "source": []
  },
  {
   "cell_type": "code",
   "execution_count": null,
   "id": "bd19804b",
   "metadata": {},
   "outputs": [],
   "source": []
  },
  {
   "cell_type": "code",
   "execution_count": null,
   "id": "3b3856d5",
   "metadata": {},
   "outputs": [],
   "source": []
  },
  {
   "cell_type": "code",
   "execution_count": null,
   "id": "35248346",
   "metadata": {},
   "outputs": [],
   "source": []
  },
  {
   "cell_type": "code",
   "execution_count": null,
   "id": "4456f504",
   "metadata": {},
   "outputs": [],
   "source": []
  },
  {
   "cell_type": "code",
   "execution_count": null,
   "id": "d2bd1649",
   "metadata": {},
   "outputs": [],
   "source": []
  },
  {
   "cell_type": "code",
   "execution_count": null,
   "id": "ac8abb3c",
   "metadata": {},
   "outputs": [],
   "source": []
  },
  {
   "cell_type": "code",
   "execution_count": null,
   "id": "721fad58",
   "metadata": {},
   "outputs": [],
   "source": []
  },
  {
   "cell_type": "code",
   "execution_count": null,
   "id": "5abd784d",
   "metadata": {},
   "outputs": [],
   "source": []
  },
  {
   "cell_type": "code",
   "execution_count": null,
   "id": "fb90eb94",
   "metadata": {},
   "outputs": [],
   "source": []
  },
  {
   "cell_type": "code",
   "execution_count": null,
   "id": "14b48b4f",
   "metadata": {},
   "outputs": [],
   "source": []
  },
  {
   "cell_type": "code",
   "execution_count": null,
   "id": "438bff97",
   "metadata": {},
   "outputs": [],
   "source": []
  },
  {
   "cell_type": "code",
   "execution_count": null,
   "id": "8eab4701",
   "metadata": {},
   "outputs": [],
   "source": []
  },
  {
   "cell_type": "code",
   "execution_count": null,
   "id": "733db927",
   "metadata": {},
   "outputs": [],
   "source": []
  },
  {
   "cell_type": "code",
   "execution_count": null,
   "id": "dbcd65f5",
   "metadata": {},
   "outputs": [],
   "source": []
  },
  {
   "cell_type": "code",
   "execution_count": null,
   "id": "c5fd46b2",
   "metadata": {},
   "outputs": [],
   "source": []
  },
  {
   "cell_type": "code",
   "execution_count": null,
   "id": "7308156f",
   "metadata": {},
   "outputs": [],
   "source": []
  },
  {
   "cell_type": "code",
   "execution_count": null,
   "id": "fca7ebc8",
   "metadata": {},
   "outputs": [],
   "source": []
  },
  {
   "cell_type": "code",
   "execution_count": null,
   "id": "9218f981",
   "metadata": {},
   "outputs": [],
   "source": []
  },
  {
   "cell_type": "code",
   "execution_count": null,
   "id": "e7d4ad8d",
   "metadata": {},
   "outputs": [],
   "source": []
  },
  {
   "cell_type": "code",
   "execution_count": null,
   "id": "ca948a12",
   "metadata": {},
   "outputs": [],
   "source": []
  },
  {
   "cell_type": "code",
   "execution_count": null,
   "id": "23bf5c26",
   "metadata": {},
   "outputs": [],
   "source": []
  },
  {
   "cell_type": "code",
   "execution_count": null,
   "id": "787fd1cd",
   "metadata": {},
   "outputs": [],
   "source": []
  },
  {
   "cell_type": "code",
   "execution_count": null,
   "id": "ede8f62d",
   "metadata": {},
   "outputs": [],
   "source": []
  },
  {
   "cell_type": "code",
   "execution_count": null,
   "id": "23f6ab93",
   "metadata": {},
   "outputs": [],
   "source": []
  },
  {
   "cell_type": "code",
   "execution_count": null,
   "id": "d7099023",
   "metadata": {},
   "outputs": [],
   "source": []
  },
  {
   "cell_type": "code",
   "execution_count": null,
   "id": "79949381",
   "metadata": {},
   "outputs": [],
   "source": []
  },
  {
   "cell_type": "code",
   "execution_count": null,
   "id": "e09151ea",
   "metadata": {},
   "outputs": [],
   "source": []
  },
  {
   "cell_type": "code",
   "execution_count": null,
   "id": "f393f196",
   "metadata": {},
   "outputs": [],
   "source": []
  },
  {
   "cell_type": "code",
   "execution_count": null,
   "id": "d144fd7a",
   "metadata": {},
   "outputs": [],
   "source": []
  },
  {
   "cell_type": "code",
   "execution_count": null,
   "id": "18c4239a",
   "metadata": {},
   "outputs": [],
   "source": []
  },
  {
   "cell_type": "code",
   "execution_count": null,
   "id": "00114d62",
   "metadata": {},
   "outputs": [],
   "source": []
  },
  {
   "cell_type": "code",
   "execution_count": null,
   "id": "29cd96aa",
   "metadata": {},
   "outputs": [],
   "source": []
  },
  {
   "cell_type": "code",
   "execution_count": null,
   "id": "f606a924",
   "metadata": {},
   "outputs": [],
   "source": []
  },
  {
   "cell_type": "code",
   "execution_count": null,
   "id": "d2fc90a2",
   "metadata": {},
   "outputs": [],
   "source": []
  },
  {
   "cell_type": "code",
   "execution_count": null,
   "id": "09ff67ed",
   "metadata": {},
   "outputs": [],
   "source": []
  },
  {
   "cell_type": "code",
   "execution_count": null,
   "id": "c524d7c6",
   "metadata": {},
   "outputs": [],
   "source": []
  },
  {
   "cell_type": "code",
   "execution_count": null,
   "id": "599c5bd4",
   "metadata": {},
   "outputs": [],
   "source": []
  },
  {
   "cell_type": "code",
   "execution_count": null,
   "id": "fa179904",
   "metadata": {},
   "outputs": [],
   "source": []
  },
  {
   "cell_type": "code",
   "execution_count": null,
   "id": "da6c5942",
   "metadata": {},
   "outputs": [],
   "source": []
  },
  {
   "cell_type": "code",
   "execution_count": null,
   "id": "8184ddfd",
   "metadata": {},
   "outputs": [],
   "source": []
  },
  {
   "cell_type": "code",
   "execution_count": null,
   "id": "070a71bc",
   "metadata": {},
   "outputs": [],
   "source": []
  },
  {
   "cell_type": "code",
   "execution_count": null,
   "id": "0b1c4323",
   "metadata": {},
   "outputs": [],
   "source": []
  },
  {
   "cell_type": "code",
   "execution_count": null,
   "id": "f2725878",
   "metadata": {},
   "outputs": [],
   "source": []
  },
  {
   "cell_type": "code",
   "execution_count": null,
   "id": "f9a80fdb",
   "metadata": {},
   "outputs": [],
   "source": []
  },
  {
   "cell_type": "code",
   "execution_count": null,
   "id": "c1f78c80",
   "metadata": {},
   "outputs": [],
   "source": []
  },
  {
   "cell_type": "code",
   "execution_count": null,
   "id": "8b053aa3",
   "metadata": {},
   "outputs": [],
   "source": []
  },
  {
   "cell_type": "code",
   "execution_count": null,
   "id": "cb504f45",
   "metadata": {},
   "outputs": [],
   "source": []
  },
  {
   "cell_type": "code",
   "execution_count": null,
   "id": "15332630",
   "metadata": {},
   "outputs": [],
   "source": []
  },
  {
   "cell_type": "code",
   "execution_count": null,
   "id": "93af3e47",
   "metadata": {},
   "outputs": [],
   "source": []
  },
  {
   "cell_type": "code",
   "execution_count": null,
   "id": "19021568",
   "metadata": {},
   "outputs": [],
   "source": []
  },
  {
   "cell_type": "code",
   "execution_count": null,
   "id": "86bf8c68",
   "metadata": {},
   "outputs": [],
   "source": []
  },
  {
   "cell_type": "code",
   "execution_count": null,
   "id": "0ef3181a",
   "metadata": {},
   "outputs": [],
   "source": []
  },
  {
   "cell_type": "code",
   "execution_count": null,
   "id": "68470555",
   "metadata": {},
   "outputs": [],
   "source": []
  },
  {
   "cell_type": "code",
   "execution_count": null,
   "id": "13f56eb5",
   "metadata": {},
   "outputs": [],
   "source": []
  },
  {
   "cell_type": "code",
   "execution_count": null,
   "id": "c97b43d4",
   "metadata": {},
   "outputs": [],
   "source": []
  },
  {
   "cell_type": "code",
   "execution_count": null,
   "id": "4504fb76",
   "metadata": {},
   "outputs": [],
   "source": []
  },
  {
   "cell_type": "code",
   "execution_count": null,
   "id": "857b7dcf",
   "metadata": {},
   "outputs": [],
   "source": []
  },
  {
   "cell_type": "code",
   "execution_count": null,
   "id": "2fd3dd2b",
   "metadata": {},
   "outputs": [],
   "source": []
  },
  {
   "cell_type": "code",
   "execution_count": null,
   "id": "99e68cc9",
   "metadata": {},
   "outputs": [],
   "source": []
  }
 ],
 "metadata": {
  "kernelspec": {
   "display_name": "Python 3 (ipykernel)",
   "language": "python",
   "name": "python3"
  },
  "language_info": {
   "codemirror_mode": {
    "name": "ipython",
    "version": 3
   },
   "file_extension": ".py",
   "mimetype": "text/x-python",
   "name": "python",
   "nbconvert_exporter": "python",
   "pygments_lexer": "ipython3",
   "version": "3.11.3"
  }
 },
 "nbformat": 4,
 "nbformat_minor": 5
}
