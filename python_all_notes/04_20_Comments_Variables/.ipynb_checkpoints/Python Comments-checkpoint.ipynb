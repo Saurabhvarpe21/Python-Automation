{
 "cells": [
  {
   "cell_type": "markdown",
   "id": "b5db1a26",
   "metadata": {},
   "source": [
    "## Comments in Python"
   ]
  },
  {
   "cell_type": "code",
   "execution_count": null,
   "id": "5bf96b72",
   "metadata": {},
   "outputs": [],
   "source": [
    "1. # >> To comment a single line\n",
    "2. Ctrl + /"
   ]
  },
  {
   "cell_type": "code",
   "execution_count": 7,
   "id": "b6118dd7",
   "metadata": {},
   "outputs": [
    {
     "name": "stdout",
     "output_type": "stream",
     "text": [
      "Python And Data Science\n",
      "Python And Data Science\n",
      "Python And Data Science\n",
      "Python And Data Science\n"
     ]
    }
   ],
   "source": [
    "print('Python And Data Science')\n",
    "print('Python And Data Science')\n",
    "print('Python And Data Science')\n",
    "print('Python And Data Science')"
   ]
  },
  {
   "cell_type": "code",
   "execution_count": 9,
   "id": "8b2410ed",
   "metadata": {},
   "outputs": [],
   "source": [
    "'hihihihi'\n",
    "a=5"
   ]
  },
  {
   "cell_type": "code",
   "execution_count": 12,
   "id": "0ef1b423",
   "metadata": {},
   "outputs": [
    {
     "data": {
      "text/plain": [
       "'addition program'"
      ]
     },
     "execution_count": 12,
     "metadata": {},
     "output_type": "execute_result"
    }
   ],
   "source": [
    "# addition program\n",
    "'addition program'\n",
    "a= 5\n",
    "b= 6\n",
    "a+b\n",
    "x = 'addition program'\n",
    "x"
   ]
  },
  {
   "cell_type": "code",
   "execution_count": 14,
   "id": "9eb8bad8",
   "metadata": {},
   "outputs": [
    {
     "name": "stdout",
     "output_type": "stream",
     "text": [
      "hi\n"
     ]
    }
   ],
   "source": [
    "'''Data Science\n",
    "and Deep Learning'''\n",
    "print('hi')"
   ]
  },
  {
   "cell_type": "code",
   "execution_count": 17,
   "id": "be4ba390",
   "metadata": {},
   "outputs": [
    {
     "ename": "IndentationError",
     "evalue": "unexpected indent (<ipython-input-17-0ddc3435b967>, line 2)",
     "output_type": "error",
     "traceback": [
      "\u001b[1;36m  File \u001b[1;32m\"<ipython-input-17-0ddc3435b967>\"\u001b[1;36m, line \u001b[1;32m2\u001b[0m\n\u001b[1;33m    print('Data Science')\u001b[0m\n\u001b[1;37m    ^\u001b[0m\n\u001b[1;31mIndentationError\u001b[0m\u001b[1;31m:\u001b[0m unexpected indent\n"
     ]
    }
   ],
   "source": [
    "print('Python')\n",
    " print('Data Science')\n",
    "print('Machine Learning')"
   ]
  },
  {
   "cell_type": "code",
   "execution_count": 18,
   "id": "ac9121e2",
   "metadata": {},
   "outputs": [
    {
     "name": "stdout",
     "output_type": "stream",
     "text": [
      "Python\n",
      "Data Science\n",
      "Machine Learning\n"
     ]
    }
   ],
   "source": [
    "print('Python')\n",
    "print('Data Science')\n",
    "print('Machine Learning')"
   ]
  },
  {
   "cell_type": "code",
   "execution_count": 19,
   "id": "4109f1af",
   "metadata": {},
   "outputs": [
    {
     "data": {
      "text/plain": [
       "int"
      ]
     },
     "execution_count": 19,
     "metadata": {},
     "output_type": "execute_result"
    }
   ],
   "source": [
    "a = 5\n",
    "type(a)"
   ]
  },
  {
   "cell_type": "code",
   "execution_count": 20,
   "id": "10a9449b",
   "metadata": {},
   "outputs": [
    {
     "name": "stdout",
     "output_type": "stream",
     "text": [
      "10\n"
     ]
    }
   ],
   "source": [
    "a = 10\n",
    "b = 20\n",
    "c = 30\n",
    "print(a)"
   ]
  },
  {
   "cell_type": "code",
   "execution_count": 22,
   "id": "73e52ad2",
   "metadata": {},
   "outputs": [
    {
     "name": "stdout",
     "output_type": "stream",
     "text": [
      "Value of b is 20\n"
     ]
    }
   ],
   "source": [
    "a = 10\n",
    "b = 20\n",
    "c = 30\n",
    "print('Value of b is', b)"
   ]
  },
  {
   "cell_type": "code",
   "execution_count": 23,
   "id": "6a6c21a8",
   "metadata": {},
   "outputs": [
    {
     "name": "stdout",
     "output_type": "stream",
     "text": [
      "10\n",
      "20\n",
      "30\n"
     ]
    }
   ],
   "source": [
    "a = 10\n",
    "b = 20\n",
    "c = 30\n",
    "print(a)\n",
    "print(b)\n",
    "print(c)"
   ]
  },
  {
   "cell_type": "code",
   "execution_count": 26,
   "id": "c9f9ed34",
   "metadata": {},
   "outputs": [
    {
     "name": "stdout",
     "output_type": "stream",
     "text": [
      "10 20 30\n"
     ]
    }
   ],
   "source": [
    "a = 10\n",
    "b = 20\n",
    "c = 30\n",
    "print(a,b, c)\n"
   ]
  },
  {
   "cell_type": "code",
   "execution_count": 29,
   "id": "983aadb2",
   "metadata": {},
   "outputs": [
    {
     "name": "stdout",
     "output_type": "stream",
     "text": [
      "Value of a is 10\n",
      "Value of b is 20\n"
     ]
    }
   ],
   "source": [
    "a = 10\n",
    "b = 20\n",
    "c = 30\n",
    "print('Value of a is', a)\n",
    "print('Value of b is', b)"
   ]
  },
  {
   "cell_type": "code",
   "execution_count": 31,
   "id": "d08e2f0f",
   "metadata": {},
   "outputs": [
    {
     "name": "stdout",
     "output_type": "stream",
     "text": [
      "Value of a is 10\n",
      "Value of b is 20\n",
      "Value of c is 30\n",
      "Addition of a and b: 30\n"
     ]
    }
   ],
   "source": [
    "a = 10\n",
    "b = 20\n",
    "c = 30\n",
    "print('Value of a is', a)\n",
    "print('Value of b is', b)\n",
    "print('Value of c is', c)\n",
    "print('Addition of a and b:', a+b)"
   ]
  },
  {
   "cell_type": "code",
   "execution_count": 35,
   "id": "d3c58bb2",
   "metadata": {},
   "outputs": [
    {
     "name": "stdout",
     "output_type": "stream",
     "text": [
      "Value of a is 10\n",
      "Value of b is 20\n",
      "Value of c is 30\n",
      "50 Addition of a and b=====\n"
     ]
    }
   ],
   "source": [
    "a = 10\n",
    "b = 20\n",
    "c = 30\n",
    "print('Value of a is', a)\n",
    "print('Value of b is', b)\n",
    "print('Value of c is', c)\n",
    "print( b+c, 'Addition of a and b=====')"
   ]
  },
  {
   "cell_type": "code",
   "execution_count": null,
   "id": "286728ec",
   "metadata": {},
   "outputs": [],
   "source": []
  },
  {
   "cell_type": "code",
   "execution_count": null,
   "id": "b9c43cb3",
   "metadata": {},
   "outputs": [],
   "source": []
  },
  {
   "cell_type": "code",
   "execution_count": null,
   "id": "dcea9dd4",
   "metadata": {},
   "outputs": [],
   "source": []
  },
  {
   "cell_type": "code",
   "execution_count": null,
   "id": "5027dc59",
   "metadata": {},
   "outputs": [],
   "source": []
  },
  {
   "cell_type": "code",
   "execution_count": null,
   "id": "c1af99a6",
   "metadata": {},
   "outputs": [],
   "source": []
  },
  {
   "cell_type": "code",
   "execution_count": null,
   "id": "c1a037a8",
   "metadata": {},
   "outputs": [],
   "source": []
  }
 ],
 "metadata": {
  "kernelspec": {
   "display_name": "Python 3",
   "language": "python",
   "name": "python3"
  },
  "language_info": {
   "codemirror_mode": {
    "name": "ipython",
    "version": 3
   },
   "file_extension": ".py",
   "mimetype": "text/x-python",
   "name": "python",
   "nbconvert_exporter": "python",
   "pygments_lexer": "ipython3",
   "version": "3.8.8"
  }
 },
 "nbformat": 4,
 "nbformat_minor": 5
}
