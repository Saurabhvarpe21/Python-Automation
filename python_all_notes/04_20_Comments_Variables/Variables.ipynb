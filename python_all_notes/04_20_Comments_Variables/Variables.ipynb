{
 "cells": [
  {
   "cell_type": "markdown",
   "id": "7b85be1a",
   "metadata": {},
   "source": [
    "# Features of Python"
   ]
  },
  {
   "cell_type": "code",
   "execution_count": null,
   "id": "41e5feab",
   "metadata": {},
   "outputs": [],
   "source": [
    "1. Programmer friendly Language(Easy to write, learn, read)\n",
    "2. Free and open source\n",
    "3. Simple to debug\n",
    "4. Vast library support\n",
    "5. Dynamically typed Language(do not need to specify data type)\n",
    "6. Object Oriented Programming Language(OOPs), High level programming\n",
    "7. Python is Interpreted Language(do not reqiure prior compilation)"
   ]
  },
  {
   "cell_type": "code",
   "execution_count": 4,
   "id": "cd14eaa9",
   "metadata": {},
   "outputs": [
    {
     "data": {
      "text/plain": [
       "tuple"
      ]
     },
     "execution_count": 4,
     "metadata": {},
     "output_type": "execute_result"
    }
   ],
   "source": [
    "a = 5,  int\n",
    "type(a)"
   ]
  },
  {
   "cell_type": "code",
   "execution_count": 2,
   "id": "780d31e9",
   "metadata": {},
   "outputs": [
    {
     "ename": "NameError",
     "evalue": "name 'hi' is not defined",
     "output_type": "error",
     "traceback": [
      "\u001b[1;31m---------------------------------------------------------------------------\u001b[0m",
      "\u001b[1;31mNameError\u001b[0m                                 Traceback (most recent call last)",
      "\u001b[1;32m<ipython-input-2-f3624b98c8b5>\u001b[0m in \u001b[0;36m<module>\u001b[1;34m\u001b[0m\n\u001b[0;32m      1\u001b[0m \u001b[0ma\u001b[0m \u001b[1;33m=\u001b[0m \u001b[1;36m1\u001b[0m\u001b[1;33m\u001b[0m\u001b[1;33m\u001b[0m\u001b[0m\n\u001b[0;32m      2\u001b[0m \u001b[0mb\u001b[0m \u001b[1;33m=\u001b[0m \u001b[1;36m2\u001b[0m\u001b[1;33m\u001b[0m\u001b[1;33m\u001b[0m\u001b[0m\n\u001b[1;32m----> 3\u001b[1;33m \u001b[0mc\u001b[0m \u001b[1;33m=\u001b[0m \u001b[0mhi\u001b[0m\u001b[1;33m\u001b[0m\u001b[1;33m\u001b[0m\u001b[0m\n\u001b[0m\u001b[0;32m      4\u001b[0m \u001b[0md\u001b[0m \u001b[1;33m=\u001b[0m \u001b[1;36m3\u001b[0m\u001b[1;33m\u001b[0m\u001b[1;33m\u001b[0m\u001b[0m\n",
      "\u001b[1;31mNameError\u001b[0m: name 'hi' is not defined"
     ]
    }
   ],
   "source": [
    "a = 1\n",
    "b = 2\n",
    "c = hi\n",
    "d = 3"
   ]
  },
  {
   "cell_type": "code",
   "execution_count": 5,
   "id": "518b430e",
   "metadata": {},
   "outputs": [],
   "source": [
    "a = 1\n",
    "b = 2\n",
    "c = 'hi'\n",
    "d = 3"
   ]
  },
  {
   "cell_type": "code",
   "execution_count": 9,
   "id": "a0cc369b",
   "metadata": {},
   "outputs": [
    {
     "data": {
      "text/plain": [
       "3"
      ]
     },
     "execution_count": 9,
     "metadata": {},
     "output_type": "execute_result"
    }
   ],
   "source": [
    "d"
   ]
  },
  {
   "cell_type": "code",
   "execution_count": 11,
   "id": "2dddf959",
   "metadata": {},
   "outputs": [],
   "source": [
    "a = 1\n",
    "b = 2\n",
    "c = b\n",
    "d = 3"
   ]
  },
  {
   "cell_type": "code",
   "execution_count": 12,
   "id": "f73c4680",
   "metadata": {},
   "outputs": [
    {
     "data": {
      "text/plain": [
       "2"
      ]
     },
     "execution_count": 12,
     "metadata": {},
     "output_type": "execute_result"
    }
   ],
   "source": [
    "c"
   ]
  },
  {
   "cell_type": "markdown",
   "id": "a117f65f",
   "metadata": {},
   "source": [
    "# Types of Variable"
   ]
  },
  {
   "cell_type": "code",
   "execution_count": null,
   "id": "f9452572",
   "metadata": {},
   "outputs": [],
   "source": [
    "1. Global Variable\n",
    "2. Local Variable"
   ]
  },
  {
   "cell_type": "code",
   "execution_count": 16,
   "id": "9be45668",
   "metadata": {},
   "outputs": [
    {
     "name": "stdout",
     "output_type": "stream",
     "text": [
      "Val of a + x is : 600\n",
      "500\n"
     ]
    },
    {
     "ename": "NameError",
     "evalue": "name 'x' is not defined",
     "output_type": "error",
     "traceback": [
      "\u001b[1;31m---------------------------------------------------------------------------\u001b[0m",
      "\u001b[1;31mNameError\u001b[0m                                 Traceback (most recent call last)",
      "\u001b[1;32m<ipython-input-16-d3ced5737b73>\u001b[0m in \u001b[0;36m<module>\u001b[1;34m\u001b[0m\n\u001b[0;32m      8\u001b[0m \u001b[1;33m\u001b[0m\u001b[0m\n\u001b[0;32m      9\u001b[0m \u001b[0mprint\u001b[0m\u001b[1;33m(\u001b[0m\u001b[0ma\u001b[0m\u001b[1;33m)\u001b[0m\u001b[1;33m\u001b[0m\u001b[1;33m\u001b[0m\u001b[0m\n\u001b[1;32m---> 10\u001b[1;33m \u001b[0mprint\u001b[0m\u001b[1;33m(\u001b[0m\u001b[0mx\u001b[0m\u001b[1;33m)\u001b[0m\u001b[1;33m\u001b[0m\u001b[1;33m\u001b[0m\u001b[0m\n\u001b[0m",
      "\u001b[1;31mNameError\u001b[0m: name 'x' is not defined"
     ]
    }
   ],
   "source": [
    "# User Defined Function\n",
    "a = 500 # global var\n",
    "\n",
    "def my_fun(): # user defined function\n",
    "    x = 100   # local var\n",
    "    print('Val of a + x is :', a+x)\n",
    "    \n",
    "my_fun()    # calling the function\n",
    "\n",
    "print(a)\n",
    "print(x)"
   ]
  },
  {
   "cell_type": "code",
   "execution_count": 18,
   "id": "28a4fbdd",
   "metadata": {},
   "outputs": [
    {
     "name": "stdout",
     "output_type": "stream",
     "text": [
      "Val of a + x is : 500\n",
      "400\n",
      "50\n"
     ]
    }
   ],
   "source": [
    "# User Defined Function\n",
    "a = 400 # global var\n",
    "x = 50\n",
    "def my_fun(): # user defined function\n",
    "    x = 100   # local var\n",
    "    print('Val of a + x is :', a+x)\n",
    "    \n",
    "my_fun()    # calling the function\n",
    "\n",
    "print(a)\n",
    "print(x)"
   ]
  },
  {
   "cell_type": "code",
   "execution_count": 19,
   "id": "93a3f943",
   "metadata": {},
   "outputs": [
    {
     "name": "stdout",
     "output_type": "stream",
     "text": [
      "10 20 30\n"
     ]
    }
   ],
   "source": [
    "x = 10\n",
    "y = 20\n",
    "z = 30\n",
    "print(x, y, z)"
   ]
  },
  {
   "cell_type": "code",
   "execution_count": 21,
   "id": "6f41bc9b",
   "metadata": {},
   "outputs": [
    {
     "name": "stdout",
     "output_type": "stream",
     "text": [
      "10 \n",
      "\n",
      "20\n"
     ]
    }
   ],
   "source": [
    "x = 10\n",
    "y = 20\n",
    "z = 30\n",
    "print(x, '\\n')\n",
    "print(y)"
   ]
  },
  {
   "cell_type": "code",
   "execution_count": 25,
   "id": "79b1f3bf",
   "metadata": {},
   "outputs": [
    {
     "name": "stdout",
     "output_type": "stream",
     "text": [
      "10 \n",
      "\n",
      "\n",
      "\n",
      "\n",
      "\n",
      "20\n"
     ]
    }
   ],
   "source": [
    "x = 10\n",
    "y = 20\n",
    "z = 30\n",
    "print(x, '\\n\\n\\n')\n",
    "print()\n",
    "print()\n",
    "print(y)"
   ]
  },
  {
   "cell_type": "code",
   "execution_count": 28,
   "id": "382dc9a5",
   "metadata": {},
   "outputs": [
    {
     "name": "stdout",
     "output_type": "stream",
     "text": [
      "10 \n",
      "\n",
      "\t 20\n",
      "30\n"
     ]
    }
   ],
   "source": [
    "x = 10\n",
    "y = 20\n",
    "z = 30\n",
    "print(x, '\\n')\n",
    "print('\\t',y)\n",
    "print(z)"
   ]
  },
  {
   "cell_type": "code",
   "execution_count": 29,
   "id": "04454bf6",
   "metadata": {},
   "outputs": [
    {
     "name": "stdout",
     "output_type": "stream",
     "text": [
      "10 \n",
      "\n",
      "\t 20 30\n"
     ]
    }
   ],
   "source": [
    "x = 10\n",
    "y = 20\n",
    "z = 30\n",
    "print(x, '\\n')\n",
    "print('\\t',y,end=' ')\n",
    "print(z)"
   ]
  },
  {
   "cell_type": "code",
   "execution_count": 31,
   "id": "2b3e3776",
   "metadata": {},
   "outputs": [
    {
     "name": "stdout",
     "output_type": "stream",
     "text": [
      "10 \n",
      "\n",
      "\t 20 30\n"
     ]
    }
   ],
   "source": [
    "x = 10\n",
    "y = 20\n",
    "z = 30\n",
    "print(x, '\\n')\n",
    "print('\\t',y,end=' ')\n",
    "print(z)"
   ]
  },
  {
   "cell_type": "code",
   "execution_count": 32,
   "id": "8fa408a8",
   "metadata": {},
   "outputs": [
    {
     "data": {
      "text/plain": [
       "'hi\\ngood morning'"
      ]
     },
     "execution_count": 32,
     "metadata": {},
     "output_type": "execute_result"
    }
   ],
   "source": [
    "a = '''hi\n",
    "good morning'''\n",
    "a"
   ]
  },
  {
   "cell_type": "code",
   "execution_count": 35,
   "id": "7f8d39cd",
   "metadata": {},
   "outputs": [
    {
     "name": "stdout",
     "output_type": "stream",
     "text": [
      "10 \n",
      " 20\n"
     ]
    }
   ],
   "source": [
    "x = 10\n",
    "y = 20\n",
    "z = 30\n",
    "print(x,'\\n',y)\n"
   ]
  },
  {
   "cell_type": "code",
   "execution_count": 42,
   "id": "06a2f365",
   "metadata": {},
   "outputs": [
    {
     "name": "stdout",
     "output_type": "stream",
     "text": [
      "10 hi20\n"
     ]
    }
   ],
   "source": [
    "x = 10\n",
    "y = 20\n",
    "z = 30\n",
    "print(x, end = \" hi\")\n",
    "print(y)"
   ]
  },
  {
   "cell_type": "markdown",
   "id": "9988b292",
   "metadata": {},
   "source": [
    "# String Formatting"
   ]
  },
  {
   "cell_type": "markdown",
   "id": "3a7308e0",
   "metadata": {},
   "source": [
    "### f-string"
   ]
  },
  {
   "cell_type": "code",
   "execution_count": 53,
   "id": "5543c8f2",
   "metadata": {},
   "outputs": [
    {
     "name": "stdout",
     "output_type": "stream",
     "text": [
      "x==100, y==200, z==300, x+y+z==600\n"
     ]
    }
   ],
   "source": [
    "x = 100\n",
    "\n",
    "y = 200\n",
    "\n",
    "z = 300\n",
    "\n",
    "print(f'x=={x}, y=={y}, z=={z}, x+y+z=={x+y+z}')"
   ]
  },
  {
   "cell_type": "code",
   "execution_count": 44,
   "id": "b04c8cd5",
   "metadata": {},
   "outputs": [
    {
     "name": "stdout",
     "output_type": "stream",
     "text": [
      "x==300, y==100, z==200\n"
     ]
    }
   ],
   "source": [
    "x = 100\n",
    "\n",
    "y = 200\n",
    "\n",
    "z = 300\n",
    "\n",
    "print(f'x=={z}, y=={x}, z=={y}')"
   ]
  },
  {
   "cell_type": "code",
   "execution_count": 47,
   "id": "4f3a5fdd",
   "metadata": {},
   "outputs": [
    {
     "name": "stdout",
     "output_type": "stream",
     "text": [
      "y == 200 z== 300 x== 100\n"
     ]
    }
   ],
   "source": [
    "x = 100\n",
    "\n",
    "y = 200\n",
    "\n",
    "z = 300\n",
    "\n",
    "print('y ==',y,'z==',z,'x==',x)"
   ]
  },
  {
   "cell_type": "markdown",
   "id": "416e8b5d",
   "metadata": {},
   "source": [
    "### .format"
   ]
  },
  {
   "cell_type": "code",
   "execution_count": 48,
   "id": "088152b3",
   "metadata": {},
   "outputs": [
    {
     "name": "stdout",
     "output_type": "stream",
     "text": [
      "x==100, y==200, z==300\n"
     ]
    }
   ],
   "source": [
    "x = 100\n",
    "\n",
    "y = 200\n",
    "\n",
    "z = 300\n",
    "\n",
    "print('x=={}, y=={}, z=={}'.format(x,y,z))"
   ]
  },
  {
   "cell_type": "code",
   "execution_count": 49,
   "id": "d6e939b1",
   "metadata": {},
   "outputs": [
    {
     "name": "stdout",
     "output_type": "stream",
     "text": [
      "x==300, y==200, z==100\n"
     ]
    }
   ],
   "source": [
    "x = 100\n",
    "\n",
    "y = 200\n",
    "\n",
    "z = 300\n",
    "\n",
    "print('x=={}, y=={}, z=={}'.format(z,y,x))"
   ]
  },
  {
   "cell_type": "code",
   "execution_count": 52,
   "id": "c2ebae7b",
   "metadata": {},
   "outputs": [
    {
     "name": "stdout",
     "output_type": "stream",
     "text": [
      "x==300, y==200, z==100, x+y+z==600\n"
     ]
    }
   ],
   "source": [
    "x = 100\n",
    "\n",
    "y = 200\n",
    "\n",
    "z = 300\n",
    "\n",
    "print('x=={}, y=={}, z=={}, x+y+z=={}'.format(z,y,x,x+y+z))"
   ]
  },
  {
   "cell_type": "code",
   "execution_count": 56,
   "id": "b7055e7c",
   "metadata": {},
   "outputs": [
    {
     "name": "stdout",
     "output_type": "stream",
     "text": [
      "x=300, y=200, z100, x+y+z:::600\n"
     ]
    }
   ],
   "source": [
    "x = 100\n",
    "\n",
    "y = 200\n",
    "\n",
    "z = 300\n",
    "\n",
    "print('x={}, y={}, z{}, x+y+z:::{}'.format(z,y,x,x+y+z))"
   ]
  },
  {
   "cell_type": "code",
   "execution_count": 57,
   "id": "7434a3d1",
   "metadata": {},
   "outputs": [
    {
     "name": "stdout",
     "output_type": "stream",
     "text": [
      "x=300, y=200, z100\n"
     ]
    }
   ],
   "source": [
    "x = 100\n",
    "\n",
    "y = 200\n",
    "\n",
    "z = 300\n",
    "\n",
    "print('x={}, y={}, z=={}'.format(z,y,x,x+y+z))"
   ]
  },
  {
   "cell_type": "code",
   "execution_count": 60,
   "id": "363f5218",
   "metadata": {},
   "outputs": [
    {
     "name": "stdout",
     "output_type": "stream",
     "text": [
      "x == 10\n"
     ]
    }
   ],
   "source": [
    "a = 10\n",
    "b =  5\n",
    "c = 20\n",
    "print('x == %d' %a)    # %d >> for int"
   ]
  },
  {
   "cell_type": "code",
   "execution_count": 6,
   "id": "ea9db2df",
   "metadata": {},
   "outputs": [
    {
     "name": "stdout",
     "output_type": "stream",
     "text": [
      "b == 5.500000 a==10\n"
     ]
    }
   ],
   "source": [
    "a = 10\n",
    "b =  5.5\n",
    "c = 20\n",
    "print('b == %f a==%d' %(b,a))    # %f >> for float"
   ]
  },
  {
   "cell_type": "code",
   "execution_count": 62,
   "id": "89c886f6",
   "metadata": {},
   "outputs": [
    {
     "name": "stdout",
     "output_type": "stream",
     "text": [
      "b == 10.000000\n"
     ]
    }
   ],
   "source": [
    "a = 10\n",
    "b =  5.5\n",
    "c = 20\n",
    "print('b == %f' %a)    # %f >> for float"
   ]
  },
  {
   "cell_type": "code",
   "execution_count": 63,
   "id": "c234cf17",
   "metadata": {},
   "outputs": [
    {
     "name": "stdout",
     "output_type": "stream",
     "text": [
      "x == 5\n"
     ]
    }
   ],
   "source": [
    "a = 10\n",
    "b =  5.5\n",
    "c = 20\n",
    "print('x == %d' %b)    # %d >> for int"
   ]
  },
  {
   "cell_type": "code",
   "execution_count": 64,
   "id": "910e0554",
   "metadata": {},
   "outputs": [
    {
     "name": "stdout",
     "output_type": "stream",
     "text": [
      "x == 20\n"
     ]
    }
   ],
   "source": [
    "a = 10\n",
    "b =  5.5\n",
    "c = '20'\n",
    "print('x == %s' %c)    # %s >> for str"
   ]
  },
  {
   "cell_type": "code",
   "execution_count": 66,
   "id": "dac63cef",
   "metadata": {},
   "outputs": [
    {
     "name": "stdout",
     "output_type": "stream",
     "text": [
      "b == 5.5\n"
     ]
    }
   ],
   "source": [
    "a = 10\n",
    "b =  5.5\n",
    "c = '20'\n",
    "print('b == %s' %b)    # %s >> for str"
   ]
  },
  {
   "cell_type": "code",
   "execution_count": 67,
   "id": "ba272b6c",
   "metadata": {},
   "outputs": [
    {
     "data": {
      "text/plain": [
       "float"
      ]
     },
     "execution_count": 67,
     "metadata": {},
     "output_type": "execute_result"
    }
   ],
   "source": [
    "type(b)"
   ]
  },
  {
   "cell_type": "code",
   "execution_count": 68,
   "id": "06b3850d",
   "metadata": {},
   "outputs": [
    {
     "ename": "TypeError",
     "evalue": "can only concatenate str (not \"int\") to str",
     "output_type": "error",
     "traceback": [
      "\u001b[1;31m---------------------------------------------------------------------------\u001b[0m",
      "\u001b[1;31mTypeError\u001b[0m                                 Traceback (most recent call last)",
      "\u001b[1;32m<ipython-input-68-f2b76f9b07cd>\u001b[0m in \u001b[0;36m<module>\u001b[1;34m\u001b[0m\n\u001b[0;32m      2\u001b[0m \u001b[0mb\u001b[0m \u001b[1;33m=\u001b[0m  \u001b[1;36m5.5\u001b[0m\u001b[1;33m\u001b[0m\u001b[1;33m\u001b[0m\u001b[0m\n\u001b[0;32m      3\u001b[0m \u001b[0mc\u001b[0m \u001b[1;33m=\u001b[0m \u001b[1;34m'20'\u001b[0m\u001b[1;33m\u001b[0m\u001b[1;33m\u001b[0m\u001b[0m\n\u001b[1;32m----> 4\u001b[1;33m \u001b[0mprint\u001b[0m\u001b[1;33m(\u001b[0m\u001b[1;34m'b == %d'\u001b[0m \u001b[1;33m%\u001b[0m\u001b[0mb\u001b[0m\u001b[1;33m+\u001b[0m\u001b[0ma\u001b[0m\u001b[1;33m)\u001b[0m    \u001b[1;31m# %s >> for str\u001b[0m\u001b[1;33m\u001b[0m\u001b[1;33m\u001b[0m\u001b[0m\n\u001b[0m",
      "\u001b[1;31mTypeError\u001b[0m: can only concatenate str (not \"int\") to str"
     ]
    }
   ],
   "source": [
    "a = 10\n",
    "b =  5.5\n",
    "c = '20'\n",
    "d\n",
    "print('b == %d' %b, )    # %s >> for str"
   ]
  },
  {
   "cell_type": "markdown",
   "id": "d485349d",
   "metadata": {},
   "source": [
    "## Multiple values to multiple variable"
   ]
  },
  {
   "cell_type": "code",
   "execution_count": 69,
   "id": "c239adbf",
   "metadata": {},
   "outputs": [
    {
     "name": "stdout",
     "output_type": "stream",
     "text": [
      "10 20 hi\n"
     ]
    }
   ],
   "source": [
    "a = 10\n",
    "b = 20\n",
    "c = 'hi'\n",
    "print(a,b,c)"
   ]
  },
  {
   "cell_type": "code",
   "execution_count": 70,
   "id": "583393ea",
   "metadata": {},
   "outputs": [
    {
     "ename": "SyntaxError",
     "evalue": "cannot assign to literal (<ipython-input-70-f8bf2a94d108>, line 1)",
     "output_type": "error",
     "traceback": [
      "\u001b[1;36m  File \u001b[1;32m\"<ipython-input-70-f8bf2a94d108>\"\u001b[1;36m, line \u001b[1;32m1\u001b[0m\n\u001b[1;33m    a = 10, b = 20, c = 'hi'\u001b[0m\n\u001b[1;37m        ^\u001b[0m\n\u001b[1;31mSyntaxError\u001b[0m\u001b[1;31m:\u001b[0m cannot assign to literal\n"
     ]
    }
   ],
   "source": [
    "a = 10, b = 20, c = 'hi'\n",
    "print(a,b,c)"
   ]
  },
  {
   "cell_type": "code",
   "execution_count": 71,
   "id": "3b441951",
   "metadata": {},
   "outputs": [
    {
     "name": "stdout",
     "output_type": "stream",
     "text": [
      "10 20 hi\n"
     ]
    }
   ],
   "source": [
    "a = 10; b = 20; c = 'hi'\n",
    "print(a,b,c)"
   ]
  },
  {
   "cell_type": "code",
   "execution_count": 76,
   "id": "0674508b",
   "metadata": {},
   "outputs": [
    {
     "name": "stdout",
     "output_type": "stream",
     "text": [
      "10 20 [1, 2, 3]\n"
     ]
    }
   ],
   "source": [
    "a,b,c = 10,20,[1,2,3]\n",
    "print(a,b,c)"
   ]
  },
  {
   "cell_type": "markdown",
   "id": "ea0f4e9e",
   "metadata": {},
   "source": [
    "## Delete variable"
   ]
  },
  {
   "cell_type": "code",
   "execution_count": 79,
   "id": "3cba0a69",
   "metadata": {},
   "outputs": [
    {
     "name": "stdout",
     "output_type": "stream",
     "text": [
      "Pune\n"
     ]
    },
    {
     "ename": "NameError",
     "evalue": "name 'str1' is not defined",
     "output_type": "error",
     "traceback": [
      "\u001b[1;31m---------------------------------------------------------------------------\u001b[0m",
      "\u001b[1;31mNameError\u001b[0m                                 Traceback (most recent call last)",
      "\u001b[1;32m<ipython-input-79-c04c670fd8d7>\u001b[0m in \u001b[0;36m<module>\u001b[1;34m\u001b[0m\n\u001b[0;32m      2\u001b[0m \u001b[0mprint\u001b[0m\u001b[1;33m(\u001b[0m\u001b[0mstr1\u001b[0m\u001b[1;33m)\u001b[0m\u001b[1;33m\u001b[0m\u001b[1;33m\u001b[0m\u001b[0m\n\u001b[0;32m      3\u001b[0m \u001b[1;32mdel\u001b[0m \u001b[0mstr1\u001b[0m\u001b[1;33m\u001b[0m\u001b[1;33m\u001b[0m\u001b[0m\n\u001b[1;32m----> 4\u001b[1;33m \u001b[0mprint\u001b[0m\u001b[1;33m(\u001b[0m\u001b[0mstr1\u001b[0m\u001b[1;33m)\u001b[0m\u001b[1;33m\u001b[0m\u001b[1;33m\u001b[0m\u001b[0m\n\u001b[0m",
      "\u001b[1;31mNameError\u001b[0m: name 'str1' is not defined"
     ]
    }
   ],
   "source": [
    "str1 = 'Pune'\n",
    "print(str1)\n",
    "del str1\n",
    "print(str1)"
   ]
  },
  {
   "cell_type": "code",
   "execution_count": 96,
   "id": "4973ced3",
   "metadata": {},
   "outputs": [
    {
     "name": "stdout",
     "output_type": "stream",
     "text": [
      "1\n"
     ]
    },
    {
     "ename": "NameError",
     "evalue": "name 'a' is not defined",
     "output_type": "error",
     "traceback": [
      "\u001b[1;31m---------------------------------------------------------------------------\u001b[0m",
      "\u001b[1;31mNameError\u001b[0m                                 Traceback (most recent call last)",
      "\u001b[1;32m<ipython-input-96-d49a87e910c8>\u001b[0m in \u001b[0;36m<module>\u001b[1;34m\u001b[0m\n\u001b[0;32m      2\u001b[0m \u001b[0mprint\u001b[0m\u001b[1;33m(\u001b[0m\u001b[0ma\u001b[0m\u001b[1;33m)\u001b[0m\u001b[1;33m\u001b[0m\u001b[1;33m\u001b[0m\u001b[0m\n\u001b[0;32m      3\u001b[0m \u001b[1;32mdel\u001b[0m \u001b[0ma\u001b[0m\u001b[1;33m\u001b[0m\u001b[1;33m\u001b[0m\u001b[0m\n\u001b[1;32m----> 4\u001b[1;33m \u001b[0mprint\u001b[0m\u001b[1;33m(\u001b[0m\u001b[0ma\u001b[0m\u001b[1;33m)\u001b[0m\u001b[1;33m\u001b[0m\u001b[1;33m\u001b[0m\u001b[0m\n\u001b[0m",
      "\u001b[1;31mNameError\u001b[0m: name 'a' is not defined"
     ]
    }
   ],
   "source": [
    "a=1\n",
    "print(a)\n",
    "del a\n",
    "print(a)"
   ]
  },
  {
   "cell_type": "code",
   "execution_count": 80,
   "id": "5f723a6c",
   "metadata": {},
   "outputs": [
    {
     "ename": "NameError",
     "evalue": "name 'str1' is not defined",
     "output_type": "error",
     "traceback": [
      "\u001b[1;31m---------------------------------------------------------------------------\u001b[0m",
      "\u001b[1;31mNameError\u001b[0m                                 Traceback (most recent call last)",
      "\u001b[1;32m<ipython-input-80-2413331059ac>\u001b[0m in \u001b[0;36m<module>\u001b[1;34m\u001b[0m\n\u001b[1;32m----> 1\u001b[1;33m \u001b[0mprint\u001b[0m\u001b[1;33m(\u001b[0m\u001b[0mstr1\u001b[0m\u001b[1;33m)\u001b[0m\u001b[1;33m\u001b[0m\u001b[1;33m\u001b[0m\u001b[0m\n\u001b[0m",
      "\u001b[1;31mNameError\u001b[0m: name 'str1' is not defined"
     ]
    }
   ],
   "source": [
    "print(str1)"
   ]
  },
  {
   "cell_type": "code",
   "execution_count": 88,
   "id": "c712ca8f",
   "metadata": {},
   "outputs": [
    {
     "name": "stdout",
     "output_type": "stream",
     "text": [
      "Python\n",
      "Data Science\n"
     ]
    }
   ],
   "source": [
    "print('Python',)\n",
    "print('Data Science')"
   ]
  },
  {
   "cell_type": "code",
   "execution_count": 83,
   "id": "5a0427d7",
   "metadata": {},
   "outputs": [
    {
     "name": "stdout",
     "output_type": "stream",
     "text": [
      "Python Data Science\n"
     ]
    }
   ],
   "source": [
    "print('Python', end =' ')\n",
    "print('Data Science')"
   ]
  },
  {
   "cell_type": "code",
   "execution_count": 84,
   "id": "6ff302af",
   "metadata": {},
   "outputs": [
    {
     "name": "stdout",
     "output_type": "stream",
     "text": [
      "Python\n",
      "Data Science\n"
     ]
    }
   ],
   "source": [
    "print('Python', end ='\\n')\n",
    "print('Data Science')"
   ]
  },
  {
   "cell_type": "code",
   "execution_count": 86,
   "id": "30d0271f",
   "metadata": {},
   "outputs": [
    {
     "name": "stdout",
     "output_type": "stream",
     "text": [
      "Python\n",
      "\n",
      "\tData Science\n"
     ]
    }
   ],
   "source": [
    "print('Python', end ='\\n\\n\\t')\n",
    "print('Data Science')"
   ]
  },
  {
   "cell_type": "code",
   "execution_count": 87,
   "id": "0334bb68",
   "metadata": {},
   "outputs": [
    {
     "name": "stdout",
     "output_type": "stream",
     "text": [
      "Python_Data Science\n"
     ]
    }
   ],
   "source": [
    "print('Python', end ='_')\n",
    "print('Data Science')\n"
   ]
  },
  {
   "cell_type": "code",
   "execution_count": 94,
   "id": "661cc1e2",
   "metadata": {},
   "outputs": [
    {
     "name": "stdout",
     "output_type": "stream",
     "text": [
      "Python \n",
      " DL\n",
      "Data Science\n"
     ]
    }
   ],
   "source": [
    "print('Python','\\n','DL')\n",
    "print('Data Science')"
   ]
  },
  {
   "cell_type": "code",
   "execution_count": 90,
   "id": "165ab89c",
   "metadata": {},
   "outputs": [
    {
     "name": "stdout",
     "output_type": "stream",
     "text": [
      "Python\n",
      "\n",
      "Data Science\n"
     ]
    }
   ],
   "source": [
    "print('Python\\n')\n",
    "print('Data Science')"
   ]
  },
  {
   "cell_type": "code",
   "execution_count": 93,
   "id": "c6853e4a",
   "metadata": {},
   "outputs": [
    {
     "name": "stdout",
     "output_type": "stream",
     "text": [
      "Python_Data Science_ML\n"
     ]
    }
   ],
   "source": [
    "print('Python', end ='_')\n",
    "print('Data Science',end='_')\n",
    "print('ML')"
   ]
  },
  {
   "cell_type": "code",
   "execution_count": 97,
   "id": "11885e38",
   "metadata": {},
   "outputs": [
    {
     "data": {
      "text/plain": [
       "30"
      ]
     },
     "execution_count": 97,
     "metadata": {},
     "output_type": "execute_result"
    }
   ],
   "source": [
    "a = 10\n",
    "b = 20\n",
    "a+b"
   ]
  },
  {
   "cell_type": "code",
   "execution_count": 98,
   "id": "3a441dcb",
   "metadata": {},
   "outputs": [
    {
     "data": {
      "text/plain": [
       "'1020'"
      ]
     },
     "execution_count": 98,
     "metadata": {},
     "output_type": "execute_result"
    }
   ],
   "source": [
    "a = '10'\n",
    "b = '20'\n",
    "a+b # concatination"
   ]
  },
  {
   "cell_type": "code",
   "execution_count": 99,
   "id": "fce38c32",
   "metadata": {},
   "outputs": [
    {
     "ename": "ValueError",
     "evalue": "not enough values to unpack (expected 4, got 3)",
     "output_type": "error",
     "traceback": [
      "\u001b[1;31m---------------------------------------------------------------------------\u001b[0m",
      "\u001b[1;31mValueError\u001b[0m                                Traceback (most recent call last)",
      "\u001b[1;32m<ipython-input-99-65fd05daaa1f>\u001b[0m in \u001b[0;36m<module>\u001b[1;34m\u001b[0m\n\u001b[1;32m----> 1\u001b[1;33m \u001b[0ma\u001b[0m\u001b[1;33m,\u001b[0m\u001b[0mb\u001b[0m\u001b[1;33m,\u001b[0m\u001b[0mc\u001b[0m\u001b[1;33m,\u001b[0m\u001b[0md\u001b[0m \u001b[1;33m=\u001b[0m \u001b[1;36m1\u001b[0m\u001b[1;33m,\u001b[0m\u001b[1;36m2\u001b[0m\u001b[1;33m,\u001b[0m\u001b[1;36m3\u001b[0m\u001b[1;33m\u001b[0m\u001b[1;33m\u001b[0m\u001b[0m\n\u001b[0m",
      "\u001b[1;31mValueError\u001b[0m: not enough values to unpack (expected 4, got 3)"
     ]
    }
   ],
   "source": [
    "a,b,c,d = 1,2,3"
   ]
  },
  {
   "cell_type": "code",
   "execution_count": null,
   "id": "31c1ce8e",
   "metadata": {},
   "outputs": [],
   "source": []
  },
  {
   "cell_type": "code",
   "execution_count": null,
   "id": "236aacc9",
   "metadata": {},
   "outputs": [],
   "source": []
  },
  {
   "cell_type": "code",
   "execution_count": null,
   "id": "82582efa",
   "metadata": {},
   "outputs": [],
   "source": []
  },
  {
   "cell_type": "code",
   "execution_count": null,
   "id": "6c1660a2",
   "metadata": {},
   "outputs": [],
   "source": []
  },
  {
   "cell_type": "code",
   "execution_count": null,
   "id": "c1be2a9e",
   "metadata": {},
   "outputs": [],
   "source": []
  },
  {
   "cell_type": "code",
   "execution_count": null,
   "id": "8a659958",
   "metadata": {},
   "outputs": [],
   "source": []
  },
  {
   "cell_type": "code",
   "execution_count": null,
   "id": "e59ac1c5",
   "metadata": {},
   "outputs": [],
   "source": []
  },
  {
   "cell_type": "code",
   "execution_count": null,
   "id": "f31463b9",
   "metadata": {},
   "outputs": [],
   "source": []
  },
  {
   "cell_type": "code",
   "execution_count": null,
   "id": "23be6eee",
   "metadata": {},
   "outputs": [],
   "source": []
  }
 ],
 "metadata": {
  "kernelspec": {
   "display_name": "Python 3 (ipykernel)",
   "language": "python",
   "name": "python3"
  },
  "language_info": {
   "codemirror_mode": {
    "name": "ipython",
    "version": 3
   },
   "file_extension": ".py",
   "mimetype": "text/x-python",
   "name": "python",
   "nbconvert_exporter": "python",
   "pygments_lexer": "ipython3",
   "version": "3.11.3"
  }
 },
 "nbformat": 4,
 "nbformat_minor": 5
}
