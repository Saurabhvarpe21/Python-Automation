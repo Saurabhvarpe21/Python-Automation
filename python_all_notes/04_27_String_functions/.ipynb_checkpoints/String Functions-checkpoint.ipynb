{
 "cells": [
  {
   "cell_type": "markdown",
   "id": "17e8adbd",
   "metadata": {},
   "source": [
    "# String Functions"
   ]
  },
  {
   "cell_type": "code",
   "execution_count": null,
   "id": "e0215bbf",
   "metadata": {},
   "outputs": [],
   "source": [
    "1. Capitalize()\n",
    "2. upper()\n",
    "3. lower()\n",
    "4. title()\n",
    "5. swapcase()\n",
    "6. lstrip()\n",
    "7. rstrip()\n",
    "8. strip()\n",
    "9. replace()\n",
    "10. count()\n",
    "11. index()\n",
    "12. find()\n",
    "13. split()\n",
    "14. casefold()\n",
    "15. endswith()\n",
    "16. startswith()\n",
    "17. isalnum()\n",
    "18. isalpha()\n",
    "19. isdecimal()\n",
    "20. isdigit()\n",
    "21. isnumeric()\n",
    "22. islower()\n",
    "23. isupper()\n",
    "24. istitle()\n",
    "25. isspace()\n",
    "26. zfill()\n",
    "27. center()"
   ]
  },
  {
   "cell_type": "markdown",
   "id": "b034d399",
   "metadata": {},
   "source": [
    " ## 14. casefold()"
   ]
  },
  {
   "cell_type": "code",
   "execution_count": 1,
   "id": "bad06226",
   "metadata": {},
   "outputs": [
    {
     "data": {
      "text/plain": [
       "'python is easy language'"
      ]
     },
     "execution_count": 1,
     "metadata": {},
     "output_type": "execute_result"
    }
   ],
   "source": [
    "s = 'Python is easy Language'\n",
    "s.casefold()"
   ]
  },
  {
   "cell_type": "code",
   "execution_count": 3,
   "id": "48424c51",
   "metadata": {},
   "outputs": [
    {
     "data": {
      "text/plain": [
       "'python is easy language'"
      ]
     },
     "execution_count": 3,
     "metadata": {},
     "output_type": "execute_result"
    }
   ],
   "source": [
    "s = 'Python is easy Language'\n",
    "s = s.upper()\n",
    "s.casefold()"
   ]
  },
  {
   "cell_type": "code",
   "execution_count": 6,
   "id": "af75d28d",
   "metadata": {},
   "outputs": [
    {
     "data": {
      "text/plain": [
       "'python is easy ß language'"
      ]
     },
     "execution_count": 6,
     "metadata": {},
     "output_type": "execute_result"
    }
   ],
   "source": [
    "s = 'Python is easy ß Language'\n",
    "s.lower()"
   ]
  },
  {
   "cell_type": "code",
   "execution_count": 7,
   "id": "c549a2d5",
   "metadata": {},
   "outputs": [
    {
     "data": {
      "text/plain": [
       "'python is easy ss language'"
      ]
     },
     "execution_count": 7,
     "metadata": {},
     "output_type": "execute_result"
    }
   ],
   "source": [
    "s = 'Python is easy ß Language'  \n",
    "s.casefold()         # German Language"
   ]
  },
  {
   "cell_type": "markdown",
   "id": "a0870a5e",
   "metadata": {},
   "source": [
    "## 15 . endswith()"
   ]
  },
  {
   "cell_type": "code",
   "execution_count": null,
   "id": "84394ecc",
   "metadata": {},
   "outputs": [],
   "source": [
    "It will return True/False (boolean)"
   ]
  },
  {
   "cell_type": "code",
   "execution_count": 8,
   "id": "bcb76216",
   "metadata": {},
   "outputs": [
    {
     "data": {
      "text/plain": [
       "True"
      ]
     },
     "execution_count": 8,
     "metadata": {},
     "output_type": "execute_result"
    }
   ],
   "source": [
    "string = 'Data'\n",
    "string.endswith('a')"
   ]
  },
  {
   "cell_type": "code",
   "execution_count": 9,
   "id": "736f8aee",
   "metadata": {},
   "outputs": [
    {
     "data": {
      "text/plain": [
       "False"
      ]
     },
     "execution_count": 9,
     "metadata": {},
     "output_type": "execute_result"
    }
   ],
   "source": [
    "string = 'Data'\n",
    "string.endswith('A')"
   ]
  },
  {
   "cell_type": "code",
   "execution_count": 11,
   "id": "5fa4c3f8",
   "metadata": {},
   "outputs": [
    {
     "data": {
      "text/plain": [
       "True"
      ]
     },
     "execution_count": 11,
     "metadata": {},
     "output_type": "execute_result"
    }
   ],
   "source": [
    "file_path = r'G:\\Velocity 16 APR\\04_27_String_functions\\test\\AmesHousing.csv'\n",
    "file_path.endswith('.csv')"
   ]
  },
  {
   "cell_type": "code",
   "execution_count": 12,
   "id": "7a94ecf5",
   "metadata": {},
   "outputs": [
    {
     "data": {
      "text/plain": [
       "False"
      ]
     },
     "execution_count": 12,
     "metadata": {},
     "output_type": "execute_result"
    }
   ],
   "source": [
    "file_path = r'G:\\Velocity 16 APR\\04_27_String_functions\\test\\AmesHousing.csv'\n",
    "file_path.endswith('.txt')"
   ]
  },
  {
   "cell_type": "code",
   "execution_count": 13,
   "id": "59e06461",
   "metadata": {},
   "outputs": [
    {
     "data": {
      "text/plain": [
       "True"
      ]
     },
     "execution_count": 13,
     "metadata": {},
     "output_type": "execute_result"
    }
   ],
   "source": [
    "file_path = r'G:\\Velocity 16 APR\\04_27_String_functions\\test\\cv003_11664.txt'\n",
    "file_path.endswith('.txt')"
   ]
  },
  {
   "cell_type": "code",
   "execution_count": null,
   "id": "f136f1bb",
   "metadata": {},
   "outputs": [],
   "source": [
    "File extensions :\n",
    "    ipynb\n",
    "    py\n",
    "    docx\n",
    "    csv\n",
    "    xlsx\n",
    "    txt\n",
    "    pdf\n"
   ]
  },
  {
   "cell_type": "code",
   "execution_count": 17,
   "id": "1ed0565e",
   "metadata": {},
   "outputs": [
    {
     "ename": "OSError",
     "evalue": "[WinError 123] The filename, directory name, or volume label syntax is incorrect: 'G:\\\\Velocity 16 APR\\x04_27_String_functions\\test'",
     "output_type": "error",
     "traceback": [
      "\u001b[1;31m---------------------------------------------------------------------------\u001b[0m",
      "\u001b[1;31mOSError\u001b[0m                                   Traceback (most recent call last)",
      "\u001b[1;32m<ipython-input-17-273188fb5f66>\u001b[0m in \u001b[0;36m<module>\u001b[1;34m\u001b[0m\n\u001b[0;32m      1\u001b[0m \u001b[1;32mimport\u001b[0m \u001b[0mos\u001b[0m\u001b[1;33m\u001b[0m\u001b[1;33m\u001b[0m\u001b[0m\n\u001b[1;32m----> 2\u001b[1;33m \u001b[0mfile_list\u001b[0m \u001b[1;33m=\u001b[0m \u001b[0mos\u001b[0m\u001b[1;33m.\u001b[0m\u001b[0mlistdir\u001b[0m\u001b[1;33m(\u001b[0m\u001b[1;34m'G:\\Velocity 16 APR\\04_27_String_functions\\test'\u001b[0m\u001b[1;33m)\u001b[0m\u001b[1;33m\u001b[0m\u001b[1;33m\u001b[0m\u001b[0m\n\u001b[0m\u001b[0;32m      3\u001b[0m \u001b[0mprint\u001b[0m\u001b[1;33m(\u001b[0m\u001b[0mfile_list\u001b[0m\u001b[1;33m)\u001b[0m\u001b[1;33m\u001b[0m\u001b[1;33m\u001b[0m\u001b[0m\n",
      "\u001b[1;31mOSError\u001b[0m: [WinError 123] The filename, directory name, or volume label syntax is incorrect: 'G:\\\\Velocity 16 APR\\x04_27_String_functions\\test'"
     ]
    }
   ],
   "source": [
    "import os\n",
    "file_list = os.listdir('G:\\Velocity 16 APR\\04_27_String_functions\\test')\n",
    "print(file_list)"
   ]
  },
  {
   "cell_type": "code",
   "execution_count": 15,
   "id": "4e601385",
   "metadata": {},
   "outputs": [
    {
     "name": "stdout",
     "output_type": "stream",
     "text": [
      "['AmesHousing.csv', 'Country_clusters.csv', 'cv002_15918.txt', 'cv003_11664.txt', 'cv004_11636.txt', 'cv005_29443.txt', 'cv006_15448.txt', 'diabetes.csv', 'Emp_Records.csv', 'Emp_Records.xlsx']\n"
     ]
    }
   ],
   "source": [
    "import os\n",
    "file_list = os.listdir(r'G:\\Velocity 16 APR\\04_27_String_functions\\test')\n",
    "print(file_list)"
   ]
  },
  {
   "cell_type": "code",
   "execution_count": 16,
   "id": "b90f7897",
   "metadata": {},
   "outputs": [
    {
     "name": "stdout",
     "output_type": "stream",
     "text": [
      "['AmesHousing.csv', 'Country_clusters.csv', 'cv002_15918.txt', 'cv003_11664.txt', 'cv004_11636.txt', 'cv005_29443.txt', 'cv006_15448.txt', 'diabetes.csv', 'Emp_Records.csv', 'Emp_Records.xlsx']\n"
     ]
    }
   ],
   "source": [
    "import os\n",
    "file_list = os.listdir('G:\\\\Velocity 16 APR\\\\04_27_String_functions\\\\test')\n",
    "print(file_list)"
   ]
  },
  {
   "cell_type": "code",
   "execution_count": 19,
   "id": "d032f595",
   "metadata": {},
   "outputs": [
    {
     "name": "stdout",
     "output_type": "stream",
     "text": [
      "CSV file name is : AmesHousing.csv\n",
      "CSV file name is : Country_clusters.csv\n",
      "CSV file name is : diabetes.csv\n",
      "CSV file name is : Emp_Records.csv\n"
     ]
    }
   ],
   "source": [
    "import os\n",
    "file_list = os.listdir('test')\n",
    "# print(file_list)\n",
    "\n",
    "for file in file_list:\n",
    "    if file.endswith('.csv'):\n",
    "        print('CSV file name is :', file)"
   ]
  },
  {
   "cell_type": "code",
   "execution_count": 20,
   "id": "05eb4e9a",
   "metadata": {},
   "outputs": [
    {
     "name": "stdout",
     "output_type": "stream",
     "text": [
      "Char is is : p\n",
      "Char is is : y\n",
      "Char is is : t\n",
      "Char is is : h\n",
      "Char is is : o\n",
      "Char is is : n\n"
     ]
    }
   ],
   "source": [
    "for char in 'python':\n",
    "    print('Char is is :',char)"
   ]
  },
  {
   "cell_type": "code",
   "execution_count": 21,
   "id": "c2a34274",
   "metadata": {},
   "outputs": [
    {
     "name": "stdout",
     "output_type": "stream",
     "text": [
      "Char is is : python\n",
      "Char is is : 1\n",
      "Char is is : 2\n",
      "Char is is : 3\n",
      "Char is is : s\n"
     ]
    }
   ],
   "source": [
    "for char in ['python',1,2,3,'s']:\n",
    "    print('Char is is :',char)"
   ]
  },
  {
   "cell_type": "code",
   "execution_count": 22,
   "id": "c9804797",
   "metadata": {},
   "outputs": [
    {
     "data": {
      "text/plain": [
       "True"
      ]
     },
     "execution_count": 22,
     "metadata": {},
     "output_type": "execute_result"
    }
   ],
   "source": [
    "'G:\\Velocity 16 APR\\04_27_String_functions\\test\\cv003_11664.txt'.endswith('.txt')"
   ]
  },
  {
   "cell_type": "markdown",
   "id": "75a1e45b",
   "metadata": {},
   "source": [
    "## 16. startswith()"
   ]
  },
  {
   "cell_type": "code",
   "execution_count": null,
   "id": "83cb6f91",
   "metadata": {},
   "outputs": [],
   "source": [
    "It will return True / False"
   ]
  },
  {
   "cell_type": "code",
   "execution_count": 23,
   "id": "eaa20e08",
   "metadata": {},
   "outputs": [
    {
     "data": {
      "text/plain": [
       "True"
      ]
     },
     "execution_count": 23,
     "metadata": {},
     "output_type": "execute_result"
    }
   ],
   "source": [
    "str1 = 'Pune'\n",
    "str1.startswith('P')"
   ]
  },
  {
   "cell_type": "code",
   "execution_count": 24,
   "id": "14ed3738",
   "metadata": {},
   "outputs": [
    {
     "data": {
      "text/plain": [
       "False"
      ]
     },
     "execution_count": 24,
     "metadata": {},
     "output_type": "execute_result"
    }
   ],
   "source": [
    "str1 = 'Pune'\n",
    "str1.startswith('p')"
   ]
  },
  {
   "cell_type": "code",
   "execution_count": 25,
   "id": "38791667",
   "metadata": {},
   "outputs": [
    {
     "data": {
      "text/plain": [
       "True"
      ]
     },
     "execution_count": 25,
     "metadata": {},
     "output_type": "execute_result"
    }
   ],
   "source": [
    "str1 = 'Python and Data Science'\n",
    "str1.startswith('Python')"
   ]
  },
  {
   "cell_type": "markdown",
   "id": "67a44d62",
   "metadata": {},
   "source": [
    "## 17. isalnum()"
   ]
  },
  {
   "cell_type": "code",
   "execution_count": null,
   "id": "e1ba21fd",
   "metadata": {},
   "outputs": [],
   "source": [
    "True / False\n",
    "True >> If string is alphanumeric\n",
    "alphanumeric >> a-z, A-Z, 0-9\n",
    "\n",
    "space is not allowed"
   ]
  },
  {
   "cell_type": "code",
   "execution_count": 27,
   "id": "ae4dffd0",
   "metadata": {},
   "outputs": [
    {
     "data": {
      "text/plain": [
       "True"
      ]
     },
     "execution_count": 27,
     "metadata": {},
     "output_type": "execute_result"
    }
   ],
   "source": [
    "str1 = 'python'  # lower\n",
    "str1.isalnum()"
   ]
  },
  {
   "cell_type": "code",
   "execution_count": 28,
   "id": "2821fe6b",
   "metadata": {},
   "outputs": [
    {
     "data": {
      "text/plain": [
       "True"
      ]
     },
     "execution_count": 28,
     "metadata": {},
     "output_type": "execute_result"
    }
   ],
   "source": [
    "str1 = 'DATA'  # upper\n",
    "str1.isalnum()"
   ]
  },
  {
   "cell_type": "code",
   "execution_count": 29,
   "id": "7819ce6c",
   "metadata": {},
   "outputs": [
    {
     "data": {
      "text/plain": [
       "True"
      ]
     },
     "execution_count": 29,
     "metadata": {},
     "output_type": "execute_result"
    }
   ],
   "source": [
    "str1 = '1234'  # numbers\n",
    "str1.isalnum()"
   ]
  },
  {
   "cell_type": "code",
   "execution_count": 30,
   "id": "ee9234d4",
   "metadata": {},
   "outputs": [
    {
     "data": {
      "text/plain": [
       "True"
      ]
     },
     "execution_count": 30,
     "metadata": {},
     "output_type": "execute_result"
    }
   ],
   "source": [
    "str1 = 'python1234'  # lower, number\n",
    "str1.isalnum()"
   ]
  },
  {
   "cell_type": "code",
   "execution_count": 31,
   "id": "918604dc",
   "metadata": {},
   "outputs": [
    {
     "data": {
      "text/plain": [
       "False"
      ]
     },
     "execution_count": 31,
     "metadata": {},
     "output_type": "execute_result"
    }
   ],
   "source": [
    "str1 = 'python 1234' \n",
    "str1.isalnum()"
   ]
  },
  {
   "cell_type": "code",
   "execution_count": 32,
   "id": "683f2298",
   "metadata": {},
   "outputs": [
    {
     "data": {
      "text/plain": [
       "False"
      ]
     },
     "execution_count": 32,
     "metadata": {},
     "output_type": "execute_result"
    }
   ],
   "source": [
    "str1 = 'python@1234' \n",
    "str1.isalnum()"
   ]
  },
  {
   "cell_type": "code",
   "execution_count": 33,
   "id": "beeccbc5",
   "metadata": {},
   "outputs": [
    {
     "data": {
      "text/plain": [
       "False"
      ]
     },
     "execution_count": 33,
     "metadata": {},
     "output_type": "execute_result"
    }
   ],
   "source": [
    "str1 = 'python_1234' \n",
    "str1.isalnum()"
   ]
  },
  {
   "cell_type": "markdown",
   "id": "798c111f",
   "metadata": {},
   "source": [
    "## 18. isalpha()"
   ]
  },
  {
   "cell_type": "code",
   "execution_count": null,
   "id": "d1b88885",
   "metadata": {},
   "outputs": [],
   "source": [
    "True / False\n",
    "True >> if string contains only alphabets\n",
    "alphabets >> a-z, A-Z\n"
   ]
  },
  {
   "cell_type": "code",
   "execution_count": 34,
   "id": "1f1abbbb",
   "metadata": {},
   "outputs": [
    {
     "data": {
      "text/plain": [
       "True"
      ]
     },
     "execution_count": 34,
     "metadata": {},
     "output_type": "execute_result"
    }
   ],
   "source": [
    "str2 = 'Machine'\n",
    "str2.isalpha()"
   ]
  },
  {
   "cell_type": "code",
   "execution_count": 35,
   "id": "959f83a2",
   "metadata": {},
   "outputs": [
    {
     "data": {
      "text/plain": [
       "False"
      ]
     },
     "execution_count": 35,
     "metadata": {},
     "output_type": "execute_result"
    }
   ],
   "source": [
    "str2 = '123'\n",
    "str2.isalpha()"
   ]
  },
  {
   "cell_type": "code",
   "execution_count": 36,
   "id": "61b7cfee",
   "metadata": {},
   "outputs": [
    {
     "data": {
      "text/plain": [
       "False"
      ]
     },
     "execution_count": 36,
     "metadata": {},
     "output_type": "execute_result"
    }
   ],
   "source": [
    "str2 = 'data 1'\n",
    "str2.isalpha()"
   ]
  },
  {
   "cell_type": "code",
   "execution_count": 37,
   "id": "d8af6d2d",
   "metadata": {},
   "outputs": [
    {
     "data": {
      "text/plain": [
       "False"
      ]
     },
     "execution_count": 37,
     "metadata": {},
     "output_type": "execute_result"
    }
   ],
   "source": [
    "str2 = 'data '\n",
    "str2.isalpha()"
   ]
  },
  {
   "cell_type": "code",
   "execution_count": 38,
   "id": "b1cfe3e2",
   "metadata": {},
   "outputs": [
    {
     "data": {
      "text/plain": [
       "False"
      ]
     },
     "execution_count": 38,
     "metadata": {},
     "output_type": "execute_result"
    }
   ],
   "source": [
    "str2 = 'data@'\n",
    "str2.isalpha()"
   ]
  },
  {
   "cell_type": "code",
   "execution_count": 40,
   "id": "1618deb4",
   "metadata": {},
   "outputs": [
    {
     "name": "stdout",
     "output_type": "stream",
     "text": [
      "False\n",
      "False\n"
     ]
    }
   ],
   "source": [
    "str3 = ' PYTHON'\n",
    "print(str3.isalnum())\n",
    "print(str3.isalpha())"
   ]
  },
  {
   "cell_type": "code",
   "execution_count": 41,
   "id": "9c3b4063",
   "metadata": {},
   "outputs": [
    {
     "name": "stdout",
     "output_type": "stream",
     "text": [
      "True\n",
      "False\n"
     ]
    }
   ],
   "source": [
    "str3 = '1PYTHON'\n",
    "print(str3.isalnum())\n",
    "print(str3.isalpha())"
   ]
  },
  {
   "cell_type": "code",
   "execution_count": 42,
   "id": "c76bc36f",
   "metadata": {},
   "outputs": [
    {
     "name": "stdout",
     "output_type": "stream",
     "text": [
      "True\n",
      "True\n"
     ]
    }
   ],
   "source": [
    "str3 = 'PYTHON'\n",
    "print(str3.isalnum())\n",
    "print(str3.isalpha())"
   ]
  },
  {
   "cell_type": "markdown",
   "id": "fde7ff89",
   "metadata": {},
   "source": [
    "## 19. isdecimal()"
   ]
  },
  {
   "cell_type": "code",
   "execution_count": null,
   "id": "c639de53",
   "metadata": {},
   "outputs": [],
   "source": [
    "True / False\n",
    "True >> if string contains only digits (0-9)\n",
    "space is not allowed"
   ]
  },
  {
   "cell_type": "code",
   "execution_count": 43,
   "id": "6a42abd2",
   "metadata": {},
   "outputs": [
    {
     "data": {
      "text/plain": [
       "int"
      ]
     },
     "execution_count": 43,
     "metadata": {},
     "output_type": "execute_result"
    }
   ],
   "source": [
    "str3 = '1234'\n",
    "type(int(str3))"
   ]
  },
  {
   "cell_type": "code",
   "execution_count": 44,
   "id": "2f76034e",
   "metadata": {},
   "outputs": [
    {
     "data": {
      "text/plain": [
       "True"
      ]
     },
     "execution_count": 44,
     "metadata": {},
     "output_type": "execute_result"
    }
   ],
   "source": [
    "str3 = '1234'\n",
    "str3.isdecimal()"
   ]
  },
  {
   "cell_type": "code",
   "execution_count": 45,
   "id": "ac261be8",
   "metadata": {},
   "outputs": [
    {
     "data": {
      "text/plain": [
       "True"
      ]
     },
     "execution_count": 45,
     "metadata": {},
     "output_type": "execute_result"
    }
   ],
   "source": [
    "str3 = '7418529631'\n",
    "str3.isdecimal()"
   ]
  },
  {
   "cell_type": "code",
   "execution_count": 47,
   "id": "c0853936",
   "metadata": {},
   "outputs": [
    {
     "data": {
      "text/plain": [
       "False"
      ]
     },
     "execution_count": 47,
     "metadata": {},
     "output_type": "execute_result"
    }
   ],
   "source": [
    "adhar = '1234 5678 7896'\n",
    "adhar.isdecimal()"
   ]
  },
  {
   "cell_type": "code",
   "execution_count": 48,
   "id": "fee0c316",
   "metadata": {},
   "outputs": [
    {
     "data": {
      "text/plain": [
       "True"
      ]
     },
     "execution_count": 48,
     "metadata": {},
     "output_type": "execute_result"
    }
   ],
   "source": [
    "adhar = '1234 5678 7896'\n",
    "adhar = adhar.replace(' ','')\n",
    "adhar.isdecimal()"
   ]
  },
  {
   "cell_type": "code",
   "execution_count": 49,
   "id": "2ed276d5",
   "metadata": {},
   "outputs": [
    {
     "data": {
      "text/plain": [
       "False"
      ]
     },
     "execution_count": 49,
     "metadata": {},
     "output_type": "execute_result"
    }
   ],
   "source": [
    "str3 = '1234a'\n",
    "str3.isdecimal()"
   ]
  },
  {
   "cell_type": "code",
   "execution_count": 50,
   "id": "ab634a80",
   "metadata": {},
   "outputs": [
    {
     "data": {
      "text/plain": [
       "False"
      ]
     },
     "execution_count": 50,
     "metadata": {},
     "output_type": "execute_result"
    }
   ],
   "source": [
    "str3 = '-1234'\n",
    "str3.isdecimal()"
   ]
  },
  {
   "cell_type": "code",
   "execution_count": 51,
   "id": "ad4d84f4",
   "metadata": {},
   "outputs": [
    {
     "data": {
      "text/plain": [
       "False"
      ]
     },
     "execution_count": 51,
     "metadata": {},
     "output_type": "execute_result"
    }
   ],
   "source": [
    "str3 = '1.234'\n",
    "str3.isdecimal()"
   ]
  },
  {
   "cell_type": "markdown",
   "id": "9d24d5e9",
   "metadata": {},
   "source": [
    "## Unicode"
   ]
  },
  {
   "cell_type": "code",
   "execution_count": null,
   "id": "422f4b9b",
   "metadata": {},
   "outputs": [],
   "source": [
    "\\u0030 >> 0\n",
    "\\u0031 >> 1\n",
    "\\u0032 >> 2\n",
    "\\u0033 >> 3\n",
    "...\n",
    "\\u0039 >> 9"
   ]
  },
  {
   "cell_type": "code",
   "execution_count": 52,
   "id": "29d80bcb",
   "metadata": {},
   "outputs": [
    {
     "data": {
      "text/plain": [
       "0"
      ]
     },
     "execution_count": 52,
     "metadata": {},
     "output_type": "execute_result"
    }
   ],
   "source": [
    "int('\\u0030')"
   ]
  },
  {
   "cell_type": "code",
   "execution_count": 53,
   "id": "7b5a2ea0",
   "metadata": {},
   "outputs": [
    {
     "data": {
      "text/plain": [
       "9"
      ]
     },
     "execution_count": 53,
     "metadata": {},
     "output_type": "execute_result"
    }
   ],
   "source": [
    "int('\\u0039')"
   ]
  },
  {
   "cell_type": "code",
   "execution_count": 55,
   "id": "8669e1a6",
   "metadata": {},
   "outputs": [
    {
     "data": {
      "text/plain": [
       "'@'"
      ]
     },
     "execution_count": 55,
     "metadata": {},
     "output_type": "execute_result"
    }
   ],
   "source": [
    "str('\\u0040')"
   ]
  },
  {
   "cell_type": "code",
   "execution_count": 56,
   "id": "4e75901a",
   "metadata": {},
   "outputs": [
    {
     "data": {
      "text/plain": [
       "'I'"
      ]
     },
     "execution_count": 56,
     "metadata": {},
     "output_type": "execute_result"
    }
   ],
   "source": [
    "str('\\u0049')"
   ]
  },
  {
   "cell_type": "code",
   "execution_count": 57,
   "id": "c87ab9e6",
   "metadata": {},
   "outputs": [
    {
     "data": {
      "text/plain": [
       "'\\x97'"
      ]
     },
     "execution_count": 57,
     "metadata": {},
     "output_type": "execute_result"
    }
   ],
   "source": [
    "str('\\u0097')"
   ]
  },
  {
   "cell_type": "code",
   "execution_count": 58,
   "id": "db22f806",
   "metadata": {},
   "outputs": [
    {
     "data": {
      "text/plain": [
       "True"
      ]
     },
     "execution_count": 58,
     "metadata": {},
     "output_type": "execute_result"
    }
   ],
   "source": [
    "str4 = '\\u0039'\n",
    "str4.isdecimal()"
   ]
  },
  {
   "cell_type": "code",
   "execution_count": 59,
   "id": "3086cd82",
   "metadata": {},
   "outputs": [
    {
     "data": {
      "text/plain": [
       "False"
      ]
     },
     "execution_count": 59,
     "metadata": {},
     "output_type": "execute_result"
    }
   ],
   "source": [
    "str4 = '\\u0040'\n",
    "str4.isdecimal()"
   ]
  },
  {
   "cell_type": "code",
   "execution_count": 61,
   "id": "b26d5a19",
   "metadata": {},
   "outputs": [
    {
     "data": {
      "text/plain": [
       "True"
      ]
     },
     "execution_count": 61,
     "metadata": {},
     "output_type": "execute_result"
    }
   ],
   "source": [
    "str4 = '\\u0049'\n",
    "str4.isalpha()"
   ]
  },
  {
   "cell_type": "markdown",
   "id": "e8678758",
   "metadata": {},
   "source": [
    "## 20. isdigit()"
   ]
  },
  {
   "cell_type": "code",
   "execution_count": null,
   "id": "9a02c9e1",
   "metadata": {},
   "outputs": [],
   "source": [
    "True / False\n",
    "True >> digits , subscript , superscript"
   ]
  },
  {
   "cell_type": "code",
   "execution_count": 62,
   "id": "82651b7d",
   "metadata": {},
   "outputs": [
    {
     "data": {
      "text/plain": [
       "True"
      ]
     },
     "execution_count": 62,
     "metadata": {},
     "output_type": "execute_result"
    }
   ],
   "source": [
    "str4 = '\\u0039'\n",
    "str4.isdigit()"
   ]
  },
  {
   "cell_type": "code",
   "execution_count": 63,
   "id": "820570b1",
   "metadata": {},
   "outputs": [
    {
     "data": {
      "text/plain": [
       "True"
      ]
     },
     "execution_count": 63,
     "metadata": {},
     "output_type": "execute_result"
    }
   ],
   "source": [
    "str4 = '1234'\n",
    "str4.isdigit()"
   ]
  },
  {
   "cell_type": "code",
   "execution_count": 64,
   "id": "901b63e7",
   "metadata": {},
   "outputs": [
    {
     "data": {
      "text/plain": [
       "False"
      ]
     },
     "execution_count": 64,
     "metadata": {},
     "output_type": "execute_result"
    }
   ],
   "source": [
    "str4 = '12 34'\n",
    "str4.isdigit()"
   ]
  },
  {
   "cell_type": "code",
   "execution_count": 65,
   "id": "80d078c2",
   "metadata": {},
   "outputs": [
    {
     "data": {
      "text/plain": [
       "False"
      ]
     },
     "execution_count": 65,
     "metadata": {},
     "output_type": "execute_result"
    }
   ],
   "source": [
    "str4 = '1234a'\n",
    "str4.isdigit()"
   ]
  },
  {
   "cell_type": "code",
   "execution_count": 66,
   "id": "39bf3785",
   "metadata": {},
   "outputs": [
    {
     "data": {
      "text/plain": [
       "'0b1100'"
      ]
     },
     "execution_count": 66,
     "metadata": {},
     "output_type": "execute_result"
    }
   ],
   "source": [
    "bin(12)"
   ]
  },
  {
   "cell_type": "code",
   "execution_count": 67,
   "id": "8a595a20",
   "metadata": {},
   "outputs": [
    {
     "data": {
      "text/plain": [
       "False"
      ]
     },
     "execution_count": 67,
     "metadata": {},
     "output_type": "execute_result"
    }
   ],
   "source": [
    "str1 = '0b1100'\n",
    "str1.isdigit()"
   ]
  },
  {
   "cell_type": "code",
   "execution_count": 68,
   "id": "b69b299d",
   "metadata": {},
   "outputs": [
    {
     "data": {
      "text/plain": [
       "False"
      ]
     },
     "execution_count": 68,
     "metadata": {},
     "output_type": "execute_result"
    }
   ],
   "source": [
    "str1 = '0b1100'\n",
    "str1.isdecimal()"
   ]
  },
  {
   "cell_type": "code",
   "execution_count": 69,
   "id": "36b150e5",
   "metadata": {},
   "outputs": [
    {
     "data": {
      "text/plain": [
       "False"
      ]
     },
     "execution_count": 69,
     "metadata": {},
     "output_type": "execute_result"
    }
   ],
   "source": [
    "str1 = '0b1100'\n",
    "str1.isnumeric()"
   ]
  },
  {
   "cell_type": "code",
   "execution_count": 70,
   "id": "a9956927",
   "metadata": {},
   "outputs": [
    {
     "ename": "ValueError",
     "evalue": "invalid literal for int() with base 10: '0b1100'",
     "output_type": "error",
     "traceback": [
      "\u001b[1;31m---------------------------------------------------------------------------\u001b[0m",
      "\u001b[1;31mValueError\u001b[0m                                Traceback (most recent call last)",
      "\u001b[1;32m<ipython-input-70-36c14c7a9736>\u001b[0m in \u001b[0;36m<module>\u001b[1;34m\u001b[0m\n\u001b[1;32m----> 1\u001b[1;33m \u001b[0mint\u001b[0m\u001b[1;33m(\u001b[0m\u001b[1;34m'0b1100'\u001b[0m\u001b[1;33m)\u001b[0m\u001b[1;33m\u001b[0m\u001b[1;33m\u001b[0m\u001b[0m\n\u001b[0m",
      "\u001b[1;31mValueError\u001b[0m: invalid literal for int() with base 10: '0b1100'"
     ]
    }
   ],
   "source": [
    "int('0b1100')"
   ]
  },
  {
   "cell_type": "code",
   "execution_count": 71,
   "id": "c0fb9ad5",
   "metadata": {},
   "outputs": [
    {
     "data": {
      "text/plain": [
       "'0b1100'"
      ]
     },
     "execution_count": 71,
     "metadata": {},
     "output_type": "execute_result"
    }
   ],
   "source": [
    "str('0b1100')"
   ]
  },
  {
   "cell_type": "markdown",
   "id": "032ef6cd",
   "metadata": {},
   "source": [
    "## 21. isnumeric()"
   ]
  },
  {
   "cell_type": "code",
   "execution_count": null,
   "id": "636c4e9f",
   "metadata": {},
   "outputs": [],
   "source": [
    "True/ False\n",
    "True >> digits, subscripts, superscripts, vulgar fraction  (1/2, 2/3, 3/4)"
   ]
  },
  {
   "cell_type": "code",
   "execution_count": 72,
   "id": "717f3aa4",
   "metadata": {},
   "outputs": [
    {
     "data": {
      "text/plain": [
       "True"
      ]
     },
     "execution_count": 72,
     "metadata": {},
     "output_type": "execute_result"
    }
   ],
   "source": [
    "str1 = '1234'\n",
    "str1.isnumeric()"
   ]
  },
  {
   "cell_type": "code",
   "execution_count": 73,
   "id": "d7d7de84",
   "metadata": {},
   "outputs": [
    {
     "data": {
      "text/plain": [
       "True"
      ]
     },
     "execution_count": 73,
     "metadata": {},
     "output_type": "execute_result"
    }
   ],
   "source": [
    "str4 = '\\u0039'\n",
    "str4.isnumeric()"
   ]
  },
  {
   "cell_type": "code",
   "execution_count": 74,
   "id": "a45bb523",
   "metadata": {},
   "outputs": [
    {
     "data": {
      "text/plain": [
       "False"
      ]
     },
     "execution_count": 74,
     "metadata": {},
     "output_type": "execute_result"
    }
   ],
   "source": [
    "str4 = '123456a'\n",
    "str4.isnumeric()"
   ]
  },
  {
   "cell_type": "code",
   "execution_count": 75,
   "id": "7e3081da",
   "metadata": {},
   "outputs": [
    {
     "data": {
      "text/plain": [
       "True"
      ]
     },
     "execution_count": 75,
     "metadata": {},
     "output_type": "execute_result"
    }
   ],
   "source": [
    "str4 = '\\u00BE'  # 3/4\n",
    "str4.isnumeric()"
   ]
  },
  {
   "cell_type": "code",
   "execution_count": 76,
   "id": "b71358c1",
   "metadata": {},
   "outputs": [
    {
     "data": {
      "text/plain": [
       "False"
      ]
     },
     "execution_count": 76,
     "metadata": {},
     "output_type": "execute_result"
    }
   ],
   "source": [
    "str4 = '\\u00BE'  # 3/4\n",
    "str4.isdecimal()"
   ]
  },
  {
   "cell_type": "code",
   "execution_count": 77,
   "id": "d831acdc",
   "metadata": {},
   "outputs": [
    {
     "data": {
      "text/plain": [
       "False"
      ]
     },
     "execution_count": 77,
     "metadata": {},
     "output_type": "execute_result"
    }
   ],
   "source": [
    "str4 = '\\u00BE'  # 3/4\n",
    "str4.isdigit()"
   ]
  },
  {
   "cell_type": "code",
   "execution_count": 78,
   "id": "05a5c74b",
   "metadata": {},
   "outputs": [
    {
     "name": "stdout",
     "output_type": "stream",
     "text": [
      "True\n",
      "True\n",
      "True\n"
     ]
    }
   ],
   "source": [
    "str5 = '12345'\n",
    "print(str5.isdecimal())\n",
    "print(str5.isdigit())\n",
    "print(str5.isnumeric())"
   ]
  },
  {
   "cell_type": "code",
   "execution_count": 79,
   "id": "a8111733",
   "metadata": {},
   "outputs": [
    {
     "name": "stdout",
     "output_type": "stream",
     "text": [
      "False\n",
      "False\n",
      "False\n"
     ]
    }
   ],
   "source": [
    "str5 = '123 45'\n",
    "print(str5.isdecimal())\n",
    "print(str5.isdigit())\n",
    "print(str5.isnumeric())"
   ]
  },
  {
   "cell_type": "code",
   "execution_count": 80,
   "id": "f7a0cb96",
   "metadata": {},
   "outputs": [
    {
     "name": "stdout",
     "output_type": "stream",
     "text": [
      "False\n",
      "False\n",
      "False\n"
     ]
    }
   ],
   "source": [
    "str5 = '12345$'\n",
    "print(str5.isdecimal())\n",
    "print(str5.isdigit())\n",
    "print(str5.isnumeric())"
   ]
  },
  {
   "cell_type": "code",
   "execution_count": 81,
   "id": "0b994572",
   "metadata": {},
   "outputs": [
    {
     "name": "stdout",
     "output_type": "stream",
     "text": [
      "True\n",
      "True\n",
      "True\n"
     ]
    }
   ],
   "source": [
    "str5 = '\\u0032'\n",
    "print(str5.isdecimal())\n",
    "print(str5.isdigit())\n",
    "print(str5.isnumeric())"
   ]
  },
  {
   "cell_type": "code",
   "execution_count": 82,
   "id": "1c9f1507",
   "metadata": {},
   "outputs": [
    {
     "name": "stdout",
     "output_type": "stream",
     "text": [
      "False\n",
      "False\n",
      "True\n"
     ]
    }
   ],
   "source": [
    "str5 = '\\u00BD'    # vulgar fraction\n",
    "print(str5.isdecimal())\n",
    "print(str5.isdigit())\n",
    "print(str5.isnumeric())"
   ]
  },
  {
   "cell_type": "code",
   "execution_count": 83,
   "id": "03d1f70f",
   "metadata": {},
   "outputs": [
    {
     "name": "stdout",
     "output_type": "stream",
     "text": [
      "False\n",
      "True\n",
      "True\n"
     ]
    }
   ],
   "source": [
    "str5 = '\\u00B2'\n",
    "print(str5.isdecimal())\n",
    "print(str5.isdigit())\n",
    "print(str5.isnumeric())"
   ]
  },
  {
   "cell_type": "markdown",
   "id": "fb768f65",
   "metadata": {},
   "source": [
    "## 22. islower()"
   ]
  },
  {
   "cell_type": "code",
   "execution_count": null,
   "id": "d3a1402d",
   "metadata": {},
   "outputs": [],
   "source": [
    "True /False\n",
    "True >> if all alphabets are in lower case\n",
    "space and special char is allowed"
   ]
  },
  {
   "cell_type": "code",
   "execution_count": 84,
   "id": "10f7c0da",
   "metadata": {},
   "outputs": [
    {
     "data": {
      "text/plain": [
       "True"
      ]
     },
     "execution_count": 84,
     "metadata": {},
     "output_type": "execute_result"
    }
   ],
   "source": [
    "str2 = 'python'\n",
    "str2.islower()"
   ]
  },
  {
   "cell_type": "code",
   "execution_count": 85,
   "id": "bcee5957",
   "metadata": {},
   "outputs": [
    {
     "data": {
      "text/plain": [
       "False"
      ]
     },
     "execution_count": 85,
     "metadata": {},
     "output_type": "execute_result"
    }
   ],
   "source": [
    "str2 = 'Python'\n",
    "str2.islower()"
   ]
  },
  {
   "cell_type": "code",
   "execution_count": 86,
   "id": "b6468278",
   "metadata": {},
   "outputs": [
    {
     "data": {
      "text/plain": [
       "True"
      ]
     },
     "execution_count": 86,
     "metadata": {},
     "output_type": "execute_result"
    }
   ],
   "source": [
    "str2 = '@ython'\n",
    "str2.islower()"
   ]
  },
  {
   "cell_type": "code",
   "execution_count": 87,
   "id": "9f212ca3",
   "metadata": {},
   "outputs": [
    {
     "data": {
      "text/plain": [
       "True"
      ]
     },
     "execution_count": 87,
     "metadata": {},
     "output_type": "execute_result"
    }
   ],
   "source": [
    "str2 = 'p ython'\n",
    "str2.islower()"
   ]
  },
  {
   "cell_type": "code",
   "execution_count": 88,
   "id": "7e1d6860",
   "metadata": {},
   "outputs": [
    {
     "data": {
      "text/plain": [
       "False"
      ]
     },
     "execution_count": 88,
     "metadata": {},
     "output_type": "execute_result"
    }
   ],
   "source": [
    "str2 = '@#$'\n",
    "str2.islower()"
   ]
  },
  {
   "cell_type": "code",
   "execution_count": 89,
   "id": "c529063c",
   "metadata": {},
   "outputs": [
    {
     "data": {
      "text/plain": [
       "True"
      ]
     },
     "execution_count": 89,
     "metadata": {},
     "output_type": "execute_result"
    }
   ],
   "source": [
    "str2 = '1lower'\n",
    "str2.islower()"
   ]
  },
  {
   "cell_type": "code",
   "execution_count": 90,
   "id": "6e563985",
   "metadata": {},
   "outputs": [
    {
     "data": {
      "text/plain": [
       "False"
      ]
     },
     "execution_count": 90,
     "metadata": {},
     "output_type": "execute_result"
    }
   ],
   "source": [
    "str2 = 'Datascience'\n",
    "str2.islower()"
   ]
  },
  {
   "cell_type": "code",
   "execution_count": 91,
   "id": "846e567d",
   "metadata": {},
   "outputs": [
    {
     "data": {
      "text/plain": [
       "False"
      ]
     },
     "execution_count": 91,
     "metadata": {},
     "output_type": "execute_result"
    }
   ],
   "source": [
    "str2 = 'datasciencE'\n",
    "str2.islower()"
   ]
  },
  {
   "cell_type": "code",
   "execution_count": 92,
   "id": "aae4a567",
   "metadata": {},
   "outputs": [
    {
     "data": {
      "text/plain": [
       "False"
      ]
     },
     "execution_count": 92,
     "metadata": {},
     "output_type": "execute_result"
    }
   ],
   "source": [
    "str2 = '     '\n",
    "str2.islower()"
   ]
  },
  {
   "cell_type": "markdown",
   "id": "931f7e06",
   "metadata": {},
   "source": [
    "## 23. isupper"
   ]
  },
  {
   "cell_type": "code",
   "execution_count": null,
   "id": "6cadafd4",
   "metadata": {},
   "outputs": [],
   "source": [
    "True /False\n",
    "True >> if all alphabets are in upper case\n",
    "space and special char is allowed"
   ]
  },
  {
   "cell_type": "code",
   "execution_count": 93,
   "id": "95c47990",
   "metadata": {},
   "outputs": [
    {
     "data": {
      "text/plain": [
       "False"
      ]
     },
     "execution_count": 93,
     "metadata": {},
     "output_type": "execute_result"
    }
   ],
   "source": [
    "str1 = 'python'\n",
    "str1.isupper()"
   ]
  },
  {
   "cell_type": "code",
   "execution_count": 94,
   "id": "1057c377",
   "metadata": {},
   "outputs": [
    {
     "data": {
      "text/plain": [
       "True"
      ]
     },
     "execution_count": 94,
     "metadata": {},
     "output_type": "execute_result"
    }
   ],
   "source": [
    "str1 = 'PYTHON'\n",
    "str1.isupper()"
   ]
  },
  {
   "cell_type": "code",
   "execution_count": 95,
   "id": "7df55e4a",
   "metadata": {},
   "outputs": [
    {
     "data": {
      "text/plain": [
       "True"
      ]
     },
     "execution_count": 95,
     "metadata": {},
     "output_type": "execute_result"
    }
   ],
   "source": [
    "str1 = 'PY1THON'\n",
    "str1.isupper()"
   ]
  },
  {
   "cell_type": "code",
   "execution_count": 96,
   "id": "beb4ba2a",
   "metadata": {},
   "outputs": [
    {
     "data": {
      "text/plain": [
       "True"
      ]
     },
     "execution_count": 96,
     "metadata": {},
     "output_type": "execute_result"
    }
   ],
   "source": [
    "str1 = 'PY@THON'\n",
    "str1.isupper()"
   ]
  },
  {
   "cell_type": "code",
   "execution_count": 97,
   "id": "3ab11b97",
   "metadata": {},
   "outputs": [
    {
     "data": {
      "text/plain": [
       "True"
      ]
     },
     "execution_count": 97,
     "metadata": {},
     "output_type": "execute_result"
    }
   ],
   "source": [
    "str1 = 'PY THON'\n",
    "str1.isupper()"
   ]
  },
  {
   "cell_type": "code",
   "execution_count": 98,
   "id": "5b14ed86",
   "metadata": {},
   "outputs": [
    {
     "data": {
      "text/plain": [
       "False"
      ]
     },
     "execution_count": 98,
     "metadata": {},
     "output_type": "execute_result"
    }
   ],
   "source": [
    "str1 = '@#$'\n",
    "str1.isupper()"
   ]
  },
  {
   "cell_type": "markdown",
   "id": "8ef43e21",
   "metadata": {},
   "source": [
    "## 24. istitle()"
   ]
  },
  {
   "cell_type": "code",
   "execution_count": 99,
   "id": "ac43adef",
   "metadata": {},
   "outputs": [
    {
     "data": {
      "text/plain": [
       "True"
      ]
     },
     "execution_count": 99,
     "metadata": {},
     "output_type": "execute_result"
    }
   ],
   "source": [
    "str3 = 'Data Science'\n",
    "str3.istitle()"
   ]
  },
  {
   "cell_type": "code",
   "execution_count": 100,
   "id": "4b01178f",
   "metadata": {},
   "outputs": [
    {
     "data": {
      "text/plain": [
       "False"
      ]
     },
     "execution_count": 100,
     "metadata": {},
     "output_type": "execute_result"
    }
   ],
   "source": [
    "str3 = 'Data science'\n",
    "str3.istitle()"
   ]
  },
  {
   "cell_type": "code",
   "execution_count": 101,
   "id": "61049b19",
   "metadata": {},
   "outputs": [
    {
     "data": {
      "text/plain": [
       "False"
      ]
     },
     "execution_count": 101,
     "metadata": {},
     "output_type": "execute_result"
    }
   ],
   "source": [
    "str3 = 'Data science #@'\n",
    "str3.istitle()"
   ]
  },
  {
   "cell_type": "code",
   "execution_count": 102,
   "id": "28481d0e",
   "metadata": {},
   "outputs": [
    {
     "data": {
      "text/plain": [
       "True"
      ]
     },
     "execution_count": 102,
     "metadata": {},
     "output_type": "execute_result"
    }
   ],
   "source": [
    "str3 = 'Data Science #@'\n",
    "str3.istitle()"
   ]
  },
  {
   "cell_type": "code",
   "execution_count": 103,
   "id": "51be522e",
   "metadata": {},
   "outputs": [
    {
     "data": {
      "text/plain": [
       "'Data Science #@'"
      ]
     },
     "execution_count": 103,
     "metadata": {},
     "output_type": "execute_result"
    }
   ],
   "source": [
    "str3 = 'Data science #@'\n",
    "str3.title()"
   ]
  },
  {
   "cell_type": "markdown",
   "id": "ecb41b06",
   "metadata": {},
   "source": [
    "## 25. isspace()"
   ]
  },
  {
   "cell_type": "code",
   "execution_count": null,
   "id": "3382b2d2",
   "metadata": {},
   "outputs": [],
   "source": [
    "True >> if string comtains only spaces"
   ]
  },
  {
   "cell_type": "code",
   "execution_count": 104,
   "id": "cff9d182",
   "metadata": {},
   "outputs": [
    {
     "data": {
      "text/plain": [
       "True"
      ]
     },
     "execution_count": 104,
     "metadata": {},
     "output_type": "execute_result"
    }
   ],
   "source": [
    "str1 = '      '\n",
    "str1.isspace()"
   ]
  },
  {
   "cell_type": "code",
   "execution_count": 105,
   "id": "6f2ba323",
   "metadata": {},
   "outputs": [
    {
     "data": {
      "text/plain": [
       "True"
      ]
     },
     "execution_count": 105,
     "metadata": {},
     "output_type": "execute_result"
    }
   ],
   "source": [
    "str1 = ' '\n",
    "str1.isspace()"
   ]
  },
  {
   "cell_type": "code",
   "execution_count": 106,
   "id": "aeed4b83",
   "metadata": {},
   "outputs": [
    {
     "data": {
      "text/plain": [
       "False"
      ]
     },
     "execution_count": 106,
     "metadata": {},
     "output_type": "execute_result"
    }
   ],
   "source": [
    "str1 = ''\n",
    "str1.isspace()"
   ]
  },
  {
   "cell_type": "code",
   "execution_count": 107,
   "id": "6a607438",
   "metadata": {},
   "outputs": [
    {
     "data": {
      "text/plain": [
       "False"
      ]
     },
     "execution_count": 107,
     "metadata": {},
     "output_type": "execute_result"
    }
   ],
   "source": [
    "str1 = '                1'\n",
    "str1.isspace()"
   ]
  },
  {
   "cell_type": "code",
   "execution_count": 108,
   "id": "9d5a150f",
   "metadata": {},
   "outputs": [
    {
     "data": {
      "text/plain": [
       "False"
      ]
     },
     "execution_count": 108,
     "metadata": {},
     "output_type": "execute_result"
    }
   ],
   "source": [
    "str1 = '           a'\n",
    "str1.isspace()"
   ]
  },
  {
   "cell_type": "code",
   "execution_count": 117,
   "id": "e1a08a2c",
   "metadata": {},
   "outputs": [],
   "source": [
    "string = '''Data science is an interdisciplinary field that uses scientific methods,\n",
    "   \n",
    "    \n",
    "processes, algorithms and systems to extract knowledge and insights from noisy,\n",
    "       \n",
    "structured and unstructured data, and apply knowledge and actionable insights \n",
    "     \n",
    "   \n",
    "from data across a broad range of application domains.'''"
   ]
  },
  {
   "cell_type": "code",
   "execution_count": 118,
   "id": "d745dd93",
   "metadata": {},
   "outputs": [
    {
     "name": "stdout",
     "output_type": "stream",
     "text": [
      "9\n",
      "['Data science is an interdisciplinary field that uses scientific methods,', '   ', '    ', 'processes, algorithms and systems to extract knowledge and insights from noisy,', '       ', 'structured and unstructured data, and apply knowledge and actionable insights ', '     ', '   ', 'from data across a broad range of application domains.']\n"
     ]
    }
   ],
   "source": [
    "list1 = string.split('\\n')\n",
    "print(len(list1))\n",
    "print(list1)"
   ]
  },
  {
   "cell_type": "code",
   "execution_count": 120,
   "id": "fc3be7de",
   "metadata": {},
   "outputs": [
    {
     "name": "stdout",
     "output_type": "stream",
     "text": [
      "Line is : Data science is an interdisciplinary field that uses scientific methods,\n",
      "Line is : processes, algorithms and systems to extract knowledge and insights from noisy,\n",
      "Line is : structured and unstructured data, and apply knowledge and actionable insights \n",
      "Line is : from data across a broad range of application domains.\n"
     ]
    }
   ],
   "source": [
    "for line in list1:\n",
    "    if not line.isspace():  # not \n",
    "        print('Line is :', line)"
   ]
  },
  {
   "cell_type": "code",
   "execution_count": null,
   "id": "65be11cc",
   "metadata": {},
   "outputs": [],
   "source": [
    "Web scraping >> website extract"
   ]
  },
  {
   "cell_type": "markdown",
   "id": "503cf2fe",
   "metadata": {},
   "source": [
    "## 26. zfill()"
   ]
  },
  {
   "cell_type": "code",
   "execution_count": null,
   "id": "2fd0299c",
   "metadata": {},
   "outputs": [],
   "source": [
    "zero filling"
   ]
  },
  {
   "cell_type": "code",
   "execution_count": 121,
   "id": "0aa9f5f5",
   "metadata": {},
   "outputs": [
    {
     "data": {
      "text/plain": [
       "'0000python'"
      ]
     },
     "execution_count": 121,
     "metadata": {},
     "output_type": "execute_result"
    }
   ],
   "source": [
    "str1 = 'python'  # 6\n",
    "str1.zfill(10)"
   ]
  },
  {
   "cell_type": "code",
   "execution_count": 122,
   "id": "6c30c520",
   "metadata": {},
   "outputs": [
    {
     "data": {
      "text/plain": [
       "'000000000python'"
      ]
     },
     "execution_count": 122,
     "metadata": {},
     "output_type": "execute_result"
    }
   ],
   "source": [
    "str1 = 'python'  # 6\n",
    "str1.zfill(15)"
   ]
  },
  {
   "cell_type": "code",
   "execution_count": 123,
   "id": "676ba90a",
   "metadata": {},
   "outputs": [
    {
     "data": {
      "text/plain": [
       "'000000000000000000000python Data Science'"
      ]
     },
     "execution_count": 123,
     "metadata": {},
     "output_type": "execute_result"
    }
   ],
   "source": [
    "str1 = 'python Data Science'  # 6\n",
    "str1.zfill(40)"
   ]
  },
  {
   "cell_type": "code",
   "execution_count": 124,
   "id": "309bcebc",
   "metadata": {},
   "outputs": [
    {
     "data": {
      "text/plain": [
       "'python'"
      ]
     },
     "execution_count": 124,
     "metadata": {},
     "output_type": "execute_result"
    }
   ],
   "source": [
    "str1 = 'python'  # 6\n",
    "str1.zfill(6)"
   ]
  },
  {
   "cell_type": "code",
   "execution_count": 125,
   "id": "03246070",
   "metadata": {},
   "outputs": [
    {
     "data": {
      "text/plain": [
       "'python'"
      ]
     },
     "execution_count": 125,
     "metadata": {},
     "output_type": "execute_result"
    }
   ],
   "source": [
    "str1 = 'python'  # 6\n",
    "str1.zfill(5)"
   ]
  },
  {
   "cell_type": "code",
   "execution_count": 126,
   "id": "d6d4cffa",
   "metadata": {},
   "outputs": [
    {
     "data": {
      "text/plain": [
       "10"
      ]
     },
     "execution_count": 126,
     "metadata": {},
     "output_type": "execute_result"
    }
   ],
   "source": [
    "s = '        hi'\n",
    "len(s)"
   ]
  },
  {
   "cell_type": "markdown",
   "id": "1ab847a8",
   "metadata": {},
   "source": [
    "## 27. centre()"
   ]
  },
  {
   "cell_type": "code",
   "execution_count": 127,
   "id": "a32d0d33",
   "metadata": {},
   "outputs": [
    {
     "data": {
      "text/plain": [
       "' velocity '"
      ]
     },
     "execution_count": 127,
     "metadata": {},
     "output_type": "execute_result"
    }
   ],
   "source": [
    "str1 = 'velocity'\n",
    "str1.center(10)"
   ]
  },
  {
   "cell_type": "code",
   "execution_count": 128,
   "id": "d4299b46",
   "metadata": {},
   "outputs": [
    {
     "data": {
      "text/plain": [
       "'      velocity      '"
      ]
     },
     "execution_count": 128,
     "metadata": {},
     "output_type": "execute_result"
    }
   ],
   "source": [
    "str1 = 'velocity'\n",
    "str1.center(20)"
   ]
  },
  {
   "cell_type": "code",
   "execution_count": 129,
   "id": "1d673dc4",
   "metadata": {},
   "outputs": [
    {
     "data": {
      "text/plain": [
       "'      velocity     '"
      ]
     },
     "execution_count": 129,
     "metadata": {},
     "output_type": "execute_result"
    }
   ],
   "source": [
    "str1 = 'velocity'\n",
    "str1.center(19)"
   ]
  },
  {
   "cell_type": "code",
   "execution_count": null,
   "id": "dabaed7d",
   "metadata": {},
   "outputs": [],
   "source": [
    "str1 = 'velocity'\n",
    "str1.center(19)"
   ]
  },
  {
   "cell_type": "code",
   "execution_count": null,
   "id": "0c3272e7",
   "metadata": {},
   "outputs": [],
   "source": [
    "################ end ##############"
   ]
  },
  {
   "cell_type": "code",
   "execution_count": 130,
   "id": "4fbac7b6",
   "metadata": {},
   "outputs": [
    {
     "data": {
      "text/plain": [
       "'######################Result######################'"
      ]
     },
     "execution_count": 130,
     "metadata": {},
     "output_type": "execute_result"
    }
   ],
   "source": [
    "str1 = 'Result'\n",
    "str1.center(50, '#')"
   ]
  },
  {
   "cell_type": "code",
   "execution_count": 131,
   "id": "c2dc3e70",
   "metadata": {},
   "outputs": [
    {
     "data": {
      "text/plain": [
       "'++++++++++++++++++++++Result++++++++++++++++++++++'"
      ]
     },
     "execution_count": 131,
     "metadata": {},
     "output_type": "execute_result"
    }
   ],
   "source": [
    "str1 = 'Result'\n",
    "str1.center(50, '+')"
   ]
  },
  {
   "cell_type": "code",
   "execution_count": null,
   "id": "f2a0d620",
   "metadata": {},
   "outputs": [],
   "source": []
  }
 ],
 "metadata": {
  "kernelspec": {
   "display_name": "Python 3 (ipykernel)",
   "language": "python",
   "name": "python3"
  },
  "language_info": {
   "codemirror_mode": {
    "name": "ipython",
    "version": 3
   },
   "file_extension": ".py",
   "mimetype": "text/x-python",
   "name": "python",
   "nbconvert_exporter": "python",
   "pygments_lexer": "ipython3",
   "version": "3.9.13"
  }
 },
 "nbformat": 4,
 "nbformat_minor": 5
}
