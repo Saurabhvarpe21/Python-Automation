{
 "cells": [
  {
   "cell_type": "markdown",
   "id": "b2a32f1b",
   "metadata": {},
   "source": [
    "## Datetime Module"
   ]
  },
  {
   "cell_type": "code",
   "execution_count": null,
   "id": "9dda3544",
   "metadata": {},
   "outputs": [],
   "source": [
    "date = '30 May 2022'\n",
    "date = '30-May-2022'\n",
    "date = '30-05-2022'\n",
    "date = '30/05/2022'\n",
    "date = '2022-05-30'"
   ]
  },
  {
   "cell_type": "code",
   "execution_count": 1,
   "id": "f00ece9a",
   "metadata": {},
   "outputs": [],
   "source": [
    "import time\n",
    "import datetime"
   ]
  },
  {
   "cell_type": "markdown",
   "id": "2423823a",
   "metadata": {},
   "source": [
    "## 1. time.time()"
   ]
  },
  {
   "cell_type": "code",
   "execution_count": 3,
   "id": "2c16bf48",
   "metadata": {},
   "outputs": [
    {
     "data": {
      "text/plain": [
       "1653920971.2306821"
      ]
     },
     "execution_count": 3,
     "metadata": {},
     "output_type": "execute_result"
    }
   ],
   "source": [
    "time.time()"
   ]
  },
  {
   "cell_type": "code",
   "execution_count": null,
   "id": "0c7047ca",
   "metadata": {},
   "outputs": [],
   "source": [
    "absolute time >> it is measured from a fixed point (unix epoch >> 1st jan 1970)"
   ]
  },
  {
   "cell_type": "code",
   "execution_count": 5,
   "id": "2d904fb1",
   "metadata": {},
   "outputs": [
    {
     "name": "stdout",
     "output_type": "stream",
     "text": [
      "Start Time :  1653921207.9975765\n",
      "End time :  1653921208.000566\n"
     ]
    }
   ],
   "source": [
    "start_time = time.time()\n",
    "print('Start Time : ', start_time)\n",
    "\n",
    "for i in range(100000):\n",
    "    pass\n",
    "\n",
    "\n",
    "end_time = time.time()\n",
    "print('End time : ',end_time)"
   ]
  },
  {
   "cell_type": "code",
   "execution_count": 10,
   "id": "de94d0b5",
   "metadata": {},
   "outputs": [
    {
     "name": "stdout",
     "output_type": "stream",
     "text": [
      "Start Time :  1653921298.4530196\n",
      "Time taken to execute a code is  :  7.906126260757446\n"
     ]
    }
   ],
   "source": [
    "start_time = time.time()\n",
    "print('Start Time : ', start_time)\n",
    "\n",
    "for i in range(200000000):\n",
    "    pass\n",
    "\n",
    "\n",
    "end_time = time.time()\n",
    "print('Time taken to execute a code is  : ',end_time - start_time)"
   ]
  },
  {
   "cell_type": "code",
   "execution_count": 13,
   "id": "54400469",
   "metadata": {},
   "outputs": [
    {
     "name": "stdout",
     "output_type": "stream",
     "text": [
      "Start Time :  1653921481.3913956\n",
      "Time taken to execute a code is  :  3.5228793621063232\n"
     ]
    }
   ],
   "source": [
    "def test_time():\n",
    "    for i in range(100000000):\n",
    "        pass\n",
    "\n",
    "\n",
    "start_time = time.time()\n",
    "print('Start Time : ', start_time)\n",
    "\n",
    "test_time()\n",
    "test_time()\n",
    "\n",
    "end_time = time.time()\n",
    "print('Time taken to execute a code is  : ',end_time - start_time)"
   ]
  },
  {
   "cell_type": "markdown",
   "id": "d061af52",
   "metadata": {},
   "source": [
    "## 2. time.perf_counter()"
   ]
  },
  {
   "cell_type": "code",
   "execution_count": 14,
   "id": "3dbeca5d",
   "metadata": {},
   "outputs": [
    {
     "name": "stdout",
     "output_type": "stream",
     "text": [
      "Start Time :  1653921552.7230916\n",
      "Time taken to execute a code is  :  3.4834139347076416\n"
     ]
    }
   ],
   "source": [
    "def test_time():\n",
    "    for i in range(100000000):\n",
    "        pass\n",
    "\n",
    "\n",
    "start_time = time.time()\n",
    "print('Start Time : ', start_time)\n",
    "\n",
    "test_time()\n",
    "test_time()\n",
    "\n",
    "end_time = time.time()\n",
    "print('Time taken to execute a code is  : ',end_time - start_time)"
   ]
  },
  {
   "cell_type": "code",
   "execution_count": 15,
   "id": "27942eb1",
   "metadata": {},
   "outputs": [
    {
     "name": "stdout",
     "output_type": "stream",
     "text": [
      "Start Time :  808.9646595\n",
      "Time taken to execute a code is  :  3.7900763999999754\n"
     ]
    }
   ],
   "source": [
    "def test_time():\n",
    "    for i in range(100000000):\n",
    "        pass\n",
    "\n",
    "\n",
    "start_time = time.perf_counter()\n",
    "print('Start Time : ', start_time)\n",
    "\n",
    "test_time()\n",
    "test_time()\n",
    "\n",
    "end_time = time.perf_counter()\n",
    "print('Time taken to execute a code is  : ',end_time - start_time)"
   ]
  },
  {
   "cell_type": "code",
   "execution_count": 16,
   "id": "698535dc",
   "metadata": {},
   "outputs": [
    {
     "data": {
      "text/plain": [
       "854.8721967"
      ]
     },
     "execution_count": 16,
     "metadata": {},
     "output_type": "execute_result"
    }
   ],
   "source": [
    "time.perf_counter()"
   ]
  },
  {
   "cell_type": "code",
   "execution_count": null,
   "id": "db52af0e",
   "metadata": {},
   "outputs": [],
   "source": [
    "# relative time >> it has no relation with real - world time"
   ]
  },
  {
   "cell_type": "code",
   "execution_count": 17,
   "id": "fb5bcf15",
   "metadata": {},
   "outputs": [
    {
     "data": {
      "text/plain": [
       "971159661700"
      ]
     },
     "execution_count": 17,
     "metadata": {},
     "output_type": "execute_result"
    }
   ],
   "source": [
    "time.perf_counter_ns()"
   ]
  },
  {
   "cell_type": "markdown",
   "id": "39a196ff",
   "metadata": {},
   "source": [
    "## 3. time.sleep()"
   ]
  },
  {
   "cell_type": "code",
   "execution_count": 18,
   "id": "37d7e502",
   "metadata": {},
   "outputs": [
    {
     "name": "stdout",
     "output_type": "stream",
     "text": [
      "Hello\n",
      "python\n"
     ]
    }
   ],
   "source": [
    "print('Hello')\n",
    "time.sleep(4)\n",
    "print('python')"
   ]
  },
  {
   "cell_type": "code",
   "execution_count": 19,
   "id": "16156c5d",
   "metadata": {},
   "outputs": [
    {
     "name": "stdout",
     "output_type": "stream",
     "text": [
      "Start Time :  1199.8844765\n",
      "Hii\n",
      "Time taken to execute a code is  :  4.0020291000000725\n"
     ]
    }
   ],
   "source": [
    "def test_time():\n",
    "    print('Hii')\n",
    "    time.sleep(4)\n",
    "    \n",
    "start_time = time.perf_counter()\n",
    "print('Start Time : ', start_time)\n",
    "\n",
    "test_time()\n",
    "\n",
    "end_time = time.perf_counter()\n",
    "print('Time taken to execute a code is  : ',end_time - start_time)"
   ]
  },
  {
   "cell_type": "code",
   "execution_count": 20,
   "id": "1bb4c9a2",
   "metadata": {},
   "outputs": [
    {
     "name": "stdout",
     "output_type": "stream",
     "text": [
      "Start Time :  1232.8657466\n",
      "Hii\n",
      "Hii\n",
      "Time taken to execute a code is  :  8.008240900000146\n"
     ]
    }
   ],
   "source": [
    "def test_time():\n",
    "    print('Hii')\n",
    "    time.sleep(4)\n",
    "    \n",
    "start_time = time.perf_counter()\n",
    "print('Start Time : ', start_time)\n",
    "\n",
    "test_time()\n",
    "test_time()\n",
    "\n",
    "end_time = time.perf_counter()\n",
    "print('Time taken to execute a code is  : ',end_time - start_time)"
   ]
  },
  {
   "cell_type": "markdown",
   "id": "0e8ad063",
   "metadata": {},
   "source": [
    "\n",
    "# Datetime"
   ]
  },
  {
   "cell_type": "markdown",
   "id": "94c56337",
   "metadata": {},
   "source": [
    "## 1. Current Datetime()"
   ]
  },
  {
   "cell_type": "code",
   "execution_count": 22,
   "id": "e310c1b7",
   "metadata": {},
   "outputs": [
    {
     "name": "stdout",
     "output_type": "stream",
     "text": [
      "Current Time : 2022-05-30 20:19:44.340865\n"
     ]
    }
   ],
   "source": [
    "current_time = datetime.datetime.now()\n",
    "print('Current Time :', current_time)"
   ]
  },
  {
   "cell_type": "code",
   "execution_count": 23,
   "id": "be8ae786",
   "metadata": {},
   "outputs": [
    {
     "name": "stdout",
     "output_type": "stream",
     "text": [
      "Current Time : 2022-05-30 20:20:03.503920\n"
     ]
    }
   ],
   "source": [
    "current_time = datetime.datetime.now()\n",
    "print('Current Time :', current_time)"
   ]
  },
  {
   "cell_type": "code",
   "execution_count": 24,
   "id": "62ff75af",
   "metadata": {},
   "outputs": [
    {
     "name": "stdout",
     "output_type": "stream",
     "text": [
      "Current Time : 2022-05-30 20:20:34.321662\n"
     ]
    }
   ],
   "source": [
    "current_time = datetime.datetime.today()\n",
    "print('Current Time :', current_time)"
   ]
  },
  {
   "cell_type": "code",
   "execution_count": 25,
   "id": "f723b958",
   "metadata": {},
   "outputs": [
    {
     "data": {
      "text/plain": [
       "datetime.datetime(2022, 5, 30, 20, 20, 34, 321662)"
      ]
     },
     "execution_count": 25,
     "metadata": {},
     "output_type": "execute_result"
    }
   ],
   "source": [
    "current_time"
   ]
  },
  {
   "cell_type": "code",
   "execution_count": 26,
   "id": "97d14f8e",
   "metadata": {},
   "outputs": [
    {
     "data": {
      "text/plain": [
       "datetime.datetime"
      ]
     },
     "execution_count": 26,
     "metadata": {},
     "output_type": "execute_result"
    }
   ],
   "source": [
    "type(current_time)"
   ]
  },
  {
   "cell_type": "code",
   "execution_count": 27,
   "id": "e1aa06ea",
   "metadata": {},
   "outputs": [
    {
     "data": {
      "text/plain": [
       "datetime.datetime(2022, 5, 30, 20, 21, 35, 615593)"
      ]
     },
     "execution_count": 27,
     "metadata": {},
     "output_type": "execute_result"
    }
   ],
   "source": [
    "current_time = datetime.datetime.today()\n",
    "current_time"
   ]
  },
  {
   "cell_type": "code",
   "execution_count": 28,
   "id": "9636d568",
   "metadata": {},
   "outputs": [
    {
     "data": {
      "text/plain": [
       "2022"
      ]
     },
     "execution_count": 28,
     "metadata": {},
     "output_type": "execute_result"
    }
   ],
   "source": [
    "current_time.year"
   ]
  },
  {
   "cell_type": "code",
   "execution_count": 29,
   "id": "0c80b052",
   "metadata": {},
   "outputs": [
    {
     "data": {
      "text/plain": [
       "5"
      ]
     },
     "execution_count": 29,
     "metadata": {},
     "output_type": "execute_result"
    }
   ],
   "source": [
    "current_time.month"
   ]
  },
  {
   "cell_type": "code",
   "execution_count": 30,
   "id": "568b3d3b",
   "metadata": {},
   "outputs": [
    {
     "data": {
      "text/plain": [
       "30"
      ]
     },
     "execution_count": 30,
     "metadata": {},
     "output_type": "execute_result"
    }
   ],
   "source": [
    "current_time.day"
   ]
  },
  {
   "cell_type": "code",
   "execution_count": 31,
   "id": "08295aeb",
   "metadata": {},
   "outputs": [
    {
     "data": {
      "text/plain": [
       "20"
      ]
     },
     "execution_count": 31,
     "metadata": {},
     "output_type": "execute_result"
    }
   ],
   "source": [
    "current_time.hour"
   ]
  },
  {
   "cell_type": "code",
   "execution_count": 32,
   "id": "c0b5233f",
   "metadata": {},
   "outputs": [
    {
     "data": {
      "text/plain": [
       "21"
      ]
     },
     "execution_count": 32,
     "metadata": {},
     "output_type": "execute_result"
    }
   ],
   "source": [
    "current_time.minute"
   ]
  },
  {
   "cell_type": "code",
   "execution_count": 34,
   "id": "f8773f87",
   "metadata": {},
   "outputs": [
    {
     "name": "stdout",
     "output_type": "stream",
     "text": [
      "Today\"s date : 2022-05-30\n"
     ]
    }
   ],
   "source": [
    "today_date = datetime.datetime.today().date()\n",
    "print('Today\"s date :',today_date)"
   ]
  },
  {
   "cell_type": "code",
   "execution_count": 35,
   "id": "b04c40d7",
   "metadata": {},
   "outputs": [
    {
     "name": "stdout",
     "output_type": "stream",
     "text": [
      "Today\"s date : 20:23:41.077456\n"
     ]
    }
   ],
   "source": [
    "today_date = datetime.datetime.today().time()\n",
    "print('Today\"s date :',today_date)"
   ]
  },
  {
   "cell_type": "markdown",
   "id": "5517cda6",
   "metadata": {},
   "source": [
    "## Timedelta"
   ]
  },
  {
   "cell_type": "code",
   "execution_count": 36,
   "id": "f001eed0",
   "metadata": {},
   "outputs": [
    {
     "name": "stdout",
     "output_type": "stream",
     "text": [
      "Current Time : 2022-05-30 20:24:54.352876\n"
     ]
    }
   ],
   "source": [
    "current_time = datetime.datetime.today()\n",
    "print('Current Time :', current_time)"
   ]
  },
  {
   "cell_type": "code",
   "execution_count": 37,
   "id": "00cbd316",
   "metadata": {},
   "outputs": [
    {
     "name": "stdout",
     "output_type": "stream",
     "text": [
      "2022-06-09 20:24:54.352876\n"
     ]
    }
   ],
   "source": [
    "new_date = current_time + datetime.timedelta(days=10)\n",
    "print(new_date)"
   ]
  },
  {
   "cell_type": "code",
   "execution_count": 38,
   "id": "d68dcf47",
   "metadata": {},
   "outputs": [
    {
     "name": "stdout",
     "output_type": "stream",
     "text": [
      "2022-09-27 20:24:54.352876\n"
     ]
    }
   ],
   "source": [
    "new_date = current_time + datetime.timedelta(days=120)\n",
    "print(new_date)"
   ]
  },
  {
   "cell_type": "code",
   "execution_count": 39,
   "id": "6c8ca845",
   "metadata": {},
   "outputs": [
    {
     "name": "stdout",
     "output_type": "stream",
     "text": [
      "2023-05-30 20:24:54.352876\n"
     ]
    }
   ],
   "source": [
    "new_date = current_time + datetime.timedelta(days=365)\n",
    "print(new_date)"
   ]
  },
  {
   "cell_type": "code",
   "execution_count": 40,
   "id": "cfd70291",
   "metadata": {},
   "outputs": [
    {
     "name": "stdout",
     "output_type": "stream",
     "text": [
      "2022-05-29 20:24:54.352876\n"
     ]
    }
   ],
   "source": [
    "new_date = current_time + datetime.timedelta(days=-1)\n",
    "print(new_date)"
   ]
  },
  {
   "cell_type": "code",
   "execution_count": 41,
   "id": "84944bd3",
   "metadata": {},
   "outputs": [
    {
     "name": "stdout",
     "output_type": "stream",
     "text": [
      "2022-04-30 20:24:54.352876\n"
     ]
    }
   ],
   "source": [
    "new_date = current_time + datetime.timedelta(days=-30)\n",
    "print(new_date)"
   ]
  },
  {
   "cell_type": "code",
   "execution_count": 42,
   "id": "11f26f34",
   "metadata": {},
   "outputs": [
    {
     "name": "stdout",
     "output_type": "stream",
     "text": [
      "2022-06-13 20:24:54.352876\n"
     ]
    }
   ],
   "source": [
    "new_date = current_time + datetime.timedelta(weeks = 2)\n",
    "print(new_date)"
   ]
  },
  {
   "cell_type": "code",
   "execution_count": 43,
   "id": "3870623e",
   "metadata": {},
   "outputs": [
    {
     "name": "stdout",
     "output_type": "stream",
     "text": [
      "2022-05-16 20:24:54.352876\n"
     ]
    }
   ],
   "source": [
    "new_date = current_time + datetime.timedelta(weeks = -2)\n",
    "print(new_date)"
   ]
  },
  {
   "cell_type": "code",
   "execution_count": 44,
   "id": "5defcf56",
   "metadata": {},
   "outputs": [
    {
     "name": "stdout",
     "output_type": "stream",
     "text": [
      "2022-05-30 23:29:23.182152\n"
     ]
    }
   ],
   "source": [
    "current_time = datetime.datetime.today()\n",
    "new_date = current_time + datetime.timedelta(hours = 3)\n",
    "print(new_date)"
   ]
  },
  {
   "cell_type": "code",
   "execution_count": 47,
   "id": "5e64d6fd",
   "metadata": {},
   "outputs": [
    {
     "name": "stdout",
     "output_type": "stream",
     "text": [
      "2022-05-30 20:34:09.940755\n",
      "2022-05-31 20:34:09.940755\n",
      "2022-06-01 20:34:09.940755\n",
      "2022-06-02 20:34:09.940755\n",
      "2022-06-03 20:34:09.940755\n"
     ]
    }
   ],
   "source": [
    "current_time=datetime.datetime.today()\n",
    "for i in range(5):\n",
    "    new_date=current_time+datetime.timedelta(days=i)\n",
    "    print(new_date)"
   ]
  },
  {
   "cell_type": "code",
   "execution_count": 48,
   "id": "9d61e1d1",
   "metadata": {},
   "outputs": [
    {
     "name": "stdout",
     "output_type": "stream",
     "text": [
      "2022-05-25 20:34:25.877757\n",
      "2022-05-26 20:34:25.877757\n",
      "2022-05-27 20:34:25.877757\n",
      "2022-05-28 20:34:25.877757\n",
      "2022-05-29 20:34:25.877757\n",
      "2022-05-30 20:34:25.877757\n",
      "2022-05-31 20:34:25.877757\n",
      "2022-06-01 20:34:25.877757\n",
      "2022-06-02 20:34:25.877757\n",
      "2022-06-03 20:34:25.877757\n"
     ]
    }
   ],
   "source": [
    "import datetime\n",
    "current_time=datetime.datetime.today()\n",
    "for i in range(-5,5):\n",
    "    new_date=current_time+datetime.timedelta(days=i)\n",
    "    print(new_date)"
   ]
  },
  {
   "cell_type": "code",
   "execution_count": 49,
   "id": "4137d882",
   "metadata": {},
   "outputs": [
    {
     "name": "stdout",
     "output_type": "stream",
     "text": [
      "2022-05-30 20:34:25.877757\n",
      "2022-05-29 20:34:25.877757\n",
      "2022-05-28 20:34:25.877757\n",
      "2022-05-27 20:34:25.877757\n",
      "2022-05-26 20:34:25.877757\n"
     ]
    }
   ],
   "source": [
    "for i in range(5):\n",
    "    new_date=current_time+datetime.timedelta(days=-i)\n",
    "    print(new_date)"
   ]
  },
  {
   "cell_type": "code",
   "execution_count": 50,
   "id": "29b33421",
   "metadata": {},
   "outputs": [
    {
     "name": "stdout",
     "output_type": "stream",
     "text": [
      "2022-06-04 20:34:25.877757\n",
      "2022-06-03 20:34:25.877757\n",
      "2022-06-02 20:34:25.877757\n",
      "2022-06-01 20:34:25.877757\n",
      "2022-05-31 20:34:25.877757\n"
     ]
    }
   ],
   "source": [
    "for i in range(5,0,-1):\n",
    "    new_date=current_time+datetime.timedelta(days=i)\n",
    "    print(new_date)"
   ]
  },
  {
   "cell_type": "code",
   "execution_count": 51,
   "id": "63345e47",
   "metadata": {},
   "outputs": [
    {
     "name": "stdout",
     "output_type": "stream",
     "text": [
      "2022-05-25 20:34:25.877757\n",
      "2022-05-26 20:34:25.877757\n",
      "2022-05-27 20:34:25.877757\n",
      "2022-05-28 20:34:25.877757\n",
      "2022-05-29 20:34:25.877757\n",
      "2022-05-30 20:34:25.877757\n"
     ]
    }
   ],
   "source": [
    "for i in range(5,-1,-1):\n",
    "    new_date=current_time+datetime.timedelta(days=-i)\n",
    "    print(new_date)"
   ]
  },
  {
   "cell_type": "code",
   "execution_count": 53,
   "id": "ec1c167b",
   "metadata": {},
   "outputs": [
    {
     "name": "stdout",
     "output_type": "stream",
     "text": [
      "2022-05-25\n",
      "2022-05-26\n",
      "2022-05-27\n",
      "2022-05-28\n",
      "2022-05-29\n",
      "2022-05-30\n"
     ]
    }
   ],
   "source": [
    "for i in range(5,-1,-1):\n",
    "    new_date=current_time+datetime.timedelta(days=-i)\n",
    "    print(new_date.date())"
   ]
  },
  {
   "cell_type": "code",
   "execution_count": 55,
   "id": "5810bb88",
   "metadata": {},
   "outputs": [
    {
     "name": "stdout",
     "output_type": "stream",
     "text": [
      "2022-05-25\n",
      "2022-05-26\n",
      "2022-05-27\n",
      "2022-05-28\n",
      "2022-05-29\n",
      "2022-05-30\n"
     ]
    }
   ],
   "source": [
    "current_time=datetime.datetime.today().date()\n",
    "for i in range(5,-1,-1):\n",
    "    new_date=current_time+datetime.timedelta(days=-i)\n",
    "    print(new_date)"
   ]
  },
  {
   "cell_type": "markdown",
   "id": "8065434e",
   "metadata": {},
   "source": [
    "## 1. strftime()"
   ]
  },
  {
   "cell_type": "code",
   "execution_count": null,
   "id": "d708b546",
   "metadata": {},
   "outputs": [],
   "source": [
    "strftime >> string formatter >> string from time object\n",
    "strftime >> datetime object to string string format "
   ]
  },
  {
   "cell_type": "code",
   "execution_count": null,
   "id": "1366d0e4",
   "metadata": {},
   "outputs": [],
   "source": []
  },
  {
   "cell_type": "code",
   "execution_count": 56,
   "id": "2c8d5ee7",
   "metadata": {},
   "outputs": [
    {
     "name": "stdout",
     "output_type": "stream",
     "text": [
      "Today Date and time is: 2022-05-30 20:45:39.557108\n"
     ]
    }
   ],
   "source": [
    "today_date = datetime.datetime.today()\n",
    "print('Today Date and time is:', today_date)"
   ]
  },
  {
   "cell_type": "code",
   "execution_count": 59,
   "id": "dd11d3eb",
   "metadata": {},
   "outputs": [
    {
     "name": "stdout",
     "output_type": "stream",
     "text": [
      "Today Date and time is: 2022-05-30 20:47:04.952557\n"
     ]
    },
    {
     "data": {
      "text/plain": [
       "'22'"
      ]
     },
     "execution_count": 59,
     "metadata": {},
     "output_type": "execute_result"
    }
   ],
   "source": [
    "today_date = datetime.datetime.today()\n",
    "print('Today Date and time is:', today_date)\n",
    "\n",
    "# Year\n",
    "\n",
    "today_date.strftime('%Y')\n",
    "today_date.strftime('%y')"
   ]
  },
  {
   "cell_type": "code",
   "execution_count": 60,
   "id": "0c77ec90",
   "metadata": {},
   "outputs": [
    {
     "data": {
      "text/plain": [
       "datetime.datetime(2022, 5, 30, 20, 47, 4, 952557)"
      ]
     },
     "execution_count": 60,
     "metadata": {},
     "output_type": "execute_result"
    }
   ],
   "source": [
    "today_date"
   ]
  },
  {
   "cell_type": "code",
   "execution_count": 61,
   "id": "26141ebc",
   "metadata": {},
   "outputs": [
    {
     "data": {
      "text/plain": [
       "str"
      ]
     },
     "execution_count": 61,
     "metadata": {},
     "output_type": "execute_result"
    }
   ],
   "source": [
    "type(today_date.strftime('%Y'))"
   ]
  },
  {
   "cell_type": "code",
   "execution_count": 62,
   "id": "facfeeeb",
   "metadata": {},
   "outputs": [
    {
     "data": {
      "text/plain": [
       "'2022'"
      ]
     },
     "execution_count": 62,
     "metadata": {},
     "output_type": "execute_result"
    }
   ],
   "source": [
    "today_date.strftime('%Y')   # Year 2022"
   ]
  },
  {
   "cell_type": "code",
   "execution_count": 63,
   "id": "b4045b49",
   "metadata": {},
   "outputs": [
    {
     "data": {
      "text/plain": [
       "'22'"
      ]
     },
     "execution_count": 63,
     "metadata": {},
     "output_type": "execute_result"
    }
   ],
   "source": [
    "today_date.strftime('%y')   # Year 22"
   ]
  },
  {
   "cell_type": "code",
   "execution_count": 64,
   "id": "333bd8b6",
   "metadata": {},
   "outputs": [
    {
     "data": {
      "text/plain": [
       "'30'"
      ]
     },
     "execution_count": 64,
     "metadata": {},
     "output_type": "execute_result"
    }
   ],
   "source": [
    "today_date.strftime('%d')   # Date"
   ]
  },
  {
   "cell_type": "code",
   "execution_count": 65,
   "id": "67f6fbe4",
   "metadata": {},
   "outputs": [
    {
     "data": {
      "text/plain": [
       "'05'"
      ]
     },
     "execution_count": 65,
     "metadata": {},
     "output_type": "execute_result"
    }
   ],
   "source": [
    "today_date.strftime('%m')   # month in number"
   ]
  },
  {
   "cell_type": "code",
   "execution_count": 66,
   "id": "26b482da",
   "metadata": {},
   "outputs": [
    {
     "data": {
      "text/plain": [
       "'May'"
      ]
     },
     "execution_count": 66,
     "metadata": {},
     "output_type": "execute_result"
    }
   ],
   "source": [
    "today_date.strftime('%b')   # Abbreviated month name"
   ]
  },
  {
   "cell_type": "code",
   "execution_count": 69,
   "id": "a2031560",
   "metadata": {},
   "outputs": [
    {
     "name": "stdout",
     "output_type": "stream",
     "text": [
      "2022-09-19\n"
     ]
    }
   ],
   "source": [
    "new_date = current_time + datetime.timedelta(weeks = 16)\n",
    "print(new_date)"
   ]
  },
  {
   "cell_type": "code",
   "execution_count": 70,
   "id": "98d27e68",
   "metadata": {},
   "outputs": [
    {
     "data": {
      "text/plain": [
       "'Sep'"
      ]
     },
     "execution_count": 70,
     "metadata": {},
     "output_type": "execute_result"
    }
   ],
   "source": [
    "new_date.strftime('%b')  "
   ]
  },
  {
   "cell_type": "code",
   "execution_count": 71,
   "id": "900a5c9c",
   "metadata": {},
   "outputs": [
    {
     "data": {
      "text/plain": [
       "'September'"
      ]
     },
     "execution_count": 71,
     "metadata": {},
     "output_type": "execute_result"
    }
   ],
   "source": [
    "new_date.strftime('%B')  # full month name"
   ]
  },
  {
   "cell_type": "code",
   "execution_count": 72,
   "id": "b16cdda1",
   "metadata": {},
   "outputs": [
    {
     "data": {
      "text/plain": [
       "'09/19/22'"
      ]
     },
     "execution_count": 72,
     "metadata": {},
     "output_type": "execute_result"
    }
   ],
   "source": [
    "new_date.strftime('%D')  # mm/dd/yy"
   ]
  },
  {
   "cell_type": "code",
   "execution_count": 73,
   "id": "af4c7a5a",
   "metadata": {},
   "outputs": [
    {
     "data": {
      "text/plain": [
       "'Mon'"
      ]
     },
     "execution_count": 73,
     "metadata": {},
     "output_type": "execute_result"
    }
   ],
   "source": [
    "today_date.strftime('%a')  # Abbr weekday"
   ]
  },
  {
   "cell_type": "code",
   "execution_count": 74,
   "id": "f3ebe3c2",
   "metadata": {},
   "outputs": [
    {
     "data": {
      "text/plain": [
       "'Monday'"
      ]
     },
     "execution_count": 74,
     "metadata": {},
     "output_type": "execute_result"
    }
   ],
   "source": [
    "today_date.strftime('%A')  #  weekday"
   ]
  },
  {
   "cell_type": "code",
   "execution_count": 75,
   "id": "3477c09e",
   "metadata": {},
   "outputs": [
    {
     "data": {
      "text/plain": [
       "'1'"
      ]
     },
     "execution_count": 75,
     "metadata": {},
     "output_type": "execute_result"
    }
   ],
   "source": [
    "today_date.strftime('%w')  # weekday number"
   ]
  },
  {
   "cell_type": "code",
   "execution_count": 76,
   "id": "4f0049e2",
   "metadata": {},
   "outputs": [
    {
     "data": {
      "text/plain": [
       "'1'"
      ]
     },
     "execution_count": 76,
     "metadata": {},
     "output_type": "execute_result"
    }
   ],
   "source": [
    "new_date.strftime('%w')  # weekday number 0 , 1,2,3,4,5,6"
   ]
  },
  {
   "cell_type": "code",
   "execution_count": 77,
   "id": "ebe8f00b",
   "metadata": {},
   "outputs": [
    {
     "data": {
      "text/plain": [
       "'150'"
      ]
     },
     "execution_count": 77,
     "metadata": {},
     "output_type": "execute_result"
    }
   ],
   "source": [
    "today_date.strftime('%j')  # Day in year"
   ]
  },
  {
   "cell_type": "code",
   "execution_count": 78,
   "id": "21b18ab7",
   "metadata": {},
   "outputs": [
    {
     "data": {
      "text/plain": [
       "'262'"
      ]
     },
     "execution_count": 78,
     "metadata": {},
     "output_type": "execute_result"
    }
   ],
   "source": [
    "new_date.strftime('%j')  # Day in year"
   ]
  },
  {
   "cell_type": "code",
   "execution_count": 79,
   "id": "dfe6e143",
   "metadata": {},
   "outputs": [
    {
     "data": {
      "text/plain": [
       "'PM'"
      ]
     },
     "execution_count": 79,
     "metadata": {},
     "output_type": "execute_result"
    }
   ],
   "source": [
    "today_date.strftime('%p')  # AM/PM"
   ]
  },
  {
   "cell_type": "code",
   "execution_count": 80,
   "id": "2103fde8",
   "metadata": {},
   "outputs": [
    {
     "data": {
      "text/plain": [
       "'22'"
      ]
     },
     "execution_count": 80,
     "metadata": {},
     "output_type": "execute_result"
    }
   ],
   "source": [
    "today_date.strftime('%U')  # week number in year"
   ]
  },
  {
   "cell_type": "code",
   "execution_count": 81,
   "id": "bea89fbf",
   "metadata": {},
   "outputs": [
    {
     "data": {
      "text/plain": [
       "'38'"
      ]
     },
     "execution_count": 81,
     "metadata": {},
     "output_type": "execute_result"
    }
   ],
   "source": [
    "new_date.strftime('%U')  # week number in year"
   ]
  },
  {
   "cell_type": "code",
   "execution_count": 82,
   "id": "177d69d7",
   "metadata": {},
   "outputs": [
    {
     "data": {
      "text/plain": [
       "'20'"
      ]
     },
     "execution_count": 82,
     "metadata": {},
     "output_type": "execute_result"
    }
   ],
   "source": [
    "today_date.strftime('%H')  # hour 24 hrs"
   ]
  },
  {
   "cell_type": "code",
   "execution_count": 83,
   "id": "7eda47b9",
   "metadata": {},
   "outputs": [
    {
     "data": {
      "text/plain": [
       "'08'"
      ]
     },
     "execution_count": 83,
     "metadata": {},
     "output_type": "execute_result"
    }
   ],
   "source": [
    "today_date.strftime('%I')  # hour 12 hrs"
   ]
  },
  {
   "cell_type": "code",
   "execution_count": 85,
   "id": "1392fae0",
   "metadata": {},
   "outputs": [
    {
     "data": {
      "text/plain": [
       "'47'"
      ]
     },
     "execution_count": 85,
     "metadata": {},
     "output_type": "execute_result"
    }
   ],
   "source": [
    "today_date.strftime('%M')  # Minute in number"
   ]
  },
  {
   "cell_type": "code",
   "execution_count": 86,
   "id": "32c8271c",
   "metadata": {},
   "outputs": [
    {
     "data": {
      "text/plain": [
       "datetime.datetime(2022, 5, 30, 20, 47, 4, 952557)"
      ]
     },
     "execution_count": 86,
     "metadata": {},
     "output_type": "execute_result"
    }
   ],
   "source": [
    "today_date"
   ]
  },
  {
   "cell_type": "code",
   "execution_count": 87,
   "id": "7482697d",
   "metadata": {},
   "outputs": [
    {
     "data": {
      "text/plain": [
       "'04'"
      ]
     },
     "execution_count": 87,
     "metadata": {},
     "output_type": "execute_result"
    }
   ],
   "source": [
    "today_date.strftime('%S')  # seconds in number"
   ]
  },
  {
   "cell_type": "code",
   "execution_count": 88,
   "id": "a9c5e15e",
   "metadata": {},
   "outputs": [
    {
     "data": {
      "text/plain": [
       "'952557'"
      ]
     },
     "execution_count": 88,
     "metadata": {},
     "output_type": "execute_result"
    }
   ],
   "source": [
    "today_date.strftime('%f')  # week number in year"
   ]
  },
  {
   "cell_type": "code",
   "execution_count": 89,
   "id": "375b8ca4",
   "metadata": {},
   "outputs": [
    {
     "data": {
      "text/plain": [
       "'22'"
      ]
     },
     "execution_count": 89,
     "metadata": {},
     "output_type": "execute_result"
    }
   ],
   "source": [
    "today_date.strftime('%U')  # week number in year"
   ]
  },
  {
   "cell_type": "code",
   "execution_count": 90,
   "id": "ba115272",
   "metadata": {},
   "outputs": [
    {
     "data": {
      "text/plain": [
       "'22'"
      ]
     },
     "execution_count": 90,
     "metadata": {},
     "output_type": "execute_result"
    }
   ],
   "source": [
    "today_date.strftime('%W')  # week number in year"
   ]
  },
  {
   "cell_type": "code",
   "execution_count": 91,
   "id": "6e560901",
   "metadata": {},
   "outputs": [
    {
     "data": {
      "text/plain": [
       "'Mon May 30 20:47:04 2022'"
      ]
     },
     "execution_count": 91,
     "metadata": {},
     "output_type": "execute_result"
    }
   ],
   "source": [
    "today_date.strftime('%c')  # local appropriate time"
   ]
  },
  {
   "cell_type": "code",
   "execution_count": 92,
   "id": "e205f2d2",
   "metadata": {},
   "outputs": [
    {
     "data": {
      "text/plain": [
       "'05/30/22'"
      ]
     },
     "execution_count": 92,
     "metadata": {},
     "output_type": "execute_result"
    }
   ],
   "source": [
    "today_date.strftime('%x')  # local appropriate date"
   ]
  },
  {
   "cell_type": "code",
   "execution_count": 93,
   "id": "8b1227ed",
   "metadata": {},
   "outputs": [
    {
     "data": {
      "text/plain": [
       "'20:47:04'"
      ]
     },
     "execution_count": 93,
     "metadata": {},
     "output_type": "execute_result"
    }
   ],
   "source": [
    "today_date.strftime('%X')  # local appropriate tine"
   ]
  },
  {
   "cell_type": "code",
   "execution_count": 95,
   "id": "0e8b73b7",
   "metadata": {},
   "outputs": [
    {
     "name": "stdout",
     "output_type": "stream",
     "text": [
      "2022-05-30 21:05:00.309694\n"
     ]
    }
   ],
   "source": [
    "today_date = datetime.datetime.today()\n",
    "print(today_date)"
   ]
  },
  {
   "cell_type": "code",
   "execution_count": 96,
   "id": "73c81942",
   "metadata": {},
   "outputs": [
    {
     "data": {
      "text/plain": [
       "'30-05-2022'"
      ]
     },
     "execution_count": 96,
     "metadata": {},
     "output_type": "execute_result"
    }
   ],
   "source": [
    "today_date.strftime('%d-%m-%Y')"
   ]
  },
  {
   "cell_type": "code",
   "execution_count": 97,
   "id": "94c5197a",
   "metadata": {},
   "outputs": [
    {
     "data": {
      "text/plain": [
       "'30 05 2022'"
      ]
     },
     "execution_count": 97,
     "metadata": {},
     "output_type": "execute_result"
    }
   ],
   "source": [
    "today_date.strftime('%d %m %Y')"
   ]
  },
  {
   "cell_type": "code",
   "execution_count": 98,
   "id": "61c5c697",
   "metadata": {},
   "outputs": [
    {
     "data": {
      "text/plain": [
       "'30 May 2022'"
      ]
     },
     "execution_count": 98,
     "metadata": {},
     "output_type": "execute_result"
    }
   ],
   "source": [
    "today_date.strftime('%d %b %Y')"
   ]
  },
  {
   "cell_type": "code",
   "execution_count": 100,
   "id": "b1ae0b25",
   "metadata": {},
   "outputs": [
    {
     "ename": "ValueError",
     "evalue": "day is out of range for month",
     "output_type": "error",
     "traceback": [
      "\u001b[1;31m---------------------------------------------------------------------------\u001b[0m",
      "\u001b[1;31mValueError\u001b[0m                                Traceback (most recent call last)",
      "\u001b[1;32m<ipython-input-100-34a03eccfe53>\u001b[0m in \u001b[0;36m<module>\u001b[1;34m\u001b[0m\n\u001b[1;32m----> 1\u001b[1;33m \u001b[0mrandom_date\u001b[0m \u001b[1;33m=\u001b[0m \u001b[0mdatetime\u001b[0m\u001b[1;33m.\u001b[0m\u001b[0mdatetime\u001b[0m\u001b[1;33m(\u001b[0m\u001b[1;36m15\u001b[0m\u001b[1;33m,\u001b[0m\u001b[1;36m12\u001b[0m\u001b[1;33m,\u001b[0m\u001b[1;36m2022\u001b[0m\u001b[1;33m)\u001b[0m\u001b[1;33m\u001b[0m\u001b[1;33m\u001b[0m\u001b[0m\n\u001b[0m\u001b[0;32m      2\u001b[0m \u001b[0mprint\u001b[0m\u001b[1;33m(\u001b[0m\u001b[0mrandom_date\u001b[0m\u001b[1;33m)\u001b[0m\u001b[1;33m\u001b[0m\u001b[1;33m\u001b[0m\u001b[0m\n",
      "\u001b[1;31mValueError\u001b[0m: day is out of range for month"
     ]
    }
   ],
   "source": [
    "random_date = datetime.datetime(15,12,2022)\n",
    "print(random_date)"
   ]
  },
  {
   "cell_type": "code",
   "execution_count": 101,
   "id": "42a929a6",
   "metadata": {},
   "outputs": [
    {
     "ename": "ValueError",
     "evalue": "month must be in 1..12",
     "output_type": "error",
     "traceback": [
      "\u001b[1;31m---------------------------------------------------------------------------\u001b[0m",
      "\u001b[1;31mValueError\u001b[0m                                Traceback (most recent call last)",
      "\u001b[1;32m<ipython-input-101-0ca60a7b8572>\u001b[0m in \u001b[0;36m<module>\u001b[1;34m\u001b[0m\n\u001b[1;32m----> 1\u001b[1;33m \u001b[0mrandom_date\u001b[0m \u001b[1;33m=\u001b[0m \u001b[0mdatetime\u001b[0m\u001b[1;33m.\u001b[0m\u001b[0mdatetime\u001b[0m\u001b[1;33m(\u001b[0m\u001b[1;36m2022\u001b[0m\u001b[1;33m,\u001b[0m\u001b[1;36m15\u001b[0m\u001b[1;33m,\u001b[0m\u001b[1;36m12\u001b[0m\u001b[1;33m)\u001b[0m\u001b[1;33m\u001b[0m\u001b[1;33m\u001b[0m\u001b[0m\n\u001b[0m\u001b[0;32m      2\u001b[0m \u001b[0mprint\u001b[0m\u001b[1;33m(\u001b[0m\u001b[0mrandom_date\u001b[0m\u001b[1;33m)\u001b[0m\u001b[1;33m\u001b[0m\u001b[1;33m\u001b[0m\u001b[0m\n",
      "\u001b[1;31mValueError\u001b[0m: month must be in 1..12"
     ]
    }
   ],
   "source": [
    "random_date = datetime.datetime(2022,15,12)\n",
    "print(random_date)"
   ]
  },
  {
   "cell_type": "code",
   "execution_count": 102,
   "id": "8c899676",
   "metadata": {},
   "outputs": [
    {
     "name": "stdout",
     "output_type": "stream",
     "text": [
      "2022-12-15 00:00:00\n"
     ]
    }
   ],
   "source": [
    "random_date = datetime.datetime(2022,12,15)\n",
    "print(random_date)"
   ]
  },
  {
   "cell_type": "code",
   "execution_count": 103,
   "id": "0e6168ba",
   "metadata": {},
   "outputs": [
    {
     "name": "stdout",
     "output_type": "stream",
     "text": [
      "1947-08-15 00:00:00\n"
     ]
    }
   ],
   "source": [
    "random_date = datetime.datetime(1947,8,15)\n",
    "print(random_date)"
   ]
  },
  {
   "cell_type": "code",
   "execution_count": 104,
   "id": "429eb774",
   "metadata": {},
   "outputs": [
    {
     "data": {
      "text/plain": [
       "'Friday'"
      ]
     },
     "execution_count": 104,
     "metadata": {},
     "output_type": "execute_result"
    }
   ],
   "source": [
    "random_date.strftime('%A')"
   ]
  },
  {
   "cell_type": "code",
   "execution_count": 105,
   "id": "7738c1f7",
   "metadata": {},
   "outputs": [
    {
     "data": {
      "text/plain": [
       "'Fri'"
      ]
     },
     "execution_count": 105,
     "metadata": {},
     "output_type": "execute_result"
    }
   ],
   "source": [
    "random_date.strftime('%a')"
   ]
  },
  {
   "cell_type": "markdown",
   "id": "74a4b007",
   "metadata": {},
   "source": [
    "## strptime"
   ]
  },
  {
   "cell_type": "code",
   "execution_count": null,
   "id": "dd4235bb",
   "metadata": {},
   "outputs": [],
   "source": []
  },
  {
   "cell_type": "code",
   "execution_count": null,
   "id": "b500d08c",
   "metadata": {},
   "outputs": [],
   "source": []
  },
  {
   "cell_type": "code",
   "execution_count": null,
   "id": "55c9135e",
   "metadata": {},
   "outputs": [],
   "source": []
  },
  {
   "cell_type": "code",
   "execution_count": null,
   "id": "4c41db96",
   "metadata": {},
   "outputs": [],
   "source": []
  },
  {
   "cell_type": "code",
   "execution_count": null,
   "id": "8bd9007d",
   "metadata": {},
   "outputs": [],
   "source": []
  },
  {
   "cell_type": "code",
   "execution_count": null,
   "id": "5e9c2cb9",
   "metadata": {},
   "outputs": [],
   "source": []
  },
  {
   "cell_type": "code",
   "execution_count": null,
   "id": "373e0919",
   "metadata": {},
   "outputs": [],
   "source": []
  },
  {
   "cell_type": "code",
   "execution_count": null,
   "id": "4b64886c",
   "metadata": {},
   "outputs": [],
   "source": []
  },
  {
   "cell_type": "code",
   "execution_count": null,
   "id": "f2eb4ae7",
   "metadata": {},
   "outputs": [],
   "source": []
  },
  {
   "cell_type": "code",
   "execution_count": null,
   "id": "d29a41de",
   "metadata": {},
   "outputs": [],
   "source": []
  },
  {
   "cell_type": "code",
   "execution_count": null,
   "id": "a962dfec",
   "metadata": {},
   "outputs": [],
   "source": []
  },
  {
   "cell_type": "code",
   "execution_count": null,
   "id": "271a09c8",
   "metadata": {},
   "outputs": [],
   "source": []
  },
  {
   "cell_type": "code",
   "execution_count": null,
   "id": "01c6ec33",
   "metadata": {},
   "outputs": [],
   "source": []
  },
  {
   "cell_type": "code",
   "execution_count": null,
   "id": "1a4e8b88",
   "metadata": {},
   "outputs": [],
   "source": []
  }
 ],
 "metadata": {
  "kernelspec": {
   "display_name": "Python 3",
   "language": "python",
   "name": "python3"
  },
  "language_info": {
   "codemirror_mode": {
    "name": "ipython",
    "version": 3
   },
   "file_extension": ".py",
   "mimetype": "text/x-python",
   "name": "python",
   "nbconvert_exporter": "python",
   "pygments_lexer": "ipython3",
   "version": "3.8.8"
  }
 },
 "nbformat": 4,
 "nbformat_minor": 5
}
