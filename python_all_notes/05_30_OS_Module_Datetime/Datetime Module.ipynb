{
 "cells": [
  {
   "cell_type": "markdown",
   "id": "721d9c61",
   "metadata": {},
   "source": [
    "## Datetime Module"
   ]
  },
  {
   "cell_type": "code",
   "execution_count": null,
   "id": "a143e76a",
   "metadata": {},
   "outputs": [],
   "source": [
    "date = '30 May 2022'\n",
    "date = '30-May-2022'\n",
    "date = '30-05-2022'\n",
    "date = '30/05/2022'\n",
    "date = '2022-05-30'"
   ]
  },
  {
   "cell_type": "code",
   "execution_count": 1,
   "id": "96dbee6b",
   "metadata": {},
   "outputs": [],
   "source": [
    "import time\n",
    "import datetime"
   ]
  },
  {
   "cell_type": "markdown",
   "id": "434e3e39",
   "metadata": {},
   "source": [
    "## 1. time.time()"
   ]
  },
  {
   "cell_type": "code",
   "execution_count": 3,
   "id": "9c2fd676",
   "metadata": {},
   "outputs": [
    {
     "data": {
      "text/plain": [
       "1653920971.2306821"
      ]
     },
     "execution_count": 3,
     "metadata": {},
     "output_type": "execute_result"
    }
   ],
   "source": [
    "time.time()"
   ]
  },
  {
   "cell_type": "code",
   "execution_count": null,
   "id": "7bf0d52d",
   "metadata": {},
   "outputs": [],
   "source": [
    "absolute time >> it is measured from a fixed point (unix epoch >> 1st jan 1970)"
   ]
  },
  {
   "cell_type": "code",
   "execution_count": 5,
   "id": "a648766b",
   "metadata": {},
   "outputs": [
    {
     "name": "stdout",
     "output_type": "stream",
     "text": [
      "Start Time :  1653921207.9975765\n",
      "End time :  1653921208.000566\n"
     ]
    }
   ],
   "source": [
    "start_time = time.time()\n",
    "print('Start Time : ', start_time)\n",
    "\n",
    "for i in range(100000):\n",
    "    pass\n",
    "\n",
    "\n",
    "end_time = time.time()\n",
    "print('End time : ',end_time)"
   ]
  },
  {
   "cell_type": "code",
   "execution_count": 10,
   "id": "1f82832e",
   "metadata": {},
   "outputs": [
    {
     "name": "stdout",
     "output_type": "stream",
     "text": [
      "Start Time :  1653921298.4530196\n",
      "Time taken to execute a code is  :  7.906126260757446\n"
     ]
    }
   ],
   "source": [
    "start_time = time.time()\n",
    "print('Start Time : ', start_time)\n",
    "\n",
    "for i in range(200000000):\n",
    "    pass\n",
    "\n",
    "\n",
    "end_time = time.time()\n",
    "print('Time taken to execute a code is  : ',end_time - start_time)"
   ]
  },
  {
   "cell_type": "code",
   "execution_count": 13,
   "id": "49a098c2",
   "metadata": {},
   "outputs": [
    {
     "name": "stdout",
     "output_type": "stream",
     "text": [
      "Start Time :  1653921481.3913956\n",
      "Time taken to execute a code is  :  3.5228793621063232\n"
     ]
    }
   ],
   "source": [
    "def test_time():\n",
    "    for i in range(100000000):\n",
    "        pass\n",
    "\n",
    "\n",
    "start_time = time.time()\n",
    "print('Start Time : ', start_time)\n",
    "\n",
    "test_time()\n",
    "test_time()\n",
    "\n",
    "end_time = time.time()\n",
    "print('Time taken to execute a code is  : ',end_time - start_time)"
   ]
  },
  {
   "cell_type": "markdown",
   "id": "eb2973d6",
   "metadata": {},
   "source": [
    "## 2. time.perf_counter()"
   ]
  },
  {
   "cell_type": "code",
   "execution_count": 14,
   "id": "7bfbe171",
   "metadata": {},
   "outputs": [
    {
     "name": "stdout",
     "output_type": "stream",
     "text": [
      "Start Time :  1653921552.7230916\n",
      "Time taken to execute a code is  :  3.4834139347076416\n"
     ]
    }
   ],
   "source": [
    "def test_time():\n",
    "    for i in range(100000000):\n",
    "        pass\n",
    "\n",
    "\n",
    "start_time = time.time()\n",
    "print('Start Time : ', start_time)\n",
    "\n",
    "test_time()\n",
    "test_time()\n",
    "\n",
    "end_time = time.time()\n",
    "print('Time taken to execute a code is  : ',end_time - start_time)"
   ]
  },
  {
   "cell_type": "code",
   "execution_count": 15,
   "id": "40c93326",
   "metadata": {},
   "outputs": [
    {
     "name": "stdout",
     "output_type": "stream",
     "text": [
      "Start Time :  808.9646595\n",
      "Time taken to execute a code is  :  3.7900763999999754\n"
     ]
    }
   ],
   "source": [
    "def test_time():\n",
    "    for i in range(100000000):\n",
    "        pass\n",
    "\n",
    "\n",
    "start_time = time.perf_counter()\n",
    "print('Start Time : ', start_time)\n",
    "\n",
    "test_time()\n",
    "test_time()\n",
    "\n",
    "end_time = time.perf_counter()\n",
    "print('Time taken to execute a code is  : ',end_time - start_time)"
   ]
  },
  {
   "cell_type": "code",
   "execution_count": 16,
   "id": "98e8f9c7",
   "metadata": {},
   "outputs": [
    {
     "data": {
      "text/plain": [
       "854.8721967"
      ]
     },
     "execution_count": 16,
     "metadata": {},
     "output_type": "execute_result"
    }
   ],
   "source": [
    "time.perf_counter()"
   ]
  },
  {
   "cell_type": "code",
   "execution_count": null,
   "id": "dd8aa492",
   "metadata": {},
   "outputs": [],
   "source": [
    "# relative time >> it has no relation with real - world time"
   ]
  },
  {
   "cell_type": "code",
   "execution_count": 17,
   "id": "92291951",
   "metadata": {},
   "outputs": [
    {
     "data": {
      "text/plain": [
       "971159661700"
      ]
     },
     "execution_count": 17,
     "metadata": {},
     "output_type": "execute_result"
    }
   ],
   "source": [
    "time.perf_counter_ns()"
   ]
  },
  {
   "cell_type": "markdown",
   "id": "ed77691a",
   "metadata": {},
   "source": [
    "## 3. time.sleep()"
   ]
  },
  {
   "cell_type": "code",
   "execution_count": 18,
   "id": "9897e493",
   "metadata": {},
   "outputs": [
    {
     "name": "stdout",
     "output_type": "stream",
     "text": [
      "Hello\n",
      "python\n"
     ]
    }
   ],
   "source": [
    "print('Hello')\n",
    "time.sleep(4)\n",
    "print('python')"
   ]
  },
  {
   "cell_type": "code",
   "execution_count": 19,
   "id": "19586653",
   "metadata": {},
   "outputs": [
    {
     "name": "stdout",
     "output_type": "stream",
     "text": [
      "Start Time :  1199.8844765\n",
      "Hii\n",
      "Time taken to execute a code is  :  4.0020291000000725\n"
     ]
    }
   ],
   "source": [
    "def test_time():\n",
    "    print('Hii')\n",
    "    time.sleep(4)\n",
    "    \n",
    "start_time = time.perf_counter()\n",
    "print('Start Time : ', start_time)\n",
    "\n",
    "test_time()\n",
    "\n",
    "end_time = time.perf_counter()\n",
    "print('Time taken to execute a code is  : ',end_time - start_time)"
   ]
  },
  {
   "cell_type": "code",
   "execution_count": 20,
   "id": "7a1b22a5",
   "metadata": {},
   "outputs": [
    {
     "name": "stdout",
     "output_type": "stream",
     "text": [
      "Start Time :  1232.8657466\n",
      "Hii\n",
      "Hii\n",
      "Time taken to execute a code is  :  8.008240900000146\n"
     ]
    }
   ],
   "source": [
    "def test_time():\n",
    "    print('Hii')\n",
    "    time.sleep(4)\n",
    "    \n",
    "start_time = time.perf_counter()\n",
    "print('Start Time : ', start_time)\n",
    "\n",
    "test_time()\n",
    "test_time()\n",
    "\n",
    "end_time = time.perf_counter()\n",
    "print('Time taken to execute a code is  : ',end_time - start_time)"
   ]
  },
  {
   "cell_type": "markdown",
   "id": "49e507a1",
   "metadata": {},
   "source": [
    "\n",
    "# Datetime"
   ]
  },
  {
   "cell_type": "markdown",
   "id": "06b98350",
   "metadata": {},
   "source": [
    "## 1. Current Datetime()"
   ]
  },
  {
   "cell_type": "code",
   "execution_count": 22,
   "id": "3a1ad2b9",
   "metadata": {},
   "outputs": [
    {
     "name": "stdout",
     "output_type": "stream",
     "text": [
      "Current Time : 2022-05-30 20:19:44.340865\n"
     ]
    }
   ],
   "source": [
    "current_time = datetime.datetime.now()\n",
    "print('Current Time :', current_time)"
   ]
  },
  {
   "cell_type": "code",
   "execution_count": 23,
   "id": "0c294b02",
   "metadata": {},
   "outputs": [
    {
     "name": "stdout",
     "output_type": "stream",
     "text": [
      "Current Time : 2022-05-30 20:20:03.503920\n"
     ]
    }
   ],
   "source": [
    "current_time = datetime.datetime.now()\n",
    "print('Current Time :', current_time)"
   ]
  },
  {
   "cell_type": "code",
   "execution_count": 24,
   "id": "3386194d",
   "metadata": {},
   "outputs": [
    {
     "name": "stdout",
     "output_type": "stream",
     "text": [
      "Current Time : 2022-05-30 20:20:34.321662\n"
     ]
    }
   ],
   "source": [
    "current_time = datetime.datetime.today()\n",
    "print('Current Time :', current_time)"
   ]
  },
  {
   "cell_type": "code",
   "execution_count": 25,
   "id": "c20508a0",
   "metadata": {},
   "outputs": [
    {
     "data": {
      "text/plain": [
       "datetime.datetime(2022, 5, 30, 20, 20, 34, 321662)"
      ]
     },
     "execution_count": 25,
     "metadata": {},
     "output_type": "execute_result"
    }
   ],
   "source": [
    "current_time"
   ]
  },
  {
   "cell_type": "code",
   "execution_count": 26,
   "id": "31c317d3",
   "metadata": {},
   "outputs": [
    {
     "data": {
      "text/plain": [
       "datetime.datetime"
      ]
     },
     "execution_count": 26,
     "metadata": {},
     "output_type": "execute_result"
    }
   ],
   "source": [
    "type(current_time)"
   ]
  },
  {
   "cell_type": "code",
   "execution_count": 27,
   "id": "51a04132",
   "metadata": {},
   "outputs": [
    {
     "data": {
      "text/plain": [
       "datetime.datetime(2022, 5, 30, 20, 21, 35, 615593)"
      ]
     },
     "execution_count": 27,
     "metadata": {},
     "output_type": "execute_result"
    }
   ],
   "source": [
    "current_time = datetime.datetime.today()\n",
    "current_time"
   ]
  },
  {
   "cell_type": "code",
   "execution_count": 28,
   "id": "1d17d998",
   "metadata": {},
   "outputs": [
    {
     "data": {
      "text/plain": [
       "2022"
      ]
     },
     "execution_count": 28,
     "metadata": {},
     "output_type": "execute_result"
    }
   ],
   "source": [
    "current_time.year"
   ]
  },
  {
   "cell_type": "code",
   "execution_count": 29,
   "id": "31936678",
   "metadata": {},
   "outputs": [
    {
     "data": {
      "text/plain": [
       "5"
      ]
     },
     "execution_count": 29,
     "metadata": {},
     "output_type": "execute_result"
    }
   ],
   "source": [
    "current_time.month"
   ]
  },
  {
   "cell_type": "code",
   "execution_count": 30,
   "id": "3e2cccfa",
   "metadata": {},
   "outputs": [
    {
     "data": {
      "text/plain": [
       "30"
      ]
     },
     "execution_count": 30,
     "metadata": {},
     "output_type": "execute_result"
    }
   ],
   "source": [
    "current_time.day"
   ]
  },
  {
   "cell_type": "code",
   "execution_count": 31,
   "id": "cb68640f",
   "metadata": {},
   "outputs": [
    {
     "data": {
      "text/plain": [
       "20"
      ]
     },
     "execution_count": 31,
     "metadata": {},
     "output_type": "execute_result"
    }
   ],
   "source": [
    "current_time.hour"
   ]
  },
  {
   "cell_type": "code",
   "execution_count": 32,
   "id": "3623e64c",
   "metadata": {},
   "outputs": [
    {
     "data": {
      "text/plain": [
       "21"
      ]
     },
     "execution_count": 32,
     "metadata": {},
     "output_type": "execute_result"
    }
   ],
   "source": [
    "current_time.minute"
   ]
  },
  {
   "cell_type": "code",
   "execution_count": 34,
   "id": "b5d0df20",
   "metadata": {},
   "outputs": [
    {
     "name": "stdout",
     "output_type": "stream",
     "text": [
      "Today\"s date : 2022-05-30\n"
     ]
    }
   ],
   "source": [
    "today_date = datetime.datetime.today().date()\n",
    "print('Today\"s date :',today_date)"
   ]
  },
  {
   "cell_type": "code",
   "execution_count": 35,
   "id": "e2fe5712",
   "metadata": {},
   "outputs": [
    {
     "name": "stdout",
     "output_type": "stream",
     "text": [
      "Today\"s date : 20:23:41.077456\n"
     ]
    }
   ],
   "source": [
    "today_date = datetime.datetime.today().time()\n",
    "print('Today\"s date :',today_date)"
   ]
  },
  {
   "cell_type": "markdown",
   "id": "aafa8580",
   "metadata": {},
   "source": [
    "## Timedelta"
   ]
  },
  {
   "cell_type": "code",
   "execution_count": 36,
   "id": "50738f23",
   "metadata": {},
   "outputs": [
    {
     "name": "stdout",
     "output_type": "stream",
     "text": [
      "Current Time : 2022-05-30 20:24:54.352876\n"
     ]
    }
   ],
   "source": [
    "current_time = datetime.datetime.today()\n",
    "print('Current Time :', current_time)"
   ]
  },
  {
   "cell_type": "code",
   "execution_count": 37,
   "id": "ddb9d668",
   "metadata": {},
   "outputs": [
    {
     "name": "stdout",
     "output_type": "stream",
     "text": [
      "2022-06-09 20:24:54.352876\n"
     ]
    }
   ],
   "source": [
    "new_date = current_time + datetime.timedelta(days=10)\n",
    "print(new_date)"
   ]
  },
  {
   "cell_type": "code",
   "execution_count": 38,
   "id": "75c4beb9",
   "metadata": {},
   "outputs": [
    {
     "name": "stdout",
     "output_type": "stream",
     "text": [
      "2022-09-27 20:24:54.352876\n"
     ]
    }
   ],
   "source": [
    "new_date = current_time + datetime.timedelta(days=120)\n",
    "print(new_date)"
   ]
  },
  {
   "cell_type": "code",
   "execution_count": 39,
   "id": "0e2e7499",
   "metadata": {},
   "outputs": [
    {
     "name": "stdout",
     "output_type": "stream",
     "text": [
      "2023-05-30 20:24:54.352876\n"
     ]
    }
   ],
   "source": [
    "new_date = current_time + datetime.timedelta(days=365)\n",
    "print(new_date)"
   ]
  },
  {
   "cell_type": "code",
   "execution_count": 40,
   "id": "951bec70",
   "metadata": {},
   "outputs": [
    {
     "name": "stdout",
     "output_type": "stream",
     "text": [
      "2022-05-29 20:24:54.352876\n"
     ]
    }
   ],
   "source": [
    "new_date = current_time + datetime.timedelta(days=-1)\n",
    "print(new_date)"
   ]
  },
  {
   "cell_type": "code",
   "execution_count": 41,
   "id": "27939686",
   "metadata": {},
   "outputs": [
    {
     "name": "stdout",
     "output_type": "stream",
     "text": [
      "2022-04-30 20:24:54.352876\n"
     ]
    }
   ],
   "source": [
    "new_date = current_time + datetime.timedelta(days=-30)\n",
    "print(new_date)"
   ]
  },
  {
   "cell_type": "code",
   "execution_count": 42,
   "id": "a7e16545",
   "metadata": {},
   "outputs": [
    {
     "name": "stdout",
     "output_type": "stream",
     "text": [
      "2022-06-13 20:24:54.352876\n"
     ]
    }
   ],
   "source": [
    "new_date = current_time + datetime.timedelta(weeks = 2)\n",
    "print(new_date)"
   ]
  },
  {
   "cell_type": "code",
   "execution_count": 43,
   "id": "43c0806d",
   "metadata": {},
   "outputs": [
    {
     "name": "stdout",
     "output_type": "stream",
     "text": [
      "2022-05-16 20:24:54.352876\n"
     ]
    }
   ],
   "source": [
    "new_date = current_time + datetime.timedelta(weeks = -2)\n",
    "print(new_date)"
   ]
  },
  {
   "cell_type": "code",
   "execution_count": 44,
   "id": "eaa34f08",
   "metadata": {},
   "outputs": [
    {
     "name": "stdout",
     "output_type": "stream",
     "text": [
      "2022-05-30 23:29:23.182152\n"
     ]
    }
   ],
   "source": [
    "current_time = datetime.datetime.today()\n",
    "new_date = current_time + datetime.timedelta(hours = 3)\n",
    "print(new_date)"
   ]
  },
  {
   "cell_type": "code",
   "execution_count": 47,
   "id": "026a71ec",
   "metadata": {},
   "outputs": [
    {
     "name": "stdout",
     "output_type": "stream",
     "text": [
      "2022-05-30 20:34:09.940755\n",
      "2022-05-31 20:34:09.940755\n",
      "2022-06-01 20:34:09.940755\n",
      "2022-06-02 20:34:09.940755\n",
      "2022-06-03 20:34:09.940755\n"
     ]
    }
   ],
   "source": [
    "current_time=datetime.datetime.today()\n",
    "for i in range(5):\n",
    "    new_date=current_time+datetime.timedelta(days=i)\n",
    "    print(new_date)"
   ]
  },
  {
   "cell_type": "code",
   "execution_count": 48,
   "id": "a29fe248",
   "metadata": {},
   "outputs": [
    {
     "name": "stdout",
     "output_type": "stream",
     "text": [
      "2022-05-25 20:34:25.877757\n",
      "2022-05-26 20:34:25.877757\n",
      "2022-05-27 20:34:25.877757\n",
      "2022-05-28 20:34:25.877757\n",
      "2022-05-29 20:34:25.877757\n",
      "2022-05-30 20:34:25.877757\n",
      "2022-05-31 20:34:25.877757\n",
      "2022-06-01 20:34:25.877757\n",
      "2022-06-02 20:34:25.877757\n",
      "2022-06-03 20:34:25.877757\n"
     ]
    }
   ],
   "source": [
    "import datetime\n",
    "current_time=datetime.datetime.today()\n",
    "for i in range(-5,5):\n",
    "    new_date=current_time+datetime.timedelta(days=i)\n",
    "    print(new_date)"
   ]
  },
  {
   "cell_type": "code",
   "execution_count": 49,
   "id": "f99439ca",
   "metadata": {},
   "outputs": [
    {
     "name": "stdout",
     "output_type": "stream",
     "text": [
      "2022-05-30 20:34:25.877757\n",
      "2022-05-29 20:34:25.877757\n",
      "2022-05-28 20:34:25.877757\n",
      "2022-05-27 20:34:25.877757\n",
      "2022-05-26 20:34:25.877757\n"
     ]
    }
   ],
   "source": [
    "for i in range(5):\n",
    "    new_date=current_time+datetime.timedelta(days=-i)\n",
    "    print(new_date)"
   ]
  },
  {
   "cell_type": "code",
   "execution_count": 50,
   "id": "86cea07c",
   "metadata": {},
   "outputs": [
    {
     "name": "stdout",
     "output_type": "stream",
     "text": [
      "2022-06-04 20:34:25.877757\n",
      "2022-06-03 20:34:25.877757\n",
      "2022-06-02 20:34:25.877757\n",
      "2022-06-01 20:34:25.877757\n",
      "2022-05-31 20:34:25.877757\n"
     ]
    }
   ],
   "source": [
    "for i in range(5,0,-1):\n",
    "    new_date=current_time+datetime.timedelta(days=i)\n",
    "    print(new_date)"
   ]
  },
  {
   "cell_type": "code",
   "execution_count": 51,
   "id": "3788c2f6",
   "metadata": {},
   "outputs": [
    {
     "name": "stdout",
     "output_type": "stream",
     "text": [
      "2022-05-25 20:34:25.877757\n",
      "2022-05-26 20:34:25.877757\n",
      "2022-05-27 20:34:25.877757\n",
      "2022-05-28 20:34:25.877757\n",
      "2022-05-29 20:34:25.877757\n",
      "2022-05-30 20:34:25.877757\n"
     ]
    }
   ],
   "source": [
    "for i in range(5,-1,-1):\n",
    "    new_date=current_time+datetime.timedelta(days=-i)\n",
    "    print(new_date)"
   ]
  },
  {
   "cell_type": "code",
   "execution_count": 53,
   "id": "168ca384",
   "metadata": {},
   "outputs": [
    {
     "name": "stdout",
     "output_type": "stream",
     "text": [
      "2022-05-25\n",
      "2022-05-26\n",
      "2022-05-27\n",
      "2022-05-28\n",
      "2022-05-29\n",
      "2022-05-30\n"
     ]
    }
   ],
   "source": [
    "for i in range(5,-1,-1):\n",
    "    new_date=current_time+datetime.timedelta(days=-i)\n",
    "    print(new_date.date())"
   ]
  },
  {
   "cell_type": "code",
   "execution_count": 55,
   "id": "f302ca26",
   "metadata": {},
   "outputs": [
    {
     "name": "stdout",
     "output_type": "stream",
     "text": [
      "2022-05-25\n",
      "2022-05-26\n",
      "2022-05-27\n",
      "2022-05-28\n",
      "2022-05-29\n",
      "2022-05-30\n"
     ]
    }
   ],
   "source": [
    "current_time=datetime.datetime.today().date()\n",
    "for i in range(5,-1,-1):\n",
    "    new_date=current_time+datetime.timedelta(days=-i)\n",
    "    print(new_date)"
   ]
  },
  {
   "cell_type": "markdown",
   "id": "252d6c3b",
   "metadata": {},
   "source": [
    "## 1. strftime()"
   ]
  },
  {
   "cell_type": "code",
   "execution_count": null,
   "id": "66aab72d",
   "metadata": {},
   "outputs": [],
   "source": [
    "strftime >> string formatter >> string from time object\n",
    "strftime >> datetime object to string string format "
   ]
  },
  {
   "cell_type": "code",
   "execution_count": null,
   "id": "b4b49620",
   "metadata": {},
   "outputs": [],
   "source": []
  },
  {
   "cell_type": "code",
   "execution_count": 56,
   "id": "f0994b31",
   "metadata": {},
   "outputs": [
    {
     "name": "stdout",
     "output_type": "stream",
     "text": [
      "Today Date and time is: 2022-05-30 20:45:39.557108\n"
     ]
    }
   ],
   "source": [
    "today_date = datetime.datetime.today()\n",
    "print('Today Date and time is:', today_date)"
   ]
  },
  {
   "cell_type": "code",
   "execution_count": 59,
   "id": "69e469d0",
   "metadata": {},
   "outputs": [
    {
     "name": "stdout",
     "output_type": "stream",
     "text": [
      "Today Date and time is: 2022-05-30 20:47:04.952557\n"
     ]
    },
    {
     "data": {
      "text/plain": [
       "'22'"
      ]
     },
     "execution_count": 59,
     "metadata": {},
     "output_type": "execute_result"
    }
   ],
   "source": [
    "today_date = datetime.datetime.today()\n",
    "print('Today Date and time is:', today_date)\n",
    "\n",
    "# Year\n",
    "\n",
    "today_date.strftime('%Y')\n",
    "today_date.strftime('%y')"
   ]
  },
  {
   "cell_type": "code",
   "execution_count": 60,
   "id": "aa45fe57",
   "metadata": {},
   "outputs": [
    {
     "data": {
      "text/plain": [
       "datetime.datetime(2022, 5, 30, 20, 47, 4, 952557)"
      ]
     },
     "execution_count": 60,
     "metadata": {},
     "output_type": "execute_result"
    }
   ],
   "source": [
    "today_date"
   ]
  },
  {
   "cell_type": "code",
   "execution_count": 61,
   "id": "665d8307",
   "metadata": {},
   "outputs": [
    {
     "data": {
      "text/plain": [
       "str"
      ]
     },
     "execution_count": 61,
     "metadata": {},
     "output_type": "execute_result"
    }
   ],
   "source": [
    "type(today_date.strftime('%Y'))"
   ]
  },
  {
   "cell_type": "code",
   "execution_count": 62,
   "id": "6bf0385e",
   "metadata": {},
   "outputs": [
    {
     "data": {
      "text/plain": [
       "'2022'"
      ]
     },
     "execution_count": 62,
     "metadata": {},
     "output_type": "execute_result"
    }
   ],
   "source": [
    "    today_date.strftime('%Y')   # Year 2022"
   ]
  },
  {
   "cell_type": "code",
   "execution_count": 63,
   "id": "bc561907",
   "metadata": {},
   "outputs": [
    {
     "data": {
      "text/plain": [
       "'22'"
      ]
     },
     "execution_count": 63,
     "metadata": {},
     "output_type": "execute_result"
    }
   ],
   "source": [
    "today_date.strftime('%y')   # Year 22"
   ]
  },
  {
   "cell_type": "code",
   "execution_count": 64,
   "id": "49caedba",
   "metadata": {},
   "outputs": [
    {
     "data": {
      "text/plain": [
       "'30'"
      ]
     },
     "execution_count": 64,
     "metadata": {},
     "output_type": "execute_result"
    }
   ],
   "source": [
    "today_date.strftime('%d')   # Date"
   ]
  },
  {
   "cell_type": "code",
   "execution_count": 65,
   "id": "19686797",
   "metadata": {},
   "outputs": [
    {
     "data": {
      "text/plain": [
       "'05'"
      ]
     },
     "execution_count": 65,
     "metadata": {},
     "output_type": "execute_result"
    }
   ],
   "source": [
    "today_date.strftime('%m')   # month in number"
   ]
  },
  {
   "cell_type": "code",
   "execution_count": 66,
   "id": "f0ce258a",
   "metadata": {},
   "outputs": [
    {
     "data": {
      "text/plain": [
       "'May'"
      ]
     },
     "execution_count": 66,
     "metadata": {},
     "output_type": "execute_result"
    }
   ],
   "source": [
    "today_date.strftime('%b')   # Abbreviated month name"
   ]
  },
  {
   "cell_type": "code",
   "execution_count": 69,
   "id": "49b5a937",
   "metadata": {},
   "outputs": [
    {
     "name": "stdout",
     "output_type": "stream",
     "text": [
      "2022-09-19\n"
     ]
    }
   ],
   "source": [
    "new_date = current_time + datetime.timedelta(weeks = 16)\n",
    "print(new_date)"
   ]
  },
  {
   "cell_type": "code",
   "execution_count": 70,
   "id": "6dfe55f1",
   "metadata": {},
   "outputs": [
    {
     "data": {
      "text/plain": [
       "'Sep'"
      ]
     },
     "execution_count": 70,
     "metadata": {},
     "output_type": "execute_result"
    }
   ],
   "source": [
    "new_date.strftime('%b')  "
   ]
  },
  {
   "cell_type": "code",
   "execution_count": 71,
   "id": "accb7504",
   "metadata": {},
   "outputs": [
    {
     "data": {
      "text/plain": [
       "'September'"
      ]
     },
     "execution_count": 71,
     "metadata": {},
     "output_type": "execute_result"
    }
   ],
   "source": [
    "new_date.strftime('%B')  # full month name"
   ]
  },
  {
   "cell_type": "code",
   "execution_count": 72,
   "id": "59fba6e0",
   "metadata": {},
   "outputs": [
    {
     "data": {
      "text/plain": [
       "'09/19/22'"
      ]
     },
     "execution_count": 72,
     "metadata": {},
     "output_type": "execute_result"
    }
   ],
   "source": [
    "new_date.strftime('%D')  # mm/dd/yy"
   ]
  },
  {
   "cell_type": "code",
   "execution_count": 73,
   "id": "c0c058be",
   "metadata": {},
   "outputs": [
    {
     "data": {
      "text/plain": [
       "'Mon'"
      ]
     },
     "execution_count": 73,
     "metadata": {},
     "output_type": "execute_result"
    }
   ],
   "source": [
    "today_date.strftime('%a')  # Abbr weekday"
   ]
  },
  {
   "cell_type": "code",
   "execution_count": 74,
   "id": "26db695f",
   "metadata": {},
   "outputs": [
    {
     "data": {
      "text/plain": [
       "'Monday'"
      ]
     },
     "execution_count": 74,
     "metadata": {},
     "output_type": "execute_result"
    }
   ],
   "source": [
    "today_date.strftime('%A')  #  weekday"
   ]
  },
  {
   "cell_type": "code",
   "execution_count": 75,
   "id": "2d201a1c",
   "metadata": {},
   "outputs": [
    {
     "data": {
      "text/plain": [
       "'1'"
      ]
     },
     "execution_count": 75,
     "metadata": {},
     "output_type": "execute_result"
    }
   ],
   "source": [
    "today_date.strftime('%w')  # weekday number"
   ]
  },
  {
   "cell_type": "code",
   "execution_count": 76,
   "id": "41519d72",
   "metadata": {},
   "outputs": [
    {
     "data": {
      "text/plain": [
       "'1'"
      ]
     },
     "execution_count": 76,
     "metadata": {},
     "output_type": "execute_result"
    }
   ],
   "source": [
    "new_date.strftime('%w')  # weekday number 0 , 1,2,3,4,5,6"
   ]
  },
  {
   "cell_type": "code",
   "execution_count": 77,
   "id": "23156240",
   "metadata": {},
   "outputs": [
    {
     "data": {
      "text/plain": [
       "'150'"
      ]
     },
     "execution_count": 77,
     "metadata": {},
     "output_type": "execute_result"
    }
   ],
   "source": [
    "today_date.strftime('%j')  # Day in year"
   ]
  },
  {
   "cell_type": "code",
   "execution_count": 78,
   "id": "7f53ff9a",
   "metadata": {},
   "outputs": [
    {
     "data": {
      "text/plain": [
       "'262'"
      ]
     },
     "execution_count": 78,
     "metadata": {},
     "output_type": "execute_result"
    }
   ],
   "source": [
    "new_date.strftime('%j')  # Day in year"
   ]
  },
  {
   "cell_type": "code",
   "execution_count": 79,
   "id": "c1f6a04e",
   "metadata": {},
   "outputs": [
    {
     "data": {
      "text/plain": [
       "'PM'"
      ]
     },
     "execution_count": 79,
     "metadata": {},
     "output_type": "execute_result"
    }
   ],
   "source": [
    "today_date.strftime('%p')  # AM/PM"
   ]
  },
  {
   "cell_type": "code",
   "execution_count": 80,
   "id": "186c7e6e",
   "metadata": {},
   "outputs": [
    {
     "data": {
      "text/plain": [
       "'22'"
      ]
     },
     "execution_count": 80,
     "metadata": {},
     "output_type": "execute_result"
    }
   ],
   "source": [
    "today_date.strftime('%U')  # week number in year"
   ]
  },
  {
   "cell_type": "code",
   "execution_count": 81,
   "id": "fa953c1e",
   "metadata": {},
   "outputs": [
    {
     "data": {
      "text/plain": [
       "'38'"
      ]
     },
     "execution_count": 81,
     "metadata": {},
     "output_type": "execute_result"
    }
   ],
   "source": [
    "new_date.strftime('%U')  # week number in year"
   ]
  },
  {
   "cell_type": "code",
   "execution_count": 82,
   "id": "5fa42256",
   "metadata": {},
   "outputs": [
    {
     "data": {
      "text/plain": [
       "'20'"
      ]
     },
     "execution_count": 82,
     "metadata": {},
     "output_type": "execute_result"
    }
   ],
   "source": [
    "today_date.strftime('%H')  # hour 24 hrs"
   ]
  },
  {
   "cell_type": "code",
   "execution_count": 83,
   "id": "70569985",
   "metadata": {},
   "outputs": [
    {
     "data": {
      "text/plain": [
       "'08'"
      ]
     },
     "execution_count": 83,
     "metadata": {},
     "output_type": "execute_result"
    }
   ],
   "source": [
    "today_date.strftime('%I')  # hour 12 hrs"
   ]
  },
  {
   "cell_type": "code",
   "execution_count": 85,
   "id": "bf2142fe",
   "metadata": {},
   "outputs": [
    {
     "data": {
      "text/plain": [
       "'47'"
      ]
     },
     "execution_count": 85,
     "metadata": {},
     "output_type": "execute_result"
    }
   ],
   "source": [
    "today_date.strftime('%M')  # Minute in number"
   ]
  },
  {
   "cell_type": "code",
   "execution_count": 86,
   "id": "27d3933b",
   "metadata": {},
   "outputs": [
    {
     "data": {
      "text/plain": [
       "datetime.datetime(2022, 5, 30, 20, 47, 4, 952557)"
      ]
     },
     "execution_count": 86,
     "metadata": {},
     "output_type": "execute_result"
    }
   ],
   "source": [
    "today_date"
   ]
  },
  {
   "cell_type": "code",
   "execution_count": 87,
   "id": "6250a441",
   "metadata": {},
   "outputs": [
    {
     "data": {
      "text/plain": [
       "'04'"
      ]
     },
     "execution_count": 87,
     "metadata": {},
     "output_type": "execute_result"
    }
   ],
   "source": [
    "today_date.strftime('%S')  # seconds in number"
   ]
  },
  {
   "cell_type": "code",
   "execution_count": 88,
   "id": "19db58dc",
   "metadata": {},
   "outputs": [
    {
     "data": {
      "text/plain": [
       "'952557'"
      ]
     },
     "execution_count": 88,
     "metadata": {},
     "output_type": "execute_result"
    }
   ],
   "source": [
    "today_date.strftime('%f')  # week number in year"
   ]
  },
  {
   "cell_type": "code",
   "execution_count": 89,
   "id": "19eaa3cf",
   "metadata": {},
   "outputs": [
    {
     "data": {
      "text/plain": [
       "'22'"
      ]
     },
     "execution_count": 89,
     "metadata": {},
     "output_type": "execute_result"
    }
   ],
   "source": [
    "today_date.strftime('%U')  # week number in year"
   ]
  },
  {
   "cell_type": "code",
   "execution_count": 90,
   "id": "a5b1b8d8",
   "metadata": {},
   "outputs": [
    {
     "data": {
      "text/plain": [
       "'22'"
      ]
     },
     "execution_count": 90,
     "metadata": {},
     "output_type": "execute_result"
    }
   ],
   "source": [
    "today_date.strftime('%W')  # week number in year"
   ]
  },
  {
   "cell_type": "code",
   "execution_count": 91,
   "id": "8460cc67",
   "metadata": {},
   "outputs": [
    {
     "data": {
      "text/plain": [
       "'Mon May 30 20:47:04 2022'"
      ]
     },
     "execution_count": 91,
     "metadata": {},
     "output_type": "execute_result"
    }
   ],
   "source": [
    "today_date.strftime('%c')  # local appropriate time"
   ]
  },
  {
   "cell_type": "code",
   "execution_count": 92,
   "id": "7fb35c1f",
   "metadata": {},
   "outputs": [
    {
     "data": {
      "text/plain": [
       "'05/30/22'"
      ]
     },
     "execution_count": 92,
     "metadata": {},
     "output_type": "execute_result"
    }
   ],
   "source": [
    "today_date.strftime('%x')  # local appropriate date"
   ]
  },
  {
   "cell_type": "code",
   "execution_count": 93,
   "id": "59cf494b",
   "metadata": {},
   "outputs": [
    {
     "data": {
      "text/plain": [
       "'20:47:04'"
      ]
     },
     "execution_count": 93,
     "metadata": {},
     "output_type": "execute_result"
    }
   ],
   "source": [
    "today_date.strftime('%X')  # local appropriate tine"
   ]
  },
  {
   "cell_type": "code",
   "execution_count": 95,
   "id": "f8222214",
   "metadata": {},
   "outputs": [
    {
     "name": "stdout",
     "output_type": "stream",
     "text": [
      "2022-05-30 21:05:00.309694\n"
     ]
    }
   ],
   "source": [
    "today_date = datetime.datetime.today()\n",
    "print(today_date)"
   ]
  },
  {
   "cell_type": "code",
   "execution_count": 96,
   "id": "f4bc5f92",
   "metadata": {},
   "outputs": [
    {
     "data": {
      "text/plain": [
       "'30-05-2022'"
      ]
     },
     "execution_count": 96,
     "metadata": {},
     "output_type": "execute_result"
    }
   ],
   "source": [
    "today_date.strftime('%d-%m-%Y')"
   ]
  },
  {
   "cell_type": "code",
   "execution_count": 97,
   "id": "d5344e59",
   "metadata": {},
   "outputs": [
    {
     "data": {
      "text/plain": [
       "'30 05 2022'"
      ]
     },
     "execution_count": 97,
     "metadata": {},
     "output_type": "execute_result"
    }
   ],
   "source": [
    "today_date.strftime('%d %m %Y')"
   ]
  },
  {
   "cell_type": "code",
   "execution_count": 98,
   "id": "72b2ee3b",
   "metadata": {},
   "outputs": [
    {
     "data": {
      "text/plain": [
       "'30 May 2022'"
      ]
     },
     "execution_count": 98,
     "metadata": {},
     "output_type": "execute_result"
    }
   ],
   "source": [
    "today_date.strftime('%d %b %Y')"
   ]
  },
  {
   "cell_type": "code",
   "execution_count": 100,
   "id": "2ff0a028",
   "metadata": {},
   "outputs": [
    {
     "ename": "ValueError",
     "evalue": "day is out of range for month",
     "output_type": "error",
     "traceback": [
      "\u001b[1;31m---------------------------------------------------------------------------\u001b[0m",
      "\u001b[1;31mValueError\u001b[0m                                Traceback (most recent call last)",
      "\u001b[1;32m<ipython-input-100-34a03eccfe53>\u001b[0m in \u001b[0;36m<module>\u001b[1;34m\u001b[0m\n\u001b[1;32m----> 1\u001b[1;33m \u001b[0mrandom_date\u001b[0m \u001b[1;33m=\u001b[0m \u001b[0mdatetime\u001b[0m\u001b[1;33m.\u001b[0m\u001b[0mdatetime\u001b[0m\u001b[1;33m(\u001b[0m\u001b[1;36m15\u001b[0m\u001b[1;33m,\u001b[0m\u001b[1;36m12\u001b[0m\u001b[1;33m,\u001b[0m\u001b[1;36m2022\u001b[0m\u001b[1;33m)\u001b[0m\u001b[1;33m\u001b[0m\u001b[1;33m\u001b[0m\u001b[0m\n\u001b[0m\u001b[0;32m      2\u001b[0m \u001b[0mprint\u001b[0m\u001b[1;33m(\u001b[0m\u001b[0mrandom_date\u001b[0m\u001b[1;33m)\u001b[0m\u001b[1;33m\u001b[0m\u001b[1;33m\u001b[0m\u001b[0m\n",
      "\u001b[1;31mValueError\u001b[0m: day is out of range for month"
     ]
    }
   ],
   "source": [
    "random_date = datetime.datetime(15,12,2022)\n",
    "print(random_date)"
   ]
  },
  {
   "cell_type": "code",
   "execution_count": 101,
   "id": "4556bbe4",
   "metadata": {},
   "outputs": [
    {
     "ename": "ValueError",
     "evalue": "month must be in 1..12",
     "output_type": "error",
     "traceback": [
      "\u001b[1;31m---------------------------------------------------------------------------\u001b[0m",
      "\u001b[1;31mValueError\u001b[0m                                Traceback (most recent call last)",
      "\u001b[1;32m<ipython-input-101-0ca60a7b8572>\u001b[0m in \u001b[0;36m<module>\u001b[1;34m\u001b[0m\n\u001b[1;32m----> 1\u001b[1;33m \u001b[0mrandom_date\u001b[0m \u001b[1;33m=\u001b[0m \u001b[0mdatetime\u001b[0m\u001b[1;33m.\u001b[0m\u001b[0mdatetime\u001b[0m\u001b[1;33m(\u001b[0m\u001b[1;36m2022\u001b[0m\u001b[1;33m,\u001b[0m\u001b[1;36m15\u001b[0m\u001b[1;33m,\u001b[0m\u001b[1;36m12\u001b[0m\u001b[1;33m)\u001b[0m\u001b[1;33m\u001b[0m\u001b[1;33m\u001b[0m\u001b[0m\n\u001b[0m\u001b[0;32m      2\u001b[0m \u001b[0mprint\u001b[0m\u001b[1;33m(\u001b[0m\u001b[0mrandom_date\u001b[0m\u001b[1;33m)\u001b[0m\u001b[1;33m\u001b[0m\u001b[1;33m\u001b[0m\u001b[0m\n",
      "\u001b[1;31mValueError\u001b[0m: month must be in 1..12"
     ]
    }
   ],
   "source": [
    "random_date = datetime.datetime(2022,15,12)\n",
    "print(random_date)"
   ]
  },
  {
   "cell_type": "code",
   "execution_count": 102,
   "id": "739b1962",
   "metadata": {},
   "outputs": [
    {
     "name": "stdout",
     "output_type": "stream",
     "text": [
      "2022-12-15 00:00:00\n"
     ]
    }
   ],
   "source": [
    "random_date = datetime.datetime(2022,12,15)\n",
    "print(random_date)"
   ]
  },
  {
   "cell_type": "code",
   "execution_count": 103,
   "id": "ade8d5e3",
   "metadata": {},
   "outputs": [
    {
     "name": "stdout",
     "output_type": "stream",
     "text": [
      "1947-08-15 00:00:00\n"
     ]
    }
   ],
   "source": [
    "random_date = datetime.datetime(1947,8,15)\n",
    "print(random_date)"
   ]
  },
  {
   "cell_type": "code",
   "execution_count": 104,
   "id": "7a03dfe0",
   "metadata": {},
   "outputs": [
    {
     "data": {
      "text/plain": [
       "'Friday'"
      ]
     },
     "execution_count": 104,
     "metadata": {},
     "output_type": "execute_result"
    }
   ],
   "source": [
    "random_date.strftime('%A')"
   ]
  },
  {
   "cell_type": "code",
   "execution_count": 105,
   "id": "ad5dda9f",
   "metadata": {},
   "outputs": [
    {
     "data": {
      "text/plain": [
       "'Fri'"
      ]
     },
     "execution_count": 105,
     "metadata": {},
     "output_type": "execute_result"
    }
   ],
   "source": [
    "random_date.strftime('%a')"
   ]
  },
  {
   "cell_type": "markdown",
   "id": "d8875f4a",
   "metadata": {},
   "source": [
    "## strptime"
   ]
  },
  {
   "cell_type": "code",
   "execution_count": null,
   "id": "9dd252db",
   "metadata": {},
   "outputs": [],
   "source": [
    "strptime >> string parser >> string format to datetime\n",
    "string points to time/string parser to time\n",
    "Create a datetime object from given string"
   ]
  },
  {
   "cell_type": "code",
   "execution_count": 106,
   "id": "08d35f3f",
   "metadata": {},
   "outputs": [
    {
     "data": {
      "text/plain": [
       "datetime.datetime(2022, 5, 30, 0, 0)"
      ]
     },
     "execution_count": 106,
     "metadata": {},
     "output_type": "execute_result"
    }
   ],
   "source": [
    "date = '30 05 2022'\n",
    "datetime.datetime.strptime(date, '%d %m %Y')"
   ]
  },
  {
   "cell_type": "code",
   "execution_count": null,
   "id": "a3b20d5a",
   "metadata": {},
   "outputs": [],
   "source": []
  },
  {
   "cell_type": "code",
   "execution_count": null,
   "id": "a13f9889",
   "metadata": {},
   "outputs": [],
   "source": []
  },
  {
   "cell_type": "code",
   "execution_count": null,
   "id": "bd53dc84",
   "metadata": {},
   "outputs": [],
   "source": []
  },
  {
   "cell_type": "code",
   "execution_count": null,
   "id": "2698622d",
   "metadata": {},
   "outputs": [],
   "source": []
  },
  {
   "cell_type": "code",
   "execution_count": null,
   "id": "bd12b9d9",
   "metadata": {},
   "outputs": [],
   "source": []
  },
  {
   "cell_type": "code",
   "execution_count": null,
   "id": "2eef4882",
   "metadata": {},
   "outputs": [],
   "source": []
  },
  {
   "cell_type": "code",
   "execution_count": null,
   "id": "0538a4ed",
   "metadata": {},
   "outputs": [],
   "source": []
  },
  {
   "cell_type": "code",
   "execution_count": null,
   "id": "f9dc7109",
   "metadata": {},
   "outputs": [],
   "source": []
  },
  {
   "cell_type": "code",
   "execution_count": null,
   "id": "516f7833",
   "metadata": {},
   "outputs": [],
   "source": []
  },
  {
   "cell_type": "code",
   "execution_count": null,
   "id": "6f2053fa",
   "metadata": {},
   "outputs": [],
   "source": []
  },
  {
   "cell_type": "code",
   "execution_count": null,
   "id": "3f42db9e",
   "metadata": {},
   "outputs": [],
   "source": []
  },
  {
   "cell_type": "code",
   "execution_count": null,
   "id": "4dc4fabf",
   "metadata": {},
   "outputs": [],
   "source": []
  }
 ],
 "metadata": {
  "kernelspec": {
   "display_name": "Python 3 (ipykernel)",
   "language": "python",
   "name": "python3"
  },
  "language_info": {
   "codemirror_mode": {
    "name": "ipython",
    "version": 3
   },
   "file_extension": ".py",
   "mimetype": "text/x-python",
   "name": "python",
   "nbconvert_exporter": "python",
   "pygments_lexer": "ipython3",
   "version": "3.11.3"
  }
 },
 "nbformat": 4,
 "nbformat_minor": 5
}
