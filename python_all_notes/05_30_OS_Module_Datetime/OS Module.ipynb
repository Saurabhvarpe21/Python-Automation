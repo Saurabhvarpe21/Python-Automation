{
 "cells": [
  {
   "cell_type": "markdown",
   "id": "5f833367",
   "metadata": {},
   "source": [
    "## OS Module"
   ]
  },
  {
   "cell_type": "code",
   "execution_count": 1,
   "id": "b1ce0051",
   "metadata": {},
   "outputs": [],
   "source": [
    "import os"
   ]
  },
  {
   "cell_type": "code",
   "execution_count": null,
   "id": "800d1d11",
   "metadata": {},
   "outputs": [],
   "source": [
    "OS Module:\n",
    "    1. os.rename()  # To rename the files or move files\n",
    "    2. os.remove()  # To remove the files\n",
    "    3. os.path.exists() # To check folder exists or not\n",
    "    4. os.mkdir()   # TO create new dir\n",
    "    5. os.rmdir()   # To remove dir\n",
    "    6. os.listdir() # To get list of files in dir\n",
    "    7. os.path.join() #To join multiple path\n",
    "    8. os.getcwd() # To get current working directory\n",
    "    \n",
    "Glob:\n",
    "    1. glob.glob(path + '*.txt')"
   ]
  },
  {
   "cell_type": "code",
   "execution_count": 10,
   "id": "13a5c397",
   "metadata": {},
   "outputs": [],
   "source": [
    "ds_folder_path = 'data_science'\n",
    "ml_folder_path = 'machine_learning'\n",
    "dl_folder_path = 'Deep learning'"
   ]
  },
  {
   "cell_type": "code",
   "execution_count": 11,
   "id": "4b9b1498",
   "metadata": {},
   "outputs": [],
   "source": [
    "os.mkdir(ds_folder_path + '\\\\' + ml_folder_path)\n",
    "os.mkdir(ds_folder_path + '\\\\' + dl_folder_path)"
   ]
  },
  {
   "cell_type": "markdown",
   "id": "2915da39",
   "metadata": {},
   "source": [
    "## Shutil Module"
   ]
  },
  {
   "cell_type": "code",
   "execution_count": 12,
   "id": "86a6b5ac",
   "metadata": {},
   "outputs": [],
   "source": [
    "import shutil\n",
    "shutil.copy(source_path, destination_path )"
   ]
  },
  {
   "cell_type": "code",
   "execution_count": 13,
   "id": "3d7897f2",
   "metadata": {},
   "outputs": [],
   "source": [
    "with open('linear_regression.txt', 'w') as f:\n",
    "    f.write('Machine Learning Algorithm')"
   ]
  },
  {
   "cell_type": "code",
   "execution_count": 14,
   "id": "148a2fc7",
   "metadata": {},
   "outputs": [
    {
     "data": {
      "text/plain": [
       "'data_science/machine_learning/linear_regression.txt'"
      ]
     },
     "execution_count": 14,
     "metadata": {},
     "output_type": "execute_result"
    }
   ],
   "source": [
    "source_path = 'linear_regression.txt'\n",
    "destination_path = r'data_science/machine_learning/'\n",
    "\n",
    "shutil.copy(source_path, destination_path)"
   ]
  },
  {
   "cell_type": "code",
   "execution_count": 15,
   "id": "3c1799c0",
   "metadata": {},
   "outputs": [
    {
     "data": {
      "text/plain": [
       "'G:\\\\Velocity 16 APR\\\\05_30_OS_Module_Datetime\\\\Gradient Descent.png'"
      ]
     },
     "execution_count": 15,
     "metadata": {},
     "output_type": "execute_result"
    }
   ],
   "source": [
    "source_path = r'G:\\Velocity 16 APR\\05_30_OS_Module_Datetime\\data_science\\machine_learning\\Gradient Descent.png'\n",
    "destination_path = os.getcwd()\n",
    "\n",
    "shutil.copy(source_path, destination_path)"
   ]
  },
  {
   "cell_type": "code",
   "execution_count": 16,
   "id": "dc641902",
   "metadata": {},
   "outputs": [],
   "source": [
    "os.rmdir(ds_folder_path +  '\\\\' + dl_folder_path)"
   ]
  },
  {
   "cell_type": "code",
   "execution_count": 17,
   "id": "09046809",
   "metadata": {},
   "outputs": [
    {
     "ename": "OSError",
     "evalue": "[WinError 145] The directory is not empty: 'data_science\\\\machine_learning'",
     "output_type": "error",
     "traceback": [
      "\u001b[1;31m---------------------------------------------------------------------------\u001b[0m",
      "\u001b[1;31mOSError\u001b[0m                                   Traceback (most recent call last)",
      "\u001b[1;32m<ipython-input-17-9cb0ae2e815e>\u001b[0m in \u001b[0;36m<module>\u001b[1;34m\u001b[0m\n\u001b[1;32m----> 1\u001b[1;33m \u001b[0mos\u001b[0m\u001b[1;33m.\u001b[0m\u001b[0mrmdir\u001b[0m\u001b[1;33m(\u001b[0m\u001b[0mds_folder_path\u001b[0m \u001b[1;33m+\u001b[0m  \u001b[1;34m'\\\\'\u001b[0m \u001b[1;33m+\u001b[0m \u001b[0mml_folder_path\u001b[0m\u001b[1;33m)\u001b[0m\u001b[1;33m\u001b[0m\u001b[1;33m\u001b[0m\u001b[0m\n\u001b[0m",
      "\u001b[1;31mOSError\u001b[0m: [WinError 145] The directory is not empty: 'data_science\\\\machine_learning'"
     ]
    }
   ],
   "source": [
    "os.rmdir(ds_folder_path +  '\\\\' + ml_folder_path)"
   ]
  },
  {
   "cell_type": "code",
   "execution_count": 18,
   "id": "1e891c34",
   "metadata": {},
   "outputs": [],
   "source": [
    "shutil.rmtree(ds_folder_path +  '\\\\' + ml_folder_path)"
   ]
  },
  {
   "cell_type": "code",
   "execution_count": 23,
   "id": "0cb5d850",
   "metadata": {},
   "outputs": [
    {
     "name": "stdout",
     "output_type": "stream",
     "text": [
      "File name :  data\\cv004_12641.txt\n",
      "synopsis : a mentally unstable man undergoing psychotherapy saves a boy from a potentially fatal accident and then falls in love with the boy's mother , a fledgling restauranteur . \n",
      "unsuccessfully attempting to gain the woman's favor , he takes pictures of her and kills a number of people in his way . \n",
      "comments : stalked is yet another in a seemingly endless string of spurned-psychos-getting-their-revenge type movies which are a stable category in the 1990s film industry , both theatrical and direct-to-video . \n",
      "their proliferation may be due in part to the fact that they're typically inexpensive to produce ( no special effects , no big name stars ) and serve as vehicles to flash nudity ( allowing them to frequent late-night cable television ) . \n",
      "stalked wavers slightly from the norm in one respect : the psycho never actually has an affair ; on the contrary , he's rejected rather quickly ( the psycho typically is an ex-lover , ex-wife , or ex-husband ) . \n",
      "other than that , stalked is just another redundant entry doomed to collect dust on video shelves and viewed after midnight on cable . \n",
      "stalked does not provide much suspense , though that is what it sets out to do . \n",
      "interspersed throughout the opening credits , for instance , a serious-sounding narrator spouts statistics about stalkers and ponders what may cause a man to stalk ( it's implicitly implied that all stalkers are men ) while pictures of a boy are shown on the screen . \n",
      "after these credits , a snapshot of actor jay underwood appears . \n",
      "the narrator states that \" this is the story of daryl gleason \" and tells the audience that he is the stalker . \n",
      "of course , really , this is the story of restauranteur brooke daniels . \n",
      "if the movie was meant to be about daryl , then it should have been called stalker not stalked . \n",
      "okay . so we know who the stalker is even before the movie starts ; no guesswork required . \n",
      "stalked proceeds , then , as it begins : obvious , obvious , obvious . \n",
      "the opening sequence , contrived quite a bit , brings daryl and brooke ( the victim ) together . \n",
      "daryl obsesses over brooke , follows her around , and tries to woo her . \n",
      "ultimately rejected by her , his plans become more and more desperate and elaborate . \n",
      "these plans include the all-time , psycho-in-love , cliche : the murdered pet . \n",
      "for some reason , this genre's films require a dead pet to be found by the victim stalked . \n",
      "stalked is no exception ( it's a cat this time -- found in the shower ) . \n",
      "events like these lead to the inevitable showdown between stalker and stalked , where only one survives ( guess who it invariably always is and you'll guess the conclusion to this turkey ) . \n",
      "stalked's cast is uniformly adequate : not anything to write home about but also not all that bad either . \n",
      "jay underwood , as the stalker , turns toward melodrama a bit too much . \n",
      "he overdoes it , in other words , but he still manages to be creepy enough to pass as the type of stalker the story demands . \n",
      "maryam d'abo , about the only actor close to being a star here ( she played the bond chick in the living daylights ) , is equally adequate as the \" stalked \" of the title , even though she seems too ditzy at times to be a strong , independent business-owner . \n",
      "brooke ( d'abo ) needs to be ditzy , however , for the plot to proceed . \n",
      "toward the end , for example , brooke has her suspicions about daryl . \n",
      "to ensure he won't use it as another excuse to see her , brooke decides to return a toolbox he had left at her place to his house . \n",
      "does she just leave the toolbox at the door when no one answers ? \n",
      "of course not . \n",
      "she tries the door , opens it , and wanders around the house . \n",
      "when daryl returns , he enters the house , of course , so our heroine is in danger . \n",
      "somehow , even though her car is parked at the front of the house , right by the front door , daryl is oblivious to her presence inside . \n",
      "the whole episode places an incredible strain on the audience's suspension of disbelief and questions the validity of either character's intelligence . \n",
      "stalked receives two stars because , even though it is highly derivative and somewhat boring , it is not so bad that it cannot be watched . \n",
      "rated r mostly for several murder scenes and brief nudity in a strip bar , it is not as offensive as many other thrillers in this genre are . \n",
      "if you're in the mood for a good suspense film , though , stake out something else . \n",
      "\n",
      "****************************************************************************************************\n",
      "File name :  data\\cv005_29357.txt\n",
      "capsule : in 2176 on the planet mars police taking into custody an accused murderer face the title menace . \n",
      "there is a lot of fighting and not a whole lot of story otherwise . \n",
      "john carpenter reprises so many ideas from his previous films , especially assault on precinct 13 , that the new film comes off as his homage to himself . \n",
      " , 0 ( -4 to +4 ) . \n",
      "john carpenter apparently believes that action scenes in which people fight something horrible are the same as horror scenes . \n",
      "for a writer and director of horror films , supposedly an expert on horror , it is a very bad mistake to make . \n",
      "ghosts of mars is called a horror movie , but it is more just a drawn out fight between humans and a surprisingly low-powered alien menace . \n",
      "in addition if anybody but john carpenter had made ghosts of mars , carpenter would have grounds to sue . \n",
      "this film is just chock full of pieces taken from assault on precinct 13 , the thing , and prince of darkness . \n",
      "it is , in fact , surprising that carpenter managed to fit so many pieces of his previous work into this film in such an admittedly novel way . \n",
      "but that still does not make for a really good science fiction experience . \n",
      "ghosts of mars takes place in the year 2176 . \n",
      "mars has been mostly terraformed so that humans can walk on the surface without breathing gear ( which is good for the film's budget ) . \n",
      "it is never mentioned , but the gravity on mars has been increased somehow to earth-normal , again making it easier to film . \n",
      "society has changed a bit by that time , but it has advanced surprisingly little . \n",
      "apparently the culture has changed so that women are much more in positions of control . \n",
      "and from carpenter's view , women have really made a mess of things . \n",
      "society has stagnated under female control so that beyond some minor technological advances society has changed less in 175 years than we might expect it to change in ten . \n",
      "the basic plot of ghosts of mars has much in common with that of assault on precinct 13 except that precinct 9 ( yes , precinct 9 ) has been replaced by a somewhat tacky looking rundown martian mining colony . \n",
      "instead of having the criminal \" napolean \" wilson , this film has the criminal \" desolation \" williams . \n",
      "instead of facing hoodlums with automatic weapons the police face , well , ghosts of mars . \n",
      "because the ghosts are somewhat alien in nature they should behave in some alien manner , but they essentially behave as human savages , in another lapse of imagination . \n",
      "the story is told in flashback , flashback within flashback , and flashback within flashback within flashback . \n",
      "ghosts of mars takes place entirely at night and is filmed almost entirely in tones of red , yellow , and black . \n",
      "carpenter manages to give us a powerful opening scene , showing a mining train rushing through the martian night to the sound of music with a heavy beat . \n",
      "sadly what follows is not really up to the buildup . \n",
      "the terror he creates looks a little too much like fugitive wannabes from the rock band kiss . \n",
      "his idea of building suspense is having a bunch of sudden jump scenes that sucker the viewer into thinking something scary is happening and then prove to be just something boring . \n",
      "these are standard haunted house film shock effects that require no great talent to give the audience . \n",
      "somewhat newer but also unimpressive are the cgi digital decapitations in some of the fights . \n",
      "within a short stretch of time we have seen the release of mission to mars , red planet , and ghosts of mars . \n",
      "after mission to mars was panned by too many reviewers it looks better and better and better as time goes by . \n",
      "i rate ghosts of mars a 4 on the 0 to 10 scale and a 0 on the -4 to +4 scale . \n",
      "following the movie i showed my wife , who liked ghosts of mars moderately more than i did , carpenter's classic assault on precinct 13 . \n",
      "her comment is that it was seeing the same film twice . \n",
      "\n",
      "****************************************************************************************************\n",
      "File name :  data\\cv006_17022.txt\n",
      "so ask yourself what \" 8mm \" ( \" eight millimeter \" ) is really all about . \n",
      "is it about a wholesome surveillance man who loses sight of his values after becoming enmeshed in the seedy , sleazy underworld of hardcore pornography ? \n",
      "is it about the business itself , how , bubbling just beneath the surface of big-town americana , there's a sordid world of sick and depraved people who won't necessarily stop short of murder in order to satisfy their sick and twisted desires ? \n",
      "or is it about those who can , those who are in a position to influence the making of the kinds of films sick and demented people want to see ? \n",
      "i'm not talking about snuff films , supposed \" documentaries \" of victims being brutalized and killed on camera . \n",
      "i'm talking about films like \" 8mm \" and its director , joel schumacher . \n",
      "with a recent run of big budget movies to his credit-- \" batman & robin , \" \" a time to kill , \" \" batman forever , \" \" the client \" --schumacher certainly has that kind of influence . \n",
      "is \" 8mm \" something you really want to see ? \n",
      "probably not . \n",
      "the first two-thirds of \" 8mm \" unwind as a fairly conventional missing persons drama , albeit with a particularly unsavory core . \n",
      "then , as it's been threatening all along , the film explodes into violence . \n",
      "and just when you think it's finally over , schumacher tags on a ridiculous self-righteous finale that drags the whole unpleasant experience down even further . \n",
      "trust me . \n",
      "there are better ways to waste two hours of your life . \n",
      "nicolas ' \" snake eyes \" ' cage plays private investigator tom welles who is hired by a wealthy philadelphia widow to determine whether a reel of film found in her late husband's safe documents a young girl's murder . \n",
      "welles goes about his assignment rather matter-of-factly , and the pieces of the puzzle fall into place rather neatly , almost as if you don't need any specialized skills or training to do this . \n",
      "welles certainly makes it look easy . \n",
      "and cops , obviously , never look in toilet tanks for clues . \n",
      "the deeper welles digs into his investigation the more obsessed he becomes , like george c . scott in paul schrader's \" hardcore . \" \n",
      "occasionally , a little flickering sound whirs in his head like sprockets winding through a film projector , reminding him of his unpleasant task . \n",
      "there are hints that this is taking its toll on his lovely wife , played by catherine keener , who is frustrated by her husband spending all of his time in cleveland rather than in their ugly split-level home in harrisburg , pa . \n",
      " \" 8mm \" doesn't condemn or condone its subject matter , it just exploits it . \n",
      "the irony , of course , is that schumacher and \" seven \" scribe andrew kevin walker's vision of life in the snuff lane is limited by what they can show in an r-rated , first-run hollywood product . \n",
      "so we only see snippets of snuff , and a lot more footage of nicolas cage covering his face in horror . \n",
      "later it's the turn of joaquin phoenix ( who's quite good and by far the film's most interesting character as adult bookstore flunky max california ) to cover his face as the horrid thing is screened over and over again . \n",
      "all this to get to the familiar yet offensive \" revelation \" that sexual deviants are not , indeed , monsters but everyday people like you and me . \n",
      "neither super nor standard , \" 8mm \" is shocking only in its banality . \n",
      "\n",
      "****************************************************************************************************\n",
      "File name :  data\\cv007_4992.txt\n",
      "that's exactly how long the movie felt to me . \n",
      "there weren't even nine laughs in nine months . \n",
      "it's a terrible mess of a movie starring a terrible mess of a man , mr . hugh grant , a huge dork . \n",
      "it's not the whole oral-sex/prostitution thing ( referring to grant , not me ) that bugs me , it's the fact that grant is annoying . \n",
      "not just adam sandler-annoying , we're talking jim carrey-annoying . \n",
      "since when do eye flutters and nervous smiles pass for acting ? \n",
      "but , on the other hand , since when do really bad slapstick ( a fistfight in the delivery room culminating in grant's head in joan cusack's lap--a scene he paid $60 to have included in the movie ) and obscene double entendres ( robin williams , the obstetrician , tells grant's pregnant girlfriend she has \" a big pussy , \" referring of course to the size of the cat hairs on her coat , but nonetheless , grant paid $60 to have the exchange included in the movie ) pass for comedy ? \n",
      "nine months is a predictable cookie-cutter movie with no originality in humor or plot . \n",
      "hugh grant plays a successful child psychiatrist . \n",
      "why a child psychologist ? \n",
      "so the scriptwriters could inject the following unfunny exchange : \n",
      "kid : my dad's an asshole . \n",
      "grant ( flutters eyelashes , offers a nervous smile , then responds in his annoying english accent and i-think-i-actually-have- talent attitude ) : could you possibly elaborate on that ? \n",
      "kid : my dad's a _huge_ asshole . \n",
      "more like a hugh asshole , but that's beside the point , which is : nine months includes too many needlessly stupid jokes that get laughs from the ten year olds in the audience while everyone else shakes his or her head in disbelief . \n",
      "so , anyway , grant finds out his girlfriend is pregnant and does his usual reaction ( fluttered eyelashes , nervous smiles ) . \n",
      "this paves the way for every possible pregnancy/child birth gag in the book , especially since grant's equally annoying friend's wife is also pregnant . \n",
      "the annoying friend is played by tom arnold , who provides most of the cacophonous slapstick , none of which is funny , such as a scene where arnold beats up a costumed \" arnie the dinosaur \" ( you draw your own parallels on that one ) in a toy store . \n",
      "the only interesting character in the movie is played by jeff goldblum , who should have hid himself away somewhere after the dreadful hideaway , as an artist with a fear of ( and simultaneous longing for ) commitment . \n",
      "not even robin williams , who plays a russian doctor who has recently decided to switch from veterinary medicine to obstetrics , has much humor . \n",
      "his is a one-joke character-- the old foreign-guy-who-mispronounces-english stereotype ( did someone say yakov smirnov ? \n",
      "that's my favorite vodka , by the way ) , hence the line \" now it's time to take a look at your volvo , \" another nasty but unamusing joke , except this one goes right over the ten year olds' heads , while the adults simultaneously groan . \n",
      "nine months is a complete failure , low on laughs and intelligence and high on loud , unfunny slapstick , failed jokes and other uninspired lunacy . \n",
      "hugh grant's sunset boulevard arrest ( please , no caught-with-his-pants-down jokes ) may bring more people into the theaters , but they certainly won't leave with a smile on their faces , not after 90 minutes of grant's nervous smiles . \n",
      "everything in the movie is so forced , so unauthentic that anyone with an i . q . \n",
      "over 80 ( sorry , hugh ) will know they wasted their money on an unfulfilled desire . \n",
      "but at least they didn't spend 60 bucks for it . \n",
      "\n",
      "****************************************************************************************************\n",
      "File name :  data\\cv008_29326.txt\n",
      "call it a road trip for the walking wounded . \n",
      "stellan skarsg ? rd plays such a convincingly zombified drunken loser that it's difficult to spend nearly two hours of screen time in his smelly , boozed-out presence . \n",
      "yet this ever-reliable swedish actor adds depth and significance to the otherwise plodding and forgettable aberdeen , a sentimental and painfully mundane european drama . \n",
      "playwright august strindberg built his career on families and relationships paralyzed by secrets , unable to express their longings until the hour is far too late . \n",
      "that's an accurate reflection of what aberdeen strives for , focusing on the pairing of an alcoholic father , tomas ( skarsg ? rd ) and his alienated , openly hostile yuppie daughter , kaisa ( lena headey , gossip ) . \n",
      "they haven't spoken in years , and wouldn't even be making the long trip from norway to aberdeen , scotland by automobile if it weren't for kaisa's mother ( charlotte rampling , under the sand ) rotting away in a hospital bed from cancer . \n",
      "in a soap opera twist , mother has only a few days to live . \n",
      " ( only in the movies , right ? ) \n",
      "too blitzed to even step foot on a plane , tomas hits the open road with kaisa . \n",
      "loathing each other all the while , they make periodic stops for tomas to puke on the dashboard or pass out -- whenever he isn't muttering what a rotten kid she turned out to be . \n",
      "despite his sloshed viewpoint , tomas recognizes that the apple hasn't fallen very far from the tree . \n",
      "kaisa gets nosebleeds from snorting coke , sabotages her personal relationships through indifference , and is unable to restrain her quick and vindictive temper . \n",
      "ain't they a pair ? \n",
      "unable to find true notes of unspoken familial empathy in the one-note and repetitively bitchy dialogue , screenwriters kristin amundsen and hans petter moland fabricate a series of contrivances to propel events forward -- lost money , roving street hooligans looking for drunks to kick around , nosy cops , and flat tires all figure into the schematic and convenient narrative . \n",
      "by the time they reach the hospital , it's time to unveil the secrets from a dark past that are not only simplistic devices that trivialize the father-daughter conflict , they're also the mainstays of many a bad strindberg wannabe . \n",
      "this revelation exists purely for its own sake . \n",
      "aberdeen doesn't know where else to go . \n",
      "weak , unimaginative casting thwarts the pivotal role of kaisa . \n",
      "if lena headey were a stronger actress , perhaps aberdeen could have been able to coast on the performances and moody , haunting cinematography ( rendering norway into its own pastoral ghost world -- the reference to a certain superior american indie flick intentional ) . \n",
      "headey's too busy acting , using her face and furrowed brow to convey every last twitch of insouciance . \n",
      "if she were paying any attention to skarsg ? rd , maybe she'd figure out that doing less can reveal so much more . \n",
      "it's worthwhile to compare aberdeen to an earlier film released in 2001 , jonathan nossiter's captivating signs & wonders . \n",
      "it's not just because skarsg ? rd and rampling played disturbed parental figures in both films ( they're not bound by ceremonial wedlock in aberdeen ) . \n",
      "the differences in the way their characters were presented is significant . \n",
      "in aberdeen , rampling is a luminous diva , preening and static in her hospital bed . \n",
      "despite skarsg ? rd's solid performance as tomas , his pathetic drunk is never given much of a chance to emote anything besides catatonic sorrow . \n",
      "there's genuine ferocity and sexually charged frisson during their understated confrontations in signs & wonders , allowing them to suggest a gray zone of complications that accompany torn romance and years of stifled curiosity . \n",
      "nossiter's film thoroughly explores this neurotic territory in addition to delving into the americanization of greece and the use of mysticism as an illusion to deflect pain . \n",
      "if signs & wonders sometimes feels overloaded with ideas , at least it's willing to stretch beyond what we've come to expect from traditional drama . \n",
      "aberdeen is never half so ambitious , content to sleepwalk through the rhythms and timing of other movies . \n",
      "when did character driven stories stop paying attention to the complexities of real life ? \n",
      "the depressing answer can be found in lawrence kasdan's trite but occasionally useful grand canyon , where steve martin's hollywood mogul pronounces , \" all of life's riddles are answered in the movies ! \" \n",
      "even foreign films are taking that advice to heart . \n",
      "\n",
      "****************************************************************************************************\n"
     ]
    }
   ],
   "source": [
    "files = os.listdir('data')\n",
    "\n",
    "\n",
    "for file in files:\n",
    "    if file.endswith('.txt'):\n",
    "        file = 'data' + '\\\\' + file\n",
    "        print('File name : ', file)\n",
    "        f = open(file)\n",
    "        text = f.read()\n",
    "    \n",
    "        print(text)\n",
    "        print('**'*50)"
   ]
  },
  {
   "cell_type": "code",
   "execution_count": 24,
   "id": "023210e4",
   "metadata": {},
   "outputs": [],
   "source": [
    "import glob"
   ]
  },
  {
   "cell_type": "code",
   "execution_count": 27,
   "id": "0c3ec38e",
   "metadata": {},
   "outputs": [
    {
     "name": "stdout",
     "output_type": "stream",
     "text": [
      "synopsis : a mentally unstable man undergoing psychotherapy saves a boy from a potentially fatal accident and then falls in love with the boy's mother , a fledgling restauranteur . \n",
      "unsuccessfully attempting to gain the woman's favor , he takes pictures of her and kills a number of people in his way . \n",
      "comments : stalked is yet another in a seemingly endless string of spurned-psychos-getting-their-revenge type movies which are a stable category in the 1990s film industry , both theatrical and direct-to-video . \n",
      "their proliferation may be due in part to the fact that they're typically inexpensive to produce ( no special effects , no big name stars ) and serve as vehicles to flash nudity ( allowing them to frequent late-night cable television ) . \n",
      "stalked wavers slightly from the norm in one respect : the psycho never actually has an affair ; on the contrary , he's rejected rather quickly ( the psycho typically is an ex-lover , ex-wife , or ex-husband ) . \n",
      "other than that , stalked is just another redundant entry doomed to collect dust on video shelves and viewed after midnight on cable . \n",
      "stalked does not provide much suspense , though that is what it sets out to do . \n",
      "interspersed throughout the opening credits , for instance , a serious-sounding narrator spouts statistics about stalkers and ponders what may cause a man to stalk ( it's implicitly implied that all stalkers are men ) while pictures of a boy are shown on the screen . \n",
      "after these credits , a snapshot of actor jay underwood appears . \n",
      "the narrator states that \" this is the story of daryl gleason \" and tells the audience that he is the stalker . \n",
      "of course , really , this is the story of restauranteur brooke daniels . \n",
      "if the movie was meant to be about daryl , then it should have been called stalker not stalked . \n",
      "okay . so we know who the stalker is even before the movie starts ; no guesswork required . \n",
      "stalked proceeds , then , as it begins : obvious , obvious , obvious . \n",
      "the opening sequence , contrived quite a bit , brings daryl and brooke ( the victim ) together . \n",
      "daryl obsesses over brooke , follows her around , and tries to woo her . \n",
      "ultimately rejected by her , his plans become more and more desperate and elaborate . \n",
      "these plans include the all-time , psycho-in-love , cliche : the murdered pet . \n",
      "for some reason , this genre's films require a dead pet to be found by the victim stalked . \n",
      "stalked is no exception ( it's a cat this time -- found in the shower ) . \n",
      "events like these lead to the inevitable showdown between stalker and stalked , where only one survives ( guess who it invariably always is and you'll guess the conclusion to this turkey ) . \n",
      "stalked's cast is uniformly adequate : not anything to write home about but also not all that bad either . \n",
      "jay underwood , as the stalker , turns toward melodrama a bit too much . \n",
      "he overdoes it , in other words , but he still manages to be creepy enough to pass as the type of stalker the story demands . \n",
      "maryam d'abo , about the only actor close to being a star here ( she played the bond chick in the living daylights ) , is equally adequate as the \" stalked \" of the title , even though she seems too ditzy at times to be a strong , independent business-owner . \n",
      "brooke ( d'abo ) needs to be ditzy , however , for the plot to proceed . \n",
      "toward the end , for example , brooke has her suspicions about daryl . \n",
      "to ensure he won't use it as another excuse to see her , brooke decides to return a toolbox he had left at her place to his house . \n",
      "does she just leave the toolbox at the door when no one answers ? \n",
      "of course not . \n",
      "she tries the door , opens it , and wanders around the house . \n",
      "when daryl returns , he enters the house , of course , so our heroine is in danger . \n",
      "somehow , even though her car is parked at the front of the house , right by the front door , daryl is oblivious to her presence inside . \n",
      "the whole episode places an incredible strain on the audience's suspension of disbelief and questions the validity of either character's intelligence . \n",
      "stalked receives two stars because , even though it is highly derivative and somewhat boring , it is not so bad that it cannot be watched . \n",
      "rated r mostly for several murder scenes and brief nudity in a strip bar , it is not as offensive as many other thrillers in this genre are . \n",
      "if you're in the mood for a good suspense film , though , stake out something else . \n",
      "\n",
      "****************************************************************************************************\n",
      "capsule : in 2176 on the planet mars police taking into custody an accused murderer face the title menace . \n",
      "there is a lot of fighting and not a whole lot of story otherwise . \n",
      "john carpenter reprises so many ideas from his previous films , especially assault on precinct 13 , that the new film comes off as his homage to himself . \n",
      " , 0 ( -4 to +4 ) . \n",
      "john carpenter apparently believes that action scenes in which people fight something horrible are the same as horror scenes . \n",
      "for a writer and director of horror films , supposedly an expert on horror , it is a very bad mistake to make . \n",
      "ghosts of mars is called a horror movie , but it is more just a drawn out fight between humans and a surprisingly low-powered alien menace . \n",
      "in addition if anybody but john carpenter had made ghosts of mars , carpenter would have grounds to sue . \n",
      "this film is just chock full of pieces taken from assault on precinct 13 , the thing , and prince of darkness . \n",
      "it is , in fact , surprising that carpenter managed to fit so many pieces of his previous work into this film in such an admittedly novel way . \n",
      "but that still does not make for a really good science fiction experience . \n",
      "ghosts of mars takes place in the year 2176 . \n",
      "mars has been mostly terraformed so that humans can walk on the surface without breathing gear ( which is good for the film's budget ) . \n",
      "it is never mentioned , but the gravity on mars has been increased somehow to earth-normal , again making it easier to film . \n",
      "society has changed a bit by that time , but it has advanced surprisingly little . \n",
      "apparently the culture has changed so that women are much more in positions of control . \n",
      "and from carpenter's view , women have really made a mess of things . \n",
      "society has stagnated under female control so that beyond some minor technological advances society has changed less in 175 years than we might expect it to change in ten . \n",
      "the basic plot of ghosts of mars has much in common with that of assault on precinct 13 except that precinct 9 ( yes , precinct 9 ) has been replaced by a somewhat tacky looking rundown martian mining colony . \n",
      "instead of having the criminal \" napolean \" wilson , this film has the criminal \" desolation \" williams . \n",
      "instead of facing hoodlums with automatic weapons the police face , well , ghosts of mars . \n",
      "because the ghosts are somewhat alien in nature they should behave in some alien manner , but they essentially behave as human savages , in another lapse of imagination . \n",
      "the story is told in flashback , flashback within flashback , and flashback within flashback within flashback . \n",
      "ghosts of mars takes place entirely at night and is filmed almost entirely in tones of red , yellow , and black . \n",
      "carpenter manages to give us a powerful opening scene , showing a mining train rushing through the martian night to the sound of music with a heavy beat . \n",
      "sadly what follows is not really up to the buildup . \n",
      "the terror he creates looks a little too much like fugitive wannabes from the rock band kiss . \n",
      "his idea of building suspense is having a bunch of sudden jump scenes that sucker the viewer into thinking something scary is happening and then prove to be just something boring . \n",
      "these are standard haunted house film shock effects that require no great talent to give the audience . \n",
      "somewhat newer but also unimpressive are the cgi digital decapitations in some of the fights . \n",
      "within a short stretch of time we have seen the release of mission to mars , red planet , and ghosts of mars . \n",
      "after mission to mars was panned by too many reviewers it looks better and better and better as time goes by . \n",
      "i rate ghosts of mars a 4 on the 0 to 10 scale and a 0 on the -4 to +4 scale . \n",
      "following the movie i showed my wife , who liked ghosts of mars moderately more than i did , carpenter's classic assault on precinct 13 . \n",
      "her comment is that it was seeing the same film twice . \n",
      "\n",
      "****************************************************************************************************\n",
      "so ask yourself what \" 8mm \" ( \" eight millimeter \" ) is really all about . \n",
      "is it about a wholesome surveillance man who loses sight of his values after becoming enmeshed in the seedy , sleazy underworld of hardcore pornography ? \n",
      "is it about the business itself , how , bubbling just beneath the surface of big-town americana , there's a sordid world of sick and depraved people who won't necessarily stop short of murder in order to satisfy their sick and twisted desires ? \n",
      "or is it about those who can , those who are in a position to influence the making of the kinds of films sick and demented people want to see ? \n",
      "i'm not talking about snuff films , supposed \" documentaries \" of victims being brutalized and killed on camera . \n",
      "i'm talking about films like \" 8mm \" and its director , joel schumacher . \n",
      "with a recent run of big budget movies to his credit-- \" batman & robin , \" \" a time to kill , \" \" batman forever , \" \" the client \" --schumacher certainly has that kind of influence . \n",
      "is \" 8mm \" something you really want to see ? \n",
      "probably not . \n",
      "the first two-thirds of \" 8mm \" unwind as a fairly conventional missing persons drama , albeit with a particularly unsavory core . \n",
      "then , as it's been threatening all along , the film explodes into violence . \n",
      "and just when you think it's finally over , schumacher tags on a ridiculous self-righteous finale that drags the whole unpleasant experience down even further . \n",
      "trust me . \n",
      "there are better ways to waste two hours of your life . \n",
      "nicolas ' \" snake eyes \" ' cage plays private investigator tom welles who is hired by a wealthy philadelphia widow to determine whether a reel of film found in her late husband's safe documents a young girl's murder . \n",
      "welles goes about his assignment rather matter-of-factly , and the pieces of the puzzle fall into place rather neatly , almost as if you don't need any specialized skills or training to do this . \n",
      "welles certainly makes it look easy . \n",
      "and cops , obviously , never look in toilet tanks for clues . \n",
      "the deeper welles digs into his investigation the more obsessed he becomes , like george c . scott in paul schrader's \" hardcore . \" \n",
      "occasionally , a little flickering sound whirs in his head like sprockets winding through a film projector , reminding him of his unpleasant task . \n",
      "there are hints that this is taking its toll on his lovely wife , played by catherine keener , who is frustrated by her husband spending all of his time in cleveland rather than in their ugly split-level home in harrisburg , pa . \n",
      " \" 8mm \" doesn't condemn or condone its subject matter , it just exploits it . \n",
      "the irony , of course , is that schumacher and \" seven \" scribe andrew kevin walker's vision of life in the snuff lane is limited by what they can show in an r-rated , first-run hollywood product . \n",
      "so we only see snippets of snuff , and a lot more footage of nicolas cage covering his face in horror . \n",
      "later it's the turn of joaquin phoenix ( who's quite good and by far the film's most interesting character as adult bookstore flunky max california ) to cover his face as the horrid thing is screened over and over again . \n",
      "all this to get to the familiar yet offensive \" revelation \" that sexual deviants are not , indeed , monsters but everyday people like you and me . \n",
      "neither super nor standard , \" 8mm \" is shocking only in its banality . \n",
      "\n",
      "****************************************************************************************************\n",
      "that's exactly how long the movie felt to me . \n",
      "there weren't even nine laughs in nine months . \n",
      "it's a terrible mess of a movie starring a terrible mess of a man , mr . hugh grant , a huge dork . \n",
      "it's not the whole oral-sex/prostitution thing ( referring to grant , not me ) that bugs me , it's the fact that grant is annoying . \n",
      "not just adam sandler-annoying , we're talking jim carrey-annoying . \n",
      "since when do eye flutters and nervous smiles pass for acting ? \n",
      "but , on the other hand , since when do really bad slapstick ( a fistfight in the delivery room culminating in grant's head in joan cusack's lap--a scene he paid $60 to have included in the movie ) and obscene double entendres ( robin williams , the obstetrician , tells grant's pregnant girlfriend she has \" a big pussy , \" referring of course to the size of the cat hairs on her coat , but nonetheless , grant paid $60 to have the exchange included in the movie ) pass for comedy ? \n",
      "nine months is a predictable cookie-cutter movie with no originality in humor or plot . \n",
      "hugh grant plays a successful child psychiatrist . \n",
      "why a child psychologist ? \n",
      "so the scriptwriters could inject the following unfunny exchange : \n",
      "kid : my dad's an asshole . \n",
      "grant ( flutters eyelashes , offers a nervous smile , then responds in his annoying english accent and i-think-i-actually-have- talent attitude ) : could you possibly elaborate on that ? \n",
      "kid : my dad's a _huge_ asshole . \n",
      "more like a hugh asshole , but that's beside the point , which is : nine months includes too many needlessly stupid jokes that get laughs from the ten year olds in the audience while everyone else shakes his or her head in disbelief . \n",
      "so , anyway , grant finds out his girlfriend is pregnant and does his usual reaction ( fluttered eyelashes , nervous smiles ) . \n",
      "this paves the way for every possible pregnancy/child birth gag in the book , especially since grant's equally annoying friend's wife is also pregnant . \n",
      "the annoying friend is played by tom arnold , who provides most of the cacophonous slapstick , none of which is funny , such as a scene where arnold beats up a costumed \" arnie the dinosaur \" ( you draw your own parallels on that one ) in a toy store . \n",
      "the only interesting character in the movie is played by jeff goldblum , who should have hid himself away somewhere after the dreadful hideaway , as an artist with a fear of ( and simultaneous longing for ) commitment . \n",
      "not even robin williams , who plays a russian doctor who has recently decided to switch from veterinary medicine to obstetrics , has much humor . \n",
      "his is a one-joke character-- the old foreign-guy-who-mispronounces-english stereotype ( did someone say yakov smirnov ? \n",
      "that's my favorite vodka , by the way ) , hence the line \" now it's time to take a look at your volvo , \" another nasty but unamusing joke , except this one goes right over the ten year olds' heads , while the adults simultaneously groan . \n",
      "nine months is a complete failure , low on laughs and intelligence and high on loud , unfunny slapstick , failed jokes and other uninspired lunacy . \n",
      "hugh grant's sunset boulevard arrest ( please , no caught-with-his-pants-down jokes ) may bring more people into the theaters , but they certainly won't leave with a smile on their faces , not after 90 minutes of grant's nervous smiles . \n",
      "everything in the movie is so forced , so unauthentic that anyone with an i . q . \n",
      "over 80 ( sorry , hugh ) will know they wasted their money on an unfulfilled desire . \n",
      "but at least they didn't spend 60 bucks for it . \n",
      "\n",
      "****************************************************************************************************\n",
      "call it a road trip for the walking wounded . \n",
      "stellan skarsg ? rd plays such a convincingly zombified drunken loser that it's difficult to spend nearly two hours of screen time in his smelly , boozed-out presence . \n",
      "yet this ever-reliable swedish actor adds depth and significance to the otherwise plodding and forgettable aberdeen , a sentimental and painfully mundane european drama . \n",
      "playwright august strindberg built his career on families and relationships paralyzed by secrets , unable to express their longings until the hour is far too late . \n",
      "that's an accurate reflection of what aberdeen strives for , focusing on the pairing of an alcoholic father , tomas ( skarsg ? rd ) and his alienated , openly hostile yuppie daughter , kaisa ( lena headey , gossip ) . \n",
      "they haven't spoken in years , and wouldn't even be making the long trip from norway to aberdeen , scotland by automobile if it weren't for kaisa's mother ( charlotte rampling , under the sand ) rotting away in a hospital bed from cancer . \n",
      "in a soap opera twist , mother has only a few days to live . \n",
      " ( only in the movies , right ? ) \n",
      "too blitzed to even step foot on a plane , tomas hits the open road with kaisa . \n",
      "loathing each other all the while , they make periodic stops for tomas to puke on the dashboard or pass out -- whenever he isn't muttering what a rotten kid she turned out to be . \n",
      "despite his sloshed viewpoint , tomas recognizes that the apple hasn't fallen very far from the tree . \n",
      "kaisa gets nosebleeds from snorting coke , sabotages her personal relationships through indifference , and is unable to restrain her quick and vindictive temper . \n",
      "ain't they a pair ? \n",
      "unable to find true notes of unspoken familial empathy in the one-note and repetitively bitchy dialogue , screenwriters kristin amundsen and hans petter moland fabricate a series of contrivances to propel events forward -- lost money , roving street hooligans looking for drunks to kick around , nosy cops , and flat tires all figure into the schematic and convenient narrative . \n",
      "by the time they reach the hospital , it's time to unveil the secrets from a dark past that are not only simplistic devices that trivialize the father-daughter conflict , they're also the mainstays of many a bad strindberg wannabe . \n",
      "this revelation exists purely for its own sake . \n",
      "aberdeen doesn't know where else to go . \n",
      "weak , unimaginative casting thwarts the pivotal role of kaisa . \n",
      "if lena headey were a stronger actress , perhaps aberdeen could have been able to coast on the performances and moody , haunting cinematography ( rendering norway into its own pastoral ghost world -- the reference to a certain superior american indie flick intentional ) . \n",
      "headey's too busy acting , using her face and furrowed brow to convey every last twitch of insouciance . \n",
      "if she were paying any attention to skarsg ? rd , maybe she'd figure out that doing less can reveal so much more . \n",
      "it's worthwhile to compare aberdeen to an earlier film released in 2001 , jonathan nossiter's captivating signs & wonders . \n",
      "it's not just because skarsg ? rd and rampling played disturbed parental figures in both films ( they're not bound by ceremonial wedlock in aberdeen ) . \n",
      "the differences in the way their characters were presented is significant . \n",
      "in aberdeen , rampling is a luminous diva , preening and static in her hospital bed . \n",
      "despite skarsg ? rd's solid performance as tomas , his pathetic drunk is never given much of a chance to emote anything besides catatonic sorrow . \n",
      "there's genuine ferocity and sexually charged frisson during their understated confrontations in signs & wonders , allowing them to suggest a gray zone of complications that accompany torn romance and years of stifled curiosity . \n",
      "nossiter's film thoroughly explores this neurotic territory in addition to delving into the americanization of greece and the use of mysticism as an illusion to deflect pain . \n",
      "if signs & wonders sometimes feels overloaded with ideas , at least it's willing to stretch beyond what we've come to expect from traditional drama . \n",
      "aberdeen is never half so ambitious , content to sleepwalk through the rhythms and timing of other movies . \n",
      "when did character driven stories stop paying attention to the complexities of real life ? \n",
      "the depressing answer can be found in lawrence kasdan's trite but occasionally useful grand canyon , where steve martin's hollywood mogul pronounces , \" all of life's riddles are answered in the movies ! \" \n",
      "even foreign films are taking that advice to heart . \n",
      "\n",
      "****************************************************************************************************\n"
     ]
    }
   ],
   "source": [
    "text_file_list = glob.glob('data\\\\' + '*.txt')\n",
    "for file in text_file_list:\n",
    "    f = open(file)\n",
    "    text = f.read()\n",
    "    print(text)\n",
    "    print('**'*50)"
   ]
  },
  {
   "cell_type": "code",
   "execution_count": 31,
   "id": "44f1f5b8",
   "metadata": {},
   "outputs": [
    {
     "data": {
      "text/plain": [
       "[]"
      ]
     },
     "execution_count": 31,
     "metadata": {},
     "output_type": "execute_result"
    }
   ],
   "source": [
    "folder_path = r'G:\\Velocity 16 APR\\05_30_OS_Module_Datetime\\16_apr'\n",
    "text_file_list = glob.glob(folder_path + '*.pdf')\n",
    "text_file_list"
   ]
  },
  {
   "cell_type": "code",
   "execution_count": 36,
   "id": "4244e169",
   "metadata": {},
   "outputs": [
    {
     "data": {
      "text/plain": [
       "['G:\\\\Velocity 16 APR\\\\05_30_OS_Module_Datetime\\\\16_apr\\\\nf1\\\\Assignment-01(Variables, String, int, float).pdf',\n",
       " 'G:\\\\Velocity 16 APR\\\\05_30_OS_Module_Datetime\\\\16_apr\\\\nf2\\\\Assignment-02(List,Tuple).pdf',\n",
       " 'G:\\\\Velocity 16 APR\\\\05_30_OS_Module_Datetime\\\\16_apr\\\\nf3\\\\Assignment-03(Patterns).pdf']"
      ]
     },
     "execution_count": 36,
     "metadata": {},
     "output_type": "execute_result"
    }
   ],
   "source": [
    "folder_path = r'G:\\Velocity 16 APR\\05_30_OS_Module_Datetime\\16_apr\\**\\\\'\n",
    "pdf_file_list = glob.glob(folder_path + '*.pdf')\n",
    "pdf_file_list"
   ]
  },
  {
   "cell_type": "code",
   "execution_count": 40,
   "id": "9c1cda0d",
   "metadata": {},
   "outputs": [
    {
     "data": {
      "text/plain": [
       "['G:\\\\Velocity 16 APR\\\\05_30_OS_Module_Datetime\\\\16_apr\\\\nf1\\\\Assignment-01(Variables, String, int, float).pdf']"
      ]
     },
     "execution_count": 40,
     "metadata": {},
     "output_type": "execute_result"
    }
   ],
   "source": [
    "folder_path = r'G:\\Velocity 16 APR\\05_30_OS_Module_Datetime\\16_apr\\nf1\\\\'\n",
    "text_file_list = glob.glob(folder_path + '*.pdf')\n",
    "text_file_list"
   ]
  },
  {
   "cell_type": "code",
   "execution_count": null,
   "id": "64718d2a",
   "metadata": {},
   "outputs": [],
   "source": []
  },
  {
   "cell_type": "code",
   "execution_count": null,
   "id": "2cbf3653",
   "metadata": {},
   "outputs": [],
   "source": []
  },
  {
   "cell_type": "code",
   "execution_count": null,
   "id": "1156046f",
   "metadata": {},
   "outputs": [],
   "source": []
  },
  {
   "cell_type": "code",
   "execution_count": null,
   "id": "20361d6b",
   "metadata": {},
   "outputs": [],
   "source": []
  },
  {
   "cell_type": "code",
   "execution_count": null,
   "id": "3dbd3056",
   "metadata": {},
   "outputs": [],
   "source": []
  },
  {
   "cell_type": "code",
   "execution_count": null,
   "id": "37ee0ba6",
   "metadata": {},
   "outputs": [],
   "source": []
  },
  {
   "cell_type": "code",
   "execution_count": null,
   "id": "81115f51",
   "metadata": {},
   "outputs": [],
   "source": []
  },
  {
   "cell_type": "code",
   "execution_count": null,
   "id": "adafca8e",
   "metadata": {},
   "outputs": [],
   "source": []
  },
  {
   "cell_type": "code",
   "execution_count": null,
   "id": "65725b8f",
   "metadata": {},
   "outputs": [],
   "source": []
  },
  {
   "cell_type": "code",
   "execution_count": null,
   "id": "e094a33b",
   "metadata": {},
   "outputs": [],
   "source": []
  },
  {
   "cell_type": "code",
   "execution_count": null,
   "id": "774a7711",
   "metadata": {},
   "outputs": [],
   "source": []
  },
  {
   "cell_type": "code",
   "execution_count": null,
   "id": "5d005f1a",
   "metadata": {},
   "outputs": [],
   "source": []
  },
  {
   "cell_type": "code",
   "execution_count": null,
   "id": "cc14e3ea",
   "metadata": {},
   "outputs": [],
   "source": []
  },
  {
   "cell_type": "code",
   "execution_count": null,
   "id": "c9b74346",
   "metadata": {},
   "outputs": [],
   "source": []
  },
  {
   "cell_type": "code",
   "execution_count": null,
   "id": "2f536c1b",
   "metadata": {},
   "outputs": [],
   "source": []
  },
  {
   "cell_type": "code",
   "execution_count": null,
   "id": "a2634c6e",
   "metadata": {},
   "outputs": [],
   "source": []
  },
  {
   "cell_type": "code",
   "execution_count": null,
   "id": "691a7271",
   "metadata": {},
   "outputs": [],
   "source": []
  },
  {
   "cell_type": "code",
   "execution_count": null,
   "id": "d328cc4d",
   "metadata": {},
   "outputs": [],
   "source": []
  },
  {
   "cell_type": "code",
   "execution_count": null,
   "id": "6311e8de",
   "metadata": {},
   "outputs": [],
   "source": []
  },
  {
   "cell_type": "code",
   "execution_count": null,
   "id": "b9bc38a4",
   "metadata": {},
   "outputs": [],
   "source": []
  },
  {
   "cell_type": "code",
   "execution_count": null,
   "id": "feb70067",
   "metadata": {},
   "outputs": [],
   "source": []
  },
  {
   "cell_type": "code",
   "execution_count": null,
   "id": "ed3b955f",
   "metadata": {},
   "outputs": [],
   "source": []
  },
  {
   "cell_type": "code",
   "execution_count": null,
   "id": "e8e1d611",
   "metadata": {},
   "outputs": [],
   "source": []
  },
  {
   "cell_type": "code",
   "execution_count": null,
   "id": "e4adba94",
   "metadata": {},
   "outputs": [],
   "source": []
  },
  {
   "cell_type": "code",
   "execution_count": null,
   "id": "1e7952bf",
   "metadata": {},
   "outputs": [],
   "source": []
  },
  {
   "cell_type": "code",
   "execution_count": null,
   "id": "82d82f4a",
   "metadata": {},
   "outputs": [],
   "source": []
  },
  {
   "cell_type": "code",
   "execution_count": null,
   "id": "b87ef311",
   "metadata": {},
   "outputs": [],
   "source": []
  },
  {
   "cell_type": "code",
   "execution_count": null,
   "id": "e5bff81b",
   "metadata": {},
   "outputs": [],
   "source": []
  },
  {
   "cell_type": "code",
   "execution_count": null,
   "id": "e850fccf",
   "metadata": {},
   "outputs": [],
   "source": []
  },
  {
   "cell_type": "code",
   "execution_count": null,
   "id": "5e7e0c28",
   "metadata": {},
   "outputs": [],
   "source": []
  },
  {
   "cell_type": "code",
   "execution_count": null,
   "id": "7f963c8a",
   "metadata": {},
   "outputs": [],
   "source": []
  },
  {
   "cell_type": "code",
   "execution_count": null,
   "id": "8c56768b",
   "metadata": {},
   "outputs": [],
   "source": []
  },
  {
   "cell_type": "code",
   "execution_count": null,
   "id": "4bcac73e",
   "metadata": {},
   "outputs": [],
   "source": []
  },
  {
   "cell_type": "code",
   "execution_count": null,
   "id": "71f51610",
   "metadata": {},
   "outputs": [],
   "source": []
  },
  {
   "cell_type": "code",
   "execution_count": null,
   "id": "b5902898",
   "metadata": {},
   "outputs": [],
   "source": []
  },
  {
   "cell_type": "code",
   "execution_count": null,
   "id": "c0ec5140",
   "metadata": {},
   "outputs": [],
   "source": []
  },
  {
   "cell_type": "code",
   "execution_count": null,
   "id": "d7d7ff74",
   "metadata": {},
   "outputs": [],
   "source": []
  },
  {
   "cell_type": "code",
   "execution_count": null,
   "id": "4f5df270",
   "metadata": {},
   "outputs": [],
   "source": []
  },
  {
   "cell_type": "code",
   "execution_count": null,
   "id": "c0f40bc3",
   "metadata": {},
   "outputs": [],
   "source": []
  },
  {
   "cell_type": "code",
   "execution_count": null,
   "id": "c1643f61",
   "metadata": {},
   "outputs": [],
   "source": []
  },
  {
   "cell_type": "code",
   "execution_count": null,
   "id": "49b2c167",
   "metadata": {},
   "outputs": [],
   "source": []
  },
  {
   "cell_type": "code",
   "execution_count": null,
   "id": "3e4e5da3",
   "metadata": {},
   "outputs": [],
   "source": []
  },
  {
   "cell_type": "code",
   "execution_count": null,
   "id": "8017ba41",
   "metadata": {},
   "outputs": [],
   "source": []
  },
  {
   "cell_type": "code",
   "execution_count": null,
   "id": "32382220",
   "metadata": {},
   "outputs": [],
   "source": []
  },
  {
   "cell_type": "code",
   "execution_count": null,
   "id": "28e7f757",
   "metadata": {},
   "outputs": [],
   "source": []
  },
  {
   "cell_type": "code",
   "execution_count": null,
   "id": "23701287",
   "metadata": {},
   "outputs": [],
   "source": []
  },
  {
   "cell_type": "code",
   "execution_count": null,
   "id": "5e0056ae",
   "metadata": {},
   "outputs": [],
   "source": []
  },
  {
   "cell_type": "code",
   "execution_count": null,
   "id": "10ad7ef1",
   "metadata": {},
   "outputs": [],
   "source": []
  },
  {
   "cell_type": "code",
   "execution_count": null,
   "id": "d864c3f9",
   "metadata": {},
   "outputs": [],
   "source": []
  },
  {
   "cell_type": "code",
   "execution_count": null,
   "id": "e49b1edd",
   "metadata": {},
   "outputs": [],
   "source": []
  },
  {
   "cell_type": "code",
   "execution_count": null,
   "id": "8a466639",
   "metadata": {},
   "outputs": [],
   "source": []
  },
  {
   "cell_type": "code",
   "execution_count": null,
   "id": "6fcb9a32",
   "metadata": {},
   "outputs": [],
   "source": []
  },
  {
   "cell_type": "code",
   "execution_count": null,
   "id": "d533d64a",
   "metadata": {},
   "outputs": [],
   "source": []
  },
  {
   "cell_type": "code",
   "execution_count": null,
   "id": "c71945d2",
   "metadata": {},
   "outputs": [],
   "source": []
  },
  {
   "cell_type": "code",
   "execution_count": null,
   "id": "26e3718f",
   "metadata": {},
   "outputs": [],
   "source": []
  },
  {
   "cell_type": "code",
   "execution_count": null,
   "id": "202a7838",
   "metadata": {},
   "outputs": [],
   "source": []
  },
  {
   "cell_type": "code",
   "execution_count": null,
   "id": "a827dfab",
   "metadata": {},
   "outputs": [],
   "source": []
  },
  {
   "cell_type": "code",
   "execution_count": null,
   "id": "f0bd853d",
   "metadata": {},
   "outputs": [],
   "source": []
  },
  {
   "cell_type": "code",
   "execution_count": null,
   "id": "6fe487ff",
   "metadata": {},
   "outputs": [],
   "source": []
  },
  {
   "cell_type": "code",
   "execution_count": null,
   "id": "9f100ec6",
   "metadata": {},
   "outputs": [],
   "source": []
  },
  {
   "cell_type": "code",
   "execution_count": null,
   "id": "cef3896f",
   "metadata": {},
   "outputs": [],
   "source": []
  },
  {
   "cell_type": "code",
   "execution_count": null,
   "id": "8657db7f",
   "metadata": {},
   "outputs": [],
   "source": []
  },
  {
   "cell_type": "code",
   "execution_count": null,
   "id": "b9fa5aae",
   "metadata": {},
   "outputs": [],
   "source": []
  },
  {
   "cell_type": "code",
   "execution_count": null,
   "id": "0d8eaf01",
   "metadata": {},
   "outputs": [],
   "source": []
  },
  {
   "cell_type": "code",
   "execution_count": null,
   "id": "775f7059",
   "metadata": {},
   "outputs": [],
   "source": []
  },
  {
   "cell_type": "code",
   "execution_count": null,
   "id": "f58aeb43",
   "metadata": {},
   "outputs": [],
   "source": []
  },
  {
   "cell_type": "code",
   "execution_count": null,
   "id": "c0b6fea0",
   "metadata": {},
   "outputs": [],
   "source": []
  }
 ],
 "metadata": {
  "kernelspec": {
   "display_name": "Python 3 (ipykernel)",
   "language": "python",
   "name": "python3"
  },
  "language_info": {
   "codemirror_mode": {
    "name": "ipython",
    "version": 3
   },
   "file_extension": ".py",
   "mimetype": "text/x-python",
   "name": "python",
   "nbconvert_exporter": "python",
   "pygments_lexer": "ipython3",
   "version": "3.11.3"
  }
 },
 "nbformat": 4,
 "nbformat_minor": 5
}
