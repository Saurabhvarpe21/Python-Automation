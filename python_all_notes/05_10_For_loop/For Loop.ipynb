{
 "cells": [
  {
   "cell_type": "markdown",
   "id": "de27901a",
   "metadata": {},
   "source": [
    "# For Loop"
   ]
  },
  {
   "cell_type": "code",
   "execution_count": null,
   "id": "d8cc7ba1",
   "metadata": {},
   "outputs": [],
   "source": [
    "It works like an iterator\n",
    "\n",
    "Sequence >> list ,tuple,dict, set"
   ]
  },
  {
   "cell_type": "code",
   "execution_count": 2,
   "id": "153c4c88",
   "metadata": {},
   "outputs": [
    {
     "name": "stdout",
     "output_type": "stream",
     "text": [
      "0\n",
      "1\n",
      "2\n",
      "3\n",
      "4\n"
     ]
    }
   ],
   "source": [
    "for i in range(5):\n",
    "    print(i)"
   ]
  },
  {
   "cell_type": "code",
   "execution_count": 3,
   "id": "7751225c",
   "metadata": {},
   "outputs": [
    {
     "name": "stdout",
     "output_type": "stream",
     "text": [
      "Hello\n",
      "Hello\n",
      "Hello\n",
      "Hello\n",
      "Hello\n"
     ]
    }
   ],
   "source": [
    "for i in range(5):\n",
    "    print('Hello')"
   ]
  },
  {
   "cell_type": "code",
   "execution_count": 4,
   "id": "1027d79a",
   "metadata": {},
   "outputs": [
    {
     "name": "stdout",
     "output_type": "stream",
     "text": [
      "Hello\n",
      "Hello\n",
      "Hello\n",
      "Hello\n",
      "Hello\n"
     ]
    }
   ],
   "source": [
    "for i in range(5,10):\n",
    "    print('Hello')"
   ]
  },
  {
   "cell_type": "code",
   "execution_count": 7,
   "id": "1c7c57ed",
   "metadata": {},
   "outputs": [
    {
     "name": "stdout",
     "output_type": "stream",
     "text": [
      "**********************************************************************\n",
      "20 is an Even Number\n",
      "**********************************************************************\n",
      "3 is an ODD Number\n",
      "**********************************************************************\n",
      "4 is an Even Number\n",
      "**********************************************************************\n",
      "5 is an ODD Number\n",
      "**********************************************************************\n",
      "34 is an Even Number\n",
      "**********************************************************************\n",
      "55 is an ODD Number\n",
      "**********************************************************************\n",
      "77 is an ODD Number\n",
      "**********************************************************************\n",
      "11 is an ODD Number\n",
      "**********************************************************************\n",
      "22 is an Even Number\n",
      "**********************************************************************\n",
      "90 is an Even Number\n"
     ]
    }
   ],
   "source": [
    "list1 = [20,3,4,5,34,55,77,11,22,90]\n",
    "\n",
    "for i in list1:\n",
    "    print(\"*\"*70)\n",
    "    if i%2 == 0:\n",
    "        print(f'{i} is an Even Number')\n",
    "    \n",
    "    else:\n",
    "        print(f'{i} is an ODD Number')"
   ]
  },
  {
   "cell_type": "code",
   "execution_count": 8,
   "id": "666facb9",
   "metadata": {},
   "outputs": [
    {
     "name": "stdout",
     "output_type": "stream",
     "text": [
      "**********************************************************************\n",
      "20 is an Even Number\n",
      "**********************************************************************\n",
      "3 is an ODD Number\n",
      "**********************************************************************\n",
      "4 is an Even Number\n",
      "**********************************************************************\n",
      "5 is an ODD Number\n",
      "**********************************************************************\n",
      "34 is an Even Number\n",
      "**********************************************************************\n",
      "55 is an ODD Number\n",
      "**********************************************************************\n",
      "77 is an ODD Number\n",
      "**********************************************************************\n",
      "11 is an ODD Number\n",
      "**********************************************************************\n",
      "22 is an Even Number\n",
      "**********************************************************************\n",
      "90 is an Even Number\n"
     ]
    }
   ],
   "source": [
    "list1 = [20,3,4,5,34,55,77,11,22,90]\n",
    "\n",
    "for i in list1:\n",
    "    print(\"*\"*70)\n",
    "    if i%2 != 0:\n",
    "        print(f'{i} is an ODD Number')\n",
    "    \n",
    "    else:\n",
    "        print(f'{i} is an Even Number')"
   ]
  },
  {
   "cell_type": "markdown",
   "id": "b14f9477",
   "metadata": {},
   "source": [
    "## Loop Control Statements"
   ]
  },
  {
   "cell_type": "code",
   "execution_count": null,
   "id": "7ff913a3",
   "metadata": {},
   "outputs": [],
   "source": [
    "1. pass\n",
    "2. break\n",
    "3. continue"
   ]
  },
  {
   "cell_type": "markdown",
   "id": "54c2a3ee",
   "metadata": {},
   "source": [
    "## 1. Break statement"
   ]
  },
  {
   "cell_type": "code",
   "execution_count": 9,
   "id": "ff2873c1",
   "metadata": {},
   "outputs": [
    {
     "name": "stdout",
     "output_type": "stream",
     "text": [
      "0\n",
      "1\n",
      "2\n",
      "3\n",
      "4\n",
      "5\n",
      "6\n",
      "7\n",
      "8\n",
      "9\n"
     ]
    }
   ],
   "source": [
    "for i in range(10):\n",
    "    print(i)"
   ]
  },
  {
   "cell_type": "code",
   "execution_count": 10,
   "id": "19afc48c",
   "metadata": {},
   "outputs": [
    {
     "name": "stdout",
     "output_type": "stream",
     "text": [
      "0\n",
      "1\n",
      "2\n",
      "3\n",
      "4\n",
      "5\n",
      "Number is 5\n",
      "6\n",
      "7\n",
      "8\n",
      "9\n"
     ]
    }
   ],
   "source": [
    "for i in range(10):\n",
    "    print(i)\n",
    "    if i == 5:\n",
    "        print('Number is 5')"
   ]
  },
  {
   "cell_type": "code",
   "execution_count": 11,
   "id": "bf31cad8",
   "metadata": {},
   "outputs": [
    {
     "name": "stdout",
     "output_type": "stream",
     "text": [
      "0\n",
      "1\n",
      "2\n",
      "3\n",
      "4\n",
      "5\n",
      "Number is 5\n"
     ]
    }
   ],
   "source": [
    "for i in range(10):\n",
    "    print(i)\n",
    "    if i == 5:\n",
    "        print('Number is 5')\n",
    "        break"
   ]
  },
  {
   "cell_type": "code",
   "execution_count": 12,
   "id": "298c686e",
   "metadata": {},
   "outputs": [
    {
     "name": "stdout",
     "output_type": "stream",
     "text": [
      "0\n",
      "1\n",
      "2\n",
      "3\n",
      "4\n",
      "5\n",
      "Number is 5\n",
      "**********************************************************************\n"
     ]
    }
   ],
   "source": [
    "for i in range(10):\n",
    "    print(i)\n",
    "    if i == 5:\n",
    "        print('Number is 5')\n",
    "        print('*'*70)\n",
    "        break"
   ]
  },
  {
   "cell_type": "code",
   "execution_count": 13,
   "id": "a0008e70",
   "metadata": {},
   "outputs": [
    {
     "name": "stdout",
     "output_type": "stream",
     "text": [
      "0\n",
      "1\n",
      "2\n",
      "3\n",
      "4\n",
      "5\n",
      "Number is 5\n"
     ]
    }
   ],
   "source": [
    "for i in range(10):\n",
    "    print(i)\n",
    "    if i == 5:\n",
    "        print('Number is 5')\n",
    "        \n",
    "        break\n",
    "        print('*'*70)"
   ]
  },
  {
   "cell_type": "code",
   "execution_count": 15,
   "id": "c137776d",
   "metadata": {},
   "outputs": [
    {
     "name": "stdout",
     "output_type": "stream",
     "text": [
      "0\n"
     ]
    }
   ],
   "source": [
    "for i in range(5):\n",
    "    print(i)\n",
    "    break"
   ]
  },
  {
   "cell_type": "code",
   "execution_count": 16,
   "id": "c6dce542",
   "metadata": {},
   "outputs": [
    {
     "name": "stdout",
     "output_type": "stream",
     "text": [
      "0\n",
      "1\n",
      "2\n",
      "3\n",
      "4\n",
      "Hello\n"
     ]
    }
   ],
   "source": [
    "for i in range(5):\n",
    "    print(i)\n",
    "    if i == 4:\n",
    "        print('Hello')"
   ]
  },
  {
   "cell_type": "code",
   "execution_count": 18,
   "id": "9eecffc1",
   "metadata": {},
   "outputs": [
    {
     "name": "stdout",
     "output_type": "stream",
     "text": [
      "0\n"
     ]
    }
   ],
   "source": [
    "for i in range(5):\n",
    "    print(i)\n",
    "    if i == 4:\n",
    "        print('Hello')\n",
    "    break"
   ]
  },
  {
   "cell_type": "code",
   "execution_count": 20,
   "id": "3e430586",
   "metadata": {},
   "outputs": [
    {
     "name": "stdout",
     "output_type": "stream",
     "text": [
      "0\n",
      "Python\n",
      "1\n",
      "Python\n",
      "2\n",
      "Python\n",
      "3\n",
      "Python\n",
      "4\n",
      "Hello\n"
     ]
    }
   ],
   "source": [
    "for i in range(5):\n",
    "    print(i)\n",
    "    if i == 4:\n",
    "        print('Hello')\n",
    "        break\n",
    "    print('Python')"
   ]
  },
  {
   "cell_type": "code",
   "execution_count": 21,
   "id": "1bba506a",
   "metadata": {},
   "outputs": [
    {
     "name": "stdout",
     "output_type": "stream",
     "text": [
      "0\n",
      "1\n",
      "2\n",
      "3\n",
      "4\n",
      "Hello\n"
     ]
    }
   ],
   "source": [
    "for i in range(5):\n",
    "    print(i)\n",
    "    if i == 4:\n",
    "        print('Hello')\n",
    "        break\n",
    "        print('Python')"
   ]
  },
  {
   "cell_type": "markdown",
   "id": "c0d08c12",
   "metadata": {},
   "source": [
    "## 2. Continue statement"
   ]
  },
  {
   "cell_type": "code",
   "execution_count": null,
   "id": "a6f3fd8e",
   "metadata": {},
   "outputs": [],
   "source": [
    "Used to stop current iteration only,\n",
    "Continue with next iteration"
   ]
  },
  {
   "cell_type": "code",
   "execution_count": 22,
   "id": "79adf2be",
   "metadata": {},
   "outputs": [
    {
     "name": "stdout",
     "output_type": "stream",
     "text": [
      "5\n",
      "6\n",
      "7\n",
      "8\n",
      "9\n",
      "10\n"
     ]
    }
   ],
   "source": [
    "for i in range(5,11):\n",
    "    print(i)"
   ]
  },
  {
   "cell_type": "code",
   "execution_count": 24,
   "id": "d8246698",
   "metadata": {},
   "outputs": [
    {
     "name": "stdout",
     "output_type": "stream",
     "text": [
      "5\n",
      "6\n",
      "7\n",
      "8\n",
      "9\n",
      "Hello\n"
     ]
    }
   ],
   "source": [
    "for i in range(5,11):\n",
    "    print(i)\n",
    "    if i == 9:\n",
    "        print('Hello')\n",
    "        break"
   ]
  },
  {
   "cell_type": "code",
   "execution_count": 26,
   "id": "ff0f8725",
   "metadata": {},
   "outputs": [
    {
     "name": "stdout",
     "output_type": "stream",
     "text": [
      "Value in i is: 5\n",
      "Value in i is: 6\n",
      "Value in i is: 7\n",
      "Value in i is: 8\n",
      "Value in i is: 9\n",
      "Hello\n",
      "**********************************************************************\n",
      "Value in i is: 10\n"
     ]
    }
   ],
   "source": [
    "for i in range(5,11):\n",
    "    print('Value in i is:',i)\n",
    "    if i == 9:\n",
    "        print('Hello')\n",
    "#         continue\n",
    "        print('*'*70)"
   ]
  },
  {
   "cell_type": "code",
   "execution_count": 27,
   "id": "5ba07c0b",
   "metadata": {},
   "outputs": [
    {
     "name": "stdout",
     "output_type": "stream",
     "text": [
      "Value in i is: 5\n",
      "Value in i is: 6\n",
      "Value in i is: 7\n",
      "Value in i is: 8\n",
      "Value in i is: 9\n",
      "Hello\n",
      "Value in i is: 10\n"
     ]
    }
   ],
   "source": [
    "for i in range(5,11):\n",
    "    print('Value in i is:',i)\n",
    "    if i == 9:\n",
    "        print('Hello')\n",
    "        continue\n",
    "        print('*'*70)"
   ]
  },
  {
   "cell_type": "code",
   "execution_count": 28,
   "id": "21c43ab9",
   "metadata": {},
   "outputs": [
    {
     "name": "stdout",
     "output_type": "stream",
     "text": [
      "Value in i variable is: 5\n",
      "Value in i variable is: 6\n",
      "Value in i variable is: 7\n",
      "Value in i variable is: 8\n",
      "Hello\n",
      "Value in i variable is: 10\n"
     ]
    }
   ],
   "source": [
    "for i in range(5,11):\n",
    "    \n",
    "    if i == 9:\n",
    "        print('Hello')\n",
    "        continue\n",
    "        \n",
    "    print('Value in i variable is:',i)"
   ]
  },
  {
   "cell_type": "code",
   "execution_count": 29,
   "id": "fcb9051c",
   "metadata": {},
   "outputs": [
    {
     "name": "stdout",
     "output_type": "stream",
     "text": [
      "Value in i variable is: 5\n",
      "Value in i variable is: 6\n",
      "Value in i variable is: 7\n",
      "Value in i variable is: 8\n",
      "Value in i variable is: 10\n"
     ]
    }
   ],
   "source": [
    "for i in range(5,11):\n",
    "    \n",
    "    if i == 9:\n",
    "        continue\n",
    "        print('Hello')\n",
    "        \n",
    "    print('Value in i variable is:',i)"
   ]
  },
  {
   "cell_type": "code",
   "execution_count": null,
   "id": "c687bd34",
   "metadata": {},
   "outputs": [],
   "source": [
    "[a,b,msdhoni,d]"
   ]
  },
  {
   "cell_type": "markdown",
   "id": "2a09ee15",
   "metadata": {},
   "source": [
    "## 3. pass Statement"
   ]
  },
  {
   "cell_type": "code",
   "execution_count": 30,
   "id": "84b90f13",
   "metadata": {},
   "outputs": [
    {
     "name": "stdout",
     "output_type": "stream",
     "text": [
      "Char is p\n",
      "Char is y\n",
      "Char is t\n",
      "Char is h\n",
      "Char is o\n",
      "Char is n\n"
     ]
    }
   ],
   "source": [
    "for char in 'python':\n",
    "    print(f'Char is {char}')"
   ]
  },
  {
   "cell_type": "code",
   "execution_count": 33,
   "id": "87f7574b",
   "metadata": {},
   "outputs": [
    {
     "name": "stdout",
     "output_type": "stream",
     "text": [
      "Char is p\n",
      "Char is y\n",
      "Char is t\n",
      "Char is h\n",
      "Char is o\n",
      "Char is n\n"
     ]
    }
   ],
   "source": [
    "for char in 'python':\n",
    "    pass\n",
    "    print(f'Char is {char}')"
   ]
  },
  {
   "cell_type": "code",
   "execution_count": 34,
   "id": "df7d18b3",
   "metadata": {},
   "outputs": [
    {
     "name": "stdout",
     "output_type": "stream",
     "text": [
      "Char is p\n",
      "Char is y\n",
      "Char is t\n",
      "Char is h\n",
      "Char is o\n",
      "Char is n\n"
     ]
    }
   ],
   "source": [
    "for char in 'python':\n",
    "    pass\n",
    "    print(f'Char is {char}')\n",
    "    pass"
   ]
  },
  {
   "cell_type": "code",
   "execution_count": 38,
   "id": "04e53732",
   "metadata": {},
   "outputs": [
    {
     "name": "stdout",
     "output_type": "stream",
     "text": [
      "1\n",
      "2\n",
      "3\n",
      "4\n"
     ]
    }
   ],
   "source": [
    "for i in range(1,5):\n",
    "    if i == 3:\n",
    "        pass\n",
    "    print(i)"
   ]
  },
  {
   "cell_type": "code",
   "execution_count": 39,
   "id": "2304cef7",
   "metadata": {},
   "outputs": [
    {
     "name": "stdout",
     "output_type": "stream",
     "text": [
      "Char is p\n",
      "Char is y\n",
      "Char is t\n"
     ]
    }
   ],
   "source": [
    "for char in 'python':\n",
    "    print(f'Char is {char}')\n",
    "    if char == 't':\n",
    "        break"
   ]
  },
  {
   "cell_type": "code",
   "execution_count": 40,
   "id": "81c8b34c",
   "metadata": {},
   "outputs": [
    {
     "name": "stdout",
     "output_type": "stream",
     "text": [
      "Char is p\n",
      "Char is y\n"
     ]
    }
   ],
   "source": [
    "for char in 'python':\n",
    "    \n",
    "    if char == 't':\n",
    "        break\n",
    "    print(f'Char is {char}')"
   ]
  },
  {
   "cell_type": "code",
   "execution_count": 41,
   "id": "8d9ef8da",
   "metadata": {},
   "outputs": [
    {
     "name": "stdout",
     "output_type": "stream",
     "text": [
      "Char is p\n",
      "Char is y\n",
      "Char is t\n",
      "Char is h\n",
      "Char is o\n",
      "Char is n\n"
     ]
    }
   ],
   "source": [
    "for char in 'python':\n",
    "    print(f'Char is {char}')\n",
    "    if char == 't':\n",
    "        continue"
   ]
  },
  {
   "cell_type": "code",
   "execution_count": 42,
   "id": "91ebbb47",
   "metadata": {},
   "outputs": [
    {
     "name": "stdout",
     "output_type": "stream",
     "text": [
      "Char is p\n",
      "Char is y\n",
      "Char is h\n",
      "Char is o\n",
      "Char is n\n"
     ]
    }
   ],
   "source": [
    "for char in 'python':\n",
    "    \n",
    "    if char == 't':\n",
    "        continue\n",
    "    print(f'Char is {char}')"
   ]
  },
  {
   "cell_type": "code",
   "execution_count": 44,
   "id": "3cda2c20",
   "metadata": {},
   "outputs": [
    {
     "ename": "IndentationError",
     "evalue": "expected an indented block (<ipython-input-44-5dd4382f623b>, line 5)",
     "output_type": "error",
     "traceback": [
      "\u001b[1;36m  File \u001b[1;32m\"<ipython-input-44-5dd4382f623b>\"\u001b[1;36m, line \u001b[1;32m5\u001b[0m\n\u001b[1;33m    print(f'Char is {char}')\u001b[0m\n\u001b[1;37m    ^\u001b[0m\n\u001b[1;31mIndentationError\u001b[0m\u001b[1;31m:\u001b[0m expected an indented block\n"
     ]
    }
   ],
   "source": [
    "for char in 'python':\n",
    "    \n",
    "    if char == 't':\n",
    "        \n",
    "    print(f'Char is {char}')"
   ]
  },
  {
   "cell_type": "code",
   "execution_count": 43,
   "id": "a479aac3",
   "metadata": {},
   "outputs": [
    {
     "name": "stdout",
     "output_type": "stream",
     "text": [
      "Char is p\n",
      "Char is y\n",
      "Char is t\n",
      "Char is h\n",
      "Char is o\n",
      "Char is n\n"
     ]
    }
   ],
   "source": [
    "for char in 'python':\n",
    "    \n",
    "    if char == 't':\n",
    "        pass\n",
    "    print(f'Char is {char}')"
   ]
  },
  {
   "cell_type": "code",
   "execution_count": 46,
   "id": "b94221e3",
   "metadata": {},
   "outputs": [
    {
     "name": "stdout",
     "output_type": "stream",
     "text": [
      "************************************************************\n"
     ]
    }
   ],
   "source": [
    "for char in 'python':\n",
    "    \n",
    "    if char == 't':\n",
    "        print('*'*60)\n",
    "    \n",
    "    continue\n",
    "    print(f'Char is {char}')"
   ]
  },
  {
   "cell_type": "code",
   "execution_count": 47,
   "id": "72695378",
   "metadata": {},
   "outputs": [],
   "source": [
    "for char in 'python':\n",
    "    continue\n",
    "    if char == 't':\n",
    "        print('*'*60)\n",
    "    \n",
    "    print(f'Char is {char}')"
   ]
  },
  {
   "cell_type": "code",
   "execution_count": 48,
   "id": "a060e622",
   "metadata": {},
   "outputs": [
    {
     "name": "stdout",
     "output_type": "stream",
     "text": [
      "************************************************************\n",
      "@@@@@@@@@@@\n"
     ]
    }
   ],
   "source": [
    "for char in 'python':\n",
    "    \n",
    "    if char == 't':\n",
    "        print('*'*60)\n",
    "        print('@@@@@@@@@@@')\n",
    "    \n",
    "    continue\n",
    "    print(f'Char is {char}')"
   ]
  },
  {
   "cell_type": "code",
   "execution_count": 49,
   "id": "18ab3829",
   "metadata": {},
   "outputs": [
    {
     "name": "stdout",
     "output_type": "stream",
     "text": [
      "Char is p\n",
      "Char is y\n",
      "************************************************************\n",
      "@@@@@@@@@@@\n",
      "Char is h\n",
      "Char is o\n",
      "Char is n\n"
     ]
    }
   ],
   "source": [
    "for char in 'python':\n",
    "    \n",
    "    if char == 't':\n",
    "        print('*'*60)\n",
    "        print('@@@@@@@@@@@')\n",
    "        continue\n",
    "        print('++++++++')\n",
    "        \n",
    "    print(f'Char is {char}')"
   ]
  },
  {
   "cell_type": "code",
   "execution_count": 50,
   "id": "f5af6315",
   "metadata": {},
   "outputs": [
    {
     "name": "stdout",
     "output_type": "stream",
     "text": [
      "int list ==  [2, 3, 10]\n",
      "float list ==  [3.13, 5.64, 9.0]\n",
      "str list ==  ['python', 'Data']\n"
     ]
    }
   ],
   "source": [
    "list1 = [2,3,'python', 3.13,5.64,'Data', 10,9.0]\n",
    "\n",
    "int_list = []\n",
    "float_list = []\n",
    "str_list = []\n",
    "\n",
    "for item in list1:\n",
    "\n",
    "    if type(item) == int:\n",
    "        int_list.append(item)\n",
    "    \n",
    "    elif type(item) == float:\n",
    "        float_list.append(item)\n",
    "    \n",
    "    elif type(item)== str:\n",
    "        str_list.append(item)\n",
    "        \n",
    "        \n",
    "print('int list == ', int_list)\n",
    "print('float list == ', float_list)\n",
    "print('str list == ', str_list)"
   ]
  },
  {
   "cell_type": "code",
   "execution_count": 51,
   "id": "1c1c2793",
   "metadata": {},
   "outputs": [
    {
     "name": "stdout",
     "output_type": "stream",
     "text": [
      "int list ==  [2, 3, 10]\n",
      "float list ==  [3.13, 5.64, 9.0]\n",
      "str list ==  ['python', 'Data']\n"
     ]
    }
   ],
   "source": [
    "list1 = [2,3,'python', 3.13,5.64,'Data', 10,9.0]\n",
    "\n",
    "int_list = []\n",
    "float_list = []\n",
    "str_list = []\n",
    "\n",
    "for item in list1:\n",
    "\n",
    "    if type(item) == int:\n",
    "        int_list.append(item)\n",
    "        continue\n",
    "    \n",
    "    elif type(item) == float:\n",
    "        float_list.append(item)\n",
    "    \n",
    "    elif type(item)== str:\n",
    "        str_list.append(item)\n",
    "        \n",
    "        \n",
    "print('int list == ', int_list)\n",
    "print('float list == ', float_list)\n",
    "print('str list == ', str_list)"
   ]
  },
  {
   "cell_type": "code",
   "execution_count": 52,
   "id": "593d2cb2",
   "metadata": {},
   "outputs": [
    {
     "name": "stdout",
     "output_type": "stream",
     "text": [
      "int list ==  []\n",
      "float list ==  [3.13, 5.64, 9.0]\n",
      "str list ==  ['python', 'Data']\n"
     ]
    }
   ],
   "source": [
    "list1 = [2,3,'python', 3.13,5.64,'Data', 10,9.0]\n",
    "\n",
    "int_list = []\n",
    "float_list = []\n",
    "str_list = []\n",
    "\n",
    "for item in list1:\n",
    "\n",
    "    if type(item) == int:\n",
    "        continue\n",
    "        int_list.append(item)\n",
    "    \n",
    "    elif type(item) == float:\n",
    "        float_list.append(item)\n",
    "    \n",
    "    elif type(item)== str:\n",
    "        str_list.append(item)\n",
    "        \n",
    "        \n",
    "print('int list == ', int_list)\n",
    "print('float list == ', float_list)\n",
    "print('str list == ', str_list)"
   ]
  },
  {
   "cell_type": "code",
   "execution_count": 53,
   "id": "0e2c036e",
   "metadata": {},
   "outputs": [
    {
     "name": "stdout",
     "output_type": "stream",
     "text": [
      "int list ==  []\n",
      "float list ==  [3.13, 5.64, 9.0]\n",
      "str list ==  ['python', 'Data']\n"
     ]
    }
   ],
   "source": [
    "list1 = [2,3,'python', 3.13,5.64,'Data', 10,9.0]\n",
    "\n",
    "int_list = []\n",
    "float_list = []\n",
    "str_list = []\n",
    "\n",
    "for item in list1:\n",
    "\n",
    "    if type(item) == int:\n",
    "        continue\n",
    "        int_list.append(item)\n",
    "    \n",
    "    elif type(item) == float:\n",
    "        float_list.append(item)\n",
    "        continue\n",
    "    \n",
    "    elif type(item)== str:\n",
    "        str_list.append(item)\n",
    "        \n",
    "        \n",
    "print('int list == ', int_list)\n",
    "print('float list == ', float_list)\n",
    "print('str list == ', str_list)"
   ]
  },
  {
   "cell_type": "code",
   "execution_count": 54,
   "id": "104311e4",
   "metadata": {},
   "outputs": [
    {
     "name": "stdout",
     "output_type": "stream",
     "text": [
      "int list ==  [2, 3]\n",
      "float list ==  []\n",
      "str list ==  ['python']\n"
     ]
    }
   ],
   "source": [
    "list1 = [2,3,'python', 3.13,5.64,'Data', 10,9.0]\n",
    "\n",
    "int_list = []\n",
    "float_list = []\n",
    "str_list = []\n",
    "\n",
    "for item in list1:\n",
    "\n",
    "    if type(item) == int:\n",
    "        int_list.append(item)# [2,3]\n",
    "    \n",
    "    elif type(item) == float:\n",
    "        float_list.append(item) #[]\n",
    "        continue\n",
    "    \n",
    "    elif type(item)== str:\n",
    "        str_list.append(item) #['python']\n",
    "        break # exit the loop\n",
    "        \n",
    "        \n",
    "print('int list == ', int_list)\n",
    "print('float list == ', float_list)\n",
    "print('str list == ', str_list)"
   ]
  },
  {
   "cell_type": "code",
   "execution_count": 55,
   "id": "fcdaaab7",
   "metadata": {},
   "outputs": [
    {
     "name": "stdout",
     "output_type": "stream",
     "text": [
      "int list ==  [2, 3]\n",
      "float list ==  [5.5]\n",
      "str list ==  ['python']\n"
     ]
    }
   ],
   "source": [
    "list1 = [2,3,5.5,'python', 3.13,5.64,'Data', 10,9.0]\n",
    "\n",
    "int_list = []\n",
    "float_list = []\n",
    "str_list = []\n",
    "\n",
    "for item in list1:\n",
    "\n",
    "    if type(item) == int:\n",
    "        int_list.append(item)# [2,3]\n",
    "    \n",
    "    elif type(item) == float:\n",
    "        float_list.append(item) #[5.5]\n",
    "        continue\n",
    "    \n",
    "    elif type(item)== str:\n",
    "        str_list.append(item) #['python']\n",
    "        break # exit the loop\n",
    "        \n",
    "        \n",
    "print('int list == ', int_list)\n",
    "print('float list == ', float_list)\n",
    "print('str list == ', str_list)"
   ]
  },
  {
   "cell_type": "markdown",
   "id": "f6ff8b2a",
   "metadata": {},
   "source": [
    "## For - else "
   ]
  },
  {
   "cell_type": "code",
   "execution_count": null,
   "id": "31cf4b75",
   "metadata": {},
   "outputs": [],
   "source": [
    "else block will execute only when the loop complete its all iteration"
   ]
  },
  {
   "cell_type": "code",
   "execution_count": 57,
   "id": "98e5cdf7",
   "metadata": {},
   "outputs": [
    {
     "name": "stdout",
     "output_type": "stream",
     "text": [
      "2\n",
      "3\n",
      "4\n",
      "5\n",
      "Loop Executed\n"
     ]
    }
   ],
   "source": [
    "for i in range(2,6):\n",
    "    print(i)\n",
    "    \n",
    "else:\n",
    "    print('Loop Executed')"
   ]
  },
  {
   "cell_type": "code",
   "execution_count": 58,
   "id": "22266d9d",
   "metadata": {},
   "outputs": [
    {
     "name": "stdout",
     "output_type": "stream",
     "text": [
      "2\n"
     ]
    }
   ],
   "source": [
    "for i in range(2,6):\n",
    "    print(i)\n",
    "    break\n",
    "    \n",
    "else:\n",
    "    print('Loop Executed')"
   ]
  },
  {
   "cell_type": "code",
   "execution_count": 59,
   "id": "ec82d3dd",
   "metadata": {},
   "outputs": [
    {
     "name": "stdout",
     "output_type": "stream",
     "text": [
      "2\n",
      "3\n",
      "4\n",
      "5\n",
      "Loop Executed\n"
     ]
    }
   ],
   "source": [
    "for i in range(2,6):\n",
    "    print(i)\n",
    "    continue\n",
    "    \n",
    "else:\n",
    "    print('Loop Executed')"
   ]
  },
  {
   "cell_type": "code",
   "execution_count": 60,
   "id": "fd38afa3",
   "metadata": {},
   "outputs": [
    {
     "name": "stdout",
     "output_type": "stream",
     "text": [
      "5\n",
      "6\n",
      "7\n",
      "8\n",
      "Hello\n",
      "9\n",
      "Loop Executed\n"
     ]
    }
   ],
   "source": [
    "for i in range(5,10):\n",
    "    print(i)\n",
    "    if i == 8:\n",
    "        print('Hello')\n",
    "    \n",
    "    \n",
    "else:\n",
    "    print('Loop Executed')"
   ]
  },
  {
   "cell_type": "code",
   "execution_count": 61,
   "id": "4d8b767e",
   "metadata": {},
   "outputs": [
    {
     "name": "stdout",
     "output_type": "stream",
     "text": [
      "5\n",
      "6\n",
      "7\n",
      "8\n",
      "Hello\n"
     ]
    }
   ],
   "source": [
    "for i in range(5,10):\n",
    "    print(i)\n",
    "    if i == 8:\n",
    "        print('Hello')\n",
    "        break\n",
    "    \n",
    "else:\n",
    "    print('Loop Executed')"
   ]
  },
  {
   "cell_type": "code",
   "execution_count": 62,
   "id": "8a334fd0",
   "metadata": {},
   "outputs": [
    {
     "name": "stdout",
     "output_type": "stream",
     "text": [
      "5\n",
      "6\n",
      "7\n",
      "8\n",
      "Hello\n",
      "9\n",
      "Loop Executed\n"
     ]
    }
   ],
   "source": [
    "for i in range(5,10):\n",
    "    print(i)\n",
    "    if i == 8:\n",
    "        print('Hello')\n",
    "        continue\n",
    "    \n",
    "else:\n",
    "    print('Loop Executed')"
   ]
  },
  {
   "cell_type": "code",
   "execution_count": 63,
   "id": "647d55ae",
   "metadata": {},
   "outputs": [
    {
     "name": "stdout",
     "output_type": "stream",
     "text": [
      "5\n",
      "Hello\n"
     ]
    }
   ],
   "source": [
    "for i in range(5,10):\n",
    "    print(i)\n",
    "    if i == 5:\n",
    "        print('Hello')\n",
    "        break\n",
    "    \n",
    "else:\n",
    "    print('Loop Executed')"
   ]
  },
  {
   "cell_type": "code",
   "execution_count": 64,
   "id": "692dab73",
   "metadata": {},
   "outputs": [
    {
     "name": "stdout",
     "output_type": "stream",
     "text": [
      "5\n",
      "Hello\n",
      "6\n",
      "7\n",
      "8\n",
      "9\n",
      "Loop Executed\n"
     ]
    }
   ],
   "source": [
    "for i in range(5,10):\n",
    "    print(i)\n",
    "    if i == 5:\n",
    "        print('Hello')\n",
    "        pass\n",
    "    \n",
    "else:\n",
    "    print('Loop Executed')"
   ]
  },
  {
   "cell_type": "markdown",
   "id": "35bed18c",
   "metadata": {},
   "source": [
    "## Factorial"
   ]
  },
  {
   "cell_type": "code",
   "execution_count": null,
   "id": "44097946",
   "metadata": {},
   "outputs": [],
   "source": [
    "0 >> 1\n",
    "1 >> 1\n",
    "2 >> 2 * 1\n",
    "3 >> 3 * 2 * 1\n",
    "4 >> 4 * 3 * 2 * 1\n",
    "5 >> 5 * 4 * 3 * 2 * 1"
   ]
  },
  {
   "cell_type": "code",
   "execution_count": 65,
   "id": "de039cd1",
   "metadata": {},
   "outputs": [
    {
     "name": "stdout",
     "output_type": "stream",
     "text": [
      "Factorial of 5 is 120\n"
     ]
    }
   ],
   "source": [
    "n = 5\n",
    "fact = 1\n",
    "for i in range(1,n+1):\n",
    "    fact = fact * i\n",
    "    \n",
    "print(f'Factorial of {n} is {fact}')"
   ]
  },
  {
   "cell_type": "code",
   "execution_count": 66,
   "id": "0bc618c2",
   "metadata": {},
   "outputs": [
    {
     "name": "stdout",
     "output_type": "stream",
     "text": [
      "Factorial of 5 is 1\n",
      "Factorial of 5 is 2\n",
      "Factorial of 5 is 6\n",
      "Factorial of 5 is 24\n",
      "Factorial of 5 is 120\n"
     ]
    }
   ],
   "source": [
    "n = 5\n",
    "fact = 1\n",
    "for i in range(1,n+1):\n",
    "    fact = fact * i\n",
    "    \n",
    "    print(f'Factorial of {n} is {fact}')"
   ]
  },
  {
   "cell_type": "code",
   "execution_count": 67,
   "id": "48f936ae",
   "metadata": {},
   "outputs": [
    {
     "name": "stdout",
     "output_type": "stream",
     "text": [
      "Factorial of 7 is 1\n",
      "Factorial of 7 is 2\n",
      "Factorial of 7 is 6\n",
      "Factorial of 7 is 24\n",
      "Factorial of 7 is 120\n",
      "Factorial of 7 is 720\n",
      "Factorial of 7 is 5040\n"
     ]
    }
   ],
   "source": [
    "n = 7\n",
    "fact = 1\n",
    "for i in range(1,n+1):\n",
    "    fact = fact * i\n",
    "    \n",
    "    print(f'Factorial of {n} is {fact}')"
   ]
  },
  {
   "cell_type": "code",
   "execution_count": 69,
   "id": "61d2c170",
   "metadata": {},
   "outputs": [
    {
     "name": "stdout",
     "output_type": "stream",
     "text": [
      "Factorial of 7 is 5040\n"
     ]
    }
   ],
   "source": [
    "n = 7\n",
    "fact = 1\n",
    "if n > 0:\n",
    "    for i in range(1,n+1):\n",
    "        fact = fact * i\n",
    "\n",
    "    print(f'Factorial of {n} is {fact}')"
   ]
  },
  {
   "cell_type": "code",
   "execution_count": 70,
   "id": "e3801bc8",
   "metadata": {},
   "outputs": [
    {
     "name": "stdout",
     "output_type": "stream",
     "text": [
      "Factorial of 0 is 1\n"
     ]
    }
   ],
   "source": [
    "n = 0\n",
    "fact = 1\n",
    "if n >= 0:\n",
    "    for i in range(1,n+1):\n",
    "        fact = fact * i\n",
    "\n",
    "    print(f'Factorial of {n} is {fact}')"
   ]
  },
  {
   "cell_type": "code",
   "execution_count": 71,
   "id": "daa28be5",
   "metadata": {},
   "outputs": [
    {
     "name": "stdout",
     "output_type": "stream",
     "text": [
      "Enter a value of n:6\n",
      "Factorial of 6 is 720\n"
     ]
    }
   ],
   "source": [
    "n = int(input('Enter a value of n:'))\n",
    "fact = 1\n",
    "if n >= 0:\n",
    "    for i in range(1,n+1):\n",
    "        fact = fact * i\n",
    "\n",
    "    print(f'Factorial of {n} is {fact}')"
   ]
  },
  {
   "cell_type": "markdown",
   "id": "772c274f",
   "metadata": {},
   "source": [
    "## Prime Number"
   ]
  },
  {
   "cell_type": "code",
   "execution_count": null,
   "id": "d404bfec",
   "metadata": {},
   "outputs": [],
   "source": [
    "Prime Numbers >> If number is divisible by only 1 and itself\n",
    "n = 10 >> not prime\n",
    "n = 5, 7, 11,13,17\n",
    "\n",
    "n = 7\n",
    "2 to 6\n",
    "\n",
    "n =17\n",
    "2 to 16\n"
   ]
  },
  {
   "cell_type": "code",
   "execution_count": 74,
   "id": "034f52c6",
   "metadata": {},
   "outputs": [
    {
     "name": "stdout",
     "output_type": "stream",
     "text": [
      "7 is a prime number\n"
     ]
    }
   ],
   "source": [
    "n = 7\n",
    "for i in range(2,n):\n",
    "    if n%i==0:\n",
    "        print(f'{n} is not a prime number')\n",
    "        \n",
    "else:\n",
    "    print(f'{n} is a prime number')"
   ]
  },
  {
   "cell_type": "code",
   "execution_count": 78,
   "id": "eec5df1a",
   "metadata": {},
   "outputs": [
    {
     "name": "stdout",
     "output_type": "stream",
     "text": [
      "9 is not a prime number\n"
     ]
    }
   ],
   "source": [
    "n = 9\n",
    "for i in range(2,n):\n",
    "    if n%i==0:\n",
    "        print(f'{n} is not a prime number')\n",
    "        break\n",
    "        \n",
    "else:\n",
    "    print(f'{n} is a prime number')"
   ]
  },
  {
   "cell_type": "code",
   "execution_count": 79,
   "id": "169f2a49",
   "metadata": {},
   "outputs": [
    {
     "name": "stdout",
     "output_type": "stream",
     "text": [
      "53 is a prime number\n"
     ]
    }
   ],
   "source": [
    "n = 53\n",
    "for i in range(2,n):\n",
    "    if n%i==0:\n",
    "        print(f'{n} is not a prime number')\n",
    "        break\n",
    "        \n",
    "else:\n",
    "    print(f'{n} is a prime number')"
   ]
  },
  {
   "cell_type": "code",
   "execution_count": 80,
   "id": "85cccd8b",
   "metadata": {},
   "outputs": [
    {
     "name": "stdout",
     "output_type": "stream",
     "text": [
      "55 is not a prime number\n"
     ]
    }
   ],
   "source": [
    "n = 55\n",
    "for i in range(2,n):\n",
    "    if n%i==0:\n",
    "        print(f'{n} is not a prime number')\n",
    "        break\n",
    "        \n",
    "else:\n",
    "    print(f'{n} is a prime number')"
   ]
  },
  {
   "cell_type": "code",
   "execution_count": 81,
   "id": "76b8bf53",
   "metadata": {},
   "outputs": [
    {
     "name": "stdout",
     "output_type": "stream",
     "text": [
      "2 is a prime number\n"
     ]
    }
   ],
   "source": [
    "n = 2\n",
    "for i in range(2,n):\n",
    "    if n%i==0:\n",
    "        print(f'{n} is not a prime number')\n",
    "        break\n",
    "        \n",
    "else:\n",
    "    print(f'{n} is a prime number')"
   ]
  },
  {
   "cell_type": "code",
   "execution_count": 91,
   "id": "c067a3a1",
   "metadata": {},
   "outputs": [
    {
     "name": "stdout",
     "output_type": "stream",
     "text": [
      "2 is a prime number\n"
     ]
    }
   ],
   "source": [
    "n = 2\n",
    "for i in range(2,n):\n",
    "    if n%i==0:\n",
    "        print(f'{n} is not a prime number')\n",
    "        print(i)\n",
    "        \n",
    "else:\n",
    "    print(f'{n} is a prime number')"
   ]
  },
  {
   "cell_type": "markdown",
   "id": "8dc2fb3b",
   "metadata": {},
   "source": [
    "## Fibonacci Series"
   ]
  },
  {
   "cell_type": "code",
   "execution_count": null,
   "id": "fa991723",
   "metadata": {},
   "outputs": [],
   "source": [
    "0 1 1 2 3 5 8 13 21 34 55 89.......\n",
    "\n",
    "\n",
    "n = 5\n",
    "0 1 1 2 3\n",
    "\n",
    "n = 8\n",
    "0 1 1 2 3 5 8 13"
   ]
  },
  {
   "cell_type": "code",
   "execution_count": 87,
   "id": "fccc14c8",
   "metadata": {},
   "outputs": [
    {
     "name": "stdout",
     "output_type": "stream",
     "text": [
      "Fibonnacci Series for 8 is : 0 1 1 2 3 5 8 13 "
     ]
    }
   ],
   "source": [
    "n = 8\n",
    "first = 0\n",
    "second = 1\n",
    "print(f'Fibonnacci Series for {n} is :', first, second, end = ' ')\n",
    "for i in range(0, n-2):\n",
    "    new = first + second\n",
    "    first = second\n",
    "    second = new\n",
    "    print(new,end = ' ')"
   ]
  },
  {
   "cell_type": "code",
   "execution_count": 88,
   "id": "4ae04c74",
   "metadata": {},
   "outputs": [
    {
     "name": "stdout",
     "output_type": "stream",
     "text": [
      "Fibonnacci Series for 12 is : 0 1 1 2 3 5 8 13 21 34 55 89 "
     ]
    }
   ],
   "source": [
    "n = 12\n",
    "first = 0\n",
    "second = 1\n",
    "print(f'Fibonnacci Series for {n} is :', first, second, end = ' ')\n",
    "for i in range(0, n-2):\n",
    "    new = first + second\n",
    "    first = second\n",
    "    second = new\n",
    "    print(new,end = ' ')"
   ]
  },
  {
   "cell_type": "code",
   "execution_count": 89,
   "id": "97106f41",
   "metadata": {},
   "outputs": [
    {
     "name": "stdout",
     "output_type": "stream",
     "text": [
      "Fibonnacci Series for 6 is : 0 1 1 2 3 5 8 13 "
     ]
    }
   ],
   "source": [
    "n = 6\n",
    "first = 0\n",
    "second = 1\n",
    "print(f'Fibonnacci Series for {n} is :', first, second, end = ' ')\n",
    "for i in range(0, n):\n",
    "    new = first + second\n",
    "    first = second\n",
    "    second = new\n",
    "    print(new,end = ' ')"
   ]
  },
  {
   "cell_type": "code",
   "execution_count": 90,
   "id": "641af244",
   "metadata": {},
   "outputs": [
    {
     "data": {
      "text/plain": [
       "0"
      ]
     },
     "execution_count": 90,
     "metadata": {},
     "output_type": "execute_result"
    }
   ],
   "source": [
    "2%2"
   ]
  },
  {
   "cell_type": "code",
   "execution_count": 93,
   "id": "bfd2f105",
   "metadata": {},
   "outputs": [
    {
     "data": {
      "text/plain": [
       "'malayalam'"
      ]
     },
     "execution_count": 93,
     "metadata": {},
     "output_type": "execute_result"
    }
   ],
   "source": [
    "a = 'malayalam'\n",
    "b = a[::-1]\n",
    "b"
   ]
  },
  {
   "cell_type": "code",
   "execution_count": 94,
   "id": "30c9f262",
   "metadata": {},
   "outputs": [
    {
     "data": {
      "text/plain": [
       "True"
      ]
     },
     "execution_count": 94,
     "metadata": {},
     "output_type": "execute_result"
    }
   ],
   "source": [
    "a == b"
   ]
  },
  {
   "cell_type": "code",
   "execution_count": 95,
   "id": "8e492a93",
   "metadata": {},
   "outputs": [
    {
     "data": {
      "text/plain": [
       "1"
      ]
     },
     "execution_count": 95,
     "metadata": {},
     "output_type": "execute_result"
    }
   ],
   "source": [
    "7%2\n",
    "7%3\n",
    "7%4\n",
    "7%5\n",
    "7%6"
   ]
  },
  {
   "cell_type": "code",
   "execution_count": 96,
   "id": "8d0d0705",
   "metadata": {},
   "outputs": [
    {
     "data": {
      "text/plain": [
       "0"
      ]
     },
     "execution_count": 96,
     "metadata": {},
     "output_type": "execute_result"
    }
   ],
   "source": [
    "7%7"
   ]
  },
  {
   "cell_type": "code",
   "execution_count": 98,
   "id": "55751fa4",
   "metadata": {},
   "outputs": [
    {
     "data": {
      "text/plain": [
       "1"
      ]
     },
     "execution_count": 98,
     "metadata": {},
     "output_type": "execute_result"
    }
   ],
   "source": [
    "7%2\n",
    "7%3"
   ]
  },
  {
   "cell_type": "code",
   "execution_count": null,
   "id": "50ce544a",
   "metadata": {},
   "outputs": [],
   "source": []
  },
  {
   "cell_type": "code",
   "execution_count": null,
   "id": "b8af69f7",
   "metadata": {},
   "outputs": [],
   "source": []
  },
  {
   "cell_type": "code",
   "execution_count": null,
   "id": "777f0041",
   "metadata": {},
   "outputs": [],
   "source": []
  },
  {
   "cell_type": "code",
   "execution_count": null,
   "id": "faf3d7dd",
   "metadata": {},
   "outputs": [],
   "source": []
  },
  {
   "cell_type": "code",
   "execution_count": null,
   "id": "995d8102",
   "metadata": {},
   "outputs": [],
   "source": []
  },
  {
   "cell_type": "code",
   "execution_count": null,
   "id": "acd297aa",
   "metadata": {},
   "outputs": [],
   "source": []
  },
  {
   "cell_type": "code",
   "execution_count": null,
   "id": "d73b3500",
   "metadata": {},
   "outputs": [],
   "source": []
  },
  {
   "cell_type": "code",
   "execution_count": null,
   "id": "979f1b27",
   "metadata": {},
   "outputs": [],
   "source": []
  },
  {
   "cell_type": "code",
   "execution_count": null,
   "id": "e5b65862",
   "metadata": {},
   "outputs": [],
   "source": []
  },
  {
   "cell_type": "code",
   "execution_count": null,
   "id": "0f7084d3",
   "metadata": {},
   "outputs": [],
   "source": []
  },
  {
   "cell_type": "code",
   "execution_count": null,
   "id": "4c169f7c",
   "metadata": {},
   "outputs": [],
   "source": []
  },
  {
   "cell_type": "code",
   "execution_count": null,
   "id": "6c03e626",
   "metadata": {},
   "outputs": [],
   "source": []
  },
  {
   "cell_type": "code",
   "execution_count": null,
   "id": "2835a7a3",
   "metadata": {},
   "outputs": [],
   "source": []
  },
  {
   "cell_type": "code",
   "execution_count": null,
   "id": "ed59f624",
   "metadata": {},
   "outputs": [],
   "source": []
  },
  {
   "cell_type": "code",
   "execution_count": null,
   "id": "0a9bda09",
   "metadata": {},
   "outputs": [],
   "source": []
  },
  {
   "cell_type": "code",
   "execution_count": null,
   "id": "430db164",
   "metadata": {},
   "outputs": [],
   "source": []
  },
  {
   "cell_type": "code",
   "execution_count": null,
   "id": "db2a78bd",
   "metadata": {},
   "outputs": [],
   "source": []
  }
 ],
 "metadata": {
  "kernelspec": {
   "display_name": "Python 3 (ipykernel)",
   "language": "python",
   "name": "python3"
  },
  "language_info": {
   "codemirror_mode": {
    "name": "ipython",
    "version": 3
   },
   "file_extension": ".py",
   "mimetype": "text/x-python",
   "name": "python",
   "nbconvert_exporter": "python",
   "pygments_lexer": "ipython3",
   "version": "3.9.13"
  }
 },
 "nbformat": 4,
 "nbformat_minor": 5
}
