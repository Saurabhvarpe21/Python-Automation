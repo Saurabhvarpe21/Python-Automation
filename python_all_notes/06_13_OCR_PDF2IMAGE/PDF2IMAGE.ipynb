{
 "cells": [
  {
   "cell_type": "markdown",
   "id": "f657aea6",
   "metadata": {},
   "source": [
    "## pdf2image"
   ]
  },
  {
   "cell_type": "code",
   "execution_count": 1,
   "id": "dd81ff4d",
   "metadata": {},
   "outputs": [],
   "source": [
    "# pip install pdf2image"
   ]
  },
  {
   "cell_type": "code",
   "execution_count": 27,
   "id": "a0cf4f13",
   "metadata": {},
   "outputs": [],
   "source": [
    "from pdf2image import convert_from_path\n",
    "import os"
   ]
  },
  {
   "cell_type": "code",
   "execution_count": 8,
   "id": "ffe6e3f3",
   "metadata": {},
   "outputs": [],
   "source": [
    "file_path = r'G:\\Velocity 16 APR\\06_13_OCR_PDF2IMAGE\\files\\grad_desc.pdf'\n",
    "poppler_path = r'C:\\Program Files\\poppler-0.68.0\\bin'\n",
    "\n",
    "images = convert_from_path(file_path,poppler_path= poppler_path)\n",
    "type(images)\n",
    "for i,image in enumerate(images):\n",
    "    image.save('gradient_desc.png', 'PNG')"
   ]
  },
  {
   "cell_type": "markdown",
   "id": "6372071d",
   "metadata": {},
   "source": [
    "## NEW PROGRAM"
   ]
  },
  {
   "cell_type": "code",
   "execution_count": 11,
   "id": "2659fd39",
   "metadata": {},
   "outputs": [],
   "source": [
    "file_path = r'G:\\Velocity 16 APR\\06_13_OCR_PDF2IMAGE\\files\\grad_desc.pdf'\n",
    "poppler_path = r'C:\\Program Files\\poppler-0.68.0\\bin'\n",
    "\n",
    "images = convert_from_path(file_path,dpi=100,poppler_path= poppler_path)\n",
    "type(images)\n",
    "for i,image in enumerate(images):\n",
    "    image.save('gradient_desc1.png', 'PNG')"
   ]
  },
  {
   "cell_type": "code",
   "execution_count": 12,
   "id": "9667957d",
   "metadata": {},
   "outputs": [],
   "source": [
    "file_path = r'G:\\Velocity 16 APR\\06_13_OCR_PDF2IMAGE\\files\\grad_desc.pdf'\n",
    "poppler_path = r'C:\\Program Files\\poppler-0.68.0\\bin'\n",
    "\n",
    "images = convert_from_path(file_path,dpi=500,poppler_path= poppler_path)\n",
    "type(images)\n",
    "for i,image in enumerate(images):\n",
    "    image.save('gradient_desc2.png', 'PNG')"
   ]
  },
  {
   "cell_type": "code",
   "execution_count": 14,
   "id": "4204c8e2",
   "metadata": {},
   "outputs": [
    {
     "name": "stdout",
     "output_type": "stream",
     "text": [
      "image0.png\n",
      "image1.png\n",
      "image2.png\n",
      "image3.png\n",
      "image4.png\n",
      "image5.png\n",
      "image6.png\n",
      "image7.png\n",
      "image8.png\n"
     ]
    }
   ],
   "source": [
    "file_path = r'G:\\Velocity 16 APR\\06_13_OCR_PDF2IMAGE\\files\\97_134_bank_statement21.pdf'\n",
    "poppler_path = r'C:\\Program Files\\poppler-0.68.0\\bin'\n",
    "\n",
    "images = convert_from_path(file_path,dpi=500,poppler_path= poppler_path)\n",
    "type(images)\n",
    "for i,image in enumerate(images):\n",
    "    file_name = 'image'+str(i)+'.png'\n",
    "    print(file_name)\n",
    "    image.save(file_name , 'PNG')"
   ]
  },
  {
   "cell_type": "markdown",
   "id": "6df94d68",
   "metadata": {},
   "source": [
    "## NEW PROGRAM"
   ]
  },
  {
   "cell_type": "code",
   "execution_count": 16,
   "id": "1048b8ac",
   "metadata": {},
   "outputs": [],
   "source": [
    "file_path = r'G:\\Velocity 16 APR\\06_13_OCR_PDF2IMAGE\\files\\grad_desc.pdf'\n",
    "poppler_path = r'C:\\Program Files\\poppler-0.68.0\\bin'\n",
    "\n",
    "images = convert_from_path(file_path,dpi=500,poppler_path= poppler_path)\n",
    "type(images)\n",
    "for i,image in enumerate(images):\n",
    "    image.save('gradient_desc3.jpg', 'JPEG')"
   ]
  },
  {
   "cell_type": "markdown",
   "id": "b143ff60",
   "metadata": {},
   "source": [
    "## NEW PROGRAM"
   ]
  },
  {
   "cell_type": "code",
   "execution_count": 24,
   "id": "04947ef0",
   "metadata": {},
   "outputs": [],
   "source": [
    "file_path = r'G:\\Velocity 16 APR\\06_13_OCR_PDF2IMAGE\\files\\97_134_bank_statement21.pdf'\n",
    "poppler_path = r'C:\\Program Files\\poppler-0.68.0\\bin'\n",
    "\n",
    "folder_name = file_path.split('\\\\')[-1].split('.')[0]"
   ]
  },
  {
   "cell_type": "code",
   "execution_count": 31,
   "id": "360a589b",
   "metadata": {},
   "outputs": [
    {
     "name": "stdout",
     "output_type": "stream",
     "text": [
      "FOlder Created\n"
     ]
    }
   ],
   "source": [
    "# folder_path = r\"G:\\Velocity 16 APR\\06_13_OCR_PDF2IMAGE\\\\{}\".format(folder_name)\n",
    "path = r'G:\\Velocity 16 APR\\06_13_OCR_PDF2IMAGE\\\\'\n",
    "folder_path = os.path.join(path,folder_name)\n",
    "folder_path\n",
    "if not os.path.exists(folder_path):\n",
    "    os.mkdir(folder_path)\n",
    "    print('FOlder Created')"
   ]
  },
  {
   "cell_type": "code",
   "execution_count": 42,
   "id": "65e8746c",
   "metadata": {},
   "outputs": [
    {
     "data": {
      "text/plain": [
       "'G:\\\\Velocity 16 APR\\\\06_13_OCR_PDF2IMAGE\\\\\\\\97_134_bank_statement21_new'"
      ]
     },
     "execution_count": 42,
     "metadata": {},
     "output_type": "execute_result"
    }
   ],
   "source": [
    "folder_path"
   ]
  },
  {
   "cell_type": "code",
   "execution_count": 34,
   "id": "56d8c13a",
   "metadata": {},
   "outputs": [],
   "source": [
    "images = convert_from_path(file_path,dpi=300,poppler_path= poppler_path)\n",
    "\n",
    "for i,image in enumerate(images):\n",
    "#     file_name = 'image'+str(i)+'.png'\n",
    "#     print(file_name)\n",
    "    image.save(f'{folder_path}\\\\bank_stat_{i}.png' , 'PNG')"
   ]
  },
  {
   "cell_type": "markdown",
   "id": "bd88c0cc",
   "metadata": {},
   "source": [
    "## NEW PROGRAM"
   ]
  },
  {
   "cell_type": "code",
   "execution_count": 36,
   "id": "c4f1e358",
   "metadata": {},
   "outputs": [],
   "source": [
    "file_path = r'G:\\Velocity 16 APR\\06_13_OCR_PDF2IMAGE\\files\\97_134_bank_statement21.pdf'\n",
    "poppler_path = r'C:\\Program Files\\poppler-0.68.0\\bin'\n",
    "\n",
    "folder_name = file_path.split('\\\\')[-1].split('.')[0] + '_new'"
   ]
  },
  {
   "cell_type": "code",
   "execution_count": 37,
   "id": "4e64c6fc",
   "metadata": {},
   "outputs": [
    {
     "name": "stdout",
     "output_type": "stream",
     "text": [
      "FOlder Created\n"
     ]
    }
   ],
   "source": [
    "# folder_path = r\"G:\\Velocity 16 APR\\06_13_OCR_PDF2IMAGE\\\\{}\".format(folder_name)\n",
    "path = r'G:\\Velocity 16 APR\\06_13_OCR_PDF2IMAGE\\\\'\n",
    "folder_path = os.path.join(path,folder_name)\n",
    "folder_path\n",
    "if not os.path.exists(folder_path):\n",
    "    os.mkdir(folder_path)\n",
    "    print('FOlder Created')"
   ]
  },
  {
   "cell_type": "code",
   "execution_count": 40,
   "id": "589c4246",
   "metadata": {},
   "outputs": [
    {
     "name": "stdout",
     "output_type": "stream",
     "text": [
      "image_3.png\n",
      "image_4.png\n",
      "image_5.png\n",
      "image_6.png\n",
      "image_7.png\n"
     ]
    }
   ],
   "source": [
    "images = convert_from_path(file_path,first_page=3, last_page= 7,dpi=300,poppler_path= poppler_path)\n",
    "\n",
    "for i,image in enumerate(images,start = 3):\n",
    "    file_name = 'image_'+str(i)+'.png'\n",
    "    print(file_name)\n",
    "    image.save(f'{folder_path}\\\\bank_stat_{i}.png' , 'PNG')"
   ]
  },
  {
   "cell_type": "code",
   "execution_count": 41,
   "id": "b5a5fea0",
   "metadata": {},
   "outputs": [],
   "source": [
    "images = convert_from_path(file_path,first_page=3, last_page= 7,dpi=300,poppler_path= poppler_path)\n",
    "count = 13\n",
    "for i,image in enumerate(images):\n",
    "#     file_name = 'image_'+str(i)+'.png'\n",
    "#     print(file_name)\n",
    "    image.save(f'{folder_path}\\\\bank_stat_{count}.png' , 'PNG')\n",
    "    count+=1"
   ]
  },
  {
   "cell_type": "code",
   "execution_count": null,
   "id": "2c5ed429",
   "metadata": {},
   "outputs": [],
   "source": []
  },
  {
   "cell_type": "code",
   "execution_count": null,
   "id": "dea242b8",
   "metadata": {},
   "outputs": [],
   "source": []
  },
  {
   "cell_type": "code",
   "execution_count": null,
   "id": "d54f2705",
   "metadata": {},
   "outputs": [],
   "source": []
  },
  {
   "cell_type": "code",
   "execution_count": null,
   "id": "9fa65ba8",
   "metadata": {},
   "outputs": [],
   "source": []
  },
  {
   "cell_type": "code",
   "execution_count": null,
   "id": "765152d5",
   "metadata": {},
   "outputs": [],
   "source": []
  },
  {
   "cell_type": "code",
   "execution_count": null,
   "id": "6ad3b949",
   "metadata": {},
   "outputs": [],
   "source": []
  },
  {
   "cell_type": "code",
   "execution_count": null,
   "id": "1410c182",
   "metadata": {},
   "outputs": [],
   "source": []
  },
  {
   "cell_type": "code",
   "execution_count": null,
   "id": "30881c66",
   "metadata": {},
   "outputs": [],
   "source": []
  },
  {
   "cell_type": "code",
   "execution_count": null,
   "id": "6b92230a",
   "metadata": {},
   "outputs": [],
   "source": []
  },
  {
   "cell_type": "code",
   "execution_count": null,
   "id": "83c0ab14",
   "metadata": {},
   "outputs": [],
   "source": []
  },
  {
   "cell_type": "code",
   "execution_count": null,
   "id": "ae109e2d",
   "metadata": {},
   "outputs": [],
   "source": []
  },
  {
   "cell_type": "code",
   "execution_count": null,
   "id": "459a1d77",
   "metadata": {},
   "outputs": [],
   "source": []
  },
  {
   "cell_type": "code",
   "execution_count": null,
   "id": "8537aac7",
   "metadata": {},
   "outputs": [],
   "source": []
  },
  {
   "cell_type": "code",
   "execution_count": null,
   "id": "376ab810",
   "metadata": {},
   "outputs": [],
   "source": []
  },
  {
   "cell_type": "code",
   "execution_count": null,
   "id": "ad632181",
   "metadata": {},
   "outputs": [],
   "source": []
  },
  {
   "cell_type": "code",
   "execution_count": null,
   "id": "0d69b10a",
   "metadata": {},
   "outputs": [],
   "source": []
  },
  {
   "cell_type": "code",
   "execution_count": null,
   "id": "fc1da162",
   "metadata": {},
   "outputs": [],
   "source": []
  },
  {
   "cell_type": "code",
   "execution_count": null,
   "id": "b7eacefb",
   "metadata": {},
   "outputs": [],
   "source": []
  },
  {
   "cell_type": "code",
   "execution_count": null,
   "id": "ada7efd9",
   "metadata": {},
   "outputs": [],
   "source": []
  },
  {
   "cell_type": "code",
   "execution_count": null,
   "id": "9f918fe6",
   "metadata": {},
   "outputs": [],
   "source": []
  },
  {
   "cell_type": "code",
   "execution_count": null,
   "id": "f0393841",
   "metadata": {},
   "outputs": [],
   "source": []
  },
  {
   "cell_type": "code",
   "execution_count": null,
   "id": "2ca9828a",
   "metadata": {},
   "outputs": [],
   "source": []
  },
  {
   "cell_type": "code",
   "execution_count": null,
   "id": "1aecb463",
   "metadata": {},
   "outputs": [],
   "source": []
  },
  {
   "cell_type": "code",
   "execution_count": null,
   "id": "84370738",
   "metadata": {},
   "outputs": [],
   "source": []
  },
  {
   "cell_type": "code",
   "execution_count": null,
   "id": "3b2226b0",
   "metadata": {},
   "outputs": [],
   "source": []
  },
  {
   "cell_type": "code",
   "execution_count": null,
   "id": "2776dd6d",
   "metadata": {},
   "outputs": [],
   "source": []
  },
  {
   "cell_type": "code",
   "execution_count": null,
   "id": "43c8589e",
   "metadata": {},
   "outputs": [],
   "source": []
  }
 ],
 "metadata": {
  "kernelspec": {
   "display_name": "Python 3",
   "language": "python",
   "name": "python3"
  },
  "language_info": {
   "codemirror_mode": {
    "name": "ipython",
    "version": 3
   },
   "file_extension": ".py",
   "mimetype": "text/x-python",
   "name": "python",
   "nbconvert_exporter": "python",
   "pygments_lexer": "ipython3",
   "version": "3.8.8"
  }
 },
 "nbformat": 4,
 "nbformat_minor": 5
}
