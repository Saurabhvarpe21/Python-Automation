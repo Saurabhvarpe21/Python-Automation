{
 "cells": [
  {
   "cell_type": "code",
   "execution_count": 4,
   "id": "bb07f3e3",
   "metadata": {},
   "outputs": [
    {
     "name": "stdout",
     "output_type": "stream",
     "text": [
      "a == 10\n",
      "b == 20\n",
      "Addition of 10 and 20 is 30\n",
      "Addition ==  30\n",
      "Multiplication of 10 and 20 is 200\n"
     ]
    }
   ],
   "source": [
    "class Calculation():\n",
    "    \n",
    "    def __init__(self, a = 10, b = 20):\n",
    "        print(f'a == {a}')\n",
    "        print(f'b == {b}')\n",
    "        self.a = a\n",
    "        self.b = b\n",
    "        \n",
    "    def addition(self):\n",
    "        self.addition = self.a + self.b\n",
    "        print(f'Addition of {self.a} and {self.b} is {self.addition}')\n",
    "            \n",
    "    def multiplication(self):\n",
    "        print('Addition == ', self.addition)\n",
    "        mul = self.a * self.b\n",
    "        print(f'Multiplication of {self.a} and {self.b} is {mul}')\n",
    "\n",
    "            \n",
    "c1 = Calculation()\n",
    "c1.addition()\n",
    "c1.multiplication()"
   ]
  },
  {
   "cell_type": "code",
   "execution_count": 5,
   "id": "cd3420a8",
   "metadata": {},
   "outputs": [
    {
     "name": "stdout",
     "output_type": "stream",
     "text": [
      "a == 10\n",
      "b == 20\n",
      "Addition of 10 and 20 is 30\n",
      "Addition ==  30\n",
      "Multiplication of 10 and 20 is 200\n"
     ]
    }
   ],
   "source": [
    "class Calculation():\n",
    "    \n",
    "    def __init__(self, a = 10, b = 20):\n",
    "        print(f'a == {a}')\n",
    "        print(f'b == {b}')\n",
    "        self.a = a\n",
    "        self.b = b\n",
    "        \n",
    "    def addition(self):\n",
    "        self.addition = self.a + self.b\n",
    "        print(f'Addition of {self.a} and {self.b} is {self.addition}')\n",
    "            \n",
    "    def multiplication(self):\n",
    "        self.addition()\n",
    "        print('Addition == ', self.addition)\n",
    "        mul = self.a * self.b\n",
    "        print(f'Multiplication of {self.a} and {self.b} is {mul}')\n",
    "\n",
    "            \n",
    "c1 = Calculation()\n",
    "c1.multiplication()"
   ]
  },
  {
   "cell_type": "code",
   "execution_count": 6,
   "id": "07e0218f",
   "metadata": {},
   "outputs": [
    {
     "name": "stdout",
     "output_type": "stream",
     "text": [
      "a == 5\n",
      "b == 6\n",
      "Addition of 5 and 6 is 11\n",
      "Addition ==  11\n",
      "Multiplication of 5 and 6 is 30\n"
     ]
    }
   ],
   "source": [
    "class Calculation():\n",
    "    \n",
    "    def __init__(self, a = 10, b = 20):\n",
    "        print(f'a == {a}')\n",
    "        print(f'b == {b}')\n",
    "        self.a = a\n",
    "        self.b = b\n",
    "        \n",
    "    def addition(self):\n",
    "        self.addition = self.a + self.b\n",
    "        print(f'Addition of {self.a} and {self.b} is {self.addition}')\n",
    "            \n",
    "    def multiplication(self):\n",
    "        self.addition()\n",
    "        print('Addition == ', self.addition)\n",
    "        mul = self.a * self.b\n",
    "        print(f'Multiplication of {self.a} and {self.b} is {mul}')\n",
    "\n",
    "            \n",
    "c1 = Calculation(5,6)\n",
    "c1.multiplication()"
   ]
  },
  {
   "cell_type": "code",
   "execution_count": 10,
   "id": "bc9e8a95",
   "metadata": {},
   "outputs": [
    {
     "name": "stdout",
     "output_type": "stream",
     "text": [
      "a == 5\n",
      "b == 6\n",
      "Addition of 10 and 12 is 22\n",
      "Addition ==  22\n",
      "Multiplication of 5 and 9 is 45\n"
     ]
    }
   ],
   "source": [
    "class Calculation():\n",
    "    \n",
    "    def __init__(self, a = 10, b = 20):\n",
    "        print(f'a == {a}')\n",
    "        print(f'b == {b}')\n",
    "        self.a = a\n",
    "        self.b = b\n",
    "        \n",
    "    def addition(self,x,y):\n",
    "        self.addition = x+y\n",
    "        print(f'Addition of {x} and {y} is {self.addition}')\n",
    "            \n",
    "    def multiplication(self,n1,n2):\n",
    "        \n",
    "        print('Addition == ', self.addition)\n",
    "        mul = n1 * n2\n",
    "        print(f'Multiplication of {n1} and {n2} is {mul}')\n",
    "\n",
    "            \n",
    "c1 = Calculation(5,6)\n",
    "c1.addition(10,12)\n",
    "c1.multiplication(5,9)"
   ]
  },
  {
   "cell_type": "code",
   "execution_count": 14,
   "id": "c61fe0f1",
   "metadata": {},
   "outputs": [
    {
     "name": "stdout",
     "output_type": "stream",
     "text": [
      "Addition of 50 and 35 is 85\n",
      "Addition ==  85\n",
      "Multiplication of 50 and 35 is 1750\n"
     ]
    }
   ],
   "source": [
    "class Calculation():\n",
    "    a = 50\n",
    "    b = 35\n",
    "        \n",
    "    def addition(self):\n",
    "        self.addition = self.a +self.b\n",
    "        print(f'Addition of {self.a} and {self.b} is {self.addition}')\n",
    "            \n",
    "    def multiplication(self):\n",
    "        \n",
    "        print('Addition == ', self.addition)\n",
    "        mul = self.a * self.b\n",
    "        print(f'Multiplication of {self.a} and {self.b} is {mul}')\n",
    "\n",
    "            \n",
    "c1 = Calculation()\n",
    "c1.addition()\n",
    "c1.multiplication()"
   ]
  },
  {
   "cell_type": "code",
   "execution_count": 19,
   "id": "9590d7fe",
   "metadata": {},
   "outputs": [
    {
     "name": "stdout",
     "output_type": "stream",
     "text": [
      "Addition of 3 and 8 is 11\n",
      "Addition ==  11\n",
      "Multiplication of 6 and 7 is 42\n"
     ]
    }
   ],
   "source": [
    "class Calculation():\n",
    "        \n",
    "    def addition(self,a,b):\n",
    "        self.a = a\n",
    "        self.b = b\n",
    "        self.addition = self.a +self.b\n",
    "        print(f'Addition of {self.a} and {self.b} is {self.addition}')\n",
    "            \n",
    "    def multiplication(self,a,b):\n",
    "        self.a = a\n",
    "        self.b = b\n",
    "        \n",
    "        print('Addition == ', self.addition)\n",
    "        mul = self.a * self.b\n",
    "        print(f'Multiplication of {self.a} and {self.b} is {mul}')\n",
    "\n",
    "            \n",
    "c1 = Calculation()\n",
    "c1.addition(3,8)\n",
    "c1.multiplication(6,7)"
   ]
  },
  {
   "cell_type": "markdown",
   "id": "619586c6",
   "metadata": {},
   "source": [
    "## Object Oriented Programming Concepts"
   ]
  },
  {
   "cell_type": "code",
   "execution_count": null,
   "id": "bd176c27",
   "metadata": {},
   "outputs": [],
   "source": [
    "1. Inheritance\n",
    "2. Encapsulation\n",
    "3. Polymorphism\n",
    "4. Abstraction"
   ]
  },
  {
   "cell_type": "markdown",
   "id": "67ccaf6d",
   "metadata": {},
   "source": [
    "## 1. Inheritance"
   ]
  },
  {
   "cell_type": "code",
   "execution_count": null,
   "id": "271d47f7",
   "metadata": {},
   "outputs": [],
   "source": [
    "It allows a class to inherit the properties from other class  >> properties >> methods and variables\n",
    "(To use one class features in another class)"
   ]
  },
  {
   "cell_type": "code",
   "execution_count": null,
   "id": "44fe5e47",
   "metadata": {},
   "outputs": [],
   "source": [
    "Base class >> Parent Class  >> Super class\n",
    "Derived Class >> Child Class >> Sub class\n",
    "\n",
    "It helps us to reuse the code"
   ]
  },
  {
   "cell_type": "code",
   "execution_count": 21,
   "id": "055fdee1",
   "metadata": {},
   "outputs": [
    {
     "name": "stdout",
     "output_type": "stream",
     "text": [
      "This is Parent Class\n",
      "This is Child class\n"
     ]
    }
   ],
   "source": [
    "class Parent():    # Base class\n",
    "    print('This is Parent Class')\n",
    "    \n",
    "    \n",
    "class Child():  # Base class\n",
    "    print('This is Child class')"
   ]
  },
  {
   "cell_type": "code",
   "execution_count": 23,
   "id": "e81d3e24",
   "metadata": {},
   "outputs": [
    {
     "data": {
      "text/plain": [
       "10"
      ]
     },
     "execution_count": 23,
     "metadata": {},
     "output_type": "execute_result"
    }
   ],
   "source": [
    "class Baseclass():\n",
    "    x =10\n",
    "    pass\n",
    "\n",
    "class Derivedclass(Baseclass):\n",
    "    pass\n",
    "\n",
    "B = Baseclass()\n",
    "B.x"
   ]
  },
  {
   "cell_type": "code",
   "execution_count": 26,
   "id": "08a0f740",
   "metadata": {},
   "outputs": [
    {
     "name": "stdout",
     "output_type": "stream",
     "text": [
      "We are in Baseclass method\n",
      "We are in Derivedclass method \n"
     ]
    }
   ],
   "source": [
    "class Baseclass():\n",
    "    x =10\n",
    "    def base_class_method(self):\n",
    "        print('We are in Baseclass method')\n",
    "\n",
    "class Derivedclass(Baseclass):\n",
    "    def derived_class_method(self):\n",
    "        print('We are in Derivedclass method ')\n",
    "\n",
    "D = Derivedclass()\n",
    "D.base_class_method()\n",
    "D.derived_class_method()"
   ]
  },
  {
   "cell_type": "code",
   "execution_count": 28,
   "id": "bb9fbc29",
   "metadata": {},
   "outputs": [
    {
     "name": "stdout",
     "output_type": "stream",
     "text": [
      "x == 10\n",
      "We are in Baseclass method\n",
      "x == 10\n",
      "We are in Derivedclass method \n"
     ]
    }
   ],
   "source": [
    "class Baseclass():\n",
    "    x =10\n",
    "    def base_class_method(self):\n",
    "        print(f'x == {self.x}')\n",
    "        print('We are in Baseclass method')\n",
    "\n",
    "class Derivedclass(Baseclass):\n",
    "    def derived_class_method(self):\n",
    "        print(f'x == {self.x}')\n",
    "        print('We are in Derivedclass method ')\n",
    "\n",
    "D = Derivedclass()\n",
    "D.base_class_method()\n",
    "D.derived_class_method()"
   ]
  },
  {
   "cell_type": "code",
   "execution_count": 29,
   "id": "c68fa301",
   "metadata": {},
   "outputs": [
    {
     "name": "stdout",
     "output_type": "stream",
     "text": [
      "x == 10\n",
      "We are in Baseclass method\n",
      "x == 10\n",
      "We are in Baseclass method\n",
      "We are in Derivedclass method \n"
     ]
    }
   ],
   "source": [
    "class Baseclass():\n",
    "    x =10\n",
    "    def base_class_method(self):\n",
    "        print(f'x == {self.x}')\n",
    "        print('We are in Baseclass method')\n",
    "\n",
    "class Derivedclass(Baseclass):\n",
    "    def derived_class_method(self):\n",
    "        self.base_class_method()\n",
    "        print('We are in Derivedclass method ')\n",
    "\n",
    "D = Derivedclass()\n",
    "D.base_class_method()\n",
    "D.derived_class_method()"
   ]
  },
  {
   "cell_type": "code",
   "execution_count": 33,
   "id": "3a3f06ea",
   "metadata": {},
   "outputs": [
    {
     "name": "stdout",
     "output_type": "stream",
     "text": [
      "Linear Regression\n",
      "Handling Missing Values\n",
      "One Hot Encoding\n",
      "Decision Tree\n",
      "Handling Outliers\n"
     ]
    }
   ],
   "source": [
    "class Data_Preprocessing():    # Parent class\n",
    "    def missing_values(self):\n",
    "        print('Handling Missing Values')\n",
    "        \n",
    "    def Outliers(self):\n",
    "        print('Handling Outliers')\n",
    "        \n",
    "    def Encoding(self):\n",
    "        print('One Hot Encoding')\n",
    "        \n",
    "        \n",
    "class Model_Training(Data_Preprocessing):   # Child class\n",
    "    def Linear_Regression(self):\n",
    "        print('Linear Regression')\n",
    "        self.missing_values()\n",
    "        self.Encoding()\n",
    "        \n",
    "    def Decision_Tree(self):\n",
    "        print('Decision Tree')\n",
    "        self.Outliers()\n",
    "        \n",
    "Model = Model_Training()\n",
    "Model.Linear_Regression()\n",
    "Model.Decision_Tree()"
   ]
  },
  {
   "cell_type": "code",
   "execution_count": 40,
   "id": "0418c7b2",
   "metadata": {},
   "outputs": [
    {
     "name": "stdout",
     "output_type": "stream",
     "text": [
      "Employee Information INIT Function\n",
      "Company Information INIT Function\n",
      "Cognizant BLR\n",
      "Sanket VC00125 60000 Python Developer\n"
     ]
    }
   ],
   "source": [
    "class Company_Info():\n",
    "    \n",
    "    def __init__(self,company_name, location):\n",
    "        print('Company Information INIT Function')\n",
    "        self.company_name = company_name\n",
    "        self.location = location\n",
    "        print(company_name, location)\n",
    "        \n",
    "class Employee_Info(Company_Info):\n",
    "    def __init__(self, name, id_number, salary, designation):\n",
    "        print('Employee Information INIT Function')\n",
    "        Company_Info.__init__(self, 'Cognizant', 'BLR')\n",
    "        \n",
    "        self.emp_name = name\n",
    "        self.id_number = id_number\n",
    "        self.salary = salary\n",
    "        self.designation = designation\n",
    "        print(name, id_number, salary, designation)\n",
    "#         print(self.location)\n",
    "        \n",
    "        \n",
    "C = Employee_Info('Sanket', 'VC00125',60000, 'Python Developer')"
   ]
  },
  {
   "cell_type": "code",
   "execution_count": 45,
   "id": "d913057c",
   "metadata": {},
   "outputs": [
    {
     "name": "stdout",
     "output_type": "stream",
     "text": [
      "Employee Information INIT Function\n",
      "Company Information INIT Function\n",
      "Cybage Data Engineer\n",
      "Sanket VC00125 60000 Python Developer\n",
      "Data Engineer\n"
     ]
    }
   ],
   "source": [
    "class Company_Info():\n",
    "    \n",
    "    def __init__(self,company_name, location):\n",
    "        print('Company Information INIT Function')\n",
    "        self.company_name = company_name\n",
    "        self.location = location\n",
    "        print(company_name, location)\n",
    "        \n",
    "class Employee_Info(Company_Info):\n",
    "    def __init__(self, name, id_number, salary, designation,company_name, location):\n",
    "        print('Employee Information INIT Function')\n",
    "        super().__init__( company_name, location)\n",
    "        \n",
    "        self.emp_name = name\n",
    "        self.id_number = id_number\n",
    "        self.salary = salary\n",
    "        self.designation = designation\n",
    "        print(name, id_number, salary, designation)\n",
    "        print(self.location)\n",
    "        \n",
    "        \n",
    "C = Employee_Info('Sanket', 'VC00125',60000, 'Python Developer', 'Cybage', 'Data Engineer')"
   ]
  },
  {
   "cell_type": "code",
   "execution_count": 52,
   "id": "df5c4937",
   "metadata": {},
   "outputs": [
    {
     "name": "stdout",
     "output_type": "stream",
     "text": [
      "Employee Information INIT Function\n",
      "Company Information INIT Function\n",
      "Company Name is  Infosys\n",
      "Employee Name is  Sanket\n",
      "Employee Id is  VC00125\n",
      "Data Science\n",
      "Company Name is  Infosys\n",
      "Emp designation is  Python Developer\n",
      "Salary is  60000\n",
      "Company Location is  CCU\n"
     ]
    }
   ],
   "source": [
    "class Company_Info():\n",
    "    \n",
    "    company_name = 'Infosys'\n",
    "    \n",
    "    def __init__(self, location):\n",
    "        print('Company Information INIT Function')\n",
    "        self.location = location\n",
    "        \n",
    "    def get_company_name(self):\n",
    "        self.var1 = 'Data Science'\n",
    "        print('Company Name is ', self.company_name)\n",
    "        \n",
    "    def get_location(self):\n",
    "        print('Company Location is ', self.location )\n",
    "      \n",
    "        \n",
    "class Employee_Info(Company_Info):\n",
    "    def __init__(self, name, id_number, salary, designation, location):\n",
    "        print('Employee Information INIT Function')\n",
    "        super().__init__( location)\n",
    "        \n",
    "        self.emp_name = name\n",
    "        self.id_number = id_number\n",
    "        self.salary = salary\n",
    "        self.designation = designation\n",
    "        \n",
    "    def get_employee_name(self):\n",
    "        print('Employee Name is ', self.emp_name)\n",
    "        print('Employee Id is ', self.id_number)\n",
    "        print(self.var1)\n",
    "        \n",
    "    def get_salary(self):\n",
    "        print('Salary is ',self.salary)\n",
    "        \n",
    "    def emp_designation(self):\n",
    "        self.get_company_name()\n",
    "        print('Emp designation is ', self.designation)\n",
    "        \n",
    "        \n",
    "        \n",
    "emp = Employee_Info('Sanket', 'VC00125',60000, 'Python Developer', 'CCU')\n",
    "emp.get_company_name()\n",
    "emp.get_employee_name()\n",
    "emp.emp_designation()\n",
    "emp.get_salary()\n",
    "emp.get_location()"
   ]
  },
  {
   "cell_type": "code",
   "execution_count": null,
   "id": "826d3451",
   "metadata": {},
   "outputs": [],
   "source": []
  },
  {
   "cell_type": "code",
   "execution_count": 55,
   "id": "66d81032",
   "metadata": {},
   "outputs": [
    {
     "name": "stdout",
     "output_type": "stream",
     "text": [
      "Hello\n",
      "a == 10\n",
      "b == 20\n",
      "Addition of 10 and 12 is 22\n",
      "Addition ==  22\n",
      "Multiplication of 5 and 9 is 45\n"
     ]
    }
   ],
   "source": [
    "class Calculation():\n",
    "    a = 1\n",
    "    b = 2\n",
    "    print('Hello')\n",
    "    def __init__(self, a = 10, b = 20):\n",
    "        print(f'a == {a}')\n",
    "        print(f'b == {b}')\n",
    "        self.a = a\n",
    "        self.b = b\n",
    "        \n",
    "    def addition(self,x,y):\n",
    "        self.addition = x+y\n",
    "        print(f'Addition of {x} and {y} is {self.addition}')\n",
    "            \n",
    "    def multiplication(self,n1,n2):\n",
    "        \n",
    "        print('Addition == ', self.addition)\n",
    "        mul = n1 * n2\n",
    "        print(f'Multiplication of {n1} and {n2} is {mul}')\n",
    "\n",
    "            \n",
    "c1 = Calculation()\n",
    "c1.addition(10,12)\n",
    "c1.multiplication(5,9)"
   ]
  },
  {
   "cell_type": "code",
   "execution_count": 57,
   "id": "5607cecb",
   "metadata": {},
   "outputs": [
    {
     "name": "stdout",
     "output_type": "stream",
     "text": [
      "1 2\n",
      "Hello\n",
      "a == 10\n",
      "b == 20\n",
      "Addition of 10 and 12 is 22\n",
      "Addition ==  22\n",
      "Multiplication of 5 and 9 is 45\n"
     ]
    }
   ],
   "source": [
    "class Calculation():\n",
    "    \n",
    "    def __init__(self, a = 10, b = 20):\n",
    "        print(f'a == {a}')\n",
    "        print(f'b == {b}')\n",
    "        self.a = a\n",
    "        self.b = b\n",
    "        \n",
    "    a = 1\n",
    "    b = 2\n",
    "    print(a,b)\n",
    "    print('Hello')\n",
    "    def addition(self,x,y):\n",
    "        self.addition = x+y\n",
    "        print(f'Addition of {x} and {y} is {self.addition}')\n",
    "            \n",
    "    def multiplication(self,n1,n2):\n",
    "        \n",
    "        print('Addition == ', self.addition)\n",
    "        mul = n1 * n2\n",
    "        print(f'Multiplication of {n1} and {n2} is {mul}')\n",
    "\n",
    "            \n",
    "c1 = Calculation()\n",
    "c1.addition(10,12)\n",
    "c1.multiplication(5,9)"
   ]
  },
  {
   "cell_type": "markdown",
   "id": "a5ac1349",
   "metadata": {},
   "source": [
    "### Calling init method of parent class"
   ]
  },
  {
   "cell_type": "code",
   "execution_count": null,
   "id": "9b0e0c9b",
   "metadata": {},
   "outputs": [],
   "source": [
    "Company_Info.__init__(self, arg)  >> we need use self keyword\n",
    "\n",
    "super().__init__( arg) >> it is use to call init function of parent\n",
    "                        >> No need to use self keyword"
   ]
  },
  {
   "cell_type": "code",
   "execution_count": null,
   "id": "01ef849e",
   "metadata": {},
   "outputs": [],
   "source": []
  },
  {
   "cell_type": "markdown",
   "id": "d2759456",
   "metadata": {},
   "source": [
    "## Types of Inheritance"
   ]
  },
  {
   "cell_type": "code",
   "execution_count": null,
   "id": "2b5cea8d",
   "metadata": {},
   "outputs": [],
   "source": [
    "1. Single Inheritance\n",
    "2. Multiple Inheritance\n",
    "3. Multi Level Inheritance\n",
    "4. Hierarchical Inheritance\n",
    "5. Hybrid Inheritance"
   ]
  },
  {
   "cell_type": "markdown",
   "id": "7d1590e7",
   "metadata": {},
   "source": [
    "## 1. Single Inheritance"
   ]
  },
  {
   "cell_type": "code",
   "execution_count": 59,
   "id": "f2d92aea",
   "metadata": {},
   "outputs": [
    {
     "name": "stdout",
     "output_type": "stream",
     "text": [
      "Parent Class\n",
      "Child Class\n"
     ]
    }
   ],
   "source": [
    "class Parent:\n",
    "    def Test(self):\n",
    "        print('Parent Class')\n",
    "\n",
    "class child(Parent):\n",
    "    def Test1(self):\n",
    "        print('Child Class')\n",
    "        \n",
    "        \n",
    "c1 = child()\n",
    "c1.Test()\n",
    "c1.Test1()"
   ]
  },
  {
   "cell_type": "markdown",
   "id": "9c7b4529",
   "metadata": {},
   "source": [
    "## 2. Multilevel Inheritance"
   ]
  },
  {
   "cell_type": "code",
   "execution_count": null,
   "id": "e48771ad",
   "metadata": {},
   "outputs": [],
   "source": [
    "class Grandfather():\n",
    "    pass\n",
    "\n",
    "class father(Grandfather):\n",
    "    pass\n",
    "\n",
    "class child(father):\n",
    "    pass\n",
    "\n",
    "c1 = child()    # We can access all properties of father and grandfather"
   ]
  },
  {
   "cell_type": "code",
   "execution_count": 64,
   "id": "e9e526b3",
   "metadata": {},
   "outputs": [
    {
     "name": "stdout",
     "output_type": "stream",
     "text": [
      "Addition Function\n",
      "Addition of 44 and 88 is 132\n",
      "Multiplication Function\n"
     ]
    },
    {
     "data": {
      "text/plain": [
       "'Python'"
      ]
     },
     "execution_count": 64,
     "metadata": {},
     "output_type": "execute_result"
    }
   ],
   "source": [
    "class BaseClass():\n",
    "    variable = 'Python'\n",
    "    def addition(self, x,y):\n",
    "        print('Addition Function')\n",
    "        add = x + y\n",
    "        print(f'Addition of {x} and {y} is {add}')\n",
    "        \n",
    "        \n",
    "class derived_class1(BaseClass):\n",
    "    def multiplication(self):\n",
    "        print('Multiplication Function')\n",
    "        \n",
    "class derived_class2(derived_class1):\n",
    "    def __init__(self,a,b):\n",
    "        self.a = a\n",
    "        self.b = b\n",
    "        \n",
    "        \n",
    "        \n",
    "obj = derived_class2(100,200)\n",
    "obj.addition(44,88)\n",
    "obj.multiplication()\n",
    "obj.variable"
   ]
  },
  {
   "cell_type": "markdown",
   "id": "06d16d02",
   "metadata": {},
   "source": [
    "## 3. Multiple Inheritance"
   ]
  },
  {
   "cell_type": "code",
   "execution_count": null,
   "id": "611def25",
   "metadata": {},
   "outputs": [],
   "source": [
    "class Father(): \n",
    "    pass\n",
    "\n",
    "class Mother():\n",
    "    pass\n",
    "\n",
    "class child(Father, Mother):\n",
    "    pass"
   ]
  },
  {
   "cell_type": "code",
   "execution_count": 65,
   "id": "ceada3f3",
   "metadata": {},
   "outputs": [
    {
     "name": "stdout",
     "output_type": "stream",
     "text": [
      "Addition Function\n",
      "Addition of 44 and 88 is 132\n",
      "Multiplication Function\n"
     ]
    },
    {
     "data": {
      "text/plain": [
       "'Python'"
      ]
     },
     "execution_count": 65,
     "metadata": {},
     "output_type": "execute_result"
    }
   ],
   "source": [
    "class BaseClass():\n",
    "    variable = 'Python'\n",
    "    def addition(self, x,y):\n",
    "        print('Addition Function')\n",
    "        add = x + y\n",
    "        print(f'Addition of {x} and {y} is {add}')\n",
    "        \n",
    "        \n",
    "class derived_class1():\n",
    "    def multiplication(self):\n",
    "        print('Multiplication Function')\n",
    "        \n",
    "class derived_class2(derived_class1,BaseClass):\n",
    "    def __init__(self,a,b):\n",
    "        self.a = a\n",
    "        self.b = b\n",
    "        \n",
    "        \n",
    "        \n",
    "obj = derived_class2(100,200)\n",
    "obj.addition(44,88)\n",
    "obj.multiplication()\n",
    "obj.variable"
   ]
  },
  {
   "cell_type": "markdown",
   "id": "b7b524c5",
   "metadata": {},
   "source": [
    "## 4. Hierarchical Inheritance"
   ]
  },
  {
   "cell_type": "code",
   "execution_count": null,
   "id": "673bbfd9",
   "metadata": {},
   "outputs": [],
   "source": [
    "class Parent:\n",
    "    pass\n",
    "\n",
    "class child1(Parent):\n",
    "    pass\n",
    "\n",
    "class child2(Parent):\n",
    "    pass\n",
    "\n",
    "obj1 = child1()\n",
    "obj2 = child2()"
   ]
  },
  {
   "cell_type": "markdown",
   "id": "56df5f2f",
   "metadata": {},
   "source": [
    "## 5. Hybrid Inheritance"
   ]
  },
  {
   "cell_type": "code",
   "execution_count": null,
   "id": "f98c62b6",
   "metadata": {},
   "outputs": [],
   "source": [
    "class Parent:\n",
    "    pass\n",
    "\n",
    "class child1(Parent):\n",
    "    pass\n",
    "\n",
    "class child2(Parent):\n",
    "    pass\n",
    "\n",
    "class grandchild(child1, child2):\n",
    "    pass"
   ]
  },
  {
   "cell_type": "code",
   "execution_count": 69,
   "id": "028fe12a",
   "metadata": {},
   "outputs": [
    {
     "name": "stdout",
     "output_type": "stream",
     "text": [
      "It is inheriting from child1 and child2\n",
      "Parent class method\n"
     ]
    }
   ],
   "source": [
    "class Parent:\n",
    "    def parent_class(self):\n",
    "        print('Parent class method')\n",
    "\n",
    "class child1(Parent):\n",
    "    def my_method1(self):\n",
    "        print('My method1')\n",
    "        \n",
    "\n",
    "class child2(Parent):\n",
    "    def my_method2(self):\n",
    "        print('My method 2')\n",
    "        \n",
    "\n",
    "class grandchild(child1, child2):\n",
    "    def main_function(self):\n",
    "        print('It is inheriting from child1 and child2')\n",
    "        \n",
    "        \n",
    "OBJ = grandchild()\n",
    "OBJ.main_function()\n",
    "OBJ.parent_class()"
   ]
  },
  {
   "cell_type": "code",
   "execution_count": null,
   "id": "388522d2",
   "metadata": {},
   "outputs": [],
   "source": []
  },
  {
   "cell_type": "code",
   "execution_count": null,
   "id": "ebaa839b",
   "metadata": {},
   "outputs": [],
   "source": []
  },
  {
   "cell_type": "code",
   "execution_count": null,
   "id": "2190d9e2",
   "metadata": {},
   "outputs": [],
   "source": []
  },
  {
   "cell_type": "code",
   "execution_count": null,
   "id": "341868ff",
   "metadata": {},
   "outputs": [],
   "source": []
  },
  {
   "cell_type": "code",
   "execution_count": null,
   "id": "ef66945e",
   "metadata": {},
   "outputs": [],
   "source": []
  },
  {
   "cell_type": "code",
   "execution_count": null,
   "id": "c9ebfe2d",
   "metadata": {},
   "outputs": [],
   "source": []
  },
  {
   "cell_type": "code",
   "execution_count": null,
   "id": "0da920f6",
   "metadata": {},
   "outputs": [],
   "source": []
  },
  {
   "cell_type": "code",
   "execution_count": null,
   "id": "c081ed2a",
   "metadata": {},
   "outputs": [],
   "source": []
  },
  {
   "cell_type": "code",
   "execution_count": null,
   "id": "e5363e84",
   "metadata": {},
   "outputs": [],
   "source": []
  },
  {
   "cell_type": "code",
   "execution_count": null,
   "id": "43046a99",
   "metadata": {},
   "outputs": [],
   "source": []
  },
  {
   "cell_type": "code",
   "execution_count": null,
   "id": "4128c58e",
   "metadata": {},
   "outputs": [],
   "source": []
  },
  {
   "cell_type": "code",
   "execution_count": null,
   "id": "3c308e3f",
   "metadata": {},
   "outputs": [],
   "source": []
  },
  {
   "cell_type": "code",
   "execution_count": null,
   "id": "f8b83b30",
   "metadata": {},
   "outputs": [],
   "source": []
  },
  {
   "cell_type": "code",
   "execution_count": null,
   "id": "d415fbac",
   "metadata": {},
   "outputs": [],
   "source": []
  },
  {
   "cell_type": "code",
   "execution_count": null,
   "id": "7151a92e",
   "metadata": {},
   "outputs": [],
   "source": []
  },
  {
   "cell_type": "code",
   "execution_count": null,
   "id": "1eec72cb",
   "metadata": {},
   "outputs": [],
   "source": []
  },
  {
   "cell_type": "code",
   "execution_count": null,
   "id": "6286de11",
   "metadata": {},
   "outputs": [],
   "source": []
  },
  {
   "cell_type": "code",
   "execution_count": null,
   "id": "3ef077f9",
   "metadata": {},
   "outputs": [],
   "source": []
  },
  {
   "cell_type": "code",
   "execution_count": null,
   "id": "7502c1f4",
   "metadata": {},
   "outputs": [],
   "source": []
  },
  {
   "cell_type": "code",
   "execution_count": null,
   "id": "3972b86c",
   "metadata": {},
   "outputs": [],
   "source": []
  },
  {
   "cell_type": "code",
   "execution_count": null,
   "id": "0311bed5",
   "metadata": {},
   "outputs": [],
   "source": []
  },
  {
   "cell_type": "code",
   "execution_count": null,
   "id": "f7fa5c1e",
   "metadata": {},
   "outputs": [],
   "source": []
  },
  {
   "cell_type": "code",
   "execution_count": null,
   "id": "7d04231e",
   "metadata": {},
   "outputs": [],
   "source": []
  },
  {
   "cell_type": "code",
   "execution_count": null,
   "id": "8c953828",
   "metadata": {},
   "outputs": [],
   "source": []
  },
  {
   "cell_type": "code",
   "execution_count": null,
   "id": "17605db8",
   "metadata": {},
   "outputs": [],
   "source": []
  },
  {
   "cell_type": "code",
   "execution_count": null,
   "id": "03487967",
   "metadata": {},
   "outputs": [],
   "source": []
  },
  {
   "cell_type": "code",
   "execution_count": null,
   "id": "230c5860",
   "metadata": {},
   "outputs": [],
   "source": []
  },
  {
   "cell_type": "code",
   "execution_count": null,
   "id": "73967806",
   "metadata": {},
   "outputs": [],
   "source": []
  },
  {
   "cell_type": "code",
   "execution_count": null,
   "id": "a11b7a97",
   "metadata": {},
   "outputs": [],
   "source": []
  },
  {
   "cell_type": "code",
   "execution_count": null,
   "id": "0fb6ecc9",
   "metadata": {},
   "outputs": [],
   "source": []
  },
  {
   "cell_type": "code",
   "execution_count": null,
   "id": "efd383f3",
   "metadata": {},
   "outputs": [],
   "source": []
  },
  {
   "cell_type": "code",
   "execution_count": null,
   "id": "cb9327d7",
   "metadata": {},
   "outputs": [],
   "source": []
  },
  {
   "cell_type": "code",
   "execution_count": null,
   "id": "7eaa5ac7",
   "metadata": {},
   "outputs": [],
   "source": []
  },
  {
   "cell_type": "code",
   "execution_count": null,
   "id": "857268d4",
   "metadata": {},
   "outputs": [],
   "source": []
  },
  {
   "cell_type": "code",
   "execution_count": null,
   "id": "fbe3d86f",
   "metadata": {},
   "outputs": [],
   "source": []
  },
  {
   "cell_type": "code",
   "execution_count": null,
   "id": "48363e54",
   "metadata": {},
   "outputs": [],
   "source": []
  },
  {
   "cell_type": "code",
   "execution_count": null,
   "id": "9f0c5ad7",
   "metadata": {},
   "outputs": [],
   "source": []
  },
  {
   "cell_type": "code",
   "execution_count": null,
   "id": "4211447e",
   "metadata": {},
   "outputs": [],
   "source": []
  },
  {
   "cell_type": "code",
   "execution_count": null,
   "id": "10b34bd7",
   "metadata": {},
   "outputs": [],
   "source": []
  },
  {
   "cell_type": "code",
   "execution_count": null,
   "id": "fc29b5ab",
   "metadata": {},
   "outputs": [],
   "source": []
  },
  {
   "cell_type": "code",
   "execution_count": null,
   "id": "85afb1bd",
   "metadata": {},
   "outputs": [],
   "source": []
  },
  {
   "cell_type": "code",
   "execution_count": null,
   "id": "c436c999",
   "metadata": {},
   "outputs": [],
   "source": []
  },
  {
   "cell_type": "code",
   "execution_count": null,
   "id": "40bd86ae",
   "metadata": {},
   "outputs": [],
   "source": []
  },
  {
   "cell_type": "code",
   "execution_count": null,
   "id": "18adac77",
   "metadata": {},
   "outputs": [],
   "source": []
  },
  {
   "cell_type": "code",
   "execution_count": null,
   "id": "f13ede34",
   "metadata": {},
   "outputs": [],
   "source": []
  },
  {
   "cell_type": "code",
   "execution_count": null,
   "id": "185e87c0",
   "metadata": {},
   "outputs": [],
   "source": []
  },
  {
   "cell_type": "code",
   "execution_count": null,
   "id": "96c4a63c",
   "metadata": {},
   "outputs": [],
   "source": []
  },
  {
   "cell_type": "code",
   "execution_count": null,
   "id": "9fc2ff10",
   "metadata": {},
   "outputs": [],
   "source": []
  },
  {
   "cell_type": "code",
   "execution_count": null,
   "id": "e2e20c9b",
   "metadata": {},
   "outputs": [],
   "source": []
  },
  {
   "cell_type": "code",
   "execution_count": null,
   "id": "ff23b4a1",
   "metadata": {},
   "outputs": [],
   "source": []
  },
  {
   "cell_type": "code",
   "execution_count": null,
   "id": "98992612",
   "metadata": {},
   "outputs": [],
   "source": []
  },
  {
   "cell_type": "code",
   "execution_count": null,
   "id": "1a21641c",
   "metadata": {},
   "outputs": [],
   "source": []
  },
  {
   "cell_type": "code",
   "execution_count": null,
   "id": "941722ea",
   "metadata": {},
   "outputs": [],
   "source": []
  },
  {
   "cell_type": "code",
   "execution_count": null,
   "id": "e1b1c0fc",
   "metadata": {},
   "outputs": [],
   "source": []
  },
  {
   "cell_type": "code",
   "execution_count": null,
   "id": "cff870cb",
   "metadata": {},
   "outputs": [],
   "source": []
  },
  {
   "cell_type": "code",
   "execution_count": null,
   "id": "c01dce14",
   "metadata": {},
   "outputs": [],
   "source": []
  },
  {
   "cell_type": "code",
   "execution_count": null,
   "id": "02bb1499",
   "metadata": {},
   "outputs": [],
   "source": []
  },
  {
   "cell_type": "code",
   "execution_count": null,
   "id": "320516e4",
   "metadata": {},
   "outputs": [],
   "source": []
  },
  {
   "cell_type": "code",
   "execution_count": null,
   "id": "1259d9a5",
   "metadata": {},
   "outputs": [],
   "source": []
  },
  {
   "cell_type": "code",
   "execution_count": null,
   "id": "c4cde507",
   "metadata": {},
   "outputs": [],
   "source": []
  },
  {
   "cell_type": "code",
   "execution_count": null,
   "id": "24d9e444",
   "metadata": {},
   "outputs": [],
   "source": []
  },
  {
   "cell_type": "code",
   "execution_count": null,
   "id": "1e835c03",
   "metadata": {},
   "outputs": [],
   "source": []
  },
  {
   "cell_type": "code",
   "execution_count": null,
   "id": "afbcdcf1",
   "metadata": {},
   "outputs": [],
   "source": []
  },
  {
   "cell_type": "code",
   "execution_count": null,
   "id": "8d9227ad",
   "metadata": {},
   "outputs": [],
   "source": []
  },
  {
   "cell_type": "code",
   "execution_count": null,
   "id": "400ce0bd",
   "metadata": {},
   "outputs": [],
   "source": []
  },
  {
   "cell_type": "code",
   "execution_count": null,
   "id": "7fe0aea4",
   "metadata": {},
   "outputs": [],
   "source": []
  },
  {
   "cell_type": "code",
   "execution_count": null,
   "id": "abbdd8d9",
   "metadata": {},
   "outputs": [],
   "source": []
  },
  {
   "cell_type": "code",
   "execution_count": null,
   "id": "bff33363",
   "metadata": {},
   "outputs": [],
   "source": []
  },
  {
   "cell_type": "code",
   "execution_count": null,
   "id": "6d5e9057",
   "metadata": {},
   "outputs": [],
   "source": []
  },
  {
   "cell_type": "code",
   "execution_count": null,
   "id": "693cb673",
   "metadata": {},
   "outputs": [],
   "source": []
  },
  {
   "cell_type": "code",
   "execution_count": null,
   "id": "6e21eae1",
   "metadata": {},
   "outputs": [],
   "source": []
  },
  {
   "cell_type": "code",
   "execution_count": null,
   "id": "1a422e2d",
   "metadata": {},
   "outputs": [],
   "source": []
  },
  {
   "cell_type": "code",
   "execution_count": null,
   "id": "28e1003f",
   "metadata": {},
   "outputs": [],
   "source": []
  },
  {
   "cell_type": "code",
   "execution_count": null,
   "id": "f3a1dde4",
   "metadata": {},
   "outputs": [],
   "source": []
  },
  {
   "cell_type": "code",
   "execution_count": null,
   "id": "adaf44ed",
   "metadata": {},
   "outputs": [],
   "source": []
  },
  {
   "cell_type": "code",
   "execution_count": null,
   "id": "c774b183",
   "metadata": {},
   "outputs": [],
   "source": []
  },
  {
   "cell_type": "code",
   "execution_count": null,
   "id": "1d5b3970",
   "metadata": {},
   "outputs": [],
   "source": []
  },
  {
   "cell_type": "code",
   "execution_count": null,
   "id": "7a2404db",
   "metadata": {},
   "outputs": [],
   "source": []
  },
  {
   "cell_type": "code",
   "execution_count": null,
   "id": "74062429",
   "metadata": {},
   "outputs": [],
   "source": []
  },
  {
   "cell_type": "code",
   "execution_count": null,
   "id": "2133c73a",
   "metadata": {},
   "outputs": [],
   "source": []
  },
  {
   "cell_type": "code",
   "execution_count": null,
   "id": "eccdc79f",
   "metadata": {},
   "outputs": [],
   "source": []
  },
  {
   "cell_type": "code",
   "execution_count": null,
   "id": "243d6115",
   "metadata": {},
   "outputs": [],
   "source": []
  },
  {
   "cell_type": "code",
   "execution_count": null,
   "id": "02f52727",
   "metadata": {},
   "outputs": [],
   "source": []
  },
  {
   "cell_type": "code",
   "execution_count": null,
   "id": "3abca13c",
   "metadata": {},
   "outputs": [],
   "source": []
  },
  {
   "cell_type": "code",
   "execution_count": null,
   "id": "e52d5f6f",
   "metadata": {},
   "outputs": [],
   "source": []
  },
  {
   "cell_type": "code",
   "execution_count": null,
   "id": "5f0387b4",
   "metadata": {},
   "outputs": [],
   "source": []
  },
  {
   "cell_type": "code",
   "execution_count": null,
   "id": "78ba6f95",
   "metadata": {},
   "outputs": [],
   "source": []
  },
  {
   "cell_type": "code",
   "execution_count": null,
   "id": "e1cb8cc5",
   "metadata": {},
   "outputs": [],
   "source": []
  },
  {
   "cell_type": "code",
   "execution_count": null,
   "id": "df3004c7",
   "metadata": {},
   "outputs": [],
   "source": []
  },
  {
   "cell_type": "code",
   "execution_count": null,
   "id": "ef4b5244",
   "metadata": {},
   "outputs": [],
   "source": []
  }
 ],
 "metadata": {
  "kernelspec": {
   "display_name": "Python 3 (ipykernel)",
   "language": "python",
   "name": "python3"
  },
  "language_info": {
   "codemirror_mode": {
    "name": "ipython",
    "version": 3
   },
   "file_extension": ".py",
   "mimetype": "text/x-python",
   "name": "python",
   "nbconvert_exporter": "python",
   "pygments_lexer": "ipython3",
   "version": "3.9.13"
  }
 },
 "nbformat": 4,
 "nbformat_minor": 5
}
