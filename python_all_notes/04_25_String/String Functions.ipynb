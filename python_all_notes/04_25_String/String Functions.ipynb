{
 "cells": [
  {
   "cell_type": "markdown",
   "id": "c84b3281",
   "metadata": {},
   "source": [
    "## String Functions"
   ]
  },
  {
   "cell_type": "code",
   "execution_count": null,
   "id": "d292adca",
   "metadata": {},
   "outputs": [],
   "source": [
    "Strings are immutable (unchangeable)\n",
    "immutable >> We can not modify string once created"
   ]
  },
  {
   "cell_type": "code",
   "execution_count": 2,
   "id": "72498681",
   "metadata": {},
   "outputs": [
    {
     "name": "stdout",
     "output_type": "stream",
     "text": [
      "python\n",
      "tho\n"
     ]
    }
   ],
   "source": [
    "string = 'python'\n",
    "print(string)\n",
    "string = string[2:5]\n",
    "print(string)"
   ]
  },
  {
   "cell_type": "code",
   "execution_count": 4,
   "id": "7df1e8a2",
   "metadata": {},
   "outputs": [
    {
     "ename": "TypeError",
     "evalue": "'str' object doesn't support item deletion",
     "output_type": "error",
     "traceback": [
      "\u001b[1;31m---------------------------------------------------------------------------\u001b[0m",
      "\u001b[1;31mTypeError\u001b[0m                                 Traceback (most recent call last)",
      "\u001b[1;32m<ipython-input-4-687e394d94c4>\u001b[0m in \u001b[0;36m<module>\u001b[1;34m\u001b[0m\n\u001b[0;32m      1\u001b[0m \u001b[0mstring\u001b[0m \u001b[1;33m=\u001b[0m \u001b[1;34m'python'\u001b[0m\u001b[1;33m\u001b[0m\u001b[1;33m\u001b[0m\u001b[0m\n\u001b[1;32m----> 2\u001b[1;33m \u001b[1;32mdel\u001b[0m \u001b[0mstring\u001b[0m \u001b[1;33m[\u001b[0m\u001b[1;36m1\u001b[0m\u001b[1;33m]\u001b[0m\u001b[1;33m\u001b[0m\u001b[1;33m\u001b[0m\u001b[0m\n\u001b[0m",
      "\u001b[1;31mTypeError\u001b[0m: 'str' object doesn't support item deletion"
     ]
    }
   ],
   "source": [
    "string = 'python'\n",
    "del string [1]"
   ]
  },
  {
   "cell_type": "code",
   "execution_count": 5,
   "id": "5f499ed0",
   "metadata": {},
   "outputs": [
    {
     "ename": "TypeError",
     "evalue": "'str' object does not support item assignment",
     "output_type": "error",
     "traceback": [
      "\u001b[1;31m---------------------------------------------------------------------------\u001b[0m",
      "\u001b[1;31mTypeError\u001b[0m                                 Traceback (most recent call last)",
      "\u001b[1;32m<ipython-input-5-78f94ad00329>\u001b[0m in \u001b[0;36m<module>\u001b[1;34m\u001b[0m\n\u001b[0;32m      1\u001b[0m \u001b[0mstring\u001b[0m \u001b[1;33m=\u001b[0m \u001b[1;34m'python'\u001b[0m\u001b[1;33m\u001b[0m\u001b[1;33m\u001b[0m\u001b[0m\n\u001b[1;32m----> 2\u001b[1;33m \u001b[0mstring\u001b[0m\u001b[1;33m[\u001b[0m\u001b[1;36m1\u001b[0m\u001b[1;33m]\u001b[0m \u001b[1;33m=\u001b[0m \u001b[1;34m'Y'\u001b[0m\u001b[1;33m\u001b[0m\u001b[1;33m\u001b[0m\u001b[0m\n\u001b[0m",
      "\u001b[1;31mTypeError\u001b[0m: 'str' object does not support item assignment"
     ]
    }
   ],
   "source": [
    "string = 'python'\n",
    "string[1] = 'Y'"
   ]
  },
  {
   "cell_type": "code",
   "execution_count": 6,
   "id": "913ab089",
   "metadata": {},
   "outputs": [
    {
     "data": {
      "text/plain": [
       "'MachineLearning'"
      ]
     },
     "execution_count": 6,
     "metadata": {},
     "output_type": "execute_result"
    }
   ],
   "source": [
    "str1 = 'Machine'\n",
    "str2 = \"Learning\"\n",
    "str1 + str2 # concatination(concat)"
   ]
  },
  {
   "cell_type": "code",
   "execution_count": 7,
   "id": "ab680f47",
   "metadata": {},
   "outputs": [
    {
     "data": {
      "text/plain": [
       "'MachineLearningDataScience'"
      ]
     },
     "execution_count": 7,
     "metadata": {},
     "output_type": "execute_result"
    }
   ],
   "source": [
    "str1 = 'Machine'\n",
    "str2 = \"Learning\"\n",
    "str3 = 'Data'\n",
    "str4 = 'Science'\n",
    "str1 + str2 + str3 + str4 # concatination(concat)"
   ]
  },
  {
   "cell_type": "code",
   "execution_count": 8,
   "id": "a4b7396f",
   "metadata": {},
   "outputs": [
    {
     "data": {
      "text/plain": [
       "'Machine Learning'"
      ]
     },
     "execution_count": 8,
     "metadata": {},
     "output_type": "execute_result"
    }
   ],
   "source": [
    "str1 = 'Machine'\n",
    "str2 = \"Learning\"\n",
    "str1 + ' ' + str2 # concatination(concat)"
   ]
  },
  {
   "cell_type": "code",
   "execution_count": 9,
   "id": "5458a269",
   "metadata": {},
   "outputs": [
    {
     "data": {
      "text/plain": [
       "str"
      ]
     },
     "execution_count": 9,
     "metadata": {},
     "output_type": "execute_result"
    }
   ],
   "source": [
    "a = ' '\n",
    "type(a)"
   ]
  },
  {
   "cell_type": "code",
   "execution_count": 10,
   "id": "d9bb0ae0",
   "metadata": {},
   "outputs": [
    {
     "data": {
      "text/plain": [
       "'Machine '"
      ]
     },
     "execution_count": 10,
     "metadata": {},
     "output_type": "execute_result"
    }
   ],
   "source": [
    "str1 = 'Machine'\n",
    "str1 + ' '"
   ]
  },
  {
   "cell_type": "code",
   "execution_count": 12,
   "id": "f899db9a",
   "metadata": {},
   "outputs": [
    {
     "data": {
      "text/plain": [
       "'Machine Machine Machine Machine Machine '"
      ]
     },
     "execution_count": 12,
     "metadata": {},
     "output_type": "execute_result"
    }
   ],
   "source": [
    "str1 = 'Machine '\n",
    "str1 * 5"
   ]
  },
  {
   "cell_type": "code",
   "execution_count": 13,
   "id": "e1477e08",
   "metadata": {},
   "outputs": [
    {
     "data": {
      "text/plain": [
       "'####################'"
      ]
     },
     "execution_count": 13,
     "metadata": {},
     "output_type": "execute_result"
    }
   ],
   "source": [
    "'#' * 20"
   ]
  },
  {
   "cell_type": "code",
   "execution_count": 16,
   "id": "5190c31e",
   "metadata": {},
   "outputs": [
    {
     "name": "stdout",
     "output_type": "stream",
     "text": [
      "**************************************************\n",
      "Char at index 0 is P\n",
      "**************************************************\n",
      "\n",
      "**************************************************\n",
      "Char at index 1 is y\n",
      "**************************************************\n",
      "\n",
      "**************************************************\n",
      "Char at index 2 is t\n",
      "**************************************************\n",
      "\n",
      "**************************************************\n",
      "Char at index 3 is h\n",
      "**************************************************\n",
      "\n",
      "**************************************************\n",
      "Char at index 4 is o\n",
      "**************************************************\n",
      "\n",
      "**************************************************\n",
      "Char at index 5 is n\n",
      "**************************************************\n",
      "\n"
     ]
    }
   ],
   "source": [
    "str4 = 'Velocity'\n",
    "\n",
    "for i ,v in enumerate('Python'):\n",
    "    print('*' * 50)\n",
    "    print(f'Char at index {i} is {v}')\n",
    "    print('*' * 50)\n",
    "    print()"
   ]
  },
  {
   "cell_type": "markdown",
   "id": "b16eda91",
   "metadata": {},
   "source": [
    "# String Functions"
   ]
  },
  {
   "cell_type": "markdown",
   "id": "b7d19a87",
   "metadata": {},
   "source": [
    "## 1. Capitalize()"
   ]
  },
  {
   "cell_type": "code",
   "execution_count": null,
   "id": "5d94a772",
   "metadata": {},
   "outputs": [],
   "source": [
    "It will capitalize only first char of the string\n",
    " first char >> zero index item"
   ]
  },
  {
   "cell_type": "code",
   "execution_count": 18,
   "id": "ef2edb5a",
   "metadata": {},
   "outputs": [
    {
     "data": {
      "text/plain": [
       "'Machine learning'"
      ]
     },
     "execution_count": 18,
     "metadata": {},
     "output_type": "execute_result"
    }
   ],
   "source": [
    "string = 'machine learning'\n",
    "string.capitalize()"
   ]
  },
  {
   "cell_type": "code",
   "execution_count": 19,
   "id": "81ac04b4",
   "metadata": {},
   "outputs": [
    {
     "data": {
      "text/plain": [
       "'Machine learning'"
      ]
     },
     "execution_count": 19,
     "metadata": {},
     "output_type": "execute_result"
    }
   ],
   "source": [
    "string = 'MACHINE learning'\n",
    "string.capitalize()"
   ]
  },
  {
   "cell_type": "code",
   "execution_count": 20,
   "id": "faf994a1",
   "metadata": {},
   "outputs": [
    {
     "data": {
      "text/plain": [
       "'Machine learing'"
      ]
     },
     "execution_count": 20,
     "metadata": {},
     "output_type": "execute_result"
    }
   ],
   "source": [
    "string = 'MACHINE LEARING'\n",
    "string.capitalize()"
   ]
  },
  {
   "cell_type": "markdown",
   "id": "2cff04d7",
   "metadata": {},
   "source": [
    "## 2. upper()"
   ]
  },
  {
   "cell_type": "code",
   "execution_count": null,
   "id": "8ab9c480",
   "metadata": {},
   "outputs": [],
   "source": [
    "It will convert into upper case"
   ]
  },
  {
   "cell_type": "code",
   "execution_count": 21,
   "id": "f00f06fa",
   "metadata": {},
   "outputs": [
    {
     "data": {
      "text/plain": [
       "'MACHINE LEARNING'"
      ]
     },
     "execution_count": 21,
     "metadata": {},
     "output_type": "execute_result"
    }
   ],
   "source": [
    "string = 'machine learning'\n",
    "string.upper()"
   ]
  },
  {
   "cell_type": "code",
   "execution_count": 22,
   "id": "99f89f60",
   "metadata": {},
   "outputs": [
    {
     "data": {
      "text/plain": [
       "'MACHINE LEARNING'"
      ]
     },
     "execution_count": 22,
     "metadata": {},
     "output_type": "execute_result"
    }
   ],
   "source": [
    "string = 'MACHINE learning'\n",
    "string.upper()"
   ]
  },
  {
   "cell_type": "code",
   "execution_count": 23,
   "id": "5e609f0a",
   "metadata": {},
   "outputs": [
    {
     "data": {
      "text/plain": [
       "'MACHINE LEARNING'"
      ]
     },
     "execution_count": 23,
     "metadata": {},
     "output_type": "execute_result"
    }
   ],
   "source": [
    "string = 'MACHINE LEARNING'\n",
    "string.upper()"
   ]
  },
  {
   "cell_type": "code",
   "execution_count": 24,
   "id": "edeb2b65",
   "metadata": {},
   "outputs": [
    {
     "name": "stdout",
     "output_type": "stream",
     "text": [
      "Original string is: machine learning\n",
      "Updated string is: MACHINE LEARNING\n"
     ]
    }
   ],
   "source": [
    "string = 'machine learning'\n",
    "string1 = string.upper()\n",
    "\n",
    "print('Original string is:', string)\n",
    "print('Updated string is:',string1)"
   ]
  },
  {
   "cell_type": "markdown",
   "id": "3699b0bc",
   "metadata": {},
   "source": [
    "## 3. lower()"
   ]
  },
  {
   "cell_type": "code",
   "execution_count": null,
   "id": "f8ddd5d0",
   "metadata": {},
   "outputs": [],
   "source": [
    "It will convert string into lower case"
   ]
  },
  {
   "cell_type": "code",
   "execution_count": 25,
   "id": "8d62cea0",
   "metadata": {},
   "outputs": [
    {
     "data": {
      "text/plain": [
       "'machine learning'"
      ]
     },
     "execution_count": 25,
     "metadata": {},
     "output_type": "execute_result"
    }
   ],
   "source": [
    "string = 'MACHINE learning'\n",
    "string.lower()"
   ]
  },
  {
   "cell_type": "code",
   "execution_count": 26,
   "id": "3c03bb6d",
   "metadata": {},
   "outputs": [
    {
     "data": {
      "text/plain": [
       "'machine learning'"
      ]
     },
     "execution_count": 26,
     "metadata": {},
     "output_type": "execute_result"
    }
   ],
   "source": [
    "string = 'macHine learning'\n",
    "string.lower()"
   ]
  },
  {
   "cell_type": "code",
   "execution_count": 27,
   "id": "e26d7200",
   "metadata": {},
   "outputs": [
    {
     "data": {
      "text/plain": [
       "'machine learning (ml) is a type of artificial intelligence (ai) \\nthat allows software applications to become more accurate at \\npredicting outcomes without being explicitly programmed to do so'"
      ]
     },
     "execution_count": 27,
     "metadata": {},
     "output_type": "execute_result"
    }
   ],
   "source": [
    "str2 = '''Machine learning (ML) is a type of artificial intelligence (AI) \n",
    "that allows software applications to become more accurate at \n",
    "predicting outcomes without being explicitly programmed to do so'''\n",
    "\n",
    "str2.lower()"
   ]
  },
  {
   "cell_type": "code",
   "execution_count": 28,
   "id": "585a5c37",
   "metadata": {},
   "outputs": [
    {
     "data": {
      "text/plain": [
       "'MACHINE LEARNING (ML) IS A TYPE OF ARTIFICIAL INTELLIGENCE (AI) \\nTHAT ALLOWS SOFTWARE APPLICATIONS TO BECOME MORE ACCURATE AT \\nPREDICTING OUTCOMES WITHOUT BEING EXPLICITLY PROGRAMMED TO DO SO'"
      ]
     },
     "execution_count": 28,
     "metadata": {},
     "output_type": "execute_result"
    }
   ],
   "source": [
    "str2 = '''Machine learning (ML) is a type of artificial intelligence (AI) \n",
    "that allows software applications to become more accurate at \n",
    "predicting outcomes without being explicitly programmed to do so'''\n",
    "\n",
    "str2.upper()"
   ]
  },
  {
   "cell_type": "markdown",
   "id": "f2119acb",
   "metadata": {},
   "source": [
    "## 4. title()"
   ]
  },
  {
   "cell_type": "code",
   "execution_count": null,
   "id": "db4ddac6",
   "metadata": {},
   "outputs": [],
   "source": [
    "It will convert string into title case (capitalize each word)\n",
    "title case >> 'virat kohli' >> 'Virat Kohli'"
   ]
  },
  {
   "cell_type": "code",
   "execution_count": 29,
   "id": "9684500c",
   "metadata": {},
   "outputs": [
    {
     "data": {
      "text/plain": [
       "'Virat Kohli'"
      ]
     },
     "execution_count": 29,
     "metadata": {},
     "output_type": "execute_result"
    }
   ],
   "source": [
    "str1 = 'virat kohli'\n",
    "str1.title()   # shft + tab + tab"
   ]
  },
  {
   "cell_type": "code",
   "execution_count": 30,
   "id": "6c7b113d",
   "metadata": {},
   "outputs": [
    {
     "data": {
      "text/plain": [
       "'United States Of America'"
      ]
     },
     "execution_count": 30,
     "metadata": {},
     "output_type": "execute_result"
    }
   ],
   "source": [
    "str2 = 'united states of america'\n",
    "str2.title()"
   ]
  },
  {
   "cell_type": "code",
   "execution_count": null,
   "id": "1056ffa9",
   "metadata": {},
   "outputs": [],
   "source": []
  },
  {
   "cell_type": "code",
   "execution_count": null,
   "id": "f8b21953",
   "metadata": {},
   "outputs": [],
   "source": []
  },
  {
   "cell_type": "code",
   "execution_count": null,
   "id": "fd027423",
   "metadata": {},
   "outputs": [],
   "source": []
  },
  {
   "cell_type": "code",
   "execution_count": null,
   "id": "a0b483e2",
   "metadata": {},
   "outputs": [],
   "source": []
  }
 ],
 "metadata": {
  "kernelspec": {
   "display_name": "Python 3 (ipykernel)",
   "language": "python",
   "name": "python3"
  },
  "language_info": {
   "codemirror_mode": {
    "name": "ipython",
    "version": 3
   },
   "file_extension": ".py",
   "mimetype": "text/x-python",
   "name": "python",
   "nbconvert_exporter": "python",
   "pygments_lexer": "ipython3",
   "version": "3.11.3"
  }
 },
 "nbformat": 4,
 "nbformat_minor": 5
}
