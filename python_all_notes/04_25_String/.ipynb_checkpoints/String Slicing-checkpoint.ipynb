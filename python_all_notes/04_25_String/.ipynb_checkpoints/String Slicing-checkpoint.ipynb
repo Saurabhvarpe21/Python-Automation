{
 "cells": [
  {
   "cell_type": "markdown",
   "id": "e6b7ceb1",
   "metadata": {},
   "source": [
    "# String Slicing"
   ]
  },
  {
   "cell_type": "code",
   "execution_count": 1,
   "id": "053da7cc",
   "metadata": {},
   "outputs": [
    {
     "data": {
      "text/plain": [
       "'Pyt'"
      ]
     },
     "execution_count": 1,
     "metadata": {},
     "output_type": "execute_result"
    }
   ],
   "source": [
    "string = 'Python'\n",
    "string[:3]"
   ]
  },
  {
   "cell_type": "code",
   "execution_count": 3,
   "id": "ddb39780",
   "metadata": {},
   "outputs": [
    {
     "data": {
      "text/plain": [
       "'Pyt'"
      ]
     },
     "execution_count": 3,
     "metadata": {},
     "output_type": "execute_result"
    }
   ],
   "source": [
    "string[-6:-3]"
   ]
  },
  {
   "cell_type": "markdown",
   "id": "c5bc46d7",
   "metadata": {},
   "source": [
    "### step size"
   ]
  },
  {
   "cell_type": "code",
   "execution_count": null,
   "id": "e0fe2d96",
   "metadata": {},
   "outputs": [],
   "source": [
    "string[start_index : end_index : step_size]\n",
    "start_index >> 0\n",
    "end_index >> len(string) - 1\n",
    "step_size >> 1"
   ]
  },
  {
   "cell_type": "code",
   "execution_count": 4,
   "id": "36735d7f",
   "metadata": {},
   "outputs": [
    {
     "data": {
      "text/plain": [
       "'Python'"
      ]
     },
     "execution_count": 4,
     "metadata": {},
     "output_type": "execute_result"
    }
   ],
   "source": [
    "str1 = 'Python'\n",
    "str1[:]     # p t o"
   ]
  },
  {
   "cell_type": "code",
   "execution_count": 6,
   "id": "da2d4474",
   "metadata": {},
   "outputs": [
    {
     "data": {
      "text/plain": [
       "'Python'"
      ]
     },
     "execution_count": 6,
     "metadata": {},
     "output_type": "execute_result"
    }
   ],
   "source": [
    "str1 = 'Python'\n",
    "str1[::1]     # p t o"
   ]
  },
  {
   "cell_type": "code",
   "execution_count": 7,
   "id": "115b8752",
   "metadata": {},
   "outputs": [
    {
     "data": {
      "text/plain": [
       "'Pto'"
      ]
     },
     "execution_count": 7,
     "metadata": {},
     "output_type": "execute_result"
    }
   ],
   "source": [
    "str1 = 'Python'\n",
    "str1[::2]     # p t o"
   ]
  },
  {
   "cell_type": "code",
   "execution_count": 8,
   "id": "be49dc63",
   "metadata": {},
   "outputs": [
    {
     "data": {
      "text/plain": [
       "'yhn'"
      ]
     },
     "execution_count": 8,
     "metadata": {},
     "output_type": "execute_result"
    }
   ],
   "source": [
    "str1 = 'Python'\n",
    "str1[1::2]     # y h n"
   ]
  },
  {
   "cell_type": "code",
   "execution_count": 9,
   "id": "2a7d2b98",
   "metadata": {},
   "outputs": [
    {
     "name": "stdout",
     "output_type": "stream",
     "text": [
      "MheengM  tefrfi tleeA h lsowepitntbo rauta\n",
      "ecnocewhtegxit oaetds\n"
     ]
    }
   ],
   "source": [
    "str2 = '''Machine learning (ML) is a type of artificial intelligence (AI) \n",
    "that allows software applications to become more accurate at \n",
    "predicting outcomes without being explicitly programmed to do so'''\n",
    "print(str2[::3])"
   ]
  },
  {
   "cell_type": "code",
   "execution_count": 10,
   "id": "ab2f2724",
   "metadata": {},
   "outputs": [
    {
     "name": "stdout",
     "output_type": "stream",
     "text": [
      "Mcielann M)i  yeo riiilitliec A)\n",
      "htalw otaeapiain obcm oeacrt t\n",
      "rdcigotoe ihu en xlctyporme od o\n"
     ]
    }
   ],
   "source": [
    "str2 = '''Machine learning (ML) is a type of artificial intelligence (AI) \n",
    "that allows software applications to become more accurate at \n",
    "predicting outcomes without being explicitly programmed to do so'''\n",
    "print(str2[::2])"
   ]
  },
  {
   "cell_type": "code",
   "execution_count": null,
   "id": "9a9bb5ba",
   "metadata": {},
   "outputs": [],
   "source": [
    "str2 = '''Machine learning (ML) is a type of artificial intelligence (AI) \n",
    "that allows software applications to become more accurate at \n",
    "predicting outcomes without being explicitly programmed to do so'''\n",
    "print(str2[::2])"
   ]
  },
  {
   "cell_type": "code",
   "execution_count": 15,
   "id": "f55e218d",
   "metadata": {},
   "outputs": [
    {
     "name": "stdout",
     "output_type": "stream",
     "text": [
      "Mcie\n"
     ]
    }
   ],
   "source": [
    "str2 = '''Machine learning (ML) is a type of artificial intelligence (AI) \n",
    "that allows software applications to become more accurate at \n",
    "predicting outcomes without being explicitly programmed to do so'''\n",
    "print(str2[0:8:2])"
   ]
  },
  {
   "cell_type": "code",
   "execution_count": 16,
   "id": "5f9f8a6d",
   "metadata": {},
   "outputs": [
    {
     "name": "stdout",
     "output_type": "stream",
     "text": [
      "lann \n"
     ]
    }
   ],
   "source": [
    "str2 = '''Machine learning (ML) is a type of artificial intelligence (AI) \n",
    "that allows software applications to become more accurate at \n",
    "predicting outcomes without being explicitly programmed to do so'''\n",
    "print(str2[8:18:2])"
   ]
  },
  {
   "cell_type": "code",
   "execution_count": 17,
   "id": "ed191eb3",
   "metadata": {},
   "outputs": [
    {
     "name": "stdout",
     "output_type": "stream",
     "text": [
      "liMsyfiatg  toorpt e  rartomitnptrmt \n"
     ]
    }
   ],
   "source": [
    "str2 = '''Machine learning (ML) is a type of artificial intelligence (AI) \n",
    "that allows software applications to become more accurate at \n",
    "predicting outcomes without being explicitly programmed to do so'''\n",
    "print(str2[8::5])"
   ]
  },
  {
   "cell_type": "code",
   "execution_count": 18,
   "id": "c2ef020e",
   "metadata": {},
   "outputs": [
    {
     "name": "stdout",
     "output_type": "stream",
     "text": [
      "Mnag)aeai lnAtast iooooct dntshb iyge o\n"
     ]
    }
   ],
   "source": [
    "str2 = '''Machine learning (ML) is a type of artificial intelligence (AI) \n",
    "that allows software applications to become more accurate at \n",
    "predicting outcomes without being explicitly programmed to do so'''\n",
    "print(str2[::5]) # skip 4 char"
   ]
  },
  {
   "cell_type": "code",
   "execution_count": 19,
   "id": "d4cae3e2",
   "metadata": {},
   "outputs": [
    {
     "data": {
      "text/plain": [
       "'Mcielann'"
      ]
     },
     "execution_count": 19,
     "metadata": {},
     "output_type": "execute_result"
    }
   ],
   "source": [
    "str1 ='Machine learning'\n",
    "str1[::2] # skip 1 char"
   ]
  },
  {
   "cell_type": "code",
   "execution_count": 20,
   "id": "a458ee01",
   "metadata": {},
   "outputs": [
    {
     "data": {
      "text/plain": [
       "'Mheeng'"
      ]
     },
     "execution_count": 20,
     "metadata": {},
     "output_type": "execute_result"
    }
   ],
   "source": [
    "str1 ='Machine learning'\n",
    "str1[::3] # skip 2 char"
   ]
  },
  {
   "cell_type": "code",
   "execution_count": 21,
   "id": "958243fb",
   "metadata": {},
   "outputs": [
    {
     "data": {
      "text/plain": [
       "''"
      ]
     },
     "execution_count": 21,
     "metadata": {},
     "output_type": "execute_result"
    }
   ],
   "source": [
    "str1 ='Machine learning'\n",
    "str1[9:4:2] # skip 1 char"
   ]
  },
  {
   "cell_type": "code",
   "execution_count": 22,
   "id": "40508b74",
   "metadata": {},
   "outputs": [
    {
     "ename": "IndexError",
     "evalue": "string index out of range",
     "output_type": "error",
     "traceback": [
      "\u001b[1;31m---------------------------------------------------------------------------\u001b[0m",
      "\u001b[1;31mIndexError\u001b[0m                                Traceback (most recent call last)",
      "\u001b[1;32m<ipython-input-22-29972735e150>\u001b[0m in \u001b[0;36m<module>\u001b[1;34m\u001b[0m\n\u001b[1;32m----> 1\u001b[1;33m \u001b[0mstr1\u001b[0m\u001b[1;33m[\u001b[0m\u001b[1;36m16\u001b[0m\u001b[1;33m]\u001b[0m\u001b[1;33m\u001b[0m\u001b[1;33m\u001b[0m\u001b[0m\n\u001b[0m",
      "\u001b[1;31mIndexError\u001b[0m: string index out of range"
     ]
    }
   ],
   "source": [
    "str1[16]"
   ]
  },
  {
   "cell_type": "code",
   "execution_count": 24,
   "id": "8836f914",
   "metadata": {},
   "outputs": [
    {
     "data": {
      "text/plain": [
       "'Miln'"
      ]
     },
     "execution_count": 24,
     "metadata": {},
     "output_type": "execute_result"
    }
   ],
   "source": [
    "str1[:16:4]"
   ]
  },
  {
   "cell_type": "markdown",
   "id": "bd611f3e",
   "metadata": {},
   "source": [
    "### negative Step size"
   ]
  },
  {
   "cell_type": "code",
   "execution_count": 25,
   "id": "aac73d77",
   "metadata": {},
   "outputs": [
    {
     "data": {
      "text/plain": [
       "'gninrael enihcaM'"
      ]
     },
     "execution_count": 25,
     "metadata": {},
     "output_type": "execute_result"
    }
   ],
   "source": [
    "str1 ='Machine learning'\n",
    "str1[::-1] # reversed the string"
   ]
  },
  {
   "cell_type": "code",
   "execution_count": 26,
   "id": "f189745d",
   "metadata": {},
   "outputs": [
    {
     "data": {
      "text/plain": [
       "'Machine learning'"
      ]
     },
     "execution_count": 26,
     "metadata": {},
     "output_type": "execute_result"
    }
   ],
   "source": [
    "str1[::1]"
   ]
  },
  {
   "cell_type": "code",
   "execution_count": 27,
   "id": "5be9818b",
   "metadata": {},
   "outputs": [
    {
     "data": {
      "text/plain": [
       "'gninrael enihcaM'"
      ]
     },
     "execution_count": 27,
     "metadata": {},
     "output_type": "execute_result"
    }
   ],
   "source": [
    "str1[::-1]"
   ]
  },
  {
   "cell_type": "code",
   "execution_count": 28,
   "id": "6f3e021f",
   "metadata": {},
   "outputs": [
    {
     "data": {
      "text/plain": [
       "'Machine '"
      ]
     },
     "execution_count": 28,
     "metadata": {},
     "output_type": "execute_result"
    }
   ],
   "source": [
    "str1[0:8:1]"
   ]
  },
  {
   "cell_type": "code",
   "execution_count": 29,
   "id": "2a4c0b8a",
   "metadata": {},
   "outputs": [
    {
     "data": {
      "text/plain": [
       "''"
      ]
     },
     "execution_count": 29,
     "metadata": {},
     "output_type": "execute_result"
    }
   ],
   "source": [
    "str1[0:8:-1]"
   ]
  },
  {
   "cell_type": "code",
   "execution_count": 30,
   "id": "b51f54c9",
   "metadata": {},
   "outputs": [
    {
     "data": {
      "text/plain": [
       "'l enihca'"
      ]
     },
     "execution_count": 30,
     "metadata": {},
     "output_type": "execute_result"
    }
   ],
   "source": [
    "str1[8:0:-1]   # 0 - 1  >> [8 to 1]"
   ]
  },
  {
   "cell_type": "code",
   "execution_count": 31,
   "id": "28a5fc25",
   "metadata": {},
   "outputs": [
    {
     "data": {
      "text/plain": [
       "'l'"
      ]
     },
     "execution_count": 31,
     "metadata": {},
     "output_type": "execute_result"
    }
   ],
   "source": [
    "str1[8]"
   ]
  },
  {
   "cell_type": "code",
   "execution_count": 32,
   "id": "6e259296",
   "metadata": {},
   "outputs": [
    {
     "data": {
      "text/plain": [
       "''"
      ]
     },
     "execution_count": 32,
     "metadata": {},
     "output_type": "execute_result"
    }
   ],
   "source": [
    "str1[5:2:1]"
   ]
  },
  {
   "cell_type": "code",
   "execution_count": 33,
   "id": "096397d5",
   "metadata": {},
   "outputs": [
    {
     "data": {
      "text/plain": [
       "'nih'"
      ]
     },
     "execution_count": 33,
     "metadata": {},
     "output_type": "execute_result"
    }
   ],
   "source": [
    "str1[5:2:-1]"
   ]
  },
  {
   "cell_type": "code",
   "execution_count": 34,
   "id": "7ea10de8",
   "metadata": {},
   "outputs": [
    {
     "data": {
      "text/plain": [
       "'nohtyp'"
      ]
     },
     "execution_count": 34,
     "metadata": {},
     "output_type": "execute_result"
    }
   ],
   "source": [
    "str1 = 'python'\n",
    "str1[::-1]"
   ]
  },
  {
   "cell_type": "code",
   "execution_count": 35,
   "id": "fc63f5c4",
   "metadata": {},
   "outputs": [
    {
     "data": {
      "text/plain": [
       "''"
      ]
     },
     "execution_count": 35,
     "metadata": {},
     "output_type": "execute_result"
    }
   ],
   "source": [
    "str1 = 'python'\n",
    "str1[2:5:-1]"
   ]
  },
  {
   "cell_type": "code",
   "execution_count": 36,
   "id": "10b06f54",
   "metadata": {},
   "outputs": [
    {
     "data": {
      "text/plain": [
       "'noh'"
      ]
     },
     "execution_count": 36,
     "metadata": {},
     "output_type": "execute_result"
    }
   ],
   "source": [
    "str1 = 'python'\n",
    "str1[5:2:-1]\n",
    "# p  y  t  h  o  n\n",
    "# 0  1  2  3  4  5\n",
    "# n o h"
   ]
  },
  {
   "cell_type": "code",
   "execution_count": 37,
   "id": "fb14076a",
   "metadata": {},
   "outputs": [
    {
     "data": {
      "text/plain": [
       "'tho'"
      ]
     },
     "execution_count": 37,
     "metadata": {},
     "output_type": "execute_result"
    }
   ],
   "source": [
    "str1[2:5]"
   ]
  },
  {
   "cell_type": "code",
   "execution_count": 38,
   "id": "c9518be1",
   "metadata": {},
   "outputs": [
    {
     "data": {
      "text/plain": [
       "'noh'"
      ]
     },
     "execution_count": 38,
     "metadata": {},
     "output_type": "execute_result"
    }
   ],
   "source": [
    "str1[5:2:-1]"
   ]
  },
  {
   "cell_type": "code",
   "execution_count": null,
   "id": "bfe04022",
   "metadata": {},
   "outputs": [],
   "source": [
    "str1 = 'python'\n",
    "str1[5:2:-1]\n",
    "# p  y  t  h  o  n\n",
    "# 0  1  2  3  4  5\n",
    "#-6 -5 -4 -3 -2 -1\n",
    "# n o h"
   ]
  },
  {
   "cell_type": "code",
   "execution_count": 39,
   "id": "79c2b552",
   "metadata": {},
   "outputs": [
    {
     "data": {
      "text/plain": [
       "'typ'"
      ]
     },
     "execution_count": 39,
     "metadata": {},
     "output_type": "execute_result"
    }
   ],
   "source": [
    "str1[-4::-1]"
   ]
  },
  {
   "cell_type": "code",
   "execution_count": 40,
   "id": "1ef75c2a",
   "metadata": {},
   "outputs": [
    {
     "data": {
      "text/plain": [
       "'ty'"
      ]
     },
     "execution_count": 40,
     "metadata": {},
     "output_type": "execute_result"
    }
   ],
   "source": [
    "str1[-4:-6:-1]"
   ]
  },
  {
   "cell_type": "code",
   "execution_count": 42,
   "id": "e23519c1",
   "metadata": {},
   "outputs": [
    {
     "data": {
      "text/plain": [
       "'ohtyp'"
      ]
     },
     "execution_count": 42,
     "metadata": {},
     "output_type": "execute_result"
    }
   ],
   "source": [
    "str1[4::-1]"
   ]
  },
  {
   "cell_type": "code",
   "execution_count": 46,
   "id": "12519f2e",
   "metadata": {},
   "outputs": [
    {
     "data": {
      "text/plain": [
       "'ytho'"
      ]
     },
     "execution_count": 46,
     "metadata": {},
     "output_type": "execute_result"
    }
   ],
   "source": [
    "str1[1:5:]"
   ]
  },
  {
   "cell_type": "code",
   "execution_count": 49,
   "id": "38995337",
   "metadata": {},
   "outputs": [
    {
     "data": {
      "text/plain": [
       "'noht'"
      ]
     },
     "execution_count": 49,
     "metadata": {},
     "output_type": "execute_result"
    }
   ],
   "source": [
    "str1[-1:-5:-1]"
   ]
  },
  {
   "cell_type": "markdown",
   "id": "fa4a44e7",
   "metadata": {},
   "source": [
    "# Access chars by using for loops"
   ]
  },
  {
   "cell_type": "code",
   "execution_count": null,
   "id": "f3d50717",
   "metadata": {},
   "outputs": [],
   "source": [
    "\n",
    "\n",
    "for loop works as an iterator\n",
    "\n",
    "sequences(iterables) >> string, list, tuple, set, dict "
   ]
  },
  {
   "cell_type": "code",
   "execution_count": null,
   "id": "927efe25",
   "metadata": {},
   "outputs": [],
   "source": [
    "for var_name in iterables:\n",
    "    print(var_name)"
   ]
  },
  {
   "cell_type": "code",
   "execution_count": 50,
   "id": "49410230",
   "metadata": {},
   "outputs": [
    {
     "name": "stdout",
     "output_type": "stream",
     "text": [
      "p\n",
      "y\n",
      "t\n",
      "h\n",
      "o\n",
      "n\n"
     ]
    }
   ],
   "source": [
    "str3 = 'python' \n",
    "\n",
    "for var_name in str3:\n",
    "    print(var_name)"
   ]
  },
  {
   "cell_type": "code",
   "execution_count": 51,
   "id": "60912c83",
   "metadata": {},
   "outputs": [
    {
     "name": "stdout",
     "output_type": "stream",
     "text": [
      "Hello\n",
      "Hello\n",
      "Hello\n",
      "Hello\n",
      "Hello\n",
      "Hello\n"
     ]
    }
   ],
   "source": [
    "str3 = 'python' \n",
    "\n",
    "for var_name in str3: # len of string == 6\n",
    "    print('Hello')"
   ]
  },
  {
   "cell_type": "code",
   "execution_count": 54,
   "id": "2423ec5a",
   "metadata": {},
   "outputs": [
    {
     "name": "stdout",
     "output_type": "stream",
     "text": [
      "Hello\n",
      "##########\n",
      "Hello\n",
      "##########\n",
      "Hello\n",
      "##########\n",
      "Hello\n",
      "##########\n",
      "Hello\n",
      "##########\n",
      "Hello\n",
      "##########\n"
     ]
    }
   ],
   "source": [
    "str3 = 'python' \n",
    "\n",
    "for var_name in str3: # len of string == 6\n",
    "    print('Hello')\n",
    "    print('##########')"
   ]
  },
  {
   "cell_type": "code",
   "execution_count": 56,
   "id": "5fc699e6",
   "metadata": {},
   "outputs": [
    {
     "name": "stdout",
     "output_type": "stream",
     "text": [
      "Char is : V\n",
      "Loop Executed\n",
      "Char is : e\n",
      "Loop Executed\n",
      "Char is : l\n",
      "Loop Executed\n",
      "Char is : o\n",
      "Loop Executed\n",
      "Char is : c\n",
      "Loop Executed\n",
      "Char is : i\n",
      "Loop Executed\n",
      "Char is : t\n",
      "Loop Executed\n",
      "Char is : y\n",
      "Loop Executed\n"
     ]
    }
   ],
   "source": [
    "str3 = 'Velocity'\n",
    "\n",
    "for char in str3:\n",
    "    print('Char is :', char)\n",
    "    print('Loop Executed')"
   ]
  },
  {
   "cell_type": "code",
   "execution_count": 57,
   "id": "d77c27c8",
   "metadata": {},
   "outputs": [
    {
     "name": "stdout",
     "output_type": "stream",
     "text": [
      "Char is : V\n",
      "Char is : e\n",
      "Char is : l\n",
      "Char is : o\n",
      "Char is : c\n",
      "Char is : i\n",
      "Char is : t\n",
      "Char is : y\n",
      "Loop Executed\n"
     ]
    }
   ],
   "source": [
    "str3 = 'Velocity'\n",
    "\n",
    "for char in str3:\n",
    "    print('Char is :', char)\n",
    "    \n",
    "print('Loop Executed')"
   ]
  },
  {
   "cell_type": "code",
   "execution_count": 58,
   "id": "9cdfb74d",
   "metadata": {},
   "outputs": [
    {
     "name": "stdout",
     "output_type": "stream",
     "text": [
      "Char is : V\n",
      "++++++++++++++++++++\n",
      "Char is : e\n",
      "++++++++++++++++++++\n",
      "Char is : l\n",
      "++++++++++++++++++++\n",
      "Char is : o\n",
      "++++++++++++++++++++\n",
      "Char is : c\n",
      "++++++++++++++++++++\n",
      "Char is : i\n",
      "++++++++++++++++++++\n",
      "Char is : t\n",
      "++++++++++++++++++++\n",
      "Char is : y\n",
      "++++++++++++++++++++\n",
      "Loop Executed\n"
     ]
    }
   ],
   "source": [
    "str3 = 'Velocity'\n",
    "\n",
    "for char in str3:\n",
    "    print('Char is :', char)\n",
    "    print('++++++++++++++++++++')\n",
    "    \n",
    "print('Loop Executed')"
   ]
  },
  {
   "cell_type": "code",
   "execution_count": 60,
   "id": "3169f40c",
   "metadata": {},
   "outputs": [
    {
     "name": "stdout",
     "output_type": "stream",
     "text": [
      "Char is : 1\n",
      "++++++++++++++++++++\n",
      "Char is : 2\n",
      "++++++++++++++++++++\n",
      "Char is : 3\n",
      "++++++++++++++++++++\n",
      "Char is : 3\n",
      "++++++++++++++++++++\n",
      "Loop Executed\n"
     ]
    }
   ],
   "source": [
    "str3 = '1233'\n",
    "\n",
    "for char in str3:\n",
    "    print('Char is :', char)\n",
    "    print('++++++++++++++++++++')\n",
    "    \n",
    "print('Loop Executed')"
   ]
  },
  {
   "cell_type": "code",
   "execution_count": 61,
   "id": "2fc0ff8a",
   "metadata": {},
   "outputs": [
    {
     "name": "stdout",
     "output_type": "stream",
     "text": [
      "Char is : y\n",
      "Char is : t\n",
      "Char is : i\n",
      "Char is : c\n",
      "Char is : o\n",
      "Char is : l\n",
      "Char is : e\n",
      "Char is : V\n",
      "Loop Executed\n"
     ]
    }
   ],
   "source": [
    "str3 = 'Velocity'\n",
    "\n",
    "for char in str3[::-1]:\n",
    "    print('Char is :', char)\n",
    "#     print('++++++++++++++++++++')\n",
    "    \n",
    "print('Loop Executed')"
   ]
  },
  {
   "cell_type": "code",
   "execution_count": 62,
   "id": "f1c50659",
   "metadata": {},
   "outputs": [
    {
     "name": "stdout",
     "output_type": "stream",
     "text": [
      "Char is : y\n",
      "++++++++++++++++++++\n",
      "Char is : t\n",
      "++++++++++++++++++++\n",
      "Char is : i\n",
      "++++++++++++++++++++\n",
      "Char is : c\n",
      "++++++++++++++++++++\n",
      "Char is : o\n",
      "++++++++++++++++++++\n",
      "Char is : l\n",
      "++++++++++++++++++++\n",
      "Char is : e\n",
      "++++++++++++++++++++\n",
      "Char is : V\n",
      "++++++++++++++++++++\n",
      "Loop Executed\n"
     ]
    }
   ],
   "source": [
    "str3 = 'Velocity'\n",
    "\n",
    "for char in str3[::-1]:\n",
    "    print('Char is :', char)\n",
    "    print('++++++++++++++++++++')\n",
    "    \n",
    "print('Loop Executed')"
   ]
  },
  {
   "cell_type": "code",
   "execution_count": 64,
   "id": "1a8505b2",
   "metadata": {},
   "outputs": [
    {
     "name": "stdout",
     "output_type": "stream",
     "text": [
      "Char at index 0 is V\n",
      "Char at index 1 is e\n",
      "Char at index 2 is l\n",
      "Char at index 3 is o\n",
      "Char at index 4 is c\n",
      "Char at index 5 is i\n",
      "Char at index 6 is t\n",
      "Char at index 7 is y\n",
      "Loop Executed\n"
     ]
    }
   ],
   "source": [
    "str3 = 'Velocity'\n",
    "\n",
    "count = 0\n",
    "for char in str3:\n",
    "    print(f'Char at index {count} is {char}')\n",
    "    count = count +1\n",
    "#     count += 1 \n",
    "    \n",
    "print('Loop Executed')"
   ]
  },
  {
   "cell_type": "code",
   "execution_count": 65,
   "id": "f5fe2780",
   "metadata": {},
   "outputs": [
    {
     "name": "stdout",
     "output_type": "stream",
     "text": [
      "Char at index 0 is V\n",
      "1\n",
      "Char at index 1 is e\n",
      "2\n",
      "Char at index 2 is l\n",
      "3\n",
      "Char at index 3 is o\n",
      "4\n",
      "Char at index 4 is c\n",
      "5\n",
      "Char at index 5 is i\n",
      "6\n",
      "Char at index 6 is t\n",
      "7\n",
      "Char at index 7 is y\n",
      "8\n",
      "Loop Executed\n"
     ]
    }
   ],
   "source": [
    "str3 = 'Velocity'\n",
    "\n",
    "count = 0\n",
    "for char in str3:\n",
    "    print(f'Char at index {count} is {char}')\n",
    "    count = count +1\n",
    "    print(count)\n",
    "#     count += 1 \n",
    "    \n",
    "print('Loop Executed')"
   ]
  },
  {
   "cell_type": "markdown",
   "id": "2f1d1189",
   "metadata": {},
   "source": [
    "## enumerate function"
   ]
  },
  {
   "cell_type": "code",
   "execution_count": 66,
   "id": "3ab5a9a0",
   "metadata": {},
   "outputs": [
    {
     "name": "stdout",
     "output_type": "stream",
     "text": [
      "0 V\n",
      "1 e\n",
      "2 l\n",
      "3 o\n",
      "4 c\n",
      "5 i\n",
      "6 t\n",
      "7 y\n"
     ]
    }
   ],
   "source": [
    "str4 = 'Velocity'\n",
    "\n",
    "for index ,value in enumerate(str4):\n",
    "    print(index, value)"
   ]
  },
  {
   "cell_type": "code",
   "execution_count": 67,
   "id": "48d18f38",
   "metadata": {},
   "outputs": [
    {
     "name": "stdout",
     "output_type": "stream",
     "text": [
      "Char at index 0 is V\n",
      "Char at index 1 is e\n",
      "Char at index 2 is l\n",
      "Char at index 3 is o\n",
      "Char at index 4 is c\n",
      "Char at index 5 is i\n",
      "Char at index 6 is t\n",
      "Char at index 7 is y\n"
     ]
    }
   ],
   "source": [
    "str4 = 'Velocity'\n",
    "\n",
    "for index ,value in enumerate(str4):\n",
    "    print(f'Char at index {index} is {value}')"
   ]
  },
  {
   "cell_type": "code",
   "execution_count": 68,
   "id": "e1c12d76",
   "metadata": {},
   "outputs": [
    {
     "name": "stdout",
     "output_type": "stream",
     "text": [
      "Char at index 0 is V\n",
      "0\n",
      "Char at index 1 is e\n",
      "1\n",
      "Char at index 2 is l\n",
      "2\n",
      "Char at index 3 is o\n",
      "3\n",
      "Char at index 4 is c\n",
      "4\n",
      "Char at index 5 is i\n",
      "5\n",
      "Char at index 6 is t\n",
      "6\n",
      "Char at index 7 is y\n",
      "7\n"
     ]
    }
   ],
   "source": [
    "str4 = 'Velocity'\n",
    "\n",
    "for i ,v in enumerate(str4):\n",
    "    print(f'Char at index {i} is {v}')\n",
    "    print(i)"
   ]
  },
  {
   "cell_type": "code",
   "execution_count": 69,
   "id": "d419a002",
   "metadata": {},
   "outputs": [
    {
     "name": "stdout",
     "output_type": "stream",
     "text": [
      "Char at index 0 is P\n",
      "0\n",
      "Char at index 1 is y\n",
      "1\n",
      "Char at index 2 is t\n",
      "2\n",
      "Char at index 3 is h\n",
      "3\n",
      "Char at index 4 is o\n",
      "4\n",
      "Char at index 5 is n\n",
      "5\n"
     ]
    }
   ],
   "source": [
    "str4 = 'Velocity'\n",
    "\n",
    "for i ,v in enumerate('Python'):\n",
    "    print(f'Char at index {i} is {v}')\n",
    "    print(i)"
   ]
  },
  {
   "cell_type": "code",
   "execution_count": 70,
   "id": "96a4781d",
   "metadata": {},
   "outputs": [
    {
     "name": "stdout",
     "output_type": "stream",
     "text": [
      "p\n",
      "y\n",
      "t\n",
      "h\n",
      "o\n",
      "n\n"
     ]
    }
   ],
   "source": [
    "for i in 'python':\n",
    "    print(i)"
   ]
  },
  {
   "cell_type": "code",
   "execution_count": 71,
   "id": "adcd12d3",
   "metadata": {},
   "outputs": [
    {
     "name": "stdout",
     "output_type": "stream",
     "text": [
      "p\n",
      "t\n",
      "o\n"
     ]
    }
   ],
   "source": [
    "a = 'python'\n",
    "for i in a[::2] :\n",
    "    print(i)"
   ]
  },
  {
   "cell_type": "code",
   "execution_count": null,
   "id": "c6799730",
   "metadata": {},
   "outputs": [],
   "source": []
  }
 ],
 "metadata": {
  "kernelspec": {
   "display_name": "Python 3",
   "language": "python",
   "name": "python3"
  },
  "language_info": {
   "codemirror_mode": {
    "name": "ipython",
    "version": 3
   },
   "file_extension": ".py",
   "mimetype": "text/x-python",
   "name": "python",
   "nbconvert_exporter": "python",
   "pygments_lexer": "ipython3",
   "version": "3.8.8"
  }
 },
 "nbformat": 4,
 "nbformat_minor": 5
}
