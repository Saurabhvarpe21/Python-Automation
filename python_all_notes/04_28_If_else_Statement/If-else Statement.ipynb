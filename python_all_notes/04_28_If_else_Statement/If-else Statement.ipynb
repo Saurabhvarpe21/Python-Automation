{
 "cells": [
  {
   "cell_type": "code",
   "execution_count": 5,
   "id": "4859a075",
   "metadata": {},
   "outputs": [
    {
     "name": "stdout",
     "output_type": "stream",
     "text": [
      "clthon pyass\n"
     ]
    }
   ],
   "source": [
    "a = 'python'\n",
    "b = 'class'\n",
    "\n",
    "# pyass\n",
    "# clthon\n",
    "\n",
    "a1 = b[0:2] + a[2:]\n",
    "b1 = a[0:2] + b[2:]\n",
    "print(a1, b1)"
   ]
  },
  {
   "cell_type": "code",
   "execution_count": 7,
   "id": "fb8fce1b",
   "metadata": {},
   "outputs": [
    {
     "data": {
      "text/plain": [
       "'If-else Statement'"
      ]
     },
     "execution_count": 7,
     "metadata": {},
     "output_type": "execute_result"
    }
   ],
   "source": [
    "new = \"If-else Statement.ipynb\"\n",
    "new.split('.')[0]"
   ]
  },
  {
   "cell_type": "code",
   "execution_count": 10,
   "id": "3c853dd5",
   "metadata": {},
   "outputs": [
    {
     "name": "stdout",
     "output_type": "stream",
     "text": [
      "17\n"
     ]
    },
    {
     "data": {
      "text/plain": [
       "16"
      ]
     },
     "execution_count": 10,
     "metadata": {},
     "output_type": "execute_result"
    }
   ],
   "source": [
    "a = 'machine learning'\n",
    "print(a.count(''))\n",
    "len(a)"
   ]
  },
  {
   "cell_type": "markdown",
   "id": "23b79735",
   "metadata": {},
   "source": [
    "# If-else Statement"
   ]
  },
  {
   "cell_type": "code",
   "execution_count": null,
   "id": "75635bbb",
   "metadata": {},
   "outputs": [],
   "source": [
    "Decision making statement\n",
    "Conditional statement"
   ]
  },
  {
   "cell_type": "code",
   "execution_count": null,
   "id": "b62edd93",
   "metadata": {},
   "outputs": [],
   "source": [
    "if\n",
    "elif (else if)\n",
    "else"
   ]
  },
  {
   "cell_type": "code",
   "execution_count": null,
   "id": "76c31a43",
   "metadata": {},
   "outputs": [],
   "source": [
    "if condition1: # condition1  >> True / False\n",
    "    Block of code\n",
    "    statement1\n",
    "    statement2\n",
    "    statement3\n",
    "    \n",
    "elif condition2: # condition >> True / False\n",
    "    statement4\n",
    "    statement5\n",
    "    statement6\n",
    "    \n",
    "else:\n",
    "    statement7\n",
    "    statement8"
   ]
  },
  {
   "cell_type": "code",
   "execution_count": null,
   "id": "62b59b31",
   "metadata": {},
   "outputs": [],
   "source": [
    "if condition1: # condition1  >> True / False\n",
    "    Block of code\n",
    "    statement1\n",
    "    statement2\n",
    "    statement3\n",
    "    \n",
    "elif condition2: # condition >> True / False\n",
    "    statement4\n",
    "    statement5\n",
    "    statement6\n",
    "    \n",
    "elif condition3: # condition >> True / False\n",
    "    statement41\n",
    "    statement51\n",
    "    statement61\n",
    "    \n",
    "else:\n",
    "    statement7\n",
    "    statement8"
   ]
  },
  {
   "cell_type": "code",
   "execution_count": null,
   "id": "309f3068",
   "metadata": {},
   "outputs": [],
   "source": [
    "if\n",
    "if >> elif\n",
    "if >> elif >> elif\n",
    "if >> elif >> else\n",
    "if >> elif >> elif >> elif >> else\n",
    "if >> else"
   ]
  },
  {
   "cell_type": "code",
   "execution_count": 11,
   "id": "937bb4e9",
   "metadata": {},
   "outputs": [
    {
     "name": "stdout",
     "output_type": "stream",
     "text": [
      "a is smaller than b\n"
     ]
    }
   ],
   "source": [
    "a = 45\n",
    "b = 50\n",
    "\n",
    "if a > b: # false\n",
    "    print('a is greater than b')\n",
    "    \n",
    "else:\n",
    "    print('a is smaller than b')"
   ]
  },
  {
   "cell_type": "code",
   "execution_count": 12,
   "id": "69c7ebfd",
   "metadata": {},
   "outputs": [
    {
     "ename": "SyntaxError",
     "evalue": "invalid syntax (<ipython-input-12-efd277a64548>, line 7)",
     "output_type": "error",
     "traceback": [
      "\u001b[1;36m  File \u001b[1;32m\"<ipython-input-12-efd277a64548>\"\u001b[1;36m, line \u001b[1;32m7\u001b[0m\n\u001b[1;33m    else b > a:\u001b[0m\n\u001b[1;37m         ^\u001b[0m\n\u001b[1;31mSyntaxError\u001b[0m\u001b[1;31m:\u001b[0m invalid syntax\n"
     ]
    }
   ],
   "source": [
    "a = 45\n",
    "b = 50\n",
    "\n",
    "if a > b: # false\n",
    "    print('a is greater than b')\n",
    "    \n",
    "else b > a:\n",
    "    print('a is smaller than b')"
   ]
  },
  {
   "cell_type": "code",
   "execution_count": 13,
   "id": "d8bdec48",
   "metadata": {},
   "outputs": [
    {
     "name": "stdout",
     "output_type": "stream",
     "text": [
      "a is smaller than b\n"
     ]
    }
   ],
   "source": [
    "a = 45\n",
    "b = 50\n",
    "\n",
    "if a > b: # false\n",
    "    print('a is greater than b')\n",
    "    \n",
    "elif b > a:\n",
    "    print('a is smaller than b')"
   ]
  },
  {
   "cell_type": "code",
   "execution_count": 14,
   "id": "ab7afb86",
   "metadata": {},
   "outputs": [
    {
     "name": "stdout",
     "output_type": "stream",
     "text": [
      "a is greater than c\n"
     ]
    }
   ],
   "source": [
    "a = 45\n",
    "b = 50\n",
    "c = 40\n",
    "\n",
    "if a > b: # false\n",
    "    print('a is greater than b')\n",
    "    \n",
    "elif a > c:\n",
    "    print('a is greater than c')"
   ]
  },
  {
   "cell_type": "code",
   "execution_count": 15,
   "id": "269192ca",
   "metadata": {},
   "outputs": [
    {
     "name": "stdout",
     "output_type": "stream",
     "text": [
      "y is greater than or equal to x\n"
     ]
    }
   ],
   "source": [
    "x = 500\n",
    "y = 500\n",
    "\n",
    "if x > y :\n",
    "    print('x is greater than y')\n",
    "    \n",
    "else:\n",
    "    print('y is greater than or equal to x')"
   ]
  },
  {
   "cell_type": "code",
   "execution_count": 2,
   "id": "41b6ac7f",
   "metadata": {},
   "outputs": [
    {
     "name": "stdout",
     "output_type": "stream",
     "text": [
      "x is greater than y\n",
      "x is equal to y\n"
     ]
    }
   ],
   "source": [
    "x = 5000\n",
    "y = 500\n",
    "\n",
    "if x > y :\n",
    "    print('x is greater than y')\n",
    "    \n",
    "if x > y :\n",
    "    print('x is equal to y')\n",
    "    \n",
    "else:\n",
    "    print('y is greater than or equal to x')"
   ]
  },
  {
   "cell_type": "code",
   "execution_count": 17,
   "id": "4aa36e18",
   "metadata": {},
   "outputs": [
    {
     "name": "stdout",
     "output_type": "stream",
     "text": [
      "String is in lower case\n"
     ]
    }
   ],
   "source": [
    "string = 'python'\n",
    "if string.islower():\n",
    "    print('String is in lower case')\n",
    "    \n",
    "else:\n",
    "    print('String is not in lower case')"
   ]
  },
  {
   "cell_type": "code",
   "execution_count": 18,
   "id": "eecd61d6",
   "metadata": {},
   "outputs": [
    {
     "name": "stdout",
     "output_type": "stream",
     "text": [
      "String is not in lower case\n"
     ]
    }
   ],
   "source": [
    "string = 'Python'\n",
    "if string.islower():\n",
    "    print('String is in lower case')\n",
    "    \n",
    "else:\n",
    "    print('String is not in lower case')"
   ]
  },
  {
   "cell_type": "code",
   "execution_count": 19,
   "id": "ff176beb",
   "metadata": {},
   "outputs": [
    {
     "name": "stdout",
     "output_type": "stream",
     "text": [
      "String is in title case\n"
     ]
    }
   ],
   "source": [
    "string = 'Python'\n",
    "if string.istitle():\n",
    "    print('String is in title case')\n",
    "    \n",
    "else:\n",
    "    print('String is not in title case')"
   ]
  },
  {
   "cell_type": "code",
   "execution_count": 20,
   "id": "8c0a2dae",
   "metadata": {},
   "outputs": [
    {
     "name": "stdout",
     "output_type": "stream",
     "text": [
      "String is in title case\n"
     ]
    }
   ],
   "source": [
    "string = 'Data Science'\n",
    "if string.istitle():\n",
    "    print('String is in title case')\n",
    "    \n",
    "else:\n",
    "    print('String is not in title case')"
   ]
  },
  {
   "cell_type": "code",
   "execution_count": 21,
   "id": "cbb9d7af",
   "metadata": {},
   "outputs": [
    {
     "name": "stdout",
     "output_type": "stream",
     "text": [
      "String is not in title case\n"
     ]
    }
   ],
   "source": [
    "string = 'Data science'\n",
    "if string.istitle():\n",
    "    print('String is in title case')\n",
    "    \n",
    "else:\n",
    "    print('String is not in title case')"
   ]
  },
  {
   "cell_type": "markdown",
   "id": "0995061d",
   "metadata": {},
   "source": [
    "# Operators"
   ]
  },
  {
   "cell_type": "markdown",
   "id": "a3175b99",
   "metadata": {},
   "source": [
    "## 1. Comparison Operator"
   ]
  },
  {
   "cell_type": "code",
   "execution_count": null,
   "id": "9936f68e",
   "metadata": {},
   "outputs": [],
   "source": [
    "a == b  # Equal operator\n",
    "a != b  # not equal\n",
    "a > b   # greater than\n",
    "a < b   # less than\n",
    "a >= b  # greater than eqauls to\n",
    "a <= b  # less than eqauls to "
   ]
  },
  {
   "cell_type": "code",
   "execution_count": 22,
   "id": "bb5370ff",
   "metadata": {},
   "outputs": [
    {
     "data": {
      "text/plain": [
       "True"
      ]
     },
     "execution_count": 22,
     "metadata": {},
     "output_type": "execute_result"
    }
   ],
   "source": [
    "a = 5\n",
    "b = 5\n",
    "a == b"
   ]
  },
  {
   "cell_type": "code",
   "execution_count": 23,
   "id": "0486d1c2",
   "metadata": {},
   "outputs": [
    {
     "data": {
      "text/plain": [
       "True"
      ]
     },
     "execution_count": 23,
     "metadata": {},
     "output_type": "execute_result"
    }
   ],
   "source": [
    "a = 5.5\n",
    "b = 5.5\n",
    "a == b"
   ]
  },
  {
   "cell_type": "code",
   "execution_count": 24,
   "id": "fa85b602",
   "metadata": {},
   "outputs": [
    {
     "data": {
      "text/plain": [
       "False"
      ]
     },
     "execution_count": 24,
     "metadata": {},
     "output_type": "execute_result"
    }
   ],
   "source": [
    "a = 5.15\n",
    "b = 5.5\n",
    "a == b"
   ]
  },
  {
   "cell_type": "code",
   "execution_count": 25,
   "id": "32b6879c",
   "metadata": {},
   "outputs": [
    {
     "data": {
      "text/plain": [
       "True"
      ]
     },
     "execution_count": 25,
     "metadata": {},
     "output_type": "execute_result"
    }
   ],
   "source": [
    "a = 'python'\n",
    "b = 'python'\n",
    "a == b"
   ]
  },
  {
   "cell_type": "code",
   "execution_count": 26,
   "id": "676b6029",
   "metadata": {},
   "outputs": [
    {
     "data": {
      "text/plain": [
       "False"
      ]
     },
     "execution_count": 26,
     "metadata": {},
     "output_type": "execute_result"
    }
   ],
   "source": [
    "a = 'python'\n",
    "b = 'python '\n",
    "a == b"
   ]
  },
  {
   "cell_type": "code",
   "execution_count": 28,
   "id": "010599cb",
   "metadata": {},
   "outputs": [
    {
     "name": "stdout",
     "output_type": "stream",
     "text": [
      "Both strings are equal\n"
     ]
    }
   ],
   "source": [
    "a = 'python'\n",
    "b = 'python'\n",
    "\n",
    "if a==b:\n",
    "    print('Both strings are equal')\n",
    "    \n",
    "else:\n",
    "    print('Both strings are not equal')"
   ]
  },
  {
   "cell_type": "code",
   "execution_count": 29,
   "id": "8dee808c",
   "metadata": {},
   "outputs": [
    {
     "name": "stdout",
     "output_type": "stream",
     "text": [
      "Both strings are not equal\n"
     ]
    }
   ],
   "source": [
    "a = 'python'\n",
    "b = 'Python'\n",
    "\n",
    "if a==b:\n",
    "    print('Both strings are equal')\n",
    "    \n",
    "else:\n",
    "    print('Both strings are not equal')"
   ]
  },
  {
   "cell_type": "code",
   "execution_count": 30,
   "id": "7811a32a",
   "metadata": {},
   "outputs": [
    {
     "data": {
      "text/plain": [
       "False"
      ]
     },
     "execution_count": 30,
     "metadata": {},
     "output_type": "execute_result"
    }
   ],
   "source": [
    "a = 5\n",
    "b = 6\n",
    "a == b"
   ]
  },
  {
   "cell_type": "code",
   "execution_count": 31,
   "id": "0bf5c12a",
   "metadata": {},
   "outputs": [
    {
     "data": {
      "text/plain": [
       "True"
      ]
     },
     "execution_count": 31,
     "metadata": {},
     "output_type": "execute_result"
    }
   ],
   "source": [
    "a = 5\n",
    "b = 6\n",
    "a != b"
   ]
  },
  {
   "cell_type": "code",
   "execution_count": 32,
   "id": "1945332f",
   "metadata": {},
   "outputs": [
    {
     "name": "stdout",
     "output_type": "stream",
     "text": [
      "Both strings are equal\n"
     ]
    }
   ],
   "source": [
    "a = 'python'\n",
    "b = 'python'\n",
    "\n",
    "if a==b:\n",
    "    print('Both strings are equal')\n",
    "    \n",
    "else:\n",
    "    print('Both strings are not equal')"
   ]
  },
  {
   "cell_type": "code",
   "execution_count": 33,
   "id": "ba8e3be2",
   "metadata": {},
   "outputs": [
    {
     "name": "stdout",
     "output_type": "stream",
     "text": [
      "Strings are same\n"
     ]
    }
   ],
   "source": [
    "a = 'python'\n",
    "b = 'python'\n",
    "\n",
    "if a!=b:\n",
    "    print('Strings are different')\n",
    "    \n",
    "else:\n",
    "    print('Strings are same')"
   ]
  },
  {
   "cell_type": "code",
   "execution_count": 34,
   "id": "5a43e417",
   "metadata": {},
   "outputs": [
    {
     "name": "stdout",
     "output_type": "stream",
     "text": [
      "Strings are different\n"
     ]
    }
   ],
   "source": [
    "a = 'python'\n",
    "b = 'Python'\n",
    "\n",
    "if a!=b:\n",
    "    print('Strings are different')\n",
    "    \n",
    "else:\n",
    "    print('Strings are same')"
   ]
  },
  {
   "cell_type": "code",
   "execution_count": 35,
   "id": "8fea4098",
   "metadata": {},
   "outputs": [
    {
     "name": "stdout",
     "output_type": "stream",
     "text": [
      "a is greater than b\n"
     ]
    }
   ],
   "source": [
    "a = 10\n",
    "b = 5\n",
    "if a > b:\n",
    "    print('a is greater than b')"
   ]
  },
  {
   "cell_type": "code",
   "execution_count": 36,
   "id": "81a4f41d",
   "metadata": {},
   "outputs": [
    {
     "data": {
      "text/plain": [
       "True"
      ]
     },
     "execution_count": 36,
     "metadata": {},
     "output_type": "execute_result"
    }
   ],
   "source": [
    "10 >5"
   ]
  },
  {
   "cell_type": "code",
   "execution_count": 37,
   "id": "22b61528",
   "metadata": {},
   "outputs": [
    {
     "data": {
      "text/plain": [
       "False"
      ]
     },
     "execution_count": 37,
     "metadata": {},
     "output_type": "execute_result"
    }
   ],
   "source": [
    "10 > 10"
   ]
  },
  {
   "cell_type": "code",
   "execution_count": 38,
   "id": "4c742471",
   "metadata": {},
   "outputs": [
    {
     "data": {
      "text/plain": [
       "True"
      ]
     },
     "execution_count": 38,
     "metadata": {},
     "output_type": "execute_result"
    }
   ],
   "source": [
    "10 >= 10"
   ]
  },
  {
   "cell_type": "code",
   "execution_count": 39,
   "id": "b2098635",
   "metadata": {},
   "outputs": [
    {
     "data": {
      "text/plain": [
       "True"
      ]
     },
     "execution_count": 39,
     "metadata": {},
     "output_type": "execute_result"
    }
   ],
   "source": [
    "10 <= 10"
   ]
  },
  {
   "cell_type": "code",
   "execution_count": 40,
   "id": "707ba4b3",
   "metadata": {},
   "outputs": [
    {
     "data": {
      "text/plain": [
       "False"
      ]
     },
     "execution_count": 40,
     "metadata": {},
     "output_type": "execute_result"
    }
   ],
   "source": [
    "10 < 5"
   ]
  },
  {
   "cell_type": "code",
   "execution_count": 41,
   "id": "e7c3ae91",
   "metadata": {},
   "outputs": [
    {
     "data": {
      "text/plain": [
       "True"
      ]
     },
     "execution_count": 41,
     "metadata": {},
     "output_type": "execute_result"
    }
   ],
   "source": [
    "str1 = 'Data'\n",
    "len(str1) > 3"
   ]
  },
  {
   "cell_type": "code",
   "execution_count": 42,
   "id": "4617deab",
   "metadata": {},
   "outputs": [
    {
     "name": "stdout",
     "output_type": "stream",
     "text": [
      "String is in title case\n"
     ]
    }
   ],
   "source": [
    "str2 = 'Machine Learning'\n",
    "if str2.istitle():\n",
    "    print('String is in title case')"
   ]
  },
  {
   "cell_type": "code",
   "execution_count": 44,
   "id": "941e0139",
   "metadata": {},
   "outputs": [
    {
     "name": "stdout",
     "output_type": "stream",
     "text": [
      "hello\n"
     ]
    }
   ],
   "source": [
    "str2 = 'Machine learning'\n",
    "if str2.istitle():\n",
    "    print('String is in title case')\n",
    "    \n",
    "print('hello')"
   ]
  },
  {
   "cell_type": "code",
   "execution_count": 45,
   "id": "10d6cef9",
   "metadata": {},
   "outputs": [
    {
     "ename": "SyntaxError",
     "evalue": "invalid syntax (<ipython-input-45-c8f7de35b0a0>, line 3)",
     "output_type": "error",
     "traceback": [
      "\u001b[1;36m  File \u001b[1;32m\"<ipython-input-45-c8f7de35b0a0>\"\u001b[1;36m, line \u001b[1;32m3\u001b[0m\n\u001b[1;33m    if a > b\u001b[0m\n\u001b[1;37m            ^\u001b[0m\n\u001b[1;31mSyntaxError\u001b[0m\u001b[1;31m:\u001b[0m invalid syntax\n"
     ]
    }
   ],
   "source": [
    "a = 1\n",
    "b = 2\n",
    "if a > b\n",
    "    print('A is bigger')"
   ]
  },
  {
   "cell_type": "code",
   "execution_count": 51,
   "id": "4d93b1ee",
   "metadata": {},
   "outputs": [
    {
     "name": "stdout",
     "output_type": "stream",
     "text": [
      "A is bigger\n"
     ]
    }
   ],
   "source": [
    "a = 11\n",
    "b = 2\n",
    "if a > b:\n",
    "    print('A is bigger')"
   ]
  },
  {
   "cell_type": "code",
   "execution_count": 50,
   "id": "db9d672b",
   "metadata": {},
   "outputs": [
    {
     "name": "stdout",
     "output_type": "stream",
     "text": [
      "11 is bigger\n"
     ]
    }
   ],
   "source": [
    "a = 11\n",
    "b = 2\n",
    "if a > b:\n",
    "    print(f'{a} is bigger')"
   ]
  },
  {
   "cell_type": "code",
   "execution_count": null,
   "id": "c5499f62",
   "metadata": {},
   "outputs": [],
   "source": []
  },
  {
   "cell_type": "markdown",
   "id": "bda06d8a",
   "metadata": {},
   "source": [
    "## Logical Operators"
   ]
  },
  {
   "cell_type": "code",
   "execution_count": null,
   "id": "424aa185",
   "metadata": {},
   "outputs": [],
   "source": [
    "1. and\n",
    "2. or\n",
    "\n",
    "1. and operator:\n",
    "    \n",
    "    True and True    >> True\n",
    "    True and False   >> False\n",
    "    False and True   >> False\n",
    "    False and False  >> False\n",
    "    \n",
    "2. or operator:\n",
    "    True or True    >> True\n",
    "    True or False   >> True\n",
    "    False or True   >> True\n",
    "    False or False  >> False"
   ]
  },
  {
   "cell_type": "code",
   "execution_count": null,
   "id": "61e112a0",
   "metadata": {},
   "outputs": [],
   "source": [
    "a > b and b > c"
   ]
  },
  {
   "cell_type": "code",
   "execution_count": 52,
   "id": "1a1ed465",
   "metadata": {},
   "outputs": [
    {
     "name": "stdout",
     "output_type": "stream",
     "text": [
      "a is greater than b and c\n"
     ]
    }
   ],
   "source": [
    "a = 50 \n",
    "b = 20\n",
    "c = 30\n",
    "\n",
    "if a > b and a > c:   # True and True   >> True\n",
    "    print('a is greater than b and c')"
   ]
  },
  {
   "cell_type": "code",
   "execution_count": 53,
   "id": "166fc476",
   "metadata": {},
   "outputs": [],
   "source": [
    "a = 50 \n",
    "b = 60\n",
    "c = 30\n",
    "\n",
    "if a > b and a > c:   # False and True   >> False\n",
    "    print('a is greater than b and c')"
   ]
  },
  {
   "cell_type": "code",
   "execution_count": 54,
   "id": "9f28a38b",
   "metadata": {},
   "outputs": [],
   "source": [
    "a = 50 \n",
    "b = 60\n",
    "c = 30\n",
    "d = 40\n",
    "\n",
    "if a > b and a > c and a > d :   # False and True and True  >> False\n",
    "    print('a is greater than b and c and d')"
   ]
  },
  {
   "cell_type": "code",
   "execution_count": 55,
   "id": "077d9612",
   "metadata": {},
   "outputs": [
    {
     "name": "stdout",
     "output_type": "stream",
     "text": [
      "a is greater than b and c\n"
     ]
    }
   ],
   "source": [
    "a = 70 \n",
    "b = 60\n",
    "c = 30\n",
    "d = 40\n",
    "\n",
    "if a > b and a > c and a > d :   # True and True and True  >> True\n",
    "    print('a is greater than b and c and d')"
   ]
  },
  {
   "cell_type": "code",
   "execution_count": 57,
   "id": "623b5d41",
   "metadata": {},
   "outputs": [],
   "source": [
    "a = 5\n",
    "b = 6\n",
    "c = 7\n",
    "\n",
    "if a > b or a>c : # False or False >>False\n",
    "    print('a is greater than b or c')"
   ]
  },
  {
   "cell_type": "code",
   "execution_count": 58,
   "id": "36ee03cc",
   "metadata": {},
   "outputs": [
    {
     "name": "stdout",
     "output_type": "stream",
     "text": [
      "a is greater than b and c\n"
     ]
    }
   ],
   "source": [
    "a = 50\n",
    "b = 6\n",
    "c = 7\n",
    "\n",
    "if a > b or a>c : # True or True >>True\n",
    "    print('a is greater than b and c')"
   ]
  },
  {
   "cell_type": "code",
   "execution_count": 59,
   "id": "92a17a79",
   "metadata": {},
   "outputs": [
    {
     "name": "stdout",
     "output_type": "stream",
     "text": [
      "a is less than b but greater than c\n"
     ]
    }
   ],
   "source": [
    "a = 50\n",
    "b = 60\n",
    "c = 7\n",
    "\n",
    "if a > b or a>c : # False or True >>True\n",
    "    print('a is less than b but greater than c')"
   ]
  },
  {
   "cell_type": "code",
   "execution_count": 60,
   "id": "e8befa8f",
   "metadata": {},
   "outputs": [
    {
     "name": "stdout",
     "output_type": "stream",
     "text": [
      "a is less than b but greater than c and d\n"
     ]
    }
   ],
   "source": [
    "a = 50\n",
    "b = 60\n",
    "c = 7\n",
    "d = 8\n",
    "\n",
    "if a > b or a>c or a > d: # False or True or True >>True\n",
    "    print('a is less than b but greater than c and d')"
   ]
  },
  {
   "cell_type": "code",
   "execution_count": 61,
   "id": "43aa691f",
   "metadata": {},
   "outputs": [
    {
     "name": "stdout",
     "output_type": "stream",
     "text": [
      "a is greater than c and d\n"
     ]
    }
   ],
   "source": [
    "a = 50\n",
    "b = 60\n",
    "c = 7\n",
    "d = 8\n",
    "\n",
    "if (a > b or a > c) and a > d: # (False or True >> True) and True >> True\n",
    "    print('a is greater than c and d')"
   ]
  },
  {
   "cell_type": "code",
   "execution_count": 103,
   "id": "3cad9c64",
   "metadata": {},
   "outputs": [
    {
     "name": "stdout",
     "output_type": "stream",
     "text": [
      "a is greater than c and d\n"
     ]
    }
   ],
   "source": [
    "a = 50\n",
    "b = 60\n",
    "c = 7\n",
    "d = 8\n",
    "\n",
    "if a > b or a > c and a > d: # (False or True >> True) and True >> True\n",
    "    print('a is greater than c and d')"
   ]
  },
  {
   "cell_type": "code",
   "execution_count": 62,
   "id": "d687401d",
   "metadata": {},
   "outputs": [
    {
     "name": "stdout",
     "output_type": "stream",
     "text": [
      "c is the largest\n"
     ]
    }
   ],
   "source": [
    "a = 10\n",
    "b = 20 \n",
    "c = 30\n",
    "\n",
    "if a > b and a > c : # False\n",
    "    print('a is the largest number')\n",
    "    \n",
    "elif b > a and b > c : # false\n",
    "    print('b is the largest number')\n",
    "\n",
    "else:\n",
    "    print('c is the largest')"
   ]
  },
  {
   "cell_type": "code",
   "execution_count": 63,
   "id": "b3876e7f",
   "metadata": {},
   "outputs": [
    {
     "name": "stdout",
     "output_type": "stream",
     "text": [
      "a is the largest number\n"
     ]
    }
   ],
   "source": [
    "a = 100\n",
    "b = 20 \n",
    "c = 30\n",
    "\n",
    "if a > b and a > c : # True\n",
    "    print('a is the largest number')\n",
    "    \n",
    "elif b > a and b > c : # false\n",
    "    print('b is the largest number')\n",
    "\n",
    "else:\n",
    "    print('c is the largest')"
   ]
  },
  {
   "cell_type": "code",
   "execution_count": 64,
   "id": "5a4fa3f4",
   "metadata": {},
   "outputs": [
    {
     "name": "stdout",
     "output_type": "stream",
     "text": [
      "b is the largest number\n"
     ]
    }
   ],
   "source": [
    "a = 100\n",
    "b = 200\n",
    "c = 30\n",
    "\n",
    "if a > b and a > c : # False\n",
    "    print('a is the largest number')\n",
    "    \n",
    "elif b > a and b > c : # True\n",
    "    print('b is the largest number')\n",
    "\n",
    "else:\n",
    "    print('c is the largest')"
   ]
  },
  {
   "cell_type": "markdown",
   "id": "f07751af",
   "metadata": {},
   "source": [
    "## User inputs"
   ]
  },
  {
   "cell_type": "code",
   "execution_count": 66,
   "id": "7495dab2",
   "metadata": {},
   "outputs": [
    {
     "name": "stdout",
     "output_type": "stream",
     "text": [
      "hello world\n"
     ]
    },
    {
     "data": {
      "text/plain": [
       "'hello world'"
      ]
     },
     "execution_count": 66,
     "metadata": {},
     "output_type": "execute_result"
    }
   ],
   "source": [
    "a = input()\n",
    "a"
   ]
  },
  {
   "cell_type": "code",
   "execution_count": 68,
   "id": "a7dadce6",
   "metadata": {},
   "outputs": [
    {
     "name": "stdout",
     "output_type": "stream",
     "text": [
      "21\n"
     ]
    },
    {
     "data": {
      "text/plain": [
       "str"
      ]
     },
     "execution_count": 68,
     "metadata": {},
     "output_type": "execute_result"
    }
   ],
   "source": [
    "a = input()\n",
    "type(a)"
   ]
  },
  {
   "cell_type": "code",
   "execution_count": 69,
   "id": "0c03b4c6",
   "metadata": {},
   "outputs": [
    {
     "name": "stdout",
     "output_type": "stream",
     "text": [
      "21\n"
     ]
    },
    {
     "data": {
      "text/plain": [
       "int"
      ]
     },
     "execution_count": 69,
     "metadata": {},
     "output_type": "execute_result"
    }
   ],
   "source": [
    "a = input()\n",
    "a = int(a)\n",
    "type(a)"
   ]
  },
  {
   "cell_type": "code",
   "execution_count": 70,
   "id": "c8e25b58",
   "metadata": {},
   "outputs": [
    {
     "name": "stdout",
     "output_type": "stream",
     "text": [
      "hi\n"
     ]
    },
    {
     "ename": "ValueError",
     "evalue": "invalid literal for int() with base 10: 'hi'",
     "output_type": "error",
     "traceback": [
      "\u001b[1;31m---------------------------------------------------------------------------\u001b[0m",
      "\u001b[1;31mValueError\u001b[0m                                Traceback (most recent call last)",
      "\u001b[1;32m<ipython-input-70-5b6c830753f1>\u001b[0m in \u001b[0;36m<module>\u001b[1;34m\u001b[0m\n\u001b[0;32m      1\u001b[0m \u001b[0ma\u001b[0m \u001b[1;33m=\u001b[0m \u001b[0minput\u001b[0m\u001b[1;33m(\u001b[0m\u001b[1;33m)\u001b[0m\u001b[1;33m\u001b[0m\u001b[1;33m\u001b[0m\u001b[0m\n\u001b[1;32m----> 2\u001b[1;33m \u001b[0ma\u001b[0m \u001b[1;33m=\u001b[0m \u001b[0mint\u001b[0m\u001b[1;33m(\u001b[0m\u001b[0ma\u001b[0m\u001b[1;33m)\u001b[0m\u001b[1;33m\u001b[0m\u001b[1;33m\u001b[0m\u001b[0m\n\u001b[0m\u001b[0;32m      3\u001b[0m \u001b[0mtype\u001b[0m\u001b[1;33m(\u001b[0m\u001b[0ma\u001b[0m\u001b[1;33m)\u001b[0m\u001b[1;33m\u001b[0m\u001b[1;33m\u001b[0m\u001b[0m\n",
      "\u001b[1;31mValueError\u001b[0m: invalid literal for int() with base 10: 'hi'"
     ]
    }
   ],
   "source": [
    "a = input()\n",
    "a = int(a)\n",
    "type(a)"
   ]
  },
  {
   "cell_type": "code",
   "execution_count": 71,
   "id": "cee2adac",
   "metadata": {},
   "outputs": [
    {
     "name": "stdout",
     "output_type": "stream",
     "text": [
      "70\n",
      "70 <class 'int'>\n"
     ]
    }
   ],
   "source": [
    "a = int(input())\n",
    "print(a, type(a))"
   ]
  },
  {
   "cell_type": "code",
   "execution_count": 73,
   "id": "adde134a",
   "metadata": {},
   "outputs": [
    {
     "name": "stdout",
     "output_type": "stream",
     "text": [
      "Enter a value of a:300\n",
      "300 <class 'int'>\n"
     ]
    }
   ],
   "source": [
    "a = int(input('Enter a value of a:'))\n",
    "print(a, type(a))"
   ]
  },
  {
   "cell_type": "code",
   "execution_count": 75,
   "id": "886ed6c5",
   "metadata": {},
   "outputs": [
    {
     "name": "stdout",
     "output_type": "stream",
     "text": [
      "Enter a value of a:10.1\n",
      "10.1 <class 'float'>\n"
     ]
    }
   ],
   "source": [
    "a = float(input('Enter a value of a:'))\n",
    "print(a, type(a))"
   ]
  },
  {
   "cell_type": "code",
   "execution_count": 77,
   "id": "52f4cb97",
   "metadata": {},
   "outputs": [
    {
     "name": "stdout",
     "output_type": "stream",
     "text": [
      "Enter something:12\n",
      "12 <class 'int'>\n"
     ]
    }
   ],
   "source": [
    "a = eval(input('Enter something:'))\n",
    "print(a, type(a))"
   ]
  },
  {
   "cell_type": "code",
   "execution_count": 78,
   "id": "2583ce09",
   "metadata": {},
   "outputs": [
    {
     "name": "stdout",
     "output_type": "stream",
     "text": [
      "Enter something:1.1\n",
      "1.1 <class 'float'>\n"
     ]
    }
   ],
   "source": [
    "a = eval(input('Enter something:'))\n",
    "print(a, type(a))"
   ]
  },
  {
   "cell_type": "code",
   "execution_count": 79,
   "id": "0ea4159f",
   "metadata": {},
   "outputs": [
    {
     "name": "stdout",
     "output_type": "stream",
     "text": [
      "Enter something:Velocity\n"
     ]
    },
    {
     "ename": "NameError",
     "evalue": "name 'Velocity' is not defined",
     "output_type": "error",
     "traceback": [
      "\u001b[1;31m---------------------------------------------------------------------------\u001b[0m",
      "\u001b[1;31mNameError\u001b[0m                                 Traceback (most recent call last)",
      "\u001b[1;32m<ipython-input-79-38a410aa8a5c>\u001b[0m in \u001b[0;36m<module>\u001b[1;34m\u001b[0m\n\u001b[1;32m----> 1\u001b[1;33m \u001b[0ma\u001b[0m \u001b[1;33m=\u001b[0m \u001b[0meval\u001b[0m\u001b[1;33m(\u001b[0m\u001b[0minput\u001b[0m\u001b[1;33m(\u001b[0m\u001b[1;34m'Enter something:'\u001b[0m\u001b[1;33m)\u001b[0m\u001b[1;33m)\u001b[0m\u001b[1;33m\u001b[0m\u001b[1;33m\u001b[0m\u001b[0m\n\u001b[0m\u001b[0;32m      2\u001b[0m \u001b[0mprint\u001b[0m\u001b[1;33m(\u001b[0m\u001b[0ma\u001b[0m\u001b[1;33m,\u001b[0m \u001b[0mtype\u001b[0m\u001b[1;33m(\u001b[0m\u001b[0ma\u001b[0m\u001b[1;33m)\u001b[0m\u001b[1;33m)\u001b[0m\u001b[1;33m\u001b[0m\u001b[1;33m\u001b[0m\u001b[0m\n",
      "\u001b[1;32m<string>\u001b[0m in \u001b[0;36m<module>\u001b[1;34m\u001b[0m\n",
      "\u001b[1;31mNameError\u001b[0m: name 'Velocity' is not defined"
     ]
    }
   ],
   "source": [
    "a = eval(input('Enter something:'))\n",
    "print(a, type(a))"
   ]
  },
  {
   "cell_type": "code",
   "execution_count": 80,
   "id": "52a6804c",
   "metadata": {},
   "outputs": [
    {
     "name": "stdout",
     "output_type": "stream",
     "text": [
      "Enter something:'Velocity'\n",
      "Velocity <class 'str'>\n"
     ]
    }
   ],
   "source": [
    "a = eval(input('Enter something:'))\n",
    "print(a, type(a))"
   ]
  },
  {
   "cell_type": "code",
   "execution_count": 82,
   "id": "50173b2e",
   "metadata": {},
   "outputs": [
    {
     "name": "stdout",
     "output_type": "stream",
     "text": [
      "Enter a value of a:40\n",
      "Enter a value of b:30\n",
      "Enter a value of c:45\n",
      "c is the largest\n"
     ]
    }
   ],
   "source": [
    "a = int(input('Enter a value of a:'))\n",
    "b = int(input('Enter a value of b:'))\n",
    "c = int(input('Enter a value of c:'))\n",
    "\n",
    "if a>b and a>c :\n",
    "    print('a is the largest')\n",
    "    \n",
    "elif b >c and b >a:\n",
    "    print('b is the largest')\n",
    "    \n",
    "else:\n",
    "    print('c is the largest')"
   ]
  },
  {
   "cell_type": "code",
   "execution_count": 83,
   "id": "a63cd4a9",
   "metadata": {},
   "outputs": [
    {
     "name": "stdout",
     "output_type": "stream",
     "text": [
      "Enter a value of a:40\n",
      "Enter a value of b:30\n",
      "Enter a value of c:45\n",
      "c is the largest\n"
     ]
    }
   ],
   "source": [
    "a = eval(input('Enter a value of a:'))\n",
    "b = eval(input('Enter a value of b:'))\n",
    "c = eval(input('Enter a value of c:'))\n",
    "\n",
    "if a>b and a>c :\n",
    "    print('a is the largest')\n",
    "    \n",
    "elif b >c and b >a:\n",
    "    print('b is the largest')\n",
    "    \n",
    "else:\n",
    "    print('c is the largest')"
   ]
  },
  {
   "cell_type": "markdown",
   "id": "0d6307eb",
   "metadata": {},
   "source": [
    "## Nested if-else statement"
   ]
  },
  {
   "cell_type": "code",
   "execution_count": null,
   "id": "53887013",
   "metadata": {},
   "outputs": [],
   "source": [
    "    if statement inside if statement"
   ]
  },
  {
   "cell_type": "code",
   "execution_count": 86,
   "id": "d76cd623",
   "metadata": {},
   "outputs": [
    {
     "name": "stdout",
     "output_type": "stream",
     "text": [
      "a is greater than 50\n",
      "a is greater than 70\n",
      "a is greater than 75\n"
     ]
    }
   ],
   "source": [
    "a = 80\n",
    "if a >50: # True\n",
    "    print('a is greater than 50')\n",
    "    \n",
    "    if a >70: #True\n",
    "        print('a is greater than 70')\n",
    "        \n",
    "        if a > 75: # True\n",
    "            print('a is greater than 75')"
   ]
  },
  {
   "cell_type": "code",
   "execution_count": null,
   "id": "7754a67e",
   "metadata": {},
   "outputs": [],
   "source": [
    "a = 80\n",
    "if a >50: # True\n",
    "    print('a is greater than 50')\n",
    "    \n",
    "    if a >70: #True\n",
    "        print('a is greater than 70')\n",
    "        \n",
    "        if a > 75: # True\n",
    "            print('a is greater than 75')"
   ]
  },
  {
   "cell_type": "code",
   "execution_count": 87,
   "id": "05e05f82",
   "metadata": {},
   "outputs": [
    {
     "name": "stdout",
     "output_type": "stream",
     "text": [
      "a is greater than 50\n",
      "a is greater than 70\n",
      "a is greater than 75\n"
     ]
    }
   ],
   "source": [
    "a = 80\n",
    "if a >50: # True\n",
    "    print('a is greater than 50')\n",
    "    \n",
    "    if a >70: #True\n",
    "        print('a is greater than 70')\n",
    "        \n",
    "        if a > 75: # True\n",
    "            print('a is greater than 75')\n",
    "            \n",
    "        else:\n",
    "            print('a is less than 75')"
   ]
  },
  {
   "cell_type": "code",
   "execution_count": 88,
   "id": "b4feaf25",
   "metadata": {},
   "outputs": [
    {
     "name": "stdout",
     "output_type": "stream",
     "text": [
      "a is greater than 50\n",
      "a is greater than 70\n",
      "a is less than 75\n"
     ]
    }
   ],
   "source": [
    "a = 74\n",
    "if a >50: # True\n",
    "    print('a is greater than 50')\n",
    "    \n",
    "    if a >70: #True\n",
    "        print('a is greater than 70')\n",
    "        \n",
    "        if a > 75: # False\n",
    "            print('a is greater than 75')\n",
    "            \n",
    "        else:\n",
    "            print('a is less than 75')"
   ]
  },
  {
   "cell_type": "code",
   "execution_count": 89,
   "id": "4f5035bd",
   "metadata": {},
   "outputs": [
    {
     "name": "stdout",
     "output_type": "stream",
     "text": [
      "a is greater than 50\n",
      "a is less than 70\n"
     ]
    }
   ],
   "source": [
    "a = 67\n",
    "if a >50: # True\n",
    "    print('a is greater than 50')\n",
    "    \n",
    "    if a >70: #False\n",
    "        print('a is greater than 70')\n",
    "        \n",
    "        if a > 75: # False\n",
    "            print('a is greater than 75')\n",
    "            \n",
    "        else:\n",
    "            print('a is less than 75')\n",
    "    \n",
    "    else:\n",
    "        print('a is less than 70')"
   ]
  },
  {
   "cell_type": "code",
   "execution_count": 90,
   "id": "bcc260f6",
   "metadata": {},
   "outputs": [
    {
     "name": "stdout",
     "output_type": "stream",
     "text": [
      "a is less than 50\n"
     ]
    }
   ],
   "source": [
    "a = 40\n",
    "if a >50: # False\n",
    "    print('a is greater than 50')\n",
    "    \n",
    "    if a >70: #False\n",
    "        print('a is greater than 70')\n",
    "        \n",
    "        if a > 75: # False\n",
    "            print('a is greater than 75')\n",
    "            \n",
    "        else:\n",
    "            print('a is less than 75')\n",
    "    \n",
    "    else:\n",
    "        print('a is less than 70')\n",
    "        \n",
    "else:\n",
    "    print('a is less than 50')"
   ]
  },
  {
   "cell_type": "code",
   "execution_count": 91,
   "id": "1f211e0d",
   "metadata": {},
   "outputs": [
    {
     "name": "stdout",
     "output_type": "stream",
     "text": [
      "a is greater than 50\n",
      "a is greater than 70\n",
      "a is greater than 75\n"
     ]
    }
   ],
   "source": [
    "a = 80\n",
    "if a >50: # True\n",
    "    print('a is greater than 50')\n",
    "    \n",
    "    if a >70: #True\n",
    "        print('a is greater than 70')\n",
    "        \n",
    "        if a > 75: # true\n",
    "            print('a is greater than 75')\n",
    "            \n",
    "        else:\n",
    "            print('a is less than 75')\n",
    "    \n",
    "    else:\n",
    "        print('a is less than 70')\n",
    "        \n",
    "else:\n",
    "    print('a is less than 50')"
   ]
  },
  {
   "cell_type": "code",
   "execution_count": 92,
   "id": "2fba9e43",
   "metadata": {},
   "outputs": [
    {
     "name": "stdout",
     "output_type": "stream",
     "text": [
      "a is greater than 50\n",
      "a is greater than 70\n",
      "a is less than 75\n"
     ]
    }
   ],
   "source": [
    "a = 71\n",
    "if a >50: # True\n",
    "    print('a is greater than 50')\n",
    "    \n",
    "    if a >70: #True\n",
    "        print('a is greater than 70')\n",
    "        \n",
    "        if a > 75: # false\n",
    "            print('a is greater than 75')\n",
    "            \n",
    "        else:\n",
    "            print('a is less than 75')\n",
    "    \n",
    "    else:\n",
    "        print('a is less than 70')\n",
    "        \n",
    "else:\n",
    "    print('a is less than 50')"
   ]
  },
  {
   "cell_type": "code",
   "execution_count": 93,
   "id": "2588a148",
   "metadata": {},
   "outputs": [
    {
     "name": "stdout",
     "output_type": "stream",
     "text": [
      "a is greater than 50\n",
      "a is less than 70\n"
     ]
    }
   ],
   "source": [
    "a = 68\n",
    "if a >50: # True\n",
    "    print('a is greater than 50')\n",
    "    \n",
    "    if a >70: #False\n",
    "        print('a is greater than 70')\n",
    "        \n",
    "        if a > 75: # false\n",
    "            print('a is greater than 75')\n",
    "            \n",
    "        else:\n",
    "            print('a is less than 75')\n",
    "    \n",
    "    else:\n",
    "        print('a is less than 70')\n",
    "        \n",
    "else:\n",
    "    print('a is less than 50')"
   ]
  },
  {
   "cell_type": "code",
   "execution_count": 94,
   "id": "86643198",
   "metadata": {},
   "outputs": [
    {
     "name": "stdout",
     "output_type": "stream",
     "text": [
      "a is less than 50\n"
     ]
    }
   ],
   "source": [
    "a = 1\n",
    "if a >50: # False\n",
    "    print('a is greater than 50')\n",
    "    \n",
    "    if a >70: #False\n",
    "        print('a is greater than 70')\n",
    "        \n",
    "        if a > 75: # false\n",
    "            print('a is greater than 75')\n",
    "            \n",
    "        else:\n",
    "            print('a is less than 75')\n",
    "    \n",
    "    else:\n",
    "        print('a is less than 70')\n",
    "        \n",
    "else:\n",
    "    print('a is less than 50')"
   ]
  },
  {
   "cell_type": "code",
   "execution_count": 98,
   "id": "e05c8738",
   "metadata": {},
   "outputs": [
    {
     "name": "stdout",
     "output_type": "stream",
     "text": [
      "CIBIL Score is greater than or eqaul to 750\n",
      "Salary is more than 50000\n",
      "Age is between 25 to 60\n",
      "Laon Approved\n"
     ]
    }
   ],
   "source": [
    "# Loan >> Approve / Decline\n",
    "age = 25\n",
    "cibil_score = 760\n",
    "salary = 70000\n",
    "\n",
    "\n",
    "if cibil_score >= 750 :\n",
    "    print('CIBIL Score is greater than or eqaul to 750')\n",
    "    \n",
    "    if salary >= 50000:\n",
    "        print('Salary is more than 50000')\n",
    "        \n",
    "        if age >= 25 and age <= 60:\n",
    "            print('Age is between 25 to 60')\n",
    "            print('Laon Approved')\n",
    "            \n",
    "        else:\n",
    "            print('Declined due to age')\n",
    "        \n",
    "    else:\n",
    "        print('Declined due to salary')\n",
    "    \n",
    "else:\n",
    "    print('Declined due to CIBIL Score')\n",
    "    \n",
    "    \n",
    "# pass\n",
    "# break\n",
    "# contine"
   ]
  },
  {
   "cell_type": "code",
   "execution_count": 99,
   "id": "6343846b",
   "metadata": {},
   "outputs": [
    {
     "name": "stdout",
     "output_type": "stream",
     "text": [
      "Declined due to CIBIL Score\n"
     ]
    }
   ],
   "source": [
    "# Loan >> Approve / Decline\n",
    "age = 25\n",
    "cibil_score = 710\n",
    "salary = 70000\n",
    "\n",
    "\n",
    "if cibil_score >= 750 :\n",
    "    print('CIBIL Score is greater than or eqaul to 750')\n",
    "    \n",
    "    if salary >= 50000:\n",
    "        print('Salary is more than 50000')\n",
    "        \n",
    "        if age >= 25 and age <= 60:\n",
    "            print('Age is between 25 to 60')\n",
    "            print('Laon Approved')\n",
    "            \n",
    "        else:\n",
    "            print('Declined due to age')\n",
    "        \n",
    "    else:\n",
    "        print('Declined due to salary')\n",
    "    \n",
    "else:\n",
    "    print('Declined due to CIBIL Score')"
   ]
  },
  {
   "cell_type": "code",
   "execution_count": 100,
   "id": "a225df59",
   "metadata": {},
   "outputs": [
    {
     "name": "stdout",
     "output_type": "stream",
     "text": [
      "CIBIL Score is greater than or eqaul to 750\n",
      "Declined due to salary\n"
     ]
    }
   ],
   "source": [
    "# Loan >> Approve / Decline\n",
    "age = 25\n",
    "cibil_score = 760\n",
    "salary = 40000\n",
    "\n",
    "\n",
    "if cibil_score >= 750 :\n",
    "    print('CIBIL Score is greater than or eqaul to 750')\n",
    "    \n",
    "    if salary >= 50000:\n",
    "        print('Salary is more than 50000')\n",
    "        \n",
    "        if age >= 25 and age <= 60:\n",
    "            print('Age is between 25 to 60')\n",
    "            print('Laon Approved')\n",
    "            \n",
    "        else:\n",
    "            print('Declined due to age')\n",
    "        \n",
    "    else:\n",
    "        print('Declined due to salary')\n",
    "    \n",
    "else:\n",
    "    print('Declined due to CIBIL Score')"
   ]
  },
  {
   "cell_type": "code",
   "execution_count": 101,
   "id": "4f47b441",
   "metadata": {},
   "outputs": [
    {
     "name": "stdout",
     "output_type": "stream",
     "text": [
      "CIBIL Score is greater than or eqaul to 750\n",
      "Salary is more than 50000\n",
      "Declined due to age\n"
     ]
    }
   ],
   "source": [
    "# Loan >> Approve / Decline\n",
    "age = 62\n",
    "cibil_score = 760\n",
    "salary = 70000\n",
    "\n",
    "\n",
    "if cibil_score >= 750 :\n",
    "    print('CIBIL Score is greater than or eqaul to 750')\n",
    "    \n",
    "    if salary >= 50000:\n",
    "        print('Salary is more than 50000')\n",
    "        \n",
    "        if age >= 25 and age <= 60:\n",
    "            print('Age is between 25 to 60')\n",
    "            print('Laon Approved')\n",
    "            \n",
    "        else:\n",
    "            print('Declined due to age')\n",
    "        \n",
    "    else:\n",
    "        print('Declined due to salary')\n",
    "    \n",
    "else:\n",
    "    print('Declined due to CIBIL Score')"
   ]
  },
  {
   "cell_type": "code",
   "execution_count": 102,
   "id": "3acb6949",
   "metadata": {},
   "outputs": [
    {
     "name": "stdout",
     "output_type": "stream",
     "text": [
      "Enter Age:45\n",
      "Enter CIBIL score:780\n",
      "Enter Salary:49999\n",
      "CIBIL Score is greater than or eqaul to 750\n",
      "Declined due to salary\n"
     ]
    }
   ],
   "source": [
    "# Loan >> Approve / Decline\n",
    "age = int(input('Enter Age:'))\n",
    "cibil_score = int(input('Enter CIBIL score:'))\n",
    "salary = int(input('Enter Salary:'))\n",
    "\n",
    "\n",
    "if cibil_score >= 750 :\n",
    "    print('CIBIL Score is greater than or eqaul to 750')\n",
    "    \n",
    "    \n",
    "    if salary >= 50000:\n",
    "        print('Salary is more than 50000')\n",
    "        \n",
    "        if age >= 25 and age <= 60:\n",
    "            print('Age is between 25 to 60')\n",
    "            print('Laon Approved')\n",
    "            \n",
    "        else:\n",
    "            print('Declined due to age')\n",
    "        \n",
    "    else:\n",
    "        print('Declined due to salary')\n",
    "    \n",
    "else:\n",
    "    print('Declined due to CIBIL Score')"
   ]
  },
  {
   "cell_type": "code",
   "execution_count": null,
   "id": "77b7ca8a",
   "metadata": {},
   "outputs": [],
   "source": [
    "Cricket\n",
    "Grades\n",
    "stock "
   ]
  },
  {
   "cell_type": "code",
   "execution_count": 104,
   "id": "22039f29",
   "metadata": {},
   "outputs": [
    {
     "name": "stdout",
     "output_type": "stream",
     "text": [
      "Enter Age:30\n",
      "Enter CIBIL score:749\n",
      "Enter Salary:60000\n",
      "Declined due to CIBIL Score\n"
     ]
    }
   ],
   "source": [
    "# Loan >> Approve / Decline\n",
    "age = int(input('Enter Age:'))\n",
    "cibil_score = int(input('Enter CIBIL score:'))\n",
    "salary = int(input('Enter Salary:'))\n",
    "\n",
    "\n",
    "if cibil_score >= 750 :\n",
    "#     print('CIBIL Score is greater than or eqaul to 750')\n",
    "    \n",
    "    \n",
    "    if salary >= 50000:\n",
    "#         print('Salary is more than 50000')\n",
    "        \n",
    "        if age >= 25 and age <= 60:\n",
    "#             print('Age is between 25 to 60')\n",
    "            print('Laon Approved')\n",
    "            \n",
    "        else:\n",
    "            print('Declined due to age')\n",
    "        \n",
    "    else:\n",
    "        print('Declined due to salary')\n",
    "    \n",
    "else:\n",
    "    print('Declined due to CIBIL Score')"
   ]
  },
  {
   "cell_type": "code",
   "execution_count": null,
   "id": "31209ca8",
   "metadata": {},
   "outputs": [],
   "source": []
  }
 ],
 "metadata": {
  "kernelspec": {
   "display_name": "Python 3 (ipykernel)",
   "language": "python",
   "name": "python3"
  },
  "language_info": {
   "codemirror_mode": {
    "name": "ipython",
    "version": 3
   },
   "file_extension": ".py",
   "mimetype": "text/x-python",
   "name": "python",
   "nbconvert_exporter": "python",
   "pygments_lexer": "ipython3",
   "version": "3.9.13"
  }
 },
 "nbformat": 4,
 "nbformat_minor": 5
}
