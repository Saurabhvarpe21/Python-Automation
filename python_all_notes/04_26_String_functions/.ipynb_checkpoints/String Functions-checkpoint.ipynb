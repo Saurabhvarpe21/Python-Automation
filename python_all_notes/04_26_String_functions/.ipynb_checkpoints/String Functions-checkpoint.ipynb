{
 "cells": [
  {
   "cell_type": "code",
   "execution_count": null,
   "id": "b2de958c",
   "metadata": {},
   "outputs": [],
   "source": [
    "    p  y  t  h  o  n \n",
    "    0  1  2  3  4  5\n",
    "   -1 -2 -3 -4 -5 -6"
   ]
  },
  {
   "cell_type": "code",
   "execution_count": 2,
   "id": "12e7818f",
   "metadata": {},
   "outputs": [
    {
     "data": {
      "text/plain": [
       "'Python'"
      ]
     },
     "execution_count": 2,
     "metadata": {},
     "output_type": "execute_result"
    }
   ],
   "source": [
    "str1 = 'Python'\n",
    "str1[::]"
   ]
  },
  {
   "cell_type": "code",
   "execution_count": 4,
   "id": "064eae08",
   "metadata": {},
   "outputs": [
    {
     "data": {
      "text/plain": [
       "'yh'"
      ]
     },
     "execution_count": 4,
     "metadata": {},
     "output_type": "execute_result"
    }
   ],
   "source": [
    "str1[1:4:2]"
   ]
  },
  {
   "cell_type": "code",
   "execution_count": 6,
   "id": "eff0a12c",
   "metadata": {},
   "outputs": [
    {
     "data": {
      "text/plain": [
       "'oht'"
      ]
     },
     "execution_count": 6,
     "metadata": {},
     "output_type": "execute_result"
    }
   ],
   "source": [
    "str1[4:1:-1]"
   ]
  },
  {
   "cell_type": "code",
   "execution_count": 7,
   "id": "6d95f726",
   "metadata": {},
   "outputs": [
    {
     "data": {
      "text/plain": [
       "False"
      ]
     },
     "execution_count": 7,
     "metadata": {},
     "output_type": "execute_result"
    }
   ],
   "source": [
    "pan_name = 'VIRAT KOHLI' \n",
    "adhar_name = 'Virat Kohli'\n",
    "\n",
    "pan_name == adhar_name"
   ]
  },
  {
   "cell_type": "code",
   "execution_count": 8,
   "id": "98b8fcb3",
   "metadata": {},
   "outputs": [
    {
     "data": {
      "text/plain": [
       "False"
      ]
     },
     "execution_count": 8,
     "metadata": {},
     "output_type": "execute_result"
    }
   ],
   "source": [
    "s1 = 'python'\n",
    "s2 = 'class'\n",
    "s1 == s2"
   ]
  },
  {
   "cell_type": "code",
   "execution_count": 9,
   "id": "fad52514",
   "metadata": {},
   "outputs": [
    {
     "data": {
      "text/plain": [
       "True"
      ]
     },
     "execution_count": 9,
     "metadata": {},
     "output_type": "execute_result"
    }
   ],
   "source": [
    "s1 = 'python'\n",
    "s2 = 'python'\n",
    "s1 == s2"
   ]
  },
  {
   "cell_type": "code",
   "execution_count": 12,
   "id": "0272dadf",
   "metadata": {},
   "outputs": [
    {
     "name": "stdout",
     "output_type": "stream",
     "text": [
      "PAN Name : virat kohli\n",
      "Adhar Name: VIRAT KOHLI\n"
     ]
    },
    {
     "data": {
      "text/plain": [
       "False"
      ]
     },
     "execution_count": 12,
     "metadata": {},
     "output_type": "execute_result"
    }
   ],
   "source": [
    "pan_name = 'VIRAT KOHLI' \n",
    "pan_name = pan_name.lower()\n",
    "\n",
    "print('PAN Name :', pan_name)\n",
    "\n",
    "adhar_name = 'Virat Kohli'\n",
    "adhar_name = adhar_name.upper()\n",
    "\n",
    "print('Adhar Name:', adhar_name)\n",
    "\n",
    "adhar_name == pan_name"
   ]
  },
  {
   "cell_type": "code",
   "execution_count": 13,
   "id": "6556455d",
   "metadata": {},
   "outputs": [
    {
     "name": "stdout",
     "output_type": "stream",
     "text": [
      "PAN Name : VIRAT KOHLI\n",
      "Adhar Name: VIRAT KOHLI\n"
     ]
    },
    {
     "data": {
      "text/plain": [
       "True"
      ]
     },
     "execution_count": 13,
     "metadata": {},
     "output_type": "execute_result"
    }
   ],
   "source": [
    "pan_name = 'VIRAT KOHLI' \n",
    "pan_name = pan_name.upper()\n",
    "\n",
    "print('PAN Name :', pan_name)\n",
    "\n",
    "adhar_name = 'Virat Kohli'\n",
    "adhar_name = adhar_name.upper()\n",
    "\n",
    "print('Adhar Name:', adhar_name)\n",
    "\n",
    "adhar_name == pan_name"
   ]
  },
  {
   "cell_type": "code",
   "execution_count": 15,
   "id": "8abf10b7",
   "metadata": {},
   "outputs": [
    {
     "name": "stdout",
     "output_type": "stream",
     "text": [
      "PAN Name : VIRAT KOHLI\n",
      "Adhar Name: VIRAT KOHLI\n",
      "Both names are same\n"
     ]
    }
   ],
   "source": [
    "pan_name = 'VIRAT KOHLI' \n",
    "pan_name = pan_name.upper()\n",
    "\n",
    "print('PAN Name :', pan_name)\n",
    "\n",
    "adhar_name = 'Virat Kohli'\n",
    "adhar_name = adhar_name.upper()\n",
    "\n",
    "print('Adhar Name:', adhar_name)\n",
    "\n",
    "if adhar_name == pan_name:\n",
    "    print('Both names are same')\n",
    "    \n",
    "else:\n",
    "    print('Both names are different')"
   ]
  },
  {
   "cell_type": "code",
   "execution_count": 16,
   "id": "41fa71f3",
   "metadata": {},
   "outputs": [
    {
     "name": "stdout",
     "output_type": "stream",
     "text": [
      "PAN Name : virat kohli\n",
      "Adhar Name: VIRAT KOHLI\n",
      "Both names are different\n"
     ]
    }
   ],
   "source": [
    "pan_name = 'VIRAT KOHLI' \n",
    "pan_name = pan_name.lower()\n",
    "\n",
    "print('PAN Name :', pan_name)\n",
    "\n",
    "adhar_name = 'Virat Kohli'\n",
    "adhar_name = adhar_name.upper()\n",
    "\n",
    "print('Adhar Name:', adhar_name)\n",
    "\n",
    "if adhar_name == pan_name:\n",
    "    print('Both names are same')\n",
    "    \n",
    "else:\n",
    "    print('Both names are different')"
   ]
  },
  {
   "cell_type": "markdown",
   "id": "76a56fb7",
   "metadata": {},
   "source": [
    "## 5. swapcase()"
   ]
  },
  {
   "cell_type": "code",
   "execution_count": null,
   "id": "8f8ad78a",
   "metadata": {},
   "outputs": [],
   "source": [
    "It convert case of all the char"
   ]
  },
  {
   "cell_type": "code",
   "execution_count": 17,
   "id": "de2166aa",
   "metadata": {},
   "outputs": [
    {
     "data": {
      "text/plain": [
       "'pUNE'"
      ]
     },
     "execution_count": 17,
     "metadata": {},
     "output_type": "execute_result"
    }
   ],
   "source": [
    "str1 = 'Pune'\n",
    "str1.swapcase()"
   ]
  },
  {
   "cell_type": "code",
   "execution_count": 18,
   "id": "d86f2253",
   "metadata": {},
   "outputs": [
    {
     "data": {
      "text/plain": [
       "'veloCITY'"
      ]
     },
     "execution_count": 18,
     "metadata": {},
     "output_type": "execute_result"
    }
   ],
   "source": [
    "str1 = 'VELOcity'\n",
    "str1.swapcase()"
   ]
  },
  {
   "cell_type": "code",
   "execution_count": 19,
   "id": "4d220974",
   "metadata": {},
   "outputs": [
    {
     "data": {
      "text/plain": [
       "'veloCITY @#$'"
      ]
     },
     "execution_count": 19,
     "metadata": {},
     "output_type": "execute_result"
    }
   ],
   "source": [
    "str1 = 'VELOcity @#$'\n",
    "str1.swapcase()"
   ]
  },
  {
   "cell_type": "markdown",
   "id": "2f23631f",
   "metadata": {},
   "source": [
    "## 6 . lstrip()"
   ]
  },
  {
   "cell_type": "code",
   "execution_count": null,
   "id": "9847bad5",
   "metadata": {},
   "outputs": [],
   "source": [
    "Remove all leading white spaces"
   ]
  },
  {
   "cell_type": "code",
   "execution_count": 20,
   "id": "9de0066e",
   "metadata": {},
   "outputs": [
    {
     "data": {
      "text/plain": [
       "'Python'"
      ]
     },
     "execution_count": 20,
     "metadata": {},
     "output_type": "execute_result"
    }
   ],
   "source": [
    "str2 = '   Python'\n",
    "str2.lstrip()"
   ]
  },
  {
   "cell_type": "code",
   "execution_count": 21,
   "id": "c9774efa",
   "metadata": {},
   "outputs": [
    {
     "data": {
      "text/plain": [
       "'Python      '"
      ]
     },
     "execution_count": 21,
     "metadata": {},
     "output_type": "execute_result"
    }
   ],
   "source": [
    "str2 = '   Python      '\n",
    "str2.lstrip()"
   ]
  },
  {
   "cell_type": "code",
   "execution_count": 22,
   "id": "8f9255e0",
   "metadata": {},
   "outputs": [
    {
     "data": {
      "text/plain": [
       "'123 456   '"
      ]
     },
     "execution_count": 22,
     "metadata": {},
     "output_type": "execute_result"
    }
   ],
   "source": [
    "str3 = '     123 456   '\n",
    "str3.lstrip()"
   ]
  },
  {
   "cell_type": "code",
   "execution_count": 23,
   "id": "ec62f3bd",
   "metadata": {},
   "outputs": [
    {
     "data": {
      "text/plain": [
       "'1                 23 456   '"
      ]
     },
     "execution_count": 23,
     "metadata": {},
     "output_type": "execute_result"
    }
   ],
   "source": [
    "str3 = '     1                 23 456   '\n",
    "str3.lstrip()"
   ]
  },
  {
   "cell_type": "code",
   "execution_count": null,
   "id": "ef0adc73",
   "metadata": {},
   "outputs": [],
   "source": [
    "OCR >> Optical character Recognition:\n",
    "    >> It is used to convert images to text\n",
    "    \n",
    "    Pytesseract OCR\n",
    "    Google vision\n",
    "    Amazon Textract"
   ]
  },
  {
   "cell_type": "markdown",
   "id": "7e6b95f4",
   "metadata": {},
   "source": [
    "### 7. rstrip()"
   ]
  },
  {
   "cell_type": "code",
   "execution_count": null,
   "id": "79b33da5",
   "metadata": {},
   "outputs": [],
   "source": [
    "Remove all trailing white spaces"
   ]
  },
  {
   "cell_type": "code",
   "execution_count": 24,
   "id": "2e203f42",
   "metadata": {},
   "outputs": [
    {
     "data": {
      "text/plain": [
       "'     PUNE'"
      ]
     },
     "execution_count": 24,
     "metadata": {},
     "output_type": "execute_result"
    }
   ],
   "source": [
    "str4 = '     PUNE     '\n",
    "str4.rstrip()"
   ]
  },
  {
   "cell_type": "code",
   "execution_count": 25,
   "id": "cc56e15a",
   "metadata": {},
   "outputs": [
    {
     "data": {
      "text/plain": [
       "'     PUNE        MUMBAI'"
      ]
     },
     "execution_count": 25,
     "metadata": {},
     "output_type": "execute_result"
    }
   ],
   "source": [
    "str4 = '     PUNE        MUMBAI       '\n",
    "str4.rstrip()"
   ]
  },
  {
   "cell_type": "code",
   "execution_count": 26,
   "id": "e35f12b6",
   "metadata": {},
   "outputs": [
    {
     "data": {
      "text/plain": [
       "'     PUNE        MUMBAI       ,'"
      ]
     },
     "execution_count": 26,
     "metadata": {},
     "output_type": "execute_result"
    }
   ],
   "source": [
    "str4 = '     PUNE        MUMBAI       ,'\n",
    "str4.rstrip()"
   ]
  },
  {
   "cell_type": "markdown",
   "id": "806edc2f",
   "metadata": {},
   "source": [
    "## 8. strip()"
   ]
  },
  {
   "cell_type": "code",
   "execution_count": null,
   "id": "42f13aef",
   "metadata": {},
   "outputs": [],
   "source": [
    "lstrip + rstrip >> strip"
   ]
  },
  {
   "cell_type": "code",
   "execution_count": 27,
   "id": "e3c82cb7",
   "metadata": {},
   "outputs": [
    {
     "data": {
      "text/plain": [
       "'PUNE        MUMBAI'"
      ]
     },
     "execution_count": 27,
     "metadata": {},
     "output_type": "execute_result"
    }
   ],
   "source": [
    "str4 = '     PUNE        MUMBAI       '\n",
    "str4.strip()"
   ]
  },
  {
   "cell_type": "code",
   "execution_count": 34,
   "id": "a578f550",
   "metadata": {},
   "outputs": [
    {
     "data": {
      "text/plain": [
       "'Machine Learning'"
      ]
     },
     "execution_count": 34,
     "metadata": {},
     "output_type": "execute_result"
    }
   ],
   "source": [
    "str1 = 'Machine Learning        '\n",
    "str1.strip()"
   ]
  },
  {
   "cell_type": "code",
   "execution_count": 35,
   "id": "82113e5b",
   "metadata": {},
   "outputs": [
    {
     "data": {
      "text/plain": [
       "'Machine Learning        '"
      ]
     },
     "execution_count": 35,
     "metadata": {},
     "output_type": "execute_result"
    }
   ],
   "source": [
    "str1"
   ]
  },
  {
   "cell_type": "code",
   "execution_count": 33,
   "id": "f50f5890",
   "metadata": {},
   "outputs": [
    {
     "name": "stdout",
     "output_type": "stream",
     "text": [
      "String:          Machine Learning        \n",
      "String:          Machine Learning\n",
      "String: Machine Learning        \n",
      "String: Machine Learning\n"
     ]
    }
   ],
   "source": [
    "str1 = '         Machine Learning        '\n",
    "print('String:', str1)\n",
    "\n",
    "str2 = str1.rstrip()\n",
    "print('String:', str2)\n",
    "\n",
    "str3 = str1.lstrip()\n",
    "print('String:', str3)\n",
    "\n",
    "str4 = str1.strip()\n",
    "print('String:', str4)"
   ]
  },
  {
   "cell_type": "markdown",
   "id": "d94cccc5",
   "metadata": {},
   "source": [
    "## 9. replace()"
   ]
  },
  {
   "cell_type": "code",
   "execution_count": null,
   "id": "cf79b935",
   "metadata": {},
   "outputs": [],
   "source": [
    "str1.replace(old_str , new_str)"
   ]
  },
  {
   "cell_type": "code",
   "execution_count": 36,
   "id": "b0fb2333",
   "metadata": {},
   "outputs": [
    {
     "data": {
      "text/plain": [
       "'Machine Learning and Data Science'"
      ]
     },
     "execution_count": 36,
     "metadata": {},
     "output_type": "execute_result"
    }
   ],
   "source": [
    "string = 'Python and Data Science'\n",
    "string.replace('Python', 'Machine Learning')"
   ]
  },
  {
   "cell_type": "code",
   "execution_count": 37,
   "id": "af318551",
   "metadata": {},
   "outputs": [
    {
     "data": {
      "text/plain": [
       "'Python and Data Science'"
      ]
     },
     "execution_count": 37,
     "metadata": {},
     "output_type": "execute_result"
    }
   ],
   "source": [
    "string"
   ]
  },
  {
   "cell_type": "code",
   "execution_count": 38,
   "id": "021c9ab2",
   "metadata": {},
   "outputs": [
    {
     "data": {
      "text/plain": [
       "'JAVA and Data Science'"
      ]
     },
     "execution_count": 38,
     "metadata": {},
     "output_type": "execute_result"
    }
   ],
   "source": [
    "string = 'Python and Data Science'\n",
    "string.replace('Python', 'JAVA')"
   ]
  },
  {
   "cell_type": "code",
   "execution_count": 39,
   "id": "51594b2a",
   "metadata": {},
   "outputs": [
    {
     "data": {
      "text/plain": [
       "'JAVA and Data Science'"
      ]
     },
     "execution_count": 39,
     "metadata": {},
     "output_type": "execute_result"
    }
   ],
   "source": [
    "string = 'Python and Data Science'\n",
    "string = string.replace('Python', 'JAVA')\n",
    "string"
   ]
  },
  {
   "cell_type": "code",
   "execution_count": 40,
   "id": "35d62923",
   "metadata": {},
   "outputs": [
    {
     "data": {
      "text/plain": [
       "'JAVA and Data Science'"
      ]
     },
     "execution_count": 40,
     "metadata": {},
     "output_type": "execute_result"
    }
   ],
   "source": [
    "string = 'Python and Data Science'\n",
    "ADobe = string.replace('Python', 'JAVA')\n",
    "ADobe"
   ]
  },
  {
   "cell_type": "code",
   "execution_count": 41,
   "id": "ee152130",
   "metadata": {},
   "outputs": [
    {
     "data": {
      "text/plain": [
       "'Python and Data Science'"
      ]
     },
     "execution_count": 41,
     "metadata": {},
     "output_type": "execute_result"
    }
   ],
   "source": [
    "string = 'Python and Data Science'\n",
    "ADobe = string.replace('python', 'JAVA')\n",
    "ADobe"
   ]
  },
  {
   "cell_type": "code",
   "execution_count": 43,
   "id": "ff7f8fa3",
   "metadata": {},
   "outputs": [
    {
     "name": "stdout",
     "output_type": "stream",
     "text": [
      "PYTHON is programming language. PYTHON is used in Machine learning.\n",
      "PYTHON is also used in deep learning\n"
     ]
    }
   ],
   "source": [
    "str1 =  '''Python is programming language. Python is used in Machine learning.\n",
    "Python is also used in deep learning'''\n",
    "\n",
    "str2 = str1.replace('Python', 'PYTHON')\n",
    "print(str2)"
   ]
  },
  {
   "cell_type": "code",
   "execution_count": 44,
   "id": "c53c6699",
   "metadata": {},
   "outputs": [
    {
     "name": "stdout",
     "output_type": "stream",
     "text": [
      "PYTHON is programming language. Python is used in Machine learning.\n",
      "Python is also used in deep learning\n"
     ]
    }
   ],
   "source": [
    "str1 =  '''Python is programming language. Python is used in Machine learning.\n",
    "Python is also used in deep learning'''\n",
    "\n",
    "str2 = str1.replace('Python', 'PYTHON',1)\n",
    "print(str2)"
   ]
  },
  {
   "cell_type": "code",
   "execution_count": 45,
   "id": "2a3a47e9",
   "metadata": {},
   "outputs": [
    {
     "name": "stdout",
     "output_type": "stream",
     "text": [
      "PYTHON is programming language. PYTHON is used in Machine learning.\n",
      "Python is also used in deep learning\n"
     ]
    }
   ],
   "source": [
    "str1 =  '''Python is programming language. Python is used in Machine learning.\n",
    "Python is also used in deep learning'''\n",
    "\n",
    "str2 = str1.replace('Python', 'PYTHON',2)\n",
    "print(str2)"
   ]
  },
  {
   "cell_type": "code",
   "execution_count": 46,
   "id": "c810f029",
   "metadata": {},
   "outputs": [
    {
     "name": "stdout",
     "output_type": "stream",
     "text": [
      "C is programming language. C is used in Machine learning.\n",
      "C is also used in deep learning\n"
     ]
    }
   ],
   "source": [
    "str1 =  '''Python is programming language. Python is used in Machine learning.\n",
    "Python is also used in deep learning'''\n",
    "\n",
    "str2 = str1.replace('Python', 'C')\n",
    "print(str2)"
   ]
  },
  {
   "cell_type": "code",
   "execution_count": 47,
   "id": "3c3bad0a",
   "metadata": {},
   "outputs": [
    {
     "name": "stdout",
     "output_type": "stream",
     "text": [
      "Python is coding language. Python is used in Machine learning.\n",
      "Python is also used in deep learning\n"
     ]
    }
   ],
   "source": [
    "str1 =  '''Python is programming language. Python is used in Machine learning.\n",
    "Python is also used in deep learning'''\n",
    "\n",
    "str2 = str1.replace('programming', 'coding')\n",
    "print(str2)"
   ]
  },
  {
   "cell_type": "code",
   "execution_count": 48,
   "id": "086a6cc8",
   "metadata": {},
   "outputs": [
    {
     "name": "stdout",
     "output_type": "stream",
     "text": [
      "Python is progr**mming l**ngu**ge. Python is used in M**chine le**rning.\n",
      "Python is **lso used in deep le**rning\n"
     ]
    }
   ],
   "source": [
    "str1 =  '''Python is programming language. Python is used in Machine learning.\n",
    "Python is also used in deep learning'''\n",
    "\n",
    "str2 = str1.replace('a', '**')\n",
    "print(str2)"
   ]
  },
  {
   "cell_type": "code",
   "execution_count": 49,
   "id": "26a30053",
   "metadata": {},
   "outputs": [
    {
     "name": "stdout",
     "output_type": "stream",
     "text": [
      "Python++is++programming++language.++Python++is++used++in++Machine++learning.\n",
      "Python++is++also++used++in++deep++learning\n"
     ]
    }
   ],
   "source": [
    "str1 =  '''Python is programming language. Python is used in Machine learning.\n",
    "Python is also used in deep learning'''\n",
    "\n",
    "str2 = str1.replace(' ', '++')\n",
    "print(str2)"
   ]
  },
  {
   "cell_type": "code",
   "execution_count": 50,
   "id": "81f341d9",
   "metadata": {},
   "outputs": [
    {
     "name": "stdout",
     "output_type": "stream",
     "text": [
      "Python    is    programming    language.    Python    is    used    in    Machine    learning.\n",
      "Python    is    also    used    in    deep    learning\n"
     ]
    }
   ],
   "source": [
    "str1 =  '''Python is programming language. Python is used in Machine learning.\n",
    "Python is also used in deep learning'''\n",
    "\n",
    "str2 = str1.replace(' ', '    ')\n",
    "print(str2)"
   ]
  },
  {
   "cell_type": "code",
   "execution_count": 1,
   "id": "47d6e1ec",
   "metadata": {},
   "outputs": [
    {
     "data": {
      "text/plain": [
       "'Data science is An interdisciplinary field that Uses scientific methods,\\nprocesses, algorithms and systems to Extract knowledge and insights from noisy,\\nstructured and unstructured data, and apply knowledge and actionable insights from\\ndata across a broad range of application domains.'"
      ]
     },
     "execution_count": 1,
     "metadata": {},
     "output_type": "execute_result"
    }
   ],
   "source": [
    "str1 = '''Data science is An interdisciplinary field that Uses scientific methods,\n",
    "processes, algorithms and systems to Extract knowledge and insights from noisy,\n",
    "structured and unstructured data, and apply knowledge and actionable insights from\n",
    "data across a broad range of application domains.'''\n",
    "str2=str1.replace('a,e,i,o,u','')\n",
    "str2"
   ]
  },
  {
   "cell_type": "code",
   "execution_count": 54,
   "id": "5f04f3b4",
   "metadata": {},
   "outputs": [
    {
     "name": "stdout",
     "output_type": "stream",
     "text": [
      "Dt scnc s An ntrdscplnry fld tht Uss scntfc mthds,\n",
      "prcsss, lgrthms nd systms t Extrct knwldg nd nsghts frm nsy,\n",
      "strctrd nd nstrctrd dt, nd pply knwldg nd ctnbl nsghts frm\n",
      "dt crss  brd rng f pplctn dmns.\n"
     ]
    }
   ],
   "source": [
    "str1 = '''Data science is An interdisciplinary field that Uses scientific methods,\n",
    "processes, algorithms and systems to Extract knowledge and insights from noisy,\n",
    "structured and unstructured data, and apply knowledge and actionable insights from\n",
    "data across a broad range of application domains.'''\n",
    "str2=str1.replace('a','')\n",
    "\n",
    "str3=str2.replace('e','')\n",
    "\n",
    "str4=str3.replace('i','')\n",
    "\n",
    "str5=str4.replace('o','')\n",
    "\n",
    "str6=str5.replace('u', '')\n",
    "print(str6)"
   ]
  },
  {
   "cell_type": "code",
   "execution_count": 59,
   "id": "7abd9fbf",
   "metadata": {},
   "outputs": [
    {
     "data": {
      "text/plain": [
       "'dt scnc s n ntrdscplnry fld tht ss scntfc mthds,\\nprcsss, lgrthms nd systms t xtrct knwldg nd nsghts frm nsy,\\nstrctrd nd nstrctrd dt, nd pply knwldg nd ctnbl nsghts frm\\ndt crss  brd rng f pplctn dmns.'"
      ]
     },
     "execution_count": 59,
     "metadata": {},
     "output_type": "execute_result"
    }
   ],
   "source": [
    "str1 = '''Data science is An interdisciplinary field that Uses scientific methods,\n",
    "processes, algorithms and systems to Extract knowledge and insights from noisy,\n",
    "structured and unstructured data, and apply knowledge and actionable insights from\n",
    "data across a broad range of application domains.'''\n",
    "str1= str1.lower().replace('a' , '').replace('e' , '').replace('i' , '').replace('o' , '').replace('u' , '')\n",
    "str1"
   ]
  },
  {
   "cell_type": "code",
   "execution_count": 60,
   "id": "610fef63",
   "metadata": {},
   "outputs": [
    {
     "data": {
      "text/plain": [
       "'dt scnc s n ntrdscplnry fld tht ss scntfc mthds,\\nprcsss, lgrthms nd systms t xtrct knwldg nd nsghts frm nsy,\\nstrctrd nd nstrctrd dt, nd pply knwldg nd ctnbl nsghts frm\\ndt crss  brd rng f pplctn dmns.'"
      ]
     },
     "execution_count": 60,
     "metadata": {},
     "output_type": "execute_result"
    }
   ],
   "source": [
    "ds = '''Data science is An interdisciplinary field that Uses scientific methods,\n",
    "processes, algorithms and systems to Extract knowledge and insights from noisy,\n",
    "structured and unstructured data, and apply knowledge and actionable insights from\n",
    "data across a broad range of application domains.'''\n",
    "ds = ds.lower()\n",
    "ds = ds.replace('a' , '').replace('e' , '').replace('i' , '').replace('o' , '').replace('u' , '')\n",
    "ds"
   ]
  },
  {
   "cell_type": "code",
   "execution_count": 61,
   "id": "b0f37a60",
   "metadata": {},
   "outputs": [
    {
     "data": {
      "text/plain": [
       "'data science data science data science data science'"
      ]
     },
     "execution_count": 61,
     "metadata": {},
     "output_type": "execute_result"
    }
   ],
   "source": [
    "string = 'python python python python'\n",
    "string.replace('python', 'data science')"
   ]
  },
  {
   "cell_type": "code",
   "execution_count": 62,
   "id": "6473afc7",
   "metadata": {},
   "outputs": [
    {
     "data": {
      "text/plain": [
       "'data science data science python python'"
      ]
     },
     "execution_count": 62,
     "metadata": {},
     "output_type": "execute_result"
    }
   ],
   "source": [
    "string = 'python python python python'\n",
    "string.replace('python', 'data science',2)"
   ]
  },
  {
   "cell_type": "code",
   "execution_count": 64,
   "id": "813351e8",
   "metadata": {},
   "outputs": [
    {
     "data": {
      "text/plain": [
       "'cython cython python python'"
      ]
     },
     "execution_count": 64,
     "metadata": {},
     "output_type": "execute_result"
    }
   ],
   "source": [
    "string = 'python python python python'\n",
    "string.replace('p', 'c', 2) # default count is -1"
   ]
  },
  {
   "cell_type": "markdown",
   "id": "4f0f10eb",
   "metadata": {},
   "source": [
    "## 10. count()"
   ]
  },
  {
   "cell_type": "code",
   "execution_count": null,
   "id": "5d13942b",
   "metadata": {},
   "outputs": [],
   "source": [
    "string.count(substring,start_index, end_index)"
   ]
  },
  {
   "cell_type": "code",
   "execution_count": 66,
   "id": "cf400b02",
   "metadata": {},
   "outputs": [
    {
     "data": {
      "text/plain": [
       "2"
      ]
     },
     "execution_count": 66,
     "metadata": {},
     "output_type": "execute_result"
    }
   ],
   "source": [
    "str1 =  'python is programming language.'\n",
    "str1.count('p')"
   ]
  },
  {
   "cell_type": "code",
   "execution_count": 67,
   "id": "f7c88c61",
   "metadata": {},
   "outputs": [
    {
     "data": {
      "text/plain": [
       "3"
      ]
     },
     "execution_count": 67,
     "metadata": {},
     "output_type": "execute_result"
    }
   ],
   "source": [
    "str1 =  'python is programming language.'\n",
    "str1.count('a')"
   ]
  },
  {
   "cell_type": "code",
   "execution_count": 68,
   "id": "79ea1645",
   "metadata": {},
   "outputs": [
    {
     "data": {
      "text/plain": [
       "3"
      ]
     },
     "execution_count": 68,
     "metadata": {},
     "output_type": "execute_result"
    }
   ],
   "source": [
    "str1 =  'python is programming language.'\n",
    "str1.count(' ')"
   ]
  },
  {
   "cell_type": "code",
   "execution_count": 69,
   "id": "21bd14e3",
   "metadata": {},
   "outputs": [
    {
     "data": {
      "text/plain": [
       "1"
      ]
     },
     "execution_count": 69,
     "metadata": {},
     "output_type": "execute_result"
    }
   ],
   "source": [
    "str1 =  'python is programming language.'\n",
    "str1.count('python')"
   ]
  },
  {
   "cell_type": "code",
   "execution_count": 70,
   "id": "c91c76e6",
   "metadata": {},
   "outputs": [
    {
     "data": {
      "text/plain": [
       "0"
      ]
     },
     "execution_count": 70,
     "metadata": {},
     "output_type": "execute_result"
    }
   ],
   "source": [
    "str1 =  'python is programming language.'\n",
    "str1.count('Python')"
   ]
  },
  {
   "cell_type": "code",
   "execution_count": 71,
   "id": "2a1caa00",
   "metadata": {},
   "outputs": [
    {
     "data": {
      "text/plain": [
       "3"
      ]
     },
     "execution_count": 71,
     "metadata": {},
     "output_type": "execute_result"
    }
   ],
   "source": [
    "str1 =  'Python is programming language. Python is used for Data Science'\n",
    "str1 = str1.lower()\n",
    "str1.count('p')"
   ]
  },
  {
   "cell_type": "code",
   "execution_count": 72,
   "id": "350c7f23",
   "metadata": {},
   "outputs": [
    {
     "data": {
      "text/plain": [
       "3"
      ]
     },
     "execution_count": 72,
     "metadata": {},
     "output_type": "execute_result"
    }
   ],
   "source": [
    "str1 =  'Python is programming language. Python is used for Data Science'\n",
    "str1.lower().count('p')\n"
   ]
  },
  {
   "cell_type": "code",
   "execution_count": 73,
   "id": "3234207e",
   "metadata": {},
   "outputs": [
    {
     "data": {
      "text/plain": [
       "0"
      ]
     },
     "execution_count": 73,
     "metadata": {},
     "output_type": "execute_result"
    }
   ],
   "source": [
    "str1 =  'Python is programming language. Python is used for Data Science'\n",
    "str1.lower().count('P')\n"
   ]
  },
  {
   "cell_type": "code",
   "execution_count": null,
   "id": "f93e32f3",
   "metadata": {},
   "outputs": [],
   "source": []
  },
  {
   "cell_type": "code",
   "execution_count": 74,
   "id": "855ebde6",
   "metadata": {},
   "outputs": [
    {
     "data": {
      "text/plain": [
       "2"
      ]
     },
     "execution_count": 74,
     "metadata": {},
     "output_type": "execute_result"
    }
   ],
   "source": [
    "str1 =  'Python is programming language. Python is used for Data Science'\n",
    "str1.count('P')\n"
   ]
  },
  {
   "cell_type": "code",
   "execution_count": 75,
   "id": "6247375c",
   "metadata": {},
   "outputs": [
    {
     "data": {
      "text/plain": [
       "3"
      ]
     },
     "execution_count": 75,
     "metadata": {},
     "output_type": "execute_result"
    }
   ],
   "source": [
    "str1 =  'Python is programming language. Python is used for Data Science'\n",
    "str1.upper().count('P')\n"
   ]
  },
  {
   "cell_type": "code",
   "execution_count": 77,
   "id": "5b8cb28a",
   "metadata": {},
   "outputs": [
    {
     "data": {
      "text/plain": [
       "1"
      ]
     },
     "execution_count": 77,
     "metadata": {},
     "output_type": "execute_result"
    }
   ],
   "source": [
    "str1 =  'Python is programming language. Python is used for Data Science'\n",
    "str1[4:24]\n",
    "str1.count('p',4,24)"
   ]
  },
  {
   "cell_type": "code",
   "execution_count": 79,
   "id": "df4db7bb",
   "metadata": {},
   "outputs": [
    {
     "data": {
      "text/plain": [
       "2"
      ]
     },
     "execution_count": 79,
     "metadata": {},
     "output_type": "execute_result"
    }
   ],
   "source": [
    "str1 =  'Python is programming language. Python is used for Data Science'\n",
    "str1.lower().count('p',4,50)"
   ]
  },
  {
   "cell_type": "code",
   "execution_count": 81,
   "id": "20d1fe0b",
   "metadata": {},
   "outputs": [
    {
     "data": {
      "text/plain": [
       "5"
      ]
     },
     "execution_count": 81,
     "metadata": {},
     "output_type": "execute_result"
    }
   ],
   "source": [
    "str1 =  'Python is programming language. Python is used for Data Science ppp'\n",
    "str1.lower().count('p',4) #str1[4:]"
   ]
  },
  {
   "cell_type": "code",
   "execution_count": 82,
   "id": "f66280b5",
   "metadata": {},
   "outputs": [
    {
     "data": {
      "text/plain": [
       "3"
      ]
     },
     "execution_count": 82,
     "metadata": {},
     "output_type": "execute_result"
    }
   ],
   "source": [
    "str1 =  'Python is programming language. Python is used for Data Science ppp'\n",
    "str1.lower().count('p',0,50) #str1[0:50]"
   ]
  },
  {
   "cell_type": "code",
   "execution_count": 86,
   "id": "3bbc78f3",
   "metadata": {},
   "outputs": [
    {
     "data": {
      "text/plain": [
       "'Python is programming language. Python is used for'"
      ]
     },
     "execution_count": 86,
     "metadata": {},
     "output_type": "execute_result"
    }
   ],
   "source": [
    "str1[:50]"
   ]
  },
  {
   "cell_type": "code",
   "execution_count": 85,
   "id": "743aa0cd",
   "metadata": {},
   "outputs": [
    {
     "data": {
      "text/plain": [
       "3"
      ]
     },
     "execution_count": 85,
     "metadata": {},
     "output_type": "execute_result"
    }
   ],
   "source": [
    "str1 =  'Python is programming language. Python is used for Data Science ppp'\n",
    "str1.lower().count('p',-50,-1) "
   ]
  },
  {
   "cell_type": "markdown",
   "id": "70251164",
   "metadata": {},
   "source": [
    "## 11. index()"
   ]
  },
  {
   "cell_type": "code",
   "execution_count": null,
   "id": "0456d7b9",
   "metadata": {},
   "outputs": [],
   "source": [
    "string.index(substring, start_index, end_index)"
   ]
  },
  {
   "cell_type": "code",
   "execution_count": 87,
   "id": "84cb1d47",
   "metadata": {},
   "outputs": [
    {
     "data": {
      "text/plain": [
       "22"
      ]
     },
     "execution_count": 87,
     "metadata": {},
     "output_type": "execute_result"
    }
   ],
   "source": [
    "string = 'Python is programming language. Python is used for Data Science ppp'\n",
    "string.index('l')"
   ]
  },
  {
   "cell_type": "code",
   "execution_count": 88,
   "id": "0244f8af",
   "metadata": {},
   "outputs": [
    {
     "data": {
      "text/plain": [
       "'l'"
      ]
     },
     "execution_count": 88,
     "metadata": {},
     "output_type": "execute_result"
    }
   ],
   "source": [
    "string[22]"
   ]
  },
  {
   "cell_type": "code",
   "execution_count": 89,
   "id": "4fe7c208",
   "metadata": {},
   "outputs": [
    {
     "data": {
      "text/plain": [
       "32"
      ]
     },
     "execution_count": 89,
     "metadata": {},
     "output_type": "execute_result"
    }
   ],
   "source": [
    "string = 'Python is programming language. python is used for Data Science ppp'\n",
    "string.index('python')"
   ]
  },
  {
   "cell_type": "code",
   "execution_count": 90,
   "id": "112e0a56",
   "metadata": {},
   "outputs": [
    {
     "data": {
      "text/plain": [
       "'p'"
      ]
     },
     "execution_count": 90,
     "metadata": {},
     "output_type": "execute_result"
    }
   ],
   "source": [
    "string[32]"
   ]
  },
  {
   "cell_type": "code",
   "execution_count": 91,
   "id": "d14b6785",
   "metadata": {},
   "outputs": [
    {
     "data": {
      "text/plain": [
       "32"
      ]
     },
     "execution_count": 91,
     "metadata": {},
     "output_type": "execute_result"
    }
   ],
   "source": [
    "string = 'Python is programming language. pythonnnn is used for Data Science ppp'\n",
    "string.index('python')"
   ]
  },
  {
   "cell_type": "code",
   "execution_count": 92,
   "id": "bbd5666f",
   "metadata": {},
   "outputs": [
    {
     "data": {
      "text/plain": [
       "5"
      ]
     },
     "execution_count": 92,
     "metadata": {},
     "output_type": "execute_result"
    }
   ],
   "source": [
    "str1 = 'Python'\n",
    "str1.index('n')"
   ]
  },
  {
   "cell_type": "code",
   "execution_count": 93,
   "id": "c457d2e7",
   "metadata": {},
   "outputs": [
    {
     "data": {
      "text/plain": [
       "2"
      ]
     },
     "execution_count": 93,
     "metadata": {},
     "output_type": "execute_result"
    }
   ],
   "source": [
    "str1 = 'Python'\n",
    "str1.index('t')"
   ]
  },
  {
   "cell_type": "code",
   "execution_count": 94,
   "id": "016d9e6b",
   "metadata": {},
   "outputs": [
    {
     "data": {
      "text/plain": [
       "6"
      ]
     },
     "execution_count": 94,
     "metadata": {},
     "output_type": "execute_result"
    }
   ],
   "source": [
    "str1 = 'Python class'\n",
    "str1.index(' ')"
   ]
  },
  {
   "cell_type": "code",
   "execution_count": 95,
   "id": "8b1b3aee",
   "metadata": {},
   "outputs": [
    {
     "data": {
      "text/plain": [
       "32"
      ]
     },
     "execution_count": 95,
     "metadata": {},
     "output_type": "execute_result"
    }
   ],
   "source": [
    "string = 'Python is programming language. pythonnnn is used for Data Science ppp'\n",
    "string.index('python',10,50)"
   ]
  },
  {
   "cell_type": "code",
   "execution_count": 97,
   "id": "39cc3c8b",
   "metadata": {},
   "outputs": [
    {
     "data": {
      "text/plain": [
       "0"
      ]
     },
     "execution_count": 97,
     "metadata": {},
     "output_type": "execute_result"
    }
   ],
   "source": [
    "string = 'Python is programming language. pythonnnn is used for Data Science ppp'\n",
    "string.index('Python',0,50)"
   ]
  },
  {
   "cell_type": "code",
   "execution_count": 98,
   "id": "04e64c27",
   "metadata": {},
   "outputs": [
    {
     "ename": "ValueError",
     "evalue": "substring not found",
     "output_type": "error",
     "traceback": [
      "\u001b[1;31m---------------------------------------------------------------------------\u001b[0m",
      "\u001b[1;31mValueError\u001b[0m                                Traceback (most recent call last)",
      "\u001b[1;32m<ipython-input-98-82526e8efbb0>\u001b[0m in \u001b[0;36m<module>\u001b[1;34m\u001b[0m\n\u001b[0;32m      1\u001b[0m \u001b[0mstring\u001b[0m \u001b[1;33m=\u001b[0m \u001b[1;34m'Python is programming language. Python is used for Data Science ppp'\u001b[0m\u001b[1;33m\u001b[0m\u001b[1;33m\u001b[0m\u001b[0m\n\u001b[1;32m----> 2\u001b[1;33m \u001b[0mstring\u001b[0m\u001b[1;33m.\u001b[0m\u001b[0mindex\u001b[0m\u001b[1;33m(\u001b[0m\u001b[1;34m'python'\u001b[0m\u001b[1;33m)\u001b[0m\u001b[1;33m\u001b[0m\u001b[1;33m\u001b[0m\u001b[0m\n\u001b[0m",
      "\u001b[1;31mValueError\u001b[0m: substring not found"
     ]
    }
   ],
   "source": [
    "string = 'Python is programming language. Python is used for Data Science ppp'\n",
    "string.index('python')"
   ]
  },
  {
   "cell_type": "code",
   "execution_count": 99,
   "id": "3ba14bc7",
   "metadata": {},
   "outputs": [
    {
     "data": {
      "text/plain": [
       "0"
      ]
     },
     "execution_count": 99,
     "metadata": {},
     "output_type": "execute_result"
    }
   ],
   "source": [
    "string = 'Python is programming language. Python is used for Data Science ppp'\n",
    "string.lower().index('python')"
   ]
  },
  {
   "cell_type": "markdown",
   "id": "2524a12f",
   "metadata": {},
   "source": [
    "## 12. find()"
   ]
  },
  {
   "cell_type": "code",
   "execution_count": 100,
   "id": "15620ab1",
   "metadata": {},
   "outputs": [
    {
     "data": {
      "text/plain": [
       "2"
      ]
     },
     "execution_count": 100,
     "metadata": {},
     "output_type": "execute_result"
    }
   ],
   "source": [
    "string = 'Python'\n",
    "string.index('t')"
   ]
  },
  {
   "cell_type": "code",
   "execution_count": 101,
   "id": "78956db2",
   "metadata": {},
   "outputs": [
    {
     "ename": "ValueError",
     "evalue": "substring not found",
     "output_type": "error",
     "traceback": [
      "\u001b[1;31m---------------------------------------------------------------------------\u001b[0m",
      "\u001b[1;31mValueError\u001b[0m                                Traceback (most recent call last)",
      "\u001b[1;32m<ipython-input-101-2fccc27f1f5e>\u001b[0m in \u001b[0;36m<module>\u001b[1;34m\u001b[0m\n\u001b[0;32m      1\u001b[0m \u001b[0mstring\u001b[0m \u001b[1;33m=\u001b[0m \u001b[1;34m'PYTHON'\u001b[0m\u001b[1;33m\u001b[0m\u001b[1;33m\u001b[0m\u001b[0m\n\u001b[1;32m----> 2\u001b[1;33m \u001b[0mstring\u001b[0m\u001b[1;33m.\u001b[0m\u001b[0mindex\u001b[0m\u001b[1;33m(\u001b[0m\u001b[1;34m't'\u001b[0m\u001b[1;33m)\u001b[0m\u001b[1;33m\u001b[0m\u001b[1;33m\u001b[0m\u001b[0m\n\u001b[0m",
      "\u001b[1;31mValueError\u001b[0m: substring not found"
     ]
    }
   ],
   "source": [
    "string = 'PYTHON'\n",
    "string.index('t')"
   ]
  },
  {
   "cell_type": "code",
   "execution_count": 102,
   "id": "14c5c441",
   "metadata": {},
   "outputs": [
    {
     "ename": "ValueError",
     "evalue": "substring not found",
     "output_type": "error",
     "traceback": [
      "\u001b[1;31m---------------------------------------------------------------------------\u001b[0m",
      "\u001b[1;31mValueError\u001b[0m                                Traceback (most recent call last)",
      "\u001b[1;32m<ipython-input-102-33f4265714a1>\u001b[0m in \u001b[0;36m<module>\u001b[1;34m\u001b[0m\n\u001b[0;32m      1\u001b[0m \u001b[0mstring\u001b[0m \u001b[1;33m=\u001b[0m \u001b[1;34m'PYTHON'\u001b[0m\u001b[1;33m\u001b[0m\u001b[1;33m\u001b[0m\u001b[0m\n\u001b[1;32m----> 2\u001b[1;33m \u001b[0mstring\u001b[0m\u001b[1;33m.\u001b[0m\u001b[0mindex\u001b[0m\u001b[1;33m(\u001b[0m\u001b[1;34m'z'\u001b[0m\u001b[1;33m)\u001b[0m\u001b[1;33m\u001b[0m\u001b[1;33m\u001b[0m\u001b[0m\n\u001b[0m",
      "\u001b[1;31mValueError\u001b[0m: substring not found"
     ]
    }
   ],
   "source": [
    "string = 'PYTHON'\n",
    "string.index('z')"
   ]
  },
  {
   "cell_type": "code",
   "execution_count": 103,
   "id": "38d43bf0",
   "metadata": {},
   "outputs": [
    {
     "data": {
      "text/plain": [
       "5"
      ]
     },
     "execution_count": 103,
     "metadata": {},
     "output_type": "execute_result"
    }
   ],
   "source": [
    "string = 'Python'\n",
    "string.find('n')"
   ]
  },
  {
   "cell_type": "code",
   "execution_count": 104,
   "id": "f340f96b",
   "metadata": {},
   "outputs": [
    {
     "data": {
      "text/plain": [
       "2"
      ]
     },
     "execution_count": 104,
     "metadata": {},
     "output_type": "execute_result"
    }
   ],
   "source": [
    "string = 'Python'\n",
    "string.find('t')"
   ]
  },
  {
   "cell_type": "code",
   "execution_count": 105,
   "id": "8065da8a",
   "metadata": {},
   "outputs": [
    {
     "data": {
      "text/plain": [
       "-1"
      ]
     },
     "execution_count": 105,
     "metadata": {},
     "output_type": "execute_result"
    }
   ],
   "source": [
    "string = 'Python'\n",
    "string.find('p')"
   ]
  },
  {
   "cell_type": "code",
   "execution_count": 108,
   "id": "178902e6",
   "metadata": {},
   "outputs": [
    {
     "name": "stdout",
     "output_type": "stream",
     "text": [
      "Index: -1\n",
      "Substring is not present in given string\n"
     ]
    }
   ],
   "source": [
    "string = 'Python'\n",
    "index = string.find('p')\n",
    "print('Index:', index )\n",
    "\n",
    "if index == -1:\n",
    "    print('Substring is not present in given string')\n",
    "    \n",
    "else:\n",
    "    print('Substring is present')"
   ]
  },
  {
   "cell_type": "code",
   "execution_count": 109,
   "id": "70e9305f",
   "metadata": {},
   "outputs": [
    {
     "name": "stdout",
     "output_type": "stream",
     "text": [
      "Index: 0\n",
      "Substring is present\n"
     ]
    }
   ],
   "source": [
    "string = 'Python'\n",
    "index = string.find('P')\n",
    "print('Index:', index )\n",
    "\n",
    "if index == -1:\n",
    "    print('Substring is not present in given string')\n",
    "    \n",
    "else:\n",
    "    print('Substring is present')"
   ]
  },
  {
   "cell_type": "code",
   "execution_count": 111,
   "id": "f894412d",
   "metadata": {},
   "outputs": [
    {
     "name": "stdout",
     "output_type": "stream",
     "text": [
      "programming is present at 10th index\n"
     ]
    }
   ],
   "source": [
    "string = 'Python is programming language'\n",
    "sub_string = 'programming'\n",
    "index = string.find(sub_string)\n",
    "\n",
    "if index == -1:\n",
    "    print(f'{sub_string} is not present in given string')\n",
    "    \n",
    "else:\n",
    "    print(f'{sub_string} is present at {index}th index')"
   ]
  },
  {
   "cell_type": "code",
   "execution_count": 112,
   "id": "031728e0",
   "metadata": {},
   "outputs": [
    {
     "name": "stdout",
     "output_type": "stream",
     "text": [
      "Programming is not present in given string\n"
     ]
    }
   ],
   "source": [
    "string = 'Python is programming language'\n",
    "sub_string = 'Programming'\n",
    "index = string.find(sub_string)\n",
    "\n",
    "if index == -1:\n",
    "    print(f'{sub_string} is not present in given string')\n",
    "    \n",
    "else:\n",
    "    print(f'{sub_string} is present at {index}th index')"
   ]
  },
  {
   "cell_type": "markdown",
   "id": "4954e884",
   "metadata": {},
   "source": [
    "## 13. split()"
   ]
  },
  {
   "cell_type": "code",
   "execution_count": null,
   "id": "81853a5f",
   "metadata": {},
   "outputs": [],
   "source": [
    "string to list"
   ]
  },
  {
   "cell_type": "code",
   "execution_count": 113,
   "id": "a38ecb46",
   "metadata": {},
   "outputs": [
    {
     "data": {
      "text/plain": [
       "['Python', 'is', 'programming', 'language']"
      ]
     },
     "execution_count": 113,
     "metadata": {},
     "output_type": "execute_result"
    }
   ],
   "source": [
    "string = 'Python is programming language'\n",
    "string.split()"
   ]
  },
  {
   "cell_type": "code",
   "execution_count": 114,
   "id": "6e0c823b",
   "metadata": {},
   "outputs": [
    {
     "name": "stdout",
     "output_type": "stream",
     "text": [
      "<class 'str'>\n",
      "<class 'list'>\n"
     ]
    }
   ],
   "source": [
    "string = 'Python is programming language'\n",
    "print(type(string))\n",
    "string_list = string.split()\n",
    "print(type(string_list))"
   ]
  },
  {
   "cell_type": "code",
   "execution_count": 115,
   "id": "c74e8668",
   "metadata": {},
   "outputs": [
    {
     "data": {
      "text/plain": [
       "['Python', 'is', 'programming', 'language']"
      ]
     },
     "execution_count": 115,
     "metadata": {},
     "output_type": "execute_result"
    }
   ],
   "source": [
    "string = 'Python is programming language'\n",
    "string.split(' ')"
   ]
  },
  {
   "cell_type": "code",
   "execution_count": 116,
   "id": "9fe909e1",
   "metadata": {},
   "outputs": [
    {
     "data": {
      "text/plain": [
       "['Python is', 'programming language']"
      ]
     },
     "execution_count": 116,
     "metadata": {},
     "output_type": "execute_result"
    }
   ],
   "source": [
    "string = 'Python is  programming language'\n",
    "string.split('  ')"
   ]
  },
  {
   "cell_type": "code",
   "execution_count": 117,
   "id": "dd072460",
   "metadata": {},
   "outputs": [
    {
     "data": {
      "text/plain": [
       "['Python is', 'programming', 'language']"
      ]
     },
     "execution_count": 117,
     "metadata": {},
     "output_type": "execute_result"
    }
   ],
   "source": [
    "string = 'Python is  programming  language'\n",
    "string.split('  ')"
   ]
  },
  {
   "cell_type": "code",
   "execution_count": 118,
   "id": "bb2218fd",
   "metadata": {},
   "outputs": [
    {
     "data": {
      "text/plain": [
       "['Python ', '  programming  language']"
      ]
     },
     "execution_count": 118,
     "metadata": {},
     "output_type": "execute_result"
    }
   ],
   "source": [
    "string = 'Python is  programming  language'\n",
    "string.split('is')"
   ]
  },
  {
   "cell_type": "code",
   "execution_count": 119,
   "id": "8453f3af",
   "metadata": {},
   "outputs": [
    {
     "data": {
      "text/plain": [
       "['Python is  progr', 'mming  l', 'ngu', 'ge']"
      ]
     },
     "execution_count": 119,
     "metadata": {},
     "output_type": "execute_result"
    }
   ],
   "source": [
    "string = 'Python is  programming  language'\n",
    "string.split('a')"
   ]
  },
  {
   "cell_type": "code",
   "execution_count": 120,
   "id": "6f3433d4",
   "metadata": {},
   "outputs": [
    {
     "data": {
      "text/plain": [
       "['Python is  progr', 'mming  l', 'ngu', '']"
      ]
     },
     "execution_count": 120,
     "metadata": {},
     "output_type": "execute_result"
    }
   ],
   "source": [
    "string = 'Python is  programming  langua'\n",
    "string.split('a')"
   ]
  },
  {
   "cell_type": "code",
   "execution_count": 125,
   "id": "8092719b",
   "metadata": {},
   "outputs": [
    {
     "name": "stdout",
     "output_type": "stream",
     "text": [
      "['Data', 'science', 'is', 'An', 'interdisciplinary', 'field', 'that', 'Uses', 'scientific', 'methods,', 'processes,', 'algorithms', 'and', 'systems', 'to', 'Extract', 'knowledge', 'and', 'insights', 'from', 'noisy,', 'structured', 'and', 'unstructured', 'data,', 'and', 'apply', 'knowledge', 'and', 'actionable', 'insights', 'from', 'data', 'across', 'a', 'broad', 'range', 'of', 'application', 'domains.'] 40\n"
     ]
    }
   ],
   "source": [
    "ds = '''Data science is An interdisciplinary field that Uses scientific methods,\n",
    "processes, algorithms and systems to Extract knowledge and insights from noisy,\n",
    "structured and unstructured data, and apply knowledge and actionable insights from\n",
    "data across a broad range of application domains.'''\n",
    "\n",
    "list1 = ds.split()\n",
    "print(list1,len(list1))"
   ]
  },
  {
   "cell_type": "code",
   "execution_count": 126,
   "id": "dd692d8c",
   "metadata": {},
   "outputs": [
    {
     "name": "stdout",
     "output_type": "stream",
     "text": [
      "['Data science is An interdisciplinary field that Uses scientific methods,', 'processes, algorithms and systems to Extract knowledge and insights from noisy,', 'structured and unstructured data, and apply knowledge and actionable insights from', 'data across a broad range of application domains.'] 4\n"
     ]
    }
   ],
   "source": [
    "ds = '''Data science is An interdisciplinary field that Uses scientific methods,\n",
    "processes, algorithms and systems to Extract knowledge and insights from noisy,\n",
    "structured and unstructured data, and apply knowledge and actionable insights from\n",
    "data across a broad range of application domains.'''\n",
    "\n",
    "list1 = ds.split('\\n')\n",
    "print(list1,len(list1))"
   ]
  },
  {
   "cell_type": "code",
   "execution_count": 127,
   "id": "4d151b2f",
   "metadata": {},
   "outputs": [
    {
     "data": {
      "text/plain": [
       "['Python', 'is', 'programming', 'language']"
      ]
     },
     "execution_count": 127,
     "metadata": {},
     "output_type": "execute_result"
    }
   ],
   "source": [
    "string = 'Python is  programming  language'\n",
    "string.split()"
   ]
  },
  {
   "cell_type": "code",
   "execution_count": null,
   "id": "a378907c",
   "metadata": {},
   "outputs": [],
   "source": [
    "del"
   ]
  },
  {
   "cell_type": "code",
   "execution_count": null,
   "id": "8a02ef91",
   "metadata": {},
   "outputs": [],
   "source": [
    "\\n --- new line  ln"
   ]
  },
  {
   "cell_type": "code",
   "execution_count": 4,
   "id": "b18aa237",
   "metadata": {},
   "outputs": [
    {
     "name": "stdout",
     "output_type": "stream",
     "text": [
      "Data science is An interdisciplinary field that Uses scientific methods,processes, algorithms and systems to Extract knowledge and insights from noisy,\n",
      "structured and unstructured data, and apply knowledge and actionable insights from\n",
      "data across a broad range of application domains.\n"
     ]
    }
   ],
   "source": [
    "ds = '''Data science is An interdisciplinary field that Uses scientific methods,processes, algorithms and systems to Extract knowledge and insights from noisy,\n",
    "structured and unstructured data, and apply knowledge and actionable insights from\n",
    "data across a broad range of application domains.'''\n",
    "print(ds)"
   ]
  },
  {
   "cell_type": "code",
   "execution_count": null,
   "id": "dacbcd73",
   "metadata": {},
   "outputs": [],
   "source": [
    "\n"
   ]
  }
 ],
 "metadata": {
  "kernelspec": {
   "display_name": "Python 3 (ipykernel)",
   "language": "python",
   "name": "python3"
  },
  "language_info": {
   "codemirror_mode": {
    "name": "ipython",
    "version": 3
   },
   "file_extension": ".py",
   "mimetype": "text/x-python",
   "name": "python",
   "nbconvert_exporter": "python",
   "pygments_lexer": "ipython3",
   "version": "3.9.13"
  }
 },
 "nbformat": 4,
 "nbformat_minor": 5
}
