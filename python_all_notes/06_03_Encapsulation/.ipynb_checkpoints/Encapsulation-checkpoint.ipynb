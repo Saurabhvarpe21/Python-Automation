{
 "cells": [
  {
   "cell_type": "code",
   "execution_count": 6,
   "id": "d38b10a9",
   "metadata": {},
   "outputs": [
    {
     "name": "stdout",
     "output_type": "stream",
     "text": [
      "This is INIT Function of StudentInfo class\n",
      "This is INIT Function of Name Class\n",
      "Student Roll Number is 90\n",
      "Student Roll Number is 45\n"
     ]
    }
   ],
   "source": [
    "class Name():  # Parent class\n",
    "    \n",
    "    def __init__(self, name):\n",
    "        self.name = name     # Instance Variable\n",
    "        print('This is INIT Function of Name Class')\n",
    "        \n",
    "    def student_roll_number(self):\n",
    "        print('Student Roll Number is 45')\n",
    "        \n",
    "class StudentInfo(Name): # child class\n",
    "    \n",
    "    def __init__(self, name, roll_number, age, marks):\n",
    "        print('This is INIT Function of StudentInfo class')\n",
    "        super().__init__(name)   # calling init function of parent class\n",
    "        \n",
    "        self.roll_number = roll_number\n",
    "        self.age = age\n",
    "        self.marks = marks\n",
    "        \n",
    "        \n",
    "    def student_roll_number(self):\n",
    "        print('Student Roll Number is 90')\n",
    "        \n",
    "    def student_age(self):\n",
    "        Name.student_roll_number(self)\n",
    "    \n",
    "    \n",
    "stud_obj = StudentInfo('Ayan', 75561, 21, '72%')\n",
    "stud_obj.student_roll_number()\n",
    "stud_obj.student_age()"
   ]
  },
  {
   "cell_type": "code",
   "execution_count": null,
   "id": "43cc9174",
   "metadata": {},
   "outputs": [],
   "source": [
    "When there are same functions in both parent and child class it is called as overriding method.\n",
    "When this happens function in child class will execute"
   ]
  },
  {
   "cell_type": "markdown",
   "id": "437b0665",
   "metadata": {},
   "source": [
    "# Encapsulation"
   ]
  },
  {
   "cell_type": "code",
   "execution_count": null,
   "id": "d414c44b",
   "metadata": {},
   "outputs": [],
   "source": [
    "Used to restrict the access of variables and methods from outside the class\n",
    "\n",
    "Protecting data drom modification/ to prevent accidental changes/modification"
   ]
  },
  {
   "cell_type": "code",
   "execution_count": 9,
   "id": "b35928e3",
   "metadata": {},
   "outputs": [
    {
     "name": "stdout",
     "output_type": "stream",
     "text": [
      "Pune\n",
      "Location is : Mumbai\n"
     ]
    }
   ],
   "source": [
    "class ClassName():\n",
    "    city = 'Pune'\n",
    "    \n",
    "    def location(self):\n",
    "        print('Location is :', self.city)\n",
    "        \n",
    "        \n",
    "obj = ClassName()\n",
    "print(obj.city)   # variable\n",
    "obj.city = 'Mumbai'   # Modifying data from outside of the class\n",
    "obj.location()"
   ]
  },
  {
   "cell_type": "code",
   "execution_count": 14,
   "id": "b6577beb",
   "metadata": {},
   "outputs": [
    {
     "name": "stdout",
     "output_type": "stream",
     "text": [
      "Test Class INIT Function\n",
      "Pune\n",
      "City name is : Mumbai\n",
      "State name is : Maharashtra\n"
     ]
    }
   ],
   "source": [
    "class TestClass():\n",
    "    class_var1 = 100\n",
    "    \n",
    "    def __init__(self):\n",
    "        print('Test Class INIT Function')\n",
    "        self.city = 'Pune'\n",
    "        self.state = 'Maharashtra'\n",
    "        \n",
    "        \n",
    "    def display(self):\n",
    "        print('City name is :', self.city)\n",
    "        print('State name is :', self.state)\n",
    "        \n",
    "        \n",
    "obj = TestClass()\n",
    "print(obj.city)\n",
    "obj.city = 'Mumbai'   # updating value of coty variable\n",
    "obj.display()"
   ]
  },
  {
   "cell_type": "code",
   "execution_count": 15,
   "id": "ed516f4b",
   "metadata": {},
   "outputs": [
    {
     "name": "stdout",
     "output_type": "stream",
     "text": [
      "Test Class INIT Function\n",
      "City name is : Bangalore\n",
      "State name is : Karnataka\n"
     ]
    }
   ],
   "source": [
    "class TestClass():\n",
    "    class_var1 = 100\n",
    "    \n",
    "    def __init__(self):\n",
    "        print('Test Class INIT Function')\n",
    "        self.city = 'Pune'\n",
    "        self.state = 'Maharashtra'\n",
    "        \n",
    "        \n",
    "    def display(self):\n",
    "        print('City name is :', self.city)\n",
    "        print('State name is :', self.state)\n",
    "        \n",
    "        \n",
    "obj = TestClass()\n",
    "obj.city= 'Bangalore'   # updating value of city variable\n",
    "obj.state = 'Karnataka' # updating value of state variable\n",
    "obj.display()"
   ]
  },
  {
   "cell_type": "code",
   "execution_count": 16,
   "id": "f9da911c",
   "metadata": {},
   "outputs": [
    {
     "name": "stdout",
     "output_type": "stream",
     "text": [
      "Test Class INIT Function\n",
      "City name is : Bangalore\n",
      "State name is : Karnataka\n"
     ]
    }
   ],
   "source": [
    "class TestClass():\n",
    "    class_var1 = 100\n",
    "    \n",
    "    def __init__(self):\n",
    "        print('Test Class INIT Function')\n",
    "        self.__city = 'Pune'          # Private instance variable\n",
    "        self.__state = 'Maharashtra'  # Private instance variable\n",
    "        self.country = 'India'        # Public instance variable\n",
    "        \n",
    "        \n",
    "    def display(self):\n",
    "        print('City name is :', self.city)\n",
    "        print('State name is :', self.state)\n",
    "        \n",
    "        \n",
    "obj = TestClass()\n",
    "obj.city= 'Bangalore'   # updating value of city variable\n",
    "obj.state = 'Karnataka' # updating value of state variable\n",
    "obj.display()"
   ]
  },
  {
   "cell_type": "code",
   "execution_count": 17,
   "id": "65580d6b",
   "metadata": {},
   "outputs": [
    {
     "name": "stdout",
     "output_type": "stream",
     "text": [
      "Test Class INIT Function\n",
      "City name is : Pune\n",
      "State name is : Maharashtra\n"
     ]
    }
   ],
   "source": [
    "class TestClass():\n",
    "    __class_var1 = 100                # Private Class Var\n",
    "    \n",
    "    def __init__(self):\n",
    "        print('Test Class INIT Function')\n",
    "        x = 200                       # local var\n",
    "        self.__city = 'Pune'          # Private instance variable\n",
    "        self.__state = 'Maharashtra'  # Private instance variable\n",
    "        self.country = 'India'        # Public instance variable\n",
    "        \n",
    "        \n",
    "    def display(self):\n",
    "        print('City name is :', self.__city)\n",
    "        print('State name is :', self.__state)\n",
    "        \n",
    "        \n",
    "obj = TestClass()\n",
    "obj.__city= 'Bangalore'   # updating value of city variable\n",
    "obj.__state = 'Karnataka' # updating value of state variable\n",
    "obj.display()"
   ]
  },
  {
   "cell_type": "code",
   "execution_count": 21,
   "id": "e000620f",
   "metadata": {},
   "outputs": [
    {
     "name": "stdout",
     "output_type": "stream",
     "text": [
      "Test Class INIT Function\n",
      "City name is : Pune\n",
      "State name is : Maharashtra\n"
     ]
    },
    {
     "data": {
      "text/plain": [
       "500"
      ]
     },
     "execution_count": 21,
     "metadata": {},
     "output_type": "execute_result"
    }
   ],
   "source": [
    "class TestClass():\n",
    "    __class_var1 = 100                # Private Class Var\n",
    "    class_var2 = 300                  # Public Class Var\n",
    "    def __init__(self):\n",
    "        print('Test Class INIT Function')\n",
    "        x = 200                       # local var\n",
    "        self.__city = 'Pune'          # Private instance variable\n",
    "        self.__state = 'Maharashtra'  # Private instance variable\n",
    "        self.country = 'India'        # Public instance variable\n",
    "        \n",
    "        \n",
    "    def display(self):\n",
    "        print('City name is :', self.__city)\n",
    "        print('State name is :', self.__state)\n",
    "        \n",
    "        \n",
    "obj = TestClass()\n",
    "obj.__city= 'Bangalore'   # updating value of city variable\n",
    "obj.__state = 'Karnataka' # updating value of state variable\n",
    "obj.display()\n",
    "obj.__class_var1 = 3454678\n",
    "obj.class_var2 = 500\n",
    "obj.class_var2"
   ]
  },
  {
   "cell_type": "code",
   "execution_count": 23,
   "id": "d9dda455",
   "metadata": {},
   "outputs": [
    {
     "name": "stdout",
     "output_type": "stream",
     "text": [
      "Test Class INIT Function\n",
      "This is My method1\n",
      "This is My method2\n"
     ]
    }
   ],
   "source": [
    "class TestClass():\n",
    "    __class_var1 = 100                # Private Class Var\n",
    "    class_var2 = 300                  # Public Class Var\n",
    "    def __init__(self):\n",
    "        print('Test Class INIT Function')\n",
    "        x = 200                       # local var\n",
    "        self.__city = 'Pune'          # Private instance variable\n",
    "        self.__state = 'Maharashtra'  # Private instance variable\n",
    "        self.country = 'India'        # Public instance variable\n",
    "        \n",
    "    def my_method1(self):             # Public Method\n",
    "        print('This is My method1')\n",
    "        \n",
    "    def my_method2(self):             # Public Method\n",
    "        print('This is My method2')\n",
    "        \n",
    "    def display(self):\n",
    "        print('City name is :', self.__city)\n",
    "        print('State name is :', self.__state)\n",
    "        \n",
    "        \n",
    "obj = TestClass()\n",
    "obj.my_method1()\n",
    "obj.my_method2()"
   ]
  },
  {
   "cell_type": "code",
   "execution_count": 26,
   "id": "51a5c915",
   "metadata": {},
   "outputs": [
    {
     "name": "stdout",
     "output_type": "stream",
     "text": [
      "Test Class INIT Function\n",
      "This is My method1\n",
      "__class_var1 is : 100\n"
     ]
    }
   ],
   "source": [
    "class TestClass():\n",
    "    __class_var1 = 100                # Private Class Var\n",
    "    class_var2 = 300                  # Public Class Var\n",
    "    def __init__(self):\n",
    "        print('Test Class INIT Function')\n",
    "        x = 200                       # local var\n",
    "        self.__city = 'Pune'          # Private instance variable\n",
    "        self.__state = 'Maharashtra'  # Private instance variable\n",
    "        self.country = 'India'        # Public instance variable\n",
    "        \n",
    "    def my_method1(self):             # Public Method\n",
    "        print('This is My method1')\n",
    "        print('__class_var1 is :', self.__class_var1)\n",
    "        \n",
    "    def my_method2(self):             # Public Method\n",
    "        print('This is My method2')\n",
    "        \n",
    "    def display(self):\n",
    "        print('City name is :', self.__city)\n",
    "        print('State name is :', self.__state)\n",
    "        \n",
    "        \n",
    "obj = TestClass()\n",
    "obj.my_method1()\n",
    "# obj.my_method2()"
   ]
  },
  {
   "cell_type": "code",
   "execution_count": 28,
   "id": "c571a757",
   "metadata": {},
   "outputs": [
    {
     "name": "stdout",
     "output_type": "stream",
     "text": [
      "Employee Name : Nidhi\n",
      "Company Name : TCS\n"
     ]
    }
   ],
   "source": [
    "class EmployeeDetails():\n",
    "    company_name = 'TCS'\n",
    "    \n",
    "    def __init__(self, name ):\n",
    "        self.name = name    \n",
    "        \n",
    "    def emp_details(self):\n",
    "        print('Employee Name :', self.name)\n",
    "        print('Company Name :', self.company_name)\n",
    "        \n",
    "emp_obj = EmployeeDetails('Nidhi')\n",
    "emp_obj.emp_details()"
   ]
  },
  {
   "cell_type": "code",
   "execution_count": 29,
   "id": "a3243f5c",
   "metadata": {},
   "outputs": [
    {
     "name": "stdout",
     "output_type": "stream",
     "text": [
      "Employee Name : Nidhi\n",
      "Company Name : Accenture\n"
     ]
    }
   ],
   "source": [
    "class EmployeeDetails():\n",
    "    company_name = 'TCS'\n",
    "    \n",
    "    def __init__(self, name ):\n",
    "        self.name = name    \n",
    "        \n",
    "    def emp_details(self):\n",
    "        print('Employee Name :', self.name)\n",
    "        print('Company Name :', self.company_name)\n",
    "        \n",
    "emp_obj = EmployeeDetails('Nidhi')\n",
    "emp_obj.company_name = 'Accenture'\n",
    "emp_obj.emp_details()"
   ]
  },
  {
   "cell_type": "code",
   "execution_count": 14,
   "id": "6aab08ce",
   "metadata": {},
   "outputs": [
    {
     "name": "stdout",
     "output_type": "stream",
     "text": [
      "Employee Name : Nidhi\n"
     ]
    }
   ],
   "source": [
    "class EmployeeDetails():\n",
    "    __company_name = 'TCS'   # Private class var\n",
    "    \n",
    "    def __init__(self, name ):\n",
    "        self.name = name    \n",
    "        \n",
    "    def emp_details(self):\n",
    "        print('Employee Name :', self.name)\n",
    "        print('Company Name :', self.__company_name)\n",
    "        \n",
    "emp_obj = EmployeeDetails('Nidhi')\n",
    "emp_obj.__company_name = 'Accenture'  # We can not modify private var\n",
    "emp_obj.emp_details()"
   ]
  },
  {
   "cell_type": "code",
   "execution_count": 31,
   "id": "6d9acf53",
   "metadata": {},
   "outputs": [
    {
     "name": "stdout",
     "output_type": "stream",
     "text": [
      "Employee Name : Arshit\n",
      "Company Name : TCS\n"
     ]
    }
   ],
   "source": [
    "class EmployeeDetails():\n",
    "    __company_name = 'TCS'   # Private class var\n",
    "    \n",
    "    def __init__(self, name ):\n",
    "        self.name = name    \n",
    "        \n",
    "    def emp_details(self):\n",
    "        print('Employee Name :', self.name)\n",
    "        print('Company Name :', self.__company_name)\n",
    "        \n",
    "emp_obj = EmployeeDetails('Nidhi')\n",
    "emp_obj.name = 'Arshit'\n",
    "emp_obj.__company_name = 'Accenture'  # We can not modify private var\n",
    "emp_obj.emp_details()"
   ]
  },
  {
   "cell_type": "code",
   "execution_count": 32,
   "id": "21a442b9",
   "metadata": {},
   "outputs": [
    {
     "name": "stdout",
     "output_type": "stream",
     "text": [
      "Employee Name : Nidhi\n",
      "Company Name : TCS\n"
     ]
    }
   ],
   "source": [
    "class EmployeeDetails():\n",
    "    __company_name = 'TCS'   # Private class var\n",
    "    \n",
    "    def __init__(self, name ):\n",
    "        self.__name = name    # Private Instance var\n",
    "        \n",
    "    def emp_details(self):\n",
    "        print('Employee Name :', self.__name)\n",
    "        print('Company Name :', self.__company_name)\n",
    "        \n",
    "emp_obj = EmployeeDetails('Nidhi')\n",
    "emp_obj.__name = 'Arshit'\n",
    "emp_obj.__company_name = 'Accenture'  # We can not modify private var\n",
    "emp_obj.emp_details()"
   ]
  },
  {
   "cell_type": "code",
   "execution_count": 34,
   "id": "001d7be2",
   "metadata": {},
   "outputs": [
    {
     "name": "stdout",
     "output_type": "stream",
     "text": [
      "Employee Name : Nidhi\n",
      "Company Name : TCS\n"
     ]
    }
   ],
   "source": [
    "class EmployeeDetails():\n",
    "    __company_name = 'TCS'   # Private class var\n",
    "    \n",
    "    def __init__(self, name , emp_id):\n",
    "        self.__name = name    # Private Instance var\n",
    "        self.emp_id = emp_id  # Public Instance Var\n",
    "        \n",
    "    def __employee_id(self):  # Private Method\n",
    "        print('Employee Id Number is :', self.emp_id)\n",
    "        \n",
    "    def emp_details(self):\n",
    "        print('Employee Name :', self.__name)\n",
    "        print('Company Name :', self.__company_name)\n",
    "        \n",
    "emp_obj = EmployeeDetails('Nidhi', 'TCS123')\n",
    "emp_obj.__company_name = 'Accenture'  # We can not modify private var\n",
    "emp_obj.emp_details()"
   ]
  },
  {
   "cell_type": "code",
   "execution_count": null,
   "id": "d4076e02",
   "metadata": {},
   "outputs": [],
   "source": []
  },
  {
   "cell_type": "code",
   "execution_count": 35,
   "id": "b32767d3",
   "metadata": {},
   "outputs": [
    {
     "ename": "AttributeError",
     "evalue": "'EmployeeDetails' object has no attribute '__company_name'",
     "output_type": "error",
     "traceback": [
      "\u001b[1;31m---------------------------------------------------------------------------\u001b[0m",
      "\u001b[1;31mAttributeError\u001b[0m                            Traceback (most recent call last)",
      "\u001b[1;32m<ipython-input-35-126e5b7f9635>\u001b[0m in \u001b[0;36m<module>\u001b[1;34m\u001b[0m\n\u001b[0;32m     14\u001b[0m \u001b[1;33m\u001b[0m\u001b[0m\n\u001b[0;32m     15\u001b[0m \u001b[0memp_obj\u001b[0m \u001b[1;33m=\u001b[0m \u001b[0mEmployeeDetails\u001b[0m\u001b[1;33m(\u001b[0m\u001b[1;34m'Nidhi'\u001b[0m\u001b[1;33m,\u001b[0m \u001b[1;34m'TCS123'\u001b[0m\u001b[1;33m)\u001b[0m\u001b[1;33m\u001b[0m\u001b[1;33m\u001b[0m\u001b[0m\n\u001b[1;32m---> 16\u001b[1;33m \u001b[0memp_obj\u001b[0m\u001b[1;33m.\u001b[0m\u001b[0m__company_name\u001b[0m\u001b[1;33m\u001b[0m\u001b[1;33m\u001b[0m\u001b[0m\n\u001b[0m",
      "\u001b[1;31mAttributeError\u001b[0m: 'EmployeeDetails' object has no attribute '__company_name'"
     ]
    }
   ],
   "source": [
    "class EmployeeDetails():\n",
    "    __company_name = 'TCS'   # Private class var\n",
    "    \n",
    "    def __init__(self, name , emp_id):\n",
    "        self.__name = name    # Private Instance var\n",
    "        self.emp_id = emp_id  # Public Instance Var\n",
    "        \n",
    "    def __employee_id(self):  # Private Method\n",
    "        print('Employee Id Number is :', self.emp_id)\n",
    "        \n",
    "    def emp_details(self):\n",
    "        print('Employee Name :', self.__name)\n",
    "        print('Company Name :', self.__company_name)\n",
    "        \n",
    "emp_obj = EmployeeDetails('Nidhi', 'TCS123')\n",
    "emp_obj.__company_name "
   ]
  },
  {
   "cell_type": "code",
   "execution_count": 36,
   "id": "b1406ffd",
   "metadata": {},
   "outputs": [
    {
     "ename": "AttributeError",
     "evalue": "'EmployeeDetails' object has no attribute '__employee_id'",
     "output_type": "error",
     "traceback": [
      "\u001b[1;31m---------------------------------------------------------------------------\u001b[0m",
      "\u001b[1;31mAttributeError\u001b[0m                            Traceback (most recent call last)",
      "\u001b[1;32m<ipython-input-36-8ee497abd533>\u001b[0m in \u001b[0;36m<module>\u001b[1;34m\u001b[0m\n\u001b[0;32m     14\u001b[0m \u001b[1;33m\u001b[0m\u001b[0m\n\u001b[0;32m     15\u001b[0m \u001b[0memp_obj\u001b[0m \u001b[1;33m=\u001b[0m \u001b[0mEmployeeDetails\u001b[0m\u001b[1;33m(\u001b[0m\u001b[1;34m'Nidhi'\u001b[0m\u001b[1;33m,\u001b[0m \u001b[1;34m'TCS123'\u001b[0m\u001b[1;33m)\u001b[0m\u001b[1;33m\u001b[0m\u001b[1;33m\u001b[0m\u001b[0m\n\u001b[1;32m---> 16\u001b[1;33m \u001b[0memp_obj\u001b[0m\u001b[1;33m.\u001b[0m\u001b[0m__employee_id\u001b[0m\u001b[1;33m(\u001b[0m\u001b[1;33m)\u001b[0m\u001b[1;33m\u001b[0m\u001b[1;33m\u001b[0m\u001b[0m\n\u001b[0m",
      "\u001b[1;31mAttributeError\u001b[0m: 'EmployeeDetails' object has no attribute '__employee_id'"
     ]
    }
   ],
   "source": [
    "class EmployeeDetails():\n",
    "    __company_name = 'TCS'   # Private class var\n",
    "    \n",
    "    def __init__(self, name , emp_id):\n",
    "        self.__name = name    # Private Instance var\n",
    "        self.emp_id = emp_id  # Public Instance Var\n",
    "        \n",
    "    def __employee_id(self):  # Private Method\n",
    "        print('Employee Id Number is :', self.emp_id)\n",
    "        \n",
    "    def emp_details(self):\n",
    "        print('Employee Name :', self.__name)\n",
    "        print('Company Name :', self.__company_name)\n",
    "        \n",
    "emp_obj = EmployeeDetails('Nidhi', 'TCS123')\n",
    "emp_obj.__employee_id()"
   ]
  },
  {
   "cell_type": "code",
   "execution_count": 37,
   "id": "60459725",
   "metadata": {},
   "outputs": [
    {
     "data": {
      "text/plain": [
       "'CYBAGE'"
      ]
     },
     "execution_count": 37,
     "metadata": {},
     "output_type": "execute_result"
    }
   ],
   "source": [
    "class EmployeeDetails():\n",
    "    __company_name = 'TCS'   # Private class var\n",
    "    \n",
    "    def __init__(self, name , emp_id):\n",
    "        self.__name = name    # Private Instance var\n",
    "        self.emp_id = emp_id  # Public Instance Var\n",
    "        \n",
    "    def __employee_id(self):  # Private Method\n",
    "        print('Employee Id Number is :', self.emp_id)\n",
    "        \n",
    "    def emp_details(self):\n",
    "        print('Employee Name :', self.__name)\n",
    "        print('Company Name :', self.__company_name)\n",
    "        \n",
    "emp_obj = EmployeeDetails('Nidhi', 'TCS123')\n",
    "emp_obj.__company_name = 'CYBAGE'\n",
    "emp_obj.__company_name"
   ]
  },
  {
   "cell_type": "code",
   "execution_count": 1,
   "id": "4a5f637a",
   "metadata": {},
   "outputs": [
    {
     "ename": "AttributeError",
     "evalue": "'EmployeeDetails' object has no attribute '__company_name'",
     "output_type": "error",
     "traceback": [
      "\u001b[1;31m---------------------------------------------------------------------------\u001b[0m",
      "\u001b[1;31mAttributeError\u001b[0m                            Traceback (most recent call last)",
      "\u001b[1;32m<ipython-input-1-126e5b7f9635>\u001b[0m in \u001b[0;36m<module>\u001b[1;34m\u001b[0m\n\u001b[0;32m     14\u001b[0m \u001b[1;33m\u001b[0m\u001b[0m\n\u001b[0;32m     15\u001b[0m \u001b[0memp_obj\u001b[0m \u001b[1;33m=\u001b[0m \u001b[0mEmployeeDetails\u001b[0m\u001b[1;33m(\u001b[0m\u001b[1;34m'Nidhi'\u001b[0m\u001b[1;33m,\u001b[0m \u001b[1;34m'TCS123'\u001b[0m\u001b[1;33m)\u001b[0m\u001b[1;33m\u001b[0m\u001b[1;33m\u001b[0m\u001b[0m\n\u001b[1;32m---> 16\u001b[1;33m \u001b[0memp_obj\u001b[0m\u001b[1;33m.\u001b[0m\u001b[0m__company_name\u001b[0m\u001b[1;33m\u001b[0m\u001b[1;33m\u001b[0m\u001b[0m\n\u001b[0m",
      "\u001b[1;31mAttributeError\u001b[0m: 'EmployeeDetails' object has no attribute '__company_name'"
     ]
    }
   ],
   "source": [
    "class EmployeeDetails():\n",
    "    __company_name = 'TCS'   # Private class var\n",
    "    \n",
    "    def __init__(self, name , emp_id):\n",
    "        self.__name = name    # Private Instance var\n",
    "        self.emp_id = emp_id  # Public Instance Var\n",
    "        \n",
    "    def __employee_id(self):  # Private Method\n",
    "        print('Employee Id Number is :', self.emp_id)\n",
    "        \n",
    "    def emp_details(self):\n",
    "        print('Employee Name :', self.__name)\n",
    "        print('Company Name :', self.__company_name)\n",
    "        \n",
    "emp_obj = EmployeeDetails('Nidhi', 'TCS123')\n",
    "emp_obj.__company_name"
   ]
  },
  {
   "cell_type": "code",
   "execution_count": 2,
   "id": "fdfe4552",
   "metadata": {},
   "outputs": [
    {
     "ename": "AttributeError",
     "evalue": "'EmployeeDetails' object has no attribute '__employee_id'",
     "output_type": "error",
     "traceback": [
      "\u001b[1;31m---------------------------------------------------------------------------\u001b[0m",
      "\u001b[1;31mAttributeError\u001b[0m                            Traceback (most recent call last)",
      "\u001b[1;32m<ipython-input-2-6b2dc235c6db>\u001b[0m in \u001b[0;36m<module>\u001b[1;34m\u001b[0m\n\u001b[0;32m     14\u001b[0m \u001b[1;33m\u001b[0m\u001b[0m\n\u001b[0;32m     15\u001b[0m \u001b[0memp_obj\u001b[0m \u001b[1;33m=\u001b[0m \u001b[0mEmployeeDetails\u001b[0m\u001b[1;33m(\u001b[0m\u001b[1;34m'Nidhi'\u001b[0m\u001b[1;33m,\u001b[0m \u001b[1;34m'TCS123'\u001b[0m\u001b[1;33m)\u001b[0m\u001b[1;33m\u001b[0m\u001b[1;33m\u001b[0m\u001b[0m\n\u001b[1;32m---> 16\u001b[1;33m \u001b[0memp_obj\u001b[0m\u001b[1;33m.\u001b[0m\u001b[0m__employee_id\u001b[0m\u001b[1;33m\u001b[0m\u001b[1;33m\u001b[0m\u001b[0m\n\u001b[0m",
      "\u001b[1;31mAttributeError\u001b[0m: 'EmployeeDetails' object has no attribute '__employee_id'"
     ]
    }
   ],
   "source": [
    "class EmployeeDetails():\n",
    "    __company_name = 'TCS'   # Private class var\n",
    "    \n",
    "    def __init__(self, name , emp_id):\n",
    "        self.__name = name    # Private Instance var\n",
    "        self.emp_id = emp_id  # Public Instance Var\n",
    "        \n",
    "    def __employee_id(self):  # Private Method\n",
    "        print('Employee Id Number is :', self.emp_id)\n",
    "        \n",
    "    def emp_details(self):\n",
    "        print('Employee Name :', self.__name)\n",
    "        print('Company Name :', self.__company_name)\n",
    "        \n",
    "emp_obj = EmployeeDetails('Nidhi', 'TCS123')\n",
    "emp_obj.__employee_id"
   ]
  },
  {
   "cell_type": "markdown",
   "id": "594d0073",
   "metadata": {},
   "source": [
    "## Name Mangling"
   ]
  },
  {
   "cell_type": "code",
   "execution_count": null,
   "id": "05c0be0d",
   "metadata": {},
   "outputs": [],
   "source": [
    "To access /modify Private variables and methods from outside of the class\n",
    "\n",
    "syntax :\n",
    "    Obj._ClassName__privatemethod\n",
    "    Obj._ClassName__privatevariable"
   ]
  },
  {
   "cell_type": "code",
   "execution_count": 9,
   "id": "65961c23",
   "metadata": {},
   "outputs": [
    {
     "name": "stdout",
     "output_type": "stream",
     "text": [
      "Employee Name : Nidhi\n",
      "Company Name : Cognizant\n",
      "Employee Id Number is : TCS123\n"
     ]
    }
   ],
   "source": [
    "class EmployeeDetails():\n",
    "    __company_name = 'TCS'   # Private class var\n",
    "    \n",
    "    def __init__(self, name , emp_id):\n",
    "        self.__name = name    # Private Instance var\n",
    "        self.emp_id = emp_id  # Public Instance Var\n",
    "        \n",
    "    def __employee_id(self):  # Private Method\n",
    "        print('Employee Id Number is :', self.emp_id)\n",
    "        \n",
    "    def emp_details(self):\n",
    "        print('Employee Name :', self.__name)\n",
    "        print('Company Name :', self.__company_name)\n",
    "        self.__employee_id()\n",
    "        \n",
    "emp_obj = EmployeeDetails('Nidhi', 'TCS123')\n",
    "\n",
    "\n",
    "# Modifying data by using Name Mangling method\n",
    "emp_obj._EmployeeDetails__company_name = 'Cognizant'\n",
    "emp_obj.emp_details()"
   ]
  },
  {
   "cell_type": "code",
   "execution_count": 10,
   "id": "ca5e6531",
   "metadata": {},
   "outputs": [
    {
     "ename": "AttributeError",
     "evalue": "'EmployeeDetails' object has no attribute '__company_name'",
     "output_type": "error",
     "traceback": [
      "\u001b[1;31m---------------------------------------------------------------------------\u001b[0m",
      "\u001b[1;31mAttributeError\u001b[0m                            Traceback (most recent call last)",
      "\u001b[1;32m<ipython-input-10-f29ea18b4b5f>\u001b[0m in \u001b[0;36m<module>\u001b[1;34m\u001b[0m\n\u001b[1;32m----> 1\u001b[1;33m \u001b[0memp_obj\u001b[0m\u001b[1;33m.\u001b[0m\u001b[0m__company_name\u001b[0m\u001b[1;33m\u001b[0m\u001b[1;33m\u001b[0m\u001b[0m\n\u001b[0m",
      "\u001b[1;31mAttributeError\u001b[0m: 'EmployeeDetails' object has no attribute '__company_name'"
     ]
    }
   ],
   "source": [
    "emp_obj.__company_name"
   ]
  },
  {
   "cell_type": "code",
   "execution_count": 12,
   "id": "61532728",
   "metadata": {},
   "outputs": [
    {
     "name": "stdout",
     "output_type": "stream",
     "text": [
      "Employee Id Number is : TCS123\n"
     ]
    }
   ],
   "source": [
    "emp_obj._EmployeeDetails__employee_id()"
   ]
  },
  {
   "cell_type": "code",
   "execution_count": 13,
   "id": "e0ff17e5",
   "metadata": {},
   "outputs": [
    {
     "data": {
      "text/plain": [
       "'Cognizant'"
      ]
     },
     "execution_count": 13,
     "metadata": {},
     "output_type": "execute_result"
    }
   ],
   "source": [
    "emp_obj._EmployeeDetails__company_name"
   ]
  },
  {
   "cell_type": "code",
   "execution_count": null,
   "id": "0c6350f8",
   "metadata": {},
   "outputs": [],
   "source": []
  },
  {
   "cell_type": "code",
   "execution_count": 19,
   "id": "2b756302",
   "metadata": {},
   "outputs": [
    {
     "name": "stdout",
     "output_type": "stream",
     "text": [
      "TCS\n",
      "Employee Name : Nidhi\n",
      "Company Name : TCS\n"
     ]
    }
   ],
   "source": [
    "class EmployeeDetails():\n",
    "    __company_name = 'TCS'   # Private class var\n",
    "    \n",
    "    def __init__(self, name ):\n",
    "        self.name = name    \n",
    "        \n",
    "    print(__company_name)\n",
    "    def emp_details(self):\n",
    "        print('Employee Name :', self.name)\n",
    "        print('Company Name :', self.__company_name)\n",
    "        \n",
    "emp_obj = EmployeeDetails('Nidhi')\n",
    "emp_obj.__company_name = 'Accenture'  # We can not modify private var\n",
    "emp_obj.emp_details()"
   ]
  },
  {
   "cell_type": "code",
   "execution_count": 18,
   "id": "d96b7a93",
   "metadata": {},
   "outputs": [
    {
     "data": {
      "text/plain": [
       "'Accenture'"
      ]
     },
     "execution_count": 18,
     "metadata": {},
     "output_type": "execute_result"
    }
   ],
   "source": [
    "emp_obj.__company_name"
   ]
  },
  {
   "cell_type": "code",
   "execution_count": 2,
   "id": "43dd61d4",
   "metadata": {},
   "outputs": [
    {
     "name": "stdout",
     "output_type": "stream",
     "text": [
      "TCS\n"
     ]
    },
    {
     "ename": "AttributeError",
     "evalue": "'EmployeeDetails' object has no attribute '__company_name'",
     "output_type": "error",
     "traceback": [
      "\u001b[1;31m---------------------------------------------------------------------------\u001b[0m",
      "\u001b[1;31mAttributeError\u001b[0m                            Traceback (most recent call last)",
      "\u001b[1;32m<ipython-input-2-5040b68759d6>\u001b[0m in \u001b[0;36m<module>\u001b[1;34m\u001b[0m\n\u001b[0;32m     11\u001b[0m \u001b[1;33m\u001b[0m\u001b[0m\n\u001b[0;32m     12\u001b[0m \u001b[0memp_obj\u001b[0m \u001b[1;33m=\u001b[0m \u001b[0mEmployeeDetails\u001b[0m\u001b[1;33m(\u001b[0m\u001b[1;34m'Nidhi'\u001b[0m\u001b[1;33m)\u001b[0m\u001b[1;33m\u001b[0m\u001b[1;33m\u001b[0m\u001b[0m\n\u001b[1;32m---> 13\u001b[1;33m \u001b[0memp_obj\u001b[0m\u001b[1;33m.\u001b[0m\u001b[0m__company_name\u001b[0m\u001b[1;33m\u001b[0m\u001b[1;33m\u001b[0m\u001b[0m\n\u001b[0m",
      "\u001b[1;31mAttributeError\u001b[0m: 'EmployeeDetails' object has no attribute '__company_name'"
     ]
    }
   ],
   "source": [
    "class EmployeeDetails():\n",
    "    __company_name = 'TCS'   # Private class var\n",
    "    \n",
    "    def __init__(self, name ):\n",
    "        self.name = name    \n",
    "        \n",
    "    print(__company_name)\n",
    "    def emp_details(self):\n",
    "        print('Employee Name :', self.name)\n",
    "        print('Company Name :', self.__company_name)\n",
    "        \n",
    "emp_obj = EmployeeDetails('Nidhi')\n",
    "emp_obj.__company_name "
   ]
  },
  {
   "cell_type": "code",
   "execution_count": 3,
   "id": "dcfbcd4c",
   "metadata": {},
   "outputs": [
    {
     "data": {
      "text/plain": [
       "'Accenture'"
      ]
     },
     "execution_count": 3,
     "metadata": {},
     "output_type": "execute_result"
    }
   ],
   "source": [
    "emp_obj.__company_name  = 'Accenture'  # We can not modify private var\n",
    "emp_obj.__company_name"
   ]
  },
  {
   "cell_type": "code",
   "execution_count": 4,
   "id": "0cb0ce5d",
   "metadata": {},
   "outputs": [
    {
     "name": "stdout",
     "output_type": "stream",
     "text": [
      "Employee Name : Nidhi\n",
      "Company Name : TCS\n"
     ]
    }
   ],
   "source": [
    "emp_obj.emp_details()"
   ]
  },
  {
   "cell_type": "code",
   "execution_count": null,
   "id": "e2d9f2b9",
   "metadata": {},
   "outputs": [],
   "source": []
  },
  {
   "cell_type": "code",
   "execution_count": 7,
   "id": "a2776ff7",
   "metadata": {},
   "outputs": [
    {
     "name": "stdout",
     "output_type": "stream",
     "text": [
      "Employee Name : Nidhi\n",
      "Company Name : Cognizant\n",
      "Employee Id Number is : TCS123\n",
      "Designation is : Data Scientist\n"
     ]
    }
   ],
   "source": [
    "class EmployeeDetails():\n",
    "    __company_name = 'TCS'   # Private class var\n",
    "    \n",
    "    def __init__(self, name , emp_id, salary):\n",
    "        self.__name = name    # Private Instance var\n",
    "        self.emp_id = emp_id  # Public Instance Var\n",
    "        self.salary = salary\n",
    "        \n",
    "    def __employee_id(self):  # Private Method\n",
    "        print('Employee Id Number is :', self.emp_id)\n",
    "        self.designation = 'Data Scientist'\n",
    "        \n",
    "    def __empl_salary(self):\n",
    "        print('Employee Salary :',self.salary)\n",
    "        \n",
    "    def emp_details(self):\n",
    "        print('Employee Name :', self.__name)\n",
    "        print('Company Name :', self.__company_name)\n",
    "        self.__employee_id()\n",
    "        print('Designation is :', self.designation)\n",
    "        \n",
    "emp_obj = EmployeeDetails('Nidhi', 'TCS123', 80000)\n",
    "\n",
    "\n",
    "# Modifying data by using Name Mangling method\n",
    "emp_obj._EmployeeDetails__company_name = 'Cognizant'\n",
    "\n",
    "emp_obj.designation = \"ML Engineer\"\n",
    "emp_obj.emp_details()"
   ]
  },
  {
   "cell_type": "code",
   "execution_count": 8,
   "id": "53ca3907",
   "metadata": {},
   "outputs": [
    {
     "name": "stdout",
     "output_type": "stream",
     "text": [
      "Employee Id Number is : TCS123\n",
      "Employee Salary : 80000\n",
      "Employee Name : Nidhi\n",
      "Company Name : Cognizant\n",
      "Employee Id Number is : TCS123\n",
      "Designation is : Data Scientist\n"
     ]
    }
   ],
   "source": [
    "class EmployeeDetails():\n",
    "    __company_name = 'TCS'   # Private class var\n",
    "    \n",
    "    def __init__(self, name , emp_id, salary):\n",
    "        self.__name = name    # Private Instance var\n",
    "        self.emp_id = emp_id  # Public Instance Var\n",
    "        self.salary = salary\n",
    "        \n",
    "    def __employee_id(self):  # Private Method\n",
    "        print('Employee Id Number is :', self.emp_id)\n",
    "        self.designation = 'Data Scientist'\n",
    "        \n",
    "    def __empl_salary(self):\n",
    "        print('Employee Salary :',self.salary)\n",
    "        \n",
    "    def emp_details(self):\n",
    "        print('Employee Name :', self.__name)\n",
    "        print('Company Name :', self.__company_name)\n",
    "        self.__employee_id()\n",
    "        print('Designation is :', self.designation)\n",
    "        \n",
    "emp_obj = EmployeeDetails('Nidhi', 'TCS123', 80000)\n",
    "\n",
    "\n",
    "# Modifying data by using Name Mangling method\n",
    "emp_obj._EmployeeDetails__company_name = 'Cognizant'\n",
    "\n",
    "# Access method by using Name Mangling\n",
    "emp_obj._EmployeeDetails__employee_id()\n",
    "emp_obj.designation = \"ML Engineer\"   ##  can not modify instance var in private method\n",
    "emp_obj._EmployeeDetails__empl_salary()\n",
    "emp_obj.emp_details()"
   ]
  },
  {
   "cell_type": "code",
   "execution_count": 9,
   "id": "73833aaf",
   "metadata": {},
   "outputs": [
    {
     "data": {
      "text/plain": [
       "['_EmployeeDetails__company_name',\n",
       " '_EmployeeDetails__empl_salary',\n",
       " '_EmployeeDetails__employee_id',\n",
       " '_EmployeeDetails__name',\n",
       " '__class__',\n",
       " '__delattr__',\n",
       " '__dict__',\n",
       " '__dir__',\n",
       " '__doc__',\n",
       " '__eq__',\n",
       " '__format__',\n",
       " '__ge__',\n",
       " '__getattribute__',\n",
       " '__gt__',\n",
       " '__hash__',\n",
       " '__init__',\n",
       " '__init_subclass__',\n",
       " '__le__',\n",
       " '__lt__',\n",
       " '__module__',\n",
       " '__ne__',\n",
       " '__new__',\n",
       " '__reduce__',\n",
       " '__reduce_ex__',\n",
       " '__repr__',\n",
       " '__setattr__',\n",
       " '__sizeof__',\n",
       " '__str__',\n",
       " '__subclasshook__',\n",
       " '__weakref__',\n",
       " 'designation',\n",
       " 'emp_details',\n",
       " 'emp_id',\n",
       " 'salary']"
      ]
     },
     "execution_count": 9,
     "metadata": {},
     "output_type": "execute_result"
    }
   ],
   "source": [
    "dir(emp_obj)"
   ]
  },
  {
   "cell_type": "code",
   "execution_count": 12,
   "id": "2dfffe47",
   "metadata": {},
   "outputs": [
    {
     "data": {
      "text/plain": [
       "{'_EmployeeDetails__name': 'Nidhi',\n",
       " 'emp_id': 'TCS123',\n",
       " 'salary': 80000,\n",
       " '_EmployeeDetails__company_name': 'Cognizant',\n",
       " 'designation': 'Data Scientist'}"
      ]
     },
     "execution_count": 12,
     "metadata": {},
     "output_type": "execute_result"
    }
   ],
   "source": [
    "emp_obj.__dict__"
   ]
  },
  {
   "cell_type": "code",
   "execution_count": null,
   "id": "e89a4c95",
   "metadata": {},
   "outputs": [],
   "source": []
  },
  {
   "cell_type": "code",
   "execution_count": null,
   "id": "9a78942e",
   "metadata": {},
   "outputs": [],
   "source": []
  },
  {
   "cell_type": "code",
   "execution_count": null,
   "id": "b3b9a19f",
   "metadata": {},
   "outputs": [],
   "source": []
  },
  {
   "cell_type": "code",
   "execution_count": null,
   "id": "a9e44d34",
   "metadata": {},
   "outputs": [],
   "source": []
  },
  {
   "cell_type": "code",
   "execution_count": null,
   "id": "ca60efbc",
   "metadata": {},
   "outputs": [],
   "source": []
  },
  {
   "cell_type": "code",
   "execution_count": null,
   "id": "9c63d253",
   "metadata": {},
   "outputs": [],
   "source": []
  },
  {
   "cell_type": "code",
   "execution_count": null,
   "id": "7f91e142",
   "metadata": {},
   "outputs": [],
   "source": []
  },
  {
   "cell_type": "code",
   "execution_count": null,
   "id": "e6ab365d",
   "metadata": {},
   "outputs": [],
   "source": []
  },
  {
   "cell_type": "code",
   "execution_count": null,
   "id": "55845231",
   "metadata": {},
   "outputs": [],
   "source": []
  },
  {
   "cell_type": "code",
   "execution_count": null,
   "id": "e7559123",
   "metadata": {},
   "outputs": [],
   "source": []
  },
  {
   "cell_type": "code",
   "execution_count": null,
   "id": "e91fba80",
   "metadata": {},
   "outputs": [],
   "source": []
  },
  {
   "cell_type": "code",
   "execution_count": null,
   "id": "418fa1fd",
   "metadata": {},
   "outputs": [],
   "source": []
  },
  {
   "cell_type": "code",
   "execution_count": null,
   "id": "e6c48b10",
   "metadata": {},
   "outputs": [],
   "source": []
  },
  {
   "cell_type": "code",
   "execution_count": null,
   "id": "a019c549",
   "metadata": {},
   "outputs": [],
   "source": []
  },
  {
   "cell_type": "code",
   "execution_count": null,
   "id": "79601cd2",
   "metadata": {},
   "outputs": [],
   "source": []
  },
  {
   "cell_type": "code",
   "execution_count": null,
   "id": "56f10a01",
   "metadata": {},
   "outputs": [],
   "source": []
  },
  {
   "cell_type": "code",
   "execution_count": null,
   "id": "8ae002de",
   "metadata": {},
   "outputs": [],
   "source": []
  },
  {
   "cell_type": "code",
   "execution_count": null,
   "id": "08b37280",
   "metadata": {},
   "outputs": [],
   "source": []
  },
  {
   "cell_type": "code",
   "execution_count": null,
   "id": "7b364aa9",
   "metadata": {},
   "outputs": [],
   "source": []
  },
  {
   "cell_type": "code",
   "execution_count": null,
   "id": "ef262006",
   "metadata": {},
   "outputs": [],
   "source": []
  },
  {
   "cell_type": "code",
   "execution_count": null,
   "id": "fa5f2c07",
   "metadata": {},
   "outputs": [],
   "source": []
  },
  {
   "cell_type": "code",
   "execution_count": null,
   "id": "1146e387",
   "metadata": {},
   "outputs": [],
   "source": []
  },
  {
   "cell_type": "code",
   "execution_count": null,
   "id": "40e48393",
   "metadata": {},
   "outputs": [],
   "source": []
  },
  {
   "cell_type": "code",
   "execution_count": null,
   "id": "f017a842",
   "metadata": {},
   "outputs": [],
   "source": []
  },
  {
   "cell_type": "code",
   "execution_count": null,
   "id": "c7a99669",
   "metadata": {},
   "outputs": [],
   "source": []
  },
  {
   "cell_type": "code",
   "execution_count": null,
   "id": "3de316e2",
   "metadata": {},
   "outputs": [],
   "source": []
  },
  {
   "cell_type": "code",
   "execution_count": null,
   "id": "3af4d9be",
   "metadata": {},
   "outputs": [],
   "source": []
  },
  {
   "cell_type": "code",
   "execution_count": null,
   "id": "16c97445",
   "metadata": {},
   "outputs": [],
   "source": []
  },
  {
   "cell_type": "code",
   "execution_count": null,
   "id": "efd0dd32",
   "metadata": {},
   "outputs": [],
   "source": []
  },
  {
   "cell_type": "code",
   "execution_count": null,
   "id": "9523d34c",
   "metadata": {},
   "outputs": [],
   "source": []
  },
  {
   "cell_type": "code",
   "execution_count": null,
   "id": "4cd0f688",
   "metadata": {},
   "outputs": [],
   "source": []
  },
  {
   "cell_type": "code",
   "execution_count": null,
   "id": "9f98acb0",
   "metadata": {},
   "outputs": [],
   "source": []
  },
  {
   "cell_type": "code",
   "execution_count": null,
   "id": "824767c5",
   "metadata": {},
   "outputs": [],
   "source": []
  },
  {
   "cell_type": "code",
   "execution_count": null,
   "id": "d4d16d6c",
   "metadata": {},
   "outputs": [],
   "source": []
  },
  {
   "cell_type": "code",
   "execution_count": null,
   "id": "6965e69a",
   "metadata": {},
   "outputs": [],
   "source": []
  },
  {
   "cell_type": "code",
   "execution_count": null,
   "id": "7c833e05",
   "metadata": {},
   "outputs": [],
   "source": []
  },
  {
   "cell_type": "code",
   "execution_count": null,
   "id": "aa1aa599",
   "metadata": {},
   "outputs": [],
   "source": []
  },
  {
   "cell_type": "code",
   "execution_count": null,
   "id": "76197463",
   "metadata": {},
   "outputs": [],
   "source": []
  },
  {
   "cell_type": "code",
   "execution_count": null,
   "id": "20197d06",
   "metadata": {},
   "outputs": [],
   "source": []
  },
  {
   "cell_type": "code",
   "execution_count": null,
   "id": "cd7ca408",
   "metadata": {},
   "outputs": [],
   "source": []
  },
  {
   "cell_type": "code",
   "execution_count": null,
   "id": "ed865cbf",
   "metadata": {},
   "outputs": [],
   "source": []
  },
  {
   "cell_type": "code",
   "execution_count": null,
   "id": "823c67b3",
   "metadata": {},
   "outputs": [],
   "source": []
  },
  {
   "cell_type": "code",
   "execution_count": null,
   "id": "2502bb64",
   "metadata": {},
   "outputs": [],
   "source": []
  },
  {
   "cell_type": "code",
   "execution_count": null,
   "id": "0b289ff8",
   "metadata": {},
   "outputs": [],
   "source": []
  },
  {
   "cell_type": "code",
   "execution_count": null,
   "id": "0c834296",
   "metadata": {},
   "outputs": [],
   "source": []
  }
 ],
 "metadata": {
  "kernelspec": {
   "display_name": "Python 3",
   "language": "python",
   "name": "python3"
  },
  "language_info": {
   "codemirror_mode": {
    "name": "ipython",
    "version": 3
   },
   "file_extension": ".py",
   "mimetype": "text/x-python",
   "name": "python",
   "nbconvert_exporter": "python",
   "pygments_lexer": "ipython3",
   "version": "3.8.8"
  }
 },
 "nbformat": 4,
 "nbformat_minor": 5
}
