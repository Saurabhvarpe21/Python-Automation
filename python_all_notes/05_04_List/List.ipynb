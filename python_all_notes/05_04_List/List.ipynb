{
 "cells": [
  {
   "cell_type": "markdown",
   "id": "c4c5d13f",
   "metadata": {},
   "source": [
    "## Mutability"
   ]
  },
  {
   "cell_type": "code",
   "execution_count": 3,
   "id": "2fac43ad",
   "metadata": {},
   "outputs": [
    {
     "data": {
      "text/plain": [
       "['Siddharth', 'Vaibhav', 'Neeta', 'Nitin', 'Nilesh']"
      ]
     },
     "execution_count": 3,
     "metadata": {},
     "output_type": "execute_result"
    }
   ],
   "source": [
    "students = ['Sagar', 'Vaibhav', 'Neeta', 'Nitin', 'Nilesh']\n",
    "\n",
    "students[0] = 'Siddharth'\n",
    "\n",
    "students"
   ]
  },
  {
   "cell_type": "code",
   "execution_count": 4,
   "id": "700f99f8",
   "metadata": {},
   "outputs": [
    {
     "data": {
      "text/plain": [
       "['Sagar', 'Vaibhav', 'Neeta', 'Nitin', 'Siddharth']"
      ]
     },
     "execution_count": 4,
     "metadata": {},
     "output_type": "execute_result"
    }
   ],
   "source": [
    "students = ['Sagar', 'Vaibhav', 'Neeta', 'Nitin', 'Nilesh']\n",
    "\n",
    "students[-1] = 'Siddharth'\n",
    "\n",
    "students"
   ]
  },
  {
   "cell_type": "code",
   "execution_count": 5,
   "id": "f1e08f47",
   "metadata": {},
   "outputs": [
    {
     "ename": "IndexError",
     "evalue": "list assignment index out of range",
     "output_type": "error",
     "traceback": [
      "\u001b[1;31m---------------------------------------------------------------------------\u001b[0m",
      "\u001b[1;31mIndexError\u001b[0m                                Traceback (most recent call last)",
      "\u001b[1;32m<ipython-input-5-12b4475d3641>\u001b[0m in \u001b[0;36m<module>\u001b[1;34m\u001b[0m\n\u001b[0;32m      1\u001b[0m \u001b[0mstudents\u001b[0m \u001b[1;33m=\u001b[0m \u001b[1;33m[\u001b[0m\u001b[1;34m'Sagar'\u001b[0m\u001b[1;33m,\u001b[0m \u001b[1;34m'Vaibhav'\u001b[0m\u001b[1;33m,\u001b[0m \u001b[1;34m'Neeta'\u001b[0m\u001b[1;33m,\u001b[0m \u001b[1;34m'Nitin'\u001b[0m\u001b[1;33m,\u001b[0m \u001b[1;34m'Nilesh'\u001b[0m\u001b[1;33m]\u001b[0m\u001b[1;33m\u001b[0m\u001b[1;33m\u001b[0m\u001b[0m\n\u001b[0;32m      2\u001b[0m \u001b[1;33m\u001b[0m\u001b[0m\n\u001b[1;32m----> 3\u001b[1;33m \u001b[0mstudents\u001b[0m\u001b[1;33m[\u001b[0m\u001b[1;36m10\u001b[0m\u001b[1;33m]\u001b[0m \u001b[1;33m=\u001b[0m \u001b[1;34m'Siddharth'\u001b[0m\u001b[1;33m\u001b[0m\u001b[1;33m\u001b[0m\u001b[0m\n\u001b[0m\u001b[0;32m      4\u001b[0m \u001b[1;33m\u001b[0m\u001b[0m\n\u001b[0;32m      5\u001b[0m \u001b[0mstudents\u001b[0m\u001b[1;33m\u001b[0m\u001b[1;33m\u001b[0m\u001b[0m\n",
      "\u001b[1;31mIndexError\u001b[0m: list assignment index out of range"
     ]
    }
   ],
   "source": [
    "students = ['Sagar', 'Vaibhav', 'Neeta', 'Nitin', 'Nilesh']\n",
    "\n",
    "students[10] = 'Siddharth'\n",
    "\n",
    "students "
   ]
  },
  {
   "cell_type": "markdown",
   "id": "8fad409b",
   "metadata": {},
   "source": [
    "## Create List"
   ]
  },
  {
   "cell_type": "code",
   "execution_count": 6,
   "id": "3673e5be",
   "metadata": {},
   "outputs": [
    {
     "data": {
      "text/plain": [
       "list"
      ]
     },
     "execution_count": 6,
     "metadata": {},
     "output_type": "execute_result"
    }
   ],
   "source": [
    "list1 = []  # list initialization\n",
    "type(list1)"
   ]
  },
  {
   "cell_type": "markdown",
   "id": "51429099",
   "metadata": {},
   "source": [
    "## 1. append()"
   ]
  },
  {
   "cell_type": "code",
   "execution_count": null,
   "id": "1b59f2f5",
   "metadata": {},
   "outputs": [],
   "source": [
    "list1.append(value)"
   ]
  },
  {
   "cell_type": "code",
   "execution_count": 7,
   "id": "05b916f8",
   "metadata": {},
   "outputs": [
    {
     "data": {
      "text/plain": [
       "[20, 30, 40, 50, 100]"
      ]
     },
     "execution_count": 7,
     "metadata": {},
     "output_type": "execute_result"
    }
   ],
   "source": [
    "numbers = [20,30,40,50]\n",
    "numbers.append(100)\n",
    "numbers"
   ]
  },
  {
   "cell_type": "code",
   "execution_count": 8,
   "id": "26053d10",
   "metadata": {},
   "outputs": [
    {
     "data": {
      "text/plain": [
       "[20, 30, 40, 50, 'python']"
      ]
     },
     "execution_count": 8,
     "metadata": {},
     "output_type": "execute_result"
    }
   ],
   "source": [
    "    numbers = [20,30,40,50]\n",
    "numbers.append('python')\n",
    "numbers"
   ]
  },
  {
   "cell_type": "code",
   "execution_count": 1,
   "id": "306702ba",
   "metadata": {},
   "outputs": [
    {
     "data": {
      "text/plain": [
       "[20, 30, 40, 50, 'python', 'Data Science']"
      ]
     },
     "execution_count": 1,
     "metadata": {},
     "output_type": "execute_result"
    }
   ],
   "source": [
    "list2 = [20,30,40,50]\n",
    "list2.append('python') #[20,30,40,50,'python']\n",
    "list2.append('Data Science')\n",
    "list2"
   ]
  },
  {
   "cell_type": "code",
   "execution_count": 2,
   "id": "57e1bfc8",
   "metadata": {},
   "outputs": [
    {
     "data": {
      "text/plain": [
       "[20, 30, 40, 'ML', 50, 'python', 'Data Science']"
      ]
     },
     "execution_count": 2,
     "metadata": {},
     "output_type": "execute_result"
    }
   ],
   "source": [
    "list2.insert(3,'ML')\n",
    "list2"
   ]
  },
  {
   "cell_type": "code",
   "execution_count": 11,
   "id": "34fbe527",
   "metadata": {},
   "outputs": [
    {
     "data": {
      "text/plain": [
       "[20, 30, 40, 50, 'python', 'Data Science', 'Data Science']"
      ]
     },
     "execution_count": 11,
     "metadata": {},
     "output_type": "execute_result"
    }
   ],
   "source": [
    "list2.append('Data Science')\n",
    "list2"
   ]
  },
  {
   "cell_type": "code",
   "execution_count": 12,
   "id": "f79d00ad",
   "metadata": {},
   "outputs": [
    {
     "name": "stdout",
     "output_type": "stream",
     "text": [
      "Original List: [20, 30, 40, 50]\n",
      "[20, 30, 40, 50, 'python']\n"
     ]
    },
    {
     "data": {
      "text/plain": [
       "[20, 30, 40, 50, 'python', 'Data Science']"
      ]
     },
     "execution_count": 12,
     "metadata": {},
     "output_type": "execute_result"
    }
   ],
   "source": [
    "list2 = [20,30,40,50]\n",
    "print('Original List:',list2)\n",
    "\n",
    "list2.append('python') #[20,30,40,50,'python']\n",
    "print(list2)\n",
    "\n",
    "list2.append('Data Science')\n",
    "list2"
   ]
  },
  {
   "cell_type": "code",
   "execution_count": 7,
   "id": "fccde086",
   "metadata": {},
   "outputs": [
    {
     "name": "stdout",
     "output_type": "stream",
     "text": [
      "[1, 2, 3, 4, 5, 6, 7, 8, 9, 10]\n"
     ]
    }
   ],
   "source": [
    "squares = [] \n",
    "for i,j in enumerate(range(1,11)):\n",
    "    \n",
    "    \n",
    "    squares.insert(i,j)\n",
    "    \n",
    "print(squares)"
   ]
  },
  {
   "cell_type": "code",
   "execution_count": 14,
   "id": "95169aa3",
   "metadata": {},
   "outputs": [
    {
     "name": "stdout",
     "output_type": "stream",
     "text": [
      "[1, 4, 9, 16, 25, 36, 49, 64, 81, 100]\n"
     ]
    }
   ],
   "source": [
    "squares = []\n",
    "for i in range(1,11):\n",
    "    squares.append(i**2)\n",
    "    \n",
    "print(squares)"
   ]
  },
  {
   "cell_type": "code",
   "execution_count": 15,
   "id": "841a8090",
   "metadata": {},
   "outputs": [
    {
     "name": "stdout",
     "output_type": "stream",
     "text": [
      "[1]\n",
      "[1, 4]\n",
      "[1, 4, 9]\n",
      "[1, 4, 9, 16]\n",
      "[1, 4, 9, 16, 25]\n",
      "[1, 4, 9, 16, 25, 36]\n",
      "[1, 4, 9, 16, 25, 36, 49]\n",
      "[1, 4, 9, 16, 25, 36, 49, 64]\n",
      "[1, 4, 9, 16, 25, 36, 49, 64, 81]\n",
      "[1, 4, 9, 16, 25, 36, 49, 64, 81, 100]\n"
     ]
    }
   ],
   "source": [
    "squares = []\n",
    "for i in range(1,11):\n",
    "    squares.append(i**2)\n",
    "    print(squares)"
   ]
  },
  {
   "cell_type": "code",
   "execution_count": 17,
   "id": "e6ada9f3",
   "metadata": {},
   "outputs": [
    {
     "name": "stdout",
     "output_type": "stream",
     "text": [
      "[1]\n",
      "[1, 4]\n",
      "[1, 4, 9]\n",
      "[1, 4, 9, 16]\n",
      "[1, 4, 9, 16, 25]\n",
      "[1, 4, 9, 16, 25, 36]\n",
      "[1, 4, 9, 16, 25, 36, 49]\n",
      "[1, 4, 9, 16, 25, 36, 49, 64]\n",
      "[1, 4, 9, 16, 25, 36, 49, 64, 81]\n",
      "[1, 4, 9, 16, 25, 36, 49, 64, 81, 100]\n",
      "Final List: [1, 4, 9, 16, 25, 36, 49, 64, 81, 100]\n"
     ]
    }
   ],
   "source": [
    "squares = []\n",
    "for i in range(1,11):\n",
    "    squares.append(i**2)\n",
    "    print(squares)  \n",
    "\n",
    "print('Final List:',squares)"
   ]
  },
  {
   "cell_type": "code",
   "execution_count": 18,
   "id": "e6c8b887",
   "metadata": {},
   "outputs": [
    {
     "name": "stdout",
     "output_type": "stream",
     "text": [
      "[1]\n",
      "[1, 8]\n",
      "[1, 8, 27]\n",
      "[1, 8, 27, 64]\n",
      "[1, 8, 27, 64, 125]\n",
      "[1, 8, 27, 64, 125, 216]\n",
      "[1, 8, 27, 64, 125, 216, 343]\n",
      "[1, 8, 27, 64, 125, 216, 343, 512]\n",
      "[1, 8, 27, 64, 125, 216, 343, 512, 729]\n",
      "[1, 8, 27, 64, 125, 216, 343, 512, 729, 1000]\n",
      "Final List: [1, 8, 27, 64, 125, 216, 343, 512, 729, 1000]\n"
     ]
    }
   ],
   "source": [
    "cube = []\n",
    "for i in range(1,11):\n",
    "    cube.append(i**3)\n",
    "    print(cube)  \n",
    "\n",
    "print('Final List:',cube)"
   ]
  },
  {
   "cell_type": "code",
   "execution_count": 25,
   "id": "48e9f7fe",
   "metadata": {},
   "outputs": [
    {
     "name": "stdout",
     "output_type": "stream",
     "text": [
      "iteration 1 started\n",
      "[1]\n",
      "iteration 1 is over\n",
      "********************\n",
      "iteration 2 started\n",
      "[1, 2]\n",
      "iteration 2 is over\n",
      "********************\n",
      "iteration 3 started\n",
      "[1, 2, 3]\n",
      "iteration 3 is over\n",
      "********************\n",
      "iteration 4 started\n",
      "[1, 2, 3, 4]\n",
      "iteration 4 is over\n",
      "********************\n"
     ]
    }
   ],
   "source": [
    "A= []\n",
    "\n",
    "for i in range(1,5):\n",
    "    print(f'iteration {i} started')\n",
    "    A.append(i)\n",
    "    print(A)\n",
    "    print(f'iteration {i} is over')\n",
    "    print('*'*20)\n",
    "    \n",
    "    "
   ]
  },
  {
   "cell_type": "code",
   "execution_count": 27,
   "id": "3e7a1dfe",
   "metadata": {},
   "outputs": [
    {
     "data": {
      "text/plain": [
       "[2, 3, 4, 5, 6, [10, 20]]"
      ]
     },
     "execution_count": 27,
     "metadata": {},
     "output_type": "execute_result"
    }
   ],
   "source": [
    "list1 = [2,3,4,5,6]\n",
    "list1.append([10,20])\n",
    "list1"
   ]
  },
  {
   "cell_type": "code",
   "execution_count": 28,
   "id": "2a9c7fc9",
   "metadata": {},
   "outputs": [
    {
     "data": {
      "text/plain": [
       "6"
      ]
     },
     "execution_count": 28,
     "metadata": {},
     "output_type": "execute_result"
    }
   ],
   "source": [
    "len(list1)"
   ]
  },
  {
   "cell_type": "code",
   "execution_count": 30,
   "id": "4329b248",
   "metadata": {},
   "outputs": [
    {
     "data": {
      "text/plain": [
       "20"
      ]
     },
     "execution_count": 30,
     "metadata": {},
     "output_type": "execute_result"
    }
   ],
   "source": [
    "list1[-1][-1]"
   ]
  },
  {
   "cell_type": "code",
   "execution_count": 31,
   "id": "dfba6094",
   "metadata": {},
   "outputs": [
    {
     "data": {
      "text/plain": [
       "[2, 3, 4, 5, 6, 50]"
      ]
     },
     "execution_count": 31,
     "metadata": {},
     "output_type": "execute_result"
    }
   ],
   "source": [
    "x = 50\n",
    "\n",
    "list1 = [2,3,4,5,6]\n",
    "list1.append(x)\n",
    "list1"
   ]
  },
  {
   "cell_type": "code",
   "execution_count": 33,
   "id": "958bdacb",
   "metadata": {},
   "outputs": [
    {
     "name": "stdout",
     "output_type": "stream",
     "text": [
      "[1]\n",
      "[1, 4]\n",
      "[1, 4, 9]\n",
      "[1, 4, 9, 16]\n",
      "[1, 4, 9, 16, 25]\n",
      "[1, 4, 9, 16, 25]\n",
      "[1, 4, 9, 16, 25, 36]\n",
      "[1, 4, 9, 16, 25, 36, 49]\n",
      "[1, 4, 9, 16, 25, 36, 49, 64]\n",
      "[1, 4, 9, 16, 25, 36, 49, 64, 81]\n",
      "[1, 4, 9, 16, 25, 36, 49, 64, 81, 100]\n"
     ]
    }
   ],
   "source": [
    "squares = []\n",
    "\n",
    "for i in range(1,11):\n",
    "    squares.append(i**2)\n",
    "    print(squares)\n",
    "    if i == 5:\n",
    "        print(squares)"
   ]
  },
  {
   "cell_type": "code",
   "execution_count": 34,
   "id": "d59029c3",
   "metadata": {},
   "outputs": [
    {
     "name": "stdout",
     "output_type": "stream",
     "text": [
      "[1, 4, 9, 16, 25]\n"
     ]
    }
   ],
   "source": [
    "squares = []\n",
    "\n",
    "for i in range(1,11):\n",
    "    squares.append(i**2)\n",
    "    if i == 5:\n",
    "        print(squares)"
   ]
  },
  {
   "cell_type": "code",
   "execution_count": 35,
   "id": "19ee26a0",
   "metadata": {},
   "outputs": [
    {
     "name": "stdout",
     "output_type": "stream",
     "text": [
      "[4, 16, 36, 64, 100]\n"
     ]
    }
   ],
   "source": [
    "squares = []\n",
    "\n",
    "for i in range(1,11):\n",
    "    if i%2==0:\n",
    "        squares.append(i**2)\n",
    "        \n",
    "print(squares)"
   ]
  },
  {
   "cell_type": "code",
   "execution_count": 39,
   "id": "dc4509d8",
   "metadata": {},
   "outputs": [
    {
     "name": "stdout",
     "output_type": "stream",
     "text": [
      "City _names : ['Pune'] 1\n",
      "City _names : ['Pune', 'Mumbai'] 2\n",
      "City _names : ['Pune', 'Mumbai', 'Chennai'] 3\n",
      "City _names : ['Pune', 'Mumbai', 'Chennai', 'Bangalore'] 4\n"
     ]
    }
   ],
   "source": [
    "city_names = ['Pune']\n",
    "print('City _names :', city_names, len(city_names))\n",
    "\n",
    "city_names.append('Mumbai')\n",
    "print('City _names :', city_names, len(city_names))\n",
    "\n",
    "city_names.append('Chennai')\n",
    "print('City _names :', city_names, len(city_names))\n",
    "\n",
    "city = 'Bangalore'\n",
    "city_names.append(city)\n",
    "print('City _names :', city_names, len(city_names))"
   ]
  },
  {
   "cell_type": "markdown",
   "id": "ef3eaab6",
   "metadata": {},
   "source": [
    "## 2. Extend"
   ]
  },
  {
   "cell_type": "code",
   "execution_count": 40,
   "id": "92152d31",
   "metadata": {},
   "outputs": [
    {
     "name": "stdout",
     "output_type": "stream",
     "text": [
      "list1: [10, 20, 30, 40, 50]\n",
      "list2: [100, 200, 300, 400, 500]\n",
      "list3: [10, 20, 30, 40, 50, 100, 200, 300, 400, 500]\n"
     ]
    }
   ],
   "source": [
    "list1 = [10,20,30,40,50]\n",
    "list2 = [100,200,300,400,500]\n",
    "\n",
    "list3 = list1 + list2\n",
    "print('list1:',list1)\n",
    "print('list2:',list2)\n",
    "print('list3:',list3)"
   ]
  },
  {
   "cell_type": "code",
   "execution_count": 10,
   "id": "20e4e60f",
   "metadata": {},
   "outputs": [
    {
     "name": "stdout",
     "output_type": "stream",
     "text": [
      "list1: [10, 20, 30, 40, 50, '1', '0', '0', ',', '2', '0', '0', ',', '3', '0', '0', ',', '4', '0', '0', ',', '5', '0', '0']\n",
      "list2: 100,200,300,400,500\n"
     ]
    }
   ],
   "source": [
    "list1 = [10,20,30,40,50]\n",
    "list2 = \"100,200,300,400,500\"\n",
    "\n",
    "list1.extend(list2)\n",
    "\n",
    "print('list1:',list1)\n",
    "print('list2:',list2)"
   ]
  },
  {
   "cell_type": "code",
   "execution_count": 42,
   "id": "7dfa6208",
   "metadata": {},
   "outputs": [
    {
     "name": "stdout",
     "output_type": "stream",
     "text": [
      "list1: [10, 20, 30, 40, 50]\n",
      "list2: [100, 200, 300, 400, 500, 10, 20, 30, 40, 50]\n"
     ]
    }
   ],
   "source": [
    "list1 = [10,20,30,40,50]\n",
    "list2 = [100,200,300,400,500]\n",
    "\n",
    "list2.extend(list1)\n",
    "\n",
    "print('list1:',list1)\n",
    "print('list2:',list2)"
   ]
  },
  {
   "cell_type": "code",
   "execution_count": 43,
   "id": "46bc7a61",
   "metadata": {},
   "outputs": [
    {
     "name": "stdout",
     "output_type": "stream",
     "text": [
      "city_names1 : ['Pune', 'Mumbai', 'Nagpur', ['Bangalore', 'Chennai', 'Hyderabad']] 4\n",
      "city_names2 : ['Bangalore', 'Chennai', 'Hyderabad'] 3\n"
     ]
    }
   ],
   "source": [
    "city_names1 = ['Pune', 'Mumbai', 'Nagpur']\n",
    "city_names2 = ['Bangalore', 'Chennai', 'Hyderabad']\n",
    "city_names1.append(city_names2)\n",
    "\n",
    "print('city_names1 :', city_names1, len(city_names1))\n",
    "print('city_names2 :', city_names2, len(city_names2))"
   ]
  },
  {
   "cell_type": "code",
   "execution_count": 44,
   "id": "d5af26a1",
   "metadata": {},
   "outputs": [
    {
     "name": "stdout",
     "output_type": "stream",
     "text": [
      "city_names1 : ['Pune', 'Mumbai', 'Nagpur', 'Bangalore', 'Chennai', 'Hyderabad'] 6\n",
      "city_names2 : ['Bangalore', 'Chennai', 'Hyderabad'] 3\n"
     ]
    }
   ],
   "source": [
    "city_names1 = ['Pune', 'Mumbai', 'Nagpur']\n",
    "city_names2 = ['Bangalore', 'Chennai', 'Hyderabad']\n",
    "city_names1.extend(city_names2)\n",
    "\n",
    "print('city_names1 :', city_names1, len(city_names1))\n",
    "print('city_names2 :', city_names2, len(city_names2))"
   ]
  },
  {
   "cell_type": "code",
   "execution_count": 45,
   "id": "15b16760",
   "metadata": {},
   "outputs": [
    {
     "name": "stdout",
     "output_type": "stream",
     "text": [
      "city_names1 : ['Pune', 'Mumbai', 'Nagpur'] 3\n",
      "city_names2 : ['Bangalore', 'Chennai', 'Hyderabad', 'Pune', 'Mumbai', 'Nagpur'] 6\n"
     ]
    }
   ],
   "source": [
    "city_names1 = ['Pune', 'Mumbai', 'Nagpur']\n",
    "city_names2 = ['Bangalore', 'Chennai', 'Hyderabad']\n",
    "city_names2.extend(city_names1)\n",
    "\n",
    "print('city_names1 :', city_names1, len(city_names1))\n",
    "print('city_names2 :', city_names2, len(city_names2))"
   ]
  },
  {
   "cell_type": "code",
   "execution_count": 46,
   "id": "02c84d59",
   "metadata": {},
   "outputs": [
    {
     "name": "stdout",
     "output_type": "stream",
     "text": [
      "['Pune', 'Mumbai', 'Nagpur', 'Bangalore', 'Chennai', 'Hyderabad']\n"
     ]
    }
   ],
   "source": [
    "city_names1 = ['Pune', 'Mumbai', 'Nagpur']\n",
    "city_names2 = ['Bangalore', 'Chennai', 'Hyderabad']\n",
    "\n",
    "for city in city_names2:\n",
    "    city_names1.append(city)\n",
    "    \n",
    "print(city_names1)"
   ]
  },
  {
   "cell_type": "markdown",
   "id": "bed1db1a",
   "metadata": {},
   "source": [
    "## 3. insert()"
   ]
  },
  {
   "cell_type": "code",
   "execution_count": null,
   "id": "eb5e3a98",
   "metadata": {},
   "outputs": [],
   "source": [
    "list1.insert(index, value)"
   ]
  },
  {
   "cell_type": "code",
   "execution_count": 47,
   "id": "bc7b3e1e",
   "metadata": {},
   "outputs": [
    {
     "data": {
      "text/plain": [
       "['Pune', 'Mumbai', 'Nagpur', 'Delhi']"
      ]
     },
     "execution_count": 47,
     "metadata": {},
     "output_type": "execute_result"
    }
   ],
   "source": [
    "city_names1 = ['Pune', 'Mumbai', 'Nagpur']\n",
    "\n",
    "city_names1.append('Delhi')\n",
    "city_names1"
   ]
  },
  {
   "cell_type": "code",
   "execution_count": 48,
   "id": "6a6e7812",
   "metadata": {},
   "outputs": [
    {
     "data": {
      "text/plain": [
       "['Pune', 'Delhi', 'Mumbai', 'Nagpur']"
      ]
     },
     "execution_count": 48,
     "metadata": {},
     "output_type": "execute_result"
    }
   ],
   "source": [
    "city_names1 = ['Pune', 'Mumbai', 'Nagpur']\n",
    "\n",
    "city_names1.insert(1,'Delhi')\n",
    "city_names1"
   ]
  },
  {
   "cell_type": "code",
   "execution_count": 49,
   "id": "eeea8d86",
   "metadata": {},
   "outputs": [
    {
     "data": {
      "text/plain": [
       "[500, 1, 2, 3, 4]"
      ]
     },
     "execution_count": 49,
     "metadata": {},
     "output_type": "execute_result"
    }
   ],
   "source": [
    "l1 = [1,2,3,4]\n",
    "l1.insert(0,500)\n",
    "l1"
   ]
  },
  {
   "cell_type": "code",
   "execution_count": 50,
   "id": "d67d38a9",
   "metadata": {},
   "outputs": [
    {
     "data": {
      "text/plain": [
       "[1, 2, [5, 6, 7, 8], 3, 4]"
      ]
     },
     "execution_count": 50,
     "metadata": {},
     "output_type": "execute_result"
    }
   ],
   "source": [
    "l1 = [1,2,3,4]\n",
    "l2 = [5,6,7,8]\n",
    "l1.insert(2,l2)\n",
    "l1"
   ]
  },
  {
   "cell_type": "code",
   "execution_count": 51,
   "id": "8e71442b",
   "metadata": {},
   "outputs": [
    {
     "data": {
      "text/plain": [
       "[1, 50, 2, 3, 4]"
      ]
     },
     "execution_count": 51,
     "metadata": {},
     "output_type": "execute_result"
    }
   ],
   "source": [
    "a = 50\n",
    "l1 = [1,2,3,4]\n",
    "l1.insert(1,a)\n",
    "l1"
   ]
  },
  {
   "cell_type": "markdown",
   "id": "eced904f",
   "metadata": {},
   "source": [
    "## Delete items from list"
   ]
  },
  {
   "cell_type": "code",
   "execution_count": null,
   "id": "9b2ab621",
   "metadata": {},
   "outputs": [],
   "source": [
    "1. remove # value\n",
    "2. pop    # index\n",
    "3. clear  # delete  all elements but empty list will be there\n",
    "4. del keyword # delete all"
   ]
  },
  {
   "cell_type": "markdown",
   "id": "309eaa1b",
   "metadata": {},
   "source": [
    "## 4. remove()"
   ]
  },
  {
   "cell_type": "code",
   "execution_count": null,
   "id": "d5867d9d",
   "metadata": {},
   "outputs": [],
   "source": [
    "list1.remove(item)"
   ]
  },
  {
   "cell_type": "code",
   "execution_count": 52,
   "id": "edcfb50c",
   "metadata": {},
   "outputs": [
    {
     "data": {
      "text/plain": [
       "[10, 20, 40]"
      ]
     },
     "execution_count": 52,
     "metadata": {},
     "output_type": "execute_result"
    }
   ],
   "source": [
    "list1 = [10,20,30,40]\n",
    "list1.remove(30)\n",
    "list1"
   ]
  },
  {
   "cell_type": "code",
   "execution_count": 64,
   "id": "866313fb",
   "metadata": {},
   "outputs": [
    {
     "data": {
      "text/plain": [
       "[20, 30, 40, 10, 20, 10]"
      ]
     },
     "execution_count": 64,
     "metadata": {},
     "output_type": "execute_result"
    }
   ],
   "source": [
    "list1 = [10,20,30,40,10,20,10]\n",
    "list1.remove(10)\n",
    "list1"
   ]
  },
  {
   "cell_type": "code",
   "execution_count": 53,
   "id": "ceb3395a",
   "metadata": {},
   "outputs": [
    {
     "data": {
      "text/plain": [
       "['Pune', 'Mumbai', 'Nagpur', 'Bangalore', 'Hyderabad']"
      ]
     },
     "execution_count": 53,
     "metadata": {},
     "output_type": "execute_result"
    }
   ],
   "source": [
    "city_names1 = ['Pune', 'Mumbai', 'Nagpur', 'Bangalore', 'Chennai', 'Hyderabad']\n",
    "city_names1.remove('Chennai')\n",
    "city_names1"
   ]
  },
  {
   "cell_type": "code",
   "execution_count": 54,
   "id": "0dba3875",
   "metadata": {},
   "outputs": [
    {
     "data": {
      "text/plain": [
       "['Pune', 'Nagpur', 'Bangalore', 'Hyderabad']"
      ]
     },
     "execution_count": 54,
     "metadata": {},
     "output_type": "execute_result"
    }
   ],
   "source": [
    "city_names1.remove('Mumbai')\n",
    "city_names1"
   ]
  },
  {
   "cell_type": "code",
   "execution_count": 55,
   "id": "29711e64",
   "metadata": {},
   "outputs": [
    {
     "data": {
      "text/plain": [
       "['Pune', 'Bangalore', 'Hyderabad']"
      ]
     },
     "execution_count": 55,
     "metadata": {},
     "output_type": "execute_result"
    }
   ],
   "source": [
    "city = 'Nagpur'\n",
    "city_names1.remove(city)\n",
    "city_names1"
   ]
  },
  {
   "cell_type": "code",
   "execution_count": 56,
   "id": "f6d823d3",
   "metadata": {},
   "outputs": [
    {
     "name": "stdout",
     "output_type": "stream",
     "text": [
      "Item deleted\n",
      "['Pune', 'Mumbai', 'Bangalore', 'Chennai', 'Hyderabad']\n"
     ]
    }
   ],
   "source": [
    "city = 'Nagpur'\n",
    "city_names1 = ['Pune', 'Mumbai', 'Nagpur', 'Bangalore', 'Chennai', 'Hyderabad']\n",
    "\n",
    "if city in city_names1:\n",
    "    city_names1.remove(city)\n",
    "    print('Item deleted')\n",
    "    \n",
    "else:\n",
    "    print('Item is not present in the list')\n",
    "    \n",
    "print(city_names1)"
   ]
  },
  {
   "cell_type": "code",
   "execution_count": 57,
   "id": "afe1d263",
   "metadata": {},
   "outputs": [
    {
     "name": "stdout",
     "output_type": "stream",
     "text": [
      "Item is not present in the list\n",
      "['Pune', 'Mumbai', 'Nagpur', 'Bangalore', 'Chennai', 'Hyderabad']\n"
     ]
    }
   ],
   "source": [
    "city = 'Jammu'\n",
    "city_names1 = ['Pune', 'Mumbai', 'Nagpur', 'Bangalore', 'Chennai', 'Hyderabad']\n",
    "\n",
    "if city in city_names1:\n",
    "    city_names1.remove(city)\n",
    "    print('Item deleted')\n",
    "    \n",
    "else:\n",
    "    print('Item is not present in the list')\n",
    "    \n",
    "print(city_names1)"
   ]
  },
  {
   "cell_type": "markdown",
   "id": "f41d9818",
   "metadata": {},
   "source": [
    "## 2. pop()"
   ]
  },
  {
   "cell_type": "code",
   "execution_count": null,
   "id": "7513930b",
   "metadata": {},
   "outputs": [],
   "source": [
    "list1.pop(index)\n",
    "list1.pop(-1)>> default"
   ]
  },
  {
   "cell_type": "code",
   "execution_count": 58,
   "id": "a22a814a",
   "metadata": {},
   "outputs": [
    {
     "data": {
      "text/plain": [
       "[10, 20, 30]"
      ]
     },
     "execution_count": 58,
     "metadata": {},
     "output_type": "execute_result"
    }
   ],
   "source": [
    "list1 = [10,20,30,40]\n",
    "list1.pop()\n",
    "list1"
   ]
  },
  {
   "cell_type": "code",
   "execution_count": 59,
   "id": "ea46d6f1",
   "metadata": {},
   "outputs": [
    {
     "data": {
      "text/plain": [
       "[10, 20, 40]"
      ]
     },
     "execution_count": 59,
     "metadata": {},
     "output_type": "execute_result"
    }
   ],
   "source": [
    "list1 = [10,20,30,40]\n",
    "list1.pop(2)\n",
    "list1"
   ]
  },
  {
   "cell_type": "code",
   "execution_count": 66,
   "id": "3b5498e8",
   "metadata": {},
   "outputs": [
    {
     "ename": "TypeError",
     "evalue": "'tuple' object cannot be interpreted as an integer",
     "output_type": "error",
     "traceback": [
      "\u001b[1;31m---------------------------------------------------------------------------\u001b[0m",
      "\u001b[1;31mTypeError\u001b[0m                                 Traceback (most recent call last)",
      "\u001b[1;32m<ipython-input-66-2c449f4409ae>\u001b[0m in \u001b[0;36m<module>\u001b[1;34m\u001b[0m\n\u001b[0;32m      1\u001b[0m \u001b[0mlist1\u001b[0m \u001b[1;33m=\u001b[0m \u001b[1;33m[\u001b[0m\u001b[1;36m10\u001b[0m\u001b[1;33m,\u001b[0m\u001b[1;36m20\u001b[0m\u001b[1;33m,\u001b[0m\u001b[1;36m30\u001b[0m\u001b[1;33m,\u001b[0m\u001b[1;36m40\u001b[0m\u001b[1;33m]\u001b[0m\u001b[1;33m\u001b[0m\u001b[1;33m\u001b[0m\u001b[0m\n\u001b[1;32m----> 2\u001b[1;33m \u001b[0mlist1\u001b[0m\u001b[1;33m.\u001b[0m\u001b[0mpop\u001b[0m\u001b[1;33m(\u001b[0m\u001b[1;33m(\u001b[0m\u001b[1;36m0\u001b[0m\u001b[1;33m,\u001b[0m\u001b[1;36m1\u001b[0m\u001b[1;33m)\u001b[0m\u001b[1;33m)\u001b[0m\u001b[1;33m\u001b[0m\u001b[1;33m\u001b[0m\u001b[0m\n\u001b[0m\u001b[0;32m      3\u001b[0m \u001b[0mlist1\u001b[0m\u001b[1;33m\u001b[0m\u001b[1;33m\u001b[0m\u001b[0m\n",
      "\u001b[1;31mTypeError\u001b[0m: 'tuple' object cannot be interpreted as an integer"
     ]
    }
   ],
   "source": [
    "list1 = [10,20,30,40]\n",
    "list1.pop((0,1))\n",
    "list1"
   ]
  },
  {
   "cell_type": "markdown",
   "id": "4ca7dfd9",
   "metadata": {},
   "source": [
    "## 3. Clear()"
   ]
  },
  {
   "cell_type": "code",
   "execution_count": 60,
   "id": "6bb731e9",
   "metadata": {},
   "outputs": [
    {
     "name": "stdout",
     "output_type": "stream",
     "text": [
      "[]\n"
     ]
    }
   ],
   "source": [
    "list1 = [10,20,30,40,50]\n",
    "list1.clear()\n",
    "print(list1)"
   ]
  },
  {
   "cell_type": "code",
   "execution_count": 61,
   "id": "b420fb7e",
   "metadata": {},
   "outputs": [
    {
     "name": "stdout",
     "output_type": "stream",
     "text": [
      "[10, 20, 30, 40, 50]\n",
      "[]\n"
     ]
    }
   ],
   "source": [
    "list1 = [10,20,30,40,50]\n",
    "print(list1)\n",
    "list1.clear()\n",
    "print(list1)"
   ]
  },
  {
   "cell_type": "markdown",
   "id": "2075786e",
   "metadata": {},
   "source": [
    "## 4. del keyword"
   ]
  },
  {
   "cell_type": "code",
   "execution_count": 63,
   "id": "a35b2c06",
   "metadata": {},
   "outputs": [
    {
     "name": "stdout",
     "output_type": "stream",
     "text": [
      "[10, 20, 30, 40, 50]\n"
     ]
    },
    {
     "ename": "NameError",
     "evalue": "name 'list1' is not defined",
     "output_type": "error",
     "traceback": [
      "\u001b[1;31m---------------------------------------------------------------------------\u001b[0m",
      "\u001b[1;31mNameError\u001b[0m                                 Traceback (most recent call last)",
      "\u001b[1;32m<ipython-input-63-92b4cdd70a53>\u001b[0m in \u001b[0;36m<module>\u001b[1;34m\u001b[0m\n\u001b[0;32m      2\u001b[0m \u001b[0mprint\u001b[0m\u001b[1;33m(\u001b[0m\u001b[0mlist1\u001b[0m\u001b[1;33m)\u001b[0m\u001b[1;33m\u001b[0m\u001b[1;33m\u001b[0m\u001b[0m\n\u001b[0;32m      3\u001b[0m \u001b[1;32mdel\u001b[0m \u001b[0mlist1\u001b[0m\u001b[1;33m\u001b[0m\u001b[1;33m\u001b[0m\u001b[0m\n\u001b[1;32m----> 4\u001b[1;33m \u001b[0mprint\u001b[0m\u001b[1;33m(\u001b[0m\u001b[0mlist1\u001b[0m\u001b[1;33m)\u001b[0m\u001b[1;33m\u001b[0m\u001b[1;33m\u001b[0m\u001b[0m\n\u001b[0m",
      "\u001b[1;31mNameError\u001b[0m: name 'list1' is not defined"
     ]
    }
   ],
   "source": [
    "list1 = [10,20,30,40,50]\n",
    "print(list1)\n",
    "del list1\n",
    "print(list1)"
   ]
  },
  {
   "cell_type": "code",
   "execution_count": 115,
   "id": "64bece41",
   "metadata": {},
   "outputs": [
    {
     "name": "stdout",
     "output_type": "stream",
     "text": [
      "6\n"
     ]
    }
   ],
   "source": [
    "a = 6\n",
    "print(a)\n",
    "\n"
   ]
  },
  {
   "cell_type": "code",
   "execution_count": 114,
   "id": "5a53d74b",
   "metadata": {},
   "outputs": [
    {
     "ename": "NameError",
     "evalue": "name 'a' is not defined",
     "output_type": "error",
     "traceback": [
      "\u001b[1;31m---------------------------------------------------------------------------\u001b[0m",
      "\u001b[1;31mNameError\u001b[0m                                 Traceback (most recent call last)",
      "\u001b[1;32m<ipython-input-114-88f0dc819981>\u001b[0m in \u001b[0;36m<module>\u001b[1;34m\u001b[0m\n\u001b[0;32m      1\u001b[0m \u001b[1;32mdel\u001b[0m \u001b[0ma\u001b[0m\u001b[1;33m\u001b[0m\u001b[1;33m\u001b[0m\u001b[0m\n\u001b[1;32m----> 2\u001b[1;33m \u001b[0ma\u001b[0m\u001b[1;33m\u001b[0m\u001b[1;33m\u001b[0m\u001b[0m\n\u001b[0m",
      "\u001b[1;31mNameError\u001b[0m: name 'a' is not defined"
     ]
    }
   ],
   "source": [
    "del a\n",
    "a"
   ]
  },
  {
   "cell_type": "code",
   "execution_count": 117,
   "id": "120b7ec7",
   "metadata": {},
   "outputs": [
    {
     "ename": "NameError",
     "evalue": "name 'a' is not defined",
     "output_type": "error",
     "traceback": [
      "\u001b[1;31m---------------------------------------------------------------------------\u001b[0m",
      "\u001b[1;31mNameError\u001b[0m                                 Traceback (most recent call last)",
      "\u001b[1;32m<ipython-input-117-84acad089b3e>\u001b[0m in \u001b[0;36m<module>\u001b[1;34m\u001b[0m\n\u001b[1;32m----> 1\u001b[1;33m \u001b[1;32mdel\u001b[0m \u001b[0ma\u001b[0m\u001b[1;33m\u001b[0m\u001b[1;33m\u001b[0m\u001b[0m\n\u001b[0m",
      "\u001b[1;31mNameError\u001b[0m: name 'a' is not defined"
     ]
    }
   ],
   "source": [
    "del a"
   ]
  },
  {
   "cell_type": "markdown",
   "id": "0464fe65",
   "metadata": {},
   "source": [
    "# Sorting"
   ]
  },
  {
   "cell_type": "markdown",
   "id": "10859283",
   "metadata": {},
   "source": [
    "## 1. sort()"
   ]
  },
  {
   "cell_type": "code",
   "execution_count": 67,
   "id": "719cdb39",
   "metadata": {},
   "outputs": [
    {
     "data": {
      "text/plain": [
       "[20, 40, 80, 100, 300]"
      ]
     },
     "execution_count": 67,
     "metadata": {},
     "output_type": "execute_result"
    }
   ],
   "source": [
    "list1 = [100,20,300,40,80]\n",
    "list1.sort()\n",
    "list1"
   ]
  },
  {
   "cell_type": "code",
   "execution_count": 68,
   "id": "a4bbfa4f",
   "metadata": {},
   "outputs": [
    {
     "data": {
      "text/plain": [
       "[1, 2, 3, 4, 4, 7, 9, 9]"
      ]
     },
     "execution_count": 68,
     "metadata": {},
     "output_type": "execute_result"
    }
   ],
   "source": [
    "list1 = [9,4,1,7,2,3,9,4]\n",
    "list1.sort()\n",
    "list1"
   ]
  },
  {
   "cell_type": "code",
   "execution_count": 69,
   "id": "ce6f9fad",
   "metadata": {},
   "outputs": [
    {
     "data": {
      "text/plain": [
       "['Bangalore', 'Chennai', 'Hyderabad', 'Mumbai', 'Nagpur', 'Pune']"
      ]
     },
     "execution_count": 69,
     "metadata": {},
     "output_type": "execute_result"
    }
   ],
   "source": [
    "list2 = ['Pune', 'Mumbai', 'Nagpur', 'Bangalore', 'Chennai', 'Hyderabad']\n",
    "list2.sort()\n",
    "list2"
   ]
  },
  {
   "cell_type": "code",
   "execution_count": 70,
   "id": "c8c4bbd8",
   "metadata": {},
   "outputs": [
    {
     "data": {
      "text/plain": [
       "['Bangalore', 'Chennai', 'Hyderabad', 'Mumbai', 'Nagpur', 'Pune', 'Zurich']"
      ]
     },
     "execution_count": 70,
     "metadata": {},
     "output_type": "execute_result"
    }
   ],
   "source": [
    "list2 = ['Pune', 'Mumbai', 'Nagpur', 'Bangalore', 'Chennai', 'Hyderabad','Zurich']\n",
    "list2.sort()\n",
    "list2"
   ]
  },
  {
   "cell_type": "code",
   "execution_count": 75,
   "id": "dee09e58",
   "metadata": {},
   "outputs": [
    {
     "data": {
      "text/plain": [
       "['Bangalore', 'Hyderabad', 'Mumbai', 'Pune', 'Zurich', 'chennai', 'nagpur']"
      ]
     },
     "execution_count": 75,
     "metadata": {},
     "output_type": "execute_result"
    }
   ],
   "source": [
    "list2 = ['Pune', 'Mumbai', 'nagpur', 'Bangalore', 'chennai', 'Hyderabad','Zurich']\n",
    "list2.sort()\n",
    "list2"
   ]
  },
  {
   "cell_type": "code",
   "execution_count": 72,
   "id": "cc85ec16",
   "metadata": {},
   "outputs": [
    {
     "data": {
      "text/plain": [
       "65"
      ]
     },
     "execution_count": 72,
     "metadata": {},
     "output_type": "execute_result"
    }
   ],
   "source": [
    "ord('A')"
   ]
  },
  {
   "cell_type": "code",
   "execution_count": 73,
   "id": "021d0a79",
   "metadata": {},
   "outputs": [
    {
     "data": {
      "text/plain": [
       "'A'"
      ]
     },
     "execution_count": 73,
     "metadata": {},
     "output_type": "execute_result"
    }
   ],
   "source": [
    "chr(65)"
   ]
  },
  {
   "cell_type": "code",
   "execution_count": 74,
   "id": "addcb177",
   "metadata": {},
   "outputs": [
    {
     "data": {
      "text/plain": [
       "97"
      ]
     },
     "execution_count": 74,
     "metadata": {},
     "output_type": "execute_result"
    }
   ],
   "source": [
    "ord('a')"
   ]
  },
  {
   "cell_type": "code",
   "execution_count": 76,
   "id": "ebcb64bf",
   "metadata": {},
   "outputs": [
    {
     "data": {
      "text/plain": [
       "[9, 9, 7, 4, 4, 3, 2, 1]"
      ]
     },
     "execution_count": 76,
     "metadata": {},
     "output_type": "execute_result"
    }
   ],
   "source": [
    "list1 = [9,4,1,7,2,3,9,4]\n",
    "list1.sort(reverse=True)\n",
    "list1"
   ]
  },
  {
   "cell_type": "markdown",
   "id": "6919d682",
   "metadata": {},
   "source": [
    "### Ascending Order"
   ]
  },
  {
   "cell_type": "code",
   "execution_count": 77,
   "id": "1f872e92",
   "metadata": {},
   "outputs": [
    {
     "data": {
      "text/plain": [
       "[1, 2, 3, 4, 4, 7, 9, 9]"
      ]
     },
     "execution_count": 77,
     "metadata": {},
     "output_type": "execute_result"
    }
   ],
   "source": [
    "list1 = [9,4,1,7,2,3,9,4]\n",
    "list1.sort(reverse=False)\n",
    "list1"
   ]
  },
  {
   "cell_type": "code",
   "execution_count": 78,
   "id": "635881e0",
   "metadata": {},
   "outputs": [
    {
     "data": {
      "text/plain": [
       "[1, 2, 3, 4, 4, 7, 9, 9]"
      ]
     },
     "execution_count": 78,
     "metadata": {},
     "output_type": "execute_result"
    }
   ],
   "source": [
    "list1 = [9,4,1,7,2,3,9,4]\n",
    "list1.sort()\n",
    "list1"
   ]
  },
  {
   "cell_type": "markdown",
   "id": "b629ad6a",
   "metadata": {},
   "source": [
    "## Descending Order"
   ]
  },
  {
   "cell_type": "code",
   "execution_count": 79,
   "id": "976e32a1",
   "metadata": {},
   "outputs": [
    {
     "data": {
      "text/plain": [
       "[9, 9, 7, 4, 4, 3, 2, 1]"
      ]
     },
     "execution_count": 79,
     "metadata": {},
     "output_type": "execute_result"
    }
   ],
   "source": [
    "list1 = [9,4,1,7,2,3,9,4]\n",
    "list1.sort(reverse=True)\n",
    "list1"
   ]
  },
  {
   "cell_type": "code",
   "execution_count": 80,
   "id": "ae6e51b3",
   "metadata": {},
   "outputs": [
    {
     "ename": "TypeError",
     "evalue": "'<' not supported between instances of 'int' and 'str'",
     "output_type": "error",
     "traceback": [
      "\u001b[1;31m---------------------------------------------------------------------------\u001b[0m",
      "\u001b[1;31mTypeError\u001b[0m                                 Traceback (most recent call last)",
      "\u001b[1;32m<ipython-input-80-fb1b53397fd1>\u001b[0m in \u001b[0;36m<module>\u001b[1;34m\u001b[0m\n\u001b[0;32m      1\u001b[0m \u001b[0mlist1\u001b[0m \u001b[1;33m=\u001b[0m \u001b[1;33m[\u001b[0m\u001b[1;36m9\u001b[0m\u001b[1;33m,\u001b[0m\u001b[1;36m4\u001b[0m\u001b[1;33m,\u001b[0m\u001b[1;36m1\u001b[0m\u001b[1;33m,\u001b[0m\u001b[1;36m7\u001b[0m\u001b[1;33m,\u001b[0m\u001b[1;36m2\u001b[0m\u001b[1;33m,\u001b[0m\u001b[1;36m3\u001b[0m\u001b[1;33m,\u001b[0m\u001b[1;36m9\u001b[0m\u001b[1;33m,\u001b[0m\u001b[1;36m4\u001b[0m\u001b[1;33m,\u001b[0m\u001b[1;34m'a'\u001b[0m\u001b[1;33m]\u001b[0m\u001b[1;33m\u001b[0m\u001b[1;33m\u001b[0m\u001b[0m\n\u001b[1;32m----> 2\u001b[1;33m \u001b[0mlist1\u001b[0m\u001b[1;33m.\u001b[0m\u001b[0msort\u001b[0m\u001b[1;33m(\u001b[0m\u001b[0mreverse\u001b[0m\u001b[1;33m=\u001b[0m\u001b[1;32mTrue\u001b[0m\u001b[1;33m)\u001b[0m\u001b[1;33m\u001b[0m\u001b[1;33m\u001b[0m\u001b[0m\n\u001b[0m\u001b[0;32m      3\u001b[0m \u001b[0mlist1\u001b[0m\u001b[1;33m\u001b[0m\u001b[1;33m\u001b[0m\u001b[0m\n",
      "\u001b[1;31mTypeError\u001b[0m: '<' not supported between instances of 'int' and 'str'"
     ]
    }
   ],
   "source": [
    "list1 = [9,4,1,7,2,3,9,4,'a']\n",
    "list1.sort(reverse=True)\n",
    "list1"
   ]
  },
  {
   "cell_type": "code",
   "execution_count": 81,
   "id": "4332a20c",
   "metadata": {},
   "outputs": [
    {
     "data": {
      "text/plain": [
       "[10.5, 9, 9, 7, 4, 4, 3, 2, 1]"
      ]
     },
     "execution_count": 81,
     "metadata": {},
     "output_type": "execute_result"
    }
   ],
   "source": [
    "list1 = [9,4,1,7,2,3,9,4,10.5]\n",
    "list1.sort(reverse=True)\n",
    "list1"
   ]
  },
  {
   "cell_type": "markdown",
   "id": "360753b5",
   "metadata": {},
   "source": [
    "## Sorted()"
   ]
  },
  {
   "cell_type": "code",
   "execution_count": 82,
   "id": "761d79f4",
   "metadata": {},
   "outputs": [
    {
     "data": {
      "text/plain": [
       "[1, 2, 3, 4, 4, 7, 9, 9, 10.5]"
      ]
     },
     "execution_count": 82,
     "metadata": {},
     "output_type": "execute_result"
    }
   ],
   "source": [
    "list1 = [9,4,1,7,2,3,9,4,10.5]\n",
    "list1.sort()\n",
    "list1"
   ]
  },
  {
   "cell_type": "code",
   "execution_count": 83,
   "id": "bbda4b17",
   "metadata": {},
   "outputs": [
    {
     "data": {
      "text/plain": [
       "[1, 2, 3, 4, 4, 7, 9, 9, 10.5]"
      ]
     },
     "execution_count": 83,
     "metadata": {},
     "output_type": "execute_result"
    }
   ],
   "source": [
    "list1 = [9,4,1,7,2,3,9,4,10.5]\n",
    "sorted(list1)"
   ]
  },
  {
   "cell_type": "code",
   "execution_count": 84,
   "id": "1b06cdb6",
   "metadata": {},
   "outputs": [
    {
     "data": {
      "text/plain": [
       "[9, 4, 1, 7, 2, 3, 9, 4, 10.5]"
      ]
     },
     "execution_count": 84,
     "metadata": {},
     "output_type": "execute_result"
    }
   ],
   "source": [
    "list1"
   ]
  },
  {
   "cell_type": "code",
   "execution_count": 85,
   "id": "575f983b",
   "metadata": {},
   "outputs": [
    {
     "data": {
      "text/plain": [
       "[1, 2, 3, 4, 4, 7, 9, 9, 10.5]"
      ]
     },
     "execution_count": 85,
     "metadata": {},
     "output_type": "execute_result"
    }
   ],
   "source": [
    "list1 = [9,4,1,7,2,3,9,4,10.5]\n",
    "new_list = sorted(list1)\n",
    "new_list"
   ]
  },
  {
   "cell_type": "code",
   "execution_count": 90,
   "id": "89091d67",
   "metadata": {},
   "outputs": [
    {
     "data": {
      "text/plain": [
       "[1, 2, 3, 4, 4, 7, 9]"
      ]
     },
     "execution_count": 90,
     "metadata": {},
     "output_type": "execute_result"
    }
   ],
   "source": [
    "tuple1 = (4, 1, 7, 2, 3, 9, 4)\n",
    "new_tuple1 = sorted(tuple1)\n",
    "new_tuple1"
   ]
  },
  {
   "cell_type": "code",
   "execution_count": 89,
   "id": "8d8a688d",
   "metadata": {},
   "outputs": [
    {
     "data": {
      "text/plain": [
       "(4, 1, 7, 2, 3, 9, 4)"
      ]
     },
     "execution_count": 89,
     "metadata": {},
     "output_type": "execute_result"
    }
   ],
   "source": [
    "tuple1"
   ]
  },
  {
   "cell_type": "code",
   "execution_count": 2,
   "id": "8020a7be",
   "metadata": {},
   "outputs": [
    {
     "name": "stdout",
     "output_type": "stream",
     "text": [
      "[10.5, 9, 9, 7, 4, 4, 3, 2, 1]\n"
     ]
    }
   ],
   "source": [
    "list1 = [9,4,1,7,2,3,9,4,10.5]\n",
    "new_list = sorted(list1,reverse=True)\n",
    "print(new_list)"
   ]
  },
  {
   "cell_type": "markdown",
   "id": "336afbfd",
   "metadata": {},
   "source": [
    "## Reverse()"
   ]
  },
  {
   "cell_type": "code",
   "execution_count": 86,
   "id": "13e2dc1f",
   "metadata": {},
   "outputs": [
    {
     "data": {
      "text/plain": [
       "[8, 9, 10, 7, 5, 2, 4]"
      ]
     },
     "execution_count": 86,
     "metadata": {},
     "output_type": "execute_result"
    }
   ],
   "source": [
    "list1 = [4 ,2,5,7,10,9,8]\n",
    "list1[::-1]"
   ]
  },
  {
   "cell_type": "code",
   "execution_count": 87,
   "id": "5fac735f",
   "metadata": {},
   "outputs": [
    {
     "data": {
      "text/plain": [
       "[8, 9, 10, 7, 5, 2, 4]"
      ]
     },
     "execution_count": 87,
     "metadata": {},
     "output_type": "execute_result"
    }
   ],
   "source": [
    "list1 = [4 ,2,5,7,10,9,8]\n",
    "list1.reverse()\n",
    "list1"
   ]
  },
  {
   "cell_type": "markdown",
   "id": "2a55357f",
   "metadata": {},
   "source": [
    "## Reversed()"
   ]
  },
  {
   "cell_type": "code",
   "execution_count": 91,
   "id": "19f088cb",
   "metadata": {},
   "outputs": [
    {
     "data": {
      "text/plain": [
       "[8, 9, 10, 7, 5, 2, 4]"
      ]
     },
     "execution_count": 91,
     "metadata": {},
     "output_type": "execute_result"
    }
   ],
   "source": [
    "list1 = [4 ,2,5,7,10,9,8]\n",
    "list1.reverse()\n",
    "list1"
   ]
  },
  {
   "cell_type": "code",
   "execution_count": 98,
   "id": "880e1a98",
   "metadata": {},
   "outputs": [
    {
     "data": {
      "text/plain": [
       "<list_reverseiterator at 0x13c797ed640>"
      ]
     },
     "execution_count": 98,
     "metadata": {},
     "output_type": "execute_result"
    }
   ],
   "source": [
    "list1 = [4 ,2,5,7,10,9,8]\n",
    "reversed(list1) # packed object"
   ]
  },
  {
   "cell_type": "code",
   "execution_count": 95,
   "id": "31174605",
   "metadata": {},
   "outputs": [
    {
     "data": {
      "text/plain": [
       "[8, 9, 10, 7, 5, 2, 4]"
      ]
     },
     "execution_count": 95,
     "metadata": {},
     "output_type": "execute_result"
    }
   ],
   "source": [
    "list1 = [4 ,2,5,7,10,9,8]\n",
    "new_list  = list(reversed(list1)) # unpack with list function\n",
    "new_list"
   ]
  },
  {
   "cell_type": "code",
   "execution_count": 94,
   "id": "7aa1f5ae",
   "metadata": {},
   "outputs": [
    {
     "data": {
      "text/plain": [
       "[4, 2, 5, 7, 10, 9, 8]"
      ]
     },
     "execution_count": 94,
     "metadata": {},
     "output_type": "execute_result"
    }
   ],
   "source": [
    "list1"
   ]
  },
  {
   "cell_type": "code",
   "execution_count": 96,
   "id": "f7270c6a",
   "metadata": {},
   "outputs": [
    {
     "data": {
      "text/plain": [
       "(8, 9, 10, 7, 5, 2, 4)"
      ]
     },
     "execution_count": 96,
     "metadata": {},
     "output_type": "execute_result"
    }
   ],
   "source": [
    "list1 = [4 ,2,5,7,10,9,8]\n",
    "new_list  = tuple(reversed(list1))\n",
    "new_list"
   ]
  },
  {
   "cell_type": "code",
   "execution_count": 99,
   "id": "6127b7b8",
   "metadata": {},
   "outputs": [
    {
     "data": {
      "text/plain": [
       "[1, 2, 3, 4, 4, 7, 9, 9, 10.5]"
      ]
     },
     "execution_count": 99,
     "metadata": {},
     "output_type": "execute_result"
    }
   ],
   "source": [
    "list1 = [9,4,1,7,2,3,9,4,10.5]\n",
    "list1.sort()\n",
    "list1"
   ]
  },
  {
   "cell_type": "code",
   "execution_count": 100,
   "id": "faa6ca0b",
   "metadata": {},
   "outputs": [],
   "source": [
    "list1 = [9,4,1,7,2,3,9,4,10.5]\n",
    "list3 = list1.sort()\n",
    "list3"
   ]
  },
  {
   "cell_type": "code",
   "execution_count": 101,
   "id": "e4e9272f",
   "metadata": {},
   "outputs": [],
   "source": [
    "list3"
   ]
  },
  {
   "cell_type": "code",
   "execution_count": 102,
   "id": "b28389f4",
   "metadata": {},
   "outputs": [],
   "source": [
    "a= [1,2,3,1,20]\n",
    "a = a.sort()\n",
    "a"
   ]
  },
  {
   "cell_type": "markdown",
   "id": "dee5a063",
   "metadata": {},
   "source": [
    "## index()"
   ]
  },
  {
   "cell_type": "code",
   "execution_count": 103,
   "id": "a8be33da",
   "metadata": {},
   "outputs": [
    {
     "data": {
      "text/plain": [
       "2"
      ]
     },
     "execution_count": 103,
     "metadata": {},
     "output_type": "execute_result"
    }
   ],
   "source": [
    "string = 'python'\n",
    "string.index('t')"
   ]
  },
  {
   "cell_type": "code",
   "execution_count": 104,
   "id": "875d6fee",
   "metadata": {},
   "outputs": [
    {
     "data": {
      "text/plain": [
       "2"
      ]
     },
     "execution_count": 104,
     "metadata": {},
     "output_type": "execute_result"
    }
   ],
   "source": [
    "list1 = [10,50,101,66,45]\n",
    "list1.index(101)"
   ]
  },
  {
   "cell_type": "code",
   "execution_count": 105,
   "id": "61867644",
   "metadata": {},
   "outputs": [
    {
     "ename": "ValueError",
     "evalue": "150 is not in list",
     "output_type": "error",
     "traceback": [
      "\u001b[1;31m---------------------------------------------------------------------------\u001b[0m",
      "\u001b[1;31mValueError\u001b[0m                                Traceback (most recent call last)",
      "\u001b[1;32m<ipython-input-105-cb40bf2d5b16>\u001b[0m in \u001b[0;36m<module>\u001b[1;34m\u001b[0m\n\u001b[0;32m      1\u001b[0m \u001b[0mlist1\u001b[0m \u001b[1;33m=\u001b[0m \u001b[1;33m[\u001b[0m\u001b[1;36m10\u001b[0m\u001b[1;33m,\u001b[0m\u001b[1;36m50\u001b[0m\u001b[1;33m,\u001b[0m\u001b[1;36m101\u001b[0m\u001b[1;33m,\u001b[0m\u001b[1;36m66\u001b[0m\u001b[1;33m,\u001b[0m\u001b[1;36m45\u001b[0m\u001b[1;33m]\u001b[0m\u001b[1;33m\u001b[0m\u001b[1;33m\u001b[0m\u001b[0m\n\u001b[1;32m----> 2\u001b[1;33m \u001b[0mlist1\u001b[0m\u001b[1;33m.\u001b[0m\u001b[0mindex\u001b[0m\u001b[1;33m(\u001b[0m\u001b[1;36m150\u001b[0m\u001b[1;33m)\u001b[0m\u001b[1;33m\u001b[0m\u001b[1;33m\u001b[0m\u001b[0m\n\u001b[0m",
      "\u001b[1;31mValueError\u001b[0m: 150 is not in list"
     ]
    }
   ],
   "source": [
    "list1 = [10,50,101,66,45]\n",
    "list1.index(150)"
   ]
  },
  {
   "cell_type": "code",
   "execution_count": 106,
   "id": "55f51731",
   "metadata": {},
   "outputs": [
    {
     "ename": "AttributeError",
     "evalue": "'list' object has no attribute 'find'",
     "output_type": "error",
     "traceback": [
      "\u001b[1;31m---------------------------------------------------------------------------\u001b[0m",
      "\u001b[1;31mAttributeError\u001b[0m                            Traceback (most recent call last)",
      "\u001b[1;32m<ipython-input-106-49e10ffb6d76>\u001b[0m in \u001b[0;36m<module>\u001b[1;34m\u001b[0m\n\u001b[0;32m      1\u001b[0m \u001b[0mlist1\u001b[0m \u001b[1;33m=\u001b[0m \u001b[1;33m[\u001b[0m\u001b[1;36m10\u001b[0m\u001b[1;33m,\u001b[0m\u001b[1;36m50\u001b[0m\u001b[1;33m,\u001b[0m\u001b[1;36m101\u001b[0m\u001b[1;33m,\u001b[0m\u001b[1;36m66\u001b[0m\u001b[1;33m,\u001b[0m\u001b[1;36m45\u001b[0m\u001b[1;33m]\u001b[0m\u001b[1;33m\u001b[0m\u001b[1;33m\u001b[0m\u001b[0m\n\u001b[1;32m----> 2\u001b[1;33m \u001b[0mlist1\u001b[0m\u001b[1;33m.\u001b[0m\u001b[0mfind\u001b[0m\u001b[1;33m(\u001b[0m\u001b[1;36m150\u001b[0m\u001b[1;33m)\u001b[0m\u001b[1;33m\u001b[0m\u001b[1;33m\u001b[0m\u001b[0m\n\u001b[0m",
      "\u001b[1;31mAttributeError\u001b[0m: 'list' object has no attribute 'find'"
     ]
    }
   ],
   "source": [
    "list1 = [10,50,101,66,45]\n",
    "list1.find(150)"
   ]
  },
  {
   "cell_type": "code",
   "execution_count": 107,
   "id": "96ac8fcd",
   "metadata": {},
   "outputs": [
    {
     "data": {
      "text/plain": [
       "3"
      ]
     },
     "execution_count": 107,
     "metadata": {},
     "output_type": "execute_result"
    }
   ],
   "source": [
    "list1 = [ 'Arti', 'Vijaya', 'Arun', \"Suraj\"]\n",
    "list1.index('Suraj')"
   ]
  },
  {
   "cell_type": "markdown",
   "id": "8ecfe787",
   "metadata": {},
   "source": [
    "## Count()"
   ]
  },
  {
   "cell_type": "code",
   "execution_count": 108,
   "id": "7cc4e746",
   "metadata": {},
   "outputs": [
    {
     "data": {
      "text/plain": [
       "3"
      ]
     },
     "execution_count": 108,
     "metadata": {},
     "output_type": "execute_result"
    }
   ],
   "source": [
    "a = [1,8,6,4,1,2,1]\n",
    "a.count(1)"
   ]
  },
  {
   "cell_type": "code",
   "execution_count": 109,
   "id": "6767f65e",
   "metadata": {},
   "outputs": [
    {
     "data": {
      "text/plain": [
       "1"
      ]
     },
     "execution_count": 109,
     "metadata": {},
     "output_type": "execute_result"
    }
   ],
   "source": [
    "a = [1,8,6,4,1,2,1]\n",
    "a.count(8)"
   ]
  },
  {
   "cell_type": "code",
   "execution_count": 110,
   "id": "0a36dbba",
   "metadata": {},
   "outputs": [
    {
     "data": {
      "text/plain": [
       "1"
      ]
     },
     "execution_count": 110,
     "metadata": {},
     "output_type": "execute_result"
    }
   ],
   "source": [
    "name = ['niraj', 'pravin', 'Raju', 'Baburao', 'pravin']\n",
    "name.index('pravin')"
   ]
  },
  {
   "cell_type": "code",
   "execution_count": 111,
   "id": "a494b59b",
   "metadata": {},
   "outputs": [
    {
     "data": {
      "text/plain": [
       "2"
      ]
     },
     "execution_count": 111,
     "metadata": {},
     "output_type": "execute_result"
    }
   ],
   "source": [
    "name = ['niraj', 'pravin', 'Raju', 'Baburao', 'pravin']\n",
    "name.count('pravin')"
   ]
  },
  {
   "cell_type": "code",
   "execution_count": 118,
   "id": "308c7ecd",
   "metadata": {},
   "outputs": [
    {
     "data": {
      "text/plain": [
       "[1, 3, 5, 8]"
      ]
     },
     "execution_count": 118,
     "metadata": {},
     "output_type": "execute_result"
    }
   ],
   "source": [
    "var1 = [3,1,5,8]\n",
    "new_var = sorted(var1)"
   ]
  },
  {
   "cell_type": "code",
   "execution_count": 119,
   "id": "938e8e8a",
   "metadata": {},
   "outputs": [
    {
     "data": {
      "text/plain": [
       "[3, 1, 5, 8]"
      ]
     },
     "execution_count": 119,
     "metadata": {},
     "output_type": "execute_result"
    }
   ],
   "source": [
    "var1"
   ]
  },
  {
   "cell_type": "code",
   "execution_count": null,
   "id": "b324dc04",
   "metadata": {},
   "outputs": [],
   "source": [
    "var1 = [3,1,5,8]\n",
    "var2 = var1.copy()"
   ]
  },
  {
   "cell_type": "code",
   "execution_count": null,
   "id": "6af57b6e",
   "metadata": {},
   "outputs": [],
   "source": []
  },
  {
   "cell_type": "code",
   "execution_count": null,
   "id": "9b701a64",
   "metadata": {},
   "outputs": [],
   "source": []
  }
 ],
 "metadata": {
  "kernelspec": {
   "display_name": "Python 3 (ipykernel)",
   "language": "python",
   "name": "python3"
  },
  "language_info": {
   "codemirror_mode": {
    "name": "ipython",
    "version": 3
   },
   "file_extension": ".py",
   "mimetype": "text/x-python",
   "name": "python",
   "nbconvert_exporter": "python",
   "pygments_lexer": "ipython3",
   "version": "3.9.13"
  }
 },
 "nbformat": 4,
 "nbformat_minor": 5
}
