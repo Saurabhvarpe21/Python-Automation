{
 "cells": [
  {
   "cell_type": "markdown",
   "id": "116305a6",
   "metadata": {},
   "source": [
    "## List"
   ]
  },
  {
   "cell_type": "code",
   "execution_count": null,
   "id": "ae07103d",
   "metadata": {},
   "outputs": [],
   "source": [
    "It is collection of items\n",
    "It is used to store sequences of various data types\n",
    "items >> int, float, str, complex, list, tuple, set, dict, numpy array"
   ]
  },
  {
   "cell_type": "markdown",
   "id": "35841c10",
   "metadata": {},
   "source": [
    "## List Properties"
   ]
  },
  {
   "cell_type": "code",
   "execution_count": null,
   "id": "17e47db2",
   "metadata": {},
   "outputs": [],
   "source": [
    "1. List is mutable (changable >> update, add, delete)\n",
    "2. Ordered Data type\n",
    "3. Duplicates items are allowed\n",
    "4. Enclosed by []\n",
    "5. List items are comma seperated"
   ]
  },
  {
   "cell_type": "code",
   "execution_count": 2,
   "id": "9ca95b07",
   "metadata": {},
   "outputs": [
    {
     "data": {
      "text/plain": [
       "[1, 23, 4, 5, 5, 4]"
      ]
     },
     "execution_count": 2,
     "metadata": {},
     "output_type": "execute_result"
    }
   ],
   "source": [
    "a = [1,23,4,5,5,4]\n",
    "a"
   ]
  },
  {
   "cell_type": "code",
   "execution_count": 3,
   "id": "197b65b2",
   "metadata": {},
   "outputs": [
    {
     "data": {
      "text/plain": [
       "[2, 3, 4]"
      ]
     },
     "execution_count": 3,
     "metadata": {},
     "output_type": "execute_result"
    }
   ],
   "source": [
    "list1 = [2,3,4]\n",
    "list1"
   ]
  },
  {
   "cell_type": "code",
   "execution_count": 4,
   "id": "64862b37",
   "metadata": {},
   "outputs": [
    {
     "data": {
      "text/plain": [
       "[1, 2, 3, (1+2j), [1, 23], (3, 45), 'Python', {'A': 100}]"
      ]
     },
     "execution_count": 4,
     "metadata": {},
     "output_type": "execute_result"
    }
   ],
   "source": [
    "list2 = [1,2,3,1+2j,[1,23],(3,45),'Python',{'A':100}]\n",
    "list2"
   ]
  },
  {
   "cell_type": "code",
   "execution_count": 5,
   "id": "2e1cce30",
   "metadata": {},
   "outputs": [
    {
     "name": "stdout",
     "output_type": "stream",
     "text": [
      "[2, 3, 4, 6]\n"
     ]
    }
   ],
   "source": [
    "list3 = [2,3,4,6]\n",
    "print(list3)"
   ]
  },
  {
   "cell_type": "code",
   "execution_count": 9,
   "id": "6dfecbfa",
   "metadata": {},
   "outputs": [
    {
     "data": {
      "text/plain": [
       "tuple"
      ]
     },
     "execution_count": 9,
     "metadata": {},
     "output_type": "execute_result"
    }
   ],
   "source": [
    "t1 = 1,\n",
    "type(t1)"
   ]
  },
  {
   "cell_type": "code",
   "execution_count": 10,
   "id": "dc37ff82",
   "metadata": {},
   "outputs": [
    {
     "name": "stdout",
     "output_type": "stream",
     "text": [
      "['abc', 3, 'p', 4, 6]\n"
     ]
    }
   ],
   "source": [
    "list3 = ['abc',3,'p',4,6]\n",
    "print(list3)"
   ]
  },
  {
   "cell_type": "code",
   "execution_count": 11,
   "id": "e55644bc",
   "metadata": {},
   "outputs": [
    {
     "name": "stdout",
     "output_type": "stream",
     "text": [
      "{3, 'abc', 4, 'p', 6}\n"
     ]
    }
   ],
   "source": [
    "set3 = {'abc',3,'p',4,6}\n",
    "print(set3)"
   ]
  },
  {
   "cell_type": "code",
   "execution_count": 12,
   "id": "6e97ce5c",
   "metadata": {},
   "outputs": [
    {
     "name": "stdout",
     "output_type": "stream",
     "text": [
      "[10, 20, 20, 30, 30, 40]\n"
     ]
    }
   ],
   "source": [
    "list4 = [10,20,20,30,30,40]\n",
    "print(list4)"
   ]
  },
  {
   "cell_type": "code",
   "execution_count": 13,
   "id": "b7fb7b07",
   "metadata": {},
   "outputs": [
    {
     "name": "stdout",
     "output_type": "stream",
     "text": [
      "{40, 10, 20, 30}\n"
     ]
    }
   ],
   "source": [
    "set1 = {10,20,20,30,30,40}\n",
    "print(set1)"
   ]
  },
  {
   "cell_type": "code",
   "execution_count": 15,
   "id": "9759333c",
   "metadata": {},
   "outputs": [
    {
     "name": "stdout",
     "output_type": "stream",
     "text": [
      "<class 'list'>\n"
     ]
    }
   ],
   "source": [
    "l1 = [1]\n",
    "print(type(l1))"
   ]
  },
  {
   "cell_type": "code",
   "execution_count": 16,
   "id": "32ee348f",
   "metadata": {},
   "outputs": [
    {
     "data": {
      "text/plain": [
       "list"
      ]
     },
     "execution_count": 16,
     "metadata": {},
     "output_type": "execute_result"
    }
   ],
   "source": [
    "l2 = [] # list initialization\n",
    "type(l2)"
   ]
  },
  {
   "cell_type": "code",
   "execution_count": 17,
   "id": "5257531a",
   "metadata": {},
   "outputs": [
    {
     "data": {
      "text/plain": [
       "2"
      ]
     },
     "execution_count": 17,
     "metadata": {},
     "output_type": "execute_result"
    }
   ],
   "source": [
    "l3 = [23,65]\n",
    "len(l3)"
   ]
  },
  {
   "cell_type": "code",
   "execution_count": 18,
   "id": "a61a2ce0",
   "metadata": {},
   "outputs": [
    {
     "data": {
      "text/plain": [
       "5"
      ]
     },
     "execution_count": 18,
     "metadata": {},
     "output_type": "execute_result"
    }
   ],
   "source": [
    "l3 = [23,65,'h',67,100]\n",
    "len(l3)"
   ]
  },
  {
   "cell_type": "code",
   "execution_count": 20,
   "id": "1beaa774",
   "metadata": {},
   "outputs": [
    {
     "ename": "TypeError",
     "evalue": "'str' object does not support item assignment",
     "output_type": "error",
     "traceback": [
      "\u001b[1;31m---------------------------------------------------------------------------\u001b[0m",
      "\u001b[1;31mTypeError\u001b[0m                                 Traceback (most recent call last)",
      "\u001b[1;32m<ipython-input-20-f53fecec1c07>\u001b[0m in \u001b[0;36m<module>\u001b[1;34m\u001b[0m\n\u001b[0;32m      1\u001b[0m \u001b[0mstr1\u001b[0m \u001b[1;33m=\u001b[0m \u001b[1;34m'python'\u001b[0m\u001b[1;33m\u001b[0m\u001b[1;33m\u001b[0m\u001b[0m\n\u001b[1;32m----> 2\u001b[1;33m \u001b[0mstr1\u001b[0m\u001b[1;33m[\u001b[0m\u001b[1;36m2\u001b[0m\u001b[1;33m]\u001b[0m \u001b[1;33m=\u001b[0m \u001b[1;34m'h'\u001b[0m\u001b[1;33m\u001b[0m\u001b[1;33m\u001b[0m\u001b[0m\n\u001b[0m\u001b[0;32m      3\u001b[0m \u001b[0mstr1\u001b[0m\u001b[1;33m\u001b[0m\u001b[1;33m\u001b[0m\u001b[0m\n",
      "\u001b[1;31mTypeError\u001b[0m: 'str' object does not support item assignment"
     ]
    }
   ],
   "source": [
    "str1 = 'python'\n",
    "str1[2] = 'h'\n",
    "str1"
   ]
  },
  {
   "cell_type": "code",
   "execution_count": 21,
   "id": "f486f22c",
   "metadata": {},
   "outputs": [
    {
     "data": {
      "text/plain": [
       "[1, 100, 3, 4]"
      ]
     },
     "execution_count": 21,
     "metadata": {},
     "output_type": "execute_result"
    }
   ],
   "source": [
    "l1 = [1,2,3,4]\n",
    "l1[1] = 100\n",
    "l1"
   ]
  },
  {
   "cell_type": "markdown",
   "id": "50a2643d",
   "metadata": {},
   "source": [
    "## Indexing"
   ]
  },
  {
   "cell_type": "code",
   "execution_count": 28,
   "id": "0c7bf028",
   "metadata": {},
   "outputs": [
    {
     "ename": "IndexError",
     "evalue": "list index out of range",
     "output_type": "error",
     "traceback": [
      "\u001b[1;31m---------------------------------------------------------------------------\u001b[0m",
      "\u001b[1;31mIndexError\u001b[0m                                Traceback (most recent call last)",
      "\u001b[1;32m<ipython-input-28-93ae0b94703c>\u001b[0m in \u001b[0;36m<module>\u001b[1;34m\u001b[0m\n\u001b[0;32m      5\u001b[0m \u001b[0mlist1\u001b[0m\u001b[1;33m[\u001b[0m\u001b[1;36m4\u001b[0m\u001b[1;33m]\u001b[0m\u001b[1;33m\u001b[0m\u001b[1;33m\u001b[0m\u001b[0m\n\u001b[0;32m      6\u001b[0m \u001b[0mlist1\u001b[0m\u001b[1;33m[\u001b[0m\u001b[1;36m5\u001b[0m\u001b[1;33m]\u001b[0m\u001b[1;33m\u001b[0m\u001b[1;33m\u001b[0m\u001b[0m\n\u001b[1;32m----> 7\u001b[1;33m \u001b[0mlist1\u001b[0m\u001b[1;33m[\u001b[0m\u001b[1;36m6\u001b[0m\u001b[1;33m]\u001b[0m\u001b[1;33m\u001b[0m\u001b[1;33m\u001b[0m\u001b[0m\n\u001b[0m",
      "\u001b[1;31mIndexError\u001b[0m: list index out of range"
     ]
    }
   ],
   "source": [
    "list1 = [10,20,30,30,40,50]\n",
    "list1[0]\n",
    "list1[1]\n",
    "list1[2]\n",
    "list1[4]\n",
    "list1[5]\n",
    "list1[6]"
   ]
  },
  {
   "cell_type": "code",
   "execution_count": null,
   "id": "d44b92de",
   "metadata": {},
   "outputs": [],
   "source": [
    "list1 = [50, 40,  30, 10,  90]\n",
    "         0    1   2   3    4\n",
    "        -5   -4  -3  -2   -1"
   ]
  },
  {
   "cell_type": "code",
   "execution_count": 31,
   "id": "b80bfe02",
   "metadata": {},
   "outputs": [
    {
     "name": "stdout",
     "output_type": "stream",
     "text": [
      "list1[1]: 40\n",
      "list1[-1]: 90\n"
     ]
    }
   ],
   "source": [
    "list1 = [50, 40,  30, 10,  90]\n",
    "\n",
    "print('list1[1]:', list1[1])\n",
    "print('list1[-1]:', list1[-1])"
   ]
  },
  {
   "cell_type": "markdown",
   "id": "5ae43c4c",
   "metadata": {},
   "source": [
    "## Slicing"
   ]
  },
  {
   "cell_type": "code",
   "execution_count": null,
   "id": "6dd8f1a7",
   "metadata": {},
   "outputs": [],
   "source": [
    "[start_index(include) : end_index(exclude) : step_size]"
   ]
  },
  {
   "cell_type": "code",
   "execution_count": 32,
   "id": "f1f7eb25",
   "metadata": {},
   "outputs": [
    {
     "data": {
      "text/plain": [
       "'python'"
      ]
     },
     "execution_count": 32,
     "metadata": {},
     "output_type": "execute_result"
    }
   ],
   "source": [
    "list1 = [60,80,30,'python', 40,50,'machine','learning']\n",
    "list1[3]"
   ]
  },
  {
   "cell_type": "code",
   "execution_count": 33,
   "id": "4fd97f7d",
   "metadata": {},
   "outputs": [
    {
     "data": {
      "text/plain": [
       "[30, 'python', 40]"
      ]
     },
     "execution_count": 33,
     "metadata": {},
     "output_type": "execute_result"
    }
   ],
   "source": [
    "list1[2:5]"
   ]
  },
  {
   "cell_type": "code",
   "execution_count": 34,
   "id": "b81ad9e9",
   "metadata": {},
   "outputs": [
    {
     "data": {
      "text/plain": [
       "[50]"
      ]
     },
     "execution_count": 34,
     "metadata": {},
     "output_type": "execute_result"
    }
   ],
   "source": [
    "list1[5:6]"
   ]
  },
  {
   "cell_type": "code",
   "execution_count": 35,
   "id": "6937e4d2",
   "metadata": {},
   "outputs": [
    {
     "data": {
      "text/plain": [
       "[50, 'machine']"
      ]
     },
     "execution_count": 35,
     "metadata": {},
     "output_type": "execute_result"
    }
   ],
   "source": [
    "list1[5:7]"
   ]
  },
  {
   "cell_type": "code",
   "execution_count": 36,
   "id": "a0cbb361",
   "metadata": {},
   "outputs": [
    {
     "data": {
      "text/plain": [
       "[]"
      ]
     },
     "execution_count": 36,
     "metadata": {},
     "output_type": "execute_result"
    }
   ],
   "source": [
    "list1[7:6]"
   ]
  },
  {
   "cell_type": "code",
   "execution_count": 37,
   "id": "22217620",
   "metadata": {},
   "outputs": [
    {
     "data": {
      "text/plain": [
       "[60, 80, 30, 'python', 40, 50]"
      ]
     },
     "execution_count": 37,
     "metadata": {},
     "output_type": "execute_result"
    }
   ],
   "source": [
    "list1[:6]"
   ]
  },
  {
   "cell_type": "code",
   "execution_count": 38,
   "id": "c235cedd",
   "metadata": {},
   "outputs": [
    {
     "data": {
      "text/plain": [
       "[60, 80, 30, 'python', 40, 50, 'machine', 'learning']"
      ]
     },
     "execution_count": 38,
     "metadata": {},
     "output_type": "execute_result"
    }
   ],
   "source": [
    "list1[:]"
   ]
  },
  {
   "cell_type": "code",
   "execution_count": 40,
   "id": "54b71a6d",
   "metadata": {},
   "outputs": [
    {
     "data": {
      "text/plain": [
       "[50, 'machine', 'learning']"
      ]
     },
     "execution_count": 40,
     "metadata": {},
     "output_type": "execute_result"
    }
   ],
   "source": [
    "list1[5:]"
   ]
  },
  {
   "cell_type": "markdown",
   "id": "449c58c5",
   "metadata": {},
   "source": [
    "### Step Size"
   ]
  },
  {
   "cell_type": "code",
   "execution_count": 41,
   "id": "28bd0c69",
   "metadata": {},
   "outputs": [
    {
     "data": {
      "text/plain": [
       "'python'"
      ]
     },
     "execution_count": 41,
     "metadata": {},
     "output_type": "execute_result"
    }
   ],
   "source": [
    "list1 = [60,80,30,'python', 40,50,'machine','learning']\n",
    "list1[3]"
   ]
  },
  {
   "cell_type": "code",
   "execution_count": 43,
   "id": "970138a3",
   "metadata": {},
   "outputs": [
    {
     "data": {
      "text/plain": [
       "[80, 30, 'python', 40]"
      ]
     },
     "execution_count": 43,
     "metadata": {},
     "output_type": "execute_result"
    }
   ],
   "source": [
    "list1[1:5:1]"
   ]
  },
  {
   "cell_type": "code",
   "execution_count": 44,
   "id": "7cbe8ac1",
   "metadata": {},
   "outputs": [
    {
     "data": {
      "text/plain": [
       "[60, 80, 30, 'python', 40]"
      ]
     },
     "execution_count": 44,
     "metadata": {},
     "output_type": "execute_result"
    }
   ],
   "source": [
    "list1[:5:1]"
   ]
  },
  {
   "cell_type": "code",
   "execution_count": 45,
   "id": "a75b8801",
   "metadata": {},
   "outputs": [
    {
     "data": {
      "text/plain": [
       "[60, 80, 30, 'python', 40, 50, 'machine', 'learning']"
      ]
     },
     "execution_count": 45,
     "metadata": {},
     "output_type": "execute_result"
    }
   ],
   "source": [
    "list1[::1]"
   ]
  },
  {
   "cell_type": "code",
   "execution_count": 46,
   "id": "b2a716f8",
   "metadata": {},
   "outputs": [
    {
     "data": {
      "text/plain": [
       "[80, 'python', 50, 'learning']"
      ]
     },
     "execution_count": 46,
     "metadata": {},
     "output_type": "execute_result"
    }
   ],
   "source": [
    "list1[1::2]"
   ]
  },
  {
   "cell_type": "code",
   "execution_count": 47,
   "id": "deb63f87",
   "metadata": {},
   "outputs": [
    {
     "data": {
      "text/plain": [
       "[60, 30, 40, 'machine']"
      ]
     },
     "execution_count": 47,
     "metadata": {},
     "output_type": "execute_result"
    }
   ],
   "source": [
    "list1[::2]"
   ]
  },
  {
   "cell_type": "code",
   "execution_count": 48,
   "id": "18643da9",
   "metadata": {},
   "outputs": [
    {
     "data": {
      "text/plain": [
       "['learning', 'machine', 50, 40, 'python', 30, 80, 60]"
      ]
     },
     "execution_count": 48,
     "metadata": {},
     "output_type": "execute_result"
    }
   ],
   "source": [
    "list1[::-1]"
   ]
  },
  {
   "cell_type": "code",
   "execution_count": 49,
   "id": "92e6bb3c",
   "metadata": {},
   "outputs": [
    {
     "data": {
      "text/plain": [
       "['machine', 50, 40, 'python', 30]"
      ]
     },
     "execution_count": 49,
     "metadata": {},
     "output_type": "execute_result"
    }
   ],
   "source": [
    "list1[6:1:-1]"
   ]
  },
  {
   "cell_type": "code",
   "execution_count": 50,
   "id": "c05b1949",
   "metadata": {},
   "outputs": [
    {
     "data": {
      "text/plain": [
       "[]"
      ]
     },
     "execution_count": 50,
     "metadata": {},
     "output_type": "execute_result"
    }
   ],
   "source": [
    "list1[1:6:-1]"
   ]
  },
  {
   "cell_type": "code",
   "execution_count": 51,
   "id": "3a856512",
   "metadata": {},
   "outputs": [
    {
     "data": {
      "text/plain": [
       "[80, 30, 'python', 40, 50]"
      ]
     },
     "execution_count": 51,
     "metadata": {},
     "output_type": "execute_result"
    }
   ],
   "source": [
    "list1[1:6:1]"
   ]
  },
  {
   "cell_type": "markdown",
   "id": "d0918752",
   "metadata": {},
   "source": [
    "## Access List items by using for loop"
   ]
  },
  {
   "cell_type": "code",
   "execution_count": null,
   "id": "b444939c",
   "metadata": {},
   "outputs": [],
   "source": [
    "for var in sequence:\n",
    "    statement1\n",
    "    statement2"
   ]
  },
  {
   "cell_type": "code",
   "execution_count": 55,
   "id": "e85b2c8c",
   "metadata": {},
   "outputs": [
    {
     "name": "stdout",
     "output_type": "stream",
     "text": [
      "Subject Name is : Eng\n",
      "************************************************************\n",
      "Subject Name is : Math\n",
      "************************************************************\n",
      "Subject Name is : Sci\n",
      "************************************************************\n",
      "Subject Name is : Geo\n",
      "************************************************************\n",
      "Subject Name is : Hist\n",
      "************************************************************\n"
     ]
    }
   ],
   "source": [
    "sub_names = ['Eng', 'Math', 'Sci', 'Geo', 'Hist']\n",
    "\n",
    "for sub in sub_names:\n",
    "    print(\"Subject Name is :\", sub)\n",
    "    print('*'*60)"
   ]
  },
  {
   "cell_type": "code",
   "execution_count": 56,
   "id": "6edc829a",
   "metadata": {},
   "outputs": [
    {
     "name": "stdout",
     "output_type": "stream",
     "text": [
      "Subject Name is : Eng\n",
      "************************************************************\n",
      "Subject Name is : Math\n",
      "************************************************************\n",
      "Subject Name is : Sci\n",
      "************************************************************\n",
      "Subject Name is : Geo\n",
      "************************************************************\n",
      "Subject Name is : Hist\n",
      "************************************************************\n"
     ]
    }
   ],
   "source": [
    "sub_names = ['Eng', 'Math', 'Sci', 'Geo', 'Hist']\n",
    "\n",
    "for index,sub in enumerate(sub_names):\n",
    "    print(\"Subject Name is :\", sub)\n",
    "    print('*'*60)"
   ]
  },
  {
   "cell_type": "code",
   "execution_count": 57,
   "id": "c6ef01c2",
   "metadata": {},
   "outputs": [
    {
     "name": "stdout",
     "output_type": "stream",
     "text": [
      "Value at index 0 is Eng\n",
      "************************************************************\n",
      "Value at index 1 is Math\n",
      "************************************************************\n",
      "Value at index 2 is Sci\n",
      "************************************************************\n",
      "Value at index 3 is Geo\n",
      "************************************************************\n",
      "Value at index 4 is Hist\n",
      "************************************************************\n"
     ]
    }
   ],
   "source": [
    "sub_names = ['Eng', 'Math', 'Sci', 'Geo', 'Hist']\n",
    "\n",
    "for index,sub in enumerate(sub_names):\n",
    "    print(f\"Value at index {index} is {sub}\")\n",
    "    print('*'*60)"
   ]
  },
  {
   "cell_type": "code",
   "execution_count": 58,
   "id": "466c6182",
   "metadata": {},
   "outputs": [
    {
     "name": "stdout",
     "output_type": "stream",
     "text": [
      "Value at index 0 is Eng\n",
      "************************************************************\n",
      "Value at index 1 is Math\n",
      "************************************************************\n",
      "Value at index 2 is Sci\n",
      "************************************************************\n",
      "Value at index 3 is Geo\n",
      "************************************************************\n",
      "Value at index 4 is Hist\n",
      "************************************************************\n"
     ]
    }
   ],
   "source": [
    "sub_names = ['Eng', 'Math', 'Sci', 'Geo', 'Hist']\n",
    "\n",
    "for i,sub in enumerate(sub_names):\n",
    "    print(f\"Value at index {i} is {sub}\")\n",
    "    print('*'*60)"
   ]
  },
  {
   "cell_type": "code",
   "execution_count": 60,
   "id": "c1852321",
   "metadata": {},
   "outputs": [
    {
     "name": "stdout",
     "output_type": "stream",
     "text": [
      "Value at index 0 is Eng\n",
      "************************************************************\n",
      "Value at index 1 is Math\n",
      "************************************************************\n",
      "Value at index 2 is Sci\n",
      "************************************************************\n",
      "Value at index 3 is Geo\n",
      "************************************************************\n",
      "Value at index 4 is Hist\n",
      "************************************************************\n"
     ]
    }
   ],
   "source": [
    "sub_names = ['Eng', 'Math', 'Sci', 'Geo', 'Hist']\n",
    "\n",
    "count = 0\n",
    "for sub in sub_names:\n",
    "    print(f\"Value at index {count} is {sub}\")\n",
    "    count+=1\n",
    "    print('*'*60)"
   ]
  },
  {
   "cell_type": "code",
   "execution_count": 61,
   "id": "7964faab",
   "metadata": {},
   "outputs": [
    {
     "data": {
      "text/plain": [
       "5"
      ]
     },
     "execution_count": 61,
     "metadata": {},
     "output_type": "execute_result"
    }
   ],
   "source": [
    "count"
   ]
  },
  {
   "cell_type": "code",
   "execution_count": 62,
   "id": "d728c50f",
   "metadata": {},
   "outputs": [
    {
     "name": "stdout",
     "output_type": "stream",
     "text": [
      "Value at index 0 is Eng\n",
      "************************************************************\n",
      "Value at index 1 is Math\n",
      "************************************************************\n",
      "Value at index 2 is Sci\n",
      "************************************************************\n",
      "Value at index 3 is Geo\n",
      "************************************************************\n",
      "Value at index 4 is Hist\n",
      "************************************************************\n"
     ]
    }
   ],
   "source": [
    "sub_names = ['Eng', 'Math', 'Sci', 'Geo', 'Hist']\n",
    "\n",
    "c = 0\n",
    "for sub in sub_names:\n",
    "    print(f\"Value at index {c} is {sub}\")\n",
    "    c+=1\n",
    "    print('*'*60)"
   ]
  },
  {
   "cell_type": "code",
   "execution_count": 64,
   "id": "62426c49",
   "metadata": {},
   "outputs": [
    {
     "name": "stdout",
     "output_type": "stream",
     "text": [
      "value at index 0 is 1\n",
      "value at index 1 is 2\n",
      "value at index 2 is 3\n",
      "value at index 3 is 4\n"
     ]
    }
   ],
   "source": [
    "a = [1,2,3,4]\n",
    "\n",
    "x = 0\n",
    "for i in a:\n",
    "    print(f'value at index {x} is {i}')\n",
    "    x+=1  # x= x+1"
   ]
  },
  {
   "cell_type": "markdown",
   "id": "88bce7b6",
   "metadata": {},
   "source": [
    "## Range"
   ]
  },
  {
   "cell_type": "code",
   "execution_count": null,
   "id": "b93386f7",
   "metadata": {},
   "outputs": [],
   "source": [
    "range(start_index, end_index, step_size)\n",
    "default start_index >> 0"
   ]
  },
  {
   "cell_type": "code",
   "execution_count": 65,
   "id": "4c292d74",
   "metadata": {},
   "outputs": [
    {
     "data": {
      "text/plain": [
       "[0, 1, 2, 3, 4]"
      ]
     },
     "execution_count": 65,
     "metadata": {},
     "output_type": "execute_result"
    }
   ],
   "source": [
    "list(range(5))"
   ]
  },
  {
   "cell_type": "code",
   "execution_count": 66,
   "id": "bf8a1317",
   "metadata": {},
   "outputs": [
    {
     "data": {
      "text/plain": [
       "range(0, 5)"
      ]
     },
     "execution_count": 66,
     "metadata": {},
     "output_type": "execute_result"
    }
   ],
   "source": [
    "range(5)"
   ]
  },
  {
   "cell_type": "code",
   "execution_count": 67,
   "id": "f0880eb6",
   "metadata": {},
   "outputs": [
    {
     "data": {
      "text/plain": [
       "[2, 3, 4, 5, 6, 7, 8, 9]"
      ]
     },
     "execution_count": 67,
     "metadata": {},
     "output_type": "execute_result"
    }
   ],
   "source": [
    "list(range(2,10))"
   ]
  },
  {
   "cell_type": "code",
   "execution_count": 68,
   "id": "74bd5665",
   "metadata": {},
   "outputs": [
    {
     "data": {
      "text/plain": [
       "[2, 3, 4, 5, 6, 7, 8, 9]"
      ]
     },
     "execution_count": 68,
     "metadata": {},
     "output_type": "execute_result"
    }
   ],
   "source": [
    "list(range(2,10,1))"
   ]
  },
  {
   "cell_type": "code",
   "execution_count": 69,
   "id": "36796d7b",
   "metadata": {},
   "outputs": [
    {
     "data": {
      "text/plain": [
       "[2, 4, 6, 8]"
      ]
     },
     "execution_count": 69,
     "metadata": {},
     "output_type": "execute_result"
    }
   ],
   "source": [
    "list(range(2,10,2))"
   ]
  },
  {
   "cell_type": "code",
   "execution_count": 70,
   "id": "5921b47b",
   "metadata": {},
   "outputs": [
    {
     "data": {
      "text/plain": [
       "[]"
      ]
     },
     "execution_count": 70,
     "metadata": {},
     "output_type": "execute_result"
    }
   ],
   "source": [
    "list(range(20,2))"
   ]
  },
  {
   "cell_type": "code",
   "execution_count": 71,
   "id": "6c6334de",
   "metadata": {},
   "outputs": [
    {
     "data": {
      "text/plain": [
       "[1, 3, 5, 7, 9, 11, 13, 15, 17, 19]"
      ]
     },
     "execution_count": 71,
     "metadata": {},
     "output_type": "execute_result"
    }
   ],
   "source": [
    "list(range(1,20,2))"
   ]
  },
  {
   "cell_type": "code",
   "execution_count": 72,
   "id": "4990c47f",
   "metadata": {},
   "outputs": [
    {
     "data": {
      "text/plain": [
       "[1, 3, 5, 7, 9, 11, 13, 15, 17, 19]"
      ]
     },
     "execution_count": 72,
     "metadata": {},
     "output_type": "execute_result"
    }
   ],
   "source": [
    "a=list(range(1,20,2))\n",
    "a"
   ]
  },
  {
   "cell_type": "code",
   "execution_count": 73,
   "id": "43d66381",
   "metadata": {},
   "outputs": [
    {
     "data": {
      "text/plain": [
       "[5, 7, 9]"
      ]
     },
     "execution_count": 73,
     "metadata": {},
     "output_type": "execute_result"
    }
   ],
   "source": [
    "a[2:5]"
   ]
  },
  {
   "cell_type": "code",
   "execution_count": 75,
   "id": "fdd7ad2b",
   "metadata": {},
   "outputs": [
    {
     "ename": "SyntaxError",
     "evalue": "invalid syntax (<ipython-input-75-6d054fa11176>, line 1)",
     "output_type": "error",
     "traceback": [
      "\u001b[1;36m  File \u001b[1;32m\"<ipython-input-75-6d054fa11176>\"\u001b[1;36m, line \u001b[1;32m1\u001b[0m\n\u001b[1;33m    list(range(,2))\u001b[0m\n\u001b[1;37m               ^\u001b[0m\n\u001b[1;31mSyntaxError\u001b[0m\u001b[1;31m:\u001b[0m invalid syntax\n"
     ]
    }
   ],
   "source": [
    "list(range(,2))"
   ]
  },
  {
   "cell_type": "code",
   "execution_count": 76,
   "id": "b067e152",
   "metadata": {},
   "outputs": [
    {
     "ename": "SyntaxError",
     "evalue": "invalid syntax (<ipython-input-76-95a3a9a83348>, line 1)",
     "output_type": "error",
     "traceback": [
      "\u001b[1;36m  File \u001b[1;32m\"<ipython-input-76-95a3a9a83348>\"\u001b[1;36m, line \u001b[1;32m1\u001b[0m\n\u001b[1;33m    list(range(:2))\u001b[0m\n\u001b[1;37m               ^\u001b[0m\n\u001b[1;31mSyntaxError\u001b[0m\u001b[1;31m:\u001b[0m invalid syntax\n"
     ]
    }
   ],
   "source": [
    "list(range(:2))"
   ]
  },
  {
   "cell_type": "code",
   "execution_count": 77,
   "id": "312f712b",
   "metadata": {},
   "outputs": [
    {
     "data": {
      "text/plain": [
       "[]"
      ]
     },
     "execution_count": 77,
     "metadata": {},
     "output_type": "execute_result"
    }
   ],
   "source": [
    "list(range(2,2))"
   ]
  },
  {
   "cell_type": "code",
   "execution_count": 78,
   "id": "d228d1c8",
   "metadata": {},
   "outputs": [
    {
     "data": {
      "text/plain": [
       "[2]"
      ]
     },
     "execution_count": 78,
     "metadata": {},
     "output_type": "execute_result"
    }
   ],
   "source": [
    "list(range(2,3))"
   ]
  },
  {
   "cell_type": "code",
   "execution_count": 80,
   "id": "56b06d1d",
   "metadata": {},
   "outputs": [
    {
     "name": "stdout",
     "output_type": "stream",
     "text": [
      "Val is : 0\n",
      "**********************************************************************\n",
      "Val is : 1\n",
      "**********************************************************************\n",
      "Val is : 2\n",
      "**********************************************************************\n",
      "Val is : 3\n",
      "**********************************************************************\n",
      "Val is : 4\n",
      "**********************************************************************\n"
     ]
    }
   ],
   "source": [
    "for val in range(0,5):\n",
    "    print('Val is :',val)\n",
    "    print('*'*70)"
   ]
  },
  {
   "cell_type": "code",
   "execution_count": 82,
   "id": "5066e5e4",
   "metadata": {},
   "outputs": [
    {
     "name": "stdout",
     "output_type": "stream",
     "text": [
      "Length of list is: 5\n",
      "Val is : 0\n",
      "Val is : 1\n",
      "Val is : 2\n",
      "Val is : 3\n",
      "Val is : 4\n"
     ]
    }
   ],
   "source": [
    "sub_names = ['Eng', 'Math', 'Sci', 'Geo', 'Hist']\n",
    "\n",
    "length = len(sub_names)\n",
    "print('Length of list is:',length)\n",
    "\n",
    "for i in range(0, length):\n",
    "    print('Val is :',i)"
   ]
  },
  {
   "cell_type": "code",
   "execution_count": 83,
   "id": "7ec7c607",
   "metadata": {},
   "outputs": [
    {
     "name": "stdout",
     "output_type": "stream",
     "text": [
      "Length of list is: 5\n",
      "Val is : 0\n",
      "Eng\n",
      "Val is : 1\n",
      "Math\n",
      "Val is : 2\n",
      "Sci\n",
      "Val is : 3\n",
      "Geo\n",
      "Val is : 4\n",
      "Hist\n"
     ]
    }
   ],
   "source": [
    "sub_names = ['Eng', 'Math', 'Sci', 'Geo', 'Hist']\n",
    "\n",
    "length = len(sub_names)\n",
    "print('Length of list is:',length)\n",
    "\n",
    "for i in range(0, length):\n",
    "    print('Val is :',i)\n",
    "    print(sub_names[i])"
   ]
  },
  {
   "cell_type": "code",
   "execution_count": 84,
   "id": "1cdb1eef",
   "metadata": {},
   "outputs": [
    {
     "name": "stdout",
     "output_type": "stream",
     "text": [
      "Length of list is: 5\n",
      "Val is : 0\n",
      "Eng\n",
      "Val is : 1\n",
      "Eng\n",
      "Val is : 2\n",
      "Eng\n",
      "Val is : 3\n",
      "Eng\n",
      "Val is : 4\n",
      "Eng\n"
     ]
    }
   ],
   "source": [
    "sub_names = ['Eng', 'Math', 'Sci', 'Geo', 'Hist']\n",
    "\n",
    "length = len(sub_names)\n",
    "print('Length of list is:',length)\n",
    "\n",
    "for i in range(0, length):\n",
    "    print('Val is :',i)\n",
    "    print(sub_names[0])"
   ]
  },
  {
   "cell_type": "code",
   "execution_count": 85,
   "id": "90003b89",
   "metadata": {},
   "outputs": [
    {
     "name": "stdout",
     "output_type": "stream",
     "text": [
      "Length of list is: 5\n",
      "Eng\n",
      "######################################################################\n",
      "Math\n",
      "######################################################################\n",
      "Sci\n",
      "######################################################################\n",
      "Geo\n",
      "######################################################################\n",
      "Hist\n",
      "######################################################################\n"
     ]
    }
   ],
   "source": [
    "sub_names = ['Eng', 'Math', 'Sci', 'Geo', 'Hist']\n",
    "\n",
    "length = len(sub_names)\n",
    "print('Length of list is:',length)\n",
    "\n",
    "for i in range(0, length):\n",
    "#     print('Val is :',i)\n",
    "    print(sub_names[i])\n",
    "    print('#'*70)"
   ]
  },
  {
   "cell_type": "code",
   "execution_count": 86,
   "id": "e336de43",
   "metadata": {},
   "outputs": [
    {
     "name": "stdout",
     "output_type": "stream",
     "text": [
      "Length of list is: 5\n",
      "ENG\n",
      "######################################################################\n",
      "MATH\n",
      "######################################################################\n",
      "SCI\n",
      "######################################################################\n",
      "GEO\n",
      "######################################################################\n",
      "HIST\n",
      "######################################################################\n"
     ]
    }
   ],
   "source": [
    "sub_names = ['Eng', 'Math', 'Sci', 'Geo', 'Hist']\n",
    "\n",
    "length = len(sub_names)\n",
    "print('Length of list is:',length)\n",
    "\n",
    "for i in range(0, length):\n",
    "#     print('Val is :',i)\n",
    "    print(sub_names[i].upper())\n",
    "    print('#'*70)"
   ]
  },
  {
   "cell_type": "code",
   "execution_count": 94,
   "id": "9da2a000",
   "metadata": {},
   "outputs": [
    {
     "name": "stdout",
     "output_type": "stream",
     "text": [
      "length of student list: 3\n",
      "SAGAR\n",
      "AKASH\n",
      "RAHUL\n"
     ]
    }
   ],
   "source": [
    "student = ['sagar', 'akash','rahul']\n",
    "\n",
    "length = len(student)\n",
    "print('length of student list:',length)\n",
    "\n",
    "\n",
    "for i in range(0,length):\n",
    "    print(student[i].upper())\n",
    "    "
   ]
  },
  {
   "cell_type": "code",
   "execution_count": 88,
   "id": "878fca86",
   "metadata": {},
   "outputs": [
    {
     "data": {
      "text/plain": [
       "range(1, 5)"
      ]
     },
     "execution_count": 88,
     "metadata": {},
     "output_type": "execute_result"
    }
   ],
   "source": [
    "range(1,5)"
   ]
  },
  {
   "cell_type": "code",
   "execution_count": 93,
   "id": "98174422",
   "metadata": {},
   "outputs": [
    {
     "data": {
      "text/plain": [
       "'sagar'"
      ]
     },
     "execution_count": 93,
     "metadata": {},
     "output_type": "execute_result"
    }
   ],
   "source": [
    "student[0]"
   ]
  },
  {
   "cell_type": "code",
   "execution_count": 98,
   "id": "02ccd4f6",
   "metadata": {},
   "outputs": [
    {
     "name": "stdout",
     "output_type": "stream",
     "text": [
      "Value at index 0 is Sci\n",
      "************************************************************\n",
      "Value at index 1 is Geo\n",
      "************************************************************\n",
      "Value at index 2 is Hist\n",
      "************************************************************\n",
      "Value at index 3 is phy\n",
      "************************************************************\n"
     ]
    }
   ],
   "source": [
    "sub_names = ['Eng', 'Math', 'Sci', 'Geo', 'Hist','phy','chem','bio']\n",
    "\n",
    "for index,sub in enumerate(sub_names[2:6]):\n",
    "    print(f\"Value at index {index} is {sub}\")\n",
    "    print('*'*60)"
   ]
  },
  {
   "cell_type": "code",
   "execution_count": 97,
   "id": "68d93d05",
   "metadata": {},
   "outputs": [
    {
     "data": {
      "text/plain": [
       "['Sci', 'Geo', 'Hist', 'phy']"
      ]
     },
     "execution_count": 97,
     "metadata": {},
     "output_type": "execute_result"
    }
   ],
   "source": [
    "sub_names[2:6]"
   ]
  },
  {
   "cell_type": "code",
   "execution_count": null,
   "id": "ae9bd913",
   "metadata": {},
   "outputs": [],
   "source": []
  }
 ],
 "metadata": {
  "kernelspec": {
   "display_name": "Python 3 (ipykernel)",
   "language": "python",
   "name": "python3"
  },
  "language_info": {
   "codemirror_mode": {
    "name": "ipython",
    "version": 3
   },
   "file_extension": ".py",
   "mimetype": "text/x-python",
   "name": "python",
   "nbconvert_exporter": "python",
   "pygments_lexer": "ipython3",
   "version": "3.9.13"
  }
 },
 "nbformat": 4,
 "nbformat_minor": 5
}
