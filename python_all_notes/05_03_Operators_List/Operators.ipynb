{
 "cells": [
  {
   "cell_type": "markdown",
   "id": "03f1575f",
   "metadata": {},
   "source": [
    "## 6. Identity Operators"
   ]
  },
  {
   "cell_type": "code",
   "execution_count": null,
   "id": "10381551",
   "metadata": {},
   "outputs": [],
   "source": [
    "is\n",
    "is not"
   ]
  },
  {
   "cell_type": "code",
   "execution_count": 1,
   "id": "cce421ac",
   "metadata": {},
   "outputs": [
    {
     "data": {
      "text/plain": [
       "True"
      ]
     },
     "execution_count": 1,
     "metadata": {},
     "output_type": "execute_result"
    }
   ],
   "source": [
    "a = 5\n",
    "b = 5 \n",
    "a == b"
   ]
  },
  {
   "cell_type": "code",
   "execution_count": 2,
   "id": "d828e47a",
   "metadata": {},
   "outputs": [
    {
     "data": {
      "text/plain": [
       "True"
      ]
     },
     "execution_count": 2,
     "metadata": {},
     "output_type": "execute_result"
    }
   ],
   "source": [
    "a = 5\n",
    "b = 5 \n",
    "a is b"
   ]
  },
  {
   "cell_type": "code",
   "execution_count": 5,
   "id": "0b764a24",
   "metadata": {},
   "outputs": [
    {
     "name": "stdout",
     "output_type": "stream",
     "text": [
      "140724589045680\n",
      "140724589045680\n"
     ]
    },
    {
     "data": {
      "text/plain": [
       "True"
      ]
     },
     "execution_count": 5,
     "metadata": {},
     "output_type": "execute_result"
    }
   ],
   "source": [
    "a = 5\n",
    "b = 5 \n",
    "print(id(a))\n",
    "print(id(b))\n",
    "a is b"
   ]
  },
  {
   "cell_type": "code",
   "execution_count": 7,
   "id": "2727c678",
   "metadata": {},
   "outputs": [
    {
     "name": "stdout",
     "output_type": "stream",
     "text": [
      "140724589047120\n",
      "140724589045680\n"
     ]
    },
    {
     "data": {
      "text/plain": [
       "False"
      ]
     },
     "execution_count": 7,
     "metadata": {},
     "output_type": "execute_result"
    }
   ],
   "source": [
    "a = 50\n",
    "b = 5 \n",
    "print(id(a))\n",
    "print(id(b))\n",
    "a is b"
   ]
  },
  {
   "cell_type": "code",
   "execution_count": 8,
   "id": "01b83f27",
   "metadata": {},
   "outputs": [
    {
     "name": "stdout",
     "output_type": "stream",
     "text": [
      "140724589047120\n",
      "140724589047152\n"
     ]
    },
    {
     "data": {
      "text/plain": [
       "False"
      ]
     },
     "execution_count": 8,
     "metadata": {},
     "output_type": "execute_result"
    }
   ],
   "source": [
    "a = 50\n",
    "b = 51\n",
    "print(id(a))\n",
    "print(id(b))\n",
    "a is b"
   ]
  },
  {
   "cell_type": "code",
   "execution_count": 9,
   "id": "eab6d320",
   "metadata": {},
   "outputs": [
    {
     "name": "stdout",
     "output_type": "stream",
     "text": [
      "140724589048720\n",
      "140724589048720\n"
     ]
    },
    {
     "data": {
      "text/plain": [
       "True"
      ]
     },
     "execution_count": 9,
     "metadata": {},
     "output_type": "execute_result"
    }
   ],
   "source": [
    "a = 100\n",
    "b = 100\n",
    "print(id(a))\n",
    "print(id(b))\n",
    "a is b"
   ]
  },
  {
   "cell_type": "code",
   "execution_count": 10,
   "id": "a70b9423",
   "metadata": {},
   "outputs": [
    {
     "name": "stdout",
     "output_type": "stream",
     "text": [
      "2516482052432\n",
      "2516482053616\n"
     ]
    },
    {
     "data": {
      "text/plain": [
       "False"
      ]
     },
     "execution_count": 10,
     "metadata": {},
     "output_type": "execute_result"
    }
   ],
   "source": [
    "a = 257\n",
    "b = 257\n",
    "print(id(a))\n",
    "print(id(b))\n",
    "a is b"
   ]
  },
  {
   "cell_type": "code",
   "execution_count": 11,
   "id": "61dc9341",
   "metadata": {},
   "outputs": [
    {
     "name": "stdout",
     "output_type": "stream",
     "text": [
      "2516482053296\n",
      "2516482052400\n"
     ]
    },
    {
     "data": {
      "text/plain": [
       "False"
      ]
     },
     "execution_count": 11,
     "metadata": {},
     "output_type": "execute_result"
    }
   ],
   "source": [
    "a = 2571\n",
    "b = 2571\n",
    "print(id(a))\n",
    "print(id(b))\n",
    "a is b"
   ]
  },
  {
   "cell_type": "code",
   "execution_count": 12,
   "id": "6c3fe287",
   "metadata": {},
   "outputs": [
    {
     "name": "stdout",
     "output_type": "stream",
     "text": [
      "2516482053936\n",
      "2516482053328\n"
     ]
    },
    {
     "data": {
      "text/plain": [
       "True"
      ]
     },
     "execution_count": 12,
     "metadata": {},
     "output_type": "execute_result"
    }
   ],
   "source": [
    "a = 2571\n",
    "b = 2571\n",
    "print(id(a))\n",
    "print(id(b))\n",
    "a is not b"
   ]
  },
  {
   "cell_type": "code",
   "execution_count": 13,
   "id": "829801f1",
   "metadata": {},
   "outputs": [
    {
     "name": "stdout",
     "output_type": "stream",
     "text": [
      "2516450302064\n",
      "2516450302064\n"
     ]
    },
    {
     "data": {
      "text/plain": [
       "True"
      ]
     },
     "execution_count": 13,
     "metadata": {},
     "output_type": "execute_result"
    }
   ],
   "source": [
    "str1 = 'python'\n",
    "str2 = 'python'\n",
    "print(id(str1))\n",
    "print(id(str2))\n",
    "str1 is str2"
   ]
  },
  {
   "cell_type": "code",
   "execution_count": 14,
   "id": "ef9284b9",
   "metadata": {},
   "outputs": [
    {
     "name": "stdout",
     "output_type": "stream",
     "text": [
      "2516482275376\n",
      "2516482274416\n"
     ]
    },
    {
     "data": {
      "text/plain": [
       "False"
      ]
     },
     "execution_count": 14,
     "metadata": {},
     "output_type": "execute_result"
    }
   ],
   "source": [
    "str1 = 'python class'\n",
    "str2 = 'python class'\n",
    "print(id(str1))\n",
    "print(id(str2))\n",
    "str1 is str2"
   ]
  },
  {
   "cell_type": "code",
   "execution_count": 15,
   "id": "09eac405",
   "metadata": {},
   "outputs": [
    {
     "name": "stdout",
     "output_type": "stream",
     "text": [
      "2516482276976\n",
      "2516482276912\n"
     ]
    },
    {
     "data": {
      "text/plain": [
       "True"
      ]
     },
     "execution_count": 15,
     "metadata": {},
     "output_type": "execute_result"
    }
   ],
   "source": [
    "str1 = 'python class'\n",
    "str2 = 'python class'\n",
    "print(id(str1))\n",
    "print(id(str2))\n",
    "str1 is not str2"
   ]
  },
  {
   "cell_type": "markdown",
   "id": "78f39e6e",
   "metadata": {},
   "source": [
    "## 7. Bitwise Operators"
   ]
  },
  {
   "cell_type": "code",
   "execution_count": null,
   "id": "b1a30f7a",
   "metadata": {},
   "outputs": [],
   "source": [
    "& >> Bitwise and\n",
    "| >> Bitwise or\n",
    "^ >> Bitweise xor\n",
    ">> : right shift\n",
    "<< : left shift\n",
    "~  : complement(tilde)    \n"
   ]
  },
  {
   "cell_type": "markdown",
   "id": "6a4f172c",
   "metadata": {},
   "source": [
    "#### Bitwise (&) AND"
   ]
  },
  {
   "cell_type": "code",
   "execution_count": 16,
   "id": "2cafa8a3",
   "metadata": {},
   "outputs": [
    {
     "data": {
      "text/plain": [
       "'0b1011'"
      ]
     },
     "execution_count": 16,
     "metadata": {},
     "output_type": "execute_result"
    }
   ],
   "source": [
    "bin(11)"
   ]
  },
  {
   "cell_type": "code",
   "execution_count": null,
   "id": "97131898",
   "metadata": {},
   "outputs": [],
   "source": [
    "11 >> 1011"
   ]
  },
  {
   "cell_type": "code",
   "execution_count": 17,
   "id": "327a3cbe",
   "metadata": {},
   "outputs": [
    {
     "data": {
      "text/plain": [
       "'0b1101'"
      ]
     },
     "execution_count": 17,
     "metadata": {},
     "output_type": "execute_result"
    }
   ],
   "source": [
    "bin(13)"
   ]
  },
  {
   "cell_type": "code",
   "execution_count": null,
   "id": "8474bb92",
   "metadata": {},
   "outputs": [],
   "source": [
    "1 0 1 1   >> 11\n",
    "1 1 0 1   >> 13\n",
    "\n",
    "1 0 0 1   >> 9 "
   ]
  },
  {
   "cell_type": "code",
   "execution_count": 18,
   "id": "d17c65e4",
   "metadata": {},
   "outputs": [
    {
     "data": {
      "text/plain": [
       "9"
      ]
     },
     "execution_count": 18,
     "metadata": {},
     "output_type": "execute_result"
    }
   ],
   "source": [
    "11 & 13"
   ]
  },
  {
   "cell_type": "code",
   "execution_count": 19,
   "id": "f7dccae3",
   "metadata": {},
   "outputs": [
    {
     "data": {
      "text/plain": [
       "'0b1001'"
      ]
     },
     "execution_count": 19,
     "metadata": {},
     "output_type": "execute_result"
    }
   ],
   "source": [
    "bin(9)"
   ]
  },
  {
   "cell_type": "markdown",
   "id": "084677ba",
   "metadata": {},
   "source": [
    "#### Bitwise (|) OR"
   ]
  },
  {
   "cell_type": "code",
   "execution_count": null,
   "id": "7acf8e8f",
   "metadata": {},
   "outputs": [],
   "source": [
    "1 0 1 1   >> 11\n",
    "1 1 0 1   >> 13\n",
    "\n",
    "1 1 1 1   >> 15"
   ]
  },
  {
   "cell_type": "code",
   "execution_count": 20,
   "id": "d37f459f",
   "metadata": {},
   "outputs": [
    {
     "data": {
      "text/plain": [
       "15"
      ]
     },
     "execution_count": 20,
     "metadata": {},
     "output_type": "execute_result"
    }
   ],
   "source": [
    "11 | 13"
   ]
  },
  {
   "cell_type": "code",
   "execution_count": 21,
   "id": "f4bf2059",
   "metadata": {},
   "outputs": [
    {
     "data": {
      "text/plain": [
       "'0b1111'"
      ]
     },
     "execution_count": 21,
     "metadata": {},
     "output_type": "execute_result"
    }
   ],
   "source": [
    "bin(15)"
   ]
  },
  {
   "cell_type": "markdown",
   "id": "16eb2c40",
   "metadata": {},
   "source": [
    "#### Bitwise (^) XOR"
   ]
  },
  {
   "cell_type": "code",
   "execution_count": null,
   "id": "1498a569",
   "metadata": {},
   "outputs": [],
   "source": [
    "1 0 1 1   >> 11\n",
    "1 1 0 1   >> 13\n",
    "\n",
    "0 1 1 0   >> 6"
   ]
  },
  {
   "cell_type": "code",
   "execution_count": 22,
   "id": "e2082cfc",
   "metadata": {},
   "outputs": [
    {
     "data": {
      "text/plain": [
       "6"
      ]
     },
     "execution_count": 22,
     "metadata": {},
     "output_type": "execute_result"
    }
   ],
   "source": [
    "11 ^ 13"
   ]
  },
  {
   "cell_type": "code",
   "execution_count": 23,
   "id": "fef2139c",
   "metadata": {},
   "outputs": [
    {
     "data": {
      "text/plain": [
       "'0b110'"
      ]
     },
     "execution_count": 23,
     "metadata": {},
     "output_type": "execute_result"
    }
   ],
   "source": [
    "bin(6)"
   ]
  },
  {
   "cell_type": "code",
   "execution_count": null,
   "id": "aa2ea8b5",
   "metadata": {},
   "outputs": [],
   "source": [
    "1. Bitwise AND\n",
    "\n",
    "0 & 0 >> 0\n",
    "0 & 1 >> 0\n",
    "1 & 0 >> 0\n",
    "1 & 1 >> 1\n",
    "\n",
    "\n",
    "2. Bitwise OR\n",
    "\n",
    "0 | 0 >> 0\n",
    "0 | 1 >> 1\n",
    "1 | 0 >> 1\n",
    "1 | 1 >> 1\n",
    "\n",
    "\n",
    "3. Bitwise XOR\n",
    "\n",
    "0 ^ 0 >> 0\n",
    "0 ^ 1 >> 1\n",
    "1 ^ 0 >> 1\n",
    "1 ^ 1 >> 0"
   ]
  },
  {
   "cell_type": "markdown",
   "id": "ecfb65e3",
   "metadata": {},
   "source": [
    "#### Right shift : >>"
   ]
  },
  {
   "cell_type": "code",
   "execution_count": 24,
   "id": "c721c49e",
   "metadata": {},
   "outputs": [
    {
     "data": {
      "text/plain": [
       "'0b1011'"
      ]
     },
     "execution_count": 24,
     "metadata": {},
     "output_type": "execute_result"
    }
   ],
   "source": [
    "bin(11)"
   ]
  },
  {
   "cell_type": "code",
   "execution_count": 25,
   "id": "a81900fc",
   "metadata": {},
   "outputs": [
    {
     "data": {
      "text/plain": [
       "5"
      ]
     },
     "execution_count": 25,
     "metadata": {},
     "output_type": "execute_result"
    }
   ],
   "source": [
    "11 >> 1"
   ]
  },
  {
   "cell_type": "code",
   "execution_count": 26,
   "id": "ffbf2e07",
   "metadata": {},
   "outputs": [
    {
     "data": {
      "text/plain": [
       "'0b101'"
      ]
     },
     "execution_count": 26,
     "metadata": {},
     "output_type": "execute_result"
    }
   ],
   "source": [
    "bin(5)"
   ]
  },
  {
   "cell_type": "code",
   "execution_count": 27,
   "id": "3a1d6c6c",
   "metadata": {},
   "outputs": [
    {
     "data": {
      "text/plain": [
       "2"
      ]
     },
     "execution_count": 27,
     "metadata": {},
     "output_type": "execute_result"
    }
   ],
   "source": [
    "11 >> 2"
   ]
  },
  {
   "cell_type": "code",
   "execution_count": 28,
   "id": "e5b90c97",
   "metadata": {},
   "outputs": [
    {
     "data": {
      "text/plain": [
       "'0b10'"
      ]
     },
     "execution_count": 28,
     "metadata": {},
     "output_type": "execute_result"
    }
   ],
   "source": [
    "bin(2)"
   ]
  },
  {
   "cell_type": "code",
   "execution_count": null,
   "id": "2c057682",
   "metadata": {},
   "outputs": [],
   "source": [
    "11 >> 0"
   ]
  },
  {
   "cell_type": "code",
   "execution_count": 35,
   "id": "e82cc38a",
   "metadata": {},
   "outputs": [
    {
     "data": {
      "text/plain": [
       "'0b1010'"
      ]
     },
     "execution_count": 35,
     "metadata": {},
     "output_type": "execute_result"
    }
   ],
   "source": [
    "bin(10)"
   ]
  },
  {
   "cell_type": "markdown",
   "id": "d205fb78",
   "metadata": {},
   "source": [
    "#### Left shift <<"
   ]
  },
  {
   "cell_type": "code",
   "execution_count": 30,
   "id": "0ccf6918",
   "metadata": {},
   "outputs": [
    {
     "data": {
      "text/plain": [
       "22"
      ]
     },
     "execution_count": 30,
     "metadata": {},
     "output_type": "execute_result"
    }
   ],
   "source": [
    "11 << 1"
   ]
  },
  {
   "cell_type": "code",
   "execution_count": 29,
   "id": "33c85065",
   "metadata": {},
   "outputs": [
    {
     "data": {
      "text/plain": [
       "'0b1011'"
      ]
     },
     "execution_count": 29,
     "metadata": {},
     "output_type": "execute_result"
    }
   ],
   "source": [
    "bin(11)"
   ]
  },
  {
   "cell_type": "code",
   "execution_count": 31,
   "id": "393e0b00",
   "metadata": {},
   "outputs": [
    {
     "data": {
      "text/plain": [
       "'0b10110'"
      ]
     },
     "execution_count": 31,
     "metadata": {},
     "output_type": "execute_result"
    }
   ],
   "source": [
    "bin(22)"
   ]
  },
  {
   "cell_type": "code",
   "execution_count": 32,
   "id": "504c5a70",
   "metadata": {},
   "outputs": [
    {
     "data": {
      "text/plain": [
       "44"
      ]
     },
     "execution_count": 32,
     "metadata": {},
     "output_type": "execute_result"
    }
   ],
   "source": [
    "11 << 2"
   ]
  },
  {
   "cell_type": "code",
   "execution_count": 33,
   "id": "334cc092",
   "metadata": {},
   "outputs": [
    {
     "data": {
      "text/plain": [
       "'0b101100'"
      ]
     },
     "execution_count": 33,
     "metadata": {},
     "output_type": "execute_result"
    }
   ],
   "source": [
    "bin(44)"
   ]
  },
  {
   "cell_type": "code",
   "execution_count": 34,
   "id": "8a00d256",
   "metadata": {},
   "outputs": [
    {
     "data": {
      "text/plain": [
       "11"
      ]
     },
     "execution_count": 34,
     "metadata": {},
     "output_type": "execute_result"
    }
   ],
   "source": [
    "11 << 0"
   ]
  },
  {
   "cell_type": "code",
   "execution_count": 38,
   "id": "4e0a2b86",
   "metadata": {},
   "outputs": [
    {
     "ename": "TypeError",
     "evalue": "unsupported operand type(s) for <<: 'float' and 'int'",
     "output_type": "error",
     "traceback": [
      "\u001b[1;31m---------------------------------------------------------------------------\u001b[0m",
      "\u001b[1;31mTypeError\u001b[0m                                 Traceback (most recent call last)",
      "\u001b[1;32m<ipython-input-38-4e394845ebe6>\u001b[0m in \u001b[0;36m<module>\u001b[1;34m\u001b[0m\n\u001b[1;32m----> 1\u001b[1;33m \u001b[1;36m11.5\u001b[0m \u001b[1;33m<<\u001b[0m \u001b[1;36m1\u001b[0m\u001b[1;33m\u001b[0m\u001b[1;33m\u001b[0m\u001b[0m\n\u001b[0m",
      "\u001b[1;31mTypeError\u001b[0m: unsupported operand type(s) for <<: 'float' and 'int'"
     ]
    }
   ],
   "source": [
    "11.5 << 1"
   ]
  },
  {
   "cell_type": "code",
   "execution_count": 39,
   "id": "5c0736a0",
   "metadata": {},
   "outputs": [
    {
     "data": {
      "text/plain": [
       "'0o14'"
      ]
     },
     "execution_count": 39,
     "metadata": {},
     "output_type": "execute_result"
    }
   ],
   "source": [
    "oct(12)"
   ]
  },
  {
   "cell_type": "code",
   "execution_count": 40,
   "id": "deac37f0",
   "metadata": {},
   "outputs": [
    {
     "data": {
      "text/plain": [
       "'0xc'"
      ]
     },
     "execution_count": 40,
     "metadata": {},
     "output_type": "execute_result"
    }
   ],
   "source": [
    "hex(12)"
   ]
  },
  {
   "cell_type": "code",
   "execution_count": 41,
   "id": "695f979d",
   "metadata": {},
   "outputs": [
    {
     "name": "stdout",
     "output_type": "stream",
     "text": [
      "a is even number\n"
     ]
    }
   ],
   "source": [
    "a = 6 \n",
    "if a%2==0:\n",
    "    print('a is even number')\n",
    "\n",
    "else:\n",
    "    print('a is odd number')"
   ]
  },
  {
   "cell_type": "code",
   "execution_count": 44,
   "id": "101d179e",
   "metadata": {},
   "outputs": [
    {
     "name": "stdout",
     "output_type": "stream",
     "text": [
      "a is odd number\n"
     ]
    }
   ],
   "source": [
    "a = 5\n",
    "if a%2==0:\n",
    "    print('a is even number')\n",
    "\n",
    "else:\n",
    "    print('a is odd number')"
   ]
  },
  {
   "cell_type": "code",
   "execution_count": 43,
   "id": "63e27f37",
   "metadata": {},
   "outputs": [
    {
     "data": {
      "text/plain": [
       "1"
      ]
     },
     "execution_count": 43,
     "metadata": {},
     "output_type": "execute_result"
    }
   ],
   "source": [
    "a=5\n",
    "a%2"
   ]
  },
  {
   "cell_type": "code",
   "execution_count": 45,
   "id": "beb35f12",
   "metadata": {},
   "outputs": [
    {
     "name": "stdout",
     "output_type": "stream",
     "text": [
      "a is odd number\n"
     ]
    }
   ],
   "source": [
    "a = 5\n",
    "if a%2!=0:\n",
    "    print('a is odd number')\n",
    "\n",
    "else:\n",
    "    print('a is even number')"
   ]
  },
  {
   "cell_type": "code",
   "execution_count": 48,
   "id": "71ddc0d3",
   "metadata": {},
   "outputs": [
    {
     "name": "stdout",
     "output_type": "stream",
     "text": [
      "a is even number\n"
     ]
    }
   ],
   "source": [
    "a = 14\n",
    "if a%2==1:\n",
    "    print('a is odd number')\n",
    "\n",
    "else:\n",
    "    print('a is even number')"
   ]
  },
  {
   "cell_type": "code",
   "execution_count": 49,
   "id": "c7747749",
   "metadata": {},
   "outputs": [
    {
     "name": "stdout",
     "output_type": "stream",
     "text": [
      "Enter a number:67\n",
      "a is odd number\n"
     ]
    }
   ],
   "source": [
    "a = int(input('Enter a number:'))\n",
    "if a%2==1:\n",
    "    print('a is odd number')\n",
    "\n",
    "else:\n",
    "    print('a is even number')"
   ]
  },
  {
   "cell_type": "code",
   "execution_count": 50,
   "id": "d083d8f2",
   "metadata": {},
   "outputs": [
    {
     "name": "stdout",
     "output_type": "stream",
     "text": [
      "Enter a number:100\n",
      "a is even number\n"
     ]
    }
   ],
   "source": [
    "a = int(input('Enter a number:'))\n",
    "if a%2==1:\n",
    "    print('a is odd number')\n",
    "\n",
    "else:\n",
    "    print('a is even number')"
   ]
  },
  {
   "cell_type": "code",
   "execution_count": null,
   "id": "a0bee40a",
   "metadata": {},
   "outputs": [],
   "source": [
    "w3schools\n",
    "w3resource\n",
    "javatpoint\n",
    "hackerearth\n",
    "hackerrank\n",
    "geeksforgeeks\n"
   ]
  },
  {
   "cell_type": "code",
   "execution_count": null,
   "id": "f65bb1f3",
   "metadata": {},
   "outputs": [],
   "source": []
  },
  {
   "cell_type": "code",
   "execution_count": null,
   "id": "028e788d",
   "metadata": {},
   "outputs": [],
   "source": []
  },
  {
   "cell_type": "code",
   "execution_count": null,
   "id": "d38472dd",
   "metadata": {},
   "outputs": [],
   "source": []
  },
  {
   "cell_type": "code",
   "execution_count": null,
   "id": "a8bf42ed",
   "metadata": {},
   "outputs": [],
   "source": []
  },
  {
   "cell_type": "code",
   "execution_count": null,
   "id": "bbc56f59",
   "metadata": {},
   "outputs": [],
   "source": []
  },
  {
   "cell_type": "code",
   "execution_count": null,
   "id": "1aa7b891",
   "metadata": {},
   "outputs": [],
   "source": []
  },
  {
   "cell_type": "code",
   "execution_count": null,
   "id": "a9f9bb7a",
   "metadata": {},
   "outputs": [],
   "source": []
  },
  {
   "cell_type": "code",
   "execution_count": null,
   "id": "a84fb750",
   "metadata": {},
   "outputs": [],
   "source": []
  },
  {
   "cell_type": "code",
   "execution_count": null,
   "id": "13681246",
   "metadata": {},
   "outputs": [],
   "source": []
  },
  {
   "cell_type": "code",
   "execution_count": null,
   "id": "937344e8",
   "metadata": {},
   "outputs": [],
   "source": []
  },
  {
   "cell_type": "code",
   "execution_count": null,
   "id": "e79a415a",
   "metadata": {},
   "outputs": [],
   "source": []
  },
  {
   "cell_type": "code",
   "execution_count": null,
   "id": "a9864dba",
   "metadata": {},
   "outputs": [],
   "source": []
  },
  {
   "cell_type": "code",
   "execution_count": null,
   "id": "96796180",
   "metadata": {},
   "outputs": [],
   "source": []
  },
  {
   "cell_type": "code",
   "execution_count": null,
   "id": "b843082c",
   "metadata": {},
   "outputs": [],
   "source": []
  },
  {
   "cell_type": "code",
   "execution_count": null,
   "id": "4c17fc99",
   "metadata": {},
   "outputs": [],
   "source": []
  },
  {
   "cell_type": "code",
   "execution_count": null,
   "id": "35b936a0",
   "metadata": {},
   "outputs": [],
   "source": []
  },
  {
   "cell_type": "code",
   "execution_count": null,
   "id": "6e9c6c36",
   "metadata": {},
   "outputs": [],
   "source": []
  },
  {
   "cell_type": "code",
   "execution_count": null,
   "id": "b8dfe9dd",
   "metadata": {},
   "outputs": [],
   "source": []
  }
 ],
 "metadata": {
  "kernelspec": {
   "display_name": "Python 3 (ipykernel)",
   "language": "python",
   "name": "python3"
  },
  "language_info": {
   "codemirror_mode": {
    "name": "ipython",
    "version": 3
   },
   "file_extension": ".py",
   "mimetype": "text/x-python",
   "name": "python",
   "nbconvert_exporter": "python",
   "pygments_lexer": "ipython3",
   "version": "3.9.13"
  }
 },
 "nbformat": 4,
 "nbformat_minor": 5
}
