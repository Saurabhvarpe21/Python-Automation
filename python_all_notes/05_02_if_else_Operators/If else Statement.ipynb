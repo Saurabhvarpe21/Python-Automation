{
 "cells": [
  {
   "cell_type": "code",
   "execution_count": 1,
   "id": "b318d778",
   "metadata": {},
   "outputs": [],
   "source": [
    "a = 50\n",
    "b = 100\n",
    "\n",
    "if a>=b:\n",
    "    print('a id greater than b')"
   ]
  },
  {
   "cell_type": "code",
   "execution_count": 2,
   "id": "1bd820e2",
   "metadata": {},
   "outputs": [
    {
     "name": "stdout",
     "output_type": "stream",
     "text": [
      "a id smaller than b\n"
     ]
    }
   ],
   "source": [
    "a = 50\n",
    "b = 100\n",
    "\n",
    "if a<=b:\n",
    "    print('a id smaller than b')"
   ]
  },
  {
   "cell_type": "markdown",
   "id": "1ad78110",
   "metadata": {},
   "source": [
    "## Short hand if statement"
   ]
  },
  {
   "cell_type": "code",
   "execution_count": 4,
   "id": "4141e893",
   "metadata": {},
   "outputs": [
    {
     "name": "stdout",
     "output_type": "stream",
     "text": [
      "a is smaller than b\n"
     ]
    }
   ],
   "source": [
    "if a <= b: print('a is smaller than b')"
   ]
  },
  {
   "cell_type": "code",
   "execution_count": 5,
   "id": "79ae16c0",
   "metadata": {},
   "outputs": [
    {
     "name": "stdout",
     "output_type": "stream",
     "text": [
      "40 is greater than 10 and 20\n"
     ]
    }
   ],
   "source": [
    "x = 10\n",
    "y = 20\n",
    "z = 40\n",
    "\n",
    "if z>=x and z>=y: print(f'{z} is greater than {x} and {y}')"
   ]
  },
  {
   "cell_type": "code",
   "execution_count": 6,
   "id": "9ff0110d",
   "metadata": {},
   "outputs": [],
   "source": [
    "x = 10\n",
    "y = 20\n",
    "z = 40\n",
    "\n",
    "if z>=x and z<=y: print(f'{z} is greater than {x} and {y}')"
   ]
  },
  {
   "cell_type": "markdown",
   "id": "2c743ae2",
   "metadata": {},
   "source": [
    "## short hand if else statement"
   ]
  },
  {
   "cell_type": "code",
   "execution_count": 7,
   "id": "1a81dc98",
   "metadata": {},
   "outputs": [
    {
     "name": "stdout",
     "output_type": "stream",
     "text": [
      "b is greater than a\n"
     ]
    }
   ],
   "source": [
    "a = 50 \n",
    "b = 60\n",
    "\n",
    "if a >= b:\n",
    "    print('a is greater than b')\n",
    "    \n",
    "else:\n",
    "    print('b is greater than a')"
   ]
  },
  {
   "cell_type": "code",
   "execution_count": 8,
   "id": "c59a644f",
   "metadata": {},
   "outputs": [
    {
     "name": "stdout",
     "output_type": "stream",
     "text": [
      "a is smaller than b\n"
     ]
    }
   ],
   "source": [
    "a = 50 \n",
    "b = 60\n",
    "\n",
    "if a <= b:\n",
    "    print('a is smaller than b')\n",
    "    \n",
    "else:\n",
    "    print('b is smaller than a')"
   ]
  },
  {
   "cell_type": "code",
   "execution_count": 9,
   "id": "44ae09f4",
   "metadata": {},
   "outputs": [
    {
     "name": "stdout",
     "output_type": "stream",
     "text": [
      "a is smaller than b\n"
     ]
    }
   ],
   "source": [
    "print('a is smaller than b') if a <= b else print('b is smaller than a')"
   ]
  },
  {
   "cell_type": "code",
   "execution_count": 10,
   "id": "f301b489",
   "metadata": {},
   "outputs": [
    {
     "name": "stdout",
     "output_type": "stream",
     "text": [
      "string is in lower case\n"
     ]
    }
   ],
   "source": [
    "string = 'python'\n",
    "\n",
    "print('string is in lower case') if string.islower() else print('String is not in lower case')"
   ]
  },
  {
   "cell_type": "code",
   "execution_count": 11,
   "id": "8a8a58e9",
   "metadata": {},
   "outputs": [
    {
     "name": "stdout",
     "output_type": "stream",
     "text": [
      "String is not in lower case\n"
     ]
    }
   ],
   "source": [
    "string = 'Python'\n",
    "\n",
    "print('string is in lower case') if string.islower() else print('String is not in lower case')"
   ]
  },
  {
   "cell_type": "code",
   "execution_count": 13,
   "id": "349dd803",
   "metadata": {},
   "outputs": [
    {
     "ename": "IndentationError",
     "evalue": "expected an indented block (<ipython-input-13-e5b00c14182a>, line 6)",
     "output_type": "error",
     "traceback": [
      "\u001b[1;36m  File \u001b[1;32m\"<ipython-input-13-e5b00c14182a>\"\u001b[1;36m, line \u001b[1;32m6\u001b[0m\n\u001b[1;33m    else:\u001b[0m\n\u001b[1;37m    ^\u001b[0m\n\u001b[1;31mIndentationError\u001b[0m\u001b[1;31m:\u001b[0m expected an indented block\n"
     ]
    }
   ],
   "source": [
    "x = 10\n",
    "y = 15\n",
    "if x <= y :\n",
    "#     print('x is smaller than y')\n",
    "    \n",
    "else:\n",
    "    print('x is greater than y')"
   ]
  },
  {
   "cell_type": "markdown",
   "id": "4b41c25a",
   "metadata": {},
   "source": [
    "## pass statement"
   ]
  },
  {
   "cell_type": "code",
   "execution_count": null,
   "id": "08f6b9ad",
   "metadata": {},
   "outputs": [],
   "source": [
    "-It is used to avoid errors\n",
    "-if you want to do nothing\n",
    "-if statement, and loops"
   ]
  },
  {
   "cell_type": "code",
   "execution_count": 17,
   "id": "2b933055",
   "metadata": {},
   "outputs": [
    {
     "name": "stdout",
     "output_type": "stream",
     "text": [
      "x is greater than y\n"
     ]
    }
   ],
   "source": [
    "x = 100\n",
    "y = 15\n",
    "if x >= y :\n",
    "    print('x is greater than y')\n",
    "    pass\n",
    "else:\n",
    "    print('y is greater than x')"
   ]
  },
  {
   "cell_type": "code",
   "execution_count": 19,
   "id": "c7a14d00",
   "metadata": {},
   "outputs": [],
   "source": [
    "x = 100\n",
    "y = 15\n",
    "if x >= y :\n",
    "    print('x is greater than y')\n",
    "    pass\n",
    "\n",
    "else:\n",
    "    print('y is greater than x')"
   ]
  },
  {
   "cell_type": "code",
   "execution_count": 21,
   "id": "63ff0867",
   "metadata": {},
   "outputs": [
    {
     "name": "stdout",
     "output_type": "stream",
     "text": [
      "x is greater than or equal to y\n",
      "We are testing pass statement\n"
     ]
    }
   ],
   "source": [
    "x = 100\n",
    "y = 15\n",
    "if x >= y :\n",
    "    print('x is greater than or equal to y')\n",
    "    print('We are testing pass statement')\n",
    "    pass\n",
    "\n",
    "else:\n",
    "    print('y is greater than x')"
   ]
  },
  {
   "cell_type": "code",
   "execution_count": 25,
   "id": "788a04b2",
   "metadata": {},
   "outputs": [],
   "source": [
    "a = 500\n",
    "b = 1000\n",
    "c = 60 \n",
    "\n",
    "if a >= b:\n",
    "    print('a is greater than or equal to b')\n",
    "    pass\n",
    "    \n",
    "elif a > c:\n",
    "    pass\n",
    "    "
   ]
  },
  {
   "cell_type": "code",
   "execution_count": 26,
   "id": "9f008aca",
   "metadata": {},
   "outputs": [
    {
     "name": "stdout",
     "output_type": "stream",
     "text": [
      "a is greater than c\n"
     ]
    }
   ],
   "source": [
    "a = 500\n",
    "b = 1000\n",
    "c = 60 \n",
    "\n",
    "if a >= b:\n",
    "    print('a is greater than or equal to b')\n",
    "    pass\n",
    "    \n",
    "elif a > c:\n",
    "    print('a is greater than c')\n",
    "    pass\n",
    "    "
   ]
  },
  {
   "cell_type": "code",
   "execution_count": 27,
   "id": "71d5fe65",
   "metadata": {},
   "outputs": [
    {
     "name": "stdout",
     "output_type": "stream",
     "text": [
      "a is greater than c\n",
      "HII\n"
     ]
    }
   ],
   "source": [
    "a = 500\n",
    "b = 1000\n",
    "c = 60 \n",
    "\n",
    "if a >= b:\n",
    "    print('a is greater than or equal to b')\n",
    "    pass\n",
    "    \n",
    "elif a > c:\n",
    "    print('a is greater than c')\n",
    "    pass\n",
    "    print('HII')"
   ]
  },
  {
   "cell_type": "code",
   "execution_count": null,
   "id": "342725f3",
   "metadata": {},
   "outputs": [],
   "source": []
  },
  {
   "cell_type": "code",
   "execution_count": null,
   "id": "314f5754",
   "metadata": {},
   "outputs": [],
   "source": []
  },
  {
   "cell_type": "code",
   "execution_count": null,
   "id": "2c5df34b",
   "metadata": {},
   "outputs": [],
   "source": []
  },
  {
   "cell_type": "code",
   "execution_count": null,
   "id": "8d2bb072",
   "metadata": {},
   "outputs": [],
   "source": []
  },
  {
   "cell_type": "code",
   "execution_count": null,
   "id": "d8ea6280",
   "metadata": {},
   "outputs": [],
   "source": []
  },
  {
   "cell_type": "code",
   "execution_count": null,
   "id": "b3f54d94",
   "metadata": {},
   "outputs": [],
   "source": []
  },
  {
   "cell_type": "code",
   "execution_count": null,
   "id": "397c1f85",
   "metadata": {},
   "outputs": [],
   "source": []
  },
  {
   "cell_type": "code",
   "execution_count": null,
   "id": "7422997e",
   "metadata": {},
   "outputs": [],
   "source": []
  },
  {
   "cell_type": "code",
   "execution_count": null,
   "id": "a0969a8b",
   "metadata": {},
   "outputs": [],
   "source": []
  },
  {
   "cell_type": "code",
   "execution_count": null,
   "id": "f5c35d66",
   "metadata": {},
   "outputs": [],
   "source": []
  },
  {
   "cell_type": "code",
   "execution_count": null,
   "id": "9abc4c85",
   "metadata": {},
   "outputs": [],
   "source": []
  },
  {
   "cell_type": "code",
   "execution_count": null,
   "id": "6cc4e035",
   "metadata": {},
   "outputs": [],
   "source": []
  },
  {
   "cell_type": "code",
   "execution_count": null,
   "id": "9e79f64e",
   "metadata": {},
   "outputs": [],
   "source": []
  },
  {
   "cell_type": "code",
   "execution_count": null,
   "id": "fe267167",
   "metadata": {},
   "outputs": [],
   "source": []
  },
  {
   "cell_type": "code",
   "execution_count": null,
   "id": "9f4c9a2e",
   "metadata": {},
   "outputs": [],
   "source": []
  },
  {
   "cell_type": "code",
   "execution_count": null,
   "id": "cd4f5409",
   "metadata": {},
   "outputs": [],
   "source": []
  },
  {
   "cell_type": "code",
   "execution_count": null,
   "id": "8df7ecfb",
   "metadata": {},
   "outputs": [],
   "source": []
  },
  {
   "cell_type": "code",
   "execution_count": null,
   "id": "65c0a950",
   "metadata": {},
   "outputs": [],
   "source": []
  },
  {
   "cell_type": "code",
   "execution_count": null,
   "id": "0bbb6bb3",
   "metadata": {},
   "outputs": [],
   "source": []
  },
  {
   "cell_type": "code",
   "execution_count": null,
   "id": "707892c6",
   "metadata": {},
   "outputs": [],
   "source": []
  },
  {
   "cell_type": "code",
   "execution_count": null,
   "id": "a486e0d0",
   "metadata": {},
   "outputs": [],
   "source": []
  },
  {
   "cell_type": "code",
   "execution_count": null,
   "id": "5589d63f",
   "metadata": {},
   "outputs": [],
   "source": []
  },
  {
   "cell_type": "code",
   "execution_count": null,
   "id": "1ae9a687",
   "metadata": {},
   "outputs": [],
   "source": []
  },
  {
   "cell_type": "code",
   "execution_count": null,
   "id": "734763f1",
   "metadata": {},
   "outputs": [],
   "source": []
  },
  {
   "cell_type": "code",
   "execution_count": null,
   "id": "868aaf74",
   "metadata": {},
   "outputs": [],
   "source": []
  },
  {
   "cell_type": "code",
   "execution_count": null,
   "id": "3aacd58a",
   "metadata": {},
   "outputs": [],
   "source": []
  },
  {
   "cell_type": "code",
   "execution_count": null,
   "id": "ef69909e",
   "metadata": {},
   "outputs": [],
   "source": []
  },
  {
   "cell_type": "code",
   "execution_count": null,
   "id": "d9b3cdff",
   "metadata": {},
   "outputs": [],
   "source": []
  },
  {
   "cell_type": "code",
   "execution_count": null,
   "id": "b4445a07",
   "metadata": {},
   "outputs": [],
   "source": []
  },
  {
   "cell_type": "code",
   "execution_count": null,
   "id": "08a9dd3f",
   "metadata": {},
   "outputs": [],
   "source": []
  },
  {
   "cell_type": "code",
   "execution_count": null,
   "id": "054d5efd",
   "metadata": {},
   "outputs": [],
   "source": []
  },
  {
   "cell_type": "code",
   "execution_count": null,
   "id": "3279a1cf",
   "metadata": {},
   "outputs": [],
   "source": []
  },
  {
   "cell_type": "code",
   "execution_count": null,
   "id": "f18272ef",
   "metadata": {},
   "outputs": [],
   "source": []
  },
  {
   "cell_type": "code",
   "execution_count": null,
   "id": "a1ebe5e2",
   "metadata": {},
   "outputs": [],
   "source": []
  },
  {
   "cell_type": "code",
   "execution_count": null,
   "id": "2216716b",
   "metadata": {},
   "outputs": [],
   "source": []
  },
  {
   "cell_type": "code",
   "execution_count": null,
   "id": "58a376a1",
   "metadata": {},
   "outputs": [],
   "source": []
  }
 ],
 "metadata": {
  "kernelspec": {
   "display_name": "Python 3 (ipykernel)",
   "language": "python",
   "name": "python3"
  },
  "language_info": {
   "codemirror_mode": {
    "name": "ipython",
    "version": 3
   },
   "file_extension": ".py",
   "mimetype": "text/x-python",
   "name": "python",
   "nbconvert_exporter": "python",
   "pygments_lexer": "ipython3",
   "version": "3.9.13"
  }
 },
 "nbformat": 4,
 "nbformat_minor": 5
}
