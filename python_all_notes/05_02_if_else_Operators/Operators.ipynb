{
 "cells": [
  {
   "cell_type": "markdown",
   "id": "08ee4881",
   "metadata": {},
   "source": [
    "# Operators"
   ]
  },
  {
   "cell_type": "markdown",
   "id": "b6bca0ab",
   "metadata": {},
   "source": [
    "## 1. Comparison Operators"
   ]
  },
  {
   "cell_type": "code",
   "execution_count": null,
   "id": "eb0c07c0",
   "metadata": {},
   "outputs": [],
   "source": [
    "==\n",
    "!=\n",
    ">\n",
    "<\n",
    ">=\n",
    "<="
   ]
  },
  {
   "cell_type": "code",
   "execution_count": 2,
   "id": "1b0211d4",
   "metadata": {},
   "outputs": [
    {
     "data": {
      "text/plain": [
       "False"
      ]
     },
     "execution_count": 2,
     "metadata": {},
     "output_type": "execute_result"
    }
   ],
   "source": [
    "a=2\n",
    "b=3\n",
    "a==b"
   ]
  },
  {
   "cell_type": "code",
   "execution_count": 3,
   "id": "acc10718",
   "metadata": {},
   "outputs": [
    {
     "data": {
      "text/plain": [
       "True"
      ]
     },
     "execution_count": 3,
     "metadata": {},
     "output_type": "execute_result"
    }
   ],
   "source": [
    "a!=b"
   ]
  },
  {
   "cell_type": "code",
   "execution_count": 4,
   "id": "d777cdd1",
   "metadata": {},
   "outputs": [
    {
     "data": {
      "text/plain": [
       "False"
      ]
     },
     "execution_count": 4,
     "metadata": {},
     "output_type": "execute_result"
    }
   ],
   "source": [
    "2>3"
   ]
  },
  {
   "cell_type": "code",
   "execution_count": 5,
   "id": "e8b675fa",
   "metadata": {},
   "outputs": [
    {
     "data": {
      "text/plain": [
       "True"
      ]
     },
     "execution_count": 5,
     "metadata": {},
     "output_type": "execute_result"
    }
   ],
   "source": [
    "3>2"
   ]
  },
  {
   "cell_type": "code",
   "execution_count": 6,
   "id": "c2320139",
   "metadata": {},
   "outputs": [
    {
     "data": {
      "text/plain": [
       "True"
      ]
     },
     "execution_count": 6,
     "metadata": {},
     "output_type": "execute_result"
    }
   ],
   "source": [
    "2<3"
   ]
  },
  {
   "cell_type": "code",
   "execution_count": 7,
   "id": "6c122b4a",
   "metadata": {},
   "outputs": [
    {
     "data": {
      "text/plain": [
       "False"
      ]
     },
     "execution_count": 7,
     "metadata": {},
     "output_type": "execute_result"
    }
   ],
   "source": [
    "3<2"
   ]
  },
  {
   "cell_type": "code",
   "execution_count": 8,
   "id": "5a7058be",
   "metadata": {},
   "outputs": [
    {
     "data": {
      "text/plain": [
       "False"
      ]
     },
     "execution_count": 8,
     "metadata": {},
     "output_type": "execute_result"
    }
   ],
   "source": [
    "2>=3"
   ]
  },
  {
   "cell_type": "code",
   "execution_count": 9,
   "id": "0fc6bc7a",
   "metadata": {},
   "outputs": [
    {
     "data": {
      "text/plain": [
       "True"
      ]
     },
     "execution_count": 9,
     "metadata": {},
     "output_type": "execute_result"
    }
   ],
   "source": [
    "2<=3"
   ]
  },
  {
   "cell_type": "markdown",
   "id": "d9404ba9",
   "metadata": {},
   "source": [
    "## 2. Logical Operators"
   ]
  },
  {
   "cell_type": "code",
   "execution_count": null,
   "id": "74120a75",
   "metadata": {},
   "outputs": [],
   "source": [
    "and \n",
    "or\n",
    "not"
   ]
  },
  {
   "cell_type": "code",
   "execution_count": null,
   "id": "570e97ef",
   "metadata": {},
   "outputs": [],
   "source": [
    "a=1\n",
    "b=2\n",
    "c= 3\n",
    "a<b and a<c >> True and True >> True\n",
    "a>b and a<c >> False and True >> False\n",
    "a<b and a>c >> True and False >> False\n",
    "a>b and a>c >> False and False >> False"
   ]
  },
  {
   "cell_type": "code",
   "execution_count": null,
   "id": "7b0f551d",
   "metadata": {},
   "outputs": [],
   "source": [
    "a=1\n",
    "b=2\n",
    "c= 3\n",
    "a<b or a<c >> True or True >> True\n",
    "a>b or a<c >> False or True >> True\n",
    "a<b or a>c >> True or False >> True\n",
    "a>b or a>c >> False or False >> False"
   ]
  },
  {
   "cell_type": "code",
   "execution_count": 12,
   "id": "d3f4f231",
   "metadata": {},
   "outputs": [
    {
     "name": "stdout",
     "output_type": "stream",
     "text": [
      "hi\n"
     ]
    }
   ],
   "source": [
    "a=1\n",
    "b=2\n",
    "if not a>b:\n",
    "    print('hi')"
   ]
  },
  {
   "cell_type": "markdown",
   "id": "d5b07bb5",
   "metadata": {},
   "source": [
    "## 3. Assignment Operators"
   ]
  },
  {
   "cell_type": "code",
   "execution_count": null,
   "id": "ada4aaad",
   "metadata": {},
   "outputs": [],
   "source": [
    "=  >>  a =5\n",
    "+= >>  a +=1 >> a = a+1\n",
    "-= >>  a -=1 >> a = a-1\n",
    "*= >>  a *=2 >> a = a*2\n",
    "/= >>  a /=2 >> a = a/2\n",
    "//= >>  a //=2 >> a = a//2\n",
    "%= >>   a %=2  >> a = a%2\n",
    "**= >>  a **=2 >> a= a**2"
   ]
  },
  {
   "cell_type": "code",
   "execution_count": 13,
   "id": "06153120",
   "metadata": {},
   "outputs": [
    {
     "data": {
      "text/plain": [
       "6"
      ]
     },
     "execution_count": 13,
     "metadata": {},
     "output_type": "execute_result"
    }
   ],
   "source": [
    "a=5 \n",
    "a = a+1\n",
    "a"
   ]
  },
  {
   "cell_type": "code",
   "execution_count": 15,
   "id": "9966ff00",
   "metadata": {},
   "outputs": [
    {
     "data": {
      "text/plain": [
       "7"
      ]
     },
     "execution_count": 15,
     "metadata": {},
     "output_type": "execute_result"
    }
   ],
   "source": [
    "a=5 \n",
    "a+=2 # a = a+2\n",
    "a"
   ]
  },
  {
   "cell_type": "code",
   "execution_count": 16,
   "id": "c849d7db",
   "metadata": {},
   "outputs": [
    {
     "data": {
      "text/plain": [
       "4"
      ]
     },
     "execution_count": 16,
     "metadata": {},
     "output_type": "execute_result"
    }
   ],
   "source": [
    "a=5 \n",
    "a = a-1\n",
    "a"
   ]
  },
  {
   "cell_type": "code",
   "execution_count": 18,
   "id": "05f5dce9",
   "metadata": {},
   "outputs": [
    {
     "data": {
      "text/plain": [
       "3"
      ]
     },
     "execution_count": 18,
     "metadata": {},
     "output_type": "execute_result"
    }
   ],
   "source": [
    "a=5 \n",
    "a-=2 # a = a-2\n",
    "a"
   ]
  },
  {
   "cell_type": "markdown",
   "id": "0bf7f044",
   "metadata": {},
   "source": [
    "## 4. Arithmatic Operator"
   ]
  },
  {
   "cell_type": "code",
   "execution_count": null,
   "id": "f420c09e",
   "metadata": {},
   "outputs": [],
   "source": [
    "+ >> addition\n",
    "- >> substraction\n",
    "* >> Multiplication\n",
    "/ >> Division\n",
    "// >> Floor Division\n",
    "% >> Modulus(Remainder)\n",
    "** >> Expoenent\n",
    "\n",
    "() >> Brackets"
   ]
  },
  {
   "cell_type": "code",
   "execution_count": null,
   "id": "6794d276",
   "metadata": {},
   "outputs": [],
   "source": [
    "9/4"
   ]
  },
  {
   "cell_type": "code",
   "execution_count": 19,
   "id": "6f149411",
   "metadata": {},
   "outputs": [
    {
     "data": {
      "text/plain": [
       "3"
      ]
     },
     "execution_count": 19,
     "metadata": {},
     "output_type": "execute_result"
    }
   ],
   "source": [
    "1+2"
   ]
  },
  {
   "cell_type": "code",
   "execution_count": 20,
   "id": "495ac8a0",
   "metadata": {},
   "outputs": [
    {
     "data": {
      "text/plain": [
       "1"
      ]
     },
     "execution_count": 20,
     "metadata": {},
     "output_type": "execute_result"
    }
   ],
   "source": [
    "2-1"
   ]
  },
  {
   "cell_type": "code",
   "execution_count": 21,
   "id": "66de7085",
   "metadata": {},
   "outputs": [
    {
     "data": {
      "text/plain": [
       "12"
      ]
     },
     "execution_count": 21,
     "metadata": {},
     "output_type": "execute_result"
    }
   ],
   "source": [
    "3*4"
   ]
  },
  {
   "cell_type": "code",
   "execution_count": 22,
   "id": "0d884713",
   "metadata": {},
   "outputs": [
    {
     "data": {
      "text/plain": [
       "2.5"
      ]
     },
     "execution_count": 22,
     "metadata": {},
     "output_type": "execute_result"
    }
   ],
   "source": [
    "5/2"
   ]
  },
  {
   "cell_type": "code",
   "execution_count": 23,
   "id": "e78d0698",
   "metadata": {},
   "outputs": [
    {
     "data": {
      "text/plain": [
       "2"
      ]
     },
     "execution_count": 23,
     "metadata": {},
     "output_type": "execute_result"
    }
   ],
   "source": [
    "5//2"
   ]
  },
  {
   "cell_type": "code",
   "execution_count": 24,
   "id": "8498c4fd",
   "metadata": {},
   "outputs": [
    {
     "data": {
      "text/plain": [
       "2.8"
      ]
     },
     "execution_count": 24,
     "metadata": {},
     "output_type": "execute_result"
    }
   ],
   "source": [
    "14/5"
   ]
  },
  {
   "cell_type": "code",
   "execution_count": 26,
   "id": "5fe9c313",
   "metadata": {},
   "outputs": [
    {
     "data": {
      "text/plain": [
       "2"
      ]
     },
     "execution_count": 26,
     "metadata": {},
     "output_type": "execute_result"
    }
   ],
   "source": [
    "14//5"
   ]
  },
  {
   "cell_type": "code",
   "execution_count": 27,
   "id": "f1d27c31",
   "metadata": {},
   "outputs": [
    {
     "data": {
      "text/plain": [
       "4"
      ]
     },
     "execution_count": 27,
     "metadata": {},
     "output_type": "execute_result"
    }
   ],
   "source": [
    "14 % 5"
   ]
  },
  {
   "cell_type": "code",
   "execution_count": 29,
   "id": "5292d7e8",
   "metadata": {},
   "outputs": [
    {
     "data": {
      "text/plain": [
       "3"
      ]
     },
     "execution_count": 29,
     "metadata": {},
     "output_type": "execute_result"
    }
   ],
   "source": [
    "23 % 4"
   ]
  },
  {
   "cell_type": "code",
   "execution_count": 30,
   "id": "26f0a44a",
   "metadata": {},
   "outputs": [
    {
     "data": {
      "text/plain": [
       "0"
      ]
     },
     "execution_count": 30,
     "metadata": {},
     "output_type": "execute_result"
    }
   ],
   "source": [
    "24%4"
   ]
  },
  {
   "cell_type": "code",
   "execution_count": 31,
   "id": "af6add30",
   "metadata": {},
   "outputs": [
    {
     "data": {
      "text/plain": [
       "4"
      ]
     },
     "execution_count": 31,
     "metadata": {},
     "output_type": "execute_result"
    }
   ],
   "source": [
    "2**2"
   ]
  },
  {
   "cell_type": "code",
   "execution_count": 54,
   "id": "5bc07bff",
   "metadata": {},
   "outputs": [
    {
     "data": {
      "text/plain": [
       "27"
      ]
     },
     "execution_count": 54,
     "metadata": {},
     "output_type": "execute_result"
    }
   ],
   "source": [
    "3**3"
   ]
  },
  {
   "cell_type": "code",
   "execution_count": 32,
   "id": "6199d666",
   "metadata": {},
   "outputs": [
    {
     "data": {
      "text/plain": [
       "16"
      ]
     },
     "execution_count": 32,
     "metadata": {},
     "output_type": "execute_result"
    }
   ],
   "source": [
    "2**4"
   ]
  },
  {
   "cell_type": "code",
   "execution_count": 33,
   "id": "9b3add30",
   "metadata": {},
   "outputs": [
    {
     "data": {
      "text/plain": [
       "2476099"
      ]
     },
     "execution_count": 33,
     "metadata": {},
     "output_type": "execute_result"
    }
   ],
   "source": [
    "19 ** 5"
   ]
  },
  {
   "cell_type": "code",
   "execution_count": 34,
   "id": "217cfd2e",
   "metadata": {},
   "outputs": [
    {
     "name": "stdout",
     "output_type": "stream",
     "text": [
      "5\n"
     ]
    },
    {
     "data": {
      "text/plain": [
       "15"
      ]
     },
     "execution_count": 34,
     "metadata": {},
     "output_type": "execute_result"
    }
   ],
   "source": [
    "a = 5\n",
    "print(a)\n",
    "\n",
    "a*=3 # a = a*3\n",
    "a"
   ]
  },
  {
   "cell_type": "code",
   "execution_count": 35,
   "id": "d8e10df0",
   "metadata": {},
   "outputs": [
    {
     "name": "stdout",
     "output_type": "stream",
     "text": [
      "15\n"
     ]
    },
    {
     "data": {
      "text/plain": [
       "5.0"
      ]
     },
     "execution_count": 35,
     "metadata": {},
     "output_type": "execute_result"
    }
   ],
   "source": [
    "a = 15\n",
    "print(a)\n",
    "\n",
    "a/=3 # a = a/3\n",
    "a"
   ]
  },
  {
   "cell_type": "code",
   "execution_count": 36,
   "id": "0e2c815c",
   "metadata": {},
   "outputs": [
    {
     "name": "stdout",
     "output_type": "stream",
     "text": [
      "15\n"
     ]
    },
    {
     "data": {
      "text/plain": [
       "3.75"
      ]
     },
     "execution_count": 36,
     "metadata": {},
     "output_type": "execute_result"
    }
   ],
   "source": [
    "a = 15\n",
    "print(a)\n",
    "\n",
    "a/=4 # a = a/3\n",
    "a"
   ]
  },
  {
   "cell_type": "code",
   "execution_count": 37,
   "id": "f9b0a0b1",
   "metadata": {},
   "outputs": [
    {
     "name": "stdout",
     "output_type": "stream",
     "text": [
      "15\n"
     ]
    },
    {
     "data": {
      "text/plain": [
       "3"
      ]
     },
     "execution_count": 37,
     "metadata": {},
     "output_type": "execute_result"
    }
   ],
   "source": [
    "a = 15\n",
    "print(a)\n",
    "\n",
    "a//=4 # a = a//3\n",
    "a"
   ]
  },
  {
   "cell_type": "code",
   "execution_count": 38,
   "id": "0a1bb311",
   "metadata": {},
   "outputs": [
    {
     "name": "stdout",
     "output_type": "stream",
     "text": [
      "19\n"
     ]
    },
    {
     "data": {
      "text/plain": [
       "3"
      ]
     },
     "execution_count": 38,
     "metadata": {},
     "output_type": "execute_result"
    }
   ],
   "source": [
    "a = 19\n",
    "print(a)\n",
    "\n",
    "a%=4 # a = a%4\n",
    "a"
   ]
  },
  {
   "cell_type": "markdown",
   "id": "0657052e",
   "metadata": {},
   "source": [
    "## 5. Membership Operators"
   ]
  },
  {
   "cell_type": "code",
   "execution_count": null,
   "id": "11408df3",
   "metadata": {},
   "outputs": [],
   "source": [
    "in \n",
    "not in"
   ]
  },
  {
   "cell_type": "code",
   "execution_count": 39,
   "id": "cc1038b8",
   "metadata": {},
   "outputs": [
    {
     "data": {
      "text/plain": [
       "True"
      ]
     },
     "execution_count": 39,
     "metadata": {},
     "output_type": "execute_result"
    }
   ],
   "source": [
    "string = 'python and data science'\n",
    "'python' in  string"
   ]
  },
  {
   "cell_type": "code",
   "execution_count": 40,
   "id": "6344a1eb",
   "metadata": {},
   "outputs": [
    {
     "data": {
      "text/plain": [
       "False"
      ]
     },
     "execution_count": 40,
     "metadata": {},
     "output_type": "execute_result"
    }
   ],
   "source": [
    "string = 'python and data science'\n",
    "'Python' in  string"
   ]
  },
  {
   "cell_type": "code",
   "execution_count": 41,
   "id": "a0c019a0",
   "metadata": {},
   "outputs": [
    {
     "data": {
      "text/plain": [
       "True"
      ]
     },
     "execution_count": 41,
     "metadata": {},
     "output_type": "execute_result"
    }
   ],
   "source": [
    "string = 'python and data science'\n",
    "'Python' not in  string"
   ]
  },
  {
   "cell_type": "code",
   "execution_count": 42,
   "id": "fdd16fdf",
   "metadata": {},
   "outputs": [
    {
     "data": {
      "text/plain": [
       "False"
      ]
     },
     "execution_count": 42,
     "metadata": {},
     "output_type": "execute_result"
    }
   ],
   "source": [
    "string = 'python and data science'\n",
    "'java' in  string"
   ]
  },
  {
   "cell_type": "code",
   "execution_count": 43,
   "id": "7ad8d592",
   "metadata": {},
   "outputs": [
    {
     "data": {
      "text/plain": [
       "False"
      ]
     },
     "execution_count": 43,
     "metadata": {},
     "output_type": "execute_result"
    }
   ],
   "source": [
    "string = 'python and data science'\n",
    "substring = 'Python'\n",
    "substring in  string"
   ]
  },
  {
   "cell_type": "code",
   "execution_count": 44,
   "id": "45b944da",
   "metadata": {},
   "outputs": [
    {
     "data": {
      "text/plain": [
       "True"
      ]
     },
     "execution_count": 44,
     "metadata": {},
     "output_type": "execute_result"
    }
   ],
   "source": [
    "string = 'python and data science'\n",
    "substring = 'python'\n",
    "substring in  string"
   ]
  },
  {
   "cell_type": "code",
   "execution_count": 45,
   "id": "53e48c4b",
   "metadata": {},
   "outputs": [
    {
     "name": "stdout",
     "output_type": "stream",
     "text": [
      "python is present\n"
     ]
    }
   ],
   "source": [
    "string = 'python and data science'\n",
    "substring = 'python'\n",
    "if substring in string:\n",
    "    print(f'{substring} is present')"
   ]
  },
  {
   "cell_type": "code",
   "execution_count": 51,
   "id": "460127f0",
   "metadata": {},
   "outputs": [
    {
     "name": "stdout",
     "output_type": "stream",
     "text": [
      "python is present\n"
     ]
    }
   ],
   "source": [
    "string = 'python and data science'\n",
    "substring = 'python'\n",
    "if substring not in string:\n",
    "    print(f'{substring} is not present')\n",
    "\n",
    "else:\n",
    "    print(f'{substring} is present')"
   ]
  },
  {
   "cell_type": "code",
   "execution_count": 52,
   "id": "ffd7b1ce",
   "metadata": {},
   "outputs": [
    {
     "name": "stdout",
     "output_type": "stream",
     "text": [
      "Python is not present\n"
     ]
    }
   ],
   "source": [
    "string = 'python and data science'\n",
    "substring = 'Python'\n",
    "if substring not in string:\n",
    "    print(f'{substring} is not present')\n",
    "\n",
    "else:\n",
    "    print(f'{substring} is present')"
   ]
  },
  {
   "cell_type": "code",
   "execution_count": 47,
   "id": "2895a948",
   "metadata": {},
   "outputs": [
    {
     "name": "stdout",
     "output_type": "stream",
     "text": [
      "Python is not present\n"
     ]
    }
   ],
   "source": [
    "string = 'python and data science'\n",
    "substring = 'Python'\n",
    "if substring not in string:\n",
    "    print(f'{substring} is not present')"
   ]
  },
  {
   "cell_type": "code",
   "execution_count": 48,
   "id": "c0b9e6b0",
   "metadata": {},
   "outputs": [
    {
     "data": {
      "text/plain": [
       "False"
      ]
     },
     "execution_count": 48,
     "metadata": {},
     "output_type": "execute_result"
    }
   ],
   "source": [
    "a= [1,2,3,'hi', 'Data']\n",
    "4 in a"
   ]
  },
  {
   "cell_type": "code",
   "execution_count": 49,
   "id": "75bb5575",
   "metadata": {},
   "outputs": [
    {
     "data": {
      "text/plain": [
       "True"
      ]
     },
     "execution_count": 49,
     "metadata": {},
     "output_type": "execute_result"
    }
   ],
   "source": [
    "1 in a"
   ]
  },
  {
   "cell_type": "code",
   "execution_count": 50,
   "id": "31df6c45",
   "metadata": {},
   "outputs": [
    {
     "data": {
      "text/plain": [
       "True"
      ]
     },
     "execution_count": 50,
     "metadata": {},
     "output_type": "execute_result"
    }
   ],
   "source": [
    "4 not in a"
   ]
  },
  {
   "cell_type": "code",
   "execution_count": null,
   "id": "dd032f69",
   "metadata": {},
   "outputs": [],
   "source": [
    "a=1\n",
    "b=2\n",
    "c= 3\n",
    "a<b or a<c >> True or True >> True\n",
    "a>b or a<c >> False or True >> False\n",
    "a<b or a>c >> True or False >> False\n",
    "a>b or a>c >> False or False >> False"
   ]
  },
  {
   "cell_type": "code",
   "execution_count": null,
   "id": "52af9739",
   "metadata": {},
   "outputs": [],
   "source": [
    "a=1\n",
    "b=2\n",
    "c= 3\n",
    "a<b or a<c >> True or True >> True\n",
    "a>b or a<c >> False or True >> False\n",
    "a<b or a>c >> True or False >> False\n",
    "a>b or a>c >> False or False >> False"
   ]
  },
  {
   "cell_type": "code",
   "execution_count": null,
   "id": "516bd1c3",
   "metadata": {},
   "outputs": [],
   "source": [
    "a=1\n",
    "b=2\n",
    "c= 3\n",
    "a<b or a<c >> True or True >> True\n",
    "a>b or a<c >> False or True >> False\n",
    "a<b or a>c >> True or False >> False\n",
    "a>b or a>c >> False or False >> False"
   ]
  },
  {
   "cell_type": "code",
   "execution_count": 55,
   "id": "7c7b1c4b",
   "metadata": {},
   "outputs": [
    {
     "name": "stdout",
     "output_type": "stream",
     "text": [
      "Jai Data Science\n"
     ]
    }
   ],
   "source": [
    "print('Jai Data Science')"
   ]
  },
  {
   "cell_type": "code",
   "execution_count": null,
   "id": "de8914aa",
   "metadata": {},
   "outputs": [],
   "source": []
  }
 ],
 "metadata": {
  "kernelspec": {
   "display_name": "Python 3 (ipykernel)",
   "language": "python",
   "name": "python3"
  },
  "language_info": {
   "codemirror_mode": {
    "name": "ipython",
    "version": 3
   },
   "file_extension": ".py",
   "mimetype": "text/x-python",
   "name": "python",
   "nbconvert_exporter": "python",
   "pygments_lexer": "ipython3",
   "version": "3.9.13"
  }
 },
 "nbformat": 4,
 "nbformat_minor": 5
}
