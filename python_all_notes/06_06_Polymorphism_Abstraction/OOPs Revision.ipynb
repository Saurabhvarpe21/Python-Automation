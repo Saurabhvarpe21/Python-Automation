{
 "cells": [
  {
   "cell_type": "markdown",
   "id": "15dbe572",
   "metadata": {},
   "source": [
    "# OOPs Revision"
   ]
  },
  {
   "cell_type": "code",
   "execution_count": null,
   "id": "35b43a1e",
   "metadata": {},
   "outputs": [],
   "source": [
    "class >> Blueprint of an object\n",
    "        It contains variable and methods\n",
    "\n",
    "Object >> Instance of a class\n",
    "      Physical existence of a class\n",
    "    \n",
    "self >> Used to access variables and methods of class\n",
    "        helps to differentiate between local and instance var\n",
    "        It represents instance of a class\n",
    "        self holds reference to the indtance calling the functions\n",
    "        we need to pass it as very first arg\n",
    "    \n",
    "__init__ >> constructor\n",
    "        Automatically called  when we create an object\n",
    "        used to define variables\n",
    "        __init__(self): Non-Parameterized constructor\n",
    "            \n",
    "        __init__(self, a,b) : Parameterized  constructor\n",
    "        \n",
    "        \n"
   ]
  },
  {
   "cell_type": "code",
   "execution_count": null,
   "id": "7402cfdb",
   "metadata": {},
   "outputs": [],
   "source": [
    "class classname(): # class name\n",
    "    var1 = 100 # class var\n",
    "    \n",
    "    def __init__(self,a): # constructor\n",
    "        self.a = a  # instance var\n",
    "        self.b = b\n",
    "        \n",
    "    def abc(self):\n",
    "        var4 = 300   # local var"
   ]
  },
  {
   "cell_type": "markdown",
   "id": "1f10ac34",
   "metadata": {},
   "source": [
    "## Funtamental Concept of Object Oriented Programming"
   ]
  },
  {
   "cell_type": "markdown",
   "id": "652384a0",
   "metadata": {},
   "source": [
    "## 1. Inheritance"
   ]
  },
  {
   "cell_type": "code",
   "execution_count": null,
   "id": "1c22b314",
   "metadata": {},
   "outputs": [],
   "source": [
    "It inherit the propeties(methods and variables) of parent class into child class\n",
    "\n",
    "base/super/parent\n",
    "derived/sub/child\n",
    "\n",
    "Type of Inheritance:\n",
    "    1. Single  ( Parent >> child)\n",
    "    2. Multilevel ( Grandfather >> Father >> child)\n",
    "    3. Multiple (Father  and Mother >> child)\n",
    "    4. Hierarchical ( Parent >> child1, child2)\n",
    "    5. Hybrid (More than one inheritance)"
   ]
  },
  {
   "cell_type": "markdown",
   "id": "de7ce02f",
   "metadata": {},
   "source": [
    "## 2. Encapsulation"
   ]
  },
  {
   "cell_type": "code",
   "execution_count": null,
   "id": "6121729e",
   "metadata": {},
   "outputs": [],
   "source": [
    "used to restrict the access of variable and methods from outside the class\n",
    "to prevent accidental modification of data\n",
    "\n",
    "Public var and methods:\n",
    "    We can access or modify it from outside\n",
    "    \n",
    "Private var and methods:\n",
    "    We can not access of modify it from outside\n",
    "    __varname\n",
    "    __method\n",
    "    \n",
    "Name Mangling:\n",
    "    Used to access or modify var and methods from outside\n",
    "    obj._classname__varname"
   ]
  },
  {
   "cell_type": "markdown",
   "id": "e2dcc7e6",
   "metadata": {},
   "source": [
    "## 3. Polymorphism"
   ]
  },
  {
   "cell_type": "code",
   "execution_count": null,
   "id": "a3e4b431",
   "metadata": {},
   "outputs": [],
   "source": [
    "Having many forms\n",
    "same methoda in different classes\n",
    "\n",
    "Polymorphism with inheritance:\n",
    "\n",
    "Overriding method:\n",
    "    same method in parent and child \n",
    "    BUt child method will override parent method\n",
    "    \n",
    "overloading >> 2 same methods with different arguments"
   ]
  },
  {
   "cell_type": "markdown",
   "id": "fc13a708",
   "metadata": {},
   "source": [
    "## 4. Abstraction"
   ]
  },
  {
   "cell_type": "code",
   "execution_count": null,
   "id": "5deaef38",
   "metadata": {},
   "outputs": [],
   "source": [
    "It hides internal functionality/ irrelevent data\n",
    "considered as blueprint of other class\n",
    "we can not create object abstract class\n",
    "abstarct is only used for declaration, not for implementation\n",
    "\n",
    "from abc import ABC, abstractmethod\n",
    "@abstractmethod  >> decorator is used to define abstract method\n",
    "\n",
    "Abstract class should have at least one abstract method"
   ]
  },
  {
   "cell_type": "code",
   "execution_count": null,
   "id": "829d38de",
   "metadata": {},
   "outputs": [],
   "source": []
  },
  {
   "cell_type": "code",
   "execution_count": null,
   "id": "25507355",
   "metadata": {},
   "outputs": [],
   "source": []
  },
  {
   "cell_type": "code",
   "execution_count": null,
   "id": "2d55ebb9",
   "metadata": {},
   "outputs": [],
   "source": []
  },
  {
   "cell_type": "code",
   "execution_count": null,
   "id": "482059c0",
   "metadata": {},
   "outputs": [],
   "source": []
  },
  {
   "cell_type": "code",
   "execution_count": null,
   "id": "f666095c",
   "metadata": {},
   "outputs": [],
   "source": []
  },
  {
   "cell_type": "code",
   "execution_count": null,
   "id": "586cfcfd",
   "metadata": {},
   "outputs": [],
   "source": []
  },
  {
   "cell_type": "code",
   "execution_count": null,
   "id": "f750dad3",
   "metadata": {},
   "outputs": [],
   "source": []
  },
  {
   "cell_type": "code",
   "execution_count": null,
   "id": "32f02b39",
   "metadata": {},
   "outputs": [],
   "source": []
  },
  {
   "cell_type": "code",
   "execution_count": null,
   "id": "7a8f77ab",
   "metadata": {},
   "outputs": [],
   "source": []
  },
  {
   "cell_type": "code",
   "execution_count": null,
   "id": "f049f3ea",
   "metadata": {},
   "outputs": [],
   "source": []
  },
  {
   "cell_type": "code",
   "execution_count": null,
   "id": "8cbc69e8",
   "metadata": {},
   "outputs": [],
   "source": []
  },
  {
   "cell_type": "code",
   "execution_count": null,
   "id": "11263d5c",
   "metadata": {},
   "outputs": [],
   "source": []
  },
  {
   "cell_type": "code",
   "execution_count": null,
   "id": "e11cf1fd",
   "metadata": {},
   "outputs": [],
   "source": []
  }
 ],
 "metadata": {
  "kernelspec": {
   "display_name": "Python 3",
   "language": "python",
   "name": "python3"
  },
  "language_info": {
   "codemirror_mode": {
    "name": "ipython",
    "version": 3
   },
   "file_extension": ".py",
   "mimetype": "text/x-python",
   "name": "python",
   "nbconvert_exporter": "python",
   "pygments_lexer": "ipython3",
   "version": "3.8.8"
  }
 },
 "nbformat": 4,
 "nbformat_minor": 5
}
