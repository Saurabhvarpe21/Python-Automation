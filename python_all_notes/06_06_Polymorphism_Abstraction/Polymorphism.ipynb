{
 "cells": [
  {
   "cell_type": "markdown",
   "id": "53c8d46f",
   "metadata": {},
   "source": [
    "# Polymorphism"
   ]
  },
  {
   "cell_type": "code",
   "execution_count": null,
   "id": "fdf0b81b",
   "metadata": {},
   "outputs": [],
   "source": [
    "Poly >> many/ multiple\n",
    "Morphism >> forms\n",
    "\n",
    "Polymorphism >> Many/Multiple forms\n",
    "\n",
    "Same function name is used in many classes\n",
    "methods with identical names"
   ]
  },
  {
   "cell_type": "code",
   "execution_count": 1,
   "id": "ed3ded82",
   "metadata": {},
   "outputs": [
    {
     "data": {
      "text/plain": [
       "12"
      ]
     },
     "execution_count": 1,
     "metadata": {},
     "output_type": "execute_result"
    }
   ],
   "source": [
    "# +\n",
    "10 + 2 # addition"
   ]
  },
  {
   "cell_type": "code",
   "execution_count": null,
   "id": "5775f9b1",
   "metadata": {},
   "outputs": [],
   "source": [
    "'10' + '2'  # concatination"
   ]
  },
  {
   "cell_type": "code",
   "execution_count": 2,
   "id": "402d9848",
   "metadata": {},
   "outputs": [
    {
     "data": {
      "text/plain": [
       "30"
      ]
     },
     "execution_count": 2,
     "metadata": {},
     "output_type": "execute_result"
    }
   ],
   "source": [
    "10 * 3"
   ]
  },
  {
   "cell_type": "code",
   "execution_count": 3,
   "id": "24a8f26e",
   "metadata": {},
   "outputs": [
    {
     "data": {
      "text/plain": [
       "'101010'"
      ]
     },
     "execution_count": 3,
     "metadata": {},
     "output_type": "execute_result"
    }
   ],
   "source": [
    "'10' * 3"
   ]
  },
  {
   "cell_type": "code",
   "execution_count": 4,
   "id": "6dd4e4d1",
   "metadata": {},
   "outputs": [
    {
     "name": "stdout",
     "output_type": "stream",
     "text": [
      "4\n",
      "6\n",
      "2\n",
      "6\n",
      "5\n"
     ]
    }
   ],
   "source": [
    "list1 = [4,5,6,7]\n",
    "string = 'python'\n",
    "dict1 = {'a':10, 'b':20}\n",
    "tuple1 = (1,2,3,4,5,6)\n",
    "set1 = {5,7,8,9,4,5}\n",
    "\n",
    "print(len(list1))\n",
    "print(len(string))\n",
    "print(len(dict1))\n",
    "print(len(tuple1))\n",
    "print(len(set1))"
   ]
  },
  {
   "cell_type": "code",
   "execution_count": 5,
   "id": "53af0aea",
   "metadata": {},
   "outputs": [
    {
     "name": "stdout",
     "output_type": "stream",
     "text": [
      "4\n",
      "1\n",
      "4\n"
     ]
    }
   ],
   "source": [
    "list1 = [4,5,6,7]\n",
    "string = 'python'\n",
    "dict1 = {'a':10, 'b':20}\n",
    "tuple1 = (1,2,3,4,5,6)\n",
    "set1 = {5,7,8,9,4,5}\n",
    "\n",
    "print(min(list1))\n",
    "# print(len(string))\n",
    "# print(len(dict1))\n",
    "print(min(tuple1))\n",
    "print(min(set1))"
   ]
  },
  {
   "cell_type": "code",
   "execution_count": 9,
   "id": "4bdd483c",
   "metadata": {},
   "outputs": [
    {
     "name": "stdout",
     "output_type": "stream",
     "text": [
      "Area of Circle\n",
      "Area of Square\n",
      "Area of Rectangle\n"
     ]
    }
   ],
   "source": [
    "class Circle():\n",
    "    def area(self):\n",
    "        print('Area of Circle')\n",
    "        \n",
    "class Square():\n",
    "    def area(self):\n",
    "        print('Area of Square')\n",
    "\n",
    "class Rectangle():\n",
    "    def area(self):\n",
    "        print('Area of Rectangle')\n",
    "        \n",
    "        \n",
    "c1 = Circle()\n",
    "s1 = Square()\n",
    "r1 = Rectangle()\n",
    "\n",
    "c1.area()\n",
    "s1.area()\n",
    "r1.area()"
   ]
  },
  {
   "cell_type": "code",
   "execution_count": 30,
   "id": "10f5445a",
   "metadata": {},
   "outputs": [
    {
     "name": "stdout",
     "output_type": "stream",
     "text": [
      "Area of Rectangle\n",
      "Area of Circle\n",
      "Area of Square\n"
     ]
    }
   ],
   "source": [
    "class Circle():\n",
    "    def area(self):\n",
    "        print('Area of Circle')\n",
    "        \n",
    "class Square():\n",
    "    def area(self):\n",
    "        print('Area of Square')\n",
    "\n",
    "class Rectangle():\n",
    "    def area(self):\n",
    "        print('Area of Rectangle')\n",
    "        \n",
    "        \n",
    "c1 = Circle()\n",
    "s1 = Square()\n",
    "r1 = Rectangle()\n",
    "\n",
    "for obj in (r1 ,c1 , s1):\n",
    "    obj.area()"
   ]
  },
  {
   "cell_type": "code",
   "execution_count": 10,
   "id": "b7eaee6b",
   "metadata": {},
   "outputs": [
    {
     "name": "stdout",
     "output_type": "stream",
     "text": [
      "Area of Circle\n",
      "Area of Square\n",
      "Area of Rectangle\n"
     ]
    }
   ],
   "source": [
    "class Circle():\n",
    "    def area(self):\n",
    "        print('Area of Circle')\n",
    "        \n",
    "class Square():\n",
    "    def area(self):\n",
    "        print('Area of Square')\n",
    "\n",
    "class Rectangle():\n",
    "    def area(self):\n",
    "        print('Area of Rectangle')\n",
    "        \n",
    "        \n",
    "c1 = Circle()\n",
    "s1 = Square()\n",
    "r1 = Rectangle()\n",
    "\n",
    "for obj in [c1, s1, r1]:\n",
    "    obj.area()"
   ]
  },
  {
   "cell_type": "code",
   "execution_count": 11,
   "id": "1d64f1ac",
   "metadata": {},
   "outputs": [
    {
     "name": "stdout",
     "output_type": "stream",
     "text": [
      "Area of Circle\n",
      "Area of Square\n",
      "Area of Rectangle\n"
     ]
    }
   ],
   "source": [
    "class Circle():\n",
    "    def area(self):\n",
    "        print('Area of Circle')\n",
    "        \n",
    "class Square():\n",
    "    def area(self):\n",
    "        print('Area of Square')\n",
    "\n",
    "class Rectangle():\n",
    "    def area(self):\n",
    "        print('Area of Rectangle')\n",
    "        \n",
    "\n",
    "def test_area_function():\n",
    "    c1 = Circle()\n",
    "    s1 = Square()\n",
    "    r1 = Rectangle()\n",
    "\n",
    "    for obj in [c1, s1, r1]:\n",
    "        obj.area()\n",
    "        \n",
    "test_area_function()"
   ]
  },
  {
   "cell_type": "code",
   "execution_count": 12,
   "id": "631d7de1",
   "metadata": {},
   "outputs": [
    {
     "name": "stdout",
     "output_type": "stream",
     "text": [
      "Area of Circle\n",
      "Area of Square\n",
      "Area of Rectangle\n"
     ]
    }
   ],
   "source": [
    "test_area_function()"
   ]
  },
  {
   "cell_type": "code",
   "execution_count": 14,
   "id": "1c665997",
   "metadata": {},
   "outputs": [
    {
     "name": "stdout",
     "output_type": "stream",
     "text": [
      "Area of Circle\n",
      "Area of Square\n",
      "Area of Rectangle\n"
     ]
    }
   ],
   "source": [
    "class Circle():\n",
    "    def area(self):\n",
    "        print('Area of Circle')\n",
    "        \n",
    "class Square():\n",
    "    def area(self):\n",
    "        print('Area of Square')\n",
    "\n",
    "class Rectangle():\n",
    "    def area(self):\n",
    "        print('Area of Rectangle')\n",
    "        \n",
    "\n",
    "def test_area_function():\n",
    "    c1 = Circle()\n",
    "    s1 = Square()\n",
    "    r1 = Rectangle()\n",
    "\n",
    "    for obj in [c1, s1, r1]:\n",
    "        obj.area()\n",
    "        \n",
    "if __name__ == \"__main__\":\n",
    "    test_area_function()"
   ]
  },
  {
   "cell_type": "code",
   "execution_count": 13,
   "id": "5b405b7c",
   "metadata": {},
   "outputs": [
    {
     "data": {
      "text/plain": [
       "'__main__'"
      ]
     },
     "execution_count": 13,
     "metadata": {},
     "output_type": "execute_result"
    }
   ],
   "source": [
    "__name__"
   ]
  },
  {
   "cell_type": "code",
   "execution_count": 16,
   "id": "6bedf50a",
   "metadata": {},
   "outputs": [
    {
     "name": "stdout",
     "output_type": "stream",
     "text": [
      "Area of Circle 78.54\n",
      "Area of Square 36\n",
      "Area of Rectangle 200\n"
     ]
    }
   ],
   "source": [
    "import math\n",
    "\n",
    "class Circle():\n",
    "    \n",
    "    def __init__(self, radius):\n",
    "        self.radius = radius\n",
    "    \n",
    "    def area(self):\n",
    "        ar = math.pi * self.radius * self.radius\n",
    "        print('Area of Circle', round(ar , 2))\n",
    "        \n",
    "class Square():\n",
    "    \n",
    "    def __init__(self,side):\n",
    "        self.side = side        \n",
    "    \n",
    "    def area(self):\n",
    "        ar = self.side ** 2\n",
    "        print('Area of Square', ar)\n",
    "\n",
    "class Rectangle():\n",
    "    \n",
    "    def __init__(self, l, b):\n",
    "        self.l = l\n",
    "        self.b = b\n",
    "        \n",
    "    def area(self):\n",
    "        ar = self.l * self.b\n",
    "        print('Area of Rectangle', ar)\n",
    "        \n",
    "\n",
    "def test_area_function():\n",
    "    c1 = Circle(5)\n",
    "    s1 = Square(6)\n",
    "    r1 = Rectangle(10,20)\n",
    "\n",
    "    for obj in [c1, s1, r1]:\n",
    "        obj.area()\n",
    "        \n",
    "if __name__ == \"__main__\":\n",
    "    test_area_function()"
   ]
  },
  {
   "cell_type": "code",
   "execution_count": 17,
   "id": "55c26d8c",
   "metadata": {},
   "outputs": [
    {
     "data": {
      "text/plain": [
       "78.5"
      ]
     },
     "execution_count": 17,
     "metadata": {},
     "output_type": "execute_result"
    }
   ],
   "source": [
    "3.14 * 5 * 5"
   ]
  },
  {
   "cell_type": "code",
   "execution_count": 15,
   "id": "de2e61b1",
   "metadata": {},
   "outputs": [
    {
     "data": {
      "text/plain": [
       "3.141592653589793"
      ]
     },
     "execution_count": 15,
     "metadata": {},
     "output_type": "execute_result"
    }
   ],
   "source": [
    "import math\n",
    "math.pi"
   ]
  },
  {
   "cell_type": "markdown",
   "id": "aa658b55",
   "metadata": {},
   "source": [
    "## Overriding Method"
   ]
  },
  {
   "cell_type": "code",
   "execution_count": null,
   "id": "18741acb",
   "metadata": {},
   "outputs": [],
   "source": [
    "same method in different classes"
   ]
  },
  {
   "cell_type": "code",
   "execution_count": 18,
   "id": "0fb89648",
   "metadata": {},
   "outputs": [
    {
     "name": "stdout",
     "output_type": "stream",
     "text": [
      "Area of Square\n"
     ]
    }
   ],
   "source": [
    "class Circle():\n",
    "    def area(self):\n",
    "        print('Area of Circle')\n",
    "        \n",
    "class Square(Circle):\n",
    "    def area(self):\n",
    "        print('Area of Square')\n",
    "        \n",
    "        \n",
    "sqr = Square()\n",
    "sqr.area()"
   ]
  },
  {
   "cell_type": "code",
   "execution_count": 20,
   "id": "48e2f617",
   "metadata": {},
   "outputs": [
    {
     "name": "stdout",
     "output_type": "stream",
     "text": [
      "Area of Square\n",
      "Area of Circle\n"
     ]
    }
   ],
   "source": [
    "class Circle():\n",
    "    def area(self):\n",
    "        print('Area of Circle')\n",
    "        \n",
    "class Square(Circle):\n",
    "    def area(self):\n",
    "        print('Area of Square')\n",
    "        Circle().area()\n",
    "        \n",
    "        \n",
    "sqr = Square()\n",
    "sqr.area()"
   ]
  },
  {
   "cell_type": "code",
   "execution_count": 21,
   "id": "25f543bf",
   "metadata": {},
   "outputs": [
    {
     "name": "stdout",
     "output_type": "stream",
     "text": [
      "Area of Circle 50.27\n",
      "Area of Square 25\n",
      "Area of Rectangle 42\n"
     ]
    }
   ],
   "source": [
    "import math\n",
    "\n",
    "class Circle():\n",
    "    \n",
    "    def __init__(self, radius):\n",
    "        self.radius = radius\n",
    "    \n",
    "    def area(self):\n",
    "        ar = math.pi * self.radius * self.radius\n",
    "        print('Area of Circle', round(ar , 2))\n",
    "        \n",
    "class Square():\n",
    "    \n",
    "    def __init__(self,side):\n",
    "        self.side = side        \n",
    "    \n",
    "    def area(self):\n",
    "        ar = self.side ** 2\n",
    "        print('Area of Square', ar)\n",
    "\n",
    "class Rectangle():\n",
    "    \n",
    "    def __init__(self, l, b):\n",
    "        self.l = l\n",
    "        self.b = b\n",
    "        \n",
    "    def area(self):\n",
    "        ar = self.l * self.b\n",
    "        print('Area of Rectangle', ar)\n",
    "        \n",
    "\n",
    "def test_area_function(radius = 0, side = 0, l = 0, b = 0):\n",
    "    c1 = Circle(radius)\n",
    "    s1 = Square(side)\n",
    "    r1 = Rectangle(l,b)\n",
    "\n",
    "    for obj in [c1, s1, r1]:\n",
    "        obj.area()\n",
    "        \n",
    "if __name__ == \"__main__\":\n",
    "    test_area_function(4,5,6,7)"
   ]
  },
  {
   "cell_type": "code",
   "execution_count": 22,
   "id": "a47872a6",
   "metadata": {},
   "outputs": [
    {
     "name": "stdout",
     "output_type": "stream",
     "text": [
      "Area of Circle 314.16\n",
      "Area of Square 144\n",
      "Area of Rectangle 80\n"
     ]
    }
   ],
   "source": [
    "import math\n",
    "\n",
    "class Circle():\n",
    "    \n",
    "    def __init__(self, radius):\n",
    "        self.radius = radius\n",
    "    \n",
    "    def area(self):\n",
    "        ar = math.pi * self.radius * self.radius\n",
    "        print('Area of Circle', round(ar , 2))\n",
    "        \n",
    "class Square():\n",
    "    \n",
    "    def __init__(self,side):\n",
    "        self.side = side        \n",
    "    \n",
    "    def area(self):\n",
    "        ar = self.side ** 2\n",
    "        print('Area of Square', ar)\n",
    "\n",
    "class Rectangle():\n",
    "    \n",
    "    def __init__(self, l, b):\n",
    "        self.l = l\n",
    "        self.b = b\n",
    "        \n",
    "    def area(self):\n",
    "        ar = self.l * self.b\n",
    "        print('Area of Rectangle', ar)\n",
    "        \n",
    "\n",
    "def test_area_function(radius = 0, side = 0, l = 0, b = 0):\n",
    "    c1 = Circle(radius)\n",
    "    s1 = Square(side)\n",
    "    r1 = Rectangle(l,b)\n",
    "\n",
    "    for obj in [c1, s1, r1]:\n",
    "        obj.area()\n",
    "        \n",
    "if __name__ == \"__main__\":\n",
    "    radius = 10\n",
    "    side = 12\n",
    "    l = 8\n",
    "    b = 10\n",
    "    test_area_function(radius, side , l, b)"
   ]
  },
  {
   "cell_type": "code",
   "execution_count": null,
   "id": "e8c977e7",
   "metadata": {},
   "outputs": [],
   "source": [
    "overriding >> inherit >> when we call it >> child class is executed >>> if we want to execute parent class,\n",
    "we have it call it function of child class\n",
    "\n",
    "overloading >> 2 same methods with different arguments"
   ]
  },
  {
   "cell_type": "markdown",
   "id": "3dd2a4b8",
   "metadata": {},
   "source": [
    "## Overloading"
   ]
  },
  {
   "cell_type": "code",
   "execution_count": 28,
   "id": "92fe3ced",
   "metadata": {},
   "outputs": [
    {
     "name": "stdout",
     "output_type": "stream",
     "text": [
      "He is just an all rounder\n"
     ]
    }
   ],
   "source": [
    "class Cricket:\n",
    "    \n",
    "    def player(self):\n",
    "        print('He is just a player')\n",
    "        \n",
    "    def player(self, batter):\n",
    "        print(f'He is just a {batter}')\n",
    "        \n",
    "    def player(self, batter, bowler):\n",
    "        print(f'He is just an all rounder')\n",
    "        \n",
    "c1 = Cricket()\n",
    "c1.player('batter', 'bowler')"
   ]
  },
  {
   "cell_type": "code",
   "execution_count": null,
   "id": "71845929",
   "metadata": {},
   "outputs": [],
   "source": []
  },
  {
   "cell_type": "code",
   "execution_count": 31,
   "id": "32131c94",
   "metadata": {},
   "outputs": [
    {
     "name": "stdout",
     "output_type": "stream",
     "text": [
      "Area of Circle 1256.64\n",
      "Area of Square 81\n",
      "Area of Rectangle 168\n"
     ]
    }
   ],
   "source": [
    "import math\n",
    "\n",
    "class Circle():\n",
    "    \n",
    "    def __init__(self, radius):\n",
    "        self.radius = radius\n",
    "    \n",
    "    def area(self):\n",
    "        ar = math.pi * self.radius * self.radius\n",
    "        print('Area of Circle', round(ar , 2))\n",
    "        \n",
    "class Square():\n",
    "    \n",
    "    def __init__(self,side):\n",
    "        self.side = side        \n",
    "    \n",
    "    def area(self):\n",
    "        ar = self.side ** 2\n",
    "        print('Area of Square', ar)\n",
    "\n",
    "class Rectangle():\n",
    "    \n",
    "    def __init__(self, l, b):\n",
    "        self.l = l\n",
    "        self.b = b\n",
    "        \n",
    "    def area(self):\n",
    "        ar = self.l * self.b\n",
    "        print('Area of Rectangle', ar)\n",
    "        \n",
    "\n",
    "def test_area_function(radius = 0, side = 0, l = 0, b = 0):\n",
    "    c1 = Circle(radius)\n",
    "    s1 = Square(side)\n",
    "    r1 = Rectangle(l,b)\n",
    "\n",
    "    for obj in [c1, s1, r1]:\n",
    "        obj.area()\n",
    "        \n",
    "if __name__ == \"__main__\":\n",
    "    test_area_function(l = 14, radius = 20, b = 12, side =9 )"
   ]
  },
  {
   "cell_type": "code",
   "execution_count": 35,
   "id": "07369b21",
   "metadata": {},
   "outputs": [
    {
     "name": "stdout",
     "output_type": "stream",
     "text": [
      "Area of Circle 1256.64\n",
      "Area of Square 1\n",
      "Area of Rectangle 168\n"
     ]
    }
   ],
   "source": [
    "import math\n",
    "\n",
    "class Circle():\n",
    "    \n",
    "    def __init__(self, radius):\n",
    "        self.radius = radius\n",
    "    \n",
    "    def area(self):\n",
    "        ar = math.pi * self.radius * self.radius\n",
    "        print('Area of Circle', round(ar , 2))\n",
    "        \n",
    "class Square():\n",
    "    \n",
    "    def __init__(self,side):\n",
    "        self.side = side        \n",
    "    \n",
    "    def area(self):\n",
    "        ar = self.side ** 2\n",
    "        print('Area of Square', ar)\n",
    "\n",
    "class Rectangle():\n",
    "    \n",
    "    def __init__(self, l, b):\n",
    "        self.l = l\n",
    "        self.b = b\n",
    "        \n",
    "    def area(self):\n",
    "        ar = self.l * self.b\n",
    "        print('Area of Rectangle', ar)\n",
    "        \n",
    "\n",
    "def test_area_function(radius = 0, side = 1, l = 0, b = 0):\n",
    "    c1 = Circle(radius)\n",
    "    s1 = Square(side)\n",
    "    r1 = Rectangle(l,b)\n",
    "\n",
    "    for obj in [c1, s1, r1]:\n",
    "        obj.area()\n",
    "        \n",
    "if __name__ == \"__main__\":\n",
    "    test_area_function(l = 14, radius = 20, b = 12 )"
   ]
  },
  {
   "cell_type": "code",
   "execution_count": null,
   "id": "91e042c9",
   "metadata": {},
   "outputs": [],
   "source": []
  },
  {
   "cell_type": "code",
   "execution_count": 36,
   "id": "2a1e833e",
   "metadata": {},
   "outputs": [],
   "source": [
    "f = open('Sampple.txt', 'w')\n",
    "f.write('hello Tango charlie')\n",
    "f.close()"
   ]
  },
  {
   "cell_type": "code",
   "execution_count": 37,
   "id": "fe1d55cf",
   "metadata": {},
   "outputs": [],
   "source": [
    "f = open('Sampple.txt', 'w')\n",
    "f.write('hello Delta charlie')\n",
    "f.close()"
   ]
  },
  {
   "cell_type": "code",
   "execution_count": 41,
   "id": "ab61879e",
   "metadata": {},
   "outputs": [
    {
     "name": "stdout",
     "output_type": "stream",
     "text": [
      "Area of Square\n",
      "Area of Circle\n"
     ]
    }
   ],
   "source": [
    "class Circle():\n",
    "    def area(self):\n",
    "        print('Area of Circle')\n",
    "        \n",
    "class Square(Circle):\n",
    "    \n",
    "    \n",
    "    def area(self):\n",
    "        print('Area of Square')\n",
    "        Circle().area()\n",
    "        \n",
    "        \n",
    "sqr = Square()\n",
    "sqr.area()"
   ]
  },
  {
   "cell_type": "code",
   "execution_count": null,
   "id": "fd1f9bfd",
   "metadata": {},
   "outputs": [],
   "source": []
  },
  {
   "cell_type": "code",
   "execution_count": null,
   "id": "a9c3b78f",
   "metadata": {},
   "outputs": [],
   "source": []
  },
  {
   "cell_type": "code",
   "execution_count": null,
   "id": "3ea665fc",
   "metadata": {},
   "outputs": [],
   "source": []
  },
  {
   "cell_type": "code",
   "execution_count": null,
   "id": "6a307c7d",
   "metadata": {},
   "outputs": [],
   "source": []
  },
  {
   "cell_type": "code",
   "execution_count": null,
   "id": "3feec667",
   "metadata": {},
   "outputs": [],
   "source": []
  },
  {
   "cell_type": "code",
   "execution_count": null,
   "id": "25e0263c",
   "metadata": {},
   "outputs": [],
   "source": []
  },
  {
   "cell_type": "code",
   "execution_count": null,
   "id": "9d5f8ffb",
   "metadata": {},
   "outputs": [],
   "source": []
  },
  {
   "cell_type": "code",
   "execution_count": null,
   "id": "2e91b2dc",
   "metadata": {},
   "outputs": [],
   "source": []
  },
  {
   "cell_type": "code",
   "execution_count": null,
   "id": "9b363be0",
   "metadata": {},
   "outputs": [],
   "source": []
  },
  {
   "cell_type": "code",
   "execution_count": null,
   "id": "94e5b4d9",
   "metadata": {},
   "outputs": [],
   "source": []
  },
  {
   "cell_type": "code",
   "execution_count": null,
   "id": "5e1507df",
   "metadata": {},
   "outputs": [],
   "source": []
  },
  {
   "cell_type": "code",
   "execution_count": null,
   "id": "deb064b6",
   "metadata": {},
   "outputs": [],
   "source": []
  },
  {
   "cell_type": "code",
   "execution_count": null,
   "id": "eb198136",
   "metadata": {},
   "outputs": [],
   "source": []
  },
  {
   "cell_type": "code",
   "execution_count": null,
   "id": "f8872acd",
   "metadata": {},
   "outputs": [],
   "source": []
  },
  {
   "cell_type": "code",
   "execution_count": null,
   "id": "9a3f39d6",
   "metadata": {},
   "outputs": [],
   "source": []
  },
  {
   "cell_type": "code",
   "execution_count": null,
   "id": "e42f8b72",
   "metadata": {},
   "outputs": [],
   "source": []
  },
  {
   "cell_type": "code",
   "execution_count": null,
   "id": "5c0cf261",
   "metadata": {},
   "outputs": [],
   "source": []
  },
  {
   "cell_type": "code",
   "execution_count": null,
   "id": "c6700bcc",
   "metadata": {},
   "outputs": [],
   "source": []
  },
  {
   "cell_type": "code",
   "execution_count": null,
   "id": "901de189",
   "metadata": {},
   "outputs": [],
   "source": []
  },
  {
   "cell_type": "code",
   "execution_count": null,
   "id": "b3984e65",
   "metadata": {},
   "outputs": [],
   "source": []
  },
  {
   "cell_type": "code",
   "execution_count": null,
   "id": "a45fd731",
   "metadata": {},
   "outputs": [],
   "source": []
  },
  {
   "cell_type": "code",
   "execution_count": null,
   "id": "74293683",
   "metadata": {},
   "outputs": [],
   "source": []
  },
  {
   "cell_type": "code",
   "execution_count": null,
   "id": "e579b11b",
   "metadata": {},
   "outputs": [],
   "source": []
  },
  {
   "cell_type": "code",
   "execution_count": null,
   "id": "79516667",
   "metadata": {},
   "outputs": [],
   "source": []
  },
  {
   "cell_type": "code",
   "execution_count": null,
   "id": "7d58455c",
   "metadata": {},
   "outputs": [],
   "source": []
  },
  {
   "cell_type": "code",
   "execution_count": null,
   "id": "2f6e3c02",
   "metadata": {},
   "outputs": [],
   "source": []
  },
  {
   "cell_type": "code",
   "execution_count": null,
   "id": "bf219675",
   "metadata": {},
   "outputs": [],
   "source": []
  },
  {
   "cell_type": "code",
   "execution_count": null,
   "id": "f7058c82",
   "metadata": {},
   "outputs": [],
   "source": []
  },
  {
   "cell_type": "code",
   "execution_count": null,
   "id": "6cb7018b",
   "metadata": {},
   "outputs": [],
   "source": []
  },
  {
   "cell_type": "code",
   "execution_count": null,
   "id": "458fa6d5",
   "metadata": {},
   "outputs": [],
   "source": []
  },
  {
   "cell_type": "code",
   "execution_count": null,
   "id": "47f0a1a6",
   "metadata": {},
   "outputs": [],
   "source": []
  },
  {
   "cell_type": "code",
   "execution_count": null,
   "id": "b82fead5",
   "metadata": {},
   "outputs": [],
   "source": []
  },
  {
   "cell_type": "code",
   "execution_count": null,
   "id": "c4329dbb",
   "metadata": {},
   "outputs": [],
   "source": []
  },
  {
   "cell_type": "code",
   "execution_count": null,
   "id": "b7f930ea",
   "metadata": {},
   "outputs": [],
   "source": []
  },
  {
   "cell_type": "code",
   "execution_count": null,
   "id": "93980da3",
   "metadata": {},
   "outputs": [],
   "source": []
  },
  {
   "cell_type": "code",
   "execution_count": null,
   "id": "0cb4f649",
   "metadata": {},
   "outputs": [],
   "source": []
  },
  {
   "cell_type": "code",
   "execution_count": null,
   "id": "5ed369de",
   "metadata": {},
   "outputs": [],
   "source": []
  },
  {
   "cell_type": "code",
   "execution_count": null,
   "id": "a9bf6eca",
   "metadata": {},
   "outputs": [],
   "source": []
  },
  {
   "cell_type": "code",
   "execution_count": null,
   "id": "99b468ff",
   "metadata": {},
   "outputs": [],
   "source": []
  },
  {
   "cell_type": "code",
   "execution_count": null,
   "id": "ef30d88d",
   "metadata": {},
   "outputs": [],
   "source": []
  },
  {
   "cell_type": "code",
   "execution_count": null,
   "id": "839b47c1",
   "metadata": {},
   "outputs": [],
   "source": []
  },
  {
   "cell_type": "code",
   "execution_count": null,
   "id": "dca59ed1",
   "metadata": {},
   "outputs": [],
   "source": []
  },
  {
   "cell_type": "code",
   "execution_count": null,
   "id": "22cf1999",
   "metadata": {},
   "outputs": [],
   "source": []
  },
  {
   "cell_type": "code",
   "execution_count": null,
   "id": "9ba52177",
   "metadata": {},
   "outputs": [],
   "source": []
  },
  {
   "cell_type": "code",
   "execution_count": null,
   "id": "73ab2f9d",
   "metadata": {},
   "outputs": [],
   "source": []
  }
 ],
 "metadata": {
  "kernelspec": {
   "display_name": "Python 3",
   "language": "python",
   "name": "python3"
  },
  "language_info": {
   "codemirror_mode": {
    "name": "ipython",
    "version": 3
   },
   "file_extension": ".py",
   "mimetype": "text/x-python",
   "name": "python",
   "nbconvert_exporter": "python",
   "pygments_lexer": "ipython3",
   "version": "3.8.8"
  }
 },
 "nbformat": 4,
 "nbformat_minor": 5
}
