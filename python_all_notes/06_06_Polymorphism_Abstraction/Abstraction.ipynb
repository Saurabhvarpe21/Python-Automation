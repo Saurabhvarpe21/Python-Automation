{
 "cells": [
  {
   "cell_type": "markdown",
   "id": "9d0ba511",
   "metadata": {},
   "source": [
    "# Abstraction"
   ]
  },
  {
   "cell_type": "code",
   "execution_count": null,
   "id": "a28d658c",
   "metadata": {},
   "outputs": [],
   "source": [
    "Blueprint of  your project\n",
    "Blueprint of other classes\n",
    "\n",
    "\n",
    "Abstract class is only used for declaration, not for implementation\n",
    "We can not create object of Abstract class\n",
    "\n",
    "It is used to hide irrelevent data/unused data/ attributes in order to reduce complexity and enhance efficiency\n",
    "By default python does not support abstract class ( we need import abc module)"
   ]
  },
  {
   "cell_type": "code",
   "execution_count": null,
   "id": "1e4b9ded",
   "metadata": {},
   "outputs": [],
   "source": [
    "1. Abstract class\n",
    "2. Normal class"
   ]
  },
  {
   "cell_type": "code",
   "execution_count": null,
   "id": "4878533b",
   "metadata": {},
   "outputs": [],
   "source": [
    "class Parent:\n",
    "    pass\n",
    "\n",
    "class Child(Parent):\n",
    "    pass\n",
    "\n",
    "obj.Child()"
   ]
  },
  {
   "cell_type": "code",
   "execution_count": null,
   "id": "60c0d7f5",
   "metadata": {},
   "outputs": [],
   "source": [
    "from abc import ABC, abstractmethod\n",
    "\n",
    "class Baseclass(ABC):\n",
    "    pass\n",
    "\n",
    "class DerivedClass(Baseclass):\n",
    "    pass"
   ]
  },
  {
   "cell_type": "code",
   "execution_count": 3,
   "id": "629e5c69",
   "metadata": {},
   "outputs": [
    {
     "name": "stdout",
     "output_type": "stream",
     "text": [
      "registration in ProjectBlueprint\n",
      "login in ProjectBlueprint\n"
     ]
    }
   ],
   "source": [
    "class ProjectBlueprint():\n",
    "    \n",
    "    def registration(self):\n",
    "        print('registration in ProjectBlueprint')\n",
    "    \n",
    "    def login(self):\n",
    "        print('login in ProjectBlueprint')\n",
    "    \n",
    "    \n",
    "class ProjectFunction(ProjectBlueprint):\n",
    "    pass\n",
    "Obj = ProjectFunction()\n",
    "Obj.registration()\n",
    "Obj.login()"
   ]
  },
  {
   "cell_type": "code",
   "execution_count": 4,
   "id": "16d6e465",
   "metadata": {},
   "outputs": [
    {
     "name": "stdout",
     "output_type": "stream",
     "text": [
      "registration in ProjectFunction\n",
      "login in ProjectFunction\n"
     ]
    }
   ],
   "source": [
    "class ProjectBlueprint():\n",
    "    \n",
    "    def registration(self):\n",
    "        print('registration in ProjectBlueprint')\n",
    "    \n",
    "    def login(self):\n",
    "        print('login in ProjectBlueprint')\n",
    "    \n",
    "    \n",
    "class ProjectFunction(ProjectBlueprint):\n",
    "    def registration(self):\n",
    "        print('registration in ProjectFunction')\n",
    "    \n",
    "    def login(self):\n",
    "        print('login in ProjectFunction')\n",
    "        \n",
    "    \n",
    "Obj = ProjectFunction()\n",
    "Obj.registration()\n",
    "Obj.login()"
   ]
  },
  {
   "cell_type": "code",
   "execution_count": 16,
   "id": "8deda1bc",
   "metadata": {},
   "outputs": [
    {
     "name": "stdout",
     "output_type": "stream",
     "text": [
      "registration in ProjectFunction\n",
      "login in ProjectFunction\n"
     ]
    }
   ],
   "source": [
    "from abc import ABC , abstractmethod\n",
    "\n",
    "class ProjectBlueprint(ABC):   # abstract class\n",
    "    \n",
    "    @abstractmethod                           # decorator\n",
    "    def registration(self):                   # abstract method\n",
    "        pass\n",
    "        \n",
    "    \n",
    "    @abstractmethod                           # decorator\n",
    "    def login(self):                          # abstract method  \n",
    "        pass\n",
    "    \n",
    "    \n",
    "class ProjectFunction(ProjectBlueprint):\n",
    "    \n",
    "    def registration(self):\n",
    "        print('registration in ProjectFunction')\n",
    "\n",
    "    \n",
    "    def login(self):\n",
    "        print('login in ProjectFunction')\n",
    "        \n",
    "    \n",
    "Obj = ProjectFunction()\n",
    "Obj.registration()\n",
    "Obj.login()"
   ]
  },
  {
   "cell_type": "code",
   "execution_count": 19,
   "id": "734622ec",
   "metadata": {},
   "outputs": [
    {
     "name": "stdout",
     "output_type": "stream",
     "text": [
      "Registration Function\n",
      "login Function\n",
      "Forget Password\n"
     ]
    }
   ],
   "source": [
    "from abc import ABC , abstractmethod\n",
    "\n",
    "class ProjectBlueprint(ABC):   # abstract class\n",
    "    \n",
    "    @abstractmethod                           # decorator\n",
    "    def registration(self):                   # abstract method\n",
    "        pass\n",
    "        \n",
    "    \n",
    "    @abstractmethod                           # decorator\n",
    "    def login(self):                          # abstract method  \n",
    "        pass\n",
    "    \n",
    "    def forget_password(self):\n",
    "        print('Forget Password')\n",
    "    \n",
    "class ProjectFunction(ProjectBlueprint):\n",
    "    \n",
    "    def registration(self):\n",
    "        print('Registration Function')\n",
    "\n",
    "    \n",
    "    def login(self):\n",
    "        print('login Function')\n",
    "        \n",
    "    \n",
    "        \n",
    "    \n",
    "Obj = ProjectFunction()\n",
    "Obj.registration()\n",
    "Obj.login()\n",
    "Obj.forget_password()"
   ]
  },
  {
   "cell_type": "code",
   "execution_count": 21,
   "id": "0df8cacd",
   "metadata": {},
   "outputs": [
    {
     "name": "stdout",
     "output_type": "stream",
     "text": [
      "Registration Function\n",
      "login Function\n",
      "Forget Password\n"
     ]
    }
   ],
   "source": [
    "from abc import ABC , abstractmethod\n",
    "\n",
    "class ProjectBlueprint(ABC):   # abstract class\n",
    "    \n",
    "    @abstractmethod                           # decorator\n",
    "    def registration(self):                   # abstract method\n",
    "        pass\n",
    "        \n",
    "    \n",
    "    @abstractmethod                           # decorator\n",
    "    def login(self):                          # abstract method  \n",
    "        pass\n",
    "    \n",
    "    @abstractmethod\n",
    "    def forget_password(self):\n",
    "        print('Forget Password')\n",
    "    \n",
    "class ProjectFunction(ProjectBlueprint):\n",
    "    \n",
    "    def registration(self):\n",
    "        print('Registration Function')\n",
    "\n",
    "    \n",
    "    def login(self):\n",
    "        print('login Function')\n",
    "        \n",
    "    def forget_password(self):\n",
    "        print('Forget Password')\n",
    "    \n",
    "        \n",
    "    \n",
    "Obj = ProjectFunction()\n",
    "Obj.registration()\n",
    "Obj.login()\n",
    "Obj.forget_password()"
   ]
  },
  {
   "cell_type": "code",
   "execution_count": 34,
   "id": "77ed89fc",
   "metadata": {},
   "outputs": [
    {
     "name": "stdout",
     "output_type": "stream",
     "text": [
      "Area is : 150\n",
      "Volume is: 125\n",
      "Hi I am a Triangle\n"
     ]
    }
   ],
   "source": [
    "class Shape(ABC):\n",
    "    @abstractmethod\n",
    "    def area(self):\n",
    "        pass\n",
    "    @abstractmethod\n",
    "    def volume(self):\n",
    "        pass\n",
    "    \n",
    "    def triangle(self): \n",
    "        print('Hi I am a Triangle')\n",
    "    \n",
    "    \n",
    "class Cube(Shape):\n",
    "    \n",
    "    def __init__(self, side):\n",
    "        self.side = side\n",
    "\n",
    "    def area(self):\n",
    "        ar = 6 * (self.side ** 2)\n",
    "        print('Area is :', ar)\n",
    "        \n",
    "    def volume(self):\n",
    "        vol = self.side **3\n",
    "        print('Volume is:', vol)\n",
    "\n",
    "\n",
    "c1 = Cube(5)\n",
    "c1.area()\n",
    "c1.volume()\n",
    "c1.triangle()"
   ]
  },
  {
   "cell_type": "code",
   "execution_count": 38,
   "id": "41f6a944",
   "metadata": {},
   "outputs": [
    {
     "name": "stdout",
     "output_type": "stream",
     "text": [
      "Area is : 150\n",
      "Volume is: 125\n",
      "Hi I am a Triangle\n"
     ]
    },
    {
     "ename": "TypeError",
     "evalue": "Can't instantiate abstract class Shape with abstract methods area, volume",
     "output_type": "error",
     "traceback": [
      "\u001b[1;31m---------------------------------------------------------------------------\u001b[0m",
      "\u001b[1;31mTypeError\u001b[0m                                 Traceback (most recent call last)",
      "\u001b[1;32m<ipython-input-38-ce69575569ae>\u001b[0m in \u001b[0;36m<module>\u001b[1;34m\u001b[0m\n\u001b[0;32m     30\u001b[0m \u001b[0mc1\u001b[0m\u001b[1;33m.\u001b[0m\u001b[0mtriangle\u001b[0m\u001b[1;33m(\u001b[0m\u001b[1;33m)\u001b[0m\u001b[1;33m\u001b[0m\u001b[1;33m\u001b[0m\u001b[0m\n\u001b[0;32m     31\u001b[0m \u001b[1;33m\u001b[0m\u001b[0m\n\u001b[1;32m---> 32\u001b[1;33m \u001b[0msh\u001b[0m \u001b[1;33m=\u001b[0m \u001b[0mShape\u001b[0m\u001b[1;33m(\u001b[0m\u001b[1;33m)\u001b[0m\u001b[1;33m\u001b[0m\u001b[1;33m\u001b[0m\u001b[0m\n\u001b[0m",
      "\u001b[1;31mTypeError\u001b[0m: Can't instantiate abstract class Shape with abstract methods area, volume"
     ]
    }
   ],
   "source": [
    "class Shape(ABC):\n",
    "    @abstractmethod\n",
    "    def area(self):\n",
    "        pass\n",
    "    @abstractmethod\n",
    "    def volume(self):\n",
    "        pass\n",
    "    \n",
    "    def triangle(self): \n",
    "        print('Hi I am a Triangle')\n",
    "    \n",
    "    \n",
    "class Cube(Shape):\n",
    "    \n",
    "    def __init__(self, side):\n",
    "        self.side = side\n",
    "\n",
    "    def area(self):\n",
    "        ar = 6 * (self.side ** 2)\n",
    "        print('Area is :', ar)\n",
    "        \n",
    "    def volume(self):\n",
    "        vol = self.side **3\n",
    "        print('Volume is:', vol)\n",
    "\n",
    "\n",
    "c1 = Cube(5)\n",
    "c1.area()\n",
    "c1.volume()\n",
    "c1.triangle()\n",
    "\n",
    "sh = Shape()"
   ]
  },
  {
   "cell_type": "code",
   "execution_count": null,
   "id": "41088c9f",
   "metadata": {},
   "outputs": [],
   "source": []
  },
  {
   "cell_type": "code",
   "execution_count": null,
   "id": "548def0d",
   "metadata": {},
   "outputs": [],
   "source": []
  },
  {
   "cell_type": "code",
   "execution_count": null,
   "id": "c59222c3",
   "metadata": {},
   "outputs": [],
   "source": []
  },
  {
   "cell_type": "code",
   "execution_count": null,
   "id": "06108fdf",
   "metadata": {},
   "outputs": [],
   "source": []
  },
  {
   "cell_type": "code",
   "execution_count": null,
   "id": "510b8de1",
   "metadata": {},
   "outputs": [],
   "source": []
  },
  {
   "cell_type": "code",
   "execution_count": null,
   "id": "07ce6cac",
   "metadata": {},
   "outputs": [],
   "source": []
  },
  {
   "cell_type": "code",
   "execution_count": null,
   "id": "f9b97958",
   "metadata": {},
   "outputs": [],
   "source": []
  },
  {
   "cell_type": "code",
   "execution_count": null,
   "id": "4d35d9a2",
   "metadata": {},
   "outputs": [],
   "source": []
  },
  {
   "cell_type": "code",
   "execution_count": null,
   "id": "2530927b",
   "metadata": {},
   "outputs": [],
   "source": []
  },
  {
   "cell_type": "code",
   "execution_count": null,
   "id": "4837ff4b",
   "metadata": {},
   "outputs": [],
   "source": []
  },
  {
   "cell_type": "code",
   "execution_count": null,
   "id": "b16aa712",
   "metadata": {},
   "outputs": [],
   "source": []
  },
  {
   "cell_type": "code",
   "execution_count": null,
   "id": "d1b6611a",
   "metadata": {},
   "outputs": [],
   "source": []
  },
  {
   "cell_type": "code",
   "execution_count": null,
   "id": "9587f75d",
   "metadata": {},
   "outputs": [],
   "source": []
  },
  {
   "cell_type": "code",
   "execution_count": null,
   "id": "930ad646",
   "metadata": {},
   "outputs": [],
   "source": []
  },
  {
   "cell_type": "code",
   "execution_count": null,
   "id": "04473b4e",
   "metadata": {},
   "outputs": [],
   "source": []
  },
  {
   "cell_type": "code",
   "execution_count": null,
   "id": "d356d827",
   "metadata": {},
   "outputs": [],
   "source": []
  },
  {
   "cell_type": "code",
   "execution_count": null,
   "id": "dc8220f4",
   "metadata": {},
   "outputs": [],
   "source": []
  },
  {
   "cell_type": "code",
   "execution_count": null,
   "id": "670024c9",
   "metadata": {},
   "outputs": [],
   "source": []
  },
  {
   "cell_type": "code",
   "execution_count": null,
   "id": "1f64ea27",
   "metadata": {},
   "outputs": [],
   "source": []
  },
  {
   "cell_type": "code",
   "execution_count": null,
   "id": "84ec2ce8",
   "metadata": {},
   "outputs": [],
   "source": []
  },
  {
   "cell_type": "code",
   "execution_count": null,
   "id": "056d1914",
   "metadata": {},
   "outputs": [],
   "source": []
  },
  {
   "cell_type": "code",
   "execution_count": null,
   "id": "a4c7f545",
   "metadata": {},
   "outputs": [],
   "source": []
  },
  {
   "cell_type": "code",
   "execution_count": null,
   "id": "42c9eed1",
   "metadata": {},
   "outputs": [],
   "source": []
  },
  {
   "cell_type": "code",
   "execution_count": null,
   "id": "07d925a5",
   "metadata": {},
   "outputs": [],
   "source": []
  },
  {
   "cell_type": "code",
   "execution_count": null,
   "id": "d635db4f",
   "metadata": {},
   "outputs": [],
   "source": []
  },
  {
   "cell_type": "code",
   "execution_count": null,
   "id": "5b783ff3",
   "metadata": {},
   "outputs": [],
   "source": []
  },
  {
   "cell_type": "code",
   "execution_count": null,
   "id": "2112e20d",
   "metadata": {},
   "outputs": [],
   "source": []
  },
  {
   "cell_type": "code",
   "execution_count": null,
   "id": "835409f4",
   "metadata": {},
   "outputs": [],
   "source": []
  },
  {
   "cell_type": "code",
   "execution_count": null,
   "id": "d5c3f3e1",
   "metadata": {},
   "outputs": [],
   "source": []
  },
  {
   "cell_type": "code",
   "execution_count": null,
   "id": "9aa7ca22",
   "metadata": {},
   "outputs": [],
   "source": []
  },
  {
   "cell_type": "code",
   "execution_count": null,
   "id": "20cd8b94",
   "metadata": {},
   "outputs": [],
   "source": []
  },
  {
   "cell_type": "code",
   "execution_count": null,
   "id": "82209973",
   "metadata": {},
   "outputs": [],
   "source": []
  },
  {
   "cell_type": "code",
   "execution_count": null,
   "id": "33f83e79",
   "metadata": {},
   "outputs": [],
   "source": []
  },
  {
   "cell_type": "code",
   "execution_count": null,
   "id": "c02f5fb9",
   "metadata": {},
   "outputs": [],
   "source": []
  },
  {
   "cell_type": "code",
   "execution_count": null,
   "id": "aeaa5c2a",
   "metadata": {},
   "outputs": [],
   "source": []
  },
  {
   "cell_type": "code",
   "execution_count": null,
   "id": "8138c4ca",
   "metadata": {},
   "outputs": [],
   "source": []
  },
  {
   "cell_type": "code",
   "execution_count": null,
   "id": "34fba9e5",
   "metadata": {},
   "outputs": [],
   "source": []
  },
  {
   "cell_type": "code",
   "execution_count": null,
   "id": "46c9710f",
   "metadata": {},
   "outputs": [],
   "source": []
  },
  {
   "cell_type": "code",
   "execution_count": null,
   "id": "28789069",
   "metadata": {},
   "outputs": [],
   "source": []
  },
  {
   "cell_type": "code",
   "execution_count": null,
   "id": "4c754add",
   "metadata": {},
   "outputs": [],
   "source": []
  },
  {
   "cell_type": "code",
   "execution_count": null,
   "id": "8f9d3970",
   "metadata": {},
   "outputs": [],
   "source": []
  },
  {
   "cell_type": "code",
   "execution_count": null,
   "id": "2b1763f5",
   "metadata": {},
   "outputs": [],
   "source": []
  },
  {
   "cell_type": "code",
   "execution_count": null,
   "id": "a0ae505c",
   "metadata": {},
   "outputs": [],
   "source": []
  },
  {
   "cell_type": "code",
   "execution_count": null,
   "id": "972f8c8f",
   "metadata": {},
   "outputs": [],
   "source": []
  },
  {
   "cell_type": "code",
   "execution_count": null,
   "id": "18feec85",
   "metadata": {},
   "outputs": [],
   "source": []
  },
  {
   "cell_type": "code",
   "execution_count": null,
   "id": "ba29e487",
   "metadata": {},
   "outputs": [],
   "source": []
  },
  {
   "cell_type": "code",
   "execution_count": null,
   "id": "d1d1c3dc",
   "metadata": {},
   "outputs": [],
   "source": []
  },
  {
   "cell_type": "code",
   "execution_count": null,
   "id": "0c51c6e3",
   "metadata": {},
   "outputs": [],
   "source": []
  },
  {
   "cell_type": "code",
   "execution_count": null,
   "id": "ad8c06b1",
   "metadata": {},
   "outputs": [],
   "source": []
  },
  {
   "cell_type": "code",
   "execution_count": null,
   "id": "c8fde557",
   "metadata": {},
   "outputs": [],
   "source": []
  }
 ],
 "metadata": {
  "kernelspec": {
   "display_name": "Python 3",
   "language": "python",
   "name": "python3"
  },
  "language_info": {
   "codemirror_mode": {
    "name": "ipython",
    "version": 3
   },
   "file_extension": ".py",
   "mimetype": "text/x-python",
   "name": "python",
   "nbconvert_exporter": "python",
   "pygments_lexer": "ipython3",
   "version": "3.8.8"
  }
 },
 "nbformat": 4,
 "nbformat_minor": 5
}
