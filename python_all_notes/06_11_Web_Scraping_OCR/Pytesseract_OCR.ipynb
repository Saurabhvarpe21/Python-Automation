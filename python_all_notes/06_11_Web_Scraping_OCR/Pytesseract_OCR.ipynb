{
 "cells": [
  {
   "cell_type": "code",
   "execution_count": 5,
   "id": "268c292c",
   "metadata": {},
   "outputs": [
    {
     "name": "stdout",
     "output_type": "stream",
     "text": [
      "['is', 'an', 'interdisciplinary', 'uses', 'algorithms', 'and', 'extract', 'and', 'insights', 'and', 'unstructured', 'and', 'apply', 'across', 'a', 'of', 'application']\n"
     ]
    }
   ],
   "source": [
    "import re\n",
    "text = '''Data science is an interdisciplinary field that uses scientific methods,\n",
    "processes, algorithms and systems to extract knowledge and insights from noisy,\n",
    "structured and unstructured data, and apply knowledge from data across a broad range of application domains.'''\n",
    "\n",
    "\n",
    "matchlist = re.findall(r'\\b[aeiou].*?\\b', text)\n",
    "print(matchlist)"
   ]
  },
  {
   "cell_type": "code",
   "execution_count": 6,
   "id": "b14c9d80",
   "metadata": {},
   "outputs": [
    {
     "name": "stdout",
     "output_type": "stream",
     "text": [
      "['is', 'an', 'interdisciplinary', 'uses', 'algorithms', 'and', 'extract', 'and', 'insights', 'and', 'unstructured', 'and', 'apply', 'across', 'a ', 'of', 'application']\n"
     ]
    }
   ],
   "source": [
    "import re\n",
    "text = '''Data science is an interdisciplinary field that uses scientific methods,\n",
    "processes, algorithms and systems to extract knowledge and insights from noisy,\n",
    "structured and unstructured data, and apply knowledge from data across a broad range of application domains.'''\n",
    "\n",
    "\n",
    "matchlist = re.findall(r'\\b[aeiou].+?\\b', text)\n",
    "print(matchlist)"
   ]
  },
  {
   "cell_type": "code",
   "execution_count": 8,
   "id": "7834e165",
   "metadata": {},
   "outputs": [
    {
     "name": "stdout",
     "output_type": "stream",
     "text": [
      "['is', 'an', 'interdisciplinary', 'uses', 'algorithms', 'and', 'extract', 'and', 'insights', 'and', 'unstructured', 'and', 'apply', 'across', 'of', 'application']\n"
     ]
    }
   ],
   "source": [
    "matchlist = re.findall(r'\\b[aeiou]\\w+', text)\n",
    "print(matchlist)"
   ]
  },
  {
   "cell_type": "code",
   "execution_count": 9,
   "id": "f3e53a7b",
   "metadata": {},
   "outputs": [
    {
     "name": "stdout",
     "output_type": "stream",
     "text": [
      "['is', 'an', 'interdisciplinary', 'uses', 'algorithms', 'and', 'extract', 'and', 'insights', 'and', 'unstructured', 'and', 'apply', 'across', 'a', 'of', 'application']\n"
     ]
    }
   ],
   "source": [
    "matchlist = re.findall(r'\\b[aeiou]\\w*', text)\n",
    "print(matchlist)"
   ]
  },
  {
   "cell_type": "code",
   "execution_count": 10,
   "id": "716dab2e",
   "metadata": {},
   "outputs": [
    {
     "name": "stdout",
     "output_type": "stream",
     "text": [
      "['is', 'an', 'interdisciplinary', 'uses', 'algorithms', 'and', 'extract', 'and', 'insights', 'and', 'unstructured', 'and', 'apply', 'across', 'a', 'of', 'application']\n"
     ]
    }
   ],
   "source": [
    "matchlist = re.findall(r'\\b[a|e|i|o|u]\\w*', text)\n",
    "print(matchlist)"
   ]
  },
  {
   "cell_type": "markdown",
   "id": "c3387d9d",
   "metadata": {},
   "source": [
    "## Pytesseract_OCR"
   ]
  },
  {
   "cell_type": "code",
   "execution_count": 1,
   "id": "ac3508c3",
   "metadata": {},
   "outputs": [],
   "source": [
    "# pip install pytesseract\n",
    "# pip install tesseract\n",
    "# pip install pdf2image"
   ]
  },
  {
   "cell_type": "code",
   "execution_count": 1,
   "id": "955aa0d5",
   "metadata": {},
   "outputs": [],
   "source": [
    "import pytesseract\n",
    "import pandas as pd"
   ]
  },
  {
   "cell_type": "code",
   "execution_count": 3,
   "id": "d1712741",
   "metadata": {},
   "outputs": [
    {
     "name": "stdout",
     "output_type": "stream",
     "text": [
      "INTERGLOBE AVIATION LIMITED\n",
      "124, JANPATH, CENTRAL WING GROUND FLOOR,\n",
      "THAPAR HOUSE, DELHI - 110001\n",
      "DELHI\n",
      "PAY SLIP FOR THE MONTH OF APRIL 2020\n",
      "\n",
      "PAN\n",
      "\n",
      "EPF No.\n",
      "MONTH DAYS\n",
      "PAID DAYS\n",
      "\n",
      " \n",
      "\n",
      "DMPPB0331F\n",
      "DL/31297/233140\n",
      "30.00\n",
      "\n",
      "30.00\n",
      "\n",
      "EMP CODE\n",
      "\n",
      "EMP NAME\n",
      "\n",
      "DATE OF JOINING\n",
      "BANK\n",
      "\n",
      "BANK A/C. NO.\n",
      "COST CENTER\n",
      "LOCATION\n",
      "DEPARTMENT\n",
      "\n",
      "IGA39441\n",
      "\n",
      "AKSHAY IRANNA BASGUNDE\n",
      "12 MAR 2019\n",
      "\n",
      "HDFC BANK\n",
      "\n",
      "50100270921114 (HDFC BANK)\n",
      "DP0102\n",
      "\n",
      "PUNE\n",
      "\n",
      "AIRPORT OPERATIONS & CUSTOMER SERVICES\n",
      "\n",
      "DESIGNATION : SECURITY OFFICER\n",
      "\n",
      "PF UAN : 101434436993\n",
      "\n",
      "PC EARNINGS rrr———C“‘SESNSC(N#RNNNN9. ©_—s—s ss ———DEDUCTIONS.—i——“‘(CSSCis\n",
      "BASIC 5104.00 5104.00 5104.00] PROVIDENT FUND 1052.00\n",
      "\n",
      "HRA 3062.00 3062.00 3062.00}ESI 111.00\n",
      "\n",
      "SPECIAL ALLOWANCE 2162.00 2162.00 2162.00]PROFESSIONAL TAX 200.00\n",
      "\n",
      "UNIFORM ALLOWANCE 1500.00 1500.00 1500.00} BENEVOLENT FUND 200.00\n",
      "\n",
      "TRANSPORT ALLOWANCE 0.00 1364.00\n",
      "\n",
      "EFFICIENCY BONUS 0.00 6000.00\n",
      "\n",
      "MONTHLY BONUS 729.00 729.00\n",
      "\n",
      "NIGHT SHIFT ALLOWANCE 0.00 800.00\n",
      "\n",
      "NET PAY 19158.00 (NINETEEN THOUSAND ONE HUNDRED FIFTY EIGHT ONLY\n",
      "\n",
      "INCOME TAX WORKSHEET FROM 01 APR 2020 - 31 MAR 2021\n",
      "GROSS |EXEMPT|TAXABLE| DEDUCTION UNDER CHAPTER VI-A__|, ~—SOTHER CALCULATIONS\n",
      "\n",
      "61248.00 0.00) 61248.00 | INVESTMENTS U/S 80C\n",
      "36744.00 0.00 | 36744.00 | PROVIDENT FUND\n",
      "25944.00 0.00\n",
      "\n",
      "DESCRIPTION\n",
      "BASIC\n",
      "HRA\n",
      "SPECIAL ALLOWANCE\n",
      "UNIFORM ALLOWANCE\n",
      "TRANSPORT ALLOWANCE\n",
      "EFFICIENCY BONUS\n",
      "MONTHLY BONUS\n",
      "NIGHT SHIFT ALLOWANCE\n",
      "\n",
      "12623.00 | FROM\n",
      "\n",
      "TO\n",
      "\n",
      "24499.00\n",
      "0.00\n",
      "\n",
      "0.00\n",
      "36744.00\n",
      "\n",
      "2. 40% OR 50% OF BASIC\n",
      "3. RENT - 10% BASIC\n",
      "LEAST OF ABOVE IS EXEMPT,\n",
      "\n",
      "800.00 TAXABLE HRA\n",
      "\n",
      "TDS DEDUCTED MONTHLY\n",
      "MONTH\n",
      "\n",
      "APRIL-2020\n",
      "\n",
      "TAX DEDUCTED ON PERQ.\n",
      "TOTAL\n",
      "\n",
      "AMOUNT\n",
      "\n",
      "158848.00 |18000.00 |140848.00 | TOTAL OF INVESTMENTS U/S 80C\n",
      "\n",
      "[DEDUCTIONS CdS\n",
      "\n",
      "50000.00 | POTAL OF DED UNDER CHAPTER VI-A)12623.00\n",
      "\n",
      "0.00\n",
      "0.00\n",
      "\n",
      "STANDARD DEDUCTION\n",
      "PREVIOUS EMPLOYER TAXABLE INCOME\n",
      "PREVIOUS EMPLOYER PROFESSIONAL TAX\n",
      "\n",
      "PROFESSIONAL TAX\n",
      "UNDER CHAPTER VI-A\n",
      "ANY OTHER INCOME\n",
      "TAXABLE INCOME\n",
      "\n",
      "2500.00\n",
      "12623.00\n",
      "0.00\n",
      "75725.00\n",
      "\n",
      "MAXIMUM TAX SLAB %\n",
      "\n",
      "TOTAL TAX\n",
      "\n",
      "TAX REBATE U/S 87A\n",
      "\n",
      "SURCHARGE\n",
      "\n",
      "TAX DUE\n",
      "\n",
      "HEALTH AND EDUCATION CESS\n",
      "\n",
      "NET TAX\n",
      "\n",
      "TAX DEDUCTED (PREVIOUS EMPLOYER)\n",
      "TAX DEDUCTED ON PERQ.\n",
      "\n",
      "TAX DEDUCTED ON ANY OTHER INCOME.\n",
      "TAX DEDUCTED TILL DATE\n",
      "\n",
      "TAX TO BE DEDUCTED\n",
      "\n",
      "TAX/MONTH\n",
      "\n",
      "TAX ON NON-RECURRING EARNINGS\n",
      "TAX DEDUCTION FOR THIS MONTH\n",
      "\n",
      "|\n",
      "RENT PAID\n",
      "\n",
      " \n",
      "\n"
     ]
    }
   ],
   "source": [
    "pytesseract.pytesseract.tesseract_cmd = r'C:\\Program Files\\Tesseract-OCR\\tesseract.exe'\n",
    "text = pytesseract.image_to_string(r'G:\\Velocity 16 APR\\06_11_Web_Scraping_OCR\\files\\salary.jpg')\n",
    "print(text)"
   ]
  },
  {
   "cell_type": "code",
   "execution_count": 5,
   "id": "8264bb98",
   "metadata": {},
   "outputs": [
    {
     "name": "stdout",
     "output_type": "stream",
     "text": [
      "INTERGLOBE AVIATION LIMITED\n",
      "124, JANPATH, CENTRAL WING GROUND FLOOR,\n",
      "THAPAR HOUSE, DELHI - 110001\n",
      "DELHI\n",
      "PAY SLIP FOR THE MONTH OF APRIL 2020\n",
      "PAN\n",
      "EPF No.\n",
      "MONTH DAYS\n",
      "PAID DAYS\n",
      " \n",
      "DMPPB0331F\n",
      "DL/31297/233140\n",
      "30.00\n",
      "30.00\n",
      "EMP CODE\n",
      "EMP NAME\n",
      "DATE OF JOINING\n",
      "BANK\n",
      "BANK A/C. NO.\n",
      "COST CENTER\n",
      "LOCATION\n",
      "DEPARTMENT\n",
      "IGA39441\n",
      "AKSHAY IRANNA BASGUNDE\n",
      "12 MAR 2019\n",
      "HDFC BANK\n",
      "50100270921114 (HDFC BANK)\n",
      "DP0102\n",
      "PUNE\n",
      "AIRPORT OPERATIONS & CUSTOMER SERVICES\n",
      "DESIGNATION : SECURITY OFFICER\n",
      "PF UAN : 101434436993\n",
      "PC EARNINGS rrr———C“‘SESNSC(N#RNNNN9. ©_—s—s ss ———DEDUCTIONS.—i——“‘(CSSCis\n",
      "BASIC 5104.00 5104.00 5104.00] PROVIDENT FUND 1052.00\n",
      "HRA 3062.00 3062.00 3062.00}ESI 111.00\n",
      "SPECIAL ALLOWANCE 2162.00 2162.00 2162.00]PROFESSIONAL TAX 200.00\n",
      "UNIFORM ALLOWANCE 1500.00 1500.00 1500.00} BENEVOLENT FUND 200.00\n",
      "TRANSPORT ALLOWANCE 0.00 1364.00\n",
      "EFFICIENCY BONUS 0.00 6000.00\n",
      "MONTHLY BONUS 729.00 729.00\n",
      "NIGHT SHIFT ALLOWANCE 0.00 800.00\n",
      "NET PAY 19158.00 (NINETEEN THOUSAND ONE HUNDRED FIFTY EIGHT ONLY\n",
      "INCOME TAX WORKSHEET FROM 01 APR 2020 - 31 MAR 2021\n",
      "GROSS |EXEMPT|TAXABLE| DEDUCTION UNDER CHAPTER VI-A__|, ~—SOTHER CALCULATIONS\n",
      "61248.00 0.00) 61248.00 | INVESTMENTS U/S 80C\n",
      "36744.00 0.00 | 36744.00 | PROVIDENT FUND\n",
      "25944.00 0.00\n",
      "DESCRIPTION\n",
      "BASIC\n",
      "HRA\n",
      "SPECIAL ALLOWANCE\n",
      "UNIFORM ALLOWANCE\n",
      "TRANSPORT ALLOWANCE\n",
      "EFFICIENCY BONUS\n",
      "MONTHLY BONUS\n",
      "NIGHT SHIFT ALLOWANCE\n",
      "12623.00 | FROM\n",
      "TO\n",
      "24499.00\n",
      "0.00\n",
      "0.00\n",
      "36744.00\n",
      "2. 40% OR 50% OF BASIC\n",
      "3. RENT - 10% BASIC\n",
      "LEAST OF ABOVE IS EXEMPT,\n",
      "800.00 TAXABLE HRA\n",
      "TDS DEDUCTED MONTHLY\n",
      "MONTH\n",
      "APRIL-2020\n",
      "TAX DEDUCTED ON PERQ.\n",
      "TOTAL\n",
      "AMOUNT\n",
      "158848.00 |18000.00 |140848.00 | TOTAL OF INVESTMENTS U/S 80C\n",
      "[DEDUCTIONS CdS\n",
      "50000.00 | POTAL OF DED UNDER CHAPTER VI-A)12623.00\n",
      "0.00\n",
      "0.00\n",
      "STANDARD DEDUCTION\n",
      "PREVIOUS EMPLOYER TAXABLE INCOME\n",
      "PREVIOUS EMPLOYER PROFESSIONAL TAX\n",
      "PROFESSIONAL TAX\n",
      "UNDER CHAPTER VI-A\n",
      "ANY OTHER INCOME\n",
      "TAXABLE INCOME\n",
      "2500.00\n",
      "12623.00\n",
      "0.00\n",
      "75725.00\n",
      "MAXIMUM TAX SLAB %\n",
      "TOTAL TAX\n",
      "TAX REBATE U/S 87A\n",
      "SURCHARGE\n",
      "TAX DUE\n",
      "HEALTH AND EDUCATION CESS\n",
      "NET TAX\n",
      "TAX DEDUCTED (PREVIOUS EMPLOYER)\n",
      "TAX DEDUCTED ON PERQ.\n",
      "TAX DEDUCTED ON ANY OTHER INCOME.\n",
      "TAX DEDUCTED TILL DATE\n",
      "TAX TO BE DEDUCTED\n",
      "TAX/MONTH\n",
      "TAX ON NON-RECURRING EARNINGS\n",
      "TAX DEDUCTION FOR THIS MONTH\n",
      "|\n",
      "RENT PAID\n",
      " \n",
      "\n"
     ]
    }
   ],
   "source": [
    "import re\n",
    "\n",
    "result = re.sub('\\n+', '\\n', text)\n",
    "print(result)"
   ]
  },
  {
   "cell_type": "code",
   "execution_count": 12,
   "id": "ccb17feb",
   "metadata": {
    "scrolled": true
   },
   "outputs": [
    {
     "name": "stdout",
     "output_type": "stream",
     "text": [
      "INTERGLOBE AVIATION LIMITED\n",
      "124, JANPATH, CENTRAL WING GROUND FLOOR,\n",
      "THAPAR HOUSE, DELHI - 110001\n",
      "DELHI\n",
      "PAY SLIP FOR THE MONTH OF APRIL 2020\n",
      "PAN\n",
      "EPF No.\n",
      "MONTH DAYS\n",
      "PAID DAYS\n",
      "DMPPB0331F\n",
      "DL/31297/233140\n",
      "30.00\n",
      "30.00\n",
      "EMP CODE\n",
      "EMP NAME\n",
      "DATE OF JOINING\n",
      "BANK\n",
      "BANK A/C. NO.\n",
      "COST CENTER\n",
      "LOCATION\n",
      "DEPARTMENT\n",
      "IGA39441\n",
      "AKSHAY IRANNA BASGUNDE\n",
      "12 MAR 2019\n",
      "HDFC BANK\n",
      "50100270921114 (HDFC BANK)\n",
      "DP0102\n",
      "PUNE\n",
      "AIRPORT OPERATIONS & CUSTOMER SERVICES\n",
      "DESIGNATION : SECURITY OFFICER\n",
      "PF UAN : 101434436993\n",
      "PC EARNINGS rrr———C“‘SESNSC(N#RNNNN9. ©_—s—s ss ———DEDUCTIONS.—i——“‘(CSSCis\n",
      "BASIC 5104.00 5104.00 5104.00] PROVIDENT FUND 1052.00\n",
      "HRA 3062.00 3062.00 3062.00}ESI 111.00\n",
      "SPECIAL ALLOWANCE 2162.00 2162.00 2162.00]PROFESSIONAL TAX 200.00\n",
      "UNIFORM ALLOWANCE 1500.00 1500.00 1500.00} BENEVOLENT FUND 200.00\n",
      "TRANSPORT ALLOWANCE 0.00 1364.00\n",
      "EFFICIENCY BONUS 0.00 6000.00\n",
      "MONTHLY BONUS 729.00 729.00\n",
      "NIGHT SHIFT ALLOWANCE 0.00 800.00\n",
      "NET PAY 19158.00 (NINETEEN THOUSAND ONE HUNDRED FIFTY EIGHT ONLY\n",
      "INCOME TAX WORKSHEET FROM 01 APR 2020 - 31 MAR 2021\n",
      "GROSS |EXEMPT|TAXABLE| DEDUCTION UNDER CHAPTER VI-A__|, ~—SOTHER CALCULATIONS\n",
      "61248.00 0.00) 61248.00 | INVESTMENTS U/S 80C\n",
      "36744.00 0.00 | 36744.00 | PROVIDENT FUND\n",
      "25944.00 0.00\n",
      "DESCRIPTION\n",
      "BASIC\n",
      "HRA\n",
      "SPECIAL ALLOWANCE\n",
      "UNIFORM ALLOWANCE\n",
      "TRANSPORT ALLOWANCE\n",
      "EFFICIENCY BONUS\n",
      "MONTHLY BONUS\n",
      "NIGHT SHIFT ALLOWANCE\n",
      "12623.00 | FROM\n",
      "TO\n",
      "24499.00\n",
      "0.00\n",
      "0.00\n",
      "36744.00\n",
      "2. 40% OR 50% OF BASIC\n",
      "3. RENT - 10% BASIC\n",
      "LEAST OF ABOVE IS EXEMPT,\n",
      "800.00 TAXABLE HRA\n",
      "TDS DEDUCTED MONTHLY\n",
      "MONTH\n",
      "APRIL-2020\n",
      "TAX DEDUCTED ON PERQ.\n",
      "TOTAL\n",
      "AMOUNT\n",
      "158848.00 |18000.00 |140848.00 | TOTAL OF INVESTMENTS U/S 80C\n",
      "[DEDUCTIONS CdS\n",
      "50000.00 | POTAL OF DED UNDER CHAPTER VI-A)12623.00\n",
      "0.00\n",
      "0.00\n",
      "STANDARD DEDUCTION\n",
      "PREVIOUS EMPLOYER TAXABLE INCOME\n",
      "PREVIOUS EMPLOYER PROFESSIONAL TAX\n",
      "PROFESSIONAL TAX\n",
      "UNDER CHAPTER VI-A\n",
      "ANY OTHER INCOME\n",
      "TAXABLE INCOME\n",
      "2500.00\n",
      "12623.00\n",
      "0.00\n",
      "75725.00\n",
      "MAXIMUM TAX SLAB %\n",
      "TOTAL TAX\n",
      "TAX REBATE U/S 87A\n",
      "SURCHARGE\n",
      "TAX DUE\n",
      "HEALTH AND EDUCATION CESS\n",
      "NET TAX\n",
      "TAX DEDUCTED (PREVIOUS EMPLOYER)\n",
      "TAX DEDUCTED ON PERQ.\n",
      "TAX DEDUCTED ON ANY OTHER INCOME.\n",
      "TAX DEDUCTED TILL DATE\n",
      "TAX TO BE DEDUCTED\n",
      "TAX/MONTH\n",
      "TAX ON NON-RECURRING EARNINGS\n",
      "TAX DEDUCTION FOR THIS MONTH\n",
      "|\n",
      "RENT PAID\n"
     ]
    }
   ],
   "source": [
    "text_list = result.split('\\n')\n",
    "\n",
    "# text = []\n",
    "# for line in text_list:\n",
    "#     if re.sub('[^A-z0-9.,/]+', ' ', line.strip()):\n",
    "#         print(line)\n",
    "#         text.append(line)\n",
    "    \n",
    "text = [line for line in text_list if re.sub('[^A-z0-9/.,]+', ' ', line.strip())]\n",
    "# print(text)\n",
    "\n",
    "text = '\\n'.join(text)\n",
    "print(text)"
   ]
  },
  {
   "cell_type": "code",
   "execution_count": 13,
   "id": "416b92fd",
   "metadata": {},
   "outputs": [
    {
     "name": "stdout",
     "output_type": "stream",
     "text": [
      "HIG WRIGY REPUBLIC OF INDIA '\n",
      "cnt saa acini Wes 4 | Saenger te.\n",
      "\n",
      "svar /Sumame 4 aaa N40171514\n",
      "far \"ran a4 / Given Name(s) iy\n",
      "MOHAMED | YUSUF ABDUL WA\n",
      "\n",
      "wregiaen/ Nationality ===‘ / Se\n",
      "INDIAN\n",
      "\n",
      " \n",
      "\n",
      "   \n",
      "  \n",
      " \n",
      "   \n",
      "    \n",
      "\n",
      " \n",
      "\n",
      "wry eer / Place of Birth\n",
      "AHMEDABAD\n",
      "FS ee\n",
      "sot Ts\n",
      "y 2026\n",
      "\" _4 ¥en 15/03/2016 14/03/\n",
      "\n",
      "') <<<MOHAMED<YUSU F <ABDUL<WAHAB<SHAIKH<<<<\n",
      "5 1 <01ND6010106M26031 §OKK <<< KK KKKKKKKKO\n",
      "\n",
      "i. sie,\n",
      "\n"
     ]
    }
   ],
   "source": [
    "pytesseract.pytesseract.tesseract_cmd = r'C:\\Program Files\\Tesseract-OCR\\tesseract.exe'\n",
    "text = pytesseract.image_to_string(r'G:\\Velocity 16 APR\\06_11_Web_Scraping_OCR\\files\\NEW.jpg')\n",
    "print(text)"
   ]
  },
  {
   "cell_type": "code",
   "execution_count": 17,
   "id": "b35ae49e",
   "metadata": {},
   "outputs": [
    {
     "name": "stdout",
     "output_type": "stream",
     "text": [
      "_HIRaA WRiva REPUBLIC OF INDIA\n",
      "\n",
      "“ea/ Type ree ws /C Up Country y Code “arate 9. 7 Passport N No.\n",
      "\n",
      "—IND_§. =y2908283\n",
      "\n",
      " \n",
      "\n",
      "Saari / Surname\n",
      "\n",
      " \n",
      "\n",
      " \n",
      "\n",
      "fSai tar ara/Given Name(s)\n",
      "\n",
      "MOHAMMED MUDASEER |\n",
      "\n",
      " \n",
      "\n",
      " \n",
      "\n",
      " \n",
      "\n",
      "wegiaen/ Nationality. + +‘fia/Sex wrifeiti/Dateof Birth\n",
      "INDIAN M 04/04/1982 '\n",
      "urea tara / Place of Birth\n",
      "HYD E RABAD\n",
      "\n",
      " \n",
      "\n",
      "“ward area wor vera / Place of issue\n",
      "\n",
      "HYDERABAD\n",
      "\n",
      "\"99, Fees, = warfta at ff / Date of Expiry\n",
      "\n",
      "2: So 10/02/2009 09/02/2019\n",
      "\n",
      "P<IND<<MOHAMME D<MUDASEERK<<<<<<<<<<<<<<<<<<<<\n",
      "H2908283<51ND8204044M1902097<<<<<<<<<<<<<<<8\n",
      "\n",
      "“\n",
      "\n",
      " \n",
      "\n",
      " \n",
      "\n"
     ]
    }
   ],
   "source": [
    "pytesseract.pytesseract.tesseract_cmd = r'C:\\Program Files\\Tesseract-OCR\\tesseract.exe'\n",
    "text = pytesseract.image_to_string(r'G:\\Velocity 16 APR\\06_11_Web_Scraping_OCR\\files\\new1.jpg')\n",
    "print(text)"
   ]
  },
  {
   "cell_type": "code",
   "execution_count": 18,
   "id": "67ee81b4",
   "metadata": {},
   "outputs": [
    {
     "name": "stdout",
     "output_type": "stream",
     "text": [
      "_HIRaA WRiva REPUBLIC OF INDIA\n",
      "“ea/ Type ree ws /C Up Country y Code “arate 9. 7 Passport N No.\n",
      "—IND_§. =y2908283\n",
      "Saari / Surname\n",
      "fSai tar ara/Given Name(s)\n",
      "MOHAMMED MUDASEER |\n",
      "wegiaen/ Nationality. + +‘fia/Sex wrifeiti/Dateof Birth\n",
      "INDIAN M 04/04/1982 '\n",
      "urea tara / Place of Birth\n",
      "HYD E RABAD\n",
      "“ward area wor vera / Place of issue\n",
      "HYDERABAD\n",
      "\"99, Fees, = warfta at ff / Date of Expiry\n",
      "2: So 10/02/2009 09/02/2019\n",
      "P<IND<<MOHAMME D<MUDASEERK<<<<<<<<<<<<<<<<<<<<\n",
      "H2908283<51ND8204044M1902097<<<<<<<<<<<<<<<8\n",
      "“\n"
     ]
    }
   ],
   "source": [
    "text_list = text.split('\\n')    \n",
    "text = [line for line in text_list if re.sub('[^A-z0-9/.,]+', ' ', line.strip())]\n",
    "text = '\\n'.join(text)\n",
    "print(text)"
   ]
  },
  {
   "cell_type": "code",
   "execution_count": 21,
   "id": "1fdc3756",
   "metadata": {},
   "outputs": [
    {
     "name": "stdout",
     "output_type": "stream",
     "text": [
      "H2908283\n",
      "04/04/1982\n"
     ]
    }
   ],
   "source": [
    "def get_passport(text):\n",
    "        new_data = text.split()\n",
    "        \n",
    "        passport_number = re.search('[A-Z]{1}\\d{7}', text)\n",
    "        date_of_birth = re.search('\\d{2}[/]\\d{2}[/]\\d{4}',text)\n",
    "        print(passport_number.group())\n",
    "        print(date_of_birth.group())\n",
    "        \n",
    "get_passport(text)\n",
    "        \n",
    "        "
   ]
  },
  {
   "cell_type": "code",
   "execution_count": 25,
   "id": "f1d81495",
   "metadata": {},
   "outputs": [
    {
     "name": "stdout",
     "output_type": "stream",
     "text": [
      "_HIRaA WRiva REPUBLIC OF INDIA\n",
      "“ea/ Type ree ws /C Up Country y Code “arate 9. 7 Passport N No.\n",
      "—IND_§. =y2908283\n",
      "Saari / Surname\n",
      "fSai tar ara/Given Name(s)\n",
      "MOHAMMED MUDASEER |\n",
      "wegiaen/ Nationality. + +‘fia/Sex wrifeiti/Dateof Birth\n",
      "INDIAN M 04/04/1982 '\n",
      "urea tara / Place of Birth\n",
      "HYD E RABAD\n",
      "“ward area wor vera / Place of issue\n",
      "HYDERABAD\n",
      "\"99, Fees, = warfta at ff / Date of Expiry\n",
      "2: So 10/02/2009 09/02/2019\n",
      "P<IND<<MOHAMME D<MUDASEERK<<<<<<<<<<<<<<<<<<<<\n",
      "H2908283<51ND8204044M1902097<<<<<<<<<<<<<<<8\n",
      "“\n"
     ]
    }
   ],
   "source": [
    "print(text)"
   ]
  },
  {
   "cell_type": "code",
   "execution_count": 27,
   "id": "ce637937",
   "metadata": {},
   "outputs": [
    {
     "name": "stdout",
     "output_type": "stream",
     "text": [
      "0 _HIRaA WRiva REPUBLIC OF INDIA\n",
      "1 “ea/ Type ree ws /C Up Country y Code “arate 9. 7 Passport N No.\n",
      "2 —IND_§. =y2908283\n",
      "3 Saari / Surname\n",
      "4 fSai tar ara/Given Name(s)\n",
      "5 MOHAMMED MUDASEER |\n",
      "6 wegiaen/ Nationality. + +‘fia/Sex wrifeiti/Dateof Birth\n",
      "7 INDIAN M 04/04/1982 '\n",
      "8 urea tara / Place of Birth\n",
      "9 HYD E RABAD\n",
      "10 “ward area wor vera / Place of issue\n",
      "11 HYDERABAD\n",
      "12 \"99, Fees, = warfta at ff / Date of Expiry\n",
      "13 2: So 10/02/2009 09/02/2019\n",
      "14 P<IND<<MOHAMME D<MUDASEERK<<<<<<<<<<<<<<<<<<<<\n",
      "15 H2908283<51ND8204044M1902097<<<<<<<<<<<<<<<8\n",
      "16 “\n"
     ]
    }
   ],
   "source": [
    "a = text.split('\\n')\n",
    "for i,line in enumerate(a):\n",
    "    print(i,line)"
   ]
  },
  {
   "cell_type": "code",
   "execution_count": 38,
   "id": "ff655f75",
   "metadata": {},
   "outputs": [
    {
     "name": "stdout",
     "output_type": "stream",
     "text": [
      "{'Passport Number': ['H2908283'], 'Date of Birth': ['04/04/1982'], 'Current City': ['HYDERABAD'], 'Place of Birth': ['HYD E RABAD']}\n"
     ]
    }
   ],
   "source": [
    "def get_passport(text):\n",
    "    new_data = text.split('\\n')\n",
    "\n",
    "    passport_number = re.search('[A-Z]{1}\\d{7}', text)\n",
    "    date_of_birth = re.search('\\d{2}[/]\\d{2}[/]\\d{4}',text)\n",
    "\n",
    "    for i,line in enumerate(new_data):\n",
    "        if re.findall('<<<<<', line):\n",
    "            current_city = new_data[i-4]\n",
    "            birth_place = new_data[i-6]\n",
    "#                 print(birth_place)\n",
    "    passport_attributes = {'Passport Number': [passport_number.group()], 'Date of Birth': [date_of_birth.group()],\n",
    "                          'Current City': [current_city], 'Place of Birth': [birth_place]}\n",
    "    \n",
    "    return passport_attributes\n",
    "\n",
    "                \n",
    "\n",
    "passport_attributes = get_passport(text)\n",
    "print(passport_attributes)\n",
    "df = pd.DataFrame(passport_attributes)\n",
    "df.to_csv('Mohammad.csv')\n",
    "df.to_excel('Mohammad.xlsx')\n",
    "df.to_json('Mohammad.json')"
   ]
  },
  {
   "cell_type": "code",
   "execution_count": 39,
   "id": "f63e4ee1",
   "metadata": {},
   "outputs": [
    {
     "data": {
      "text/html": [
       "<div>\n",
       "<style scoped>\n",
       "    .dataframe tbody tr th:only-of-type {\n",
       "        vertical-align: middle;\n",
       "    }\n",
       "\n",
       "    .dataframe tbody tr th {\n",
       "        vertical-align: top;\n",
       "    }\n",
       "\n",
       "    .dataframe thead th {\n",
       "        text-align: right;\n",
       "    }\n",
       "</style>\n",
       "<table border=\"1\" class=\"dataframe\">\n",
       "  <thead>\n",
       "    <tr style=\"text-align: right;\">\n",
       "      <th></th>\n",
       "      <th>Passport Number</th>\n",
       "      <th>Date of Birth</th>\n",
       "      <th>Current City</th>\n",
       "      <th>Place of Birth</th>\n",
       "    </tr>\n",
       "  </thead>\n",
       "  <tbody>\n",
       "    <tr>\n",
       "      <th>0</th>\n",
       "      <td>H2908283</td>\n",
       "      <td>04/04/1982</td>\n",
       "      <td>HYDERABAD</td>\n",
       "      <td>HYD E RABAD</td>\n",
       "    </tr>\n",
       "  </tbody>\n",
       "</table>\n",
       "</div>"
      ],
      "text/plain": [
       "  Passport Number Date of Birth Current City Place of Birth\n",
       "0        H2908283    04/04/1982    HYDERABAD    HYD E RABAD"
      ]
     },
     "execution_count": 39,
     "metadata": {},
     "output_type": "execute_result"
    }
   ],
   "source": [
    "df"
   ]
  },
  {
   "cell_type": "code",
   "execution_count": 40,
   "id": "53fca9d5",
   "metadata": {},
   "outputs": [
    {
     "data": {
      "text/html": [
       "<div>\n",
       "<style scoped>\n",
       "    .dataframe tbody tr th:only-of-type {\n",
       "        vertical-align: middle;\n",
       "    }\n",
       "\n",
       "    .dataframe tbody tr th {\n",
       "        vertical-align: top;\n",
       "    }\n",
       "\n",
       "    .dataframe thead th {\n",
       "        text-align: right;\n",
       "    }\n",
       "</style>\n",
       "<table border=\"1\" class=\"dataframe\">\n",
       "  <thead>\n",
       "    <tr style=\"text-align: right;\">\n",
       "      <th></th>\n",
       "      <th>0</th>\n",
       "    </tr>\n",
       "  </thead>\n",
       "  <tbody>\n",
       "    <tr>\n",
       "      <th>Passport Number</th>\n",
       "      <td>H2908283</td>\n",
       "    </tr>\n",
       "    <tr>\n",
       "      <th>Date of Birth</th>\n",
       "      <td>04/04/1982</td>\n",
       "    </tr>\n",
       "    <tr>\n",
       "      <th>Current City</th>\n",
       "      <td>HYDERABAD</td>\n",
       "    </tr>\n",
       "    <tr>\n",
       "      <th>Place of Birth</th>\n",
       "      <td>HYD E RABAD</td>\n",
       "    </tr>\n",
       "  </tbody>\n",
       "</table>\n",
       "</div>"
      ],
      "text/plain": [
       "                           0\n",
       "Passport Number     H2908283\n",
       "Date of Birth     04/04/1982\n",
       "Current City       HYDERABAD\n",
       "Place of Birth   HYD E RABAD"
      ]
     },
     "execution_count": 40,
     "metadata": {},
     "output_type": "execute_result"
    }
   ],
   "source": [
    "df.T"
   ]
  },
  {
   "cell_type": "code",
   "execution_count": 41,
   "id": "b06e680d",
   "metadata": {},
   "outputs": [
    {
     "name": "stdout",
     "output_type": "stream",
     "text": [
      "\\cmaiteotection.thogspt.com\n",
      "@ ‘\n",
      "\n",
      "area SRG REPUBLIC OF INDIA\n",
      "\n",
      "Teak Pamper No\n",
      "\n",
      "F 7802033\n",
      "\n",
      "ace ies\n",
      "P\n",
      "Fares umane\n",
      "RAT\n",
      "“Ted ned sete Given Hames\n",
      "ATSHWARYA\n",
      "~eadiaee Mlavonslity ie es waited Date at Dem\n",
      "INDIAN Fo 04/11/1973 _\n",
      "“aon came Piece of tert =\n",
      "MANGALORE KARNATAKA\n",
      "“Sell weer wei cmon Pines al leas =.\n",
      "MUMBAI\n",
      "Ra ween A Te Tie et enue wat ali Bee Mane of Expiry\n",
      "\n",
      "“02/05/2006 01/05/2016\n",
      "\n",
      " \n",
      "\n",
      "=\n",
      "\n",
      "cs\n",
      "\n",
      "PINDRAI<<A I SHWARYAKKK << << KK KK KKK KKK KKK KKK KE\n",
      "F7802033<O1ND7311017F 160501 1<<<<<<<<ccccecdd\n",
      "\n",
      " \n",
      "\n"
     ]
    }
   ],
   "source": [
    "pytesseract.pytesseract.tesseract_cmd = r'C:\\Program Files\\Tesseract-OCR\\tesseract.exe'\n",
    "text = pytesseract.image_to_string(r'G:\\Velocity 16 APR\\06_11_Web_Scraping_OCR\\aishwarya passport.jpg')\n",
    "print(text)"
   ]
  },
  {
   "cell_type": "code",
   "execution_count": 42,
   "id": "1f6c2d5e",
   "metadata": {},
   "outputs": [
    {
     "name": "stdout",
     "output_type": "stream",
     "text": [
      "\\cmaiteotection.thogspt.com\n",
      "@ ‘\n",
      "area SRG REPUBLIC OF INDIA\n",
      "Teak Pamper No\n",
      "F 7802033\n",
      "ace ies\n",
      "P\n",
      "Fares umane\n",
      "RAT\n",
      "“Ted ned sete Given Hames\n",
      "ATSHWARYA\n",
      "~eadiaee Mlavonslity ie es waited Date at Dem\n",
      "INDIAN Fo 04/11/1973 _\n",
      "“aon came Piece of tert =\n",
      "MANGALORE KARNATAKA\n",
      "“Sell weer wei cmon Pines al leas =.\n",
      "MUMBAI\n",
      "Ra ween A Te Tie et enue wat ali Bee Mane of Expiry\n",
      "“02/05/2006 01/05/2016\n",
      "=\n",
      "cs\n",
      "PINDRAI<<A I SHWARYAKKK << << KK KK KKK KKK KKK KKK KE\n",
      "F7802033<O1ND7311017F 160501 1<<<<<<<<ccccecdd\n"
     ]
    }
   ],
   "source": [
    "text_list = text.split('\\n')    \n",
    "text = [line for line in text_list if re.sub('[^A-z0-9/.,]+', ' ', line.strip())]\n",
    "text = '\\n'.join(text)\n",
    "print(text)"
   ]
  },
  {
   "cell_type": "code",
   "execution_count": 45,
   "id": "9f4f6bc5",
   "metadata": {},
   "outputs": [
    {
     "name": "stdout",
     "output_type": "stream",
     "text": [
      "{'Passport Number': ['F7802033'], 'Date of Birth': ['04/11/1973'], 'Current City': ['MUMBAI'], 'Place of Birth': ['MANGALORE KARNATAKA']}\n"
     ]
    }
   ],
   "source": [
    "def get_passport(text):\n",
    "    new_data = text.split('\\n')\n",
    "\n",
    "    passport_number = re.search('[A-Z]{1}\\d{7}', text)\n",
    "    date_of_birth = re.search('\\d{2}[/]\\d{2}[/]\\d{4}',text)\n",
    "\n",
    "    for i,line in enumerate(new_data):\n",
    "        if re.findall('<<<<<', line):\n",
    "            current_city = new_data[i-6]\n",
    "            birth_place = new_data[i-8]\n",
    "#                 print(birth_place)\n",
    "    passport_attributes = {'Passport Number': [passport_number.group()], 'Date of Birth': [date_of_birth.group()],\n",
    "                          'Current City': [current_city], 'Place of Birth': [birth_place]}\n",
    "    \n",
    "    return passport_attributes\n",
    "\n",
    "                \n",
    "\n",
    "passport_attributes = get_passport(text)\n",
    "print(passport_attributes)\n",
    "\n",
    "\n",
    "\n",
    "\n",
    "\n",
    "\n",
    "df = pd.DataFrame(passport_attributes)\n",
    "df.to_csv('Aishwarya.csv')\n",
    "df.to_excel('Aishwarya.xlsx')\n",
    "df.to_json('Aishwarya.json')"
   ]
  },
  {
   "cell_type": "code",
   "execution_count": null,
   "id": "fd7f7571",
   "metadata": {},
   "outputs": [],
   "source": []
  },
  {
   "cell_type": "code",
   "execution_count": null,
   "id": "2330f8c2",
   "metadata": {},
   "outputs": [],
   "source": []
  },
  {
   "cell_type": "code",
   "execution_count": null,
   "id": "cca02d40",
   "metadata": {},
   "outputs": [],
   "source": []
  },
  {
   "cell_type": "code",
   "execution_count": null,
   "id": "3fa62fa7",
   "metadata": {},
   "outputs": [],
   "source": []
  },
  {
   "cell_type": "code",
   "execution_count": null,
   "id": "ca3b85dd",
   "metadata": {},
   "outputs": [],
   "source": []
  },
  {
   "cell_type": "code",
   "execution_count": null,
   "id": "18eb4918",
   "metadata": {},
   "outputs": [],
   "source": []
  },
  {
   "cell_type": "code",
   "execution_count": null,
   "id": "a59406d5",
   "metadata": {},
   "outputs": [],
   "source": []
  },
  {
   "cell_type": "code",
   "execution_count": null,
   "id": "45a1443b",
   "metadata": {},
   "outputs": [],
   "source": []
  },
  {
   "cell_type": "code",
   "execution_count": null,
   "id": "61d21bdf",
   "metadata": {},
   "outputs": [],
   "source": []
  },
  {
   "cell_type": "code",
   "execution_count": null,
   "id": "3e9b86f0",
   "metadata": {},
   "outputs": [],
   "source": []
  },
  {
   "cell_type": "code",
   "execution_count": null,
   "id": "c79c94ba",
   "metadata": {},
   "outputs": [],
   "source": []
  },
  {
   "cell_type": "code",
   "execution_count": null,
   "id": "fb594499",
   "metadata": {},
   "outputs": [],
   "source": []
  },
  {
   "cell_type": "code",
   "execution_count": null,
   "id": "c5000bb3",
   "metadata": {},
   "outputs": [],
   "source": []
  },
  {
   "cell_type": "code",
   "execution_count": null,
   "id": "478bc2f6",
   "metadata": {},
   "outputs": [],
   "source": []
  },
  {
   "cell_type": "code",
   "execution_count": null,
   "id": "3e6e907c",
   "metadata": {},
   "outputs": [],
   "source": []
  },
  {
   "cell_type": "code",
   "execution_count": null,
   "id": "bfb42230",
   "metadata": {},
   "outputs": [],
   "source": []
  },
  {
   "cell_type": "code",
   "execution_count": null,
   "id": "90121d27",
   "metadata": {},
   "outputs": [],
   "source": []
  },
  {
   "cell_type": "code",
   "execution_count": null,
   "id": "50317f0a",
   "metadata": {},
   "outputs": [],
   "source": []
  },
  {
   "cell_type": "code",
   "execution_count": null,
   "id": "e571e847",
   "metadata": {},
   "outputs": [],
   "source": []
  },
  {
   "cell_type": "code",
   "execution_count": null,
   "id": "0045eb23",
   "metadata": {},
   "outputs": [],
   "source": []
  },
  {
   "cell_type": "code",
   "execution_count": null,
   "id": "f54910ef",
   "metadata": {},
   "outputs": [],
   "source": []
  },
  {
   "cell_type": "code",
   "execution_count": null,
   "id": "04afc4b6",
   "metadata": {},
   "outputs": [],
   "source": []
  },
  {
   "cell_type": "code",
   "execution_count": null,
   "id": "d217a721",
   "metadata": {},
   "outputs": [],
   "source": []
  },
  {
   "cell_type": "code",
   "execution_count": null,
   "id": "9a86c7ef",
   "metadata": {},
   "outputs": [],
   "source": []
  },
  {
   "cell_type": "code",
   "execution_count": null,
   "id": "8df8ed5e",
   "metadata": {},
   "outputs": [],
   "source": []
  },
  {
   "cell_type": "code",
   "execution_count": null,
   "id": "c1b5c0aa",
   "metadata": {},
   "outputs": [],
   "source": []
  },
  {
   "cell_type": "code",
   "execution_count": null,
   "id": "7988a536",
   "metadata": {},
   "outputs": [],
   "source": []
  },
  {
   "cell_type": "code",
   "execution_count": null,
   "id": "35261ced",
   "metadata": {},
   "outputs": [],
   "source": []
  },
  {
   "cell_type": "code",
   "execution_count": null,
   "id": "62b48d42",
   "metadata": {},
   "outputs": [],
   "source": []
  },
  {
   "cell_type": "code",
   "execution_count": null,
   "id": "fbe0304e",
   "metadata": {},
   "outputs": [],
   "source": []
  },
  {
   "cell_type": "code",
   "execution_count": null,
   "id": "02352460",
   "metadata": {},
   "outputs": [],
   "source": []
  },
  {
   "cell_type": "code",
   "execution_count": null,
   "id": "565c6451",
   "metadata": {},
   "outputs": [],
   "source": []
  },
  {
   "cell_type": "code",
   "execution_count": null,
   "id": "14d8ab28",
   "metadata": {},
   "outputs": [],
   "source": []
  },
  {
   "cell_type": "code",
   "execution_count": null,
   "id": "12a0bafc",
   "metadata": {},
   "outputs": [],
   "source": []
  },
  {
   "cell_type": "code",
   "execution_count": null,
   "id": "c1397eac",
   "metadata": {},
   "outputs": [],
   "source": []
  },
  {
   "cell_type": "code",
   "execution_count": null,
   "id": "38660b15",
   "metadata": {},
   "outputs": [],
   "source": []
  },
  {
   "cell_type": "code",
   "execution_count": null,
   "id": "3f4efe70",
   "metadata": {},
   "outputs": [],
   "source": []
  },
  {
   "cell_type": "code",
   "execution_count": null,
   "id": "2dde4b61",
   "metadata": {},
   "outputs": [],
   "source": []
  },
  {
   "cell_type": "code",
   "execution_count": null,
   "id": "9a250e1f",
   "metadata": {},
   "outputs": [],
   "source": []
  },
  {
   "cell_type": "code",
   "execution_count": null,
   "id": "2a9154b4",
   "metadata": {},
   "outputs": [],
   "source": []
  },
  {
   "cell_type": "code",
   "execution_count": null,
   "id": "ec552faf",
   "metadata": {},
   "outputs": [],
   "source": []
  },
  {
   "cell_type": "code",
   "execution_count": null,
   "id": "f28ba563",
   "metadata": {},
   "outputs": [],
   "source": []
  },
  {
   "cell_type": "code",
   "execution_count": null,
   "id": "f5a2f9fb",
   "metadata": {},
   "outputs": [],
   "source": []
  },
  {
   "cell_type": "code",
   "execution_count": null,
   "id": "a8eba6fe",
   "metadata": {},
   "outputs": [],
   "source": []
  },
  {
   "cell_type": "code",
   "execution_count": null,
   "id": "2df4a395",
   "metadata": {},
   "outputs": [],
   "source": []
  },
  {
   "cell_type": "code",
   "execution_count": null,
   "id": "13671405",
   "metadata": {},
   "outputs": [],
   "source": []
  },
  {
   "cell_type": "code",
   "execution_count": null,
   "id": "a24d72d4",
   "metadata": {},
   "outputs": [],
   "source": []
  },
  {
   "cell_type": "code",
   "execution_count": null,
   "id": "21716372",
   "metadata": {},
   "outputs": [],
   "source": []
  },
  {
   "cell_type": "code",
   "execution_count": null,
   "id": "e1c180e2",
   "metadata": {},
   "outputs": [],
   "source": []
  },
  {
   "cell_type": "code",
   "execution_count": null,
   "id": "7bf00d12",
   "metadata": {},
   "outputs": [],
   "source": []
  },
  {
   "cell_type": "code",
   "execution_count": null,
   "id": "0ce802e6",
   "metadata": {},
   "outputs": [],
   "source": []
  },
  {
   "cell_type": "code",
   "execution_count": null,
   "id": "8ec274b9",
   "metadata": {},
   "outputs": [],
   "source": []
  },
  {
   "cell_type": "code",
   "execution_count": null,
   "id": "341a9020",
   "metadata": {},
   "outputs": [],
   "source": []
  },
  {
   "cell_type": "code",
   "execution_count": null,
   "id": "f3d90452",
   "metadata": {},
   "outputs": [],
   "source": []
  },
  {
   "cell_type": "code",
   "execution_count": null,
   "id": "72cd0d8c",
   "metadata": {},
   "outputs": [],
   "source": []
  },
  {
   "cell_type": "code",
   "execution_count": null,
   "id": "d3cbc2a5",
   "metadata": {},
   "outputs": [],
   "source": []
  },
  {
   "cell_type": "code",
   "execution_count": null,
   "id": "1a18ad0f",
   "metadata": {},
   "outputs": [],
   "source": []
  },
  {
   "cell_type": "code",
   "execution_count": null,
   "id": "27a98f50",
   "metadata": {},
   "outputs": [],
   "source": []
  },
  {
   "cell_type": "code",
   "execution_count": null,
   "id": "667f304b",
   "metadata": {},
   "outputs": [],
   "source": []
  },
  {
   "cell_type": "code",
   "execution_count": null,
   "id": "87c9ea99",
   "metadata": {},
   "outputs": [],
   "source": []
  },
  {
   "cell_type": "code",
   "execution_count": null,
   "id": "8b4c53cb",
   "metadata": {},
   "outputs": [],
   "source": []
  },
  {
   "cell_type": "code",
   "execution_count": null,
   "id": "f810e2f9",
   "metadata": {},
   "outputs": [],
   "source": []
  },
  {
   "cell_type": "code",
   "execution_count": null,
   "id": "9b7d5d48",
   "metadata": {},
   "outputs": [],
   "source": []
  },
  {
   "cell_type": "code",
   "execution_count": null,
   "id": "d35a6d3a",
   "metadata": {},
   "outputs": [],
   "source": []
  },
  {
   "cell_type": "code",
   "execution_count": null,
   "id": "63334b56",
   "metadata": {},
   "outputs": [],
   "source": []
  },
  {
   "cell_type": "code",
   "execution_count": null,
   "id": "05440f00",
   "metadata": {},
   "outputs": [],
   "source": []
  },
  {
   "cell_type": "code",
   "execution_count": null,
   "id": "3fe4675f",
   "metadata": {},
   "outputs": [],
   "source": []
  },
  {
   "cell_type": "code",
   "execution_count": null,
   "id": "eab68451",
   "metadata": {},
   "outputs": [],
   "source": []
  },
  {
   "cell_type": "code",
   "execution_count": null,
   "id": "407be74f",
   "metadata": {},
   "outputs": [],
   "source": []
  },
  {
   "cell_type": "code",
   "execution_count": null,
   "id": "ba4e2069",
   "metadata": {},
   "outputs": [],
   "source": []
  },
  {
   "cell_type": "code",
   "execution_count": null,
   "id": "f378cbfa",
   "metadata": {},
   "outputs": [],
   "source": []
  },
  {
   "cell_type": "code",
   "execution_count": null,
   "id": "05a9bb07",
   "metadata": {},
   "outputs": [],
   "source": [
    "text = '''Data science is an interdisciplinary field that uses scientific methods,\n",
    "processes, algorithms and systems to extract knowledge and insights from noisy,\n",
    "structured and unstructured data, and apply knowledge from data across a broad range of application domains.'''"
   ]
  }
 ],
 "metadata": {
  "kernelspec": {
   "display_name": "Python 3",
   "language": "python",
   "name": "python3"
  },
  "language_info": {
   "codemirror_mode": {
    "name": "ipython",
    "version": 3
   },
   "file_extension": ".py",
   "mimetype": "text/x-python",
   "name": "python",
   "nbconvert_exporter": "python",
   "pygments_lexer": "ipython3",
   "version": "3.8.8"
  }
 },
 "nbformat": 4,
 "nbformat_minor": 5
}
