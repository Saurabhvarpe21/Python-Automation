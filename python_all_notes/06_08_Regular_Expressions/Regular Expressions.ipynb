{
 "cells": [
  {
   "cell_type": "markdown",
   "id": "7245e852",
   "metadata": {},
   "source": [
    "# Regular Expressions"
   ]
  },
  {
   "cell_type": "code",
   "execution_count": null,
   "id": "b2c386d8",
   "metadata": {},
   "outputs": [],
   "source": [
    "Regular Expressions :\n",
    "    It is the sequence of character used to check whether pattern is in given text/string"
   ]
  },
  {
   "cell_type": "code",
   "execution_count": null,
   "id": "4fac66eb",
   "metadata": {},
   "outputs": [],
   "source": [
    "email id\n",
    "Mobile Number\n",
    "PAN Card\n",
    "Adhar Card\n",
    "DL \n",
    "IFSC\n",
    "MICR\n",
    "Voter ID\n",
    "Passport"
   ]
  },
  {
   "cell_type": "code",
   "execution_count": null,
   "id": "4dd49759",
   "metadata": {},
   "outputs": [],
   "source": [
    "regex  >> Regular Expressions\n",
    "\n",
    "import re"
   ]
  },
  {
   "cell_type": "code",
   "execution_count": null,
   "id": "e42528ed",
   "metadata": {},
   "outputs": [],
   "source": [
    "Natural Language Processing (NLP)\n",
    "Text Processing \n",
    "Web Scraping - Data Cleansing\n",
    "OCR - Optical Character Recognition:\n",
    "    to convert image into string\n",
    "    \n",
    "Google Vision : Internet availibility needed\n",
    "Amazon Textract : Internet availibility needed\n",
    "Pytesseract : Image processing\n",
    "    Noise\n",
    "    Skew Correction"
   ]
  },
  {
   "cell_type": "code",
   "execution_count": null,
   "id": "f4bccb73",
   "metadata": {},
   "outputs": [],
   "source": [
    "Structured Data >> Excel , CSV\n",
    "Unstructured Data >> Images, Texts, Audios, Videos\n",
    "Semistructured Data >> JSON, HTML"
   ]
  },
  {
   "cell_type": "code",
   "execution_count": null,
   "id": "20f404f5",
   "metadata": {},
   "outputs": [],
   "source": [
    "What are you looking for???\n",
    ">> sequence of characters that forms search patterns"
   ]
  },
  {
   "cell_type": "markdown",
   "id": "42d1be8a",
   "metadata": {},
   "source": [
    "## Regular Expressions Functions"
   ]
  },
  {
   "cell_type": "code",
   "execution_count": 3,
   "id": "725431d4",
   "metadata": {},
   "outputs": [],
   "source": [
    "import re\n",
    "1. re.findall()\n",
    "2. re.sub()\n",
    "3. re.match()\n",
    "4. re.search()\n",
    "5. re.compile()"
   ]
  },
  {
   "cell_type": "markdown",
   "id": "2976198c",
   "metadata": {},
   "source": [
    "## 1. findall()"
   ]
  },
  {
   "cell_type": "code",
   "execution_count": null,
   "id": "dd2cc0e2",
   "metadata": {},
   "outputs": [],
   "source": [
    "Return a list of matches in string\n",
    "re.findall(pattern, text)"
   ]
  },
  {
   "cell_type": "code",
   "execution_count": 6,
   "id": "622bdcb9",
   "metadata": {},
   "outputs": [
    {
     "name": "stdout",
     "output_type": "stream",
     "text": [
      "['9988774455', '7788994455']\n"
     ]
    }
   ],
   "source": [
    "import re\n",
    "\n",
    "text = '''My Mobile number is : 9988774455,\n",
    "        email id is : akshaykumar@gmail.com\n",
    "        todays date is : 08-06-2022\n",
    "        \n",
    "        Mobile Number is : 7788994455'''\n",
    "\n",
    "# 10 digits\n",
    "mobile_number = re.findall('[0-9]{10}',text)\n",
    "print(mobile_number)"
   ]
  },
  {
   "cell_type": "code",
   "execution_count": 7,
   "id": "52b15d6f",
   "metadata": {},
   "outputs": [
    {
     "name": "stdout",
     "output_type": "stream",
     "text": [
      "['99887', '74455', '77889', '94455']\n"
     ]
    }
   ],
   "source": [
    "import re\n",
    "\n",
    "text = '''My Mobile number is : 9988774455,\n",
    "        email id is : akshaykumar@gmail.com\n",
    "        todays date is : 08-06-2022\n",
    "        \n",
    "        Mobile Number is : 7788994455'''\n",
    "\n",
    "\n",
    "mobile_number = re.findall('[0-9]{5}',text)\n",
    "print(mobile_number)"
   ]
  },
  {
   "cell_type": "code",
   "execution_count": 8,
   "id": "16e6d0cd",
   "metadata": {},
   "outputs": [
    {
     "name": "stdout",
     "output_type": "stream",
     "text": [
      "['99', '88', '77', '44', '55', '08', '06', '20', '22', '77', '88', '99', '44', '55']\n"
     ]
    }
   ],
   "source": [
    "import re\n",
    "\n",
    "text = '''My Mobile number is : 9988774455,\n",
    "        email id is : akshaykumar@gmail.com\n",
    "        todays date is : 08-06-2022\n",
    "        \n",
    "        Mobile Number is : 7788994455'''\n",
    "\n",
    "\n",
    "mobile_number = re.findall('[0-9]{2}',text)\n",
    "print(mobile_number)"
   ]
  },
  {
   "cell_type": "code",
   "execution_count": 20,
   "id": "e2fe15ac",
   "metadata": {},
   "outputs": [
    {
     "name": "stdout",
     "output_type": "stream",
     "text": [
      "['08-06-2022', '07-06-2022', '06-06-2022', '09-06-2022'] 4\n"
     ]
    }
   ],
   "source": [
    "import re\n",
    "\n",
    "text = '''My Mobile number is : 9988774455,\n",
    "        email id is : akshaykumar@gmail.com\n",
    "        todays date is : 08-06-2022\n",
    "        \n",
    "        Mobile Number is : 7788994455\n",
    "        07-06-2022\n",
    "        06-06-2022\n",
    "        09-06-2022'''\n",
    "\n",
    "\n",
    "date = re.findall('[0-9]{2}[-][0-9]{2}[-][0-9]{4}',text)\n",
    "print(date,len(date))"
   ]
  },
  {
   "cell_type": "code",
   "execution_count": 21,
   "id": "79010647",
   "metadata": {},
   "outputs": [
    {
     "name": "stdout",
     "output_type": "stream",
     "text": [
      "['08-06-2022', '07-06-2022', '06-06-2022', '09-06-2022'] 4\n"
     ]
    }
   ],
   "source": [
    "import re\n",
    "\n",
    "text = '''My Mobile number is : 9988774455,\n",
    "        email id is : akshaykumar@gmail.com\n",
    "        todays date is : 08-06-2022\n",
    "        \n",
    "        Mobile Number is : 7788994455\n",
    "        07-06-2022\n",
    "        06-06-2022\n",
    "        09-06-2022\n",
    "        10/06/2022'''\n",
    "\n",
    "\n",
    "date = re.findall('[0-9]{2}[-][0-9]{2}[-][0-9]{4}',text)\n",
    "print(date,len(date))"
   ]
  },
  {
   "cell_type": "code",
   "execution_count": 25,
   "id": "75e37a9b",
   "metadata": {},
   "outputs": [
    {
     "name": "stdout",
     "output_type": "stream",
     "text": [
      "['08-06-2022', '07-06-2022', '06-06-2022', '09-06-2022', '10/06/2022'] 5\n"
     ]
    }
   ],
   "source": [
    "import re\n",
    "\n",
    "text = '''My Mobile number is : 9988774455,\n",
    "        email id is : akshaykumar@gmail.com\n",
    "        todays date is : 08-06-2022\n",
    "        \n",
    "        Mobile Number is : 7788994455\n",
    "        07-06-2022\n",
    "        06-06-2022\n",
    "        09-06-2022\n",
    "        10/06/2022'''\n",
    "\n",
    "\n",
    "date = re.findall('[0-9]{2}[/-][0-9]{2}[-/][0-9]{4}',text)\n",
    "print(date,len(date))"
   ]
  },
  {
   "cell_type": "code",
   "execution_count": 33,
   "id": "922ae8f0",
   "metadata": {},
   "outputs": [
    {
     "name": "stdout",
     "output_type": "stream",
     "text": [
      "['RTFDS1234J', 'TFGHU7485P']\n"
     ]
    }
   ],
   "source": [
    "import re\n",
    "\n",
    "text = '''My Mobile number is : 9988774455,\n",
    "        email id is : akshaykumar@gmail.com\n",
    "        todays date is : 08-06-2022\n",
    "        \n",
    "        Mobile Number is : 7788994455\n",
    "        07-06-2022\n",
    "        06-06-2022\n",
    "        09-06-2022\n",
    "        10/06/2022\n",
    "        PAN CARD NUMBER : RTFDS1234J\n",
    "        PAN CARD NUMBER : TFGHU7485P\n",
    "        PAN CARD NUMBER : IHUYZ11220\n",
    "        '''\n",
    "\n",
    "\n",
    "pan_number = re.findall('[A-Z]{5}[0-9]{4}[A-Z]',text)\n",
    "print(pan_number)"
   ]
  },
  {
   "cell_type": "code",
   "execution_count": 39,
   "id": "f8a85733",
   "metadata": {},
   "outputs": [
    {
     "name": "stdout",
     "output_type": "stream",
     "text": [
      "['akshaykumar@gmail']\n"
     ]
    }
   ],
   "source": [
    "import re\n",
    "\n",
    "text = '''My Mobile number is : 9988774455,\n",
    "        email id is : akshaykumar@gmail.com\n",
    "        todays date is : 08-06-2022\n",
    "        \n",
    "        Mobile Number is : 7788994455\n",
    "        07-06-2022\n",
    "        06-06-2022\n",
    "        09-06-2022\n",
    "        10/06/2022\n",
    "        PAN CARD NUMBER : RTFDS1234J\n",
    "        PAN CARD NUMBER : TFGHU7485P\n",
    "        PAN CARD NUMBER : IHUYZ11220\n",
    "        '''\n",
    "\n",
    "\n",
    "email_id = re.findall('[a-z]{1,20}@[a-z]{3,15}',text)\n",
    "print(email_id)"
   ]
  },
  {
   "cell_type": "code",
   "execution_count": 40,
   "id": "032e5fbe",
   "metadata": {},
   "outputs": [
    {
     "name": "stdout",
     "output_type": "stream",
     "text": [
      "['akshaykumar@gmail.com']\n"
     ]
    }
   ],
   "source": [
    "import re\n",
    "\n",
    "text = '''My Mobile number is : 9988774455,\n",
    "        email id is : akshaykumar@gmail.com\n",
    "        todays date is : 08-06-2022\n",
    "        \n",
    "        Mobile Number is : 7788994455\n",
    "        07-06-2022\n",
    "        06-06-2022\n",
    "        09-06-2022\n",
    "        10/06/2022\n",
    "        PAN CARD NUMBER : RTFDS1234J\n",
    "        PAN CARD NUMBER : TFGHU7485P\n",
    "        PAN CARD NUMBER : IHUYZ11220\n",
    "        '''\n",
    "\n",
    "\n",
    "email_id = re.findall('[a-z]{1,20}@[a-z.]{3,15}',text)\n",
    "print(email_id)"
   ]
  },
  {
   "cell_type": "code",
   "execution_count": 42,
   "id": "4e1c4647",
   "metadata": {},
   "outputs": [
    {
     "name": "stdout",
     "output_type": "stream",
     "text": [
      "['akshaykumar@gmail.com']\n"
     ]
    }
   ],
   "source": [
    "import re\n",
    "\n",
    "text = '''My Mobile number is : 9988774455,\n",
    "        email id is : akshaykumar@gmail.com\n",
    "        todays date is : 08-06-2022\n",
    "        \n",
    "        Mobile Number is : 7788994455\n",
    "        07-06-2022\n",
    "        06-06-2022\n",
    "        09-06-2022\n",
    "        10/06/2022\n",
    "        PAN CARD NUMBER : RTFDS1234J\n",
    "        PAN CARD NUMBER : TFGHU7485P\n",
    "        PAN CARD NUMBER : IHUYZ11220\n",
    "        '''\n",
    "\n",
    "\n",
    "email_id = re.findall('[a-z]{1,20}@[a-z]{3,10}.[a-z]{3}',text)\n",
    "print(email_id)"
   ]
  },
  {
   "cell_type": "code",
   "execution_count": 45,
   "id": "deef611b",
   "metadata": {},
   "outputs": [
    {
     "name": "stdout",
     "output_type": "stream",
     "text": [
      "['akshaykumar@gmail.com', 'ajaydevgan@outlook.com']\n"
     ]
    }
   ],
   "source": [
    "import re\n",
    "\n",
    "text = '''My Mobile number is : 9988774455,\n",
    "        email id is : akshaykumar@gmail.com\n",
    "        todays date is : 08-06-2022\n",
    "        \n",
    "        Mobile Number is : 7788994455\n",
    "        07-06-2022\n",
    "        06-06-2022\n",
    "        09-06-2022\n",
    "        10/06/2022\n",
    "        \n",
    "        ajaydevgan@outlook.com\n",
    "        \n",
    "        PAN CARD NUMBER : RTFDS1234J\n",
    "        PAN CARD NUMBER : TFGHU7485P\n",
    "        PAN CARD NUMBER : IHUYZ11220\n",
    "        '''\n",
    "\n",
    "\n",
    "email_id = re.findall('[a-z]{1,20}@[a-z]{5,10}.[a-z]{3}',text)\n",
    "print(email_id)"
   ]
  },
  {
   "cell_type": "code",
   "execution_count": 48,
   "id": "bf9aad27",
   "metadata": {},
   "outputs": [
    {
     "name": "stdout",
     "output_type": "stream",
     "text": [
      "['akshaykumar@gmail.com', 'viratkohli123@gmail.com', 'ajaydevgan@outlook.com']\n"
     ]
    }
   ],
   "source": [
    "import re\n",
    "\n",
    "text = '''My Mobile number is : 9988774455,\n",
    "        email id is : akshaykumar@gmail.com\n",
    "        todays date is : 08-06-2022\n",
    "        \n",
    "        viratkohli123@gmail.com\n",
    "        Mobile Number is : 7788994455\n",
    "        07-06-2022\n",
    "        06-06-2022\n",
    "        09-06-2022\n",
    "        10/06/2022\n",
    "        \n",
    "        ajaydevgan@outlook.com\n",
    "        \n",
    "        PAN CARD NUMBER : RTFDS1234J\n",
    "        PAN CARD NUMBER : TFGHU7485P\n",
    "        PAN CARD NUMBER : IHUYZ11220\n",
    "        '''\n",
    "\n",
    "\n",
    "email_id = re.findall('[a-z0-9]{1,20}@[a-z]{5,10}.[a-z]{3}',text)\n",
    "print(email_id)"
   ]
  },
  {
   "cell_type": "code",
   "execution_count": 52,
   "id": "ad16ee33",
   "metadata": {},
   "outputs": [
    {
     "data": {
      "text/plain": [
       "['1245', '1212', '457', '1177', '7']"
      ]
     },
     "execution_count": 52,
     "metadata": {},
     "output_type": "execute_result"
    }
   ],
   "source": [
    "text = '1245  1212  4578 1177  9887'\n",
    "\n",
    "re.findall('[1-7]{1,4}', text)"
   ]
  },
  {
   "cell_type": "code",
   "execution_count": 54,
   "id": "d14421b8",
   "metadata": {},
   "outputs": [
    {
     "data": {
      "text/plain": [
       "['1', '1', '1', '78', '1177', '9887']"
      ]
     },
     "execution_count": 54,
     "metadata": {},
     "output_type": "execute_result"
    }
   ],
   "source": [
    "text = '1245  1212  4578 1177  9887'\n",
    "\n",
    "re.findall('[1798]{1,4}', text)"
   ]
  },
  {
   "cell_type": "code",
   "execution_count": 56,
   "id": "ad0ae1f2",
   "metadata": {},
   "outputs": [
    {
     "name": "stdout",
     "output_type": "stream",
     "text": [
      "['akshaykumar@gmail.com', 'viratkohli123@gmail.com', 'preeti-zinta@hotmail.com', 'ajaydevgan@outlook.com']\n"
     ]
    }
   ],
   "source": [
    "import re\n",
    "\n",
    "text = '''My Mobile number is : 9988774455,\n",
    "        email id is : akshaykumar@gmail.com\n",
    "        todays date is : 08-06-2022\n",
    "        \n",
    "        viratkohli123@gmail.com\n",
    "        Mobile Number is : 7788994455\n",
    "        07-06-2022\n",
    "        06-06-2022\n",
    "        09-06-2022\n",
    "        10/06/2022\n",
    "        preeti-zinta@hotmail.com\n",
    "        ajaydevgan@outlook.com\n",
    "        \n",
    "        PAN CARD NUMBER : RTFDS1234J\n",
    "        PAN CARD NUMBER : TFGHU7485P\n",
    "        PAN CARD NUMBER : IHUYZ11220\n",
    "        '''\n",
    "\n",
    "\n",
    "email_id = re.findall('[a-z0-9-]{1,20}@[a-z]{5,10}.[a-z]{3}',text)\n",
    "print(email_id)"
   ]
  },
  {
   "cell_type": "code",
   "execution_count": 57,
   "id": "9537a085",
   "metadata": {},
   "outputs": [
    {
     "name": "stdout",
     "output_type": "stream",
     "text": [
      "['akshaykumar@gmail.com', 'viratkohli123@gmail.com', 'preeti-zinta@hotmail.com', 'ajaydevgan@outlook.com']\n"
     ]
    }
   ],
   "source": [
    "import re\n",
    "\n",
    "text = '''My Mobile number is : 9988774455,\n",
    "        email id is : akshaykumar@gmail.com\n",
    "        todays date is : 08-06-2022\n",
    "        \n",
    "        viratkohli123@gmail.com\n",
    "        Mobile Number is : 7788994455\n",
    "        07-06-2022\n",
    "        06-06-2022\n",
    "        09-06-2022\n",
    "        10/06/2022\n",
    "        preeti-zinta@hotmail.com\n",
    "        ajaydevgan@outlook.com\n",
    "        \n",
    "        PAN CARD NUMBER : RTFDS1234J\n",
    "        PAN CARD NUMBER : TFGHU7485P\n",
    "        PAN CARD NUMBER : IHUYZ11220\n",
    "        '''\n",
    "\n",
    "\n",
    "email_id = re.findall('[a-z0-9-!@#$%]{1,20}@[a-z]{5,10}.[a-z]{3}',text)\n",
    "print(email_id)"
   ]
  },
  {
   "cell_type": "code",
   "execution_count": 66,
   "id": "0027fdfd",
   "metadata": {},
   "outputs": [
    {
     "name": "stdout",
     "output_type": "stream",
     "text": [
      "['virat', 'virat', 'viraa', 'aaaaa', 'ivivi', 'tvtvt', 'virat', 'virat']\n"
     ]
    }
   ],
   "source": [
    "import re\n",
    "\n",
    "text = '''My Mobile number is : 9988774455,\n",
    "        email id is : viratkohli@gmail.com\n",
    "        todays date is : 08-06-2022\n",
    "        \n",
    "        viratkohli123@gmail.com\n",
    "        Mobile Number is : 7788994455\n",
    "        07-06-2022\n",
    "        06-06-2022\n",
    "        09-06-2022\n",
    "        10/06/2022\n",
    "        viraa\n",
    "        aaaaa\n",
    "        ivivi\n",
    "        tvtvt\n",
    "        virat-Kohli@hotmail.com\n",
    "        virat_kohli@outlook.com\n",
    "        \n",
    "        PAN CARD NUMBER : RTFDS1234J\n",
    "        PAN CARD NUMBER : TFGHU7485P\n",
    "        PAN CARD NUMBER : IHUYZ11220\n",
    "        '''\n",
    "\n",
    "\n",
    "email_id = re.findall('[virat]{5}',text)\n",
    "print(email_id)"
   ]
  },
  {
   "cell_type": "code",
   "execution_count": 65,
   "id": "ea969779",
   "metadata": {},
   "outputs": [
    {
     "name": "stdout",
     "output_type": "stream",
     "text": [
      "['virat', 'virat', 'virat', 'virat']\n"
     ]
    }
   ],
   "source": [
    "import re\n",
    "\n",
    "text = '''My Mobile number is : 9988774455,\n",
    "        email id is : viratkohli@gmail.com\n",
    "        todays date is : 08-06-2022\n",
    "        \n",
    "        viratkohli123@gmail.com\n",
    "        Mobile Number is : 7788994455\n",
    "        07-06-2022\n",
    "        06-06-2022\n",
    "        09-06-2022\n",
    "        10/06/2022\n",
    "        viraa\n",
    "        virat-Kohli@hotmail.com\n",
    "        virat_kohli@outlook.com\n",
    "        \n",
    "        PAN CARD NUMBER : RTFDS1234J\n",
    "        PAN CARD NUMBER : TFGHU7485P\n",
    "        PAN CARD NUMBER : IHUYZ11220\n",
    "        '''\n",
    "\n",
    "\n",
    "email_id = re.findall('virat',text)\n",
    "print(email_id)"
   ]
  },
  {
   "cell_type": "code",
   "execution_count": null,
   "id": "3a1a5584",
   "metadata": {},
   "outputs": [],
   "source": [
    "emails = '''Viratkohli@gmail.com ,\n",
    "Amir12khan@gmail.com , Ritesh_Deshmukh@yahoomail.com , \n",
    "Shreyas-Talpade@hotmail.co.in , Genelia.deshmukh@outlook.com'''"
   ]
  },
  {
   "cell_type": "code",
   "execution_count": 70,
   "id": "af4eb440",
   "metadata": {},
   "outputs": [
    {
     "name": "stdout",
     "output_type": "stream",
     "text": [
      "['Viratkohli@gmail.com', 'Amir12khan@gmail.com', 'Ritesh_Deshmukh@yahoomail.com', 'Shreyas-Talpade@hotmail.co.in', 'Genelia.deshmukh@outlook.com']\n"
     ]
    }
   ],
   "source": [
    "import re\n",
    "emails = '''Viratkohli@gmail.com ,\n",
    "Amir12khan@gmail.com , Ritesh_Deshmukh@yahoomail.com , \n",
    "Shreyas-Talpade@hotmail.co.in , Genelia.deshmukh@outlook.com'''\n",
    "email=re.findall('[A-z0-9-_.]{1,20}@[a-z]{3,15}.[a-z.]{1,8}',emails)\n",
    "print(email)"
   ]
  },
  {
   "cell_type": "code",
   "execution_count": 78,
   "id": "bf2cedcd",
   "metadata": {},
   "outputs": [
    {
     "data": {
      "text/plain": [
       "['Viratkohli@gmail',\n",
       " 'Amir12khan@gmail',\n",
       " 'Ritesh_Deshmukh@yaho',\n",
       " 'Shreyas-Talpade@hotm',\n",
       " 'deshmukh@outlook']"
      ]
     },
     "execution_count": 78,
     "metadata": {},
     "output_type": "execute_result"
    }
   ],
   "source": [
    "email_id=re.findall('[A-z0-9-_@]{10,20}',emails)\n",
    "email_id"
   ]
  },
  {
   "cell_type": "code",
   "execution_count": 86,
   "id": "95c1376c",
   "metadata": {},
   "outputs": [
    {
     "data": {
      "text/plain": [
       "(['DTIOP4569B'], ['8795541235'], ['12/12/1999'], ['rahulpatil@gmail.com'])"
      ]
     },
     "execution_count": 86,
     "metadata": {},
     "output_type": "execute_result"
    }
   ],
   "source": [
    "data = '''Name : Rahul Vijay Patil\n",
    "          PAN Number : DTIOP4569B \n",
    "          Mobile Number : 8795541235\n",
    "          DOB : 12/12/1999\n",
    "          Email ID : rahulpatil@gmail.com'''\n",
    "\n",
    "def get_details(data):\n",
    "    \n",
    "    PAN_number = re.findall('[A-Z]{5}[0-9]{4}[A-Z]',data)\n",
    "    mobile_number = re.findall('[0-9]{10}', data)\n",
    "    DOB = re.findall('[0-9]{2}[-/ ][0-9]{2}[-/ ][0-9]{4}',data)\n",
    "    email_id = re.findall('[A-z0-9.-_]{2,20}@[a-z.]{4,20}',data)\n",
    "    \n",
    "    return PAN_number, mobile_number, DOB, email_id\n",
    "\n",
    "get_details(data)"
   ]
  },
  {
   "cell_type": "code",
   "execution_count": 88,
   "id": "07d47ca1",
   "metadata": {},
   "outputs": [
    {
     "name": "stdout",
     "output_type": "stream",
     "text": [
      "PAN Number is : ['DTIOP4569B']\n",
      "Mobile Number is : ['8795541235']\n",
      "Date of Birth is : ['12/12/1999']\n",
      "Email ID is : ['rahulpatil@gmail.com']\n",
      "Adhar Number is : ['9874 4561 7485']\n"
     ]
    }
   ],
   "source": [
    "data = '''Name : Rahul Vijay Patil\n",
    "          PAN Number : DTIOP4569B \n",
    "          Mobile Number : 8795541235\n",
    "          DOB : 12/12/1999\n",
    "          Email ID : rahulpatil@gmail.com\n",
    "          aadhar_number : 9874 4561 7485'''\n",
    "\n",
    "PAN_number = re.findall('[A-Z]{5}[0-9]{4}[A-Z]',data)\n",
    "mobile_number = re.findall('[0-9]{10}', data)\n",
    "DOB = re.findall('[0-9]{2}[-/ ][0-9]{2}[-/ ][0-9]{4}',data)\n",
    "email_id = re.findall('[A-z0-9.-_]{2,20}@[a-z.]{4,20}',data)\n",
    "adhar_number = re.findall('[0-9]{4}[ ][0-9]{4}[ ][0-9]{4}',data)\n",
    "\n",
    "print('PAN Number is :', PAN_number)\n",
    "print('Mobile Number is :', mobile_number)\n",
    "print('Date of Birth is :', DOB)\n",
    "print('Email ID is :', email_id)\n",
    "print('Adhar Number is :', adhar_number)"
   ]
  },
  {
   "cell_type": "code",
   "execution_count": null,
   "id": "53ef3c64",
   "metadata": {},
   "outputs": [],
   "source": [
    "[abc]  >> a or b or c\n",
    "[a-z]  >> any lower case char\n",
    "[A-Z]  >> any upper case char\n",
    "[a-zA-Z] >> any alphabet\n",
    "[A-z]  >> any alphabet\n",
    "[09]   >> 0 or 9\n",
    "[0-9]  >> 0 to 9 digits\n",
    "[0-9a-zA-Z] >> alphanumeric\n",
    "[A-z0-9] >> alphanumeric"
   ]
  },
  {
   "cell_type": "markdown",
   "id": "774216d6",
   "metadata": {},
   "source": [
    "## Special Sequences"
   ]
  },
  {
   "cell_type": "markdown",
   "id": "3343613e",
   "metadata": {},
   "source": [
    "## 1. \\d"
   ]
  },
  {
   "cell_type": "code",
   "execution_count": null,
   "id": "c9eff87b",
   "metadata": {},
   "outputs": [],
   "source": [
    "\\d >> [0-9]  any digit"
   ]
  },
  {
   "cell_type": "code",
   "execution_count": 89,
   "id": "1c2c9d78",
   "metadata": {},
   "outputs": [
    {
     "data": {
      "text/plain": [
       "['4569 7896 7894']"
      ]
     },
     "execution_count": 89,
     "metadata": {},
     "output_type": "execute_result"
    }
   ],
   "source": [
    "adhar = '4569 7896 7894'\n",
    "num = re.findall('[0-9]{4}[ ][0-9]{4}[ ][0-9]{4}',adhar)\n",
    "num"
   ]
  },
  {
   "cell_type": "code",
   "execution_count": 90,
   "id": "58b06215",
   "metadata": {},
   "outputs": [
    {
     "data": {
      "text/plain": [
       "['4569 7896 7894']"
      ]
     },
     "execution_count": 90,
     "metadata": {},
     "output_type": "execute_result"
    }
   ],
   "source": [
    "adhar = '4569 7896 7894'\n",
    "num = re.findall('\\d{4}[ ]\\d{4}[ ]\\d{4}',adhar)\n",
    "num"
   ]
  },
  {
   "cell_type": "code",
   "execution_count": 96,
   "id": "f9de5d3b",
   "metadata": {},
   "outputs": [
    {
     "name": "stdout",
     "output_type": "stream",
     "text": [
      "PAN Number is : ['DTIOP4569B']\n",
      "Mobile Number is : ['8795541235']\n",
      "Date of Birth is : ['12/12/1999']\n",
      "Email ID is : ['rahulpatil@gmail.com']\n",
      "Adhar Number is : ['9874 4561 7485']\n"
     ]
    }
   ],
   "source": [
    "data = '''Name : Rahul Vijay Patil\n",
    "          PAN Number : DTIOP4569B \n",
    "          Mobile Number : 8795541235\n",
    "          DOB : 12/12/1999\n",
    "          Email ID : rahulpatil@gmail.com\n",
    "          aadhar_number : 9874 4561 7485'''\n",
    "\n",
    "PAN_number = re.findall('[A-Z]{5}\\d{4}[A-Z]',data)\n",
    "mobile_number = re.findall('\\d{10}', data)\n",
    "DOB = re.findall('\\d{2}[-/ ]\\d{2}[-/ ]\\d{4}',data)\n",
    "email_id = re.findall('[A-z0-9.-_]{2,20}@[a-z.]{4,20}',data)\n",
    "adhar_number = re.findall('\\d{4}[ ]\\d{4}[ ]\\d{4}',data)\n",
    "\n",
    "print('PAN Number is :', PAN_number)\n",
    "print('Mobile Number is :', mobile_number)\n",
    "print('Date of Birth is :', DOB)\n",
    "print('Email ID is :', email_id)\n",
    "print('Adhar Number is :', adhar_number)"
   ]
  },
  {
   "cell_type": "markdown",
   "id": "4dc35385",
   "metadata": {},
   "source": [
    "## 2. \\D"
   ]
  },
  {
   "cell_type": "code",
   "execution_count": null,
   "id": "f7e6330a",
   "metadata": {},
   "outputs": [],
   "source": [
    "\\D >> except [0-9] >> [^0-9] >> Any char except digits"
   ]
  },
  {
   "cell_type": "code",
   "execution_count": 98,
   "id": "7a2d3ee1",
   "metadata": {},
   "outputs": [
    {
     "name": "stdout",
     "output_type": "stream",
     "text": [
      "['D', 'O', 'B', ' ', ':', ' ', '/', '/', '\\n', ' ', ' ', ' ', ' ', ' ', ' ', ' ', ' ', ' ', ' ', 'E', 'm', 'a', 'i', 'l', ' ', 'I', 'D', ' ', ':', ' ', 'r', 'a', 'h', 'u', 'l', 'p', 'a', 't', 'i', 'l', '@', 'g', 'm', 'a', 'i', 'l', '.', 'c', 'o', 'm', '\\n', ' ', ' ', ' ', ' ', ' ', ' ', ' ', ' ', ' ', ' ', 'a', 'a', 'd', 'h', 'a', 'r', '_', 'n', 'u', 'm', 'b', 'e', 'r', ' ', ':', ' ', ' ', ' ']\n"
     ]
    }
   ],
   "source": [
    "data = '''DOB : 12/12/1999\n",
    "          Email ID : rahulpatil@gmail.com\n",
    "          aadhar_number : 9874 4561 7485'''\n",
    "\n",
    "result = re.findall('\\D',data)\n",
    "print(result)"
   ]
  },
  {
   "cell_type": "code",
   "execution_count": 99,
   "id": "db7f002b",
   "metadata": {},
   "outputs": [
    {
     "name": "stdout",
     "output_type": "stream",
     "text": [
      "['DOB :', '\\n    ', '     ', ' Emai', 'l ID ', ': rah', 'ulpat', 'il@gm', 'ail.c', 'om\\n  ', '     ', '   aa', 'dhar_', 'numbe']\n"
     ]
    }
   ],
   "source": [
    "data = '''DOB : 12/12/1999\n",
    "          Email ID : rahulpatil@gmail.com\n",
    "          aadhar_number : 9874 4561 7485'''\n",
    "\n",
    "result = re.findall('\\D{5}',data)\n",
    "print(result)"
   ]
  },
  {
   "cell_type": "code",
   "execution_count": 101,
   "id": "af7a9502",
   "metadata": {},
   "outputs": [
    {
     "name": "stdout",
     "output_type": "stream",
     "text": [
      "['M', 'a', 'c', 'h', 'i', 'n', 'e', ' ', ' ', 'l', 'e', 'a', 'r', 'n', 'i', 'n', 'g', ' ', 'i', 's', ' ', 'a', ' ', 'f', 'i', 'e', 'l', 'd', ' ', 'o', 'f', ' ', 'i', 'n', 'q', 'u', 'i', 'r', 'y', ' ', 'd', 'e', 'v', 'o', 't', 'e', 'd', ' ', 't', 'o', ' ', 'u', 'n', 'd', 'e', 'r', 's', 't', 'a', 'n', 'd', 'i', 'n', 'g', ' ', 'a', 'n', 'd', '\\n', 'b', 'u', 'i', 'l', 'd', 'i', 'n', 'g', ' ', 'm', 'e', 't', 'h', 'o', 'd', 's', ' ', 't', 'h', 'a', 't', ' ', \"'\", 'l', 'e', 'a', 'r', 'n', \"'\", ',', ' ', 't', 'h', 'a', 't', ' ', 'i', 's', ',', ' ', 'm', 'e', 't', 'h', 'o', 'd', 's', ' ', 't', 'h', 'a', 't', ' ', 'l', 'e', 'v', 'e', 'r', 'a', 'g', 'e', ' ', 'd', 'a', 't', 'a', ' ', 't', 'o', '\\n', 'i', 'm', 'p', 'r', 'o', 'v', 'e', ' ', 'p', 'e', 'r', 'f', 'o', 'r', 'm', 'a', 'n', 'c', 'e', ' ', 'o', 'n', ' ', 's', 'o', 'm', 'e', ' ', 's', 'e', 't', ' ', 'o', 'f', ' ', 't', 'a', 's', 'k', 's', '.', ' ', ' ', ' ', 'I', 't', ' ', 'i', 's', ' ', 's', 'e', 'e', 'n', ' ', 'a', 's', ' ', 'a', ' ', 'p', 'a', 'r', 't', ' ', 'o', 'f', ' ', 'a', 'r', 't', 'i', 'f', 'i', 'c', 'i', 'a', 'l', ' ', 'i', 'n', 't', 'e', 'l', 'l', 'i', 'g', 'e', 'n', 'c', 'e', '.']\n"
     ]
    }
   ],
   "source": [
    "text = '''Machine 121354846 learning is a field of inquiry devoted to understanding and\n",
    "building methods that 'learn', that is, methods that leverage data to\n",
    "improve performance on some set of tasks.  324654 It is seen as a part of artificial intelligence.'''\n",
    "\n",
    "result = re.findall('\\D',text)\n",
    "print(result)"
   ]
  },
  {
   "cell_type": "code",
   "execution_count": 102,
   "id": "50ca6e37",
   "metadata": {},
   "outputs": [
    {
     "name": "stdout",
     "output_type": "stream",
     "text": [
      "['Machi', ' lear', 'ning ', 'is a ', 'field', ' of i', 'nquir', 'y dev', 'oted ', 'to un', 'derst', 'andin', 'g and', '\\nbuil', 'ding ', 'metho', 'ds th', \"at 'l\", \"earn'\", ', tha', 't is,', ' meth', 'ods t', 'hat l', 'evera', 'ge da', 'ta to', '\\nimpr', 'ove p', 'erfor', 'mance', ' on s', 'ome s', 'et of', ' task', ' It i', 's see', 'n as ', 'a par', 't of ', 'artif', 'icial', ' inte', 'llige']\n"
     ]
    }
   ],
   "source": [
    "text = '''Machine 121354846 learning is a field of inquiry devoted to understanding and\n",
    "building methods that 'learn', that is, methods that leverage data to\n",
    "improve performance on some set of tasks.  324654 It is seen as a part of artificial intelligence.'''\n",
    "\n",
    "result = re.findall('\\D{5}',text)\n",
    "print(result)"
   ]
  },
  {
   "cell_type": "code",
   "execution_count": 106,
   "id": "5bb44549",
   "metadata": {},
   "outputs": [
    {
     "name": "stdout",
     "output_type": "stream",
     "text": [
      "['Machi', ' lear', 'ning ', 'is a ', 'field', ' of i', 'nquir', 'y dev', 'oted ', 'to un', 'derst', 'andin', 'g and', '\\nbuil', 'ding ', 'metho', 'ds th', \"at 'l\", \"earn'\", ', tha', 't is,', ' meth', 'ods t', 'hat l', 'evera', 'ge da', 'ta to', ' !@#$', '%^&*\\n', 'impro', 've pe', 'rform', 'ance ', 'on so', 'me se', 't of ', 'tasks', ' It i', 's see', 'n as ', 'a par', 't of ', 'artif', 'icial', ' inte', 'llige']\n"
     ]
    }
   ],
   "source": [
    "text = '''Machine 121354846 learning is a field of inquiry devoted to understanding and\n",
    "building methods that 'learn', that is, methods that leverage data to !@#$%^&*\n",
    "improve performance on some set of tasks.  324654 It is seen as a part of artificial intelligence.'''\n",
    "\n",
    "result = re.findall('[^0-9]{5}',text)\n",
    "print(result)"
   ]
  },
  {
   "cell_type": "code",
   "execution_count": 105,
   "id": "cb6ee254",
   "metadata": {},
   "outputs": [
    {
     "name": "stdout",
     "output_type": "stream",
     "text": [
      "[]\n"
     ]
    }
   ],
   "source": [
    "# different case\n",
    "text = '''Machine 121354846 learning is a field of inquiry devoted to understanding and\n",
    "building methods that 'learn', that is, methods that leverage data to \n",
    "improve performance on some set of tasks.  324654 It is seen as a part of artificial intelligence.'''\n",
    "\n",
    "result = re.findall('^[0-9]{5}',text)\n",
    "print(result)"
   ]
  },
  {
   "cell_type": "markdown",
   "id": "9a3ea82b",
   "metadata": {},
   "source": [
    "## 3. \\w"
   ]
  },
  {
   "cell_type": "code",
   "execution_count": null,
   "id": "1ce0ea9e",
   "metadata": {},
   "outputs": [],
   "source": [
    "\\w >> [0-9a-zA-Z]   >> alphanumeric"
   ]
  },
  {
   "cell_type": "code",
   "execution_count": 110,
   "id": "9e6214d7",
   "metadata": {},
   "outputs": [
    {
     "name": "stdout",
     "output_type": "stream",
     "text": [
      "['Machi', '12135', 'learn', 'inqui', 'under', 'stand', 'build', 'metho', 'learn', 'metho', 'lever', 'impro', 'forma', 'tasks', '32465', 'artif', 'icial', 'intel', 'ligen'] 19\n"
     ]
    }
   ],
   "source": [
    "text = '''Machine 121354846 learning is a fie@ld of inquiry dev#oted to understanding and\n",
    "building methods that 'learn', that is, methods that leverage data to\n",
    "improve per$formance on some set of tasks.  324654 It is seen as a part of artificial intelligence.'''\n",
    "\n",
    "result = re.findall('\\w{5}',text)\n",
    "print(result,len(result))"
   ]
  },
  {
   "cell_type": "code",
   "execution_count": 111,
   "id": "7934e1f1",
   "metadata": {},
   "outputs": [
    {
     "name": "stdout",
     "output_type": "stream",
     "text": [
      "PAN Number is : ['DTIOP4569B', '8795541235', 'rahulpatil', 'aadhar_num']\n",
      "Mobile Number is : ['8795541235']\n",
      "Date of Birth is : ['12/12/1999']\n",
      "Email ID is : ['rahulpatil@gmail.com']\n",
      "Adhar Number is : ['9874 4561 7485']\n"
     ]
    }
   ],
   "source": [
    "data = '''Name : Rahul Vijay Patil\n",
    "          PAN Number : DTIOP4569B \n",
    "          Mobile Number : 8795541235\n",
    "          DOB : 12/12/1999\n",
    "          Email ID : rahulpatil@gmail.com\n",
    "          aadhar_number : 9874 4561 7485'''\n",
    "\n",
    "PAN_number = re.findall('\\w{10}',data)\n",
    "mobile_number = re.findall('\\d{10}', data)\n",
    "DOB = re.findall('\\d{2}[-/ ]\\d{2}[-/ ]\\d{4}',data)\n",
    "email_id = re.findall('[A-z0-9.-_]{2,20}@[a-z.]{4,20}',data)\n",
    "adhar_number = re.findall('\\d{4}[ ]\\d{4}[ ]\\d{4}',data)\n",
    "\n",
    "print('PAN Number is :', PAN_number)\n",
    "print('Mobile Number is :', mobile_number)\n",
    "print('Date of Birth is :', DOB)\n",
    "print('Email ID is :', email_id)\n",
    "print('Adhar Number is :', adhar_number)"
   ]
  },
  {
   "cell_type": "code",
   "execution_count": 112,
   "id": "e0c80990",
   "metadata": {},
   "outputs": [
    {
     "data": {
      "text/plain": [
       "['SBIN0001234', 'HDFC0009874', 'KTKB0004567']"
      ]
     },
     "execution_count": 112,
     "metadata": {},
     "output_type": "execute_result"
    }
   ],
   "source": [
    "text = '''SBI IFSC : SBIN0001234\n",
    "          HDFC IFSC : HDFC0009874\n",
    "          KOTAK IFSC : KTKB0004567'''\n",
    "ifsc = re.findall('[A-Z]{4}[0-9]{7}', text)\n",
    "ifsc"
   ]
  },
  {
   "cell_type": "code",
   "execution_count": 113,
   "id": "b3ca3e3f",
   "metadata": {},
   "outputs": [
    {
     "data": {
      "text/plain": [
       "['SBIN0001234', 'HDFC0009874', 'KTKB0004567']"
      ]
     },
     "execution_count": 113,
     "metadata": {},
     "output_type": "execute_result"
    }
   ],
   "source": [
    "text = '''SBI IFSC : SBIN0001234\n",
    "          HDFC IFSC : HDFC0009874\n",
    "          KOTAK IFSC : KTKB0004567'''\n",
    "ifsc = re.findall('[A-Z]{4}\\d{7}', text)\n",
    "ifsc"
   ]
  },
  {
   "cell_type": "code",
   "execution_count": 114,
   "id": "abe4300d",
   "metadata": {},
   "outputs": [
    {
     "data": {
      "text/plain": [
       "['SBIN0001234', 'HDFC0009874', 'KTKB0004567']"
      ]
     },
     "execution_count": 114,
     "metadata": {},
     "output_type": "execute_result"
    }
   ],
   "source": [
    "text = '''SBI IFSC : SBIN0001234\n",
    "          HDFC IFSC : HDFC0009874\n",
    "          KOTAK IFSC : KTKB0004567'''\n",
    "ifsc = re.findall('\\w{10,15}', text)\n",
    "ifsc"
   ]
  },
  {
   "cell_type": "markdown",
   "id": "b36e35e4",
   "metadata": {},
   "source": [
    "## 4. \\W"
   ]
  },
  {
   "cell_type": "code",
   "execution_count": null,
   "id": "f59b2750",
   "metadata": {},
   "outputs": [],
   "source": [
    "\\W >> except [0-9a-zA-Z]/ alphanumeric >>> spaces, special char\n",
    "\\W >> [^0-9a-zA-Z]"
   ]
  },
  {
   "cell_type": "code",
   "execution_count": 117,
   "id": "8d17a2e2",
   "metadata": {},
   "outputs": [
    {
     "name": "stdout",
     "output_type": "stream",
     "text": [
      "[' ', ':', ' ', ' ', '@', '#', '$', '^', ' ', ' ', '\\n', ' ', ' ', ' ', ' ', ' ', ' ', ' ', ' ', ' ', ' ', ' ', ' ', ':', ' ', ' ', '\\n', ' ', ' ', ' ', ' ', ' ', ' ', ' ', ' ', ' ', ' ', ' ', ' ', ' ', ')', '&', '^', '&', '^', ':', ' ', '\\n', ' ', ' ', ' ', ' ', ' ', ' ', ' ', ' ', ' ', ' ', ' ', ':', ' ', '/', '/', '\\n', ' ', ' ', ' ', ' ', ' ', ' ', ' ', ' ', ' ', ' ', ' ', ' ', ':', ' ', '@', '.', '\\n', ' ', ' ', ' ', ' ', ' ', ' ', ' ', ' ', ' ', ' ', ' ', ':', ' ', ' ', ' ']\n"
     ]
    }
   ],
   "source": [
    "data = '''Name : Rahul @#$^ Vijay Patil\n",
    "          PAN Number : DTIOP4569B \n",
    "          Mobile Number  )&^&^: 8795541235\n",
    "          DOB : 12/12/1999\n",
    "          Email ID : rahulpatil@gmail.com\n",
    "          aadhar_number : 9874 4561 7485'''\n",
    "\n",
    "\n",
    "something = re.findall('\\W',data)\n",
    "print(something)"
   ]
  },
  {
   "cell_type": "markdown",
   "id": "7f6bae26",
   "metadata": {},
   "source": [
    "## 5. \\s"
   ]
  },
  {
   "cell_type": "code",
   "execution_count": null,
   "id": "99e76ad1",
   "metadata": {},
   "outputs": [],
   "source": [
    "\\s >> [ ] >> white space"
   ]
  },
  {
   "cell_type": "code",
   "execution_count": 118,
   "id": "adf589a4",
   "metadata": {},
   "outputs": [
    {
     "name": "stdout",
     "output_type": "stream",
     "text": [
      "[' ', ' ', ' ', ' ', ' ', ' ', ' '] 7\n"
     ]
    }
   ],
   "source": [
    "text = 'Data Science @#$ is  654654 98756 #$%'\n",
    "result = re.findall('\\s', text)\n",
    "print(result, len(result))"
   ]
  },
  {
   "cell_type": "code",
   "execution_count": 121,
   "id": "06fa6728",
   "metadata": {},
   "outputs": [
    {
     "name": "stdout",
     "output_type": "stream",
     "text": [
      "PAN Number is : ['DTIOP4569B', '8795541235', 'rahulpatil', 'aadhar_num']\n",
      "Mobile Number is : ['8795541235']\n",
      "Date of Birth is : ['12/12/1999']\n",
      "Email ID is : ['rahulpatil@gmail.com']\n",
      "Adhar Number is : ['9874 4561 7485']\n"
     ]
    }
   ],
   "source": [
    "data = '''Name : Rahul Vijay Patil\n",
    "          PAN Number : DTIOP4569B \n",
    "          Mobile Number : 8795541235\n",
    "          DOB : 12/12/1999\n",
    "          Email ID : rahulpatil@gmail.com\n",
    "          aadhar_number : 9874 4561 7485'''\n",
    "\n",
    "PAN_number = re.findall('\\w{10}',data)\n",
    "mobile_number = re.findall('\\d{10}', data)\n",
    "DOB = re.findall('\\d{2}[-/ ]\\d{2}[-/ ]\\d{4}',data)\n",
    "email_id = re.findall('[A-z0-9.-_]{2,20}@[a-z.]{4,20}',data)\n",
    "adhar_number = re.findall('\\d{4}\\s\\d{4}\\s\\d{4}',data)\n",
    "\n",
    "print('PAN Number is :', PAN_number)\n",
    "print('Mobile Number is :', mobile_number)\n",
    "print('Date of Birth is :', DOB)\n",
    "print('Email ID is :', email_id)\n",
    "print('Adhar Number is :', adhar_number)"
   ]
  },
  {
   "cell_type": "markdown",
   "id": "c295dbdf",
   "metadata": {},
   "source": [
    "## 6. \\S"
   ]
  },
  {
   "cell_type": "code",
   "execution_count": null,
   "id": "0f50ecd6",
   "metadata": {},
   "outputs": [],
   "source": [
    "\\s >> other than space"
   ]
  },
  {
   "cell_type": "code",
   "execution_count": 122,
   "id": "04840b20",
   "metadata": {},
   "outputs": [
    {
     "name": "stdout",
     "output_type": "stream",
     "text": [
      "[' ', ' ', ' ', ' ', '\\n', ' ', ' ', ' ', ' ', ' ', ' ', ' ', ' ', ' ', ' ', ' ', ' ', ' ', ' ', '\\n', ' ', ' ', ' ', ' ', ' ', ' ', ' ', ' ', ' ', ' ', ' ', ' ', ' ', '\\n', ' ', ' ', ' ', ' ', ' ', ' ', ' ', ' ', ' ', ' ', ' ', ' ', '\\n', ' ', ' ', ' ', ' ', ' ', ' ', ' ', ' ', ' ', ' ', ' ', ' ', ' ', '\\n', ' ', ' ', ' ', ' ', ' ', ' ', ' ', ' ', ' ', ' ', ' ', ' ', ' ', ' '] 75\n"
     ]
    }
   ],
   "source": [
    "data = '''Name : Rahul Vijay Patil\n",
    "          PAN Number : DTIOP4569B \n",
    "          Mobile Number : 8795541235\n",
    "          DOB : 12/12/1999\n",
    "          Email ID : rahulpatil@gmail.com\n",
    "          aadhar_number : 9874 4561 7485'''\n",
    "\n",
    "result = re.findall('\\s',data)\n",
    "print(result, len(result))"
   ]
  },
  {
   "cell_type": "code",
   "execution_count": 124,
   "id": "8cc6ed49",
   "metadata": {},
   "outputs": [
    {
     "name": "stdout",
     "output_type": "stream",
     "text": [
      "['Name', 'Rahu', 'Vija', 'Pati', 'Numb', 'DTIO', 'P456', 'Mobi', 'Numb', '8795', '5412', '12/1', '2/19', 'Emai', 'rahu', 'lpat', 'il@g', 'mail', '.com', 'aadh', 'ar_n', 'umbe', '9874', '4561', '7485'] 25\n"
     ]
    }
   ],
   "source": [
    "data = '''Name : Rahul Vijay Patil\n",
    "          PAN Number : DTIOP4569B \n",
    "          Mobile Number : 8795541235\n",
    "          DOB : 12/12/1999\n",
    "          Email ID : rahulpatil@gmail.com\n",
    "          aadhar_number : 9874 4561 7485'''\n",
    "\n",
    "result = re.findall('\\S{4}',data)\n",
    "print(result, len(result))"
   ]
  },
  {
   "cell_type": "markdown",
   "id": "75d3564b",
   "metadata": {},
   "source": [
    "## 7. \\b"
   ]
  },
  {
   "cell_type": "code",
   "execution_count": null,
   "id": "8870bb03",
   "metadata": {},
   "outputs": [],
   "source": [
    "Checks for characters at beginning or end of the word"
   ]
  },
  {
   "cell_type": "code",
   "execution_count": 126,
   "id": "3e9a7c83",
   "metadata": {},
   "outputs": [
    {
     "data": {
      "text/plain": [
       "['SBIN0001234', 'HDFC0009874', 'KTKB0004567']"
      ]
     },
     "execution_count": 126,
     "metadata": {},
     "output_type": "execute_result"
    }
   ],
   "source": [
    "text = '''SBI IFSC : SBIN0001234\n",
    "          HDFC IFSC : HDFC0009874\n",
    "          KOTAK IFSC : KTKB0004567'''\n",
    "ifsc = re.findall(r'\\b[A-Z]{4}\\d{7}', text)\n",
    "ifsc"
   ]
  },
  {
   "cell_type": "code",
   "execution_count": 128,
   "id": "71d4a490",
   "metadata": {},
   "outputs": [
    {
     "data": {
      "text/plain": [
       "['SBIN0001234', 'HDFC0009874', 'KTKB0004567', 'BCDE0001452']"
      ]
     },
     "execution_count": 128,
     "metadata": {},
     "output_type": "execute_result"
    }
   ],
   "source": [
    "text = '''SBI IFSC : SBIN0001234\n",
    "          HDFC IFSC : HDFC0009874\n",
    "          KOTAK IFSC : KTKB0004567\n",
    "          ABCDE0001452'''\n",
    "ifsc = re.findall('[A-Z]{4}\\d{7}', text)\n",
    "ifsc"
   ]
  },
  {
   "cell_type": "code",
   "execution_count": 127,
   "id": "75759cd0",
   "metadata": {},
   "outputs": [
    {
     "data": {
      "text/plain": [
       "['SBIN0001234', 'HDFC0009874', 'KTKB0004567']"
      ]
     },
     "execution_count": 127,
     "metadata": {},
     "output_type": "execute_result"
    }
   ],
   "source": [
    "text = '''SBI IFSC : SBIN0001234\n",
    "          HDFC IFSC : HDFC0009874\n",
    "          KOTAK IFSC : KTKB0004567\n",
    "          ABCDE0001452'''\n",
    "ifsc = re.findall(r'\\b[A-Z]{4}\\d{7}', text)\n",
    "ifsc"
   ]
  },
  {
   "cell_type": "code",
   "execution_count": 129,
   "id": "4791ef7a",
   "metadata": {},
   "outputs": [
    {
     "data": {
      "text/plain": [
       "['9898659887', '7845986545', '7898874512', '8878987898', '7898784565']"
      ]
     },
     "execution_count": 129,
     "metadata": {},
     "output_type": "execute_result"
    }
   ],
   "source": [
    "mobile = '''9898659887\n",
    "            7845986545\n",
    "            A7898874512\n",
    "            88789878987\n",
    "            7898784565'''\n",
    "\n",
    "mobile_number = re.findall('[0-9]{10}',mobile)\n",
    "mobile_number"
   ]
  },
  {
   "cell_type": "code",
   "execution_count": 130,
   "id": "3ab685ab",
   "metadata": {},
   "outputs": [
    {
     "data": {
      "text/plain": [
       "['9898659887', '7845986545', '7898874512', '8878987898', '7898784565']"
      ]
     },
     "execution_count": 130,
     "metadata": {},
     "output_type": "execute_result"
    }
   ],
   "source": [
    "mobile = '''9898659887\n",
    "            7845986545\n",
    "            A7898874512\n",
    "            88789878987\n",
    "            7898784565'''\n",
    "\n",
    "mobile_number = re.findall('\\d{10}',mobile)\n",
    "mobile_number"
   ]
  },
  {
   "cell_type": "code",
   "execution_count": 131,
   "id": "01496d03",
   "metadata": {},
   "outputs": [
    {
     "data": {
      "text/plain": [
       "['9898659887', '7845986545', '8878987898', '7898784565']"
      ]
     },
     "execution_count": 131,
     "metadata": {},
     "output_type": "execute_result"
    }
   ],
   "source": [
    "mobile = '''9898659887\n",
    "            7845986545\n",
    "            A7898874512\n",
    "            88789878987\n",
    "            7898784565'''\n",
    "\n",
    "mobile_number = re.findall(r'\\b\\d{10}',mobile)\n",
    "mobile_number"
   ]
  },
  {
   "cell_type": "code",
   "execution_count": 132,
   "id": "7d32ed9f",
   "metadata": {},
   "outputs": [
    {
     "data": {
      "text/plain": [
       "['9898659887', '7845986545', '7898784565']"
      ]
     },
     "execution_count": 132,
     "metadata": {},
     "output_type": "execute_result"
    }
   ],
   "source": [
    "mobile = '''9898659887\n",
    "            7845986545\n",
    "            A7898874512\n",
    "            88789878987\n",
    "            7898784565'''\n",
    "\n",
    "mobile_number = re.findall(r'\\b\\d{10}\\b',mobile)\n",
    "mobile_number"
   ]
  },
  {
   "cell_type": "code",
   "execution_count": 133,
   "id": "73fe63cb",
   "metadata": {},
   "outputs": [
    {
     "data": {
      "text/plain": [
       "['Pytho', 'class']"
      ]
     },
     "execution_count": 133,
     "metadata": {},
     "output_type": "execute_result"
    }
   ],
   "source": [
    "text = 'Python class Pune'\n",
    "\n",
    "results = re.findall('\\w{5}',text)\n",
    "results"
   ]
  },
  {
   "cell_type": "code",
   "execution_count": 135,
   "id": "a5664ea6",
   "metadata": {},
   "outputs": [
    {
     "data": {
      "text/plain": [
       "['Pytho', 'class']"
      ]
     },
     "execution_count": 135,
     "metadata": {},
     "output_type": "execute_result"
    }
   ],
   "source": [
    "text = 'Python class Pune'\n",
    "\n",
    "results = re.findall(r'\\b\\w{5}',text)\n",
    "results"
   ]
  },
  {
   "cell_type": "code",
   "execution_count": 136,
   "id": "8e55fc2f",
   "metadata": {},
   "outputs": [
    {
     "data": {
      "text/plain": [
       "['ython', 'class']"
      ]
     },
     "execution_count": 136,
     "metadata": {},
     "output_type": "execute_result"
    }
   ],
   "source": [
    "text = 'Python class Pune'\n",
    "\n",
    "results = re.findall(r'\\w{5}\\b',text)\n",
    "results"
   ]
  },
  {
   "cell_type": "code",
   "execution_count": 137,
   "id": "fbd5f6bf",
   "metadata": {},
   "outputs": [
    {
     "data": {
      "text/plain": [
       "['class']"
      ]
     },
     "execution_count": 137,
     "metadata": {},
     "output_type": "execute_result"
    }
   ],
   "source": [
    "text = 'Python class Pune'\n",
    "\n",
    "results = re.findall(r'\\b\\w{5}\\b',text)\n",
    "results"
   ]
  },
  {
   "cell_type": "code",
   "execution_count": 138,
   "id": "bf0c9bfc",
   "metadata": {},
   "outputs": [
    {
     "data": {
      "text/plain": [
       "['Python', 'Python']"
      ]
     },
     "execution_count": 138,
     "metadata": {},
     "output_type": "execute_result"
    }
   ],
   "source": [
    "text = 'Python class Pune Python'\n",
    "\n",
    "results = re.findall(r'\\bPython',text)\n",
    "results"
   ]
  },
  {
   "cell_type": "code",
   "execution_count": null,
   "id": "7c8709a4",
   "metadata": {},
   "outputs": [],
   "source": []
  },
  {
   "cell_type": "code",
   "execution_count": null,
   "id": "976047f1",
   "metadata": {},
   "outputs": [],
   "source": []
  },
  {
   "cell_type": "code",
   "execution_count": null,
   "id": "b3622478",
   "metadata": {},
   "outputs": [],
   "source": []
  },
  {
   "cell_type": "code",
   "execution_count": null,
   "id": "e113774e",
   "metadata": {},
   "outputs": [],
   "source": []
  },
  {
   "cell_type": "code",
   "execution_count": null,
   "id": "5d3f8762",
   "metadata": {},
   "outputs": [],
   "source": []
  },
  {
   "cell_type": "code",
   "execution_count": null,
   "id": "c105970e",
   "metadata": {},
   "outputs": [],
   "source": []
  },
  {
   "cell_type": "code",
   "execution_count": null,
   "id": "6b539a96",
   "metadata": {},
   "outputs": [],
   "source": []
  },
  {
   "cell_type": "code",
   "execution_count": null,
   "id": "f7e79b83",
   "metadata": {},
   "outputs": [],
   "source": []
  },
  {
   "cell_type": "code",
   "execution_count": null,
   "id": "8aafdaf5",
   "metadata": {},
   "outputs": [],
   "source": []
  },
  {
   "cell_type": "code",
   "execution_count": null,
   "id": "aa72453d",
   "metadata": {},
   "outputs": [],
   "source": []
  },
  {
   "cell_type": "code",
   "execution_count": null,
   "id": "f28e17d9",
   "metadata": {},
   "outputs": [],
   "source": []
  },
  {
   "cell_type": "code",
   "execution_count": null,
   "id": "dba204a7",
   "metadata": {},
   "outputs": [],
   "source": []
  },
  {
   "cell_type": "code",
   "execution_count": null,
   "id": "14625bc5",
   "metadata": {},
   "outputs": [],
   "source": []
  },
  {
   "cell_type": "code",
   "execution_count": null,
   "id": "31ccf792",
   "metadata": {},
   "outputs": [],
   "source": []
  },
  {
   "cell_type": "code",
   "execution_count": null,
   "id": "75f4d8f2",
   "metadata": {},
   "outputs": [],
   "source": []
  },
  {
   "cell_type": "code",
   "execution_count": null,
   "id": "11ee09e2",
   "metadata": {},
   "outputs": [],
   "source": []
  },
  {
   "cell_type": "code",
   "execution_count": null,
   "id": "adb03bdf",
   "metadata": {},
   "outputs": [],
   "source": []
  },
  {
   "cell_type": "code",
   "execution_count": null,
   "id": "d390d4c2",
   "metadata": {},
   "outputs": [],
   "source": []
  },
  {
   "cell_type": "code",
   "execution_count": null,
   "id": "7a57c86d",
   "metadata": {},
   "outputs": [],
   "source": []
  },
  {
   "cell_type": "code",
   "execution_count": null,
   "id": "17896163",
   "metadata": {},
   "outputs": [],
   "source": []
  },
  {
   "cell_type": "code",
   "execution_count": null,
   "id": "89d4901b",
   "metadata": {},
   "outputs": [],
   "source": []
  },
  {
   "cell_type": "code",
   "execution_count": null,
   "id": "23c08a4e",
   "metadata": {},
   "outputs": [],
   "source": []
  },
  {
   "cell_type": "code",
   "execution_count": null,
   "id": "e12f546b",
   "metadata": {},
   "outputs": [],
   "source": []
  },
  {
   "cell_type": "code",
   "execution_count": null,
   "id": "5cf41483",
   "metadata": {},
   "outputs": [],
   "source": []
  },
  {
   "cell_type": "code",
   "execution_count": null,
   "id": "f1dc7b18",
   "metadata": {},
   "outputs": [],
   "source": []
  },
  {
   "cell_type": "code",
   "execution_count": null,
   "id": "e550f9e6",
   "metadata": {},
   "outputs": [],
   "source": []
  },
  {
   "cell_type": "code",
   "execution_count": null,
   "id": "96448a04",
   "metadata": {},
   "outputs": [],
   "source": []
  },
  {
   "cell_type": "code",
   "execution_count": null,
   "id": "821aafab",
   "metadata": {},
   "outputs": [],
   "source": []
  },
  {
   "cell_type": "code",
   "execution_count": null,
   "id": "41d7166d",
   "metadata": {},
   "outputs": [],
   "source": []
  },
  {
   "cell_type": "code",
   "execution_count": null,
   "id": "7356595a",
   "metadata": {},
   "outputs": [],
   "source": []
  },
  {
   "cell_type": "code",
   "execution_count": null,
   "id": "327deee8",
   "metadata": {},
   "outputs": [],
   "source": []
  },
  {
   "cell_type": "code",
   "execution_count": null,
   "id": "700e2455",
   "metadata": {},
   "outputs": [],
   "source": []
  },
  {
   "cell_type": "code",
   "execution_count": null,
   "id": "1f660d92",
   "metadata": {},
   "outputs": [],
   "source": []
  },
  {
   "cell_type": "code",
   "execution_count": null,
   "id": "2450eaef",
   "metadata": {},
   "outputs": [],
   "source": []
  },
  {
   "cell_type": "code",
   "execution_count": null,
   "id": "9869342c",
   "metadata": {},
   "outputs": [],
   "source": []
  },
  {
   "cell_type": "code",
   "execution_count": null,
   "id": "2f155c83",
   "metadata": {},
   "outputs": [],
   "source": []
  },
  {
   "cell_type": "code",
   "execution_count": null,
   "id": "b89d0333",
   "metadata": {},
   "outputs": [],
   "source": []
  },
  {
   "cell_type": "code",
   "execution_count": null,
   "id": "05ac4f84",
   "metadata": {},
   "outputs": [],
   "source": []
  },
  {
   "cell_type": "code",
   "execution_count": null,
   "id": "cce97839",
   "metadata": {},
   "outputs": [],
   "source": []
  },
  {
   "cell_type": "code",
   "execution_count": null,
   "id": "6a4e9291",
   "metadata": {},
   "outputs": [],
   "source": []
  },
  {
   "cell_type": "code",
   "execution_count": null,
   "id": "dc2510d6",
   "metadata": {},
   "outputs": [],
   "source": []
  },
  {
   "cell_type": "code",
   "execution_count": null,
   "id": "5916e36a",
   "metadata": {},
   "outputs": [],
   "source": []
  },
  {
   "cell_type": "code",
   "execution_count": null,
   "id": "57b49549",
   "metadata": {},
   "outputs": [],
   "source": []
  },
  {
   "cell_type": "code",
   "execution_count": null,
   "id": "9e9f842c",
   "metadata": {},
   "outputs": [],
   "source": []
  },
  {
   "cell_type": "code",
   "execution_count": null,
   "id": "b4272a07",
   "metadata": {},
   "outputs": [],
   "source": []
  },
  {
   "cell_type": "code",
   "execution_count": null,
   "id": "7bf99d11",
   "metadata": {},
   "outputs": [],
   "source": []
  },
  {
   "cell_type": "code",
   "execution_count": null,
   "id": "2bfd87cf",
   "metadata": {},
   "outputs": [],
   "source": []
  },
  {
   "cell_type": "code",
   "execution_count": null,
   "id": "846dc43e",
   "metadata": {},
   "outputs": [],
   "source": []
  },
  {
   "cell_type": "code",
   "execution_count": null,
   "id": "09ad6dcd",
   "metadata": {},
   "outputs": [],
   "source": []
  },
  {
   "cell_type": "code",
   "execution_count": null,
   "id": "7b8bdfbe",
   "metadata": {},
   "outputs": [],
   "source": []
  },
  {
   "cell_type": "code",
   "execution_count": null,
   "id": "230a589b",
   "metadata": {},
   "outputs": [],
   "source": []
  },
  {
   "cell_type": "code",
   "execution_count": null,
   "id": "44cacf87",
   "metadata": {},
   "outputs": [],
   "source": []
  }
 ],
 "metadata": {
  "kernelspec": {
   "display_name": "Python 3 (ipykernel)",
   "language": "python",
   "name": "python3"
  },
  "language_info": {
   "codemirror_mode": {
    "name": "ipython",
    "version": 3
   },
   "file_extension": ".py",
   "mimetype": "text/x-python",
   "name": "python",
   "nbconvert_exporter": "python",
   "pygments_lexer": "ipython3",
   "version": "3.11.3"
  }
 },
 "nbformat": 4,
 "nbformat_minor": 5
}
