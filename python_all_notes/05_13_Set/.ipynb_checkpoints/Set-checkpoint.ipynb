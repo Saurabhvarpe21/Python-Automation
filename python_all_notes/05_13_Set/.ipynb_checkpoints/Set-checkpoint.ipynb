{
 "cells": [
  {
   "cell_type": "code",
   "execution_count": 1,
   "id": "11fb942a",
   "metadata": {},
   "outputs": [
    {
     "data": {
      "text/plain": [
       "['Suraj', 'Nilesh', 'Akshay', 'Vaibhav', 'Sagar']"
      ]
     },
     "execution_count": 1,
     "metadata": {},
     "output_type": "execute_result"
    }
   ],
   "source": [
    "list1 = ['Sagar', 'Vaibhav', 'Akshay', 'Nilesh','Suraj']\n",
    "list1[::-1]"
   ]
  },
  {
   "cell_type": "code",
   "execution_count": 2,
   "id": "b8018e13",
   "metadata": {},
   "outputs": [],
   "source": [
    "list1.reverse()"
   ]
  },
  {
   "cell_type": "code",
   "execution_count": 3,
   "id": "2ef8095a",
   "metadata": {},
   "outputs": [
    {
     "data": {
      "text/plain": [
       "['Suraj', 'Nilesh', 'Akshay', 'Vaibhav', 'Sagar']"
      ]
     },
     "execution_count": 3,
     "metadata": {},
     "output_type": "execute_result"
    }
   ],
   "source": [
    "list1"
   ]
  },
  {
   "cell_type": "code",
   "execution_count": 5,
   "id": "beae7800",
   "metadata": {},
   "outputs": [
    {
     "data": {
      "text/plain": [
       "['Sagar', 'Vaibhav', 'Akshay', 'Nilesh', 'Suraj']"
      ]
     },
     "execution_count": 5,
     "metadata": {},
     "output_type": "execute_result"
    }
   ],
   "source": [
    "list(reversed(list1))"
   ]
  },
  {
   "cell_type": "code",
   "execution_count": 6,
   "id": "99fbc740",
   "metadata": {},
   "outputs": [
    {
     "data": {
      "text/plain": [
       "['Suraj', 'Nilesh', 'Akshay', 'Vaibhav', 'Sagar']"
      ]
     },
     "execution_count": 6,
     "metadata": {},
     "output_type": "execute_result"
    }
   ],
   "source": [
    "list1"
   ]
  },
  {
   "cell_type": "code",
   "execution_count": 7,
   "id": "19ca8e6e",
   "metadata": {},
   "outputs": [
    {
     "name": "stdout",
     "output_type": "stream",
     "text": [
      "['Shubhangini', 'Divya', 'Abhipray', 'Niranjan', 'Aaditya']\n"
     ]
    }
   ],
   "source": [
    "list1 =['Aaditya','Niranjan','Abhipray','Divya','Shubhangini']\n",
    "for i in range(len(list1)//2):\n",
    "    var = list1[i]\n",
    "    list1[i] = list1[len(list1)-1-i]\n",
    "    list1[len(list1)-1-i]= var\n",
    "print(list1)"
   ]
  },
  {
   "cell_type": "code",
   "execution_count": 8,
   "id": "f2f8d3b2",
   "metadata": {},
   "outputs": [
    {
     "name": "stdout",
     "output_type": "stream",
     "text": [
      "['ayaz', 'diksha', 'sharad', 'bhushan', 'aniket']\n"
     ]
    }
   ],
   "source": [
    "l1=['aniket','bhushan','sharad','diksha','ayaz']\n",
    "a=len(l1)\n",
    "l2=[]\n",
    "for i in range(a-1,-1,-1):\n",
    "    l2.append(l1[i])\n",
    "print(l2)"
   ]
  },
  {
   "cell_type": "code",
   "execution_count": 12,
   "id": "f2f9b53e",
   "metadata": {},
   "outputs": [
    {
     "name": "stdout",
     "output_type": "stream",
     "text": [
      "5\n",
      "4\n",
      "3\n",
      "2\n",
      "1\n"
     ]
    }
   ],
   "source": [
    "list1=[\"Swapnil\",\"Prathamesh\",\"Shumaila\",\"Bhagyashree\",\"Tukaram\"]\n",
    "for i in range(len(list1),0,-1):\n",
    "    print(i)"
   ]
  },
  {
   "cell_type": "code",
   "execution_count": 14,
   "id": "8566de1d",
   "metadata": {},
   "outputs": [
    {
     "name": "stdout",
     "output_type": "stream",
     "text": [
      "['Rupesh', 'Pankaj', 'Nikita', 'Piyush', 'Mansingh']\n"
     ]
    }
   ],
   "source": [
    "list1 = [\"Mansingh\", \"Piyush\", \"Nikita\", \"Pankaj\", \"Rupesh\"]\n",
    "list2 = []\n",
    "n = len(list1)\n",
    "for i in range(0, n):\n",
    "    list2.append(list1[n-1])\n",
    "    n -= 1\n",
    "print(list2)"
   ]
  },
  {
   "cell_type": "code",
   "execution_count": 17,
   "id": "2a7b8d3a",
   "metadata": {},
   "outputs": [
    {
     "name": "stdout",
     "output_type": "stream",
     "text": [
      "['Rupesh', 'Pankaj', 'Nikita', 'Piyush', 'Mansingh']\n"
     ]
    }
   ],
   "source": [
    "list1 = [\"Mansingh\", \"Piyush\", \"Nikita\", \"Pankaj\", \"Rupesh\"]\n",
    "\n",
    "list2 = []\n",
    "a = -1\n",
    "for i in range(len(list1)):\n",
    "    list2.append(list1[a])\n",
    "    a-=1\n",
    "    \n",
    "print(list2)"
   ]
  },
  {
   "cell_type": "markdown",
   "id": "24818576",
   "metadata": {},
   "source": [
    "# Set"
   ]
  },
  {
   "cell_type": "code",
   "execution_count": null,
   "id": "4b33889a",
   "metadata": {},
   "outputs": [],
   "source": [
    "1. Mutable\n",
    "2. Unordered\n",
    "3. Duplicates are not allowed\n",
    "4. Sets are enclosed by {}\n",
    "5. To initiliaze set >> set()"
   ]
  },
  {
   "cell_type": "code",
   "execution_count": 18,
   "id": "c061ae22",
   "metadata": {},
   "outputs": [
    {
     "data": {
      "text/plain": [
       "dict"
      ]
     },
     "execution_count": 18,
     "metadata": {},
     "output_type": "execute_result"
    }
   ],
   "source": [
    "s1 = {}\n",
    "type(s1)"
   ]
  },
  {
   "cell_type": "code",
   "execution_count": 19,
   "id": "2aa0d953",
   "metadata": {},
   "outputs": [
    {
     "data": {
      "text/plain": [
       "set"
      ]
     },
     "execution_count": 19,
     "metadata": {},
     "output_type": "execute_result"
    }
   ],
   "source": [
    "s1 = set()\n",
    "type(s1)"
   ]
  },
  {
   "cell_type": "code",
   "execution_count": 20,
   "id": "52c6a13b",
   "metadata": {},
   "outputs": [
    {
     "data": {
      "text/plain": [
       "{1, 4, 5, 6, 8}"
      ]
     },
     "execution_count": 20,
     "metadata": {},
     "output_type": "execute_result"
    }
   ],
   "source": [
    "list1 = [1,5,4,8,6]\n",
    "s1 = set(list1)\n",
    "s1"
   ]
  },
  {
   "cell_type": "code",
   "execution_count": 21,
   "id": "390716f9",
   "metadata": {},
   "outputs": [
    {
     "ename": "TypeError",
     "evalue": "'set' object is not subscriptable",
     "output_type": "error",
     "traceback": [
      "\u001b[1;31m---------------------------------------------------------------------------\u001b[0m",
      "\u001b[1;31mTypeError\u001b[0m                                 Traceback (most recent call last)",
      "\u001b[1;32m<ipython-input-21-abc9958e9178>\u001b[0m in \u001b[0;36m<module>\u001b[1;34m\u001b[0m\n\u001b[0;32m      1\u001b[0m \u001b[0ms1\u001b[0m \u001b[1;33m=\u001b[0m \u001b[1;33m{\u001b[0m\u001b[1;36m1\u001b[0m\u001b[1;33m,\u001b[0m \u001b[1;36m4\u001b[0m\u001b[1;33m,\u001b[0m \u001b[1;36m5\u001b[0m\u001b[1;33m,\u001b[0m \u001b[1;36m6\u001b[0m\u001b[1;33m,\u001b[0m \u001b[1;36m8\u001b[0m\u001b[1;33m}\u001b[0m\u001b[1;33m\u001b[0m\u001b[1;33m\u001b[0m\u001b[0m\n\u001b[1;32m----> 2\u001b[1;33m \u001b[0ms1\u001b[0m\u001b[1;33m[\u001b[0m\u001b[1;36m2\u001b[0m\u001b[1;33m]\u001b[0m\u001b[1;33m\u001b[0m\u001b[1;33m\u001b[0m\u001b[0m\n\u001b[0m",
      "\u001b[1;31mTypeError\u001b[0m: 'set' object is not subscriptable"
     ]
    }
   ],
   "source": [
    "s1 = {1, 4, 5, 6, 8}\n",
    "s1[2]"
   ]
  },
  {
   "cell_type": "markdown",
   "id": "b62b8169",
   "metadata": {},
   "source": [
    "# Set Functions"
   ]
  },
  {
   "cell_type": "markdown",
   "id": "1f7db27e",
   "metadata": {},
   "source": [
    "## 1. add()"
   ]
  },
  {
   "cell_type": "code",
   "execution_count": null,
   "id": "143c3e7f",
   "metadata": {},
   "outputs": [],
   "source": [
    "Used to add one item in set\n",
    "Item will get added at random index"
   ]
  },
  {
   "cell_type": "code",
   "execution_count": 22,
   "id": "0cf52628",
   "metadata": {},
   "outputs": [
    {
     "data": {
      "text/plain": [
       "{2, 4, 5, 9, 10, 50}"
      ]
     },
     "execution_count": 22,
     "metadata": {},
     "output_type": "execute_result"
    }
   ],
   "source": [
    "s1 = {10,5,4,9,2,4}\n",
    "s1.add(50)\n",
    "s1"
   ]
  },
  {
   "cell_type": "markdown",
   "id": "d0079c4d",
   "metadata": {},
   "source": [
    "## 2. update()"
   ]
  },
  {
   "cell_type": "code",
   "execution_count": null,
   "id": "fa89d77a",
   "metadata": {},
   "outputs": [],
   "source": [
    "Used to join two sets"
   ]
  },
  {
   "cell_type": "code",
   "execution_count": 23,
   "id": "c5ab68ca",
   "metadata": {},
   "outputs": [
    {
     "data": {
      "text/plain": [
       "{10, 20, 30, 100, 200, 300}"
      ]
     },
     "execution_count": 23,
     "metadata": {},
     "output_type": "execute_result"
    }
   ],
   "source": [
    "s1 = {10,20,30}\n",
    "s2 = {100,200,300}\n",
    "\n",
    "s1.update(s2)\n",
    "s1"
   ]
  },
  {
   "cell_type": "code",
   "execution_count": 24,
   "id": "a0604221",
   "metadata": {},
   "outputs": [
    {
     "name": "stdout",
     "output_type": "stream",
     "text": [
      "set1 : {'a', 4, 5, 'science', 7, 40, 8, 10, 9, 'b', ' data', 20, 30, 'python'} 14\n",
      "set2 : {'python', 7, 40, 8, 9, ' data', 30, 'science'} 8\n"
     ]
    }
   ],
   "source": [
    "s1 = {'a', 'b', 10,20,4,5}\n",
    "s2 = {'python',' data','science', 30,40,7,8,9}\n",
    "s1.update(s2)\n",
    "\n",
    "print('set1 :', s1, len(s1))\n",
    "print('set2 :', s2, len(s2))"
   ]
  },
  {
   "cell_type": "code",
   "execution_count": 25,
   "id": "3baf7823",
   "metadata": {},
   "outputs": [
    {
     "name": "stdout",
     "output_type": "stream",
     "text": [
      "set1 : {'a', 4, 5, 10, 'b', 20} 6\n",
      "set2 : {'a', 4, 'python', 5, 7, 40, 8, 9, ' data', 10, 'b', 20, 30, 'science'} 14\n"
     ]
    }
   ],
   "source": [
    "s1 = {'a', 'b', 10,20,4,5}\n",
    "s2 = {'python',' data','science', 30,40,7,8,9}\n",
    "s2.update(s1)\n",
    "\n",
    "print('set1 :', s1, len(s1))\n",
    "print('set2 :', s2, len(s2))"
   ]
  },
  {
   "cell_type": "code",
   "execution_count": 26,
   "id": "ed3a4bb3",
   "metadata": {},
   "outputs": [
    {
     "name": "stdout",
     "output_type": "stream",
     "text": [
      "var1 : {2, 3, 4, 5, 6, 7, 8}\n",
      "var2 : [5, 6, 7, 8]\n"
     ]
    }
   ],
   "source": [
    "var1 = {2,3,4,5} #set\n",
    "var2 = [5,6,7,8] #list\n",
    "\n",
    "var1.update(var2)\n",
    "print('var1 :', var1)\n",
    "print('var2 :', var2)"
   ]
  },
  {
   "cell_type": "code",
   "execution_count": 27,
   "id": "b585ecc6",
   "metadata": {},
   "outputs": [
    {
     "name": "stdout",
     "output_type": "stream",
     "text": [
      "var1 : {2, 3, 4, 5, 6, 7, 8}\n",
      "var2 : (5, 6, 7, 8)\n"
     ]
    }
   ],
   "source": [
    "var1 = {2,3,4,5} #set\n",
    "var2 = (5,6,7,8) #tuple\n",
    "\n",
    "var1.update(var2)\n",
    "print('var1 :', var1)\n",
    "print('var2 :', var2)"
   ]
  },
  {
   "cell_type": "code",
   "execution_count": 28,
   "id": "42b810ce",
   "metadata": {},
   "outputs": [
    {
     "ename": "AttributeError",
     "evalue": "'tuple' object has no attribute 'update'",
     "output_type": "error",
     "traceback": [
      "\u001b[1;31m---------------------------------------------------------------------------\u001b[0m",
      "\u001b[1;31mAttributeError\u001b[0m                            Traceback (most recent call last)",
      "\u001b[1;32m<ipython-input-28-4e6b0a78b9f3>\u001b[0m in \u001b[0;36m<module>\u001b[1;34m\u001b[0m\n\u001b[0;32m      2\u001b[0m \u001b[0mvar2\u001b[0m \u001b[1;33m=\u001b[0m \u001b[1;33m(\u001b[0m\u001b[1;36m5\u001b[0m\u001b[1;33m,\u001b[0m\u001b[1;36m6\u001b[0m\u001b[1;33m,\u001b[0m\u001b[1;36m7\u001b[0m\u001b[1;33m,\u001b[0m\u001b[1;36m8\u001b[0m\u001b[1;33m)\u001b[0m \u001b[1;31m#tuple\u001b[0m\u001b[1;33m\u001b[0m\u001b[1;33m\u001b[0m\u001b[0m\n\u001b[0;32m      3\u001b[0m \u001b[1;33m\u001b[0m\u001b[0m\n\u001b[1;32m----> 4\u001b[1;33m \u001b[0mvar2\u001b[0m\u001b[1;33m.\u001b[0m\u001b[0mupdate\u001b[0m\u001b[1;33m(\u001b[0m\u001b[0mvar1\u001b[0m\u001b[1;33m)\u001b[0m\u001b[1;33m\u001b[0m\u001b[1;33m\u001b[0m\u001b[0m\n\u001b[0m\u001b[0;32m      5\u001b[0m \u001b[0mprint\u001b[0m\u001b[1;33m(\u001b[0m\u001b[1;34m'var1 :'\u001b[0m\u001b[1;33m,\u001b[0m \u001b[0mvar1\u001b[0m\u001b[1;33m)\u001b[0m\u001b[1;33m\u001b[0m\u001b[1;33m\u001b[0m\u001b[0m\n\u001b[0;32m      6\u001b[0m \u001b[0mprint\u001b[0m\u001b[1;33m(\u001b[0m\u001b[1;34m'var2 :'\u001b[0m\u001b[1;33m,\u001b[0m \u001b[0mvar2\u001b[0m\u001b[1;33m)\u001b[0m\u001b[1;33m\u001b[0m\u001b[1;33m\u001b[0m\u001b[0m\n",
      "\u001b[1;31mAttributeError\u001b[0m: 'tuple' object has no attribute 'update'"
     ]
    }
   ],
   "source": [
    "var1 = {2,3,4,5} #set\n",
    "var2 = (5,6,7,8) #tuple\n",
    "\n",
    "var2.update(var1)\n",
    "print('var1 :', var1)\n",
    "print('var2 :', var2)"
   ]
  },
  {
   "cell_type": "code",
   "execution_count": 29,
   "id": "c1f6e2a9",
   "metadata": {},
   "outputs": [
    {
     "ename": "AttributeError",
     "evalue": "'list' object has no attribute 'update'",
     "output_type": "error",
     "traceback": [
      "\u001b[1;31m---------------------------------------------------------------------------\u001b[0m",
      "\u001b[1;31mAttributeError\u001b[0m                            Traceback (most recent call last)",
      "\u001b[1;32m<ipython-input-29-bc9c2a33fb49>\u001b[0m in \u001b[0;36m<module>\u001b[1;34m\u001b[0m\n\u001b[0;32m      2\u001b[0m \u001b[0mvar2\u001b[0m \u001b[1;33m=\u001b[0m \u001b[1;33m[\u001b[0m\u001b[1;36m5\u001b[0m\u001b[1;33m,\u001b[0m\u001b[1;36m6\u001b[0m\u001b[1;33m,\u001b[0m\u001b[1;36m7\u001b[0m\u001b[1;33m,\u001b[0m\u001b[1;36m8\u001b[0m\u001b[1;33m]\u001b[0m \u001b[1;31m#list\u001b[0m\u001b[1;33m\u001b[0m\u001b[1;33m\u001b[0m\u001b[0m\n\u001b[0;32m      3\u001b[0m \u001b[1;33m\u001b[0m\u001b[0m\n\u001b[1;32m----> 4\u001b[1;33m \u001b[0mvar2\u001b[0m\u001b[1;33m.\u001b[0m\u001b[0mupdate\u001b[0m\u001b[1;33m(\u001b[0m\u001b[0mvar1\u001b[0m\u001b[1;33m)\u001b[0m\u001b[1;33m\u001b[0m\u001b[1;33m\u001b[0m\u001b[0m\n\u001b[0m\u001b[0;32m      5\u001b[0m \u001b[0mprint\u001b[0m\u001b[1;33m(\u001b[0m\u001b[1;34m'var1 :'\u001b[0m\u001b[1;33m,\u001b[0m \u001b[0mvar1\u001b[0m\u001b[1;33m)\u001b[0m\u001b[1;33m\u001b[0m\u001b[1;33m\u001b[0m\u001b[0m\n\u001b[0;32m      6\u001b[0m \u001b[0mprint\u001b[0m\u001b[1;33m(\u001b[0m\u001b[1;34m'var2 :'\u001b[0m\u001b[1;33m,\u001b[0m \u001b[0mvar2\u001b[0m\u001b[1;33m)\u001b[0m\u001b[1;33m\u001b[0m\u001b[1;33m\u001b[0m\u001b[0m\n",
      "\u001b[1;31mAttributeError\u001b[0m: 'list' object has no attribute 'update'"
     ]
    }
   ],
   "source": [
    "var1 = {2,3,4,5} #set\n",
    "var2 = [5,6,7,8] #list\n",
    "\n",
    "var2.update(var1)\n",
    "print('var1 :', var1)\n",
    "print('var2 :', var2)"
   ]
  },
  {
   "cell_type": "markdown",
   "id": "9ee8e302",
   "metadata": {},
   "source": [
    "## 3. union()"
   ]
  },
  {
   "cell_type": "code",
   "execution_count": 31,
   "id": "22e7e06f",
   "metadata": {},
   "outputs": [
    {
     "name": "stdout",
     "output_type": "stream",
     "text": [
      "{2, 3, 4, 5, 6}\n"
     ]
    }
   ],
   "source": [
    "s1 = {2,3,4,5,6}\n",
    "s2 = {4,5,6,7,8,9}\n",
    "\n",
    "s1.union(s2)\n",
    "\n",
    "print(s1)"
   ]
  },
  {
   "cell_type": "code",
   "execution_count": 32,
   "id": "b1f308bf",
   "metadata": {},
   "outputs": [
    {
     "name": "stdout",
     "output_type": "stream",
     "text": [
      "s1 : {2, 3, 4, 5, 6}\n",
      "s2 : {4, 5, 6, 7, 8, 9}\n",
      "s3 : {2, 3, 4, 5, 6, 7, 8, 9}\n"
     ]
    }
   ],
   "source": [
    "s1 = {2,3,4,5,6}\n",
    "s2 = {4,5,6,7,8,9}\n",
    "\n",
    "s3 = s1.union(s2)\n",
    "\n",
    "print('s1 :', s1)\n",
    "print('s2 :', s2)\n",
    "print('s3 :', s3)"
   ]
  },
  {
   "cell_type": "code",
   "execution_count": 33,
   "id": "216d6a0d",
   "metadata": {},
   "outputs": [
    {
     "name": "stdout",
     "output_type": "stream",
     "text": [
      "s1 : {2, 3, 4, 5, 6}\n",
      "s2 : {4, 5, 6, 7, 8, 9}\n",
      "s3 : {40, 10, 50, 20, 30}\n",
      "s4 : {2, 3, 4, 5, 6, 7, 8, 9, 40, 10, 50, 20, 30}\n"
     ]
    }
   ],
   "source": [
    "s1 = {2,3,4,5,6}\n",
    "s2 = {4,5,6,7,8,9}\n",
    "s3 = {10,20,30,40,50}\n",
    "\n",
    "s4 = s1.union(s2,s3)\n",
    "\n",
    "print('s1 :', s1)\n",
    "print('s2 :', s2)\n",
    "print('s3 :', s3)\n",
    "print('s4 :', s4)"
   ]
  },
  {
   "cell_type": "code",
   "execution_count": 34,
   "id": "e71f84d2",
   "metadata": {},
   "outputs": [
    {
     "name": "stdout",
     "output_type": "stream",
     "text": [
      "s1 : {2, 3, 4, 5, 6}\n",
      "s2 : {4, 5, 6, 7, 8, 9}\n",
      "s3 : {40, 10, 50, 20, 30}\n",
      "s4 : {2, 3, 4, 5, 6, 7, 8, 9, 40, 10, 50, 20, 30}\n"
     ]
    }
   ],
   "source": [
    "s1 = {2,3,4,5,6}\n",
    "s2 = {4,5,6,7,8,9}\n",
    "s3 = {10,20,30,40,50}\n",
    "\n",
    "s4 = s2.union(s1,s3)\n",
    "\n",
    "print('s1 :', s1)\n",
    "print('s2 :', s2)\n",
    "print('s3 :', s3)\n",
    "print('s4 :', s4)"
   ]
  },
  {
   "cell_type": "code",
   "execution_count": 35,
   "id": "24f40fb9",
   "metadata": {},
   "outputs": [
    {
     "name": "stdout",
     "output_type": "stream",
     "text": [
      "s1 : {2, 3, 4, 5, 6}\n",
      "s2 : {4, 5, 6, 7, 8, 9}\n",
      "s3 : {40, 10, 50, 20, 30}\n",
      "s4 : {2, 3, 4, 5, 6, 7, 8, 9}\n"
     ]
    }
   ],
   "source": [
    "s1 = {2,3,4,5,6}\n",
    "s2 = {4,5,6,7,8,9}\n",
    "s3 = {10,20,30,40,50}\n",
    "\n",
    "s4 = s2.union(s1,s2)\n",
    "\n",
    "print('s1 :', s1)\n",
    "print('s2 :', s2)\n",
    "print('s3 :', s3)\n",
    "print('s4 :', s4)"
   ]
  },
  {
   "cell_type": "code",
   "execution_count": 36,
   "id": "b1bc2e84",
   "metadata": {},
   "outputs": [
    {
     "name": "stdout",
     "output_type": "stream",
     "text": [
      "s1 : {2, 3, 4, 5, 6}\n",
      "s2 : [4, 5, 6, 7, 8, 9]\n",
      "s3 : (10, 20, 30, 40, 50)\n",
      "s4 : {2, 3, 4, 5, 6, 7, 8, 9, 10, 20, 30, 40, 50}\n"
     ]
    }
   ],
   "source": [
    "s1 = {2,3,4,5,6}\n",
    "s2 = [4,5,6,7,8,9]\n",
    "s3 = (10,20,30,40,50)\n",
    "\n",
    "s4 = s1.union(s2,s3)\n",
    "\n",
    "print('s1 :', s1)\n",
    "print('s2 :', s2)\n",
    "print('s3 :', s3)\n",
    "print('s4 :', s4)"
   ]
  },
  {
   "cell_type": "code",
   "execution_count": 37,
   "id": "c10ff922",
   "metadata": {},
   "outputs": [
    {
     "ename": "AttributeError",
     "evalue": "'list' object has no attribute 'union'",
     "output_type": "error",
     "traceback": [
      "\u001b[1;31m---------------------------------------------------------------------------\u001b[0m",
      "\u001b[1;31mAttributeError\u001b[0m                            Traceback (most recent call last)",
      "\u001b[1;32m<ipython-input-37-951d49ea2b64>\u001b[0m in \u001b[0;36m<module>\u001b[1;34m\u001b[0m\n\u001b[0;32m      3\u001b[0m \u001b[0ms3\u001b[0m \u001b[1;33m=\u001b[0m \u001b[1;33m(\u001b[0m\u001b[1;36m10\u001b[0m\u001b[1;33m,\u001b[0m\u001b[1;36m20\u001b[0m\u001b[1;33m,\u001b[0m\u001b[1;36m30\u001b[0m\u001b[1;33m,\u001b[0m\u001b[1;36m40\u001b[0m\u001b[1;33m,\u001b[0m\u001b[1;36m50\u001b[0m\u001b[1;33m)\u001b[0m\u001b[1;33m\u001b[0m\u001b[1;33m\u001b[0m\u001b[0m\n\u001b[0;32m      4\u001b[0m \u001b[1;33m\u001b[0m\u001b[0m\n\u001b[1;32m----> 5\u001b[1;33m \u001b[0ms4\u001b[0m \u001b[1;33m=\u001b[0m \u001b[0ms2\u001b[0m\u001b[1;33m.\u001b[0m\u001b[0munion\u001b[0m\u001b[1;33m(\u001b[0m\u001b[0ms1\u001b[0m\u001b[1;33m,\u001b[0m\u001b[0ms3\u001b[0m\u001b[1;33m)\u001b[0m\u001b[1;33m\u001b[0m\u001b[1;33m\u001b[0m\u001b[0m\n\u001b[0m\u001b[0;32m      6\u001b[0m \u001b[1;33m\u001b[0m\u001b[0m\n\u001b[0;32m      7\u001b[0m \u001b[0mprint\u001b[0m\u001b[1;33m(\u001b[0m\u001b[1;34m's1 :'\u001b[0m\u001b[1;33m,\u001b[0m \u001b[0ms1\u001b[0m\u001b[1;33m)\u001b[0m\u001b[1;33m\u001b[0m\u001b[1;33m\u001b[0m\u001b[0m\n",
      "\u001b[1;31mAttributeError\u001b[0m: 'list' object has no attribute 'union'"
     ]
    }
   ],
   "source": [
    "s1 = {2,3,4,5,6}\n",
    "s2 = [4,5,6,7,8,9]\n",
    "s3 = (10,20,30,40,50)\n",
    "\n",
    "s4 = s2.union(s1,s3)\n",
    "\n",
    "print('s1 :', s1)\n",
    "print('s2 :', s2)\n",
    "print('s3 :', s3)\n",
    "print('s4 :', s4)"
   ]
  },
  {
   "cell_type": "code",
   "execution_count": 38,
   "id": "df56768f",
   "metadata": {},
   "outputs": [
    {
     "ename": "AttributeError",
     "evalue": "'tuple' object has no attribute 'union'",
     "output_type": "error",
     "traceback": [
      "\u001b[1;31m---------------------------------------------------------------------------\u001b[0m",
      "\u001b[1;31mAttributeError\u001b[0m                            Traceback (most recent call last)",
      "\u001b[1;32m<ipython-input-38-a14ee82fb508>\u001b[0m in \u001b[0;36m<module>\u001b[1;34m\u001b[0m\n\u001b[0;32m      3\u001b[0m \u001b[0ms3\u001b[0m \u001b[1;33m=\u001b[0m \u001b[1;33m(\u001b[0m\u001b[1;36m10\u001b[0m\u001b[1;33m,\u001b[0m\u001b[1;36m20\u001b[0m\u001b[1;33m,\u001b[0m\u001b[1;36m30\u001b[0m\u001b[1;33m,\u001b[0m\u001b[1;36m40\u001b[0m\u001b[1;33m,\u001b[0m\u001b[1;36m50\u001b[0m\u001b[1;33m)\u001b[0m\u001b[1;33m\u001b[0m\u001b[1;33m\u001b[0m\u001b[0m\n\u001b[0;32m      4\u001b[0m \u001b[1;33m\u001b[0m\u001b[0m\n\u001b[1;32m----> 5\u001b[1;33m \u001b[0ms4\u001b[0m \u001b[1;33m=\u001b[0m \u001b[0ms3\u001b[0m\u001b[1;33m.\u001b[0m\u001b[0munion\u001b[0m\u001b[1;33m(\u001b[0m\u001b[0ms1\u001b[0m\u001b[1;33m,\u001b[0m\u001b[0ms2\u001b[0m\u001b[1;33m)\u001b[0m\u001b[1;33m\u001b[0m\u001b[1;33m\u001b[0m\u001b[0m\n\u001b[0m\u001b[0;32m      6\u001b[0m \u001b[1;33m\u001b[0m\u001b[0m\n\u001b[0;32m      7\u001b[0m \u001b[0mprint\u001b[0m\u001b[1;33m(\u001b[0m\u001b[1;34m's1 :'\u001b[0m\u001b[1;33m,\u001b[0m \u001b[0ms1\u001b[0m\u001b[1;33m)\u001b[0m\u001b[1;33m\u001b[0m\u001b[1;33m\u001b[0m\u001b[0m\n",
      "\u001b[1;31mAttributeError\u001b[0m: 'tuple' object has no attribute 'union'"
     ]
    }
   ],
   "source": [
    "s1 = {2,3,4,5,6}\n",
    "s2 = [4,5,6,7,8,9]\n",
    "s3 = (10,20,30,40,50)\n",
    "\n",
    "s4 = s3.union(s1,s2)\n",
    "\n",
    "print('s1 :', s1)\n",
    "print('s2 :', s2)\n",
    "print('s3 :', s3)\n",
    "print('s4 :', s4)"
   ]
  },
  {
   "cell_type": "markdown",
   "id": "3f5667ab",
   "metadata": {},
   "source": [
    "# Delete items from set"
   ]
  },
  {
   "cell_type": "code",
   "execution_count": null,
   "id": "da33670f",
   "metadata": {},
   "outputs": [],
   "source": [
    "1. remove()\n",
    "2. discard()\n",
    "3. pop()\n",
    "4. clear()"
   ]
  },
  {
   "cell_type": "markdown",
   "id": "4fae26b2",
   "metadata": {},
   "source": [
    "## 1. remove()"
   ]
  },
  {
   "cell_type": "code",
   "execution_count": null,
   "id": "0509cb3f",
   "metadata": {},
   "outputs": [],
   "source": [
    "set1.remove(item)"
   ]
  },
  {
   "cell_type": "code",
   "execution_count": 39,
   "id": "f77238d1",
   "metadata": {},
   "outputs": [
    {
     "data": {
      "text/plain": [
       "{'bio', 'eng', 'math', 'phy'}"
      ]
     },
     "execution_count": 39,
     "metadata": {},
     "output_type": "execute_result"
    }
   ],
   "source": [
    "s1 = {'phy', 'che', 'math', 'eng', 'bio'}\n",
    "s1.remove('che')\n",
    "s1"
   ]
  },
  {
   "cell_type": "code",
   "execution_count": 111,
   "id": "ce839afd",
   "metadata": {},
   "outputs": [
    {
     "ename": "AttributeError",
     "evalue": "'NoneType' object has no attribute 'remove'",
     "output_type": "error",
     "traceback": [
      "\u001b[1;31m---------------------------------------------------------------------------\u001b[0m",
      "\u001b[1;31mAttributeError\u001b[0m                            Traceback (most recent call last)",
      "\u001b[1;32m<ipython-input-111-78104d58b52f>\u001b[0m in \u001b[0;36m<module>\u001b[1;34m\u001b[0m\n\u001b[0;32m      1\u001b[0m \u001b[0ms1\u001b[0m \u001b[1;33m=\u001b[0m \u001b[1;33m{\u001b[0m\u001b[1;34m'phy'\u001b[0m\u001b[1;33m,\u001b[0m \u001b[1;34m'che'\u001b[0m\u001b[1;33m,\u001b[0m \u001b[1;34m'math'\u001b[0m\u001b[1;33m,\u001b[0m \u001b[1;34m'eng'\u001b[0m\u001b[1;33m,\u001b[0m \u001b[1;34m'bio'\u001b[0m\u001b[1;33m}\u001b[0m\u001b[1;33m\u001b[0m\u001b[1;33m\u001b[0m\u001b[0m\n\u001b[1;32m----> 2\u001b[1;33m \u001b[0ms1\u001b[0m\u001b[1;33m.\u001b[0m\u001b[0mremove\u001b[0m\u001b[1;33m(\u001b[0m\u001b[1;34m'che'\u001b[0m\u001b[1;33m)\u001b[0m\u001b[1;33m.\u001b[0m\u001b[0mremove\u001b[0m\u001b[1;33m(\u001b[0m\u001b[1;34m'math'\u001b[0m\u001b[1;33m)\u001b[0m\u001b[1;33m\u001b[0m\u001b[1;33m\u001b[0m\u001b[0m\n\u001b[0m\u001b[0;32m      3\u001b[0m \u001b[0ms1\u001b[0m\u001b[1;33m\u001b[0m\u001b[1;33m\u001b[0m\u001b[0m\n",
      "\u001b[1;31mAttributeError\u001b[0m: 'NoneType' object has no attribute 'remove'"
     ]
    }
   ],
   "source": [
    "s1 = {'phy', 'che', 'math', 'eng', 'bio'}\n",
    "s1.remove('che').remove('math')\n",
    "s1"
   ]
  },
  {
   "cell_type": "code",
   "execution_count": 40,
   "id": "cd9cd21f",
   "metadata": {},
   "outputs": [
    {
     "name": "stdout",
     "output_type": "stream",
     "text": [
      "{'eng', 'phy', 'math', 'bio', 'che'}\n"
     ]
    },
    {
     "data": {
      "text/plain": [
       "{'bio', 'eng', 'math', 'phy'}"
      ]
     },
     "execution_count": 40,
     "metadata": {},
     "output_type": "execute_result"
    }
   ],
   "source": [
    "s1 = {'phy', 'che', 'math', 'eng', 'bio'}\n",
    "print(s1)\n",
    "s1.remove('che')\n",
    "s1"
   ]
  },
  {
   "cell_type": "code",
   "execution_count": 41,
   "id": "8e1abfd2",
   "metadata": {},
   "outputs": [
    {
     "name": "stdout",
     "output_type": "stream",
     "text": [
      "{'eng', 'phy', 'math', 'bio', 'che'}\n"
     ]
    },
    {
     "data": {
      "text/plain": [
       "{'bio', 'eng', 'math', 'phy'}"
      ]
     },
     "execution_count": 41,
     "metadata": {},
     "output_type": "execute_result"
    }
   ],
   "source": [
    "s1 = {'phy', 'che', 'math', 'eng', 'bio', 'che','math'}\n",
    "print(s1)\n",
    "s1.remove('che')\n",
    "s1"
   ]
  },
  {
   "cell_type": "code",
   "execution_count": 43,
   "id": "391c5910",
   "metadata": {},
   "outputs": [
    {
     "data": {
      "text/plain": [
       "{10, 20, 30, 40}"
      ]
     },
     "execution_count": 43,
     "metadata": {},
     "output_type": "execute_result"
    }
   ],
   "source": [
    "s1 = {10,20,50,10,20,30,40}\n",
    "s1.remove(50)\n",
    "s1"
   ]
  },
  {
   "cell_type": "code",
   "execution_count": 44,
   "id": "3086043e",
   "metadata": {},
   "outputs": [
    {
     "name": "stdout",
     "output_type": "stream",
     "text": [
      "{'eng', 'phy', 'math', 'bio', 'che'}\n"
     ]
    },
    {
     "ename": "KeyError",
     "evalue": "'Che'",
     "output_type": "error",
     "traceback": [
      "\u001b[1;31m---------------------------------------------------------------------------\u001b[0m",
      "\u001b[1;31mKeyError\u001b[0m                                  Traceback (most recent call last)",
      "\u001b[1;32m<ipython-input-44-4855daa30422>\u001b[0m in \u001b[0;36m<module>\u001b[1;34m\u001b[0m\n\u001b[0;32m      1\u001b[0m \u001b[0ms1\u001b[0m \u001b[1;33m=\u001b[0m \u001b[1;33m{\u001b[0m\u001b[1;34m'phy'\u001b[0m\u001b[1;33m,\u001b[0m \u001b[1;34m'che'\u001b[0m\u001b[1;33m,\u001b[0m \u001b[1;34m'math'\u001b[0m\u001b[1;33m,\u001b[0m \u001b[1;34m'eng'\u001b[0m\u001b[1;33m,\u001b[0m \u001b[1;34m'bio'\u001b[0m\u001b[1;33m,\u001b[0m \u001b[1;34m'che'\u001b[0m\u001b[1;33m,\u001b[0m\u001b[1;34m'math'\u001b[0m\u001b[1;33m}\u001b[0m\u001b[1;33m\u001b[0m\u001b[1;33m\u001b[0m\u001b[0m\n\u001b[0;32m      2\u001b[0m \u001b[0mprint\u001b[0m\u001b[1;33m(\u001b[0m\u001b[0ms1\u001b[0m\u001b[1;33m)\u001b[0m\u001b[1;33m\u001b[0m\u001b[1;33m\u001b[0m\u001b[0m\n\u001b[1;32m----> 3\u001b[1;33m \u001b[0ms1\u001b[0m\u001b[1;33m.\u001b[0m\u001b[0mremove\u001b[0m\u001b[1;33m(\u001b[0m\u001b[1;34m'Che'\u001b[0m\u001b[1;33m)\u001b[0m\u001b[1;33m\u001b[0m\u001b[1;33m\u001b[0m\u001b[0m\n\u001b[0m\u001b[0;32m      4\u001b[0m \u001b[0ms1\u001b[0m\u001b[1;33m\u001b[0m\u001b[1;33m\u001b[0m\u001b[0m\n",
      "\u001b[1;31mKeyError\u001b[0m: 'Che'"
     ]
    }
   ],
   "source": [
    "s1 = {'phy', 'che', 'math', 'eng', 'bio', 'che','math'}\n",
    "print(s1)\n",
    "s1.remove('Che')\n",
    "s1"
   ]
  },
  {
   "cell_type": "code",
   "execution_count": 46,
   "id": "53005da6",
   "metadata": {},
   "outputs": [
    {
     "name": "stdout",
     "output_type": "stream",
     "text": [
      "Item not found\n"
     ]
    },
    {
     "data": {
      "text/plain": [
       "{'bio', 'che', 'eng', 'math', 'phy'}"
      ]
     },
     "execution_count": 46,
     "metadata": {},
     "output_type": "execute_result"
    }
   ],
   "source": [
    "s1 = {'phy', 'che', 'math', 'eng', 'bio', 'che','math'}\n",
    "sub = 'Che'\n",
    "if sub in s1:\n",
    "    s1.remove(sub())\n",
    "    print('Item Deleted')\n",
    "\n",
    "else:\n",
    "    print('Item not found')\n",
    "    \n",
    "s1"
   ]
  },
  {
   "cell_type": "code",
   "execution_count": 48,
   "id": "47f87d76",
   "metadata": {},
   "outputs": [
    {
     "name": "stdout",
     "output_type": "stream",
     "text": [
      "Item Deleted\n"
     ]
    },
    {
     "data": {
      "text/plain": [
       "{'bio', 'eng', 'math', 'phy'}"
      ]
     },
     "execution_count": 48,
     "metadata": {},
     "output_type": "execute_result"
    }
   ],
   "source": [
    "s1 = {'phy', 'che', 'math', 'eng', 'bio', 'che','math'}\n",
    "sub = 'che'\n",
    "if sub in s1:\n",
    "    s1.remove(sub)\n",
    "    print('Item Deleted')\n",
    "\n",
    "else:\n",
    "    print('Item not found')\n",
    "    \n",
    "s1"
   ]
  },
  {
   "cell_type": "markdown",
   "id": "60b27813",
   "metadata": {},
   "source": [
    "## 2. discard()"
   ]
  },
  {
   "cell_type": "code",
   "execution_count": 49,
   "id": "aa9a357f",
   "metadata": {},
   "outputs": [
    {
     "data": {
      "text/plain": [
       "{'bio', 'eng', 'math', 'phy'}"
      ]
     },
     "execution_count": 49,
     "metadata": {},
     "output_type": "execute_result"
    }
   ],
   "source": [
    "s1 = {'phy', 'che', 'math', 'eng', 'bio'}\n",
    "s1.discard('che')\n",
    "s1"
   ]
  },
  {
   "cell_type": "code",
   "execution_count": 50,
   "id": "e6831d66",
   "metadata": {},
   "outputs": [
    {
     "data": {
      "text/plain": [
       "{'bio', 'che', 'eng', 'math', 'phy'}"
      ]
     },
     "execution_count": 50,
     "metadata": {},
     "output_type": "execute_result"
    }
   ],
   "source": [
    "s1 = {'phy', 'che', 'math', 'eng', 'bio'}\n",
    "s1.discard('Che')\n",
    "s1"
   ]
  },
  {
   "cell_type": "code",
   "execution_count": 51,
   "id": "4853d2fb",
   "metadata": {},
   "outputs": [
    {
     "ename": "KeyError",
     "evalue": "'Che'",
     "output_type": "error",
     "traceback": [
      "\u001b[1;31m---------------------------------------------------------------------------\u001b[0m",
      "\u001b[1;31mKeyError\u001b[0m                                  Traceback (most recent call last)",
      "\u001b[1;32m<ipython-input-51-718f3ddaf2b8>\u001b[0m in \u001b[0;36m<module>\u001b[1;34m\u001b[0m\n\u001b[0;32m      1\u001b[0m \u001b[0ms1\u001b[0m \u001b[1;33m=\u001b[0m \u001b[1;33m{\u001b[0m\u001b[1;34m'phy'\u001b[0m\u001b[1;33m,\u001b[0m \u001b[1;34m'che'\u001b[0m\u001b[1;33m,\u001b[0m \u001b[1;34m'math'\u001b[0m\u001b[1;33m,\u001b[0m \u001b[1;34m'eng'\u001b[0m\u001b[1;33m,\u001b[0m \u001b[1;34m'bio'\u001b[0m\u001b[1;33m}\u001b[0m\u001b[1;33m\u001b[0m\u001b[1;33m\u001b[0m\u001b[0m\n\u001b[1;32m----> 2\u001b[1;33m \u001b[0ms1\u001b[0m\u001b[1;33m.\u001b[0m\u001b[0mremove\u001b[0m\u001b[1;33m(\u001b[0m\u001b[1;34m'Che'\u001b[0m\u001b[1;33m)\u001b[0m\u001b[1;33m\u001b[0m\u001b[1;33m\u001b[0m\u001b[0m\n\u001b[0m\u001b[0;32m      3\u001b[0m \u001b[0ms1\u001b[0m\u001b[1;33m\u001b[0m\u001b[1;33m\u001b[0m\u001b[0m\n",
      "\u001b[1;31mKeyError\u001b[0m: 'Che'"
     ]
    }
   ],
   "source": [
    "s1 = {'phy', 'che', 'math', 'eng', 'bio'}\n",
    "s1.remove('Che')\n",
    "s1"
   ]
  },
  {
   "cell_type": "code",
   "execution_count": 52,
   "id": "88376c36",
   "metadata": {},
   "outputs": [
    {
     "data": {
      "text/plain": [
       "{'bio', 'che', 'eng', 'math', 'phy'}"
      ]
     },
     "execution_count": 52,
     "metadata": {},
     "output_type": "execute_result"
    }
   ],
   "source": [
    "s1 = {'phy', 'che', 'math', 'eng', 'bio'}\n",
    "s1.discard('Che')\n",
    "s1"
   ]
  },
  {
   "cell_type": "code",
   "execution_count": 110,
   "id": "4015fbec",
   "metadata": {},
   "outputs": [
    {
     "ename": "TypeError",
     "evalue": "unhashable type: 'list'",
     "output_type": "error",
     "traceback": [
      "\u001b[1;31m---------------------------------------------------------------------------\u001b[0m",
      "\u001b[1;31mTypeError\u001b[0m                                 Traceback (most recent call last)",
      "\u001b[1;32m<ipython-input-110-725f3413f86b>\u001b[0m in \u001b[0;36m<module>\u001b[1;34m\u001b[0m\n\u001b[0;32m      1\u001b[0m \u001b[0ms1\u001b[0m \u001b[1;33m=\u001b[0m \u001b[1;33m{\u001b[0m\u001b[1;34m'phy'\u001b[0m\u001b[1;33m,\u001b[0m \u001b[1;34m'che'\u001b[0m\u001b[1;33m,\u001b[0m \u001b[1;34m'math'\u001b[0m\u001b[1;33m,\u001b[0m \u001b[1;34m'eng'\u001b[0m\u001b[1;33m,\u001b[0m \u001b[1;34m'bio'\u001b[0m\u001b[1;33m}\u001b[0m\u001b[1;33m\u001b[0m\u001b[1;33m\u001b[0m\u001b[0m\n\u001b[1;32m----> 2\u001b[1;33m \u001b[0ms1\u001b[0m\u001b[1;33m.\u001b[0m\u001b[0mdiscard\u001b[0m\u001b[1;33m(\u001b[0m\u001b[1;33m[\u001b[0m\u001b[1;34m'che'\u001b[0m\u001b[1;33m,\u001b[0m\u001b[1;34m'math'\u001b[0m\u001b[1;33m]\u001b[0m\u001b[1;33m)\u001b[0m\u001b[1;33m\u001b[0m\u001b[1;33m\u001b[0m\u001b[0m\n\u001b[0m\u001b[0;32m      3\u001b[0m \u001b[0ms1\u001b[0m\u001b[1;33m\u001b[0m\u001b[1;33m\u001b[0m\u001b[0m\n",
      "\u001b[1;31mTypeError\u001b[0m: unhashable type: 'list'"
     ]
    }
   ],
   "source": [
    "s1 = {'phy', 'che', 'math', 'eng', 'bio'}\n",
    "s1.discard(['che','math'])\n",
    "s1"
   ]
  },
  {
   "cell_type": "code",
   "execution_count": 53,
   "id": "c4992aea",
   "metadata": {},
   "outputs": [
    {
     "ename": "KeyError",
     "evalue": "500",
     "output_type": "error",
     "traceback": [
      "\u001b[1;31m---------------------------------------------------------------------------\u001b[0m",
      "\u001b[1;31mKeyError\u001b[0m                                  Traceback (most recent call last)",
      "\u001b[1;32m<ipython-input-53-d98d9087d6c1>\u001b[0m in \u001b[0;36m<module>\u001b[1;34m\u001b[0m\n\u001b[0;32m      1\u001b[0m \u001b[0ms1\u001b[0m \u001b[1;33m=\u001b[0m \u001b[1;33m{\u001b[0m\u001b[1;36m10\u001b[0m\u001b[1;33m,\u001b[0m\u001b[1;36m20\u001b[0m\u001b[1;33m,\u001b[0m\u001b[1;36m50\u001b[0m\u001b[1;33m,\u001b[0m\u001b[1;36m10\u001b[0m\u001b[1;33m,\u001b[0m\u001b[1;36m20\u001b[0m\u001b[1;33m,\u001b[0m\u001b[1;36m30\u001b[0m\u001b[1;33m,\u001b[0m\u001b[1;36m40\u001b[0m\u001b[1;33m}\u001b[0m\u001b[1;33m\u001b[0m\u001b[1;33m\u001b[0m\u001b[0m\n\u001b[1;32m----> 2\u001b[1;33m \u001b[0ms1\u001b[0m\u001b[1;33m.\u001b[0m\u001b[0mremove\u001b[0m\u001b[1;33m(\u001b[0m\u001b[1;36m500\u001b[0m\u001b[1;33m)\u001b[0m\u001b[1;33m\u001b[0m\u001b[1;33m\u001b[0m\u001b[0m\n\u001b[0m\u001b[0;32m      3\u001b[0m \u001b[0ms1\u001b[0m\u001b[1;33m\u001b[0m\u001b[1;33m\u001b[0m\u001b[0m\n",
      "\u001b[1;31mKeyError\u001b[0m: 500"
     ]
    }
   ],
   "source": [
    "s1 = {10,20,50,10,20,30,40}\n",
    "s1.remove(500)\n",
    "s1"
   ]
  },
  {
   "cell_type": "code",
   "execution_count": 54,
   "id": "58d0a359",
   "metadata": {},
   "outputs": [
    {
     "data": {
      "text/plain": [
       "{10, 20, 30, 40, 50}"
      ]
     },
     "execution_count": 54,
     "metadata": {},
     "output_type": "execute_result"
    }
   ],
   "source": [
    "s1 = {10,20,50,10,20,30,40}\n",
    "s1.discard(500)\n",
    "s1"
   ]
  },
  {
   "cell_type": "code",
   "execution_count": 55,
   "id": "acd27f39",
   "metadata": {},
   "outputs": [
    {
     "data": {
      "text/plain": [
       "{10, 20, 30, 40}"
      ]
     },
     "execution_count": 55,
     "metadata": {},
     "output_type": "execute_result"
    }
   ],
   "source": [
    "s1 = {10,20,50,10,20,30,40}\n",
    "s1.discard(50)\n",
    "s1"
   ]
  },
  {
   "cell_type": "markdown",
   "id": "7ac0217c",
   "metadata": {},
   "source": [
    "## 3. pop()"
   ]
  },
  {
   "cell_type": "code",
   "execution_count": null,
   "id": "835bfffc",
   "metadata": {},
   "outputs": [],
   "source": [
    "It wil delete random item from set"
   ]
  },
  {
   "cell_type": "code",
   "execution_count": 56,
   "id": "0eb2095c",
   "metadata": {},
   "outputs": [
    {
     "data": {
      "text/plain": [
       "[3, 4, 5, 6, 7]"
      ]
     },
     "execution_count": 56,
     "metadata": {},
     "output_type": "execute_result"
    }
   ],
   "source": [
    "list1 = [3,4,5,6,7,8]\n",
    "list1.pop()\n",
    "list1"
   ]
  },
  {
   "cell_type": "code",
   "execution_count": 57,
   "id": "4934cd6e",
   "metadata": {},
   "outputs": [
    {
     "data": {
      "text/plain": [
       "[3, 4, 6, 7, 8]"
      ]
     },
     "execution_count": 57,
     "metadata": {},
     "output_type": "execute_result"
    }
   ],
   "source": [
    "list1 = [3,4,5,6,7,8]\n",
    "list1.pop(2)\n",
    "list1"
   ]
  },
  {
   "cell_type": "code",
   "execution_count": 58,
   "id": "8cbb1fb0",
   "metadata": {},
   "outputs": [
    {
     "ename": "TypeError",
     "evalue": "pop() takes no arguments (1 given)",
     "output_type": "error",
     "traceback": [
      "\u001b[1;31m---------------------------------------------------------------------------\u001b[0m",
      "\u001b[1;31mTypeError\u001b[0m                                 Traceback (most recent call last)",
      "\u001b[1;32m<ipython-input-58-4d640999dd6a>\u001b[0m in \u001b[0;36m<module>\u001b[1;34m\u001b[0m\n\u001b[0;32m      1\u001b[0m \u001b[0ms1\u001b[0m \u001b[1;33m=\u001b[0m \u001b[1;33m{\u001b[0m\u001b[1;36m2\u001b[0m\u001b[1;33m,\u001b[0m\u001b[1;36m3\u001b[0m\u001b[1;33m,\u001b[0m\u001b[1;36m4\u001b[0m\u001b[1;33m,\u001b[0m\u001b[1;36m5\u001b[0m\u001b[1;33m}\u001b[0m\u001b[1;33m\u001b[0m\u001b[1;33m\u001b[0m\u001b[0m\n\u001b[1;32m----> 2\u001b[1;33m \u001b[0ms1\u001b[0m\u001b[1;33m.\u001b[0m\u001b[0mpop\u001b[0m\u001b[1;33m(\u001b[0m\u001b[1;36m2\u001b[0m\u001b[1;33m)\u001b[0m\u001b[1;33m\u001b[0m\u001b[1;33m\u001b[0m\u001b[0m\n\u001b[0m\u001b[0;32m      3\u001b[0m \u001b[0ms1\u001b[0m\u001b[1;33m\u001b[0m\u001b[1;33m\u001b[0m\u001b[0m\n",
      "\u001b[1;31mTypeError\u001b[0m: pop() takes no arguments (1 given)"
     ]
    }
   ],
   "source": [
    "s1 = {2,3,4,5}\n",
    "s1.pop(2)\n",
    "s1"
   ]
  },
  {
   "cell_type": "code",
   "execution_count": 59,
   "id": "1dd2f29b",
   "metadata": {},
   "outputs": [
    {
     "data": {
      "text/plain": [
       "{3, 4, 5}"
      ]
     },
     "execution_count": 59,
     "metadata": {},
     "output_type": "execute_result"
    }
   ],
   "source": [
    "s1 = {2,3,4,5}\n",
    "s1.pop()\n",
    "s1"
   ]
  },
  {
   "cell_type": "code",
   "execution_count": 60,
   "id": "44f25dcb",
   "metadata": {},
   "outputs": [
    {
     "data": {
      "text/plain": [
       "{3, 4, 5, 5.9, 10, 99}"
      ]
     },
     "execution_count": 60,
     "metadata": {},
     "output_type": "execute_result"
    }
   ],
   "source": [
    "s1 = {2,3,99,5.9,10,4,5}\n",
    "s1.pop()\n",
    "s1"
   ]
  },
  {
   "cell_type": "markdown",
   "id": "518bbbad",
   "metadata": {},
   "source": [
    "## 4. clear()"
   ]
  },
  {
   "cell_type": "code",
   "execution_count": null,
   "id": "b1a38c0c",
   "metadata": {},
   "outputs": [],
   "source": [
    "Used to remove all the items from the set\n",
    "return >> set()"
   ]
  },
  {
   "cell_type": "code",
   "execution_count": 61,
   "id": "27c62003",
   "metadata": {},
   "outputs": [
    {
     "data": {
      "text/plain": [
       "set()"
      ]
     },
     "execution_count": 61,
     "metadata": {},
     "output_type": "execute_result"
    }
   ],
   "source": [
    "s1 = {2,3,99,5.9,10,4,5}\n",
    "s1.clear()\n",
    "s1"
   ]
  },
  {
   "cell_type": "markdown",
   "id": "da2f387a",
   "metadata": {},
   "source": [
    "## 5. del"
   ]
  },
  {
   "cell_type": "code",
   "execution_count": 62,
   "id": "65d3337d",
   "metadata": {},
   "outputs": [
    {
     "data": {
      "text/plain": [
       "[2, 3, 4, 5]"
      ]
     },
     "execution_count": 62,
     "metadata": {},
     "output_type": "execute_result"
    }
   ],
   "source": [
    "l1 = [1,2,3,4,5]\n",
    "del l1[0]\n",
    "l1"
   ]
  },
  {
   "cell_type": "code",
   "execution_count": 63,
   "id": "2735ba67",
   "metadata": {},
   "outputs": [
    {
     "ename": "TypeError",
     "evalue": "'set' object doesn't support item deletion",
     "output_type": "error",
     "traceback": [
      "\u001b[1;31m---------------------------------------------------------------------------\u001b[0m",
      "\u001b[1;31mTypeError\u001b[0m                                 Traceback (most recent call last)",
      "\u001b[1;32m<ipython-input-63-519cd6fb9182>\u001b[0m in \u001b[0;36m<module>\u001b[1;34m\u001b[0m\n\u001b[0;32m      1\u001b[0m \u001b[0ms1\u001b[0m \u001b[1;33m=\u001b[0m \u001b[1;33m{\u001b[0m\u001b[1;36m1\u001b[0m\u001b[1;33m,\u001b[0m\u001b[1;36m23\u001b[0m\u001b[1;33m,\u001b[0m\u001b[1;36m4\u001b[0m\u001b[1;33m,\u001b[0m\u001b[1;36m5\u001b[0m\u001b[1;33m,\u001b[0m\u001b[1;36m6\u001b[0m\u001b[1;33m}\u001b[0m\u001b[1;33m\u001b[0m\u001b[1;33m\u001b[0m\u001b[0m\n\u001b[1;32m----> 2\u001b[1;33m \u001b[1;32mdel\u001b[0m \u001b[0ms1\u001b[0m\u001b[1;33m[\u001b[0m\u001b[1;36m0\u001b[0m\u001b[1;33m]\u001b[0m\u001b[1;33m\u001b[0m\u001b[1;33m\u001b[0m\u001b[0m\n\u001b[0m\u001b[0;32m      3\u001b[0m \u001b[0ms1\u001b[0m\u001b[1;33m\u001b[0m\u001b[1;33m\u001b[0m\u001b[0m\n",
      "\u001b[1;31mTypeError\u001b[0m: 'set' object doesn't support item deletion"
     ]
    }
   ],
   "source": [
    "s1 = {1,23,4,5,6}\n",
    "del s1[0]\n",
    "s1"
   ]
  },
  {
   "cell_type": "code",
   "execution_count": 64,
   "id": "a60999fc",
   "metadata": {},
   "outputs": [
    {
     "ename": "NameError",
     "evalue": "name 's1' is not defined",
     "output_type": "error",
     "traceback": [
      "\u001b[1;31m---------------------------------------------------------------------------\u001b[0m",
      "\u001b[1;31mNameError\u001b[0m                                 Traceback (most recent call last)",
      "\u001b[1;32m<ipython-input-64-fb7347597f55>\u001b[0m in \u001b[0;36m<module>\u001b[1;34m\u001b[0m\n\u001b[0;32m      1\u001b[0m \u001b[0ms1\u001b[0m \u001b[1;33m=\u001b[0m \u001b[1;33m{\u001b[0m\u001b[1;36m1\u001b[0m\u001b[1;33m,\u001b[0m\u001b[1;36m23\u001b[0m\u001b[1;33m,\u001b[0m\u001b[1;36m4\u001b[0m\u001b[1;33m,\u001b[0m\u001b[1;36m5\u001b[0m\u001b[1;33m,\u001b[0m\u001b[1;36m6\u001b[0m\u001b[1;33m}\u001b[0m\u001b[1;33m\u001b[0m\u001b[1;33m\u001b[0m\u001b[0m\n\u001b[0;32m      2\u001b[0m \u001b[1;32mdel\u001b[0m \u001b[0ms1\u001b[0m\u001b[1;33m\u001b[0m\u001b[1;33m\u001b[0m\u001b[0m\n\u001b[1;32m----> 3\u001b[1;33m \u001b[0ms1\u001b[0m\u001b[1;33m\u001b[0m\u001b[1;33m\u001b[0m\u001b[0m\n\u001b[0m",
      "\u001b[1;31mNameError\u001b[0m: name 's1' is not defined"
     ]
    }
   ],
   "source": [
    "s1 = {1,23,4,5,6}\n",
    "del s1\n",
    "s1"
   ]
  },
  {
   "cell_type": "code",
   "execution_count": 67,
   "id": "40439072",
   "metadata": {},
   "outputs": [],
   "source": [
    "s1 = {1,23,4,5,6}\n",
    "\n",
    "del s1"
   ]
  },
  {
   "cell_type": "code",
   "execution_count": 68,
   "id": "42b11339",
   "metadata": {},
   "outputs": [
    {
     "ename": "NameError",
     "evalue": "name 's1' is not defined",
     "output_type": "error",
     "traceback": [
      "\u001b[1;31m---------------------------------------------------------------------------\u001b[0m",
      "\u001b[1;31mNameError\u001b[0m                                 Traceback (most recent call last)",
      "\u001b[1;32m<ipython-input-68-d0257f733e5e>\u001b[0m in \u001b[0;36m<module>\u001b[1;34m\u001b[0m\n\u001b[1;32m----> 1\u001b[1;33m \u001b[0ms1\u001b[0m\u001b[1;33m\u001b[0m\u001b[1;33m\u001b[0m\u001b[0m\n\u001b[0m",
      "\u001b[1;31mNameError\u001b[0m: name 's1' is not defined"
     ]
    }
   ],
   "source": [
    "s1"
   ]
  },
  {
   "cell_type": "markdown",
   "id": "ed788f76",
   "metadata": {},
   "source": [
    "## Other set Functions"
   ]
  },
  {
   "cell_type": "markdown",
   "id": "2d269327",
   "metadata": {},
   "source": [
    "## 1. intersection"
   ]
  },
  {
   "cell_type": "code",
   "execution_count": 69,
   "id": "bc6cd5ba",
   "metadata": {},
   "outputs": [
    {
     "name": "stdout",
     "output_type": "stream",
     "text": [
      "{5, 6}\n"
     ]
    }
   ],
   "source": [
    "s1 = {2,3,4,5,6}\n",
    "s2 = {5,6,7,8,9}\n",
    "\n",
    "s3 = set()\n",
    "\n",
    "for i in s1:\n",
    "    if i in s2:\n",
    "        s3.add(i)\n",
    "        \n",
    "print(s3)"
   ]
  },
  {
   "cell_type": "code",
   "execution_count": 72,
   "id": "a902cad6",
   "metadata": {},
   "outputs": [
    {
     "data": {
      "text/plain": [
       "{5, 6}"
      ]
     },
     "execution_count": 72,
     "metadata": {},
     "output_type": "execute_result"
    }
   ],
   "source": [
    "s1 = {2,3,4,5,6}\n",
    "s2 = {5,6,7,8,9}\n",
    "\n",
    "s1.intersection(s2)\n",
    "\n"
   ]
  },
  {
   "cell_type": "code",
   "execution_count": 1,
   "id": "12359952",
   "metadata": {},
   "outputs": [
    {
     "data": {
      "text/plain": [
       "{2, 3, 4, 5, 6}"
      ]
     },
     "execution_count": 1,
     "metadata": {},
     "output_type": "execute_result"
    }
   ],
   "source": [
    "s1 = {2,3,4,5,6}\n",
    "s2 = {5,6,7,8,9}\n",
    "\n",
    "s1.intersection(s2)\n",
    "\n",
    "s1"
   ]
  },
  {
   "cell_type": "code",
   "execution_count": 74,
   "id": "c99b79dd",
   "metadata": {},
   "outputs": [
    {
     "data": {
      "text/plain": [
       "{5, 6}"
      ]
     },
     "execution_count": 74,
     "metadata": {},
     "output_type": "execute_result"
    }
   ],
   "source": [
    "s1 = {2,3,4,5,6}\n",
    "s2 = {5,6,7,8,9}\n",
    "\n",
    "s3 = s1.intersection(s2)\n",
    "\n",
    "s3"
   ]
  },
  {
   "cell_type": "code",
   "execution_count": 75,
   "id": "447076c5",
   "metadata": {},
   "outputs": [
    {
     "data": {
      "text/plain": [
       "{'eng', 'math'}"
      ]
     },
     "execution_count": 75,
     "metadata": {},
     "output_type": "execute_result"
    }
   ],
   "source": [
    "s1 = {'phy', 'che', 'math', 'eng', 'bio'}\n",
    "s2 = {'math', 'data', 'eng', 'science'}\n",
    "\n",
    "s3 = s1.intersection(s2)\n",
    "s3"
   ]
  },
  {
   "cell_type": "code",
   "execution_count": 76,
   "id": "356b7e1c",
   "metadata": {},
   "outputs": [
    {
     "data": {
      "text/plain": [
       "{'eng', 'math'}"
      ]
     },
     "execution_count": 76,
     "metadata": {},
     "output_type": "execute_result"
    }
   ],
   "source": [
    "s1 = {'phy', 'che', 'math', 'eng', 'bio'}\n",
    "s2 = {'math', 'data', 'eng', 'science'}\n",
    "\n",
    "s3 = s2.intersection(s1)\n",
    "s3"
   ]
  },
  {
   "cell_type": "code",
   "execution_count": 77,
   "id": "9f30e9d4",
   "metadata": {},
   "outputs": [
    {
     "ename": "AttributeError",
     "evalue": "'list' object has no attribute 'intersection'",
     "output_type": "error",
     "traceback": [
      "\u001b[1;31m---------------------------------------------------------------------------\u001b[0m",
      "\u001b[1;31mAttributeError\u001b[0m                            Traceback (most recent call last)",
      "\u001b[1;32m<ipython-input-77-58982aa21932>\u001b[0m in \u001b[0;36m<module>\u001b[1;34m\u001b[0m\n\u001b[0;32m      2\u001b[0m \u001b[0ms2\u001b[0m \u001b[1;33m=\u001b[0m \u001b[1;33m[\u001b[0m\u001b[1;34m'math'\u001b[0m\u001b[1;33m,\u001b[0m \u001b[1;34m'data'\u001b[0m\u001b[1;33m,\u001b[0m \u001b[1;34m'eng'\u001b[0m\u001b[1;33m,\u001b[0m \u001b[1;34m'science'\u001b[0m\u001b[1;33m]\u001b[0m\u001b[1;33m\u001b[0m\u001b[1;33m\u001b[0m\u001b[0m\n\u001b[0;32m      3\u001b[0m \u001b[1;33m\u001b[0m\u001b[0m\n\u001b[1;32m----> 4\u001b[1;33m \u001b[0ms3\u001b[0m \u001b[1;33m=\u001b[0m \u001b[0ms2\u001b[0m\u001b[1;33m.\u001b[0m\u001b[0mintersection\u001b[0m\u001b[1;33m(\u001b[0m\u001b[0ms1\u001b[0m\u001b[1;33m)\u001b[0m\u001b[1;33m\u001b[0m\u001b[1;33m\u001b[0m\u001b[0m\n\u001b[0m\u001b[0;32m      5\u001b[0m \u001b[0ms3\u001b[0m\u001b[1;33m\u001b[0m\u001b[1;33m\u001b[0m\u001b[0m\n",
      "\u001b[1;31mAttributeError\u001b[0m: 'list' object has no attribute 'intersection'"
     ]
    }
   ],
   "source": [
    "s1 = {'phy', 'che', 'math', 'eng', 'bio'}\n",
    "s2 = ['math', 'data', 'eng', 'science']\n",
    "\n",
    "s3 = s2.intersection(s1)\n",
    "s3"
   ]
  },
  {
   "cell_type": "code",
   "execution_count": 78,
   "id": "19cea5da",
   "metadata": {},
   "outputs": [
    {
     "data": {
      "text/plain": [
       "{'eng', 'math'}"
      ]
     },
     "execution_count": 78,
     "metadata": {},
     "output_type": "execute_result"
    }
   ],
   "source": [
    "s1 = {'phy', 'che', 'math', 'eng', 'bio'}\n",
    "s2 = ['math', 'data', 'eng', 'science']\n",
    "\n",
    "s3 = s1.intersection(s2)\n",
    "s3"
   ]
  },
  {
   "cell_type": "code",
   "execution_count": 79,
   "id": "2e7c0369",
   "metadata": {},
   "outputs": [
    {
     "ename": "AttributeError",
     "evalue": "'list' object has no attribute 'intersection'",
     "output_type": "error",
     "traceback": [
      "\u001b[1;31m---------------------------------------------------------------------------\u001b[0m",
      "\u001b[1;31mAttributeError\u001b[0m                            Traceback (most recent call last)",
      "\u001b[1;32m<ipython-input-79-4effec53bef5>\u001b[0m in \u001b[0;36m<module>\u001b[1;34m\u001b[0m\n\u001b[0;32m      2\u001b[0m \u001b[0mlist2\u001b[0m \u001b[1;33m=\u001b[0m \u001b[1;33m[\u001b[0m\u001b[1;36m4\u001b[0m\u001b[1;33m,\u001b[0m\u001b[1;36m5\u001b[0m\u001b[1;33m,\u001b[0m\u001b[1;36m3\u001b[0m\u001b[1;33m,\u001b[0m\u001b[1;36m8\u001b[0m\u001b[1;33m,\u001b[0m\u001b[1;36m9\u001b[0m\u001b[1;33m]\u001b[0m\u001b[1;33m\u001b[0m\u001b[1;33m\u001b[0m\u001b[0m\n\u001b[0;32m      3\u001b[0m \u001b[1;33m\u001b[0m\u001b[0m\n\u001b[1;32m----> 4\u001b[1;33m \u001b[0mresult\u001b[0m \u001b[1;33m=\u001b[0m \u001b[0mlist1\u001b[0m\u001b[1;33m.\u001b[0m\u001b[0mintersection\u001b[0m\u001b[1;33m(\u001b[0m\u001b[0mlist2\u001b[0m\u001b[1;33m)\u001b[0m\u001b[1;33m\u001b[0m\u001b[1;33m\u001b[0m\u001b[0m\n\u001b[0m\u001b[0;32m      5\u001b[0m \u001b[0mresult\u001b[0m\u001b[1;33m\u001b[0m\u001b[1;33m\u001b[0m\u001b[0m\n",
      "\u001b[1;31mAttributeError\u001b[0m: 'list' object has no attribute 'intersection'"
     ]
    }
   ],
   "source": [
    "list1 = [1,2,3,4,5]\n",
    "list2 = [4,5,3,8,9]\n",
    "\n",
    "result = list1.intersection(list2)\n",
    "result"
   ]
  },
  {
   "cell_type": "code",
   "execution_count": 80,
   "id": "9489731b",
   "metadata": {},
   "outputs": [
    {
     "data": {
      "text/plain": [
       "{3, 4, 5}"
      ]
     },
     "execution_count": 80,
     "metadata": {},
     "output_type": "execute_result"
    }
   ],
   "source": [
    "list1 = [1,2,3,4,5]\n",
    "list2 = [4,5,3,8,9]\n",
    "\n",
    "set1 = set(list1)\n",
    "result = set1.intersection(list2)\n",
    "result"
   ]
  },
  {
   "cell_type": "markdown",
   "id": "e40ab9a5",
   "metadata": {},
   "source": [
    "## 2. intersection_update()"
   ]
  },
  {
   "cell_type": "code",
   "execution_count": 84,
   "id": "8ec69f23",
   "metadata": {},
   "outputs": [
    {
     "data": {
      "text/plain": [
       "{5, 6}"
      ]
     },
     "execution_count": 84,
     "metadata": {},
     "output_type": "execute_result"
    }
   ],
   "source": [
    "s1 = {2,3,4,5,6}\n",
    "s2 = {5,6,7,8,9}\n",
    "\n",
    "s1.intersection_update(s2)\n",
    "\n",
    "s1"
   ]
  },
  {
   "cell_type": "code",
   "execution_count": 86,
   "id": "b30103a7",
   "metadata": {},
   "outputs": [
    {
     "name": "stdout",
     "output_type": "stream",
     "text": [
      "s1: {2, 3, 4, 5, 6}\n",
      "s2: {6}\n",
      "s3: {10, 20, 6}\n"
     ]
    }
   ],
   "source": [
    "s1 = {2,3,4,5,6}\n",
    "s2 = {5,6,7,8,9}\n",
    "s3 = {6,10,20}\n",
    "\n",
    "s2.intersection_update(s1,s3)\n",
    "print('s1:', s1)\n",
    "print('s2:',s2)\n",
    "print('s3:',s3)"
   ]
  },
  {
   "cell_type": "code",
   "execution_count": 88,
   "id": "6ef3b86b",
   "metadata": {},
   "outputs": [
    {
     "name": "stdout",
     "output_type": "stream",
     "text": [
      "s1: {2, 3, 4, 5, 6}\n",
      "s2: {5, 6, 7, 8, 9}\n",
      "s3: {10, 20, 6}\n"
     ]
    }
   ],
   "source": [
    "s1 = {2,3,4,5,6}\n",
    "s2 = {5,6,7,8,9}\n",
    "s3 = {6,10,20}\n",
    "\n",
    "s2.intersection(s1,s3)\n",
    "print('s1:', s1)\n",
    "print('s2:',s2)\n",
    "print('s3:',s3)"
   ]
  },
  {
   "cell_type": "code",
   "execution_count": 90,
   "id": "a814c32d",
   "metadata": {},
   "outputs": [
    {
     "name": "stdout",
     "output_type": "stream",
     "text": [
      "s1: {2, 3, 4, 5, 6}\n",
      "s2: {5, 6, 7, 8, 9}\n",
      "s3: {10, 20, 6}\n",
      "s4: {6}\n"
     ]
    }
   ],
   "source": [
    "s1 = {2,3,4,5,6}\n",
    "s2 = {5,6,7,8,9}\n",
    "s3 = {6,10,20}\n",
    "\n",
    "s4 = s2.intersection(s1,s3)\n",
    "print('s1:', s1)\n",
    "print('s2:',s2)\n",
    "print('s3:',s3)\n",
    "print('s4:',s4)"
   ]
  },
  {
   "cell_type": "code",
   "execution_count": 91,
   "id": "c5b28413",
   "metadata": {},
   "outputs": [
    {
     "name": "stdout",
     "output_type": "stream",
     "text": [
      "s1: {2, 3, 4, 5, 6}\n",
      "s2: {4, 5, 6}\n",
      "s3: {4, 5, 6, 10, 20}\n"
     ]
    }
   ],
   "source": [
    "s1 = {2,3,4,5,6,3,4,5}\n",
    "s2 = {5,6,7,8,9,4}\n",
    "s3 = {6,10,20,5,4}\n",
    "\n",
    "s2.intersection_update(s1,s3)\n",
    "print('s1:', s1)\n",
    "print('s2:',s2)\n",
    "print('s3:',s3)"
   ]
  },
  {
   "cell_type": "markdown",
   "id": "13392841",
   "metadata": {},
   "source": [
    "## 3. difference()"
   ]
  },
  {
   "cell_type": "code",
   "execution_count": null,
   "id": "5bd57dc5",
   "metadata": {},
   "outputs": [],
   "source": [
    "Unique items from set"
   ]
  },
  {
   "cell_type": "code",
   "execution_count": 92,
   "id": "7532c828",
   "metadata": {},
   "outputs": [
    {
     "data": {
      "text/plain": [
       "{2, 3}"
      ]
     },
     "execution_count": 92,
     "metadata": {},
     "output_type": "execute_result"
    }
   ],
   "source": [
    "s1 = {2,3,4,5,6,3,4,5}\n",
    "s2 = {5,6,7,8,9,4}\n",
    "s1.difference(s2)"
   ]
  },
  {
   "cell_type": "code",
   "execution_count": 93,
   "id": "4db3dc7c",
   "metadata": {},
   "outputs": [
    {
     "data": {
      "text/plain": [
       "{7, 8, 9}"
      ]
     },
     "execution_count": 93,
     "metadata": {},
     "output_type": "execute_result"
    }
   ],
   "source": [
    "s1 = {2,3,4,5,6,3,4,5}\n",
    "s2 = {5,6,7,8,9,4}\n",
    "s2.difference(s1)"
   ]
  },
  {
   "cell_type": "code",
   "execution_count": 94,
   "id": "79d8da6e",
   "metadata": {},
   "outputs": [
    {
     "data": {
      "text/plain": [
       "{'mumbai', 'satara'}"
      ]
     },
     "execution_count": 94,
     "metadata": {},
     "output_type": "execute_result"
    }
   ],
   "source": [
    "city1 = {'pune', 'mumbai','nashik', 'satara'}\n",
    "city2 = {'Delhi', 'pune', 'chennai', 'nashik'}\n",
    "\n",
    "city1.difference(city2)"
   ]
  },
  {
   "cell_type": "code",
   "execution_count": 95,
   "id": "d0afd49f",
   "metadata": {},
   "outputs": [
    {
     "data": {
      "text/plain": [
       "{'Delhi', 'chennai'}"
      ]
     },
     "execution_count": 95,
     "metadata": {},
     "output_type": "execute_result"
    }
   ],
   "source": [
    "city1 = {'pune', 'mumbai','nashik', 'satara'}\n",
    "city2 = {'Delhi', 'pune', 'chennai', 'nashik'}\n",
    "\n",
    "city2.difference(city1)"
   ]
  },
  {
   "cell_type": "code",
   "execution_count": 96,
   "id": "848bf15c",
   "metadata": {},
   "outputs": [
    {
     "data": {
      "text/plain": [
       "{'Delhi', 'chennai', 'nashik', 'pune'}"
      ]
     },
     "execution_count": 96,
     "metadata": {},
     "output_type": "execute_result"
    }
   ],
   "source": [
    "city1 = {'pune', 'mumbai','nashik', 'satara'}\n",
    "city2 = {'Delhi', 'pune', 'chennai', 'nashik'}\n",
    "\n",
    "city2.difference(city1)\n",
    "\n",
    "city2"
   ]
  },
  {
   "cell_type": "code",
   "execution_count": 97,
   "id": "e5d9f2b6",
   "metadata": {},
   "outputs": [
    {
     "data": {
      "text/plain": [
       "{'Delhi', 'chennai'}"
      ]
     },
     "execution_count": 97,
     "metadata": {},
     "output_type": "execute_result"
    }
   ],
   "source": [
    "city1 = {'pune', 'mumbai','nashik', 'satara'}\n",
    "city2 = {'Delhi', 'pune', 'chennai', 'nashik'}\n",
    "\n",
    "city3 = city2.difference(city1)\n",
    "\n",
    "city3"
   ]
  },
  {
   "cell_type": "markdown",
   "id": "2ab648aa",
   "metadata": {},
   "source": [
    "## difference_update()"
   ]
  },
  {
   "cell_type": "code",
   "execution_count": 98,
   "id": "a5b343c2",
   "metadata": {},
   "outputs": [
    {
     "name": "stdout",
     "output_type": "stream",
     "text": [
      "{'satara', 'nashik', 'mumbai', 'pune'}\n",
      "{'Delhi', 'chennai'}\n"
     ]
    }
   ],
   "source": [
    "city1 = {'pune', 'mumbai','nashik', 'satara'}\n",
    "city2 = {'Delhi', 'pune', 'chennai', 'nashik'}\n",
    "\n",
    "city2.difference_update(city1)\n",
    "\n",
    "print(city1)\n",
    "print(city2)"
   ]
  },
  {
   "cell_type": "code",
   "execution_count": 99,
   "id": "b3b90c74",
   "metadata": {},
   "outputs": [
    {
     "name": "stdout",
     "output_type": "stream",
     "text": [
      "{'satara', 'mumbai'}\n",
      "{'Delhi', 'chennai', 'nashik', 'pune'}\n"
     ]
    }
   ],
   "source": [
    "city1 = {'pune', 'mumbai','nashik', 'satara'}\n",
    "city2 = {'Delhi', 'pune', 'chennai', 'nashik'}\n",
    "\n",
    "city1.difference_update(city2)\n",
    "\n",
    "print(city1)\n",
    "print(city2)"
   ]
  },
  {
   "cell_type": "markdown",
   "id": "d5c39e77",
   "metadata": {},
   "source": [
    "## symmetric_difference()"
   ]
  },
  {
   "cell_type": "code",
   "execution_count": 100,
   "id": "eaf373a3",
   "metadata": {},
   "outputs": [
    {
     "data": {
      "text/plain": [
       "{'Delhi', 'chennai', 'mumbai', 'satara'}"
      ]
     },
     "execution_count": 100,
     "metadata": {},
     "output_type": "execute_result"
    }
   ],
   "source": [
    "city1 = {'pune', 'mumbai','nashik', 'satara'}\n",
    "city2 = {'Delhi', 'pune', 'chennai', 'nashik'}\n",
    "\n",
    "city1.symmetric_difference(city2)\n",
    "\n"
   ]
  },
  {
   "cell_type": "code",
   "execution_count": 101,
   "id": "a739aded",
   "metadata": {},
   "outputs": [
    {
     "data": {
      "text/plain": [
       "{'mumbai', 'nashik', 'pune', 'satara'}"
      ]
     },
     "execution_count": 101,
     "metadata": {},
     "output_type": "execute_result"
    }
   ],
   "source": [
    "city1 = {'pune', 'mumbai','nashik', 'satara'}\n",
    "city2 = {'Delhi', 'pune', 'chennai', 'nashik'}\n",
    "\n",
    "city1.symmetric_difference(city2)\n",
    "\n",
    "city1"
   ]
  },
  {
   "cell_type": "code",
   "execution_count": 102,
   "id": "06d5500c",
   "metadata": {},
   "outputs": [
    {
     "data": {
      "text/plain": [
       "{3, 6, 8, 9, 10}"
      ]
     },
     "execution_count": 102,
     "metadata": {},
     "output_type": "execute_result"
    }
   ],
   "source": [
    "s1 = {2,3,4,5,6}\n",
    "s2 = {4,5,8,9,10,2}\n",
    "s1.symmetric_difference(s2)"
   ]
  },
  {
   "cell_type": "code",
   "execution_count": 103,
   "id": "e8e071c1",
   "metadata": {},
   "outputs": [
    {
     "data": {
      "text/plain": [
       "{2, 3, 4, 5, 6}"
      ]
     },
     "execution_count": 103,
     "metadata": {},
     "output_type": "execute_result"
    }
   ],
   "source": [
    "s1"
   ]
  },
  {
   "cell_type": "code",
   "execution_count": 104,
   "id": "c24d8f6c",
   "metadata": {},
   "outputs": [
    {
     "data": {
      "text/plain": [
       "{3, 6, 8, 9, 10}"
      ]
     },
     "execution_count": 104,
     "metadata": {},
     "output_type": "execute_result"
    }
   ],
   "source": [
    "s1 = {2,3,4,5,6}\n",
    "s2 = {4,5,8,9,10,2}\n",
    "s3 = s1.symmetric_difference(s2)\n",
    "s3"
   ]
  },
  {
   "cell_type": "markdown",
   "id": "1f3f9d87",
   "metadata": {},
   "source": [
    "## symmetric_difference_update"
   ]
  },
  {
   "cell_type": "code",
   "execution_count": 105,
   "id": "1ac444d4",
   "metadata": {},
   "outputs": [
    {
     "name": "stdout",
     "output_type": "stream",
     "text": [
      "{3, 6, 8, 9, 10}\n",
      "{2, 4, 5, 8, 9, 10}\n"
     ]
    }
   ],
   "source": [
    "s1 = {2,3,4,5,6}\n",
    "s2 = {4,5,8,9,10,2}\n",
    "\n",
    "s1.symmetric_difference_update(s2)\n",
    "print(s1)\n",
    "print(s2)"
   ]
  },
  {
   "cell_type": "code",
   "execution_count": 106,
   "id": "0d5dd1ec",
   "metadata": {},
   "outputs": [
    {
     "name": "stdout",
     "output_type": "stream",
     "text": [
      "{2, 4, 5}\n",
      "{3, 6, 8, 9, 10}\n",
      "{2, 4, 5, 8, 9, 10}\n"
     ]
    }
   ],
   "source": [
    "s1 = {2,3,4,5,6}\n",
    "s2 = {4,5,8,9,10,2}\n",
    "inter = s1.intersection(s2)\n",
    "s1.symmetric_difference_update(s2)\n",
    "print(inter)\n",
    "print(s1)\n",
    "print(s2)"
   ]
  },
  {
   "cell_type": "code",
   "execution_count": 107,
   "id": "45c813a4",
   "metadata": {},
   "outputs": [
    {
     "data": {
      "text/plain": [
       "[1, 5, 6]"
      ]
     },
     "execution_count": 107,
     "metadata": {},
     "output_type": "execute_result"
    }
   ],
   "source": [
    "list1 = [1,2,3,4,5,6]\n",
    "del list1[1:4]\n",
    "list1"
   ]
  },
  {
   "cell_type": "code",
   "execution_count": null,
   "id": "e5965edd",
   "metadata": {},
   "outputs": [],
   "source": []
  }
 ],
 "metadata": {
  "kernelspec": {
   "display_name": "Python 3 (ipykernel)",
   "language": "python",
   "name": "python3"
  },
  "language_info": {
   "codemirror_mode": {
    "name": "ipython",
    "version": 3
   },
   "file_extension": ".py",
   "mimetype": "text/x-python",
   "name": "python",
   "nbconvert_exporter": "python",
   "pygments_lexer": "ipython3",
   "version": "3.11.3"
  }
 },
 "nbformat": 4,
 "nbformat_minor": 5
}
