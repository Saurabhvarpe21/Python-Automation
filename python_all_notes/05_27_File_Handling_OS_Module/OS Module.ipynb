{
 "cells": [
  {
   "cell_type": "markdown",
   "id": "f3f0276c",
   "metadata": {},
   "source": [
    "# OS Module"
   ]
  },
  {
   "cell_type": "code",
   "execution_count": null,
   "id": "fb069bef",
   "metadata": {},
   "outputs": [],
   "source": [
    "OS >> Operating System"
   ]
  },
  {
   "cell_type": "code",
   "execution_count": 3,
   "id": "bbc496cb",
   "metadata": {},
   "outputs": [
    {
     "data": {
      "text/plain": [
       "153"
      ]
     },
     "execution_count": 3,
     "metadata": {},
     "output_type": "execute_result"
    }
   ],
   "source": [
    "import os\n",
    "len(dir(os))"
   ]
  },
  {
   "cell_type": "code",
   "execution_count": null,
   "id": "530e9cd3",
   "metadata": {},
   "outputs": [],
   "source": [
    "Rename\n",
    "create folder\n",
    "delete folder/file\n",
    "move\n",
    "copy\n",
    "current working directory\n",
    "list of files in folder"
   ]
  },
  {
   "cell_type": "markdown",
   "id": "c40095c0",
   "metadata": {},
   "source": [
    "## 1. Rename/Move"
   ]
  },
  {
   "cell_type": "code",
   "execution_count": 4,
   "id": "3aff2b20",
   "metadata": {},
   "outputs": [],
   "source": [
    "import os"
   ]
  },
  {
   "cell_type": "code",
   "execution_count": null,
   "id": "9019e82e",
   "metadata": {},
   "outputs": [],
   "source": [
    "os.rename(source_dile_name, destination_file_name)"
   ]
  },
  {
   "cell_type": "code",
   "execution_count": 5,
   "id": "346d5328",
   "metadata": {},
   "outputs": [],
   "source": [
    "os.rename('data.txt', 'new_data.txt')"
   ]
  },
  {
   "cell_type": "code",
   "execution_count": 6,
   "id": "59a73486",
   "metadata": {},
   "outputs": [],
   "source": [
    "source_file_name = 'new_data.txt'\n",
    "destination_file_name = r'G:\\Velocity 16 APR\\05_27_File_Handling_OS_Module\\images\\new_data.txt'\n",
    "\n",
    "os.rename(source_file_name, destination_file_name)"
   ]
  },
  {
   "cell_type": "code",
   "execution_count": 7,
   "id": "08cebb37",
   "metadata": {},
   "outputs": [],
   "source": [
    "source_file_name = r'G:\\Velocity 16 APR\\05_27_File_Handling_OS_Module\\movie_reviews\\cv001_19502.txt'\n",
    "destination_file_name = 'review.txt'\n",
    "\n",
    "os.rename(source_file_name, destination_file_name)"
   ]
  },
  {
   "cell_type": "markdown",
   "id": "9e9fe87e",
   "metadata": {},
   "source": [
    "## 2. Remove Files"
   ]
  },
  {
   "cell_type": "code",
   "execution_count": null,
   "id": "dda53361",
   "metadata": {},
   "outputs": [],
   "source": [
    "os.remove(file_name)"
   ]
  },
  {
   "cell_type": "code",
   "execution_count": 8,
   "id": "86c8d479",
   "metadata": {},
   "outputs": [],
   "source": [
    "file_name = 'new_data2.txt'\n",
    "os.remove(file_name)"
   ]
  },
  {
   "cell_type": "code",
   "execution_count": 9,
   "id": "29fc5013",
   "metadata": {},
   "outputs": [],
   "source": [
    "file_name = 'data2.json'\n",
    "os.remove(file_name)"
   ]
  },
  {
   "cell_type": "code",
   "execution_count": 10,
   "id": "8e4bd0ff",
   "metadata": {},
   "outputs": [
    {
     "ename": "FileNotFoundError",
     "evalue": "[WinError 2] The system cannot find the file specified: 'data2.json'",
     "output_type": "error",
     "traceback": [
      "\u001b[1;31m---------------------------------------------------------------------------\u001b[0m",
      "\u001b[1;31mFileNotFoundError\u001b[0m                         Traceback (most recent call last)",
      "\u001b[1;32m<ipython-input-10-cbea4d6971f9>\u001b[0m in \u001b[0;36m<module>\u001b[1;34m\u001b[0m\n\u001b[0;32m      1\u001b[0m \u001b[0mfile_name\u001b[0m \u001b[1;33m=\u001b[0m \u001b[1;34m'data2.json'\u001b[0m\u001b[1;33m\u001b[0m\u001b[1;33m\u001b[0m\u001b[0m\n\u001b[1;32m----> 2\u001b[1;33m \u001b[0mos\u001b[0m\u001b[1;33m.\u001b[0m\u001b[0mremove\u001b[0m\u001b[1;33m(\u001b[0m\u001b[0mfile_name\u001b[0m\u001b[1;33m)\u001b[0m\u001b[1;33m\u001b[0m\u001b[1;33m\u001b[0m\u001b[0m\n\u001b[0m",
      "\u001b[1;31mFileNotFoundError\u001b[0m: [WinError 2] The system cannot find the file specified: 'data2.json'"
     ]
    }
   ],
   "source": [
    "file_name = 'data2.json'\n",
    "os.remove(file_name)"
   ]
  },
  {
   "cell_type": "markdown",
   "id": "768c04f0",
   "metadata": {},
   "source": [
    "## Delete file from different directory"
   ]
  },
  {
   "cell_type": "code",
   "execution_count": 11,
   "id": "f7b14d5b",
   "metadata": {},
   "outputs": [],
   "source": [
    "file_name = r'G:\\Velocity 16 APR\\05_27_File_Handling_OS_Module\\movie_reviews\\cv005_29357.txt'\n",
    "os.remove(file_name)"
   ]
  },
  {
   "cell_type": "markdown",
   "id": "121d7b55",
   "metadata": {},
   "source": [
    "## 3. Check File exist or not"
   ]
  },
  {
   "cell_type": "code",
   "execution_count": null,
   "id": "80db22a3",
   "metadata": {},
   "outputs": [],
   "source": [
    "os.path.exists(file_name)\n",
    "\n",
    "True >> if file exists\n",
    "False >> if file does not exist"
   ]
  },
  {
   "cell_type": "code",
   "execution_count": 12,
   "id": "c27e70de",
   "metadata": {},
   "outputs": [
    {
     "data": {
      "text/plain": [
       "False"
      ]
     },
     "execution_count": 12,
     "metadata": {},
     "output_type": "execute_result"
    }
   ],
   "source": [
    "file_name = r'G:\\Velocity 16 APR\\05_27_File_Handling_OS_Module\\movie_reviews\\cv005_29357.txt'\n",
    "os.path.exists(file_name)"
   ]
  },
  {
   "cell_type": "code",
   "execution_count": 13,
   "id": "f5df6aa0",
   "metadata": {},
   "outputs": [
    {
     "data": {
      "text/plain": [
       "True"
      ]
     },
     "execution_count": 13,
     "metadata": {},
     "output_type": "execute_result"
    }
   ],
   "source": [
    "file_name = 'review.txt'\n",
    "os.path.exists(file_name)"
   ]
  },
  {
   "cell_type": "code",
   "execution_count": 14,
   "id": "f0b9ec8a",
   "metadata": {},
   "outputs": [
    {
     "name": "stdout",
     "output_type": "stream",
     "text": [
      "File does not exists\n"
     ]
    }
   ],
   "source": [
    "file_name = r'G:\\Velocity 16 APR\\05_27_File_Handling_OS_Module\\movie_reviews\\cv005_29357.txt'\n",
    "\n",
    "if os.path.exists(file_name):\n",
    "    os.remove(file_name)\n",
    "    print('File Deleted')\n",
    "    \n",
    "else:\n",
    "    print('File does not exists')"
   ]
  },
  {
   "cell_type": "code",
   "execution_count": 15,
   "id": "bcbde165",
   "metadata": {},
   "outputs": [
    {
     "name": "stdout",
     "output_type": "stream",
     "text": [
      "File Deleted\n"
     ]
    }
   ],
   "source": [
    "file_name = 'review.txt'\n",
    "\n",
    "if os.path.exists(file_name):\n",
    "    os.remove(file_name)\n",
    "    print('File Deleted')\n",
    "    \n",
    "else:\n",
    "    'File does not exists'"
   ]
  },
  {
   "cell_type": "markdown",
   "id": "2dad9cd1",
   "metadata": {},
   "source": [
    "## 4. Create Directory"
   ]
  },
  {
   "cell_type": "code",
   "execution_count": null,
   "id": "dca8e722",
   "metadata": {},
   "outputs": [],
   "source": [
    "os.mkdir(folder_path)"
   ]
  },
  {
   "cell_type": "code",
   "execution_count": 16,
   "id": "1bbb962f",
   "metadata": {},
   "outputs": [],
   "source": [
    "os.mkdir('Machine_Learning')"
   ]
  },
  {
   "cell_type": "code",
   "execution_count": 17,
   "id": "219de9e4",
   "metadata": {},
   "outputs": [],
   "source": [
    "os.mkdir('Data')"
   ]
  },
  {
   "cell_type": "code",
   "execution_count": 19,
   "id": "80fe029b",
   "metadata": {},
   "outputs": [
    {
     "name": "stdout",
     "output_type": "stream",
     "text": [
      "Folder Already Exists\n"
     ]
    }
   ],
   "source": [
    "folder_path = 'Data'\n",
    "\n",
    "if not os.path.exists(folder_path):\n",
    "    os.mkdir(folder_path)\n",
    "    print('Folder Created')\n",
    "    \n",
    "    \n",
    "else:\n",
    "    print('Folder Already Exists')"
   ]
  },
  {
   "cell_type": "code",
   "execution_count": 20,
   "id": "c3632fb6",
   "metadata": {},
   "outputs": [
    {
     "name": "stdout",
     "output_type": "stream",
     "text": [
      "Folder Created\n"
     ]
    }
   ],
   "source": [
    "folder_path = 'Data_Science'\n",
    "\n",
    "if not os.path.exists(folder_path):\n",
    "    os.mkdir(folder_path)\n",
    "    print('Folder Created')\n",
    "    \n",
    "    \n",
    "else:\n",
    "    print('Folder Already Exists')"
   ]
  },
  {
   "cell_type": "code",
   "execution_count": 21,
   "id": "f3ccfa5e",
   "metadata": {},
   "outputs": [],
   "source": [
    "folder_path = 'pictures'\n",
    "\n",
    "if not os.path.exists(folder_path):\n",
    "    os.mkdir(folder_path)"
   ]
  },
  {
   "cell_type": "markdown",
   "id": "618e8724",
   "metadata": {},
   "source": [
    "## 5. Delete Directory"
   ]
  },
  {
   "cell_type": "code",
   "execution_count": null,
   "id": "a2404ed5",
   "metadata": {},
   "outputs": [],
   "source": [
    "os.rmdir(folder_path)"
   ]
  },
  {
   "cell_type": "code",
   "execution_count": 22,
   "id": "d8c1c777",
   "metadata": {},
   "outputs": [],
   "source": [
    "folder_path = 'pictures'\n",
    "\n",
    "os.rmdir(folder_path)"
   ]
  },
  {
   "cell_type": "code",
   "execution_count": 23,
   "id": "59c28b21",
   "metadata": {},
   "outputs": [
    {
     "name": "stdout",
     "output_type": "stream",
     "text": [
      "Folder Deleted\n"
     ]
    }
   ],
   "source": [
    "folder_path = 'Data_Science'\n",
    "\n",
    "if os.path.exists(folder_path):\n",
    "    os.rmdir(folder_path)\n",
    "    print('Folder Deleted')"
   ]
  },
  {
   "cell_type": "markdown",
   "id": "8861811a",
   "metadata": {},
   "source": [
    "## 6. Check files from Folder"
   ]
  },
  {
   "cell_type": "code",
   "execution_count": null,
   "id": "e58edb5a",
   "metadata": {},
   "outputs": [],
   "source": [
    "os.listdir(folder_path)"
   ]
  },
  {
   "cell_type": "code",
   "execution_count": 24,
   "id": "bd5f2695",
   "metadata": {
    "scrolled": true
   },
   "outputs": [
    {
     "data": {
      "text/plain": [
       "['.ipynb_checkpoints',\n",
       " 'bank_data.txt',\n",
       " 'bank_data2.txt',\n",
       " 'config.py',\n",
       " 'credit_analysis',\n",
       " 'csv_files',\n",
       " 'Data Science.txt',\n",
       " 'data Science1.txt',\n",
       " 'data Science2.txt',\n",
       " 'data1.txt',\n",
       " 'data2.txt',\n",
       " 'data3.txt',\n",
       " 'database.py',\n",
       " 'File Handling.ipynb',\n",
       " 'images',\n",
       " 'machine1.txt',\n",
       " 'Machine_Learning_1.txt',\n",
       " 'Machine_Learning_2.txt',\n",
       " 'Module and Package.ipynb',\n",
       " 'movie_reviews',\n",
       " 'result.py',\n",
       " 'run.py',\n",
       " 'sample.txt',\n",
       " 'sample3.txt',\n",
       " '__init__.py',\n",
       " '__pycache__']"
      ]
     },
     "execution_count": 24,
     "metadata": {},
     "output_type": "execute_result"
    }
   ],
   "source": [
    "folder_path = r'G:\\Velocity 16 APR\\05_26_Packages_file_Handling'\n",
    "os.listdir(folder_path)"
   ]
  },
  {
   "cell_type": "code",
   "execution_count": 25,
   "id": "d7d502fd",
   "metadata": {},
   "outputs": [
    {
     "data": {
      "text/plain": [
       "'G:\\\\Velocity 16 APR\\\\05_27_File_Handling_OS_Module'"
      ]
     },
     "execution_count": 25,
     "metadata": {},
     "output_type": "execute_result"
    }
   ],
   "source": [
    "os.getcwd()   # current working directory"
   ]
  },
  {
   "cell_type": "code",
   "execution_count": 26,
   "id": "32fb1f57",
   "metadata": {},
   "outputs": [
    {
     "data": {
      "text/plain": [
       "['.ipynb_checkpoints',\n",
       " 'bureau_report.json',\n",
       " 'customer_data.txt',\n",
       " 'Data',\n",
       " 'data.json',\n",
       " 'File Handling.ipynb',\n",
       " 'images',\n",
       " 'linear_regression.pkl',\n",
       " 'Machine_Learning',\n",
       " 'movie_reviews',\n",
       " 'new_data.txt',\n",
       " 'OS Module.ipynb',\n",
       " 'report1.json']"
      ]
     },
     "execution_count": 26,
     "metadata": {},
     "output_type": "execute_result"
    }
   ],
   "source": [
    "folder_path = 'G:\\\\Velocity 16 APR\\\\05_27_File_Handling_OS_Module'\n",
    "os.listdir(folder_path)"
   ]
  },
  {
   "cell_type": "code",
   "execution_count": 28,
   "id": "74f0c512",
   "metadata": {},
   "outputs": [
    {
     "data": {
      "text/plain": [
       "1000"
      ]
     },
     "execution_count": 28,
     "metadata": {},
     "output_type": "execute_result"
    }
   ],
   "source": [
    "folder_path = r'G:\\Velocity 16 APR\\05_26_Packages_file_Handling\\movie_reviews\\negative'\n",
    "files = os.listdir(folder_path)\n",
    "len(files)"
   ]
  },
  {
   "cell_type": "code",
   "execution_count": 29,
   "id": "9267cbd3",
   "metadata": {},
   "outputs": [
    {
     "data": {
      "text/plain": [
       "'G:\\\\Velocity 16 APR\\\\05_27_File_Handling_OS_Module'"
      ]
     },
     "execution_count": 29,
     "metadata": {},
     "output_type": "execute_result"
    }
   ],
   "source": [
    "os.getcwd()"
   ]
  },
  {
   "cell_type": "code",
   "execution_count": 31,
   "id": "14b754c2",
   "metadata": {},
   "outputs": [
    {
     "name": "stdout",
     "output_type": "stream",
     "text": [
      "customer_data.txt\n",
      "new_data.txt\n"
     ]
    }
   ],
   "source": [
    "folder_path = 'G:\\\\Velocity 16 APR\\\\05_27_File_Handling_OS_Module'\n",
    "\n",
    "files_list = os.listdir(folder_path)\n",
    "\n",
    "for file in files_list:\n",
    "    if file.endswith('.txt'):\n",
    "        print(file)"
   ]
  },
  {
   "cell_type": "code",
   "execution_count": 33,
   "id": "b5279b62",
   "metadata": {},
   "outputs": [
    {
     "data": {
      "text/plain": [
       "['.ipynb_checkpoints',\n",
       " 'Assignment-01(Variables, String, int, float).pdf',\n",
       " 'bureau_report.json',\n",
       " 'customer_data.txt',\n",
       " 'Data',\n",
       " 'data.json',\n",
       " 'File Handling.ipynb',\n",
       " 'images',\n",
       " 'linear_regression.pkl',\n",
       " 'Machine_Learning',\n",
       " 'movie_reviews',\n",
       " 'new_data.txt',\n",
       " 'OS Module.ipynb',\n",
       " 'report1.json',\n",
       " 'Screenshot.jpg']"
      ]
     },
     "execution_count": 33,
     "metadata": {},
     "output_type": "execute_result"
    }
   ],
   "source": [
    "files_list = os.listdir(folder_path)\n",
    "files_list"
   ]
  },
  {
   "cell_type": "code",
   "execution_count": 35,
   "id": "eb04d36f",
   "metadata": {},
   "outputs": [
    {
     "name": "stdout",
     "output_type": "stream",
     "text": [
      "Text files are : \n",
      " ['customer_data.txt', 'new_data.txt']\n",
      "Ipynb files are : \n",
      " ['File Handling.ipynb', 'OS Module.ipynb']\n",
      "Pkl JSON files are : \n",
      " ['bureau_report.json', 'data.json', 'linear_regression.pkl', 'report1.json']\n",
      "Other files are : \n",
      " ['.ipynb_checkpoints', 'Assignment-01(Variables, String, int, float).pdf', 'Data', 'images', 'Machine_Learning', 'movie_reviews', 'Screenshot.jpg']\n"
     ]
    }
   ],
   "source": [
    "text_files = []\n",
    "ipynb_files = []\n",
    "pkl_json_files = []\n",
    "other_files = []\n",
    "\n",
    "for file in files_list:\n",
    "    \n",
    "    if file.endswith('.txt'):\n",
    "        text_files.append(file)\n",
    "        \n",
    "    elif file.endswith('.ipynb'):\n",
    "        ipynb_files.append(file)\n",
    "        \n",
    "    elif file.endswith('.pkl') or file.endswith('.PNG') or file.endswith('.json'):\n",
    "        pkl_json_files.append(file)\n",
    "        \n",
    "    else:\n",
    "        other_files.append(file)\n",
    "        \n",
    "        \n",
    "print('Text files are : \\n', text_files)\n",
    "print('Ipynb files are : \\n', ipynb_files)\n",
    "print('Pkl JSON files are : \\n', pkl_json_files)\n",
    "print('Other files are : \\n', other_files)"
   ]
  },
  {
   "cell_type": "code",
   "execution_count": 43,
   "id": "37c972fe",
   "metadata": {},
   "outputs": [
    {
     "ename": "FileNotFoundError",
     "evalue": "[Errno 2] No such file or directory: 'G:\\\\Velocity 16 APR\\\\05_27_File_Handling_OS_Module\\\\Data\\\\new_data.txt'",
     "output_type": "error",
     "traceback": [
      "\u001b[1;31m---------------------------------------------------------------------------\u001b[0m",
      "\u001b[1;31mFileNotFoundError\u001b[0m                         Traceback (most recent call last)",
      "\u001b[1;32m<ipython-input-43-998e4b83b4b2>\u001b[0m in \u001b[0;36m<module>\u001b[1;34m\u001b[0m\n\u001b[0;32m      2\u001b[0m \u001b[0mfile_path\u001b[0m\u001b[1;33m\u001b[0m\u001b[1;33m\u001b[0m\u001b[0m\n\u001b[0;32m      3\u001b[0m \u001b[1;33m\u001b[0m\u001b[0m\n\u001b[1;32m----> 4\u001b[1;33m \u001b[0mf\u001b[0m \u001b[1;33m=\u001b[0m \u001b[0mopen\u001b[0m\u001b[1;33m(\u001b[0m\u001b[0mfile_path\u001b[0m\u001b[1;33m)\u001b[0m\u001b[1;33m\u001b[0m\u001b[1;33m\u001b[0m\u001b[0m\n\u001b[0m\u001b[0;32m      5\u001b[0m \u001b[0mtext\u001b[0m \u001b[1;33m=\u001b[0m \u001b[0mf\u001b[0m\u001b[1;33m.\u001b[0m\u001b[0mread\u001b[0m\u001b[1;33m(\u001b[0m\u001b[1;33m)\u001b[0m\u001b[1;33m\u001b[0m\u001b[1;33m\u001b[0m\u001b[0m\n\u001b[0;32m      6\u001b[0m \u001b[0mprint\u001b[0m\u001b[1;33m(\u001b[0m\u001b[0mtext\u001b[0m\u001b[1;33m)\u001b[0m\u001b[1;33m\u001b[0m\u001b[1;33m\u001b[0m\u001b[0m\n",
      "\u001b[1;31mFileNotFoundError\u001b[0m: [Errno 2] No such file or directory: 'G:\\\\Velocity 16 APR\\\\05_27_File_Handling_OS_Module\\\\Data\\\\new_data.txt'"
     ]
    }
   ],
   "source": [
    "file_path = os.getcwd() + '\\\\Data\\\\' + 'new_data.txt'\n",
    "file_path\n",
    "\n",
    "f = open(file_path)\n",
    "text = f.read()\n",
    "print(text)\n",
    "f.close()"
   ]
  },
  {
   "cell_type": "code",
   "execution_count": 44,
   "id": "c919c6b7",
   "metadata": {},
   "outputs": [
    {
     "name": "stdout",
     "output_type": "stream",
     "text": [
      "{'name':'raju', 'age':15}\n"
     ]
    }
   ],
   "source": [
    "file_path = os.getcwd() + '\\\\Data\\\\' + 'new_data.txt'\n",
    "file_path\n",
    "\n",
    "f = open(file_path)\n",
    "text = f.read()\n",
    "print(text)\n",
    "f.close()"
   ]
  },
  {
   "cell_type": "code",
   "execution_count": 48,
   "id": "2267149d",
   "metadata": {},
   "outputs": [
    {
     "name": "stdout",
     "output_type": "stream",
     "text": [
      "{'name':'raju', 'age':15}\n"
     ]
    }
   ],
   "source": [
    "file_path = os.getcwd() + '\\\\Data\\\\' + 'new_data.txt'\n",
    "file_path\n",
    "\n",
    "f = open(file_path)\n",
    "text = f.read()\n",
    "\n",
    "print(text)\n",
    "f.close()"
   ]
  },
  {
   "cell_type": "code",
   "execution_count": null,
   "id": "3ec1eb3f",
   "metadata": {},
   "outputs": [],
   "source": []
  },
  {
   "cell_type": "markdown",
   "id": "84691f0a",
   "metadata": {},
   "source": [
    "## glob"
   ]
  },
  {
   "cell_type": "code",
   "execution_count": 49,
   "id": "bc3ef58d",
   "metadata": {},
   "outputs": [],
   "source": [
    "import glob"
   ]
  },
  {
   "cell_type": "code",
   "execution_count": 50,
   "id": "a289c45c",
   "metadata": {},
   "outputs": [
    {
     "data": {
      "text/plain": [
       "['.ipynb_checkpoints',\n",
       " 'Assignment-01(Variables, String, int, float).pdf',\n",
       " 'bureau_report.json',\n",
       " 'customer_data.txt',\n",
       " 'Data',\n",
       " 'data.json',\n",
       " 'File Handling.ipynb',\n",
       " 'images',\n",
       " 'linear_regression.pkl',\n",
       " 'Machine_Learning',\n",
       " 'movie_reviews',\n",
       " 'new_data.txt',\n",
       " 'OS Module.ipynb',\n",
       " 'report1.json',\n",
       " 'Screenshot.jpg']"
      ]
     },
     "execution_count": 50,
     "metadata": {},
     "output_type": "execute_result"
    }
   ],
   "source": [
    "path = os.getcwd()\n",
    "os.listdir(path)"
   ]
  },
  {
   "cell_type": "code",
   "execution_count": 53,
   "id": "1282ff16",
   "metadata": {},
   "outputs": [
    {
     "data": {
      "text/plain": [
       "['movie_reviews\\\\cv002_17424.txt',\n",
       " 'movie_reviews\\\\cv003_12683.txt',\n",
       " 'movie_reviews\\\\cv004_12641.txt']"
      ]
     },
     "execution_count": 53,
     "metadata": {},
     "output_type": "execute_result"
    }
   ],
   "source": [
    "path = 'movie_reviews/'\n",
    "files = glob.glob(path + '*.txt')\n",
    "files"
   ]
  },
  {
   "cell_type": "code",
   "execution_count": 54,
   "id": "abffca4e",
   "metadata": {},
   "outputs": [
    {
     "data": {
      "text/plain": [
       "['movie_reviews\\\\autos_dataset.csv', 'movie_reviews\\\\Country_clusters.csv']"
      ]
     },
     "execution_count": 54,
     "metadata": {},
     "output_type": "execute_result"
    }
   ],
   "source": [
    "glob.glob(path + '*.csv')"
   ]
  },
  {
   "cell_type": "markdown",
   "id": "9541a455",
   "metadata": {},
   "source": [
    "## join two paths"
   ]
  },
  {
   "cell_type": "code",
   "execution_count": null,
   "id": "2ca549a0",
   "metadata": {},
   "outputs": [],
   "source": [
    "os.path.join(folder_path1, folder_path2)"
   ]
  },
  {
   "cell_type": "code",
   "execution_count": 57,
   "id": "db2ac93c",
   "metadata": {},
   "outputs": [
    {
     "data": {
      "text/plain": [
       "'G:\\\\Velocity 16 APR\\\\05_27_File_Handling_OS_Module\\\\\\\\Machine_Learning'"
      ]
     },
     "execution_count": 57,
     "metadata": {},
     "output_type": "execute_result"
    }
   ],
   "source": [
    "folder_path1 = r'G:\\Velocity 16 APR\\05_27_File_Handling_OS_Module\\\\'\n",
    "folder_path2 = 'Machine_Learning'\n",
    "\n",
    "folder_path1 + folder_path2"
   ]
  },
  {
   "cell_type": "code",
   "execution_count": 58,
   "id": "55a44ad6",
   "metadata": {},
   "outputs": [
    {
     "data": {
      "text/plain": [
       "'G:\\\\Velocity 16 APR\\\\05_27_File_Handling_OS_Module\\\\\\\\Machine_Learning'"
      ]
     },
     "execution_count": 58,
     "metadata": {},
     "output_type": "execute_result"
    }
   ],
   "source": [
    "folder_path1 = r'G:\\Velocity 16 APR\\05_27_File_Handling_OS_Module\\\\'\n",
    "folder_path2 = 'Machine_Learning'\n",
    "new_path = os.path.join(folder_path1,folder_path2)\n",
    "new_path"
   ]
  },
  {
   "cell_type": "code",
   "execution_count": 59,
   "id": "0b61528e",
   "metadata": {},
   "outputs": [
    {
     "data": {
      "text/plain": [
       "'G:\\\\Velocity 16 APR\\\\05_27_File_Handling_OS_Module\\\\Machine_Learning'"
      ]
     },
     "execution_count": 59,
     "metadata": {},
     "output_type": "execute_result"
    }
   ],
   "source": [
    "folder_path1 = os.getcwd()\n",
    "folder_path2 = 'Machine_Learning'\n",
    "new_path = os.path.join(folder_path1,folder_path2)\n",
    "new_path"
   ]
  },
  {
   "cell_type": "code",
   "execution_count": 60,
   "id": "11675c2b",
   "metadata": {},
   "outputs": [
    {
     "data": {
      "text/plain": [
       "'G:\\\\Velocity 16 APR\\\\05_27_File_Handling_OS_Module\\\\Machine_Learning'"
      ]
     },
     "execution_count": 60,
     "metadata": {},
     "output_type": "execute_result"
    }
   ],
   "source": [
    "folder_path1 = r'G:\\Velocity 16 APR\\05_27_File_Handling_OS_Module'\n",
    "folder_path2 = 'Machine_Learning'\n",
    "new_path = os.path.join(folder_path1,folder_path2)\n",
    "new_path"
   ]
  },
  {
   "cell_type": "code",
   "execution_count": null,
   "id": "8c6f6c61",
   "metadata": {},
   "outputs": [],
   "source": []
  },
  {
   "cell_type": "code",
   "execution_count": null,
   "id": "08051636",
   "metadata": {},
   "outputs": [],
   "source": []
  },
  {
   "cell_type": "code",
   "execution_count": null,
   "id": "6fddf065",
   "metadata": {},
   "outputs": [],
   "source": []
  },
  {
   "cell_type": "code",
   "execution_count": null,
   "id": "6c7b50bc",
   "metadata": {},
   "outputs": [],
   "source": []
  },
  {
   "cell_type": "code",
   "execution_count": null,
   "id": "b13d514f",
   "metadata": {},
   "outputs": [],
   "source": []
  },
  {
   "cell_type": "code",
   "execution_count": 9,
   "id": "bb9486b5",
   "metadata": {},
   "outputs": [],
   "source": [
    "import glob,os"
   ]
  },
  {
   "cell_type": "code",
   "execution_count": 26,
   "id": "90fc0422",
   "metadata": {},
   "outputs": [
    {
     "data": {
      "text/plain": [
       "['linear_regression.pkl']"
      ]
     },
     "execution_count": 26,
     "metadata": {},
     "output_type": "execute_result"
    }
   ],
   "source": [
    "path = r'C:\\Users\\Saurabh\\Desktop\\Script\\sauurabh'\n",
    "files = glob.glob('*.pkl')\n",
    "files"
   ]
  },
  {
   "cell_type": "code",
   "execution_count": 13,
   "id": "c0d64789",
   "metadata": {},
   "outputs": [
    {
     "data": {
      "text/plain": [
       "['.ipynb_checkpoints',\n",
       " 'Adhar card.pdf',\n",
       " 'BE_passing_marksheet_SaurabhVarpe.pdf',\n",
       " 'Employee_Data_SaurabhVarpe.xlsx',\n",
       " 'Experience_and_relieving_SaurabhVarpe.pdf',\n",
       " 'pancard.pdf',\n",
       " 'photo_SaurabhVarpe.pdf',\n",
       " 'python',\n",
       " 'python_7_7',\n",
       " 'python_batch_14_6',\n",
       " 'python_batch_3',\n",
       " 'Salary_Certificates_SaurabhVarpe.pdf',\n",
       " 'saurabh varpe (1).pdf',\n",
       " 'Saurabh_HSC_certificates and marksheets.pdf',\n",
       " 'Saurabh_Offer_latter_SaurabhVarpe.pdf',\n",
       " 'SSC_certificate_and_marksheet_SaurabhVarpe.pdf']"
      ]
     },
     "execution_count": 13,
     "metadata": {},
     "output_type": "execute_result"
    }
   ],
   "source": [
    "os.listdir(path) "
   ]
  },
  {
   "cell_type": "code",
   "execution_count": 31,
   "id": "5260a2a1",
   "metadata": {},
   "outputs": [
    {
     "data": {
      "text/plain": [
       "['movie_reviews\\\\autos_dataset.csv', 'movie_reviews\\\\Country_clusters.csv']"
      ]
     },
     "execution_count": 31,
     "metadata": {},
     "output_type": "execute_result"
    }
   ],
   "source": [
    "path = 'movie_reviews/'\n",
    "files = glob.glob(path + '*.csv')\n",
    "files"
   ]
  },
  {
   "cell_type": "code",
   "execution_count": null,
   "id": "beac76cc",
   "metadata": {},
   "outputs": [],
   "source": []
  },
  {
   "cell_type": "code",
   "execution_count": null,
   "id": "764881a4",
   "metadata": {},
   "outputs": [],
   "source": []
  },
  {
   "cell_type": "code",
   "execution_count": null,
   "id": "d6224e5c",
   "metadata": {},
   "outputs": [],
   "source": []
  },
  {
   "cell_type": "code",
   "execution_count": null,
   "id": "c93b11de",
   "metadata": {},
   "outputs": [],
   "source": []
  },
  {
   "cell_type": "code",
   "execution_count": null,
   "id": "f0568580",
   "metadata": {},
   "outputs": [],
   "source": []
  },
  {
   "cell_type": "code",
   "execution_count": null,
   "id": "7d814a83",
   "metadata": {},
   "outputs": [],
   "source": []
  },
  {
   "cell_type": "code",
   "execution_count": null,
   "id": "e5d2cd9e",
   "metadata": {},
   "outputs": [],
   "source": []
  },
  {
   "cell_type": "code",
   "execution_count": null,
   "id": "46852d9a",
   "metadata": {},
   "outputs": [],
   "source": []
  },
  {
   "cell_type": "code",
   "execution_count": null,
   "id": "96994cd5",
   "metadata": {},
   "outputs": [],
   "source": []
  },
  {
   "cell_type": "code",
   "execution_count": null,
   "id": "5c6a5d0d",
   "metadata": {},
   "outputs": [],
   "source": []
  },
  {
   "cell_type": "code",
   "execution_count": null,
   "id": "42bffb84",
   "metadata": {},
   "outputs": [],
   "source": []
  },
  {
   "cell_type": "code",
   "execution_count": null,
   "id": "08620623",
   "metadata": {},
   "outputs": [],
   "source": []
  },
  {
   "cell_type": "code",
   "execution_count": null,
   "id": "6777b23f",
   "metadata": {},
   "outputs": [],
   "source": []
  },
  {
   "cell_type": "code",
   "execution_count": null,
   "id": "3d4c15a9",
   "metadata": {},
   "outputs": [],
   "source": []
  },
  {
   "cell_type": "code",
   "execution_count": null,
   "id": "e6122d9b",
   "metadata": {},
   "outputs": [],
   "source": []
  },
  {
   "cell_type": "code",
   "execution_count": null,
   "id": "6b0c67bc",
   "metadata": {},
   "outputs": [],
   "source": []
  },
  {
   "cell_type": "code",
   "execution_count": null,
   "id": "15e6a7d0",
   "metadata": {},
   "outputs": [],
   "source": []
  },
  {
   "cell_type": "code",
   "execution_count": null,
   "id": "fb1b9cde",
   "metadata": {},
   "outputs": [],
   "source": []
  },
  {
   "cell_type": "code",
   "execution_count": null,
   "id": "2c83ac7d",
   "metadata": {},
   "outputs": [],
   "source": []
  },
  {
   "cell_type": "code",
   "execution_count": null,
   "id": "13b38438",
   "metadata": {},
   "outputs": [],
   "source": []
  },
  {
   "cell_type": "code",
   "execution_count": null,
   "id": "d9db158d",
   "metadata": {},
   "outputs": [],
   "source": []
  },
  {
   "cell_type": "code",
   "execution_count": null,
   "id": "11e1e1c1",
   "metadata": {},
   "outputs": [],
   "source": []
  },
  {
   "cell_type": "code",
   "execution_count": null,
   "id": "a88ab892",
   "metadata": {},
   "outputs": [],
   "source": []
  },
  {
   "cell_type": "code",
   "execution_count": null,
   "id": "3722975e",
   "metadata": {},
   "outputs": [],
   "source": []
  },
  {
   "cell_type": "code",
   "execution_count": null,
   "id": "73aaf1aa",
   "metadata": {},
   "outputs": [],
   "source": []
  },
  {
   "cell_type": "code",
   "execution_count": null,
   "id": "2016f684",
   "metadata": {},
   "outputs": [],
   "source": []
  },
  {
   "cell_type": "code",
   "execution_count": null,
   "id": "4ef77c7e",
   "metadata": {},
   "outputs": [],
   "source": []
  },
  {
   "cell_type": "code",
   "execution_count": null,
   "id": "54d943a0",
   "metadata": {},
   "outputs": [],
   "source": []
  },
  {
   "cell_type": "code",
   "execution_count": null,
   "id": "585f278e",
   "metadata": {},
   "outputs": [],
   "source": []
  },
  {
   "cell_type": "code",
   "execution_count": null,
   "id": "ebbc98a7",
   "metadata": {},
   "outputs": [],
   "source": []
  },
  {
   "cell_type": "code",
   "execution_count": null,
   "id": "992453bd",
   "metadata": {},
   "outputs": [],
   "source": []
  },
  {
   "cell_type": "code",
   "execution_count": null,
   "id": "0ca8192d",
   "metadata": {},
   "outputs": [],
   "source": []
  },
  {
   "cell_type": "code",
   "execution_count": null,
   "id": "a35b1a8a",
   "metadata": {},
   "outputs": [],
   "source": []
  },
  {
   "cell_type": "code",
   "execution_count": null,
   "id": "ddab7d87",
   "metadata": {},
   "outputs": [],
   "source": []
  }
 ],
 "metadata": {
  "kernelspec": {
   "display_name": "Python 3 (ipykernel)",
   "language": "python",
   "name": "python3"
  },
  "language_info": {
   "codemirror_mode": {
    "name": "ipython",
    "version": 3
   },
   "file_extension": ".py",
   "mimetype": "text/x-python",
   "name": "python",
   "nbconvert_exporter": "python",
   "pygments_lexer": "ipython3",
   "version": "3.11.3"
  }
 },
 "nbformat": 4,
 "nbformat_minor": 5
}
