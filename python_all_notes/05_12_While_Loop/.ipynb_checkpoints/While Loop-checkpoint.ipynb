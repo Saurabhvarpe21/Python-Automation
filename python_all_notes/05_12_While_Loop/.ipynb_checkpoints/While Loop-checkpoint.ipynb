{
 "cells": [
  {
   "cell_type": "markdown",
   "id": "5b045adc",
   "metadata": {},
   "source": [
    "# While Loop"
   ]
  },
  {
   "cell_type": "code",
   "execution_count": null,
   "id": "5b5bdc37",
   "metadata": {},
   "outputs": [],
   "source": [
    "while condition: # True\n",
    "    statement1\n",
    "    statement2"
   ]
  },
  {
   "cell_type": "code",
   "execution_count": 1,
   "id": "0210a23c",
   "metadata": {},
   "outputs": [
    {
     "name": "stdout",
     "output_type": "stream",
     "text": [
      "S\n",
      "c\n",
      "i\n",
      "e\n",
      "n\n",
      "c\n",
      "e\n"
     ]
    }
   ],
   "source": [
    "for i in 'Science':\n",
    "    print(i)"
   ]
  },
  {
   "cell_type": "code",
   "execution_count": 2,
   "id": "b702486a",
   "metadata": {},
   "outputs": [
    {
     "name": "stdout",
     "output_type": "stream",
     "text": [
      "0\n",
      "1\n",
      "2\n",
      "3\n",
      "4\n",
      "5\n",
      "6\n"
     ]
    }
   ],
   "source": [
    "str1 = 'Science'\n",
    "for i in range(len(str1)):\n",
    "    print(i)"
   ]
  },
  {
   "cell_type": "code",
   "execution_count": 3,
   "id": "c8883f69",
   "metadata": {},
   "outputs": [
    {
     "name": "stdout",
     "output_type": "stream",
     "text": [
      "S\n",
      "c\n",
      "i\n",
      "e\n",
      "n\n",
      "c\n",
      "e\n"
     ]
    }
   ],
   "source": [
    "str1 = 'Science'\n",
    "for i in range(len(str1)):\n",
    "    print(str1[i])"
   ]
  },
  {
   "cell_type": "code",
   "execution_count": 4,
   "id": "0ba8162d",
   "metadata": {},
   "outputs": [
    {
     "name": "stdout",
     "output_type": "stream",
     "text": [
      "We are learning Python\n",
      "We are learning Python\n",
      "We are learning Python\n",
      "We are learning Python\n",
      "We are learning Python\n"
     ]
    }
   ],
   "source": [
    "for i in range(5):\n",
    "    print('We are learning Python')"
   ]
  },
  {
   "cell_type": "code",
   "execution_count": null,
   "id": "e5ed7bf0",
   "metadata": {},
   "outputs": [],
   "source": [
    "i = 0\n",
    "while i < 5:\n",
    "    print('We are learning Python')"
   ]
  },
  {
   "cell_type": "code",
   "execution_count": 5,
   "id": "84c65bc5",
   "metadata": {},
   "outputs": [
    {
     "name": "stdout",
     "output_type": "stream",
     "text": [
      "We are learning Python\n",
      "We are learning Python\n",
      "We are learning Python\n",
      "We are learning Python\n",
      "We are learning Python\n"
     ]
    }
   ],
   "source": [
    "i = 0\n",
    "while i < 5:\n",
    "    print('We are learning Python')\n",
    "    i += 1"
   ]
  },
  {
   "cell_type": "code",
   "execution_count": 7,
   "id": "bea1bbb5",
   "metadata": {},
   "outputs": [
    {
     "name": "stdout",
     "output_type": "stream",
     "text": [
      "We are learning Python\n",
      "hello\n",
      "We are learning Python\n",
      "hello\n",
      "We are learning Python\n",
      "hello\n",
      "We are learning Python\n",
      "hello\n",
      "We are learning Python\n",
      "hello\n"
     ]
    }
   ],
   "source": [
    "i = 0\n",
    "while i < 5:\n",
    "    print('We are learning Python')\n",
    "    i += 1\n",
    "    print(\"hello\")"
   ]
  },
  {
   "cell_type": "code",
   "execution_count": 8,
   "id": "5a5acc6d",
   "metadata": {},
   "outputs": [
    {
     "name": "stdout",
     "output_type": "stream",
     "text": [
      "We are learning Python\n",
      "We are learning Python\n",
      "We are learning Python\n",
      "We are learning Python\n",
      "We are learning Python\n",
      "hello\n"
     ]
    }
   ],
   "source": [
    "i = 0\n",
    "while i < 5:\n",
    "    print('We are learning Python')\n",
    "    i += 1\n",
    "print(\"hello\")"
   ]
  },
  {
   "cell_type": "code",
   "execution_count": null,
   "id": "e77e43a5",
   "metadata": {},
   "outputs": [],
   "source": [
    "string = 'Python'\n",
    "i = 0\n",
    "while i < len(string):   # 0 - 6 \n",
    "    print('Char is:', string[i])"
   ]
  },
  {
   "cell_type": "code",
   "execution_count": 10,
   "id": "3a0983a8",
   "metadata": {},
   "outputs": [
    {
     "name": "stdout",
     "output_type": "stream",
     "text": [
      "Char is: P\n",
      "Char is: y\n",
      "Char is: t\n",
      "Char is: h\n",
      "Char is: o\n",
      "Char is: n\n"
     ]
    }
   ],
   "source": [
    "string = 'Python'\n",
    "i = 0\n",
    "while i < len(string):   # 0 - 6 \n",
    "    print('Char is:', string[i])\n",
    "    i +=1"
   ]
  },
  {
   "cell_type": "code",
   "execution_count": 11,
   "id": "f55a856b",
   "metadata": {},
   "outputs": [
    {
     "name": "stdout",
     "output_type": "stream",
     "text": [
      "Char is: P\n",
      "Char is: t\n",
      "Char is: o\n"
     ]
    }
   ],
   "source": [
    "string = 'Python'\n",
    "i = 0\n",
    "while i < len(string):   # 0 - 6 \n",
    "    print('Char is:', string[i])\n",
    "    i += 2"
   ]
  },
  {
   "cell_type": "code",
   "execution_count": 12,
   "id": "715bd364",
   "metadata": {},
   "outputs": [
    {
     "name": "stdout",
     "output_type": "stream",
     "text": [
      "Char at index 0 is P\n",
      "Char at index 1 is y\n",
      "Char at index 2 is t\n",
      "Char at index 3 is h\n",
      "Char at index 4 is o\n",
      "Char at index 5 is n\n"
     ]
    }
   ],
   "source": [
    "string = 'Python'\n",
    "i = 0\n",
    "while i < len(string):   # 0 - 6 \n",
    "    print(f'Char at index {i} is {string[i]}')\n",
    "    i += 1"
   ]
  },
  {
   "cell_type": "code",
   "execution_count": null,
   "id": "0ff33b58",
   "metadata": {},
   "outputs": [],
   "source": [
    "string = 'Python'\n",
    "i = 0\n",
    "while i < len(string):   # 0 - 6 \n",
    "    print(f'Char at index {i} is {string[i]}')\n"
   ]
  },
  {
   "cell_type": "code",
   "execution_count": 14,
   "id": "ab739b56",
   "metadata": {},
   "outputs": [
    {
     "name": "stdout",
     "output_type": "stream",
     "text": [
      "Char at index 0 is 2\n",
      "Char at index 1 is 3\n",
      "Char at index 2 is 4\n",
      "Char at index 3 is 5\n",
      "Char at index 4 is 6\n",
      "Char at index 5 is 7\n",
      "Char at index 6 is 8\n"
     ]
    }
   ],
   "source": [
    "list1 = [2,3,4,5,6,7,8]\n",
    "i = 0\n",
    "while i < len(list1):   # 0 - 7\n",
    "    print(f'Char at index {i} is {list1[i]}')\n",
    "    i += 1"
   ]
  },
  {
   "cell_type": "code",
   "execution_count": 15,
   "id": "fa6cb64c",
   "metadata": {},
   "outputs": [
    {
     "name": "stdout",
     "output_type": "stream",
     "text": [
      "1\n",
      "2\n",
      "3\n",
      "4\n"
     ]
    }
   ],
   "source": [
    "for x in (1,2,3,4):\n",
    "    print(x)"
   ]
  },
  {
   "cell_type": "code",
   "execution_count": 16,
   "id": "6f12a899",
   "metadata": {},
   "outputs": [
    {
     "name": "stdout",
     "output_type": "stream",
     "text": [
      "Char at index 0 is 2\n",
      "Char at index 1 is 3\n",
      "Char at index 2 is 4\n",
      "Char at index 3 is 5\n",
      "Char at index 4 is 6\n",
      "Char at index 5 is 7\n",
      "Char at index 6 is 8\n"
     ]
    }
   ],
   "source": [
    "tuple1 = (2,3,4,5,6,7,8)\n",
    "i = 0\n",
    "while i < len(tuple1):   # 0 - 7\n",
    "    print(f'Char at index {i} is {tuple1[i]}')\n",
    "    i += 1"
   ]
  },
  {
   "cell_type": "markdown",
   "id": "502bb8a2",
   "metadata": {},
   "source": [
    "## Addition of first 10 numbers"
   ]
  },
  {
   "cell_type": "code",
   "execution_count": 17,
   "id": "819bd079",
   "metadata": {},
   "outputs": [
    {
     "name": "stdout",
     "output_type": "stream",
     "text": [
      "Addition of first 1 numbers is 1\n",
      "Addition of first 2 numbers is 3\n",
      "Addition of first 3 numbers is 6\n",
      "Addition of first 4 numbers is 10\n",
      "Addition of first 5 numbers is 15\n",
      "Addition of first 6 numbers is 21\n",
      "Addition of first 7 numbers is 28\n",
      "Addition of first 8 numbers is 36\n",
      "Addition of first 9 numbers is 45\n",
      "Addition of first 10 numbers is 55\n"
     ]
    }
   ],
   "source": [
    "n = 10\n",
    "i = 1\n",
    "sum1 = 0\n",
    "while i <= n:\n",
    "    sum1 +=i\n",
    "    print(f'Addition of first {i} numbers is {sum1}')\n",
    "    i+=1\n",
    "    \n",
    "    "
   ]
  },
  {
   "cell_type": "code",
   "execution_count": 18,
   "id": "88606cd0",
   "metadata": {},
   "outputs": [
    {
     "name": "stdout",
     "output_type": "stream",
     "text": [
      "Addition of first 1 numbers is 2\n",
      "Addition of first 2 numbers is 4\n",
      "Addition of first 3 numbers is 7\n",
      "Addition of first 4 numbers is 11\n",
      "Addition of first 5 numbers is 16\n",
      "Addition of first 6 numbers is 22\n",
      "Addition of first 7 numbers is 29\n",
      "Addition of first 8 numbers is 37\n",
      "Addition of first 9 numbers is 46\n",
      "Addition of first 10 numbers is 56\n"
     ]
    }
   ],
   "source": [
    "n = 10\n",
    "i = 1\n",
    "sum1 = 1\n",
    "while i <= n:\n",
    "    sum1 +=i\n",
    "    print(f'Addition of first {i} numbers is {sum1}')\n",
    "    i+=1  "
   ]
  },
  {
   "cell_type": "code",
   "execution_count": 19,
   "id": "c03fea6b",
   "metadata": {},
   "outputs": [
    {
     "name": "stdout",
     "output_type": "stream",
     "text": [
      "Addition of first 1 numbers is 1\n",
      "Addition of first 2 numbers is 3\n",
      "Addition of first 3 numbers is 6\n",
      "Addition of first 4 numbers is 10\n",
      "Addition of first 5 numbers is 15\n",
      "Addition of first 6 numbers is 21\n",
      "Addition of first 7 numbers is 28\n",
      "Addition of first 8 numbers is 36\n",
      "Addition of first 9 numbers is 45\n",
      "Addition of first 10 numbers is 55\n"
     ]
    }
   ],
   "source": [
    "i = 1\n",
    "sum1 = 0\n",
    "while i <= 10:\n",
    "    sum1 +=i\n",
    "    print(f'Addition of first {i} numbers is {sum1}')\n",
    "    i+=1"
   ]
  },
  {
   "cell_type": "code",
   "execution_count": 20,
   "id": "b04fbd82",
   "metadata": {},
   "outputs": [
    {
     "name": "stdout",
     "output_type": "stream",
     "text": [
      "Addition of first 10 numbers is 55\n"
     ]
    }
   ],
   "source": [
    "n =10\n",
    "i = 1\n",
    "sum1 = 0\n",
    "while i <= n:\n",
    "    sum1 +=i\n",
    "    \n",
    "    i+=1\n",
    "    \n",
    "print(f'Addition of first {n} numbers is {sum1}')"
   ]
  },
  {
   "cell_type": "code",
   "execution_count": 21,
   "id": "49885d64",
   "metadata": {},
   "outputs": [
    {
     "name": "stdout",
     "output_type": "stream",
     "text": [
      "Multiplication of first 10 numbers is 3628800\n"
     ]
    }
   ],
   "source": [
    "n =10\n",
    "i = 1\n",
    "mul1 = 1\n",
    "while i <= n:\n",
    "    mul1 *=i\n",
    "    \n",
    "    i+=1\n",
    "    \n",
    "print(f'Multiplication of first {n} numbers is {mul1}')"
   ]
  },
  {
   "cell_type": "code",
   "execution_count": 22,
   "id": "5328bc9f",
   "metadata": {},
   "outputs": [
    {
     "name": "stdout",
     "output_type": "stream",
     "text": [
      "Multiplication of first 5 numbers is 120\n"
     ]
    }
   ],
   "source": [
    "n = 5\n",
    "i = 1\n",
    "mul1 = 1\n",
    "while i <= n:\n",
    "    mul1 *=i\n",
    "    \n",
    "    i+=1\n",
    "    \n",
    "print(f'Multiplication of first {n} numbers is {mul1}')"
   ]
  },
  {
   "cell_type": "code",
   "execution_count": 23,
   "id": "3f14cd9b",
   "metadata": {},
   "outputs": [
    {
     "name": "stdout",
     "output_type": "stream",
     "text": [
      "Multiplication of first 1 numbers is 1\n",
      "Multiplication of first 2 numbers is 2\n",
      "Multiplication of first 3 numbers is 6\n",
      "Multiplication of first 4 numbers is 24\n",
      "Multiplication of first 5 numbers is 120\n"
     ]
    }
   ],
   "source": [
    "n = 5\n",
    "i = 1\n",
    "mul1 = 1\n",
    "while i <= n:\n",
    "    mul1 *=i\n",
    "    print(f'Multiplication of first {i} numbers is {mul1}')\n",
    "    i+=1\n",
    "    \n"
   ]
  },
  {
   "cell_type": "code",
   "execution_count": 24,
   "id": "0126b477",
   "metadata": {},
   "outputs": [
    {
     "name": "stdout",
     "output_type": "stream",
     "text": [
      "15 * 1 == 15\n",
      "15 * 2 == 30\n",
      "15 * 3 == 45\n",
      "15 * 4 == 60\n",
      "15 * 5 == 75\n",
      "15 * 6 == 90\n",
      "15 * 7 == 105\n",
      "15 * 8 == 120\n",
      "15 * 9 == 135\n",
      "15 * 10 == 150\n"
     ]
    }
   ],
   "source": [
    "num = 15\n",
    "i = 1\n",
    "mul = 1\n",
    "\n",
    "while i <= 10:\n",
    "    mul = num * i\n",
    "    \n",
    "    print(f'{num} * {i} == {mul}')\n",
    "    \n",
    "    i +=1"
   ]
  },
  {
   "cell_type": "markdown",
   "id": "6edb8122",
   "metadata": {},
   "source": [
    "## Loop control Statements"
   ]
  },
  {
   "cell_type": "code",
   "execution_count": 25,
   "id": "c5e531ab",
   "metadata": {},
   "outputs": [
    {
     "ename": "SyntaxError",
     "evalue": "invalid syntax (<ipython-input-25-19256efcccee>, line 1)",
     "output_type": "error",
     "traceback": [
      "\u001b[1;36m  File \u001b[1;32m\"<ipython-input-25-19256efcccee>\"\u001b[1;36m, line \u001b[1;32m1\u001b[0m\n\u001b[1;33m    1. break\u001b[0m\n\u001b[1;37m       ^\u001b[0m\n\u001b[1;31mSyntaxError\u001b[0m\u001b[1;31m:\u001b[0m invalid syntax\n"
     ]
    }
   ],
   "source": [
    "1. break\n",
    "2. continue\n",
    "3. pass"
   ]
  },
  {
   "cell_type": "markdown",
   "id": "fec5818c",
   "metadata": {},
   "source": [
    "## 1. break"
   ]
  },
  {
   "cell_type": "code",
   "execution_count": 26,
   "id": "60d766dd",
   "metadata": {},
   "outputs": [
    {
     "name": "stdout",
     "output_type": "stream",
     "text": [
      "0\n",
      "1\n",
      "2\n",
      "3\n",
      "4\n",
      "5\n",
      "6\n",
      "7\n",
      "8\n",
      "9\n"
     ]
    }
   ],
   "source": [
    "i = 0\n",
    "while i <10 :\n",
    "    print(i)\n",
    "    i+=1"
   ]
  },
  {
   "cell_type": "code",
   "execution_count": 27,
   "id": "4bd6adb1",
   "metadata": {},
   "outputs": [
    {
     "name": "stdout",
     "output_type": "stream",
     "text": [
      "0\n",
      "1\n",
      "2\n",
      "3\n",
      "4\n",
      "Number is 5\n",
      "5\n",
      "6\n",
      "7\n",
      "8\n",
      "9\n"
     ]
    }
   ],
   "source": [
    "i = 0\n",
    "while i <10 :\n",
    "    print(i)\n",
    "    i+=1\n",
    "    if i == 5:\n",
    "        print('Number is 5')"
   ]
  },
  {
   "cell_type": "code",
   "execution_count": 28,
   "id": "af40c030",
   "metadata": {},
   "outputs": [
    {
     "name": "stdout",
     "output_type": "stream",
     "text": [
      "0\n",
      "1\n",
      "2\n",
      "3\n",
      "4\n",
      "Number is 5\n"
     ]
    }
   ],
   "source": [
    "i = 0\n",
    "while i <10 :\n",
    "    print(i)\n",
    "    i+=1\n",
    "    if i == 5:\n",
    "        print('Number is 5')\n",
    "        break"
   ]
  },
  {
   "cell_type": "markdown",
   "id": "9cb23b20",
   "metadata": {},
   "source": [
    "## continue"
   ]
  },
  {
   "cell_type": "code",
   "execution_count": 29,
   "id": "fbe2f521",
   "metadata": {},
   "outputs": [
    {
     "name": "stdout",
     "output_type": "stream",
     "text": [
      "0\n",
      "1\n",
      "2\n",
      "3\n",
      "4\n",
      "Number is 5\n",
      "5\n",
      "6\n",
      "7\n",
      "8\n",
      "9\n"
     ]
    }
   ],
   "source": [
    "i = 0\n",
    "while i <10 :\n",
    "    print(i)\n",
    "    i+=1\n",
    "    if i == 5:\n",
    "        print('Number is 5')\n",
    "        continue"
   ]
  },
  {
   "cell_type": "code",
   "execution_count": 30,
   "id": "29213f28",
   "metadata": {},
   "outputs": [
    {
     "name": "stdout",
     "output_type": "stream",
     "text": [
      "0\n",
      "1\n",
      "2\n",
      "3\n",
      "4\n",
      "5\n",
      "6\n",
      "7\n",
      "8\n",
      "9\n"
     ]
    }
   ],
   "source": [
    "i = 0\n",
    "while i <10 :\n",
    "    print(i)\n",
    "    i+=1\n",
    "    if i == 5:\n",
    "        continue\n",
    "        print('Number is 5')\n",
    "        "
   ]
  },
  {
   "cell_type": "code",
   "execution_count": null,
   "id": "9a74a56b",
   "metadata": {},
   "outputs": [],
   "source": [
    "i = 0\n",
    "while i <10 :\n",
    "    if i == 5:\n",
    "        print('Number is 5')\n",
    "        continue\n",
    "    print(i)\n",
    "    i+=1"
   ]
  },
  {
   "cell_type": "code",
   "execution_count": null,
   "id": "d988b035",
   "metadata": {},
   "outputs": [],
   "source": [
    "i = 0\n",
    "while i <10 :\n",
    "    print(i)\n",
    "    if i == 5:\n",
    "        print('Number is 5')\n",
    "        break\n",
    "    i+=1"
   ]
  },
  {
   "cell_type": "code",
   "execution_count": null,
   "id": "b09c9cd4",
   "metadata": {},
   "outputs": [],
   "source": [
    "i = 0\n",
    "while i <10 :\n",
    "    print(i)\n",
    "    if i == 5:\n",
    "        print('Number is 5')\n",
    "        break\n",
    "    i+=1\n",
    "    print('*****************')"
   ]
  },
  {
   "cell_type": "code",
   "execution_count": null,
   "id": "c2e8184c",
   "metadata": {},
   "outputs": [],
   "source": [
    "i = 0\n",
    "while i <10 :\n",
    "    print(i)\n",
    "    i+=1\n",
    "    if i == 5:\n",
    "        print('Number is 5')\n",
    "        continue\n",
    "    \n",
    "    print('*****************')"
   ]
  },
  {
   "cell_type": "code",
   "execution_count": null,
   "id": "ad95a188",
   "metadata": {},
   "outputs": [],
   "source": [
    "i = 0\n",
    "while i <10 :\n",
    "    \n",
    "    i+=1\n",
    "    print(i)\n",
    "    if i == 5:\n",
    "        print('Number is 5')\n",
    "        continue\n",
    "    \n",
    "    print('*****************')"
   ]
  },
  {
   "cell_type": "markdown",
   "id": "ff9911e8",
   "metadata": {},
   "source": [
    "## Factorial"
   ]
  },
  {
   "cell_type": "code",
   "execution_count": null,
   "id": "7c5780ac",
   "metadata": {},
   "outputs": [],
   "source": [
    "fact =1\n",
    "n = 5\n",
    "i = n\n",
    "while i >=1:\n",
    "    fact = fact *i\n",
    "    i-=1\n",
    "    print(f'Factorial of {n} is {fact}')"
   ]
  },
  {
   "cell_type": "code",
   "execution_count": null,
   "id": "54765615",
   "metadata": {},
   "outputs": [],
   "source": [
    "fact =1\n",
    "n = 5\n",
    "i = n\n",
    "while i >=1:\n",
    "    fact = fact *i\n",
    "    i-=1\n",
    "print(f'Factorial of {n} is {fact}')"
   ]
  },
  {
   "cell_type": "markdown",
   "id": "81ca49e5",
   "metadata": {},
   "source": [
    "# While else"
   ]
  },
  {
   "cell_type": "code",
   "execution_count": 1,
   "id": "0302b983",
   "metadata": {},
   "outputs": [
    {
     "name": "stdout",
     "output_type": "stream",
     "text": [
      "0\n",
      "1\n",
      "2\n",
      "3\n",
      "4\n",
      "Loop Executed\n"
     ]
    }
   ],
   "source": [
    "for i in range(5):\n",
    "    print(i)  \n",
    "else :\n",
    "    print('Loop Executed')"
   ]
  },
  {
   "cell_type": "code",
   "execution_count": null,
   "id": "6bf631ac",
   "metadata": {},
   "outputs": [],
   "source": [
    "for i in range(5):\n",
    "    print(i)\n",
    "    if i == 2:\n",
    "        break\n",
    "    \n",
    "else :\n",
    "    print('Loop Executed')"
   ]
  },
  {
   "cell_type": "code",
   "execution_count": null,
   "id": "326f494c",
   "metadata": {},
   "outputs": [],
   "source": [
    "i = 0\n",
    "while i <= 5:\n",
    "    print(i)\n",
    "    i +=1\n"
   ]
  },
  {
   "cell_type": "code",
   "execution_count": null,
   "id": "4de48080",
   "metadata": {},
   "outputs": [],
   "source": [
    "i = 0\n",
    "while i < 5:\n",
    "    print(i)\n",
    "    i +=1\n",
    "    \n",
    "else:\n",
    "    print('While loop Executed')"
   ]
  },
  {
   "cell_type": "code",
   "execution_count": null,
   "id": "5b9aae0a",
   "metadata": {},
   "outputs": [],
   "source": [
    "i = 0\n",
    "while i < 5:\n",
    "    print(i)\n",
    "    i +=1\n",
    "    if i == 2:\n",
    "        print('Number is 2')\n",
    "        break\n",
    "else:\n",
    "    print('While loop Executed')"
   ]
  },
  {
   "cell_type": "code",
   "execution_count": null,
   "id": "893fa143",
   "metadata": {},
   "outputs": [],
   "source": [
    "i = 0\n",
    "while i < 5:\n",
    "    print(i)\n",
    "    \n",
    "    if i == 2:\n",
    "        print('Number is 2')\n",
    "        break\n",
    "        \n",
    "    i +=1\n",
    "    \n",
    "else:\n",
    "    print('While loop Executed')"
   ]
  },
  {
   "cell_type": "code",
   "execution_count": null,
   "id": "a7c43977",
   "metadata": {},
   "outputs": [],
   "source": [
    "string = 'Python'\n",
    "i = 0\n",
    "\n",
    "while i < len(string):\n",
    "    print(i)\n",
    "    print('Char is :', string[i])\n",
    "    i+=1\n",
    "    \n",
    "else:\n",
    "    print('Loop Executed')"
   ]
  },
  {
   "cell_type": "code",
   "execution_count": null,
   "id": "183d0802",
   "metadata": {},
   "outputs": [],
   "source": [
    "string = 'Python'\n",
    "i = 0\n",
    "\n",
    "while i < len(string):\n",
    "    print(i)\n",
    "    print('Char is :', string[i])\n",
    "    if string[i] == 'h':\n",
    "        print('hello')\n",
    "        break\n",
    "    \n",
    "    i+=1\n",
    "    \n",
    "else:\n",
    "    print('Loop Executed')"
   ]
  },
  {
   "cell_type": "code",
   "execution_count": null,
   "id": "7338015e",
   "metadata": {},
   "outputs": [],
   "source": [
    "i  = 0\n",
    "while i < 5:\n",
    "    print('Number is :',i)\n",
    "    j=0\n",
    "    while j <5:\n",
    "        print('hello')\n",
    "        j+=1\n",
    "    i+=1"
   ]
  },
  {
   "cell_type": "code",
   "execution_count": null,
   "id": "8e292b99",
   "metadata": {},
   "outputs": [],
   "source": [
    "i = 0\n",
    "while i < 5:\n",
    "    j =0\n",
    "    while j<5:\n",
    "        print('*',end = ' ')\n",
    "        j+=1\n",
    "    i+=1\n",
    "    print()"
   ]
  },
  {
   "cell_type": "code",
   "execution_count": null,
   "id": "563fc2e3",
   "metadata": {},
   "outputs": [],
   "source": [
    "i =1\n",
    "n =5\n",
    "\n",
    "while i <= n :\n",
    "    j = 0\n",
    "    while j < i:\n",
    "        print('*',end = ' ')\n",
    "        j+=1\n",
    "    i+=1\n",
    "    print()"
   ]
  },
  {
   "cell_type": "code",
   "execution_count": null,
   "id": "ac6fc06d",
   "metadata": {},
   "outputs": [],
   "source": [
    "i =1\n",
    "n =5\n",
    "\n",
    "while i < n+1 :\n",
    "    j = 0\n",
    "    while j < i:\n",
    "        print('*',end = ' ')\n",
    "        j+=1\n",
    "    i+=1\n",
    "    print()"
   ]
  },
  {
   "cell_type": "code",
   "execution_count": null,
   "id": "44443e4d",
   "metadata": {},
   "outputs": [],
   "source": [
    "i =1\n",
    "n =5\n",
    "\n",
    "while i < n+1 :\n",
    "    j = 0\n",
    "    while j < i:\n",
    "        print('A',end = ' ')\n",
    "        j+=1\n",
    "    i+=1\n",
    "    print()"
   ]
  },
  {
   "cell_type": "code",
   "execution_count": null,
   "id": "0945143b",
   "metadata": {},
   "outputs": [],
   "source": [
    "i =1\n",
    "n =5\n",
    "x =65\n",
    "while i < n+1 :\n",
    "    j = 0\n",
    "    while j < i:\n",
    "        print(chr(x),end = ' ')\n",
    "        j+=1\n",
    "    i+=1\n",
    "    print()"
   ]
  },
  {
   "cell_type": "code",
   "execution_count": null,
   "id": "16e67746",
   "metadata": {},
   "outputs": [],
   "source": [
    "i =1\n",
    "n =5\n",
    "x =65\n",
    "while i < n+1 :\n",
    "    j = 0\n",
    "    while j < i:\n",
    "        print(chr(x),end = ' ')\n",
    "        j+=1\n",
    "        x+=1\n",
    "    i+=1\n",
    "    print()"
   ]
  },
  {
   "cell_type": "code",
   "execution_count": null,
   "id": "e2e30c0f",
   "metadata": {},
   "outputs": [],
   "source": [
    "i =1\n",
    "n =5\n",
    "x =65\n",
    "while i < n+1 :\n",
    "    j = 0\n",
    "    while j < i:\n",
    "        print(chr(x),end = ' ')\n",
    "        j+=1\n",
    "    x+=1\n",
    "    i+=1\n",
    "    print()"
   ]
  },
  {
   "cell_type": "code",
   "execution_count": null,
   "id": "e49d2876",
   "metadata": {},
   "outputs": [],
   "source": []
  },
  {
   "cell_type": "code",
   "execution_count": null,
   "id": "258eb662",
   "metadata": {},
   "outputs": [],
   "source": []
  },
  {
   "cell_type": "code",
   "execution_count": null,
   "id": "eae554be",
   "metadata": {},
   "outputs": [],
   "source": []
  },
  {
   "cell_type": "code",
   "execution_count": null,
   "id": "56ec6629",
   "metadata": {},
   "outputs": [],
   "source": []
  },
  {
   "cell_type": "code",
   "execution_count": null,
   "id": "1cc1f6ef",
   "metadata": {},
   "outputs": [],
   "source": []
  },
  {
   "cell_type": "code",
   "execution_count": null,
   "id": "4b8fb93f",
   "metadata": {},
   "outputs": [],
   "source": []
  },
  {
   "cell_type": "code",
   "execution_count": null,
   "id": "f68e8c80",
   "metadata": {},
   "outputs": [],
   "source": []
  },
  {
   "cell_type": "code",
   "execution_count": null,
   "id": "dc5d34d3",
   "metadata": {},
   "outputs": [],
   "source": []
  },
  {
   "cell_type": "code",
   "execution_count": null,
   "id": "8f06ff84",
   "metadata": {},
   "outputs": [],
   "source": []
  },
  {
   "cell_type": "code",
   "execution_count": null,
   "id": "65a37755",
   "metadata": {},
   "outputs": [],
   "source": []
  },
  {
   "cell_type": "code",
   "execution_count": null,
   "id": "1e849cbc",
   "metadata": {},
   "outputs": [],
   "source": [
    "n = 10\n",
    "\n",
    "a = 0\n",
    "for i in range(n,0,-1):\n",
    "    print('*'*i,end =\" \")\n",
    "    print(\" \"*(n-i+a) + \"*\"*i)\n",
    "    a +=1\n",
    "    \n",
    "\n",
    "for i in range (1,n+1,1):\n",
    "    print('*'*i, end =\" \")\n",
    "    print(\" \"*(n-i+a) + \"*\"*i)\n",
    "    a -=1"
   ]
  },
  {
   "cell_type": "code",
   "execution_count": null,
   "id": "454cf997",
   "metadata": {},
   "outputs": [],
   "source": []
  },
  {
   "cell_type": "code",
   "execution_count": null,
   "id": "778c70c5",
   "metadata": {},
   "outputs": [],
   "source": [
    "for i in range(5):\n",
    "    print('i==',i)\n",
    "    for j in range(2):  # 0,1\n",
    "        print('hii')"
   ]
  },
  {
   "cell_type": "code",
   "execution_count": null,
   "id": "aeab75c7",
   "metadata": {},
   "outputs": [],
   "source": [
    "for i in range(1,5):\n",
    "    print('i==',i)\n",
    "    for j in range(i):  # 0\n",
    "        print('hii',end = ' ')\n",
    "        \n",
    "    print()"
   ]
  },
  {
   "cell_type": "code",
   "execution_count": null,
   "id": "17c808a3",
   "metadata": {},
   "outputs": [],
   "source": [
    " i =2\n",
    "    \n",
    "    range(2)>> 0, 1"
   ]
  },
  {
   "cell_type": "code",
   "execution_count": null,
   "id": "e9cfbae5",
   "metadata": {},
   "outputs": [],
   "source": []
  },
  {
   "cell_type": "code",
   "execution_count": null,
   "id": "b959fe1d",
   "metadata": {},
   "outputs": [],
   "source": []
  },
  {
   "cell_type": "code",
   "execution_count": null,
   "id": "d79b7418",
   "metadata": {},
   "outputs": [],
   "source": []
  },
  {
   "cell_type": "code",
   "execution_count": null,
   "id": "6f108e1e",
   "metadata": {},
   "outputs": [],
   "source": []
  },
  {
   "cell_type": "code",
   "execution_count": null,
   "id": "82aeb245",
   "metadata": {},
   "outputs": [],
   "source": []
  },
  {
   "cell_type": "code",
   "execution_count": null,
   "id": "7eebc3a1",
   "metadata": {},
   "outputs": [],
   "source": []
  },
  {
   "cell_type": "code",
   "execution_count": null,
   "id": "657557bc",
   "metadata": {},
   "outputs": [],
   "source": []
  },
  {
   "cell_type": "code",
   "execution_count": null,
   "id": "bebad33a",
   "metadata": {},
   "outputs": [],
   "source": []
  },
  {
   "cell_type": "code",
   "execution_count": null,
   "id": "233b9dcf",
   "metadata": {},
   "outputs": [],
   "source": []
  },
  {
   "cell_type": "code",
   "execution_count": null,
   "id": "6257abe0",
   "metadata": {},
   "outputs": [],
   "source": []
  },
  {
   "cell_type": "code",
   "execution_count": null,
   "id": "fbe983f1",
   "metadata": {},
   "outputs": [],
   "source": []
  },
  {
   "cell_type": "code",
   "execution_count": null,
   "id": "6797eadb",
   "metadata": {},
   "outputs": [],
   "source": []
  },
  {
   "cell_type": "code",
   "execution_count": null,
   "id": "0638f1ea",
   "metadata": {},
   "outputs": [],
   "source": []
  },
  {
   "cell_type": "code",
   "execution_count": null,
   "id": "80ff7b05",
   "metadata": {},
   "outputs": [],
   "source": []
  },
  {
   "cell_type": "code",
   "execution_count": null,
   "id": "9b10f977",
   "metadata": {},
   "outputs": [],
   "source": []
  },
  {
   "cell_type": "code",
   "execution_count": null,
   "id": "c5a54696",
   "metadata": {},
   "outputs": [],
   "source": []
  },
  {
   "cell_type": "code",
   "execution_count": null,
   "id": "eefab9a1",
   "metadata": {},
   "outputs": [],
   "source": []
  },
  {
   "cell_type": "code",
   "execution_count": null,
   "id": "3daa2d12",
   "metadata": {},
   "outputs": [],
   "source": []
  },
  {
   "cell_type": "code",
   "execution_count": null,
   "id": "d3cc9186",
   "metadata": {},
   "outputs": [],
   "source": []
  },
  {
   "cell_type": "code",
   "execution_count": null,
   "id": "4d6da6c5",
   "metadata": {},
   "outputs": [],
   "source": []
  }
 ],
 "metadata": {
  "kernelspec": {
   "display_name": "Python 3 (ipykernel)",
   "language": "python",
   "name": "python3"
  },
  "language_info": {
   "codemirror_mode": {
    "name": "ipython",
    "version": 3
   },
   "file_extension": ".py",
   "mimetype": "text/x-python",
   "name": "python",
   "nbconvert_exporter": "python",
   "pygments_lexer": "ipython3",
   "version": "3.11.3"
  }
 },
 "nbformat": 4,
 "nbformat_minor": 5
}
