{
 "cells": [
  {
   "cell_type": "markdown",
   "id": "c50c8043",
   "metadata": {},
   "source": [
    "# Dictionary"
   ]
  },
  {
   "cell_type": "code",
   "execution_count": null,
   "id": "0f1de28e",
   "metadata": {},
   "outputs": [],
   "source": [
    "Dict = {key:value, key1:value1}\n",
    "\n",
    "1. It is a collection of key and value pairs\n",
    "2. Duplicate keys is not allowed\n",
    "3. Duplicate values are allowed\n",
    "4. Comma seperated\n",
    "5. dict is enclosed by {}\n",
    "6. We can not use indexing\n",
    "7. Mutable\n",
    "\n",
    "\n",
    "key >> Immutable DataTypes  >> int, float, str, tuple, frozenset()\n",
    "values >> Any datatype   >> int, float, str, tuple, list, set, dict, df\n",
    "\n",
    "If Python >= 3.7  >> Ordered\n",
    "If Python < 3.7   >> Unordered"
   ]
  },
  {
   "cell_type": "code",
   "execution_count": 1,
   "id": "30a858b4",
   "metadata": {},
   "outputs": [
    {
     "data": {
      "text/plain": [
       "{1, 2, 3}"
      ]
     },
     "execution_count": 1,
     "metadata": {},
     "output_type": "execute_result"
    }
   ],
   "source": [
    "set1 = {1,2,3}\n",
    "set1"
   ]
  },
  {
   "cell_type": "code",
   "execution_count": 2,
   "id": "52f4cee9",
   "metadata": {},
   "outputs": [
    {
     "data": {
      "text/plain": [
       "{'a': 100, 'b': 200, 'c': 300}"
      ]
     },
     "execution_count": 2,
     "metadata": {},
     "output_type": "execute_result"
    }
   ],
   "source": [
    "dict1 = {'a':100,'b':200,'c':300}\n",
    "dict1"
   ]
  },
  {
   "cell_type": "code",
   "execution_count": 3,
   "id": "88b9d3f5",
   "metadata": {},
   "outputs": [
    {
     "data": {
      "text/plain": [
       "3"
      ]
     },
     "execution_count": 3,
     "metadata": {},
     "output_type": "execute_result"
    }
   ],
   "source": [
    "len(dict1)"
   ]
  },
  {
   "cell_type": "code",
   "execution_count": 4,
   "id": "8c42b3a9",
   "metadata": {},
   "outputs": [
    {
     "ename": "KeyError",
     "evalue": "0",
     "output_type": "error",
     "traceback": [
      "\u001b[1;31m---------------------------------------------------------------------------\u001b[0m",
      "\u001b[1;31mKeyError\u001b[0m                                  Traceback (most recent call last)",
      "\u001b[1;32m<ipython-input-4-90e2046cfae3>\u001b[0m in \u001b[0;36m<module>\u001b[1;34m\u001b[0m\n\u001b[1;32m----> 1\u001b[1;33m \u001b[0mdict1\u001b[0m\u001b[1;33m[\u001b[0m\u001b[1;36m0\u001b[0m\u001b[1;33m]\u001b[0m\u001b[1;33m\u001b[0m\u001b[1;33m\u001b[0m\u001b[0m\n\u001b[0m",
      "\u001b[1;31mKeyError\u001b[0m: 0"
     ]
    }
   ],
   "source": [
    "dict1[0]"
   ]
  },
  {
   "cell_type": "code",
   "execution_count": 5,
   "id": "837082a5",
   "metadata": {},
   "outputs": [
    {
     "data": {
      "text/plain": [
       "200"
      ]
     },
     "execution_count": 5,
     "metadata": {},
     "output_type": "execute_result"
    }
   ],
   "source": [
    "dict1['b']"
   ]
  },
  {
   "cell_type": "code",
   "execution_count": 6,
   "id": "8d1c884d",
   "metadata": {},
   "outputs": [
    {
     "data": {
      "text/plain": [
       "{'a': 100, 'b': 200, 'c': 300}"
      ]
     },
     "execution_count": 6,
     "metadata": {},
     "output_type": "execute_result"
    }
   ],
   "source": [
    "dict1 = {'a':100,'b':200,'c':300,'a':100}\n",
    "dict1"
   ]
  },
  {
   "cell_type": "code",
   "execution_count": 7,
   "id": "ed15d3a5",
   "metadata": {},
   "outputs": [
    {
     "data": {
      "text/plain": [
       "{'a': 1000, 'b': 200, 'c': 300}"
      ]
     },
     "execution_count": 7,
     "metadata": {},
     "output_type": "execute_result"
    }
   ],
   "source": [
    "dict1 = {'a':100,'b':200,'c':300,'a':1000}\n",
    "dict1"
   ]
  },
  {
   "cell_type": "code",
   "execution_count": 8,
   "id": "dcb4f254",
   "metadata": {},
   "outputs": [
    {
     "data": {
      "text/plain": [
       "{'a': 100, 'b': 200, 'c': 100}"
      ]
     },
     "execution_count": 8,
     "metadata": {},
     "output_type": "execute_result"
    }
   ],
   "source": [
    "dict1 = {'a':100,'b':200,'c':300,'c':100}\n",
    "dict1"
   ]
  },
  {
   "cell_type": "code",
   "execution_count": 9,
   "id": "2247e571",
   "metadata": {},
   "outputs": [
    {
     "data": {
      "text/plain": [
       "{'a': 100, 'b': 111, 'c': 300}"
      ]
     },
     "execution_count": 9,
     "metadata": {},
     "output_type": "execute_result"
    }
   ],
   "source": [
    "dict1 = {'a':100,'b':200,'c':300,'b':111}\n",
    "dict1"
   ]
  },
  {
   "cell_type": "code",
   "execution_count": 10,
   "id": "fe7e2324",
   "metadata": {},
   "outputs": [
    {
     "data": {
      "text/plain": [
       "{1: 1, 2: 4, 3: 9, 4: 16}"
      ]
     },
     "execution_count": 10,
     "metadata": {},
     "output_type": "execute_result"
    }
   ],
   "source": [
    "dict2 = {1:1,2:4,3:9,4:16}\n",
    "dict2"
   ]
  },
  {
   "cell_type": "code",
   "execution_count": 11,
   "id": "9cbae06f",
   "metadata": {},
   "outputs": [
    {
     "data": {
      "text/plain": [
       "{1: 1, 2.5: 4, '3': 9, (1, 2, 3): 16}"
      ]
     },
     "execution_count": 11,
     "metadata": {},
     "output_type": "execute_result"
    }
   ],
   "source": [
    "dict2 = {1:1,2.5:4,'3':9,(1,2,3):16}\n",
    "dict2"
   ]
  },
  {
   "cell_type": "code",
   "execution_count": 12,
   "id": "70c23483",
   "metadata": {},
   "outputs": [
    {
     "ename": "TypeError",
     "evalue": "unhashable type: 'list'",
     "output_type": "error",
     "traceback": [
      "\u001b[1;31m---------------------------------------------------------------------------\u001b[0m",
      "\u001b[1;31mTypeError\u001b[0m                                 Traceback (most recent call last)",
      "\u001b[1;32m<ipython-input-12-364099b0a77c>\u001b[0m in \u001b[0;36m<module>\u001b[1;34m\u001b[0m\n\u001b[1;32m----> 1\u001b[1;33m \u001b[0mdict2\u001b[0m \u001b[1;33m=\u001b[0m \u001b[1;33m{\u001b[0m\u001b[1;36m1\u001b[0m\u001b[1;33m:\u001b[0m\u001b[1;36m1\u001b[0m\u001b[1;33m,\u001b[0m\u001b[1;36m2.5\u001b[0m\u001b[1;33m:\u001b[0m\u001b[1;36m4\u001b[0m\u001b[1;33m,\u001b[0m\u001b[1;34m'3'\u001b[0m\u001b[1;33m:\u001b[0m\u001b[1;36m9\u001b[0m\u001b[1;33m,\u001b[0m\u001b[1;33m[\u001b[0m\u001b[1;36m1\u001b[0m\u001b[1;33m,\u001b[0m\u001b[1;36m2\u001b[0m\u001b[1;33m,\u001b[0m\u001b[1;36m3\u001b[0m\u001b[1;33m]\u001b[0m\u001b[1;33m:\u001b[0m\u001b[1;36m16\u001b[0m\u001b[1;33m}\u001b[0m\u001b[1;33m\u001b[0m\u001b[1;33m\u001b[0m\u001b[0m\n\u001b[0m\u001b[0;32m      2\u001b[0m \u001b[0mdict2\u001b[0m\u001b[1;33m\u001b[0m\u001b[1;33m\u001b[0m\u001b[0m\n",
      "\u001b[1;31mTypeError\u001b[0m: unhashable type: 'list'"
     ]
    }
   ],
   "source": [
    "dict2 = {1:1,2.5:4,'3':9,[1,2,3]:16}\n",
    "dict2"
   ]
  },
  {
   "cell_type": "code",
   "execution_count": 13,
   "id": "c2dac618",
   "metadata": {},
   "outputs": [
    {
     "ename": "TypeError",
     "evalue": "unhashable type: 'set'",
     "output_type": "error",
     "traceback": [
      "\u001b[1;31m---------------------------------------------------------------------------\u001b[0m",
      "\u001b[1;31mTypeError\u001b[0m                                 Traceback (most recent call last)",
      "\u001b[1;32m<ipython-input-13-ffdb6d4a838c>\u001b[0m in \u001b[0;36m<module>\u001b[1;34m\u001b[0m\n\u001b[1;32m----> 1\u001b[1;33m \u001b[0mdict2\u001b[0m \u001b[1;33m=\u001b[0m \u001b[1;33m{\u001b[0m\u001b[1;36m1\u001b[0m\u001b[1;33m:\u001b[0m\u001b[1;36m1\u001b[0m\u001b[1;33m,\u001b[0m\u001b[1;36m2.5\u001b[0m\u001b[1;33m:\u001b[0m\u001b[1;36m4\u001b[0m\u001b[1;33m,\u001b[0m\u001b[1;34m'3'\u001b[0m\u001b[1;33m:\u001b[0m\u001b[1;36m9\u001b[0m\u001b[1;33m,\u001b[0m\u001b[1;33m{\u001b[0m\u001b[1;36m1\u001b[0m\u001b[1;33m,\u001b[0m\u001b[1;36m2\u001b[0m\u001b[1;33m,\u001b[0m\u001b[1;36m3\u001b[0m\u001b[1;33m}\u001b[0m\u001b[1;33m:\u001b[0m\u001b[1;36m16\u001b[0m\u001b[1;33m}\u001b[0m\u001b[1;33m\u001b[0m\u001b[1;33m\u001b[0m\u001b[0m\n\u001b[0m\u001b[0;32m      2\u001b[0m \u001b[0mdict2\u001b[0m\u001b[1;33m\u001b[0m\u001b[1;33m\u001b[0m\u001b[0m\n",
      "\u001b[1;31mTypeError\u001b[0m: unhashable type: 'set'"
     ]
    }
   ],
   "source": [
    "dict2 = {1:1,2.5:4,'3':9,{1,2,3}:16}\n",
    "dict2"
   ]
  },
  {
   "cell_type": "code",
   "execution_count": 14,
   "id": "5527e9f7",
   "metadata": {},
   "outputs": [
    {
     "data": {
      "text/plain": [
       "{'Employee1': {'Age': 30, 'Name': 'Akshay', 'Location': 'Pune'}}"
      ]
     },
     "execution_count": 14,
     "metadata": {},
     "output_type": "execute_result"
    }
   ],
   "source": [
    "dict3 = {'Employee1': {'Age':30, 'Name':'Akshay', 'Location':'Pune'}}\n",
    "dict3"
   ]
  },
  {
   "cell_type": "code",
   "execution_count": 15,
   "id": "1cb3a4c4",
   "metadata": {},
   "outputs": [
    {
     "data": {
      "text/plain": [
       "dict"
      ]
     },
     "execution_count": 15,
     "metadata": {},
     "output_type": "execute_result"
    }
   ],
   "source": [
    "d1 = {}\n",
    "type(d1)"
   ]
  },
  {
   "cell_type": "markdown",
   "id": "280ec1b8",
   "metadata": {},
   "source": [
    "## How to access dict items"
   ]
  },
  {
   "cell_type": "code",
   "execution_count": null,
   "id": "c66121a1",
   "metadata": {},
   "outputs": [],
   "source": [
    "dict[key]"
   ]
  },
  {
   "cell_type": "code",
   "execution_count": 16,
   "id": "612dbed0",
   "metadata": {},
   "outputs": [
    {
     "name": "stdout",
     "output_type": "stream",
     "text": [
      "4 {'Name': 'Prajakta', 'Age': 30, 'Company Name': 'TCS', 'Location': 'Pune'}\n"
     ]
    }
   ],
   "source": [
    "dict1 = {\"Name\":'Prajakta', 'Age':30, 'Company Name': 'TCS', 'Location':'Pune'}\n",
    "print(len(dict1), dict1)"
   ]
  },
  {
   "cell_type": "code",
   "execution_count": 17,
   "id": "0e49721f",
   "metadata": {},
   "outputs": [
    {
     "ename": "NameError",
     "evalue": "name 'Age' is not defined",
     "output_type": "error",
     "traceback": [
      "\u001b[1;31m---------------------------------------------------------------------------\u001b[0m",
      "\u001b[1;31mNameError\u001b[0m                                 Traceback (most recent call last)",
      "\u001b[1;32m<ipython-input-17-2fd5eb5c7589>\u001b[0m in \u001b[0;36m<module>\u001b[1;34m\u001b[0m\n\u001b[0;32m      1\u001b[0m \u001b[0mdict1\u001b[0m \u001b[1;33m=\u001b[0m \u001b[1;33m{\u001b[0m\u001b[1;34m\"Name\"\u001b[0m\u001b[1;33m:\u001b[0m\u001b[1;34m'Prajakta'\u001b[0m\u001b[1;33m,\u001b[0m \u001b[1;34m'Age'\u001b[0m\u001b[1;33m:\u001b[0m\u001b[1;36m30\u001b[0m\u001b[1;33m,\u001b[0m \u001b[1;34m'Company Name'\u001b[0m\u001b[1;33m:\u001b[0m \u001b[1;34m'TCS'\u001b[0m\u001b[1;33m,\u001b[0m \u001b[1;34m'Location'\u001b[0m\u001b[1;33m:\u001b[0m\u001b[1;34m'Pune'\u001b[0m\u001b[1;33m}\u001b[0m\u001b[1;33m\u001b[0m\u001b[1;33m\u001b[0m\u001b[0m\n\u001b[1;32m----> 2\u001b[1;33m \u001b[0mdict1\u001b[0m\u001b[1;33m[\u001b[0m\u001b[0mAge\u001b[0m\u001b[1;33m]\u001b[0m\u001b[1;33m\u001b[0m\u001b[1;33m\u001b[0m\u001b[0m\n\u001b[0m",
      "\u001b[1;31mNameError\u001b[0m: name 'Age' is not defined"
     ]
    }
   ],
   "source": [
    "dict1 = {\"Name\":'Prajakta', 'Age':30, 'Company Name': 'TCS', 'Location':'Pune'}\n",
    "dict1[Age]"
   ]
  },
  {
   "cell_type": "code",
   "execution_count": 18,
   "id": "fba07d25",
   "metadata": {},
   "outputs": [
    {
     "data": {
      "text/plain": [
       "30"
      ]
     },
     "execution_count": 18,
     "metadata": {},
     "output_type": "execute_result"
    }
   ],
   "source": [
    "dict1 = {\"Name\":'Prajakta', 'Age':30, 'Company Name': 'TCS', 'Location':'Pune'}\n",
    "dict1['Age']"
   ]
  },
  {
   "cell_type": "code",
   "execution_count": 19,
   "id": "9980b771",
   "metadata": {},
   "outputs": [
    {
     "data": {
      "text/plain": [
       "'Prajakta'"
      ]
     },
     "execution_count": 19,
     "metadata": {},
     "output_type": "execute_result"
    }
   ],
   "source": [
    "dict1 = {\"Name\":'Prajakta', 'Age':30, 'Company Name': 'TCS', 'Location':'Pune'}\n",
    "dict1['Name']"
   ]
  },
  {
   "cell_type": "code",
   "execution_count": 20,
   "id": "8f41b90b",
   "metadata": {},
   "outputs": [
    {
     "data": {
      "text/plain": [
       "'TCS'"
      ]
     },
     "execution_count": 20,
     "metadata": {},
     "output_type": "execute_result"
    }
   ],
   "source": [
    "dict1 = {\"Name\":'Prajakta', 'Age':30, 'Company Name': 'TCS', 'Location':'Pune'}\n",
    "dict1['Company Name']"
   ]
  },
  {
   "cell_type": "code",
   "execution_count": null,
   "id": "2187ea37",
   "metadata": {},
   "outputs": [],
   "source": [
    "dict1 = {\"Name\":'Prajakta', 'Age':30, 'Company Name': 'TCS', 'Location':'Pune'}\n",
    "dict1['Company Name']"
   ]
  },
  {
   "cell_type": "markdown",
   "id": "ef324de4",
   "metadata": {},
   "source": [
    "## 1.get()"
   ]
  },
  {
   "cell_type": "code",
   "execution_count": 21,
   "id": "2d51b561",
   "metadata": {},
   "outputs": [
    {
     "data": {
      "text/plain": [
       "'Prajakta'"
      ]
     },
     "execution_count": 21,
     "metadata": {},
     "output_type": "execute_result"
    }
   ],
   "source": [
    "dict1 = {\"Name\":'Prajakta', 'Age':30, 'Company Name': 'TCS', 'Location':'Pune'}\n",
    "dict1.get('Name')"
   ]
  },
  {
   "cell_type": "code",
   "execution_count": 22,
   "id": "271409bd",
   "metadata": {},
   "outputs": [
    {
     "data": {
      "text/plain": [
       "30"
      ]
     },
     "execution_count": 22,
     "metadata": {},
     "output_type": "execute_result"
    }
   ],
   "source": [
    "dict1 = {\"Name\":'Prajakta', 'Age':30, 'Company Name': 'TCS', 'Location':'Pune'}\n",
    "dict1.get('Age')"
   ]
  },
  {
   "cell_type": "markdown",
   "id": "ef19db65",
   "metadata": {},
   "source": [
    "#### Access item using for loop"
   ]
  },
  {
   "cell_type": "markdown",
   "id": "4dc2ba7f",
   "metadata": {},
   "source": [
    "## 2. keys()"
   ]
  },
  {
   "cell_type": "code",
   "execution_count": 23,
   "id": "509d37e5",
   "metadata": {},
   "outputs": [
    {
     "data": {
      "text/plain": [
       "dict_keys(['Name', 'Age', 'Company Name', 'Location'])"
      ]
     },
     "execution_count": 23,
     "metadata": {},
     "output_type": "execute_result"
    }
   ],
   "source": [
    "dict1 = {\"Name\":'Prajakta', 'Age':30, 'Company Name': 'TCS', 'Location':'Pune'}\n",
    "dict1.keys()"
   ]
  },
  {
   "cell_type": "code",
   "execution_count": 24,
   "id": "1c63e956",
   "metadata": {},
   "outputs": [
    {
     "data": {
      "text/plain": [
       "dict_keys([1, 2, 3, 4])"
      ]
     },
     "execution_count": 24,
     "metadata": {},
     "output_type": "execute_result"
    }
   ],
   "source": [
    "d1 = {1:1,2:4,3:9,4:16}\n",
    "d1.keys()"
   ]
  },
  {
   "cell_type": "code",
   "execution_count": 25,
   "id": "05569ea0",
   "metadata": {},
   "outputs": [
    {
     "name": "stdout",
     "output_type": "stream",
     "text": [
      "1\n",
      "2\n",
      "3\n",
      "4\n"
     ]
    }
   ],
   "source": [
    "for i in d1.keys():\n",
    "    print(i)"
   ]
  },
  {
   "cell_type": "code",
   "execution_count": 27,
   "id": "afd9fa38",
   "metadata": {},
   "outputs": [
    {
     "name": "stdout",
     "output_type": "stream",
     "text": [
      "Name\n",
      "Age\n",
      "Company Name\n",
      "Location\n"
     ]
    }
   ],
   "source": [
    "dict1 = {\"Name\":'Prajakta', 'Age':30, 'Company Name': 'TCS', 'Location':'Pune'}\n",
    "for i in dict1.keys():\n",
    "    print(i)"
   ]
  },
  {
   "cell_type": "markdown",
   "id": "b1ad1b60",
   "metadata": {},
   "source": [
    "## 3. values()"
   ]
  },
  {
   "cell_type": "code",
   "execution_count": 28,
   "id": "06a5c7f0",
   "metadata": {},
   "outputs": [
    {
     "data": {
      "text/plain": [
       "dict_values(['Prajakta', 30, 'TCS', 'Pune'])"
      ]
     },
     "execution_count": 28,
     "metadata": {},
     "output_type": "execute_result"
    }
   ],
   "source": [
    "dict1 = {\"Name\":'Prajakta', 'Age':30, 'Company Name': 'TCS', 'Location':'Pune'}\n",
    "dict1.values()"
   ]
  },
  {
   "cell_type": "code",
   "execution_count": 29,
   "id": "d2843e52",
   "metadata": {},
   "outputs": [
    {
     "data": {
      "text/plain": [
       "dict_keys"
      ]
     },
     "execution_count": 29,
     "metadata": {},
     "output_type": "execute_result"
    }
   ],
   "source": [
    "dict1 = {\"Name\":'Prajakta', 'Age':30, 'Company Name': 'TCS', 'Location':'Pune'}\n",
    "type(dict1.keys())"
   ]
  },
  {
   "cell_type": "code",
   "execution_count": 30,
   "id": "9940d348",
   "metadata": {},
   "outputs": [
    {
     "data": {
      "text/plain": [
       "dict_values"
      ]
     },
     "execution_count": 30,
     "metadata": {},
     "output_type": "execute_result"
    }
   ],
   "source": [
    "dict1 = {\"Name\":'Prajakta', 'Age':30, 'Company Name': 'TCS', 'Location':'Pune'}\n",
    "type(dict1.values())"
   ]
  },
  {
   "cell_type": "code",
   "execution_count": 31,
   "id": "bfa67c39",
   "metadata": {},
   "outputs": [
    {
     "data": {
      "text/plain": [
       "dict_values([1, 4, 9, 16, 25])"
      ]
     },
     "execution_count": 31,
     "metadata": {},
     "output_type": "execute_result"
    }
   ],
   "source": [
    "d1 = {1:1,2:4,3:9,4:16,5:25}\n",
    "d1.values()"
   ]
  },
  {
   "cell_type": "code",
   "execution_count": 32,
   "id": "81762557",
   "metadata": {},
   "outputs": [
    {
     "data": {
      "text/plain": [
       "dict_values([1, 4, 9, 16, 25, 100])"
      ]
     },
     "execution_count": 32,
     "metadata": {},
     "output_type": "execute_result"
    }
   ],
   "source": [
    "d1 = {1:1,2:4,3:9,4:16,5:25,10:100}\n",
    "d1.values()"
   ]
  },
  {
   "cell_type": "code",
   "execution_count": 33,
   "id": "bd3bc374",
   "metadata": {},
   "outputs": [
    {
     "data": {
      "text/plain": [
       "dict_values([1, 4, 9, 16, 25, 100, 100])"
      ]
     },
     "execution_count": 33,
     "metadata": {},
     "output_type": "execute_result"
    }
   ],
   "source": [
    "d1 = {1:1,2:4,3:9,4:16,5:25,10:100, 20:100}\n",
    "d1.values()"
   ]
  },
  {
   "cell_type": "code",
   "execution_count": 34,
   "id": "0a3e43f3",
   "metadata": {},
   "outputs": [
    {
     "data": {
      "text/plain": [
       "dict_values([1, 4, 9, 16, 25, 100])"
      ]
     },
     "execution_count": 34,
     "metadata": {},
     "output_type": "execute_result"
    }
   ],
   "source": [
    "d1 = {1:1,2:4,3:9,4:16,5:25,10:100, 10:100}\n",
    "d1.values()"
   ]
  },
  {
   "cell_type": "code",
   "execution_count": 35,
   "id": "7e2969bd",
   "metadata": {},
   "outputs": [
    {
     "name": "stdout",
     "output_type": "stream",
     "text": [
      "1\n",
      "4\n",
      "9\n",
      "16\n",
      "25\n",
      "100\n",
      "100\n"
     ]
    }
   ],
   "source": [
    "d1 = {1:1,2:4,3:9,4:16,5:25,10:100, 20:100}\n",
    "for i in d1.values():\n",
    "    print(i)"
   ]
  },
  {
   "cell_type": "markdown",
   "id": "03639319",
   "metadata": {},
   "source": [
    "## 4. items()"
   ]
  },
  {
   "cell_type": "code",
   "execution_count": 36,
   "id": "35b33ee3",
   "metadata": {},
   "outputs": [
    {
     "data": {
      "text/plain": [
       "dict_keys(['Name', 'Age', 'Company Name', 'Location'])"
      ]
     },
     "execution_count": 36,
     "metadata": {},
     "output_type": "execute_result"
    }
   ],
   "source": [
    "dict1 = {\"Name\":'Prajakta', 'Age':30, 'Company Name': 'TCS', 'Location':'Pune'}\n",
    "dict1.keys()"
   ]
  },
  {
   "cell_type": "code",
   "execution_count": 37,
   "id": "1d1017dc",
   "metadata": {},
   "outputs": [
    {
     "data": {
      "text/plain": [
       "dict_values(['Prajakta', 30, 'TCS', 'Pune'])"
      ]
     },
     "execution_count": 37,
     "metadata": {},
     "output_type": "execute_result"
    }
   ],
   "source": [
    "dict1 = {\"Name\":'Prajakta', 'Age':30, 'Company Name': 'TCS', 'Location':'Pune'}\n",
    "dict1.values()"
   ]
  },
  {
   "cell_type": "code",
   "execution_count": 38,
   "id": "e75dbf07",
   "metadata": {},
   "outputs": [
    {
     "data": {
      "text/plain": [
       "dict_items([('Name', 'Prajakta'), ('Age', 30), ('Company Name', 'TCS'), ('Location', 'Pune')])"
      ]
     },
     "execution_count": 38,
     "metadata": {},
     "output_type": "execute_result"
    }
   ],
   "source": [
    "dict1 = {\"Name\":'Prajakta', 'Age':30, 'Company Name': 'TCS', 'Location':'Pune'}\n",
    "dict1.items()"
   ]
  },
  {
   "cell_type": "code",
   "execution_count": 39,
   "id": "a695fd95",
   "metadata": {},
   "outputs": [
    {
     "name": "stdout",
     "output_type": "stream",
     "text": [
      "('Name', 'Prajakta')\n",
      "('Age', 30)\n",
      "('Company Name', 'TCS')\n",
      "('Location', 'Pune')\n"
     ]
    }
   ],
   "source": [
    "dict1 = {\"Name\":'Prajakta', 'Age':30, 'Company Name': 'TCS', 'Location':'Pune'}\n",
    "for i in dict1.items():\n",
    "    print(i)"
   ]
  },
  {
   "cell_type": "code",
   "execution_count": 40,
   "id": "6442fc95",
   "metadata": {},
   "outputs": [
    {
     "name": "stdout",
     "output_type": "stream",
     "text": [
      "<class 'tuple'>\n",
      "<class 'tuple'>\n",
      "<class 'tuple'>\n",
      "<class 'tuple'>\n"
     ]
    }
   ],
   "source": [
    "dict1 = {\"Name\":'Prajakta', 'Age':30, 'Company Name': 'TCS', 'Location':'Pune'}\n",
    "for i in dict1.items():\n",
    "    print(type(i))"
   ]
  },
  {
   "cell_type": "code",
   "execution_count": 43,
   "id": "1b2bf9dc",
   "metadata": {},
   "outputs": [
    {
     "name": "stdout",
     "output_type": "stream",
     "text": [
      "Name == Prajakta\n",
      "Age == 30\n",
      "Company Name == TCS\n",
      "Location == Pune\n"
     ]
    }
   ],
   "source": [
    "dict1 = {\"Name\":'Prajakta', 'Age':30, 'Company Name': 'TCS', 'Location':'Pune'}\n",
    "for i , v in dict1.items():\n",
    "    print(i, '==',v)"
   ]
  },
  {
   "cell_type": "code",
   "execution_count": 45,
   "id": "16a20965",
   "metadata": {},
   "outputs": [
    {
     "name": "stdout",
     "output_type": "stream",
     "text": [
      "key == Name, value == Prajakta\n",
      "key == Age, value == 30\n",
      "key == Company Name, value == TCS\n",
      "key == Location, value == Pune\n"
     ]
    }
   ],
   "source": [
    "dict1 = {\"Name\":'Prajakta', 'Age':30, 'Company Name': 'TCS', 'Location':'Pune'}\n",
    "for i , v in dict1.items():\n",
    "    print(f'key == {i}, value == {v}')"
   ]
  },
  {
   "cell_type": "code",
   "execution_count": 46,
   "id": "b16cf3d0",
   "metadata": {},
   "outputs": [
    {
     "name": "stdout",
     "output_type": "stream",
     "text": [
      "0 2\n",
      "1 5\n",
      "2 4\n",
      "3 8\n",
      "4 6\n"
     ]
    }
   ],
   "source": [
    "list1 = [2,5,4,8,6]\n",
    "for index , value in enumerate(list1):\n",
    "    print(index, value)"
   ]
  },
  {
   "cell_type": "code",
   "execution_count": 47,
   "id": "a51a17b9",
   "metadata": {},
   "outputs": [
    {
     "name": "stdout",
     "output_type": "stream",
     "text": [
      "5 2\n",
      "6 5\n",
      "7 4\n",
      "8 8\n",
      "9 6\n"
     ]
    }
   ],
   "source": [
    "list1 = [2,5,4,8,6]\n",
    "for index , value in enumerate(list1,start=5):\n",
    "    print(index, value)"
   ]
  },
  {
   "cell_type": "code",
   "execution_count": 49,
   "id": "c1df50da",
   "metadata": {},
   "outputs": [
    {
     "data": {
      "text/plain": [
       "[(0, 2), (1, 5), (2, 4), (3, 8), (4, 6)]"
      ]
     },
     "execution_count": 49,
     "metadata": {},
     "output_type": "execute_result"
    }
   ],
   "source": [
    "list(enumerate(list1))"
   ]
  },
  {
   "cell_type": "code",
   "execution_count": 50,
   "id": "4abfdedb",
   "metadata": {},
   "outputs": [
    {
     "name": "stdout",
     "output_type": "stream",
     "text": [
      "(0, 2)\n",
      "(1, 5)\n",
      "(2, 4)\n",
      "(3, 8)\n",
      "(4, 6)\n"
     ]
    }
   ],
   "source": [
    "list1 = [(0, 2), (1, 5), (2, 4), (3, 8), (4, 6)]\n",
    "for i in list1:\n",
    "    print(i)"
   ]
  },
  {
   "cell_type": "code",
   "execution_count": 51,
   "id": "b7439686",
   "metadata": {},
   "outputs": [
    {
     "name": "stdout",
     "output_type": "stream",
     "text": [
      "0 2\n",
      "1 5\n",
      "2 4\n",
      "3 8\n",
      "4 6\n"
     ]
    }
   ],
   "source": [
    "list1 = [(0, 2), (1, 5), (2, 4), (3, 8), (4, 6)]\n",
    "for index, value in list1:\n",
    "    print(index, value)"
   ]
  },
  {
   "cell_type": "code",
   "execution_count": 52,
   "id": "3f3151b7",
   "metadata": {},
   "outputs": [
    {
     "name": "stdout",
     "output_type": "stream",
     "text": [
      "0\n",
      "1\n",
      "2\n",
      "3\n",
      "4\n"
     ]
    }
   ],
   "source": [
    "list1 = [(0, 2), (1, 5), (2, 4), (3, 8), (4, 6)]\n",
    "for index, value in list1:\n",
    "    print(index)"
   ]
  },
  {
   "cell_type": "code",
   "execution_count": 53,
   "id": "7a7d9ddd",
   "metadata": {},
   "outputs": [
    {
     "name": "stdout",
     "output_type": "stream",
     "text": [
      "0 2\n",
      "10000 5\n",
      "2 4\n",
      "3 8\n",
      "4 6\n"
     ]
    }
   ],
   "source": [
    "list1 = [(0, 2), (10000, 5), (2, 4), (3, 8), (4, 6)]\n",
    "for index, value in list1:\n",
    "    print(index, value)"
   ]
  },
  {
   "cell_type": "code",
   "execution_count": 54,
   "id": "c3265413",
   "metadata": {},
   "outputs": [
    {
     "ename": "ValueError",
     "evalue": "too many values to unpack (expected 2)",
     "output_type": "error",
     "traceback": [
      "\u001b[1;31m---------------------------------------------------------------------------\u001b[0m",
      "\u001b[1;31mValueError\u001b[0m                                Traceback (most recent call last)",
      "\u001b[1;32m<ipython-input-54-f5bc6aa89774>\u001b[0m in \u001b[0;36m<module>\u001b[1;34m\u001b[0m\n\u001b[0;32m      1\u001b[0m \u001b[0mlist1\u001b[0m \u001b[1;33m=\u001b[0m \u001b[1;33m[\u001b[0m\u001b[1;33m(\u001b[0m\u001b[1;36m0\u001b[0m\u001b[1;33m,\u001b[0m \u001b[1;36m2\u001b[0m\u001b[1;33m,\u001b[0m\u001b[1;36m3\u001b[0m\u001b[1;33m)\u001b[0m\u001b[1;33m,\u001b[0m \u001b[1;33m(\u001b[0m\u001b[1;36m1\u001b[0m\u001b[1;33m,\u001b[0m \u001b[1;36m5\u001b[0m\u001b[1;33m)\u001b[0m\u001b[1;33m,\u001b[0m \u001b[1;33m(\u001b[0m\u001b[1;36m2\u001b[0m\u001b[1;33m,\u001b[0m \u001b[1;36m4\u001b[0m\u001b[1;33m)\u001b[0m\u001b[1;33m,\u001b[0m \u001b[1;33m(\u001b[0m\u001b[1;36m3\u001b[0m\u001b[1;33m,\u001b[0m \u001b[1;36m8\u001b[0m\u001b[1;33m)\u001b[0m\u001b[1;33m,\u001b[0m \u001b[1;33m(\u001b[0m\u001b[1;36m4\u001b[0m\u001b[1;33m,\u001b[0m \u001b[1;36m6\u001b[0m\u001b[1;33m)\u001b[0m\u001b[1;33m]\u001b[0m\u001b[1;33m\u001b[0m\u001b[1;33m\u001b[0m\u001b[0m\n\u001b[1;32m----> 2\u001b[1;33m \u001b[1;32mfor\u001b[0m \u001b[0mindex\u001b[0m\u001b[1;33m,\u001b[0m \u001b[0mvalue\u001b[0m \u001b[1;32min\u001b[0m \u001b[0mlist1\u001b[0m\u001b[1;33m:\u001b[0m\u001b[1;33m\u001b[0m\u001b[1;33m\u001b[0m\u001b[0m\n\u001b[0m\u001b[0;32m      3\u001b[0m     \u001b[0mprint\u001b[0m\u001b[1;33m(\u001b[0m\u001b[0mindex\u001b[0m\u001b[1;33m)\u001b[0m\u001b[1;33m\u001b[0m\u001b[1;33m\u001b[0m\u001b[0m\n",
      "\u001b[1;31mValueError\u001b[0m: too many values to unpack (expected 2)"
     ]
    }
   ],
   "source": [
    "list1 = [(0, 2,3), (1, 5), (2, 4), (3, 8), (4, 6)]\n",
    "for index, value in list1:\n",
    "    print(index)"
   ]
  },
  {
   "cell_type": "code",
   "execution_count": null,
   "id": "d25411eb",
   "metadata": {},
   "outputs": [],
   "source": [
    "# keys >> only keys\n",
    "# values >>  only values\n",
    "# items  >>  both"
   ]
  },
  {
   "cell_type": "markdown",
   "id": "ff302fd4",
   "metadata": {},
   "source": [
    "## Change items"
   ]
  },
  {
   "cell_type": "code",
   "execution_count": 55,
   "id": "de3bf80a",
   "metadata": {},
   "outputs": [
    {
     "data": {
      "text/plain": [
       "{'Name': 'Prajakta', 'Age': 30, 'Company Name': 'TCS', 'Location': 'Pune'}"
      ]
     },
     "execution_count": 55,
     "metadata": {},
     "output_type": "execute_result"
    }
   ],
   "source": [
    "dict1 = {\"Name\":'Prajakta', 'Age':30, 'Company Name': 'TCS', 'Location':'Pune'}\n",
    "dict1"
   ]
  },
  {
   "cell_type": "code",
   "execution_count": 56,
   "id": "de922ad8",
   "metadata": {},
   "outputs": [
    {
     "data": {
      "text/plain": [
       "{'Name': 'Prajakta', 'Age': 90, 'Company Name': 'TCS', 'Location': 'Pune'}"
      ]
     },
     "execution_count": 56,
     "metadata": {},
     "output_type": "execute_result"
    }
   ],
   "source": [
    "dict1['Age'] = 90\n",
    "dict1"
   ]
  },
  {
   "cell_type": "code",
   "execution_count": 57,
   "id": "553ffb74",
   "metadata": {},
   "outputs": [
    {
     "data": {
      "text/plain": [
       "{'Name': 'Sourabh', 'Age': 30, 'Company Name': 'TCS', 'Location': 'Pune'}"
      ]
     },
     "execution_count": 57,
     "metadata": {},
     "output_type": "execute_result"
    }
   ],
   "source": [
    "dict1 = {\"Name\":'Prajakta', 'Age':30, 'Company Name': 'TCS', 'Location':'Pune'}\n",
    "dict1['Name'] = 'Sourabh'\n",
    "dict1"
   ]
  },
  {
   "cell_type": "code",
   "execution_count": 58,
   "id": "d361eae8",
   "metadata": {},
   "outputs": [
    {
     "data": {
      "text/plain": [
       "{'Name': 'Prajakta',\n",
       " 'Age': 30,\n",
       " 'Company Name': 'TCS',\n",
       " 'Location': 'Pune',\n",
       " 'Salary': 41000}"
      ]
     },
     "execution_count": 58,
     "metadata": {},
     "output_type": "execute_result"
    }
   ],
   "source": [
    "dict1 = {\"Name\":'Prajakta', 'Age':30, 'Company Name': 'TCS', 'Location':'Pune'}\n",
    "dict1['Salary'] = 41000 \n",
    "\n",
    "dict1"
   ]
  },
  {
   "cell_type": "markdown",
   "id": "dd61b56d",
   "metadata": {},
   "source": [
    "## 1. update()"
   ]
  },
  {
   "cell_type": "code",
   "execution_count": null,
   "id": "793cf5f6",
   "metadata": {},
   "outputs": [],
   "source": [
    "dict1.update()"
   ]
  },
  {
   "cell_type": "code",
   "execution_count": 59,
   "id": "d82256da",
   "metadata": {},
   "outputs": [
    {
     "data": {
      "text/plain": [
       "{'Name': 'Prajakta',\n",
       " 'Age': 30,\n",
       " 'Company Name': 'TCS',\n",
       " 'Location': 'Pune',\n",
       " 'Designation': 'ML Engineer'}"
      ]
     },
     "execution_count": 59,
     "metadata": {},
     "output_type": "execute_result"
    }
   ],
   "source": [
    "dict1 = {\"Name\":'Prajakta', 'Age':30, 'Company Name': 'TCS', 'Location':'Pune'}\n",
    "dict1.update({'Designation':'ML Engineer'})\n",
    "dict1"
   ]
  },
  {
   "cell_type": "code",
   "execution_count": 60,
   "id": "1244e58c",
   "metadata": {},
   "outputs": [
    {
     "data": {
      "text/plain": [
       "{'Name': 'Prajakta', 'Age': 50, 'Company Name': 'TCS', 'Location': 'Pune'}"
      ]
     },
     "execution_count": 60,
     "metadata": {},
     "output_type": "execute_result"
    }
   ],
   "source": [
    "dict1 = {\"Name\":'Prajakta', 'Age':30, 'Company Name': 'TCS', 'Location':'Pune'}\n",
    "dict1.update({'Age':50})\n",
    "dict1"
   ]
  },
  {
   "cell_type": "code",
   "execution_count": 61,
   "id": "73965c0f",
   "metadata": {},
   "outputs": [
    {
     "data": {
      "text/plain": [
       "{'Name': 'Prajakta',\n",
       " 'Age': 50,\n",
       " 'Company Name': 'TCS',\n",
       " 'Location': 'Pune',\n",
       " 'Salary': 40000}"
      ]
     },
     "execution_count": 61,
     "metadata": {},
     "output_type": "execute_result"
    }
   ],
   "source": [
    "dict1 = {\"Name\":'Prajakta', 'Age':30, 'Company Name': 'TCS', 'Location':'Pune'}\n",
    "dict1.update({'Age':50,'Salary': 40000})\n",
    "dict1"
   ]
  },
  {
   "cell_type": "code",
   "execution_count": 62,
   "id": "1f9addd7",
   "metadata": {},
   "outputs": [
    {
     "data": {
      "text/plain": [
       "{'Name': 'Prajakta',\n",
       " 'Age': 50,\n",
       " 'Company Name': 'TCS',\n",
       " 'Location': 'Pune',\n",
       " 'Salary': 40000,\n",
       " 'Designation': 'Data Scientist'}"
      ]
     },
     "execution_count": 62,
     "metadata": {},
     "output_type": "execute_result"
    }
   ],
   "source": [
    "dict1 = {\"Name\":'Prajakta', 'Age':30, 'Company Name': 'TCS', 'Location':'Pune'}\n",
    "dict1.update({'Age':50,'Salary': 40000,'Designation':'Data Scientist'})\n",
    "dict1"
   ]
  },
  {
   "cell_type": "markdown",
   "id": "fb80fec5",
   "metadata": {},
   "source": [
    "## Delete item from dict"
   ]
  },
  {
   "cell_type": "code",
   "execution_count": null,
   "id": "b84f68bc",
   "metadata": {},
   "outputs": [],
   "source": [
    "1. pop\n",
    "2. popitem\n",
    "3. clear\n",
    "\n",
    "del"
   ]
  },
  {
   "cell_type": "markdown",
   "id": "6abc6c93",
   "metadata": {},
   "source": [
    "## 1. pop()"
   ]
  },
  {
   "cell_type": "code",
   "execution_count": 63,
   "id": "003d14db",
   "metadata": {},
   "outputs": [
    {
     "data": {
      "text/plain": [
       "{'Name': 'Prajakta',\n",
       " 'Age': 50,\n",
       " 'Company Name': 'TCS',\n",
       " 'Location': 'Pune',\n",
       " 'Salary': 40000,\n",
       " 'Designation': 'Data Scientist'}"
      ]
     },
     "execution_count": 63,
     "metadata": {},
     "output_type": "execute_result"
    }
   ],
   "source": [
    "dict2 = {'Name': 'Prajakta',\n",
    " 'Age': 50,\n",
    " 'Company Name': 'TCS',\n",
    " 'Location': 'Pune',\n",
    " 'Salary': 40000,\n",
    " 'Designation': 'Data Scientist'}\n",
    "dict2"
   ]
  },
  {
   "cell_type": "code",
   "execution_count": 64,
   "id": "975344f0",
   "metadata": {},
   "outputs": [
    {
     "data": {
      "text/plain": [
       "{'Name': 'Prajakta',\n",
       " 'Age': 50,\n",
       " 'Company Name': 'TCS',\n",
       " 'Location': 'Pune',\n",
       " 'Salary': 40000}"
      ]
     },
     "execution_count": 64,
     "metadata": {},
     "output_type": "execute_result"
    }
   ],
   "source": [
    "dict2.pop('Designation')\n",
    "dict2"
   ]
  },
  {
   "cell_type": "code",
   "execution_count": 65,
   "id": "558ef663",
   "metadata": {},
   "outputs": [
    {
     "data": {
      "text/plain": [
       "{'Name': 'Prajakta', 'Age': 50, 'Company Name': 'TCS', 'Salary': 40000}"
      ]
     },
     "execution_count": 65,
     "metadata": {},
     "output_type": "execute_result"
    }
   ],
   "source": [
    "dict2.pop('Location')\n",
    "dict2"
   ]
  },
  {
   "cell_type": "markdown",
   "id": "037077c0",
   "metadata": {},
   "source": [
    "## 2. popitem()"
   ]
  },
  {
   "cell_type": "code",
   "execution_count": null,
   "id": "05588e40",
   "metadata": {},
   "outputs": [],
   "source": [
    "It will remove last inserted item"
   ]
  },
  {
   "cell_type": "code",
   "execution_count": 66,
   "id": "9136b82e",
   "metadata": {},
   "outputs": [
    {
     "data": {
      "text/plain": [
       "{'Name': 'Prajakta',\n",
       " 'Age': 50,\n",
       " 'Company Name': 'TCS',\n",
       " 'Location': 'Pune',\n",
       " 'Salary': 40000,\n",
       " 'Designation': 'Data Scientist'}"
      ]
     },
     "execution_count": 66,
     "metadata": {},
     "output_type": "execute_result"
    }
   ],
   "source": [
    "dict2 = {'Name': 'Prajakta',\n",
    " 'Age': 50,\n",
    " 'Company Name': 'TCS',\n",
    " 'Location': 'Pune',\n",
    " 'Salary': 40000,\n",
    " 'Designation': 'Data Scientist'}\n",
    "dict2"
   ]
  },
  {
   "cell_type": "code",
   "execution_count": 67,
   "id": "82558a47",
   "metadata": {},
   "outputs": [
    {
     "data": {
      "text/plain": [
       "{'Name': 'Prajakta',\n",
       " 'Age': 50,\n",
       " 'Company Name': 'TCS',\n",
       " 'Location': 'Pune',\n",
       " 'Salary': 40000,\n",
       " 'Designation': 'Data Scientist',\n",
       " 'Band': 'A'}"
      ]
     },
     "execution_count": 67,
     "metadata": {},
     "output_type": "execute_result"
    }
   ],
   "source": [
    "dict2['Band'] = 'A'\n",
    "dict2"
   ]
  },
  {
   "cell_type": "code",
   "execution_count": 68,
   "id": "c54543c6",
   "metadata": {},
   "outputs": [
    {
     "data": {
      "text/plain": [
       "{'Name': 'Prajakta',\n",
       " 'Age': 50,\n",
       " 'Company Name': 'TCS',\n",
       " 'Location': 'Pune',\n",
       " 'Salary': 40000,\n",
       " 'Designation': 'Data Scientist'}"
      ]
     },
     "execution_count": 68,
     "metadata": {},
     "output_type": "execute_result"
    }
   ],
   "source": [
    "dict2.popitem()\n",
    "dict2"
   ]
  },
  {
   "cell_type": "code",
   "execution_count": 69,
   "id": "d36004f4",
   "metadata": {
    "scrolled": true
   },
   "outputs": [
    {
     "data": {
      "text/plain": [
       "{'Name': 'Prajakta',\n",
       " 'Age': 50,\n",
       " 'Company Name': 'TCS',\n",
       " 'Location': 'Pune',\n",
       " 'Salary': 40000}"
      ]
     },
     "execution_count": 69,
     "metadata": {},
     "output_type": "execute_result"
    }
   ],
   "source": [
    "dict2.popitem()\n",
    "dict2"
   ]
  },
  {
   "cell_type": "code",
   "execution_count": 71,
   "id": "e5cbfdd8",
   "metadata": {},
   "outputs": [
    {
     "ename": "TypeError",
     "evalue": "pop expected at least 1 argument, got 0",
     "output_type": "error",
     "traceback": [
      "\u001b[1;31m---------------------------------------------------------------------------\u001b[0m",
      "\u001b[1;31mTypeError\u001b[0m                                 Traceback (most recent call last)",
      "\u001b[1;32m<ipython-input-71-fe4b2e2687ca>\u001b[0m in \u001b[0;36m<module>\u001b[1;34m\u001b[0m\n\u001b[1;32m----> 1\u001b[1;33m \u001b[0mdict2\u001b[0m\u001b[1;33m.\u001b[0m\u001b[0mpop\u001b[0m\u001b[1;33m(\u001b[0m\u001b[1;33m)\u001b[0m\u001b[1;33m\u001b[0m\u001b[1;33m\u001b[0m\u001b[0m\n\u001b[0m\u001b[0;32m      2\u001b[0m \u001b[0mdict2\u001b[0m\u001b[1;33m\u001b[0m\u001b[1;33m\u001b[0m\u001b[0m\n",
      "\u001b[1;31mTypeError\u001b[0m: pop expected at least 1 argument, got 0"
     ]
    }
   ],
   "source": [
    "dict2.pop()\n",
    "dict2"
   ]
  },
  {
   "cell_type": "markdown",
   "id": "d6539f3f",
   "metadata": {},
   "source": [
    "## 3. clear()"
   ]
  },
  {
   "cell_type": "code",
   "execution_count": 72,
   "id": "7900d9c1",
   "metadata": {},
   "outputs": [
    {
     "data": {
      "text/plain": [
       "{}"
      ]
     },
     "execution_count": 72,
     "metadata": {},
     "output_type": "execute_result"
    }
   ],
   "source": [
    "dict2 = {'Name': 'Prajakta',\n",
    " 'Age': 50,\n",
    " 'Company Name': 'TCS',\n",
    " 'Location': 'Pune',\n",
    " 'Salary': 40000,\n",
    " 'Designation': 'Data Scientist'}\n",
    "dict2.clear()\n",
    "dict2"
   ]
  },
  {
   "cell_type": "markdown",
   "id": "e0f75678",
   "metadata": {},
   "source": [
    "## 4. del keyword"
   ]
  },
  {
   "cell_type": "code",
   "execution_count": 73,
   "id": "7b79fe7b",
   "metadata": {},
   "outputs": [
    {
     "ename": "NameError",
     "evalue": "name 'dict2' is not defined",
     "output_type": "error",
     "traceback": [
      "\u001b[1;31m---------------------------------------------------------------------------\u001b[0m",
      "\u001b[1;31mNameError\u001b[0m                                 Traceback (most recent call last)",
      "\u001b[1;32m<ipython-input-73-50bb809e2b0b>\u001b[0m in \u001b[0;36m<module>\u001b[1;34m\u001b[0m\n\u001b[0;32m      6\u001b[0m  'Designation': 'Data Scientist'}\n\u001b[0;32m      7\u001b[0m \u001b[1;32mdel\u001b[0m \u001b[0mdict2\u001b[0m\u001b[1;33m\u001b[0m\u001b[1;33m\u001b[0m\u001b[0m\n\u001b[1;32m----> 8\u001b[1;33m \u001b[0mdict2\u001b[0m\u001b[1;33m\u001b[0m\u001b[1;33m\u001b[0m\u001b[0m\n\u001b[0m",
      "\u001b[1;31mNameError\u001b[0m: name 'dict2' is not defined"
     ]
    }
   ],
   "source": [
    "dict2 = {'Name': 'Prajakta',\n",
    " 'Age': 50,\n",
    " 'Company Name': 'TCS',\n",
    " 'Location': 'Pune',\n",
    " 'Salary': 40000,\n",
    " 'Designation': 'Data Scientist'}\n",
    "del dict2\n",
    "dict2"
   ]
  },
  {
   "cell_type": "code",
   "execution_count": 74,
   "id": "75074ce9",
   "metadata": {},
   "outputs": [
    {
     "data": {
      "text/plain": [
       "{'Name': 'Prajakta',\n",
       " 'Age': 50,\n",
       " 'Company Name': 'TCS',\n",
       " 'Location': 'Pune',\n",
       " 'Salary': 40000}"
      ]
     },
     "execution_count": 74,
     "metadata": {},
     "output_type": "execute_result"
    }
   ],
   "source": [
    "dict2 = {'Name': 'Prajakta',\n",
    " 'Age': 50,\n",
    " 'Company Name': 'TCS',\n",
    " 'Location': 'Pune',\n",
    " 'Salary': 40000,\n",
    " 'Designation': 'Data Scientist'}\n",
    "del dict2['Designation']\n",
    "dict2"
   ]
  },
  {
   "cell_type": "code",
   "execution_count": 75,
   "id": "d6faa728",
   "metadata": {},
   "outputs": [
    {
     "data": {
      "text/plain": [
       "[1, 2, 4, 5, 6]"
      ]
     },
     "execution_count": 75,
     "metadata": {},
     "output_type": "execute_result"
    }
   ],
   "source": [
    "l1 = [1,2,3,4,5,6]\n",
    "del l1[2]\n",
    "l1"
   ]
  },
  {
   "cell_type": "code",
   "execution_count": 76,
   "id": "fe31a1ed",
   "metadata": {},
   "outputs": [
    {
     "ename": "TypeError",
     "evalue": "'tuple' object doesn't support item deletion",
     "output_type": "error",
     "traceback": [
      "\u001b[1;31m---------------------------------------------------------------------------\u001b[0m",
      "\u001b[1;31mTypeError\u001b[0m                                 Traceback (most recent call last)",
      "\u001b[1;32m<ipython-input-76-5e4fe9609720>\u001b[0m in \u001b[0;36m<module>\u001b[1;34m\u001b[0m\n\u001b[0;32m      1\u001b[0m \u001b[0mt1\u001b[0m \u001b[1;33m=\u001b[0m \u001b[1;33m(\u001b[0m\u001b[1;36m1\u001b[0m\u001b[1;33m,\u001b[0m\u001b[1;36m2\u001b[0m\u001b[1;33m,\u001b[0m\u001b[1;36m3\u001b[0m\u001b[1;33m,\u001b[0m\u001b[1;36m4\u001b[0m\u001b[1;33m,\u001b[0m\u001b[1;36m5\u001b[0m\u001b[1;33m,\u001b[0m\u001b[1;36m6\u001b[0m\u001b[1;33m)\u001b[0m\u001b[1;33m\u001b[0m\u001b[1;33m\u001b[0m\u001b[0m\n\u001b[1;32m----> 2\u001b[1;33m \u001b[1;32mdel\u001b[0m \u001b[0mt1\u001b[0m\u001b[1;33m[\u001b[0m\u001b[1;36m2\u001b[0m\u001b[1;33m]\u001b[0m\u001b[1;33m\u001b[0m\u001b[1;33m\u001b[0m\u001b[0m\n\u001b[0m\u001b[0;32m      3\u001b[0m \u001b[0mt1\u001b[0m\u001b[1;33m\u001b[0m\u001b[1;33m\u001b[0m\u001b[0m\n",
      "\u001b[1;31mTypeError\u001b[0m: 'tuple' object doesn't support item deletion"
     ]
    }
   ],
   "source": [
    "t1 = (1,2,3,4,5,6)\n",
    "del t1[2]\n",
    "t1"
   ]
  },
  {
   "cell_type": "code",
   "execution_count": 77,
   "id": "14c226b4",
   "metadata": {},
   "outputs": [
    {
     "ename": "TypeError",
     "evalue": "'set' object doesn't support item deletion",
     "output_type": "error",
     "traceback": [
      "\u001b[1;31m---------------------------------------------------------------------------\u001b[0m",
      "\u001b[1;31mTypeError\u001b[0m                                 Traceback (most recent call last)",
      "\u001b[1;32m<ipython-input-77-9013dd39ae58>\u001b[0m in \u001b[0;36m<module>\u001b[1;34m\u001b[0m\n\u001b[0;32m      1\u001b[0m \u001b[0ms1\u001b[0m \u001b[1;33m=\u001b[0m \u001b[1;33m{\u001b[0m\u001b[1;36m1\u001b[0m\u001b[1;33m,\u001b[0m\u001b[1;36m2\u001b[0m\u001b[1;33m,\u001b[0m\u001b[1;36m3\u001b[0m\u001b[1;33m,\u001b[0m\u001b[1;36m4\u001b[0m\u001b[1;33m,\u001b[0m\u001b[1;36m5\u001b[0m\u001b[1;33m,\u001b[0m\u001b[1;36m6\u001b[0m\u001b[1;33m}\u001b[0m\u001b[1;33m\u001b[0m\u001b[1;33m\u001b[0m\u001b[0m\n\u001b[1;32m----> 2\u001b[1;33m \u001b[1;32mdel\u001b[0m \u001b[0ms1\u001b[0m\u001b[1;33m[\u001b[0m\u001b[1;36m2\u001b[0m\u001b[1;33m]\u001b[0m\u001b[1;33m\u001b[0m\u001b[1;33m\u001b[0m\u001b[0m\n\u001b[0m\u001b[0;32m      3\u001b[0m \u001b[0ms1\u001b[0m\u001b[1;33m\u001b[0m\u001b[1;33m\u001b[0m\u001b[0m\n",
      "\u001b[1;31mTypeError\u001b[0m: 'set' object doesn't support item deletion"
     ]
    }
   ],
   "source": [
    "s1 = {1,2,3,4,5,6}\n",
    "del s1[2]\n",
    "s1"
   ]
  },
  {
   "cell_type": "code",
   "execution_count": 79,
   "id": "31f4bfe4",
   "metadata": {},
   "outputs": [
    {
     "data": {
      "text/plain": [
       "dict_keys"
      ]
     },
     "execution_count": 79,
     "metadata": {},
     "output_type": "execute_result"
    }
   ],
   "source": [
    "dict2 = {'Name': 'Prajakta',\n",
    " 'Age': 50,\n",
    " 'Company Name': 'TCS',\n",
    " 'Location': 'Pune',\n",
    " 'Salary': 40000,\n",
    " 'Designation': 'Data Scientist'}\n",
    "type(dict2.keys())"
   ]
  },
  {
   "cell_type": "code",
   "execution_count": 80,
   "id": "f7fce0b8",
   "metadata": {},
   "outputs": [
    {
     "data": {
      "text/plain": [
       "['Name', 'Age', 'Company Name', 'Location', 'Salary', 'Designation']"
      ]
     },
     "execution_count": 80,
     "metadata": {},
     "output_type": "execute_result"
    }
   ],
   "source": [
    "dict2 = {'Name': 'Prajakta',\n",
    " 'Age': 50,\n",
    " 'Company Name': 'TCS',\n",
    " 'Location': 'Pune',\n",
    " 'Salary': 40000,\n",
    " 'Designation': 'Data Scientist'}\n",
    "list(dict2.keys())"
   ]
  },
  {
   "cell_type": "markdown",
   "id": "c486b249",
   "metadata": {},
   "source": [
    "## Cube of first 10 number"
   ]
  },
  {
   "cell_type": "code",
   "execution_count": null,
   "id": "ee2bfacc",
   "metadata": {},
   "outputs": [],
   "source": [
    "# cube = {1:1,2:8,3,27........10:1000}"
   ]
  },
  {
   "cell_type": "code",
   "execution_count": 81,
   "id": "251e8c91",
   "metadata": {},
   "outputs": [
    {
     "name": "stdout",
     "output_type": "stream",
     "text": [
      "{1: 1, 2: 8, 3: 27, 4: 64, 5: 125, 6: 216, 7: 343, 8: 512, 9: 729, 10: 1000}\n"
     ]
    }
   ],
   "source": [
    "dict1 ={}\n",
    "for i in range(1,11):\n",
    "    dict1[i] = i**3\n",
    "print(dict1)"
   ]
  },
  {
   "cell_type": "code",
   "execution_count": 82,
   "id": "7ff7b353",
   "metadata": {},
   "outputs": [
    {
     "name": "stdout",
     "output_type": "stream",
     "text": [
      "{1: 1, 2: 8, 3: 27, 4: 64, 5: 125, 6: 216, 7: 343, 8: 512, 9: 729, 10: 1000}\n"
     ]
    }
   ],
   "source": [
    "d1={}\n",
    "for i in range(1,11):\n",
    "    d1.update({i:i**3})\n",
    "print(d1)"
   ]
  },
  {
   "cell_type": "code",
   "execution_count": 83,
   "id": "f2d81c67",
   "metadata": {},
   "outputs": [
    {
     "name": "stdout",
     "output_type": "stream",
     "text": [
      "{1: 1, 2: 4, 3: 9, 4: 16, 5: 25, 6: 36, 7: 49, 8: 64, 9: 81, 10: 100}\n"
     ]
    }
   ],
   "source": [
    "sqr ={}\n",
    "for i in range(1,11):\n",
    "    sqr[i] = i**2\n",
    "print(sqr)"
   ]
  },
  {
   "cell_type": "markdown",
   "id": "9d09d308",
   "metadata": {},
   "source": [
    "## ASCII Values"
   ]
  },
  {
   "cell_type": "code",
   "execution_count": 85,
   "id": "a3994962",
   "metadata": {},
   "outputs": [
    {
     "name": "stdout",
     "output_type": "stream",
     "text": [
      "{65: 'A', 66: 'B', 67: 'C', 68: 'D', 69: 'E', 70: 'F', 71: 'G', 72: 'H', 73: 'I', 74: 'J', 75: 'K', 76: 'L', 77: 'M', 78: 'N', 79: 'O', 80: 'P', 81: 'Q', 82: 'R', 83: 'S', 84: 'T', 85: 'U', 86: 'V', 87: 'W', 88: 'X', 89: 'Y', 90: 'Z'}\n"
     ]
    }
   ],
   "source": [
    "alpha = {}\n",
    "for i in range(65,91):\n",
    "    alpha[i]= chr(i)\n",
    "    \n",
    "print(alpha)"
   ]
  },
  {
   "cell_type": "code",
   "execution_count": 87,
   "id": "86b5efbf",
   "metadata": {},
   "outputs": [
    {
     "name": "stdout",
     "output_type": "stream",
     "text": [
      "{97: 'a', 98: 'b', 99: 'c', 100: 'd', 101: 'e', 102: 'f', 103: 'g', 104: 'h', 105: 'i', 106: 'j', 107: 'k', 108: 'l', 109: 'm', 110: 'n', 111: 'o', 112: 'p', 113: 'q', 114: 'r', 115: 's', 116: 't', 117: 'u', 118: 'v', 119: 'w', 120: 'x', 121: 'y', 122: 'z'}\n"
     ]
    }
   ],
   "source": [
    "alpha = {}\n",
    "for i in range(97,123):\n",
    "    alpha[i]= chr(i)\n",
    "    \n",
    "print(alpha)"
   ]
  },
  {
   "cell_type": "code",
   "execution_count": 89,
   "id": "fc4d0371",
   "metadata": {},
   "outputs": [
    {
     "name": "stdout",
     "output_type": "stream",
     "text": [
      "{97: 'a', 98: 'b', 99: 'c', 100: 'd', 101: 'e', 102: 'f', 103: 'g', 104: 'h', 105: 'i', 106: 'j', 107: 'k', 108: 'l', 109: 'm', 110: 'n', 111: 'o', 112: 'p', 113: 'q', 114: 'r', 115: 's', 116: 't', 117: 'u', 118: 'v', 119: 'w', 120: 'x', 121: 'y', 122: 'z'}\n"
     ]
    }
   ],
   "source": [
    "alpha = {}\n",
    "x = 97\n",
    "for i in range(97,123):\n",
    "    alpha[i]= chr(x)\n",
    "    x+=1\n",
    "    \n",
    "print(alpha)"
   ]
  },
  {
   "cell_type": "code",
   "execution_count": null,
   "id": "177b93e7",
   "metadata": {},
   "outputs": [],
   "source": [
    "sub = ['phy','che','maths','eng','bio']\n",
    "marks = [87,85,78,98,79]\n",
    "\n",
    "# result = {'phy':87,'che':85,'maths':78,'eng':98,'bio':79}"
   ]
  },
  {
   "cell_type": "code",
   "execution_count": 90,
   "id": "b23162f5",
   "metadata": {},
   "outputs": [
    {
     "data": {
      "text/plain": [
       "{'phy': 87, 'che': 85, 'maths': 78, 'eng': 98, 'bio': 79}"
      ]
     },
     "execution_count": 90,
     "metadata": {},
     "output_type": "execute_result"
    }
   ],
   "source": [
    "sub = ['phy','che','maths','eng','bio']\n",
    "marks = [87,85,78,98,79]\n",
    "\n",
    "result = {}\n",
    "for i, v in enumerate(sub):\n",
    "    result[v] = marks[i]\n",
    "\n",
    "result"
   ]
  },
  {
   "cell_type": "code",
   "execution_count": 91,
   "id": "454341b9",
   "metadata": {},
   "outputs": [
    {
     "data": {
      "text/plain": [
       "{'phy': 87, 'che': 85, 'maths': 78, 'eng': 98, 'bio': 79}"
      ]
     },
     "execution_count": 91,
     "metadata": {},
     "output_type": "execute_result"
    }
   ],
   "source": [
    "sub = ['phy','che','maths','eng','bio']\n",
    "marks = [87,85,78,98,79]\n",
    "\n",
    "result = {}\n",
    "\n",
    "for i, v in enumerate(sub):\n",
    "    result.update({v:marks[i]})\n",
    "\n",
    "result"
   ]
  },
  {
   "cell_type": "markdown",
   "id": "d5613ecb",
   "metadata": {},
   "source": [
    "## fromkeys"
   ]
  },
  {
   "cell_type": "code",
   "execution_count": 92,
   "id": "3e845aea",
   "metadata": {},
   "outputs": [
    {
     "data": {
      "text/plain": [
       "{'phy': None, 'che': None, 'maths': None, 'eng': None, 'bio': None}"
      ]
     },
     "execution_count": 92,
     "metadata": {},
     "output_type": "execute_result"
    }
   ],
   "source": [
    "sub = ['phy','che','maths','eng','bio']\n",
    "dict.fromkeys(sub)"
   ]
  },
  {
   "cell_type": "code",
   "execution_count": 94,
   "id": "b63c085e",
   "metadata": {},
   "outputs": [
    {
     "data": {
      "text/plain": [
       "{'phy': 100, 'che': 100, 'maths': 100, 'eng': 100, 'bio': 100}"
      ]
     },
     "execution_count": 94,
     "metadata": {},
     "output_type": "execute_result"
    }
   ],
   "source": [
    "sub = ['phy','che','maths','eng','bio']\n",
    "result = dict.fromkeys(sub,100)\n",
    "result"
   ]
  },
  {
   "cell_type": "code",
   "execution_count": 95,
   "id": "ae96c474",
   "metadata": {},
   "outputs": [
    {
     "data": {
      "text/plain": [
       "{'phy': 'python',\n",
       " 'che': 'python',\n",
       " 'maths': 'python',\n",
       " 'eng': 'python',\n",
       " 'bio': 'python'}"
      ]
     },
     "execution_count": 95,
     "metadata": {},
     "output_type": "execute_result"
    }
   ],
   "source": [
    "sub = ['phy','che','maths','eng','bio']\n",
    "result = dict.fromkeys(sub,'python')\n",
    "result"
   ]
  },
  {
   "cell_type": "code",
   "execution_count": 98,
   "id": "c6e3c37b",
   "metadata": {},
   "outputs": [
    {
     "data": {
      "text/plain": [
       "{'phy': [87, 85, 78, 98, 79],\n",
       " 'che': [87, 85, 78, 98, 79],\n",
       " 'maths': [87, 85, 78, 98, 79],\n",
       " 'eng': [87, 85, 78, 98, 79],\n",
       " 'bio': [87, 85, 78, 98, 79]}"
      ]
     },
     "execution_count": 98,
     "metadata": {},
     "output_type": "execute_result"
    }
   ],
   "source": [
    "sub = ['phy','che','maths','eng','bio']\n",
    "marks = [87,85,78,98,79]\n",
    "result = dict.fromkeys(sub,marks)\n",
    "result"
   ]
  },
  {
   "cell_type": "code",
   "execution_count": 99,
   "id": "00f2f3be",
   "metadata": {},
   "outputs": [
    {
     "data": {
      "text/plain": [
       "{'phy': 87, 'che': 85, 'maths': 78, 'eng': 98, 'bio': 79}"
      ]
     },
     "execution_count": 99,
     "metadata": {},
     "output_type": "execute_result"
    }
   ],
   "source": [
    "sub = ['phy','che','maths','eng','bio']\n",
    "marks = [87,85,78,98,79]\n",
    "result = dict(zip(sub,marks))\n",
    "result"
   ]
  },
  {
   "cell_type": "code",
   "execution_count": 100,
   "id": "596e1509",
   "metadata": {},
   "outputs": [
    {
     "data": {
      "text/plain": [
       "{'phy': 87, 'che': 85, 'maths': 78, 'eng': 98, 'bio': 79}"
      ]
     },
     "execution_count": 100,
     "metadata": {},
     "output_type": "execute_result"
    }
   ],
   "source": [
    "sub = ['phy','che','maths','eng','bio','Hist']\n",
    "marks = [87,85,78,98,79]\n",
    "result = dict(zip(sub,marks))\n",
    "result"
   ]
  },
  {
   "cell_type": "code",
   "execution_count": 101,
   "id": "62f59a30",
   "metadata": {},
   "outputs": [
    {
     "data": {
      "text/plain": [
       "{'phy': 87, 'che': 85, 'maths': 78, 'eng': 98, 'bio': 79}"
      ]
     },
     "execution_count": 101,
     "metadata": {},
     "output_type": "execute_result"
    }
   ],
   "source": [
    "sub = ['phy','che','maths','eng','bio']\n",
    "marks = [87,85,78,98,79,80]\n",
    "result = dict(zip(sub,marks))\n",
    "result"
   ]
  },
  {
   "cell_type": "code",
   "execution_count": 102,
   "id": "a9446ca9",
   "metadata": {},
   "outputs": [
    {
     "data": {
      "text/plain": [
       "{'phy': 87, 'che': 85, 'maths': 78, 'eng': 98, 'bio': 79, 'History': 80}"
      ]
     },
     "execution_count": 102,
     "metadata": {},
     "output_type": "execute_result"
    }
   ],
   "source": [
    "sub = ['phy','che','maths','eng','bio','History']\n",
    "marks = [87,85,78,98,79,80]\n",
    "result = dict(zip(sub,marks))\n",
    "result"
   ]
  },
  {
   "cell_type": "code",
   "execution_count": 103,
   "id": "a1f6bab0",
   "metadata": {},
   "outputs": [
    {
     "data": {
      "text/plain": [
       "{'phy': 87, 'che': 85, 'maths': 78, 'eng': 98, 'bio': 79, 'History': 80}"
      ]
     },
     "execution_count": 103,
     "metadata": {},
     "output_type": "execute_result"
    }
   ],
   "source": [
    "sub = ('phy','che','maths','eng','bio','History')\n",
    "marks = [87,85,78,98,79,80]\n",
    "result = dict(zip(sub,marks))\n",
    "result"
   ]
  },
  {
   "cell_type": "code",
   "execution_count": 104,
   "id": "0df3b7b5",
   "metadata": {},
   "outputs": [
    {
     "data": {
      "text/plain": [
       "{'phy': 87, 'che': 85, 'maths': 78, 'eng': 98, 'bio': 79, 'History': 80}"
      ]
     },
     "execution_count": 104,
     "metadata": {},
     "output_type": "execute_result"
    }
   ],
   "source": [
    "sub = ('phy','che','maths','eng','bio','History')\n",
    "marks = (87,85,78,98,79,80)\n",
    "result = dict(zip(sub,marks))\n",
    "result"
   ]
  },
  {
   "cell_type": "code",
   "execution_count": 105,
   "id": "134c5c8d",
   "metadata": {},
   "outputs": [
    {
     "data": {
      "text/plain": [
       "{'phy': 87, 'che': 85, 'maths': 78, 'eng': 98, 'bio': 79, 'History': 80}"
      ]
     },
     "execution_count": 105,
     "metadata": {},
     "output_type": "execute_result"
    }
   ],
   "source": [
    "sub = ('phy','che','maths','eng','bio','History','a','b')\n",
    "marks = (87,85,78,98,79,80)\n",
    "result = dict(zip(sub,marks))\n",
    "result"
   ]
  },
  {
   "cell_type": "code",
   "execution_count": 106,
   "id": "837a914e",
   "metadata": {},
   "outputs": [
    {
     "data": {
      "text/plain": [
       "{'phy': 87, 'che': 85, 'maths': 78, 'eng': 98, 'bio': 79, 'History': 80}"
      ]
     },
     "execution_count": 106,
     "metadata": {},
     "output_type": "execute_result"
    }
   ],
   "source": [
    "sub = ('phy','che','maths','eng','bio','History')\n",
    "marks = (87,85,78,98,79,80,1,2)\n",
    "result = dict(zip(sub,marks))\n",
    "result"
   ]
  },
  {
   "cell_type": "markdown",
   "id": "9bc0c05a",
   "metadata": {},
   "source": [
    "## setdefault()"
   ]
  },
  {
   "cell_type": "code",
   "execution_count": null,
   "id": "6b92989b",
   "metadata": {},
   "outputs": [],
   "source": [
    "dict.setdefault()\n",
    "\n",
    "if key is present it returns corresponding value\n",
    "if key is not present a key:value pair is addes in dict"
   ]
  },
  {
   "cell_type": "code",
   "execution_count": 108,
   "id": "aba4a58d",
   "metadata": {},
   "outputs": [
    {
     "data": {
      "text/plain": [
       "85"
      ]
     },
     "execution_count": 108,
     "metadata": {},
     "output_type": "execute_result"
    }
   ],
   "source": [
    "sub_marks = {'phy': 87, 'che': 85, 'maths': 78, 'eng': 98, 'bio': 79, 'History': 80}\n",
    "sub_marks.get('che')"
   ]
  },
  {
   "cell_type": "code",
   "execution_count": 109,
   "id": "a2676245",
   "metadata": {},
   "outputs": [
    {
     "data": {
      "text/plain": [
       "85"
      ]
     },
     "execution_count": 109,
     "metadata": {},
     "output_type": "execute_result"
    }
   ],
   "source": [
    "sub_marks = {'phy': 87, 'che': 85, 'maths': 78, 'eng': 98, 'bio': 79, 'History': 80}\n",
    "sub_marks.setdefault('che')"
   ]
  },
  {
   "cell_type": "code",
   "execution_count": 110,
   "id": "ec65e66f",
   "metadata": {},
   "outputs": [],
   "source": [
    "sub_marks = {'phy': 87, 'che': 85, 'maths': 78, 'eng': 98, 'bio': 79, 'History': 80}\n",
    "sub_marks.setdefault('python')"
   ]
  },
  {
   "cell_type": "code",
   "execution_count": 1,
   "id": "2d66c0d2",
   "metadata": {},
   "outputs": [
    {
     "data": {
      "text/plain": [
       "{'phy': 87,\n",
       " 'che': 85,\n",
       " 'maths': 78,\n",
       " 'eng': 98,\n",
       " 'bio': 79,\n",
       " 'History': 80,\n",
       " 'python': 100}"
      ]
     },
     "execution_count": 1,
     "metadata": {},
     "output_type": "execute_result"
    }
   ],
   "source": [
    "sub_marks = {'phy': 87, 'che': 85, 'maths': 78, 'eng': 98, 'bio': 79, 'History': 80}\n",
    "sub_marks.setdefault('python',100)\n",
    "sub_marks"
   ]
  },
  {
   "cell_type": "code",
   "execution_count": 2,
   "id": "65f1b2aa",
   "metadata": {},
   "outputs": [
    {
     "data": {
      "text/plain": [
       "85"
      ]
     },
     "execution_count": 2,
     "metadata": {},
     "output_type": "execute_result"
    }
   ],
   "source": [
    "sub_marks = {'phy': 87, 'che': 85, 'maths': 78, 'eng': 98, 'bio': 79, 'History': 80}\n",
    "sub_marks.setdefault('che',100)\n"
   ]
  },
  {
   "cell_type": "code",
   "execution_count": 115,
   "id": "49f66238",
   "metadata": {},
   "outputs": [
    {
     "data": {
      "text/plain": [
       "{'phy': 87,\n",
       " 'che': 85,\n",
       " 'maths': 78,\n",
       " 'eng': 98,\n",
       " 'bio': 79,\n",
       " 'History': 80,\n",
       " 'python': 100}"
      ]
     },
     "execution_count": 115,
     "metadata": {},
     "output_type": "execute_result"
    }
   ],
   "source": [
    "sub_marks = {'phy': 87, 'che': 85, 'maths': 78, 'eng': 98, 'bio': 79, 'History': 80}\n",
    "sub_marks.setdefault('python',100)\n",
    "sub_marks"
   ]
  },
  {
   "cell_type": "code",
   "execution_count": 117,
   "id": "2ad89b66",
   "metadata": {},
   "outputs": [
    {
     "data": {
      "text/plain": [
       "100"
      ]
     },
     "execution_count": 117,
     "metadata": {},
     "output_type": "execute_result"
    }
   ],
   "source": [
    "sub_marks.setdefault('python',77)\n"
   ]
  },
  {
   "cell_type": "code",
   "execution_count": 118,
   "id": "d70f3e83",
   "metadata": {},
   "outputs": [
    {
     "data": {
      "text/plain": [
       "79"
      ]
     },
     "execution_count": 118,
     "metadata": {},
     "output_type": "execute_result"
    }
   ],
   "source": [
    "sub_marks.setdefault('bio',88)"
   ]
  },
  {
   "cell_type": "code",
   "execution_count": 119,
   "id": "36c10cc8",
   "metadata": {},
   "outputs": [
    {
     "data": {
      "text/plain": [
       "{'phy': 87,\n",
       " 'che': 85,\n",
       " 'maths': 78,\n",
       " 'eng': 98,\n",
       " 'bio': 79,\n",
       " 'History': 80,\n",
       " 'python': 100}"
      ]
     },
     "execution_count": 119,
     "metadata": {},
     "output_type": "execute_result"
    }
   ],
   "source": [
    "sub_marks"
   ]
  },
  {
   "cell_type": "code",
   "execution_count": 120,
   "id": "465a00a7",
   "metadata": {},
   "outputs": [
    {
     "data": {
      "text/plain": [
       "{'phy': 87,\n",
       " 'che': 85,\n",
       " 'maths': 78,\n",
       " 'eng': 98,\n",
       " 'bio': 79,\n",
       " 'History': 80,\n",
       " 'python': 100,\n",
       " 'env': 88}"
      ]
     },
     "execution_count": 120,
     "metadata": {},
     "output_type": "execute_result"
    }
   ],
   "source": [
    "sub_marks.setdefault('env',88)\n",
    "sub_marks"
   ]
  },
  {
   "cell_type": "code",
   "execution_count": null,
   "id": "22926556",
   "metadata": {},
   "outputs": [],
   "source": []
  }
 ],
 "metadata": {
  "kernelspec": {
   "display_name": "Python 3 (ipykernel)",
   "language": "python",
   "name": "python3"
  },
  "language_info": {
   "codemirror_mode": {
    "name": "ipython",
    "version": 3
   },
   "file_extension": ".py",
   "mimetype": "text/x-python",
   "name": "python",
   "nbconvert_exporter": "python",
   "pygments_lexer": "ipython3",
   "version": "3.11.3"
  }
 },
 "nbformat": 4,
 "nbformat_minor": 5
}
