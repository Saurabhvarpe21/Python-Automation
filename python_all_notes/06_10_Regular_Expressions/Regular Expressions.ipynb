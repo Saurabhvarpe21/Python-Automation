{
 "cells": [
  {
   "cell_type": "markdown",
   "id": "23c79d47",
   "metadata": {},
   "source": [
    "## 2. star(*)"
   ]
  },
  {
   "cell_type": "code",
   "execution_count": null,
   "id": "12a672c3",
   "metadata": {},
   "outputs": [],
   "source": [
    "* >> Zero or more occurrences"
   ]
  },
  {
   "cell_type": "code",
   "execution_count": 1,
   "id": "41852416",
   "metadata": {},
   "outputs": [],
   "source": [
    "import re"
   ]
  },
  {
   "cell_type": "code",
   "execution_count": 2,
   "id": "97616f7d",
   "metadata": {},
   "outputs": [
    {
     "name": "stdout",
     "output_type": "stream",
     "text": [
      "['pyt', 'pyt', 'pyt'] 3\n"
     ]
    }
   ],
   "source": [
    "string = 'python and data science pythonnnn pyhon pyttthon pyhonnnn'\n",
    "text = re.findall('pyt', string)\n",
    "print(text, len(text))"
   ]
  },
  {
   "cell_type": "code",
   "execution_count": 3,
   "id": "6d14207e",
   "metadata": {},
   "outputs": [
    {
     "name": "stdout",
     "output_type": "stream",
     "text": [
      "['pyt', 'pyt', 'pyttt'] 3\n"
     ]
    }
   ],
   "source": [
    "string = 'python and data science pythonnnn pyhon pyttthon pyhonnnn'\n",
    "text = re.findall('pyt+', string)\n",
    "print(text, len(text))"
   ]
  },
  {
   "cell_type": "code",
   "execution_count": 4,
   "id": "1e7a02fa",
   "metadata": {},
   "outputs": [
    {
     "name": "stdout",
     "output_type": "stream",
     "text": [
      "['pyt', 'pyt', 'py', 'pyttt', 'py'] 5\n"
     ]
    }
   ],
   "source": [
    "string = 'python and data science pythonnnn pyhon pyttthon pyhonnnn'\n",
    "text = re.findall('pyt*', string)\n",
    "print(text, len(text))"
   ]
  },
  {
   "cell_type": "code",
   "execution_count": 5,
   "id": "cb09274b",
   "metadata": {},
   "outputs": [
    {
     "name": "stdout",
     "output_type": "stream",
     "text": [
      "['python', 'python', 'pyhon', 'pyttthon', 'pyhon'] 5\n"
     ]
    }
   ],
   "source": [
    "string = 'python and data science pythonnnn pyhon pyttthon pyhonnnn'\n",
    "text = re.findall('pyt*hon', string)\n",
    "print(text, len(text))"
   ]
  },
  {
   "cell_type": "code",
   "execution_count": 6,
   "id": "9f048fd8",
   "metadata": {},
   "outputs": [
    {
     "name": "stdout",
     "output_type": "stream",
     "text": [
      "['python', 'python', 'pyttthon'] 3\n"
     ]
    }
   ],
   "source": [
    "string = 'python and data science pythonnnn pyhon pyttthon pyhonnnn'\n",
    "text = re.findall('pyt+hon', string)\n",
    "print(text, len(text))"
   ]
  },
  {
   "cell_type": "code",
   "execution_count": 7,
   "id": "b6a65dbe",
   "metadata": {},
   "outputs": [
    {
     "name": "stdout",
     "output_type": "stream",
     "text": [
      "['python', 'pythonnnn', 'pyhon', 'pyttthon', 'pyhonnnn'] 5\n"
     ]
    }
   ],
   "source": [
    "string = 'python and data science pythonnnn pyhon pyttthon pyhonnnn'\n",
    "text = re.findall('pyt*hon*', string)\n",
    "print(text, len(text))"
   ]
  },
  {
   "cell_type": "code",
   "execution_count": 8,
   "id": "f2498703",
   "metadata": {},
   "outputs": [
    {
     "name": "stdout",
     "output_type": "stream",
     "text": [
      "['python', 'pythonnnn', 'pyttthon'] 3\n"
     ]
    }
   ],
   "source": [
    "string = 'python and data science pythonnnn pyhon pyttthon pyhonnnn'\n",
    "text = re.findall('pyt+hon*', string)\n",
    "print(text, len(text))"
   ]
  },
  {
   "cell_type": "code",
   "execution_count": 9,
   "id": "f963fdbf",
   "metadata": {},
   "outputs": [
    {
     "name": "stdout",
     "output_type": "stream",
     "text": [
      "['98745', '12456'] 2\n"
     ]
    }
   ],
   "source": [
    "string = 'python and data science pythonnnn pyhon pyttthon 98745abcde 12456 pyhonnnn'\n",
    "text = re.findall('[0-9]{5}', string)\n",
    "print(text, len(text))"
   ]
  },
  {
   "cell_type": "code",
   "execution_count": 10,
   "id": "06210ddd",
   "metadata": {},
   "outputs": [
    {
     "name": "stdout",
     "output_type": "stream",
     "text": [
      "['98745abcde'] 1\n"
     ]
    }
   ],
   "source": [
    "string = 'python and data science pythonnnn pyhon pyttthon 98745abcde 12456 pyhonnnn'\n",
    "text = re.findall('[0-9]{5}[a-z]+', string)\n",
    "print(text, len(text))"
   ]
  },
  {
   "cell_type": "code",
   "execution_count": 11,
   "id": "1c8393c8",
   "metadata": {},
   "outputs": [
    {
     "name": "stdout",
     "output_type": "stream",
     "text": [
      "['98745abcde', '12456'] 2\n"
     ]
    }
   ],
   "source": [
    "string = 'python and data science pythonnnn pyhon pyttthon 98745abcde 12456 pyhonnnn'\n",
    "text = re.findall('[0-9]{5}[a-z]*', string)\n",
    "print(text, len(text))"
   ]
  },
  {
   "cell_type": "code",
   "execution_count": 12,
   "id": "5531f8df",
   "metadata": {},
   "outputs": [
    {
     "name": "stdout",
     "output_type": "stream",
     "text": [
      "['bat', 'bat']\n"
     ]
    }
   ],
   "source": [
    "text = 'batman and batwoman'\n",
    "result = re.findall('bat',text)\n",
    "print(result)"
   ]
  },
  {
   "cell_type": "code",
   "execution_count": 13,
   "id": "7287db44",
   "metadata": {},
   "outputs": [
    {
     "name": "stdout",
     "output_type": "stream",
     "text": [
      "['bat', 'bat']\n"
     ]
    }
   ],
   "source": [
    "text = 'batman and batwoman'\n",
    "result = re.findall('bat+',text)\n",
    "print(result)"
   ]
  },
  {
   "cell_type": "code",
   "execution_count": 14,
   "id": "931fe600",
   "metadata": {},
   "outputs": [
    {
     "name": "stdout",
     "output_type": "stream",
     "text": [
      "['bat', 'bat']\n"
     ]
    }
   ],
   "source": [
    "text = 'batman and batwoman'\n",
    "result = re.findall('bat*',text)\n",
    "print(result)"
   ]
  },
  {
   "cell_type": "code",
   "execution_count": 15,
   "id": "a255aa8f",
   "metadata": {},
   "outputs": [
    {
     "name": "stdout",
     "output_type": "stream",
     "text": [
      "['batman', 'batwoman']\n"
     ]
    }
   ],
   "source": [
    "text = 'batman and batwoman'\n",
    "result = re.findall('batw*o*man',text)\n",
    "print(result)"
   ]
  },
  {
   "cell_type": "code",
   "execution_count": 16,
   "id": "ba87852b",
   "metadata": {},
   "outputs": [
    {
     "name": "stdout",
     "output_type": "stream",
     "text": [
      "['batman', 'batwoman', 'batwwwoman', 'batwooooooman']\n"
     ]
    }
   ],
   "source": [
    "text = 'batman and batwoman batwwwoman batwooooooman'\n",
    "result = re.findall('batw*o*man',text)\n",
    "print(result)"
   ]
  },
  {
   "cell_type": "code",
   "execution_count": 17,
   "id": "f2d10579",
   "metadata": {},
   "outputs": [
    {
     "name": "stdout",
     "output_type": "stream",
     "text": [
      "['batwoman', 'batwwwoman', 'batwooooooman']\n"
     ]
    }
   ],
   "source": [
    "text = 'batman and batwoman batwwwoman batwooooooman'\n",
    "result = re.findall('batw+o+man',text)\n",
    "print(result)"
   ]
  },
  {
   "cell_type": "markdown",
   "id": "c93a922a",
   "metadata": {},
   "source": [
    "## 3. dot(.)"
   ]
  },
  {
   "cell_type": "code",
   "execution_count": null,
   "id": "57aae1e8",
   "metadata": {},
   "outputs": [],
   "source": [
    "dot (.) >> any character (except new line >> \\n)"
   ]
  },
  {
   "cell_type": "code",
   "execution_count": 19,
   "id": "7c6e9f14",
   "metadata": {},
   "outputs": [
    {
     "name": "stdout",
     "output_type": "stream",
     "text": [
      "['pyth']\n"
     ]
    }
   ],
   "source": [
    "string = 'python and data science'\n",
    "\n",
    "result = re.findall('pyt.', string)\n",
    "print(result)"
   ]
  },
  {
   "cell_type": "code",
   "execution_count": 20,
   "id": "30815482",
   "metadata": {},
   "outputs": [
    {
     "name": "stdout",
     "output_type": "stream",
     "text": [
      "['python']\n"
     ]
    }
   ],
   "source": [
    "string = 'python and data science'\n",
    "\n",
    "result = re.findall('pyt...', string)\n",
    "print(result)"
   ]
  },
  {
   "cell_type": "code",
   "execution_count": 32,
   "id": "6101d874",
   "metadata": {},
   "outputs": [
    {
     "name": "stdout",
     "output_type": "stream",
     "text": [
      "['pyt ho']\n"
     ]
    }
   ],
   "source": [
    "string = 'pyt hon and data science'\n",
    "\n",
    "result = re.findall('pyt...', string)\n",
    "print(result)"
   ]
  },
  {
   "cell_type": "code",
   "execution_count": 21,
   "id": "d8400c55",
   "metadata": {},
   "outputs": [
    {
     "name": "stdout",
     "output_type": "stream",
     "text": [
      "['python']\n"
     ]
    }
   ],
   "source": [
    "string = 'python and data science'\n",
    "\n",
    "result = re.findall('pyt..n', string)\n",
    "print(result)"
   ]
  },
  {
   "cell_type": "code",
   "execution_count": 22,
   "id": "92af44b6",
   "metadata": {},
   "outputs": [
    {
     "name": "stdout",
     "output_type": "stream",
     "text": [
      "['python', 'python', 'pyt112'] 3\n"
     ]
    }
   ],
   "source": [
    "string = '''python and data science pyt\n",
    "hon        python pyt112   pyth '''\n",
    "\n",
    "result = re.findall('pyt...', string)\n",
    "print(result, len(result))"
   ]
  },
  {
   "cell_type": "code",
   "execution_count": 23,
   "id": "f7f238ea",
   "metadata": {},
   "outputs": [
    {
     "name": "stdout",
     "output_type": "stream",
     "text": [
      "['python', 'python', 'pyt112', 'pyth  '] 4\n"
     ]
    }
   ],
   "source": [
    "string = '''python and data science pyt\n",
    "hon        python pyt112   pyth     '''\n",
    "\n",
    "result = re.findall('pyt...', string)\n",
    "print(result, len(result))"
   ]
  },
  {
   "cell_type": "code",
   "execution_count": 24,
   "id": "f1bb97b3",
   "metadata": {},
   "outputs": [
    {
     "data": {
      "text/plain": [
       "'python and data science pyt\\nhon        python pyt112   pyth     '"
      ]
     },
     "execution_count": 24,
     "metadata": {},
     "output_type": "execute_result"
    }
   ],
   "source": [
    "string"
   ]
  },
  {
   "cell_type": "code",
   "execution_count": 25,
   "id": "e5bbdbf8",
   "metadata": {},
   "outputs": [
    {
     "data": {
      "text/plain": [
       "['python']"
      ]
     },
     "execution_count": 25,
     "metadata": {},
     "output_type": "execute_result"
    }
   ],
   "source": [
    "string = 'python and data science pythhhon pyttthon'\n",
    "result = re.findall('py.hon',string)\n",
    "result"
   ]
  },
  {
   "cell_type": "code",
   "execution_count": 26,
   "id": "6f340e67",
   "metadata": {},
   "outputs": [
    {
     "data": {
      "text/plain": [
       "['python', 'pythhhon']"
      ]
     },
     "execution_count": 26,
     "metadata": {},
     "output_type": "execute_result"
    }
   ],
   "source": [
    "string = 'python and data science pythhhon pyttthon pyton'\n",
    "result = re.findall('py.h+on',string)\n",
    "result"
   ]
  },
  {
   "cell_type": "code",
   "execution_count": 27,
   "id": "2cc0f728",
   "metadata": {},
   "outputs": [
    {
     "data": {
      "text/plain": [
       "['python and data science pythhhon pyttthon']"
      ]
     },
     "execution_count": 27,
     "metadata": {},
     "output_type": "execute_result"
    }
   ],
   "source": [
    "string = 'python and data science pythhhon pyttthon pyton'\n",
    "result = re.findall('py.+h+on',string)\n",
    "result"
   ]
  },
  {
   "cell_type": "code",
   "execution_count": 28,
   "id": "f35d5757",
   "metadata": {},
   "outputs": [
    {
     "data": {
      "text/plain": [
       "['py']"
      ]
     },
     "execution_count": 28,
     "metadata": {},
     "output_type": "execute_result"
    }
   ],
   "source": [
    "string =  'python and data science'\n",
    "result = re.findall('p.', string)\n",
    "result"
   ]
  },
  {
   "cell_type": "code",
   "execution_count": 29,
   "id": "b0eedf21",
   "metadata": {},
   "outputs": [
    {
     "data": {
      "text/plain": [
       "['python and data science']"
      ]
     },
     "execution_count": 29,
     "metadata": {},
     "output_type": "execute_result"
    }
   ],
   "source": [
    "string =  'python and data science'\n",
    "result = re.findall('p.+', string)\n",
    "result"
   ]
  },
  {
   "cell_type": "code",
   "execution_count": 30,
   "id": "18f364a9",
   "metadata": {},
   "outputs": [
    {
     "data": {
      "text/plain": [
       "['python and d']"
      ]
     },
     "execution_count": 30,
     "metadata": {},
     "output_type": "execute_result"
    }
   ],
   "source": [
    "string =  'python and data science'\n",
    "result = re.findall('p.+d', string)\n",
    "result"
   ]
  },
  {
   "cell_type": "code",
   "execution_count": 31,
   "id": "7d7989df",
   "metadata": {},
   "outputs": [
    {
     "data": {
      "text/plain": [
       "['python and d']"
      ]
     },
     "execution_count": 31,
     "metadata": {},
     "output_type": "execute_result"
    }
   ],
   "source": [
    "string =  'python and data science'\n",
    "result = re.findall('p.*d', string)\n",
    "result"
   ]
  },
  {
   "cell_type": "code",
   "execution_count": 33,
   "id": "1ea215ff",
   "metadata": {},
   "outputs": [
    {
     "data": {
      "text/plain": [
       "['9978780000', '9977551100']"
      ]
     },
     "execution_count": 33,
     "metadata": {},
     "output_type": "execute_result"
    }
   ],
   "source": [
    "string = '''9988776655\n",
    "            8899007788\n",
    "            9545659878\n",
    "            9978780000\n",
    "            9977551100'''\n",
    "\n",
    "result = re.findall('99......00',string)\n",
    "result"
   ]
  },
  {
   "cell_type": "code",
   "execution_count": 34,
   "id": "63d59935",
   "metadata": {},
   "outputs": [
    {
     "data": {
      "text/plain": [
       "['8899007788']"
      ]
     },
     "execution_count": 34,
     "metadata": {},
     "output_type": "execute_result"
    }
   ],
   "source": [
    "string = '''9988776655\n",
    "            8899007788\n",
    "            9545659878\n",
    "            9978780000\n",
    "            9977551100'''\n",
    "\n",
    "result = re.findall('88........',string)\n",
    "result"
   ]
  },
  {
   "cell_type": "code",
   "execution_count": 35,
   "id": "0a5001c7",
   "metadata": {},
   "outputs": [
    {
     "data": {
      "text/plain": [
       "['9978780000', '9977551100']"
      ]
     },
     "execution_count": 35,
     "metadata": {},
     "output_type": "execute_result"
    }
   ],
   "source": [
    "string = '''9988776655\n",
    "            8899007788\n",
    "            9545659878\n",
    "            9978780000\n",
    "            9977551100'''\n",
    "\n",
    "result = re.findall('99.+00',string)\n",
    "result"
   ]
  },
  {
   "cell_type": "code",
   "execution_count": 36,
   "id": "bfd1993f",
   "metadata": {},
   "outputs": [
    {
     "data": {
      "text/plain": [
       "['9900', '9978780000', '9977551100']"
      ]
     },
     "execution_count": 36,
     "metadata": {},
     "output_type": "execute_result"
    }
   ],
   "source": [
    "string = '''9988776655\n",
    "            8899007788\n",
    "            9545659878\n",
    "            9978780000\n",
    "            9977551100'''\n",
    "\n",
    "result = re.findall('99.+0',string)\n",
    "result"
   ]
  },
  {
   "cell_type": "code",
   "execution_count": 37,
   "id": "4ad324e5",
   "metadata": {},
   "outputs": [
    {
     "data": {
      "text/plain": [
       "['python']"
      ]
     },
     "execution_count": 37,
     "metadata": {},
     "output_type": "execute_result"
    }
   ],
   "source": [
    "string =  'python'\n",
    "result = re.findall('p.+', string)\n",
    "result"
   ]
  },
  {
   "cell_type": "code",
   "execution_count": 38,
   "id": "4e6b7489",
   "metadata": {},
   "outputs": [
    {
     "data": {
      "text/plain": [
       "['python']"
      ]
     },
     "execution_count": 38,
     "metadata": {},
     "output_type": "execute_result"
    }
   ],
   "source": [
    "string =  'python'\n",
    "result = re.findall('p.*', string)\n",
    "result"
   ]
  },
  {
   "cell_type": "markdown",
   "id": "3f099dbf",
   "metadata": {},
   "source": [
    "## 4. ?"
   ]
  },
  {
   "cell_type": "code",
   "execution_count": null,
   "id": "807e1cfc",
   "metadata": {},
   "outputs": [],
   "source": [
    "It matches exactly zero or one occurrence"
   ]
  },
  {
   "cell_type": "code",
   "execution_count": 39,
   "id": "6939e668",
   "metadata": {},
   "outputs": [
    {
     "name": "stdout",
     "output_type": "stream",
     "text": [
      "['pyt', 'pyt', 'pyt'] 3\n"
     ]
    }
   ],
   "source": [
    "string = 'python and data science pythonnnn pyhon pyttthon 98745abcde 12456 pyhonnnn'\n",
    "text = re.findall('pyt', string)\n",
    "print(text, len(text))"
   ]
  },
  {
   "cell_type": "code",
   "execution_count": 40,
   "id": "72b1b4a5",
   "metadata": {},
   "outputs": [
    {
     "name": "stdout",
     "output_type": "stream",
     "text": [
      "['pyt', 'pyt', 'pyttt'] 3\n"
     ]
    }
   ],
   "source": [
    "string = 'python and data science pythonnnn pyhon pyttthon 98745abcde 12456 pyhonnnn'\n",
    "text = re.findall('pyt+', string)\n",
    "print(text, len(text))"
   ]
  },
  {
   "cell_type": "code",
   "execution_count": 41,
   "id": "fbbf8468",
   "metadata": {},
   "outputs": [
    {
     "name": "stdout",
     "output_type": "stream",
     "text": [
      "['pyt', 'pyt', 'py', 'pyttt', 'py'] 5\n"
     ]
    }
   ],
   "source": [
    "string = 'python and data science pythonnnn pyhon pyttthon 98745abcde 12456 pyhonnnn'\n",
    "text = re.findall('pyt*', string)\n",
    "print(text, len(text))"
   ]
  },
  {
   "cell_type": "code",
   "execution_count": 42,
   "id": "5ad0273a",
   "metadata": {},
   "outputs": [
    {
     "name": "stdout",
     "output_type": "stream",
     "text": [
      "['pyt', 'pyt', 'py', 'pyt', 'py'] 5\n"
     ]
    }
   ],
   "source": [
    "string = 'python and data science pythonnnn pyhon pyttthon 98745abcde 12456 pyhonnnn'\n",
    "text = re.findall('pyt?', string)\n",
    "print(text, len(text))"
   ]
  },
  {
   "cell_type": "code",
   "execution_count": 43,
   "id": "cbb22475",
   "metadata": {},
   "outputs": [
    {
     "name": "stdout",
     "output_type": "stream",
     "text": [
      "['python', 'python', 'pyhon', 'pyttthon', 'pyhon'] 5\n"
     ]
    }
   ],
   "source": [
    "string = 'python and data science pythonnnn pyhon pyttthon 98745abcde 12456 pyhonnnn'\n",
    "text = re.findall('pyt*h*on', string)\n",
    "print(text, len(text))"
   ]
  },
  {
   "cell_type": "code",
   "execution_count": 44,
   "id": "3d14bf24",
   "metadata": {},
   "outputs": [
    {
     "name": "stdout",
     "output_type": "stream",
     "text": [
      "['python', 'python', 'pyttthon'] 3\n"
     ]
    }
   ],
   "source": [
    "string = 'python and data science pythonnnn pyhon pyttthon 98745abcde 12456 pyhonnnn'\n",
    "text = re.findall('pyt+h+on', string)\n",
    "print(text, len(text))"
   ]
  },
  {
   "cell_type": "code",
   "execution_count": 45,
   "id": "fe5ca988",
   "metadata": {},
   "outputs": [
    {
     "name": "stdout",
     "output_type": "stream",
     "text": [
      "['python', 'python', 'pyhon', 'pyhon'] 4\n"
     ]
    }
   ],
   "source": [
    "string = 'python and data science pythonnnn pyhon pyttthon 98745abcde 12456 pyhonnnn'\n",
    "text = re.findall('pyt?hon', string)\n",
    "print(text, len(text))"
   ]
  },
  {
   "cell_type": "code",
   "execution_count": 46,
   "id": "4ab88ca4",
   "metadata": {},
   "outputs": [
    {
     "name": "stdout",
     "output_type": "stream",
     "text": [
      "['python', 'python', 'pyhon', 'pyhon'] 4\n"
     ]
    }
   ],
   "source": [
    "string = 'python and data science pythonnnn pyhon pyttthon 98745abcde 12456 pyhonnnn'\n",
    "text = re.findall('pyt?h?on', string)\n",
    "print(text, len(text))"
   ]
  },
  {
   "cell_type": "code",
   "execution_count": 47,
   "id": "9a9af8d4",
   "metadata": {},
   "outputs": [
    {
     "name": "stdout",
     "output_type": "stream",
     "text": [
      "['python', 'python', 'pyttthon'] 3\n"
     ]
    }
   ],
   "source": [
    "string = 'python and data science pythonnnn pyhon pyttthon 98745abcde 12456 pyhonnnn'\n",
    "text = re.findall('pyt+h?on', string)\n",
    "print(text, len(text))"
   ]
  },
  {
   "cell_type": "code",
   "execution_count": 48,
   "id": "f94ffafe",
   "metadata": {},
   "outputs": [
    {
     "name": "stdout",
     "output_type": "stream",
     "text": [
      "['python', 'python', 'pyhon', 'pyttthon', 'pyhon'] 5\n"
     ]
    }
   ],
   "source": [
    "string = 'python and data science pythonnnn pyhon pyttthon 98745abcde 12456 pyhonnnn'\n",
    "text = re.findall('pyt*h?on', string)\n",
    "print(text, len(text))"
   ]
  },
  {
   "cell_type": "code",
   "execution_count": null,
   "id": "a2492193",
   "metadata": {},
   "outputs": [],
   "source": [
    "1. + >> One or More Occurrences\n",
    "2. * >> Zero or More Occurrences\n",
    "3. . >> Any char except \\n (new line)\n",
    "4. ? >> exactly zero or one Occurrence"
   ]
  },
  {
   "cell_type": "markdown",
   "id": "886863ea",
   "metadata": {},
   "source": [
    "## 5. startwith (^)"
   ]
  },
  {
   "cell_type": "code",
   "execution_count": null,
   "id": "9d2b5799",
   "metadata": {},
   "outputs": [],
   "source": [
    "^ >> startswith (first index / position)"
   ]
  },
  {
   "cell_type": "code",
   "execution_count": 49,
   "id": "7c6e6960",
   "metadata": {},
   "outputs": [
    {
     "data": {
      "text/plain": [
       "True"
      ]
     },
     "execution_count": 49,
     "metadata": {},
     "output_type": "execute_result"
    }
   ],
   "source": [
    "string = 'python and data science pythonnnn pyhon pyttthon 98745abcde 12456 pyhonnnn'\n",
    "string.startswith('p')"
   ]
  },
  {
   "cell_type": "code",
   "execution_count": 50,
   "id": "b5c32baa",
   "metadata": {},
   "outputs": [
    {
     "data": {
      "text/plain": [
       "False"
      ]
     },
     "execution_count": 50,
     "metadata": {},
     "output_type": "execute_result"
    }
   ],
   "source": [
    "string = 'python and data science pythonnnn pyhon pyttthon 98745abcde 12456 pyhonnnn'\n",
    "string.startswith('P')"
   ]
  },
  {
   "cell_type": "code",
   "execution_count": 51,
   "id": "ad4bb2d1",
   "metadata": {},
   "outputs": [
    {
     "data": {
      "text/plain": [
       "False"
      ]
     },
     "execution_count": 51,
     "metadata": {},
     "output_type": "execute_result"
    }
   ],
   "source": [
    "string = ' python and data science pythonnnn pyhon pyttthon 98745abcde 12456 pyhonnnn'\n",
    "string.startswith('p')"
   ]
  },
  {
   "cell_type": "code",
   "execution_count": 52,
   "id": "92b33e32",
   "metadata": {},
   "outputs": [
    {
     "data": {
      "text/plain": [
       "['p']"
      ]
     },
     "execution_count": 52,
     "metadata": {},
     "output_type": "execute_result"
    }
   ],
   "source": [
    "string = 'python and data science pythonnnn pyhon pyttthon 98745abcde 12456 pyhonnnn'\n",
    "\n",
    "result = re.findall('^p', string)\n",
    "result"
   ]
  },
  {
   "cell_type": "code",
   "execution_count": 53,
   "id": "50cadf94",
   "metadata": {},
   "outputs": [
    {
     "data": {
      "text/plain": [
       "['python']"
      ]
     },
     "execution_count": 53,
     "metadata": {},
     "output_type": "execute_result"
    }
   ],
   "source": [
    "string = 'python and data science pythonnnn pyhon pyttthon 98745abcde 12456 pyhonnnn'\n",
    "\n",
    "result = re.findall('^python', string)\n",
    "result"
   ]
  },
  {
   "cell_type": "code",
   "execution_count": 54,
   "id": "2acb08a3",
   "metadata": {},
   "outputs": [
    {
     "data": {
      "text/plain": [
       "[]"
      ]
     },
     "execution_count": 54,
     "metadata": {},
     "output_type": "execute_result"
    }
   ],
   "source": [
    "string = 'python and data science pythonnnn pyhon pyttthon 98745abcde 12456 pyhonnnn'\n",
    "\n",
    "result = re.findall('^Python', string)\n",
    "result"
   ]
  },
  {
   "cell_type": "code",
   "execution_count": 55,
   "id": "d117625a",
   "metadata": {},
   "outputs": [
    {
     "data": {
      "text/plain": [
       "['pytho']"
      ]
     },
     "execution_count": 55,
     "metadata": {},
     "output_type": "execute_result"
    }
   ],
   "source": [
    "string = 'python and data science pythonnnn pyhon pyttthon 98745abcde 12456 pyhonnnn'\n",
    "\n",
    "result = re.findall('^[a-z]{5}', string)\n",
    "result"
   ]
  },
  {
   "cell_type": "code",
   "execution_count": 57,
   "id": "6c87be46",
   "metadata": {},
   "outputs": [
    {
     "data": {
      "text/plain": [
       "['Pytho']"
      ]
     },
     "execution_count": 57,
     "metadata": {},
     "output_type": "execute_result"
    }
   ],
   "source": [
    "string = 'Python and data science pythonnnn pyhon pyttthon 98745abcde 12456 pyhonnnn'\n",
    "\n",
    "result = re.findall('^[a-zA-Z]{5}', string)\n",
    "result"
   ]
  },
  {
   "cell_type": "code",
   "execution_count": 58,
   "id": "b9112bdf",
   "metadata": {},
   "outputs": [
    {
     "data": {
      "text/plain": [
       "[' 9874', ' 1245']"
      ]
     },
     "execution_count": 58,
     "metadata": {},
     "output_type": "execute_result"
    }
   ],
   "source": [
    "# if we use ^ inside [ ] this brackets it works as except\n",
    "string = 'python and data science pythonnnn pyhon pyttthon 98745abcde 12456 pyhonnnn'\n",
    "\n",
    "result = re.findall('[^a-z]{5}', string)\n",
    "result"
   ]
  },
  {
   "cell_type": "code",
   "execution_count": 60,
   "id": "8bdc514f",
   "metadata": {},
   "outputs": [
    {
     "data": {
      "text/plain": [
       "[' ', ' D', ' S', ' ', ' ', ' ', ' 98745', ' 12456 ']"
      ]
     },
     "execution_count": 60,
     "metadata": {},
     "output_type": "execute_result"
    }
   ],
   "source": [
    "# if we use ^ inside [ ] this brackets it works as except\n",
    "string = 'python and Data Science pythonnnn pyhon pyttthon 98745abcde 12456 pyhonnnn'\n",
    "\n",
    "result = re.findall('[^a-z]+', string)\n",
    "result"
   ]
  },
  {
   "cell_type": "code",
   "execution_count": 61,
   "id": "65027f1c",
   "metadata": {},
   "outputs": [
    {
     "data": {
      "text/plain": [
       "[' ', ' ', ' sfdghj']"
      ]
     },
     "execution_count": 61,
     "metadata": {},
     "output_type": "execute_result"
    }
   ],
   "source": [
    "num = '12345 4567 9875 sfdghj'\n",
    "result = re.findall('[^0-9]+',num)\n",
    "result"
   ]
  },
  {
   "cell_type": "code",
   "execution_count": 62,
   "id": "58b34001",
   "metadata": {},
   "outputs": [
    {
     "data": {
      "text/plain": [
       "['12345']"
      ]
     },
     "execution_count": 62,
     "metadata": {},
     "output_type": "execute_result"
    }
   ],
   "source": [
    "# if we use ^ outside [ ] this brackets it works as startswith\n",
    "num = '12345 4567 9875 sfdghj'\n",
    "result = re.findall('^[0-9]+',num)\n",
    "result"
   ]
  },
  {
   "cell_type": "code",
   "execution_count": 63,
   "id": "77fcc2a3",
   "metadata": {},
   "outputs": [
    {
     "data": {
      "text/plain": [
       "['1234']"
      ]
     },
     "execution_count": 63,
     "metadata": {},
     "output_type": "execute_result"
    }
   ],
   "source": [
    "num = '12345 4567 9875 sfdghj'\n",
    "result = re.findall('^[0-9]{4}',num)\n",
    "result"
   ]
  },
  {
   "cell_type": "code",
   "execution_count": 67,
   "id": "6d635337",
   "metadata": {},
   "outputs": [
    {
     "name": "stdout",
     "output_type": "stream",
     "text": [
      "String is starting with digits\n"
     ]
    }
   ],
   "source": [
    "string = '98978 and Data Science pythonnnn pyhon pyttthon 98745abcde 12456 pyhonnnn'\n",
    "text = re.findall('^\\d',string)\n",
    "if text:\n",
    "    print('String is starting with digits')\n",
    "    \n",
    "else:\n",
    "    print('String is not starting with digits')"
   ]
  },
  {
   "cell_type": "code",
   "execution_count": 68,
   "id": "e8e07c7b",
   "metadata": {},
   "outputs": [
    {
     "name": "stdout",
     "output_type": "stream",
     "text": [
      "String is not starting with digits\n"
     ]
    }
   ],
   "source": [
    "string = ' 98978 and Data Science pythonnnn pyhon pyttthon 98745abcde 12456 pyhonnnn'\n",
    "text = re.findall('^\\d',string)\n",
    "if text:\n",
    "    print('String is starting with digits')\n",
    "    \n",
    "else:\n",
    "    print('String is not starting with digits')"
   ]
  },
  {
   "cell_type": "code",
   "execution_count": 69,
   "id": "c18ea37b",
   "metadata": {},
   "outputs": [
    {
     "name": "stdout",
     "output_type": "stream",
     "text": [
      "String is starting with space\n"
     ]
    }
   ],
   "source": [
    "string = ' 98978 and Data Science pythonnnn pyhon pyttthon 98745abcde 12456 pyhonnnn'\n",
    "text = re.findall('^\\s',string)\n",
    "if text:\n",
    "    print('String is starting with space')\n",
    "    \n",
    "else:\n",
    "    print('String is not starting with space')"
   ]
  },
  {
   "cell_type": "code",
   "execution_count": 70,
   "id": "860e94b7",
   "metadata": {},
   "outputs": [
    {
     "name": "stdout",
     "output_type": "stream",
     "text": [
      "String is not starting with space\n"
     ]
    }
   ],
   "source": [
    "string = '98978 and Data Science pythonnnn pyhon pyttthon 98745abcde 12456 pyhonnnn'\n",
    "text = re.findall('^\\s',string)\n",
    "if text:\n",
    "    print('String is starting with space')\n",
    "    \n",
    "else:\n",
    "    print('String is not starting with space')"
   ]
  },
  {
   "cell_type": "markdown",
   "id": "ace50392",
   "metadata": {},
   "source": [
    "## 6. Endswith ($)"
   ]
  },
  {
   "cell_type": "code",
   "execution_count": null,
   "id": "707f07cc",
   "metadata": {},
   "outputs": [],
   "source": [
    "$  >> endswith"
   ]
  },
  {
   "cell_type": "code",
   "execution_count": 75,
   "id": "2061ea9e",
   "metadata": {},
   "outputs": [
    {
     "name": "stdout",
     "output_type": "stream",
     "text": [
      "String is ending with s\n"
     ]
    }
   ],
   "source": [
    "string = '98978 and Data Science pythonnnn pyhon pyttthon class'\n",
    "text = re.findall('s$',string)\n",
    "if text:\n",
    "    print('String is ending with s')\n",
    "    \n",
    "else:\n",
    "    print('String is not ending with s')"
   ]
  },
  {
   "cell_type": "code",
   "execution_count": 76,
   "id": "0c4c85a9",
   "metadata": {},
   "outputs": [
    {
     "data": {
      "text/plain": [
       "['s']"
      ]
     },
     "execution_count": 76,
     "metadata": {},
     "output_type": "execute_result"
    }
   ],
   "source": [
    "text"
   ]
  },
  {
   "cell_type": "code",
   "execution_count": 77,
   "id": "96a6bf58",
   "metadata": {},
   "outputs": [
    {
     "name": "stdout",
     "output_type": "stream",
     "text": [
      "String is not ending with s\n"
     ]
    }
   ],
   "source": [
    "string = '98978 and Data Science pythonnnn pyhon pyttthon classic'\n",
    "text = re.findall('s$',string)\n",
    "if text:\n",
    "    print('String is ending with s')\n",
    "    \n",
    "else:\n",
    "    print('String is not ending with s')"
   ]
  },
  {
   "cell_type": "code",
   "execution_count": 78,
   "id": "9aafb974",
   "metadata": {},
   "outputs": [
    {
     "data": {
      "text/plain": [
       "[]"
      ]
     },
     "execution_count": 78,
     "metadata": {},
     "output_type": "execute_result"
    }
   ],
   "source": [
    "text"
   ]
  },
  {
   "cell_type": "code",
   "execution_count": 79,
   "id": "cbae73b7",
   "metadata": {},
   "outputs": [
    {
     "name": "stdout",
     "output_type": "stream",
     "text": [
      "String is not ending with digits\n"
     ]
    }
   ],
   "source": [
    "string = '98978 and Data Science pythonnnn pyhon pyttthon classic'\n",
    "text = re.findall('\\d$',string)\n",
    "if text:\n",
    "    print('String is ending with digits')\n",
    "    \n",
    "else:\n",
    "    print('String is not ending with digits')"
   ]
  },
  {
   "cell_type": "code",
   "execution_count": 80,
   "id": "bf0d1fa5",
   "metadata": {},
   "outputs": [
    {
     "name": "stdout",
     "output_type": "stream",
     "text": [
      "String is ending with digits\n"
     ]
    }
   ],
   "source": [
    "string = '98978 and Data Science pythonnnn pyhon pyttthon classic1'\n",
    "text = re.findall('\\d$',string)\n",
    "if text:\n",
    "    print('String is ending with digits')\n",
    "    \n",
    "else:\n",
    "    print('String is not ending with digits')"
   ]
  },
  {
   "cell_type": "code",
   "execution_count": 81,
   "id": "b0aaae3a",
   "metadata": {},
   "outputs": [
    {
     "data": {
      "text/plain": [
       "[]"
      ]
     },
     "execution_count": 81,
     "metadata": {},
     "output_type": "execute_result"
    }
   ],
   "source": [
    "string = '98978 and Data Science pythonnnn pyhon pyttthon classic1'\n",
    "\n",
    "text = re.findall('^p.*1$',string)\n",
    "text"
   ]
  },
  {
   "cell_type": "code",
   "execution_count": 82,
   "id": "569eddaf",
   "metadata": {},
   "outputs": [
    {
     "data": {
      "text/plain": [
       "['python and Data Science pythonnnn pyhon pyttthon classic1']"
      ]
     },
     "execution_count": 82,
     "metadata": {},
     "output_type": "execute_result"
    }
   ],
   "source": [
    "string = 'python and Data Science pythonnnn pyhon pyttthon classic1'\n",
    "\n",
    "text = re.findall('^p.*1$',string)\n",
    "text"
   ]
  },
  {
   "cell_type": "code",
   "execution_count": 83,
   "id": "fd153a46",
   "metadata": {},
   "outputs": [
    {
     "data": {
      "text/plain": [
       "['python and Data Science pythonnnn pyhon pyttthon classic1']"
      ]
     },
     "execution_count": 83,
     "metadata": {},
     "output_type": "execute_result"
    }
   ],
   "source": [
    "string = 'python and Data Science pythonnnn pyhon pyttthon classic1'\n",
    "\n",
    "text = re.findall('^p.*',string)\n",
    "text"
   ]
  },
  {
   "cell_type": "code",
   "execution_count": 84,
   "id": "1bd7c96a",
   "metadata": {},
   "outputs": [
    {
     "data": {
      "text/plain": [
       "['python and Data Science pythonnnn pyhon pyttthon classic1']"
      ]
     },
     "execution_count": 84,
     "metadata": {},
     "output_type": "execute_result"
    }
   ],
   "source": [
    "string = '''python and Data Science pythonnnn pyhon pyttthon classic1\n",
    "hfjkl;iuh'''\n",
    "\n",
    "text = re.findall('^p.*',string)\n",
    "text"
   ]
  },
  {
   "cell_type": "markdown",
   "id": "35b23261",
   "metadata": {},
   "source": [
    "## 7. | (or)"
   ]
  },
  {
   "cell_type": "code",
   "execution_count": 85,
   "id": "0b1d45fa",
   "metadata": {},
   "outputs": [
    {
     "data": {
      "text/plain": [
       "['python', 'python']"
      ]
     },
     "execution_count": 85,
     "metadata": {},
     "output_type": "execute_result"
    }
   ],
   "source": [
    "string = 'python and data science python'\n",
    "result = re.findall('python', string)\n",
    "result"
   ]
  },
  {
   "cell_type": "code",
   "execution_count": 86,
   "id": "3169a725",
   "metadata": {},
   "outputs": [
    {
     "data": {
      "text/plain": [
       "['python', 'data', 'python']"
      ]
     },
     "execution_count": 86,
     "metadata": {},
     "output_type": "execute_result"
    }
   ],
   "source": [
    "string = 'python and data science python'\n",
    "result = re.findall('python|data', string)\n",
    "result"
   ]
  },
  {
   "cell_type": "code",
   "execution_count": 87,
   "id": "20e23cd0",
   "metadata": {},
   "outputs": [
    {
     "data": {
      "text/plain": [
       "['10-06-2022', '10/06/2022']"
      ]
     },
     "execution_count": 87,
     "metadata": {},
     "output_type": "execute_result"
    }
   ],
   "source": [
    "string = '''10-06-2022\n",
    "            10/06/2022\n",
    "            10 Jun 2022'''\n",
    "\n",
    "date = re.findall('\\d{2}[-/]\\d{2}[-/]\\d{4}',string)\n",
    "date"
   ]
  },
  {
   "cell_type": "code",
   "execution_count": 88,
   "id": "12ec79ef",
   "metadata": {},
   "outputs": [
    {
     "data": {
      "text/plain": [
       "['10-06-2022', '10/06/2022']"
      ]
     },
     "execution_count": 88,
     "metadata": {},
     "output_type": "execute_result"
    }
   ],
   "source": [
    "string = '''10-06-2022\n",
    "            10/06/2022\n",
    "            10 Jun 2022\n",
    "            05 Jul 2022'''\n",
    "\n",
    "date = re.findall('\\d{2}[-/]\\d{2}[-/]\\d{4}',string)\n",
    "date"
   ]
  },
  {
   "cell_type": "code",
   "execution_count": 90,
   "id": "4f99e5b3",
   "metadata": {},
   "outputs": [
    {
     "data": {
      "text/plain": [
       "['10 Jun 2022', '05 Jul 2022']"
      ]
     },
     "execution_count": 90,
     "metadata": {},
     "output_type": "execute_result"
    }
   ],
   "source": [
    "string = '''10-06-2022\n",
    "            10/06/2022\n",
    "            10 Jun 2022\n",
    "            05 Jul 2022'''\n",
    "\n",
    "date = re.findall('\\d{2}\\s[A-z]{3}\\s\\d{4}',string)\n",
    "date"
   ]
  },
  {
   "cell_type": "code",
   "execution_count": 91,
   "id": "e5b89f4d",
   "metadata": {},
   "outputs": [
    {
     "data": {
      "text/plain": [
       "['10-06-2022', '10/06/2022', '10 Jun 2022', '05 Jul 2022']"
      ]
     },
     "execution_count": 91,
     "metadata": {},
     "output_type": "execute_result"
    }
   ],
   "source": [
    "string = '''10-06-2022\n",
    "            10/06/2022\n",
    "            10 Jun 2022\n",
    "            05 Jul 2022'''\n",
    "\n",
    "date = re.findall('\\d{2}\\s[A-z]{3}\\s\\d{4}|\\d{2}[-/]\\d{2}[-/]\\d{4}',string)\n",
    "date"
   ]
  },
  {
   "cell_type": "markdown",
   "id": "d30a1645",
   "metadata": {},
   "source": [
    "## 8. []  pattern or sequence or range"
   ]
  },
  {
   "cell_type": "markdown",
   "id": "10f5f8ef",
   "metadata": {},
   "source": [
    "## 9. ()"
   ]
  },
  {
   "cell_type": "code",
   "execution_count": null,
   "id": "f80c249d",
   "metadata": {},
   "outputs": [],
   "source": [
    "group of char >> sequence"
   ]
  },
  {
   "cell_type": "code",
   "execution_count": 92,
   "id": "412624ff",
   "metadata": {},
   "outputs": [
    {
     "data": {
      "text/plain": [
       "['+91 9988778844', '+91 7878989858']"
      ]
     },
     "execution_count": 92,
     "metadata": {},
     "output_type": "execute_result"
    }
   ],
   "source": [
    "string = ''' Mobile Number is  :  +91 9988778844 \n",
    "            +91 7878989858\n",
    "            9898984578'''\n",
    "\n",
    "result = re.findall('[+]\\d{2}\\s\\d{10}',string)\n",
    "result"
   ]
  },
  {
   "cell_type": "code",
   "execution_count": 93,
   "id": "8c690e2c",
   "metadata": {},
   "outputs": [
    {
     "data": {
      "text/plain": [
       "['+91', '+91']"
      ]
     },
     "execution_count": 93,
     "metadata": {},
     "output_type": "execute_result"
    }
   ],
   "source": [
    "string = ''' Mobile Number is  :  +91 9988778844 \n",
    "            +91 7878989858\n",
    "            9898984578'''\n",
    "\n",
    "result = re.findall('([+]\\d{2})\\s\\d{10}',string)\n",
    "result"
   ]
  },
  {
   "cell_type": "code",
   "execution_count": 98,
   "id": "fb9810d0",
   "metadata": {},
   "outputs": [
    {
     "data": {
      "text/plain": [
       "['(+91) 9988778844', '(+91) 7878989858']"
      ]
     },
     "execution_count": 98,
     "metadata": {},
     "output_type": "execute_result"
    }
   ],
   "source": [
    "string = ''' Mobile Number is  :  (+91) 9988778844 \n",
    "            (+91) 7878989858\n",
    "            9898984578'''\n",
    "\n",
    "result = re.findall('\\([+]\\d{2}\\)\\s\\d{10}',string)\n",
    "result"
   ]
  },
  {
   "cell_type": "code",
   "execution_count": 99,
   "id": "615b0fdd",
   "metadata": {},
   "outputs": [
    {
     "data": {
      "text/plain": [
       "[]"
      ]
     },
     "execution_count": 99,
     "metadata": {},
     "output_type": "execute_result"
    }
   ],
   "source": [
    "string = ''' Mobile Number is  :  (+91) 9988778844 \n",
    "            (+91) 7878989858\n",
    "            9898984578'''\n",
    "\n",
    "result = re.findall('[+]\\d{2}\\s\\d{10}',string)\n",
    "result"
   ]
  },
  {
   "cell_type": "code",
   "execution_count": 100,
   "id": "36d2e48e",
   "metadata": {},
   "outputs": [
    {
     "data": {
      "text/plain": [
       "[]"
      ]
     },
     "execution_count": 100,
     "metadata": {},
     "output_type": "execute_result"
    }
   ],
   "source": [
    "string = ''' Mobile Number is  :  (+91) 9988778844 \n",
    "            (+91) 7878989858\n",
    "            9898984578'''\n",
    "\n",
    "result = re.findall('([+]\\d{2})\\s\\d{10}',string)\n",
    "result"
   ]
  },
  {
   "cell_type": "code",
   "execution_count": 101,
   "id": "79cfd972",
   "metadata": {},
   "outputs": [
    {
     "data": {
      "text/plain": [
       "['(+91) 9988778844', '(+91) 7878989858']"
      ]
     },
     "execution_count": 101,
     "metadata": {},
     "output_type": "execute_result"
    }
   ],
   "source": [
    "string = ''' Mobile Number is  :  (+91) 9988778844 \n",
    "            (+91) 7878989858\n",
    "            9898984578'''\n",
    "\n",
    "result = re.findall('\\([+]\\d{2}\\)\\s\\d{10}',string)\n",
    "result"
   ]
  },
  {
   "cell_type": "code",
   "execution_count": 102,
   "id": "2c786f25",
   "metadata": {},
   "outputs": [
    {
     "data": {
      "text/plain": [
       "['9988778844', '7878989858', '9898984578']"
      ]
     },
     "execution_count": 102,
     "metadata": {},
     "output_type": "execute_result"
    }
   ],
   "source": [
    "string = ''' Mobile Number is  :  (+91) 9988778844 \n",
    "            (+91) 7878989858\n",
    "            9898984578'''\n",
    "\n",
    "result = re.findall('\\d{10}',string)\n",
    "result"
   ]
  },
  {
   "cell_type": "markdown",
   "id": "71817382",
   "metadata": {},
   "source": [
    "## 5. compile"
   ]
  },
  {
   "cell_type": "code",
   "execution_count": null,
   "id": "f35c48b3",
   "metadata": {},
   "outputs": [],
   "source": [
    "To convert pattern into object"
   ]
  },
  {
   "cell_type": "code",
   "execution_count": 109,
   "id": "4bf74a07",
   "metadata": {},
   "outputs": [
    {
     "data": {
      "text/plain": [
       "['235-2345-4567']"
      ]
     },
     "execution_count": 109,
     "metadata": {},
     "output_type": "execute_result"
    }
   ],
   "source": [
    "string = 'Number  235-2345-4567'\n",
    "result = re.findall('\\d{3}-\\d{4}-\\d{4}',string)\n",
    "result"
   ]
  },
  {
   "cell_type": "code",
   "execution_count": 108,
   "id": "9f1f31c1",
   "metadata": {},
   "outputs": [
    {
     "data": {
      "text/plain": [
       "['456-7898-7845']"
      ]
     },
     "execution_count": 108,
     "metadata": {},
     "output_type": "execute_result"
    }
   ],
   "source": [
    "string1 = 'Number  456-7898-7845'\n",
    "result = re.findall('\\d{3}-\\d{4}-\\d{4}',string)\n",
    "result"
   ]
  },
  {
   "cell_type": "code",
   "execution_count": 105,
   "id": "f03b09c1",
   "metadata": {},
   "outputs": [
    {
     "data": {
      "text/plain": [
       "re.compile(r'\\d{3}-\\d{4}-\\d{4}', re.UNICODE)"
      ]
     },
     "execution_count": 105,
     "metadata": {},
     "output_type": "execute_result"
    }
   ],
   "source": [
    "pattern = re.compile('\\d{3}-\\d{4}-\\d{4}')\n",
    "pattern"
   ]
  },
  {
   "cell_type": "code",
   "execution_count": 107,
   "id": "e0e40b44",
   "metadata": {},
   "outputs": [
    {
     "data": {
      "text/plain": [
       "'456-7898-7845'"
      ]
     },
     "execution_count": 107,
     "metadata": {},
     "output_type": "execute_result"
    }
   ],
   "source": [
    "string1 = 'Number  456-7898-7845'\n",
    "result = pattern.search(string1)\n",
    "result.group()"
   ]
  },
  {
   "cell_type": "code",
   "execution_count": 110,
   "id": "b155b56c",
   "metadata": {},
   "outputs": [
    {
     "data": {
      "text/plain": [
       "'235-2345-4567'"
      ]
     },
     "execution_count": 110,
     "metadata": {},
     "output_type": "execute_result"
    }
   ],
   "source": [
    "result = pattern.search(string)\n",
    "result.group()"
   ]
  },
  {
   "cell_type": "code",
   "execution_count": 112,
   "id": "25d9e427",
   "metadata": {},
   "outputs": [
    {
     "data": {
      "text/plain": [
       "25"
      ]
     },
     "execution_count": 112,
     "metadata": {},
     "output_type": "execute_result"
    }
   ],
   "source": [
    "def add(a,b):\n",
    "    return a+b\n",
    "\n",
    "add(4,5)\n",
    "add(10,15)"
   ]
  },
  {
   "cell_type": "code",
   "execution_count": 118,
   "id": "8ef1424c",
   "metadata": {},
   "outputs": [
    {
     "name": "stdout",
     "output_type": "stream",
     "text": [
      "234-123-9874\n",
      "456-9876\n"
     ]
    }
   ],
   "source": [
    "string1 = '234-123-9874'\n",
    "string2 = '456-9876'\n",
    "string3 = '564-456-9876'\n",
    "string4 = '2234-456-9766'\n",
    "string5 = '2534-456-9874'\n",
    "string6 = '127-456-9812'\n",
    "\n",
    "result1 = re.search('(\\d{3}[-])+\\d{3}[-]\\d{4}',string1)\n",
    "result2 = re.search('(\\d{3}[-])?\\d{3}[-]\\d{4}',string2)\n",
    "\n",
    "print(result1.group())\n",
    "print(result2.group())"
   ]
  },
  {
   "cell_type": "code",
   "execution_count": 135,
   "id": "8642631d",
   "metadata": {},
   "outputs": [
    {
     "name": "stdout",
     "output_type": "stream",
     "text": [
      "234-123-9874\n",
      "456-9876\n"
     ]
    }
   ],
   "source": [
    "string1 = '234-123-9874'\n",
    "string2 = '456-9876'\n",
    "string3 = '564-456-9876'\n",
    "string4 = '2234-456-9766'\n",
    "string5 = '2534-456-9874'\n",
    "string6 = '127-456-9812'\n",
    "\n",
    "result1 = re.search('(\\d{3}[-])+\\d{3}[-]\\d{4}',string1)\n",
    "result2 = re.search('(\\d{3}[-])*\\d{3}[-]\\d{4}',string2)\n",
    "\n",
    "print(result1.group())\n",
    "print(result2.group())"
   ]
  },
  {
   "cell_type": "code",
   "execution_count": 121,
   "id": "09b84a4a",
   "metadata": {},
   "outputs": [
    {
     "name": "stdout",
     "output_type": "stream",
     "text": [
      "234-123-9874\n",
      "456-9876\n",
      "564-456-9876\n",
      "234-456-9766\n",
      "534-456-9874\n",
      "127-456-9812\n"
     ]
    }
   ],
   "source": [
    "# 100 text files\n",
    "string1 = '234-123-9874'\n",
    "string2 = '456-9876'\n",
    "string3 = '564-456-9876'\n",
    "string4 = '2234-456-9766'\n",
    "string5 = '2534-456-9874'\n",
    "string6 = '127-456-9812'\n",
    "\n",
    "pattern = re.compile('(\\d{3}[-])?\\d{3}[-]\\d{4}')\n",
    "\n",
    "result1 = pattern.search(string1)\n",
    "result2 = pattern.search(string2)\n",
    "result3 = pattern.search(string3)\n",
    "result4 = pattern.search(string4)\n",
    "result5 = pattern.search(string5)\n",
    "result6 = pattern.search(string6)\n",
    "\n",
    "\n",
    "print(result1.group())\n",
    "print(result2.group())\n",
    "print(result3.group())\n",
    "print(result4.group())\n",
    "print(result5.group())\n",
    "print(result6.group())"
   ]
  },
  {
   "cell_type": "code",
   "execution_count": 124,
   "id": "ee4988ca",
   "metadata": {},
   "outputs": [
    {
     "data": {
      "text/plain": [
       "'456-9876'"
      ]
     },
     "execution_count": 124,
     "metadata": {},
     "output_type": "execute_result"
    }
   ],
   "source": [
    "pattern.search(string2).group()"
   ]
  },
  {
   "cell_type": "markdown",
   "id": "33dcdf1a",
   "metadata": {},
   "source": [
    "## 6. split()"
   ]
  },
  {
   "cell_type": "code",
   "execution_count": 125,
   "id": "995899b7",
   "metadata": {},
   "outputs": [
    {
     "data": {
      "text/plain": [
       "['Python', 'and', 'Data', 'Science']"
      ]
     },
     "execution_count": 125,
     "metadata": {},
     "output_type": "execute_result"
    }
   ],
   "source": [
    "string = 'Python and Data Science'\n",
    "string.split()"
   ]
  },
  {
   "cell_type": "code",
   "execution_count": 126,
   "id": "43d7e84b",
   "metadata": {},
   "outputs": [
    {
     "data": {
      "text/plain": [
       "['Python ', ' and 2 Data 3 Science']"
      ]
     },
     "execution_count": 126,
     "metadata": {},
     "output_type": "execute_result"
    }
   ],
   "source": [
    "string = 'Python 1 and 2 Data 3 Science'\n",
    "string.split('1')"
   ]
  },
  {
   "cell_type": "code",
   "execution_count": 127,
   "id": "37d34405",
   "metadata": {},
   "outputs": [
    {
     "data": {
      "text/plain": [
       "['Python 1 and ', ' Data 3 Science']"
      ]
     },
     "execution_count": 127,
     "metadata": {},
     "output_type": "execute_result"
    }
   ],
   "source": [
    "string = 'Python 1 and 2 Data 3 Science'\n",
    "string.split('2')"
   ]
  },
  {
   "cell_type": "code",
   "execution_count": 128,
   "id": "4b000bd6",
   "metadata": {},
   "outputs": [
    {
     "data": {
      "text/plain": [
       "['Python ', ' and ', ' Data ', ' Science']"
      ]
     },
     "execution_count": 128,
     "metadata": {},
     "output_type": "execute_result"
    }
   ],
   "source": [
    "string = 'Python 1 and 2 Data 3 Science'\n",
    "result = re.split('\\d',string)\n",
    "result"
   ]
  },
  {
   "cell_type": "code",
   "execution_count": 129,
   "id": "35a6fb77",
   "metadata": {},
   "outputs": [
    {
     "data": {
      "text/plain": [
       "['python ', ' and ', ' data ', ' dcience']"
      ]
     },
     "execution_count": 129,
     "metadata": {},
     "output_type": "execute_result"
    }
   ],
   "source": [
    "string = 'python A and B data C dcience'\n",
    "result = re.split('[A-Z]',string)\n",
    "result"
   ]
  },
  {
   "cell_type": "code",
   "execution_count": 130,
   "id": "89b9c136",
   "metadata": {},
   "outputs": [
    {
     "data": {
      "text/plain": [
       "['99', '33', '11', '44', '55', '66', '77', '88']"
      ]
     },
     "execution_count": 130,
     "metadata": {},
     "output_type": "execute_result"
    }
   ],
   "source": [
    "string = '99,33,11,44,55,66,77,88'\n",
    "result = re.split(',',string)\n",
    "result"
   ]
  },
  {
   "cell_type": "code",
   "execution_count": 131,
   "id": "099cf346",
   "metadata": {},
   "outputs": [
    {
     "data": {
      "text/plain": [
       "['99', '33', '11', '44', '55-66-77-88']"
      ]
     },
     "execution_count": 131,
     "metadata": {},
     "output_type": "execute_result"
    }
   ],
   "source": [
    "string = '99,33,11,44,55-66-77-88'\n",
    "result = re.split(',',string)\n",
    "result"
   ]
  },
  {
   "cell_type": "code",
   "execution_count": 132,
   "id": "5d5c4d44",
   "metadata": {},
   "outputs": [
    {
     "data": {
      "text/plain": [
       "['99', '33', '11', '44', '55', '66', '77', '88']"
      ]
     },
     "execution_count": 132,
     "metadata": {},
     "output_type": "execute_result"
    }
   ],
   "source": [
    "string = '99,33,11,44,55-66-77-88'\n",
    "result = re.split(',|-',string)\n",
    "result"
   ]
  },
  {
   "cell_type": "code",
   "execution_count": null,
   "id": "97797406",
   "metadata": {},
   "outputs": [],
   "source": []
  }
 ],
 "metadata": {
  "kernelspec": {
   "display_name": "Python 3",
   "language": "python",
   "name": "python3"
  },
  "language_info": {
   "codemirror_mode": {
    "name": "ipython",
    "version": 3
   },
   "file_extension": ".py",
   "mimetype": "text/x-python",
   "name": "python",
   "nbconvert_exporter": "python",
   "pygments_lexer": "ipython3",
   "version": "3.8.8"
  }
 },
 "nbformat": 4,
 "nbformat_minor": 5
}
