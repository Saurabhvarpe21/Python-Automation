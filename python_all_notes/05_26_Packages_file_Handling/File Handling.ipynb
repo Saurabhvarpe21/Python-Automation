{
 "cells": [
  {
   "cell_type": "markdown",
   "id": "14d1b8c4",
   "metadata": {},
   "source": [
    "# File Handling"
   ]
  },
  {
   "cell_type": "markdown",
   "id": "95a9fda0",
   "metadata": {},
   "source": [
    "## File Operations"
   ]
  },
  {
   "cell_type": "code",
   "execution_count": null,
   "id": "4ee4a7b4",
   "metadata": {},
   "outputs": [],
   "source": [
    "1. read\n",
    "2. write\n",
    "3. append"
   ]
  },
  {
   "cell_type": "markdown",
   "id": "824f6726",
   "metadata": {},
   "source": [
    "## open function()"
   ]
  },
  {
   "cell_type": "code",
   "execution_count": null,
   "id": "909a987f",
   "metadata": {},
   "outputs": [],
   "source": [
    "# opening a file\n",
    "f = open(file_name, mode)\n",
    "\n",
    "Default mode >> read\n",
    "open(file, 'r')\n",
    "\n",
    "Open Function will return a file object\n",
    "\n",
    "# Closing file\n",
    "f.close()"
   ]
  },
  {
   "cell_type": "code",
   "execution_count": null,
   "id": "5b08e3da",
   "metadata": {},
   "outputs": [],
   "source": [
    "mode:\n",
    "    1. read >> 'r'\n",
    "    2. write >> 'w'\n",
    "    3. write >> 'x'\n",
    "    4. append >> 'a'\n",
    "    5. read byte >> 'rb'\n",
    "    6. write byte >> 'wb'"
   ]
  },
  {
   "cell_type": "markdown",
   "id": "9f411921",
   "metadata": {},
   "source": [
    "## 1. write mode"
   ]
  },
  {
   "cell_type": "code",
   "execution_count": null,
   "id": "d497e1d9",
   "metadata": {},
   "outputs": [],
   "source": [
    "write mode >> 'w'\n",
    "It will create a new file, if not exist\n",
    "It will overwrite a text, if file already exist\n",
    "\n",
    "open(file,'w')"
   ]
  },
  {
   "cell_type": "code",
   "execution_count": 2,
   "id": "442e2988",
   "metadata": {},
   "outputs": [],
   "source": [
    "file = open('sample.txt', 'w')\n",
    "file.write('Machine Learning')\n",
    "file.close()"
   ]
  },
  {
   "cell_type": "code",
   "execution_count": 3,
   "id": "d63e5df8",
   "metadata": {},
   "outputs": [],
   "source": [
    "file = open('Data Science.txt', 'w')\n",
    "ds = 'Data science is an interdisciplinary field that uses scientific methods, processes, algorithms and systems to extract knowledge and insights from noisy, structured and unstructured data, and apply knowledge and actionable insights from data across a broad range of application domains'\n",
    "file.write(ds)\n",
    "file.close()"
   ]
  },
  {
   "cell_type": "code",
   "execution_count": 5,
   "id": "7b8f8f66",
   "metadata": {},
   "outputs": [],
   "source": [
    "file = open('data Science1.txt', 'w')\n",
    "ds = '''Data science is an interdisciplinary field that uses scientific methods, \n",
    "processes, algorithms and systems to extract knowledge and insights from noisy, \n",
    "structured and unstructured data, and apply knowledge and actionable insights from\n",
    "data across a broad range of application domains.'''\n",
    "file.write(ds)\n",
    "file.close()"
   ]
  },
  {
   "cell_type": "code",
   "execution_count": 6,
   "id": "5091567f",
   "metadata": {},
   "outputs": [],
   "source": [
    "ds = '''Data science is an interdisciplinary field that uses scientific methods, \n",
    "processes, algorithms and systems to extract knowledge and insights from noisy, \n",
    "structured and unstructured data, and apply knowledge and actionable insights from\n",
    "data across a broad range of application domains.'''\n",
    "\n",
    "file = open('data Science2.txt', 'w')\n",
    "\n",
    "file.write(ds)\n",
    "file.close()"
   ]
  },
  {
   "cell_type": "code",
   "execution_count": 8,
   "id": "928e1d4d",
   "metadata": {},
   "outputs": [],
   "source": [
    "file = open(r'G:\\Velocity 30 OCT\\New folder\\machine.txt', 'w')\n",
    "file.write('Machine Learning')\n",
    "file.close()"
   ]
  },
  {
   "cell_type": "code",
   "execution_count": 10,
   "id": "3b896772",
   "metadata": {},
   "outputs": [],
   "source": [
    "file = open('machine1.txt', 'w')\n",
    "file.write('Machine \\nLearning')\n",
    "file.write('\\nDeep \\nLearing')\n",
    "file.close()"
   ]
  },
  {
   "cell_type": "code",
   "execution_count": null,
   "id": "ab022227",
   "metadata": {},
   "outputs": [],
   "source": [
    "OCR (Optical character recognition) >> image to text conversion\n",
    "\n",
    "1. pytesseract >> freeware\n",
    "2. Google vision\n",
    "3. Amazon Textract\n",
    "\n",
    "\n",
    "image >> text"
   ]
  },
  {
   "cell_type": "code",
   "execution_count": 11,
   "id": "ba4c6041",
   "metadata": {},
   "outputs": [],
   "source": [
    "bank_data = '''Akash mini stores\n",
    "Joint holder:-\n",
    "SHOP NO 3 MAIN CHAWK\n",
    "NOIDA  sector 5\n",
    "IFSC - SDFG7412896'''\n",
    "\n",
    "f = open('bank_data.txt', 'w')\n",
    "f.write(bank_data)\n",
    "f.close()"
   ]
  },
  {
   "cell_type": "markdown",
   "id": "ec4e7df7",
   "metadata": {},
   "source": [
    "## 2. append()"
   ]
  },
  {
   "cell_type": "code",
   "execution_count": null,
   "id": "ecd0b8f9",
   "metadata": {},
   "outputs": [],
   "source": [
    "append mode >> 'a'\n",
    "\n",
    "creates  a new text file if not exist\n",
    "It will add text in existing file, if file already exist"
   ]
  },
  {
   "cell_type": "code",
   "execution_count": 13,
   "id": "0739fb07",
   "metadata": {},
   "outputs": [],
   "source": [
    "file = open('sample3.txt', 'w')\n",
    "file.write('DATA LEARNING')\n",
    "file.close()"
   ]
  },
  {
   "cell_type": "code",
   "execution_count": 14,
   "id": "cd9885d9",
   "metadata": {},
   "outputs": [],
   "source": [
    "file = open('sample3.txt', 'a')\n",
    "file.write('\\nPYTHON')\n",
    "file.write('\\nMachine Learning')\n",
    "file.write('\\nDATA Science')\n",
    "file.close()"
   ]
  },
  {
   "cell_type": "markdown",
   "id": "b1e3b32c",
   "metadata": {},
   "source": [
    "## 3. read()"
   ]
  },
  {
   "cell_type": "code",
   "execution_count": null,
   "id": "43c2484d",
   "metadata": {},
   "outputs": [],
   "source": [
    "read mode >> 'r'\n",
    "\n",
    "default mode\n",
    "\n",
    "used to read the text from text file"
   ]
  },
  {
   "cell_type": "code",
   "execution_count": 18,
   "id": "12b808ba",
   "metadata": {},
   "outputs": [
    {
     "name": "stdout",
     "output_type": "stream",
     "text": [
      "DATA LEARNING\n",
      "PYTHON\n",
      "Machine Learning\n",
      "DATA Science\n"
     ]
    }
   ],
   "source": [
    "f = open('sample3.txt')\n",
    "data= f.read()\n",
    "print(data)\n",
    "f.close()"
   ]
  },
  {
   "cell_type": "code",
   "execution_count": 17,
   "id": "9c94bc2d",
   "metadata": {},
   "outputs": [
    {
     "name": "stdout",
     "output_type": "stream",
     "text": [
      "DATA LEARNING\n",
      "PYTHON\n",
      "Machine Learning\n",
      "DATA Science\n"
     ]
    }
   ],
   "source": [
    "print(data)"
   ]
  },
  {
   "cell_type": "code",
   "execution_count": 19,
   "id": "16f7283b",
   "metadata": {},
   "outputs": [
    {
     "name": "stdout",
     "output_type": "stream",
     "text": [
      "Data science is an interdisciplinary field that uses scientific methods, \n",
      "processes, algorithms and systems to extract knowledge and insights from noisy, \n",
      "structured and unstructured data, and apply knowledge and actionable insights from\n",
      "data across a broad range of application domains.\n"
     ]
    }
   ],
   "source": [
    "f = open('data Science1.txt', 'r')\n",
    "data= f.read()\n",
    "print(data)\n",
    "f.close()"
   ]
  },
  {
   "cell_type": "code",
   "execution_count": 20,
   "id": "1da6fd0a",
   "metadata": {},
   "outputs": [
    {
     "name": "stdout",
     "output_type": "stream",
     "text": [
      "DATA SCIENCE IS AN INTERDISCIPLINARY FIELD THAT USES SCIENTIFIC METHODS, \n",
      "PROCESSES, ALGORITHMS AND SYSTEMS TO EXTRACT KNOWLEDGE AND INSIGHTS FROM NOISY, \n",
      "STRUCTURED AND UNSTRUCTURED DATA, AND APPLY KNOWLEDGE AND ACTIONABLE INSIGHTS FROM\n",
      "DATA ACROSS A BROAD RANGE OF APPLICATION DOMAINS.\n"
     ]
    }
   ],
   "source": [
    "f = open('data Science1.txt', 'r')\n",
    "data= f.read()\n",
    "print(data.upper())\n",
    "f.close()"
   ]
  },
  {
   "cell_type": "code",
   "execution_count": 21,
   "id": "d970adaf",
   "metadata": {},
   "outputs": [
    {
     "name": "stdout",
     "output_type": "stream",
     "text": [
      "so ask yourself what \" 8mm \" ( \" eight millimeter \" ) is really all about . \n",
      "is it about a wholesome surveillance man who loses sight of his values after becoming enmeshed in the seedy , sleazy underworld of hardcore pornography ? \n",
      "is it about the business itself , how , bubbling just beneath the surface of big-town americana , there's a sordid world of sick and depraved people who won't necessarily stop short of murder in order to satisfy their sick and twisted desires ? \n",
      "or is it about those who can , those who are in a position to influence the making of the kinds of films sick and demented people want to see ? \n",
      "i'm not talking about snuff films , supposed \" documentaries \" of victims being brutalized and killed on camera . \n",
      "i'm talking about films like \" 8mm \" and its director , joel schumacher . \n",
      "with a recent run of big budget movies to his credit-- \" batman & robin , \" \" a time to kill , \" \" batman forever , \" \" the client \" --schumacher certainly has that kind of influence . \n",
      "is \" 8mm \" something you really want to see ? \n",
      "probably not . \n",
      "the first two-thirds of \" 8mm \" unwind as a fairly conventional missing persons drama , albeit with a particularly unsavory core . \n",
      "then , as it's been threatening all along , the film explodes into violence . \n",
      "and just when you think it's finally over , schumacher tags on a ridiculous self-righteous finale that drags the whole unpleasant experience down even further . \n",
      "trust me . \n",
      "there are better ways to waste two hours of your life . \n",
      "nicolas ' \" snake eyes \" ' cage plays private investigator tom welles who is hired by a wealthy philadelphia widow to determine whether a reel of film found in her late husband's safe documents a young girl's murder . \n",
      "welles goes about his assignment rather matter-of-factly , and the pieces of the puzzle fall into place rather neatly , almost as if you don't need any specialized skills or training to do this . \n",
      "welles certainly makes it look easy . \n",
      "and cops , obviously , never look in toilet tanks for clues . \n",
      "the deeper welles digs into his investigation the more obsessed he becomes , like george c . scott in paul schrader's \" hardcore . \" \n",
      "occasionally , a little flickering sound whirs in his head like sprockets winding through a film projector , reminding him of his unpleasant task . \n",
      "there are hints that this is taking its toll on his lovely wife , played by catherine keener , who is frustrated by her husband spending all of his time in cleveland rather than in their ugly split-level home in harrisburg , pa . \n",
      " \" 8mm \" doesn't condemn or condone its subject matter , it just exploits it . \n",
      "the irony , of course , is that schumacher and \" seven \" scribe andrew kevin walker's vision of life in the snuff lane is limited by what they can show in an r-rated , first-run hollywood product . \n",
      "so we only see snippets of snuff , and a lot more footage of nicolas cage covering his face in horror . \n",
      "later it's the turn of joaquin phoenix ( who's quite good and by far the film's most interesting character as adult bookstore flunky max california ) to cover his face as the horrid thing is screened over and over again . \n",
      "all this to get to the familiar yet offensive \" revelation \" that sexual deviants are not , indeed , monsters but everyday people like you and me . \n",
      "neither super nor standard , \" 8mm \" is shocking only in its banality . \n",
      "\n"
     ]
    }
   ],
   "source": [
    "f = open('movie_reviews/negative/cv006_17022.txt', 'r')\n",
    "review= f.read()\n",
    "print(review)\n",
    "f.close()"
   ]
  },
  {
   "cell_type": "code",
   "execution_count": 22,
   "id": "860d90d5",
   "metadata": {},
   "outputs": [
    {
     "name": "stdout",
     "output_type": "stream",
     "text": [
      "so ask yourself what\n"
     ]
    }
   ],
   "source": [
    "f = open('movie_reviews/negative/cv006_17022.txt', 'r')\n",
    "review= f.read(20) # first 20 char\n",
    "print(review)\n",
    "f.close()"
   ]
  },
  {
   "cell_type": "markdown",
   "id": "31d5387c",
   "metadata": {},
   "source": [
    "## readline"
   ]
  },
  {
   "cell_type": "code",
   "execution_count": null,
   "id": "5e6f7b84",
   "metadata": {},
   "outputs": [],
   "source": [
    "readline >> gives output line by line, it reads only one line"
   ]
  },
  {
   "cell_type": "code",
   "execution_count": 25,
   "id": "558b19f2",
   "metadata": {},
   "outputs": [
    {
     "name": "stdout",
     "output_type": "stream",
     "text": [
      "DATA SCIENCE IS AN INTERDISCIPLINARY FIELD THAT USES SCIENTIFIC METHODS, \n",
      "PROCESSES, ALGORITHMS AND SYSTEMS TO EXTRACT KNOWLEDGE AND INSIGHTS FROM NOISY, \n",
      "STRUCTURED AND UNSTRUCTURED DATA, AND APPLY KNOWLEDGE AND ACTIONABLE INSIGHTS FROM\n",
      "DATA ACROSS A BROAD RANGE OF APPLICATION DOMAINS.\n"
     ]
    }
   ],
   "source": [
    "f = open('data Science1.txt', 'r')\n",
    "data= f.read()\n",
    "print(data.upper())\n",
    "f.close()"
   ]
  },
  {
   "cell_type": "code",
   "execution_count": 26,
   "id": "5a1a6d18",
   "metadata": {},
   "outputs": [
    {
     "name": "stdout",
     "output_type": "stream",
     "text": [
      "text1 : Data science is an interdisciplinary field that uses scientific methods, \n",
      "\n",
      "text2 : processes, algorithms and systems to extract knowledge and insights from noisy, \n",
      "\n",
      "text3 : structured and unstructured data, and apply knowledge and actionable insights from\n",
      "\n"
     ]
    }
   ],
   "source": [
    "f = open('data Science1.txt')\n",
    "text1 = f.readline()\n",
    "text2 = f.readline()\n",
    "text3 = f.readline()\n",
    "\n",
    "f.close()\n",
    "\n",
    "print('text1 :',text1)\n",
    "print('text2 :',text2)\n",
    "print('text3 :',text3)"
   ]
  },
  {
   "cell_type": "code",
   "execution_count": 27,
   "id": "964dcc44",
   "metadata": {},
   "outputs": [
    {
     "ename": "ValueError",
     "evalue": "I/O operation on closed file.",
     "output_type": "error",
     "traceback": [
      "\u001b[1;31m---------------------------------------------------------------------------\u001b[0m",
      "\u001b[1;31mValueError\u001b[0m                                Traceback (most recent call last)",
      "\u001b[1;32m<ipython-input-27-eca07b4446f1>\u001b[0m in \u001b[0;36m<module>\u001b[1;34m\u001b[0m\n\u001b[1;32m----> 1\u001b[1;33m \u001b[0mtext4\u001b[0m \u001b[1;33m=\u001b[0m \u001b[0mf\u001b[0m\u001b[1;33m.\u001b[0m\u001b[0mreadline\u001b[0m\u001b[1;33m(\u001b[0m\u001b[1;33m)\u001b[0m\u001b[1;33m\u001b[0m\u001b[1;33m\u001b[0m\u001b[0m\n\u001b[0m\u001b[0;32m      2\u001b[0m \u001b[0mprint\u001b[0m\u001b[1;33m(\u001b[0m\u001b[0mtext4\u001b[0m\u001b[1;33m)\u001b[0m\u001b[1;33m\u001b[0m\u001b[1;33m\u001b[0m\u001b[0m\n",
      "\u001b[1;31mValueError\u001b[0m: I/O operation on closed file."
     ]
    }
   ],
   "source": [
    "text4 = f.readline()\n",
    "print(text4)"
   ]
  },
  {
   "cell_type": "markdown",
   "id": "b3dda432",
   "metadata": {},
   "source": [
    "## readlines"
   ]
  },
  {
   "cell_type": "code",
   "execution_count": null,
   "id": "673aa3a9",
   "metadata": {},
   "outputs": [],
   "source": [
    "it returns list of all lines"
   ]
  },
  {
   "cell_type": "code",
   "execution_count": 29,
   "id": "d9868a1f",
   "metadata": {},
   "outputs": [
    {
     "name": "stdout",
     "output_type": "stream",
     "text": [
      "['Data science is an interdisciplinary field that uses scientific methods, \\n', 'processes, algorithms and systems to extract knowledge and insights from noisy, \\n', 'structured and unstructured data, and apply knowledge and actionable insights from\\n', 'data across a broad range of application domains.'] 4\n"
     ]
    }
   ],
   "source": [
    "f = open('data Science1.txt', 'r')\n",
    "text_list= f.readlines()\n",
    "\n",
    "f.close()\n",
    "print(text_list, len(text_list))"
   ]
  },
  {
   "cell_type": "code",
   "execution_count": 30,
   "id": "7a4e72df",
   "metadata": {},
   "outputs": [
    {
     "name": "stdout",
     "output_type": "stream",
     "text": [
      "Data science is an interdisciplinary field that uses scientific methods, \n",
      "\n",
      "processes, algorithms and systems to extract knowledge and insights from noisy, \n",
      "\n",
      "structured and unstructured data, and apply knowledge and actionable insights from\n",
      "\n",
      "data across a broad range of application domains.\n"
     ]
    }
   ],
   "source": [
    "for i in text_list:\n",
    "    print(i)"
   ]
  },
  {
   "cell_type": "code",
   "execution_count": 33,
   "id": "2eb1a3ff",
   "metadata": {},
   "outputs": [
    {
     "name": "stdout",
     "output_type": "stream",
     "text": [
      "Akash mini stores\n",
      "Joint holder:-\n",
      "SHOP NO 3 MAIN CHAWK\n",
      "NOIDA  sector 5\n",
      "IFSC - SDFG7412896\n",
      "\n",
      "AKASH MINI STORES\n",
      "JOINT HOLDER:-\n",
      "SHOP NO 3 MAIN CHAWK\n",
      "NOIDA  SECTOR 5\n",
      "IFSC - SDFG7412896\n"
     ]
    }
   ],
   "source": [
    "f = open('bank_data.txt', 'r')\n",
    "text= f.read()\n",
    "f.close()\n",
    "print(text)\n",
    "\n",
    "print()\n",
    "file = open('bank_data2.txt', 'w')\n",
    "text = text.upper()\n",
    "file.write(text)\n",
    "file.close()\n",
    "\n",
    "print(text)"
   ]
  },
  {
   "cell_type": "markdown",
   "id": "8ff55fbf",
   "metadata": {},
   "source": [
    "## with statement"
   ]
  },
  {
   "cell_type": "code",
   "execution_count": null,
   "id": "5902faf2",
   "metadata": {},
   "outputs": [],
   "source": [
    "with statement is used to avoid close function\n",
    "it will automatically close all operation"
   ]
  },
  {
   "cell_type": "code",
   "execution_count": 34,
   "id": "cff8f9af",
   "metadata": {},
   "outputs": [],
   "source": [
    "machine_learning = '''Machine learning is a field of inquiry devoted to understanding and building \n",
    "methods that 'learn', that is, methods that leverage data to improve performance on some set of tasks.\n",
    "It is seen as a part of artificial intelligence'''\n",
    "\n",
    "f = open('Machine_Learning_1.txt', 'w')\n",
    "f.write(machine_learning)\n",
    "f.close()"
   ]
  },
  {
   "cell_type": "code",
   "execution_count": 39,
   "id": "0b93cfbe",
   "metadata": {},
   "outputs": [],
   "source": [
    "machine_learning = '''Machine learning is a field of inquiry devoted to understanding and building \n",
    "methods that 'learn', that is, methods that leverage\n",
    "data to improve performance on some set of tasks.\n",
    "It is seen as a part of artificial intelligence\\n'''\n",
    "\n",
    "with open('Machine_Learning_2.txt', 'w') as file:\n",
    "    file.write(machine_learning)"
   ]
  },
  {
   "cell_type": "code",
   "execution_count": 40,
   "id": "281751e3",
   "metadata": {},
   "outputs": [],
   "source": [
    "with open('Machine_Learning_2.txt', 'a') as file:\n",
    "    file.write(machine_learning)"
   ]
  },
  {
   "cell_type": "code",
   "execution_count": 41,
   "id": "6c2d2c30",
   "metadata": {},
   "outputs": [
    {
     "name": "stdout",
     "output_type": "stream",
     "text": [
      "Machine learning is a field of inquiry devoted to understanding and building \n",
      "methods that 'learn', that is, methods that leverage\n",
      "data to improve performance on some set of tasks.\n",
      "It is seen as a part of artificial intelligence\n",
      "Machine learning is a field of inquiry devoted to understanding and building \n",
      "methods that 'learn', that is, methods that leverage\n",
      "data to improve performance on some set of tasks.\n",
      "It is seen as a part of artificial intelligence\n",
      "\n"
     ]
    }
   ],
   "source": [
    "with open('Machine_Learning_2.txt', 'r') as file:\n",
    "    text = file.read()\n",
    "    print(text)"
   ]
  },
  {
   "cell_type": "code",
   "execution_count": 42,
   "id": "ec308036",
   "metadata": {},
   "outputs": [
    {
     "name": "stdout",
     "output_type": "stream",
     "text": [
      "Machine learning is a field of inquiry devoted to understanding and building\n",
      "methods that 'learn', that is, methods that leverage data to improve performance on some set of tasks.\n",
      "It is seen as a part of artificial intelligence\n"
     ]
    }
   ],
   "source": [
    "with open('Machine_Learning_1.txt', 'r') as file:\n",
    "    text = file.read()\n",
    "    print(text)"
   ]
  },
  {
   "cell_type": "code",
   "execution_count": 43,
   "id": "bdf682c0",
   "metadata": {},
   "outputs": [
    {
     "ename": "ValueError",
     "evalue": "I/O operation on closed file.",
     "output_type": "error",
     "traceback": [
      "\u001b[1;31m---------------------------------------------------------------------------\u001b[0m",
      "\u001b[1;31mValueError\u001b[0m                                Traceback (most recent call last)",
      "\u001b[1;32m<ipython-input-43-79f505831f1c>\u001b[0m in \u001b[0;36m<module>\u001b[1;34m\u001b[0m\n\u001b[0;32m      6\u001b[0m \u001b[1;32mwith\u001b[0m \u001b[0mopen\u001b[0m\u001b[1;33m(\u001b[0m\u001b[1;34m'Machine_Learning_2.txt'\u001b[0m\u001b[1;33m,\u001b[0m \u001b[1;34m'w'\u001b[0m\u001b[1;33m)\u001b[0m \u001b[1;32mas\u001b[0m \u001b[0mfile\u001b[0m\u001b[1;33m:\u001b[0m\u001b[1;33m\u001b[0m\u001b[1;33m\u001b[0m\u001b[0m\n\u001b[0;32m      7\u001b[0m     \u001b[0mfile\u001b[0m\u001b[1;33m.\u001b[0m\u001b[0mwrite\u001b[0m\u001b[1;33m(\u001b[0m\u001b[0mmachine_learning\u001b[0m\u001b[1;33m)\u001b[0m\u001b[1;33m\u001b[0m\u001b[1;33m\u001b[0m\u001b[0m\n\u001b[1;32m----> 8\u001b[1;33m \u001b[0mfile\u001b[0m\u001b[1;33m.\u001b[0m\u001b[0mwrite\u001b[0m\u001b[1;33m(\u001b[0m\u001b[0mmachine_learning\u001b[0m\u001b[1;33m)\u001b[0m\u001b[1;33m\u001b[0m\u001b[1;33m\u001b[0m\u001b[0m\n\u001b[0m",
      "\u001b[1;31mValueError\u001b[0m: I/O operation on closed file."
     ]
    }
   ],
   "source": [
    "machine_learning = '''Machine learning is a field of inquiry devoted to understanding and building \n",
    "methods that 'learn', that is, methods that leverage\n",
    "data to improve performance on some set of tasks.\n",
    "It is seen as a part of artificial intelligence\\n'''\n",
    "\n",
    "with open('Machine_Learning_2.txt', 'w') as file:\n",
    "    file.write(machine_learning)\n",
    "file.write(machine_learning)"
   ]
  },
  {
   "cell_type": "markdown",
   "id": "7be3cea0",
   "metadata": {},
   "source": [
    "## x"
   ]
  },
  {
   "cell_type": "code",
   "execution_count": null,
   "id": "76a14642",
   "metadata": {},
   "outputs": [],
   "source": [
    "x >> if file exist >> gives an error\n",
    "    if file does not exist , creates a new one"
   ]
  },
  {
   "cell_type": "code",
   "execution_count": 44,
   "id": "fbeb5e3b",
   "metadata": {},
   "outputs": [],
   "source": [
    "machine_learning = '''Machine learning is a field of inquiry devoted to understanding and building \n",
    "methods that 'learn', that is, methods that leverage\n",
    "data to improve performance on some set of tasks.\n",
    "It is seen as a part of artificial intelligence\\n'''\n",
    "\n",
    "f = open('data1.txt', 'x')\n",
    "f.write(machine_learning)\n",
    "f.close()"
   ]
  },
  {
   "cell_type": "code",
   "execution_count": 45,
   "id": "2c226aff",
   "metadata": {},
   "outputs": [
    {
     "ename": "FileExistsError",
     "evalue": "[Errno 17] File exists: 'data1.txt'",
     "output_type": "error",
     "traceback": [
      "\u001b[1;31m---------------------------------------------------------------------------\u001b[0m",
      "\u001b[1;31mFileExistsError\u001b[0m                           Traceback (most recent call last)",
      "\u001b[1;32m<ipython-input-45-aab0f22fc0ae>\u001b[0m in \u001b[0;36m<module>\u001b[1;34m\u001b[0m\n\u001b[0;32m      4\u001b[0m It is seen as a part of artificial intelligence\\n'''\n\u001b[0;32m      5\u001b[0m \u001b[1;33m\u001b[0m\u001b[0m\n\u001b[1;32m----> 6\u001b[1;33m \u001b[0mf\u001b[0m \u001b[1;33m=\u001b[0m \u001b[0mopen\u001b[0m\u001b[1;33m(\u001b[0m\u001b[1;34m'data1.txt'\u001b[0m\u001b[1;33m,\u001b[0m \u001b[1;34m'x'\u001b[0m\u001b[1;33m)\u001b[0m\u001b[1;33m\u001b[0m\u001b[1;33m\u001b[0m\u001b[0m\n\u001b[0m\u001b[0;32m      7\u001b[0m \u001b[0mf\u001b[0m\u001b[1;33m.\u001b[0m\u001b[0mwrite\u001b[0m\u001b[1;33m(\u001b[0m\u001b[0mmachine_learning\u001b[0m\u001b[1;33m)\u001b[0m\u001b[1;33m\u001b[0m\u001b[1;33m\u001b[0m\u001b[0m\n\u001b[0;32m      8\u001b[0m \u001b[0mf\u001b[0m\u001b[1;33m.\u001b[0m\u001b[0mclose\u001b[0m\u001b[1;33m(\u001b[0m\u001b[1;33m)\u001b[0m\u001b[1;33m\u001b[0m\u001b[1;33m\u001b[0m\u001b[0m\n",
      "\u001b[1;31mFileExistsError\u001b[0m: [Errno 17] File exists: 'data1.txt'"
     ]
    }
   ],
   "source": [
    "machine_learning = '''Machine learning is a field of inquiry devoted to understanding and building \n",
    "methods that 'learn', that is, methods that leverage\n",
    "data to improve performance on some set of tasks.\n",
    "It is seen as a part of artificial intelligence\\n'''\n",
    "\n",
    "f = open('data1.txt', 'x')\n",
    "f.write(machine_learning)\n",
    "f.close()"
   ]
  },
  {
   "cell_type": "code",
   "execution_count": null,
   "id": "002c94b5",
   "metadata": {},
   "outputs": [],
   "source": []
  },
  {
   "cell_type": "code",
   "execution_count": 47,
   "id": "37235bf4",
   "metadata": {},
   "outputs": [],
   "source": [
    "machine_learning = '''Machine learning is a field of inquiry devoted to understanding and building \n",
    "methods that 'learn', that is, methods that leverage\n",
    "data to improve performance on some set of tasks.\n",
    "It is seen as a part of artificial intelligence\\n'''\n",
    "\n",
    "f = open('data2.txt', 'w')\n",
    "f.write(machine_learning)\n",
    "f.close()"
   ]
  },
  {
   "cell_type": "code",
   "execution_count": 49,
   "id": "677acdd4",
   "metadata": {},
   "outputs": [],
   "source": [
    "machine_learning = '''Machine learning is a sks.\n",
    "It is seen as a part of artificial intelligence\\n'''\n",
    "\n",
    "f = open('data3.txt', 'w')\n",
    "f.write(machine_learning)\n",
    "f.close()"
   ]
  },
  {
   "cell_type": "code",
   "execution_count": null,
   "id": "12261f5c",
   "metadata": {},
   "outputs": [],
   "source": []
  },
  {
   "cell_type": "code",
   "execution_count": null,
   "id": "44288cad",
   "metadata": {},
   "outputs": [],
   "source": []
  },
  {
   "cell_type": "code",
   "execution_count": null,
   "id": "bf2a56d8",
   "metadata": {},
   "outputs": [],
   "source": []
  },
  {
   "cell_type": "code",
   "execution_count": null,
   "id": "c216692c",
   "metadata": {},
   "outputs": [],
   "source": []
  },
  {
   "cell_type": "code",
   "execution_count": null,
   "id": "4d2c5554",
   "metadata": {},
   "outputs": [],
   "source": []
  },
  {
   "cell_type": "code",
   "execution_count": null,
   "id": "bdac41de",
   "metadata": {},
   "outputs": [],
   "source": []
  },
  {
   "cell_type": "code",
   "execution_count": null,
   "id": "33958a4b",
   "metadata": {},
   "outputs": [],
   "source": []
  },
  {
   "cell_type": "code",
   "execution_count": null,
   "id": "4ff6bdcc",
   "metadata": {},
   "outputs": [],
   "source": []
  },
  {
   "cell_type": "code",
   "execution_count": null,
   "id": "7b7cdf49",
   "metadata": {},
   "outputs": [],
   "source": []
  },
  {
   "cell_type": "code",
   "execution_count": null,
   "id": "39f934cd",
   "metadata": {},
   "outputs": [],
   "source": []
  },
  {
   "cell_type": "code",
   "execution_count": null,
   "id": "d9681d76",
   "metadata": {},
   "outputs": [],
   "source": []
  },
  {
   "cell_type": "code",
   "execution_count": null,
   "id": "fcc0dcb1",
   "metadata": {},
   "outputs": [],
   "source": []
  },
  {
   "cell_type": "code",
   "execution_count": null,
   "id": "456a0c54",
   "metadata": {},
   "outputs": [],
   "source": []
  },
  {
   "cell_type": "code",
   "execution_count": null,
   "id": "3c91f6cd",
   "metadata": {},
   "outputs": [],
   "source": []
  },
  {
   "cell_type": "code",
   "execution_count": null,
   "id": "38ddb314",
   "metadata": {},
   "outputs": [],
   "source": []
  },
  {
   "cell_type": "code",
   "execution_count": null,
   "id": "0fc45930",
   "metadata": {},
   "outputs": [],
   "source": []
  },
  {
   "cell_type": "code",
   "execution_count": null,
   "id": "11e9e56f",
   "metadata": {},
   "outputs": [],
   "source": []
  },
  {
   "cell_type": "code",
   "execution_count": null,
   "id": "95f4745e",
   "metadata": {},
   "outputs": [],
   "source": []
  },
  {
   "cell_type": "code",
   "execution_count": null,
   "id": "14c12ad8",
   "metadata": {},
   "outputs": [],
   "source": []
  },
  {
   "cell_type": "code",
   "execution_count": null,
   "id": "e57f3d7e",
   "metadata": {},
   "outputs": [],
   "source": []
  },
  {
   "cell_type": "code",
   "execution_count": null,
   "id": "f0d98cb2",
   "metadata": {},
   "outputs": [],
   "source": []
  },
  {
   "cell_type": "code",
   "execution_count": null,
   "id": "ce3c166e",
   "metadata": {},
   "outputs": [],
   "source": []
  },
  {
   "cell_type": "code",
   "execution_count": null,
   "id": "edd1fd44",
   "metadata": {},
   "outputs": [],
   "source": []
  },
  {
   "cell_type": "code",
   "execution_count": null,
   "id": "d2d424a9",
   "metadata": {},
   "outputs": [],
   "source": []
  },
  {
   "cell_type": "code",
   "execution_count": null,
   "id": "fcffdc50",
   "metadata": {},
   "outputs": [],
   "source": []
  },
  {
   "cell_type": "code",
   "execution_count": null,
   "id": "d8ccd02e",
   "metadata": {},
   "outputs": [],
   "source": []
  },
  {
   "cell_type": "code",
   "execution_count": null,
   "id": "4b05d510",
   "metadata": {},
   "outputs": [],
   "source": []
  },
  {
   "cell_type": "code",
   "execution_count": null,
   "id": "97ae5553",
   "metadata": {},
   "outputs": [],
   "source": []
  },
  {
   "cell_type": "code",
   "execution_count": null,
   "id": "190db01b",
   "metadata": {},
   "outputs": [],
   "source": []
  },
  {
   "cell_type": "code",
   "execution_count": null,
   "id": "ab525f4e",
   "metadata": {},
   "outputs": [],
   "source": []
  },
  {
   "cell_type": "code",
   "execution_count": null,
   "id": "a206be7f",
   "metadata": {},
   "outputs": [],
   "source": []
  },
  {
   "cell_type": "code",
   "execution_count": null,
   "id": "c324d9a7",
   "metadata": {},
   "outputs": [],
   "source": []
  },
  {
   "cell_type": "code",
   "execution_count": null,
   "id": "a95af1dc",
   "metadata": {},
   "outputs": [],
   "source": []
  },
  {
   "cell_type": "code",
   "execution_count": null,
   "id": "1d2dc3b0",
   "metadata": {},
   "outputs": [],
   "source": []
  },
  {
   "cell_type": "code",
   "execution_count": null,
   "id": "51b1dea6",
   "metadata": {},
   "outputs": [],
   "source": []
  },
  {
   "cell_type": "code",
   "execution_count": null,
   "id": "cdc6bdca",
   "metadata": {},
   "outputs": [],
   "source": []
  },
  {
   "cell_type": "code",
   "execution_count": null,
   "id": "68503dfb",
   "metadata": {},
   "outputs": [],
   "source": []
  },
  {
   "cell_type": "code",
   "execution_count": null,
   "id": "eb241345",
   "metadata": {},
   "outputs": [],
   "source": []
  },
  {
   "cell_type": "code",
   "execution_count": null,
   "id": "3c26a0cf",
   "metadata": {},
   "outputs": [],
   "source": []
  },
  {
   "cell_type": "code",
   "execution_count": null,
   "id": "ab209add",
   "metadata": {},
   "outputs": [],
   "source": []
  },
  {
   "cell_type": "code",
   "execution_count": null,
   "id": "09343096",
   "metadata": {},
   "outputs": [],
   "source": []
  },
  {
   "cell_type": "code",
   "execution_count": null,
   "id": "526cfbae",
   "metadata": {},
   "outputs": [],
   "source": []
  },
  {
   "cell_type": "code",
   "execution_count": null,
   "id": "387b9b6a",
   "metadata": {},
   "outputs": [],
   "source": []
  }
 ],
 "metadata": {
  "kernelspec": {
   "display_name": "Python 3 (ipykernel)",
   "language": "python",
   "name": "python3"
  },
  "language_info": {
   "codemirror_mode": {
    "name": "ipython",
    "version": 3
   },
   "file_extension": ".py",
   "mimetype": "text/x-python",
   "name": "python",
   "nbconvert_exporter": "python",
   "pygments_lexer": "ipython3",
   "version": "3.11.3"
  }
 },
 "nbformat": 4,
 "nbformat_minor": 5
}
