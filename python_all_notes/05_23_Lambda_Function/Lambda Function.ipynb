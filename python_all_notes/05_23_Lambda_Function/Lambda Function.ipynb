{
 "cells": [
  {
   "cell_type": "markdown",
   "id": "73fd7e90",
   "metadata": {},
   "source": [
    "## Lambda Function"
   ]
  },
  {
   "cell_type": "code",
   "execution_count": 1,
   "id": "0e045f02",
   "metadata": {},
   "outputs": [
    {
     "data": {
      "text/plain": [
       "25"
      ]
     },
     "execution_count": 1,
     "metadata": {},
     "output_type": "execute_result"
    }
   ],
   "source": [
    "def square(a):\n",
    "    return a**2\n",
    "square(5)"
   ]
  },
  {
   "cell_type": "code",
   "execution_count": null,
   "id": "45d9dab0",
   "metadata": {},
   "outputs": [],
   "source": [
    ">> Function Without name\n",
    ">> It is an anonymus function:\n",
    "    Annonymus function >> Function Without name\n",
    "    \n",
    ">> Defined by using lambda keyword\n",
    ">> No need to use return statement\n",
    ">> we do not need to define this function\n",
    ">> we use it for short period of time"
   ]
  },
  {
   "cell_type": "code",
   "execution_count": null,
   "id": "a6672b23",
   "metadata": {},
   "outputs": [],
   "source": [
    "lambda arguments : expression\n",
    "arguments >> 1 or more arguments\n",
    "expression >> only 1 expression\n",
    "It returns an object"
   ]
  },
  {
   "cell_type": "code",
   "execution_count": null,
   "id": "f2f0952e",
   "metadata": {},
   "outputs": [],
   "source": [
    "lambda a : a**2\n",
    "lambda x ,y : x+y"
   ]
  },
  {
   "cell_type": "code",
   "execution_count": 3,
   "id": "6caa0f8c",
   "metadata": {},
   "outputs": [
    {
     "data": {
      "text/plain": [
       "9"
      ]
     },
     "execution_count": 3,
     "metadata": {},
     "output_type": "execute_result"
    }
   ],
   "source": [
    "x = lambda  a : a**2\n",
    "x(3)"
   ]
  },
  {
   "cell_type": "code",
   "execution_count": 4,
   "id": "ee33a09d",
   "metadata": {},
   "outputs": [
    {
     "data": {
      "text/plain": [
       "21"
      ]
     },
     "execution_count": 4,
     "metadata": {},
     "output_type": "execute_result"
    }
   ],
   "source": [
    "def add (x,y):\n",
    "    return x + y\n",
    "\n",
    "add(10,11)"
   ]
  },
  {
   "cell_type": "code",
   "execution_count": 5,
   "id": "4888acdd",
   "metadata": {},
   "outputs": [
    {
     "data": {
      "text/plain": [
       "<function __main__.<lambda>(x, y)>"
      ]
     },
     "execution_count": 5,
     "metadata": {},
     "output_type": "execute_result"
    }
   ],
   "source": [
    "addition = lambda x,y : x+y\n",
    "addition"
   ]
  },
  {
   "cell_type": "code",
   "execution_count": 7,
   "id": "eb21b9d4",
   "metadata": {},
   "outputs": [
    {
     "data": {
      "text/plain": [
       "11"
      ]
     },
     "execution_count": 7,
     "metadata": {},
     "output_type": "execute_result"
    }
   ],
   "source": [
    "addition = lambda x,y : x+y\n",
    "addition(5,6)"
   ]
  },
  {
   "cell_type": "code",
   "execution_count": 9,
   "id": "8ca017e0",
   "metadata": {},
   "outputs": [
    {
     "data": {
      "text/plain": [
       "27"
      ]
     },
     "execution_count": 9,
     "metadata": {},
     "output_type": "execute_result"
    }
   ],
   "source": [
    "(lambda x,y : x+y)(12,15)"
   ]
  },
  {
   "cell_type": "code",
   "execution_count": 10,
   "id": "93d1708a",
   "metadata": {},
   "outputs": [
    {
     "data": {
      "text/plain": [
       "30"
      ]
     },
     "execution_count": 10,
     "metadata": {},
     "output_type": "execute_result"
    }
   ],
   "source": [
    "mul = lambda x,y : x*y\n",
    "mul(5,6)"
   ]
  },
  {
   "cell_type": "code",
   "execution_count": 12,
   "id": "b5e91514",
   "metadata": {},
   "outputs": [
    {
     "ename": "TypeError",
     "evalue": "<lambda>() takes 3 positional arguments but 4 were given",
     "output_type": "error",
     "traceback": [
      "\u001b[1;31m---------------------------------------------------------------------------\u001b[0m",
      "\u001b[1;31mTypeError\u001b[0m                                 Traceback (most recent call last)",
      "\u001b[1;32m<ipython-input-12-4545fc0a4d20>\u001b[0m in \u001b[0;36m<module>\u001b[1;34m\u001b[0m\n\u001b[0;32m      1\u001b[0m \u001b[0mavg\u001b[0m \u001b[1;33m=\u001b[0m \u001b[1;32mlambda\u001b[0m \u001b[0mx\u001b[0m\u001b[1;33m,\u001b[0m\u001b[0my\u001b[0m\u001b[1;33m,\u001b[0m\u001b[0mz\u001b[0m \u001b[1;33m:\u001b[0m \u001b[1;33m(\u001b[0m\u001b[0mx\u001b[0m\u001b[1;33m+\u001b[0m\u001b[0my\u001b[0m\u001b[1;33m+\u001b[0m\u001b[0mz\u001b[0m\u001b[1;33m)\u001b[0m\u001b[1;33m/\u001b[0m\u001b[1;36m3\u001b[0m\u001b[1;33m\u001b[0m\u001b[1;33m\u001b[0m\u001b[0m\n\u001b[1;32m----> 2\u001b[1;33m \u001b[0mavg\u001b[0m\u001b[1;33m(\u001b[0m\u001b[1;36m5\u001b[0m\u001b[1;33m,\u001b[0m\u001b[1;36m6\u001b[0m\u001b[1;33m,\u001b[0m\u001b[1;36m8\u001b[0m\u001b[1;33m,\u001b[0m\u001b[1;36m9\u001b[0m\u001b[1;33m)\u001b[0m\u001b[1;33m\u001b[0m\u001b[1;33m\u001b[0m\u001b[0m\n\u001b[0m",
      "\u001b[1;31mTypeError\u001b[0m: <lambda>() takes 3 positional arguments but 4 were given"
     ]
    }
   ],
   "source": [
    "avg = lambda x,y,z : (x+y+z)/3\n",
    "avg(5,6,8,9)"
   ]
  },
  {
   "cell_type": "code",
   "execution_count": 13,
   "id": "9f439ecc",
   "metadata": {},
   "outputs": [
    {
     "data": {
      "text/plain": [
       "7.666666666666667"
      ]
     },
     "execution_count": 13,
     "metadata": {},
     "output_type": "execute_result"
    }
   ],
   "source": [
    "avg = lambda x,y,z : (x+y+z)/3\n",
    "avg(6,8,9)"
   ]
  },
  {
   "cell_type": "code",
   "execution_count": 17,
   "id": "50c25a71",
   "metadata": {},
   "outputs": [
    {
     "data": {
      "text/plain": [
       "60"
      ]
     },
     "execution_count": 17,
     "metadata": {},
     "output_type": "execute_result"
    }
   ],
   "source": [
    "add = lambda l1 : sum(l1)\n",
    "add((10,20,30))"
   ]
  },
  {
   "cell_type": "code",
   "execution_count": 18,
   "id": "d83be708",
   "metadata": {},
   "outputs": [
    {
     "data": {
      "text/plain": [
       "60"
      ]
     },
     "execution_count": 18,
     "metadata": {},
     "output_type": "execute_result"
    }
   ],
   "source": [
    "add = lambda l1 : sum(l1)\n",
    "add([10,20,30])"
   ]
  },
  {
   "cell_type": "code",
   "execution_count": 19,
   "id": "415c105e",
   "metadata": {},
   "outputs": [
    {
     "data": {
      "text/plain": [
       "23.333333333333332"
      ]
     },
     "execution_count": 19,
     "metadata": {},
     "output_type": "execute_result"
    }
   ],
   "source": [
    "avg = lambda x,y,z=40 : (x+y+z)/3\n",
    "avg(10,20)"
   ]
  },
  {
   "cell_type": "code",
   "execution_count": 20,
   "id": "5e12c0f1",
   "metadata": {},
   "outputs": [
    {
     "data": {
      "text/plain": [
       "26.666666666666668"
      ]
     },
     "execution_count": 20,
     "metadata": {},
     "output_type": "execute_result"
    }
   ],
   "source": [
    "avg = lambda x,y,z=40 : (x+y+z)/3\n",
    "avg(10,20,50)"
   ]
  },
  {
   "cell_type": "code",
   "execution_count": 22,
   "id": "4b720b74",
   "metadata": {},
   "outputs": [
    {
     "data": {
      "text/plain": [
       "80"
      ]
     },
     "execution_count": 22,
     "metadata": {},
     "output_type": "execute_result"
    }
   ],
   "source": [
    "add = lambda *args : sum(args)\n",
    "add(10,20,50)"
   ]
  },
  {
   "cell_type": "code",
   "execution_count": 25,
   "id": "06974bde",
   "metadata": {},
   "outputs": [
    {
     "data": {
      "text/plain": [
       "86"
      ]
     },
     "execution_count": 25,
     "metadata": {},
     "output_type": "execute_result"
    }
   ],
   "source": [
    "add = lambda **kwargs : sum(kwargs.values())\n",
    "add(a =15,b = 21,c = 50)"
   ]
  },
  {
   "cell_type": "code",
   "execution_count": 26,
   "id": "e3564fa6",
   "metadata": {},
   "outputs": [
    {
     "data": {
      "text/plain": [
       "[3, 4, 5, 6]"
      ]
     },
     "execution_count": 26,
     "metadata": {},
     "output_type": "execute_result"
    }
   ],
   "source": [
    "def cube(list1):\n",
    "    return list1\n",
    "\n",
    "l1 = [3,4,5,6]\n",
    "cube(l1)"
   ]
  },
  {
   "cell_type": "code",
   "execution_count": 28,
   "id": "608ff8e5",
   "metadata": {},
   "outputs": [
    {
     "name": "stdout",
     "output_type": "stream",
     "text": [
      "[3, 4, 5, 6]\n"
     ]
    },
    {
     "data": {
      "text/plain": [
       "[27, 64, 125, 216]"
      ]
     },
     "execution_count": 28,
     "metadata": {},
     "output_type": "execute_result"
    }
   ],
   "source": [
    "def cube(list1):\n",
    "    print(list1)\n",
    "    cube_list = [i**3 for i in list1]\n",
    "    return cube_list\n",
    "\n",
    "l1 = cube([3,4,5,6])\n",
    "l1"
   ]
  },
  {
   "cell_type": "code",
   "execution_count": 29,
   "id": "91df54a7",
   "metadata": {},
   "outputs": [
    {
     "data": {
      "text/plain": [
       "[27, 64, 125, 216]"
      ]
     },
     "execution_count": 29,
     "metadata": {},
     "output_type": "execute_result"
    }
   ],
   "source": [
    "cube_num = lambda list1 : [i**3 for i in list1]\n",
    "cube_num([3,4,5,6])"
   ]
  },
  {
   "cell_type": "code",
   "execution_count": 30,
   "id": "be5044f2",
   "metadata": {},
   "outputs": [
    {
     "data": {
      "text/plain": [
       "[9, 16, 25, 36]"
      ]
     },
     "execution_count": 30,
     "metadata": {},
     "output_type": "execute_result"
    }
   ],
   "source": [
    "sqr_num = lambda list1 : [i**2 for i in list1]\n",
    "sqr_num([3,4,5,6])"
   ]
  },
  {
   "cell_type": "code",
   "execution_count": 31,
   "id": "e5285b19",
   "metadata": {},
   "outputs": [
    {
     "data": {
      "text/plain": [
       "50"
      ]
     },
     "execution_count": 31,
     "metadata": {},
     "output_type": "execute_result"
    }
   ],
   "source": [
    "maximum = lambda x,y : x if x > y else y\n",
    "maximum(50,45)"
   ]
  },
  {
   "cell_type": "code",
   "execution_count": 32,
   "id": "762de25a",
   "metadata": {},
   "outputs": [
    {
     "data": {
      "text/plain": [
       "450"
      ]
     },
     "execution_count": 32,
     "metadata": {},
     "output_type": "execute_result"
    }
   ],
   "source": [
    "maximum(50,450)"
   ]
  },
  {
   "cell_type": "code",
   "execution_count": 33,
   "id": "28a80104",
   "metadata": {},
   "outputs": [
    {
     "name": "stdout",
     "output_type": "stream",
     "text": [
      "50 is greater\n"
     ]
    }
   ],
   "source": [
    "maximum = lambda x,y : print(f'{x} is greater') if x > y else print(f'{y} is greater')\n",
    "maximum(50,45)"
   ]
  },
  {
   "cell_type": "code",
   "execution_count": 34,
   "id": "6381b546",
   "metadata": {},
   "outputs": [
    {
     "name": "stdout",
     "output_type": "stream",
     "text": [
      "-2 is greater\n"
     ]
    }
   ],
   "source": [
    "maximum(-2,-5)"
   ]
  },
  {
   "cell_type": "code",
   "execution_count": 35,
   "id": "440a8057",
   "metadata": {},
   "outputs": [
    {
     "data": {
      "text/plain": [
       "{}"
      ]
     },
     "execution_count": 35,
     "metadata": {},
     "output_type": "execute_result"
    }
   ],
   "source": [
    "x = lambda a,b,c , *args , x=10,y=20, z =True, **kwargs : kwargs\n",
    "x(5,9,7)"
   ]
  },
  {
   "cell_type": "code",
   "execution_count": 36,
   "id": "9b15b9ff",
   "metadata": {},
   "outputs": [
    {
     "data": {
      "text/plain": [
       "{}"
      ]
     },
     "execution_count": 36,
     "metadata": {},
     "output_type": "execute_result"
    }
   ],
   "source": [
    "x = lambda a,b,c , *args , x=10,y=20, z =True, **kwargs : kwargs\n",
    "x(5,9,7,5,6)"
   ]
  },
  {
   "cell_type": "code",
   "execution_count": 37,
   "id": "3c1c2ed1",
   "metadata": {},
   "outputs": [
    {
     "data": {
      "text/plain": [
       "{'n1': 45, 'n2': 46}"
      ]
     },
     "execution_count": 37,
     "metadata": {},
     "output_type": "execute_result"
    }
   ],
   "source": [
    "x = lambda a,b,c , *args , x=10,y=20, z =True, **kwargs : kwargs\n",
    "x(5,9,7,n1=45,n2 =46)"
   ]
  },
  {
   "cell_type": "code",
   "execution_count": 40,
   "id": "3aba4d60",
   "metadata": {},
   "outputs": [
    {
     "name": "stdout",
     "output_type": "stream",
     "text": [
      "Enter Fisrt Number: 97\n",
      "Enter Second Number: 87\n",
      "97 is greater or Equal to 87\n"
     ]
    }
   ],
   "source": [
    "n1 = int(input(\"Enter Fisrt Number: \"))\n",
    "n2 = int(input(\"Enter Second Number: \"))\n",
    "greater  = lambda n1,n2: print(f\"{n1} is greater or Equal to {n2}\") if n1 >= n2 else print(f\"{n2} is greater than {n1}\")\n",
    "greater(n1,n2)"
   ]
  },
  {
   "cell_type": "code",
   "execution_count": 41,
   "id": "ae0dd947",
   "metadata": {},
   "outputs": [
    {
     "name": "stdout",
     "output_type": "stream",
     "text": [
      "Enter Fisrt Number: 55\n",
      "Enter Second Number: 55\n",
      "55 is greater or Equal to 55\n"
     ]
    }
   ],
   "source": [
    "n1 = int(input(\"Enter Fisrt Number: \"))\n",
    "n2 = int(input(\"Enter Second Number: \"))\n",
    "greater  = lambda n1,n2: print(f\"{n1} is greater or Equal to {n2}\") if n1 >= n2 else print(f\"{n2} is greater than {n1}\")\n",
    "greater(n1,n2)"
   ]
  },
  {
   "cell_type": "code",
   "execution_count": 43,
   "id": "b5b79479",
   "metadata": {},
   "outputs": [
    {
     "name": "stdout",
     "output_type": "stream",
     "text": [
      "Enter Fisrt Number: 55\n",
      "Enter Second Number: 55\n",
      "55 is greater than or Equal to 55\n"
     ]
    }
   ],
   "source": [
    "n1 = int(input(\"Enter Fisrt Number: \"))\n",
    "n2 = int(input(\"Enter Second Number: \"))\n",
    "greater  = lambda n1,n2: print(f\"{n1} is greater  {n2}\") if n1 > n2 else print(f\"{n2} is greater than or Equal to {n1}\")\n",
    "greater(n1,n2)"
   ]
  },
  {
   "cell_type": "code",
   "execution_count": null,
   "id": "19ab45fc",
   "metadata": {},
   "outputs": [],
   "source": []
  },
  {
   "cell_type": "code",
   "execution_count": null,
   "id": "4ece5c4a",
   "metadata": {},
   "outputs": [],
   "source": []
  },
  {
   "cell_type": "code",
   "execution_count": null,
   "id": "ff85387f",
   "metadata": {},
   "outputs": [],
   "source": []
  },
  {
   "cell_type": "code",
   "execution_count": null,
   "id": "fbad1e6c",
   "metadata": {},
   "outputs": [],
   "source": []
  },
  {
   "cell_type": "code",
   "execution_count": null,
   "id": "ff21022b",
   "metadata": {},
   "outputs": [],
   "source": []
  },
  {
   "cell_type": "code",
   "execution_count": null,
   "id": "18a16fff",
   "metadata": {},
   "outputs": [],
   "source": []
  },
  {
   "cell_type": "code",
   "execution_count": null,
   "id": "02d2dca7",
   "metadata": {},
   "outputs": [],
   "source": []
  },
  {
   "cell_type": "code",
   "execution_count": null,
   "id": "1d4c5ab4",
   "metadata": {},
   "outputs": [],
   "source": []
  },
  {
   "cell_type": "code",
   "execution_count": null,
   "id": "2bedf5c0",
   "metadata": {},
   "outputs": [],
   "source": []
  },
  {
   "cell_type": "code",
   "execution_count": null,
   "id": "54d218c0",
   "metadata": {},
   "outputs": [],
   "source": []
  },
  {
   "cell_type": "code",
   "execution_count": null,
   "id": "fdfd4fc2",
   "metadata": {},
   "outputs": [],
   "source": []
  },
  {
   "cell_type": "code",
   "execution_count": null,
   "id": "7d0b3b58",
   "metadata": {},
   "outputs": [],
   "source": []
  },
  {
   "cell_type": "code",
   "execution_count": null,
   "id": "e8349e64",
   "metadata": {},
   "outputs": [],
   "source": []
  },
  {
   "cell_type": "code",
   "execution_count": null,
   "id": "00ef1be1",
   "metadata": {},
   "outputs": [],
   "source": []
  },
  {
   "cell_type": "code",
   "execution_count": null,
   "id": "60c1a2cf",
   "metadata": {},
   "outputs": [],
   "source": []
  },
  {
   "cell_type": "code",
   "execution_count": null,
   "id": "54c1d714",
   "metadata": {},
   "outputs": [],
   "source": []
  },
  {
   "cell_type": "code",
   "execution_count": null,
   "id": "3481651f",
   "metadata": {},
   "outputs": [],
   "source": []
  },
  {
   "cell_type": "code",
   "execution_count": null,
   "id": "c4ad972f",
   "metadata": {},
   "outputs": [],
   "source": []
  },
  {
   "cell_type": "code",
   "execution_count": null,
   "id": "a8e89e3d",
   "metadata": {},
   "outputs": [],
   "source": []
  },
  {
   "cell_type": "code",
   "execution_count": null,
   "id": "5bf30385",
   "metadata": {},
   "outputs": [],
   "source": []
  },
  {
   "cell_type": "code",
   "execution_count": null,
   "id": "0dd4abe0",
   "metadata": {},
   "outputs": [],
   "source": []
  },
  {
   "cell_type": "code",
   "execution_count": null,
   "id": "45eeb13a",
   "metadata": {},
   "outputs": [],
   "source": []
  },
  {
   "cell_type": "code",
   "execution_count": null,
   "id": "e7cd7c6c",
   "metadata": {},
   "outputs": [],
   "source": []
  },
  {
   "cell_type": "code",
   "execution_count": null,
   "id": "ea732fa5",
   "metadata": {},
   "outputs": [],
   "source": []
  },
  {
   "cell_type": "code",
   "execution_count": null,
   "id": "81e21d19",
   "metadata": {},
   "outputs": [],
   "source": []
  },
  {
   "cell_type": "code",
   "execution_count": null,
   "id": "56bc5a86",
   "metadata": {},
   "outputs": [],
   "source": []
  },
  {
   "cell_type": "code",
   "execution_count": null,
   "id": "ff9c2ba6",
   "metadata": {},
   "outputs": [],
   "source": []
  },
  {
   "cell_type": "code",
   "execution_count": null,
   "id": "9a4ce5a5",
   "metadata": {},
   "outputs": [],
   "source": []
  },
  {
   "cell_type": "code",
   "execution_count": null,
   "id": "113d70b1",
   "metadata": {},
   "outputs": [],
   "source": []
  },
  {
   "cell_type": "code",
   "execution_count": null,
   "id": "c8566036",
   "metadata": {},
   "outputs": [],
   "source": []
  },
  {
   "cell_type": "code",
   "execution_count": null,
   "id": "8f37918a",
   "metadata": {},
   "outputs": [],
   "source": []
  },
  {
   "cell_type": "code",
   "execution_count": null,
   "id": "c64ed90b",
   "metadata": {},
   "outputs": [],
   "source": []
  },
  {
   "cell_type": "code",
   "execution_count": null,
   "id": "b131b0ec",
   "metadata": {},
   "outputs": [],
   "source": []
  },
  {
   "cell_type": "code",
   "execution_count": null,
   "id": "a5ee66c1",
   "metadata": {},
   "outputs": [],
   "source": []
  },
  {
   "cell_type": "code",
   "execution_count": null,
   "id": "71f09304",
   "metadata": {},
   "outputs": [],
   "source": []
  },
  {
   "cell_type": "code",
   "execution_count": null,
   "id": "36d9d5f6",
   "metadata": {},
   "outputs": [],
   "source": []
  },
  {
   "cell_type": "code",
   "execution_count": null,
   "id": "4409c408",
   "metadata": {},
   "outputs": [],
   "source": []
  },
  {
   "cell_type": "code",
   "execution_count": null,
   "id": "507518c0",
   "metadata": {},
   "outputs": [],
   "source": []
  },
  {
   "cell_type": "code",
   "execution_count": null,
   "id": "099582b7",
   "metadata": {},
   "outputs": [],
   "source": [
    "lambda"
   ]
  }
 ],
 "metadata": {
  "kernelspec": {
   "display_name": "Python 3 (ipykernel)",
   "language": "python",
   "name": "python3"
  },
  "language_info": {
   "codemirror_mode": {
    "name": "ipython",
    "version": 3
   },
   "file_extension": ".py",
   "mimetype": "text/x-python",
   "name": "python",
   "nbconvert_exporter": "python",
   "pygments_lexer": "ipython3",
   "version": "3.11.3"
  }
 },
 "nbformat": 4,
 "nbformat_minor": 5
}
