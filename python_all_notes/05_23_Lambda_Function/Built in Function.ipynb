{
 "cells": [
  {
   "cell_type": "markdown",
   "id": "92b1212c",
   "metadata": {},
   "source": [
    "## Built in Function"
   ]
  },
  {
   "cell_type": "code",
   "execution_count": null,
   "id": "6e1c3cf7",
   "metadata": {},
   "outputs": [],
   "source": [
    "1. int()\n",
    "2. float()\n",
    "3. complex()\n",
    "4. str()\n",
    "5. list()\n",
    "6. tuple()\n",
    "7. set()\n",
    "8. frozenset()\n",
    "9. bool()\n",
    "10. dict()\n",
    "11. range()\n",
    "12. print()\n",
    "13. len()\n",
    "14. max()\n",
    "15. min()\n",
    "16. sum()\n",
    "17. sorted()\n",
    "18. reversed()\n",
    "19. input()\n",
    "20. eval()\n",
    "21. enumerate()\n",
    "22. chr()\n",
    "23. type()\n",
    "24. ord()"
   ]
  },
  {
   "cell_type": "markdown",
   "id": "232cca6d",
   "metadata": {},
   "source": [
    "## 1. zip"
   ]
  },
  {
   "cell_type": "code",
   "execution_count": 3,
   "id": "b439ae6c",
   "metadata": {},
   "outputs": [
    {
     "data": {
      "text/plain": [
       "{'Rohit': 48, 'Virat': 58, 'Dhoni': 50, 'KL': 47}"
      ]
     },
     "execution_count": 3,
     "metadata": {},
     "output_type": "execute_result"
    }
   ],
   "source": [
    "name = ['Rohit', 'Virat', 'Dhoni', 'KL']\n",
    "avg = [48,58,50,47]\n",
    "\n",
    "# result = {'rohit': 48, 'virat':58}\n",
    "result = {}\n",
    "for i in range(len(name)):\n",
    "    result[name[i]] = avg[i]\n",
    "    \n",
    "result"
   ]
  },
  {
   "cell_type": "code",
   "execution_count": 4,
   "id": "1e2c49d9",
   "metadata": {},
   "outputs": [
    {
     "data": {
      "text/plain": [
       "{'Rohit': 48, 'Virat': 58, 'Dhoni': 50, 'KL': 47}"
      ]
     },
     "execution_count": 4,
     "metadata": {},
     "output_type": "execute_result"
    }
   ],
   "source": [
    "name = ['Rohit', 'Virat', 'Dhoni', 'KL']\n",
    "avg = [48,58,50,47]\n",
    "dict(zip(name,avg))"
   ]
  },
  {
   "cell_type": "code",
   "execution_count": 5,
   "id": "44070da2",
   "metadata": {},
   "outputs": [
    {
     "data": {
      "text/plain": [
       "{'Rohit': (48, 'MI'),\n",
       " 'Virat': (58, 'RCB'),\n",
       " 'Dhoni': (50, 'CSK'),\n",
       " 'KL': (47, 'LSG')}"
      ]
     },
     "execution_count": 5,
     "metadata": {},
     "output_type": "execute_result"
    }
   ],
   "source": [
    "name = ['Rohit', 'Virat', 'Dhoni', 'KL']\n",
    "avg = [48,58,50,47]\n",
    "team = ['MI', 'RCB', 'CSK', 'LSG']\n",
    "dict(zip(name,zip(avg,team)))"
   ]
  },
  {
   "cell_type": "code",
   "execution_count": 6,
   "id": "63574903",
   "metadata": {},
   "outputs": [
    {
     "data": {
      "text/plain": [
       "{'Rohit': [43, 54], 'Virat': [100, 12], 'Dhoni': [67, 34], 'KL': [87, 2]}"
      ]
     },
     "execution_count": 6,
     "metadata": {},
     "output_type": "execute_result"
    }
   ],
   "source": [
    "name = ['Rohit', 'Virat', 'Dhoni', 'KL']\n",
    " \n",
    "dict(zip(name,score))"
   ]
  },
  {
   "cell_type": "code",
   "execution_count": 7,
   "id": "f9ac1078",
   "metadata": {},
   "outputs": [
    {
     "data": {
      "text/plain": [
       "{'Rohit': [43, 54], 'Virat': [100, 12], 'Dhoni': 95, 'KL': 87}"
      ]
     },
     "execution_count": 7,
     "metadata": {},
     "output_type": "execute_result"
    }
   ],
   "source": [
    "name = ['Rohit', 'Virat', 'Dhoni', 'KL']\n",
    "score = [[43,54],[100,12],95, 87]\n",
    "dict(zip(name,score))"
   ]
  },
  {
   "cell_type": "code",
   "execution_count": 8,
   "id": "bdd90782",
   "metadata": {},
   "outputs": [
    {
     "data": {
      "text/plain": [
       "<zip at 0x1df60fb5340>"
      ]
     },
     "execution_count": 8,
     "metadata": {},
     "output_type": "execute_result"
    }
   ],
   "source": [
    "zip(name,score)"
   ]
  },
  {
   "cell_type": "code",
   "execution_count": 9,
   "id": "776178fb",
   "metadata": {},
   "outputs": [
    {
     "data": {
      "text/plain": [
       "[('Rohit', [43, 54]), ('Virat', [100, 12]), ('Dhoni', 95), ('KL', 87)]"
      ]
     },
     "execution_count": 9,
     "metadata": {},
     "output_type": "execute_result"
    }
   ],
   "source": [
    "list(zip(name,score))"
   ]
  },
  {
   "cell_type": "markdown",
   "id": "e2caefb3",
   "metadata": {},
   "source": [
    "## 2. filter()"
   ]
  },
  {
   "cell_type": "code",
   "execution_count": null,
   "id": "6752932c",
   "metadata": {},
   "outputs": [],
   "source": [
    "It return only True value\n",
    "\n",
    "filter(function_name, iterable)\n",
    "Filter is used when only want  elements which match certain condition\n",
    "when we are using conditional  statement"
   ]
  },
  {
   "cell_type": "code",
   "execution_count": 10,
   "id": "81b662ae",
   "metadata": {},
   "outputs": [
    {
     "data": {
      "text/plain": [
       "11"
      ]
     },
     "execution_count": 10,
     "metadata": {},
     "output_type": "execute_result"
    }
   ],
   "source": [
    "list1 = [1,2,3,4,5,6,7,8,9,10,11,12]\n",
    "\n",
    "def test_odd_number(a):\n",
    "    if a%2 != 0:\n",
    "        return a\n",
    "    \n",
    "test_odd_number(11)"
   ]
  },
  {
   "cell_type": "code",
   "execution_count": 11,
   "id": "b7acd6f8",
   "metadata": {},
   "outputs": [],
   "source": [
    "test_odd_number(12)"
   ]
  },
  {
   "cell_type": "code",
   "execution_count": 17,
   "id": "60ce467a",
   "metadata": {},
   "outputs": [
    {
     "data": {
      "text/plain": [
       "[1, 3, 5, 7, 9, 11]"
      ]
     },
     "execution_count": 17,
     "metadata": {},
     "output_type": "execute_result"
    }
   ],
   "source": [
    "list1 = [1,2,3,4,5,6,7,8,9,10,11,12]\n",
    "\n",
    "def test_odd_number(a):\n",
    "    if a%2 != 0:\n",
    "        return a\n",
    "    \n",
    "list(filter(test_odd_number,list1))"
   ]
  },
  {
   "cell_type": "code",
   "execution_count": 18,
   "id": "08f359e2",
   "metadata": {},
   "outputs": [
    {
     "name": "stdout",
     "output_type": "stream",
     "text": [
      "a is  1\n",
      "a is  2\n",
      "a is  3\n",
      "a is  4\n",
      "a is  5\n",
      "a is  6\n",
      "a is  7\n",
      "a is  8\n",
      "a is  9\n",
      "a is  10\n",
      "a is  11\n",
      "a is  12\n"
     ]
    },
    {
     "data": {
      "text/plain": [
       "[1, 3, 5, 7, 9, 11]"
      ]
     },
     "execution_count": 18,
     "metadata": {},
     "output_type": "execute_result"
    }
   ],
   "source": [
    "list1 = [1,2,3,4,5,6,7,8,9,10,11,12]\n",
    "\n",
    "def test_odd_number(a):\n",
    "    print('a is ',a)\n",
    "    if a%2 != 0:\n",
    "        return a\n",
    "    \n",
    "list(filter(test_odd_number,list1))"
   ]
  },
  {
   "cell_type": "code",
   "execution_count": 19,
   "id": "548488df",
   "metadata": {},
   "outputs": [
    {
     "name": "stdout",
     "output_type": "stream",
     "text": [
      "a is  1\n",
      "a is  2\n",
      "a is  3\n",
      "a is  4\n",
      "a is  5\n",
      "a is  6\n",
      "a is  7\n",
      "a is  8\n",
      "a is  9\n",
      "a is  10\n",
      "a is  11\n",
      "a is  12\n"
     ]
    },
    {
     "data": {
      "text/plain": [
       "[2, 4, 6, 8, 10, 12]"
      ]
     },
     "execution_count": 19,
     "metadata": {},
     "output_type": "execute_result"
    }
   ],
   "source": [
    "list1 = [1,2,3,4,5,6,7,8,9,10,11,12]\n",
    "\n",
    "def test_even_number(a):\n",
    "    print('a is ',a)\n",
    "    if a%2 == 0:\n",
    "        return a\n",
    "    \n",
    "list(filter(test_even_number,list1))"
   ]
  },
  {
   "cell_type": "code",
   "execution_count": 20,
   "id": "b65562de",
   "metadata": {},
   "outputs": [
    {
     "name": "stdout",
     "output_type": "stream",
     "text": [
      "a is  1\n",
      "a is  2\n",
      "a is  3\n",
      "a is  4\n",
      "a is  5\n",
      "a is  6\n",
      "a is  7\n",
      "a is  8\n",
      "a is  9\n",
      "a is  10\n",
      "a is  11\n",
      "a is  12\n"
     ]
    },
    {
     "data": {
      "text/plain": [
       "(2, 4, 6, 8, 10, 12)"
      ]
     },
     "execution_count": 20,
     "metadata": {},
     "output_type": "execute_result"
    }
   ],
   "source": [
    "list1 = [1,2,3,4,5,6,7,8,9,10,11,12]\n",
    "\n",
    "def test_even_number(a):\n",
    "    print('a is ',a)\n",
    "    if a%2 == 0:\n",
    "        return a\n",
    "    \n",
    "tuple(filter(test_even_number,list1))"
   ]
  },
  {
   "cell_type": "code",
   "execution_count": 21,
   "id": "9cf09222",
   "metadata": {},
   "outputs": [
    {
     "data": {
      "text/plain": [
       "<filter at 0x1df615de9d0>"
      ]
     },
     "execution_count": 21,
     "metadata": {},
     "output_type": "execute_result"
    }
   ],
   "source": [
    "filter(lambda x : x%2 == 0,list1)"
   ]
  },
  {
   "cell_type": "code",
   "execution_count": 22,
   "id": "18c995ed",
   "metadata": {},
   "outputs": [
    {
     "data": {
      "text/plain": [
       "[2, 4, 6, 8, 10, 12]"
      ]
     },
     "execution_count": 22,
     "metadata": {},
     "output_type": "execute_result"
    }
   ],
   "source": [
    "list(filter(lambda x : x%2 == 0,list1))"
   ]
  },
  {
   "cell_type": "code",
   "execution_count": 23,
   "id": "695a4697",
   "metadata": {},
   "outputs": [
    {
     "data": {
      "text/plain": [
       "[1, 3, 5, 7, 9, 11]"
      ]
     },
     "execution_count": 23,
     "metadata": {},
     "output_type": "execute_result"
    }
   ],
   "source": [
    "list(filter(lambda x : x%2 != 0,list1))"
   ]
  },
  {
   "cell_type": "code",
   "execution_count": 24,
   "id": "3b049dca",
   "metadata": {},
   "outputs": [
    {
     "data": {
      "text/plain": [
       "[1, 3, 5, 7]"
      ]
     },
     "execution_count": 24,
     "metadata": {},
     "output_type": "execute_result"
    }
   ],
   "source": [
    "list(filter(lambda x : x%2 != 0,[1,2,3,4,5,6,7]))"
   ]
  },
  {
   "cell_type": "code",
   "execution_count": 25,
   "id": "48d26cf2",
   "metadata": {},
   "outputs": [
    {
     "data": {
      "text/plain": [
       "['M', 'L', 'D', 'L']"
      ]
     },
     "execution_count": 25,
     "metadata": {},
     "output_type": "execute_result"
    }
   ],
   "source": [
    "string = 'Machine Learning and Deep Learning'\n",
    "list(filter(lambda x : x.isupper(), string))"
   ]
  },
  {
   "cell_type": "code",
   "execution_count": 28,
   "id": "a09037d6",
   "metadata": {},
   "outputs": [
    {
     "name": "stdout",
     "output_type": "stream",
     "text": [
      "['a', 'c', 'h', 'i', 'n', 'e', 'e', 'a', 'r', 'n', 'i', 'n', 'g', 'a', 'n', 'd', 'e', 'e', 'p', 'e', 'a', 'r', 'n', 'i', 'n', 'g']\n"
     ]
    }
   ],
   "source": [
    "string = 'Machine Learning and Deep Learning'\n",
    "s1 = list(filter(lambda x : x.islower(), string))\n",
    "print(s1)"
   ]
  },
  {
   "cell_type": "code",
   "execution_count": 29,
   "id": "fe83be4b",
   "metadata": {},
   "outputs": [
    {
     "data": {
      "text/plain": [
       "['Sunday', 'Monday', 'friday']"
      ]
     },
     "execution_count": 29,
     "metadata": {},
     "output_type": "execute_result"
    }
   ],
   "source": [
    "days = ['Sunday', 'Monday', 'Tuesday', 'Wednesday', 'Thurday', 'friday', 'saturday']\n",
    "list(filter(lambda d : len(d)==6,days))"
   ]
  },
  {
   "cell_type": "markdown",
   "id": "f873b9d2",
   "metadata": {},
   "source": [
    "# 3.map()"
   ]
  },
  {
   "cell_type": "code",
   "execution_count": null,
   "id": "9478eb40",
   "metadata": {},
   "outputs": [],
   "source": [
    "map(function, iterables)\n",
    "\n",
    "When we are using conditional statements we get output in boolean\n",
    "map is used when you want to do exact operation on each of the element\n",
    "we are applying some functionality, it genarates a new element with some modification"
   ]
  },
  {
   "cell_type": "code",
   "execution_count": 2,
   "id": "646eb659",
   "metadata": {},
   "outputs": [
    {
     "data": {
      "text/plain": [
       "['SUNDAY', 'MONDAY', 'TUESDAY', 'WEDNESDAY', 'THURDAY', 'FRIDAY', 'SATURDAY']"
      ]
     },
     "execution_count": 2,
     "metadata": {},
     "output_type": "execute_result"
    }
   ],
   "source": [
    "days = ['Sunday', 'Monday', 'Tuesday', 'Wednesday', 'Thurday', 'friday', 'saturday']\n",
    "list(map(lambda x:x.upper(),days))"
   ]
  },
  {
   "cell_type": "code",
   "execution_count": 3,
   "id": "3a165dd0",
   "metadata": {},
   "outputs": [
    {
     "data": {
      "text/plain": [
       "[True, True, False, False, False, True, False]"
      ]
     },
     "execution_count": 3,
     "metadata": {},
     "output_type": "execute_result"
    }
   ],
   "source": [
    "days = ['Sunday', 'Monday', 'Tuesday', 'Wednesday', 'Thurday', 'friday', 'saturday']\n",
    "list(map(lambda x:len(x)==6,days))"
   ]
  },
  {
   "cell_type": "code",
   "execution_count": 4,
   "id": "3a163bba",
   "metadata": {},
   "outputs": [
    {
     "data": {
      "text/plain": [
       "['Sunday', 'Monday', 'Tuesday', 'Wednesday', 'Thurday', 'friday', 'saturday']"
      ]
     },
     "execution_count": 4,
     "metadata": {},
     "output_type": "execute_result"
    }
   ],
   "source": [
    "days = ['Sunday', 'Monday', 'Tuesday', 'Wednesday', 'Thurday', 'friday', 'saturday']\n",
    "list(filter(lambda d : d.upper() ,days))"
   ]
  },
  {
   "cell_type": "code",
   "execution_count": 5,
   "id": "5d1aafe1",
   "metadata": {},
   "outputs": [
    {
     "data": {
      "text/plain": [
       "[2, 3, 4, 5, 6]"
      ]
     },
     "execution_count": 5,
     "metadata": {},
     "output_type": "execute_result"
    }
   ],
   "source": [
    "num = [2,3,4,5,6]\n",
    "list(filter(lambda x: x**2,num))"
   ]
  },
  {
   "cell_type": "code",
   "execution_count": 6,
   "id": "3b116031",
   "metadata": {},
   "outputs": [
    {
     "data": {
      "text/plain": [
       "[4, 9, 16, 25, 36]"
      ]
     },
     "execution_count": 6,
     "metadata": {},
     "output_type": "execute_result"
    }
   ],
   "source": [
    "num = [2,3,4,5,6]\n",
    "list(map(lambda x: x**2,num))"
   ]
  },
  {
   "cell_type": "code",
   "execution_count": 7,
   "id": "e41c37b0",
   "metadata": {},
   "outputs": [
    {
     "data": {
      "text/plain": [
       "[8, 27, 64, 125, 216]"
      ]
     },
     "execution_count": 7,
     "metadata": {},
     "output_type": "execute_result"
    }
   ],
   "source": [
    "num = [2,3,4,5,6]\n",
    "list(map(lambda x : x**3 , num))"
   ]
  },
  {
   "cell_type": "code",
   "execution_count": 8,
   "id": "dbb05d39",
   "metadata": {},
   "outputs": [
    {
     "data": {
      "text/plain": [
       "[2, 3, 4, 5, 6]"
      ]
     },
     "execution_count": 8,
     "metadata": {},
     "output_type": "execute_result"
    }
   ],
   "source": [
    "num = [2,3,4,5,6]\n",
    "list(filter(lambda x : x**3 , num))"
   ]
  },
  {
   "cell_type": "code",
   "execution_count": 9,
   "id": "4f9acd2f",
   "metadata": {},
   "outputs": [
    {
     "data": {
      "text/plain": [
       "[12, 13, 14, 15, 16]"
      ]
     },
     "execution_count": 9,
     "metadata": {},
     "output_type": "execute_result"
    }
   ],
   "source": [
    "num = [2,3,4,5,6]\n",
    "list(map(lambda x : x+10,num))"
   ]
  },
  {
   "cell_type": "code",
   "execution_count": 10,
   "id": "ea2f595d",
   "metadata": {},
   "outputs": [
    {
     "data": {
      "text/plain": [
       "[2, 3, 4, 5, 6]"
      ]
     },
     "execution_count": 10,
     "metadata": {},
     "output_type": "execute_result"
    }
   ],
   "source": [
    "num = [2,3,4,5,6]\n",
    "list(filter(lambda x : x+10,num))"
   ]
  },
  {
   "cell_type": "code",
   "execution_count": 11,
   "id": "6e9f98bc",
   "metadata": {},
   "outputs": [
    {
     "data": {
      "text/plain": [
       "['Sunday', 'Monday', 'Tuesday', 'Wednesday', 'Thurday']"
      ]
     },
     "execution_count": 11,
     "metadata": {},
     "output_type": "execute_result"
    }
   ],
   "source": [
    "days = ['Sunday', 'Monday', 'Tuesday', 'Wednesday', 'Thurday', 'friday', 'saturday']\n",
    "list(filter(lambda d : d.istitle() ,days))"
   ]
  },
  {
   "cell_type": "code",
   "execution_count": 12,
   "id": "74a3f35d",
   "metadata": {},
   "outputs": [
    {
     "data": {
      "text/plain": [
       "['Sunday', 'Monday', 'Tuesday', 'Thurday']"
      ]
     },
     "execution_count": 12,
     "metadata": {},
     "output_type": "execute_result"
    }
   ],
   "source": [
    "days = ['Sunday', 'Monday', 'Tuesday', 'wednesday', 'Thurday', 'friday', 'saturday']\n",
    "list(filter(lambda d : d.istitle() ,days))"
   ]
  },
  {
   "cell_type": "code",
   "execution_count": 13,
   "id": "98d3c510",
   "metadata": {},
   "outputs": [
    {
     "data": {
      "text/plain": [
       "['pm', 'ya', 'tc', 'hh', 'oi', 'nn']"
      ]
     },
     "execution_count": 13,
     "metadata": {},
     "output_type": "execute_result"
    }
   ],
   "source": [
    "str1 = 'python'\n",
    "str2 = 'machin'\n",
    "list(map(lambda x ,y :x+y,str1,str2))"
   ]
  },
  {
   "cell_type": "markdown",
   "id": "cf5e2249",
   "metadata": {},
   "source": [
    "# 4.readuce()"
   ]
  },
  {
   "cell_type": "code",
   "execution_count": 14,
   "id": "8061cfdb",
   "metadata": {},
   "outputs": [],
   "source": [
    "from functools import reduce"
   ]
  },
  {
   "cell_type": "code",
   "execution_count": 15,
   "id": "af3d75e0",
   "metadata": {},
   "outputs": [],
   "source": [
    "from functools import *"
   ]
  },
  {
   "cell_type": "code",
   "execution_count": 16,
   "id": "c0ce466f",
   "metadata": {},
   "outputs": [
    {
     "data": {
      "text/plain": [
       "20"
      ]
     },
     "execution_count": 16,
     "metadata": {},
     "output_type": "execute_result"
    }
   ],
   "source": [
    "l1 = [2,3,4,5,6]\n",
    "reduce(lambda x,y : x+y,l1)"
   ]
  },
  {
   "cell_type": "code",
   "execution_count": 17,
   "id": "a5031434",
   "metadata": {},
   "outputs": [
    {
     "data": {
      "text/plain": [
       "720"
      ]
     },
     "execution_count": 17,
     "metadata": {},
     "output_type": "execute_result"
    }
   ],
   "source": [
    "l1 = [2,3,4,5,6]\n",
    "\n",
    "reduce(lambda x,y : x*y,l1)"
   ]
  },
  {
   "cell_type": "code",
   "execution_count": 18,
   "id": "e6de7d75",
   "metadata": {},
   "outputs": [
    {
     "data": {
      "text/plain": [
       "55"
      ]
     },
     "execution_count": 18,
     "metadata": {},
     "output_type": "execute_result"
    }
   ],
   "source": [
    "reduce(lambda x,y:x+y,range(11))"
   ]
  },
  {
   "cell_type": "markdown",
   "id": "832b1c26",
   "metadata": {},
   "source": [
    "# 5.all()"
   ]
  },
  {
   "cell_type": "code",
   "execution_count": null,
   "id": "d1af5b13",
   "metadata": {},
   "outputs": [],
   "source": [
    "all(iterables)"
   ]
  },
  {
   "cell_type": "code",
   "execution_count": null,
   "id": "c2eb9719",
   "metadata": {},
   "outputs": [],
   "source": [
    "True >> If all the elements are True\n",
    "True >> if iterable is empty\n",
    "False >> if any of the element is (0, False)"
   ]
  },
  {
   "cell_type": "code",
   "execution_count": 19,
   "id": "a25b34d4",
   "metadata": {},
   "outputs": [
    {
     "data": {
      "text/plain": [
       "True"
      ]
     },
     "execution_count": 19,
     "metadata": {},
     "output_type": "execute_result"
    }
   ],
   "source": [
    "l1 = [1,2,3,4,5]\n",
    "all(l1)"
   ]
  },
  {
   "cell_type": "code",
   "execution_count": 20,
   "id": "350f9e22",
   "metadata": {},
   "outputs": [
    {
     "data": {
      "text/plain": [
       "True"
      ]
     },
     "execution_count": 20,
     "metadata": {},
     "output_type": "execute_result"
    }
   ],
   "source": [
    "l1 = [1,2,3,4,5,\"ram\"]\n",
    "all(l1)"
   ]
  },
  {
   "cell_type": "code",
   "execution_count": 21,
   "id": "06ea04ab",
   "metadata": {},
   "outputs": [
    {
     "data": {
      "text/plain": [
       "False"
      ]
     },
     "execution_count": 21,
     "metadata": {},
     "output_type": "execute_result"
    }
   ],
   "source": [
    "l1 = [0,1,2,3,4,5,\"ram\"]\n",
    "all(l1)"
   ]
  },
  {
   "cell_type": "code",
   "execution_count": 22,
   "id": "22bccb38",
   "metadata": {},
   "outputs": [
    {
     "data": {
      "text/plain": [
       "False"
      ]
     },
     "execution_count": 22,
     "metadata": {},
     "output_type": "execute_result"
    }
   ],
   "source": [
    "l1 = [False,1,2,3,4,5,\"ram\"]\n",
    "all(l1)"
   ]
  },
  {
   "cell_type": "code",
   "execution_count": 23,
   "id": "2f5130a7",
   "metadata": {},
   "outputs": [
    {
     "data": {
      "text/plain": [
       "True"
      ]
     },
     "execution_count": 23,
     "metadata": {},
     "output_type": "execute_result"
    }
   ],
   "source": [
    "l1 = [True,1,2,3,4,5,\"ram\"]\n",
    "all(l1)"
   ]
  },
  {
   "cell_type": "code",
   "execution_count": 24,
   "id": "f1442079",
   "metadata": {},
   "outputs": [
    {
     "data": {
      "text/plain": [
       "True"
      ]
     },
     "execution_count": 24,
     "metadata": {},
     "output_type": "execute_result"
    }
   ],
   "source": [
    "all([True, 1,True])"
   ]
  },
  {
   "cell_type": "code",
   "execution_count": 25,
   "id": "95287129",
   "metadata": {},
   "outputs": [
    {
     "data": {
      "text/plain": [
       "False"
      ]
     },
     "execution_count": 25,
     "metadata": {},
     "output_type": "execute_result"
    }
   ],
   "source": [
    "all([False, 1,True])"
   ]
  },
  {
   "cell_type": "code",
   "execution_count": 26,
   "id": "70fe76fc",
   "metadata": {},
   "outputs": [
    {
     "name": "stdout",
     "output_type": "stream",
     "text": [
      "{'A': 2, 'B': 3}\n"
     ]
    }
   ],
   "source": [
    "a={\"A\":2,'B':3}\n",
    "print(a)"
   ]
  },
  {
   "cell_type": "code",
   "execution_count": 27,
   "id": "3d67bcf5",
   "metadata": {},
   "outputs": [
    {
     "ename": "SyntaxError",
     "evalue": "expression expected after dictionary key and ':' (3278877961.py, line 1)",
     "output_type": "error",
     "traceback": [
      "\u001b[1;36m  Cell \u001b[1;32mIn[27], line 1\u001b[1;36m\u001b[0m\n\u001b[1;33m    a={\"A\":2,'B':}\u001b[0m\n\u001b[1;37m                ^\u001b[0m\n\u001b[1;31mSyntaxError\u001b[0m\u001b[1;31m:\u001b[0m expression expected after dictionary key and ':'\n"
     ]
    }
   ],
   "source": [
    "a={\"A\":2,'B':}\n",
    "print(a)"
   ]
  },
  {
   "cell_type": "code",
   "execution_count": 28,
   "id": "0537faea",
   "metadata": {},
   "outputs": [
    {
     "data": {
      "text/plain": [
       "True"
      ]
     },
     "execution_count": 28,
     "metadata": {},
     "output_type": "execute_result"
    }
   ],
   "source": [
    "all({\"A\":2,'B':3}) # default checks for keys"
   ]
  },
  {
   "cell_type": "code",
   "execution_count": 30,
   "id": "243793b0",
   "metadata": {},
   "outputs": [
    {
     "data": {
      "text/plain": [
       "False"
      ]
     },
     "execution_count": 30,
     "metadata": {},
     "output_type": "execute_result"
    }
   ],
   "source": [
    "all({\"A\":2,'':3})"
   ]
  },
  {
   "cell_type": "markdown",
   "id": "da14eab1",
   "metadata": {},
   "source": [
    "# 6. any()"
   ]
  },
  {
   "cell_type": "code",
   "execution_count": null,
   "id": "b5f5c61b",
   "metadata": {},
   "outputs": [],
   "source": [
    "any(iterables)\n",
    "True >> if at least one elem is True\n",
    "False >> if all elem are false, iterable is empty"
   ]
  },
  {
   "cell_type": "code",
   "execution_count": 31,
   "id": "3f8ac6d4",
   "metadata": {},
   "outputs": [
    {
     "data": {
      "text/plain": [
       "True"
      ]
     },
     "execution_count": 31,
     "metadata": {},
     "output_type": "execute_result"
    }
   ],
   "source": [
    "l1 = [12,54,87,6,2,21]\n",
    "any(l1)"
   ]
  },
  {
   "cell_type": "code",
   "execution_count": 32,
   "id": "966c05a9",
   "metadata": {},
   "outputs": [
    {
     "data": {
      "text/plain": [
       "True"
      ]
     },
     "execution_count": 32,
     "metadata": {},
     "output_type": "execute_result"
    }
   ],
   "source": [
    "l1 = [0,12,54,87,6,2,21]\n",
    "any(l1)"
   ]
  },
  {
   "cell_type": "code",
   "execution_count": 33,
   "id": "f4076fdd",
   "metadata": {},
   "outputs": [
    {
     "data": {
      "text/plain": [
       "True"
      ]
     },
     "execution_count": 33,
     "metadata": {},
     "output_type": "execute_result"
    }
   ],
   "source": [
    "l1 = [0,False,12,54,87,6,2,21]\n",
    "any(l1)"
   ]
  },
  {
   "cell_type": "code",
   "execution_count": 34,
   "id": "4ca81777",
   "metadata": {},
   "outputs": [
    {
     "data": {
      "text/plain": [
       "True"
      ]
     },
     "execution_count": 34,
     "metadata": {},
     "output_type": "execute_result"
    }
   ],
   "source": [
    "l1 = [0,False,21]\n",
    "any(l1)"
   ]
  },
  {
   "cell_type": "code",
   "execution_count": 35,
   "id": "ff80fe34",
   "metadata": {},
   "outputs": [
    {
     "data": {
      "text/plain": [
       "False"
      ]
     },
     "execution_count": 35,
     "metadata": {},
     "output_type": "execute_result"
    }
   ],
   "source": [
    "l1 = [0,False]\n",
    "any(l1)"
   ]
  },
  {
   "cell_type": "code",
   "execution_count": 36,
   "id": "aafd90ed",
   "metadata": {},
   "outputs": [
    {
     "data": {
      "text/plain": [
       "False"
      ]
     },
     "execution_count": 36,
     "metadata": {},
     "output_type": "execute_result"
    }
   ],
   "source": [
    "l1 = []\n",
    "any(l1)"
   ]
  },
  {
   "cell_type": "markdown",
   "id": "fbd6a8f0",
   "metadata": {},
   "source": [
    "# 7.chr()"
   ]
  },
  {
   "cell_type": "code",
   "execution_count": null,
   "id": "5e34c1c8",
   "metadata": {},
   "outputs": [],
   "source": [
    "ASCII Code >> character"
   ]
  },
  {
   "cell_type": "code",
   "execution_count": 37,
   "id": "21f56ec8",
   "metadata": {},
   "outputs": [
    {
     "data": {
      "text/plain": [
       "'C'"
      ]
     },
     "execution_count": 37,
     "metadata": {},
     "output_type": "execute_result"
    }
   ],
   "source": [
    "chr(67)"
   ]
  },
  {
   "cell_type": "code",
   "execution_count": 38,
   "id": "bdb992fa",
   "metadata": {},
   "outputs": [
    {
     "data": {
      "text/plain": [
       "'M'"
      ]
     },
     "execution_count": 38,
     "metadata": {},
     "output_type": "execute_result"
    }
   ],
   "source": [
    "chr(77)"
   ]
  },
  {
   "cell_type": "markdown",
   "id": "2cdfb379",
   "metadata": {},
   "source": [
    "# 8.ord()"
   ]
  },
  {
   "cell_type": "code",
   "execution_count": 39,
   "id": "361e5d9b",
   "metadata": {},
   "outputs": [
    {
     "data": {
      "text/plain": [
       "65"
      ]
     },
     "execution_count": 39,
     "metadata": {},
     "output_type": "execute_result"
    }
   ],
   "source": [
    "ord(\"A\")"
   ]
  },
  {
   "cell_type": "code",
   "execution_count": 40,
   "id": "4a0b6dba",
   "metadata": {},
   "outputs": [
    {
     "data": {
      "text/plain": [
       "97"
      ]
     },
     "execution_count": 40,
     "metadata": {},
     "output_type": "execute_result"
    }
   ],
   "source": [
    "ord('a')"
   ]
  },
  {
   "cell_type": "markdown",
   "id": "99efebb1",
   "metadata": {},
   "source": [
    "# 9.bin()"
   ]
  },
  {
   "cell_type": "code",
   "execution_count": 41,
   "id": "7684bf4a",
   "metadata": {},
   "outputs": [
    {
     "data": {
      "text/plain": [
       "'0b1010'"
      ]
     },
     "execution_count": 41,
     "metadata": {},
     "output_type": "execute_result"
    }
   ],
   "source": [
    "bin(10)"
   ]
  },
  {
   "cell_type": "markdown",
   "id": "d340a4ce",
   "metadata": {},
   "source": [
    "# 10.bool()"
   ]
  },
  {
   "cell_type": "code",
   "execution_count": 42,
   "id": "684004d3",
   "metadata": {},
   "outputs": [
    {
     "data": {
      "text/plain": [
       "True"
      ]
     },
     "execution_count": 42,
     "metadata": {},
     "output_type": "execute_result"
    }
   ],
   "source": [
    "bool(2)"
   ]
  },
  {
   "cell_type": "code",
   "execution_count": 43,
   "id": "5d9c3c25",
   "metadata": {},
   "outputs": [
    {
     "data": {
      "text/plain": [
       "True"
      ]
     },
     "execution_count": 43,
     "metadata": {},
     "output_type": "execute_result"
    }
   ],
   "source": [
    "bool(3)"
   ]
  },
  {
   "cell_type": "code",
   "execution_count": 45,
   "id": "1eadbdf5",
   "metadata": {},
   "outputs": [
    {
     "data": {
      "text/plain": [
       "False"
      ]
     },
     "execution_count": 45,
     "metadata": {},
     "output_type": "execute_result"
    }
   ],
   "source": [
    "bool(0)"
   ]
  },
  {
   "cell_type": "code",
   "execution_count": 46,
   "id": "71eb8ac1",
   "metadata": {},
   "outputs": [
    {
     "data": {
      "text/plain": [
       "True"
      ]
     },
     "execution_count": 46,
     "metadata": {},
     "output_type": "execute_result"
    }
   ],
   "source": [
    "bool(2==2)"
   ]
  },
  {
   "cell_type": "code",
   "execution_count": 47,
   "id": "df36a284",
   "metadata": {},
   "outputs": [
    {
     "data": {
      "text/plain": [
       "False"
      ]
     },
     "execution_count": 47,
     "metadata": {},
     "output_type": "execute_result"
    }
   ],
   "source": [
    "bool(2==10)"
   ]
  },
  {
   "cell_type": "markdown",
   "id": "5329e6e3",
   "metadata": {},
   "source": [
    "# 11. abs()"
   ]
  },
  {
   "cell_type": "code",
   "execution_count": null,
   "id": "2bb553da",
   "metadata": {},
   "outputs": [],
   "source": [
    "Returns absolute values (Positive values)\n",
    "\n",
    "if number is complex >> it return the magnitude ( square both values and take root)"
   ]
  },
  {
   "cell_type": "code",
   "execution_count": 48,
   "id": "606b8375",
   "metadata": {},
   "outputs": [
    {
     "data": {
      "text/plain": [
       "10"
      ]
     },
     "execution_count": 48,
     "metadata": {},
     "output_type": "execute_result"
    }
   ],
   "source": [
    "abs(10)"
   ]
  },
  {
   "cell_type": "code",
   "execution_count": 49,
   "id": "ad536727",
   "metadata": {},
   "outputs": [
    {
     "data": {
      "text/plain": [
       "10"
      ]
     },
     "execution_count": 49,
     "metadata": {},
     "output_type": "execute_result"
    }
   ],
   "source": [
    "abs(-10)"
   ]
  },
  {
   "cell_type": "code",
   "execution_count": 50,
   "id": "4a8e94e4",
   "metadata": {},
   "outputs": [
    {
     "data": {
      "text/plain": [
       "5.0"
      ]
     },
     "execution_count": 50,
     "metadata": {},
     "output_type": "execute_result"
    }
   ],
   "source": [
    "abs(3+4j)"
   ]
  },
  {
   "cell_type": "code",
   "execution_count": 51,
   "id": "02aca4a3",
   "metadata": {},
   "outputs": [
    {
     "data": {
      "text/plain": [
       "25"
      ]
     },
     "execution_count": 51,
     "metadata": {},
     "output_type": "execute_result"
    }
   ],
   "source": [
    "9 +16"
   ]
  },
  {
   "cell_type": "code",
   "execution_count": 53,
   "id": "7ca42c50",
   "metadata": {},
   "outputs": [],
   "source": [
    "import numpy as np"
   ]
  },
  {
   "cell_type": "code",
   "execution_count": 54,
   "id": "7fa0b747",
   "metadata": {},
   "outputs": [
    {
     "data": {
      "text/plain": [
       "5.0"
      ]
     },
     "execution_count": 54,
     "metadata": {},
     "output_type": "execute_result"
    }
   ],
   "source": [
    "np.sqrt(25)"
   ]
  },
  {
   "cell_type": "markdown",
   "id": "baeb9c1f",
   "metadata": {},
   "source": [
    "# 12.dir()"
   ]
  },
  {
   "cell_type": "code",
   "execution_count": null,
   "id": "98781a1e",
   "metadata": {},
   "outputs": [],
   "source": [
    "dir >> directory\n",
    "list of valid attributes (variables, functions, classnames) of an object"
   ]
  },
  {
   "cell_type": "code",
   "execution_count": 55,
   "id": "284ceeeb",
   "metadata": {},
   "outputs": [
    {
     "name": "stdout",
     "output_type": "stream",
     "text": [
      "<module 'os' (frozen)>\n"
     ]
    }
   ],
   "source": [
    "import os\n",
    "print(os)"
   ]
  },
  {
   "cell_type": "code",
   "execution_count": 57,
   "id": "09480a35",
   "metadata": {},
   "outputs": [
    {
     "name": "stdout",
     "output_type": "stream",
     "text": [
      "['DirEntry', 'EX_OK', 'F_OK', 'GenericAlias', 'Mapping', 'MutableMapping', 'O_APPEND', 'O_BINARY', 'O_CREAT', 'O_EXCL', 'O_NOINHERIT', 'O_RANDOM', 'O_RDONLY', 'O_RDWR', 'O_SEQUENTIAL', 'O_SHORT_LIVED', 'O_TEMPORARY', 'O_TEXT', 'O_TRUNC', 'O_WRONLY', 'P_DETACH', 'P_NOWAIT', 'P_NOWAITO', 'P_OVERLAY', 'P_WAIT', 'PathLike', 'R_OK', 'SEEK_CUR', 'SEEK_END', 'SEEK_SET', 'TMP_MAX', 'W_OK', 'X_OK', '_AddedDllDirectory', '_Environ', '__all__', '__builtins__', '__doc__', '__file__', '__loader__', '__name__', '__package__', '__spec__', '_check_methods', '_execvpe', '_exists', '_exit', '_fspath', '_get_exports_list', '_walk', '_wrap_close', 'abc', 'abort', 'access', 'add_dll_directory', 'altsep', 'chdir', 'chmod', 'close', 'closerange', 'cpu_count', 'curdir', 'defpath', 'device_encoding', 'devnull', 'dup', 'dup2', 'environ', 'error', 'execl', 'execle', 'execlp', 'execlpe', 'execv', 'execve', 'execvp', 'execvpe', 'extsep', 'fdopen', 'fsdecode', 'fsencode', 'fspath', 'fstat', 'fsync', 'ftruncate', 'get_exec_path', 'get_handle_inheritable', 'get_inheritable', 'get_terminal_size', 'getcwd', 'getcwdb', 'getenv', 'getlogin', 'getpid', 'getppid', 'isatty', 'kill', 'linesep', 'link', 'listdir', 'lseek', 'lstat', 'makedirs', 'mkdir', 'name', 'open', 'pardir', 'path', 'pathsep', 'pipe', 'popen', 'putenv', 'read', 'readlink', 'remove', 'removedirs', 'rename', 'renames', 'replace', 'rmdir', 'scandir', 'sep', 'set_handle_inheritable', 'set_inheritable', 'spawnl', 'spawnle', 'spawnv', 'spawnve', 'st', 'startfile', 'stat', 'stat_result', 'statvfs_result', 'strerror', 'supports_bytes_environ', 'supports_dir_fd', 'supports_effective_ids', 'supports_fd', 'supports_follow_symlinks', 'symlink', 'sys', 'system', 'terminal_size', 'times', 'times_result', 'truncate', 'umask', 'uname_result', 'unlink', 'unsetenv', 'urandom', 'utime', 'waitpid', 'waitstatus_to_exitcode', 'walk', 'write']\n"
     ]
    }
   ],
   "source": [
    "print(dir(os))"
   ]
  },
  {
   "cell_type": "code",
   "execution_count": 58,
   "id": "19abe9d1",
   "metadata": {},
   "outputs": [
    {
     "name": "stdout",
     "output_type": "stream",
     "text": [
      "['ALLOW_THREADS', 'AxisError', 'BUFSIZE', 'CLIP', 'ComplexWarning', 'DataSource', 'ERR_CALL', 'ERR_DEFAULT', 'ERR_IGNORE', 'ERR_LOG', 'ERR_PRINT', 'ERR_RAISE', 'ERR_WARN', 'FLOATING_POINT_SUPPORT', 'FPE_DIVIDEBYZERO', 'FPE_INVALID', 'FPE_OVERFLOW', 'FPE_UNDERFLOW', 'False_', 'Inf', 'Infinity', 'MAXDIMS', 'MAY_SHARE_BOUNDS', 'MAY_SHARE_EXACT', 'ModuleDeprecationWarning', 'NAN', 'NINF', 'NZERO', 'NaN', 'PINF', 'PZERO', 'RAISE', 'RankWarning', 'SHIFT_DIVIDEBYZERO', 'SHIFT_INVALID', 'SHIFT_OVERFLOW', 'SHIFT_UNDERFLOW', 'ScalarType', 'Tester', 'TooHardError', 'True_', 'UFUNC_BUFSIZE_DEFAULT', 'UFUNC_PYVALS_NAME', 'VisibleDeprecationWarning', 'WRAP', '_CopyMode', '_NoValue', '_UFUNC_API', '__NUMPY_SETUP__', '__all__', '__builtins__', '__cached__', '__config__', '__deprecated_attrs__', '__dir__', '__doc__', '__expired_functions__', '__file__', '__former_attrs__', '__future_scalars__', '__getattr__', '__git_version__', '__loader__', '__mkl_version__', '__name__', '__package__', '__path__', '__spec__', '__version__', '_add_newdoc_ufunc', '_builtins', '_distributor_init', '_financial_names', '_get_promotion_state', '_globals', '_int_extended_msg', '_mat', '_no_nep50_warning', '_pyinstaller_hooks_dir', '_pytesttester', '_set_promotion_state', '_specific_msg', '_version', 'abs', 'absolute', 'add', 'add_docstring', 'add_newdoc', 'add_newdoc_ufunc', 'all', 'allclose', 'alltrue', 'amax', 'amin', 'angle', 'any', 'append', 'apply_along_axis', 'apply_over_axes', 'arange', 'arccos', 'arccosh', 'arcsin', 'arcsinh', 'arctan', 'arctan2', 'arctanh', 'argmax', 'argmin', 'argpartition', 'argsort', 'argwhere', 'around', 'array', 'array2string', 'array_equal', 'array_equiv', 'array_repr', 'array_split', 'array_str', 'asanyarray', 'asarray', 'asarray_chkfinite', 'ascontiguousarray', 'asfarray', 'asfortranarray', 'asmatrix', 'atleast_1d', 'atleast_2d', 'atleast_3d', 'average', 'bartlett', 'base_repr', 'binary_repr', 'bincount', 'bitwise_and', 'bitwise_not', 'bitwise_or', 'bitwise_xor', 'blackman', 'block', 'bmat', 'bool_', 'broadcast', 'broadcast_arrays', 'broadcast_shapes', 'broadcast_to', 'busday_count', 'busday_offset', 'busdaycalendar', 'byte', 'byte_bounds', 'bytes_', 'c_', 'can_cast', 'cast', 'cbrt', 'cdouble', 'ceil', 'cfloat', 'char', 'character', 'chararray', 'choose', 'clip', 'clongdouble', 'clongfloat', 'column_stack', 'common_type', 'compare_chararrays', 'compat', 'complex128', 'complex64', 'complex_', 'complexfloating', 'compress', 'concatenate', 'conj', 'conjugate', 'convolve', 'copy', 'copysign', 'copyto', 'corrcoef', 'correlate', 'cos', 'cosh', 'count_nonzero', 'cov', 'cross', 'csingle', 'ctypeslib', 'cumprod', 'cumproduct', 'cumsum', 'datetime64', 'datetime_as_string', 'datetime_data', 'deg2rad', 'degrees', 'delete', 'deprecate', 'deprecate_with_doc', 'diag', 'diag_indices', 'diag_indices_from', 'diagflat', 'diagonal', 'diff', 'digitize', 'disp', 'divide', 'divmod', 'dot', 'double', 'dsplit', 'dstack', 'dtype', 'e', 'ediff1d', 'einsum', 'einsum_path', 'emath', 'empty', 'empty_like', 'equal', 'errstate', 'euler_gamma', 'exp', 'exp2', 'expand_dims', 'expm1', 'extract', 'eye', 'fabs', 'fastCopyAndTranspose', 'fft', 'fill_diagonal', 'find_common_type', 'finfo', 'fix', 'flatiter', 'flatnonzero', 'flexible', 'flip', 'fliplr', 'flipud', 'float16', 'float32', 'float64', 'float_', 'float_power', 'floating', 'floor', 'floor_divide', 'fmax', 'fmin', 'fmod', 'format_float_positional', 'format_float_scientific', 'format_parser', 'frexp', 'from_dlpack', 'frombuffer', 'fromfile', 'fromfunction', 'fromiter', 'frompyfunc', 'fromregex', 'fromstring', 'full', 'full_like', 'gcd', 'generic', 'genfromtxt', 'geomspace', 'get_array_wrap', 'get_include', 'get_printoptions', 'getbufsize', 'geterr', 'geterrcall', 'geterrobj', 'gradient', 'greater', 'greater_equal', 'half', 'hamming', 'hanning', 'heaviside', 'histogram', 'histogram2d', 'histogram_bin_edges', 'histogramdd', 'hsplit', 'hstack', 'hypot', 'i0', 'identity', 'iinfo', 'imag', 'in1d', 'index_exp', 'indices', 'inexact', 'inf', 'info', 'infty', 'inner', 'insert', 'int16', 'int32', 'int64', 'int8', 'int_', 'intc', 'integer', 'interp', 'intersect1d', 'intp', 'invert', 'is_busday', 'isclose', 'iscomplex', 'iscomplexobj', 'isfinite', 'isfortran', 'isin', 'isinf', 'isnan', 'isnat', 'isneginf', 'isposinf', 'isreal', 'isrealobj', 'isscalar', 'issctype', 'issubclass_', 'issubdtype', 'issubsctype', 'iterable', 'ix_', 'kaiser', 'kron', 'lcm', 'ldexp', 'left_shift', 'less', 'less_equal', 'lexsort', 'lib', 'linalg', 'linspace', 'little_endian', 'load', 'loadtxt', 'log', 'log10', 'log1p', 'log2', 'logaddexp', 'logaddexp2', 'logical_and', 'logical_not', 'logical_or', 'logical_xor', 'logspace', 'longcomplex', 'longdouble', 'longfloat', 'longlong', 'lookfor', 'ma', 'mask_indices', 'mat', 'math', 'matmul', 'matrix', 'max', 'maximum', 'maximum_sctype', 'may_share_memory', 'mean', 'median', 'memmap', 'meshgrid', 'mgrid', 'min', 'min_scalar_type', 'minimum', 'mintypecode', 'mkl', 'mod', 'modf', 'moveaxis', 'msort', 'multiply', 'nan', 'nan_to_num', 'nanargmax', 'nanargmin', 'nancumprod', 'nancumsum', 'nanmax', 'nanmean', 'nanmedian', 'nanmin', 'nanpercentile', 'nanprod', 'nanquantile', 'nanstd', 'nansum', 'nanvar', 'nbytes', 'ndarray', 'ndenumerate', 'ndim', 'ndindex', 'nditer', 'negative', 'nested_iters', 'newaxis', 'nextafter', 'nonzero', 'not_equal', 'numarray', 'number', 'obj2sctype', 'object_', 'ogrid', 'oldnumeric', 'ones', 'ones_like', 'outer', 'packbits', 'pad', 'partition', 'percentile', 'pi', 'piecewise', 'place', 'poly', 'poly1d', 'polyadd', 'polyder', 'polydiv', 'polyfit', 'polyint', 'polymul', 'polynomial', 'polysub', 'polyval', 'positive', 'power', 'printoptions', 'prod', 'product', 'promote_types', 'ptp', 'put', 'put_along_axis', 'putmask', 'quantile', 'r_', 'rad2deg', 'radians', 'random', 'ravel', 'ravel_multi_index', 'real', 'real_if_close', 'rec', 'recarray', 'recfromcsv', 'recfromtxt', 'reciprocal', 'record', 'remainder', 'repeat', 'require', 'reshape', 'resize', 'result_type', 'right_shift', 'rint', 'roll', 'rollaxis', 'roots', 'rot90', 'round', 'round_', 'row_stack', 's_', 'safe_eval', 'save', 'savetxt', 'savez', 'savez_compressed', 'sctype2char', 'sctypeDict', 'sctypes', 'searchsorted', 'select', 'set_numeric_ops', 'set_printoptions', 'set_string_function', 'setbufsize', 'setdiff1d', 'seterr', 'seterrcall', 'seterrobj', 'setxor1d', 'shape', 'shares_memory', 'short', 'show_config', 'show_runtime', 'sign', 'signbit', 'signedinteger', 'sin', 'sinc', 'single', 'singlecomplex', 'sinh', 'size', 'sometrue', 'sort', 'sort_complex', 'source', 'spacing', 'split', 'sqrt', 'square', 'squeeze', 'stack', 'std', 'str_', 'string_', 'subtract', 'sum', 'swapaxes', 'take', 'take_along_axis', 'tan', 'tanh', 'tensordot', 'test', 'testing', 'tile', 'timedelta64', 'trace', 'tracemalloc_domain', 'transpose', 'trapz', 'tri', 'tril', 'tril_indices', 'tril_indices_from', 'trim_zeros', 'triu', 'triu_indices', 'triu_indices_from', 'true_divide', 'trunc', 'typecodes', 'typename', 'ubyte', 'ufunc', 'uint', 'uint16', 'uint32', 'uint64', 'uint8', 'uintc', 'uintp', 'ulonglong', 'unicode_', 'union1d', 'unique', 'unpackbits', 'unravel_index', 'unsignedinteger', 'unwrap', 'use_hugepage', 'ushort', 'vander', 'var', 'vdot', 'vectorize', 'version', 'void', 'vsplit', 'vstack', 'where', 'who', 'zeros', 'zeros_like']\n"
     ]
    }
   ],
   "source": [
    "print(dir(np))"
   ]
  },
  {
   "cell_type": "code",
   "execution_count": 59,
   "id": "cdb0c363",
   "metadata": {},
   "outputs": [],
   "source": [
    "import pandas as pd"
   ]
  },
  {
   "cell_type": "code",
   "execution_count": 60,
   "id": "eb1f3a8d",
   "metadata": {},
   "outputs": [
    {
     "name": "stdout",
     "output_type": "stream",
     "text": [
      "['ArrowDtype', 'BooleanDtype', 'Categorical', 'CategoricalDtype', 'CategoricalIndex', 'DataFrame', 'DateOffset', 'DatetimeIndex', 'DatetimeTZDtype', 'ExcelFile', 'ExcelWriter', 'Flags', 'Float32Dtype', 'Float64Dtype', 'Float64Index', 'Grouper', 'HDFStore', 'Index', 'IndexSlice', 'Int16Dtype', 'Int32Dtype', 'Int64Dtype', 'Int64Index', 'Int8Dtype', 'Interval', 'IntervalDtype', 'IntervalIndex', 'MultiIndex', 'NA', 'NaT', 'NamedAgg', 'Period', 'PeriodDtype', 'PeriodIndex', 'RangeIndex', 'Series', 'SparseDtype', 'StringDtype', 'Timedelta', 'TimedeltaIndex', 'Timestamp', 'UInt16Dtype', 'UInt32Dtype', 'UInt64Dtype', 'UInt64Index', 'UInt8Dtype', '__all__', '__builtins__', '__cached__', '__deprecated_num_index_names', '__dir__', '__doc__', '__docformat__', '__file__', '__getattr__', '__git_version__', '__loader__', '__name__', '__package__', '__path__', '__spec__', '__version__', '_config', '_is_numpy_dev', '_libs', '_testing', '_typing', '_version', 'annotations', 'api', 'array', 'arrays', 'bdate_range', 'compat', 'concat', 'core', 'crosstab', 'cut', 'date_range', 'describe_option', 'errors', 'eval', 'factorize', 'from_dummies', 'get_dummies', 'get_option', 'infer_freq', 'interval_range', 'io', 'isna', 'isnull', 'json_normalize', 'lreshape', 'melt', 'merge', 'merge_asof', 'merge_ordered', 'notna', 'notnull', 'offsets', 'option_context', 'options', 'pandas', 'period_range', 'pivot', 'pivot_table', 'plotting', 'qcut', 'read_clipboard', 'read_csv', 'read_excel', 'read_feather', 'read_fwf', 'read_gbq', 'read_hdf', 'read_html', 'read_json', 'read_orc', 'read_parquet', 'read_pickle', 'read_sas', 'read_spss', 'read_sql', 'read_sql_query', 'read_sql_table', 'read_stata', 'read_table', 'read_xml', 'reset_option', 'set_eng_float_format', 'set_option', 'show_versions', 'test', 'testing', 'timedelta_range', 'to_datetime', 'to_numeric', 'to_pickle', 'to_timedelta', 'tseries', 'unique', 'util', 'value_counts', 'wide_to_long']\n"
     ]
    }
   ],
   "source": [
    "print(dir(pd))"
   ]
  },
  {
   "cell_type": "markdown",
   "id": "dd5d1d7b",
   "metadata": {},
   "source": [
    "# 13.enumerate"
   ]
  },
  {
   "cell_type": "code",
   "execution_count": 61,
   "id": "97aa4a17",
   "metadata": {},
   "outputs": [
    {
     "data": {
      "text/plain": [
       "[(0, 'p'), (1, 'y'), (2, 't'), (3, 'h'), (4, 'o'), (5, 'n')]"
      ]
     },
     "execution_count": 61,
     "metadata": {},
     "output_type": "execute_result"
    }
   ],
   "source": [
    "s = 'python'\n",
    "list(enumerate(s))"
   ]
  },
  {
   "cell_type": "code",
   "execution_count": 62,
   "id": "76d07b9d",
   "metadata": {},
   "outputs": [
    {
     "name": "stdout",
     "output_type": "stream",
     "text": [
      "i==0 , val ==p\n",
      "i==1 , val ==y\n",
      "i==2 , val ==t\n",
      "i==3 , val ==h\n",
      "i==4 , val ==o\n",
      "i==5 , val ==n\n"
     ]
    }
   ],
   "source": [
    "for i,val in enumerate(s):\n",
    "    print(f'i=={i} , val =={val}')"
   ]
  },
  {
   "cell_type": "markdown",
   "id": "d9fe8a38",
   "metadata": {},
   "source": [
    "# 14.range()"
   ]
  },
  {
   "cell_type": "code",
   "execution_count": 63,
   "id": "3db7a696",
   "metadata": {},
   "outputs": [
    {
     "data": {
      "text/plain": [
       "[2, 3, 4, 5, 6, 7, 8, 9]"
      ]
     },
     "execution_count": 63,
     "metadata": {},
     "output_type": "execute_result"
    }
   ],
   "source": [
    "list(range(2,10))"
   ]
  },
  {
   "cell_type": "code",
   "execution_count": 64,
   "id": "86f3bb1b",
   "metadata": {},
   "outputs": [
    {
     "name": "stdout",
     "output_type": "stream",
     "text": [
      "2\n",
      "3\n",
      "4\n",
      "5\n",
      "6\n",
      "7\n",
      "8\n",
      "9\n",
      "10\n"
     ]
    }
   ],
   "source": [
    "for i in range(2,11):\n",
    "    print(i)"
   ]
  },
  {
   "cell_type": "markdown",
   "id": "e5fb38d4",
   "metadata": {},
   "source": [
    "# 15.print()"
   ]
  },
  {
   "cell_type": "code",
   "execution_count": 66,
   "id": "75a38da0",
   "metadata": {},
   "outputs": [
    {
     "name": "stdout",
     "output_type": "stream",
     "text": [
      "data\n"
     ]
    }
   ],
   "source": [
    "a= \"data\"\n",
    "print(a)"
   ]
  },
  {
   "cell_type": "markdown",
   "id": "16303732",
   "metadata": {},
   "source": [
    "# 16.input"
   ]
  },
  {
   "cell_type": "code",
   "execution_count": null,
   "id": "ba55bb0d",
   "metadata": {},
   "outputs": [],
   "source": [
    "user inputs"
   ]
  },
  {
   "cell_type": "code",
   "execution_count": 67,
   "id": "7f61f80c",
   "metadata": {},
   "outputs": [
    {
     "name": "stdout",
     "output_type": "stream",
     "text": [
      "Enter a namethis is python class\n"
     ]
    },
    {
     "data": {
      "text/plain": [
       "'this is python class'"
      ]
     },
     "execution_count": 67,
     "metadata": {},
     "output_type": "execute_result"
    }
   ],
   "source": [
    "n = input('Enter a name')\n",
    "n"
   ]
  },
  {
   "cell_type": "code",
   "execution_count": 68,
   "id": "0fbd1feb",
   "metadata": {},
   "outputs": [
    {
     "name": "stdout",
     "output_type": "stream",
     "text": [
      "Enter a num6\n"
     ]
    },
    {
     "data": {
      "text/plain": [
       "6"
      ]
     },
     "execution_count": 68,
     "metadata": {},
     "output_type": "execute_result"
    }
   ],
   "source": [
    "n = int(input('Enter a num'))\n",
    "n"
   ]
  },
  {
   "cell_type": "markdown",
   "id": "594efe2d",
   "metadata": {},
   "source": [
    "# 17 eval()"
   ]
  },
  {
   "cell_type": "code",
   "execution_count": 69,
   "id": "7b2534b9",
   "metadata": {},
   "outputs": [
    {
     "name": "stdout",
     "output_type": "stream",
     "text": [
      "enter a num:9.5\n",
      "9.5 <class 'float'>\n"
     ]
    }
   ],
   "source": [
    "a= eval(input('enter a num:'))\n",
    "print(a, type(a))"
   ]
  },
  {
   "cell_type": "code",
   "execution_count": 70,
   "id": "470acbce",
   "metadata": {},
   "outputs": [
    {
     "name": "stdout",
     "output_type": "stream",
     "text": [
      "enter a num:hii\n"
     ]
    },
    {
     "ename": "NameError",
     "evalue": "name 'hii' is not defined",
     "output_type": "error",
     "traceback": [
      "\u001b[1;31m---------------------------------------------------------------------------\u001b[0m",
      "\u001b[1;31mNameError\u001b[0m                                 Traceback (most recent call last)",
      "Cell \u001b[1;32mIn[70], line 1\u001b[0m\n\u001b[1;32m----> 1\u001b[0m a\u001b[38;5;241m=\u001b[39m \u001b[38;5;28meval\u001b[39m(\u001b[38;5;28minput\u001b[39m(\u001b[38;5;124m'\u001b[39m\u001b[38;5;124menter a num:\u001b[39m\u001b[38;5;124m'\u001b[39m))\n\u001b[0;32m      2\u001b[0m \u001b[38;5;28mprint\u001b[39m(a, \u001b[38;5;28mtype\u001b[39m(a))\n",
      "File \u001b[1;32m<string>:1\u001b[0m\n",
      "\u001b[1;31mNameError\u001b[0m: name 'hii' is not defined"
     ]
    }
   ],
   "source": [
    "a= eval(input('enter a num:'))\n",
    "print(a, type(a))"
   ]
  },
  {
   "cell_type": "code",
   "execution_count": 71,
   "id": "30240cc8",
   "metadata": {},
   "outputs": [
    {
     "name": "stdout",
     "output_type": "stream",
     "text": [
      "enter a num:\"hii\"\n",
      "hii <class 'str'>\n"
     ]
    }
   ],
   "source": [
    "a= eval(input('enter a num:'))\n",
    "print(a, type(a))"
   ]
  },
  {
   "cell_type": "markdown",
   "id": "76996cf1",
   "metadata": {},
   "source": [
    "# 18.iter"
   ]
  },
  {
   "cell_type": "code",
   "execution_count": null,
   "id": "7e96c2eb",
   "metadata": {},
   "outputs": [],
   "source": [
    "all q"
   ]
  },
  {
   "cell_type": "code",
   "execution_count": 72,
   "id": "a5f28290",
   "metadata": {},
   "outputs": [
    {
     "data": {
      "text/plain": [
       "<list_iterator at 0x20b82afb850>"
      ]
     },
     "execution_count": 72,
     "metadata": {},
     "output_type": "execute_result"
    }
   ],
   "source": [
    "numbers = [1,2,3] \n",
    "iterabale_num=iter(numbers)# iterator object\n",
    "iterabale_num"
   ]
  },
  {
   "cell_type": "code",
   "execution_count": null,
   "id": "81fbf7ff",
   "metadata": {},
   "outputs": [],
   "source": [
    "# calling itertor object"
   ]
  },
  {
   "cell_type": "code",
   "execution_count": 73,
   "id": "efd1fc66",
   "metadata": {},
   "outputs": [
    {
     "name": "stdout",
     "output_type": "stream",
     "text": [
      "1\n"
     ]
    }
   ],
   "source": [
    "print(next(iterabale_num))"
   ]
  },
  {
   "cell_type": "code",
   "execution_count": 74,
   "id": "b4dcae89",
   "metadata": {},
   "outputs": [
    {
     "name": "stdout",
     "output_type": "stream",
     "text": [
      "2\n"
     ]
    }
   ],
   "source": [
    "print(next(iterabale_num))"
   ]
  },
  {
   "cell_type": "code",
   "execution_count": 75,
   "id": "eefff16e",
   "metadata": {},
   "outputs": [
    {
     "name": "stdout",
     "output_type": "stream",
     "text": [
      "3\n"
     ]
    }
   ],
   "source": [
    "print(next(iterabale_num))"
   ]
  },
  {
   "cell_type": "code",
   "execution_count": 76,
   "id": "d23a4156",
   "metadata": {},
   "outputs": [
    {
     "name": "stdout",
     "output_type": "stream",
     "text": [
      "1. What are types od Data structure in Pandas?\n",
      "2. What is the difference between series and dataframe?\n",
      "3. What is the datatype of a single column in a dataframe?\n",
      "4. What are the features of dataframe?\n",
      "5. What are the various use of pandas?\n",
      "6. How to create a dataframe? What are the various ways of creating a\n",
      "dataframe?\n",
      "7. How to import pandas?\n",
      "8. What is the significance of columns and index parameter in\n",
      "DataFrame function of pandas?\n",
      "9. Which function is used to read a csv and excel file?\n",
      "10. Which function is used to get the shape of the dataframe?\n"
     ]
    }
   ],
   "source": [
    "a='''1. What are types od Data structure in Pandas?\n",
    "2. What is the difference between series and dataframe?\n",
    "3. What is the datatype of a single column in a dataframe?\n",
    "4. What are the features of dataframe?\n",
    "5. What are the various use of pandas?\n",
    "6. How to create a dataframe? What are the various ways of creating a\n",
    "dataframe?\n",
    "7. How to import pandas?\n",
    "8. What is the significance of columns and index parameter in\n",
    "DataFrame function of pandas?\n",
    "9. Which function is used to read a csv and excel file?\n",
    "10. Which function is used to get the shape of the dataframe?'''\n",
    "print(a)"
   ]
  },
  {
   "cell_type": "code",
   "execution_count": 77,
   "id": "fae091e4",
   "metadata": {},
   "outputs": [],
   "source": [
    "list1=a.split('?')"
   ]
  },
  {
   "cell_type": "code",
   "execution_count": 79,
   "id": "bf1c052f",
   "metadata": {},
   "outputs": [
    {
     "name": "stdout",
     "output_type": "stream",
     "text": [
      "['1. What are types od Data structure in Pandas', '\\n2. What is the difference between series and dataframe', '\\n3. What is the datatype of a single column in a dataframe', '\\n4. What are the features of dataframe', '\\n5. What are the various use of pandas', '\\n6. How to create a dataframe', ' What are the various ways of creating a\\ndataframe', '\\n7. How to import pandas', '\\n8. What is the significance of columns and index parameter in\\nDataFrame function of pandas', '\\n9. Which function is used to read a csv and excel file', '\\n10. Which function is used to get the shape of the dataframe', '']\n"
     ]
    }
   ],
   "source": [
    "print(list1)"
   ]
  },
  {
   "cell_type": "code",
   "execution_count": 90,
   "id": "613e42f0",
   "metadata": {},
   "outputs": [
    {
     "name": "stdout",
     "output_type": "stream",
     "text": [
      "1. What are types od Data structure in Pandas\n"
     ]
    }
   ],
   "source": [
    "for i in list1:\n",
    "    iterabale_num=iter(list1)\n",
    "print((next(iterabale_num)))\n"
   ]
  },
  {
   "cell_type": "code",
   "execution_count": 91,
   "id": "713575e3",
   "metadata": {},
   "outputs": [
    {
     "name": "stdout",
     "output_type": "stream",
     "text": [
      "\n",
      "2. What is the difference between series and dataframe\n"
     ]
    }
   ],
   "source": [
    "print((next(iterabale_num)))"
   ]
  },
  {
   "cell_type": "code",
   "execution_count": 92,
   "id": "a73fa752",
   "metadata": {},
   "outputs": [
    {
     "name": "stdout",
     "output_type": "stream",
     "text": [
      "\n",
      "3. What is the datatype of a single column in a dataframe\n"
     ]
    }
   ],
   "source": [
    "print((next(iterabale_num)))"
   ]
  },
  {
   "cell_type": "code",
   "execution_count": 93,
   "id": "87471dd4",
   "metadata": {},
   "outputs": [
    {
     "name": "stdout",
     "output_type": "stream",
     "text": [
      "\n",
      "4. What are the features of dataframe\n"
     ]
    }
   ],
   "source": [
    "print((next(iterabale_num)))"
   ]
  },
  {
   "cell_type": "code",
   "execution_count": 94,
   "id": "4f865b2c",
   "metadata": {},
   "outputs": [
    {
     "name": "stdout",
     "output_type": "stream",
     "text": [
      "\n",
      "5. What are the various use of pandas\n"
     ]
    }
   ],
   "source": [
    "print((next(iterabale_num)))"
   ]
  },
  {
   "cell_type": "code",
   "execution_count": 96,
   "id": "50409793",
   "metadata": {},
   "outputs": [
    {
     "name": "stdout",
     "output_type": "stream",
     "text": [
      " What are the various ways of creating a\n",
      "dataframe\n",
      "\n",
      "7. How to import pandas\n",
      "\n",
      "8. What is the significance of columns and index parameter in\n",
      "DataFrame function of pandas\n",
      "\n",
      "9. Which function is used to read a csv and excel file\n",
      "\n",
      "10. Which function is used to get the shape of the dataframe\n",
      "\n"
     ]
    }
   ],
   "source": [
    "print((next(iterabale_num)))\n",
    "print((next(iterabale_num)))\n",
    "print((next(iterabale_num)))\n",
    "print((next(iterabale_num)))\n",
    "print((next(iterabale_num)))\n",
    "print((next(iterabale_num)))\n"
   ]
  },
  {
   "cell_type": "code",
   "execution_count": 97,
   "id": "26c51f2c",
   "metadata": {},
   "outputs": [
    {
     "ename": "StopIteration",
     "evalue": "",
     "output_type": "error",
     "traceback": [
      "\u001b[1;31m---------------------------------------------------------------------------\u001b[0m",
      "\u001b[1;31mStopIteration\u001b[0m                             Traceback (most recent call last)",
      "Cell \u001b[1;32mIn[97], line 1\u001b[0m\n\u001b[1;32m----> 1\u001b[0m \u001b[38;5;28mprint\u001b[39m((\u001b[38;5;28mnext\u001b[39m(iterabale_num)))\n",
      "\u001b[1;31mStopIteration\u001b[0m: "
     ]
    }
   ],
   "source": [
    "print((next(iterabale_num)))"
   ]
  },
  {
   "cell_type": "markdown",
   "id": "b93bf0a6",
   "metadata": {},
   "source": [
    "# 19.pow()"
   ]
  },
  {
   "cell_type": "code",
   "execution_count": 98,
   "id": "bb32cd51",
   "metadata": {},
   "outputs": [
    {
     "data": {
      "text/plain": [
       "25"
      ]
     },
     "execution_count": 98,
     "metadata": {},
     "output_type": "execute_result"
    }
   ],
   "source": [
    "pow(5,2)"
   ]
  },
  {
   "cell_type": "code",
   "execution_count": 99,
   "id": "173f4bce",
   "metadata": {},
   "outputs": [
    {
     "data": {
      "text/plain": [
       "81"
      ]
     },
     "execution_count": 99,
     "metadata": {},
     "output_type": "execute_result"
    }
   ],
   "source": [
    "pow(9,2)"
   ]
  },
  {
   "cell_type": "markdown",
   "id": "27fda10e",
   "metadata": {},
   "source": [
    "# 20.round()"
   ]
  },
  {
   "cell_type": "code",
   "execution_count": 100,
   "id": "c18fb615",
   "metadata": {},
   "outputs": [
    {
     "data": {
      "text/plain": [
       "3.15"
      ]
     },
     "execution_count": 100,
     "metadata": {},
     "output_type": "execute_result"
    }
   ],
   "source": [
    "num = 3.14548\n",
    "round(num,2)"
   ]
  },
  {
   "cell_type": "code",
   "execution_count": 101,
   "id": "da3a9784",
   "metadata": {},
   "outputs": [
    {
     "data": {
      "text/plain": [
       "3.145"
      ]
     },
     "execution_count": 101,
     "metadata": {},
     "output_type": "execute_result"
    }
   ],
   "source": [
    "num = 3.14548\n",
    "round(num,3)"
   ]
  },
  {
   "cell_type": "code",
   "execution_count": 102,
   "id": "6825d096",
   "metadata": {},
   "outputs": [
    {
     "data": {
      "text/plain": [
       "4"
      ]
     },
     "execution_count": 102,
     "metadata": {},
     "output_type": "execute_result"
    }
   ],
   "source": [
    "num = 3.814548\n",
    "round(num)"
   ]
  },
  {
   "cell_type": "markdown",
   "id": "7130d7cb",
   "metadata": {},
   "source": [
    "# 21.divmod()"
   ]
  },
  {
   "cell_type": "code",
   "execution_count": 103,
   "id": "baf0890d",
   "metadata": {},
   "outputs": [
    {
     "data": {
      "text/plain": [
       "7.666666666666667"
      ]
     },
     "execution_count": 103,
     "metadata": {},
     "output_type": "execute_result"
    }
   ],
   "source": [
    "23/3"
   ]
  },
  {
   "cell_type": "code",
   "execution_count": 104,
   "id": "eadf7f29",
   "metadata": {},
   "outputs": [
    {
     "data": {
      "text/plain": [
       "7"
      ]
     },
     "execution_count": 104,
     "metadata": {},
     "output_type": "execute_result"
    }
   ],
   "source": [
    "23//3"
   ]
  },
  {
   "cell_type": "code",
   "execution_count": 105,
   "id": "97460521",
   "metadata": {},
   "outputs": [
    {
     "data": {
      "text/plain": [
       "2"
      ]
     },
     "execution_count": 105,
     "metadata": {},
     "output_type": "execute_result"
    }
   ],
   "source": [
    "23%3"
   ]
  },
  {
   "cell_type": "code",
   "execution_count": 106,
   "id": "787085e9",
   "metadata": {},
   "outputs": [
    {
     "data": {
      "text/plain": [
       "(7, 2)"
      ]
     },
     "execution_count": 106,
     "metadata": {},
     "output_type": "execute_result"
    }
   ],
   "source": [
    "divmod(23,3)"
   ]
  },
  {
   "cell_type": "code",
   "execution_count": null,
   "id": "3a54fec0",
   "metadata": {},
   "outputs": [],
   "source": []
  },
  {
   "cell_type": "code",
   "execution_count": null,
   "id": "d7d877d8",
   "metadata": {},
   "outputs": [],
   "source": []
  },
  {
   "cell_type": "code",
   "execution_count": null,
   "id": "b36e2ce8",
   "metadata": {},
   "outputs": [],
   "source": []
  },
  {
   "cell_type": "code",
   "execution_count": null,
   "id": "b061fc10",
   "metadata": {},
   "outputs": [],
   "source": []
  },
  {
   "cell_type": "code",
   "execution_count": null,
   "id": "3fdb585e",
   "metadata": {},
   "outputs": [],
   "source": []
  },
  {
   "cell_type": "code",
   "execution_count": null,
   "id": "8776c838",
   "metadata": {},
   "outputs": [],
   "source": []
  }
 ],
 "metadata": {
  "kernelspec": {
   "display_name": "Python 3 (ipykernel)",
   "language": "python",
   "name": "python3"
  },
  "language_info": {
   "codemirror_mode": {
    "name": "ipython",
    "version": 3
   },
   "file_extension": ".py",
   "mimetype": "text/x-python",
   "name": "python",
   "nbconvert_exporter": "python",
   "pygments_lexer": "ipython3",
   "version": "3.11.3"
  }
 },
 "nbformat": 4,
 "nbformat_minor": 5
}
