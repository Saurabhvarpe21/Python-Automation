{
 "cells": [
  {
   "cell_type": "markdown",
   "id": "fd7a68e7",
   "metadata": {},
   "source": [
    "# 7_3_List"
   ]
  },
  {
   "cell_type": "code",
   "execution_count": 1,
   "id": "9331d1e6",
   "metadata": {},
   "outputs": [
    {
     "ename": "ValueError",
     "evalue": "list.remove(x): x not in list",
     "output_type": "error",
     "traceback": [
      "\u001b[1;31m---------------------------------------------------------------------------\u001b[0m",
      "\u001b[1;31mValueError\u001b[0m                                Traceback (most recent call last)",
      "Cell \u001b[1;32mIn[1], line 2\u001b[0m\n\u001b[0;32m      1\u001b[0m list1 \u001b[38;5;241m=\u001b[39m [\u001b[38;5;241m10\u001b[39m,\u001b[38;5;241m20\u001b[39m,\u001b[38;5;241m30\u001b[39m,\u001b[38;5;241m40\u001b[39m,\u001b[38;5;241m10\u001b[39m,\u001b[38;5;241m20\u001b[39m,\u001b[38;5;241m10\u001b[39m]\n\u001b[1;32m----> 2\u001b[0m \u001b[43mlist1\u001b[49m\u001b[38;5;241;43m.\u001b[39;49m\u001b[43mremove\u001b[49m\u001b[43m(\u001b[49m\u001b[38;5;124;43m\"\u001b[39;49m\u001b[38;5;124;43mpython\u001b[39;49m\u001b[38;5;124;43m\"\u001b[39;49m\u001b[43m)\u001b[49m\n\u001b[0;32m      3\u001b[0m \u001b[38;5;28mprint\u001b[39m(list1)\n",
      "\u001b[1;31mValueError\u001b[0m: list.remove(x): x not in list"
     ]
    }
   ],
   "source": [
    "list1 = [10,20,30,40,10,20,10]\n",
    "list1.remove(\"python\")\n",
    "print(list1)"
   ]
  },
  {
   "cell_type": "code",
   "execution_count": 2,
   "id": "66968b90",
   "metadata": {},
   "outputs": [
    {
     "name": "stdout",
     "output_type": "stream",
     "text": [
      "[20, 30, 40, 10, 20, 10]\n"
     ]
    }
   ],
   "source": [
    "list1 = [10,20,30,40,10,20,10]\n",
    "list1.remove(10)\n",
    "print(list1)"
   ]
  },
  {
   "cell_type": "markdown",
   "id": "22b510db",
   "metadata": {},
   "source": [
    "# 2. pop()"
   ]
  },
  {
   "cell_type": "code",
   "execution_count": null,
   "id": "21680919",
   "metadata": {},
   "outputs": [],
   "source": [
    "list1.pop(index)\n",
    "list1.pop(-1)>> default"
   ]
  },
  {
   "cell_type": "code",
   "execution_count": 4,
   "id": "3c5bc9fc",
   "metadata": {},
   "outputs": [
    {
     "data": {
      "text/plain": [
       "[10, 20, 30, 40, 10, 20]"
      ]
     },
     "execution_count": 4,
     "metadata": {},
     "output_type": "execute_result"
    }
   ],
   "source": [
    "list1 = [10,20,30,40,10,20,10]\n",
    "list1.pop()\n",
    "list1"
   ]
  },
  {
   "cell_type": "code",
   "execution_count": 5,
   "id": "1de95edd",
   "metadata": {},
   "outputs": [
    {
     "name": "stdout",
     "output_type": "stream",
     "text": [
      "['Pune', 'Mumbai', 'Nagpur', 'Bangalore', 'Chennai']\n"
     ]
    }
   ],
   "source": [
    "city_names1 = ['Pune', 'Mumbai', 'Nagpur', 'Bangalore', 'Chennai', 'Hyderabad']\n",
    "city_names1.pop()#-1\n",
    "print(city_names1)"
   ]
  },
  {
   "cell_type": "code",
   "execution_count": null,
   "id": "3bb666ef",
   "metadata": {},
   "outputs": [],
   "source": [
    "city_names1 = ['Pune', 'Mumbai', 'Nagpur', 'Bangalore', 'Chennai', 'Hyderabad']\n",
    "city_names1.pop()#-1\n",
    "print(city_names1)"
   ]
  },
  {
   "cell_type": "code",
   "execution_count": 9,
   "id": "c5f5c17d",
   "metadata": {},
   "outputs": [
    {
     "data": {
      "text/plain": [
       "'Pune'"
      ]
     },
     "execution_count": 9,
     "metadata": {},
     "output_type": "execute_result"
    }
   ],
   "source": [
    "city_names1[0]"
   ]
  },
  {
   "cell_type": "code",
   "execution_count": 11,
   "id": "a2dac35c",
   "metadata": {},
   "outputs": [
    {
     "name": "stdout",
     "output_type": "stream",
     "text": [
      "orignal:: ['Pune', 'Mumbai', 'Nagpur', 'Bangalore', 'Chennai', 'Hyderabad']\n",
      "['Mumbai', 'Nagpur', 'Bangalore', 'Chennai', 'Hyderabad']\n"
     ]
    }
   ],
   "source": [
    "city_names1 = ['Pune', 'Mumbai', 'Nagpur', 'Bangalore', 'Chennai', 'Hyderabad']\n",
    "print(\"orignal::\",city_names1)\n",
    "\n",
    "city_names1.pop(0)#\n",
    "print(city_names1)"
   ]
  },
  {
   "cell_type": "code",
   "execution_count": 12,
   "id": "4e62089b",
   "metadata": {},
   "outputs": [
    {
     "name": "stdout",
     "output_type": "stream",
     "text": [
      "orignal:: ['Pune', 'Mumbai', 'Nagpur', 'Bangalore', 'Chennai', 'Hyderabad']\n",
      "['Pune', 'Mumbai', 'Nagpur', 'Chennai', 'Hyderabad']\n"
     ]
    }
   ],
   "source": [
    "city_names1 = ['Pune', 'Mumbai', 'Nagpur', 'Bangalore', 'Chennai', 'Hyderabad']\n",
    "print(\"orignal::\",city_names1)\n",
    "\n",
    "city_names1.pop(3)#\n",
    "print(city_names1)"
   ]
  },
  {
   "cell_type": "code",
   "execution_count": 13,
   "id": "336ce415",
   "metadata": {},
   "outputs": [
    {
     "data": {
      "text/plain": [
       "'Chennai'"
      ]
     },
     "execution_count": 13,
     "metadata": {},
     "output_type": "execute_result"
    }
   ],
   "source": [
    "city_names1[3]"
   ]
  },
  {
   "cell_type": "code",
   "execution_count": 14,
   "id": "a51f2731",
   "metadata": {},
   "outputs": [
    {
     "name": "stdout",
     "output_type": "stream",
     "text": [
      "orignal:: ['Pune', 'Mumbai', 'Nagpur', 'Bangalore', 'Chennai', 'Hyderabad']\n",
      "['Pune', 'Mumbai', 'Nagpur', 'Chennai', 'Hyderabad']\n"
     ]
    }
   ],
   "source": [
    "city_names1 = ['Pune', 'Mumbai', 'Nagpur', 'Bangalore', 'Chennai', 'Hyderabad']\n",
    "print(\"orignal::\",city_names1)\n",
    "\n",
    "city_names1.remove('Bangalore')#\n",
    "print(city_names1)"
   ]
  },
  {
   "cell_type": "markdown",
   "id": "5b7dc824",
   "metadata": {},
   "source": [
    "# 3. Clear()"
   ]
  },
  {
   "cell_type": "code",
   "execution_count": 15,
   "id": "a5641dc4",
   "metadata": {},
   "outputs": [
    {
     "data": {
      "text/plain": [
       "<function list.clear()>"
      ]
     },
     "execution_count": 15,
     "metadata": {},
     "output_type": "execute_result"
    }
   ],
   "source": [
    "list1 = [10,20,30,40,50]\n",
    "list1.clear"
   ]
  },
  {
   "cell_type": "code",
   "execution_count": 16,
   "id": "df067504",
   "metadata": {},
   "outputs": [],
   "source": [
    "list1 = [10,20,30,40,50]\n",
    "list1.clear()"
   ]
  },
  {
   "cell_type": "code",
   "execution_count": 17,
   "id": "c9dcc18e",
   "metadata": {},
   "outputs": [
    {
     "name": "stdout",
     "output_type": "stream",
     "text": [
      "[]\n"
     ]
    }
   ],
   "source": [
    "print(list1)"
   ]
  },
  {
   "cell_type": "code",
   "execution_count": 18,
   "id": "8051197b",
   "metadata": {},
   "outputs": [
    {
     "name": "stdout",
     "output_type": "stream",
     "text": [
      "[10, 20, 30, 40, 50]\n",
      "[]\n"
     ]
    }
   ],
   "source": [
    "list1 = [10,20,30,40,50]\n",
    "print(list1)\n",
    "list1.clear()\n",
    "print(list1)"
   ]
  },
  {
   "cell_type": "markdown",
   "id": "61ae7604",
   "metadata": {},
   "source": [
    "# 4. del keyword"
   ]
  },
  {
   "cell_type": "code",
   "execution_count": null,
   "id": "87ddf497",
   "metadata": {},
   "outputs": [],
   "source": [
    "del"
   ]
  },
  {
   "cell_type": "code",
   "execution_count": 20,
   "id": "90a81bb1",
   "metadata": {},
   "outputs": [
    {
     "name": "stdout",
     "output_type": "stream",
     "text": [
      "[10, 20, 30, 40, 50]\n"
     ]
    }
   ],
   "source": [
    "list1 = [10,20,30,40,50]\n",
    "print(list1)\n",
    "del list1"
   ]
  },
  {
   "cell_type": "code",
   "execution_count": 21,
   "id": "9e1736c3",
   "metadata": {},
   "outputs": [
    {
     "ename": "NameError",
     "evalue": "name 'list1' is not defined",
     "output_type": "error",
     "traceback": [
      "\u001b[1;31m---------------------------------------------------------------------------\u001b[0m",
      "\u001b[1;31mNameError\u001b[0m                                 Traceback (most recent call last)",
      "Cell \u001b[1;32mIn[21], line 1\u001b[0m\n\u001b[1;32m----> 1\u001b[0m \u001b[38;5;28mprint\u001b[39m(\u001b[43mlist1\u001b[49m)\n",
      "\u001b[1;31mNameError\u001b[0m: name 'list1' is not defined"
     ]
    }
   ],
   "source": [
    "print(list1)"
   ]
  },
  {
   "cell_type": "code",
   "execution_count": 22,
   "id": "ed28694d",
   "metadata": {},
   "outputs": [],
   "source": [
    "a = [1,2,3,4,5]\n",
    "del a"
   ]
  },
  {
   "cell_type": "code",
   "execution_count": 23,
   "id": "e581e1e8",
   "metadata": {},
   "outputs": [
    {
     "ename": "NameError",
     "evalue": "name 'a' is not defined",
     "output_type": "error",
     "traceback": [
      "\u001b[1;31m---------------------------------------------------------------------------\u001b[0m",
      "\u001b[1;31mNameError\u001b[0m                                 Traceback (most recent call last)",
      "Cell \u001b[1;32mIn[23], line 1\u001b[0m\n\u001b[1;32m----> 1\u001b[0m \u001b[43ma\u001b[49m\n",
      "\u001b[1;31mNameError\u001b[0m: name 'a' is not defined"
     ]
    }
   ],
   "source": [
    "a"
   ]
  },
  {
   "cell_type": "code",
   "execution_count": 24,
   "id": "4b61078b",
   "metadata": {},
   "outputs": [],
   "source": [
    "a = [1,2,3,4,5]\n",
    "a.remove(1)"
   ]
  },
  {
   "cell_type": "code",
   "execution_count": 25,
   "id": "5d76803e",
   "metadata": {},
   "outputs": [
    {
     "data": {
      "text/plain": [
       "[2, 3, 4, 5]"
      ]
     },
     "execution_count": 25,
     "metadata": {},
     "output_type": "execute_result"
    }
   ],
   "source": [
    "a"
   ]
  },
  {
   "cell_type": "code",
   "execution_count": 26,
   "id": "c40029d9",
   "metadata": {},
   "outputs": [
    {
     "data": {
      "text/plain": [
       "2"
      ]
     },
     "execution_count": 26,
     "metadata": {},
     "output_type": "execute_result"
    }
   ],
   "source": [
    "a = [1,2,3,4,5]\n",
    "a.pop(1)"
   ]
  },
  {
   "cell_type": "code",
   "execution_count": 27,
   "id": "6ed2a25d",
   "metadata": {},
   "outputs": [
    {
     "data": {
      "text/plain": [
       "[1, 3, 4, 5]"
      ]
     },
     "execution_count": 27,
     "metadata": {},
     "output_type": "execute_result"
    }
   ],
   "source": [
    "a"
   ]
  },
  {
   "cell_type": "code",
   "execution_count": 28,
   "id": "fea2bd85",
   "metadata": {},
   "outputs": [],
   "source": [
    "a = [1,2,3,4,5]\n",
    "del a"
   ]
  },
  {
   "cell_type": "code",
   "execution_count": 29,
   "id": "85426c57",
   "metadata": {},
   "outputs": [
    {
     "ename": "NameError",
     "evalue": "name 'a' is not defined",
     "output_type": "error",
     "traceback": [
      "\u001b[1;31m---------------------------------------------------------------------------\u001b[0m",
      "\u001b[1;31mNameError\u001b[0m                                 Traceback (most recent call last)",
      "Cell \u001b[1;32mIn[29], line 1\u001b[0m\n\u001b[1;32m----> 1\u001b[0m \u001b[43ma\u001b[49m\n",
      "\u001b[1;31mNameError\u001b[0m: name 'a' is not defined"
     ]
    }
   ],
   "source": [
    "a"
   ]
  },
  {
   "cell_type": "markdown",
   "id": "f57a0ff7",
   "metadata": {},
   "source": [
    "# Sorting"
   ]
  },
  {
   "cell_type": "markdown",
   "id": "e0245db5",
   "metadata": {},
   "source": [
    "# 1. sort()"
   ]
  },
  {
   "cell_type": "code",
   "execution_count": 30,
   "id": "4988c360",
   "metadata": {},
   "outputs": [],
   "source": [
    "list1 = [100,20,300,40,80]\n",
    "list1.sort()         #acen"
   ]
  },
  {
   "cell_type": "code",
   "execution_count": 31,
   "id": "38da4ea4",
   "metadata": {},
   "outputs": [
    {
     "data": {
      "text/plain": [
       "[20, 40, 80, 100, 300]"
      ]
     },
     "execution_count": 31,
     "metadata": {},
     "output_type": "execute_result"
    }
   ],
   "source": [
    "list1"
   ]
  },
  {
   "cell_type": "code",
   "execution_count": 32,
   "id": "53a87b2c",
   "metadata": {},
   "outputs": [
    {
     "data": {
      "text/plain": [
       "[1, 2, 3, 4, 4, 7, 9, 9]"
      ]
     },
     "execution_count": 32,
     "metadata": {},
     "output_type": "execute_result"
    }
   ],
   "source": [
    "list1 = [9,4,1,7,2,3,9,4]\n",
    "list1.sort()\n",
    "list1"
   ]
  },
  {
   "cell_type": "code",
   "execution_count": 33,
   "id": "8efb2669",
   "metadata": {},
   "outputs": [
    {
     "data": {
      "text/plain": [
       "['Bangalore', 'Chennai', 'Hyderabad', 'Mumbai', 'Nagpur', 'Pune']"
      ]
     },
     "execution_count": 33,
     "metadata": {},
     "output_type": "execute_result"
    }
   ],
   "source": [
    "list2 = ['Pune', 'Mumbai', 'Nagpur', 'Bangalore', 'Chennai', 'Hyderabad']\n",
    "list2.sort()\n",
    "list2"
   ]
  },
  {
   "cell_type": "code",
   "execution_count": 34,
   "id": "34b77dd1",
   "metadata": {},
   "outputs": [
    {
     "data": {
      "text/plain": [
       "['Bangalore', 'Hyderabad', 'Mumbai', 'Pune', 'Zurich', 'chennai', 'nagpur']"
      ]
     },
     "execution_count": 34,
     "metadata": {},
     "output_type": "execute_result"
    }
   ],
   "source": [
    "list2 = ['Pune', 'Mumbai', 'nagpur', 'Bangalore', 'chennai', 'Hyderabad','Zurich']\n",
    "list2.sort()\n",
    "list2"
   ]
  },
  {
   "cell_type": "code",
   "execution_count": null,
   "id": "385769a4",
   "metadata": {},
   "outputs": [],
   "source": [
    "A"
   ]
  },
  {
   "cell_type": "code",
   "execution_count": 35,
   "id": "07a51aaa",
   "metadata": {},
   "outputs": [
    {
     "data": {
      "text/plain": [
       "65"
      ]
     },
     "execution_count": 35,
     "metadata": {},
     "output_type": "execute_result"
    }
   ],
   "source": [
    "ord('A')"
   ]
  },
  {
   "cell_type": "code",
   "execution_count": 36,
   "id": "e2f50698",
   "metadata": {},
   "outputs": [
    {
     "data": {
      "text/plain": [
       "90"
      ]
     },
     "execution_count": 36,
     "metadata": {},
     "output_type": "execute_result"
    }
   ],
   "source": [
    "ord('Z')"
   ]
  },
  {
   "cell_type": "code",
   "execution_count": 37,
   "id": "2a0c714e",
   "metadata": {},
   "outputs": [
    {
     "data": {
      "text/plain": [
       "25"
      ]
     },
     "execution_count": 37,
     "metadata": {},
     "output_type": "execute_result"
    }
   ],
   "source": [
    "90-65"
   ]
  },
  {
   "cell_type": "code",
   "execution_count": 38,
   "id": "90ee0b8c",
   "metadata": {},
   "outputs": [
    {
     "data": {
      "text/plain": [
       "'A'"
      ]
     },
     "execution_count": 38,
     "metadata": {},
     "output_type": "execute_result"
    }
   ],
   "source": [
    "chr(65)"
   ]
  },
  {
   "cell_type": "code",
   "execution_count": 39,
   "id": "10edcc35",
   "metadata": {},
   "outputs": [
    {
     "data": {
      "text/plain": [
       "[1, 2, 3, 4, 4, 7, 9, 9]"
      ]
     },
     "execution_count": 39,
     "metadata": {},
     "output_type": "execute_result"
    }
   ],
   "source": [
    "list1 = [9,4,1,7,2,3,9,4]\n",
    "list1.sort()\n",
    "list1"
   ]
  },
  {
   "cell_type": "code",
   "execution_count": 40,
   "id": "9232632a",
   "metadata": {},
   "outputs": [
    {
     "data": {
      "text/plain": [
       "[9, 9, 7, 4, 4, 3, 2, 1]"
      ]
     },
     "execution_count": 40,
     "metadata": {},
     "output_type": "execute_result"
    }
   ],
   "source": [
    "list1 = [9,4,1,7,2,3,9,4]\n",
    "list1.sort(reverse=True)\n",
    "list1"
   ]
  },
  {
   "cell_type": "code",
   "execution_count": 41,
   "id": "e50db92a",
   "metadata": {},
   "outputs": [
    {
     "data": {
      "text/plain": [
       "[9, 8, 7, 6, 5, 4, 3, 2, 1]"
      ]
     },
     "execution_count": 41,
     "metadata": {},
     "output_type": "execute_result"
    }
   ],
   "source": [
    "list1 = [1,2,3,4,5,6,7,8,9]\n",
    "list1.sort(reverse=True)\n",
    "list1"
   ]
  },
  {
   "cell_type": "markdown",
   "id": "7ec67960",
   "metadata": {},
   "source": [
    "# Ascending Order"
   ]
  },
  {
   "cell_type": "code",
   "execution_count": 44,
   "id": "357adfc2",
   "metadata": {},
   "outputs": [
    {
     "data": {
      "text/plain": [
       "[1, 2, 3, 4, 5, 6, 7, 8, 9, 200]"
      ]
     },
     "execution_count": 44,
     "metadata": {},
     "output_type": "execute_result"
    }
   ],
   "source": [
    "list1 = [200,1,2,3,4,5,6,7,8,9]\n",
    "list1.sort(reverse=False)\n",
    "list1"
   ]
  },
  {
   "cell_type": "markdown",
   "id": "ba76325e",
   "metadata": {},
   "source": [
    "# Descending Order"
   ]
  },
  {
   "cell_type": "code",
   "execution_count": 45,
   "id": "383a369e",
   "metadata": {},
   "outputs": [
    {
     "data": {
      "text/plain": [
       "[200, 9, 8, 7, 6, 5, 4, 3, 2, 1]"
      ]
     },
     "execution_count": 45,
     "metadata": {},
     "output_type": "execute_result"
    }
   ],
   "source": [
    "list1 = [200,1,2,3,4,5,6,7,8,9]\n",
    "list1.sort(reverse=True)\n",
    "list1"
   ]
  },
  {
   "cell_type": "code",
   "execution_count": 46,
   "id": "a785de74",
   "metadata": {},
   "outputs": [
    {
     "ename": "TypeError",
     "evalue": "'<' not supported between instances of 'int' and 'str'",
     "output_type": "error",
     "traceback": [
      "\u001b[1;31m---------------------------------------------------------------------------\u001b[0m",
      "\u001b[1;31mTypeError\u001b[0m                                 Traceback (most recent call last)",
      "Cell \u001b[1;32mIn[46], line 2\u001b[0m\n\u001b[0;32m      1\u001b[0m list1 \u001b[38;5;241m=\u001b[39m [\u001b[38;5;241m200\u001b[39m,\u001b[38;5;241m1\u001b[39m,\u001b[38;5;241m2\u001b[39m,\u001b[38;5;241m3\u001b[39m,\u001b[38;5;241m4\u001b[39m,\u001b[38;5;241m5\u001b[39m,\u001b[38;5;241m6\u001b[39m,\u001b[38;5;241m7\u001b[39m,\u001b[38;5;241m8\u001b[39m,\u001b[38;5;241m9\u001b[39m,\u001b[38;5;124m'\u001b[39m\u001b[38;5;124mA\u001b[39m\u001b[38;5;124m'\u001b[39m]\n\u001b[1;32m----> 2\u001b[0m \u001b[43mlist1\u001b[49m\u001b[38;5;241;43m.\u001b[39;49m\u001b[43msort\u001b[49m\u001b[43m(\u001b[49m\u001b[43mreverse\u001b[49m\u001b[38;5;241;43m=\u001b[39;49m\u001b[38;5;28;43;01mTrue\u001b[39;49;00m\u001b[43m)\u001b[49m\n\u001b[0;32m      3\u001b[0m \u001b[38;5;28mprint\u001b[39m(list1)\n",
      "\u001b[1;31mTypeError\u001b[0m: '<' not supported between instances of 'int' and 'str'"
     ]
    }
   ],
   "source": [
    "list1 = [200,1,2,3,4,5,6,7,8,9,'A']\n",
    "list1.sort(reverse=True)\n",
    "print(list1)"
   ]
  },
  {
   "cell_type": "code",
   "execution_count": 47,
   "id": "f6082150",
   "metadata": {},
   "outputs": [
    {
     "name": "stdout",
     "output_type": "stream",
     "text": [
      "[200, 9, 8, 7, 6, 5, 4, 3, 2.3, 2, 1]\n"
     ]
    }
   ],
   "source": [
    "list1 = [200,1,2,3,4,5,6,7,8,9,2.3]\n",
    "list1.sort(reverse=True)\n",
    "print(list1)"
   ]
  },
  {
   "cell_type": "markdown",
   "id": "f0a52f33",
   "metadata": {},
   "source": [
    "# Sorted()"
   ]
  },
  {
   "cell_type": "code",
   "execution_count": 49,
   "id": "e5393c2c",
   "metadata": {},
   "outputs": [
    {
     "name": "stdout",
     "output_type": "stream",
     "text": [
      "[1, 2, 3, 4, 4, 7, 9, 9, 10.5]\n"
     ]
    }
   ],
   "source": [
    "list1 = [9,4,1,7,2,3,9,4,10.5]\n",
    "list1.sort()\n",
    "print(list1)"
   ]
  },
  {
   "cell_type": "code",
   "execution_count": 50,
   "id": "5c3f83d2",
   "metadata": {},
   "outputs": [
    {
     "data": {
      "text/plain": [
       "[1, 2, 3, 4, 4, 7, 9, 9, 10.5]"
      ]
     },
     "execution_count": 50,
     "metadata": {},
     "output_type": "execute_result"
    }
   ],
   "source": [
    "list1 = [9,4,1,7,2,3,9,4,10.5]\n",
    "sorted(list1)"
   ]
  },
  {
   "cell_type": "code",
   "execution_count": 51,
   "id": "98fd6e69",
   "metadata": {},
   "outputs": [
    {
     "data": {
      "text/plain": [
       "[9, 4, 1, 7, 2, 3, 9, 4, 10.5]"
      ]
     },
     "execution_count": 51,
     "metadata": {},
     "output_type": "execute_result"
    }
   ],
   "source": [
    "list1"
   ]
  },
  {
   "cell_type": "code",
   "execution_count": 52,
   "id": "138cf63e",
   "metadata": {},
   "outputs": [],
   "source": [
    "a = [3,2,1] #sort ---ori list ---change\n",
    "a.sort()"
   ]
  },
  {
   "cell_type": "code",
   "execution_count": 53,
   "id": "088c8c0c",
   "metadata": {},
   "outputs": [
    {
     "name": "stdout",
     "output_type": "stream",
     "text": [
      "[1, 2, 3]\n"
     ]
    }
   ],
   "source": [
    "print(a)"
   ]
  },
  {
   "cell_type": "code",
   "execution_count": 54,
   "id": "5e68adf8",
   "metadata": {},
   "outputs": [
    {
     "data": {
      "text/plain": [
       "[1, 2, 3]"
      ]
     },
     "execution_count": 54,
     "metadata": {},
     "output_type": "execute_result"
    }
   ],
   "source": [
    "a"
   ]
  },
  {
   "cell_type": "code",
   "execution_count": 55,
   "id": "03fd6bcc",
   "metadata": {},
   "outputs": [
    {
     "data": {
      "text/plain": [
       "[1, 2, 3]"
      ]
     },
     "execution_count": 55,
     "metadata": {},
     "output_type": "execute_result"
    }
   ],
   "source": [
    "b = [3,2,1]\n",
    "sorted(b)"
   ]
  },
  {
   "cell_type": "code",
   "execution_count": 56,
   "id": "125716b3",
   "metadata": {},
   "outputs": [
    {
     "name": "stdout",
     "output_type": "stream",
     "text": [
      "[3, 2, 1]\n"
     ]
    }
   ],
   "source": [
    "print(b)"
   ]
  },
  {
   "cell_type": "code",
   "execution_count": 57,
   "id": "3d840131",
   "metadata": {},
   "outputs": [],
   "source": [
    "list2 = ['Pune', 'Mumbai', 'Nagpur', 'Bangalore', 'Chennai', 'Hyderabad']\n",
    "list2.sort()"
   ]
  },
  {
   "cell_type": "code",
   "execution_count": 58,
   "id": "ccc03da9",
   "metadata": {},
   "outputs": [
    {
     "data": {
      "text/plain": [
       "['Bangalore', 'Chennai', 'Hyderabad', 'Mumbai', 'Nagpur', 'Pune']"
      ]
     },
     "execution_count": 58,
     "metadata": {},
     "output_type": "execute_result"
    }
   ],
   "source": [
    "list2"
   ]
  },
  {
   "cell_type": "code",
   "execution_count": 59,
   "id": "6b48eb40",
   "metadata": {},
   "outputs": [
    {
     "data": {
      "text/plain": [
       "['Bangalore', 'Chennai', 'Hyderabad', 'Mumbai', 'Nagpur', 'Pune']"
      ]
     },
     "execution_count": 59,
     "metadata": {},
     "output_type": "execute_result"
    }
   ],
   "source": [
    "list2 = ['Pune', 'Mumbai', 'Nagpur', 'Bangalore', 'Chennai', 'Hyderabad']\n",
    "sorted(list2)"
   ]
  },
  {
   "cell_type": "code",
   "execution_count": 60,
   "id": "9910cebb",
   "metadata": {},
   "outputs": [
    {
     "name": "stdout",
     "output_type": "stream",
     "text": [
      "['Pune', 'Mumbai', 'Nagpur', 'Bangalore', 'Chennai', 'Hyderabad']\n"
     ]
    }
   ],
   "source": [
    "print(list2)"
   ]
  },
  {
   "cell_type": "code",
   "execution_count": 64,
   "id": "6685c4ff",
   "metadata": {},
   "outputs": [
    {
     "name": "stdout",
     "output_type": "stream",
     "text": [
      "[1, 2, 3]\n"
     ]
    }
   ],
   "source": [
    "b = [3,2,1]\n",
    "c=sorted(b)\n",
    "print(c)"
   ]
  },
  {
   "cell_type": "code",
   "execution_count": 62,
   "id": "45de41d5",
   "metadata": {},
   "outputs": [
    {
     "name": "stdout",
     "output_type": "stream",
     "text": [
      "[3, 2, 1]\n"
     ]
    }
   ],
   "source": [
    "print(b)"
   ]
  },
  {
   "cell_type": "code",
   "execution_count": 65,
   "id": "e0a7ba90",
   "metadata": {},
   "outputs": [
    {
     "data": {
      "text/plain": [
       "[1, 2, 3]"
      ]
     },
     "execution_count": 65,
     "metadata": {},
     "output_type": "execute_result"
    }
   ],
   "source": [
    "c"
   ]
  },
  {
   "cell_type": "code",
   "execution_count": 66,
   "id": "f65df6fd",
   "metadata": {},
   "outputs": [
    {
     "data": {
      "text/plain": [
       "[3, 2, 1]"
      ]
     },
     "execution_count": 66,
     "metadata": {},
     "output_type": "execute_result"
    }
   ],
   "source": [
    "b"
   ]
  },
  {
   "cell_type": "code",
   "execution_count": 68,
   "id": "db373273",
   "metadata": {},
   "outputs": [
    {
     "name": "stdout",
     "output_type": "stream",
     "text": [
      "(3, 2, 1)\n",
      "[1, 2, 3]\n"
     ]
    }
   ],
   "source": [
    "x = (3,2,1)\n",
    "y =sorted(x)\n",
    "print(x)\n",
    "print(y)"
   ]
  },
  {
   "cell_type": "code",
   "execution_count": 69,
   "id": "ce608517",
   "metadata": {},
   "outputs": [
    {
     "name": "stdout",
     "output_type": "stream",
     "text": [
      "(3, 2, 1)\n",
      "[1, 2, 3]\n"
     ]
    }
   ],
   "source": [
    "x = (3,2,1)\n",
    "y =sorted(x)\n",
    "print(x)\n",
    "print(y)"
   ]
  },
  {
   "cell_type": "code",
   "execution_count": 70,
   "id": "bf769b37",
   "metadata": {},
   "outputs": [
    {
     "name": "stdout",
     "output_type": "stream",
     "text": [
      "(3, 2, 1)\n",
      "[3, 2, 1]\n"
     ]
    }
   ],
   "source": [
    "x = (3,2,1)\n",
    "y =sorted(x,reverse=True)\n",
    "print(x)\n",
    "print(y)"
   ]
  },
  {
   "cell_type": "markdown",
   "id": "e56bca9f",
   "metadata": {},
   "source": [
    "# Reverse()"
   ]
  },
  {
   "cell_type": "code",
   "execution_count": 71,
   "id": "2f509017",
   "metadata": {},
   "outputs": [
    {
     "data": {
      "text/plain": [
       "[8, 9, 10, 7, 5, 2, 4]"
      ]
     },
     "execution_count": 71,
     "metadata": {},
     "output_type": "execute_result"
    }
   ],
   "source": [
    "list1 = [4 ,2,5,7,10,9,8]\n",
    "list1[::-1]"
   ]
  },
  {
   "cell_type": "code",
   "execution_count": 72,
   "id": "b6520825",
   "metadata": {},
   "outputs": [
    {
     "data": {
      "text/plain": [
       "'nohtyP'"
      ]
     },
     "execution_count": 72,
     "metadata": {},
     "output_type": "execute_result"
    }
   ],
   "source": [
    "a=\"Python\"\n",
    "a[::-1]"
   ]
  },
  {
   "cell_type": "code",
   "execution_count": 73,
   "id": "73692c00",
   "metadata": {},
   "outputs": [
    {
     "data": {
      "text/plain": [
       "[8, 9, 10, 7, 5, 2, 4]"
      ]
     },
     "execution_count": 73,
     "metadata": {},
     "output_type": "execute_result"
    }
   ],
   "source": [
    "list1 = [4 ,2,5,7,10,9,8]\n",
    "list1.reverse()\n",
    "list1"
   ]
  },
  {
   "cell_type": "markdown",
   "id": "f9a6f0c0",
   "metadata": {},
   "source": [
    "# Reversed()"
   ]
  },
  {
   "cell_type": "code",
   "execution_count": 74,
   "id": "adc52e02",
   "metadata": {},
   "outputs": [
    {
     "data": {
      "text/plain": [
       "<list_reverseiterator at 0x290536920a0>"
      ]
     },
     "execution_count": 74,
     "metadata": {},
     "output_type": "execute_result"
    }
   ],
   "source": [
    "list1 = [4 ,2,5,7,10,9,8]\n",
    "reversed(list1)  ## packed object"
   ]
  },
  {
   "cell_type": "code",
   "execution_count": 76,
   "id": "b96e89be",
   "metadata": {},
   "outputs": [
    {
     "data": {
      "text/plain": [
       "[8, 9, 10, 7, 5, 2, 4]"
      ]
     },
     "execution_count": 76,
     "metadata": {},
     "output_type": "execute_result"
    }
   ],
   "source": [
    "new_var=list(reversed(list1) ) #unpack with list function\n",
    "new_var"
   ]
  },
  {
   "cell_type": "code",
   "execution_count": 77,
   "id": "4c692dcd",
   "metadata": {},
   "outputs": [
    {
     "data": {
      "text/plain": [
       "[4, 2, 5, 7, 10, 9, 8]"
      ]
     },
     "execution_count": 77,
     "metadata": {},
     "output_type": "execute_result"
    }
   ],
   "source": [
    "list1"
   ]
  },
  {
   "cell_type": "code",
   "execution_count": 78,
   "id": "af50652d",
   "metadata": {},
   "outputs": [
    {
     "data": {
      "text/plain": [
       "(8, 9, 10, 7, 5, 2, 4)"
      ]
     },
     "execution_count": 78,
     "metadata": {},
     "output_type": "execute_result"
    }
   ],
   "source": [
    "new_var=tuple(reversed(list1) ) #unpack with list function\n",
    "new_var"
   ]
  },
  {
   "cell_type": "code",
   "execution_count": 80,
   "id": "5afdf979",
   "metadata": {},
   "outputs": [
    {
     "data": {
      "text/plain": [
       "tuple"
      ]
     },
     "execution_count": 80,
     "metadata": {},
     "output_type": "execute_result"
    }
   ],
   "source": [
    "type(new_var)"
   ]
  },
  {
   "cell_type": "code",
   "execution_count": 81,
   "id": "6958869b",
   "metadata": {},
   "outputs": [
    {
     "name": "stdout",
     "output_type": "stream",
     "text": [
      "[1, 2, 3]\n"
     ]
    }
   ],
   "source": [
    "a = [3,2,1]\n",
    "a.reverse()\n",
    "print(a)"
   ]
  },
  {
   "cell_type": "code",
   "execution_count": 82,
   "id": "e982ddf4",
   "metadata": {},
   "outputs": [
    {
     "data": {
      "text/plain": [
       "<list_reverseiterator at 0x2905153f550>"
      ]
     },
     "execution_count": 82,
     "metadata": {},
     "output_type": "execute_result"
    }
   ],
   "source": [
    "a = [3,2,1]\n",
    "reversed(a)"
   ]
  },
  {
   "cell_type": "code",
   "execution_count": 85,
   "id": "abb97e6c",
   "metadata": {},
   "outputs": [],
   "source": [
    "n=list(reversed(a))"
   ]
  },
  {
   "cell_type": "code",
   "execution_count": 84,
   "id": "eea8a97b",
   "metadata": {},
   "outputs": [
    {
     "data": {
      "text/plain": [
       "[3, 2, 1]"
      ]
     },
     "execution_count": 84,
     "metadata": {},
     "output_type": "execute_result"
    }
   ],
   "source": [
    "a"
   ]
  },
  {
   "cell_type": "code",
   "execution_count": 86,
   "id": "aa7875cd",
   "metadata": {},
   "outputs": [
    {
     "data": {
      "text/plain": [
       "[1, 2, 3]"
      ]
     },
     "execution_count": 86,
     "metadata": {},
     "output_type": "execute_result"
    }
   ],
   "source": [
    "n"
   ]
  },
  {
   "cell_type": "markdown",
   "id": "08b5d6b6",
   "metadata": {},
   "source": [
    "# index()"
   ]
  },
  {
   "cell_type": "code",
   "execution_count": 87,
   "id": "6c09ab40",
   "metadata": {},
   "outputs": [
    {
     "data": {
      "text/plain": [
       "2"
      ]
     },
     "execution_count": 87,
     "metadata": {},
     "output_type": "execute_result"
    }
   ],
   "source": [
    "string = 'python'\n",
    "string.index('t')"
   ]
  },
  {
   "cell_type": "code",
   "execution_count": 88,
   "id": "85027904",
   "metadata": {},
   "outputs": [
    {
     "ename": "ValueError",
     "evalue": "substring not found",
     "output_type": "error",
     "traceback": [
      "\u001b[1;31m---------------------------------------------------------------------------\u001b[0m",
      "\u001b[1;31mValueError\u001b[0m                                Traceback (most recent call last)",
      "Cell \u001b[1;32mIn[88], line 2\u001b[0m\n\u001b[0;32m      1\u001b[0m string \u001b[38;5;241m=\u001b[39m \u001b[38;5;124m'\u001b[39m\u001b[38;5;124mpython\u001b[39m\u001b[38;5;124m'\u001b[39m\n\u001b[1;32m----> 2\u001b[0m \u001b[43mstring\u001b[49m\u001b[38;5;241;43m.\u001b[39;49m\u001b[43mindex\u001b[49m\u001b[43m(\u001b[49m\u001b[38;5;124;43m'\u001b[39;49m\u001b[38;5;124;43mT\u001b[39;49m\u001b[38;5;124;43m'\u001b[39;49m\u001b[43m)\u001b[49m\n",
      "\u001b[1;31mValueError\u001b[0m: substring not found"
     ]
    }
   ],
   "source": [
    "string = 'python'\n",
    "string.index('T')"
   ]
  },
  {
   "cell_type": "code",
   "execution_count": 89,
   "id": "c1776e1e",
   "metadata": {},
   "outputs": [
    {
     "data": {
      "text/plain": [
       "0"
      ]
     },
     "execution_count": 89,
     "metadata": {},
     "output_type": "execute_result"
    }
   ],
   "source": [
    "string = 'python'\n",
    "string.index('p')"
   ]
  },
  {
   "cell_type": "code",
   "execution_count": 90,
   "id": "e2b4bd49",
   "metadata": {},
   "outputs": [
    {
     "data": {
      "text/plain": [
       "2"
      ]
     },
     "execution_count": 90,
     "metadata": {},
     "output_type": "execute_result"
    }
   ],
   "source": [
    "list1 = [10,50,101,66,45]\n",
    "list1.index(101)"
   ]
  },
  {
   "cell_type": "code",
   "execution_count": 91,
   "id": "8a7caa64",
   "metadata": {},
   "outputs": [
    {
     "ename": "ValueError",
     "evalue": "150 is not in list",
     "output_type": "error",
     "traceback": [
      "\u001b[1;31m---------------------------------------------------------------------------\u001b[0m",
      "\u001b[1;31mValueError\u001b[0m                                Traceback (most recent call last)",
      "Cell \u001b[1;32mIn[91], line 2\u001b[0m\n\u001b[0;32m      1\u001b[0m list1 \u001b[38;5;241m=\u001b[39m [\u001b[38;5;241m10\u001b[39m,\u001b[38;5;241m50\u001b[39m,\u001b[38;5;241m101\u001b[39m,\u001b[38;5;241m66\u001b[39m,\u001b[38;5;241m45\u001b[39m]\n\u001b[1;32m----> 2\u001b[0m \u001b[43mlist1\u001b[49m\u001b[38;5;241;43m.\u001b[39;49m\u001b[43mindex\u001b[49m\u001b[43m(\u001b[49m\u001b[38;5;241;43m150\u001b[39;49m\u001b[43m)\u001b[49m\n",
      "\u001b[1;31mValueError\u001b[0m: 150 is not in list"
     ]
    }
   ],
   "source": [
    "list1 = [10,50,101,66,45]\n",
    "list1.index(150)"
   ]
  },
  {
   "cell_type": "code",
   "execution_count": 92,
   "id": "f3fac869",
   "metadata": {},
   "outputs": [
    {
     "data": {
      "text/plain": [
       "2"
      ]
     },
     "execution_count": 92,
     "metadata": {},
     "output_type": "execute_result"
    }
   ],
   "source": [
    "list1 = [ 'Arti', 'Vijaya', 'Arun', \"Suraj\"]\n",
    "list1.index('Arun')"
   ]
  },
  {
   "cell_type": "code",
   "execution_count": 93,
   "id": "d627fa2f",
   "metadata": {},
   "outputs": [
    {
     "ename": "ValueError",
     "evalue": "'Arya' is not in list",
     "output_type": "error",
     "traceback": [
      "\u001b[1;31m---------------------------------------------------------------------------\u001b[0m",
      "\u001b[1;31mValueError\u001b[0m                                Traceback (most recent call last)",
      "Cell \u001b[1;32mIn[93], line 2\u001b[0m\n\u001b[0;32m      1\u001b[0m list1 \u001b[38;5;241m=\u001b[39m [ \u001b[38;5;124m'\u001b[39m\u001b[38;5;124mArti\u001b[39m\u001b[38;5;124m'\u001b[39m, \u001b[38;5;124m'\u001b[39m\u001b[38;5;124mVijaya\u001b[39m\u001b[38;5;124m'\u001b[39m, \u001b[38;5;124m'\u001b[39m\u001b[38;5;124mArun\u001b[39m\u001b[38;5;124m'\u001b[39m, \u001b[38;5;124m\"\u001b[39m\u001b[38;5;124mSuraj\u001b[39m\u001b[38;5;124m\"\u001b[39m]\n\u001b[1;32m----> 2\u001b[0m \u001b[43mlist1\u001b[49m\u001b[38;5;241;43m.\u001b[39;49m\u001b[43mindex\u001b[49m\u001b[43m(\u001b[49m\u001b[38;5;124;43m'\u001b[39;49m\u001b[38;5;124;43mArya\u001b[39;49m\u001b[38;5;124;43m'\u001b[39;49m\u001b[43m)\u001b[49m\n",
      "\u001b[1;31mValueError\u001b[0m: 'Arya' is not in list"
     ]
    }
   ],
   "source": [
    "list1 = [ 'Arti', 'Vijaya', 'Arun', \"Suraj\"]\n",
    "list1.index('Arya')"
   ]
  },
  {
   "cell_type": "markdown",
   "id": "08cb954a",
   "metadata": {},
   "source": [
    "# Count()"
   ]
  },
  {
   "cell_type": "code",
   "execution_count": 94,
   "id": "721ef4e9",
   "metadata": {},
   "outputs": [
    {
     "data": {
      "text/plain": [
       "3"
      ]
     },
     "execution_count": 94,
     "metadata": {},
     "output_type": "execute_result"
    }
   ],
   "source": [
    "a = [1,8,6,4,1,2,1]\n",
    "a.count(1)"
   ]
  },
  {
   "cell_type": "code",
   "execution_count": 95,
   "id": "7e4df5fa",
   "metadata": {},
   "outputs": [
    {
     "data": {
      "text/plain": [
       "1"
      ]
     },
     "execution_count": 95,
     "metadata": {},
     "output_type": "execute_result"
    }
   ],
   "source": [
    "a = [1,8,6,4,1,2,1]\n",
    "a.count(8)"
   ]
  },
  {
   "cell_type": "code",
   "execution_count": 96,
   "id": "59b8cc5b",
   "metadata": {},
   "outputs": [
    {
     "data": {
      "text/plain": [
       "0"
      ]
     },
     "execution_count": 96,
     "metadata": {},
     "output_type": "execute_result"
    }
   ],
   "source": [
    "a = [1,8,6,4,1,2,1]\n",
    "a.count(81)"
   ]
  },
  {
   "cell_type": "code",
   "execution_count": 98,
   "id": "54e2e9a4",
   "metadata": {},
   "outputs": [
    {
     "data": {
      "text/plain": [
       "2"
      ]
     },
     "execution_count": 98,
     "metadata": {},
     "output_type": "execute_result"
    }
   ],
   "source": [
    "a=[10,0,1,12,1]\n",
    "a.index(1)"
   ]
  },
  {
   "cell_type": "code",
   "execution_count": 99,
   "id": "1794594e",
   "metadata": {},
   "outputs": [
    {
     "data": {
      "text/plain": [
       "1"
      ]
     },
     "execution_count": 99,
     "metadata": {},
     "output_type": "execute_result"
    }
   ],
   "source": [
    "name = ['niraj', 'pravin', 'Raju', 'Baburao', 'pravin']\n",
    "\n",
    "name.index('pravin')"
   ]
  },
  {
   "cell_type": "code",
   "execution_count": 100,
   "id": "58353531",
   "metadata": {},
   "outputs": [
    {
     "data": {
      "text/plain": [
       "2"
      ]
     },
     "execution_count": 100,
     "metadata": {},
     "output_type": "execute_result"
    }
   ],
   "source": [
    "name = ['niraj', 'pravin', 'Raju', 'Baburao', 'pravin']\n",
    "\n",
    "name.count('pravin')"
   ]
  },
  {
   "cell_type": "code",
   "execution_count": null,
   "id": "5d8e5865",
   "metadata": {},
   "outputs": [],
   "source": [
    "for \n",
    "count=0"
   ]
  },
  {
   "cell_type": "code",
   "execution_count": 101,
   "id": "956674b8",
   "metadata": {},
   "outputs": [],
   "source": [
    "import os"
   ]
  },
  {
   "cell_type": "code",
   "execution_count": 108,
   "id": "db0da549",
   "metadata": {},
   "outputs": [],
   "source": [
    "a=(r'C:\\Users\\Saurabh\\Desktop\\DCIM\\tp\\Ringtones')"
   ]
  },
  {
   "cell_type": "code",
   "execution_count": 109,
   "id": "e76d00cc",
   "metadata": {},
   "outputs": [
    {
     "data": {
      "text/plain": [
       "['Fishpond(720p).mp4',\n",
       " 'mechanical_engineer(360p).mp4',\n",
       " 'mech_boy_propose_computer_girl(4K).webm',\n",
       " 'Moneyheist_Ringtone__Bella_Ciao_Ringtone__Download_link_in_description_(256k).mp3']"
      ]
     },
     "execution_count": 109,
     "metadata": {},
     "output_type": "execute_result"
    }
   ],
   "source": [
    "os.listdir(a)"
   ]
  },
  {
   "cell_type": "code",
   "execution_count": 110,
   "id": "b9b27bea",
   "metadata": {
    "collapsed": true
   },
   "outputs": [
    {
     "name": "stdout",
     "output_type": "stream",
     "text": [
      "{'W': 1, 'e': 3, 'l': 1, 'c': 1, 'o': 2, 'm': 1, ' ': 2, 't': 1, 'p': 1, 'u': 1, 'n': 1}\n",
      "1\n",
      "3\n",
      "1\n",
      "1\n",
      "2\n",
      "1\n",
      "2\n",
      "1\n",
      "1\n",
      "1\n",
      "1\n"
     ]
    }
   ],
   "source": [
    "stri = \"Welcome to pune\"\n",
    "counts={}\n",
    "for i in stri:\n",
    "    counts[i]=stri.count(i)\n",
    "print (counts)\n",
    "for val in counts.values():\n",
    "    print(val)"
   ]
  },
  {
   "cell_type": "code",
   "execution_count": null,
   "id": "ed6ae505",
   "metadata": {},
   "outputs": [],
   "source": []
  }
 ],
 "metadata": {
  "kernelspec": {
   "display_name": "Python 3 (ipykernel)",
   "language": "python",
   "name": "python3"
  },
  "language_info": {
   "codemirror_mode": {
    "name": "ipython",
    "version": 3
   },
   "file_extension": ".py",
   "mimetype": "text/x-python",
   "name": "python",
   "nbconvert_exporter": "python",
   "pygments_lexer": "ipython3",
   "version": "3.9.13"
  }
 },
 "nbformat": 4,
 "nbformat_minor": 5
}
