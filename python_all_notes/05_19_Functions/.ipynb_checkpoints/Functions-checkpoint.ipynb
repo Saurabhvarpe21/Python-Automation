{
 "cells": [
  {
   "cell_type": "markdown",
   "id": "946f020a",
   "metadata": {},
   "source": [
    "# Functions"
   ]
  },
  {
   "cell_type": "code",
   "execution_count": null,
   "id": "aae1811b",
   "metadata": {},
   "outputs": [],
   "source": [
    "arguments  >> It is a variable/value which is passed to a function when it is called\n",
    "\n",
    "number of arguments == number of parameters"
   ]
  },
  {
   "cell_type": "code",
   "execution_count": null,
   "id": "ed25745b",
   "metadata": {},
   "outputs": [],
   "source": [
    "def abc():\n",
    "    code1\n",
    "    \n",
    "abc()"
   ]
  },
  {
   "cell_type": "code",
   "execution_count": 2,
   "id": "5a08f49a",
   "metadata": {},
   "outputs": [
    {
     "ename": "TypeError",
     "evalue": "average() missing 3 required positional arguments: 'a', 'b', and 'c'",
     "output_type": "error",
     "traceback": [
      "\u001b[1;31m---------------------------------------------------------------------------\u001b[0m",
      "\u001b[1;31mTypeError\u001b[0m                                 Traceback (most recent call last)",
      "\u001b[1;32m<ipython-input-2-cb8c78326e38>\u001b[0m in \u001b[0;36m<module>\u001b[1;34m\u001b[0m\n\u001b[0;32m      2\u001b[0m     \u001b[0mprint\u001b[0m\u001b[1;33m(\u001b[0m\u001b[1;34mf'a = {a}, b = {b}, c = {c}'\u001b[0m\u001b[1;33m)\u001b[0m\u001b[1;33m\u001b[0m\u001b[1;33m\u001b[0m\u001b[0m\n\u001b[0;32m      3\u001b[0m \u001b[1;33m\u001b[0m\u001b[0m\n\u001b[1;32m----> 4\u001b[1;33m \u001b[0maverage\u001b[0m\u001b[1;33m(\u001b[0m\u001b[1;33m)\u001b[0m\u001b[1;33m\u001b[0m\u001b[1;33m\u001b[0m\u001b[0m\n\u001b[0m",
      "\u001b[1;31mTypeError\u001b[0m: average() missing 3 required positional arguments: 'a', 'b', and 'c'"
     ]
    }
   ],
   "source": [
    "def average(a,b,c):\n",
    "    print(f'a = {a}, b = {b}, c = {c}')\n",
    "\n",
    "average()"
   ]
  },
  {
   "cell_type": "code",
   "execution_count": 3,
   "id": "ed2f2738",
   "metadata": {},
   "outputs": [
    {
     "name": "stdout",
     "output_type": "stream",
     "text": [
      "a = 1, b = 2, c = 3\n"
     ]
    }
   ],
   "source": [
    "def average(a,b,c):\n",
    "    print(f'a = {a}, b = {b}, c = {c}')\n",
    "\n",
    "average(1,2,3)"
   ]
  },
  {
   "cell_type": "code",
   "execution_count": 4,
   "id": "31117303",
   "metadata": {},
   "outputs": [
    {
     "ename": "NameError",
     "evalue": "name 'x' is not defined",
     "output_type": "error",
     "traceback": [
      "\u001b[1;31m---------------------------------------------------------------------------\u001b[0m",
      "\u001b[1;31mNameError\u001b[0m                                 Traceback (most recent call last)",
      "\u001b[1;32m<ipython-input-4-7956d80b91f9>\u001b[0m in \u001b[0;36m<module>\u001b[1;34m\u001b[0m\n\u001b[0;32m      2\u001b[0m     \u001b[0mprint\u001b[0m\u001b[1;33m(\u001b[0m\u001b[1;34mf'a = {x}, b = {y}, c = {z}'\u001b[0m\u001b[1;33m)\u001b[0m\u001b[1;33m\u001b[0m\u001b[1;33m\u001b[0m\u001b[0m\n\u001b[0;32m      3\u001b[0m \u001b[1;33m\u001b[0m\u001b[0m\n\u001b[1;32m----> 4\u001b[1;33m \u001b[0maverage\u001b[0m\u001b[1;33m(\u001b[0m\u001b[1;36m1\u001b[0m\u001b[1;33m,\u001b[0m\u001b[1;36m2\u001b[0m\u001b[1;33m,\u001b[0m\u001b[1;36m3\u001b[0m\u001b[1;33m)\u001b[0m\u001b[1;33m\u001b[0m\u001b[1;33m\u001b[0m\u001b[0m\n\u001b[0m",
      "\u001b[1;32m<ipython-input-4-7956d80b91f9>\u001b[0m in \u001b[0;36maverage\u001b[1;34m(a, b, c)\u001b[0m\n\u001b[0;32m      1\u001b[0m \u001b[1;32mdef\u001b[0m \u001b[0maverage\u001b[0m\u001b[1;33m(\u001b[0m\u001b[0ma\u001b[0m\u001b[1;33m,\u001b[0m\u001b[0mb\u001b[0m\u001b[1;33m,\u001b[0m\u001b[0mc\u001b[0m\u001b[1;33m)\u001b[0m\u001b[1;33m:\u001b[0m\u001b[1;33m\u001b[0m\u001b[1;33m\u001b[0m\u001b[0m\n\u001b[1;32m----> 2\u001b[1;33m     \u001b[0mprint\u001b[0m\u001b[1;33m(\u001b[0m\u001b[1;34mf'a = {x}, b = {y}, c = {z}'\u001b[0m\u001b[1;33m)\u001b[0m\u001b[1;33m\u001b[0m\u001b[1;33m\u001b[0m\u001b[0m\n\u001b[0m\u001b[0;32m      3\u001b[0m \u001b[1;33m\u001b[0m\u001b[0m\n\u001b[0;32m      4\u001b[0m \u001b[0maverage\u001b[0m\u001b[1;33m(\u001b[0m\u001b[1;36m1\u001b[0m\u001b[1;33m,\u001b[0m\u001b[1;36m2\u001b[0m\u001b[1;33m,\u001b[0m\u001b[1;36m3\u001b[0m\u001b[1;33m)\u001b[0m\u001b[1;33m\u001b[0m\u001b[1;33m\u001b[0m\u001b[0m\n",
      "\u001b[1;31mNameError\u001b[0m: name 'x' is not defined"
     ]
    }
   ],
   "source": [
    "def average(a,b,c):\n",
    "    print(f'a = {x}, b = {y}, c = {z}')\n",
    "\n",
    "average(1,2,3)"
   ]
  },
  {
   "cell_type": "code",
   "execution_count": 5,
   "id": "2840f108",
   "metadata": {},
   "outputs": [
    {
     "name": "stdout",
     "output_type": "stream",
     "text": [
      "a = 2, b = 3, c = 4\n"
     ]
    }
   ],
   "source": [
    "def average(a,b,c):\n",
    "    print(f'a = {a}, b = {b}, c = {c}')\n",
    "    \n",
    "\n",
    "x,y,z = 2,3,4\n",
    "average(x,y,z)"
   ]
  },
  {
   "cell_type": "code",
   "execution_count": 6,
   "id": "86923f7f",
   "metadata": {},
   "outputs": [
    {
     "ename": "TypeError",
     "evalue": "average() missing 1 required positional argument: 'c'",
     "output_type": "error",
     "traceback": [
      "\u001b[1;31m---------------------------------------------------------------------------\u001b[0m",
      "\u001b[1;31mTypeError\u001b[0m                                 Traceback (most recent call last)",
      "\u001b[1;32m<ipython-input-6-2a522caa90e3>\u001b[0m in \u001b[0;36m<module>\u001b[1;34m\u001b[0m\n\u001b[0;32m      4\u001b[0m \u001b[1;33m\u001b[0m\u001b[0m\n\u001b[0;32m      5\u001b[0m \u001b[0mx\u001b[0m\u001b[1;33m,\u001b[0m\u001b[0my\u001b[0m\u001b[1;33m,\u001b[0m\u001b[0mz\u001b[0m \u001b[1;33m=\u001b[0m \u001b[1;36m2\u001b[0m\u001b[1;33m,\u001b[0m\u001b[1;36m3\u001b[0m\u001b[1;33m,\u001b[0m\u001b[1;36m4\u001b[0m\u001b[1;33m\u001b[0m\u001b[1;33m\u001b[0m\u001b[0m\n\u001b[1;32m----> 6\u001b[1;33m \u001b[0maverage\u001b[0m\u001b[1;33m(\u001b[0m\u001b[0mx\u001b[0m\u001b[1;33m,\u001b[0m\u001b[0my\u001b[0m\u001b[1;33m)\u001b[0m\u001b[1;33m\u001b[0m\u001b[1;33m\u001b[0m\u001b[0m\n\u001b[0m",
      "\u001b[1;31mTypeError\u001b[0m: average() missing 1 required positional argument: 'c'"
     ]
    }
   ],
   "source": [
    "def average(a,b,c):\n",
    "    print(f'a = {a}, b = {b}, c = {c}')\n",
    "    \n",
    "\n",
    "x,y,z = 2,3,4\n",
    "average(x,y)"
   ]
  },
  {
   "cell_type": "code",
   "execution_count": 8,
   "id": "5d5983ff",
   "metadata": {},
   "outputs": [
    {
     "name": "stdout",
     "output_type": "stream",
     "text": [
      "a = 15, b = 40, c = 35\n",
      "Addition of numbers is : 90\n",
      "Average of numbers is : 30.0\n"
     ]
    }
   ],
   "source": [
    "def average(a,b,c):\n",
    "    print(f'a = {a}, b = {b}, c = {c}')\n",
    "    addition = a+b+c\n",
    "    print('Addition of numbers is :', addition)\n",
    "    \n",
    "    avg = addition/3\n",
    "    print('Average of numbers is :',avg)\n",
    "\n",
    "x,y,z = 15,40,35\n",
    "average(x,y,z)   # x,y,z   >> arguments"
   ]
  },
  {
   "cell_type": "code",
   "execution_count": 9,
   "id": "6b422777",
   "metadata": {},
   "outputs": [
    {
     "name": "stdout",
     "output_type": "stream",
     "text": [
      "a = 50, b = 40, c = 88\n",
      "Addition of numbers is : 178\n",
      "Average of numbers is : 59.333333333333336\n"
     ]
    }
   ],
   "source": [
    "average(50,40,88)"
   ]
  },
  {
   "cell_type": "code",
   "execution_count": null,
   "id": "6df9c889",
   "metadata": {},
   "outputs": [],
   "source": []
  },
  {
   "cell_type": "code",
   "execution_count": 10,
   "id": "aaa4139f",
   "metadata": {},
   "outputs": [
    {
     "name": "stdout",
     "output_type": "stream",
     "text": [
      "Start = 11, end = 20\n"
     ]
    }
   ],
   "source": [
    "def square(start, end):\n",
    "    print(f'Start = {start}, end = {end}')\n",
    "    \n",
    "square(11,20)"
   ]
  },
  {
   "cell_type": "code",
   "execution_count": 16,
   "id": "68930cf8",
   "metadata": {},
   "outputs": [
    {
     "name": "stdout",
     "output_type": "stream",
     "text": [
      "Start = 11, end = 30\n",
      "Program to find first five numbers and last five numbers square in a given range\n",
      "[121, 144, 169, 196, 225, 676, 729, 784, 841, 900]\n"
     ]
    }
   ],
   "source": [
    "def square(start, end):\n",
    "    print(f'Start = {start}, end = {end}')\n",
    "    print('Program to find first five numbers and last five numbers square in a given range')\n",
    "    \n",
    "    sqr = [i**2 for i in range(start, start+5)]\n",
    "    \n",
    "    for i in range(end-4, end+1):\n",
    "        sqr.append(i**2)\n",
    "    \n",
    "    print(sqr)\n",
    "square(11,30)"
   ]
  },
  {
   "cell_type": "code",
   "execution_count": 17,
   "id": "f3ba62e4",
   "metadata": {},
   "outputs": [
    {
     "data": {
      "text/plain": [
       "676"
      ]
     },
     "execution_count": 17,
     "metadata": {},
     "output_type": "execute_result"
    }
   ],
   "source": [
    "26**2"
   ]
  },
  {
   "cell_type": "code",
   "execution_count": 18,
   "id": "766d7d1b",
   "metadata": {},
   "outputs": [
    {
     "name": "stdout",
     "output_type": "stream",
     "text": [
      "Start = 11, end = 30\n",
      "Program to find first five numbers and last five numbers square in a given range\n",
      "[121, 144, 169, 196, 225, 900, 841, 784, 729, 676]\n"
     ]
    }
   ],
   "source": [
    "def square(start, end):\n",
    "    print(f'Start = {start}, end = {end}')\n",
    "    print('Program to find first five numbers and last five numbers square in a given range')\n",
    "    \n",
    "    sqr = [i**2 for i in range(start, start+5)]\n",
    "    \n",
    "    for i in range(end , end-5,-1):\n",
    "        sqr.append(i**2)\n",
    "    \n",
    "    print(sqr)\n",
    "square(11,30)"
   ]
  },
  {
   "cell_type": "code",
   "execution_count": null,
   "id": "2972bbab",
   "metadata": {},
   "outputs": [],
   "source": [
    "30, 25"
   ]
  },
  {
   "cell_type": "code",
   "execution_count": 19,
   "id": "be52205c",
   "metadata": {},
   "outputs": [
    {
     "name": "stdout",
     "output_type": "stream",
     "text": [
      "Start = 11, end = 30\n",
      "Program to find first five numbers and last five numbers square in a given range\n",
      "[121, 144, 169, 196, 225, 676, 729, 784, 841, 900]\n"
     ]
    }
   ],
   "source": [
    "def square(start, end):\n",
    "    print(f'Start = {start}, end = {end}')\n",
    "    print('Program to find first five numbers and last five numbers square in a given range')\n",
    "    \n",
    "    first = [i**2 for i in range(start, start+5)]\n",
    "    last = [i**2 for i in range(end-4,end+1)]\n",
    "    first.extend(last)\n",
    "    print(first)\n",
    "square(11,30)"
   ]
  },
  {
   "cell_type": "code",
   "execution_count": 20,
   "id": "217ceaa7",
   "metadata": {},
   "outputs": [
    {
     "ename": "NameError",
     "evalue": "name 'first' is not defined",
     "output_type": "error",
     "traceback": [
      "\u001b[1;31m---------------------------------------------------------------------------\u001b[0m",
      "\u001b[1;31mNameError\u001b[0m                                 Traceback (most recent call last)",
      "\u001b[1;32m<ipython-input-20-271ac93c44ac>\u001b[0m in \u001b[0;36m<module>\u001b[1;34m\u001b[0m\n\u001b[1;32m----> 1\u001b[1;33m \u001b[0mfirst\u001b[0m\u001b[1;33m\u001b[0m\u001b[1;33m\u001b[0m\u001b[0m\n\u001b[0m",
      "\u001b[1;31mNameError\u001b[0m: name 'first' is not defined"
     ]
    }
   ],
   "source": [
    "first"
   ]
  },
  {
   "cell_type": "markdown",
   "id": "41979574",
   "metadata": {},
   "source": [
    "## Return Statement"
   ]
  },
  {
   "cell_type": "code",
   "execution_count": null,
   "id": "37de5230",
   "metadata": {},
   "outputs": [],
   "source": [
    "It is used at the end of the function\n",
    "\n",
    "if you want to continue to work with the results of your function and want to try out \n",
    "some operation on it.\n",
    "\n",
    "then we will need to use return statement ( str, list, int, df, dict, etc)\n",
    "\n",
    "we can return multiple outputs"
   ]
  },
  {
   "cell_type": "code",
   "execution_count": 23,
   "id": "3e0517d7",
   "metadata": {},
   "outputs": [],
   "source": [
    "def add(x,y):\n",
    "    return x+y\n",
    "\n",
    "result = add(3,5)"
   ]
  },
  {
   "cell_type": "code",
   "execution_count": 24,
   "id": "b632345f",
   "metadata": {},
   "outputs": [
    {
     "data": {
      "text/plain": [
       "8"
      ]
     },
     "execution_count": 24,
     "metadata": {},
     "output_type": "execute_result"
    }
   ],
   "source": [
    "result"
   ]
  },
  {
   "cell_type": "code",
   "execution_count": 25,
   "id": "260ee6f1",
   "metadata": {},
   "outputs": [
    {
     "ename": "TypeError",
     "evalue": "'int' object is not callable",
     "output_type": "error",
     "traceback": [
      "\u001b[1;31m---------------------------------------------------------------------------\u001b[0m",
      "\u001b[1;31mTypeError\u001b[0m                                 Traceback (most recent call last)",
      "\u001b[1;32m<ipython-input-25-b00b378d8e56>\u001b[0m in \u001b[0;36m<module>\u001b[1;34m\u001b[0m\n\u001b[1;32m----> 1\u001b[1;33m \u001b[0mresult\u001b[0m\u001b[1;33m(\u001b[0m\u001b[1;36m11\u001b[0m\u001b[1;33m,\u001b[0m\u001b[1;36m20\u001b[0m\u001b[1;33m)\u001b[0m\u001b[1;33m\u001b[0m\u001b[1;33m\u001b[0m\u001b[0m\n\u001b[0m",
      "\u001b[1;31mTypeError\u001b[0m: 'int' object is not callable"
     ]
    }
   ],
   "source": [
    "result(11,20)"
   ]
  },
  {
   "cell_type": "code",
   "execution_count": 26,
   "id": "9e271e88",
   "metadata": {},
   "outputs": [
    {
     "data": {
      "text/plain": [
       "31"
      ]
     },
     "execution_count": 26,
     "metadata": {},
     "output_type": "execute_result"
    }
   ],
   "source": [
    "add(11,20)"
   ]
  },
  {
   "cell_type": "code",
   "execution_count": 27,
   "id": "757b70b8",
   "metadata": {},
   "outputs": [
    {
     "data": {
      "text/plain": [
       "8"
      ]
     },
     "execution_count": 27,
     "metadata": {},
     "output_type": "execute_result"
    }
   ],
   "source": [
    "result"
   ]
  },
  {
   "cell_type": "code",
   "execution_count": 36,
   "id": "573a5c3c",
   "metadata": {},
   "outputs": [
    {
     "name": "stdout",
     "output_type": "stream",
     "text": [
      "Start = 11, end = 30\n",
      "Program to find first five numbers and last five numbers square in a given range\n",
      "Result of function is: [121, 144, 169, 196, 225, 900, 841, 784, 729, 676]\n"
     ]
    }
   ],
   "source": [
    "def square(start, end):\n",
    "    print(f'Start = {start}, end = {end}')\n",
    "    print('Program to find first five numbers and last five numbers square in a given range')\n",
    "    \n",
    "    sqr = [i**2 for i in range(start, start+5)]\n",
    "    \n",
    "    for i in range(end , end-5,-1):\n",
    "        sqr.append(i**2)\n",
    "    \n",
    "#     print(sqr)\n",
    "    return sqr\n",
    "\n",
    "val = square(11,30)\n",
    "print('Result of function is:', val)"
   ]
  },
  {
   "cell_type": "code",
   "execution_count": 37,
   "id": "81e24c1d",
   "metadata": {},
   "outputs": [
    {
     "data": {
      "text/plain": [
       "[121, 144, 169, 196, 225, 900, 841, 784, 729, 676, 1000]"
      ]
     },
     "execution_count": 37,
     "metadata": {},
     "output_type": "execute_result"
    }
   ],
   "source": [
    "val.append(1000)\n",
    "val"
   ]
  },
  {
   "cell_type": "code",
   "execution_count": 39,
   "id": "19f63968",
   "metadata": {},
   "outputs": [
    {
     "name": "stdout",
     "output_type": "stream",
     "text": [
      "Start = 11, end = 30\n",
      "Program to find first five numbers and last five numbers square in a given range\n",
      "Result of function is: Success\n"
     ]
    }
   ],
   "source": [
    "def square(start, end):\n",
    "    print(f'Start = {start}, end = {end}')\n",
    "    print('Program to find first five numbers and last five numbers square in a given range')\n",
    "    \n",
    "    sqr = [i**2 for i in range(start, start+5)]\n",
    "    \n",
    "    for i in range(end , end-5,-1):\n",
    "        sqr.append(i**2)\n",
    "    \n",
    "#     print(sqr)\n",
    "    return 'Success'\n",
    "\n",
    "val = square(11,30)\n",
    "print('Result of function is:', val)"
   ]
  },
  {
   "cell_type": "code",
   "execution_count": 40,
   "id": "c1743dbd",
   "metadata": {},
   "outputs": [
    {
     "data": {
      "text/plain": [
       "'Success'"
      ]
     },
     "execution_count": 40,
     "metadata": {},
     "output_type": "execute_result"
    }
   ],
   "source": [
    "val"
   ]
  },
  {
   "cell_type": "code",
   "execution_count": 41,
   "id": "884bcc55",
   "metadata": {},
   "outputs": [
    {
     "name": "stdout",
     "output_type": "stream",
     "text": [
      "Start = 11, end = 30\n",
      "Program to find first five numbers and last five numbers square in a given range\n",
      "Result of function is: Success\n"
     ]
    }
   ],
   "source": [
    "def square(start, end):\n",
    "    print(f'Start = {start}, end = {end}')\n",
    "    print('Program to find first five numbers and last five numbers square in a given range')\n",
    "    \n",
    "    sqr = [i**2 for i in range(start, start+5)]\n",
    "    \n",
    "    for i in range(end , end-5,-1):\n",
    "        sqr.append(i**2)\n",
    "    \n",
    "#     print(sqr)\n",
    "    return 'Success'\n",
    "\n",
    "# val = square(11,30)\n",
    "print('Result of function is:', square(11,30))"
   ]
  },
  {
   "cell_type": "code",
   "execution_count": 42,
   "id": "ed6d4081",
   "metadata": {},
   "outputs": [
    {
     "name": "stdout",
     "output_type": "stream",
     "text": [
      "Start = 11, end = 30\n",
      "Program to find first five numbers and last five numbers square in a given range\n",
      "Result of function is: 11\n"
     ]
    }
   ],
   "source": [
    "def square(start, end):\n",
    "    print(f'Start = {start}, end = {end}')\n",
    "    print('Program to find first five numbers and last five numbers square in a given range')\n",
    "    \n",
    "    sqr = [i**2 for i in range(start, start+5)]\n",
    "    \n",
    "    for i in range(end , end-5,-1):\n",
    "        sqr.append(i**2)\n",
    "    \n",
    "#     print(sqr)\n",
    "    return start\n",
    "\n",
    "val = square(11,30)\n",
    "print('Result of function is:', val)"
   ]
  },
  {
   "cell_type": "code",
   "execution_count": 43,
   "id": "7ac18cde",
   "metadata": {},
   "outputs": [
    {
     "name": "stdout",
     "output_type": "stream",
     "text": [
      "Start = 11, end = 30\n",
      "Program to find first five numbers and last five numbers square in a given range\n",
      "Result of function is: 11\n"
     ]
    }
   ],
   "source": [
    "def square(start, end):\n",
    "    print(f'Start = {start}, end = {end}')\n",
    "    print('Program to find first five numbers and last five numbers square in a given range')\n",
    "    \n",
    "    sqr = [i**2 for i in range(start, start+5)]\n",
    "    \n",
    "    for i in range(end , end-5,-1):\n",
    "        sqr.append(i**2)\n",
    "    \n",
    "#     print(sqr)\n",
    "    return start,end\n",
    "\n",
    "result1, result2 = square(11,30)\n",
    "print('Result of function is:', result1)"
   ]
  },
  {
   "cell_type": "code",
   "execution_count": 44,
   "id": "16184da3",
   "metadata": {},
   "outputs": [
    {
     "name": "stdout",
     "output_type": "stream",
     "text": [
      "Start = 11, end = 30\n",
      "Program to find first five numbers and last five numbers square in a given range\n",
      "Result of function is: (11, 30)\n"
     ]
    }
   ],
   "source": [
    "def square(start, end):\n",
    "    print(f'Start = {start}, end = {end}')\n",
    "    print('Program to find first five numbers and last five numbers square in a given range')\n",
    "    \n",
    "    sqr = [i**2 for i in range(start, start+5)]\n",
    "    \n",
    "    for i in range(end , end-5,-1):\n",
    "        sqr.append(i**2)\n",
    "    \n",
    "#     print(sqr)\n",
    "    return start,end\n",
    "\n",
    "result1 = square(11,30)\n",
    "print('Result of function is:', result1)"
   ]
  },
  {
   "cell_type": "code",
   "execution_count": 45,
   "id": "2fdb8cea",
   "metadata": {},
   "outputs": [
    {
     "name": "stdout",
     "output_type": "stream",
     "text": [
      "Start = 11, end = 30\n",
      "Program to find first five numbers and last five numbers square in a given range\n"
     ]
    },
    {
     "ename": "ValueError",
     "evalue": "too many values to unpack (expected 2)",
     "output_type": "error",
     "traceback": [
      "\u001b[1;31m---------------------------------------------------------------------------\u001b[0m",
      "\u001b[1;31mValueError\u001b[0m                                Traceback (most recent call last)",
      "\u001b[1;32m<ipython-input-45-220697fa9f34>\u001b[0m in \u001b[0;36m<module>\u001b[1;34m\u001b[0m\n\u001b[0;32m     11\u001b[0m     \u001b[1;32mreturn\u001b[0m \u001b[0mstart\u001b[0m\u001b[1;33m,\u001b[0m\u001b[0mend\u001b[0m \u001b[1;33m,\u001b[0m \u001b[1;36m100\u001b[0m\u001b[1;33m\u001b[0m\u001b[1;33m\u001b[0m\u001b[0m\n\u001b[0;32m     12\u001b[0m \u001b[1;33m\u001b[0m\u001b[0m\n\u001b[1;32m---> 13\u001b[1;33m \u001b[0mresult1\u001b[0m\u001b[1;33m,\u001b[0m \u001b[0mresult2\u001b[0m \u001b[1;33m=\u001b[0m \u001b[0msquare\u001b[0m\u001b[1;33m(\u001b[0m\u001b[1;36m11\u001b[0m\u001b[1;33m,\u001b[0m\u001b[1;36m30\u001b[0m\u001b[1;33m)\u001b[0m\u001b[1;33m\u001b[0m\u001b[1;33m\u001b[0m\u001b[0m\n\u001b[0m\u001b[0;32m     14\u001b[0m \u001b[0mprint\u001b[0m\u001b[1;33m(\u001b[0m\u001b[1;34m'Result of function is:'\u001b[0m\u001b[1;33m,\u001b[0m \u001b[0mresult1\u001b[0m\u001b[1;33m)\u001b[0m\u001b[1;33m\u001b[0m\u001b[1;33m\u001b[0m\u001b[0m\n",
      "\u001b[1;31mValueError\u001b[0m: too many values to unpack (expected 2)"
     ]
    }
   ],
   "source": [
    "def square(start, end):\n",
    "    print(f'Start = {start}, end = {end}')\n",
    "    print('Program to find first five numbers and last five numbers square in a given range')\n",
    "    \n",
    "    sqr = [i**2 for i in range(start, start+5)]\n",
    "    \n",
    "    for i in range(end , end-5,-1):\n",
    "        sqr.append(i**2)\n",
    "    \n",
    "#     print(sqr)\n",
    "    return start,end , 100\n",
    "\n",
    "result1, result2 = square(11,30)\n",
    "print('Result of function is:', result1)"
   ]
  },
  {
   "cell_type": "code",
   "execution_count": 46,
   "id": "3ccc3aca",
   "metadata": {},
   "outputs": [
    {
     "name": "stdout",
     "output_type": "stream",
     "text": [
      "Start = 11, end = 30\n",
      "Program to find first five numbers and last five numbers square in a given range\n",
      "Result of function is: 11\n"
     ]
    }
   ],
   "source": [
    "def square(start, end):\n",
    "    print(f'Start = {start}, end = {end}')\n",
    "    print('Program to find first five numbers and last five numbers square in a given range')\n",
    "    \n",
    "    sqr = [i**2 for i in range(start, start+5)]\n",
    "    \n",
    "    for i in range(end , end-5,-1):\n",
    "        sqr.append(i**2)\n",
    "    \n",
    "#     print(sqr)\n",
    "    return start,end , 100\n",
    "\n",
    "result1, result2, result3 = square(11,30)\n",
    "print('Result of function is:', result1)"
   ]
  },
  {
   "cell_type": "code",
   "execution_count": 47,
   "id": "61b4d026",
   "metadata": {},
   "outputs": [
    {
     "data": {
      "text/plain": [
       "30"
      ]
     },
     "execution_count": 47,
     "metadata": {},
     "output_type": "execute_result"
    }
   ],
   "source": [
    "result2"
   ]
  },
  {
   "cell_type": "code",
   "execution_count": 48,
   "id": "9dca78bd",
   "metadata": {},
   "outputs": [
    {
     "data": {
      "text/plain": [
       "100"
      ]
     },
     "execution_count": 48,
     "metadata": {},
     "output_type": "execute_result"
    }
   ],
   "source": [
    "result3"
   ]
  },
  {
   "cell_type": "code",
   "execution_count": 49,
   "id": "c4f16578",
   "metadata": {},
   "outputs": [
    {
     "name": "stdout",
     "output_type": "stream",
     "text": [
      "Start = 11, end = 30\n",
      "Program to find first five numbers and last five numbers square in a given range\n",
      "Result of function is: [121, 144, 169, 196, 225, 900, 841, 784, 729, 676]\n"
     ]
    }
   ],
   "source": [
    "def square(start, end):\n",
    "    print(f'Start = {start}, end = {end}')\n",
    "    print('Program to find first five numbers and last five numbers square in a given range')\n",
    "    \n",
    "    sqr = [i**2 for i in range(start, start+5)]\n",
    "    \n",
    "    for i in range(end , end-5,-1):\n",
    "        sqr.append(i**2)\n",
    "    \n",
    "#     print(sqr)\n",
    "    return start,end , sqr\n",
    "\n",
    "result1, result2, result3 = square(11,30) # calling the function\n",
    "print('Result of function is:', result3)"
   ]
  },
  {
   "cell_type": "code",
   "execution_count": 50,
   "id": "1e327620",
   "metadata": {},
   "outputs": [
    {
     "name": "stdout",
     "output_type": "stream",
     "text": [
      "Factorial of 5 is 120\n"
     ]
    }
   ],
   "source": [
    "def factorial(num):  # num =5\n",
    "    fact = 1\n",
    "    for i in range(1, num+1):\n",
    "        fact *= i\n",
    "        \n",
    "    print(f'Factorial of {num} is {fact}')\n",
    "    \n",
    "factorial(5)"
   ]
  },
  {
   "cell_type": "code",
   "execution_count": 54,
   "id": "1b142223",
   "metadata": {},
   "outputs": [
    {
     "name": "stdout",
     "output_type": "stream",
     "text": [
      "Factorial of 8 is 40320\n"
     ]
    },
    {
     "data": {
      "text/plain": [
       "40320"
      ]
     },
     "execution_count": 54,
     "metadata": {},
     "output_type": "execute_result"
    }
   ],
   "source": [
    "def factorial(num):  # num =5\n",
    "    fact = 1\n",
    "    for i in range(1, num+1):\n",
    "        fact *= i\n",
    "        \n",
    "    print(f'Factorial of {num} is {fact}')\n",
    "    return fact\n",
    "\n",
    "x = factorial(8)\n",
    "x"
   ]
  },
  {
   "cell_type": "code",
   "execution_count": 55,
   "id": "ce0d396f",
   "metadata": {},
   "outputs": [
    {
     "data": {
      "text/plain": [
       "40320"
      ]
     },
     "execution_count": 55,
     "metadata": {},
     "output_type": "execute_result"
    }
   ],
   "source": [
    "x"
   ]
  },
  {
   "cell_type": "code",
   "execution_count": null,
   "id": "10d70556",
   "metadata": {},
   "outputs": [],
   "source": []
  },
  {
   "cell_type": "code",
   "execution_count": null,
   "id": "552ac553",
   "metadata": {},
   "outputs": [],
   "source": [
    "result1, result2, result3 = square(11,30) # calling the function\n",
    "print('Result of function is:', result3)"
   ]
  },
  {
   "cell_type": "code",
   "execution_count": 56,
   "id": "d01b8e46",
   "metadata": {},
   "outputs": [
    {
     "name": "stdout",
     "output_type": "stream",
     "text": [
      "Start = 15, end = 40\n",
      "Program to find first five numbers and last five numbers square in a given range\n"
     ]
    },
    {
     "data": {
      "text/plain": [
       "(15, 40, [225, 256, 289, 324, 361, 1600, 1521, 1444, 1369, 1296])"
      ]
     },
     "execution_count": 56,
     "metadata": {},
     "output_type": "execute_result"
    }
   ],
   "source": [
    "square(15,40)"
   ]
  },
  {
   "cell_type": "code",
   "execution_count": 57,
   "id": "a5036c02",
   "metadata": {},
   "outputs": [
    {
     "data": {
      "text/plain": [
       "11"
      ]
     },
     "execution_count": 57,
     "metadata": {},
     "output_type": "execute_result"
    }
   ],
   "source": [
    "result1"
   ]
  },
  {
   "cell_type": "code",
   "execution_count": 58,
   "id": "7c80dfd3",
   "metadata": {},
   "outputs": [
    {
     "name": "stdout",
     "output_type": "stream",
     "text": [
      "Start = 15, end = 40\n",
      "Program to find first five numbers and last five numbers square in a given range\n",
      "Result of function is: [225, 256, 289, 324, 361, 1600, 1521, 1444, 1369, 1296]\n"
     ]
    }
   ],
   "source": [
    "result1, result2, result3 = square(15,40) # calling the function\n",
    "print('Result of function is:', result3)"
   ]
  },
  {
   "cell_type": "code",
   "execution_count": null,
   "id": "74aac94d",
   "metadata": {},
   "outputs": [],
   "source": []
  },
  {
   "cell_type": "code",
   "execution_count": 59,
   "id": "db0f5e1a",
   "metadata": {},
   "outputs": [
    {
     "name": "stdout",
     "output_type": "stream",
     "text": [
      "39\n"
     ]
    }
   ],
   "source": [
    "def addition(a,b,c,d):\n",
    "    add = a+b+c+d\n",
    "    print(add)\n",
    "addition(3,6,8,22)"
   ]
  },
  {
   "cell_type": "code",
   "execution_count": 60,
   "id": "6fd783d1",
   "metadata": {},
   "outputs": [],
   "source": [
    "def addition(a,b,c,d):\n",
    "    add = a+b+c+d\n",
    "    return add\n",
    "\n",
    "add1 = addition(3,6,8,22)"
   ]
  },
  {
   "cell_type": "code",
   "execution_count": 62,
   "id": "510e1e8f",
   "metadata": {},
   "outputs": [
    {
     "data": {
      "text/plain": [
       "70"
      ]
     },
     "execution_count": 62,
     "metadata": {},
     "output_type": "execute_result"
    }
   ],
   "source": [
    "add1 + 31"
   ]
  },
  {
   "cell_type": "code",
   "execution_count": 63,
   "id": "6ec2df7b",
   "metadata": {},
   "outputs": [],
   "source": [
    "def addition(a,b,c,d):\n",
    "    add = a+b+c+d\n",
    "    mul = a*b*c*d\n",
    "    return add ,mul \n",
    "\n",
    "add1 = addition(3,6,8,22)"
   ]
  },
  {
   "cell_type": "code",
   "execution_count": 64,
   "id": "3df29198",
   "metadata": {},
   "outputs": [
    {
     "data": {
      "text/plain": [
       "(39, 3168)"
      ]
     },
     "execution_count": 64,
     "metadata": {},
     "output_type": "execute_result"
    }
   ],
   "source": [
    "add1"
   ]
  },
  {
   "cell_type": "code",
   "execution_count": 65,
   "id": "adf92fcb",
   "metadata": {},
   "outputs": [
    {
     "ename": "TypeError",
     "evalue": "cannot unpack non-iterable int object",
     "output_type": "error",
     "traceback": [
      "\u001b[1;31m---------------------------------------------------------------------------\u001b[0m",
      "\u001b[1;31mTypeError\u001b[0m                                 Traceback (most recent call last)",
      "\u001b[1;32m<ipython-input-65-468a36fc1a0e>\u001b[0m in \u001b[0;36m<module>\u001b[1;34m\u001b[0m\n\u001b[0;32m      4\u001b[0m     \u001b[1;32mreturn\u001b[0m \u001b[0madd\u001b[0m\u001b[1;33m\u001b[0m\u001b[1;33m\u001b[0m\u001b[0m\n\u001b[0;32m      5\u001b[0m \u001b[1;33m\u001b[0m\u001b[0m\n\u001b[1;32m----> 6\u001b[1;33m \u001b[0madd1\u001b[0m\u001b[1;33m,\u001b[0m \u001b[0mmul1\u001b[0m \u001b[1;33m=\u001b[0m \u001b[0maddition\u001b[0m\u001b[1;33m(\u001b[0m\u001b[1;36m3\u001b[0m\u001b[1;33m,\u001b[0m\u001b[1;36m6\u001b[0m\u001b[1;33m,\u001b[0m\u001b[1;36m8\u001b[0m\u001b[1;33m,\u001b[0m\u001b[1;36m22\u001b[0m\u001b[1;33m)\u001b[0m\u001b[1;33m\u001b[0m\u001b[1;33m\u001b[0m\u001b[0m\n\u001b[0m",
      "\u001b[1;31mTypeError\u001b[0m: cannot unpack non-iterable int object"
     ]
    }
   ],
   "source": [
    "def addition(a,b,c,d):\n",
    "    add = a+b+c+d\n",
    "    mul = a*b*c*d\n",
    "    return add  \n",
    "\n",
    "add1, mul1 = addition(3,6,8,22)"
   ]
  },
  {
   "cell_type": "code",
   "execution_count": 66,
   "id": "d542bf8b",
   "metadata": {},
   "outputs": [],
   "source": [
    "def addition(a,b,c,d):\n",
    "    add = a+b+c+d\n",
    "    mul = a*b*c*d\n",
    "    return add , mul\n",
    "\n",
    "add1, mul1 = addition(3,6,8,22)"
   ]
  },
  {
   "cell_type": "code",
   "execution_count": 67,
   "id": "8dd7d98a",
   "metadata": {},
   "outputs": [
    {
     "data": {
      "text/plain": [
       "39"
      ]
     },
     "execution_count": 67,
     "metadata": {},
     "output_type": "execute_result"
    }
   ],
   "source": [
    "add1"
   ]
  },
  {
   "cell_type": "code",
   "execution_count": 68,
   "id": "67697150",
   "metadata": {},
   "outputs": [
    {
     "data": {
      "text/plain": [
       "3168"
      ]
     },
     "execution_count": 68,
     "metadata": {},
     "output_type": "execute_result"
    }
   ],
   "source": [
    "mul1"
   ]
  },
  {
   "cell_type": "code",
   "execution_count": 69,
   "id": "6e113126",
   "metadata": {},
   "outputs": [
    {
     "data": {
      "text/plain": [
       "3207"
      ]
     },
     "execution_count": 69,
     "metadata": {},
     "output_type": "execute_result"
    }
   ],
   "source": [
    "add1 +mul1"
   ]
  },
  {
   "cell_type": "code",
   "execution_count": 70,
   "id": "7f8ce726",
   "metadata": {},
   "outputs": [],
   "source": [
    "def addition(a,b,c,d):\n",
    "    add = a+b+c+d\n",
    "    mul = a*b*c*d\n",
    "    return add + mul\n",
    "\n",
    "result = addition(3,6,8,22)"
   ]
  },
  {
   "cell_type": "code",
   "execution_count": 71,
   "id": "01a8bc0b",
   "metadata": {},
   "outputs": [
    {
     "data": {
      "text/plain": [
       "3207"
      ]
     },
     "execution_count": 71,
     "metadata": {},
     "output_type": "execute_result"
    }
   ],
   "source": [
    "result"
   ]
  },
  {
   "cell_type": "code",
   "execution_count": 74,
   "id": "414decf8",
   "metadata": {},
   "outputs": [
    {
     "name": "stdout",
     "output_type": "stream",
     "text": [
      "Start = 11, end = 30\n",
      "Program to find first five numbers and last five numbers square in a given range\n",
      "None\n"
     ]
    }
   ],
   "source": [
    "def square(start, end):\n",
    "    print(f'Start = {start}, end = {end}')\n",
    "    print('Program to find first five numbers and last five numbers square in a given range')\n",
    "    \n",
    "    first = [i**2 for i in range(start, start+5)]\n",
    "    last = [i**2 for i in range(end-4,end+1)]\n",
    "    \n",
    "    return first.extend(last)\n",
    "    \n",
    "new = square(11,30)\n",
    "print(new)"
   ]
  },
  {
   "cell_type": "code",
   "execution_count": 76,
   "id": "2b550136",
   "metadata": {},
   "outputs": [
    {
     "name": "stdout",
     "output_type": "stream",
     "text": [
      "Hello\n",
      "Hello\n",
      "None\n"
     ]
    }
   ],
   "source": [
    "def fun1():\n",
    "    print('Hello')\n",
    "    \n",
    "fun1()\n",
    "\n",
    "print(fun1())"
   ]
  },
  {
   "cell_type": "code",
   "execution_count": 78,
   "id": "9041d08d",
   "metadata": {},
   "outputs": [
    {
     "name": "stdout",
     "output_type": "stream",
     "text": [
      "Start = 11, end = 30\n",
      "Program to find first five numbers and last five numbers square in a given range\n"
     ]
    },
    {
     "data": {
      "text/plain": [
       "[121, 144, 169, 196, 225, 676, 729, 784, 841, 900]"
      ]
     },
     "execution_count": 78,
     "metadata": {},
     "output_type": "execute_result"
    }
   ],
   "source": [
    "def square(start, end):\n",
    "    print(f'Start = {start}, end = {end}')\n",
    "    print('Program to find first five numbers and last five numbers square in a given range')\n",
    "    \n",
    "    first = [i**2 for i in range(start, start+5)]\n",
    "    last = [i**2 for i in range(end-4,end+1)]\n",
    "    first.extend(last)\n",
    "    return first\n",
    "    \n",
    "new = square(11,30)\n",
    "new"
   ]
  },
  {
   "cell_type": "code",
   "execution_count": 79,
   "id": "49565d6f",
   "metadata": {},
   "outputs": [
    {
     "name": "stdout",
     "output_type": "stream",
     "text": [
      "Start = 11, end = 30\n",
      "Program to find first five numbers and last five numbers square in a given range\n"
     ]
    },
    {
     "data": {
      "text/plain": [
       "[121, 144, 169, 196, 225, 676, 729, 784, 841, 900]"
      ]
     },
     "execution_count": 79,
     "metadata": {},
     "output_type": "execute_result"
    }
   ],
   "source": [
    "def square(start, end):\n",
    "    print(f'Start = {start}, end = {end}')\n",
    "    print('Program to find first five numbers and last five numbers square in a given range')\n",
    "    \n",
    "    first = [i**2 for i in range(start, start+5)]\n",
    "    last = [i**2 for i in range(end-4,end+1)]\n",
    "    \n",
    "    return first + last\n",
    "    \n",
    "new = square(11,30)\n",
    "new"
   ]
  },
  {
   "cell_type": "code",
   "execution_count": 87,
   "id": "16c44a4b",
   "metadata": {},
   "outputs": [],
   "source": [
    "def addition(a,b,c,d):\n",
    "    global x\n",
    "    x = 5\n",
    "    add = a+b+c+d+x\n",
    "    global mul\n",
    "    mul = a*b*c*d\n",
    "#     return add + mul\n",
    "\n",
    "addition(3,6,8,22)\n"
   ]
  },
  {
   "cell_type": "code",
   "execution_count": 88,
   "id": "4eee43a9",
   "metadata": {},
   "outputs": [
    {
     "data": {
      "text/plain": [
       "3168"
      ]
     },
     "execution_count": 88,
     "metadata": {},
     "output_type": "execute_result"
    }
   ],
   "source": [
    "mul"
   ]
  },
  {
   "cell_type": "code",
   "execution_count": null,
   "id": "b0b41a59",
   "metadata": {},
   "outputs": [],
   "source": [
    "x"
   ]
  },
  {
   "cell_type": "code",
   "execution_count": null,
   "id": "a52a041a",
   "metadata": {},
   "outputs": [],
   "source": []
  },
  {
   "cell_type": "code",
   "execution_count": null,
   "id": "fcc31dbb",
   "metadata": {},
   "outputs": [],
   "source": []
  },
  {
   "cell_type": "code",
   "execution_count": null,
   "id": "c993e71b",
   "metadata": {},
   "outputs": [],
   "source": []
  },
  {
   "cell_type": "code",
   "execution_count": null,
   "id": "bfd64ef2",
   "metadata": {},
   "outputs": [],
   "source": []
  },
  {
   "cell_type": "code",
   "execution_count": null,
   "id": "0f4cb355",
   "metadata": {},
   "outputs": [],
   "source": []
  },
  {
   "cell_type": "code",
   "execution_count": null,
   "id": "e5726340",
   "metadata": {},
   "outputs": [],
   "source": []
  },
  {
   "cell_type": "code",
   "execution_count": null,
   "id": "b8abe632",
   "metadata": {},
   "outputs": [],
   "source": []
  },
  {
   "cell_type": "code",
   "execution_count": null,
   "id": "9791896a",
   "metadata": {},
   "outputs": [],
   "source": []
  },
  {
   "cell_type": "code",
   "execution_count": null,
   "id": "46b19295",
   "metadata": {},
   "outputs": [],
   "source": []
  },
  {
   "cell_type": "code",
   "execution_count": null,
   "id": "fdcd7220",
   "metadata": {},
   "outputs": [],
   "source": []
  },
  {
   "cell_type": "code",
   "execution_count": null,
   "id": "5db2bb42",
   "metadata": {},
   "outputs": [],
   "source": []
  },
  {
   "cell_type": "code",
   "execution_count": null,
   "id": "a2139ea3",
   "metadata": {},
   "outputs": [],
   "source": []
  },
  {
   "cell_type": "code",
   "execution_count": null,
   "id": "e2237649",
   "metadata": {},
   "outputs": [],
   "source": []
  },
  {
   "cell_type": "code",
   "execution_count": null,
   "id": "236fcbf8",
   "metadata": {},
   "outputs": [],
   "source": []
  },
  {
   "cell_type": "code",
   "execution_count": null,
   "id": "6a9bdf85",
   "metadata": {},
   "outputs": [],
   "source": []
  },
  {
   "cell_type": "code",
   "execution_count": null,
   "id": "a35af2ec",
   "metadata": {},
   "outputs": [],
   "source": []
  },
  {
   "cell_type": "code",
   "execution_count": null,
   "id": "2c9bcff3",
   "metadata": {},
   "outputs": [],
   "source": []
  },
  {
   "cell_type": "code",
   "execution_count": null,
   "id": "628a1112",
   "metadata": {},
   "outputs": [],
   "source": []
  },
  {
   "cell_type": "code",
   "execution_count": null,
   "id": "72c626f4",
   "metadata": {},
   "outputs": [],
   "source": []
  },
  {
   "cell_type": "code",
   "execution_count": null,
   "id": "6d4aec92",
   "metadata": {},
   "outputs": [],
   "source": []
  },
  {
   "cell_type": "code",
   "execution_count": null,
   "id": "fc0e1d26",
   "metadata": {},
   "outputs": [],
   "source": []
  },
  {
   "cell_type": "code",
   "execution_count": null,
   "id": "2a528b15",
   "metadata": {},
   "outputs": [],
   "source": []
  },
  {
   "cell_type": "code",
   "execution_count": null,
   "id": "3b3f6a58",
   "metadata": {},
   "outputs": [],
   "source": []
  },
  {
   "cell_type": "code",
   "execution_count": null,
   "id": "8eb3749d",
   "metadata": {},
   "outputs": [],
   "source": []
  },
  {
   "cell_type": "code",
   "execution_count": null,
   "id": "70db0a3c",
   "metadata": {},
   "outputs": [],
   "source": []
  },
  {
   "cell_type": "code",
   "execution_count": null,
   "id": "7e120b25",
   "metadata": {},
   "outputs": [],
   "source": []
  },
  {
   "cell_type": "code",
   "execution_count": null,
   "id": "1b5aa9fe",
   "metadata": {},
   "outputs": [],
   "source": []
  },
  {
   "cell_type": "code",
   "execution_count": null,
   "id": "02c44958",
   "metadata": {},
   "outputs": [],
   "source": []
  },
  {
   "cell_type": "code",
   "execution_count": null,
   "id": "155ca6ff",
   "metadata": {},
   "outputs": [],
   "source": []
  },
  {
   "cell_type": "code",
   "execution_count": null,
   "id": "e99a563e",
   "metadata": {},
   "outputs": [],
   "source": []
  },
  {
   "cell_type": "code",
   "execution_count": null,
   "id": "55a12f1c",
   "metadata": {},
   "outputs": [],
   "source": []
  },
  {
   "cell_type": "code",
   "execution_count": null,
   "id": "715f096d",
   "metadata": {},
   "outputs": [],
   "source": []
  },
  {
   "cell_type": "code",
   "execution_count": null,
   "id": "6b81c096",
   "metadata": {},
   "outputs": [],
   "source": []
  },
  {
   "cell_type": "code",
   "execution_count": null,
   "id": "677c327a",
   "metadata": {},
   "outputs": [],
   "source": []
  },
  {
   "cell_type": "code",
   "execution_count": null,
   "id": "60444085",
   "metadata": {},
   "outputs": [],
   "source": []
  },
  {
   "cell_type": "code",
   "execution_count": null,
   "id": "737dd2bc",
   "metadata": {},
   "outputs": [],
   "source": []
  },
  {
   "cell_type": "code",
   "execution_count": null,
   "id": "7d627ef0",
   "metadata": {},
   "outputs": [],
   "source": []
  },
  {
   "cell_type": "code",
   "execution_count": null,
   "id": "ed541e29",
   "metadata": {},
   "outputs": [],
   "source": []
  },
  {
   "cell_type": "code",
   "execution_count": null,
   "id": "f4b1807e",
   "metadata": {},
   "outputs": [],
   "source": []
  },
  {
   "cell_type": "code",
   "execution_count": null,
   "id": "aa75b2cf",
   "metadata": {},
   "outputs": [],
   "source": []
  },
  {
   "cell_type": "code",
   "execution_count": null,
   "id": "409fe1fd",
   "metadata": {},
   "outputs": [],
   "source": []
  },
  {
   "cell_type": "code",
   "execution_count": null,
   "id": "deff0c2a",
   "metadata": {},
   "outputs": [],
   "source": []
  },
  {
   "cell_type": "code",
   "execution_count": null,
   "id": "34ae5b2c",
   "metadata": {},
   "outputs": [],
   "source": []
  },
  {
   "cell_type": "code",
   "execution_count": null,
   "id": "45c716d7",
   "metadata": {},
   "outputs": [],
   "source": []
  },
  {
   "cell_type": "code",
   "execution_count": null,
   "id": "f07468dc",
   "metadata": {},
   "outputs": [],
   "source": []
  },
  {
   "cell_type": "code",
   "execution_count": null,
   "id": "787074ff",
   "metadata": {},
   "outputs": [],
   "source": []
  },
  {
   "cell_type": "code",
   "execution_count": null,
   "id": "c943700c",
   "metadata": {},
   "outputs": [],
   "source": []
  },
  {
   "cell_type": "code",
   "execution_count": null,
   "id": "6beb5105",
   "metadata": {},
   "outputs": [],
   "source": []
  },
  {
   "cell_type": "code",
   "execution_count": null,
   "id": "2b79156f",
   "metadata": {},
   "outputs": [],
   "source": []
  }
 ],
 "metadata": {
  "kernelspec": {
   "display_name": "Python 3 (ipykernel)",
   "language": "python",
   "name": "python3"
  },
  "language_info": {
   "codemirror_mode": {
    "name": "ipython",
    "version": 3
   },
   "file_extension": ".py",
   "mimetype": "text/x-python",
   "name": "python",
   "nbconvert_exporter": "python",
   "pygments_lexer": "ipython3",
   "version": "3.11.3"
  }
 },
 "nbformat": 4,
 "nbformat_minor": 5
}
