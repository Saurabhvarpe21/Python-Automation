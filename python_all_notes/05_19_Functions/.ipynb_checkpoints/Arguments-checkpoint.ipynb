{
 "cells": [
  {
   "cell_type": "markdown",
   "id": "25ccda72",
   "metadata": {},
   "source": [
    "# Types of Arguments"
   ]
  },
  {
   "cell_type": "code",
   "execution_count": null,
   "id": "f66752c9",
   "metadata": {},
   "outputs": [],
   "source": [
    "1. Positional Argument\n",
    "2. Default Argument\n",
    "3. Arbitary Arguments (Variable length arguments) Var args\n",
    "4. Keyward Arguments"
   ]
  },
  {
   "cell_type": "markdown",
   "id": "b572fdc2",
   "metadata": {},
   "source": [
    "## 1. Positional Argument"
   ]
  },
  {
   "cell_type": "code",
   "execution_count": null,
   "id": "5b3f5319",
   "metadata": {},
   "outputs": [],
   "source": [
    "Number of parameters == Number of arguments\n",
    "\n",
    "arguments that we pass to the function should be in correct positional order"
   ]
  },
  {
   "cell_type": "code",
   "execution_count": 1,
   "id": "1520f7da",
   "metadata": {},
   "outputs": [
    {
     "name": "stdout",
     "output_type": "stream",
     "text": [
      "Num1 == 10, Num2 == 20\n"
     ]
    }
   ],
   "source": [
    "def add(num1,num2): # defining function\n",
    "    print(f'Num1 == {num1}, Num2 == {num2}')\n",
    "    \n",
    "add(10,20)  # calling function"
   ]
  },
  {
   "cell_type": "code",
   "execution_count": 2,
   "id": "8f0366c1",
   "metadata": {},
   "outputs": [
    {
     "name": "stdout",
     "output_type": "stream",
     "text": [
      "Num1 == 20, Num2 == 10\n"
     ]
    }
   ],
   "source": [
    "def add(num1,num2): # defining function\n",
    "    print(f'Num1 == {num1}, Num2 == {num2}')\n",
    "    \n",
    "add(20,10)  # calling function"
   ]
  },
  {
   "cell_type": "code",
   "execution_count": 3,
   "id": "b7b13d20",
   "metadata": {},
   "outputs": [
    {
     "name": "stdout",
     "output_type": "stream",
     "text": [
      "Num1 == 20, Num2 == 10\n",
      "Addition is: 30\n"
     ]
    }
   ],
   "source": [
    "def add(num1,num2): # defining function\n",
    "    print(f'Num1 == {num1}, Num2 == {num2}')\n",
    "    addition = num1 +num2\n",
    "    print('Addition is:',addition)\n",
    "    \n",
    "add(20,10)  # calling function"
   ]
  },
  {
   "cell_type": "code",
   "execution_count": 4,
   "id": "ed25ebf0",
   "metadata": {},
   "outputs": [
    {
     "name": "stdout",
     "output_type": "stream",
     "text": [
      "Num1 == 10, Num2 == 20\n",
      "Addition is: 30\n"
     ]
    }
   ],
   "source": [
    "def add(num1,num2): # defining function\n",
    "    print(f'Num1 == {num1}, Num2 == {num2}')\n",
    "    addition = num1 +num2\n",
    "    print('Addition is:',addition)\n",
    "    \n",
    "add(10,20)  # calling function"
   ]
  },
  {
   "cell_type": "markdown",
   "id": "27b35d4e",
   "metadata": {},
   "source": [
    "## 2. Default Argumets"
   ]
  },
  {
   "cell_type": "code",
   "execution_count": 5,
   "id": "b1bb4ecb",
   "metadata": {},
   "outputs": [
    {
     "name": "stdout",
     "output_type": "stream",
     "text": [
      "N1 == 5, N2 == 6\n",
      "Multiplication of numbers is : 30\n"
     ]
    }
   ],
   "source": [
    "def multiplication(n1,n2):\n",
    "    print(f'N1 == {n1}, N2 == {n2}')\n",
    "    mul = n1 * n2\n",
    "    print('Multiplication of numbers is :',mul)\n",
    "    \n",
    "multiplication(5,6)"
   ]
  },
  {
   "cell_type": "code",
   "execution_count": 6,
   "id": "af9e6da6",
   "metadata": {},
   "outputs": [
    {
     "ename": "TypeError",
     "evalue": "multiplication() missing 1 required positional argument: 'n3'",
     "output_type": "error",
     "traceback": [
      "\u001b[1;31m---------------------------------------------------------------------------\u001b[0m",
      "\u001b[1;31mTypeError\u001b[0m                                 Traceback (most recent call last)",
      "\u001b[1;32m<ipython-input-6-4b8e86ba3323>\u001b[0m in \u001b[0;36m<module>\u001b[1;34m\u001b[0m\n\u001b[0;32m      4\u001b[0m     \u001b[0mprint\u001b[0m\u001b[1;33m(\u001b[0m\u001b[1;34m'Multiplication of numbers is :'\u001b[0m\u001b[1;33m,\u001b[0m\u001b[0mmul\u001b[0m\u001b[1;33m)\u001b[0m\u001b[1;33m\u001b[0m\u001b[1;33m\u001b[0m\u001b[0m\n\u001b[0;32m      5\u001b[0m \u001b[1;33m\u001b[0m\u001b[0m\n\u001b[1;32m----> 6\u001b[1;33m \u001b[0mmultiplication\u001b[0m\u001b[1;33m(\u001b[0m\u001b[1;36m5\u001b[0m\u001b[1;33m,\u001b[0m\u001b[1;36m6\u001b[0m\u001b[1;33m)\u001b[0m\u001b[1;33m\u001b[0m\u001b[1;33m\u001b[0m\u001b[0m\n\u001b[0m",
      "\u001b[1;31mTypeError\u001b[0m: multiplication() missing 1 required positional argument: 'n3'"
     ]
    }
   ],
   "source": [
    "def multiplication(n1,n2,n3):\n",
    "    print(f'N1 == {n1}, N2 == {n2}, N3 == {n3}')\n",
    "    mul = n1 * n2\n",
    "    print('Multiplication of numbers is :',mul)\n",
    "    \n",
    "multiplication(5,6)"
   ]
  },
  {
   "cell_type": "code",
   "execution_count": 7,
   "id": "b2e6b556",
   "metadata": {},
   "outputs": [
    {
     "name": "stdout",
     "output_type": "stream",
     "text": [
      "N1 == 5, N2 == 10, N3 == 2\n",
      "Multiplication of numbers is : 50\n"
     ]
    }
   ],
   "source": [
    "def multiplication(n1,n2,n3):\n",
    "    print(f'N1 == {n1}, N2 == {n2}, N3 == {n3}')\n",
    "    mul = n1 * n2\n",
    "    print('Multiplication of numbers is :',mul)\n",
    "    \n",
    "multiplication(5,10,2)"
   ]
  },
  {
   "cell_type": "code",
   "execution_count": 8,
   "id": "79a6c371",
   "metadata": {},
   "outputs": [
    {
     "name": "stdout",
     "output_type": "stream",
     "text": [
      "N1 == 5, N2 == 10, N3 == 2\n",
      "Multiplication of numbers is : 50\n"
     ]
    }
   ],
   "source": [
    "def multiplication(n1,n2,n3=2):  # n1, n2 >> positional         n3 >> default\n",
    "    print(f'N1 == {n1}, N2 == {n2}, N3 == {n3}')\n",
    "    mul = n1 * n2\n",
    "    print('Multiplication of numbers is :',mul)\n",
    "    \n",
    "multiplication(5,10)"
   ]
  },
  {
   "cell_type": "code",
   "execution_count": 9,
   "id": "d8352588",
   "metadata": {},
   "outputs": [
    {
     "name": "stdout",
     "output_type": "stream",
     "text": [
      "N1 == 5, N2 == 10, N3 == 55\n",
      "Multiplication of numbers is : 50\n"
     ]
    }
   ],
   "source": [
    "def multiplication(n1,n2,n3=55):  # n1, n2 >> positional         n3 >> default\n",
    "    print(f'N1 == {n1}, N2 == {n2}, N3 == {n3}')\n",
    "    mul = n1 * n2\n",
    "    print('Multiplication of numbers is :',mul)\n",
    "    \n",
    "multiplication(5,10)"
   ]
  },
  {
   "cell_type": "code",
   "execution_count": 10,
   "id": "14267401",
   "metadata": {},
   "outputs": [
    {
     "name": "stdout",
     "output_type": "stream",
     "text": [
      "N1 == 5, N2 == 10, N3 == 44\n",
      "Multiplication of numbers is : 50\n"
     ]
    }
   ],
   "source": [
    "def multiplication(n1,n2,n3=55):  # n1, n2 >> positional         n3 >> default\n",
    "    print(f'N1 == {n1}, N2 == {n2}, N3 == {n3}')\n",
    "    mul = n1 * n2\n",
    "    print('Multiplication of numbers is :',mul)\n",
    "    \n",
    "multiplication(5,10,44)"
   ]
  },
  {
   "cell_type": "code",
   "execution_count": 11,
   "id": "be0b28bc",
   "metadata": {},
   "outputs": [
    {
     "name": "stdout",
     "output_type": "stream",
     "text": [
      "N1 == 4, N2 == 6, N3 == 8\n",
      "Multiplication of numbers is : 24\n"
     ]
    }
   ],
   "source": [
    "def multiplication(n1,n2,n3=55):  # n1, n2 >> positional         n3 >> default\n",
    "    print(f'N1 == {n1}, N2 == {n2}, N3 == {n3}')\n",
    "    mul = n1 * n2\n",
    "    print('Multiplication of numbers is :',mul)\n",
    "    \n",
    "a,b,c = 4,6,8\n",
    "multiplication(a,b,c)"
   ]
  },
  {
   "cell_type": "code",
   "execution_count": 12,
   "id": "38bae66b",
   "metadata": {},
   "outputs": [
    {
     "name": "stdout",
     "output_type": "stream",
     "text": [
      "N1 == 4, N2 == 6, N3 == 55\n",
      "Multiplication of numbers is : 24\n"
     ]
    }
   ],
   "source": [
    "def multiplication(n1,n2,n3=55):  # n1, n2 >> positional         n3 >> default\n",
    "    print(f'N1 == {n1}, N2 == {n2}, N3 == {n3}')\n",
    "    mul = n1 * n2\n",
    "    print('Multiplication of numbers is :',mul)\n",
    "    \n",
    "a,b = 4,6\n",
    "multiplication(a,b)"
   ]
  },
  {
   "cell_type": "code",
   "execution_count": 13,
   "id": "cae11983",
   "metadata": {},
   "outputs": [
    {
     "name": "stdout",
     "output_type": "stream",
     "text": [
      "N1 == 15, N2 == 10, N3 == 55\n",
      "Multiplication of numbers is : 150\n"
     ]
    }
   ],
   "source": [
    "def multiplication(n1,n2=10,n3=55):  # n1 >> positional        n2,  n3 >> default\n",
    "    print(f'N1 == {n1}, N2 == {n2}, N3 == {n3}')\n",
    "    mul = n1 * n2\n",
    "    print('Multiplication of numbers is :',mul)\n",
    "    \n",
    "a = 15\n",
    "multiplication(a)"
   ]
  },
  {
   "cell_type": "code",
   "execution_count": 14,
   "id": "9e991a2e",
   "metadata": {},
   "outputs": [
    {
     "name": "stdout",
     "output_type": "stream",
     "text": [
      "N1 == 15, N2 == 45, N3 == 55\n",
      "Multiplication of numbers is : 675\n"
     ]
    }
   ],
   "source": [
    "def multiplication(n1,n2=10,n3=55):  # n1 >> positional        n2,  n3 >> default\n",
    "    print(f'N1 == {n1}, N2 == {n2}, N3 == {n3}')\n",
    "    mul = n1 * n2\n",
    "    print('Multiplication of numbers is :',mul)\n",
    "    \n",
    "a = 15\n",
    "multiplication(a,45)"
   ]
  },
  {
   "cell_type": "code",
   "execution_count": 15,
   "id": "446c5eff",
   "metadata": {},
   "outputs": [
    {
     "name": "stdout",
     "output_type": "stream",
     "text": [
      "N1 == 78, N2 == 45, N3 == 55\n",
      "Multiplication of numbers is : 3510\n"
     ]
    }
   ],
   "source": [
    "def multiplication(n1=14,n2=10,n3=55):  # n1 , n2,  n3 >> default\n",
    "    print(f'N1 == {n1}, N2 == {n2}, N3 == {n3}')\n",
    "    mul = n1 * n2\n",
    "    print('Multiplication of numbers is :',mul)\n",
    "    \n",
    "\n",
    "multiplication(78,45)"
   ]
  },
  {
   "cell_type": "code",
   "execution_count": 16,
   "id": "cd5999fd",
   "metadata": {},
   "outputs": [
    {
     "name": "stdout",
     "output_type": "stream",
     "text": [
      "N1 == 14, N2 == 10, N3 == 55\n",
      "Multiplication of numbers is : 140\n"
     ]
    }
   ],
   "source": [
    "def multiplication(n1=14,n2=10,n3=55):  # n1 , n2,  n3 >> default\n",
    "    print(f'N1 == {n1}, N2 == {n2}, N3 == {n3}')\n",
    "    mul = n1 * n2\n",
    "    print('Multiplication of numbers is :',mul)\n",
    "    \n",
    "\n",
    "multiplication()"
   ]
  },
  {
   "cell_type": "markdown",
   "id": "9c15971b",
   "metadata": {},
   "source": [
    "## 3. Arbitary Arguments"
   ]
  },
  {
   "cell_type": "code",
   "execution_count": null,
   "id": "5ce64ebb",
   "metadata": {},
   "outputs": [],
   "source": [
    ">> Variable length arguments\n",
    ">> *args >> *arguments\n",
    ">> Datatype of args will be tuple\n",
    ">> When we dont know the number of arguments to be passed\n",
    ">> we cannot use *args before postional arguments\n",
    ">> if we are using *args and positional argument in the same method/ function,\n",
    "    then positional args should come first and rest will be considered as *args"
   ]
  },
  {
   "cell_type": "code",
   "execution_count": 18,
   "id": "ec7ea8b5",
   "metadata": {},
   "outputs": [
    {
     "name": "stdout",
     "output_type": "stream",
     "text": [
      "n1,n2,n3,n4,n5,n6 10 2 20 4 5 6\n",
      "Multiplication is: 48000\n"
     ]
    }
   ],
   "source": [
    "def multiplication(n1,n2,n3,n4,n5,n6):\n",
    "    print('n1,n2,n3,n4,n5,n6',n1,n2,n3,n4,n5,n6)\n",
    "    mul = n1*n2*n3*n4*n5*n6\n",
    "    print('Multiplication is:',mul)\n",
    "    \n",
    "multiplication(10,2,20,4,5,6)"
   ]
  },
  {
   "cell_type": "code",
   "execution_count": 21,
   "id": "b111086e",
   "metadata": {},
   "outputs": [
    {
     "name": "stdout",
     "output_type": "stream",
     "text": [
      "ARGS >>  (10, 2, 20, 4, 5, 6, 5, 6)\n"
     ]
    },
    {
     "data": {
      "text/plain": [
       "(10, 2, 20, 4, 5, 6, 5, 6)"
      ]
     },
     "execution_count": 21,
     "metadata": {},
     "output_type": "execute_result"
    }
   ],
   "source": [
    "def multiplication(*args):\n",
    "    print('ARGS >> ', args) # tuple\n",
    "    return args\n",
    "mul = multiplication(10,2,20,4,5,6,5,6)\n",
    "mul"
   ]
  },
  {
   "cell_type": "code",
   "execution_count": 24,
   "id": "46573e39",
   "metadata": {},
   "outputs": [
    {
     "name": "stdout",
     "output_type": "stream",
     "text": [
      "ARGS >>  (10, 2, 20, 4, 5, 6)\n",
      "10\n",
      "2\n",
      "20\n",
      "4\n",
      "5\n",
      "6\n"
     ]
    },
    {
     "data": {
      "text/plain": [
       "48000"
      ]
     },
     "execution_count": 24,
     "metadata": {},
     "output_type": "execute_result"
    }
   ],
   "source": [
    "def multiplication(*args):\n",
    "    print('ARGS >> ', args) # tuple\n",
    "    mul =1\n",
    "    for i in args:\n",
    "        print(i)\n",
    "        mul*=i\n",
    "        \n",
    "    return mul\n",
    "mul = multiplication(10,2,20,4,5,6)\n",
    "mul"
   ]
  },
  {
   "cell_type": "code",
   "execution_count": 25,
   "id": "71fb93b2",
   "metadata": {},
   "outputs": [
    {
     "name": "stdout",
     "output_type": "stream",
     "text": [
      "ARGS >>  (4, 5, 7)\n",
      "4\n",
      "5\n",
      "7\n"
     ]
    },
    {
     "data": {
      "text/plain": [
       "140"
      ]
     },
     "execution_count": 25,
     "metadata": {},
     "output_type": "execute_result"
    }
   ],
   "source": [
    "def multiplication(*args):\n",
    "    print('ARGS >> ', args) # tuple\n",
    "    mul =1\n",
    "    for i in args:\n",
    "        print(i)\n",
    "        mul*=i\n",
    "        \n",
    "    return mul\n",
    "mul = multiplication(4,5,7)\n",
    "mul"
   ]
  },
  {
   "cell_type": "code",
   "execution_count": 26,
   "id": "fc808199",
   "metadata": {},
   "outputs": [
    {
     "ename": "TypeError",
     "evalue": "multiplication() missing 1 required keyword-only argument: 'n1'",
     "output_type": "error",
     "traceback": [
      "\u001b[1;31m---------------------------------------------------------------------------\u001b[0m",
      "\u001b[1;31mTypeError\u001b[0m                                 Traceback (most recent call last)",
      "\u001b[1;32m<ipython-input-26-80730cca4e22>\u001b[0m in \u001b[0;36m<module>\u001b[1;34m\u001b[0m\n\u001b[0;32m      7\u001b[0m \u001b[1;33m\u001b[0m\u001b[0m\n\u001b[0;32m      8\u001b[0m     \u001b[1;32mreturn\u001b[0m \u001b[0mmul\u001b[0m\u001b[1;33m\u001b[0m\u001b[1;33m\u001b[0m\u001b[0m\n\u001b[1;32m----> 9\u001b[1;33m \u001b[0mmul\u001b[0m \u001b[1;33m=\u001b[0m \u001b[0mmultiplication\u001b[0m\u001b[1;33m(\u001b[0m\u001b[1;36m4\u001b[0m\u001b[1;33m,\u001b[0m\u001b[1;36m5\u001b[0m\u001b[1;33m,\u001b[0m\u001b[1;36m7\u001b[0m\u001b[1;33m)\u001b[0m\u001b[1;33m\u001b[0m\u001b[1;33m\u001b[0m\u001b[0m\n\u001b[0m\u001b[0;32m     10\u001b[0m \u001b[0mmul\u001b[0m\u001b[1;33m\u001b[0m\u001b[1;33m\u001b[0m\u001b[0m\n",
      "\u001b[1;31mTypeError\u001b[0m: multiplication() missing 1 required keyword-only argument: 'n1'"
     ]
    }
   ],
   "source": [
    "def multiplication(*args,n1):\n",
    "    print('ARGS >> ', args) # tuple\n",
    "    mul =1\n",
    "    for i in args:\n",
    "        print(i)\n",
    "        mul*=i\n",
    "        \n",
    "    return mul\n",
    "mul = multiplication(4,5,7)\n",
    "mul"
   ]
  },
  {
   "cell_type": "code",
   "execution_count": 27,
   "id": "70a8d694",
   "metadata": {},
   "outputs": [
    {
     "name": "stdout",
     "output_type": "stream",
     "text": [
      "ARGS >>  (5, 7)\n",
      "5\n",
      "7\n"
     ]
    },
    {
     "data": {
      "text/plain": [
       "35"
      ]
     },
     "execution_count": 27,
     "metadata": {},
     "output_type": "execute_result"
    }
   ],
   "source": [
    "def multiplication(n1, *args):\n",
    "    print('ARGS >> ', args) # tuple\n",
    "    mul =1\n",
    "    for i in args:\n",
    "        print(i)\n",
    "        mul*=i\n",
    "        \n",
    "    return mul\n",
    "mul = multiplication(4,5,7)\n",
    "mul"
   ]
  },
  {
   "cell_type": "code",
   "execution_count": 28,
   "id": "67113051",
   "metadata": {},
   "outputs": [
    {
     "name": "stdout",
     "output_type": "stream",
     "text": [
      "ARGS >>  (5, 7)\n",
      "5\n",
      "7\n"
     ]
    },
    {
     "data": {
      "text/plain": [
       "35"
      ]
     },
     "execution_count": 28,
     "metadata": {},
     "output_type": "execute_result"
    }
   ],
   "source": [
    "def multiplication(n1 = 15, *args):\n",
    "    print('ARGS >> ', args) # tuple\n",
    "    mul =1\n",
    "    for i in args:\n",
    "        print(i)\n",
    "        mul*=i\n",
    "        \n",
    "    return mul\n",
    "mul = multiplication(4,5,7)\n",
    "mul"
   ]
  },
  {
   "cell_type": "code",
   "execution_count": 29,
   "id": "33651cab",
   "metadata": {},
   "outputs": [
    {
     "name": "stdout",
     "output_type": "stream",
     "text": [
      "ARGS >>  (4, 5, 7)\n",
      "4\n",
      "5\n",
      "7\n"
     ]
    },
    {
     "data": {
      "text/plain": [
       "140"
      ]
     },
     "execution_count": 29,
     "metadata": {},
     "output_type": "execute_result"
    }
   ],
   "source": [
    "def multiplication(*args,n1=1): # n1=1 >> default argument\n",
    "    print('ARGS >> ', args) # tuple\n",
    "    mul = n1\n",
    "    for i in args:\n",
    "        print(i)\n",
    "        mul*=i\n",
    "        \n",
    "    return mul\n",
    "mul = multiplication(4,5,7)\n",
    "mul"
   ]
  },
  {
   "cell_type": "code",
   "execution_count": 30,
   "id": "8964a160",
   "metadata": {},
   "outputs": [
    {
     "name": "stdout",
     "output_type": "stream",
     "text": [
      "ARGS >>  (4, 5, 7)\n",
      "4\n",
      "5\n",
      "7\n"
     ]
    },
    {
     "data": {
      "text/plain": [
       "280"
      ]
     },
     "execution_count": 30,
     "metadata": {},
     "output_type": "execute_result"
    }
   ],
   "source": [
    "def multiplication(*args,n1=2): # n1=1 >> default argument\n",
    "    print('ARGS >> ', args) # tuple\n",
    "    mul = n1\n",
    "    for i in args:\n",
    "        print(i)\n",
    "        mul*=i\n",
    "        \n",
    "    return mul\n",
    "mul = multiplication(4,5,7)\n",
    "mul"
   ]
  },
  {
   "cell_type": "code",
   "execution_count": 31,
   "id": "381b411f",
   "metadata": {},
   "outputs": [
    {
     "name": "stdout",
     "output_type": "stream",
     "text": [
      "ARGS >>  (4, 5, 7)\n",
      "4\n",
      "5\n",
      "7\n"
     ]
    },
    {
     "data": {
      "text/plain": [
       "140"
      ]
     },
     "execution_count": 31,
     "metadata": {},
     "output_type": "execute_result"
    }
   ],
   "source": [
    "def multiplication(*args,n1=2): # n1=1 >> default argument\n",
    "    print('ARGS >> ', args) # tuple\n",
    "    mul = 1\n",
    "    for i in args:\n",
    "        print(i)\n",
    "        mul*=i\n",
    "        \n",
    "    return mul\n",
    "mul = multiplication(4,5,7)\n",
    "mul"
   ]
  },
  {
   "cell_type": "code",
   "execution_count": 32,
   "id": "ba05f22b",
   "metadata": {},
   "outputs": [
    {
     "name": "stdout",
     "output_type": "stream",
     "text": [
      "ARGS >>  (7, 8, 9, 4, 5, 6, 7, 8, 9, 4)\n",
      "7\n",
      "8\n",
      "9\n",
      "4\n",
      "5\n",
      "6\n",
      "7\n",
      "8\n",
      "9\n",
      "4\n"
     ]
    },
    {
     "data": {
      "text/plain": [
       "121927680"
      ]
     },
     "execution_count": 32,
     "metadata": {},
     "output_type": "execute_result"
    }
   ],
   "source": [
    "multiplication(7,8,9,4,5,6,7,8,9,4)"
   ]
  },
  {
   "cell_type": "code",
   "execution_count": 33,
   "id": "8a635c11",
   "metadata": {},
   "outputs": [
    {
     "name": "stdout",
     "output_type": "stream",
     "text": [
      "ARGS >>  (5, 7)\n",
      "5\n",
      "7\n"
     ]
    },
    {
     "data": {
      "text/plain": [
       "35"
      ]
     },
     "execution_count": 33,
     "metadata": {},
     "output_type": "execute_result"
    }
   ],
   "source": [
    "def multiplication(n1=2,*args): # n1=1 >> default argument\n",
    "    print('ARGS >> ', args) # tuple\n",
    "    mul = 1\n",
    "    for i in args:\n",
    "        print(i)\n",
    "        mul*=i\n",
    "        \n",
    "    return mul\n",
    "mul = multiplication(4,5,7)\n",
    "mul"
   ]
  },
  {
   "cell_type": "code",
   "execution_count": 34,
   "id": "c8ac6526",
   "metadata": {},
   "outputs": [
    {
     "name": "stdout",
     "output_type": "stream",
     "text": [
      "ARGS >>  (8, 9, 4, 5, 6, 7, 8, 9, 4)\n",
      "8\n",
      "9\n",
      "4\n",
      "5\n",
      "6\n",
      "7\n",
      "8\n",
      "9\n",
      "4\n"
     ]
    },
    {
     "data": {
      "text/plain": [
       "17418240"
      ]
     },
     "execution_count": 34,
     "metadata": {},
     "output_type": "execute_result"
    }
   ],
   "source": [
    "multiplication(7,8,9,4,5,6,7,8,9,4)"
   ]
  },
  {
   "cell_type": "code",
   "execution_count": 35,
   "id": "d4e16314",
   "metadata": {},
   "outputs": [
    {
     "name": "stdout",
     "output_type": "stream",
     "text": [
      "ARGS >>  (4, 5, 7)\n",
      "4\n",
      "5\n",
      "7\n"
     ]
    },
    {
     "data": {
      "text/plain": [
       "140"
      ]
     },
     "execution_count": 35,
     "metadata": {},
     "output_type": "execute_result"
    }
   ],
   "source": [
    "def multiplication(*val): \n",
    "    print('ARGS >> ', val) # tuple\n",
    "    mul = 1\n",
    "    for i in val:\n",
    "        print(i)\n",
    "        mul*=i\n",
    "        \n",
    "    return mul\n",
    "mul = multiplication(4,5,7)\n",
    "mul"
   ]
  },
  {
   "cell_type": "code",
   "execution_count": 36,
   "id": "2b77ff31",
   "metadata": {},
   "outputs": [
    {
     "name": "stdout",
     "output_type": "stream",
     "text": [
      "n1 == 11, n2 == 22, args == (), val1==100, val2 == Python\n"
     ]
    }
   ],
   "source": [
    "def addition(n1,n2,*args, val1 = 100, val2 = 'Python'):\n",
    "    print(f'n1 == {n1}, n2 == {n2}, args == {args}, val1=={val1}, val2 == {val2}')\n",
    "    \n",
    "addition(11,22)"
   ]
  },
  {
   "cell_type": "code",
   "execution_count": 37,
   "id": "e609bc35",
   "metadata": {},
   "outputs": [
    {
     "ename": "TypeError",
     "evalue": "addition() missing 1 required positional argument: 'n2'",
     "output_type": "error",
     "traceback": [
      "\u001b[1;31m---------------------------------------------------------------------------\u001b[0m",
      "\u001b[1;31mTypeError\u001b[0m                                 Traceback (most recent call last)",
      "\u001b[1;32m<ipython-input-37-6db616d9faab>\u001b[0m in \u001b[0;36m<module>\u001b[1;34m\u001b[0m\n\u001b[0;32m      2\u001b[0m     \u001b[0mprint\u001b[0m\u001b[1;33m(\u001b[0m\u001b[1;34mf'n1 == {n1}, n2 == {n2}, args == {args}, val1=={val1}, val2 == {val2}'\u001b[0m\u001b[1;33m)\u001b[0m\u001b[1;33m\u001b[0m\u001b[1;33m\u001b[0m\u001b[0m\n\u001b[0;32m      3\u001b[0m \u001b[1;33m\u001b[0m\u001b[0m\n\u001b[1;32m----> 4\u001b[1;33m \u001b[0maddition\u001b[0m\u001b[1;33m(\u001b[0m\u001b[1;36m11\u001b[0m\u001b[1;33m)\u001b[0m\u001b[1;33m\u001b[0m\u001b[1;33m\u001b[0m\u001b[0m\n\u001b[0m",
      "\u001b[1;31mTypeError\u001b[0m: addition() missing 1 required positional argument: 'n2'"
     ]
    }
   ],
   "source": [
    "def addition(n1,n2,*args, val1 = 100, val2 = 'Python'):\n",
    "    print(f'n1 == {n1}, n2 == {n2}, args == {args}, val1=={val1}, val2 == {val2}')\n",
    "    \n",
    "addition(11)"
   ]
  },
  {
   "cell_type": "code",
   "execution_count": 38,
   "id": "42bf7346",
   "metadata": {},
   "outputs": [
    {
     "name": "stdout",
     "output_type": "stream",
     "text": [
      "n1 == 11, n2 == 22, args == (3, 44, 55, 66, 77, 88), val1==100, val2 == Python\n"
     ]
    }
   ],
   "source": [
    "def addition(n1,n2,*args, val1 = 100, val2 = 'Python'):\n",
    "    print(f'n1 == {n1}, n2 == {n2}, args == {args}, val1=={val1}, val2 == {val2}')\n",
    "    \n",
    "addition(11,22,3,44,55,66,77,88)"
   ]
  },
  {
   "cell_type": "code",
   "execution_count": 40,
   "id": "313133ed",
   "metadata": {},
   "outputs": [
    {
     "name": "stdout",
     "output_type": "stream",
     "text": [
      "n1 == 11, n2 == 22, args == (55, 66, 77, 88), val1==33, val2 == 44\n"
     ]
    }
   ],
   "source": [
    "def addition(n1,n2, val1 = 100, val2 = 'Python',*args):\n",
    "    print(f'n1 == {n1}, n2 == {n2}, args == {args}, val1=={val1}, val2 == {val2}')\n",
    "    \n",
    "addition(11,22,33,44,55,66,77,88)"
   ]
  },
  {
   "cell_type": "code",
   "execution_count": 41,
   "id": "f99103b1",
   "metadata": {},
   "outputs": [
    {
     "name": "stdout",
     "output_type": "stream",
     "text": [
      "n1 == 11, n2 == 22, args == (77, 88), val1==33, val2 == 44\n"
     ]
    }
   ],
   "source": [
    "def addition(n1,n2, val1 = 100, val2 = 'Python',*args):\n",
    "    print(f'n1 == {n1}, n2 == {n2}, args == {args}, val1=={val1}, val2 == {val2}')\n",
    "    \n",
    "addition(11,22,33,44,77,88)"
   ]
  },
  {
   "cell_type": "code",
   "execution_count": 42,
   "id": "e808dbf2",
   "metadata": {},
   "outputs": [
    {
     "ename": "SyntaxError",
     "evalue": "non-default argument follows default argument (<ipython-input-42-7441f6937e63>, line 1)",
     "output_type": "error",
     "traceback": [
      "\u001b[1;36m  File \u001b[1;32m\"<ipython-input-42-7441f6937e63>\"\u001b[1;36m, line \u001b[1;32m1\u001b[0m\n\u001b[1;33m    def addition(val1 = 100, val2 = 'Python',n1,n2, *args):\u001b[0m\n\u001b[1;37m                 ^\u001b[0m\n\u001b[1;31mSyntaxError\u001b[0m\u001b[1;31m:\u001b[0m non-default argument follows default argument\n"
     ]
    }
   ],
   "source": [
    "def addition(val1 = 100, val2 = 'Python',n1,n2, *args):\n",
    "    print(f'n1 == {n1}, n2 == {n2}, args == {args}, val1=={val1}, val2 == {val2}')\n",
    "    \n",
    "addition(11,22,33,44,77,88)"
   ]
  },
  {
   "cell_type": "code",
   "execution_count": null,
   "id": "bbb02013",
   "metadata": {},
   "outputs": [],
   "source": []
  },
  {
   "cell_type": "code",
   "execution_count": null,
   "id": "73d82561",
   "metadata": {},
   "outputs": [],
   "source": []
  },
  {
   "cell_type": "code",
   "execution_count": null,
   "id": "4ed28aa6",
   "metadata": {},
   "outputs": [],
   "source": []
  },
  {
   "cell_type": "code",
   "execution_count": null,
   "id": "b3728396",
   "metadata": {},
   "outputs": [],
   "source": []
  },
  {
   "cell_type": "code",
   "execution_count": null,
   "id": "18f9b956",
   "metadata": {},
   "outputs": [],
   "source": []
  },
  {
   "cell_type": "code",
   "execution_count": null,
   "id": "b94b081d",
   "metadata": {},
   "outputs": [],
   "source": []
  },
  {
   "cell_type": "code",
   "execution_count": null,
   "id": "4d6f09a5",
   "metadata": {},
   "outputs": [],
   "source": []
  },
  {
   "cell_type": "code",
   "execution_count": null,
   "id": "002e4a5b",
   "metadata": {},
   "outputs": [],
   "source": []
  },
  {
   "cell_type": "code",
   "execution_count": null,
   "id": "9bc93c47",
   "metadata": {},
   "outputs": [],
   "source": []
  },
  {
   "cell_type": "code",
   "execution_count": null,
   "id": "7f75bae7",
   "metadata": {},
   "outputs": [],
   "source": []
  },
  {
   "cell_type": "code",
   "execution_count": null,
   "id": "b2f9d92a",
   "metadata": {},
   "outputs": [],
   "source": []
  },
  {
   "cell_type": "code",
   "execution_count": null,
   "id": "014de71b",
   "metadata": {},
   "outputs": [],
   "source": []
  },
  {
   "cell_type": "code",
   "execution_count": null,
   "id": "b216ec53",
   "metadata": {},
   "outputs": [],
   "source": []
  },
  {
   "cell_type": "code",
   "execution_count": null,
   "id": "fb6550d1",
   "metadata": {},
   "outputs": [],
   "source": []
  },
  {
   "cell_type": "code",
   "execution_count": null,
   "id": "9fd26b22",
   "metadata": {},
   "outputs": [],
   "source": []
  },
  {
   "cell_type": "code",
   "execution_count": null,
   "id": "fc7fc184",
   "metadata": {},
   "outputs": [],
   "source": []
  },
  {
   "cell_type": "code",
   "execution_count": null,
   "id": "fad04071",
   "metadata": {},
   "outputs": [],
   "source": []
  },
  {
   "cell_type": "code",
   "execution_count": null,
   "id": "f94b6c86",
   "metadata": {},
   "outputs": [],
   "source": []
  },
  {
   "cell_type": "code",
   "execution_count": null,
   "id": "78c45f6d",
   "metadata": {},
   "outputs": [],
   "source": []
  },
  {
   "cell_type": "code",
   "execution_count": null,
   "id": "01da5add",
   "metadata": {},
   "outputs": [],
   "source": []
  },
  {
   "cell_type": "code",
   "execution_count": null,
   "id": "d22f4b8f",
   "metadata": {},
   "outputs": [],
   "source": []
  },
  {
   "cell_type": "code",
   "execution_count": null,
   "id": "5a0a384c",
   "metadata": {},
   "outputs": [],
   "source": []
  },
  {
   "cell_type": "code",
   "execution_count": null,
   "id": "5d5c9b6f",
   "metadata": {},
   "outputs": [],
   "source": []
  },
  {
   "cell_type": "code",
   "execution_count": null,
   "id": "844783b7",
   "metadata": {},
   "outputs": [],
   "source": []
  },
  {
   "cell_type": "code",
   "execution_count": null,
   "id": "dd9f9130",
   "metadata": {},
   "outputs": [],
   "source": []
  },
  {
   "cell_type": "code",
   "execution_count": null,
   "id": "cb0a7a31",
   "metadata": {},
   "outputs": [],
   "source": []
  },
  {
   "cell_type": "code",
   "execution_count": null,
   "id": "87b4b0e5",
   "metadata": {},
   "outputs": [],
   "source": []
  },
  {
   "cell_type": "code",
   "execution_count": null,
   "id": "35d0a599",
   "metadata": {},
   "outputs": [],
   "source": []
  },
  {
   "cell_type": "code",
   "execution_count": null,
   "id": "26c5c406",
   "metadata": {},
   "outputs": [],
   "source": []
  },
  {
   "cell_type": "code",
   "execution_count": null,
   "id": "ec474a14",
   "metadata": {},
   "outputs": [],
   "source": []
  },
  {
   "cell_type": "code",
   "execution_count": null,
   "id": "7dba0eb9",
   "metadata": {},
   "outputs": [],
   "source": []
  },
  {
   "cell_type": "code",
   "execution_count": null,
   "id": "d20ad918",
   "metadata": {},
   "outputs": [],
   "source": []
  },
  {
   "cell_type": "code",
   "execution_count": null,
   "id": "c7a427cb",
   "metadata": {},
   "outputs": [],
   "source": []
  },
  {
   "cell_type": "code",
   "execution_count": null,
   "id": "59029046",
   "metadata": {},
   "outputs": [],
   "source": []
  },
  {
   "cell_type": "code",
   "execution_count": null,
   "id": "74894f89",
   "metadata": {},
   "outputs": [],
   "source": []
  },
  {
   "cell_type": "code",
   "execution_count": null,
   "id": "61a2ca08",
   "metadata": {},
   "outputs": [],
   "source": []
  },
  {
   "cell_type": "code",
   "execution_count": null,
   "id": "fc192af4",
   "metadata": {},
   "outputs": [],
   "source": []
  },
  {
   "cell_type": "code",
   "execution_count": null,
   "id": "1e63738a",
   "metadata": {},
   "outputs": [],
   "source": []
  },
  {
   "cell_type": "code",
   "execution_count": null,
   "id": "a2a95346",
   "metadata": {},
   "outputs": [],
   "source": []
  },
  {
   "cell_type": "code",
   "execution_count": null,
   "id": "94b17a49",
   "metadata": {},
   "outputs": [],
   "source": []
  },
  {
   "cell_type": "code",
   "execution_count": null,
   "id": "f3f911e8",
   "metadata": {},
   "outputs": [],
   "source": []
  },
  {
   "cell_type": "code",
   "execution_count": null,
   "id": "021f1b91",
   "metadata": {},
   "outputs": [],
   "source": []
  },
  {
   "cell_type": "code",
   "execution_count": null,
   "id": "9149e5aa",
   "metadata": {},
   "outputs": [],
   "source": []
  },
  {
   "cell_type": "code",
   "execution_count": null,
   "id": "cb923c01",
   "metadata": {},
   "outputs": [],
   "source": []
  },
  {
   "cell_type": "code",
   "execution_count": null,
   "id": "d028e087",
   "metadata": {},
   "outputs": [],
   "source": []
  },
  {
   "cell_type": "code",
   "execution_count": null,
   "id": "005e4285",
   "metadata": {},
   "outputs": [],
   "source": []
  },
  {
   "cell_type": "code",
   "execution_count": null,
   "id": "9a8cf2ec",
   "metadata": {},
   "outputs": [],
   "source": []
  },
  {
   "cell_type": "code",
   "execution_count": null,
   "id": "ef033c53",
   "metadata": {},
   "outputs": [],
   "source": []
  },
  {
   "cell_type": "code",
   "execution_count": null,
   "id": "aa1d6e0c",
   "metadata": {},
   "outputs": [],
   "source": []
  },
  {
   "cell_type": "code",
   "execution_count": null,
   "id": "4d85ca16",
   "metadata": {},
   "outputs": [],
   "source": []
  },
  {
   "cell_type": "code",
   "execution_count": null,
   "id": "81a0cd2a",
   "metadata": {},
   "outputs": [],
   "source": []
  },
  {
   "cell_type": "code",
   "execution_count": null,
   "id": "59c6cbec",
   "metadata": {},
   "outputs": [],
   "source": []
  },
  {
   "cell_type": "code",
   "execution_count": null,
   "id": "500646b6",
   "metadata": {},
   "outputs": [],
   "source": []
  },
  {
   "cell_type": "code",
   "execution_count": null,
   "id": "1a0f7a59",
   "metadata": {},
   "outputs": [],
   "source": []
  },
  {
   "cell_type": "code",
   "execution_count": null,
   "id": "be1f9f1e",
   "metadata": {},
   "outputs": [],
   "source": []
  }
 ],
 "metadata": {
  "kernelspec": {
   "display_name": "Python 3",
   "language": "python",
   "name": "python3"
  },
  "language_info": {
   "codemirror_mode": {
    "name": "ipython",
    "version": 3
   },
   "file_extension": ".py",
   "mimetype": "text/x-python",
   "name": "python",
   "nbconvert_exporter": "python",
   "pygments_lexer": "ipython3",
   "version": "3.8.8"
  }
 },
 "nbformat": 4,
 "nbformat_minor": 5
}
