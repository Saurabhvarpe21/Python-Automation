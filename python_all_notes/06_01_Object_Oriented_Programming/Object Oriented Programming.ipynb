{
 "cells": [
  {
   "cell_type": "markdown",
   "id": "0aa8535f",
   "metadata": {},
   "source": [
    "# Object Oriented Programming"
   ]
  },
  {
   "cell_type": "code",
   "execution_count": null,
   "id": "60b39f53",
   "metadata": {},
   "outputs": [],
   "source": [
    "class\n",
    "object\n",
    "reuse"
   ]
  },
  {
   "cell_type": "code",
   "execution_count": null,
   "id": "9af0dde1",
   "metadata": {},
   "outputs": [],
   "source": [
    "Python supports Object Oriented Programming Language (OOPs)"
   ]
  },
  {
   "cell_type": "code",
   "execution_count": null,
   "id": "d0bcf18e",
   "metadata": {},
   "outputs": [],
   "source": [
    "Mobile >>> Class\n",
    "color\n",
    "RAM\n",
    "Memory\n",
    "Brand\n",
    "\n",
    "Iphone >> Object\n",
    "Mi >>\n",
    "Oneplus >>"
   ]
  },
  {
   "cell_type": "code",
   "execution_count": null,
   "id": "c7d1ffca",
   "metadata": {},
   "outputs": [],
   "source": [
    "Object >> Real world entities(House, Laptop, Mobile, etc)\n",
    "        Physical existence of a class\n",
    "\n",
    "Everything in python is object\n",
    "\n",
    "\n",
    "Class >> Blueprint/plan/template of an object that defines variables and methods(functions)\n",
    "class is collection of objects\n",
    "\n",
    "\n",
    "object >> Instance of a class / vaiable of a class"
   ]
  },
  {
   "cell_type": "code",
   "execution_count": null,
   "id": "e639b6c1",
   "metadata": {},
   "outputs": [],
   "source": [
    "class  >> house\n",
    "variables and methods  >> Mobile, Laptop, Cupboard, Sofa, Table"
   ]
  },
  {
   "cell_type": "code",
   "execution_count": null,
   "id": "0d4fa362",
   "metadata": {},
   "outputs": [],
   "source": [
    "self variable :\n",
    "    It is used to access variables and methods inside the class\n",
    "    It helps to differentiate between instance var and local var\n",
    "    Used in every function or method\n",
    "    self should be first parameter\n",
    "    \n",
    "__init__(self) method : # constructor\n",
    "    It executes automatically when we create an object\n",
    "    Main purpose of it is to initialise instance variable"
   ]
  },
  {
   "cell_type": "code",
   "execution_count": 8,
   "id": "9503c0bf",
   "metadata": {},
   "outputs": [
    {
     "name": "stdout",
     "output_type": "stream",
     "text": [
      "Testing Method1 in class\n",
      "Testing Method1 in class\n"
     ]
    },
    {
     "data": {
      "text/plain": [
       "'Python'"
      ]
     },
     "execution_count": 8,
     "metadata": {},
     "output_type": "execute_result"
    }
   ],
   "source": [
    "class Testclass():\n",
    "    my_variable = 'Python'\n",
    "    \n",
    "    def my_method1(self):\n",
    "        print('Testing Method1 in class')\n",
    "\n",
    "        \n",
    "Obj1 = Testclass()\n",
    "Obj1.my_method1()\n",
    "\n",
    "\n",
    "Obj2 = Testclass()\n",
    "Obj2.my_method1()\n",
    "\n",
    "Obj2.my_variable"
   ]
  },
  {
   "cell_type": "code",
   "execution_count": 9,
   "id": "460137a8",
   "metadata": {},
   "outputs": [
    {
     "ename": "NameError",
     "evalue": "name 'my_variable' is not defined",
     "output_type": "error",
     "traceback": [
      "\u001b[1;31m---------------------------------------------------------------------------\u001b[0m",
      "\u001b[1;31mNameError\u001b[0m                                 Traceback (most recent call last)",
      "\u001b[1;32m<ipython-input-9-75dc0442333b>\u001b[0m in \u001b[0;36m<module>\u001b[1;34m\u001b[0m\n\u001b[1;32m----> 1\u001b[1;33m \u001b[0mmy_variable\u001b[0m\u001b[1;33m\u001b[0m\u001b[1;33m\u001b[0m\u001b[0m\n\u001b[0m",
      "\u001b[1;31mNameError\u001b[0m: name 'my_variable' is not defined"
     ]
    }
   ],
   "source": [
    "my_variable"
   ]
  },
  {
   "cell_type": "code",
   "execution_count": 10,
   "id": "b3ecf31a",
   "metadata": {},
   "outputs": [],
   "source": [
    "def ClassName():\n",
    "    print('Hello we are learning OOPs')"
   ]
  },
  {
   "cell_type": "code",
   "execution_count": 11,
   "id": "17c01e21",
   "metadata": {},
   "outputs": [
    {
     "name": "stdout",
     "output_type": "stream",
     "text": [
      "Hello we are learning OOPs\n"
     ]
    }
   ],
   "source": [
    "class ClassName():\n",
    "    print('Hello we are learning OOPs')"
   ]
  },
  {
   "cell_type": "code",
   "execution_count": 18,
   "id": "c964841b",
   "metadata": {},
   "outputs": [
    {
     "name": "stdout",
     "output_type": "stream",
     "text": [
      "Price of Mobile is : 30000\n",
      "Color Function\n"
     ]
    },
    {
     "data": {
      "text/plain": [
       "'Python'"
      ]
     },
     "execution_count": 18,
     "metadata": {},
     "output_type": "execute_result"
    }
   ],
   "source": [
    "class mobile():   # Class Name\n",
    "    x = 'Python'  # Class Variable\n",
    "    \n",
    "    def price(self): # method/function\n",
    "        p = 30000    # local variable\n",
    "        print('Price of Mobile is :',p)\n",
    "        \n",
    "    def color(self): # method\n",
    "        print('Color Function')\n",
    "        \n",
    "# Create Object of a class\n",
    "\n",
    "Objectname = mobile()\n",
    "Objectname.price()\n",
    "Objectname.color()\n",
    "Objectname.x\n"
   ]
  },
  {
   "cell_type": "code",
   "execution_count": null,
   "id": "e3e8e13a",
   "metadata": {},
   "outputs": [],
   "source": [
    "Project.py   >> 25 functions >> 200 code\n",
    "\n",
    "preprocessing >> 10\n",
    "feature_selection >> 8\n",
    "model_training >> 4\n",
    "model_evaluation >> 3\n",
    "\n"
   ]
  },
  {
   "cell_type": "code",
   "execution_count": null,
   "id": "491c521c",
   "metadata": {},
   "outputs": [],
   "source": [
    "class Preprocessing():\n",
    "    var1 = 100\n",
    "    var2 = 200\n",
    "    \n",
    "    def get_data(csv_file_path):\n",
    "        df = pd.read_csv()\n",
    "        return df\n",
    "    \n",
    "    def handle_outlier(df):\n",
    "        df = zscore()\n",
    "        return df\n",
    "    \n",
    "    def handle_missing_values(df):\n",
    "        df = df.fillna()\n",
    "        return df\n",
    "    \n",
    "class Model_training():\n",
    "    \n",
    "    def logistic_regression(df):\n",
    "        print('Logistic Regression')\n",
    "        return model\n",
    "    \n",
    "    def KNN(df):\n",
    "        print('KNN ')\n",
    "        return model\n",
    "    \n",
    "    def Random_forest(df):\n",
    "        print('Random_forest Regression')\n",
    "        return model\n",
    "    \n",
    "    \n",
    "Obj1 = Preprocessing()\n",
    "Obj2 = Model_training()\n"
   ]
  },
  {
   "cell_type": "code",
   "execution_count": null,
   "id": "4ffcacf8",
   "metadata": {},
   "outputs": [],
   "source": [
    "def get_data(csv_file_path):\n",
    "        df = pd.read_csv()\n",
    "        return df\n",
    "    \n",
    "def handle_outlier(df):\n",
    "    df = zscore()\n",
    "    return df\n",
    "\n",
    "def handle_missing_values(df):\n",
    "    df = df.fillna()\n",
    "    return df\n",
    "\n",
    "df1 = get_data(path)\n",
    "df2 = handle_outlier(df1)\n",
    "df3 = handle_missing_values(df2)"
   ]
  },
  {
   "cell_type": "markdown",
   "id": "5a06c15e",
   "metadata": {},
   "source": [
    "## class structure"
   ]
  },
  {
   "cell_type": "code",
   "execution_count": null,
   "id": "92f0d41d",
   "metadata": {},
   "outputs": [],
   "source": []
  },
  {
   "cell_type": "code",
   "execution_count": 36,
   "id": "35be2f02",
   "metadata": {},
   "outputs": [
    {
     "name": "stdout",
     "output_type": "stream",
     "text": [
      "We are in INIT Function\n",
      "This is my method2\n",
      "Value in variable x is : 100\n",
      "Value in variable a is : python\n"
     ]
    },
    {
     "ename": "AttributeError",
     "evalue": "'ClassName' object has no attribute 'z'",
     "output_type": "error",
     "traceback": [
      "\u001b[1;31m---------------------------------------------------------------------------\u001b[0m",
      "\u001b[1;31mAttributeError\u001b[0m                            Traceback (most recent call last)",
      "\u001b[1;32m<ipython-input-36-79782a2cfc62>\u001b[0m in \u001b[0;36m<module>\u001b[1;34m\u001b[0m\n\u001b[0;32m     26\u001b[0m \u001b[0mobj\u001b[0m \u001b[1;33m=\u001b[0m \u001b[0mClassName\u001b[0m\u001b[1;33m(\u001b[0m\u001b[1;33m)\u001b[0m\u001b[1;33m\u001b[0m\u001b[1;33m\u001b[0m\u001b[0m\n\u001b[0;32m     27\u001b[0m \u001b[1;31m# obj.my_method1()\u001b[0m\u001b[1;33m\u001b[0m\u001b[1;33m\u001b[0m\u001b[1;33m\u001b[0m\u001b[0m\n\u001b[1;32m---> 28\u001b[1;33m \u001b[0mobj\u001b[0m\u001b[1;33m.\u001b[0m\u001b[0mmy_method2\u001b[0m\u001b[1;33m(\u001b[0m\u001b[1;33m)\u001b[0m\u001b[1;33m\u001b[0m\u001b[1;33m\u001b[0m\u001b[0m\n\u001b[0m",
      "\u001b[1;32m<ipython-input-36-79782a2cfc62>\u001b[0m in \u001b[0;36mmy_method2\u001b[1;34m(self)\u001b[0m\n\u001b[0;32m     21\u001b[0m         \u001b[0mprint\u001b[0m\u001b[1;33m(\u001b[0m\u001b[1;34m'Value in variable a is :'\u001b[0m\u001b[1;33m,\u001b[0m \u001b[0mself\u001b[0m\u001b[1;33m.\u001b[0m\u001b[0ma\u001b[0m\u001b[1;33m)\u001b[0m\u001b[1;33m\u001b[0m\u001b[1;33m\u001b[0m\u001b[0m\n\u001b[0;32m     22\u001b[0m \u001b[1;31m#         self.my_method1()\u001b[0m\u001b[1;33m\u001b[0m\u001b[1;33m\u001b[0m\u001b[1;33m\u001b[0m\u001b[0m\n\u001b[1;32m---> 23\u001b[1;33m         \u001b[0mprint\u001b[0m\u001b[1;33m(\u001b[0m\u001b[0mself\u001b[0m\u001b[1;33m.\u001b[0m\u001b[0mz\u001b[0m\u001b[1;33m)\u001b[0m\u001b[1;33m\u001b[0m\u001b[1;33m\u001b[0m\u001b[0m\n\u001b[0m\u001b[0;32m     24\u001b[0m \u001b[1;33m\u001b[0m\u001b[0m\n\u001b[0;32m     25\u001b[0m \u001b[1;33m\u001b[0m\u001b[0m\n",
      "\u001b[1;31mAttributeError\u001b[0m: 'ClassName' object has no attribute 'z'"
     ]
    }
   ],
   "source": [
    "class ClassName():  # Class name\n",
    "    \n",
    "    company_name = 'TCS'    # class var1\n",
    "    x = 100                 # class var2\n",
    "    y = 200                 # class var3\n",
    "    \n",
    "    def __init__(self):    # INIT function >> Constructor   >> It executes automatically when we create an object\n",
    "        print('We are in INIT Function')\n",
    "        self.a = 'python'            # instance var\n",
    "    \n",
    "    def my_method1(self):\n",
    "        z = 111                       # local var\n",
    "        print('This is my method1')\n",
    "        print(self.x)\n",
    "        print(self.y)\n",
    "        print('Z == ',z)\n",
    "        \n",
    "    def my_method2(self):\n",
    "        print('This is my method2')\n",
    "        print('Value in variable x is :', self.x)\n",
    "        print('Value in variable a is :', self.a)\n",
    "#         self.my_method1()\n",
    "        print(self.z)\n",
    "    \n",
    "    \n",
    "obj = ClassName()\n",
    "# obj.my_method1()\n",
    "obj.my_method2()"
   ]
  },
  {
   "cell_type": "code",
   "execution_count": 68,
   "id": "6d2a9678",
   "metadata": {},
   "outputs": [
    {
     "name": "stdout",
     "output_type": "stream",
     "text": [
      "We are in INIT Function\n",
      "20 Hello\n",
      "##########################################################################################\n",
      "We are in method1\n",
      "Class Variable  1000\n",
      "Value is  500\n",
      "A is : 11\n",
      "argument1 : 20\n",
      "instance variable1 : This is instance var1\n",
      "We are in method2\n",
      "Class Varibale2 : 2000\n",
      "instance variable2 : This is instance var2\n",
      "Variable in my_method1 : 11\n"
     ]
    }
   ],
   "source": [
    "class ClassName():  # Class name\n",
    "    \n",
    "    class_var1 = 1000   # class variable\n",
    "    class_var2 = 2000   # class variable\n",
    "    \n",
    "    \n",
    "    def __init__(self,arg1,arg2):    # INIT function >> Constructor   >> It executes automatically when we create an object\n",
    "        print('We are in INIT Function')\n",
    "        print(arg1,arg2)\n",
    "        self.argument1 = arg1   # instance var\n",
    "        self.arg2 = arg2\n",
    "        \n",
    "        self.instance_var1 = 'This is instance var1'\n",
    "        self.instance_var2 = 'This is instance var2'\n",
    "        \n",
    "    \n",
    "    def my_method1(self, value): \n",
    "        global a   # making a global var\n",
    "        a = 11      # local var\n",
    "        \n",
    "        print('We are in method1')\n",
    "        print('Class Variable ', self.class_var1)\n",
    "        print('Value is ',value)\n",
    "        print('A is :', a)\n",
    "        print('argument1 :',self.argument1)\n",
    "        print('instance variable1 :', self.instance_var1)\n",
    "    \n",
    "        \n",
    "        \n",
    "    def my_method2(self): \n",
    "        print('We are in method2')\n",
    "#         self.my_method1(500)\n",
    "        print('Class Varibale2 :', self.class_var2)\n",
    "        print('instance variable2 :', self.instance_var2)\n",
    "        print('Variable in my_method1 :', a)\n",
    "\n",
    "        \n",
    "        \n",
    "        \n",
    "# Object creation\n",
    "Obj = ClassName(20, 'Hello')\n",
    "print('###'*30)\n",
    "Obj.my_method1(500)\n",
    "Obj.my_method2()\n"
   ]
  },
  {
   "cell_type": "code",
   "execution_count": null,
   "id": "c87453d8",
   "metadata": {},
   "outputs": [],
   "source": []
  },
  {
   "cell_type": "code",
   "execution_count": 69,
   "id": "9907b496",
   "metadata": {},
   "outputs": [
    {
     "name": "stdout",
     "output_type": "stream",
     "text": [
      "We are in INIT Function\n",
      "20 Hello\n",
      "##########################################################################################\n",
      "We are in method1\n",
      "Class Variable  1000\n",
      "Value is  500\n",
      "A is : 11\n",
      "argument1 : 20\n",
      "instance variable1 : This is instance var1\n",
      "##########################################################################################\n",
      "We are in method2\n",
      "Class Varibale2 : 2000\n",
      "instance variable2 : This is instance var2\n",
      "Variable in my_method1 : 11\n"
     ]
    }
   ],
   "source": [
    "class ClassName():  # Class name\n",
    "    \n",
    "    class_var1 = 1000   # class variable\n",
    "    class_var2 = 2000   # class variable\n",
    "    \n",
    "    \n",
    "    def __init__(self,arg1,arg2):    # INIT function >> Constructor   >> It executes automatically when we create an object\n",
    "        print('We are in INIT Function')\n",
    "        print(arg1,arg2)\n",
    "        self.argument1 = arg1   # instance var\n",
    "        self.arg2 = arg2\n",
    "        \n",
    "        self.instance_var1 = 'This is instance var1'\n",
    "        self.instance_var2 = 'This is instance var2'\n",
    "        \n",
    "    \n",
    "    def my_method1(self, value): \n",
    "#         global a   # making a global var\n",
    "        self.a = 11      # instance var\n",
    "        \n",
    "        print('We are in method1')\n",
    "        print('Class Variable ', self.class_var1)\n",
    "        print('Value is ',value)\n",
    "        print('A is :', a)\n",
    "        print('argument1 :',self.argument1)\n",
    "        print('instance variable1 :', self.instance_var1)\n",
    "    \n",
    "        \n",
    "        \n",
    "    def my_method2(self): \n",
    "        print('We are in method2')\n",
    "#         self.my_method1(500)\n",
    "        print('Class Varibale2 :', self.class_var2)\n",
    "        print('instance variable2 :', self.instance_var2)\n",
    "        print('Variable in my_method1 :', self.a)\n",
    "\n",
    "        \n",
    "        \n",
    "        \n",
    "# Object creation\n",
    "Obj = ClassName(20, 'Hello')\n",
    "print('###'*30)\n",
    "Obj.my_method1(500)\n",
    "print('###'*30)\n",
    "Obj.my_method2()"
   ]
  },
  {
   "cell_type": "code",
   "execution_count": 72,
   "id": "6a723277",
   "metadata": {},
   "outputs": [
    {
     "data": {
      "text/plain": [
       "11"
      ]
     },
     "execution_count": 72,
     "metadata": {},
     "output_type": "execute_result"
    }
   ],
   "source": [
    "def my_method1(): \n",
    "        global s   # making a global var\n",
    "        s = 11   \n",
    "\n",
    "my_method1()\n",
    "s"
   ]
  },
  {
   "cell_type": "code",
   "execution_count": 76,
   "id": "534585d1",
   "metadata": {},
   "outputs": [
    {
     "name": "stdout",
     "output_type": "stream",
     "text": [
      "We are in init function\n",
      "addition function\n",
      "Addition of 10 and 20 is 30\n",
      "multiplication function\n",
      "Multiplication of 10 and 20 is 200\n"
     ]
    }
   ],
   "source": [
    "class calculation():\n",
    "    a = 10\n",
    "    b = 20\n",
    "    \n",
    "    def __init__(self):\n",
    "        print('We are in init function')\n",
    "        \n",
    "    def addition(self):\n",
    "        print('addition function')\n",
    "        add = self.a + self.b\n",
    "        print(f'Addition of {self.a} and {self.b} is {add}')\n",
    "        \n",
    "    def multiplication(self):\n",
    "        print('multiplication function')\n",
    "        mul = self.a * self.b\n",
    "        print(f'Multiplication of {self.a} and {self.b} is {mul}')\n",
    "        \n",
    "        \n",
    "Obj = calculation()\n",
    "Obj.addition()\n",
    "Obj.multiplication()"
   ]
  },
  {
   "cell_type": "code",
   "execution_count": 81,
   "id": "da4e1a9e",
   "metadata": {},
   "outputs": [
    {
     "name": "stdout",
     "output_type": "stream",
     "text": [
      "We are in init function\n",
      "a == 40\n",
      "b == 50\n",
      "##########################################################################################\n",
      "addition function\n",
      "Addition of 40 and 50 is 90\n",
      "Velocity\n",
      "##########################################################################################\n",
      "multiplication function\n",
      "Multiplication of 40 and 50 is 2000\n"
     ]
    }
   ],
   "source": [
    "global_var = 'Velocity'\n",
    "\n",
    "class calculation():\n",
    "    \n",
    "    \n",
    "    def __init__(self,a,b,):\n",
    "        print('We are in init function')\n",
    "        print(f'a == {a}')\n",
    "        print(f'b == {b}')\n",
    "        self.a = a\n",
    "        self.b = b\n",
    "        \n",
    "    def addition(self):\n",
    "        print('addition function')\n",
    "        add = self.a + self.b\n",
    "        print(f'Addition of {self.a} and {self.b} is {add}')\n",
    "        print(global_var)\n",
    "        \n",
    "    def multiplication(self):\n",
    "        print('multiplication function')\n",
    "        mul = self.a * self.b\n",
    "        print(f'Multiplication of {self.a} and {self.b} is {mul}')\n",
    "        \n",
    "        \n",
    "Obj = calculation(40,50)\n",
    "print('###'*30)\n",
    "Obj.addition()\n",
    "print('###'*30)\n",
    "Obj.multiplication()"
   ]
  },
  {
   "cell_type": "code",
   "execution_count": 82,
   "id": "c06184b0",
   "metadata": {},
   "outputs": [
    {
     "name": "stdout",
     "output_type": "stream",
     "text": [
      "We are in INIT Function\n",
      "20 Hello\n",
      "##########################################################################################\n"
     ]
    },
    {
     "ename": "AttributeError",
     "evalue": "'int' object has no attribute 'a'",
     "output_type": "error",
     "traceback": [
      "\u001b[1;31m---------------------------------------------------------------------------\u001b[0m",
      "\u001b[1;31mAttributeError\u001b[0m                            Traceback (most recent call last)",
      "\u001b[1;32m<ipython-input-82-9acb03af603a>\u001b[0m in \u001b[0;36m<module>\u001b[1;34m\u001b[0m\n\u001b[0;32m     41\u001b[0m \u001b[0mObj\u001b[0m \u001b[1;33m=\u001b[0m \u001b[0mClassName\u001b[0m\u001b[1;33m(\u001b[0m\u001b[1;36m20\u001b[0m\u001b[1;33m,\u001b[0m \u001b[1;34m'Hello'\u001b[0m\u001b[1;33m)\u001b[0m\u001b[1;33m\u001b[0m\u001b[1;33m\u001b[0m\u001b[0m\n\u001b[0;32m     42\u001b[0m \u001b[0mprint\u001b[0m\u001b[1;33m(\u001b[0m\u001b[1;34m'###'\u001b[0m\u001b[1;33m*\u001b[0m\u001b[1;36m30\u001b[0m\u001b[1;33m)\u001b[0m\u001b[1;33m\u001b[0m\u001b[1;33m\u001b[0m\u001b[0m\n\u001b[1;32m---> 43\u001b[1;33m \u001b[0mObj\u001b[0m\u001b[1;33m.\u001b[0m\u001b[0mmy_method1\u001b[0m\u001b[1;33m(\u001b[0m\u001b[1;36m500\u001b[0m\u001b[1;33m)\u001b[0m\u001b[1;33m\u001b[0m\u001b[1;33m\u001b[0m\u001b[0m\n\u001b[0m\u001b[0;32m     44\u001b[0m \u001b[0mprint\u001b[0m\u001b[1;33m(\u001b[0m\u001b[1;34m'###'\u001b[0m\u001b[1;33m*\u001b[0m\u001b[1;36m30\u001b[0m\u001b[1;33m)\u001b[0m\u001b[1;33m\u001b[0m\u001b[1;33m\u001b[0m\u001b[0m\n\u001b[0;32m     45\u001b[0m \u001b[0mObj\u001b[0m\u001b[1;33m.\u001b[0m\u001b[0mmy_method2\u001b[0m\u001b[1;33m(\u001b[0m\u001b[1;33m)\u001b[0m\u001b[1;33m\u001b[0m\u001b[1;33m\u001b[0m\u001b[0m\n",
      "\u001b[1;32m<ipython-input-82-9acb03af603a>\u001b[0m in \u001b[0;36mmy_method1\u001b[1;34m(value, self)\u001b[0m\n\u001b[0;32m     17\u001b[0m     \u001b[1;32mdef\u001b[0m \u001b[0mmy_method1\u001b[0m\u001b[1;33m(\u001b[0m \u001b[0mvalue\u001b[0m \u001b[1;33m,\u001b[0m \u001b[0mself\u001b[0m\u001b[1;33m)\u001b[0m\u001b[1;33m:\u001b[0m\u001b[1;33m\u001b[0m\u001b[1;33m\u001b[0m\u001b[0m\n\u001b[0;32m     18\u001b[0m \u001b[1;31m#         global a   # making a global var\u001b[0m\u001b[1;33m\u001b[0m\u001b[1;33m\u001b[0m\u001b[1;33m\u001b[0m\u001b[0m\n\u001b[1;32m---> 19\u001b[1;33m         \u001b[0mself\u001b[0m\u001b[1;33m.\u001b[0m\u001b[0ma\u001b[0m \u001b[1;33m=\u001b[0m \u001b[1;36m11\u001b[0m      \u001b[1;31m# instance var\u001b[0m\u001b[1;33m\u001b[0m\u001b[1;33m\u001b[0m\u001b[0m\n\u001b[0m\u001b[0;32m     20\u001b[0m \u001b[1;33m\u001b[0m\u001b[0m\n\u001b[0;32m     21\u001b[0m         \u001b[0mprint\u001b[0m\u001b[1;33m(\u001b[0m\u001b[1;34m'We are in method1'\u001b[0m\u001b[1;33m)\u001b[0m\u001b[1;33m\u001b[0m\u001b[1;33m\u001b[0m\u001b[0m\n",
      "\u001b[1;31mAttributeError\u001b[0m: 'int' object has no attribute 'a'"
     ]
    }
   ],
   "source": [
    "class ClassName():  # Class name\n",
    "    \n",
    "    class_var1 = 1000   # class variable\n",
    "    class_var2 = 2000   # class variable\n",
    "    \n",
    "    \n",
    "    def __init__(self,arg1,arg2):    # INIT function >> Constructor   >> It executes automatically when we create an object\n",
    "        print('We are in INIT Function')\n",
    "        print(arg1,arg2)\n",
    "        self.argument1 = arg1   # instance var\n",
    "        self.arg2 = arg2\n",
    "        \n",
    "        self.instance_var1 = 'This is instance var1'\n",
    "        self.instance_var2 = 'This is instance var2'\n",
    "        \n",
    "    \n",
    "    def my_method1( value , self): \n",
    "#         global a   # making a global var\n",
    "        self.a = 11      # instance var\n",
    "        \n",
    "        print('We are in method1')\n",
    "        print('Class Variable ', self.class_var1)\n",
    "        print('Value is ',value)\n",
    "        print('A is :', a)\n",
    "        print('argument1 :',self.argument1)\n",
    "        print('instance variable1 :', self.instance_var1)\n",
    "    \n",
    "        \n",
    "        \n",
    "    def my_method2(self): \n",
    "        print('We are in method2')\n",
    "#         self.my_method1(500)\n",
    "        print('Class Varibale2 :', self.class_var2)\n",
    "        print('instance variable2 :', self.instance_var2)\n",
    "        print('Variable in my_method1 :', self.a)\n",
    "\n",
    "        \n",
    "        \n",
    "        \n",
    "# Object creation\n",
    "Obj = ClassName(20, 'Hello')\n",
    "print('###'*30)\n",
    "Obj.my_method1(500)\n",
    "print('###'*30)\n",
    "Obj.my_method2()"
   ]
  },
  {
   "cell_type": "code",
   "execution_count": 83,
   "id": "3ae8cdd9",
   "metadata": {},
   "outputs": [
    {
     "name": "stdout",
     "output_type": "stream",
     "text": [
      "We are in INIT Function\n",
      "20 Hello\n",
      "##########################################################################################\n",
      "We are in method1\n",
      "Class Variable  1000\n",
      "Value is  500\n",
      "A is : 11\n",
      "argument1 : 20\n",
      "instance variable1 : This is instance var1\n",
      "##########################################################################################\n",
      "We are in method2\n",
      "Class Varibale2 : 2000\n",
      "instance variable2 : This is instance var2\n",
      "Variable in my_method1 : 11\n"
     ]
    }
   ],
   "source": [
    "class ClassName():  # Class name\n",
    "    \n",
    "    class_var1 = 1000   # class variable\n",
    "    class_var2 = 2000   # class variable\n",
    "    \n",
    "    \n",
    "    def __init__(self,arg1,arg2):    # INIT function >> Constructor   >> It executes automatically when we create an object\n",
    "        print('We are in INIT Function')\n",
    "        print(arg1,arg2)\n",
    "        self.argument1 = arg1   # instance var\n",
    "        self.arg2 = arg2\n",
    "        \n",
    "        self.instance_var1 = 'This is instance var1'\n",
    "        self.instance_var2 = 'This is instance var2'\n",
    "        \n",
    "    \n",
    "    def my_method1(self, value): \n",
    "#         global a   # making a global var\n",
    "        self.a = 11      # instance var\n",
    "        \n",
    "        print('We are in method1')\n",
    "        print('Class Variable ', self.class_var1)\n",
    "        print('Value is ',value)\n",
    "        print('A is :', a)\n",
    "        print('argument1 :',self.argument1)\n",
    "        print('instance variable1 :', self.instance_var1)\n",
    "    \n",
    "        \n",
    "        \n",
    "    def my_method2(self): \n",
    "        print('We are in method2')\n",
    "#         self.my_method1(500)\n",
    "        print('Class Varibale2 :', self.class_var2)\n",
    "        print('instance variable2 :', self.instance_var2)\n",
    "        print('Variable in my_method1 :', self.a)\n",
    "\n",
    "        \n",
    "        \n",
    "        \n",
    "# Object creation\n",
    "Obj = ClassName(20, 'Hello')\n",
    "print('###'*30)\n",
    "Obj.my_method1(500)\n",
    "print('###'*30)\n",
    "Obj.my_method2()"
   ]
  },
  {
   "cell_type": "code",
   "execution_count": 84,
   "id": "329cf75c",
   "metadata": {},
   "outputs": [
    {
     "name": "stdout",
     "output_type": "stream",
     "text": [
      "We are in INIT Function\n",
      "20 Hello\n"
     ]
    },
    {
     "data": {
      "text/plain": [
       "<__main__.ClassName at 0x18ceeb39ca0>"
      ]
     },
     "execution_count": 84,
     "metadata": {},
     "output_type": "execute_result"
    }
   ],
   "source": [
    "class ClassName():  # Class name\n",
    "    \n",
    "    class_var1 = 1000   # class variable\n",
    "    class_var2 = 2000   # class variable\n",
    "    \n",
    "    \n",
    "    def __init__(self,arg1,arg2):    # INIT function >> Constructor   >> It executes automatically when we create an object\n",
    "        print('We are in INIT Function')\n",
    "        print(arg1,arg2)\n",
    "        self.argument1 = arg1   # instance var\n",
    "        self.arg2 = arg2\n",
    "        \n",
    "        self.instance_var1 = 'This is instance var1'\n",
    "        self.instance_var2 = 'This is instance var2'\n",
    "        \n",
    "    \n",
    "    def my_method1(self, value): \n",
    "#         global a   # making a global var\n",
    "        self.a = 11      # instance var\n",
    "        \n",
    "        print('We are in method1')\n",
    "        print('Class Variable ', self.class_var1)\n",
    "        print('Value is ',value)\n",
    "        print('A is :', a)\n",
    "        print('argument1 :',self.argument1)\n",
    "        print('instance variable1 :', self.instance_var1)\n",
    "    \n",
    "        \n",
    "        \n",
    "    def my_method2(self): \n",
    "        print('We are in method2')\n",
    "#         self.my_method1(500)\n",
    "        print('Class Varibale2 :', self.class_var2)\n",
    "        print('instance variable2 :', self.instance_var2)\n",
    "        print('Variable in my_method1 :', self.a)\n",
    "\n",
    "        \n",
    "        \n",
    "        \n",
    "# Object creation\n",
    "# Obj = ClassName(20, 'Hello')\n",
    "# print('###'*30)\n",
    "# Obj.my_method1(500)\n",
    "# print('###'*30)\n",
    "# Obj.my_method2()\n",
    "ClassName(20, 'Hello')"
   ]
  },
  {
   "cell_type": "code",
   "execution_count": null,
   "id": "a13e5452",
   "metadata": {},
   "outputs": [],
   "source": []
  },
  {
   "cell_type": "code",
   "execution_count": 86,
   "id": "e2da2afb",
   "metadata": {},
   "outputs": [
    {
     "name": "stdout",
     "output_type": "stream",
     "text": [
      "We are in INIT Function\n",
      "This is my method2\n",
      "Value in variable x is : 100\n",
      "Value in variable a is : python\n"
     ]
    }
   ],
   "source": [
    "class ClassName():  # Class name\n",
    "    \n",
    "    company_name = 'TCS'    # class var1\n",
    "    x = 100                 # class var2\n",
    "    y = 200                 # class var3\n",
    "    \n",
    "    def __init__(boss):    # INIT function >> Constructor   >> It executes automatically when we create an object\n",
    "        print('We are in INIT Function')\n",
    "        boss.a = 'python'            # instance var\n",
    "    \n",
    "    def my_method1(boss):\n",
    "        z = 111                       # local var\n",
    "        print('This is my method1')\n",
    "        print(boss.x)\n",
    "        print(boss.y)\n",
    "        print('Z == ',z)\n",
    "        \n",
    "    def my_method2(boss):\n",
    "        print('This is my method2')\n",
    "        print('Value in variable x is :', boss.x)\n",
    "        print('Value in variable a is :', boss.a)\n",
    "#         boss.my_method1()\n",
    "#         print(boss.z)\n",
    "    \n",
    "    \n",
    "obj = ClassName()\n",
    "# obj.my_method1()\n",
    "obj.my_method2()"
   ]
  },
  {
   "cell_type": "code",
   "execution_count": null,
   "id": "5f96cc8c",
   "metadata": {},
   "outputs": [],
   "source": [
    "class ClassName():  # Class name\n",
    "    \n",
    "    company_name = 'TCS'    # class var1\n",
    "    x = 100                 # class var2\n",
    "    y = 200                 # class var3\n",
    "    \n",
    "    def __init__(boss):    # INIT function >> Constructor   >> It executes automatically when we create an object\n",
    "        print('We are in INIT Function')\n",
    "        boss.a = 'python'            # instance var\n",
    "    \n",
    "    def my_method1(boss):\n",
    "        z = 111                       # local var\n",
    "        print('This is my method1')\n",
    "        print(boss.x)\n",
    "        print(boss.y)\n",
    "        print('Z == ',z)\n",
    "        \n",
    "    def my_method2(boss):\n",
    "        print('This is my method2')\n",
    "        print('Value in variable x is :', boss.x)\n",
    "        print('Value in variable a is :', boss.a)\n",
    "#         boss.my_method1()\n",
    "#         print(boss.z)\n",
    "    \n",
    "    \n",
    "obj = ClassName()\n",
    "# obj.my_method1()\n",
    "obj.my_method2()"
   ]
  },
  {
   "cell_type": "code",
   "execution_count": 87,
   "id": "9d2d5437",
   "metadata": {},
   "outputs": [
    {
     "data": {
      "text/plain": [
       "<function __main__.my_method1()>"
      ]
     },
     "execution_count": 87,
     "metadata": {},
     "output_type": "execute_result"
    }
   ],
   "source": [
    "my_method1"
   ]
  },
  {
   "cell_type": "code",
   "execution_count": null,
   "id": "4a3b3e16",
   "metadata": {},
   "outputs": [],
   "source": []
  },
  {
   "cell_type": "code",
   "execution_count": null,
   "id": "a4185285",
   "metadata": {},
   "outputs": [],
   "source": []
  },
  {
   "cell_type": "code",
   "execution_count": null,
   "id": "4238e9d3",
   "metadata": {},
   "outputs": [],
   "source": []
  },
  {
   "cell_type": "code",
   "execution_count": null,
   "id": "0b15b7a7",
   "metadata": {},
   "outputs": [],
   "source": []
  },
  {
   "cell_type": "code",
   "execution_count": 95,
   "id": "4905a7bf",
   "metadata": {},
   "outputs": [
    {
     "name": "stdout",
     "output_type": "stream",
     "text": [
      "We are in init function\n",
      "addition function\n",
      "Addition of 10 and 20 is 30\n",
      "multiplication function\n",
      "Multiplication of 10 and 20 is 200\n"
     ]
    }
   ],
   "source": [
    "class calculation():\n",
    "    a = 10\n",
    "    b = 20\n",
    "    \n",
    "    def __init__(self):\n",
    "        print('We are in init function')\n",
    "        \n",
    "    def addition(self):\n",
    "        print('addition function')\n",
    "        add = self.a + self.b\n",
    "        print(f'Addition of {self.a} and {self.b} is {add}')\n",
    "        \n",
    "    def multiplication(self):\n",
    "        print('multiplication function')\n",
    "        mul = self.a * self.b\n",
    "        print(f'Multiplication of {self.a} and {self.b} is {mul}')\n",
    "        \n",
    "        \n",
    "Obj = calculation()\n",
    "Obj.addition()\n",
    "Obj.multiplication()"
   ]
  },
  {
   "cell_type": "code",
   "execution_count": 100,
   "id": "1954f684",
   "metadata": {},
   "outputs": [
    {
     "name": "stdout",
     "output_type": "stream",
     "text": [
      "We are in init function\n",
      "addition function\n",
      "Addition of 10 and 20 is 30\n",
      "multiplication function\n",
      "Multiplication of 10 and 20 is 200\n",
      "123\n",
      "30\n"
     ]
    }
   ],
   "source": [
    "class calculation():\n",
    "    a = 10\n",
    "    b = 20\n",
    "    \n",
    "    def __init__(self,a,b):\n",
    "        print('We are in init function')\n",
    "        \n",
    "    def addition(self):\n",
    "        self.dj = 123 \n",
    "        print('addition function')\n",
    "        self.add = self.a + self.b\n",
    "        print(f'Addition of {self.a} and {self.b} is {self.add}')\n",
    "        \n",
    "    def multiplication(self):\n",
    "        print('multiplication function')\n",
    "        mul = self.a * self.b\n",
    "        print(f'Multiplication of {self.a} and {self.b} is {mul}')\n",
    "        print(self.dj)\n",
    "        print(self.add)\n",
    "        \n",
    "        \n",
    "Obj = calculation(2,5)\n",
    "Obj.addition()\n",
    "Obj.multiplication()"
   ]
  },
  {
   "cell_type": "code",
   "execution_count": null,
   "id": "c1eedfd6",
   "metadata": {},
   "outputs": [],
   "source": []
  },
  {
   "cell_type": "code",
   "execution_count": null,
   "id": "23bdbc97",
   "metadata": {},
   "outputs": [],
   "source": []
  },
  {
   "cell_type": "code",
   "execution_count": null,
   "id": "07b65b3a",
   "metadata": {},
   "outputs": [],
   "source": []
  },
  {
   "cell_type": "code",
   "execution_count": null,
   "id": "19d176f5",
   "metadata": {},
   "outputs": [],
   "source": []
  },
  {
   "cell_type": "code",
   "execution_count": null,
   "id": "84a18638",
   "metadata": {},
   "outputs": [],
   "source": []
  },
  {
   "cell_type": "code",
   "execution_count": null,
   "id": "62e98b2b",
   "metadata": {},
   "outputs": [],
   "source": []
  },
  {
   "cell_type": "code",
   "execution_count": null,
   "id": "6201edff",
   "metadata": {},
   "outputs": [],
   "source": []
  },
  {
   "cell_type": "code",
   "execution_count": null,
   "id": "543b5a4e",
   "metadata": {},
   "outputs": [],
   "source": []
  },
  {
   "cell_type": "code",
   "execution_count": null,
   "id": "2a5b6d9f",
   "metadata": {},
   "outputs": [],
   "source": []
  },
  {
   "cell_type": "code",
   "execution_count": null,
   "id": "dd0ac4f1",
   "metadata": {},
   "outputs": [],
   "source": []
  },
  {
   "cell_type": "code",
   "execution_count": null,
   "id": "ea7a8bc8",
   "metadata": {},
   "outputs": [],
   "source": []
  },
  {
   "cell_type": "code",
   "execution_count": null,
   "id": "20767413",
   "metadata": {},
   "outputs": [],
   "source": []
  },
  {
   "cell_type": "code",
   "execution_count": null,
   "id": "1048c624",
   "metadata": {},
   "outputs": [],
   "source": []
  },
  {
   "cell_type": "code",
   "execution_count": null,
   "id": "9b6c4ef6",
   "metadata": {},
   "outputs": [],
   "source": []
  },
  {
   "cell_type": "code",
   "execution_count": null,
   "id": "4294eec4",
   "metadata": {},
   "outputs": [],
   "source": []
  },
  {
   "cell_type": "code",
   "execution_count": null,
   "id": "d6c9691a",
   "metadata": {},
   "outputs": [],
   "source": []
  },
  {
   "cell_type": "code",
   "execution_count": null,
   "id": "202c922f",
   "metadata": {},
   "outputs": [],
   "source": []
  },
  {
   "cell_type": "code",
   "execution_count": null,
   "id": "46f748ff",
   "metadata": {},
   "outputs": [],
   "source": []
  },
  {
   "cell_type": "code",
   "execution_count": null,
   "id": "aa5d6799",
   "metadata": {},
   "outputs": [],
   "source": []
  },
  {
   "cell_type": "code",
   "execution_count": null,
   "id": "6469a626",
   "metadata": {},
   "outputs": [],
   "source": []
  },
  {
   "cell_type": "code",
   "execution_count": null,
   "id": "c5ed08ab",
   "metadata": {},
   "outputs": [],
   "source": []
  },
  {
   "cell_type": "code",
   "execution_count": null,
   "id": "49e32f1d",
   "metadata": {},
   "outputs": [],
   "source": []
  },
  {
   "cell_type": "code",
   "execution_count": null,
   "id": "5207ff7f",
   "metadata": {},
   "outputs": [],
   "source": []
  },
  {
   "cell_type": "code",
   "execution_count": null,
   "id": "53429794",
   "metadata": {},
   "outputs": [],
   "source": []
  },
  {
   "cell_type": "code",
   "execution_count": null,
   "id": "c840104d",
   "metadata": {},
   "outputs": [],
   "source": []
  },
  {
   "cell_type": "code",
   "execution_count": null,
   "id": "0e5c352e",
   "metadata": {},
   "outputs": [],
   "source": []
  },
  {
   "cell_type": "code",
   "execution_count": null,
   "id": "668737f8",
   "metadata": {},
   "outputs": [],
   "source": []
  },
  {
   "cell_type": "code",
   "execution_count": null,
   "id": "5a512ba4",
   "metadata": {},
   "outputs": [],
   "source": []
  },
  {
   "cell_type": "code",
   "execution_count": null,
   "id": "06d8bd14",
   "metadata": {},
   "outputs": [],
   "source": []
  },
  {
   "cell_type": "code",
   "execution_count": null,
   "id": "fc83c9db",
   "metadata": {},
   "outputs": [],
   "source": []
  },
  {
   "cell_type": "code",
   "execution_count": null,
   "id": "1dba82a9",
   "metadata": {},
   "outputs": [],
   "source": []
  },
  {
   "cell_type": "code",
   "execution_count": null,
   "id": "8209a8ff",
   "metadata": {},
   "outputs": [],
   "source": []
  },
  {
   "cell_type": "code",
   "execution_count": null,
   "id": "5d6b411a",
   "metadata": {},
   "outputs": [],
   "source": []
  },
  {
   "cell_type": "code",
   "execution_count": null,
   "id": "ba9fce72",
   "metadata": {},
   "outputs": [],
   "source": []
  },
  {
   "cell_type": "code",
   "execution_count": null,
   "id": "292f7b71",
   "metadata": {},
   "outputs": [],
   "source": []
  },
  {
   "cell_type": "code",
   "execution_count": null,
   "id": "aa3bb08a",
   "metadata": {},
   "outputs": [],
   "source": []
  },
  {
   "cell_type": "code",
   "execution_count": null,
   "id": "b4e96128",
   "metadata": {},
   "outputs": [],
   "source": []
  },
  {
   "cell_type": "code",
   "execution_count": null,
   "id": "8d68afcc",
   "metadata": {},
   "outputs": [],
   "source": []
  },
  {
   "cell_type": "code",
   "execution_count": null,
   "id": "a4337a87",
   "metadata": {},
   "outputs": [],
   "source": []
  },
  {
   "cell_type": "code",
   "execution_count": null,
   "id": "4da06b7c",
   "metadata": {},
   "outputs": [],
   "source": []
  },
  {
   "cell_type": "code",
   "execution_count": null,
   "id": "f2c0b059",
   "metadata": {},
   "outputs": [],
   "source": []
  },
  {
   "cell_type": "code",
   "execution_count": null,
   "id": "018adf5d",
   "metadata": {},
   "outputs": [],
   "source": []
  },
  {
   "cell_type": "code",
   "execution_count": null,
   "id": "0217442f",
   "metadata": {},
   "outputs": [],
   "source": []
  },
  {
   "cell_type": "code",
   "execution_count": null,
   "id": "4b63311d",
   "metadata": {},
   "outputs": [],
   "source": []
  },
  {
   "cell_type": "code",
   "execution_count": null,
   "id": "456847e0",
   "metadata": {},
   "outputs": [],
   "source": []
  },
  {
   "cell_type": "code",
   "execution_count": null,
   "id": "210fcd6e",
   "metadata": {},
   "outputs": [],
   "source": []
  },
  {
   "cell_type": "code",
   "execution_count": null,
   "id": "e4a721b4",
   "metadata": {},
   "outputs": [],
   "source": []
  },
  {
   "cell_type": "code",
   "execution_count": null,
   "id": "3d8b9ed2",
   "metadata": {},
   "outputs": [],
   "source": []
  },
  {
   "cell_type": "code",
   "execution_count": null,
   "id": "491a0762",
   "metadata": {},
   "outputs": [],
   "source": []
  },
  {
   "cell_type": "code",
   "execution_count": null,
   "id": "ed7242ef",
   "metadata": {},
   "outputs": [],
   "source": []
  },
  {
   "cell_type": "code",
   "execution_count": null,
   "id": "dcba281b",
   "metadata": {},
   "outputs": [],
   "source": []
  },
  {
   "cell_type": "code",
   "execution_count": null,
   "id": "07d6a378",
   "metadata": {},
   "outputs": [],
   "source": []
  },
  {
   "cell_type": "code",
   "execution_count": null,
   "id": "1cc6a570",
   "metadata": {},
   "outputs": [],
   "source": []
  },
  {
   "cell_type": "code",
   "execution_count": null,
   "id": "51cf44d1",
   "metadata": {},
   "outputs": [],
   "source": []
  },
  {
   "cell_type": "code",
   "execution_count": null,
   "id": "5f51e47d",
   "metadata": {},
   "outputs": [],
   "source": []
  },
  {
   "cell_type": "code",
   "execution_count": null,
   "id": "b5fdfa4b",
   "metadata": {},
   "outputs": [],
   "source": []
  },
  {
   "cell_type": "code",
   "execution_count": null,
   "id": "cc3f4eaf",
   "metadata": {},
   "outputs": [],
   "source": []
  },
  {
   "cell_type": "code",
   "execution_count": null,
   "id": "8f8811ce",
   "metadata": {},
   "outputs": [],
   "source": []
  },
  {
   "cell_type": "code",
   "execution_count": null,
   "id": "279a4aa0",
   "metadata": {},
   "outputs": [],
   "source": []
  },
  {
   "cell_type": "code",
   "execution_count": null,
   "id": "aaec1aae",
   "metadata": {},
   "outputs": [],
   "source": []
  },
  {
   "cell_type": "code",
   "execution_count": null,
   "id": "0b136983",
   "metadata": {},
   "outputs": [],
   "source": []
  },
  {
   "cell_type": "code",
   "execution_count": null,
   "id": "c51ccfc8",
   "metadata": {},
   "outputs": [],
   "source": []
  },
  {
   "cell_type": "code",
   "execution_count": null,
   "id": "ec10c3e3",
   "metadata": {},
   "outputs": [],
   "source": []
  },
  {
   "cell_type": "code",
   "execution_count": null,
   "id": "2abdd2fe",
   "metadata": {},
   "outputs": [],
   "source": []
  },
  {
   "cell_type": "code",
   "execution_count": null,
   "id": "010f7d65",
   "metadata": {},
   "outputs": [],
   "source": []
  },
  {
   "cell_type": "code",
   "execution_count": null,
   "id": "52b46c30",
   "metadata": {},
   "outputs": [],
   "source": []
  },
  {
   "cell_type": "code",
   "execution_count": null,
   "id": "bdd55788",
   "metadata": {},
   "outputs": [],
   "source": []
  }
 ],
 "metadata": {
  "kernelspec": {
   "display_name": "Python 3",
   "language": "python",
   "name": "python3"
  },
  "language_info": {
   "codemirror_mode": {
    "name": "ipython",
    "version": 3
   },
   "file_extension": ".py",
   "mimetype": "text/x-python",
   "name": "python",
   "nbconvert_exporter": "python",
   "pygments_lexer": "ipython3",
   "version": "3.8.8"
  }
 },
 "nbformat": 4,
 "nbformat_minor": 5
}
