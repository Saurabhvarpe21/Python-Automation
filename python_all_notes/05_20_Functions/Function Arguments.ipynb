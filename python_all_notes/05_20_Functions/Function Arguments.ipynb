{
 "cells": [
  {
   "cell_type": "code",
   "execution_count": 2,
   "id": "a9f67aab",
   "metadata": {},
   "outputs": [
    {
     "name": "stdout",
     "output_type": "stream",
     "text": [
      "a==5, b==15\n",
      "Additionof numbers is : 20\n"
     ]
    }
   ],
   "source": [
    "def addition(a,b):   # a = x, b = y\n",
    "    print(f'a=={a}, b=={b}')\n",
    "    add = a+b\n",
    "    print('Additionof numbers is :', add)\n",
    "    \n",
    "x = 5\n",
    "y = 15\n",
    "addition(x,y)"
   ]
  },
  {
   "cell_type": "code",
   "execution_count": 3,
   "id": "0e5add15",
   "metadata": {},
   "outputs": [
    {
     "name": "stdout",
     "output_type": "stream",
     "text": [
      "a==15, b==5\n",
      "Additionof numbers is : 20\n"
     ]
    }
   ],
   "source": [
    "def addition(a,b):   # a = y, b = x\n",
    "    print(f'a=={a}, b=={b}')\n",
    "    add = a+b\n",
    "    print('Additionof numbers is :', add)\n",
    "    \n",
    "x = 5\n",
    "y = 15\n",
    "addition(y,x)"
   ]
  },
  {
   "cell_type": "code",
   "execution_count": 4,
   "id": "b4879238",
   "metadata": {},
   "outputs": [
    {
     "name": "stdout",
     "output_type": "stream",
     "text": [
      "a==5, b==15\n",
      "Additionof numbers is : 20\n"
     ]
    }
   ],
   "source": [
    "def addition(a,b):   # a = a, b = b\n",
    "    print(f'a=={a}, b=={b}')\n",
    "    add = a+b\n",
    "    print('Additionof numbers is :', add)\n",
    "    \n",
    "a = 5\n",
    "b = 15\n",
    "addition(a,b)"
   ]
  },
  {
   "cell_type": "code",
   "execution_count": 5,
   "id": "bc700e2a",
   "metadata": {},
   "outputs": [
    {
     "name": "stdout",
     "output_type": "stream",
     "text": [
      "a==15, b==5\n",
      "Additionof numbers is : 20\n"
     ]
    }
   ],
   "source": [
    "def addition(a,b):   # a = b, b = a\n",
    "    print(f'a=={a}, b=={b}')\n",
    "    add = a+b\n",
    "    print('Additionof numbers is :', add)\n",
    "    \n",
    "a = 5\n",
    "b = 15\n",
    "addition(b,a)"
   ]
  },
  {
   "cell_type": "code",
   "execution_count": 6,
   "id": "1baebc4f",
   "metadata": {},
   "outputs": [
    {
     "name": "stdout",
     "output_type": "stream",
     "text": [
      "a==10, b==16\n",
      "Additionof numbers is : 26\n"
     ]
    }
   ],
   "source": [
    "def addition(a=10,b=16):   # here a and b are acting as default arguments\n",
    "    print(f'a=={a}, b=={b}')\n",
    "    add = a+b\n",
    "    print('Additionof numbers is :', add)\n",
    "    \n",
    "a = 5\n",
    "b = 15\n",
    "addition()"
   ]
  },
  {
   "cell_type": "code",
   "execution_count": 7,
   "id": "5a056eba",
   "metadata": {},
   "outputs": [
    {
     "name": "stdout",
     "output_type": "stream",
     "text": [
      "a==5, b==15\n",
      "Additionof numbers is : 20\n"
     ]
    }
   ],
   "source": [
    "def addition(a=10,b=16):   # here a and b are acting as default arguments\n",
    "    print(f'a=={a}, b=={b}')\n",
    "    add = a+b\n",
    "    print('Additionof numbers is :', add)\n",
    "    \n",
    "a = 5\n",
    "b = 15\n",
    "addition(a,b)"
   ]
  },
  {
   "cell_type": "code",
   "execution_count": 8,
   "id": "7e90a9f3",
   "metadata": {},
   "outputs": [
    {
     "name": "stdout",
     "output_type": "stream",
     "text": [
      "a==12, b==13\n",
      "Additionof numbers is : 25\n"
     ]
    }
   ],
   "source": [
    "def addition(a=10,b=16):   # here a and b are acting as default arguments\n",
    "    print(f'a=={a}, b=={b}')\n",
    "    add = a+b\n",
    "    print('Additionof numbers is :', add)\n",
    "    \n",
    "a = 5\n",
    "b = 15\n",
    "addition(a=12,b=13)   # Keyword arguments"
   ]
  },
  {
   "cell_type": "code",
   "execution_count": 9,
   "id": "6ae8b1a7",
   "metadata": {},
   "outputs": [
    {
     "name": "stdout",
     "output_type": "stream",
     "text": [
      "a==12, b==13\n",
      "Additionof numbers is : 25\n"
     ]
    }
   ],
   "source": [
    "def addition(a=10,b=16):   # here a and b are acting as default arguments\n",
    "    print(f'a=={a}, b=={b}')\n",
    "    add = a+b\n",
    "    print('Additionof numbers is :', add)\n",
    "    \n",
    "a = 5\n",
    "b = 15\n",
    "addition(b=13,a=12)   # Keyword arguments"
   ]
  },
  {
   "cell_type": "code",
   "execution_count": 11,
   "id": "1fbc53cd",
   "metadata": {},
   "outputs": [
    {
     "name": "stdout",
     "output_type": "stream",
     "text": [
      "a==45, b==11\n",
      "Additionof numbers is : 56\n"
     ]
    }
   ],
   "source": [
    "def addition(a,b):   # here a and b are acting as Positional arguments\n",
    "    print(f'a=={a}, b=={b}')\n",
    "    add = a+b\n",
    "    print('Additionof numbers is :', add)\n",
    "    \n",
    "a = 5\n",
    "b = 15\n",
    "addition(b=11,a=45)   # Keyword arguments"
   ]
  },
  {
   "cell_type": "code",
   "execution_count": 12,
   "id": "9cdcbee8",
   "metadata": {},
   "outputs": [
    {
     "ename": "TypeError",
     "evalue": "addition() missing 1 required positional argument: 'a'",
     "output_type": "error",
     "traceback": [
      "\u001b[1;31m---------------------------------------------------------------------------\u001b[0m",
      "\u001b[1;31mTypeError\u001b[0m                                 Traceback (most recent call last)",
      "\u001b[1;32m<ipython-input-12-4631b81da867>\u001b[0m in \u001b[0;36m<module>\u001b[1;34m\u001b[0m\n\u001b[0;32m      6\u001b[0m \u001b[0ma\u001b[0m \u001b[1;33m=\u001b[0m \u001b[1;36m5\u001b[0m\u001b[1;33m\u001b[0m\u001b[1;33m\u001b[0m\u001b[0m\n\u001b[0;32m      7\u001b[0m \u001b[0mb\u001b[0m \u001b[1;33m=\u001b[0m \u001b[1;36m15\u001b[0m\u001b[1;33m\u001b[0m\u001b[1;33m\u001b[0m\u001b[0m\n\u001b[1;32m----> 8\u001b[1;33m \u001b[0maddition\u001b[0m\u001b[1;33m(\u001b[0m\u001b[0mb\u001b[0m\u001b[1;33m=\u001b[0m\u001b[1;36m11\u001b[0m\u001b[1;33m)\u001b[0m   \u001b[1;31m# Keyword arguments\u001b[0m\u001b[1;33m\u001b[0m\u001b[1;33m\u001b[0m\u001b[0m\n\u001b[0m",
      "\u001b[1;31mTypeError\u001b[0m: addition() missing 1 required positional argument: 'a'"
     ]
    }
   ],
   "source": [
    "def addition(a,b):   # here a and b are acting as Positional arguments\n",
    "    print(f'a=={a}, b=={b}')\n",
    "    add = a+b\n",
    "    print('Additionof numbers is :', add)\n",
    "    \n",
    "a = 5\n",
    "b = 15\n",
    "addition(b=11)   # Keyword arguments"
   ]
  },
  {
   "cell_type": "code",
   "execution_count": 13,
   "id": "5d60ca29",
   "metadata": {},
   "outputs": [
    {
     "ename": "TypeError",
     "evalue": "addition() missing 1 required positional argument: 'c'",
     "output_type": "error",
     "traceback": [
      "\u001b[1;31m---------------------------------------------------------------------------\u001b[0m",
      "\u001b[1;31mTypeError\u001b[0m                                 Traceback (most recent call last)",
      "\u001b[1;32m<ipython-input-13-cc2e9ea33b9a>\u001b[0m in \u001b[0;36m<module>\u001b[1;34m\u001b[0m\n\u001b[0;32m      6\u001b[0m \u001b[0ma\u001b[0m \u001b[1;33m=\u001b[0m \u001b[1;36m5\u001b[0m\u001b[1;33m\u001b[0m\u001b[1;33m\u001b[0m\u001b[0m\n\u001b[0;32m      7\u001b[0m \u001b[0mb\u001b[0m \u001b[1;33m=\u001b[0m \u001b[1;36m15\u001b[0m\u001b[1;33m\u001b[0m\u001b[1;33m\u001b[0m\u001b[0m\n\u001b[1;32m----> 8\u001b[1;33m \u001b[0maddition\u001b[0m\u001b[1;33m(\u001b[0m\u001b[0mb\u001b[0m\u001b[1;33m=\u001b[0m\u001b[1;36m11\u001b[0m\u001b[1;33m,\u001b[0m\u001b[0ma\u001b[0m\u001b[1;33m=\u001b[0m\u001b[1;36m45\u001b[0m\u001b[1;33m)\u001b[0m   \u001b[1;31m# Keyword arguments\u001b[0m\u001b[1;33m\u001b[0m\u001b[1;33m\u001b[0m\u001b[0m\n\u001b[0m",
      "\u001b[1;31mTypeError\u001b[0m: addition() missing 1 required positional argument: 'c'"
     ]
    }
   ],
   "source": [
    "def addition(a,b,c):   # here a and b are acting as Positional arguments\n",
    "    print(f'a=={a}, b=={b},c=={c}')\n",
    "    add = a+b\n",
    "    print('Additionof numbers is :', add)\n",
    "    \n",
    "a = 5\n",
    "b = 15\n",
    "addition(b=11,a=45)   # Keyword arguments"
   ]
  },
  {
   "cell_type": "code",
   "execution_count": 14,
   "id": "55d8b876",
   "metadata": {},
   "outputs": [
    {
     "ename": "TypeError",
     "evalue": "addition() got multiple values for argument 'a'",
     "output_type": "error",
     "traceback": [
      "\u001b[1;31m---------------------------------------------------------------------------\u001b[0m",
      "\u001b[1;31mTypeError\u001b[0m                                 Traceback (most recent call last)",
      "\u001b[1;32m<ipython-input-14-0ff976b1e376>\u001b[0m in \u001b[0;36m<module>\u001b[1;34m\u001b[0m\n\u001b[0;32m      6\u001b[0m \u001b[0ma\u001b[0m \u001b[1;33m=\u001b[0m \u001b[1;36m5\u001b[0m\u001b[1;33m\u001b[0m\u001b[1;33m\u001b[0m\u001b[0m\n\u001b[0;32m      7\u001b[0m \u001b[0mb\u001b[0m \u001b[1;33m=\u001b[0m \u001b[1;36m15\u001b[0m\u001b[1;33m\u001b[0m\u001b[1;33m\u001b[0m\u001b[0m\n\u001b[1;32m----> 8\u001b[1;33m \u001b[0maddition\u001b[0m\u001b[1;33m(\u001b[0m\u001b[1;36m23\u001b[0m\u001b[1;33m,\u001b[0m\u001b[0mb\u001b[0m\u001b[1;33m=\u001b[0m\u001b[1;36m11\u001b[0m\u001b[1;33m,\u001b[0m\u001b[0ma\u001b[0m\u001b[1;33m=\u001b[0m\u001b[1;36m45\u001b[0m\u001b[1;33m)\u001b[0m   \u001b[1;31m# Keyword arguments\u001b[0m\u001b[1;33m\u001b[0m\u001b[1;33m\u001b[0m\u001b[0m\n\u001b[0m",
      "\u001b[1;31mTypeError\u001b[0m: addition() got multiple values for argument 'a'"
     ]
    }
   ],
   "source": [
    "def addition(a,b,c):   # here a and b are acting as Positional arguments\n",
    "    print(f'a=={a}, b=={b},c=={c}')\n",
    "    add = a+b\n",
    "    print('Additionof numbers is :', add)\n",
    "    \n",
    "a = 5\n",
    "b = 15\n",
    "addition(23,b=11,a=45)   # Keyword arguments"
   ]
  },
  {
   "cell_type": "code",
   "execution_count": 15,
   "id": "f3d54361",
   "metadata": {},
   "outputs": [
    {
     "ename": "SyntaxError",
     "evalue": "positional argument follows keyword argument (<ipython-input-15-b231f361d2d8>, line 8)",
     "output_type": "error",
     "traceback": [
      "\u001b[1;36m  File \u001b[1;32m\"<ipython-input-15-b231f361d2d8>\"\u001b[1;36m, line \u001b[1;32m8\u001b[0m\n\u001b[1;33m    addition(b=11,23,a=45)   # Keyword arguments\u001b[0m\n\u001b[1;37m                  ^\u001b[0m\n\u001b[1;31mSyntaxError\u001b[0m\u001b[1;31m:\u001b[0m positional argument follows keyword argument\n"
     ]
    }
   ],
   "source": [
    "def addition(a,b,c):   # here a and b are acting as Positional arguments\n",
    "    print(f'a=={a}, b=={b},c=={c}')\n",
    "    add = a+b\n",
    "    print('Additionof numbers is :', add)\n",
    "    \n",
    "a = 5\n",
    "b = 15\n",
    "addition(b=11,23,a=45)   # Keyword arguments"
   ]
  },
  {
   "cell_type": "code",
   "execution_count": 16,
   "id": "50e3e72d",
   "metadata": {},
   "outputs": [
    {
     "ename": "SyntaxError",
     "evalue": "positional argument follows keyword argument (<ipython-input-16-b1538979435b>, line 8)",
     "output_type": "error",
     "traceback": [
      "\u001b[1;36m  File \u001b[1;32m\"<ipython-input-16-b1538979435b>\"\u001b[1;36m, line \u001b[1;32m8\u001b[0m\n\u001b[1;33m    addition(b=11,a=45,23)   # Keyword arguments\u001b[0m\n\u001b[1;37m                       ^\u001b[0m\n\u001b[1;31mSyntaxError\u001b[0m\u001b[1;31m:\u001b[0m positional argument follows keyword argument\n"
     ]
    }
   ],
   "source": [
    "def addition(a,b,c):   # here a and b are acting as Positional arguments\n",
    "    print(f'a=={a}, b=={b},c=={c}')\n",
    "    add = a+b\n",
    "    print('Additionof numbers is :', add)\n",
    "    \n",
    "a = 5\n",
    "b = 15\n",
    "addition(b=11,a=45,23)   # Keyword arguments"
   ]
  },
  {
   "cell_type": "code",
   "execution_count": 17,
   "id": "ccad05c2",
   "metadata": {},
   "outputs": [
    {
     "name": "stdout",
     "output_type": "stream",
     "text": [
      "a==45, b==11,c==23\n",
      "Additionof numbers is : 56\n"
     ]
    }
   ],
   "source": [
    "def addition(a,b,c):   # here a and b are acting as Positional arguments\n",
    "    print(f'a=={a}, b=={b},c=={c}')\n",
    "    add = a+b\n",
    "    print('Additionof numbers is :', add)\n",
    "    \n",
    "a = 5\n",
    "b = 15\n",
    "addition(b=11,a=45,c=23)   # Keyword arguments"
   ]
  },
  {
   "cell_type": "code",
   "execution_count": 18,
   "id": "f8d8cdce",
   "metadata": {},
   "outputs": [
    {
     "name": "stdout",
     "output_type": "stream",
     "text": [
      "a==23, b==11,c==45\n",
      "Additionof numbers is : 34\n"
     ]
    }
   ],
   "source": [
    "def addition(a,b,c):   # here a and b are acting as Positional arguments\n",
    "    print(f'a=={a}, b=={b},c=={c}')\n",
    "    add = a+b\n",
    "    print('Additionof numbers is :', add)\n",
    "    \n",
    "a = 5\n",
    "b = 15\n",
    "addition(b=11,c=45,a=23)   # Keyword arguments"
   ]
  },
  {
   "cell_type": "code",
   "execution_count": 19,
   "id": "a836b8d1",
   "metadata": {},
   "outputs": [
    {
     "name": "stdout",
     "output_type": "stream",
     "text": [
      "a==1, b==5,c==9\n",
      "Additionof numbers is : 6\n"
     ]
    }
   ],
   "source": [
    "def addition(a,b,c):   # here a and b are acting as Positional arguments\n",
    "    print(f'a=={a}, b=={b},c=={c}')\n",
    "    add = a+b\n",
    "    print('Additionof numbers is :', add)\n",
    "    \n",
    "a = 5\n",
    "b = 15\n",
    "addition(1,5,9)   # positional arguments"
   ]
  },
  {
   "cell_type": "code",
   "execution_count": null,
   "id": "62ae564e",
   "metadata": {},
   "outputs": [],
   "source": [
    "*args >> *arguments"
   ]
  },
  {
   "cell_type": "code",
   "execution_count": 22,
   "id": "1a82334c",
   "metadata": {},
   "outputs": [
    {
     "name": "stdout",
     "output_type": "stream",
     "text": [
      "Sum== 33\n"
     ]
    }
   ],
   "source": [
    "def add(*args):\n",
    "    num = 0\n",
    "    for i in args:\n",
    "        num+=i\n",
    "        \n",
    "    print('Sum==',num)\n",
    "    \n",
    "add(1,7,8,5,4,6,2)"
   ]
  },
  {
   "cell_type": "code",
   "execution_count": 24,
   "id": "e106ba89",
   "metadata": {},
   "outputs": [
    {
     "name": "stdout",
     "output_type": "stream",
     "text": [
      "1 7 8\n",
      "(5, 4, 6, 2)\n",
      "Sum== 17\n"
     ]
    }
   ],
   "source": [
    "def add(a,b,c,*args):\n",
    "    print(a,b,c)\n",
    "    print(args)\n",
    "    num = 0\n",
    "    for i in args:\n",
    "        num+=i\n",
    "        \n",
    "    print('Sum==',num)\n",
    "    \n",
    "add(1,7,8,5,4,6,2)"
   ]
  },
  {
   "cell_type": "code",
   "execution_count": 25,
   "id": "2f010368",
   "metadata": {},
   "outputs": [
    {
     "ename": "TypeError",
     "evalue": "add() missing 3 required keyword-only arguments: 'a', 'b', and 'c'",
     "output_type": "error",
     "traceback": [
      "\u001b[1;31m---------------------------------------------------------------------------\u001b[0m",
      "\u001b[1;31mTypeError\u001b[0m                                 Traceback (most recent call last)",
      "\u001b[1;32m<ipython-input-25-09dd95ff85e4>\u001b[0m in \u001b[0;36m<module>\u001b[1;34m\u001b[0m\n\u001b[0;32m      8\u001b[0m     \u001b[0mprint\u001b[0m\u001b[1;33m(\u001b[0m\u001b[1;34m'Sum=='\u001b[0m\u001b[1;33m,\u001b[0m\u001b[0mnum\u001b[0m\u001b[1;33m)\u001b[0m\u001b[1;33m\u001b[0m\u001b[1;33m\u001b[0m\u001b[0m\n\u001b[0;32m      9\u001b[0m \u001b[1;33m\u001b[0m\u001b[0m\n\u001b[1;32m---> 10\u001b[1;33m \u001b[0madd\u001b[0m\u001b[1;33m(\u001b[0m\u001b[1;36m1\u001b[0m\u001b[1;33m,\u001b[0m\u001b[1;36m7\u001b[0m\u001b[1;33m,\u001b[0m\u001b[1;36m8\u001b[0m\u001b[1;33m,\u001b[0m\u001b[1;36m5\u001b[0m\u001b[1;33m,\u001b[0m\u001b[1;36m4\u001b[0m\u001b[1;33m,\u001b[0m\u001b[1;36m6\u001b[0m\u001b[1;33m,\u001b[0m\u001b[1;36m2\u001b[0m\u001b[1;33m)\u001b[0m\u001b[1;33m\u001b[0m\u001b[1;33m\u001b[0m\u001b[0m\n\u001b[0m",
      "\u001b[1;31mTypeError\u001b[0m: add() missing 3 required keyword-only arguments: 'a', 'b', and 'c'"
     ]
    }
   ],
   "source": [
    "def add(*args,a,b,c):\n",
    "    print(a,b,c)\n",
    "    print(args)\n",
    "    num = 0\n",
    "    for i in args:\n",
    "        num+=i\n",
    "        \n",
    "    print('Sum==',num)\n",
    "    \n",
    "add(1,7,8,5,4,6,2)"
   ]
  },
  {
   "cell_type": "code",
   "execution_count": 27,
   "id": "e0dcae54",
   "metadata": {},
   "outputs": [
    {
     "name": "stdout",
     "output_type": "stream",
     "text": [
      "1 7\n",
      "(8, 5, 4, 6, 2)\n",
      "10 30\n",
      "Sum== 25\n"
     ]
    }
   ],
   "source": [
    "def add(a,b,*args, x =10, y = 30):\n",
    "    print(a,b)\n",
    "    print(args)\n",
    "    print(x,y)\n",
    "    num = 0\n",
    "    for i in args:\n",
    "        num+=i\n",
    "        \n",
    "    print('Sum==',num)\n",
    "    \n",
    "add(1,7,8,5,4,6,2)"
   ]
  },
  {
   "cell_type": "code",
   "execution_count": 28,
   "id": "3346b499",
   "metadata": {},
   "outputs": [
    {
     "name": "stdout",
     "output_type": "stream",
     "text": [
      "1 7\n",
      "(8, 5, 4, 6, 2)\n",
      "20 60\n",
      "Sum== 25\n"
     ]
    }
   ],
   "source": [
    "def add(a,b,*args, x =10, y = 30): # a,b >> positional arguments,  x,y >> default arguments, args >> arbitar args\n",
    "    print(a,b)\n",
    "    print(args)\n",
    "    print(x,y)\n",
    "    num = 0\n",
    "    for i in args:\n",
    "        num+=i\n",
    "        \n",
    "    print('Sum==',num)\n",
    "    \n",
    "add(1,7,8,5,4,6,2,x = 20, y = 60)"
   ]
  },
  {
   "cell_type": "markdown",
   "id": "71ef378b",
   "metadata": {},
   "source": [
    "## 4. Arbitary Keyword Arguments"
   ]
  },
  {
   "cell_type": "code",
   "execution_count": null,
   "id": "633507e7",
   "metadata": {},
   "outputs": [],
   "source": [
    "Arbitary Keyword Argument\n",
    "\n",
    "*args >> argument\n",
    "**kwargs  >> keyword argument\n",
    "\n",
    "If we dont know number of keyword arguments to be passed , then we use **kwargs\n",
    "Datatype of kwargs >> dict"
   ]
  },
  {
   "cell_type": "code",
   "execution_count": 29,
   "id": "3e426770",
   "metadata": {},
   "outputs": [
    {
     "name": "stdout",
     "output_type": "stream",
     "text": [
      "kwargs=={'a': 10, 'b': 20, 'c': 30, 'd': 40}\n"
     ]
    }
   ],
   "source": [
    "def addition(**kwargs):\n",
    "    print(f'kwargs=={kwargs}')\n",
    "    \n",
    "addition(a=10,b=20,c=30,d=40)"
   ]
  },
  {
   "cell_type": "code",
   "execution_count": 31,
   "id": "f2cfd3c7",
   "metadata": {},
   "outputs": [
    {
     "name": "stdout",
     "output_type": "stream",
     "text": [
      "marks=={'phy': 90, 'che': 84, 'maths': 94, 'eng': 92, 'bio': 88}\n",
      "Percentage acquire == 89.6\n"
     ]
    }
   ],
   "source": [
    "def result(**marks):\n",
    "    print(f'marks=={marks}')\n",
    "    \n",
    "    percentage = sum(marks.values())/len(marks)\n",
    "    return percentage\n",
    "\n",
    "    \n",
    "Percentage = result(phy = 90, che = 84, maths = 94, eng = 92, bio= 88)\n",
    "print('Percentage acquire ==',Percentage)"
   ]
  },
  {
   "cell_type": "code",
   "execution_count": 32,
   "id": "8f06f390",
   "metadata": {},
   "outputs": [
    {
     "name": "stdout",
     "output_type": "stream",
     "text": [
      "marks=={'phy': 90, 'che': 84, 'maths': 94, 'eng': 92}\n",
      "Percentage acquire == 90.0\n"
     ]
    }
   ],
   "source": [
    "def result(**marks):\n",
    "    print(f'marks=={marks}')\n",
    "    \n",
    "    percentage = sum(marks.values())/len(marks)\n",
    "    return percentage\n",
    "\n",
    "    \n",
    "Percentage = result(phy = 90, che = 84, maths = 94, eng = 92)\n",
    "print('Percentage acquire ==',Percentage)"
   ]
  },
  {
   "cell_type": "code",
   "execution_count": 33,
   "id": "a87aeed5",
   "metadata": {},
   "outputs": [
    {
     "ename": "SyntaxError",
     "evalue": "positional argument follows keyword argument (<ipython-input-33-caced9ae128f>, line 8)",
     "output_type": "error",
     "traceback": [
      "\u001b[1;36m  File \u001b[1;32m\"<ipython-input-33-caced9ae128f>\"\u001b[1;36m, line \u001b[1;32m8\u001b[0m\n\u001b[1;33m    Percentage = result(phy = 90, che = 84, maths = 94, eng = 92,85)\u001b[0m\n\u001b[1;37m                                                                 ^\u001b[0m\n\u001b[1;31mSyntaxError\u001b[0m\u001b[1;31m:\u001b[0m positional argument follows keyword argument\n"
     ]
    }
   ],
   "source": [
    "def result(**marks):\n",
    "    print(f'marks=={marks}')\n",
    "    \n",
    "    percentage = sum(marks.values())/len(marks)\n",
    "    return percentage\n",
    "\n",
    "    \n",
    "Percentage = result(phy = 90, che = 84, maths = 94, eng = 92,85)\n",
    "print('Percentage acquire ==',Percentage)"
   ]
  },
  {
   "cell_type": "code",
   "execution_count": 34,
   "id": "3ebdeeb7",
   "metadata": {},
   "outputs": [
    {
     "ename": "TypeError",
     "evalue": "result() takes 0 positional arguments but 1 was given",
     "output_type": "error",
     "traceback": [
      "\u001b[1;31m---------------------------------------------------------------------------\u001b[0m",
      "\u001b[1;31mTypeError\u001b[0m                                 Traceback (most recent call last)",
      "\u001b[1;32m<ipython-input-34-2fac4a113aeb>\u001b[0m in \u001b[0;36m<module>\u001b[1;34m\u001b[0m\n\u001b[0;32m      6\u001b[0m \u001b[1;33m\u001b[0m\u001b[0m\n\u001b[0;32m      7\u001b[0m \u001b[1;33m\u001b[0m\u001b[0m\n\u001b[1;32m----> 8\u001b[1;33m \u001b[0mPercentage\u001b[0m \u001b[1;33m=\u001b[0m \u001b[0mresult\u001b[0m\u001b[1;33m(\u001b[0m\u001b[1;36m85\u001b[0m\u001b[1;33m,\u001b[0m\u001b[0mphy\u001b[0m \u001b[1;33m=\u001b[0m \u001b[1;36m90\u001b[0m\u001b[1;33m,\u001b[0m \u001b[0mche\u001b[0m \u001b[1;33m=\u001b[0m \u001b[1;36m84\u001b[0m\u001b[1;33m,\u001b[0m \u001b[0mmaths\u001b[0m \u001b[1;33m=\u001b[0m \u001b[1;36m94\u001b[0m\u001b[1;33m,\u001b[0m \u001b[0meng\u001b[0m \u001b[1;33m=\u001b[0m \u001b[1;36m92\u001b[0m\u001b[1;33m)\u001b[0m\u001b[1;33m\u001b[0m\u001b[1;33m\u001b[0m\u001b[0m\n\u001b[0m\u001b[0;32m      9\u001b[0m \u001b[0mprint\u001b[0m\u001b[1;33m(\u001b[0m\u001b[1;34m'Percentage acquire =='\u001b[0m\u001b[1;33m,\u001b[0m\u001b[0mPercentage\u001b[0m\u001b[1;33m)\u001b[0m\u001b[1;33m\u001b[0m\u001b[1;33m\u001b[0m\u001b[0m\n",
      "\u001b[1;31mTypeError\u001b[0m: result() takes 0 positional arguments but 1 was given"
     ]
    }
   ],
   "source": [
    "def result(**marks):\n",
    "    print(f'marks=={marks}')\n",
    "    \n",
    "    percentage = sum(marks.values())/len(marks)\n",
    "    return percentage\n",
    "\n",
    "    \n",
    "Percentage = result(85,phy = 90, che = 84, maths = 94, eng = 92)\n",
    "print('Percentage acquire ==',Percentage)"
   ]
  },
  {
   "cell_type": "code",
   "execution_count": 35,
   "id": "a3cd1f48",
   "metadata": {},
   "outputs": [
    {
     "ename": "TypeError",
     "evalue": "testing_arguments() missing 3 required positional arguments: 'a', 'b', and 'c'",
     "output_type": "error",
     "traceback": [
      "\u001b[1;31m---------------------------------------------------------------------------\u001b[0m",
      "\u001b[1;31mTypeError\u001b[0m                                 Traceback (most recent call last)",
      "\u001b[1;32m<ipython-input-35-63c3459b58e2>\u001b[0m in \u001b[0;36m<module>\u001b[1;34m\u001b[0m\n\u001b[0;32m      6\u001b[0m \u001b[1;33m\u001b[0m\u001b[0m\n\u001b[0;32m      7\u001b[0m \u001b[1;33m\u001b[0m\u001b[0m\n\u001b[1;32m----> 8\u001b[1;33m \u001b[0mtesting_arguments\u001b[0m\u001b[1;33m(\u001b[0m\u001b[1;33m)\u001b[0m\u001b[1;33m\u001b[0m\u001b[1;33m\u001b[0m\u001b[0m\n\u001b[0m",
      "\u001b[1;31mTypeError\u001b[0m: testing_arguments() missing 3 required positional arguments: 'a', 'b', and 'c'"
     ]
    }
   ],
   "source": [
    "def testing_arguments(a,b,c,*args, x= 10,y = 20, **kwargs):\n",
    "    print(f'a=={a},b=={b},c=={c}')    # Positional arguments\n",
    "    print(f'args=={args}')            # Arbitary arguments/ Arbitary positional arguments\n",
    "    print(f'x=={x},y=={y}')           # Default arguments\n",
    "    print(f'kwargs=={kwargs}')\n",
    "    \n",
    "    \n",
    "testing_arguments()"
   ]
  },
  {
   "cell_type": "code",
   "execution_count": 37,
   "id": "0a7c5763",
   "metadata": {},
   "outputs": [
    {
     "name": "stdout",
     "output_type": "stream",
     "text": [
      "a == 45, b == 65, c == 85\n",
      "args == ()\n",
      "x == 10, y == 20\n",
      "kwargs == {}\n"
     ]
    }
   ],
   "source": [
    "def testing_arguments(a,b,c,*args, x= 10,y = 20, **kwargs):\n",
    "    print(f'a == {a}, b == {b}, c == {c}')    # Positional arguments\n",
    "    print(f'args == {args}')            # Arbitary arguments/ Arbitary positional arguments\n",
    "    print(f'x == {x}, y == {y}')           # Default arguments\n",
    "    print(f'kwargs == {kwargs}')\n",
    "    \n",
    "    \n",
    "testing_arguments(45,65,85)"
   ]
  },
  {
   "cell_type": "code",
   "execution_count": 38,
   "id": "fa8d8b61",
   "metadata": {},
   "outputs": [
    {
     "name": "stdout",
     "output_type": "stream",
     "text": [
      "a == 45, b == 65, c == 85\n",
      "args == (6, 7)\n",
      "x == 10, y == 20\n",
      "kwargs == {}\n"
     ]
    }
   ],
   "source": [
    "def testing_arguments(a,b,c,*args, x= 10,y = 20, **kwargs):\n",
    "    print(f'a == {a}, b == {b}, c == {c}')    # Positional arguments\n",
    "    print(f'args == {args}')            # Arbitary arguments/ Arbitary positional arguments\n",
    "    print(f'x == {x}, y == {y}')           # Default arguments\n",
    "    print(f'kwargs == {kwargs}')\n",
    "    \n",
    "    \n",
    "testing_arguments(45,65,85,6,7)"
   ]
  },
  {
   "cell_type": "code",
   "execution_count": 39,
   "id": "598c52f1",
   "metadata": {},
   "outputs": [
    {
     "name": "stdout",
     "output_type": "stream",
     "text": [
      "a == 45, b == 65, c == 85\n",
      "args == (6,)\n",
      "x == 10, y == 20\n",
      "kwargs == {}\n"
     ]
    }
   ],
   "source": [
    "def testing_arguments(a,b,c,*args, x= 10,y = 20, **kwargs):\n",
    "    print(f'a == {a}, b == {b}, c == {c}')    # Positional arguments\n",
    "    print(f'args == {args}')            # Arbitary arguments/ Arbitary positional arguments\n",
    "    print(f'x == {x}, y == {y}')           # Default arguments\n",
    "    print(f'kwargs == {kwargs}')\n",
    "    \n",
    "    \n",
    "testing_arguments(45,65,85,6)"
   ]
  },
  {
   "cell_type": "code",
   "execution_count": 40,
   "id": "45b86ad1",
   "metadata": {},
   "outputs": [
    {
     "name": "stdout",
     "output_type": "stream",
     "text": [
      "a == 45, b == 65, c == 85\n",
      "args == (6, 7)\n",
      "x == 100, y == 200\n",
      "kwargs == {}\n"
     ]
    }
   ],
   "source": [
    "def testing_arguments(a,b,c,*args, x= 10,y = 20, **kwargs):\n",
    "    print(f'a == {a}, b == {b}, c == {c}')    # Positional arguments\n",
    "    print(f'args == {args}')            # Arbitary arguments/ Arbitary positional arguments\n",
    "    print(f'x == {x}, y == {y}')           # Default arguments\n",
    "    print(f'kwargs == {kwargs}')\n",
    "    \n",
    "    \n",
    "testing_arguments(45,65,85,6,7, x= 100, y = 200)"
   ]
  },
  {
   "cell_type": "code",
   "execution_count": 41,
   "id": "f37089a4",
   "metadata": {},
   "outputs": [
    {
     "ename": "TypeError",
     "evalue": "testing_arguments() got multiple values for argument 'a'",
     "output_type": "error",
     "traceback": [
      "\u001b[1;31m---------------------------------------------------------------------------\u001b[0m",
      "\u001b[1;31mTypeError\u001b[0m                                 Traceback (most recent call last)",
      "\u001b[1;32m<ipython-input-41-a18f7e8fb2e1>\u001b[0m in \u001b[0;36m<module>\u001b[1;34m\u001b[0m\n\u001b[0;32m      6\u001b[0m \u001b[1;33m\u001b[0m\u001b[0m\n\u001b[0;32m      7\u001b[0m \u001b[1;33m\u001b[0m\u001b[0m\n\u001b[1;32m----> 8\u001b[1;33m \u001b[0mtesting_arguments\u001b[0m\u001b[1;33m(\u001b[0m\u001b[1;36m45\u001b[0m\u001b[1;33m,\u001b[0m\u001b[1;36m65\u001b[0m\u001b[1;33m,\u001b[0m\u001b[1;36m85\u001b[0m\u001b[1;33m,\u001b[0m\u001b[1;36m6\u001b[0m\u001b[1;33m,\u001b[0m\u001b[1;36m7\u001b[0m\u001b[1;33m,\u001b[0m \u001b[0mx\u001b[0m\u001b[1;33m=\u001b[0m \u001b[1;36m100\u001b[0m\u001b[1;33m,\u001b[0m \u001b[0my\u001b[0m \u001b[1;33m=\u001b[0m \u001b[1;36m200\u001b[0m\u001b[1;33m,\u001b[0m \u001b[0ma\u001b[0m\u001b[1;33m=\u001b[0m \u001b[1;36m96\u001b[0m\u001b[1;33m)\u001b[0m\u001b[1;33m\u001b[0m\u001b[1;33m\u001b[0m\u001b[0m\n\u001b[0m",
      "\u001b[1;31mTypeError\u001b[0m: testing_arguments() got multiple values for argument 'a'"
     ]
    }
   ],
   "source": [
    "def testing_arguments(a,b,c,*args, x= 10,y = 20, **kwargs):\n",
    "    print(f'a == {a}, b == {b}, c == {c}')    # Positional arguments\n",
    "    print(f'args == {args}')            # Arbitary arguments/ Arbitary positional arguments\n",
    "    print(f'x == {x}, y == {y}')           # Default arguments\n",
    "    print(f'kwargs == {kwargs}')           # Arbitary Keyword arguments\n",
    "    \n",
    "    \n",
    "testing_arguments(45,65,85,6,7, x= 100, y = 200, a= 96)"
   ]
  },
  {
   "cell_type": "code",
   "execution_count": 42,
   "id": "cd81fbfb",
   "metadata": {},
   "outputs": [
    {
     "ename": "SyntaxError",
     "evalue": "positional argument follows keyword argument (<ipython-input-42-7a8205eda3fb>, line 8)",
     "output_type": "error",
     "traceback": [
      "\u001b[1;36m  File \u001b[1;32m\"<ipython-input-42-7a8205eda3fb>\"\u001b[1;36m, line \u001b[1;32m8\u001b[0m\n\u001b[1;33m    testing_arguments(a= 96, 45,65,85,6,7, x= 100, y = 200, )\u001b[0m\n\u001b[1;37m                             ^\u001b[0m\n\u001b[1;31mSyntaxError\u001b[0m\u001b[1;31m:\u001b[0m positional argument follows keyword argument\n"
     ]
    }
   ],
   "source": [
    "def testing_arguments(a,b,c,*args, x= 10,y = 20, **kwargs):\n",
    "    print(f'a == {a}, b == {b}, c == {c}')    # Positional arguments\n",
    "    print(f'args == {args}')            # Arbitary arguments/ Arbitary positional arguments\n",
    "    print(f'x == {x}, y == {y}')           # Default arguments\n",
    "    print(f'kwargs == {kwargs}')           # Arbitary Keyword arguments\n",
    "    \n",
    "    \n",
    "testing_arguments(a= 96, 45,65,85,6,7, x= 100, y = 200, )"
   ]
  },
  {
   "cell_type": "code",
   "execution_count": 43,
   "id": "3cbd9a9a",
   "metadata": {},
   "outputs": [
    {
     "name": "stdout",
     "output_type": "stream",
     "text": [
      "a == 96, b == 45, c == 65\n",
      "args == (85, 6, 7)\n",
      "x == 100, y == 200\n",
      "kwargs == {'n1': 50, 'n2': 60, 'n3': 70}\n"
     ]
    }
   ],
   "source": [
    "def testing_arguments(a,b,c,*args, x= 10,y = 20, **kwargs):\n",
    "    print(f'a == {a}, b == {b}, c == {c}')    # Positional arguments\n",
    "    print(f'args == {args}')            # Arbitary arguments/ Arbitary positional arguments\n",
    "    print(f'x == {x}, y == {y}')           # Default arguments\n",
    "    print(f'kwargs == {kwargs}')           # Arbitary Keyword arguments\n",
    "    \n",
    "    \n",
    "testing_arguments(96, 45,65,85,6,7, x= 100, y = 200, n1 = 50,n2 = 60,n3=70 )"
   ]
  },
  {
   "cell_type": "code",
   "execution_count": 44,
   "id": "1373b8b8",
   "metadata": {},
   "outputs": [
    {
     "name": "stdout",
     "output_type": "stream",
     "text": [
      "a == 96, b == 45, c == 65\n",
      "args == (85, 6, 7)\n",
      "x == 100, y == 200\n",
      "kwargs == {'n1': 50, 'n2': 60, 'n3': 70}\n"
     ]
    }
   ],
   "source": [
    "def testing_arguments(a,b,c,*args, x= 10,y = 20, **kwargs):\n",
    "    print(f'a == {a}, b == {b}, c == {c}')    # Positional arguments\n",
    "    print(f'args == {args}')            # Arbitary arguments/ Arbitary positional arguments\n",
    "    print(f'x == {x}, y == {y}')           # Default arguments\n",
    "    print(f'kwargs == {kwargs}')           # Arbitary Keyword arguments\n",
    "    \n",
    "    \n",
    "testing_arguments(96, 45,65,85,6,7, n1 = 50,n2 = 60,n3=70, x= 100, y = 200 )"
   ]
  },
  {
   "cell_type": "code",
   "execution_count": 45,
   "id": "71321cb7",
   "metadata": {},
   "outputs": [
    {
     "name": "stdout",
     "output_type": "stream",
     "text": [
      "a == 96, b == 45, c == 65\n",
      "args == (85, 6, 7)\n",
      "x == 10, y == 20\n",
      "kwargs == {'n1': 50, 'n2': 60, 'n3': 70}\n"
     ]
    }
   ],
   "source": [
    "def testing_arguments(a,b,c,*args, x= 10,y = 20, **kwargs):\n",
    "    print(f'a == {a}, b == {b}, c == {c}')    # Positional arguments\n",
    "    print(f'args == {args}')            # Arbitary arguments/ Arbitary positional arguments\n",
    "    print(f'x == {x}, y == {y}')           # Default arguments\n",
    "    print(f'kwargs == {kwargs}')           # Arbitary Keyword arguments\n",
    "    \n",
    "    \n",
    "testing_arguments(96, 45,65,85,6,7, n1 = 50,n2 = 60,n3=70 )"
   ]
  },
  {
   "cell_type": "markdown",
   "id": "486891ee",
   "metadata": {},
   "source": [
    "## Types of Variables"
   ]
  },
  {
   "cell_type": "code",
   "execution_count": null,
   "id": "12637142",
   "metadata": {},
   "outputs": [],
   "source": [
    "1. Global var\n",
    "2. Local var"
   ]
  },
  {
   "cell_type": "code",
   "execution_count": 49,
   "id": "8c0b7ff9",
   "metadata": {},
   "outputs": [
    {
     "name": "stdout",
     "output_type": "stream",
     "text": [
      "10\n"
     ]
    }
   ],
   "source": [
    "def beta():\n",
    "    j = 10  # local variable\n",
    "    print(j)\n",
    "beta()"
   ]
  },
  {
   "cell_type": "code",
   "execution_count": 50,
   "id": "cc456ccb",
   "metadata": {},
   "outputs": [
    {
     "ename": "NameError",
     "evalue": "name 'j' is not defined",
     "output_type": "error",
     "traceback": [
      "\u001b[1;31m---------------------------------------------------------------------------\u001b[0m",
      "\u001b[1;31mNameError\u001b[0m                                 Traceback (most recent call last)",
      "\u001b[1;32m<ipython-input-50-3eedd8854d1e>\u001b[0m in \u001b[0;36m<module>\u001b[1;34m\u001b[0m\n\u001b[1;32m----> 1\u001b[1;33m \u001b[0mj\u001b[0m\u001b[1;33m\u001b[0m\u001b[1;33m\u001b[0m\u001b[0m\n\u001b[0m",
      "\u001b[1;31mNameError\u001b[0m: name 'j' is not defined"
     ]
    }
   ],
   "source": [
    "j"
   ]
  },
  {
   "cell_type": "code",
   "execution_count": 52,
   "id": "7dd70dc6",
   "metadata": {},
   "outputs": [
    {
     "name": "stdout",
     "output_type": "stream",
     "text": [
      "42\n"
     ]
    }
   ],
   "source": [
    "j = 42  # global variable\n",
    "def beta():\n",
    "    \n",
    "    print(j)\n",
    "beta()"
   ]
  },
  {
   "cell_type": "code",
   "execution_count": 53,
   "id": "92c71695",
   "metadata": {},
   "outputs": [
    {
     "data": {
      "text/plain": [
       "42"
      ]
     },
     "execution_count": 53,
     "metadata": {},
     "output_type": "execute_result"
    }
   ],
   "source": [
    "j"
   ]
  },
  {
   "cell_type": "code",
   "execution_count": 54,
   "id": "e5f0cec2",
   "metadata": {},
   "outputs": [
    {
     "name": "stdout",
     "output_type": "stream",
     "text": [
      "20\n"
     ]
    }
   ],
   "source": [
    "k = 34  # global variable\n",
    "def beta():\n",
    "    k = 20  # local var\n",
    "    print(k)\n",
    "beta()"
   ]
  },
  {
   "cell_type": "code",
   "execution_count": 55,
   "id": "96646350",
   "metadata": {},
   "outputs": [
    {
     "data": {
      "text/plain": [
       "34"
      ]
     },
     "execution_count": 55,
     "metadata": {},
     "output_type": "execute_result"
    }
   ],
   "source": [
    "k"
   ]
  },
  {
   "cell_type": "code",
   "execution_count": 56,
   "id": "daf2b027",
   "metadata": {},
   "outputs": [
    {
     "ename": "SyntaxError",
     "evalue": "name 'l' is assigned to before global declaration (<ipython-input-56-ada8a17a4045>, line 3)",
     "output_type": "error",
     "traceback": [
      "\u001b[1;36m  File \u001b[1;32m\"<ipython-input-56-ada8a17a4045>\"\u001b[1;36m, line \u001b[1;32m3\u001b[0m\n\u001b[1;33m    global l\u001b[0m\n\u001b[1;37m    ^\u001b[0m\n\u001b[1;31mSyntaxError\u001b[0m\u001b[1;31m:\u001b[0m name 'l' is assigned to before global declaration\n"
     ]
    }
   ],
   "source": [
    "def beta():\n",
    "    l = 20  # local var\n",
    "    global l\n",
    "    print(l)\n",
    "beta()"
   ]
  },
  {
   "cell_type": "code",
   "execution_count": 57,
   "id": "0dbe6124",
   "metadata": {},
   "outputs": [
    {
     "name": "stdout",
     "output_type": "stream",
     "text": [
      "20\n"
     ]
    }
   ],
   "source": [
    "def beta():\n",
    "    global l\n",
    "    l = 20  # local var\n",
    "    \n",
    "    print(l)\n",
    "beta()"
   ]
  },
  {
   "cell_type": "code",
   "execution_count": 58,
   "id": "532c8d0d",
   "metadata": {},
   "outputs": [
    {
     "data": {
      "text/plain": [
       "20"
      ]
     },
     "execution_count": 58,
     "metadata": {},
     "output_type": "execute_result"
    }
   ],
   "source": [
    "l"
   ]
  },
  {
   "cell_type": "code",
   "execution_count": 60,
   "id": "a187a316",
   "metadata": {},
   "outputs": [
    {
     "name": "stdout",
     "output_type": "stream",
     "text": [
      "20\n"
     ]
    },
    {
     "data": {
      "text/plain": [
       "20"
      ]
     },
     "execution_count": 60,
     "metadata": {},
     "output_type": "execute_result"
    }
   ],
   "source": [
    "def beta():\n",
    "    global m\n",
    "    m = 20  # local var\n",
    "    \n",
    "    print(m)\n",
    "beta()\n",
    "m"
   ]
  },
  {
   "cell_type": "code",
   "execution_count": 62,
   "id": "bb9549e0",
   "metadata": {},
   "outputs": [
    {
     "name": "stdout",
     "output_type": "stream",
     "text": [
      "20\n"
     ]
    }
   ],
   "source": [
    "l = 97\n",
    "def beta():\n",
    "    global l\n",
    "    l = 20  # local var\n",
    "    print(l)\n",
    "beta()"
   ]
  },
  {
   "cell_type": "code",
   "execution_count": 63,
   "id": "d95f52eb",
   "metadata": {},
   "outputs": [
    {
     "data": {
      "text/plain": [
       "20"
      ]
     },
     "execution_count": 63,
     "metadata": {},
     "output_type": "execute_result"
    }
   ],
   "source": [
    "l"
   ]
  },
  {
   "cell_type": "code",
   "execution_count": null,
   "id": "428b82b4",
   "metadata": {},
   "outputs": [],
   "source": []
  },
  {
   "cell_type": "code",
   "execution_count": null,
   "id": "b4ae9b23",
   "metadata": {},
   "outputs": [],
   "source": []
  },
  {
   "cell_type": "code",
   "execution_count": null,
   "id": "ee01fbc7",
   "metadata": {},
   "outputs": [],
   "source": []
  },
  {
   "cell_type": "code",
   "execution_count": null,
   "id": "50b73b77",
   "metadata": {},
   "outputs": [],
   "source": []
  },
  {
   "cell_type": "code",
   "execution_count": null,
   "id": "3a228a96",
   "metadata": {},
   "outputs": [],
   "source": []
  },
  {
   "cell_type": "code",
   "execution_count": null,
   "id": "4f3af494",
   "metadata": {},
   "outputs": [],
   "source": []
  },
  {
   "cell_type": "code",
   "execution_count": null,
   "id": "9a8ce4db",
   "metadata": {},
   "outputs": [],
   "source": []
  },
  {
   "cell_type": "code",
   "execution_count": null,
   "id": "117b5b88",
   "metadata": {},
   "outputs": [],
   "source": []
  },
  {
   "cell_type": "code",
   "execution_count": null,
   "id": "aad419ab",
   "metadata": {},
   "outputs": [],
   "source": []
  },
  {
   "cell_type": "code",
   "execution_count": null,
   "id": "f56d59a8",
   "metadata": {},
   "outputs": [],
   "source": []
  },
  {
   "cell_type": "code",
   "execution_count": null,
   "id": "4a601e77",
   "metadata": {},
   "outputs": [],
   "source": []
  },
  {
   "cell_type": "code",
   "execution_count": null,
   "id": "5b448a8d",
   "metadata": {},
   "outputs": [],
   "source": []
  },
  {
   "cell_type": "code",
   "execution_count": null,
   "id": "f677a092",
   "metadata": {},
   "outputs": [],
   "source": []
  },
  {
   "cell_type": "code",
   "execution_count": null,
   "id": "05243f3a",
   "metadata": {},
   "outputs": [],
   "source": []
  },
  {
   "cell_type": "code",
   "execution_count": null,
   "id": "f48ac5df",
   "metadata": {},
   "outputs": [],
   "source": []
  },
  {
   "cell_type": "code",
   "execution_count": null,
   "id": "6d89d03b",
   "metadata": {},
   "outputs": [],
   "source": []
  },
  {
   "cell_type": "code",
   "execution_count": null,
   "id": "c6f322b6",
   "metadata": {},
   "outputs": [],
   "source": []
  },
  {
   "cell_type": "code",
   "execution_count": null,
   "id": "06e5ee23",
   "metadata": {},
   "outputs": [],
   "source": []
  },
  {
   "cell_type": "code",
   "execution_count": null,
   "id": "9be39689",
   "metadata": {},
   "outputs": [],
   "source": []
  },
  {
   "cell_type": "code",
   "execution_count": null,
   "id": "407307bc",
   "metadata": {},
   "outputs": [],
   "source": []
  },
  {
   "cell_type": "code",
   "execution_count": null,
   "id": "bd7e912a",
   "metadata": {},
   "outputs": [],
   "source": []
  },
  {
   "cell_type": "code",
   "execution_count": null,
   "id": "9be5af76",
   "metadata": {},
   "outputs": [],
   "source": []
  },
  {
   "cell_type": "code",
   "execution_count": null,
   "id": "00372bd3",
   "metadata": {},
   "outputs": [],
   "source": []
  },
  {
   "cell_type": "code",
   "execution_count": null,
   "id": "ad2ec8c6",
   "metadata": {},
   "outputs": [],
   "source": []
  },
  {
   "cell_type": "code",
   "execution_count": null,
   "id": "66cdd187",
   "metadata": {},
   "outputs": [],
   "source": []
  },
  {
   "cell_type": "code",
   "execution_count": null,
   "id": "f2102ad5",
   "metadata": {},
   "outputs": [],
   "source": []
  },
  {
   "cell_type": "code",
   "execution_count": null,
   "id": "350b3af7",
   "metadata": {},
   "outputs": [],
   "source": []
  },
  {
   "cell_type": "code",
   "execution_count": null,
   "id": "115985c3",
   "metadata": {},
   "outputs": [],
   "source": []
  },
  {
   "cell_type": "code",
   "execution_count": null,
   "id": "8223b502",
   "metadata": {},
   "outputs": [],
   "source": []
  },
  {
   "cell_type": "code",
   "execution_count": null,
   "id": "10489e9e",
   "metadata": {},
   "outputs": [],
   "source": []
  },
  {
   "cell_type": "code",
   "execution_count": null,
   "id": "3bd5e7b1",
   "metadata": {},
   "outputs": [],
   "source": []
  },
  {
   "cell_type": "code",
   "execution_count": null,
   "id": "676bd1c7",
   "metadata": {},
   "outputs": [],
   "source": []
  },
  {
   "cell_type": "code",
   "execution_count": null,
   "id": "cf20c89b",
   "metadata": {},
   "outputs": [],
   "source": []
  },
  {
   "cell_type": "code",
   "execution_count": null,
   "id": "e1ed2e66",
   "metadata": {},
   "outputs": [],
   "source": []
  },
  {
   "cell_type": "code",
   "execution_count": null,
   "id": "5284f9a4",
   "metadata": {},
   "outputs": [],
   "source": []
  },
  {
   "cell_type": "code",
   "execution_count": null,
   "id": "436408ac",
   "metadata": {},
   "outputs": [],
   "source": []
  },
  {
   "cell_type": "code",
   "execution_count": null,
   "id": "803b7c7e",
   "metadata": {},
   "outputs": [],
   "source": []
  },
  {
   "cell_type": "code",
   "execution_count": null,
   "id": "23fc11da",
   "metadata": {},
   "outputs": [],
   "source": []
  },
  {
   "cell_type": "code",
   "execution_count": null,
   "id": "30fb2f95",
   "metadata": {},
   "outputs": [],
   "source": []
  },
  {
   "cell_type": "code",
   "execution_count": null,
   "id": "8562b82f",
   "metadata": {},
   "outputs": [],
   "source": []
  },
  {
   "cell_type": "code",
   "execution_count": null,
   "id": "50b1b3c6",
   "metadata": {},
   "outputs": [],
   "source": []
  },
  {
   "cell_type": "code",
   "execution_count": null,
   "id": "213497e4",
   "metadata": {},
   "outputs": [],
   "source": []
  },
  {
   "cell_type": "code",
   "execution_count": null,
   "id": "5cf3b8c7",
   "metadata": {},
   "outputs": [],
   "source": []
  },
  {
   "cell_type": "code",
   "execution_count": null,
   "id": "03982c36",
   "metadata": {},
   "outputs": [],
   "source": []
  },
  {
   "cell_type": "code",
   "execution_count": null,
   "id": "eca93b22",
   "metadata": {},
   "outputs": [],
   "source": []
  },
  {
   "cell_type": "code",
   "execution_count": null,
   "id": "f6e8ba26",
   "metadata": {},
   "outputs": [],
   "source": []
  },
  {
   "cell_type": "code",
   "execution_count": null,
   "id": "03fadc36",
   "metadata": {},
   "outputs": [],
   "source": []
  },
  {
   "cell_type": "code",
   "execution_count": null,
   "id": "23835e68",
   "metadata": {},
   "outputs": [],
   "source": []
  },
  {
   "cell_type": "code",
   "execution_count": null,
   "id": "424c4462",
   "metadata": {},
   "outputs": [],
   "source": []
  },
  {
   "cell_type": "code",
   "execution_count": null,
   "id": "b567fbc4",
   "metadata": {},
   "outputs": [],
   "source": []
  },
  {
   "cell_type": "code",
   "execution_count": null,
   "id": "0fc15f58",
   "metadata": {},
   "outputs": [],
   "source": []
  },
  {
   "cell_type": "code",
   "execution_count": null,
   "id": "bf0d682c",
   "metadata": {},
   "outputs": [],
   "source": []
  },
  {
   "cell_type": "code",
   "execution_count": null,
   "id": "d0a0fa66",
   "metadata": {},
   "outputs": [],
   "source": []
  },
  {
   "cell_type": "code",
   "execution_count": null,
   "id": "02bd0a7b",
   "metadata": {},
   "outputs": [],
   "source": []
  },
  {
   "cell_type": "code",
   "execution_count": null,
   "id": "e9b13530",
   "metadata": {},
   "outputs": [],
   "source": []
  },
  {
   "cell_type": "code",
   "execution_count": null,
   "id": "d7f4efed",
   "metadata": {},
   "outputs": [],
   "source": []
  },
  {
   "cell_type": "code",
   "execution_count": null,
   "id": "d89bae0f",
   "metadata": {},
   "outputs": [],
   "source": []
  },
  {
   "cell_type": "code",
   "execution_count": null,
   "id": "b1b8840e",
   "metadata": {},
   "outputs": [],
   "source": []
  },
  {
   "cell_type": "code",
   "execution_count": null,
   "id": "348b6cbf",
   "metadata": {},
   "outputs": [],
   "source": []
  },
  {
   "cell_type": "code",
   "execution_count": null,
   "id": "4b3442d1",
   "metadata": {},
   "outputs": [],
   "source": []
  },
  {
   "cell_type": "code",
   "execution_count": null,
   "id": "9b3eb239",
   "metadata": {},
   "outputs": [],
   "source": []
  },
  {
   "cell_type": "code",
   "execution_count": null,
   "id": "2215d04e",
   "metadata": {},
   "outputs": [],
   "source": []
  },
  {
   "cell_type": "code",
   "execution_count": null,
   "id": "dc0b4fcd",
   "metadata": {},
   "outputs": [],
   "source": []
  },
  {
   "cell_type": "code",
   "execution_count": null,
   "id": "742dd2d8",
   "metadata": {},
   "outputs": [],
   "source": []
  },
  {
   "cell_type": "code",
   "execution_count": null,
   "id": "bcef50cc",
   "metadata": {},
   "outputs": [],
   "source": []
  },
  {
   "cell_type": "code",
   "execution_count": null,
   "id": "ad906cd1",
   "metadata": {},
   "outputs": [],
   "source": []
  },
  {
   "cell_type": "code",
   "execution_count": null,
   "id": "18d91da6",
   "metadata": {},
   "outputs": [],
   "source": []
  },
  {
   "cell_type": "code",
   "execution_count": null,
   "id": "cfec83d6",
   "metadata": {},
   "outputs": [],
   "source": []
  },
  {
   "cell_type": "code",
   "execution_count": null,
   "id": "2a449e3c",
   "metadata": {},
   "outputs": [],
   "source": []
  },
  {
   "cell_type": "code",
   "execution_count": null,
   "id": "5a4fe963",
   "metadata": {},
   "outputs": [],
   "source": []
  },
  {
   "cell_type": "code",
   "execution_count": null,
   "id": "2edf5389",
   "metadata": {},
   "outputs": [],
   "source": []
  },
  {
   "cell_type": "code",
   "execution_count": null,
   "id": "5fd120bc",
   "metadata": {},
   "outputs": [],
   "source": []
  },
  {
   "cell_type": "code",
   "execution_count": null,
   "id": "cd85990b",
   "metadata": {},
   "outputs": [],
   "source": []
  },
  {
   "cell_type": "code",
   "execution_count": null,
   "id": "932c0389",
   "metadata": {},
   "outputs": [],
   "source": []
  },
  {
   "cell_type": "code",
   "execution_count": null,
   "id": "d9e39d45",
   "metadata": {},
   "outputs": [],
   "source": []
  },
  {
   "cell_type": "code",
   "execution_count": null,
   "id": "ad4c284a",
   "metadata": {},
   "outputs": [],
   "source": []
  },
  {
   "cell_type": "code",
   "execution_count": null,
   "id": "eaf2ca9e",
   "metadata": {},
   "outputs": [],
   "source": []
  },
  {
   "cell_type": "code",
   "execution_count": null,
   "id": "ae62fb10",
   "metadata": {},
   "outputs": [],
   "source": []
  }
 ],
 "metadata": {
  "kernelspec": {
   "display_name": "Python 3 (ipykernel)",
   "language": "python",
   "name": "python3"
  },
  "language_info": {
   "codemirror_mode": {
    "name": "ipython",
    "version": 3
   },
   "file_extension": ".py",
   "mimetype": "text/x-python",
   "name": "python",
   "nbconvert_exporter": "python",
   "pygments_lexer": "ipython3",
   "version": "3.11.3"
  }
 },
 "nbformat": 4,
 "nbformat_minor": 5
}
