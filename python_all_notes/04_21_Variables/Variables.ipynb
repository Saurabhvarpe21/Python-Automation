{
 "cells": [
  {
   "cell_type": "markdown",
   "id": "b621462a",
   "metadata": {},
   "source": [
    "## Assigning Same Value to Multiple Variables"
   ]
  },
  {
   "cell_type": "code",
   "execution_count": 1,
   "id": "678b3066",
   "metadata": {},
   "outputs": [
    {
     "name": "stdout",
     "output_type": "stream",
     "text": [
      "a = 10, b = 20\n"
     ]
    }
   ],
   "source": [
    "a = 10\n",
    "b = 20\n",
    "print(f'a = {a}, b = {b}')"
   ]
  },
  {
   "cell_type": "code",
   "execution_count": null,
   "id": "9487fad0",
   "metadata": {},
   "outputs": [],
   "source": [
    "a = 10\n",
    "b = 20\n",
    "print(f'a = {a}, b = {b}')"
   ]
  },
  {
   "cell_type": "code",
   "execution_count": 2,
   "id": "302a0bfe",
   "metadata": {},
   "outputs": [
    {
     "name": "stdout",
     "output_type": "stream",
     "text": [
      "a = 10, b = 10\n"
     ]
    }
   ],
   "source": [
    "a = b = 10\n",
    "\n",
    "print(f'a = {a}, b = {b}')"
   ]
  },
  {
   "cell_type": "code",
   "execution_count": 3,
   "id": "274739a6",
   "metadata": {},
   "outputs": [
    {
     "name": "stdout",
     "output_type": "stream",
     "text": [
      "a = 10, b = 10\n"
     ]
    }
   ],
   "source": [
    "a = 10\n",
    "b = 10\n",
    "\n",
    "print(f'a = {a}, b = {b}')"
   ]
  },
  {
   "cell_type": "code",
   "execution_count": 4,
   "id": "bedf8ed4",
   "metadata": {},
   "outputs": [
    {
     "name": "stdout",
     "output_type": "stream",
     "text": [
      "a = 10, b = 10\n"
     ]
    }
   ],
   "source": [
    "a = 10 ; b = 10\n",
    "\n",
    "print(f'a = {a}, b = {b}')"
   ]
  },
  {
   "cell_type": "markdown",
   "id": "a1775c25",
   "metadata": {},
   "source": [
    "## Multiple values to Multiple Variables"
   ]
  },
  {
   "cell_type": "code",
   "execution_count": 5,
   "id": "4bd84f3a",
   "metadata": {},
   "outputs": [
    {
     "name": "stdout",
     "output_type": "stream",
     "text": [
      "a = 30 , b = 40, c = Data Science\n"
     ]
    }
   ],
   "source": [
    "a = 30\n",
    "b = 40\n",
    "c = 'Data Science'\n",
    "\n",
    "print(f'a = {a} , b = {b}, c = {c}')"
   ]
  },
  {
   "cell_type": "code",
   "execution_count": 6,
   "id": "a84cade2",
   "metadata": {},
   "outputs": [
    {
     "name": "stdout",
     "output_type": "stream",
     "text": [
      "a = 30 , b = 40, c = Data Science\n"
     ]
    }
   ],
   "source": [
    "a , b, c = 30, 40, 'Data Science'\n",
    "print(f'a = {a} , b = {b}, c = {c}')"
   ]
  },
  {
   "cell_type": "code",
   "execution_count": 7,
   "id": "cccc6199",
   "metadata": {},
   "outputs": [
    {
     "ename": "ValueError",
     "evalue": "not enough values to unpack (expected 3, got 2)",
     "output_type": "error",
     "traceback": [
      "\u001b[1;31m---------------------------------------------------------------------------\u001b[0m",
      "\u001b[1;31mValueError\u001b[0m                                Traceback (most recent call last)",
      "\u001b[1;32m<ipython-input-7-3fcc7c26290b>\u001b[0m in \u001b[0;36m<module>\u001b[1;34m\u001b[0m\n\u001b[1;32m----> 1\u001b[1;33m \u001b[0ma\u001b[0m \u001b[1;33m,\u001b[0m \u001b[0mb\u001b[0m\u001b[1;33m,\u001b[0m \u001b[0mc\u001b[0m \u001b[1;33m=\u001b[0m \u001b[1;36m30\u001b[0m\u001b[1;33m,\u001b[0m \u001b[1;36m40\u001b[0m\u001b[1;33m\u001b[0m\u001b[1;33m\u001b[0m\u001b[0m\n\u001b[0m\u001b[0;32m      2\u001b[0m \u001b[0mprint\u001b[0m\u001b[1;33m(\u001b[0m\u001b[1;34mf'a = {a} , b = {b}, c = {c}'\u001b[0m\u001b[1;33m)\u001b[0m\u001b[1;33m\u001b[0m\u001b[1;33m\u001b[0m\u001b[0m\n",
      "\u001b[1;31mValueError\u001b[0m: not enough values to unpack (expected 3, got 2)"
     ]
    }
   ],
   "source": [
    "a , b, c = 30, 40\n",
    "print(f'a = {a} , b = {b}, c = {c}')"
   ]
  },
  {
   "cell_type": "code",
   "execution_count": 8,
   "id": "d6aff706",
   "metadata": {},
   "outputs": [
    {
     "name": "stdout",
     "output_type": "stream",
     "text": [
      "a = 30, b = 40.500000, c = Data Science\n"
     ]
    }
   ],
   "source": [
    "a = 30\n",
    "b = 40.5\n",
    "c = 'Data Science'\n",
    "\n",
    "print('a = %d, b = %f, c = %s' %(a,b,c))"
   ]
  },
  {
   "cell_type": "code",
   "execution_count": 9,
   "id": "c85c749a",
   "metadata": {},
   "outputs": [
    {
     "ename": "TypeError",
     "evalue": "%d format: a number is required, not str",
     "output_type": "error",
     "traceback": [
      "\u001b[1;31m---------------------------------------------------------------------------\u001b[0m",
      "\u001b[1;31mTypeError\u001b[0m                                 Traceback (most recent call last)",
      "\u001b[1;32m<ipython-input-9-a66698bd5635>\u001b[0m in \u001b[0;36m<module>\u001b[1;34m\u001b[0m\n\u001b[0;32m      3\u001b[0m \u001b[0mc\u001b[0m \u001b[1;33m=\u001b[0m \u001b[1;34m'Data Science'\u001b[0m\u001b[1;33m\u001b[0m\u001b[1;33m\u001b[0m\u001b[0m\n\u001b[0;32m      4\u001b[0m \u001b[1;33m\u001b[0m\u001b[0m\n\u001b[1;32m----> 5\u001b[1;33m \u001b[0mprint\u001b[0m\u001b[1;33m(\u001b[0m\u001b[1;34m'a = %d, b = %f, c = %d'\u001b[0m \u001b[1;33m%\u001b[0m\u001b[1;33m(\u001b[0m\u001b[0ma\u001b[0m\u001b[1;33m,\u001b[0m\u001b[0mb\u001b[0m\u001b[1;33m,\u001b[0m\u001b[0mc\u001b[0m\u001b[1;33m)\u001b[0m\u001b[1;33m)\u001b[0m\u001b[1;33m\u001b[0m\u001b[1;33m\u001b[0m\u001b[0m\n\u001b[0m",
      "\u001b[1;31mTypeError\u001b[0m: %d format: a number is required, not str"
     ]
    }
   ],
   "source": [
    "a = 30\n",
    "b = 40.5\n",
    "c = 'Data Science'\n",
    "\n",
    "print('a = %d, b = %f, c = %d' %(a,b,c))"
   ]
  },
  {
   "cell_type": "code",
   "execution_count": null,
   "id": "4bbb3dff",
   "metadata": {},
   "outputs": [],
   "source": []
  },
  {
   "cell_type": "code",
   "execution_count": 16,
   "id": "7ff78647",
   "metadata": {},
   "outputs": [
    {
     "name": "stdout",
     "output_type": "stream",
     "text": [
      "Value in variable a is : 10, and its datatype is : <class 'int'>\n",
      "Value in variable b is : 2.2, and its datatype is : <class 'float'>\n",
      "Value in variable c is : (2+3j), and its datatype is : <class 'complex'>\n",
      "Value in variable d is : Python, and its datatype is : <class 'str'>\n",
      "Value in variable e is : [1, 2, 3, 4], and its datatype is : <class 'list'>\n",
      "Value in variable f is : (1, 2, 3, 4), and its datatype is : <class 'tuple'>\n"
     ]
    }
   ],
   "source": [
    "a = 10\n",
    "b = 2.2\n",
    "c = 2 + 3j #(a+bj)\n",
    "d = 'Python'\n",
    "e = [1,2,3,4]\n",
    "f = (1,2,3,4)\n",
    "\n",
    "print(f'Value in variable a is : {a}, and its datatype is : {type(a)}')\n",
    "print(f'Value in variable b is : {b}, and its datatype is : {type(b)}')\n",
    "print(f'Value in variable c is : {c}, and its datatype is : {type(c)}')\n",
    "print(f'Value in variable d is : {d}, and its datatype is : {type(d)}')\n",
    "print(f'Value in variable e is : {e}, and its datatype is : {type(e)}')\n",
    "print(f'Value in variable f is : {f}, and its datatype is : {type(f)}')"
   ]
  },
  {
   "cell_type": "code",
   "execution_count": 17,
   "id": "2aba6856",
   "metadata": {},
   "outputs": [
    {
     "name": "stdout",
     "output_type": "stream",
     "text": [
      "val of a is {a}\n"
     ]
    }
   ],
   "source": [
    "a= 2\n",
    "print('val of a is {a}')"
   ]
  },
  {
   "cell_type": "markdown",
   "id": "3a3d1873",
   "metadata": {},
   "source": [
    "## Rules to define Identifiers(Variables)"
   ]
  },
  {
   "cell_type": "code",
   "execution_count": null,
   "id": "ce052106",
   "metadata": {},
   "outputs": [],
   "source": [
    "Identifiers:\n",
    "    1. Variable\n",
    "    2. Function name\n",
    "    3. Class name"
   ]
  },
  {
   "cell_type": "code",
   "execution_count": null,
   "id": "8785111f",
   "metadata": {},
   "outputs": [],
   "source": [
    "1. Variables name must starts with alphabets(a-z, A-Z or underscore(_))\n",
    "\n",
    "2. Case Sensitive (name, NAME, Name, nAME):\n",
    "    \n",
    "3. All characters must be alphanumeric (a-z, A-Z, 0-9, _)\n",
    "\n",
    "4. We can not use special character(~!@#$%^&)\n",
    "                                    \n",
    "5. We can not use Python reserved keywords(if, elif, finally, for, and.....) # reserved keywords\n",
    "                                    \n",
    "6. Do not use Python built in functions( print, list, tuple, min, max, sum) # Python built in functions"
   ]
  },
  {
   "cell_type": "code",
   "execution_count": 19,
   "id": "3765e86b",
   "metadata": {},
   "outputs": [
    {
     "data": {
      "text/plain": [
       "1"
      ]
     },
     "execution_count": 19,
     "metadata": {},
     "output_type": "execute_result"
    }
   ],
   "source": [
    "name =1\n",
    "name"
   ]
  },
  {
   "cell_type": "code",
   "execution_count": 20,
   "id": "63321165",
   "metadata": {},
   "outputs": [
    {
     "data": {
      "text/plain": [
       "1"
      ]
     },
     "execution_count": 20,
     "metadata": {},
     "output_type": "execute_result"
    }
   ],
   "source": [
    "hi = 1\n",
    "hi"
   ]
  },
  {
   "cell_type": "code",
   "execution_count": 23,
   "id": "e3ba7a41",
   "metadata": {},
   "outputs": [
    {
     "name": "stdout",
     "output_type": "stream",
     "text": [
      "1\n",
      "2\n",
      "3\n"
     ]
    }
   ],
   "source": [
    "myvar = 1\n",
    "Myvar = 2\n",
    "my_var = 3\n",
    "print(myvar)\n",
    "print(Myvar)\n",
    "print(my_var)"
   ]
  },
  {
   "cell_type": "code",
   "execution_count": 24,
   "id": "f689f339",
   "metadata": {},
   "outputs": [
    {
     "ename": "SyntaxError",
     "evalue": "invalid syntax (<ipython-input-24-55c9879cd997>, line 1)",
     "output_type": "error",
     "traceback": [
      "\u001b[1;36m  File \u001b[1;32m\"<ipython-input-24-55c9879cd997>\"\u001b[1;36m, line \u001b[1;32m1\u001b[0m\n\u001b[1;33m    1a = 1\u001b[0m\n\u001b[1;37m     ^\u001b[0m\n\u001b[1;31mSyntaxError\u001b[0m\u001b[1;31m:\u001b[0m invalid syntax\n"
     ]
    }
   ],
   "source": [
    "1a = 1\n",
    "1a"
   ]
  },
  {
   "cell_type": "code",
   "execution_count": 25,
   "id": "ee7e36ff",
   "metadata": {},
   "outputs": [
    {
     "data": {
      "text/plain": [
       "1"
      ]
     },
     "execution_count": 25,
     "metadata": {},
     "output_type": "execute_result"
    }
   ],
   "source": [
    "my1 =1\n",
    "my1"
   ]
  },
  {
   "cell_type": "code",
   "execution_count": 26,
   "id": "dd8e4ac1",
   "metadata": {},
   "outputs": [
    {
     "data": {
      "text/plain": [
       "1"
      ]
     },
     "execution_count": 26,
     "metadata": {},
     "output_type": "execute_result"
    }
   ],
   "source": [
    "_1 = 1\n",
    "_1"
   ]
  },
  {
   "cell_type": "code",
   "execution_count": 27,
   "id": "df07f7c5",
   "metadata": {},
   "outputs": [
    {
     "ename": "SyntaxError",
     "evalue": "invalid syntax (<ipython-input-27-a8d440d71ce6>, line 1)",
     "output_type": "error",
     "traceback": [
      "\u001b[1;36m  File \u001b[1;32m\"<ipython-input-27-a8d440d71ce6>\"\u001b[1;36m, line \u001b[1;32m1\u001b[0m\n\u001b[1;33m    my var = 1\u001b[0m\n\u001b[1;37m       ^\u001b[0m\n\u001b[1;31mSyntaxError\u001b[0m\u001b[1;31m:\u001b[0m invalid syntax\n"
     ]
    }
   ],
   "source": [
    "my var = 1\n"
   ]
  },
  {
   "cell_type": "code",
   "execution_count": 28,
   "id": "1ae45f57",
   "metadata": {},
   "outputs": [
    {
     "ename": "SyntaxError",
     "evalue": "invalid syntax (<ipython-input-28-773eba7f7781>, line 1)",
     "output_type": "error",
     "traceback": [
      "\u001b[1;36m  File \u001b[1;32m\"<ipython-input-28-773eba7f7781>\"\u001b[1;36m, line \u001b[1;32m1\u001b[0m\n\u001b[1;33m    if = 1\u001b[0m\n\u001b[1;37m       ^\u001b[0m\n\u001b[1;31mSyntaxError\u001b[0m\u001b[1;31m:\u001b[0m invalid syntax\n"
     ]
    }
   ],
   "source": [
    "if = 1"
   ]
  },
  {
   "cell_type": "code",
   "execution_count": 29,
   "id": "5827811d",
   "metadata": {},
   "outputs": [
    {
     "data": {
      "text/plain": [
       "100"
      ]
     },
     "execution_count": 29,
     "metadata": {},
     "output_type": "execute_result"
    }
   ],
   "source": [
    "list1 = [10,20,30,40]\n",
    "sum(list1)"
   ]
  },
  {
   "cell_type": "code",
   "execution_count": 31,
   "id": "52348660",
   "metadata": {},
   "outputs": [
    {
     "ename": "TypeError",
     "evalue": "'int' object is not callable",
     "output_type": "error",
     "traceback": [
      "\u001b[1;31m---------------------------------------------------------------------------\u001b[0m",
      "\u001b[1;31mTypeError\u001b[0m                                 Traceback (most recent call last)",
      "\u001b[1;32m<ipython-input-31-24883ce149d0>\u001b[0m in \u001b[0;36m<module>\u001b[1;34m\u001b[0m\n\u001b[0;32m      4\u001b[0m \u001b[1;33m\u001b[0m\u001b[0m\n\u001b[0;32m      5\u001b[0m \u001b[0mlist1\u001b[0m \u001b[1;33m=\u001b[0m \u001b[1;33m[\u001b[0m\u001b[1;36m10\u001b[0m\u001b[1;33m,\u001b[0m\u001b[1;36m20\u001b[0m\u001b[1;33m,\u001b[0m\u001b[1;36m30\u001b[0m\u001b[1;33m,\u001b[0m\u001b[1;36m40\u001b[0m\u001b[1;33m]\u001b[0m\u001b[1;33m\u001b[0m\u001b[1;33m\u001b[0m\u001b[0m\n\u001b[1;32m----> 6\u001b[1;33m \u001b[0msum\u001b[0m\u001b[1;33m(\u001b[0m\u001b[0mlist1\u001b[0m\u001b[1;33m)\u001b[0m\u001b[1;33m\u001b[0m\u001b[1;33m\u001b[0m\u001b[0m\n\u001b[0m",
      "\u001b[1;31mTypeError\u001b[0m: 'int' object is not callable"
     ]
    }
   ],
   "source": [
    "sum = 12\n",
    "\n",
    "type(sum)\n",
    "\n",
    "list1 = [10,20,30,40]\n",
    "sum(list1) # >> 12(list1)"
   ]
  },
  {
   "cell_type": "markdown",
   "id": "b1dfe7d6",
   "metadata": {},
   "source": [
    "## Types of Variables"
   ]
  },
  {
   "cell_type": "code",
   "execution_count": null,
   "id": "9bd08dce",
   "metadata": {},
   "outputs": [],
   "source": [
    "1. Local Variable >> Variables which are defined inside the function\n",
    "2. Global Variables >> Variable which are defined outside the function\n",
    "\n",
    "local >> we can not access local variables from outside the function\n",
    "global >> we can access global variable from outside and inside the function"
   ]
  },
  {
   "cell_type": "code",
   "execution_count": 34,
   "id": "5d37feae",
   "metadata": {},
   "outputs": [
    {
     "name": "stdout",
     "output_type": "stream",
     "text": [
      "Value of variable z is: 500\n"
     ]
    },
    {
     "ename": "NameError",
     "evalue": "name 'z' is not defined",
     "output_type": "error",
     "traceback": [
      "\u001b[1;31m---------------------------------------------------------------------------\u001b[0m",
      "\u001b[1;31mNameError\u001b[0m                                 Traceback (most recent call last)",
      "\u001b[1;32m<ipython-input-34-e51d6a06107b>\u001b[0m in \u001b[0;36m<module>\u001b[1;34m\u001b[0m\n\u001b[0;32m      4\u001b[0m \u001b[1;33m\u001b[0m\u001b[0m\n\u001b[0;32m      5\u001b[0m \u001b[0mmy_func\u001b[0m\u001b[1;33m(\u001b[0m\u001b[1;33m)\u001b[0m\u001b[1;33m\u001b[0m\u001b[1;33m\u001b[0m\u001b[0m\n\u001b[1;32m----> 6\u001b[1;33m \u001b[0mprint\u001b[0m\u001b[1;33m(\u001b[0m\u001b[1;34m'Value of variable z is:'\u001b[0m\u001b[1;33m,\u001b[0m \u001b[0mz\u001b[0m\u001b[1;33m)\u001b[0m\u001b[1;33m\u001b[0m\u001b[1;33m\u001b[0m\u001b[0m\n\u001b[0m",
      "\u001b[1;31mNameError\u001b[0m: name 'z' is not defined"
     ]
    }
   ],
   "source": [
    "def my_func():\n",
    "    z = 500          # local var\n",
    "    print('Value of variable z is:', z)\n",
    "    \n",
    "my_func()\n",
    "print('Value of variable z is:', z)"
   ]
  },
  {
   "cell_type": "code",
   "execution_count": 36,
   "id": "0029f017",
   "metadata": {},
   "outputs": [
    {
     "name": "stdout",
     "output_type": "stream",
     "text": [
      "Value of variable z is: 500\n",
      "Value of variable x is: 10\n"
     ]
    }
   ],
   "source": [
    "x = 10       # global var\n",
    "\n",
    "def my_func():\n",
    "    z = 500          # local var\n",
    "    print('Value of variable z is:', z)\n",
    "    \n",
    "my_func()\n",
    "print('Value of variable x is:', x)"
   ]
  },
  {
   "cell_type": "code",
   "execution_count": 37,
   "id": "abeeaf8d",
   "metadata": {},
   "outputs": [
    {
     "name": "stdout",
     "output_type": "stream",
     "text": [
      "Player 1 is MSD\n"
     ]
    }
   ],
   "source": [
    "player1 = 'MSD' # global var\n",
    "\n",
    "def cricket_player():\n",
    "    print(f'Player 1 is {player1}')\n",
    "    \n",
    "cricket_player()"
   ]
  },
  {
   "cell_type": "code",
   "execution_count": 38,
   "id": "b8720fcc",
   "metadata": {},
   "outputs": [
    {
     "name": "stdout",
     "output_type": "stream",
     "text": [
      "Player 2 is Virat\n"
     ]
    }
   ],
   "source": [
    "# player1 = 'MSD' # global var\n",
    "\n",
    "def cricket_player():\n",
    "    player2 = 'Virat' # local\n",
    "    print(f'Player 2 is {player2}')\n",
    "    \n",
    "cricket_player()"
   ]
  },
  {
   "cell_type": "code",
   "execution_count": 39,
   "id": "3a4036ef",
   "metadata": {},
   "outputs": [
    {
     "ename": "NameError",
     "evalue": "name 'player2' is not defined",
     "output_type": "error",
     "traceback": [
      "\u001b[1;31m---------------------------------------------------------------------------\u001b[0m",
      "\u001b[1;31mNameError\u001b[0m                                 Traceback (most recent call last)",
      "\u001b[1;32m<ipython-input-39-f4c74cead35a>\u001b[0m in \u001b[0;36m<module>\u001b[1;34m\u001b[0m\n\u001b[0;32m      6\u001b[0m \u001b[1;33m\u001b[0m\u001b[0m\n\u001b[0;32m      7\u001b[0m \u001b[0mcricket_player\u001b[0m\u001b[1;33m(\u001b[0m\u001b[1;33m)\u001b[0m\u001b[1;33m\u001b[0m\u001b[1;33m\u001b[0m\u001b[0m\n\u001b[1;32m----> 8\u001b[1;33m \u001b[0mprint\u001b[0m\u001b[1;33m(\u001b[0m\u001b[1;34mf'Player 2 is {player2}'\u001b[0m\u001b[1;33m)\u001b[0m\u001b[1;33m\u001b[0m\u001b[1;33m\u001b[0m\u001b[0m\n\u001b[0m",
      "\u001b[1;31mNameError\u001b[0m: name 'player2' is not defined"
     ]
    }
   ],
   "source": [
    "# player1 = 'MSD' # global var\n",
    "\n",
    "def cricket_player():\n",
    "    player2 = 'Virat' # local\n",
    "    \n",
    "    \n",
    "cricket_player()\n",
    "print(f'Player 2 is {player2}')"
   ]
  },
  {
   "cell_type": "code",
   "execution_count": 41,
   "id": "e6498a15",
   "metadata": {},
   "outputs": [
    {
     "ename": "SyntaxError",
     "evalue": "name 'abc' is assigned to before global declaration (<ipython-input-41-16526f776a03>, line 3)",
     "output_type": "error",
     "traceback": [
      "\u001b[1;36m  File \u001b[1;32m\"<ipython-input-41-16526f776a03>\"\u001b[1;36m, line \u001b[1;32m3\u001b[0m\n\u001b[1;33m    global abc\u001b[0m\n\u001b[1;37m    ^\u001b[0m\n\u001b[1;31mSyntaxError\u001b[0m\u001b[1;31m:\u001b[0m name 'abc' is assigned to before global declaration\n"
     ]
    }
   ],
   "source": [
    "def new():\n",
    "    abc =10\n",
    "    global abc\n",
    "\n",
    "print(abc)"
   ]
  },
  {
   "cell_type": "code",
   "execution_count": 43,
   "id": "441db7b5",
   "metadata": {},
   "outputs": [
    {
     "name": "stdout",
     "output_type": "stream",
     "text": [
      "10\n"
     ]
    }
   ],
   "source": [
    "def new():\n",
    "    global abc    # local var >> global var\n",
    "    abc =10\n",
    "    \n",
    "new()\n",
    "print(abc)"
   ]
  },
  {
   "cell_type": "code",
   "execution_count": 44,
   "id": "ae3f45f8",
   "metadata": {},
   "outputs": [
    {
     "name": "stdout",
     "output_type": "stream",
     "text": [
      "Player 2 is Virat\n"
     ]
    }
   ],
   "source": [
    "# player1 = 'MSD' # global var\n",
    "\n",
    "def cricket_player():\n",
    "    global player2\n",
    "    player2 = 'Virat' # local\n",
    "    \n",
    "    \n",
    "cricket_player()\n",
    "print(f'Player 2 is {player2}')"
   ]
  },
  {
   "cell_type": "code",
   "execution_count": 50,
   "id": "b9e112f9",
   "metadata": {},
   "outputs": [
    {
     "name": "stdout",
     "output_type": "stream",
     "text": [
      "10\n"
     ]
    }
   ],
   "source": [
    "def new():\n",
    "    global r    # local var >> global var\n",
    "    r =10\n",
    "    \n",
    "new()\n",
    "print(r)"
   ]
  },
  {
   "cell_type": "code",
   "execution_count": 51,
   "id": "cb11d8cf",
   "metadata": {},
   "outputs": [
    {
     "ename": "NameError",
     "evalue": "name 't' is not defined",
     "output_type": "error",
     "traceback": [
      "\u001b[1;31m---------------------------------------------------------------------------\u001b[0m",
      "\u001b[1;31mNameError\u001b[0m                                 Traceback (most recent call last)",
      "\u001b[1;32m<ipython-input-51-d9b66457edc6>\u001b[0m in \u001b[0;36m<module>\u001b[1;34m\u001b[0m\n\u001b[0;32m      3\u001b[0m     \u001b[0mt\u001b[0m \u001b[1;33m=\u001b[0m\u001b[1;36m10\u001b[0m\u001b[1;33m\u001b[0m\u001b[1;33m\u001b[0m\u001b[0m\n\u001b[0;32m      4\u001b[0m \u001b[1;33m\u001b[0m\u001b[0m\n\u001b[1;32m----> 5\u001b[1;33m \u001b[0mprint\u001b[0m\u001b[1;33m(\u001b[0m\u001b[0mt\u001b[0m\u001b[1;33m)\u001b[0m\u001b[1;33m\u001b[0m\u001b[1;33m\u001b[0m\u001b[0m\n\u001b[0m\u001b[0;32m      6\u001b[0m \u001b[0mnew\u001b[0m\u001b[1;33m(\u001b[0m\u001b[1;33m)\u001b[0m\u001b[1;33m\u001b[0m\u001b[1;33m\u001b[0m\u001b[0m\n",
      "\u001b[1;31mNameError\u001b[0m: name 't' is not defined"
     ]
    }
   ],
   "source": [
    "def new():\n",
    "    global t    # local var >> global var\n",
    "    t =10\n",
    "\n",
    "print(t)    \n",
    "new()"
   ]
  },
  {
   "cell_type": "code",
   "execution_count": 52,
   "id": "04bcf9e9",
   "metadata": {},
   "outputs": [
    {
     "name": "stdout",
     "output_type": "stream",
     "text": [
      "10\n"
     ]
    }
   ],
   "source": [
    "def new():\n",
    "    global t    # local var >> global var\n",
    "    t =10\n",
    "    print(t)\n",
    "    \n",
    "new()"
   ]
  },
  {
   "cell_type": "code",
   "execution_count": 53,
   "id": "eef73661",
   "metadata": {},
   "outputs": [
    {
     "data": {
      "text/plain": [
       "10"
      ]
     },
     "execution_count": 53,
     "metadata": {},
     "output_type": "execute_result"
    }
   ],
   "source": [
    "t"
   ]
  },
  {
   "cell_type": "code",
   "execution_count": null,
   "id": "efbc9d76",
   "metadata": {},
   "outputs": [],
   "source": []
  },
  {
   "cell_type": "code",
   "execution_count": null,
   "id": "3337f06b",
   "metadata": {},
   "outputs": [],
   "source": []
  },
  {
   "cell_type": "code",
   "execution_count": null,
   "id": "cad03978",
   "metadata": {},
   "outputs": [],
   "source": []
  },
  {
   "cell_type": "code",
   "execution_count": null,
   "id": "505f6d36",
   "metadata": {},
   "outputs": [],
   "source": []
  },
  {
   "cell_type": "code",
   "execution_count": null,
   "id": "3c8f3f52",
   "metadata": {},
   "outputs": [],
   "source": []
  },
  {
   "cell_type": "code",
   "execution_count": null,
   "id": "4e2eeb6d",
   "metadata": {},
   "outputs": [],
   "source": []
  },
  {
   "cell_type": "code",
   "execution_count": null,
   "id": "cc361d23",
   "metadata": {},
   "outputs": [],
   "source": []
  },
  {
   "cell_type": "code",
   "execution_count": null,
   "id": "a66f0306",
   "metadata": {},
   "outputs": [],
   "source": []
  },
  {
   "cell_type": "code",
   "execution_count": null,
   "id": "c0eb8f3a",
   "metadata": {},
   "outputs": [],
   "source": []
  },
  {
   "cell_type": "code",
   "execution_count": null,
   "id": "6cde878b",
   "metadata": {},
   "outputs": [],
   "source": []
  },
  {
   "cell_type": "code",
   "execution_count": null,
   "id": "2e2d1f32",
   "metadata": {},
   "outputs": [],
   "source": []
  },
  {
   "cell_type": "code",
   "execution_count": null,
   "id": "430833b4",
   "metadata": {},
   "outputs": [],
   "source": []
  },
  {
   "cell_type": "code",
   "execution_count": null,
   "id": "087c3629",
   "metadata": {},
   "outputs": [],
   "source": []
  },
  {
   "cell_type": "code",
   "execution_count": null,
   "id": "50a5950c",
   "metadata": {},
   "outputs": [],
   "source": []
  },
  {
   "cell_type": "code",
   "execution_count": null,
   "id": "97e3219f",
   "metadata": {},
   "outputs": [],
   "source": []
  },
  {
   "cell_type": "code",
   "execution_count": null,
   "id": "bafb9fec",
   "metadata": {},
   "outputs": [],
   "source": []
  },
  {
   "cell_type": "code",
   "execution_count": null,
   "id": "e9e80716",
   "metadata": {},
   "outputs": [],
   "source": []
  },
  {
   "cell_type": "code",
   "execution_count": null,
   "id": "ec351a2f",
   "metadata": {},
   "outputs": [],
   "source": []
  },
  {
   "cell_type": "code",
   "execution_count": null,
   "id": "887b4f0a",
   "metadata": {},
   "outputs": [],
   "source": []
  },
  {
   "cell_type": "code",
   "execution_count": null,
   "id": "d60f7166",
   "metadata": {},
   "outputs": [],
   "source": []
  },
  {
   "cell_type": "code",
   "execution_count": null,
   "id": "c7a98d7e",
   "metadata": {},
   "outputs": [],
   "source": []
  }
 ],
 "metadata": {
  "kernelspec": {
   "display_name": "Python 3 (ipykernel)",
   "language": "python",
   "name": "python3"
  },
  "language_info": {
   "codemirror_mode": {
    "name": "ipython",
    "version": 3
   },
   "file_extension": ".py",
   "mimetype": "text/x-python",
   "name": "python",
   "nbconvert_exporter": "python",
   "pygments_lexer": "ipython3",
   "version": "3.11.3"
  }
 },
 "nbformat": 4,
 "nbformat_minor": 5
}
