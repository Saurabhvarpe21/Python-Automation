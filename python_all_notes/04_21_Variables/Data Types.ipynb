{
 "cells": [
  {
   "cell_type": "markdown",
   "id": "23f43248",
   "metadata": {},
   "source": [
    "# Data types"
   ]
  },
  {
   "cell_type": "code",
   "execution_count": null,
   "id": "f72449bf",
   "metadata": {},
   "outputs": [],
   "source": [
    "Numeric DT >> int, float, complex\n",
    "\n",
    "Text >> str\n",
    "\n",
    "Sequence >> list, tuple, set, frozenset\n",
    "\n",
    "Mapping >> dict\n",
    "\n",
    "Boolean >> bool(True, False)\n",
    "\n",
    "            range, bytearray, bytes, None"
   ]
  },
  {
   "cell_type": "code",
   "execution_count": 1,
   "id": "bf43dff8",
   "metadata": {},
   "outputs": [
    {
     "data": {
      "text/plain": [
       "dict"
      ]
     },
     "execution_count": 1,
     "metadata": {},
     "output_type": "execute_result"
    }
   ],
   "source": [
    "a= {'a' : 20}\n",
    "type(a)"
   ]
  },
  {
   "cell_type": "markdown",
   "id": "c4a88ac9",
   "metadata": {},
   "source": [
    "# Numeric DataTypes"
   ]
  },
  {
   "cell_type": "markdown",
   "id": "dd8ea4e7",
   "metadata": {},
   "source": [
    "## 1. int DT"
   ]
  },
  {
   "cell_type": "code",
   "execution_count": null,
   "id": "ff474a3a",
   "metadata": {},
   "outputs": [],
   "source": [
    "int function\n",
    "whole number\n",
    "+ve or -ve\n",
    "\n",
    "\n",
    "10,20,-1,-3"
   ]
  },
  {
   "cell_type": "code",
   "execution_count": 2,
   "id": "447bd912",
   "metadata": {},
   "outputs": [
    {
     "data": {
      "text/plain": [
       "int"
      ]
     },
     "execution_count": 2,
     "metadata": {},
     "output_type": "execute_result"
    }
   ],
   "source": [
    "s = 1\n",
    "type(s)"
   ]
  },
  {
   "cell_type": "code",
   "execution_count": 3,
   "id": "e86da114",
   "metadata": {},
   "outputs": [
    {
     "data": {
      "text/plain": [
       "int"
      ]
     },
     "execution_count": 3,
     "metadata": {},
     "output_type": "execute_result"
    }
   ],
   "source": [
    "s = -1\n",
    "type(s)"
   ]
  },
  {
   "cell_type": "code",
   "execution_count": 4,
   "id": "aac26992",
   "metadata": {},
   "outputs": [
    {
     "data": {
      "text/plain": [
       "int"
      ]
     },
     "execution_count": 4,
     "metadata": {},
     "output_type": "execute_result"
    }
   ],
   "source": [
    "s = 0\n",
    "type(s)"
   ]
  },
  {
   "cell_type": "markdown",
   "id": "5676afd2",
   "metadata": {},
   "source": [
    "## 2. float DT"
   ]
  },
  {
   "cell_type": "code",
   "execution_count": null,
   "id": "454c9c79",
   "metadata": {},
   "outputs": [],
   "source": [
    "float\n",
    "+ve or -ve\n",
    "It contains decimal point\n",
    "\n"
   ]
  },
  {
   "cell_type": "code",
   "execution_count": 5,
   "id": "7c1bacbb",
   "metadata": {},
   "outputs": [
    {
     "data": {
      "text/plain": [
       "float"
      ]
     },
     "execution_count": 5,
     "metadata": {},
     "output_type": "execute_result"
    }
   ],
   "source": [
    "a = 2.12\n",
    "type(a)"
   ]
  },
  {
   "cell_type": "code",
   "execution_count": 6,
   "id": "702d2b75",
   "metadata": {},
   "outputs": [
    {
     "data": {
      "text/plain": [
       "float"
      ]
     },
     "execution_count": 6,
     "metadata": {},
     "output_type": "execute_result"
    }
   ],
   "source": [
    "a = -2.12\n",
    "type(a)"
   ]
  },
  {
   "cell_type": "code",
   "execution_count": 7,
   "id": "5368d862",
   "metadata": {},
   "outputs": [
    {
     "data": {
      "text/plain": [
       "float"
      ]
     },
     "execution_count": 7,
     "metadata": {},
     "output_type": "execute_result"
    }
   ],
   "source": [
    "a = -2.123456789876543\n",
    "type(a)"
   ]
  },
  {
   "cell_type": "code",
   "execution_count": 8,
   "id": "f17d0328",
   "metadata": {},
   "outputs": [
    {
     "data": {
      "text/plain": [
       "float"
      ]
     },
     "execution_count": 8,
     "metadata": {},
     "output_type": "execute_result"
    }
   ],
   "source": [
    "a = 0.0\n",
    "type(a)"
   ]
  },
  {
   "cell_type": "code",
   "execution_count": 10,
   "id": "e20e6a49",
   "metadata": {},
   "outputs": [
    {
     "data": {
      "text/plain": [
       "int"
      ]
     },
     "execution_count": 10,
     "metadata": {},
     "output_type": "execute_result"
    }
   ],
   "source": [
    "a = -0\n",
    "type(a)"
   ]
  },
  {
   "cell_type": "markdown",
   "id": "f5f2b631",
   "metadata": {},
   "source": [
    "## 3. complex DT"
   ]
  },
  {
   "cell_type": "code",
   "execution_count": null,
   "id": "fc50ad98",
   "metadata": {},
   "outputs": [],
   "source": [
    "complex\n",
    "It contains real and imaginary part\n",
    "a + bj"
   ]
  },
  {
   "cell_type": "code",
   "execution_count": 11,
   "id": "990b82d8",
   "metadata": {},
   "outputs": [
    {
     "data": {
      "text/plain": [
       "complex"
      ]
     },
     "execution_count": 11,
     "metadata": {},
     "output_type": "execute_result"
    }
   ],
   "source": [
    "x = 3 + 4j \n",
    "type(x)"
   ]
  },
  {
   "cell_type": "code",
   "execution_count": 12,
   "id": "c315819b",
   "metadata": {},
   "outputs": [
    {
     "data": {
      "text/plain": [
       "complex"
      ]
     },
     "execution_count": 12,
     "metadata": {},
     "output_type": "execute_result"
    }
   ],
   "source": [
    "x = 3 + 0j \n",
    "type(x)"
   ]
  },
  {
   "cell_type": "code",
   "execution_count": 13,
   "id": "bd87f60c",
   "metadata": {},
   "outputs": [
    {
     "data": {
      "text/plain": [
       "complex"
      ]
     },
     "execution_count": 13,
     "metadata": {},
     "output_type": "execute_result"
    }
   ],
   "source": [
    "x = -3 + 4j \n",
    "type(x)"
   ]
  },
  {
   "cell_type": "code",
   "execution_count": 14,
   "id": "564b26df",
   "metadata": {},
   "outputs": [
    {
     "data": {
      "text/plain": [
       "int"
      ]
     },
     "execution_count": 14,
     "metadata": {},
     "output_type": "execute_result"
    }
   ],
   "source": [
    "x = -3 + 4 \n",
    "type(x)"
   ]
  },
  {
   "cell_type": "code",
   "execution_count": 15,
   "id": "705830c9",
   "metadata": {},
   "outputs": [
    {
     "ename": "SyntaxError",
     "evalue": "invalid syntax (<ipython-input-15-46df42864f2f>, line 1)",
     "output_type": "error",
     "traceback": [
      "\u001b[1;36m  File \u001b[1;32m\"<ipython-input-15-46df42864f2f>\"\u001b[1;36m, line \u001b[1;32m1\u001b[0m\n\u001b[1;33m    x = -3 + 4k\u001b[0m\n\u001b[1;37m              ^\u001b[0m\n\u001b[1;31mSyntaxError\u001b[0m\u001b[1;31m:\u001b[0m invalid syntax\n"
     ]
    }
   ],
   "source": [
    "x = -3 + 4k\n",
    "type(x)"
   ]
  },
  {
   "cell_type": "code",
   "execution_count": 16,
   "id": "cfd21682",
   "metadata": {},
   "outputs": [
    {
     "data": {
      "text/plain": [
       "complex"
      ]
     },
     "execution_count": 16,
     "metadata": {},
     "output_type": "execute_result"
    }
   ],
   "source": [
    "x = -3.1 + 4j \n",
    "type(x)"
   ]
  },
  {
   "cell_type": "code",
   "execution_count": 17,
   "id": "32940ee8",
   "metadata": {},
   "outputs": [
    {
     "data": {
      "text/plain": [
       "complex"
      ]
     },
     "execution_count": 17,
     "metadata": {},
     "output_type": "execute_result"
    }
   ],
   "source": [
    "x = -3.1 + 4.1j \n",
    "type(x)"
   ]
  },
  {
   "cell_type": "code",
   "execution_count": 18,
   "id": "8944c8c8",
   "metadata": {},
   "outputs": [
    {
     "data": {
      "text/plain": [
       "complex"
      ]
     },
     "execution_count": 18,
     "metadata": {},
     "output_type": "execute_result"
    }
   ],
   "source": [
    "x = 4.1j \n",
    "type(x)"
   ]
  },
  {
   "cell_type": "code",
   "execution_count": 20,
   "id": "60f06e96",
   "metadata": {},
   "outputs": [
    {
     "data": {
      "text/plain": [
       "int"
      ]
     },
     "execution_count": 20,
     "metadata": {},
     "output_type": "execute_result"
    }
   ],
   "source": [
    "x = 3\n",
    "type(x)"
   ]
  },
  {
   "cell_type": "code",
   "execution_count": 21,
   "id": "c3b5d7ba",
   "metadata": {},
   "outputs": [
    {
     "data": {
      "text/plain": [
       "complex"
      ]
     },
     "execution_count": 21,
     "metadata": {},
     "output_type": "execute_result"
    }
   ],
   "source": [
    "x = 3j\n",
    "type(x)"
   ]
  },
  {
   "cell_type": "code",
   "execution_count": 22,
   "id": "ade0c358",
   "metadata": {},
   "outputs": [
    {
     "name": "stdout",
     "output_type": "stream",
     "text": [
      "0\n",
      "1\n",
      "2\n",
      "3\n",
      "4\n"
     ]
    }
   ],
   "source": [
    "for j in range(5):\n",
    "    print(j)"
   ]
  },
  {
   "cell_type": "markdown",
   "id": "44e27ac7",
   "metadata": {},
   "source": [
    "## Python Casting (Type Casting)"
   ]
  },
  {
   "cell_type": "code",
   "execution_count": null,
   "id": "81285b84",
   "metadata": {},
   "outputs": [],
   "source": [
    "int to float\n",
    "float to int\n",
    "int to complex\n",
    "float to complex\n",
    "\n",
    "complex to int >>> can't convert complex to int\n",
    "complex to float >> can't convert complex to float\n",
    "\n",
    "int to str\n",
    "float to str\n",
    "\n",
    "str to int ## strictly number only \n",
    "str to float"
   ]
  },
  {
   "cell_type": "markdown",
   "id": "76857339",
   "metadata": {},
   "source": [
    "### 1. int to float"
   ]
  },
  {
   "cell_type": "code",
   "execution_count": 27,
   "id": "675c9a3b",
   "metadata": {},
   "outputs": [
    {
     "name": "stdout",
     "output_type": "stream",
     "text": [
      "10 <class 'int'>\n",
      "####\n",
      "10.0 <class 'float'>\n"
     ]
    }
   ],
   "source": [
    "a = 10\n",
    "print(a, type(a))\n",
    "print()\n",
    "b = float(a)\n",
    "print(b, type(b))"
   ]
  },
  {
   "cell_type": "code",
   "execution_count": 28,
   "id": "62193ac0",
   "metadata": {},
   "outputs": [
    {
     "name": "stdout",
     "output_type": "stream",
     "text": [
      "-30 <class 'int'>\n",
      "\n",
      "-30.0 <class 'float'>\n"
     ]
    }
   ],
   "source": [
    "a = -30\n",
    "print(a, type(a))\n",
    "print()\n",
    "b = float(a)\n",
    "print(b, type(b))"
   ]
  },
  {
   "cell_type": "markdown",
   "id": "5e18827d",
   "metadata": {},
   "source": [
    "### float to int"
   ]
  },
  {
   "cell_type": "code",
   "execution_count": 30,
   "id": "4befe916",
   "metadata": {},
   "outputs": [
    {
     "name": "stdout",
     "output_type": "stream",
     "text": [
      "3.24 <class 'float'>\n",
      "\n",
      "3 <class 'int'>\n"
     ]
    }
   ],
   "source": [
    "x = 3.24\n",
    "print(x, type(x))\n",
    "print()\n",
    "y = int(x)\n",
    "print(y, type(y))"
   ]
  },
  {
   "cell_type": "code",
   "execution_count": 2,
   "id": "90b0fc14",
   "metadata": {},
   "outputs": [
    {
     "data": {
      "text/plain": [
       "3"
      ]
     },
     "execution_count": 2,
     "metadata": {},
     "output_type": "execute_result"
    }
   ],
   "source": [
    "x = 3.24\n",
    "x=int(x)\n",
    "x"
   ]
  },
  {
   "cell_type": "code",
   "execution_count": 31,
   "id": "13f7d6cf",
   "metadata": {},
   "outputs": [
    {
     "name": "stdout",
     "output_type": "stream",
     "text": [
      "3.89 <class 'float'>\n",
      "\n",
      "3 <class 'int'>\n"
     ]
    }
   ],
   "source": [
    "x = 3.89\n",
    "print(x, type(x))\n",
    "print()\n",
    "y = int(x)\n",
    "print(y, type(y))"
   ]
  },
  {
   "cell_type": "code",
   "execution_count": 32,
   "id": "290ed515",
   "metadata": {},
   "outputs": [
    {
     "name": "stdout",
     "output_type": "stream",
     "text": [
      "2\n"
     ]
    }
   ],
   "source": [
    "a = 2.2\n",
    "print(int(a))"
   ]
  },
  {
   "cell_type": "code",
   "execution_count": 33,
   "id": "1042b5b0",
   "metadata": {},
   "outputs": [
    {
     "data": {
      "text/plain": [
       "2.2"
      ]
     },
     "execution_count": 33,
     "metadata": {},
     "output_type": "execute_result"
    }
   ],
   "source": [
    "a"
   ]
  },
  {
   "cell_type": "markdown",
   "id": "ec821f2a",
   "metadata": {},
   "source": [
    "### int to complex"
   ]
  },
  {
   "cell_type": "code",
   "execution_count": 34,
   "id": "04fdbeaa",
   "metadata": {},
   "outputs": [
    {
     "name": "stdout",
     "output_type": "stream",
     "text": [
      "(2+3j) <class 'complex'>\n"
     ]
    }
   ],
   "source": [
    "c = 2 + 3j\n",
    "print(c, type(c))"
   ]
  },
  {
   "cell_type": "code",
   "execution_count": 36,
   "id": "5c2489fe",
   "metadata": {},
   "outputs": [
    {
     "name": "stdout",
     "output_type": "stream",
     "text": [
      "value in variable a is: 30 <class 'int'>\n",
      "value in variable b is: (30+0j) <class 'complex'>\n"
     ]
    }
   ],
   "source": [
    "a = 30 \n",
    "print('value in variable a is:', a, type(a))    # 30\n",
    "\n",
    "b = complex(a)                          #  30 + 0j\n",
    "print('value in variable b is:', b, type(b))    "
   ]
  },
  {
   "cell_type": "code",
   "execution_count": 37,
   "id": "aa7d85fb",
   "metadata": {},
   "outputs": [
    {
     "name": "stdout",
     "output_type": "stream",
     "text": [
      "value in variable a is: 1234 <class 'int'>\n",
      "value in variable b is: (1234+0j) <class 'complex'>\n"
     ]
    }
   ],
   "source": [
    "a = 1234 \n",
    "print('value in variable a is:', a, type(a))    # 1234\n",
    "\n",
    "b = complex(a)                          #  1234 + 0j\n",
    "print('value in variable b is:', b, type(b))    "
   ]
  },
  {
   "cell_type": "markdown",
   "id": "885b9b59",
   "metadata": {},
   "source": [
    "### float to complex"
   ]
  },
  {
   "cell_type": "code",
   "execution_count": 39,
   "id": "fdf573a9",
   "metadata": {},
   "outputs": [
    {
     "name": "stdout",
     "output_type": "stream",
     "text": [
      "value in variable a is: 1.1 <class 'float'>\n",
      "value in variable b is: (1.1+0j) <class 'complex'>\n"
     ]
    }
   ],
   "source": [
    "a = 1.1\n",
    "print('value in variable a is:', a, type(a))    # 1.1\n",
    "\n",
    "b = complex(a)                          #  1.1 + 0j\n",
    "print('value in variable b is:', b, type(b))    "
   ]
  },
  {
   "cell_type": "code",
   "execution_count": 40,
   "id": "85bd665e",
   "metadata": {},
   "outputs": [
    {
     "name": "stdout",
     "output_type": "stream",
     "text": [
      "value in variable a is: 5.67 <class 'float'>\n",
      "value in variable b is: (5.67+0j) <class 'complex'>\n"
     ]
    }
   ],
   "source": [
    "a = 5.67\n",
    "print('value in variable a is:', a, type(a))    # 1.1\n",
    "\n",
    "b = complex(a)                          #  1.1 + 0j\n",
    "print('value in variable b is:', b, type(b))    "
   ]
  },
  {
   "cell_type": "markdown",
   "id": "6f5e1af5",
   "metadata": {},
   "source": [
    "### complex to int"
   ]
  },
  {
   "cell_type": "code",
   "execution_count": 42,
   "id": "3dddbb49",
   "metadata": {},
   "outputs": [
    {
     "name": "stdout",
     "output_type": "stream",
     "text": [
      "value in variable a is: (5+4j) <class 'complex'>\n"
     ]
    },
    {
     "ename": "TypeError",
     "evalue": "can't convert complex to int",
     "output_type": "error",
     "traceback": [
      "\u001b[1;31m---------------------------------------------------------------------------\u001b[0m",
      "\u001b[1;31mTypeError\u001b[0m                                 Traceback (most recent call last)",
      "\u001b[1;32m<ipython-input-42-b22acf2d5a29>\u001b[0m in \u001b[0;36m<module>\u001b[1;34m\u001b[0m\n\u001b[0;32m      2\u001b[0m \u001b[0mprint\u001b[0m\u001b[1;33m(\u001b[0m\u001b[1;34m'value in variable a is:'\u001b[0m\u001b[1;33m,\u001b[0m \u001b[0ma\u001b[0m\u001b[1;33m,\u001b[0m \u001b[0mtype\u001b[0m\u001b[1;33m(\u001b[0m\u001b[0ma\u001b[0m\u001b[1;33m)\u001b[0m\u001b[1;33m)\u001b[0m\u001b[1;33m\u001b[0m\u001b[1;33m\u001b[0m\u001b[0m\n\u001b[0;32m      3\u001b[0m \u001b[1;33m\u001b[0m\u001b[0m\n\u001b[1;32m----> 4\u001b[1;33m \u001b[0mb\u001b[0m \u001b[1;33m=\u001b[0m \u001b[0mint\u001b[0m\u001b[1;33m(\u001b[0m\u001b[0ma\u001b[0m\u001b[1;33m)\u001b[0m\u001b[1;33m\u001b[0m\u001b[1;33m\u001b[0m\u001b[0m\n\u001b[0m\u001b[0;32m      5\u001b[0m \u001b[0mprint\u001b[0m\u001b[1;33m(\u001b[0m\u001b[1;34m'value in variable b is:'\u001b[0m\u001b[1;33m,\u001b[0m \u001b[0mb\u001b[0m\u001b[1;33m,\u001b[0m \u001b[0mtype\u001b[0m\u001b[1;33m(\u001b[0m\u001b[0mb\u001b[0m\u001b[1;33m)\u001b[0m\u001b[1;33m)\u001b[0m\u001b[1;33m\u001b[0m\u001b[1;33m\u001b[0m\u001b[0m\n",
      "\u001b[1;31mTypeError\u001b[0m: can't convert complex to int"
     ]
    }
   ],
   "source": [
    "a = 5 +4j \n",
    "print('value in variable a is:', a, type(a))    \n",
    "\n",
    "b = int(a)                          \n",
    "print('value in variable b is:', b, type(b))    "
   ]
  },
  {
   "cell_type": "markdown",
   "id": "4e84b020",
   "metadata": {},
   "source": [
    "### complex to float"
   ]
  },
  {
   "cell_type": "code",
   "execution_count": 43,
   "id": "51f0bc1a",
   "metadata": {},
   "outputs": [
    {
     "name": "stdout",
     "output_type": "stream",
     "text": [
      "value in variable a is: (5+4j) <class 'complex'>\n"
     ]
    },
    {
     "ename": "TypeError",
     "evalue": "can't convert complex to float",
     "output_type": "error",
     "traceback": [
      "\u001b[1;31m---------------------------------------------------------------------------\u001b[0m",
      "\u001b[1;31mTypeError\u001b[0m                                 Traceback (most recent call last)",
      "\u001b[1;32m<ipython-input-43-82f55fc1b67d>\u001b[0m in \u001b[0;36m<module>\u001b[1;34m\u001b[0m\n\u001b[0;32m      2\u001b[0m \u001b[0mprint\u001b[0m\u001b[1;33m(\u001b[0m\u001b[1;34m'value in variable a is:'\u001b[0m\u001b[1;33m,\u001b[0m \u001b[0ma\u001b[0m\u001b[1;33m,\u001b[0m \u001b[0mtype\u001b[0m\u001b[1;33m(\u001b[0m\u001b[0ma\u001b[0m\u001b[1;33m)\u001b[0m\u001b[1;33m)\u001b[0m\u001b[1;33m\u001b[0m\u001b[1;33m\u001b[0m\u001b[0m\n\u001b[0;32m      3\u001b[0m \u001b[1;33m\u001b[0m\u001b[0m\n\u001b[1;32m----> 4\u001b[1;33m \u001b[0mb\u001b[0m \u001b[1;33m=\u001b[0m \u001b[0mfloat\u001b[0m\u001b[1;33m(\u001b[0m\u001b[0ma\u001b[0m\u001b[1;33m)\u001b[0m\u001b[1;33m\u001b[0m\u001b[1;33m\u001b[0m\u001b[0m\n\u001b[0m\u001b[0;32m      5\u001b[0m \u001b[0mprint\u001b[0m\u001b[1;33m(\u001b[0m\u001b[1;34m'value in variable b is:'\u001b[0m\u001b[1;33m,\u001b[0m \u001b[0mb\u001b[0m\u001b[1;33m,\u001b[0m \u001b[0mtype\u001b[0m\u001b[1;33m(\u001b[0m\u001b[0mb\u001b[0m\u001b[1;33m)\u001b[0m\u001b[1;33m)\u001b[0m\u001b[1;33m\u001b[0m\u001b[1;33m\u001b[0m\u001b[0m\n",
      "\u001b[1;31mTypeError\u001b[0m: can't convert complex to float"
     ]
    }
   ],
   "source": [
    "a = 5 +4j \n",
    "print('value in variable a is:', a, type(a))    \n",
    "\n",
    "b = float(a)                          \n",
    "print('value in variable b is:', b, type(b))    "
   ]
  },
  {
   "cell_type": "markdown",
   "id": "045fe2cb",
   "metadata": {},
   "source": [
    "### int to string"
   ]
  },
  {
   "cell_type": "code",
   "execution_count": 45,
   "id": "53e4793a",
   "metadata": {},
   "outputs": [
    {
     "name": "stdout",
     "output_type": "stream",
     "text": [
      "value in variable a is: 5 <class 'int'>\n",
      "value in variable b is: 5 <class 'str'>\n"
     ]
    }
   ],
   "source": [
    "a = 5 \n",
    "print('value in variable a is:', a, type(a))    \n",
    "\n",
    "b = str(a)                          \n",
    "print('value in variable b is:', b, type(b))    "
   ]
  },
  {
   "cell_type": "code",
   "execution_count": 47,
   "id": "4d8df5da",
   "metadata": {},
   "outputs": [
    {
     "ename": "TypeError",
     "evalue": "can only concatenate str (not \"int\") to str",
     "output_type": "error",
     "traceback": [
      "\u001b[1;31m---------------------------------------------------------------------------\u001b[0m",
      "\u001b[1;31mTypeError\u001b[0m                                 Traceback (most recent call last)",
      "\u001b[1;32m<ipython-input-47-a865f6362b99>\u001b[0m in \u001b[0;36m<module>\u001b[1;34m\u001b[0m\n\u001b[0;32m      1\u001b[0m \u001b[0ma\u001b[0m \u001b[1;33m=\u001b[0m \u001b[1;34m'5'\u001b[0m\u001b[1;33m\u001b[0m\u001b[1;33m\u001b[0m\u001b[0m\n\u001b[0;32m      2\u001b[0m \u001b[0mb\u001b[0m \u001b[1;33m=\u001b[0m \u001b[1;36m10\u001b[0m\u001b[1;33m\u001b[0m\u001b[1;33m\u001b[0m\u001b[0m\n\u001b[1;32m----> 3\u001b[1;33m \u001b[0ma\u001b[0m\u001b[1;33m+\u001b[0m\u001b[0mb\u001b[0m\u001b[1;33m\u001b[0m\u001b[1;33m\u001b[0m\u001b[0m\n\u001b[0m",
      "\u001b[1;31mTypeError\u001b[0m: can only concatenate str (not \"int\") to str"
     ]
    }
   ],
   "source": [
    "a = '5'\n",
    "b = 10\n",
    "a+b"
   ]
  },
  {
   "cell_type": "code",
   "execution_count": 48,
   "id": "22441f20",
   "metadata": {},
   "outputs": [
    {
     "data": {
      "text/plain": [
       "'5555555555'"
      ]
     },
     "execution_count": 48,
     "metadata": {},
     "output_type": "execute_result"
    }
   ],
   "source": [
    "a = '5'\n",
    "b = 10\n",
    "a*b"
   ]
  },
  {
   "cell_type": "code",
   "execution_count": 49,
   "id": "6dd3e15d",
   "metadata": {},
   "outputs": [
    {
     "name": "stdout",
     "output_type": "stream",
     "text": [
      "value in variable a is: 12345 <class 'int'>\n",
      "value in variable b is: 12345 <class 'str'>\n"
     ]
    }
   ],
   "source": [
    "a = 12345 \n",
    "print('value in variable a is:', a, type(a))    \n",
    "\n",
    "b = str(a)                          \n",
    "print('value in variable b is:', b, type(b))    "
   ]
  },
  {
   "cell_type": "markdown",
   "id": "02f812f7",
   "metadata": {},
   "source": [
    "### float to string"
   ]
  },
  {
   "cell_type": "code",
   "execution_count": 50,
   "id": "f8ab9126",
   "metadata": {},
   "outputs": [
    {
     "name": "stdout",
     "output_type": "stream",
     "text": [
      "value in variable a is: 12.345 <class 'float'>\n",
      "value in variable b is: 12.345 <class 'str'>\n"
     ]
    }
   ],
   "source": [
    "a = 12.345 \n",
    "print('value in variable a is:', a, type(a))    \n",
    "\n",
    "b = str(a)                          \n",
    "print('value in variable b is:', b, type(b))    "
   ]
  },
  {
   "cell_type": "markdown",
   "id": "f7656b30",
   "metadata": {},
   "source": [
    "### str to int"
   ]
  },
  {
   "cell_type": "code",
   "execution_count": 52,
   "id": "60cf9a85",
   "metadata": {},
   "outputs": [
    {
     "name": "stdout",
     "output_type": "stream",
     "text": [
      "value in variable a is: 1234 <class 'str'>\n",
      "value in variable b is: 1234 <class 'int'>\n"
     ]
    }
   ],
   "source": [
    "a = '1234'    # string contains only numbers \n",
    "print('value in variable a is:', a, type(a))    \n",
    "\n",
    "b = int(a)                          \n",
    "print('value in variable b is:', b, type(b))    "
   ]
  },
  {
   "cell_type": "code",
   "execution_count": 53,
   "id": "316b294f",
   "metadata": {},
   "outputs": [
    {
     "name": "stdout",
     "output_type": "stream",
     "text": [
      "value in variable a is: 3456 <class 'str'>\n",
      "value in variable b is: 3456 <class 'int'>\n"
     ]
    }
   ],
   "source": [
    "a = '3456'    # string contains only numbers \n",
    "print('value in variable a is:', a, type(a))    \n",
    "\n",
    "b = int(a)                          \n",
    "print('value in variable b is:', b, type(b))    "
   ]
  },
  {
   "cell_type": "code",
   "execution_count": 54,
   "id": "4dfd7c5b",
   "metadata": {},
   "outputs": [
    {
     "name": "stdout",
     "output_type": "stream",
     "text": [
      "value in variable a is: 3456       <class 'str'>\n",
      "value in variable b is: 3456 <class 'int'>\n"
     ]
    }
   ],
   "source": [
    "a = '3456      '    # string contains only numbers \n",
    "print('value in variable a is:', a, type(a))    \n",
    "\n",
    "b = int(a)                          \n",
    "print('value in variable b is:', b, type(b))    "
   ]
  },
  {
   "cell_type": "code",
   "execution_count": 55,
   "id": "002e7332",
   "metadata": {},
   "outputs": [
    {
     "data": {
      "text/plain": [
       "3456"
      ]
     },
     "execution_count": 55,
     "metadata": {},
     "output_type": "execute_result"
    }
   ],
   "source": [
    "b"
   ]
  },
  {
   "cell_type": "code",
   "execution_count": 56,
   "id": "06860c34",
   "metadata": {},
   "outputs": [
    {
     "name": "stdout",
     "output_type": "stream",
     "text": [
      "value in variable a is:     3456       <class 'str'>\n",
      "value in variable b is: 3456 <class 'int'>\n"
     ]
    }
   ],
   "source": [
    "a = '    3456      '    # string contains only numbers \n",
    "print('value in variable a is:', a, type(a))    \n",
    "\n",
    "b = int(a)                          \n",
    "print('value in variable b is:', b, type(b))    "
   ]
  },
  {
   "cell_type": "code",
   "execution_count": 57,
   "id": "f774a941",
   "metadata": {},
   "outputs": [
    {
     "name": "stdout",
     "output_type": "stream",
     "text": [
      "value in variable a is: 34 56 <class 'str'>\n"
     ]
    },
    {
     "ename": "ValueError",
     "evalue": "invalid literal for int() with base 10: '34 56'",
     "output_type": "error",
     "traceback": [
      "\u001b[1;31m---------------------------------------------------------------------------\u001b[0m",
      "\u001b[1;31mValueError\u001b[0m                                Traceback (most recent call last)",
      "\u001b[1;32m<ipython-input-57-73f5f30f469a>\u001b[0m in \u001b[0;36m<module>\u001b[1;34m\u001b[0m\n\u001b[0;32m      2\u001b[0m \u001b[0mprint\u001b[0m\u001b[1;33m(\u001b[0m\u001b[1;34m'value in variable a is:'\u001b[0m\u001b[1;33m,\u001b[0m \u001b[0ma\u001b[0m\u001b[1;33m,\u001b[0m \u001b[0mtype\u001b[0m\u001b[1;33m(\u001b[0m\u001b[0ma\u001b[0m\u001b[1;33m)\u001b[0m\u001b[1;33m)\u001b[0m\u001b[1;33m\u001b[0m\u001b[1;33m\u001b[0m\u001b[0m\n\u001b[0;32m      3\u001b[0m \u001b[1;33m\u001b[0m\u001b[0m\n\u001b[1;32m----> 4\u001b[1;33m \u001b[0mb\u001b[0m \u001b[1;33m=\u001b[0m \u001b[0mint\u001b[0m\u001b[1;33m(\u001b[0m\u001b[0ma\u001b[0m\u001b[1;33m)\u001b[0m\u001b[1;33m\u001b[0m\u001b[1;33m\u001b[0m\u001b[0m\n\u001b[0m\u001b[0;32m      5\u001b[0m \u001b[0mprint\u001b[0m\u001b[1;33m(\u001b[0m\u001b[1;34m'value in variable b is:'\u001b[0m\u001b[1;33m,\u001b[0m \u001b[0mb\u001b[0m\u001b[1;33m,\u001b[0m \u001b[0mtype\u001b[0m\u001b[1;33m(\u001b[0m\u001b[0mb\u001b[0m\u001b[1;33m)\u001b[0m\u001b[1;33m)\u001b[0m\u001b[1;33m\u001b[0m\u001b[1;33m\u001b[0m\u001b[0m\n",
      "\u001b[1;31mValueError\u001b[0m: invalid literal for int() with base 10: '34 56'"
     ]
    }
   ],
   "source": [
    "a = '34 56'    # string contains only numbers \n",
    "print('value in variable a is:', a, type(a))    \n",
    "\n",
    "b = int(a)                          \n",
    "print('value in variable b is:', b, type(b))    "
   ]
  },
  {
   "cell_type": "markdown",
   "id": "e4dcdac6",
   "metadata": {},
   "source": [
    "### str to float"
   ]
  },
  {
   "cell_type": "code",
   "execution_count": 59,
   "id": "049ef6cd",
   "metadata": {},
   "outputs": [
    {
     "name": "stdout",
     "output_type": "stream",
     "text": [
      "value in variable a is: 34.56 <class 'str'>\n",
      "value in variable b is: 34.56 <class 'float'>\n"
     ]
    }
   ],
   "source": [
    "a = '34.56'    # string contains only numbers \n",
    "print('value in variable a is:', a, type(a))    \n",
    "\n",
    "b = float(a)                          \n",
    "print('value in variable b is:', b, type(b))    "
   ]
  },
  {
   "cell_type": "code",
   "execution_count": 60,
   "id": "95936784",
   "metadata": {},
   "outputs": [
    {
     "name": "stdout",
     "output_type": "stream",
     "text": [
      "value in variable a is:      34.56     <class 'str'>\n",
      "value in variable b is: 34.56 <class 'float'>\n"
     ]
    }
   ],
   "source": [
    "a = '     34.56    '    # string contains only numbers \n",
    "print('value in variable a is:', a, type(a))    \n",
    "\n",
    "b = float(a)                          \n",
    "print('value in variable b is:', b, type(b))    "
   ]
  },
  {
   "cell_type": "code",
   "execution_count": 61,
   "id": "804eac54",
   "metadata": {},
   "outputs": [
    {
     "name": "stdout",
     "output_type": "stream",
     "text": [
      "value in variable a is: 34. 56 <class 'str'>\n"
     ]
    },
    {
     "ename": "ValueError",
     "evalue": "could not convert string to float: '34. 56'",
     "output_type": "error",
     "traceback": [
      "\u001b[1;31m---------------------------------------------------------------------------\u001b[0m",
      "\u001b[1;31mValueError\u001b[0m                                Traceback (most recent call last)",
      "\u001b[1;32m<ipython-input-61-1ae210e558d0>\u001b[0m in \u001b[0;36m<module>\u001b[1;34m\u001b[0m\n\u001b[0;32m      2\u001b[0m \u001b[0mprint\u001b[0m\u001b[1;33m(\u001b[0m\u001b[1;34m'value in variable a is:'\u001b[0m\u001b[1;33m,\u001b[0m \u001b[0ma\u001b[0m\u001b[1;33m,\u001b[0m \u001b[0mtype\u001b[0m\u001b[1;33m(\u001b[0m\u001b[0ma\u001b[0m\u001b[1;33m)\u001b[0m\u001b[1;33m)\u001b[0m\u001b[1;33m\u001b[0m\u001b[1;33m\u001b[0m\u001b[0m\n\u001b[0;32m      3\u001b[0m \u001b[1;33m\u001b[0m\u001b[0m\n\u001b[1;32m----> 4\u001b[1;33m \u001b[0mb\u001b[0m \u001b[1;33m=\u001b[0m \u001b[0mfloat\u001b[0m\u001b[1;33m(\u001b[0m\u001b[0ma\u001b[0m\u001b[1;33m)\u001b[0m\u001b[1;33m\u001b[0m\u001b[1;33m\u001b[0m\u001b[0m\n\u001b[0m\u001b[0;32m      5\u001b[0m \u001b[0mprint\u001b[0m\u001b[1;33m(\u001b[0m\u001b[1;34m'value in variable b is:'\u001b[0m\u001b[1;33m,\u001b[0m \u001b[0mb\u001b[0m\u001b[1;33m,\u001b[0m \u001b[0mtype\u001b[0m\u001b[1;33m(\u001b[0m\u001b[0mb\u001b[0m\u001b[1;33m)\u001b[0m\u001b[1;33m)\u001b[0m\u001b[1;33m\u001b[0m\u001b[1;33m\u001b[0m\u001b[0m\n",
      "\u001b[1;31mValueError\u001b[0m: could not convert string to float: '34. 56'"
     ]
    }
   ],
   "source": [
    "a = '34. 56'    # string contains only numbers \n",
    "print('value in variable a is:', a, type(a))    \n",
    "\n",
    "b = float(a)                          \n",
    "print('value in variable b is:', b, type(b))    "
   ]
  },
  {
   "cell_type": "code",
   "execution_count": 62,
   "id": "5da19f84",
   "metadata": {},
   "outputs": [
    {
     "name": "stdout",
     "output_type": "stream",
     "text": [
      "value in variable a is: hi <class 'str'>\n"
     ]
    },
    {
     "ename": "ValueError",
     "evalue": "could not convert string to float: 'hi'",
     "output_type": "error",
     "traceback": [
      "\u001b[1;31m---------------------------------------------------------------------------\u001b[0m",
      "\u001b[1;31mValueError\u001b[0m                                Traceback (most recent call last)",
      "\u001b[1;32m<ipython-input-62-0e80463b02e1>\u001b[0m in \u001b[0;36m<module>\u001b[1;34m\u001b[0m\n\u001b[0;32m      2\u001b[0m \u001b[0mprint\u001b[0m\u001b[1;33m(\u001b[0m\u001b[1;34m'value in variable a is:'\u001b[0m\u001b[1;33m,\u001b[0m \u001b[0ma\u001b[0m\u001b[1;33m,\u001b[0m \u001b[0mtype\u001b[0m\u001b[1;33m(\u001b[0m\u001b[0ma\u001b[0m\u001b[1;33m)\u001b[0m\u001b[1;33m)\u001b[0m\u001b[1;33m\u001b[0m\u001b[1;33m\u001b[0m\u001b[0m\n\u001b[0;32m      3\u001b[0m \u001b[1;33m\u001b[0m\u001b[0m\n\u001b[1;32m----> 4\u001b[1;33m \u001b[0mb\u001b[0m \u001b[1;33m=\u001b[0m \u001b[0mfloat\u001b[0m\u001b[1;33m(\u001b[0m\u001b[0ma\u001b[0m\u001b[1;33m)\u001b[0m\u001b[1;33m\u001b[0m\u001b[1;33m\u001b[0m\u001b[0m\n\u001b[0m\u001b[0;32m      5\u001b[0m \u001b[0mprint\u001b[0m\u001b[1;33m(\u001b[0m\u001b[1;34m'value in variable b is:'\u001b[0m\u001b[1;33m,\u001b[0m \u001b[0mb\u001b[0m\u001b[1;33m,\u001b[0m \u001b[0mtype\u001b[0m\u001b[1;33m(\u001b[0m\u001b[0mb\u001b[0m\u001b[1;33m)\u001b[0m\u001b[1;33m)\u001b[0m\u001b[1;33m\u001b[0m\u001b[1;33m\u001b[0m\u001b[0m\n",
      "\u001b[1;31mValueError\u001b[0m: could not convert string to float: 'hi'"
     ]
    }
   ],
   "source": [
    "a = 'hi'    # string contains only numbers \n",
    "print('value in variable a is:', a, type(a))    \n",
    "\n",
    "b = float(a)                          \n",
    "print('value in variable b is:', b, type(b))    "
   ]
  },
  {
   "cell_type": "code",
   "execution_count": 63,
   "id": "10942362",
   "metadata": {},
   "outputs": [
    {
     "name": "stdout",
     "output_type": "stream",
     "text": [
      "value in variable a is: 34.56 <class 'str'>\n"
     ]
    },
    {
     "ename": "ValueError",
     "evalue": "invalid literal for int() with base 10: '34.56'",
     "output_type": "error",
     "traceback": [
      "\u001b[1;31m---------------------------------------------------------------------------\u001b[0m",
      "\u001b[1;31mValueError\u001b[0m                                Traceback (most recent call last)",
      "\u001b[1;32m<ipython-input-63-288f82cb63ff>\u001b[0m in \u001b[0;36m<module>\u001b[1;34m\u001b[0m\n\u001b[0;32m      2\u001b[0m \u001b[0mprint\u001b[0m\u001b[1;33m(\u001b[0m\u001b[1;34m'value in variable a is:'\u001b[0m\u001b[1;33m,\u001b[0m \u001b[0ma\u001b[0m\u001b[1;33m,\u001b[0m \u001b[0mtype\u001b[0m\u001b[1;33m(\u001b[0m\u001b[0ma\u001b[0m\u001b[1;33m)\u001b[0m\u001b[1;33m)\u001b[0m\u001b[1;33m\u001b[0m\u001b[1;33m\u001b[0m\u001b[0m\n\u001b[0;32m      3\u001b[0m \u001b[1;33m\u001b[0m\u001b[0m\n\u001b[1;32m----> 4\u001b[1;33m \u001b[0mb\u001b[0m \u001b[1;33m=\u001b[0m \u001b[0mint\u001b[0m\u001b[1;33m(\u001b[0m\u001b[0ma\u001b[0m\u001b[1;33m)\u001b[0m\u001b[1;33m\u001b[0m\u001b[1;33m\u001b[0m\u001b[0m\n\u001b[0m\u001b[0;32m      5\u001b[0m \u001b[0mprint\u001b[0m\u001b[1;33m(\u001b[0m\u001b[1;34m'value in variable b is:'\u001b[0m\u001b[1;33m,\u001b[0m \u001b[0mb\u001b[0m\u001b[1;33m,\u001b[0m \u001b[0mtype\u001b[0m\u001b[1;33m(\u001b[0m\u001b[0mb\u001b[0m\u001b[1;33m)\u001b[0m\u001b[1;33m)\u001b[0m\u001b[1;33m\u001b[0m\u001b[1;33m\u001b[0m\u001b[0m\n",
      "\u001b[1;31mValueError\u001b[0m: invalid literal for int() with base 10: '34.56'"
     ]
    }
   ],
   "source": [
    "a = '34.56'    # string contains only numbers \n",
    "print('value in variable a is:', a, type(a))    \n",
    "\n",
    "b = int(a)                          \n",
    "print('value in variable b is:', b, type(b))    "
   ]
  },
  {
   "cell_type": "code",
   "execution_count": 64,
   "id": "202246ab",
   "metadata": {},
   "outputs": [
    {
     "name": "stdout",
     "output_type": "stream",
     "text": [
      "value in variable a is: 34.56 <class 'str'>\n",
      "value in variable b is: 34.56 <class 'float'>\n",
      "value in variable c is: 34 <class 'int'>\n"
     ]
    }
   ],
   "source": [
    "a = '34.56'    # string contains only numbers \n",
    "print('value in variable a is:', a, type(a))    \n",
    "\n",
    "b = float(a)                          \n",
    "print('value in variable b is:', b, type(b)) \n",
    "\n",
    "c = int(b)                          \n",
    "print('value in variable c is:', c, type(c))    "
   ]
  },
  {
   "cell_type": "code",
   "execution_count": 65,
   "id": "c2a375e1",
   "metadata": {},
   "outputs": [
    {
     "data": {
      "text/plain": [
       "list"
      ]
     },
     "execution_count": 65,
     "metadata": {},
     "output_type": "execute_result"
    }
   ],
   "source": [
    "a= [1,2,3]\n",
    "type(a)"
   ]
  },
  {
   "cell_type": "code",
   "execution_count": 66,
   "id": "b052bc19",
   "metadata": {},
   "outputs": [
    {
     "data": {
      "text/plain": [
       "tuple"
      ]
     },
     "execution_count": 66,
     "metadata": {},
     "output_type": "execute_result"
    }
   ],
   "source": [
    "b= tuple(a)\n",
    "type(b)"
   ]
  },
  {
   "cell_type": "code",
   "execution_count": 67,
   "id": "9da690b6",
   "metadata": {},
   "outputs": [
    {
     "data": {
      "text/plain": [
       "(1, 2, 3)"
      ]
     },
     "execution_count": 67,
     "metadata": {},
     "output_type": "execute_result"
    }
   ],
   "source": [
    "b"
   ]
  },
  {
   "cell_type": "code",
   "execution_count": 69,
   "id": "27186315",
   "metadata": {},
   "outputs": [
    {
     "data": {
      "text/plain": [
       "1"
      ]
     },
     "execution_count": 69,
     "metadata": {},
     "output_type": "execute_result"
    }
   ],
   "source": [
    "int(True)"
   ]
  },
  {
   "cell_type": "code",
   "execution_count": 71,
   "id": "e11815ed",
   "metadata": {},
   "outputs": [
    {
     "data": {
      "text/plain": [
       "0"
      ]
     },
     "execution_count": 71,
     "metadata": {},
     "output_type": "execute_result"
    }
   ],
   "source": [
    "int(False)"
   ]
  },
  {
   "cell_type": "code",
   "execution_count": 74,
   "id": "33088fce",
   "metadata": {},
   "outputs": [
    {
     "data": {
      "text/plain": [
       "int"
      ]
     },
     "execution_count": 74,
     "metadata": {},
     "output_type": "execute_result"
    }
   ],
   "source": [
    "x = 1 + j\n",
    "type(x)"
   ]
  },
  {
   "cell_type": "code",
   "execution_count": null,
   "id": "963e8b9b",
   "metadata": {},
   "outputs": [],
   "source": []
  }
 ],
 "metadata": {
  "kernelspec": {
   "display_name": "Python 3 (ipykernel)",
   "language": "python",
   "name": "python3"
  },
  "language_info": {
   "codemirror_mode": {
    "name": "ipython",
    "version": 3
   },
   "file_extension": ".py",
   "mimetype": "text/x-python",
   "name": "python",
   "nbconvert_exporter": "python",
   "pygments_lexer": "ipython3",
   "version": "3.11.3"
  }
 },
 "nbformat": 4,
 "nbformat_minor": 5
}
