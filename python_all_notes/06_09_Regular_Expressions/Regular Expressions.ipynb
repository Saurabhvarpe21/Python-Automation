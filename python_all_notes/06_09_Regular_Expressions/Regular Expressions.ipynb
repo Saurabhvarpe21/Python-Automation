{
 "cells": [
  {
   "cell_type": "code",
   "execution_count": 1,
   "id": "edbb19d3",
   "metadata": {},
   "outputs": [],
   "source": [
    "import re"
   ]
  },
  {
   "cell_type": "code",
   "execution_count": 3,
   "id": "1913f46e",
   "metadata": {},
   "outputs": [
    {
     "data": {
      "text/plain": [
       "['Python', 'Python', 'Python']"
      ]
     },
     "execution_count": 3,
     "metadata": {},
     "output_type": "execute_result"
    }
   ],
   "source": [
    "text = 'Velocity CorporatePython Training Centre, Python Data Science Pythonclass'\n",
    "result = re.findall('Python', text)\n",
    "result"
   ]
  },
  {
   "cell_type": "code",
   "execution_count": 5,
   "id": "6fcf7cf7",
   "metadata": {},
   "outputs": [
    {
     "data": {
      "text/plain": [
       "['Python', 'Python']"
      ]
     },
     "execution_count": 5,
     "metadata": {},
     "output_type": "execute_result"
    }
   ],
   "source": [
    "text = 'Velocity CorporatePython Training Centre, Python Data Science Pythonclass'\n",
    "result = re.findall(r'\\bPython', text)\n",
    "result"
   ]
  },
  {
   "cell_type": "code",
   "execution_count": 6,
   "id": "57b5b7e4",
   "metadata": {},
   "outputs": [
    {
     "data": {
      "text/plain": [
       "['Python']"
      ]
     },
     "execution_count": 6,
     "metadata": {},
     "output_type": "execute_result"
    }
   ],
   "source": [
    "text = 'Velocity CorporatePython Training Centre, Python Data Science Pythonclass'\n",
    "result = re.findall(r'\\bPython\\b', text)\n",
    "result"
   ]
  },
  {
   "cell_type": "markdown",
   "id": "9827074c",
   "metadata": {},
   "source": [
    "## 2. re.sub()"
   ]
  },
  {
   "cell_type": "code",
   "execution_count": null,
   "id": "c51d280c",
   "metadata": {},
   "outputs": [],
   "source": [
    "re.sub(pattern, new_string, text)\n",
    "It is used to replace occurences of particular substring with another substring"
   ]
  },
  {
   "cell_type": "code",
   "execution_count": 8,
   "id": "57adfe07",
   "metadata": {},
   "outputs": [
    {
     "data": {
      "text/plain": [
       "'Machine learning   is a field of Data Science.'"
      ]
     },
     "execution_count": 8,
     "metadata": {},
     "output_type": "execute_result"
    }
   ],
   "source": [
    "string = 'Machine learning 1234 5678 is a field of Data Science.'\n",
    "string = string.replace('1234', '')\n",
    "string = string.replace('5678', '')\n",
    "string"
   ]
  },
  {
   "cell_type": "code",
   "execution_count": 9,
   "id": "cc1b5484",
   "metadata": {},
   "outputs": [
    {
     "name": "stdout",
     "output_type": "stream",
     "text": [
      "Machine learning **** **** is a field of Data Science.\n"
     ]
    }
   ],
   "source": [
    "string = 'Machine learning 1234 5678 is a field of Data Science.'\n",
    "result = re.sub('\\d', '*', string)\n",
    "print(result)"
   ]
  },
  {
   "cell_type": "code",
   "execution_count": 10,
   "id": "7c688971",
   "metadata": {},
   "outputs": [
    {
     "name": "stdout",
     "output_type": "stream",
     "text": [
      "every now and then a movie comes along from a suspect studio , with every indication that it will be a stinker , and to everybody's surprise  perhaps even the studio  the film becomes a critical darling . \n",
      "mtv films' _election , a high school comedy starring matthew broderick and reese witherspoon , is a current example . \n",
      "did anybody know this film existed a week before it opened ? \n",
      "the plot is deceptively simple . \n",
      "george washington carver high school is having student elections . \n",
      "tracy flick  reese witherspoon  is an over-achiever with her hand raised at nearly every question , way , way , high . \n",
      "mr . \" m \"  matthew broderick  , sick of the megalomaniac student , encourages paul , a popular-but-slow jock to run . \n",
      "and paul's nihilistic sister jumps in the race as well , for personal reasons . \n",
      "the dark side of such sleeper success is that , because expectations were so low going in , the fact that this was quality stuff made the reviews even more enthusiastic than they have any right to be . \n",
      "you can't help going in with the baggage of glowing reviews , which is in contrast to the negative baggage that the reviewers were likely to have . \n",
      "_election , a good film , does not live up to its hype .\n"
     ]
    }
   ],
   "source": [
    "text = '''every now and then a movie comes along from a suspect studio , with every indication that it will be a stinker , and to everybody's surprise ( perhaps even the studio ) the film becomes a critical darling . \n",
    "mtv films' _election , a high school comedy starring matthew broderick and reese witherspoon , is a current example . \n",
    "did anybody know this film existed a week before it opened ? \n",
    "the plot is deceptively simple . \n",
    "george washington carver high school is having student elections . \n",
    "tracy flick ( reese witherspoon ) is an over-achiever with her hand raised at nearly every question , way , way , high . \n",
    "mr . \" m \" ( matthew broderick ) , sick of the megalomaniac student , encourages paul , a popular-but-slow jock to run . \n",
    "and paul's nihilistic sister jumps in the race as well , for personal reasons . \n",
    "the dark side of such sleeper success is that , because expectations were so low going in , the fact that this was quality stuff made the reviews even more enthusiastic than they have any right to be . \n",
    "you can't help going in with the baggage of glowing reviews , which is in contrast to the negative baggage that the reviewers were likely to have . \n",
    "_election , a good film , does not live up to its hype .'''\n",
    "\n",
    "text = re.sub('[()]', '', text)\n",
    "print(text)"
   ]
  },
  {
   "cell_type": "code",
   "execution_count": 11,
   "id": "5064fb6a",
   "metadata": {},
   "outputs": [
    {
     "name": "stdout",
     "output_type": "stream",
     "text": [
      " Mobile ++++++++++ \n",
      "                    ++++++++++\n"
     ]
    }
   ],
   "source": [
    "text = ''' Mobile 9887546598 \n",
    "                    8754958765'''\n",
    "\n",
    "result = re.sub('\\d', '+', text)\n",
    "print(result)"
   ]
  },
  {
   "cell_type": "code",
   "execution_count": 12,
   "id": "7a0234ad",
   "metadata": {},
   "outputs": [
    {
     "name": "stdout",
     "output_type": "stream",
     "text": [
      " Mobile  \n",
      "                    \n"
     ]
    }
   ],
   "source": [
    "text = ''' Mobile 9887546598 \n",
    "                    8754958765'''\n",
    "\n",
    "result = re.sub('\\d', '', text)\n",
    "print(result)"
   ]
  },
  {
   "cell_type": "code",
   "execution_count": 13,
   "id": "2c204311",
   "metadata": {},
   "outputs": [
    {
     "name": "stdout",
     "output_type": "stream",
     "text": [
      "Mobile98875465988754958765\n"
     ]
    }
   ],
   "source": [
    "text = ''' Mobile 9887546598 \n",
    "                    8754958765'''\n",
    "\n",
    "result = re.sub('\\s', '', text)\n",
    "print(result)"
   ]
  },
  {
   "cell_type": "code",
   "execution_count": 15,
   "id": "6bcde8be",
   "metadata": {},
   "outputs": [
    {
     "name": "stdout",
     "output_type": "stream",
     "text": [
      " ++++++ ++++++++++ \n",
      "                    ++++++++++\n"
     ]
    }
   ],
   "source": [
    "text = ''' Mobile 9887546598 \n",
    "                    8754958765'''\n",
    "\n",
    "result = re.sub('\\w', '+', text)\n",
    "print(result)"
   ]
  },
  {
   "cell_type": "code",
   "execution_count": 16,
   "id": "6e121905",
   "metadata": {},
   "outputs": [
    {
     "name": "stdout",
     "output_type": "stream",
     "text": [
      "+Mobile+9887546598+++++++++++++++++++++++++8754958765++++\n"
     ]
    }
   ],
   "source": [
    "text = ''' Mobile 9887546598 ###\n",
    "                    8754958765 $$$'''\n",
    "\n",
    "result = re.sub('\\W', '+', text)\n",
    "print(result)"
   ]
  },
  {
   "cell_type": "code",
   "execution_count": 17,
   "id": "b15cc503",
   "metadata": {},
   "outputs": [
    {
     "name": "stdout",
     "output_type": "stream",
     "text": [
      "    Mobile    9887546598                                                                                                    8754958765                \n"
     ]
    }
   ],
   "source": [
    "text = ''' Mobile 9887546598 ###\n",
    "                    8754958765 $$$'''\n",
    "\n",
    "result = re.sub('\\W', '    ', text)\n",
    "print(result)"
   ]
  },
  {
   "cell_type": "code",
   "execution_count": 18,
   "id": "e2600cee",
   "metadata": {},
   "outputs": [
    {
     "name": "stdout",
     "output_type": "stream",
     "text": [
      "    Mobile    9887546598    ###                                                                                    8754958765    $$$\n"
     ]
    }
   ],
   "source": [
    "text = ''' Mobile 9887546598 ###\n",
    "                    8754958765 $$$'''\n",
    "\n",
    "result = re.sub('\\s', '    ', text)\n",
    "print(result)"
   ]
  },
  {
   "cell_type": "markdown",
   "id": "bab9c5e0",
   "metadata": {},
   "source": [
    "## 3. search"
   ]
  },
  {
   "cell_type": "code",
   "execution_count": null,
   "id": "8ae170e7",
   "metadata": {},
   "outputs": [],
   "source": [
    "It searches for a match/pattern and returns an object\n",
    "of first occurence only\n",
    "re.search(pattern, text)"
   ]
  },
  {
   "cell_type": "code",
   "execution_count": 19,
   "id": "155d32ab",
   "metadata": {},
   "outputs": [
    {
     "data": {
      "text/plain": [
       "['9887987898', '7845122356']"
      ]
     },
     "execution_count": 19,
     "metadata": {},
     "output_type": "execute_result"
    }
   ],
   "source": [
    "text = '''Mobile  9887987898\n",
    "                7845122356   '''\n",
    "\n",
    "mobile_number = re.findall('\\d{10}',text)\n",
    "mobile_number"
   ]
  },
  {
   "cell_type": "code",
   "execution_count": 22,
   "id": "a28416cb",
   "metadata": {},
   "outputs": [
    {
     "data": {
      "text/plain": [
       "<re.Match object; span=(8, 18), match='9887987898'>"
      ]
     },
     "execution_count": 22,
     "metadata": {},
     "output_type": "execute_result"
    }
   ],
   "source": [
    "text = '''Mobile  9887987898\n",
    "                7845122356   '''\n",
    "\n",
    "mobile_number = re.search('\\d{10}',text)\n",
    "mobile_number"
   ]
  },
  {
   "cell_type": "code",
   "execution_count": 23,
   "id": "424de121",
   "metadata": {},
   "outputs": [
    {
     "data": {
      "text/plain": [
       "'9887987898'"
      ]
     },
     "execution_count": 23,
     "metadata": {},
     "output_type": "execute_result"
    }
   ],
   "source": [
    "text = '''Mobile  9887987898\n",
    "                7845122356   '''\n",
    "\n",
    "mobile_number = re.search('\\d{10}',text)\n",
    "mobile_number.group()"
   ]
  },
  {
   "cell_type": "code",
   "execution_count": 84,
   "id": "1cd2cd9c",
   "metadata": {},
   "outputs": [
    {
     "data": {
      "text/plain": [
       "'7845122356'"
      ]
     },
     "execution_count": 84,
     "metadata": {},
     "output_type": "execute_result"
    }
   ],
   "source": [
    "text = '''Mobile  988798789\n",
    "                7845122356   '''\n",
    "\n",
    "mobile_number = re.search('\\d{10}',text)\n",
    "mobile_number.group()"
   ]
  },
  {
   "cell_type": "code",
   "execution_count": 85,
   "id": "8290b2e1",
   "metadata": {},
   "outputs": [
    {
     "data": {
      "text/plain": [
       "(34, 44)"
      ]
     },
     "execution_count": 85,
     "metadata": {},
     "output_type": "execute_result"
    }
   ],
   "source": [
    "mobile_number.span()"
   ]
  },
  {
   "cell_type": "code",
   "execution_count": 86,
   "id": "b456645d",
   "metadata": {},
   "outputs": [
    {
     "data": {
      "text/plain": [
       "34"
      ]
     },
     "execution_count": 86,
     "metadata": {},
     "output_type": "execute_result"
    }
   ],
   "source": [
    "mobile_number.start()"
   ]
  },
  {
   "cell_type": "code",
   "execution_count": 87,
   "id": "d137d95d",
   "metadata": {},
   "outputs": [
    {
     "data": {
      "text/plain": [
       "44"
      ]
     },
     "execution_count": 87,
     "metadata": {},
     "output_type": "execute_result"
    }
   ],
   "source": [
    "mobile_number.end()"
   ]
  },
  {
   "cell_type": "code",
   "execution_count": 88,
   "id": "0070fa90",
   "metadata": {},
   "outputs": [
    {
     "data": {
      "text/plain": [
       "'988798789'"
      ]
     },
     "execution_count": 88,
     "metadata": {},
     "output_type": "execute_result"
    }
   ],
   "source": [
    "text = '''Mobile  988798789\n",
    "                7845122356   '''\n",
    "\n",
    "mobile_number = re.search('\\d+',text)\n",
    "mobile_number.group()"
   ]
  },
  {
   "cell_type": "code",
   "execution_count": 31,
   "id": "b02f0e86",
   "metadata": {},
   "outputs": [
    {
     "name": "stdout",
     "output_type": "stream",
     "text": [
      "8745125487\n",
      "59\n",
      "69\n"
     ]
    }
   ],
   "source": [
    "text = '''Mobile  98879878\n",
    "                784512235\n",
    "                8745125487\n",
    "                1245789865'''\n",
    "\n",
    "mobile_number = re.search('\\d{10}',text)\n",
    "print(mobile_number.group())\n",
    "print(mobile_number.start())\n",
    "print(mobile_number.end())"
   ]
  },
  {
   "cell_type": "markdown",
   "id": "40dc209a",
   "metadata": {},
   "source": [
    "## 4. match"
   ]
  },
  {
   "cell_type": "code",
   "execution_count": null,
   "id": "1c42f06d",
   "metadata": {},
   "outputs": [],
   "source": [
    "Checks for first index item of string/ first position"
   ]
  },
  {
   "cell_type": "code",
   "execution_count": 33,
   "id": "17e7e659",
   "metadata": {},
   "outputs": [],
   "source": [
    "text = '''Mobile  98879878\n",
    "                784512235\n",
    "                8745125487\n",
    "                1245789865'''\n",
    "\n",
    "numbers = re.match('\\d{10}', text)\n",
    "numbers"
   ]
  },
  {
   "cell_type": "code",
   "execution_count": 35,
   "id": "2a87f758",
   "metadata": {},
   "outputs": [
    {
     "ename": "AttributeError",
     "evalue": "'NoneType' object has no attribute 'group'",
     "output_type": "error",
     "traceback": [
      "\u001b[1;31m---------------------------------------------------------------------------\u001b[0m",
      "\u001b[1;31mAttributeError\u001b[0m                            Traceback (most recent call last)",
      "\u001b[1;32m<ipython-input-35-40b44632f4ab>\u001b[0m in \u001b[0;36m<module>\u001b[1;34m\u001b[0m\n\u001b[1;32m----> 1\u001b[1;33m \u001b[0mprint\u001b[0m\u001b[1;33m(\u001b[0m\u001b[0mnumbers\u001b[0m\u001b[1;33m.\u001b[0m\u001b[0mgroup\u001b[0m\u001b[1;33m(\u001b[0m\u001b[1;33m)\u001b[0m\u001b[1;33m)\u001b[0m\u001b[1;33m\u001b[0m\u001b[1;33m\u001b[0m\u001b[0m\n\u001b[0m",
      "\u001b[1;31mAttributeError\u001b[0m: 'NoneType' object has no attribute 'group'"
     ]
    }
   ],
   "source": [
    "print(numbers.group())"
   ]
  },
  {
   "cell_type": "code",
   "execution_count": 36,
   "id": "36ddd35f",
   "metadata": {},
   "outputs": [
    {
     "data": {
      "text/plain": [
       "<re.Match object; span=(0, 10), match='7898879878'>"
      ]
     },
     "execution_count": 36,
     "metadata": {},
     "output_type": "execute_result"
    }
   ],
   "source": [
    "text = '''7898879878\n",
    "                784512235\n",
    "                8745125487\n",
    "                1245789865'''\n",
    "\n",
    "numbers = re.match('\\d{10}', text)\n",
    "numbers"
   ]
  },
  {
   "cell_type": "code",
   "execution_count": 41,
   "id": "1e46ad66",
   "metadata": {},
   "outputs": [
    {
     "name": "stdout",
     "output_type": "stream",
     "text": [
      "7898879878\n",
      "0\n",
      "10\n",
      "(0, 10)\n"
     ]
    }
   ],
   "source": [
    "print(numbers.group())\n",
    "print(numbers.start())\n",
    "print(numbers.end())\n",
    "print(numbers.span())"
   ]
  },
  {
   "cell_type": "code",
   "execution_count": 44,
   "id": "583ec6b5",
   "metadata": {},
   "outputs": [],
   "source": [
    "text = '''Mobile 7898879878\n",
    "                784512235\n",
    "                8745125487\n",
    "                1245789865'''\n",
    "\n",
    "numbers = re.match('\\d{10}', text)\n",
    "numbers"
   ]
  },
  {
   "cell_type": "code",
   "execution_count": 45,
   "id": "f2cc84e7",
   "metadata": {},
   "outputs": [
    {
     "data": {
      "text/plain": [
       "NoneType"
      ]
     },
     "execution_count": 45,
     "metadata": {},
     "output_type": "execute_result"
    }
   ],
   "source": [
    "type(numbers)"
   ]
  },
  {
   "cell_type": "code",
   "execution_count": 49,
   "id": "91aeb111",
   "metadata": {},
   "outputs": [
    {
     "name": "stdout",
     "output_type": "stream",
     "text": [
      "Match Found\n",
      "7898879878\n"
     ]
    }
   ],
   "source": [
    "text = '''7898879878\n",
    "                784512235\n",
    "                8745125487\n",
    "                1245789865'''\n",
    "\n",
    "numbers = re.match('\\d{10}', text)\n",
    "if numbers:\n",
    "    print('Match Found')\n",
    "    print(numbers.group())\n",
    "    \n",
    "else:\n",
    "    print('Match not found')"
   ]
  },
  {
   "cell_type": "code",
   "execution_count": 50,
   "id": "1b0e4255",
   "metadata": {},
   "outputs": [
    {
     "name": "stdout",
     "output_type": "stream",
     "text": [
      "Match not found\n"
     ]
    }
   ],
   "source": [
    "text = '''mobile 7898879878\n",
    "                784512235\n",
    "                8745125487\n",
    "                1245789865'''\n",
    "\n",
    "numbers = re.match('\\d{10}', text)\n",
    "if numbers:\n",
    "    print('Match Found')\n",
    "    print(numbers.group())\n",
    "    \n",
    "else:\n",
    "    print('Match not found')"
   ]
  },
  {
   "cell_type": "code",
   "execution_count": null,
   "id": "35123237",
   "metadata": {},
   "outputs": [],
   "source": [
    "Special Sequences >> Pre defined characters\n",
    "Character with special meaning >> Quantifiers >> Metacharacters"
   ]
  },
  {
   "cell_type": "markdown",
   "id": "0dddb87f",
   "metadata": {},
   "source": [
    "## Characters with Special Meaning"
   ]
  },
  {
   "cell_type": "markdown",
   "id": "0849afda",
   "metadata": {},
   "source": [
    "## 1. +(plus)"
   ]
  },
  {
   "cell_type": "code",
   "execution_count": null,
   "id": "1f132d4e",
   "metadata": {},
   "outputs": [],
   "source": [
    "+ >> One or more occurrences"
   ]
  },
  {
   "cell_type": "code",
   "execution_count": 51,
   "id": "d5a5d27a",
   "metadata": {},
   "outputs": [
    {
     "data": {
      "text/plain": [
       "'    Data science     is an interdisciplinary field that uses scientific methods,\\nprocesses,    algorithms and systems    to extract knowledge and insights from noisy,\\nstructured      and unstructured data,       and apply knowledge\\nfrom data across a broad range      of application domains'"
      ]
     },
     "execution_count": 51,
     "metadata": {},
     "output_type": "execute_result"
    }
   ],
   "source": [
    "text = '''          Data science           is an interdisciplinary field that uses scientific methods,\n",
    "processes,            algorithms and systems          to extract knowledge and insights from noisy,\n",
    "structured                and unstructured data,                 and apply knowledge\n",
    "from data across a broad range                  of application domains'''\n",
    "text.replace('   ', ' ')"
   ]
  },
  {
   "cell_type": "code",
   "execution_count": 53,
   "id": "c9bdbec9",
   "metadata": {},
   "outputs": [
    {
     "name": "stdout",
     "output_type": "stream",
     "text": [
      "          Data science           is an interdisciplinary field that uses scientific methods,\n",
      "processes,            algorithms and systems          to extract knowledge and insights from noisy,\n",
      "structured                and unstructured data,                 and apply knowledge\n",
      "from data across a broad range                  of application domains\n"
     ]
    }
   ],
   "source": [
    "text = '''          Data science           is an interdisciplinary field that uses scientific methods,\n",
    "processes,            algorithms and systems          to extract knowledge and insights from noisy,\n",
    "structured                and unstructured data,                 and apply knowledge\n",
    "from data across a broad range                  of application domains'''\n",
    "\n",
    "result = re.sub('[ ]', ' ', text)\n",
    "print(result)"
   ]
  },
  {
   "cell_type": "code",
   "execution_count": 54,
   "id": "eb9a4df1",
   "metadata": {},
   "outputs": [
    {
     "name": "stdout",
     "output_type": "stream",
     "text": [
      " Data science is an interdisciplinary field that uses scientific methods,\n",
      "processes, algorithms and systems to extract knowledge and insights from noisy,\n",
      "structured and unstructured data, and apply knowledge\n",
      "from data across a broad range of application domains\n"
     ]
    }
   ],
   "source": [
    "text = '''          Data science           is an interdisciplinary field that uses scientific methods,\n",
    "processes,            algorithms and systems          to extract knowledge and insights from noisy,\n",
    "structured                and unstructured data,                 and apply knowledge\n",
    "from data across a broad range                  of application domains'''\n",
    "\n",
    "result = re.sub('[ ]+', ' ', text)\n",
    "print(result)"
   ]
  },
  {
   "cell_type": "code",
   "execution_count": 55,
   "id": "c664e7b2",
   "metadata": {},
   "outputs": [
    {
     "name": "stdout",
     "output_type": "stream",
     "text": [
      " Data science is an interdisciplinary field that uses scientific methods, processes, algorithms and systems to extract knowledge and insights from noisy, structured and unstructured data, and apply knowledge from data across a broad range of application domains\n"
     ]
    }
   ],
   "source": [
    "text = '''          Data science           is an interdisciplinary field that uses scientific methods,\n",
    "processes,            algorithms and systems          to extract knowledge and insights from noisy,\n",
    "structured                and unstructured data,                 and apply knowledge\n",
    "from data across a broad range                  of application domains'''\n",
    "\n",
    "result = re.sub('\\s+', ' ', text)\n",
    "print(result)"
   ]
  },
  {
   "cell_type": "code",
   "execution_count": 57,
   "id": "2f0d735f",
   "metadata": {},
   "outputs": [
    {
     "data": {
      "text/plain": [
       "['python']"
      ]
     },
     "execution_count": 57,
     "metadata": {},
     "output_type": "execute_result"
    }
   ],
   "source": [
    "string = 'python and data science'\n",
    "result = re.findall('python',string)\n",
    "result"
   ]
  },
  {
   "cell_type": "code",
   "execution_count": 60,
   "id": "5f7f9fa0",
   "metadata": {},
   "outputs": [
    {
     "data": {
      "text/plain": [
       "['python', 'python']"
      ]
     },
     "execution_count": 60,
     "metadata": {},
     "output_type": "execute_result"
    }
   ],
   "source": [
    "string = 'python and data science pythhhon pyttthon python pythhon'\n",
    "result = re.findall('python',string)\n",
    "result"
   ]
  },
  {
   "cell_type": "code",
   "execution_count": 61,
   "id": "1a7bb6d9",
   "metadata": {},
   "outputs": [
    {
     "data": {
      "text/plain": [
       "['python', 'pythhhon', 'python', 'pythhon']"
      ]
     },
     "execution_count": 61,
     "metadata": {},
     "output_type": "execute_result"
    }
   ],
   "source": [
    "string = 'python and data science pythhhon pyttthon python pythhon'\n",
    "result = re.findall('pyth+on',string)\n",
    "result"
   ]
  },
  {
   "cell_type": "code",
   "execution_count": 62,
   "id": "28e53182",
   "metadata": {},
   "outputs": [
    {
     "data": {
      "text/plain": [
       "['python', 'pythhhon', 'pyttthon', 'python', 'pythhon']"
      ]
     },
     "execution_count": 62,
     "metadata": {},
     "output_type": "execute_result"
    }
   ],
   "source": [
    "string = 'python and data science pythhhon pyttthon python pythhon'\n",
    "result = re.findall('pyt+h+on',string)\n",
    "result"
   ]
  },
  {
   "cell_type": "code",
   "execution_count": 63,
   "id": "a535485a",
   "metadata": {},
   "outputs": [
    {
     "name": "stdout",
     "output_type": "stream",
     "text": [
      "Data science            is an interdisciplinary field that uses scientific methods  processes             algorithms and systems               to extract knowledge and insights from noisy  structured                and unstructured data                  and apply knowledge from data across a broad range                       of application domains\n"
     ]
    }
   ],
   "source": [
    "text = '''Data science    @       is an interdisciplinary field that uses scientific methods,\n",
    "processes,            algorithms and systems     @#$%^     to extract knowledge and insights from noisy,\n",
    "structured                and unstructured data,                 and apply knowledge\n",
    "from data across a broad range            *&^%$      of application domains'''\n",
    "\n",
    "result = re.sub('[^a-zA-Z]', ' ', text)\n",
    "print(result)"
   ]
  },
  {
   "cell_type": "code",
   "execution_count": 64,
   "id": "1ee30df9",
   "metadata": {},
   "outputs": [
    {
     "name": "stdout",
     "output_type": "stream",
     "text": [
      "Data science is an interdisciplinary field that uses scientific methods processes algorithms and systems to extract knowledge and insights from noisy structured and unstructured data and apply knowledge from data across a broad range of application domains\n"
     ]
    }
   ],
   "source": [
    "text = '''Data science    @       is an interdisciplinary field that uses scientific methods,\n",
    "processes,            algorithms and systems     @#$%^     to extract knowledge and insights from noisy,\n",
    "structured                and unstructured data,                 and apply knowledge\n",
    "from data across a broad range            *&^%$      of application domains'''\n",
    "\n",
    "result = re.sub('[^a-zA-Z]+', ' ', text)\n",
    "print(result)"
   ]
  },
  {
   "cell_type": "code",
   "execution_count": 66,
   "id": "0cd81662",
   "metadata": {},
   "outputs": [
    {
     "name": "stdout",
     "output_type": "stream",
     "text": [
      "[' ', '    @       ', ' ', ' ', ' ', ' ', ' ', ' ', ' ', ',\\n', ',            ', ' ', ' ', '     @#$%^     ', ' ', ' ', ' ', ' ', ' ', ' ', ',\\n', '                ', ' ', ' ', ',                 ', ' ', ' ', '\\n', ' ', ' ', ' ', ' ', ' ', '            *&^%$      ', ' ', ' ']\n"
     ]
    }
   ],
   "source": [
    "text = '''Data science    @       is an interdisciplinary field that uses scientific methods,\n",
    "processes,            algorithms and systems     @#$%^     to extract knowledge and insights from noisy,\n",
    "structured                and unstructured data,                 and apply knowledge\n",
    "from data across a broad range            *&^%$      of application domains'''\n",
    "\n",
    "result = re.findall('[^a-zA-Z]+', text)\n",
    "print(result)"
   ]
  },
  {
   "cell_type": "code",
   "execution_count": 67,
   "id": "df11f58a",
   "metadata": {},
   "outputs": [
    {
     "name": "stdout",
     "output_type": "stream",
     "text": [
      "Data science is an interdisciplinary field that uses scientific methods processes algorithms and systems to extract knowledge and insights from noisy structured and unstructured data and apply knowledge from data across a broad range of application domains\n"
     ]
    }
   ],
   "source": [
    "text = '''Data science    @       is an interdisciplinary field that uses scientific methods,\n",
    "processes,            algorithms and systems     @#$%^     to extract knowledge and insights from noisy,\n",
    "structured    65468712         and unstructured data,                 and apply knowledge\n",
    "from data across a broad range            *&^%$      of application domains'''\n",
    "\n",
    "result = re.sub('[^a-zA-Z]+', ' ', text)\n",
    "print(result)"
   ]
  },
  {
   "cell_type": "code",
   "execution_count": 68,
   "id": "4cd39f19",
   "metadata": {},
   "outputs": [
    {
     "name": "stdout",
     "output_type": "stream",
     "text": [
      "Data science is an interdisciplinary field that uses scientific methods processes algorithms and systems to extract knowledge and insights from noisy structured 65468712 and unstructured data and apply knowledge from data across a broad range of application domains\n"
     ]
    }
   ],
   "source": [
    "text = '''Data science    @       is an interdisciplinary field that uses scientific methods,\n",
    "processes,            algorithms and systems     @#$%^     to extract knowledge and insights from noisy,\n",
    "structured    65468712         and unstructured data,                 and apply knowledge\n",
    "from data across a broad range            *&^%$      of application domains'''\n",
    "\n",
    "result = re.sub('[^a-zA-Z0-9]+', ' ', text)\n",
    "print(result)"
   ]
  },
  {
   "cell_type": "code",
   "execution_count": 69,
   "id": "66c358c7",
   "metadata": {},
   "outputs": [
    {
     "name": "stdout",
     "output_type": "stream",
     "text": [
      "Data science is an interdisciplinary field that uses scientific methods processes algorithms and systems to extract knowledge and insights from noisy structured 65468712 and unstructured data and apply knowledge from data across a broad range of application domains\n"
     ]
    }
   ],
   "source": [
    "text = '''Data science    @       is an interdisciplinary field that uses scientific methods,\n",
    "processes,            algorithms and systems     @#$%^     to extract knowledge and insights from noisy,\n",
    "structured    65468712         and unstructured data,                 and apply knowledge\n",
    "from data across a broad range            *&^%$      of application domains'''\n",
    "\n",
    "result = re.sub('\\W+', ' ', text)\n",
    "print(result)"
   ]
  },
  {
   "cell_type": "code",
   "execution_count": 70,
   "id": "987fec46",
   "metadata": {},
   "outputs": [
    {
     "name": "stdout",
     "output_type": "stream",
     "text": [
      "Data science is an interdisciplinary field that uses scientific methods, processes, algorithms and systems to extract knowledge and insights from noisy, structured 65468712 and unstructured data, and apply knowledge from data across a broad range of application domains\n"
     ]
    }
   ],
   "source": [
    "text = '''Data science    @       is an interdisciplinary field that uses scientific methods,\n",
    "processes,            algorithms and systems     @#$%^     to extract knowledge and insights from noisy,\n",
    "structured    65468712         and unstructured data,                 and apply knowledge\n",
    "from data across a broad range            *&^%$      of application domains'''\n",
    "\n",
    "result = re.sub('[^\\w,]+', ' ', text)\n",
    "print(result)"
   ]
  },
  {
   "cell_type": "code",
   "execution_count": 71,
   "id": "faa938d4",
   "metadata": {},
   "outputs": [
    {
     "name": "stdout",
     "output_type": "stream",
     "text": [
      "       @                      \n",
      "                       @#$%^                  \n",
      "                                          \n",
      "                       *&^%$           \n"
     ]
    }
   ],
   "source": [
    "text = '''Data science    @       is an interdisciplinary field that uses scientific methods,\n",
    "processes,            algorithms and systems     @#$%^     to extract knowledge and insights from noisy,\n",
    "structured    65468712         and unstructured data,                 and apply knowledge\n",
    "from data across a broad range            *&^%$      of application domains'''\n",
    "\n",
    "result = re.sub('[\\w,]+', ' ', text)\n",
    "print(result)"
   ]
  },
  {
   "cell_type": "code",
   "execution_count": null,
   "id": "0fb74808",
   "metadata": {},
   "outputs": [],
   "source": []
  },
  {
   "cell_type": "code",
   "execution_count": 79,
   "id": "ea4e2424",
   "metadata": {},
   "outputs": [
    {
     "name": "stdout",
     "output_type": "stream",
     "text": [
      "[' ', '    @       ', ' ', ' ', ' ', ' ', ' ', ' ', ' ', ',\\n', ',            ', ' ', ' ', '     @#$%^     ', ' ', ' ', ' ', ' ', ' ', ' ', ',\\n', '                ', ' ', ' ', ',                 ', ' ', ' ', '\\n', ' ', ' ', ' ', ' ', ' ', '            *&^%$      ', ' ', ' ']\n"
     ]
    }
   ],
   "source": [
    "text = '''Data science    @       is an interdisciplinary field that uses scientific methods,\n",
    "processes,            algorithms and systems     @#$%^     to extract knowledge and insights from noisy,\n",
    "structured                and unstructured data,                 and apply knowledge\n",
    "from data across a broad range            *&^%$      of application domains'''\n",
    "\n",
    "result = re.findall('[^a-zA-Z]+', text)\n",
    "print(result)"
   ]
  },
  {
   "cell_type": "code",
   "execution_count": null,
   "id": "a008fba1",
   "metadata": {},
   "outputs": [],
   "source": []
  },
  {
   "cell_type": "code",
   "execution_count": null,
   "id": "a8803fc2",
   "metadata": {},
   "outputs": [],
   "source": []
  },
  {
   "cell_type": "code",
   "execution_count": null,
   "id": "3b5c278d",
   "metadata": {},
   "outputs": [],
   "source": []
  },
  {
   "cell_type": "code",
   "execution_count": null,
   "id": "57d7208e",
   "metadata": {},
   "outputs": [],
   "source": []
  },
  {
   "cell_type": "code",
   "execution_count": null,
   "id": "a78a5dc3",
   "metadata": {},
   "outputs": [],
   "source": []
  },
  {
   "cell_type": "code",
   "execution_count": 89,
   "id": "c9802a57",
   "metadata": {},
   "outputs": [
    {
     "name": "stdout",
     "output_type": "stream",
     "text": [
      "Requirement already satisfied: pytesseract in c:\\users\\cheta\\anaconda3\\lib\\site-packages (0.3.8)\n",
      "Requirement already satisfied: Pillow in c:\\users\\cheta\\anaconda3\\lib\\site-packages (from pytesseract) (8.2.0)\n",
      "Note: you may need to restart the kernel to use updated packages.\n"
     ]
    }
   ],
   "source": [
    "pip install pytesseract"
   ]
  },
  {
   "cell_type": "code",
   "execution_count": 90,
   "id": "b1109290",
   "metadata": {},
   "outputs": [
    {
     "name": "stdout",
     "output_type": "stream",
     "text": [
      "Requirement already satisfied: tesseract in c:\\users\\cheta\\anaconda3\\lib\\site-packages (0.1.3)\n",
      "Note: you may need to restart the kernel to use updated packages.\n"
     ]
    }
   ],
   "source": [
    "pip install tesseract"
   ]
  },
  {
   "cell_type": "code",
   "execution_count": null,
   "id": "f38634ad",
   "metadata": {},
   "outputs": [],
   "source": []
  },
  {
   "cell_type": "code",
   "execution_count": null,
   "id": "829255e6",
   "metadata": {},
   "outputs": [],
   "source": []
  },
  {
   "cell_type": "code",
   "execution_count": null,
   "id": "5d30f6a5",
   "metadata": {},
   "outputs": [],
   "source": []
  },
  {
   "cell_type": "code",
   "execution_count": null,
   "id": "95db381a",
   "metadata": {},
   "outputs": [],
   "source": []
  },
  {
   "cell_type": "code",
   "execution_count": null,
   "id": "8ea100e9",
   "metadata": {},
   "outputs": [],
   "source": []
  },
  {
   "cell_type": "code",
   "execution_count": null,
   "id": "7413f783",
   "metadata": {},
   "outputs": [],
   "source": []
  },
  {
   "cell_type": "code",
   "execution_count": null,
   "id": "a3cf091b",
   "metadata": {},
   "outputs": [],
   "source": []
  },
  {
   "cell_type": "code",
   "execution_count": null,
   "id": "f043eb6f",
   "metadata": {},
   "outputs": [],
   "source": []
  },
  {
   "cell_type": "code",
   "execution_count": null,
   "id": "1943e7c4",
   "metadata": {},
   "outputs": [],
   "source": []
  },
  {
   "cell_type": "code",
   "execution_count": null,
   "id": "b6db5e4f",
   "metadata": {},
   "outputs": [],
   "source": []
  },
  {
   "cell_type": "code",
   "execution_count": null,
   "id": "b22264d7",
   "metadata": {},
   "outputs": [],
   "source": []
  },
  {
   "cell_type": "code",
   "execution_count": null,
   "id": "4f9851d7",
   "metadata": {},
   "outputs": [],
   "source": []
  },
  {
   "cell_type": "code",
   "execution_count": null,
   "id": "3e330936",
   "metadata": {},
   "outputs": [],
   "source": []
  },
  {
   "cell_type": "code",
   "execution_count": null,
   "id": "498ab6f9",
   "metadata": {},
   "outputs": [],
   "source": []
  },
  {
   "cell_type": "code",
   "execution_count": null,
   "id": "08df4510",
   "metadata": {},
   "outputs": [],
   "source": []
  },
  {
   "cell_type": "code",
   "execution_count": null,
   "id": "51854067",
   "metadata": {},
   "outputs": [],
   "source": []
  },
  {
   "cell_type": "code",
   "execution_count": null,
   "id": "8b8231fd",
   "metadata": {},
   "outputs": [],
   "source": []
  },
  {
   "cell_type": "code",
   "execution_count": null,
   "id": "c4211f55",
   "metadata": {},
   "outputs": [],
   "source": []
  },
  {
   "cell_type": "code",
   "execution_count": null,
   "id": "44dfcf9e",
   "metadata": {},
   "outputs": [],
   "source": []
  },
  {
   "cell_type": "code",
   "execution_count": null,
   "id": "5fa45ae9",
   "metadata": {},
   "outputs": [],
   "source": []
  },
  {
   "cell_type": "code",
   "execution_count": null,
   "id": "84df2bbf",
   "metadata": {},
   "outputs": [],
   "source": []
  },
  {
   "cell_type": "code",
   "execution_count": null,
   "id": "61f31bb6",
   "metadata": {},
   "outputs": [],
   "source": []
  },
  {
   "cell_type": "code",
   "execution_count": null,
   "id": "d787e194",
   "metadata": {},
   "outputs": [],
   "source": []
  },
  {
   "cell_type": "code",
   "execution_count": null,
   "id": "b5bd13e3",
   "metadata": {},
   "outputs": [],
   "source": []
  },
  {
   "cell_type": "code",
   "execution_count": null,
   "id": "41fb061e",
   "metadata": {},
   "outputs": [],
   "source": []
  },
  {
   "cell_type": "code",
   "execution_count": null,
   "id": "b6a07b87",
   "metadata": {},
   "outputs": [],
   "source": []
  },
  {
   "cell_type": "code",
   "execution_count": null,
   "id": "7dbe525e",
   "metadata": {},
   "outputs": [],
   "source": []
  },
  {
   "cell_type": "code",
   "execution_count": null,
   "id": "c536e352",
   "metadata": {},
   "outputs": [],
   "source": []
  },
  {
   "cell_type": "code",
   "execution_count": null,
   "id": "4d6a4396",
   "metadata": {},
   "outputs": [],
   "source": []
  },
  {
   "cell_type": "code",
   "execution_count": null,
   "id": "1db6f098",
   "metadata": {},
   "outputs": [],
   "source": []
  },
  {
   "cell_type": "code",
   "execution_count": null,
   "id": "ed5b7929",
   "metadata": {},
   "outputs": [],
   "source": []
  },
  {
   "cell_type": "code",
   "execution_count": null,
   "id": "4ae13bd1",
   "metadata": {},
   "outputs": [],
   "source": []
  },
  {
   "cell_type": "code",
   "execution_count": null,
   "id": "fa5232b8",
   "metadata": {},
   "outputs": [],
   "source": []
  },
  {
   "cell_type": "code",
   "execution_count": null,
   "id": "ada81955",
   "metadata": {},
   "outputs": [],
   "source": []
  },
  {
   "cell_type": "code",
   "execution_count": null,
   "id": "4bea2f5a",
   "metadata": {},
   "outputs": [],
   "source": []
  },
  {
   "cell_type": "code",
   "execution_count": null,
   "id": "8f7316fd",
   "metadata": {},
   "outputs": [],
   "source": []
  },
  {
   "cell_type": "code",
   "execution_count": null,
   "id": "7746e22a",
   "metadata": {},
   "outputs": [],
   "source": []
  },
  {
   "cell_type": "code",
   "execution_count": null,
   "id": "9fe95911",
   "metadata": {},
   "outputs": [],
   "source": []
  },
  {
   "cell_type": "code",
   "execution_count": null,
   "id": "c2d4ad7b",
   "metadata": {},
   "outputs": [],
   "source": []
  },
  {
   "cell_type": "code",
   "execution_count": null,
   "id": "d523d9c9",
   "metadata": {},
   "outputs": [],
   "source": []
  },
  {
   "cell_type": "code",
   "execution_count": null,
   "id": "784491fb",
   "metadata": {},
   "outputs": [],
   "source": []
  },
  {
   "cell_type": "code",
   "execution_count": null,
   "id": "bd048823",
   "metadata": {},
   "outputs": [],
   "source": []
  },
  {
   "cell_type": "code",
   "execution_count": null,
   "id": "bcab6564",
   "metadata": {},
   "outputs": [],
   "source": []
  },
  {
   "cell_type": "code",
   "execution_count": null,
   "id": "a5f5200d",
   "metadata": {},
   "outputs": [],
   "source": []
  },
  {
   "cell_type": "code",
   "execution_count": null,
   "id": "e342d02d",
   "metadata": {},
   "outputs": [],
   "source": []
  },
  {
   "cell_type": "code",
   "execution_count": null,
   "id": "d0ca372d",
   "metadata": {},
   "outputs": [],
   "source": []
  },
  {
   "cell_type": "code",
   "execution_count": null,
   "id": "cd87af49",
   "metadata": {},
   "outputs": [],
   "source": []
  },
  {
   "cell_type": "code",
   "execution_count": null,
   "id": "6a2ec7dd",
   "metadata": {},
   "outputs": [],
   "source": []
  },
  {
   "cell_type": "code",
   "execution_count": null,
   "id": "bb136af1",
   "metadata": {},
   "outputs": [],
   "source": []
  },
  {
   "cell_type": "code",
   "execution_count": null,
   "id": "47b1f4a4",
   "metadata": {},
   "outputs": [],
   "source": []
  },
  {
   "cell_type": "code",
   "execution_count": null,
   "id": "3f386d40",
   "metadata": {},
   "outputs": [],
   "source": []
  },
  {
   "cell_type": "code",
   "execution_count": null,
   "id": "96e57c36",
   "metadata": {},
   "outputs": [],
   "source": []
  },
  {
   "cell_type": "code",
   "execution_count": null,
   "id": "79495a79",
   "metadata": {},
   "outputs": [],
   "source": []
  },
  {
   "cell_type": "code",
   "execution_count": null,
   "id": "41d256a2",
   "metadata": {},
   "outputs": [],
   "source": []
  },
  {
   "cell_type": "code",
   "execution_count": null,
   "id": "87ac909f",
   "metadata": {},
   "outputs": [],
   "source": []
  }
 ],
 "metadata": {
  "kernelspec": {
   "display_name": "Python 3",
   "language": "python",
   "name": "python3"
  },
  "language_info": {
   "codemirror_mode": {
    "name": "ipython",
    "version": 3
   },
   "file_extension": ".py",
   "mimetype": "text/x-python",
   "name": "python",
   "nbconvert_exporter": "python",
   "pygments_lexer": "ipython3",
   "version": "3.8.8"
  }
 },
 "nbformat": 4,
 "nbformat_minor": 5
}
